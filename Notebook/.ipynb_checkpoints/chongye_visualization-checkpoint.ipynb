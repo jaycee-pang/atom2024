{
 "cells": [
  {
   "cell_type": "markdown",
   "id": "0d5b67ac-9bb3-45f8-b6b4-124130cf265c",
   "metadata": {},
   "source": [
    "# NEK_9 Data Visualization\n",
    "## Chongye Feng"
   ]
  },
  {
   "cell_type": "code",
   "execution_count": 1,
   "id": "e7f523b7-24f4-4794-bef7-0085c1653212",
   "metadata": {},
   "outputs": [],
   "source": [
    "import math\n",
    "import torch\n",
    "import numpy as np\n",
    "import gpytorch\n",
    "import pandas as pd\n",
    "import os\n",
    "from matplotlib import pyplot as plt\n",
    "import sklearn\n",
    "from sklearn.model_selection import KFold\n",
    "\n",
    "%matplotlib inline\n",
    "%load_ext autoreload\n",
    "%autoreload 2"
   ]
  },
  {
   "cell_type": "code",
   "execution_count": 2,
   "id": "0706d9bc-03d5-4f7e-a274-75bcf670901d",
   "metadata": {},
   "outputs": [
    {
     "name": "stdout",
     "output_type": "stream",
     "text": [
      "imblearn version:  0.11.0\n"
     ]
    }
   ],
   "source": [
    "# check version number\n",
    "import imblearn\n",
    "print(\"imblearn version: \",imblearn.__version__)\n",
    "from imblearn.over_sampling import SMOTE\n",
    "\n",
    "from sklearn.decomposition import PCA\n",
    "from sklearn.preprocessing import StandardScaler\n",
    "\n",
    "\n",
    "from sklearn.metrics import confusion_matrix\n",
    "import itertools"
   ]
  },
  {
   "cell_type": "code",
   "execution_count": 3,
   "id": "c5b15c3b-6755-492d-9a33-6fcbd83e31e6",
   "metadata": {},
   "outputs": [
    {
     "data": {
      "text/plain": [
       "(1409, 310)"
      ]
     },
     "execution_count": 3,
     "metadata": {},
     "output_type": "execute_result"
    }
   ],
   "source": [
    "# Binding\n",
    "dataset_path = '../../data/NEK_data_4Berkeley/NEK9/'\n",
    "nek9_binding_random_imbalanced = 'NEK9_1_uM_min_50_pct_binding_5fold_random_imbalanced.csv'\n",
    "all_fold_df_binding = pd.read_csv(dataset_path+nek9_binding_random_imbalanced)\n",
    "all_fold_df_binding.shape # (1409,310)"
   ]
  },
  {
   "cell_type": "code",
   "execution_count": 4,
   "id": "cb8baeed-a3da-4119-bca3-99d72cb89e77",
   "metadata": {},
   "outputs": [
    {
     "data": {
      "text/plain": [
       "(393, 310)"
      ]
     },
     "execution_count": 4,
     "metadata": {},
     "output_type": "execute_result"
    }
   ],
   "source": [
    "# Inhibition\n",
    "nek9_inhibition_random_imbalanced = 'NEK9_1_uM_min_50_pct_inhibition_5fold_random_imbalanced.csv'\n",
    "all_fold_df_inhibition = pd.read_csv(dataset_path+nek9_inhibition_random_imbalanced)\n",
    "all_fold_df_inhibition.shape  # (393, 310)"
   ]
  },
  {
   "cell_type": "code",
   "execution_count": 5,
   "id": "3960a0b1-47a1-46e8-b576-a0087b4447ff",
   "metadata": {},
   "outputs": [
    {
     "data": {
      "text/plain": [
       "compound_id\n",
       "kdb_2222    2\n",
       "kdb_2215    2\n",
       "kdb_2230    2\n",
       "kdb_2235    2\n",
       "kdb_2236    2\n",
       "           ..\n",
       "kdb_148     1\n",
       "kdb_2781    1\n",
       "kdb_3485    1\n",
       "kdb_53      1\n",
       "kdb_3758    1\n",
       "Name: count, Length: 1755, dtype: int64"
      ]
     },
     "execution_count": 5,
     "metadata": {},
     "output_type": "execute_result"
    }
   ],
   "source": [
    "combined_df = pd.concat([all_fold_df_binding, all_fold_df_inhibition ])\n",
    "value_counts = combined_df[('compound_id')].value_counts()\n",
    "value_counts"
   ]
  },
  {
   "cell_type": "code",
   "execution_count": 6,
   "id": "6cd79eb5-f5f6-458a-819e-e411daaa89db",
   "metadata": {},
   "outputs": [
    {
     "data": {
      "text/plain": [
       "compound_id\n",
       "kdb_2222    2\n",
       "kdb_2215    2\n",
       "kdb_2230    2\n",
       "kdb_2235    2\n",
       "kdb_2236    2\n",
       "kdb_2218    2\n",
       "kdb_2431    2\n",
       "kdb_2244    2\n",
       "kdb_2233    2\n",
       "kdb_2217    2\n",
       "kdb_2430    2\n",
       "kdb_2205    2\n",
       "kdb_2229    2\n",
       "kdb_2238    2\n",
       "kdb_2211    2\n",
       "kdb_2232    2\n",
       "kdb_2320    2\n",
       "kdb_2234    2\n",
       "kdb_2225    2\n",
       "kdb_2433    2\n",
       "kdb_2237    2\n",
       "kdb_2200    2\n",
       "kdb_2208    2\n",
       "kdb_2212    2\n",
       "kdb_2228    2\n",
       "kdb_2207    2\n",
       "kdb_2206    2\n",
       "kdb_2319    2\n",
       "kdb_2429    2\n",
       "kdb_2219    2\n",
       "kdb_1618    2\n",
       "kdb_2224    2\n",
       "kdb_2241    2\n",
       "kdb_2601    2\n",
       "kdb_2209    2\n",
       "kdb_2227    2\n",
       "kdb_2221    2\n",
       "kdb_2213    2\n",
       "kdb_2220    2\n",
       "kdb_2242    2\n",
       "kdb_2223    2\n",
       "kdb_2908    2\n",
       "kdb_2239    2\n",
       "kdb_2013    2\n",
       "kdb_2321    2\n",
       "kdb_2226    2\n",
       "kdb_2231    2\n",
       "Name: count, dtype: int64"
      ]
     },
     "execution_count": 6,
     "metadata": {},
     "output_type": "execute_result"
    }
   ],
   "source": [
    "in_both = value_counts[value_counts==2]\n",
    "in_both"
   ]
  },
  {
   "cell_type": "code",
   "execution_count": 7,
   "id": "f232a14f-b029-462d-abbe-d2632b3331da",
   "metadata": {},
   "outputs": [
    {
     "data": {
      "text/plain": [
       "47"
      ]
     },
     "execution_count": 7,
     "metadata": {},
     "output_type": "execute_result"
    }
   ],
   "source": [
    "len(in_both)"
   ]
  },
  {
   "cell_type": "markdown",
   "id": "f1899bd5-4e43-4380-96a4-45ed1f9e15fe",
   "metadata": {},
   "source": [
    "There are 47 compounds in both binding and inhibition data set."
   ]
  },
  {
   "cell_type": "code",
   "execution_count": 8,
   "id": "9b066a47-abe0-4be0-b4b8-5783c0c9ca77",
   "metadata": {},
   "outputs": [],
   "source": [
    "# from sklearn 0.19.2 documentation:\n",
    "def plot_confusion_matrix(cm, classes,\n",
    "                          normalize=False,\n",
    "                          cmap=plt.cm.Blues):\n",
    "    \"\"\"\n",
    "    This function prints and plots the confusion matrix.\n",
    "    Normalization can be applied by setting `normalize=True`.\n",
    "    \"\"\"\n",
    "    if normalize:\n",
    "        cm = cm.astype('float') / cm.sum(axis=1)[:, np.newaxis]\n",
    "        print(\"Normalized confusion matrix\")\n",
    "    else:\n",
    "        print('Confusion matrix, without normalization')\n",
    "    print(cm)\n",
    "    plt.imshow(cm, interpolation='nearest', cmap=cmap)\n",
    "    plt.colorbar(shrink=0.7)\n",
    "    tick_marks = np.arange(len(classes))\n",
    "    plt.xticks(tick_marks, classes, rotation=45)\n",
    "    plt.yticks(tick_marks, classes)\n",
    "\n",
    "    fmt = '.2f' if normalize else 'd'\n",
    "    thresh = cm.max() / 2.\n",
    "    for i, j in itertools.product(range(cm.shape[0]), range(cm.shape[1])):\n",
    "        plt.text(j, i, format(cm[i, j], fmt),\n",
    "                 horizontalalignment=\"center\",\n",
    "                 color=\"white\" if cm[i, j] > thresh else \"black\")\n",
    "    plt.tight_layout()\n",
    "    plt.ylabel('True label')\n",
    "    plt.xlabel('Predicted label')"
   ]
  },
  {
   "cell_type": "code",
   "execution_count": 9,
   "id": "ffc5af44-001f-47b4-8683-afb00fcbc2e5",
   "metadata": {},
   "outputs": [
    {
     "name": "stdout",
     "output_type": "stream",
     "text": [
      "(1409, 309)\n"
     ]
    }
   ],
   "source": [
    "binding_df = pd.read_csv('../../data/datasets/scaled_descriptors/NEK9_1_uM_min_50_pct_binding_with_moe_descriptors.csv')\n",
    "print(binding_df.shape)"
   ]
  },
  {
   "cell_type": "code",
   "execution_count": 10,
   "id": "b56d6f4d-25fb-4b9e-b4ad-90523f8446e1",
   "metadata": {},
   "outputs": [
    {
     "data": {
      "text/plain": [
       "Index(['ASA+_per_atom', 'ASA-', 'ASA_H_per_atom', 'ASA_P', 'ASA_per_atom',\n",
       "       'BCUT_PEOE_0', 'BCUT_PEOE_1', 'BCUT_PEOE_2', 'BCUT_PEOE_3',\n",
       "       'BCUT_SLOGP_0_per_atom',\n",
       "       ...\n",
       "       'vsurf_Wp2_per_atom', 'vsurf_Wp3', 'vsurf_Wp4', 'vsurf_Wp5',\n",
       "       'vsurf_Wp6', 'vsurf_Wp7', 'vsurf_Wp8', 'weinerPath',\n",
       "       'weinerPol_per_atom', 'zagreb_per_atom'],\n",
       "      dtype='object', length=306)"
      ]
     },
     "execution_count": 10,
     "metadata": {},
     "output_type": "execute_result"
    }
   ],
   "source": [
    "moe_columns = binding_df.columns[3:]\n",
    "moe_columns"
   ]
  },
  {
   "cell_type": "markdown",
   "id": "4ab79c37-aa4e-4cef-837e-101ebdad1cb6",
   "metadata": {},
   "source": [
    "There are 306 features (parameters) for each compound."
   ]
  },
  {
   "cell_type": "code",
   "execution_count": 11,
   "id": "ed8ddd7d-f309-479b-b1c2-10af07c1908e",
   "metadata": {},
   "outputs": [
    {
     "data": {
      "text/plain": [
       "(393, 309)"
      ]
     },
     "execution_count": 11,
     "metadata": {},
     "output_type": "execute_result"
    }
   ],
   "source": [
    "inhibition_df = pd.read_csv('../../data/datasets/scaled_descriptors/NEK9_1_uM_min_50_pct_inhibition_with_moe_descriptors.csv') \n",
    "inhibition_df.shape"
   ]
  },
  {
   "cell_type": "markdown",
   "id": "df7fce5a-d416-4f70-a112-be5865aac563",
   "metadata": {},
   "source": [
    "Now, we will look at the pre-splitted inhibition data for NEK9."
   ]
  },
  {
   "cell_type": "code",
   "execution_count": 12,
   "id": "9c8ca155-8a88-497d-abb3-ed483ba8bdb9",
   "metadata": {},
   "outputs": [
    {
     "name": "stdout",
     "output_type": "stream",
     "text": [
      "active\n",
      "0         280\n",
      "1          33\n",
      "Name: count, dtype: int64\n",
      "active\n",
      "0         71\n",
      "1          9\n",
      "Name: count, dtype: int64\n",
      "(313, 1) (80, 1)\n",
      "(313, 306) (80, 306)\n"
     ]
    }
   ],
   "source": [
    "uq_path = '../../data/NEK_data_4Berkeley/NEK9/'\n",
    "train_x_df = pd.read_csv(uq_path+'NEK9_inhibition_random_fold1_trainX.csv')\n",
    "train_y_df= pd.read_csv(uq_path+\"/NEK9_inhibition_random_fold1_trainY.csv\")\n",
    "test_x_df= pd.read_csv(uq_path+\"/NEK9_inhibition_random_fold1_testX.csv\")\n",
    "test_y_df= pd.read_csv(uq_path+\"/NEK9_inhibition_random_fold1_testY.csv\")\n",
    "print(train_y_df.value_counts()), print(test_y_df.value_counts())\n",
    "print(train_y_df.shape, test_y_df.shape)\n",
    "print(train_x_df.shape, test_x_df.shape)"
   ]
  },
  {
   "cell_type": "markdown",
   "id": "1a99be5a-4695-4a1d-b09d-dba0604abd12",
   "metadata": {},
   "source": [
    "306 features are still too much. "
   ]
  },
  {
   "cell_type": "code",
   "execution_count": 13,
   "id": "462393ac-b74c-4804-aa07-0990dc7cdf2d",
   "metadata": {},
   "outputs": [],
   "source": [
    "# Concatenation of Training and Testing Feature Sets:\n",
    "x_df = pd.concat([train_x_df, test_x_df])\n",
    "# Feature Scaling using StandardScaler:\n",
    "scaling = StandardScaler()\n",
    "scaling.fit(x_df)\n",
    "Scaled_data = scaling.transform(x_df)\n",
    "train_scaled_data = scaling.transform(train_x_df)\n",
    "test_scaled_data = scaling.transform(test_x_df)"
   ]
  },
  {
   "cell_type": "markdown",
   "id": "8d4b4165-f4ca-41bc-8fbe-0cb3e26bb841",
   "metadata": {},
   "source": [
    "Dimensionality Reduction using PCA:\n",
    "This means PCA will choose the number of components such that the total variance explained by those components is at least 95% of the total variance in the dataset. This approach automatically selects the number of principal components needed to retain 95% of the data's variance, effectively reducing the dimensionality of the data while preserving most of the information.\n"
   ]
  },
  {
   "cell_type": "code",
   "execution_count": 14,
   "id": "e4906a51-fc46-4946-98da-18566485eba0",
   "metadata": {},
   "outputs": [],
   "source": [
    "principal = PCA(n_components=0.95) \n",
    "principal.fit(Scaled_data)\n",
    "pca_train_x_df = principal.transform(train_scaled_data)\n",
    "pca_test_x_df = principal.transform(test_scaled_data)"
   ]
  },
  {
   "cell_type": "code",
   "execution_count": 15,
   "id": "737b4a1a-36f0-49c1-843e-d1e280731e9d",
   "metadata": {},
   "outputs": [
    {
     "name": "stdout",
     "output_type": "stream",
     "text": [
      "(313, 52)\n",
      "(80, 52)\n"
     ]
    }
   ],
   "source": [
    "print(pca_train_x_df.shape)\n",
    "print(pca_test_x_df.shape)"
   ]
  },
  {
   "cell_type": "markdown",
   "id": "06e30835-de70-40a7-bacf-e42ce5f39d44",
   "metadata": {},
   "source": [
    "306 was significantly reduced to 52."
   ]
  },
  {
   "cell_type": "markdown",
   "id": "dcc58bdd-7389-4889-ad18-4000d6550277",
   "metadata": {},
   "source": [
    "Then use SMOTE (Synthetic Minority Over-sampling Technique) to adjust for imbalanced class distributions in the training dataset. This is a common scenario in many machine learning problems where one class (the minority class) has significantly fewer instances than the other classes (the majority classes), leading to biased models that favor the majority class. SMOTE addresses this issue by creating synthetic examples of the minority class, thus balancing the class distribution and potentially improving model performance on minority class predictions."
   ]
  },
  {
   "cell_type": "code",
   "execution_count": 16,
   "id": "f82c8389-ba5b-46c0-9f22-26e562419f58",
   "metadata": {},
   "outputs": [],
   "source": [
    "# SMOTE Initialization:\n",
    "oversample = SMOTE()\n",
    "\n",
    "# Applying SMOTE to the Training Data:\n",
    "new_train_x_df, new_train_y_df = oversample.fit_resample(pca_train_x_df, train_y_df)"
   ]
  },
  {
   "cell_type": "code",
   "execution_count": 17,
   "id": "bc953881-b299-4541-a04a-f257f75c7f90",
   "metadata": {},
   "outputs": [
    {
     "name": "stdout",
     "output_type": "stream",
     "text": [
      "Shape of training features tensor: torch.Size([560, 52])\n",
      "Shape of training labels tensor: torch.Size([560])\n"
     ]
    }
   ],
   "source": [
    "import torch\n",
    "\n",
    "# Convert the feature arrays directly to PyTorch tensors and cast them to the appropriate type.\n",
    "train_x = torch.from_numpy(new_train_x_df).long()\n",
    "test_x = torch.from_numpy(pca_test_x_df).long()\n",
    "\n",
    "# For the labels, which are pandas DataFrames, first convert them to numpy arrays, then cast to \"long\",\n",
    "# and finally convert to PyTorch tensors.\n",
    "train_y = torch.from_numpy(new_train_y_df.to_numpy().astype(\"long\")).reshape(-1)\n",
    "test_y = torch.from_numpy(test_y_df.to_numpy().astype(\"long\")).reshape(-1)\n",
    "\n",
    "# Print the shapes of the tensors to ensure they are correct.\n",
    "print(f\"Shape of training features tensor: {train_x.shape}\")\n",
    "print(f\"Shape of training labels tensor: {train_y.shape}\")"
   ]
  },
  {
   "cell_type": "markdown",
   "id": "ae5e52a1-c002-4d63-a5b4-a57419e65828",
   "metadata": {},
   "source": [
    "Then we build a model."
   ]
  },
  {
   "cell_type": "code",
   "execution_count": 18,
   "id": "a1435d07-6b3e-4a09-bb93-1153a68dc06b",
   "metadata": {},
   "outputs": [],
   "source": [
    "# Construct a GP classification model\n",
    "\n",
    "from gpytorch.models import ExactGP\n",
    "from gpytorch.likelihoods import DirichletClassificationLikelihood\n",
    "from gpytorch.means import ConstantMean\n",
    "from gpytorch.kernels import ScaleKernel, RBFKernel\n",
    "\n",
    "# We will use the simplest form of GP model, exact inference\n",
    "class DirichletGPModel(ExactGP):\n",
    "    def __init__(self, train_x, train_y, likelihood, num_classes):\n",
    "        super(DirichletGPModel, self).__init__(train_x, train_y, likelihood)\n",
    "        self.mean_module = ConstantMean(batch_shape=torch.Size((num_classes,)))\n",
    "        self.covar_module = ScaleKernel(\n",
    "            RBFKernel(batch_shape=torch.Size((num_classes,))),\n",
    "            batch_shape=torch.Size((num_classes,)),\n",
    "        )\n",
    "\n",
    "    def forward(self, x):\n",
    "        mean_x = self.mean_module(x)\n",
    "        covar_x = self.covar_module(x)\n",
    "        return gpytorch.distributions.MultivariateNormal(mean_x, covar_x)\n",
    "\n",
    "# initialize likelihood and model\n",
    "# we let the DirichletClassificationLikelihood compute the targets for us\n",
    "likelihood = DirichletClassificationLikelihood(train_y, learn_additional_noise=True)\n",
    "model = DirichletGPModel(train_x, likelihood.transformed_targets, likelihood, num_classes=likelihood.num_classes)"
   ]
  },
  {
   "cell_type": "markdown",
   "id": "8f724dbc-294c-40bd-bab2-5449fc8277a1",
   "metadata": {},
   "source": [
    "Training the model ..."
   ]
  },
  {
   "cell_type": "code",
   "execution_count": 19,
   "id": "f1934691-7c54-44ce-a285-abcc385dc909",
   "metadata": {},
   "outputs": [
    {
     "name": "stdout",
     "output_type": "stream",
     "text": [
      "Iter 1/300 - Loss: 7.041   lengthscale: 0.693   noise: 0.693\n",
      "Iter 6/300 - Loss: 6.293   lengthscale: 0.975   noise: 0.971\n",
      "Iter 11/300 - Loss: 5.738   lengthscale: 1.320   noise: 1.286\n",
      "Iter 16/300 - Loss: 5.321   lengthscale: 1.729   noise: 1.583\n",
      "Iter 21/300 - Loss: 5.013   lengthscale: 2.200   noise: 1.795\n",
      "Iter 26/300 - Loss: 4.785   lengthscale: 2.715   noise: 1.876\n",
      "Iter 31/300 - Loss: 4.604   lengthscale: 3.246   noise: 1.821\n",
      "Iter 36/300 - Loss: 4.439   lengthscale: 3.773   noise: 1.649\n",
      "Iter 41/300 - Loss: 4.277   lengthscale: 4.288   noise: 1.393\n",
      "Iter 46/300 - Loss: 4.121   lengthscale: 4.785   noise: 1.095\n",
      "Iter 51/300 - Loss: 3.979   lengthscale: 5.254   noise: 0.799\n",
      "Iter 56/300 - Loss: 3.858   lengthscale: 5.681   noise: 0.546\n",
      "Iter 61/300 - Loss: 3.760   lengthscale: 6.060   noise: 0.357\n",
      "Iter 66/300 - Loss: 3.687   lengthscale: 6.391   noise: 0.232\n",
      "Iter 71/300 - Loss: 3.635   lengthscale: 6.675   noise: 0.156\n",
      "Iter 76/300 - Loss: 3.599   lengthscale: 6.920   noise: 0.111\n",
      "Iter 81/300 - Loss: 3.574   lengthscale: 7.129   noise: 0.083\n",
      "Iter 86/300 - Loss: 3.556   lengthscale: 7.307   noise: 0.066\n",
      "Iter 91/300 - Loss: 3.543   lengthscale: 7.461   noise: 0.054\n",
      "Iter 96/300 - Loss: 3.533   lengthscale: 7.592   noise: 0.046\n",
      "Iter 101/300 - Loss: 3.526   lengthscale: 7.705   noise: 0.040\n",
      "Iter 106/300 - Loss: 3.521   lengthscale: 7.803   noise: 0.036\n",
      "Iter 111/300 - Loss: 3.517   lengthscale: 7.889   noise: 0.032\n",
      "Iter 116/300 - Loss: 3.514   lengthscale: 7.964   noise: 0.030\n",
      "Iter 121/300 - Loss: 3.511   lengthscale: 8.029   noise: 0.027\n",
      "Iter 126/300 - Loss: 3.509   lengthscale: 8.088   noise: 0.025\n",
      "Iter 131/300 - Loss: 3.507   lengthscale: 8.141   noise: 0.023\n",
      "Iter 136/300 - Loss: 3.505   lengthscale: 8.189   noise: 0.022\n",
      "Iter 141/300 - Loss: 3.503   lengthscale: 8.232   noise: 0.021\n",
      "Iter 146/300 - Loss: 3.502   lengthscale: 8.272   noise: 0.019\n",
      "Iter 151/300 - Loss: 3.501   lengthscale: 8.309   noise: 0.018\n",
      "Iter 156/300 - Loss: 3.500   lengthscale: 8.343   noise: 0.017\n",
      "Iter 161/300 - Loss: 3.498   lengthscale: 8.375   noise: 0.017\n",
      "Iter 166/300 - Loss: 3.497   lengthscale: 8.405   noise: 0.016\n",
      "Iter 171/300 - Loss: 3.497   lengthscale: 8.432   noise: 0.015\n",
      "Iter 176/300 - Loss: 3.496   lengthscale: 8.458   noise: 0.014\n",
      "Iter 181/300 - Loss: 3.495   lengthscale: 8.482   noise: 0.014\n",
      "Iter 186/300 - Loss: 3.494   lengthscale: 8.504   noise: 0.013\n",
      "Iter 191/300 - Loss: 3.494   lengthscale: 8.525   noise: 0.013\n",
      "Iter 196/300 - Loss: 3.493   lengthscale: 8.544   noise: 0.012\n",
      "Iter 201/300 - Loss: 3.492   lengthscale: 8.562   noise: 0.012\n",
      "Iter 206/300 - Loss: 3.492   lengthscale: 8.579   noise: 0.011\n",
      "Iter 211/300 - Loss: 3.491   lengthscale: 8.594   noise: 0.011\n",
      "Iter 216/300 - Loss: 3.491   lengthscale: 8.609   noise: 0.010\n",
      "Iter 221/300 - Loss: 3.490   lengthscale: 8.622   noise: 0.010\n",
      "Iter 226/300 - Loss: 3.490   lengthscale: 8.634   noise: 0.010\n",
      "Iter 231/300 - Loss: 3.489   lengthscale: 8.646   noise: 0.009\n",
      "Iter 236/300 - Loss: 3.489   lengthscale: 8.656   noise: 0.009\n",
      "Iter 241/300 - Loss: 3.489   lengthscale: 8.666   noise: 0.009\n",
      "Iter 246/300 - Loss: 3.488   lengthscale: 8.676   noise: 0.009\n",
      "Iter 251/300 - Loss: 3.488   lengthscale: 8.684   noise: 0.008\n",
      "Iter 256/300 - Loss: 3.488   lengthscale: 8.692   noise: 0.008\n",
      "Iter 261/300 - Loss: 3.488   lengthscale: 8.700   noise: 0.008\n",
      "Iter 266/300 - Loss: 3.487   lengthscale: 8.707   noise: 0.008\n",
      "Iter 271/300 - Loss: 3.487   lengthscale: 8.714   noise: 0.007\n",
      "Iter 276/300 - Loss: 3.487   lengthscale: 8.720   noise: 0.007\n",
      "Iter 281/300 - Loss: 3.487   lengthscale: 8.726   noise: 0.007\n",
      "Iter 286/300 - Loss: 3.486   lengthscale: 8.732   noise: 0.007\n",
      "Iter 291/300 - Loss: 3.486   lengthscale: 8.737   noise: 0.007\n",
      "Iter 296/300 - Loss: 3.486   lengthscale: 8.742   noise: 0.007\n"
     ]
    }
   ],
   "source": [
    "# this is for running the notebook in our testing framework\n",
    "import os\n",
    "smoke_test = ('CI' in os.environ)\n",
    "training_iter = 2 if smoke_test else 300\n",
    "\n",
    "\n",
    "# Find optimal model hyperparameters\n",
    "model.train()\n",
    "likelihood.train()\n",
    "\n",
    "# Use the adam optimizer\n",
    "optimizer = torch.optim.Adam(model.parameters(), lr=0.1)  # Includes GaussianLikelihood parameters\n",
    "\n",
    "# \"Loss\" for GPs - the marginal log likelihood\n",
    "mll = gpytorch.mlls.ExactMarginalLogLikelihood(likelihood, model)\n",
    "\n",
    "for i in range(training_iter):\n",
    "    # Zero gradients from previous iteration\n",
    "    optimizer.zero_grad()\n",
    "    # Output from model\n",
    "    output = model(train_x)\n",
    "    # Calc loss and backprop gradients\n",
    "    loss = -mll(output, likelihood.transformed_targets).sum()\n",
    "    loss.backward()\n",
    "    if i % 5 == 0:\n",
    "        print('Iter %d/%d - Loss: %.3f   lengthscale: %.3f   noise: %.3f' % (\n",
    "            i + 1, training_iter, loss.item(),\n",
    "            model.covar_module.base_kernel.lengthscale.mean().item(),\n",
    "            model.likelihood.second_noise_covar.noise.mean().item()\n",
    "        ))\n",
    "    optimizer.step()"
   ]
  },
  {
   "cell_type": "code",
   "execution_count": 20,
   "id": "527c0ca5-0a2e-49e0-bfd5-3d7c6bf7d55b",
   "metadata": {},
   "outputs": [
    {
     "name": "stdout",
     "output_type": "stream",
     "text": [
      "(2, 560)\n",
      "tensor([0, 0, 0, 0, 0, 0, 0, 0, 0, 0, 0, 0, 0, 0, 0, 0, 0, 0, 0, 0, 0, 0, 0, 0,\n",
      "        0, 0, 0, 0, 0, 0, 0, 0, 0, 0, 0, 0, 0, 0, 0, 0, 0, 0, 0, 0, 0, 0, 0, 0,\n",
      "        0, 0, 0, 0, 0, 0, 0, 0, 0, 0, 0, 0, 0, 0, 0, 0, 0, 0, 0, 0, 0, 0, 0, 0,\n",
      "        0, 0, 0, 0, 0, 0, 0, 0, 0, 0, 0, 0, 0, 0, 0, 1, 0, 0, 0, 0, 0, 0, 0, 0,\n",
      "        0, 0, 0, 0, 0, 0, 0, 0, 0, 0, 0, 0, 0, 0, 0, 0, 0, 0, 0, 0, 0, 0, 0, 0,\n",
      "        0, 0, 0, 0, 0, 0, 0, 0, 0, 0, 0, 0, 0, 0, 0, 0, 0, 0, 0, 0, 1, 0, 0, 0,\n",
      "        0, 0, 0, 0, 0, 0, 0, 0, 0, 0, 0, 0, 0, 0, 0, 0, 0, 0, 0, 0, 0, 0, 0, 0,\n",
      "        0, 0, 0, 0, 0, 0, 0, 0, 0, 0, 0, 0, 0, 0, 0, 0, 0, 1, 0, 0, 0, 0, 0, 0,\n",
      "        0, 0, 0, 0, 0, 0, 0, 0, 0, 0, 0, 0, 0, 0, 0, 0, 0, 0, 0, 0, 0, 0, 0, 0,\n",
      "        0, 0, 0, 0, 0, 0, 0, 0, 0, 0, 0, 1, 0, 0, 0, 0, 0, 0, 0, 0, 0, 0, 0, 0,\n",
      "        0, 0, 0, 0, 0, 0, 0, 0, 0, 0, 0, 0, 0, 0, 0, 0, 0, 0, 0, 0, 0, 0, 0, 0,\n",
      "        0, 0, 0, 0, 0, 0, 0, 0, 0, 0, 0, 0, 0, 0, 0, 0, 1, 1, 1, 1, 1, 1, 1, 1,\n",
      "        1, 1, 1, 1, 1, 1, 1, 1, 1, 1, 1, 1, 1, 1, 1, 1, 1, 1, 1, 1, 1, 1, 1, 1,\n",
      "        1, 1, 1, 1, 1, 1, 1, 1, 1, 1, 1, 1, 1, 1, 1, 1, 1, 1, 1, 1, 1, 1, 1, 1,\n",
      "        1, 1, 1, 1, 1, 1, 1, 1, 1, 1, 1, 1, 1, 1, 1, 1, 1, 1, 1, 1, 1, 1, 1, 1,\n",
      "        1, 1, 1, 1, 1, 1, 1, 1, 1, 1, 1, 1, 1, 1, 1, 1, 1, 1, 1, 1, 1, 1, 1, 1,\n",
      "        1, 1, 1, 1, 1, 1, 1, 1, 1, 1, 1, 1, 1, 1, 1, 1, 1, 1, 1, 1, 1, 1, 1, 1,\n",
      "        1, 1, 1, 1, 1, 1, 1, 1, 1, 1, 1, 1, 1, 1, 1, 1, 1, 1, 1, 1, 1, 1, 1, 1,\n",
      "        1, 1, 1, 1, 1, 1, 1, 1, 1, 1, 1, 1, 1, 1, 1, 1, 1, 1, 1, 1, 1, 1, 1, 1,\n",
      "        1, 1, 1, 1, 1, 1, 1, 1, 1, 1, 1, 1, 1, 1, 1, 1, 1, 1, 1, 1, 1, 1, 1, 1,\n",
      "        1, 1, 1, 1, 1, 1, 1, 1, 1, 1, 1, 1, 1, 1, 1, 1, 1, 1, 1, 1, 1, 1, 1, 1,\n",
      "        1, 1, 1, 1, 1, 1, 1, 1, 1, 1, 1, 1, 1, 1, 1, 1, 1, 1, 1, 1, 1, 1, 1, 1,\n",
      "        1, 1, 1, 1, 1, 1, 1, 1, 1, 1, 1, 1, 1, 1, 1, 1, 1, 1, 1, 1, 1, 1, 1, 1,\n",
      "        1, 1, 1, 1, 1, 1, 1, 1])\n"
     ]
    },
    {
     "name": "stderr",
     "output_type": "stream",
     "text": [
      "/home/chongyef/miniconda3/envs/atom2024/lib/python3.9/site-packages/gpytorch/models/exact_gp.py:284: GPInputWarning: The input matches the stored training data. Did you forget to call model.train()?\n",
      "  warnings.warn(\n"
     ]
    }
   ],
   "source": [
    "# Make predictions with the model\n",
    "\n",
    "model.eval()\n",
    "likelihood.eval()\n",
    "\n",
    "with gpytorch.settings.fast_pred_var(), torch.no_grad():\n",
    "    test_dist = model(train_x)\n",
    "    pred_means = test_dist.loc\n",
    "    observed_pred = likelihood(model(train_x))\n",
    "    \n",
    "print(pred_means.numpy().shape)\n",
    "print(pred_means.max(0)[1])"
   ]
  },
  {
   "cell_type": "markdown",
   "id": "08c22665-059d-464c-b1a5-f296fadc60ac",
   "metadata": {},
   "source": [
    "Building the confusion plot"
   ]
  },
  {
   "cell_type": "code",
   "execution_count": 21,
   "id": "ee802fe4-b1b9-4405-878e-31b9d35c4194",
   "metadata": {},
   "outputs": [
    {
     "name": "stdout",
     "output_type": "stream",
     "text": [
      "Confusion matrix, without normalization\n",
      "[[276   4]\n",
      " [  0 280]]\n"
     ]
    },
    {
     "data": {
      "image/png": "[encoded data removed]",
      "text/plain": [
       "<Figure size 500x500 with 2 Axes>"
      ]
     },
     "metadata": {},
     "output_type": "display_data"
    }
   ],
   "source": [
    "train_prediction = model(train_x).loc.max(0)[1].numpy()\n",
    "y_true = new_train_y_df.values\n",
    "y_pred = train_prediction\n",
    "train_cm = confusion_matrix(y_true, y_pred)\n",
    "class_names = [\"0\",\"1\"]\n",
    "\n",
    "plt.rcParams.update({\"font.size\": 20})\n",
    "label_font = {'size':'18'}  # Adjust to fit\n",
    "ax = plt.figure(figsize=(5,5))\n",
    "plt.title(\"NEK2 train set\",fontsize=20)\n",
    "plot_confusion_matrix(train_cm, classes=class_names, normalize=False)\n",
    "plt.xlabel(\"Predicted\",fontdict=label_font);\n",
    "plt.ylabel(\"Actual\",fontdict=label_font);"
   ]
  },
  {
   "cell_type": "code",
   "execution_count": 22,
   "id": "45b77581-1edf-49e3-ab95-9b6429fcfde2",
   "metadata": {},
   "outputs": [
    {
     "name": "stdout",
     "output_type": "stream",
     "text": [
      "(2, 80)\n",
      "tensor([0, 0, 0, 0, 0, 0, 0, 0, 0, 0, 0, 0, 0, 0, 0, 0, 0, 0, 0, 0, 0, 0, 0, 0,\n",
      "        0, 0, 0, 0, 0, 0, 0, 0, 0, 0, 0, 0, 0, 0, 0, 0, 0, 0, 0, 0, 0, 0, 0, 0,\n",
      "        0, 0, 0, 0, 0, 0, 0, 0, 0, 0, 0, 0, 0, 0, 0, 0, 1, 0, 0, 0, 0, 0, 0, 1,\n",
      "        0, 1, 1, 1, 0, 1, 1, 1])\n"
     ]
    }
   ],
   "source": [
    "# Make predictions with the model\n",
    "\n",
    "model.eval()\n",
    "likelihood.eval()\n",
    "\n",
    "with gpytorch.settings.fast_pred_var(), torch.no_grad():\n",
    "    test_dist = model(test_x)\n",
    "    pred_means = test_dist.loc\n",
    "    observed_pred = likelihood(model(test_x))\n",
    "    \n",
    "print(pred_means.numpy().shape)\n",
    "print(pred_means.max(0)[1])"
   ]
  },
  {
   "cell_type": "code",
   "execution_count": 23,
   "id": "e2cfc364-4637-47e2-a55a-bfd7bdc02775",
   "metadata": {},
   "outputs": [
    {
     "name": "stdout",
     "output_type": "stream",
     "text": [
      "(80,)\n"
     ]
    },
    {
     "data": {
      "text/plain": [
       "array([0, 0, 0, 0, 0, 0, 0, 0, 0, 0, 0, 0, 0, 0, 0, 0, 0, 0, 0, 0, 0, 0,\n",
       "       0, 0, 0, 0, 0, 0, 0, 0, 0, 0, 0, 0, 0, 0, 0, 0, 0, 0, 0, 0, 0, 0,\n",
       "       0, 0, 0, 0, 0, 0, 0, 0, 0, 0, 0, 0, 0, 0, 0, 0, 0, 0, 0, 0, 1, 0,\n",
       "       0, 0, 0, 0, 0, 1, 0, 1, 1, 1, 0, 1, 1, 1])"
      ]
     },
     "execution_count": 23,
     "metadata": {},
     "output_type": "execute_result"
    }
   ],
   "source": [
    "test_prediction = model(test_x).loc.max(0)[1].numpy()\n",
    "print(test_prediction.shape)\n",
    "test_prediction"
   ]
  },
  {
   "cell_type": "code",
   "execution_count": 24,
   "id": "09582569-df22-4d2b-8347-9398d46b3f92",
   "metadata": {},
   "outputs": [
    {
     "name": "stdout",
     "output_type": "stream",
     "text": [
      "Confusion matrix, without normalization\n",
      "[[70  1]\n",
      " [ 2  7]]\n"
     ]
    },
    {
     "data": {
      "image/png": "[encoded data removed]",
      "text/plain": [
       "<Figure size 500x500 with 2 Axes>"
      ]
     },
     "metadata": {},
     "output_type": "display_data"
    }
   ],
   "source": [
    "y_true = test_y_df.values\n",
    "y_pred = test_prediction\n",
    "test_cm = confusion_matrix(y_true, y_pred)\n",
    "class_names = [\"0\",\"1\"]\n",
    "\n",
    "plt.rcParams.update({\"font.size\": 20})\n",
    "label_font = {'size':'18'}  # Adjust to fit\n",
    "ax = plt.figure(figsize=(5,5))\n",
    "plt.title(\"NEK2 test set\",fontsize=20)\n",
    "plot_confusion_matrix(test_cm, classes=class_names, normalize=False)\n",
    "plt.xlabel(\"Predicted\",fontdict=label_font);\n",
    "plt.ylabel(\"Actual\",fontdict=label_font);"
   ]
  },
  {
   "cell_type": "markdown",
   "id": "f4bd8fb0-2ca5-46c7-a5cc-cbc42e71b4eb",
   "metadata": {},
   "source": [
    "Which could be acceptable. Then we see the uncertainty:"
   ]
  },
  {
   "cell_type": "code",
   "execution_count": 25,
   "id": "59b306e2-ee2e-4d4d-94bc-839fe21c7de6",
   "metadata": {},
   "outputs": [
    {
     "data": {
      "text/plain": [
       "tensor([[ 1.7071,  1.7208,  1.4347,  1.7808,  1.0801,  1.6146,  1.6415,  1.5652,\n",
       "          1.8763,  1.3305,  1.4688,  2.3387,  1.6645,  1.2269,  0.8301,  2.2195,\n",
       "          1.3350,  1.6672,  1.8747,  1.9580,  1.6495,  1.2398,  2.0431,  1.3839,\n",
       "         -0.0566,  1.3923,  1.5143,  1.4385,  1.9946,  2.3910,  1.2998,  1.7533,\n",
       "          2.0554,  1.8001,  1.1161,  1.0540,  1.9469,  1.7380,  1.3160,  2.0762,\n",
       "          0.9934,  1.7939,  1.9636,  2.3741,  2.0912,  1.9901,  2.2769,  0.8791,\n",
       "          2.1235,  1.3500,  2.2874,  1.5044,  1.7989,  1.0483,  1.2555,  1.6894,\n",
       "          1.8195,  2.3972,  0.9065,  2.4645,  1.7494,  0.9190,  1.9948,  1.8515,\n",
       "         -3.0756,  1.3150,  1.9558,  1.3166,  1.8978,  2.3622,  0.7212, -2.4802,\n",
       "          0.7882, -4.4226, -1.0178, -4.9339,  2.4251, -1.5956, -2.6969, -4.4942],\n",
       "        [-3.3435, -5.1595, -4.0652, -3.4214, -2.1284, -4.0562, -4.3867, -4.0145,\n",
       "         -5.0156, -2.0411, -5.2268, -3.4160, -3.0994, -4.2260, -2.8485, -5.3715,\n",
       "         -4.8650, -4.6215, -3.5521, -4.8491, -4.4920, -3.6841, -4.1216, -2.7581,\n",
       "         -0.9322, -4.3006, -3.8531, -2.8224, -3.2609, -4.6652, -2.3921, -4.4713,\n",
       "         -3.5093, -3.8299, -2.8486, -1.2897, -4.8018, -4.3605, -1.9357, -4.7992,\n",
       "         -2.3605, -4.4605, -3.4427, -3.0339, -3.9276, -4.8055, -3.8037, -3.3152,\n",
       "         -4.2733, -4.1236, -3.6554, -4.6309, -4.7132, -4.0578, -3.9593, -3.6881,\n",
       "         -3.3012, -3.8720, -2.9170, -3.9826, -4.8471, -0.9955, -4.6939, -4.1481,\n",
       "          0.8152, -4.8170, -3.9123, -4.1609, -3.6723, -3.5665, -3.5212,  0.3955,\n",
       "         -2.4831,  0.8387,  0.0773,  0.8656, -2.9221, -0.0423,  1.3939,  0.4775]])"
      ]
     },
     "execution_count": 25,
     "metadata": {},
     "output_type": "execute_result"
    }
   ],
   "source": [
    "lower, upper = observed_pred.confidence_region()\n",
    "upper"
   ]
  },
  {
   "cell_type": "code",
   "execution_count": 26,
   "id": "0e8ce4fd-dc87-48c8-b027-89ef3a98b3b8",
   "metadata": {},
   "outputs": [
    {
     "data": {
      "text/plain": [
       "array([[-7.4759984e-01,  6.2105060e-04, -3.6348036e-01, -7.3697996e-01,\n",
       "        -1.3819344e+00, -3.5727528e-01, -3.5818914e-01, -4.5867899e-01,\n",
       "        -2.4407580e-01, -1.2112734e+00, -2.1690181e-01, -3.7940481e-01,\n",
       "        -7.3664355e-01, -5.1920199e-01, -1.1798246e+00, -4.6899915e-04,\n",
       "        -6.8694383e-02, -1.7356089e-01, -4.7744587e-01, -2.3236707e-01,\n",
       "        -3.0212635e-01, -5.4676795e-01, -1.6890410e-01, -8.9243102e-01,\n",
       "        -2.3294652e+00, -5.3373313e-01, -6.5581441e-01, -8.1665969e-01,\n",
       "        -5.3655887e-01,  1.8700191e-01, -1.0346200e+00, -2.0881370e-01,\n",
       "        -2.2286919e-01, -5.2418733e-01, -1.0626595e+00, -1.5214612e+00,\n",
       "        -1.0367635e-01, -3.0390003e-01, -1.1986811e+00, -1.8644837e-01,\n",
       "        -8.6575484e-01, -2.8533056e-01, -3.9277875e-01, -4.2047474e-01,\n",
       "        -2.6393524e-01, -2.0392111e-01, -3.5608235e-01, -9.5746493e-01,\n",
       "        -3.0235115e-01, -2.2153071e-01, -1.1093810e-01, -3.0755296e-01,\n",
       "        -2.4925759e-01, -8.0967879e-01, -6.8259883e-01, -3.7234426e-01,\n",
       "        -6.7458892e-01, -2.3877412e-02, -1.1528518e+00, -2.2448781e-01,\n",
       "        -3.0846646e-01, -1.4457452e+00,  2.0894262e-01, -9.6967518e-03,\n",
       "        -5.1858006e+00, -7.0106775e-02, -3.2971516e-01, -8.0481410e-01,\n",
       "        -4.9745849e-01, -3.1424189e-01, -1.1597316e+00, -4.3858232e+00,\n",
       "        -1.1207879e+00, -6.1610184e+00, -3.5130928e+00, -6.6293879e+00,\n",
       "        -4.5556834e-01, -3.5600898e+00, -4.0741816e+00, -6.0870886e+00],\n",
       "       [-6.1580491e+00, -7.2912812e+00, -6.3063664e+00, -6.3304315e+00,\n",
       "        -4.7498479e+00, -6.3343873e+00, -6.8858457e+00, -6.4224877e+00,\n",
       "        -7.4762788e+00, -4.9089494e+00, -7.3270764e+00, -6.6572633e+00,\n",
       "        -5.8770394e+00, -6.4214883e+00, -5.1084485e+00, -7.8403401e+00,\n",
       "        -6.7837739e+00, -7.0669160e+00, -6.2043939e+00, -7.3672185e+00,\n",
       "        -6.9842443e+00, -5.7357469e+00, -6.6742120e+00, -5.2111802e+00,\n",
       "        -3.1865468e+00, -6.4345040e+00, -6.3326612e+00, -5.2972264e+00,\n",
       "        -6.2516131e+00, -7.0075002e+00, -4.8812261e+00, -6.9602351e+00,\n",
       "        -6.2651763e+00, -6.4580951e+00, -5.1395364e+00, -4.1750722e+00,\n",
       "        -7.0805078e+00, -6.8399205e+00, -4.7238317e+00, -7.4396882e+00,\n",
       "        -4.3622041e+00, -6.9725976e+00, -6.6216922e+00, -6.5837312e+00,\n",
       "        -6.7614579e+00, -7.2160096e+00, -6.8847337e+00, -5.2054849e+00,\n",
       "        -7.1219726e+00, -5.9132600e+00, -6.4022279e+00, -6.8944273e+00,\n",
       "        -7.0712705e+00, -6.3279786e+00, -6.4275155e+00, -6.7761536e+00,\n",
       "        -5.9635911e+00, -6.5999894e+00, -5.0933194e+00, -7.1451316e+00,\n",
       "        -7.2829328e+00, -3.4020562e+00, -6.7894006e+00, -6.3052850e+00,\n",
       "        -1.0445390e+00, -6.6737523e+00, -6.6632447e+00, -6.4478154e+00,\n",
       "        -6.3479066e+00, -6.8780160e+00, -5.6397061e+00, -1.2514749e+00,\n",
       "        -4.5365853e+00, -5.7607889e-01, -2.4221177e+00, -5.6420565e-01,\n",
       "        -6.7653503e+00, -1.7564473e+00,  1.3615942e-01, -7.7075624e-01]],\n",
       "      dtype=float32)"
      ]
     },
     "execution_count": 26,
     "metadata": {},
     "output_type": "execute_result"
    }
   ],
   "source": [
    "observed_pred.mean.numpy()"
   ]
  },
  {
   "cell_type": "code",
   "execution_count": 27,
   "id": "e79c9677-b432-4ac0-8dc1-d8189c7ba037",
   "metadata": {},
   "outputs": [
    {
     "data": {
      "text/plain": [
       "tensor([[0.9815, 0.9980, 0.9920, 0.9810, 0.9259, 0.9911, 0.9957, 0.9920, 0.9974,\n",
       "         0.9272, 0.9976, 0.9887, 0.9800, 0.9928, 0.9534, 0.9986, 0.9980, 0.9963,\n",
       "         0.9836, 0.9967, 0.9959, 0.9852, 0.9947, 0.9581, 0.6525, 0.9937, 0.9888,\n",
       "         0.9689, 0.9843, 0.9975, 0.9344, 0.9964, 0.9913, 0.9923, 0.9570, 0.8708,\n",
       "         0.9965, 0.9956, 0.9080, 0.9959, 0.9488, 0.9948, 0.9892, 0.9814, 0.9909,\n",
       "         0.9972, 0.9876, 0.9732, 0.9953, 0.9927, 0.9921, 0.9962, 0.9967, 0.9872,\n",
       "         0.9901, 0.9917, 0.9815, 0.9944, 0.9525, 0.9924, 0.9972, 0.8092, 0.9976,\n",
       "         0.9956, 0.0375, 0.9974, 0.9900, 0.9870, 0.9844, 0.9894, 0.9687, 0.0669,\n",
       "         0.9354, 0.0072, 0.3278, 0.0042, 0.9807, 0.1998, 0.0216, 0.0079],\n",
       "        [0.0185, 0.0020, 0.0080, 0.0190, 0.0741, 0.0089, 0.0043, 0.0080, 0.0026,\n",
       "         0.0728, 0.0024, 0.0113, 0.0200, 0.0072, 0.0466, 0.0014, 0.0020, 0.0037,\n",
       "         0.0164, 0.0033, 0.0041, 0.0148, 0.0053, 0.0419, 0.3475, 0.0063, 0.0112,\n",
       "         0.0311, 0.0157, 0.0025, 0.0656, 0.0036, 0.0087, 0.0077, 0.0430, 0.1292,\n",
       "         0.0035, 0.0044, 0.0920, 0.0041, 0.0512, 0.0052, 0.0108, 0.0186, 0.0091,\n",
       "         0.0028, 0.0124, 0.0268, 0.0047, 0.0073, 0.0079, 0.0038, 0.0033, 0.0128,\n",
       "         0.0099, 0.0083, 0.0185, 0.0056, 0.0475, 0.0076, 0.0028, 0.1908, 0.0024,\n",
       "         0.0044, 0.9625, 0.0026, 0.0100, 0.0130, 0.0156, 0.0106, 0.0313, 0.9331,\n",
       "         0.0646, 0.9928, 0.6722, 0.9958, 0.0193, 0.8002, 0.9784, 0.9921]])"
      ]
     },
     "execution_count": 27,
     "metadata": {},
     "output_type": "execute_result"
    }
   ],
   "source": [
    "pred_samples = test_dist.sample(torch.Size((256,))).exp()\n",
    "probabilities = (pred_samples / pred_samples.sum(-2, keepdim=True)).mean(0)\n",
    "probabilities"
   ]
  },
  {
   "cell_type": "code",
   "execution_count": 28,
   "id": "8f375dc9-68d5-407f-8535-3054519d57db",
   "metadata": {},
   "outputs": [
    {
     "name": "stdout",
     "output_type": "stream",
     "text": [
      "Number of predictions: 80\n"
     ]
    }
   ],
   "source": [
    "# Assuming observed_pred is a MultivariateNormal object from GPyTorch\n",
    "num_predictions = observed_pred.mean.shape[1]\n",
    "print(f\"Number of predictions: {num_predictions}\")"
   ]
  },
  {
   "cell_type": "code",
   "execution_count": 29,
   "id": "ad62a49f-4286-483c-a07b-a842c85387f5",
   "metadata": {},
   "outputs": [
    {
     "data": {
      "image/png": "[encoded data removed]",
      "text/plain": [
       "<Figure size 800x800 with 2 Axes>"
      ]
     },
     "metadata": {},
     "output_type": "display_data"
    }
   ],
   "source": [
    "import matplotlib.pyplot as plt\n",
    "import numpy as np\n",
    "\n",
    "# Assuming 'probabilities' is your tensor of shape [2, num_samples]\n",
    "# Convert the tensor to a numpy array for easier manipulation if it's not already\n",
    "probabilities_np = probabilities.numpy()\n",
    "\n",
    "# Since you're interested in showing the active class probability,\n",
    "# we'll use the second row ([1]) which represents the probability of being \"active\"\n",
    "active_probabilities = probabilities_np[1, :]\n",
    "\n",
    "# Prepare the data for plotting\n",
    "# The data needs to be reshaped into a 2D array where each \"pixel\" or cell in the plot\n",
    "# represents the probability of a sample being \"active\"\n",
    "# For demonstration, let's assume a square grid as much as possible\n",
    "num_samples = active_probabilities.shape[0]\n",
    "side_length = int(np.ceil(np.sqrt(num_samples)))  # Calculate the side length of the grid\n",
    "\n",
    "# Create a 2D array filled with NaNs (to be ignored in the plot)\n",
    "grid_data = np.full((side_length, side_length), np.nan)\n",
    "\n",
    "# Fill the grid with the active probabilities\n",
    "# Flatten the grid (if needed) and assign probabilities (ensures alignment even if not a perfect square)\n",
    "grid_data.flat[:num_samples] = active_probabilities\n",
    "\n",
    "# Plotting\n",
    "plt.figure(figsize=(8, 8))\n",
    "plt.imshow(grid_data, cmap='RdYlGn', origin='lower', aspect='equal')\n",
    "plt.colorbar(label='Probability of Active Class')\n",
    "plt.title('Prediction Probabilities Grid')\n",
    "plt.axis('off')  # Turn off the axis for a clean look\n",
    "\n",
    "plt.show()"
   ]
  },
  {
   "cell_type": "code",
   "execution_count": 30,
   "id": "929bab31-457b-4447-beb5-f68493c1fd0d",
   "metadata": {},
   "outputs": [
    {
     "data": {
      "image/png": "[encoded data removed]",
      "text/plain": [
       "<Figure size 800x800 with 2 Axes>"
      ]
     },
     "metadata": {},
     "output_type": "display_data"
    }
   ],
   "source": [
    "import matplotlib.pyplot as plt\n",
    "import numpy as np\n",
    "\n",
    "# Assuming `y_true` contains the actual class labels\n",
    "actual_classes = y_true  # If y_true is not a numpy array, convert it: np.array(y_true)\n",
    "\n",
    "# Prepare the data for plotting\n",
    "# The data needs to be reshaped into a 2D array where each \"pixel\" or cell in the plot\n",
    "# represents the actual class of a sample\n",
    "num_samples = actual_classes.shape[0]\n",
    "side_length = int(np.ceil(np.sqrt(num_samples)))  # Calculate the side length of the grid\n",
    "\n",
    "# Create a 2D array filled with NaNs (to be ignored in the plot)\n",
    "grid_data = np.full((side_length, side_length), np.nan)\n",
    "\n",
    "# Fill the grid with the actual classes\n",
    "# Flatten the grid (if needed) and assign actual class labels (ensures alignment even if not a perfect square)\n",
    "grid_data.flat[:num_samples] = actual_classes\n",
    "\n",
    "# Plotting\n",
    "plt.figure(figsize=(8, 8))\n",
    "plt.imshow(grid_data, cmap='RdYlGn', origin='lower', aspect='equal')\n",
    "plt.colorbar(ticks=[0, 1], label='Actual Class')\n",
    "plt.clim(0, 1)  # Ensure the colorbar covers 0 to 1 to represent the classes clearly\n",
    "plt.title('Actual Class Grid')\n",
    "plt.axis('off')  # Turn off the axis for a clean look\n",
    "\n",
    "plt.show()"
   ]
  },
  {
   "cell_type": "code",
   "execution_count": null,
   "id": "6506a260-a15f-4834-a9c4-a32fa25792a0",
   "metadata": {},
   "outputs": [],
   "source": []
  }
 ],
 "metadata": {
  "kernelspec": {
   "display_name": "Python (atom2024)",
   "language": "python",
   "name": "atom2024"
  },
  "language_info": {
   "codemirror_mode": {
    "name": "ipython",
    "version": 3
   },
   "file_extension": ".py",
   "mimetype": "text/x-python",
   "name": "python",
   "nbconvert_exporter": "python",
   "pygments_lexer": "ipython3",
   "version": "3.9.12"
  }
 },
 "nbformat": 4,
 "nbformat_minor": 5
}
