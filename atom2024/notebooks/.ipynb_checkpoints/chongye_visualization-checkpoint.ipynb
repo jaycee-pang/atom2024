{
 "cells": [
  {
   "cell_type": "markdown",
   "id": "0d5b67ac-9bb3-45f8-b6b4-124130cf265c",
   "metadata": {},
   "source": [
    "# NEK_9 Data Visualization\n",
    "## Chongye Feng"
   ]
  },
  {
   "cell_type": "code",
   "execution_count": 1,
   "id": "e7f523b7-24f4-4794-bef7-0085c1653212",
   "metadata": {},
   "outputs": [],
   "source": [
    "import math\n",
    "import torch\n",
    "import numpy as np\n",
    "import gpytorch\n",
    "import pandas as pd\n",
    "import os\n",
    "from matplotlib import pyplot as plt\n",
    "import sklearn\n",
    "from sklearn.model_selection import KFold\n",
    "\n",
    "%matplotlib inline\n",
    "%load_ext autoreload\n",
    "%autoreload 2"
   ]
  },
  {
   "cell_type": "code",
   "execution_count": 2,
   "id": "0706d9bc-03d5-4f7e-a274-75bcf670901d",
   "metadata": {},
   "outputs": [
    {
     "name": "stdout",
     "output_type": "stream",
     "text": [
      "imblearn version:  0.11.0\n"
     ]
    }
   ],
   "source": [
    "# check version number\n",
    "import imblearn\n",
    "print(\"imblearn version: \",imblearn.__version__)\n",
    "from imblearn.over_sampling import SMOTE\n",
    "\n",
    "from sklearn.decomposition import PCA\n",
    "from sklearn.preprocessing import StandardScaler\n",
    "\n",
    "\n",
    "from sklearn.metrics import confusion_matrix\n",
    "import itertools"
   ]
  },
  {
   "cell_type": "code",
   "execution_count": 3,
   "id": "c5b15c3b-6755-492d-9a33-6fcbd83e31e6",
   "metadata": {},
   "outputs": [
    {
     "data": {
      "text/plain": [
       "(1409, 310)"
      ]
     },
     "execution_count": 3,
     "metadata": {},
     "output_type": "execute_result"
    }
   ],
   "source": [
    "# Binding\n",
    "dataset_path = '../../../data/NEK_data_4Berkeley/NEK9/'\n",
    "nek9_binding_random_imbalanced = 'NEK9_1_uM_min_50_pct_binding_5fold_random_imbalanced.csv'\n",
    "all_fold_df_binding = pd.read_csv(dataset_path+nek9_binding_random_imbalanced)\n",
    "all_fold_df_binding.shape # (1409,310)"
   ]
  },
  {
   "cell_type": "code",
   "execution_count": 4,
   "id": "cb8baeed-a3da-4119-bca3-99d72cb89e77",
   "metadata": {},
   "outputs": [
    {
     "data": {
      "text/plain": [
       "(393, 310)"
      ]
     },
     "execution_count": 4,
     "metadata": {},
     "output_type": "execute_result"
    }
   ],
   "source": [
    "# Inhibition\n",
    "nek9_inhibition_random_imbalanced = 'NEK9_1_uM_min_50_pct_inhibition_5fold_random_imbalanced.csv'\n",
    "all_fold_df_inhibition = pd.read_csv(dataset_path+nek9_inhibition_random_imbalanced)\n",
    "all_fold_df_inhibition.shape  # (393, 310)"
   ]
  },
  {
   "cell_type": "code",
   "execution_count": 5,
   "id": "3960a0b1-47a1-46e8-b576-a0087b4447ff",
   "metadata": {},
   "outputs": [
    {
     "data": {
      "text/plain": [
       "compound_id\n",
       "kdb_2222    2\n",
       "kdb_2215    2\n",
       "kdb_2230    2\n",
       "kdb_2235    2\n",
       "kdb_2236    2\n",
       "           ..\n",
       "kdb_148     1\n",
       "kdb_2781    1\n",
       "kdb_3485    1\n",
       "kdb_53      1\n",
       "kdb_3758    1\n",
       "Name: count, Length: 1755, dtype: int64"
      ]
     },
     "execution_count": 5,
     "metadata": {},
     "output_type": "execute_result"
    }
   ],
   "source": [
    "combined_df = pd.concat([all_fold_df_binding, all_fold_df_inhibition ])\n",
    "value_counts = combined_df[('compound_id')].value_counts()\n",
    "value_counts"
   ]
  },
  {
   "cell_type": "code",
   "execution_count": 6,
   "id": "6cd79eb5-f5f6-458a-819e-e411daaa89db",
   "metadata": {},
   "outputs": [
    {
     "data": {
      "text/plain": [
       "compound_id\n",
       "kdb_2222    2\n",
       "kdb_2215    2\n",
       "kdb_2230    2\n",
       "kdb_2235    2\n",
       "kdb_2236    2\n",
       "kdb_2218    2\n",
       "kdb_2431    2\n",
       "kdb_2244    2\n",
       "kdb_2233    2\n",
       "kdb_2217    2\n",
       "kdb_2430    2\n",
       "kdb_2205    2\n",
       "kdb_2229    2\n",
       "kdb_2238    2\n",
       "kdb_2211    2\n",
       "kdb_2232    2\n",
       "kdb_2320    2\n",
       "kdb_2234    2\n",
       "kdb_2225    2\n",
       "kdb_2433    2\n",
       "kdb_2237    2\n",
       "kdb_2200    2\n",
       "kdb_2208    2\n",
       "kdb_2212    2\n",
       "kdb_2228    2\n",
       "kdb_2207    2\n",
       "kdb_2206    2\n",
       "kdb_2319    2\n",
       "kdb_2429    2\n",
       "kdb_2219    2\n",
       "kdb_1618    2\n",
       "kdb_2224    2\n",
       "kdb_2241    2\n",
       "kdb_2601    2\n",
       "kdb_2209    2\n",
       "kdb_2227    2\n",
       "kdb_2221    2\n",
       "kdb_2213    2\n",
       "kdb_2220    2\n",
       "kdb_2242    2\n",
       "kdb_2223    2\n",
       "kdb_2908    2\n",
       "kdb_2239    2\n",
       "kdb_2013    2\n",
       "kdb_2321    2\n",
       "kdb_2226    2\n",
       "kdb_2231    2\n",
       "Name: count, dtype: int64"
      ]
     },
     "execution_count": 6,
     "metadata": {},
     "output_type": "execute_result"
    }
   ],
   "source": [
    "in_both = value_counts[value_counts==2]\n",
    "in_both"
   ]
  },
  {
   "cell_type": "code",
   "execution_count": 7,
   "id": "f232a14f-b029-462d-abbe-d2632b3331da",
   "metadata": {},
   "outputs": [
    {
     "data": {
      "text/plain": [
       "47"
      ]
     },
     "execution_count": 7,
     "metadata": {},
     "output_type": "execute_result"
    }
   ],
   "source": [
    "len(in_both)"
   ]
  },
  {
   "cell_type": "markdown",
   "id": "f1899bd5-4e43-4380-96a4-45ed1f9e15fe",
   "metadata": {},
   "source": [
    "There are 47 compounds in both binding and inhibition data set."
   ]
  },
  {
   "cell_type": "code",
   "execution_count": 8,
   "id": "9b066a47-abe0-4be0-b4b8-5783c0c9ca77",
   "metadata": {},
   "outputs": [],
   "source": [
    "# from sklearn 0.19.2 documentation:\n",
    "def plot_confusion_matrix(cm, classes,\n",
    "                          normalize=False,\n",
    "                          cmap=plt.cm.Blues):\n",
    "    \"\"\"\n",
    "    This function prints and plots the confusion matrix.\n",
    "    Normalization can be applied by setting `normalize=True`.\n",
    "    \"\"\"\n",
    "    if normalize:\n",
    "        cm = cm.astype('float') / cm.sum(axis=1)[:, np.newaxis]\n",
    "        print(\"Normalized confusion matrix\")\n",
    "    else:\n",
    "        print('Confusion matrix, without normalization')\n",
    "    print(cm)\n",
    "    plt.imshow(cm, interpolation='nearest', cmap=cmap)\n",
    "    plt.colorbar(shrink=0.7)\n",
    "    tick_marks = np.arange(len(classes))\n",
    "    plt.xticks(tick_marks, classes, rotation=45)\n",
    "    plt.yticks(tick_marks, classes)\n",
    "\n",
    "    fmt = '.2f' if normalize else 'd'\n",
    "    thresh = cm.max() / 2.\n",
    "    for i, j in itertools.product(range(cm.shape[0]), range(cm.shape[1])):\n",
    "        plt.text(j, i, format(cm[i, j], fmt),\n",
    "                 horizontalalignment=\"center\",\n",
    "                 color=\"white\" if cm[i, j] > thresh else \"black\")\n",
    "    plt.tight_layout()\n",
    "    plt.ylabel('True label')\n",
    "    plt.xlabel('Predicted label')"
   ]
  },
  {
   "cell_type": "code",
   "execution_count": 9,
   "id": "ffc5af44-001f-47b4-8683-afb00fcbc2e5",
   "metadata": {},
   "outputs": [
    {
     "name": "stdout",
     "output_type": "stream",
     "text": [
      "(1409, 309)\n"
     ]
    }
   ],
   "source": [
    "binding_df = pd.read_csv('../../../data/datasets/scaled_descriptors/NEK9_1_uM_min_50_pct_binding_with_moe_descriptors.csv')\n",
    "print(binding_df.shape)"
   ]
  },
  {
   "cell_type": "code",
   "execution_count": 10,
   "id": "b56d6f4d-25fb-4b9e-b4ad-90523f8446e1",
   "metadata": {},
   "outputs": [
    {
     "data": {
      "text/plain": [
       "Index(['ASA+_per_atom', 'ASA-', 'ASA_H_per_atom', 'ASA_P', 'ASA_per_atom',\n",
       "       'BCUT_PEOE_0', 'BCUT_PEOE_1', 'BCUT_PEOE_2', 'BCUT_PEOE_3',\n",
       "       'BCUT_SLOGP_0_per_atom',\n",
       "       ...\n",
       "       'vsurf_Wp2_per_atom', 'vsurf_Wp3', 'vsurf_Wp4', 'vsurf_Wp5',\n",
       "       'vsurf_Wp6', 'vsurf_Wp7', 'vsurf_Wp8', 'weinerPath',\n",
       "       'weinerPol_per_atom', 'zagreb_per_atom'],\n",
       "      dtype='object', length=306)"
      ]
     },
     "execution_count": 10,
     "metadata": {},
     "output_type": "execute_result"
    }
   ],
   "source": [
    "moe_columns = binding_df.columns[3:]\n",
    "moe_columns"
   ]
  },
  {
   "cell_type": "markdown",
   "id": "4ab79c37-aa4e-4cef-837e-101ebdad1cb6",
   "metadata": {},
   "source": [
    "There are 306 features (parameters) for each compound."
   ]
  },
  {
   "cell_type": "code",
   "execution_count": 11,
   "id": "ed8ddd7d-f309-479b-b1c2-10af07c1908e",
   "metadata": {},
   "outputs": [
    {
     "data": {
      "text/plain": [
       "(393, 309)"
      ]
     },
     "execution_count": 11,
     "metadata": {},
     "output_type": "execute_result"
    }
   ],
   "source": [
    "inhibition_df = pd.read_csv('../../../data/datasets/scaled_descriptors/NEK9_1_uM_min_50_pct_inhibition_with_moe_descriptors.csv') \n",
    "inhibition_df.shape"
   ]
  },
  {
   "cell_type": "markdown",
   "id": "df7fce5a-d416-4f70-a112-be5865aac563",
   "metadata": {},
   "source": [
    "Now, we will look at the pre-splitted inhibition data for NEK9."
   ]
  },
  {
   "cell_type": "code",
   "execution_count": 12,
   "id": "9c8ca155-8a88-497d-abb3-ed483ba8bdb9",
   "metadata": {},
   "outputs": [
    {
     "name": "stdout",
     "output_type": "stream",
     "text": [
      "active\n",
      "0         280\n",
      "1          33\n",
      "Name: count, dtype: int64\n",
      "active\n",
      "0         71\n",
      "1          9\n",
      "Name: count, dtype: int64\n",
      "(313, 1) (80, 1)\n",
      "(313, 306) (80, 306)\n"
     ]
    }
   ],
   "source": [
    "uq_path = '../../../data/NEK_data_4Berkeley/NEK9/'\n",
    "train_x_df = pd.read_csv(uq_path+'NEK9_inhibition_random_fold1_trainX.csv')\n",
    "train_y_df= pd.read_csv(uq_path+\"/NEK9_inhibition_random_fold1_trainY.csv\")\n",
    "test_x_df= pd.read_csv(uq_path+\"/NEK9_inhibition_random_fold1_testX.csv\")\n",
    "test_y_df= pd.read_csv(uq_path+\"/NEK9_inhibition_random_fold1_testY.csv\")\n",
    "print(train_y_df.value_counts()), print(test_y_df.value_counts())\n",
    "print(train_y_df.shape, test_y_df.shape)\n",
    "print(train_x_df.shape, test_x_df.shape)"
   ]
  },
  {
   "cell_type": "markdown",
   "id": "1a99be5a-4695-4a1d-b09d-dba0604abd12",
   "metadata": {},
   "source": [
    "306 features are still too much. "
   ]
  },
  {
   "cell_type": "code",
   "execution_count": 13,
   "id": "462393ac-b74c-4804-aa07-0990dc7cdf2d",
   "metadata": {},
   "outputs": [],
   "source": [
    "# Concatenation of Training and Testing Feature Sets:\n",
    "x_df = pd.concat([train_x_df, test_x_df])\n",
    "# Feature Scaling using StandardScaler:\n",
    "scaling = StandardScaler()\n",
    "scaling.fit(x_df)\n",
    "Scaled_data = scaling.transform(x_df)\n",
    "train_scaled_data = scaling.transform(train_x_df)\n",
    "test_scaled_data = scaling.transform(test_x_df)"
   ]
  },
  {
   "cell_type": "markdown",
   "id": "8d4b4165-f4ca-41bc-8fbe-0cb3e26bb841",
   "metadata": {},
   "source": [
    "Dimensionality Reduction using PCA:\n",
    "This means PCA will choose the number of components such that the total variance explained by those components is at least 95% of the total variance in the dataset. This approach automatically selects the number of principal components needed to retain 95% of the data's variance, effectively reducing the dimensionality of the data while preserving most of the information.\n"
   ]
  },
  {
   "cell_type": "code",
   "execution_count": 14,
   "id": "e4906a51-fc46-4946-98da-18566485eba0",
   "metadata": {},
   "outputs": [],
   "source": [
    "principal = PCA(n_components=0.95) \n",
    "principal.fit(Scaled_data)\n",
    "pca_train_x_df = principal.transform(train_scaled_data)\n",
    "pca_test_x_df = principal.transform(test_scaled_data)"
   ]
  },
  {
   "cell_type": "code",
   "execution_count": 15,
   "id": "737b4a1a-36f0-49c1-843e-d1e280731e9d",
   "metadata": {},
   "outputs": [
    {
     "name": "stdout",
     "output_type": "stream",
     "text": [
      "(313, 52)\n",
      "(80, 52)\n"
     ]
    }
   ],
   "source": [
    "print(pca_train_x_df.shape)\n",
    "print(pca_test_x_df.shape)"
   ]
  },
  {
   "cell_type": "markdown",
   "id": "06e30835-de70-40a7-bacf-e42ce5f39d44",
   "metadata": {},
   "source": [
    "306 was significantly reduced to 52."
   ]
  },
  {
   "cell_type": "markdown",
   "id": "dcc58bdd-7389-4889-ad18-4000d6550277",
   "metadata": {},
   "source": [
    "Then use SMOTE (Synthetic Minority Over-sampling Technique) to adjust for imbalanced class distributions in the training dataset. This is a common scenario in many machine learning problems where one class (the minority class) has significantly fewer instances than the other classes (the majority classes), leading to biased models that favor the majority class. SMOTE addresses this issue by creating synthetic examples of the minority class, thus balancing the class distribution and potentially improving model performance on minority class predictions."
   ]
  },
  {
   "cell_type": "code",
   "execution_count": 16,
   "id": "f82c8389-ba5b-46c0-9f22-26e562419f58",
   "metadata": {},
   "outputs": [],
   "source": [
    "# SMOTE Initialization:\n",
    "oversample = SMOTE()\n",
    "\n",
    "# Applying SMOTE to the Training Data:\n",
    "new_train_x_df, new_train_y_df = oversample.fit_resample(pca_train_x_df, train_y_df)"
   ]
  },
  {
   "cell_type": "code",
   "execution_count": 17,
   "id": "bc953881-b299-4541-a04a-f257f75c7f90",
   "metadata": {},
   "outputs": [
    {
     "name": "stdout",
     "output_type": "stream",
     "text": [
      "Shape of training features tensor: torch.Size([560, 52])\n",
      "Shape of training labels tensor: torch.Size([560])\n"
     ]
    }
   ],
   "source": [
    "import torch\n",
    "\n",
    "# Convert the feature arrays directly to PyTorch tensors and cast them to the appropriate type.\n",
    "train_x = torch.from_numpy(new_train_x_df).long()\n",
    "test_x = torch.from_numpy(pca_test_x_df).long()\n",
    "\n",
    "# For the labels, which are pandas DataFrames, first convert them to numpy arrays, then cast to \"long\",\n",
    "# and finally convert to PyTorch tensors.\n",
    "train_y = torch.from_numpy(new_train_y_df.to_numpy().astype(\"long\")).reshape(-1)\n",
    "test_y = torch.from_numpy(test_y_df.to_numpy().astype(\"long\")).reshape(-1)\n",
    "\n",
    "# Print the shapes of the tensors to ensure they are correct.\n",
    "print(f\"Shape of training features tensor: {train_x.shape}\")\n",
    "print(f\"Shape of training labels tensor: {train_y.shape}\")"
   ]
  },
  {
   "cell_type": "markdown",
   "id": "ae5e52a1-c002-4d63-a5b4-a57419e65828",
   "metadata": {},
   "source": [
    "Then we build a model."
   ]
  },
  {
   "cell_type": "code",
   "execution_count": 18,
   "id": "a1435d07-6b3e-4a09-bb93-1153a68dc06b",
   "metadata": {},
   "outputs": [],
   "source": [
    "# Construct a GP classification model\n",
    "\n",
    "from gpytorch.models import ExactGP\n",
    "from gpytorch.likelihoods import DirichletClassificationLikelihood\n",
    "from gpytorch.means import ConstantMean\n",
    "from gpytorch.kernels import ScaleKernel, RBFKernel\n",
    "\n",
    "# We will use the simplest form of GP model, exact inference\n",
    "class DirichletGPModel(ExactGP):\n",
    "    def __init__(self, train_x, train_y, likelihood, num_classes):\n",
    "        super(DirichletGPModel, self).__init__(train_x, train_y, likelihood)\n",
    "        self.mean_module = ConstantMean(batch_shape=torch.Size((num_classes,)))\n",
    "        self.covar_module = ScaleKernel(\n",
    "            RBFKernel(batch_shape=torch.Size((num_classes,))),\n",
    "            batch_shape=torch.Size((num_classes,)),\n",
    "        )\n",
    "\n",
    "    def forward(self, x):\n",
    "        mean_x = self.mean_module(x)\n",
    "        covar_x = self.covar_module(x)\n",
    "        return gpytorch.distributions.MultivariateNormal(mean_x, covar_x)\n",
    "\n",
    "# initialize likelihood and model\n",
    "# we let the DirichletClassificationLikelihood compute the targets for us\n",
    "likelihood = DirichletClassificationLikelihood(train_y, learn_additional_noise=True)\n",
    "model = DirichletGPModel(train_x, likelihood.transformed_targets, likelihood, num_classes=likelihood.num_classes)"
   ]
  },
  {
   "cell_type": "markdown",
   "id": "8f724dbc-294c-40bd-bab2-5449fc8277a1",
   "metadata": {},
   "source": [
    "Training the model ..."
   ]
  },
  {
   "cell_type": "code",
   "execution_count": 19,
   "id": "f1934691-7c54-44ce-a285-abcc385dc909",
   "metadata": {},
   "outputs": [
    {
     "name": "stdout",
     "output_type": "stream",
     "text": [
      "Iter 1/300 - Loss: 7.043   lengthscale: 0.693   noise: 0.693\n",
      "Iter 6/300 - Loss: 6.302   lengthscale: 0.975   noise: 0.972\n",
      "Iter 11/300 - Loss: 5.750   lengthscale: 1.319   noise: 1.287\n",
      "Iter 16/300 - Loss: 5.332   lengthscale: 1.725   noise: 1.588\n",
      "Iter 21/300 - Loss: 5.018   lengthscale: 2.197   noise: 1.806\n",
      "Iter 26/300 - Loss: 4.784   lengthscale: 2.716   noise: 1.892\n",
      "Iter 31/300 - Loss: 4.600   lengthscale: 3.252   noise: 1.841\n",
      "Iter 36/300 - Loss: 4.436   lengthscale: 3.781   noise: 1.672\n",
      "Iter 41/300 - Loss: 4.276   lengthscale: 4.295   noise: 1.418\n",
      "Iter 46/300 - Loss: 4.120   lengthscale: 4.789   noise: 1.118\n",
      "Iter 51/300 - Loss: 3.977   lengthscale: 5.256   noise: 0.820\n",
      "Iter 56/300 - Loss: 3.855   lengthscale: 5.681   noise: 0.562\n",
      "Iter 61/300 - Loss: 3.755   lengthscale: 6.059   noise: 0.369\n",
      "Iter 66/300 - Loss: 3.681   lengthscale: 6.388   noise: 0.240\n",
      "Iter 71/300 - Loss: 3.627   lengthscale: 6.672   noise: 0.161\n",
      "Iter 76/300 - Loss: 3.590   lengthscale: 6.915   noise: 0.114\n",
      "Iter 81/300 - Loss: 3.564   lengthscale: 7.122   noise: 0.086\n",
      "Iter 86/300 - Loss: 3.545   lengthscale: 7.299   noise: 0.068\n",
      "Iter 91/300 - Loss: 3.532   lengthscale: 7.450   noise: 0.056\n",
      "Iter 96/300 - Loss: 3.522   lengthscale: 7.580   noise: 0.047\n",
      "Iter 101/300 - Loss: 3.515   lengthscale: 7.691   noise: 0.041\n",
      "Iter 106/300 - Loss: 3.510   lengthscale: 7.786   noise: 0.037\n",
      "Iter 111/300 - Loss: 3.506   lengthscale: 7.869   noise: 0.033\n",
      "Iter 116/300 - Loss: 3.502   lengthscale: 7.941   noise: 0.030\n",
      "Iter 121/300 - Loss: 3.500   lengthscale: 8.005   noise: 0.028\n",
      "Iter 126/300 - Loss: 3.497   lengthscale: 8.061   noise: 0.026\n",
      "Iter 131/300 - Loss: 3.495   lengthscale: 8.111   noise: 0.024\n",
      "Iter 136/300 - Loss: 3.493   lengthscale: 8.157   noise: 0.022\n",
      "Iter 141/300 - Loss: 3.492   lengthscale: 8.198   noise: 0.021\n",
      "Iter 146/300 - Loss: 3.490   lengthscale: 8.235   noise: 0.020\n",
      "Iter 151/300 - Loss: 3.489   lengthscale: 8.270   noise: 0.019\n",
      "Iter 156/300 - Loss: 3.488   lengthscale: 8.302   noise: 0.018\n",
      "Iter 161/300 - Loss: 3.487   lengthscale: 8.332   noise: 0.017\n",
      "Iter 166/300 - Loss: 3.486   lengthscale: 8.359   noise: 0.016\n",
      "Iter 171/300 - Loss: 3.485   lengthscale: 8.384   noise: 0.015\n",
      "Iter 176/300 - Loss: 3.484   lengthscale: 8.408   noise: 0.015\n",
      "Iter 181/300 - Loss: 3.483   lengthscale: 8.430   noise: 0.014\n",
      "Iter 186/300 - Loss: 3.482   lengthscale: 8.450   noise: 0.013\n",
      "Iter 191/300 - Loss: 3.482   lengthscale: 8.468   noise: 0.013\n",
      "Iter 196/300 - Loss: 3.481   lengthscale: 8.486   noise: 0.012\n",
      "Iter 201/300 - Loss: 3.480   lengthscale: 8.501   noise: 0.012\n",
      "Iter 206/300 - Loss: 3.480   lengthscale: 8.516   noise: 0.011\n",
      "Iter 211/300 - Loss: 3.479   lengthscale: 8.529   noise: 0.011\n",
      "Iter 216/300 - Loss: 3.479   lengthscale: 8.542   noise: 0.011\n",
      "Iter 221/300 - Loss: 3.478   lengthscale: 8.553   noise: 0.010\n",
      "Iter 226/300 - Loss: 3.478   lengthscale: 8.564   noise: 0.010\n",
      "Iter 231/300 - Loss: 3.477   lengthscale: 8.573   noise: 0.010\n",
      "Iter 236/300 - Loss: 3.477   lengthscale: 8.582   noise: 0.009\n",
      "Iter 241/300 - Loss: 3.476   lengthscale: 8.591   noise: 0.009\n",
      "Iter 246/300 - Loss: 3.476   lengthscale: 8.599   noise: 0.009\n",
      "Iter 251/300 - Loss: 3.476   lengthscale: 8.606   noise: 0.009\n",
      "Iter 256/300 - Loss: 3.475   lengthscale: 8.613   noise: 0.008\n",
      "Iter 261/300 - Loss: 3.475   lengthscale: 8.619   noise: 0.008\n",
      "Iter 266/300 - Loss: 3.475   lengthscale: 8.625   noise: 0.008\n",
      "Iter 271/300 - Loss: 3.475   lengthscale: 8.631   noise: 0.008\n",
      "Iter 276/300 - Loss: 3.474   lengthscale: 8.636   noise: 0.007\n",
      "Iter 281/300 - Loss: 3.474   lengthscale: 8.641   noise: 0.007\n",
      "Iter 286/300 - Loss: 3.474   lengthscale: 8.646   noise: 0.007\n",
      "Iter 291/300 - Loss: 3.474   lengthscale: 8.651   noise: 0.007\n",
      "Iter 296/300 - Loss: 3.474   lengthscale: 8.656   noise: 0.007\n"
     ]
    }
   ],
   "source": [
    "# this is for running the notebook in our testing framework\n",
    "import os\n",
    "smoke_test = ('CI' in os.environ)\n",
    "training_iter = 2 if smoke_test else 300\n",
    "\n",
    "\n",
    "# Find optimal model hyperparameters\n",
    "model.train()\n",
    "likelihood.train()\n",
    "\n",
    "# Use the adam optimizer\n",
    "optimizer = torch.optim.Adam(model.parameters(), lr=0.1)  # Includes GaussianLikelihood parameters\n",
    "\n",
    "# \"Loss\" for GPs - the marginal log likelihood\n",
    "mll = gpytorch.mlls.ExactMarginalLogLikelihood(likelihood, model)\n",
    "\n",
    "for i in range(training_iter):\n",
    "    # Zero gradients from previous iteration\n",
    "    optimizer.zero_grad()\n",
    "    # Output from model\n",
    "    output = model(train_x)\n",
    "    # Calc loss and backprop gradients\n",
    "    loss = -mll(output, likelihood.transformed_targets).sum()\n",
    "    loss.backward()\n",
    "    if i % 5 == 0:\n",
    "        print('Iter %d/%d - Loss: %.3f   lengthscale: %.3f   noise: %.3f' % (\n",
    "            i + 1, training_iter, loss.item(),\n",
    "            model.covar_module.base_kernel.lengthscale.mean().item(),\n",
    "            model.likelihood.second_noise_covar.noise.mean().item()\n",
    "        ))\n",
    "    optimizer.step()"
   ]
  },
  {
   "cell_type": "code",
   "execution_count": 20,
   "id": "527c0ca5-0a2e-49e0-bfd5-3d7c6bf7d55b",
   "metadata": {},
   "outputs": [
    {
     "name": "stdout",
     "output_type": "stream",
     "text": [
      "(2, 560)\n",
      "tensor([0, 0, 0, 0, 0, 0, 0, 0, 0, 0, 0, 0, 0, 0, 0, 0, 0, 0, 0, 0, 0, 0, 0, 0,\n",
      "        0, 0, 0, 0, 0, 0, 0, 0, 0, 0, 0, 0, 0, 0, 0, 0, 0, 0, 0, 0, 0, 0, 0, 0,\n",
      "        0, 0, 0, 0, 0, 0, 0, 0, 0, 0, 0, 0, 0, 0, 0, 0, 0, 0, 0, 0, 0, 0, 0, 0,\n",
      "        0, 0, 0, 0, 0, 0, 0, 0, 0, 0, 0, 0, 0, 0, 0, 1, 0, 0, 0, 0, 0, 0, 0, 0,\n",
      "        0, 0, 0, 0, 0, 0, 0, 0, 0, 0, 0, 0, 0, 0, 0, 0, 0, 0, 0, 0, 0, 0, 0, 0,\n",
      "        0, 0, 0, 0, 0, 0, 0, 0, 0, 0, 0, 0, 0, 0, 0, 0, 0, 0, 0, 0, 1, 0, 0, 0,\n",
      "        0, 0, 0, 0, 0, 0, 0, 0, 0, 0, 0, 0, 0, 0, 0, 0, 0, 0, 0, 0, 0, 0, 0, 0,\n",
      "        0, 0, 0, 0, 0, 0, 0, 0, 0, 0, 0, 0, 0, 0, 0, 0, 0, 1, 0, 0, 0, 0, 0, 0,\n",
      "        0, 0, 0, 0, 0, 0, 0, 0, 0, 0, 0, 0, 0, 0, 0, 0, 0, 0, 0, 0, 0, 0, 0, 0,\n",
      "        0, 0, 0, 0, 0, 0, 0, 0, 0, 0, 0, 1, 0, 0, 0, 0, 0, 0, 0, 0, 0, 0, 0, 0,\n",
      "        0, 0, 0, 0, 0, 0, 0, 0, 0, 0, 0, 0, 0, 0, 0, 0, 0, 0, 0, 0, 0, 0, 0, 0,\n",
      "        0, 0, 0, 0, 0, 0, 0, 0, 0, 0, 0, 0, 0, 0, 0, 0, 1, 1, 1, 1, 1, 1, 1, 1,\n",
      "        1, 1, 1, 1, 1, 1, 1, 1, 1, 1, 1, 1, 1, 1, 1, 1, 1, 1, 1, 1, 1, 1, 1, 1,\n",
      "        1, 1, 1, 1, 1, 1, 1, 1, 1, 1, 1, 1, 1, 1, 1, 1, 1, 1, 1, 1, 1, 1, 1, 1,\n",
      "        1, 1, 1, 1, 1, 1, 1, 1, 1, 1, 1, 1, 1, 1, 1, 1, 1, 1, 1, 1, 1, 1, 1, 1,\n",
      "        1, 1, 1, 1, 1, 1, 1, 1, 1, 1, 1, 1, 1, 1, 1, 1, 1, 1, 1, 1, 1, 1, 1, 1,\n",
      "        1, 1, 1, 1, 1, 1, 1, 1, 1, 1, 1, 1, 1, 1, 1, 1, 1, 1, 1, 1, 1, 1, 1, 1,\n",
      "        1, 1, 1, 1, 1, 1, 1, 1, 1, 1, 1, 1, 1, 1, 1, 1, 1, 1, 1, 1, 1, 1, 1, 1,\n",
      "        1, 1, 1, 1, 1, 1, 1, 1, 1, 1, 1, 1, 1, 1, 1, 1, 1, 1, 1, 1, 1, 1, 1, 1,\n",
      "        1, 1, 1, 1, 1, 1, 1, 1, 1, 1, 1, 1, 1, 1, 1, 1, 1, 1, 1, 1, 1, 1, 1, 1,\n",
      "        1, 1, 1, 1, 1, 1, 1, 1, 1, 1, 1, 1, 1, 1, 1, 1, 1, 1, 1, 1, 1, 1, 1, 1,\n",
      "        1, 1, 1, 1, 1, 1, 1, 1, 1, 1, 1, 1, 1, 1, 1, 1, 1, 1, 1, 1, 1, 1, 1, 1,\n",
      "        1, 1, 1, 1, 1, 1, 1, 1, 1, 1, 1, 1, 1, 1, 1, 1, 1, 1, 1, 1, 1, 1, 1, 1,\n",
      "        1, 1, 1, 1, 1, 1, 1, 1])\n"
     ]
    },
    {
     "name": "stderr",
     "output_type": "stream",
     "text": [
      "/home/chongyef/miniconda3/envs/atom2024/lib/python3.9/site-packages/gpytorch/models/exact_gp.py:284: GPInputWarning: The input matches the stored training data. Did you forget to call model.train()?\n",
      "  warnings.warn(\n"
     ]
    }
   ],
   "source": [
    "# Make predictions with the model\n",
    "\n",
    "model.eval()\n",
    "likelihood.eval()\n",
    "\n",
    "with gpytorch.settings.fast_pred_var(), torch.no_grad():\n",
    "    test_dist = model(train_x)\n",
    "    pred_means = test_dist.loc\n",
    "    observed_pred = likelihood(model(train_x))\n",
    "    \n",
    "print(pred_means.numpy().shape)\n",
    "print(pred_means.max(0)[1])"
   ]
  },
  {
   "cell_type": "markdown",
   "id": "08c22665-059d-464c-b1a5-f296fadc60ac",
   "metadata": {},
   "source": [
    "Building the confusion plot"
   ]
  },
  {
   "cell_type": "code",
   "execution_count": 21,
   "id": "ee802fe4-b1b9-4405-878e-31b9d35c4194",
   "metadata": {},
   "outputs": [
    {
     "name": "stdout",
     "output_type": "stream",
     "text": [
      "Confusion matrix, without normalization\n",
      "[[276   4]\n",
      " [  0 280]]\n"
     ]
    },
    {
     "data": {
      "image/png": "[encoded data removed]",
      "text/plain": [
       "<Figure size 500x500 with 2 Axes>"
      ]
     },
     "metadata": {},
     "output_type": "display_data"
    }
   ],
   "source": [
    "train_prediction = model(train_x).loc.max(0)[1].numpy()\n",
    "y_true = new_train_y_df.values\n",
    "y_pred = train_prediction\n",
    "train_cm = confusion_matrix(y_true, y_pred)\n",
    "class_names = [\"0\",\"1\"]\n",
    "\n",
    "plt.rcParams.update({\"font.size\": 20})\n",
    "label_font = {'size':'18'}  # Adjust to fit\n",
    "ax = plt.figure(figsize=(5,5))\n",
    "plt.title(\"NEK9 train set\",fontsize=20)\n",
    "plot_confusion_matrix(train_cm, classes=class_names, normalize=False)\n",
    "plt.xlabel(\"Predicted\",fontdict=label_font);\n",
    "plt.ylabel(\"Actual\",fontdict=label_font);"
   ]
  },
  {
   "cell_type": "code",
   "execution_count": 22,
   "id": "45b77581-1edf-49e3-ab95-9b6429fcfde2",
   "metadata": {},
   "outputs": [
    {
     "name": "stdout",
     "output_type": "stream",
     "text": [
      "(2, 80)\n",
      "tensor([0, 0, 0, 0, 0, 0, 0, 0, 0, 0, 0, 0, 0, 0, 0, 0, 0, 0, 0, 0, 0, 0, 0, 0,\n",
      "        0, 0, 0, 0, 0, 0, 0, 0, 0, 0, 0, 0, 0, 0, 0, 0, 0, 0, 0, 0, 0, 0, 0, 0,\n",
      "        0, 0, 0, 0, 0, 0, 0, 0, 0, 0, 0, 0, 0, 0, 0, 0, 1, 0, 0, 0, 0, 0, 0, 1,\n",
      "        0, 1, 1, 1, 0, 1, 1, 1])\n"
     ]
    }
   ],
   "source": [
    "# Make predictions with the model\n",
    "\n",
    "model.eval()\n",
    "likelihood.eval()\n",
    "\n",
    "with gpytorch.settings.fast_pred_var(), torch.no_grad():\n",
    "    test_dist = model(test_x)\n",
    "    pred_means = test_dist.loc\n",
    "    observed_pred = likelihood(model(test_x))\n",
    "    \n",
    "print(pred_means.numpy().shape)\n",
    "print(pred_means.max(0)[1])"
   ]
  },
  {
   "cell_type": "code",
   "execution_count": 23,
   "id": "e2cfc364-4637-47e2-a55a-bfd7bdc02775",
   "metadata": {},
   "outputs": [
    {
     "name": "stdout",
     "output_type": "stream",
     "text": [
      "(80,)\n"
     ]
    },
    {
     "data": {
      "text/plain": [
       "array([0, 0, 0, 0, 0, 0, 0, 0, 0, 0, 0, 0, 0, 0, 0, 0, 0, 0, 0, 0, 0, 0,\n",
       "       0, 0, 0, 0, 0, 0, 0, 0, 0, 0, 0, 0, 0, 0, 0, 0, 0, 0, 0, 0, 0, 0,\n",
       "       0, 0, 0, 0, 0, 0, 0, 0, 0, 0, 0, 0, 0, 0, 0, 0, 0, 0, 0, 0, 1, 0,\n",
       "       0, 0, 0, 0, 0, 1, 0, 1, 1, 1, 0, 1, 1, 1])"
      ]
     },
     "execution_count": 23,
     "metadata": {},
     "output_type": "execute_result"
    }
   ],
   "source": [
    "test_prediction = model(test_x).loc.max(0)[1].numpy()\n",
    "print(test_prediction.shape)\n",
    "test_prediction"
   ]
  },
  {
   "cell_type": "code",
   "execution_count": 24,
   "id": "09582569-df22-4d2b-8347-9398d46b3f92",
   "metadata": {},
   "outputs": [
    {
     "name": "stdout",
     "output_type": "stream",
     "text": [
      "Confusion matrix, without normalization\n",
      "[[70  1]\n",
      " [ 2  7]]\n"
     ]
    },
    {
     "data": {
      "image/png": "[encoded data removed]",
      "text/plain": [
       "<Figure size 500x500 with 2 Axes>"
      ]
     },
     "metadata": {},
     "output_type": "display_data"
    }
   ],
   "source": [
    "y_true = test_y_df.values\n",
    "y_pred = test_prediction\n",
    "test_cm = confusion_matrix(y_true, y_pred)\n",
    "class_names = [\"0\",\"1\"]\n",
    "\n",
    "plt.rcParams.update({\"font.size\": 20})\n",
    "label_font = {'size':'18'}  # Adjust to fit\n",
    "ax = plt.figure(figsize=(5,5))\n",
    "plt.title(\"NEK9 test set\",fontsize=20)\n",
    "plot_confusion_matrix(test_cm, classes=class_names, normalize=False)\n",
    "plt.xlabel(\"Predicted\",fontdict=label_font);\n",
    "plt.ylabel(\"Actual\",fontdict=label_font);"
   ]
  },
  {
   "cell_type": "markdown",
   "id": "f4bd8fb0-2ca5-46c7-a5cc-cbc42e71b4eb",
   "metadata": {},
   "source": [
    "Which could be acceptable. Then we see the uncertainty:"
   ]
  },
  {
   "cell_type": "code",
   "execution_count": 25,
   "id": "59b306e2-ee2e-4d4d-94bc-839fe21c7de6",
   "metadata": {},
   "outputs": [
    {
     "data": {
      "text/plain": [
       "tensor([[ 1.7406,  1.6230,  1.3940,  1.7608,  1.4310,  1.5587,  1.6028,  1.5197,\n",
       "          1.8403,  1.3678,  1.4207,  2.3353,  1.6977,  1.2072,  0.8238,  2.1663,\n",
       "          1.2786,  1.6419,  1.7217,  1.9197,  1.6178,  1.2208,  2.0084,  1.2815,\n",
       "         -0.0068,  1.3853,  1.4926,  1.3460,  1.9337,  2.2581,  1.2158,  1.7015,\n",
       "          2.0220,  1.7636,  0.9342,  1.1271,  1.9065,  1.6841,  1.1809,  2.0239,\n",
       "          0.9160,  1.8154,  1.9200,  2.3137,  2.0267,  1.9498,  2.2150,  0.6945,\n",
       "          2.0591,  1.3210,  2.2079,  1.4648,  1.7284,  1.0754,  1.2606,  1.6590,\n",
       "          1.6102,  2.3226,  0.8689,  2.3575,  1.7207,  1.0161,  1.9184,  1.7510,\n",
       "         -2.8920,  1.2941,  1.8821,  1.2143,  1.9389,  2.2886,  0.8154, -2.7070,\n",
       "          0.7459, -4.3396, -1.0385, -4.9673,  2.3707, -1.4728, -2.7224, -4.4470],\n",
       "        [-3.5700, -5.0560, -4.0279, -3.4120, -2.3049, -3.9871, -4.4211, -4.0132,\n",
       "         -5.0103, -2.0432, -5.1661, -3.4934, -3.0380, -4.1972, -2.7935, -5.2368,\n",
       "         -4.8609, -4.5951, -3.4552, -4.8046, -4.5054, -3.7451, -4.2584, -2.5483,\n",
       "         -0.8492, -4.2959, -3.8734, -2.8291, -3.2904, -4.7134, -2.2404, -4.5179,\n",
       "         -3.6692, -3.8295, -2.8154, -1.1923, -4.8088, -4.3334, -1.8525, -4.7983,\n",
       "         -2.3869, -4.6043, -3.4617, -3.0724, -3.8405, -4.8276, -3.8530, -3.1838,\n",
       "         -4.2617, -4.1594, -3.7091, -4.6368, -4.5695, -4.1262, -4.0445, -3.7404,\n",
       "         -3.2780, -3.9467, -2.9860, -3.9934, -4.8574, -1.2879, -4.6836, -4.1729,\n",
       "          0.6591, -4.6763, -3.9350, -4.1133, -3.8031, -3.5562, -3.5867,  0.4401,\n",
       "         -2.4305,  0.6464,  0.3461,  1.0140, -3.0567, -0.2290,  1.4371,  0.4975]])"
      ]
     },
     "execution_count": 25,
     "metadata": {},
     "output_type": "execute_result"
    }
   ],
   "source": [
    "lower, upper = observed_pred.confidence_region()\n",
    "upper"
   ]
  },
  {
   "cell_type": "code",
   "execution_count": 26,
   "id": "0e8ce4fd-dc87-48c8-b027-89ef3a98b3b8",
   "metadata": {},
   "outputs": [
    {
     "data": {
      "text/plain": [
       "array([[-6.44983888e-01, -6.64921999e-02, -3.68616700e-01,\n",
       "        -6.82426333e-01, -9.80785489e-01, -3.72991681e-01,\n",
       "        -3.50942969e-01, -4.61289048e-01, -2.33276963e-01,\n",
       "        -1.09809506e+00, -2.33510613e-01, -2.93453336e-01,\n",
       "        -6.39164805e-01, -5.05958200e-01, -1.14377129e+00,\n",
       "        -5.92589378e-04, -1.02923989e-01, -1.61932588e-01,\n",
       "        -5.64820170e-01, -2.16343284e-01, -2.96475589e-01,\n",
       "        -5.34828782e-01, -1.47613645e-01, -9.37215924e-01,\n",
       "        -2.22266006e+00, -5.00509381e-01, -6.25655532e-01,\n",
       "        -8.48911405e-01, -5.22619247e-01,  1.06303096e-01,\n",
       "        -1.05945218e+00, -2.21236825e-01, -1.96552157e-01,\n",
       "        -4.99446511e-01, -1.18621409e+00, -1.37086689e+00,\n",
       "        -9.90685225e-02, -3.13015103e-01, -1.25872433e+00,\n",
       "        -1.81176782e-01, -9.04449582e-01, -2.16872334e-01,\n",
       "        -3.70436788e-01, -3.83231819e-01, -2.68171549e-01,\n",
       "        -1.91614747e-01, -3.37587237e-01, -1.10610688e+00,\n",
       "        -2.98024774e-01, -2.18688130e-01, -1.22502923e-01,\n",
       "        -3.09885681e-01, -2.74287820e-01, -7.47087359e-01,\n",
       "        -6.35512948e-01, -3.54076833e-01, -8.09095025e-01,\n",
       "        -3.13740969e-02, -1.13836491e+00, -2.45221972e-01,\n",
       "        -2.91099668e-01, -1.28937733e+00,  1.69309974e-01,\n",
       "        -7.37491846e-02, -4.98066425e+00, -6.98891878e-02,\n",
       "        -3.46079826e-01, -8.59641671e-01, -3.91240001e-01,\n",
       "        -3.02494705e-01, -1.03274024e+00, -4.58222198e+00,\n",
       "        -1.12350905e+00, -6.01507568e+00, -3.48052979e+00,\n",
       "        -6.63289165e+00, -4.01437819e-01, -3.40634060e+00,\n",
       "        -4.07834816e+00, -6.05017471e+00],\n",
       "       [-6.35803938e+00, -7.16991472e+00, -6.25358438e+00,\n",
       "        -6.29217672e+00, -4.94236517e+00, -6.24679422e+00,\n",
       "        -6.90073729e+00, -6.40662336e+00, -7.45537615e+00,\n",
       "        -4.88225412e+00, -7.25344992e+00, -6.70393515e+00,\n",
       "        -5.79111338e+00, -6.38287878e+00, -5.04787493e+00,\n",
       "        -7.68189955e+00, -6.76838827e+00, -7.02624941e+00,\n",
       "        -6.07789278e+00, -7.30274820e+00, -6.98377323e+00,\n",
       "        -5.79806566e+00, -6.79031610e+00, -4.97611856e+00,\n",
       "        -3.09926271e+00, -6.42046690e+00, -6.33786440e+00,\n",
       "        -5.28263903e+00, -6.25033522e+00, -7.03328562e+00,\n",
       "        -4.71652460e+00, -6.99159193e+00, -6.40342760e+00,\n",
       "        -6.43726683e+00, -5.08566999e+00, -4.03482962e+00,\n",
       "        -7.07609129e+00, -6.79576635e+00, -4.60141039e+00,\n",
       "        -7.42058134e+00, -4.37290812e+00, -7.09668970e+00,\n",
       "        -6.60643959e+00, -6.57647419e+00, -6.65273619e+00,\n",
       "        -7.22216082e+00, -6.90316725e+00, -5.05944300e+00,\n",
       "        -7.08199167e+00, -5.93552446e+00, -6.43725443e+00,\n",
       "        -6.88603449e+00, -6.90562773e+00, -6.38955164e+00,\n",
       "        -6.49913931e+00, -6.79669333e+00, -5.91283274e+00,\n",
       "        -6.65016603e+00, -5.13327456e+00, -7.12220669e+00,\n",
       "        -7.27669668e+00, -3.70513201e+00, -6.76875544e+00,\n",
       "        -6.31236506e+00, -1.22116709e+00, -6.52249575e+00,\n",
       "        -6.66456938e+00, -6.38497210e+00, -6.45987177e+00,\n",
       "        -6.83115864e+00, -5.71010828e+00, -1.21599436e+00,\n",
       "        -4.47118044e+00, -7.37487316e-01, -2.17899275e+00,\n",
       "        -4.25059795e-01, -6.83848143e+00, -1.91962862e+00,\n",
       "         1.72404766e-01, -7.81754017e-01]], dtype=float32)"
      ]
     },
     "execution_count": 26,
     "metadata": {},
     "output_type": "execute_result"
    }
   ],
   "source": [
    "observed_pred.mean.numpy()"
   ]
  },
  {
   "cell_type": "code",
   "execution_count": 27,
   "id": "e79c9677-b432-4ac0-8dc1-d8189c7ba037",
   "metadata": {},
   "outputs": [
    {
     "data": {
      "text/plain": [
       "tensor([[0.9851, 0.9980, 0.9920, 0.9812, 0.9588, 0.9906, 0.9962, 0.9937, 0.9970,\n",
       "         0.9087, 0.9981, 0.9888, 0.9778, 0.9925, 0.9532, 0.9985, 0.9975, 0.9976,\n",
       "         0.9877, 0.9969, 0.9965, 0.9891, 0.9958, 0.9481, 0.6286, 0.9936, 0.9870,\n",
       "         0.9604, 0.9816, 0.9970, 0.9387, 0.9965, 0.9914, 0.9892, 0.9501, 0.8548,\n",
       "         0.9971, 0.9940, 0.9016, 0.9967, 0.9508, 0.9967, 0.9910, 0.9797, 0.9930,\n",
       "         0.9971, 0.9921, 0.9648, 0.9963, 0.9935, 0.9898, 0.9963, 0.9963, 0.9913,\n",
       "         0.9918, 0.9933, 0.9729, 0.9911, 0.9616, 0.9914, 0.9976, 0.8493, 0.9979,\n",
       "         0.9942, 0.0480, 0.9970, 0.9939, 0.9896, 0.9894, 0.9903, 0.9770, 0.0637,\n",
       "         0.9256, 0.0095, 0.3094, 0.0032, 0.9811, 0.2422, 0.0200, 0.0086],\n",
       "        [0.0149, 0.0020, 0.0080, 0.0188, 0.0412, 0.0094, 0.0038, 0.0063, 0.0030,\n",
       "         0.0913, 0.0019, 0.0112, 0.0222, 0.0075, 0.0468, 0.0015, 0.0025, 0.0024,\n",
       "         0.0123, 0.0031, 0.0035, 0.0109, 0.0042, 0.0519, 0.3714, 0.0064, 0.0130,\n",
       "         0.0396, 0.0184, 0.0030, 0.0613, 0.0035, 0.0086, 0.0108, 0.0499, 0.1452,\n",
       "         0.0029, 0.0060, 0.0984, 0.0033, 0.0492, 0.0033, 0.0090, 0.0203, 0.0070,\n",
       "         0.0029, 0.0079, 0.0352, 0.0037, 0.0065, 0.0102, 0.0037, 0.0037, 0.0087,\n",
       "         0.0082, 0.0067, 0.0271, 0.0089, 0.0384, 0.0086, 0.0024, 0.1507, 0.0021,\n",
       "         0.0058, 0.9520, 0.0030, 0.0061, 0.0104, 0.0106, 0.0097, 0.0230, 0.9363,\n",
       "         0.0744, 0.9905, 0.6906, 0.9968, 0.0189, 0.7578, 0.9800, 0.9914]])"
      ]
     },
     "execution_count": 27,
     "metadata": {},
     "output_type": "execute_result"
    }
   ],
   "source": [
    "pred_samples = test_dist.sample(torch.Size((256,))).exp()\n",
    "probabilities = (pred_samples / pred_samples.sum(-2, keepdim=True)).mean(0)\n",
    "probabilities"
   ]
  },
  {
   "cell_type": "code",
   "execution_count": 28,
   "id": "8f375dc9-68d5-407f-8535-3054519d57db",
   "metadata": {},
   "outputs": [
    {
     "name": "stdout",
     "output_type": "stream",
     "text": [
      "Number of predictions: 80\n"
     ]
    }
   ],
   "source": [
    "# Assuming observed_pred is a MultivariateNormal object from GPyTorch\n",
    "num_predictions = observed_pred.mean.shape[1]\n",
    "print(f\"Number of predictions: {num_predictions}\")"
   ]
  },
  {
   "cell_type": "code",
   "execution_count": 29,
   "id": "ad62a49f-4286-483c-a07b-a842c85387f5",
   "metadata": {},
   "outputs": [
    {
     "data": {
      "image/png": "[encoded data removed]",
      "text/plain": [
       "<Figure size 800x800 with 2 Axes>"
      ]
     },
     "metadata": {},
     "output_type": "display_data"
    }
   ],
   "source": [
    "import matplotlib.pyplot as plt\n",
    "import numpy as np\n",
    "\n",
    "# Assuming 'probabilities' is your tensor of shape [2, num_samples]\n",
    "# Convert the tensor to a numpy array for easier manipulation if it's not already\n",
    "probabilities_np = probabilities.numpy()\n",
    "\n",
    "# Since you're interested in showing the active class probability,\n",
    "# we'll use the second row ([1]) which represents the probability of being \"active\"\n",
    "active_probabilities = probabilities_np[1, :]\n",
    "\n",
    "# Prepare the data for plotting\n",
    "# The data needs to be reshaped into a 2D array where each \"pixel\" or cell in the plot\n",
    "# represents the probability of a sample being \"active\"\n",
    "# For demonstration, let's assume a square grid as much as possible\n",
    "num_samples = active_probabilities.shape[0]\n",
    "side_length = int(np.ceil(np.sqrt(num_samples)))  # Calculate the side length of the grid\n",
    "\n",
    "# Create a 2D array filled with NaNs (to be ignored in the plot)\n",
    "grid_data = np.full((side_length, side_length), np.nan)\n",
    "\n",
    "# Fill the grid with the active probabilities\n",
    "# Flatten the grid (if needed) and assign probabilities (ensures alignment even if not a perfect square)\n",
    "grid_data.flat[:num_samples] = active_probabilities\n",
    "\n",
    "# Plotting\n",
    "plt.figure(figsize=(8, 8))\n",
    "plt.imshow(grid_data, cmap='RdYlGn', origin='lower', aspect='equal')\n",
    "plt.colorbar(label='Probability of Active Class')\n",
    "plt.title('Prediction Probabilities Grid')\n",
    "plt.axis('off')  # Turn off the axis for a clean look\n",
    "\n",
    "plt.show()"
   ]
  },
  {
   "cell_type": "code",
   "execution_count": 30,
   "id": "929bab31-457b-4447-beb5-f68493c1fd0d",
   "metadata": {},
   "outputs": [
    {
     "data": {
      "image/png": "[encoded data removed]",
      "text/plain": [
       "<Figure size 800x800 with 2 Axes>"
      ]
     },
     "metadata": {},
     "output_type": "display_data"
    }
   ],
   "source": [
    "import matplotlib.pyplot as plt\n",
    "import numpy as np\n",
    "\n",
    "# Assuming `y_true` contains the actual class labels\n",
    "actual_classes = y_true  # If y_true is not a numpy array, convert it: np.array(y_true)\n",
    "\n",
    "# Prepare the data for plotting\n",
    "# The data needs to be reshaped into a 2D array where each \"pixel\" or cell in the plot\n",
    "# represents the actual class of a sample\n",
    "num_samples = actual_classes.shape[0]\n",
    "side_length = int(np.ceil(np.sqrt(num_samples)))  # Calculate the side length of the grid\n",
    "\n",
    "# Create a 2D array filled with NaNs (to be ignored in the plot)\n",
    "grid_data = np.full((side_length, side_length), np.nan)\n",
    "\n",
    "# Fill the grid with the actual classes\n",
    "# Flatten the grid (if needed) and assign actual class labels (ensures alignment even if not a perfect square)\n",
    "grid_data.flat[:num_samples] = actual_classes\n",
    "\n",
    "# Plotting\n",
    "plt.figure(figsize=(8, 8))\n",
    "plt.imshow(grid_data, cmap='RdYlGn', origin='lower', aspect='equal')\n",
    "plt.colorbar(ticks=[0, 1], label='Actual Class')\n",
    "plt.clim(0, 1)  # Ensure the colorbar covers 0 to 1 to represent the classes clearly\n",
    "plt.title('Actual Class Grid')\n",
    "plt.axis('off')  # Turn off the axis for a clean look\n",
    "\n",
    "plt.show()"
   ]
  },
  {
   "cell_type": "code",
   "execution_count": 31,
   "id": "6506a260-a15f-4834-a9c4-a32fa25792a0",
   "metadata": {},
   "outputs": [
    {
     "data": {
      "image/png": "[encoded data removed]",
      "text/plain": [
       "<Figure size 1600x800 with 4 Axes>"
      ]
     },
     "metadata": {},
     "output_type": "display_data"
    }
   ],
   "source": [
    "import matplotlib.pyplot as plt\n",
    "import numpy as np\n",
    "\n",
    "# Assuming `y_true` contains the actual class labels and `probabilities` is your tensor\n",
    "actual_classes = np.array(y_true)  # Ensure it's a numpy array\n",
    "probabilities_np = probabilities.numpy()  # Assuming 'probabilities' is a tensor\n",
    "\n",
    "# Calculate the side length of the grid for square arrangement\n",
    "num_samples = actual_classes.shape[0]\n",
    "side_length = int(np.ceil(np.sqrt(num_samples)))\n",
    "\n",
    "# Prepare actual class grid data\n",
    "actual_grid_data = np.full((side_length, side_length), np.nan)\n",
    "actual_grid_data.flat[:num_samples] = actual_classes\n",
    "\n",
    "# Prepare predicted probabilities grid data\n",
    "active_probabilities = probabilities_np[1, :]  # Active class probabilities\n",
    "prediction_grid_data = np.full((side_length, side_length), np.nan)\n",
    "prediction_grid_data.flat[:num_samples] = active_probabilities\n",
    "\n",
    "# Plotting both grids side by side\n",
    "fig, axs = plt.subplots(1, 2, figsize=(16, 8), gridspec_kw={'width_ratios': [1, 1]})\n",
    "\n",
    "# Plot actual class grid\n",
    "im0 = axs[0].imshow(actual_grid_data, cmap='RdYlGn', origin='lower', aspect='equal')\n",
    "fig.colorbar(im0, ax=axs[0], ticks=[0, 1], label='Actual Class')\n",
    "axs[0].set_title('Actual Class Grid')\n",
    "axs[0].axis('off')\n",
    "\n",
    "# Plot prediction probabilities grid\n",
    "im1 = axs[1].imshow(prediction_grid_data, cmap='RdYlGn', origin='lower', aspect='equal')\n",
    "fig.colorbar(im1, ax=axs[1], label='Probability of Active Class')\n",
    "axs[1].set_title('Prediction Probabilities Grid')\n",
    "axs[1].axis('off')\n",
    "\n",
    "plt.show()"
   ]
  },
  {
   "cell_type": "code",
   "execution_count": null,
   "id": "c6106ea2-ec53-4c37-b222-a512cf50ea09",
   "metadata": {},
   "outputs": [],
   "source": []
  }
 ],
 "metadata": {
  "kernelspec": {
   "display_name": "Python (atom2024)",
   "language": "python",
   "name": "atom2024"
  },
  "language_info": {
   "codemirror_mode": {
    "name": "ipython",
    "version": 3
   },
   "file_extension": ".py",
   "mimetype": "text/x-python",
   "name": "python",
   "nbconvert_exporter": "python",
   "pygments_lexer": "ipython3",
   "version": "3.9.12"
  }
 },
 "nbformat": 4,
 "nbformat_minor": 5
}
