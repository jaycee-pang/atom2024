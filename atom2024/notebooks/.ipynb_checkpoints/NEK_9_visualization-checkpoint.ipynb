{
 "cells": [
  {
   "cell_type": "markdown",
   "id": "7fbd813e-8f94-4f84-8077-87c8e2ffa6a0",
   "metadata": {},
   "source": [
    "# Better Visualization of NEK 9 Dataset\n",
    "## Chongye Feng"
   ]
  },
  {
   "cell_type": "markdown",
   "id": "a6313676-e810-42da-b3ad-9f15dc1c7931",
   "metadata": {},
   "source": [
    "-------\n",
    "### Importing Necessary Libraries"
   ]
  },
  {
   "cell_type": "code",
   "execution_count": 1,
   "id": "b069a673-e19d-4951-b5e9-312cfab30c57",
   "metadata": {},
   "outputs": [
    {
     "name": "stdout",
     "output_type": "stream",
     "text": [
      "imblearn version:  0.11.0\n"
     ]
    }
   ],
   "source": [
    "# Basic libraries for data manipulation and mathematical operations\n",
    "import math\n",
    "import numpy as np\n",
    "import pandas as pd\n",
    "import torch\n",
    "\n",
    "from gpytorch.models import ExactGP\n",
    "from gpytorch.likelihoods import DirichletClassificationLikelihood\n",
    "from gpytorch.means import ConstantMean\n",
    "from gpytorch.kernels import ScaleKernel, RBFKernel\n",
    "from sklearn.metrics import confusion_matrix, accuracy_score, precision_score, recall_score, f1_score\n",
    "\n",
    "# Machine Learning and Data Preprocessing\n",
    "import sklearn\n",
    "from sklearn.decomposition import PCA\n",
    "from sklearn.preprocessing import StandardScaler\n",
    "from sklearn.model_selection import KFold\n",
    "from sklearn.metrics import confusion_matrix, accuracy_score, precision_score, f1_score, roc_auc_score, roc_curve, precision_recall_curve\n",
    "\n",
    "# Handling imbalanced datasets\n",
    "import imblearn\n",
    "from imblearn.over_sampling import SMOTE\n",
    "print(\"imblearn version: \", imblearn.__version__)\n",
    "\n",
    "# Visualization libraries\n",
    "import seaborn as sns\n",
    "import matplotlib \n",
    "matplotlib.use('Agg')  # Necessary for environments without a display (e.g., server)\n",
    "from matplotlib import pyplot as plt\n",
    "%matplotlib inline\n",
    "\n",
    "# Gaussian Process for Machine Learning (GPML)\n",
    "import gpytorch\n",
    "from gpytorch.models import ExactGP\n",
    "from gpytorch.likelihoods import DirichletClassificationLikelihood\n",
    "from gpytorch.means import ConstantMean\n",
    "from gpytorch.kernels import ScaleKernel, RBFKernel\n",
    "\n",
    "# Dimensionality Reduction for Visualization\n",
    "from sklearn.manifold import TSNE\n",
    "\n",
    "# Miscellaneous\n",
    "import os\n",
    "\n",
    "# Jupyter Notebook specific commands for autoreloading modules\n",
    "%load_ext autoreload\n",
    "%autoreload 2"
   ]
  },
  {
   "cell_type": "markdown",
   "id": "44edf7e7-cc3f-4161-8d31-d0b727d78589",
   "metadata": {},
   "source": [
    "------\n",
    "\n",
    "### Some Functions for Visualization"
   ]
  },
  {
   "cell_type": "code",
   "execution_count": 2,
   "id": "d06cf4d3-2c45-44a0-a7eb-742e9b13ff97",
   "metadata": {},
   "outputs": [],
   "source": [
    "from VisUtils import plot_confusion_matrix, plot_heatmap, plot_tsne, plot_hist, plot_hist_tp_tn, plot_cm_dist, plot_cm_dist_kde, plot_class_and_probability_grids, plot_kde, look_at_data"
   ]
  },
  {
   "cell_type": "markdown",
   "id": "50946795-59ef-49d5-b6a4-6628e2d0daf6",
   "metadata": {},
   "source": [
    "------\n",
    "### Inquiring Data"
   ]
  },
  {
   "cell_type": "code",
   "execution_count": 3,
   "id": "53ea9665-0315-4135-a734-f21af9a50d6b",
   "metadata": {},
   "outputs": [
    {
     "name": "stdout",
     "output_type": "stream",
     "text": [
      "Dataset shape: (1409, 310)\n",
      "active\n",
      "0    1348\n",
      "1      61\n",
      "Name: count, dtype: int64\n",
      "['fold4' 'fold1' 'fold2' 'fold3' 'fold5']\n",
      "\n",
      "Difference in class sample sizes:  1287\n",
      "Number of minority samples:  61\n",
      "active/inactive: active\n",
      "0    1348\n",
      "1      61\n",
      "Name: count, dtype: int64\n",
      "active/inactive: active\n",
      "0    1348\n",
      "1      61\n",
      "Name: count, dtype: int64\n",
      "fold   active\n",
      "fold1  0         270\n",
      "       1          13\n",
      "fold2  0         270\n",
      "       1          12\n",
      "fold3  0         270\n",
      "       1          12\n",
      "fold4  0         269\n",
      "       1          12\n",
      "fold5  0         269\n",
      "       1          12\n",
      "Name: count, dtype: int64\n"
     ]
    }
   ],
   "source": [
    "dataset_path = '../../../data/NEK_data_4Berkeley/NEK9/'\n",
    "nek9_binding_path = 'NEK9_1_uM_min_50_pct_binding_5fold_random_imbalanced.csv'\n",
    "nek9_inhibition_path = 'NEK9_1_uM_min_50_pct_inhibition_5fold_random_imbalanced.csv'\n",
    "\n",
    "nek9_binding_df = look_at_data(dataset_path+nek9_binding_path)"
   ]
  },
  {
   "cell_type": "code",
   "execution_count": 4,
   "id": "12859afc-ba25-44b7-9b7b-5b4c6dbb302d",
   "metadata": {},
   "outputs": [
    {
     "name": "stdout",
     "output_type": "stream",
     "text": [
      "Dataset shape: (393, 310)\n",
      "active\n",
      "0    351\n",
      "1     42\n",
      "Name: count, dtype: int64\n",
      "['fold4' 'fold2' 'fold3' 'fold1' 'fold5']\n",
      "\n",
      "Difference in class sample sizes:  309\n",
      "Number of minority samples:  42\n",
      "active/inactive: active\n",
      "0    351\n",
      "1     42\n",
      "Name: count, dtype: int64\n",
      "active/inactive: active\n",
      "0    351\n",
      "1     42\n",
      "Name: count, dtype: int64\n",
      "fold   active\n",
      "fold1  0         71\n",
      "       1          9\n",
      "fold2  0         70\n",
      "       1          9\n",
      "fold3  0         70\n",
      "       1          8\n",
      "fold4  0         70\n",
      "       1          8\n",
      "fold5  0         70\n",
      "       1          8\n",
      "Name: count, dtype: int64\n"
     ]
    }
   ],
   "source": [
    "nek9_inhibition_df = look_at_data(dataset_path+nek9_inhibition_path)"
   ]
  },
  {
   "cell_type": "markdown",
   "id": "1c7568f7-17e0-484f-8d41-73740339885c",
   "metadata": {},
   "source": [
    "------\n",
    "### Treat Data with SMOTE"
   ]
  },
  {
   "cell_type": "markdown",
   "id": "dcb8329e-4ff7-4d11-8476-89a69d4b46d6",
   "metadata": {},
   "source": [
    "Inhibition"
   ]
  },
  {
   "cell_type": "code",
   "execution_count": 5,
   "id": "cc13da1e-ba61-4a70-abe1-36575c19f692",
   "metadata": {},
   "outputs": [],
   "source": [
    "def load_and_preprocess_data(split_path, fold_number, BorI, set_number):\n",
    "    \"\"\"\n",
    "    Load and preprocess data for the NEK dataset.\n",
    "\n",
    "    Parameters:\n",
    "    - split_path: The base path to the dataset.\n",
    "    - fold_number: The fold number for cross-validation.\n",
    "    - BorI: A string to choose between \"binding\" or \"inhibition\".\n",
    "    - set_number: The NEK set number to be used.\n",
    "\n",
    "    Returns:\n",
    "    - Train and test datasets as PyTorch tensors.\n",
    "    \"\"\"\n",
    "    # Adjust file paths based on BorI and set_number\n",
    "    file_prefix = f\"NEK{set_number}_{BorI}_random_fold{fold_number}\"\n",
    "    \n",
    "    # Load data\n",
    "    train_x_df = pd.read_csv(f\"{split_path}/{file_prefix}_trainX.csv\")\n",
    "    train_y_df = pd.read_csv(f\"{split_path}/{file_prefix}_trainY.csv\")\n",
    "    test_x_df = pd.read_csv(f\"{split_path}/{file_prefix}_testX.csv\")\n",
    "    test_y_df = pd.read_csv(f\"{split_path}/{file_prefix}_testY.csv\")\n",
    "    \n",
    "    # Apply SMOTE to balance training data\n",
    "    oversample = SMOTE()\n",
    "    train_x_balanced, train_y_balanced = oversample.fit_resample(train_x_df, train_y_df)\n",
    "    \n",
    "    # Scale data\n",
    "    scaler = StandardScaler()\n",
    "    scaler.fit(pd.concat([train_x_balanced, test_x_df]))  # Fit on the combined train and test set for consistency\n",
    "    train_x_scaled = scaler.transform(train_x_balanced)\n",
    "    test_x_scaled = scaler.transform(test_x_df)\n",
    "    \n",
    "    # Convert to PyTorch tensors\n",
    "    train_x_tensor = torch.tensor(train_x_scaled, dtype=torch.float32)\n",
    "    train_y_tensor = torch.tensor(train_y_balanced.values.flatten(), dtype=torch.long)\n",
    "    test_x_tensor = torch.tensor(test_x_scaled, dtype=torch.float32)\n",
    "    test_y_tensor = torch.tensor(test_y_df.values.flatten(), dtype=torch.long)\n",
    "    \n",
    "    return train_x_tensor, train_y_tensor, test_x_tensor, test_y_tensor"
   ]
  },
  {
   "cell_type": "code",
   "execution_count": 6,
   "id": "26daf877-29f5-4ba0-97a4-49e4b6d2248d",
   "metadata": {},
   "outputs": [],
   "source": [
    "uq_path = '../../../data/NEK_data_4Berkeley/NEK9/'\n",
    "train_x, train_y, test_x, test_y = load_and_preprocess_data(dataset_path, 1, \"inhibition\", 9)"
   ]
  },
  {
   "cell_type": "markdown",
   "id": "e8a13cc3-0543-43aa-b43f-58efad2cb170",
   "metadata": {},
   "source": [
    "We train the model"
   ]
  },
  {
   "cell_type": "code",
   "execution_count": 26,
   "id": "32e0248b-9e93-458f-bf5c-34caa32fae14",
   "metadata": {},
   "outputs": [],
   "source": [
    "class DirichletGPModel(ExactGP):\n",
    "    def __init__(self, train_x, train_y, likelihood, num_classes):\n",
    "        super(DirichletGPModel, self).__init__(train_x, train_y, likelihood)\n",
    "        self.mean_module = ConstantMean(batch_shape=torch.Size((num_classes,)))\n",
    "        self.covar_module = ScaleKernel(\n",
    "            RBFKernel(batch_shape=torch.Size((num_classes,))),\n",
    "            batch_shape=torch.Size((num_classes,)),\n",
    "        )\n",
    "\n",
    "    def forward(self, x):\n",
    "        mean_x = self.mean_module(x)\n",
    "        covar_x = self.covar_module(x)\n",
    "        return gpytorch.distributions.MultivariateNormal(mean_x, covar_x)\n",
    "\n",
    "class Trainer:\n",
    "    \"\"\"\n",
    "    Trainer class for Gaussian Process models using GPyTorch.\n",
    "\n",
    "    Attributes:\n",
    "        model (gpytorch.models.ExactGP): The GP model to be trained.\n",
    "        likelihood (gpytorch.likelihoods.Likelihood): The likelihood used with the GP model.\n",
    "        n_iterations (int): Number of training iterations.\n",
    "        optimizer (torch.optim.Optimizer): Optimizer used for training.\n",
    "        loss_fn (gpytorch.mlls.ExactMarginalLogLikelihood): Loss function for GP model training.\n",
    "    \"\"\"\n",
    "\n",
    "    def __init__(self, model, likelihood, iterations):\n",
    "        \"\"\"\n",
    "        Initializes the Trainer with a model, likelihood, and training iterations.\n",
    "\n",
    "        Args:\n",
    "            model (gpytorch.models.ExactGP): GP model to train.\n",
    "            likelihood (gpytorch.likelihoods.Likelihood): Likelihood for the GP model.\n",
    "            iterations (int): Number of iterations to train.\n",
    "        \"\"\"\n",
    "        self.model = model\n",
    "        self.likelihood = likelihood\n",
    "        self.n_iterations = iterations if 'CI' not in os.environ else 2\n",
    "        self.optimizer = torch.optim.Adam(model.parameters(), lr=0.1)\n",
    "        self.loss_fn = gpytorch.mlls.ExactMarginalLogLikelihood(likelihood, model)\n",
    "\n",
    "    def train(self, train_x, train_y):\n",
    "        \"\"\"\n",
    "        Trains the GP model.\n",
    "\n",
    "        Args:\n",
    "            train_x (torch.Tensor): Training data features.\n",
    "            train_y (torch.Tensor): Training data labels.\n",
    "        \"\"\"\n",
    "        self.model.train()\n",
    "        self.likelihood.train()\n",
    "\n",
    "        for i in range(self.n_iterations):\n",
    "            self.optimizer.zero_grad()\n",
    "            output = self.model(train_x)\n",
    "            loss = -self.loss_fn(output, train_y).sum()\n",
    "            loss.backward()\n",
    "            if i % 10 == 0:\n",
    "                print('Iter %d/%d - Loss: %.3f   lengthscale: %.3f   noise: %.3f' % (\n",
    "                    i + 1, training_iter, loss_1.item(),\n",
    "                    model_1.covar_module.base_kernel.lengthscale.mean().item(),\n",
    "                    model_1.likelihood.second_noise_covar.noise.mean().item()\n",
    "                ))\n",
    "            self.optimizer.step()\n",
    "\n",
    "    def predict(self, input):\n",
    "        \"\"\"\n",
    "        Predicts using the trained GP model and returns detailed prediction information.\n",
    "\n",
    "        Args:\n",
    "            input (torch.Tensor): Input features for prediction.\n",
    "\n",
    "        Returns:\n",
    "            dist (gpytorch.distributions.MultivariateNormal): Distribution of the predictions.\n",
    "            observed_pred (gpytorch.distributions.MultitaskMultivariateNormal or similar): Output after applying the likelihood.\n",
    "            pred_means (torch.Tensor): Mean values of the predictions.\n",
    "            class_pred (np.array): Final classified predictions as numpy array, based on the sign of the mean.\n",
    "        \"\"\"\n",
    "        self.model.eval()\n",
    "        self.likelihood.eval()\n",
    "\n",
    "        with gpytorch.settings.fast_pred_var(), torch.no_grad():\n",
    "            dist = self.model(input)     # get predicted distributions \n",
    "            pred_means = dist.mean          # extract means for predicted dist\n",
    "            observed_pred = self.likelihood(self.model(input))    # likelihood predictions \n",
    "            class_pred = self.model(input).mean.max(0)[1].numpy() \n",
    "        return dist, observed_pred, pred_means,class_pred\n",
    "\n",
    "    def evaluate(self, x_input, y_true, class_names, plot_name):\n",
    "        \"\"\"\n",
    "        Evaluates the model on a given dataset and plots a confusion matrix.\n",
    "\n",
    "        Args:\n",
    "            x_input (torch.Tensor): Input features for evaluation.\n",
    "            y_true (np.array): True labels.\n",
    "            class_names (list): List of class names for the confusion matrix.\n",
    "            plot_name (str): Title for the confusion matrix plot.\n",
    "\n",
    "        Returns:\n",
    "            np.array: Predicted labels.\n",
    "        \"\"\"\n",
    "        _,_,_, y_pred = self.predict(x_input)\n",
    "        cm = confusion_matrix(y_true, y_pred)\n",
    "        plt.figure(figsize=(5, 5))\n",
    "        plt.title(plot_name, fontsize=20)\n",
    "        sns.heatmap(cm, annot=True, fmt='d', cmap='Blues', xticklabels=class_names, yticklabels=class_names)\n",
    "        plt.xlabel(\"Predicted\", fontsize=18)\n",
    "        plt.ylabel(\"Actual\", fontsize=18)\n",
    "        plt.show()\n",
    "        return y_pred\n",
    "\n",
    "    def get_metrics(self, x, y_true):\n",
    "        \"\"\"\n",
    "        Computes accuracy, precision, recall, and F1 score for the model.\n",
    "\n",
    "        Args:\n",
    "            x (torch.Tensor): Input features.\n",
    "            y_true (np.array): True labels.\n",
    "\n",
    "        Returns:\n",
    "            tuple: Tuple containing accuracy, precision, F1 score, and recall.\n",
    "        \"\"\"\n",
    "        _, _, _, y_pred = self.predict(x)  # Only interested in the final classified predictions here\n",
    "    \n",
    "        # Convert y_true to numpy if it's a torch.Tensor\n",
    "        if isinstance(y_true, torch.Tensor):\n",
    "            y_true = y_true.numpy()\n",
    "            \n",
    "        accuracy = accuracy_score(y_true, y_pred)\n",
    "        precision = precision_score(y_true, y_pred, average='weighted')\n",
    "        recall = recall_score(y_true, y_pred, average='weighted')\n",
    "        f1 = f1_score(y_true, y_pred, average='weighted')\n",
    "\n",
    "        return accuracy, precision, f1, recall"
   ]
  },
  {
   "cell_type": "code",
   "execution_count": 29,
   "id": "6673b809-88a9-4012-a8a2-78460f04239c",
   "metadata": {},
   "outputs": [
    {
     "name": "stdout",
     "output_type": "stream",
     "text": [
      "Iter 1/300 - Loss: 3.249\n",
      "Iter 11/300 - Loss: 2.877\n",
      "Iter 21/300 - Loss: 2.691\n",
      "Iter 31/300 - Loss: 2.602\n",
      "Iter 41/300 - Loss: 2.563\n",
      "Iter 51/300 - Loss: 2.544\n",
      "Iter 61/300 - Loss: 2.534\n",
      "Iter 71/300 - Loss: 2.528\n",
      "Iter 81/300 - Loss: 2.524\n",
      "Iter 91/300 - Loss: 2.521\n",
      "Iter 101/300 - Loss: 2.520\n",
      "Iter 111/300 - Loss: 2.518\n",
      "Iter 121/300 - Loss: 2.517\n",
      "Iter 131/300 - Loss: 2.516\n",
      "Iter 141/300 - Loss: 2.515\n",
      "Iter 151/300 - Loss: 2.515\n",
      "Iter 161/300 - Loss: 2.514\n",
      "Iter 171/300 - Loss: 2.514\n",
      "Iter 181/300 - Loss: 2.513\n",
      "Iter 191/300 - Loss: 2.513\n",
      "Iter 201/300 - Loss: 2.513\n",
      "Iter 211/300 - Loss: 2.513\n",
      "Iter 221/300 - Loss: 2.512\n",
      "Iter 231/300 - Loss: 2.512\n",
      "Iter 241/300 - Loss: 2.512\n",
      "Iter 251/300 - Loss: 2.512\n",
      "Iter 261/300 - Loss: 2.512\n",
      "Iter 271/300 - Loss: 2.511\n",
      "Iter 281/300 - Loss: 2.511\n",
      "Iter 291/300 - Loss: 2.511\n"
     ]
    }
   ],
   "source": [
    "likelihood1 = DirichletClassificationLikelihood(train_y, learn_additional_noise=True)\n",
    "model1 = DirichletGPModel(train_x, train_y, likelihood1, num_classes=likelihood1.num_classes)\n",
    "n_iterations = 300\n",
    "trainer1 = Trainer(model1, likelihood1, n_iterations)\n",
    "trainer1.train(train_x, train_y) "
   ]
  },
  {
   "cell_type": "code",
   "execution_count": 30,
   "id": "5ae600d7-7b30-4eda-b7e6-88c8cedf9b44",
   "metadata": {},
   "outputs": [
    {
     "name": "stdout",
     "output_type": "stream",
     "text": [
      "train predictions: [1 1 1 1 1 1 1 1 1 1 1 1 1 1 1 1 1 1 1 1 1 1 1 1 1 1 1 1 1 1 1 1 1 1 1 1 1\n",
      " 1 1 1 1 1 1 1 1 1 1 1 1 1 1 1 1 1 1 1 1 1 1 1 1 1 1 1 1 1 1 1 1 1 1 1 1 1\n",
      " 1 1 1 1 1 1 1 1 1 1 1 1 1 1 1 1 1 1 1 1 1 1 1 1 1 1 1 1 1 1 1 1 1 1 1 1 1\n",
      " 1 1 1 1 1 1 1 1 1 1 1 1 1 1 1 1 1 1 1 1 1 1 1 1 1 1 1 1 1 1 1 1 1 1 1 1 1\n",
      " 1 1 1 1 1 1 1 1 1 1 1 1 1 1 1 1 1 1 1 1 1 1 1 1 1 1 1 1 1 1 1 1 1 1 1 1 1\n",
      " 1 1 1 1 1 1 1 1 1 1 1 1 1 1 1 1 1 1 1 1 1 1 1 1 1 1 1 1 1 1 1 1 1 1 1 1 1\n",
      " 1 1 1 1 1 1 1 1 1 1 1 1 1 1 1 1 1 1 1 1 1 1 1 1 1 1 1 1 1 1 1 1 1 1 1 1 1\n",
      " 1 1 1 1 1 1 1 1 1 1 1 1 1 1 1 1 1 1 1 1 1 1 1 1 1 1 1 1 1 1 1 1 1 1 1 1 1\n",
      " 1 1 1 1 1 1 1 1 1 1 1 1 1 1 1 1 1 1 1 1 1 1 1 1 1 1 1 1 1 1 1 1 1 1 1 1 1\n",
      " 1 1 1 1 1 1 1 1 1 1 1 1 1 1 1 1 1 1 1 1 1 1 1 1 1 1 1 1 1 1 1 1 1 1 1 1 1\n",
      " 1 1 1 1 1 1 1 1 1 1 1 1 1 1 1 1 1 1 1 1 1 1 1 1 1 1 1 1 1 1 1 1 1 1 1 1 1\n",
      " 1 1 1 1 1 1 1 1 1 1 1 1 1 1 1 1 1 1 1 1 1 1 1 1 1 1 1 1 1 1 1 1 1 1 1 1 1\n",
      " 1 1 1 1 1 1 1 1 1 1 1 1 1 1 1 1 1 1 1 1 1 1 1 1 1 1 1 1 1 1 1 1 1 1 1 1 1\n",
      " 1 1 1 1 1 1 1 1 1 1 1 1 1 1 1 1 1 1 1 1 1 1 1 1 1 1 1 1 1 1 1 1 1 1 1 1 1\n",
      " 1 1 1 1 1 1 1 1 1 1 1 1 1 1 1 1 1 1 1 1 1 1 1 1 1 1 1 1 1 1 1 1 1 1 1 1 1\n",
      " 1 1 1 1 1]\n",
      "train prediction means: tensor([[0.1599, 0.1152, 0.1173,  ..., 0.1599, 0.2271, 0.2403],\n",
      "        [0.8631, 0.8630, 0.8628,  ..., 0.8659, 0.8695, 0.8711]])\n",
      "torch.Size([2, 560])\n",
      "accuracy: 0.5, precision: 0.25, f1: 0.3333333333333333, recall: 0.5\n"
     ]
    },
    {
     "name": "stderr",
     "output_type": "stream",
     "text": [
      "/home/chongyef/miniconda3/envs/atom2024/lib/python3.9/site-packages/gpytorch/models/exact_gp.py:284: GPInputWarning: The input matches the stored training data. Did you forget to call model.train()?\n",
      "  warnings.warn(\n",
      "/home/chongyef/miniconda3/envs/atom2024/lib/python3.9/site-packages/sklearn/metrics/_classification.py:1469: UndefinedMetricWarning: Precision is ill-defined and being set to 0.0 in labels with no predicted samples. Use `zero_division` parameter to control this behavior.\n",
      "  _warn_prf(average, modifier, msg_start, len(result))\n"
     ]
    }
   ],
   "source": [
    "# get predictions of train x input\n",
    "train_dist, train_observed_pred, train_pred_means, train_pred  = trainer1.predict(train_x)\n",
    "# print(f'pred means shape: {train_pred_means.numpy().shape}')\n",
    "print(f'train predictions: {train_pred}')\n",
    "print(f'train prediction means: {train_pred_means}')\n",
    "\n",
    "print(train_pred_means.shape)\n",
    "train_accuracy, train_precision, train_f1, train_recall = trainer1.get_metrics(train_x, train_y)\n",
    "print(f'accuracy: {train_accuracy}, precision: {train_precision}, f1: {train_f1}, recall: {train_recall}')"
   ]
  },
  {
   "cell_type": "code",
   "execution_count": 33,
   "id": "566ad53a-37a3-4188-a811-dab5cedb2713",
   "metadata": {},
   "outputs": [
    {
     "data": {
      "text/plain": [
       "torch.Size([2, 560])"
      ]
     },
     "execution_count": 33,
     "metadata": {},
     "output_type": "execute_result"
    }
   ],
   "source": [
    "train_pred_means.shape"
   ]
  },
  {
   "cell_type": "code",
   "execution_count": 25,
   "id": "bba184ef-62fb-496f-bf9a-34e68e28282a",
   "metadata": {
    "scrolled": true
   },
   "outputs": [
    {
     "data": {
      "image/png": "[encoded data removed]",
      "text/plain": [
       "<Figure size 1000x700 with 2 Axes>"
      ]
     },
     "metadata": {},
     "output_type": "display_data"
    }
   ],
   "source": [
    "import numpy as np\n",
    "import matplotlib.pyplot as plt\n",
    "from sklearn.metrics import confusion_matrix\n",
    "import seaborn as sns\n",
    "\n",
    "# Assuming y_true are your true labels and y_pred are your predicted labels\n",
    "y_true = train_y\n",
    "y_pred = train_pred\n",
    "\n",
    "# Calculate confusion matrix\n",
    "cm = confusion_matrix(y_true, y_pred)\n",
    "\n",
    "# Plotting using seaborn\n",
    "plt.figure(figsize=(10, 7))\n",
    "sns.heatmap(cm, annot=True, fmt=\"d\", cmap=\"Blues\", xticklabels=[\"Negative\", \"Positive\"], yticklabels=[\"Negative\", \"Positive\"])\n",
    "plt.title('Confusion Matrix')\n",
    "plt.ylabel('Actual Values')\n",
    "plt.xlabel('Predicted Values')\n",
    "plt.show()"
   ]
  },
  {
   "cell_type": "code",
   "execution_count": null,
   "id": "0ea2f0e0-dddf-481e-b939-6fc431cb3c30",
   "metadata": {},
   "outputs": [],
   "source": [
    "plot_confusion_matrix(y_true, y_pred, [\"0\", \"1\"])"
   ]
  },
  {
   "cell_type": "code",
   "execution_count": null,
   "id": "2bc74bef-b022-4e04-b682-274f5e600235",
   "metadata": {},
   "outputs": [],
   "source": []
  }
 ],
 "metadata": {
  "kernelspec": {
   "display_name": "Python (atom2024)",
   "language": "python",
   "name": "atom2024"
  },
  "language_info": {
   "codemirror_mode": {
    "name": "ipython",
    "version": 3
   },
   "file_extension": ".py",
   "mimetype": "text/x-python",
   "name": "python",
   "nbconvert_exporter": "python",
   "pygments_lexer": "ipython3",
   "version": "3.9.12"
  }
 },
 "nbformat": 4,
 "nbformat_minor": 5
}
