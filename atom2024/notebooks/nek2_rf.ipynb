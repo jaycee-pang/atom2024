{
 "cells": [
  {
   "cell_type": "code",
   "execution_count": 3,
   "metadata": {},
   "outputs": [
    {
     "name": "stdout",
     "output_type": "stream",
     "text": [
      "The autoreload extension is already loaded. To reload it, use:\n",
      "  %reload_ext autoreload\n",
      "imblearn version:  0.12.0\n"
     ]
    },
    {
     "ename": "ModuleNotFoundError",
     "evalue": "No module named 'atom2024'",
     "output_type": "error",
     "traceback": [
      "\u001b[0;31m---------------------------------------------------------------------------\u001b[0m",
      "\u001b[0;31mModuleNotFoundError\u001b[0m                       Traceback (most recent call last)",
      "Cell \u001b[0;32mIn[3], line 34\u001b[0m\n\u001b[1;32m     32\u001b[0m \u001b[38;5;28;01mfrom\u001b[39;00m \u001b[38;5;21;01msklearn\u001b[39;00m\u001b[38;5;21;01m.\u001b[39;00m\u001b[38;5;21;01mensemble\u001b[39;00m \u001b[38;5;28;01mimport\u001b[39;00m RandomForestClassifier\n\u001b[1;32m     33\u001b[0m \u001b[38;5;28;01mfrom\u001b[39;00m \u001b[38;5;21;01mrdkit\u001b[39;00m \u001b[38;5;28;01mimport\u001b[39;00m Chem\n\u001b[0;32m---> 34\u001b[0m \u001b[38;5;28;01mfrom\u001b[39;00m \u001b[38;5;21;01matom2024\u001b[39;00m \u001b[38;5;28;01mimport\u001b[39;00m utils\n",
      "\u001b[0;31mModuleNotFoundError\u001b[0m: No module named 'atom2024'"
     ]
    }
   ],
   "source": [
    "import math\n",
    "import torch\n",
    "import numpy as np\n",
    "import gpytorch\n",
    "import pandas as pd\n",
    "import seaborn as sns\n",
    "import os\n",
    "import matplotlib \n",
    "matplotlib.use('Agg')\n",
    "from matplotlib import pyplot as plt\n",
    "import sklearn\n",
    "from sklearn.model_selection import KFold\n",
    "\n",
    "%matplotlib inline\n",
    "%load_ext autoreload\n",
    "%autoreload 2\n",
    "\n",
    "import imblearn\n",
    "print(\"imblearn version: \",imblearn.__version__)\n",
    "from imblearn.over_sampling import SMOTE\n",
    "\n",
    "from sklearn.decomposition import PCA\n",
    "from sklearn.preprocessing import StandardScaler\n",
    "\n",
    "\n",
    "from sklearn.metrics import confusion_matrix\n",
    "import itertools\n",
    "\n",
    "\n",
    "from sklearn.metrics import accuracy_score, precision_score, f1_score, roc_auc_score, roc_curve, precision_recall_curve, auc, recall_score\n",
    "\n",
    "from sklearn.ensemble import RandomForestClassifier\n",
    "from rdkit import Chem\n",
    "import sys\n",
    "sys.path.append('../')\n",
    "from atom2024 import utils"
   ]
  },
  {
   "cell_type": "code",
   "execution_count": 2,
   "metadata": {},
   "outputs": [],
   "source": [
    "# from sklearn 0.19.2 documentation:\n",
    "def plot_confusion_matrix(cm, classes,\n",
    "                          normalize=False,\n",
    "                          cmap=plt.cm.Blues):\n",
    "    \"\"\"\n",
    "    This function prints and plots the confusion matrix.\n",
    "    Normalization can be applied by setting `normalize=True`.\n",
    "    \"\"\"\n",
    "    if normalize:\n",
    "        cm = cm.astype('float') / cm.sum(axis=1)[:, np.newaxis]\n",
    "        print(\"Normalized confusion matrix\")\n",
    "    else:\n",
    "        print('Confusion matrix, without normalization')\n",
    "    print(cm)\n",
    "    plt.imshow(cm, interpolation='nearest', cmap=cmap)\n",
    "    plt.colorbar(shrink=0.7)\n",
    "    tick_marks = np.arange(len(classes))\n",
    "    plt.xticks(tick_marks, classes, rotation=45)\n",
    "    plt.yticks(tick_marks, classes)\n",
    "\n",
    "    fmt = '.2f' if normalize else 'd'\n",
    "    thresh = cm.max() / 2.\n",
    "    for i, j in itertools.product(range(cm.shape[0]), range(cm.shape[1])):\n",
    "        plt.text(j, i, format(cm[i, j], fmt),\n",
    "                 horizontalalignment=\"center\",\n",
    "                 color=\"white\" if cm[i, j] > thresh else \"black\")\n",
    "    plt.tight_layout()\n",
    "    plt.ylabel('True label')\n",
    "    plt.xlabel('Predicted label')"
   ]
  },
  {
   "cell_type": "code",
   "execution_count": 4,
   "metadata": {},
   "outputs": [],
   "source": [
    "split_path = '../../../data/NEK_data_4Berkeley/NEK2/'\n",
    "file = 'NEK2_1_uM_min_50_pct_binding_5fold_random_imbalanced.csv'\n",
    "all_fold_df = pd.read_csv(split_path+file)"
   ]
  },
  {
   "cell_type": "code",
   "execution_count": 7,
   "metadata": {},
   "outputs": [
    {
     "ename": "NameError",
     "evalue": "name 'utils' is not defined",
     "output_type": "error",
     "traceback": [
      "\u001b[0;31m---------------------------------------------------------------------------\u001b[0m",
      "\u001b[0;31mNameError\u001b[0m                                 Traceback (most recent call last)",
      "Cell \u001b[0;32mIn[7], line 10\u001b[0m\n\u001b[1;32m      8\u001b[0m         m\u001b[38;5;241m.\u001b[39mSetProp(\u001b[38;5;124m\"\u001b[39m\u001b[38;5;124m_Name\u001b[39m\u001b[38;5;124m\"\u001b[39m, smile_prop_train\u001b[38;5;241m.\u001b[39mloc[i, \u001b[38;5;124m'\u001b[39m\u001b[38;5;124mcompound_id\u001b[39m\u001b[38;5;124m'\u001b[39m])\n\u001b[1;32m      9\u001b[0m         m\u001b[38;5;241m.\u001b[39mSetProp(\u001b[38;5;124m\"\u001b[39m\u001b[38;5;124mActive\u001b[39m\u001b[38;5;124m\"\u001b[39m, \u001b[38;5;28mstr\u001b[39m(smile_prop_train\u001b[38;5;241m.\u001b[39mloc[i, \u001b[38;5;124m'\u001b[39m\u001b[38;5;124mactive\u001b[39m\u001b[38;5;124m'\u001b[39m]))\n\u001b[0;32m---> 10\u001b[0m         mol_train\u001b[38;5;241m.\u001b[39mappend(\u001b[43mutils\u001b[49m\u001b[38;5;241m.\u001b[39mnormalize(m))\n\u001b[1;32m     12\u001b[0m mol_test \u001b[38;5;241m=\u001b[39m []\n\u001b[1;32m     13\u001b[0m \u001b[38;5;28;01mfor\u001b[39;00m i \u001b[38;5;129;01min\u001b[39;00m smile_prop_test\u001b[38;5;241m.\u001b[39mindex:\n",
      "\u001b[0;31mNameError\u001b[0m: name 'utils' is not defined"
     ]
    }
   ],
   "source": [
    "\n",
    "smile_prop_train = all_fold_df[all_fold_df['fold'] != 'fold5'].drop(columns=['fold'])\n",
    "smile_prop_test = all_fold_df[all_fold_df['fold'] == 'fold5'].drop(columns=['fold'])\n",
    "\n",
    "mol_train = []\n",
    "for i in smile_prop_train.index:\n",
    "    m = Chem.MolFromSmiles(smile_prop_train.loc[i, 'base_rdkit_smiles'])\n",
    "    if m:\n",
    "        m.SetProp(\"_Name\", smile_prop_train.loc[i, 'compound_id'])\n",
    "        m.SetProp(\"Active\", str(smile_prop_train.loc[i, 'active']))\n",
    "        mol_train.append(utils.normalize(m))\n",
    "\n",
    "mol_test = []\n",
    "for i in smile_prop_test.index:\n",
    "    m = Chem.MolFromSmiles(smile_prop_test.loc[i, 'base_rdkit_smiles'])\n",
    "    if m:\n",
    "        m.SetProp(\"_Name\", smile_prop_test.loc[i, 'compound_id'])\n",
    "        m.SetProp(\"Active\", str(smile_prop_test.loc[i, 'active']))\n",
    "        mol_test.append(utils.normalize(m))\n"
   ]
  },
  {
   "cell_type": "code",
   "execution_count": null,
   "metadata": {},
   "outputs": [],
   "source": []
  }
 ],
 "metadata": {
  "kernelspec": {
   "display_name": "atom2024",
   "language": "python",
   "name": "atom2024"
  },
  "language_info": {
   "codemirror_mode": {
    "name": "ipython",
    "version": 3
   },
   "file_extension": ".py",
   "mimetype": "text/x-python",
   "name": "python",
   "nbconvert_exporter": "python",
   "pygments_lexer": "ipython3",
   "version": "3.9.12"
  }
 },
 "nbformat": 4,
 "nbformat_minor": 2
}
