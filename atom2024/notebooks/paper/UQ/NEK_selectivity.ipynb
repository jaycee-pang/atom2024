{
 "cells": [
  {
   "cell_type": "code",
   "execution_count": 1,
   "id": "be212970-9729-4973-a0e9-9147882f89e5",
   "metadata": {},
   "outputs": [],
   "source": [
    "import pyforest"
   ]
  },
  {
   "cell_type": "code",
   "execution_count": 2,
   "id": "3c590022-f608-41cc-b7c2-a8fc1ef620f5",
   "metadata": {},
   "outputs": [],
   "source": [
    "df_path = '/Users/jayceepang/msse/capstone/atom2024/atom2024/notebooks/paper/datasets/80train_20test/featurized/'\n",
    "neks = ['NEK2_binding', 'NEK2_inhibition', 'NEK3_binding', 'NEK5_binding', 'NEK9_binding', 'NEK9_inhibition']\n",
    "model_types = ['GP', 'RF']\n",
    "feat_types=['MOE','MFP']\n",
    "RF_types = ['RF', 'RF_BCW', 'BRFC', 'BRFC_BCW'] \n",
    "samplings = ['none_scaled','UNDER','SMOTE']\n",
    "rf_path = '/Users/jayceepang/msse/capstone/atom2024/atom2024/notebooks/paper/results/RF_results/'\n",
    "gp_path = '/Users/jayceepang/msse/capstone/atom2024/atom2024/notebooks/paper/results/GP_results/'\n",
    "cmpd_df_path = '/Users/jayceepang/msse/capstone/atom2024/atom2024/notebooks/paper/results/compound_TNFPFNTP/'\n",
    "col_order = ['NEK', 'feat_type', 'strategy','modeling_type', 'compound_id', 'active', 'prediction' , 'RF_type']\n"
   ]
  },
  {
   "cell_type": "markdown",
   "id": "4a4f96d9-494e-44c9-a6ab-ef12cc7b7a2e",
   "metadata": {},
   "source": [
    "ideas \n",
    "- see overlapping molecules between all test sets\n",
    "- then see if it's in test/train"
   ]
  },
  {
   "cell_type": "code",
   "execution_count": 3,
   "id": "f9ba1c4d-9ba9-4b1d-8a4b-bfcb16204fef",
   "metadata": {},
   "outputs": [
    {
     "data": {
      "application/javascript": [
       "\n",
       "        if (window._pyforest_update_imports_cell) { window._pyforest_update_imports_cell('import pandas as pd'); }\n",
       "    "
      ],
      "text/plain": [
       "<IPython.core.display.Javascript object>"
      ]
     },
     "metadata": {},
     "output_type": "display_data"
    },
    {
     "data": {
      "application/javascript": [
       "\n",
       "        if (window._pyforest_update_imports_cell) { window._pyforest_update_imports_cell('import pandas as pd'); }\n",
       "    "
      ],
      "text/plain": [
       "<IPython.core.display.Javascript object>"
      ]
     },
     "metadata": {},
     "output_type": "display_data"
    },
    {
     "data": {
      "application/javascript": [
       "\n",
       "        if (window._pyforest_update_imports_cell) { window._pyforest_update_imports_cell('import pandas as pd'); }\n",
       "    "
      ],
      "text/plain": [
       "<IPython.core.display.Javascript object>"
      ]
     },
     "metadata": {},
     "output_type": "display_data"
    },
    {
     "data": {
      "application/javascript": [
       "\n",
       "        if (window._pyforest_update_imports_cell) { window._pyforest_update_imports_cell('import pandas as pd'); }\n",
       "    "
      ],
      "text/plain": [
       "<IPython.core.display.Javascript object>"
      ]
     },
     "metadata": {},
     "output_type": "display_data"
    },
    {
     "data": {
      "application/javascript": [
       "\n",
       "        if (window._pyforest_update_imports_cell) { window._pyforest_update_imports_cell('import pandas as pd'); }\n",
       "    "
      ],
      "text/plain": [
       "<IPython.core.display.Javascript object>"
      ]
     },
     "metadata": {},
     "output_type": "display_data"
    },
    {
     "data": {
      "application/javascript": [
       "\n",
       "        if (window._pyforest_update_imports_cell) { window._pyforest_update_imports_cell('import pandas as pd'); }\n",
       "    "
      ],
      "text/plain": [
       "<IPython.core.display.Javascript object>"
      ]
     },
     "metadata": {},
     "output_type": "display_data"
    },
    {
     "data": {
      "application/javascript": [
       "\n",
       "        if (window._pyforest_update_imports_cell) { window._pyforest_update_imports_cell('import pandas as pd'); }\n",
       "    "
      ],
      "text/plain": [
       "<IPython.core.display.Javascript object>"
      ]
     },
     "metadata": {},
     "output_type": "display_data"
    },
    {
     "data": {
      "application/javascript": [
       "\n",
       "        if (window._pyforest_update_imports_cell) { window._pyforest_update_imports_cell('import pandas as pd'); }\n",
       "    "
      ],
      "text/plain": [
       "<IPython.core.display.Javascript object>"
      ]
     },
     "metadata": {},
     "output_type": "display_data"
    },
    {
     "data": {
      "application/javascript": [
       "\n",
       "        if (window._pyforest_update_imports_cell) { window._pyforest_update_imports_cell('import pandas as pd'); }\n",
       "    "
      ],
      "text/plain": [
       "<IPython.core.display.Javascript object>"
      ]
     },
     "metadata": {},
     "output_type": "display_data"
    },
    {
     "data": {
      "application/javascript": [
       "\n",
       "        if (window._pyforest_update_imports_cell) { window._pyforest_update_imports_cell('import pandas as pd'); }\n",
       "    "
      ],
      "text/plain": [
       "<IPython.core.display.Javascript object>"
      ]
     },
     "metadata": {},
     "output_type": "display_data"
    },
    {
     "data": {
      "application/javascript": [
       "\n",
       "        if (window._pyforest_update_imports_cell) { window._pyforest_update_imports_cell('import pandas as pd'); }\n",
       "    "
      ],
      "text/plain": [
       "<IPython.core.display.Javascript object>"
      ]
     },
     "metadata": {},
     "output_type": "display_data"
    },
    {
     "data": {
      "application/javascript": [
       "\n",
       "        if (window._pyforest_update_imports_cell) { window._pyforest_update_imports_cell('import pandas as pd'); }\n",
       "    "
      ],
      "text/plain": [
       "<IPython.core.display.Javascript object>"
      ]
     },
     "metadata": {},
     "output_type": "display_data"
    }
   ],
   "source": [
    "all_neks = []\n",
    "# all_nek_dfs=pd.DataFrame()\n",
    "for nek in neks: \n",
    "    df_orig = pd.read_csv(f'{df_path}{nek}_MFP_none_scaled.csv')\n",
    "    df_UNDER = pd.read_csv(f'{df_path}{nek}_MFP_UNDER.csv')\n",
    "    # all_neks.append(df_orig[df_orig['subset']=='test']) \n",
    "    # all_neks.append(df_UNDER[df_UNDER['subset']=='test']) \n",
    "    \n",
    "    unique_cmpds = set(df_orig['compound_id']).intersection(set(df_UNDER['compound_id']))\n",
    "    \n",
    "    unique_cmpds_nek = df_orig[df_orig['compound_id'].isin(unique_cmpds)]\n",
    "    unique_cmpds_nek_test=unique_cmpds_nek[unique_cmpds_nek['subset']=='test']\n",
    "    all_neks.append(unique_cmpds_nek_test)\n",
    "    "
   ]
  },
  {
   "cell_type": "code",
   "execution_count": 14,
   "id": "30d2ae67-e434-4591-b0c9-5d361d11c09a",
   "metadata": {},
   "outputs": [],
   "source": [
    "def common_unique_values(list1, list2, *lists):\n",
    "    sets = [set(list1), set(list2)]\n",
    "    for lst in lists:\n",
    "        sets.append(set(lst))\n",
    "    return set.intersection(*sets)\n"
   ]
  },
  {
   "cell_type": "code",
   "execution_count": 16,
   "id": "3ae68b55-9f29-4d74-b726-7d0e20ae9db0",
   "metadata": {},
   "outputs": [
    {
     "data": {
      "application/javascript": [
       "\n",
       "        if (window._pyforest_update_imports_cell) { window._pyforest_update_imports_cell('import pandas as pd'); }\n",
       "    "
      ],
      "text/plain": [
       "<IPython.core.display.Javascript object>"
      ]
     },
     "metadata": {},
     "output_type": "display_data"
    },
    {
     "data": {
      "application/javascript": [
       "\n",
       "        if (window._pyforest_update_imports_cell) { window._pyforest_update_imports_cell('import pandas as pd'); }\n",
       "    "
      ],
      "text/plain": [
       "<IPython.core.display.Javascript object>"
      ]
     },
     "metadata": {},
     "output_type": "display_data"
    },
    {
     "data": {
      "application/javascript": [
       "\n",
       "        if (window._pyforest_update_imports_cell) { window._pyforest_update_imports_cell('import pandas as pd'); }\n",
       "    "
      ],
      "text/plain": [
       "<IPython.core.display.Javascript object>"
      ]
     },
     "metadata": {},
     "output_type": "display_data"
    },
    {
     "data": {
      "application/javascript": [
       "\n",
       "        if (window._pyforest_update_imports_cell) { window._pyforest_update_imports_cell('import pandas as pd'); }\n",
       "    "
      ],
      "text/plain": [
       "<IPython.core.display.Javascript object>"
      ]
     },
     "metadata": {},
     "output_type": "display_data"
    },
    {
     "data": {
      "application/javascript": [
       "\n",
       "        if (window._pyforest_update_imports_cell) { window._pyforest_update_imports_cell('import pandas as pd'); }\n",
       "    "
      ],
      "text/plain": [
       "<IPython.core.display.Javascript object>"
      ]
     },
     "metadata": {},
     "output_type": "display_data"
    },
    {
     "data": {
      "application/javascript": [
       "\n",
       "        if (window._pyforest_update_imports_cell) { window._pyforest_update_imports_cell('import pandas as pd'); }\n",
       "    "
      ],
      "text/plain": [
       "<IPython.core.display.Javascript object>"
      ]
     },
     "metadata": {},
     "output_type": "display_data"
    }
   ],
   "source": [
    "all_dfs = [] \n",
    "all_neks = []\n",
    "for nek in neks:  \n",
    "    full_df = pd.read_csv(f'{df_path}{nek}_MFP_none_scaled.csv') \n",
    "    # full_df=full_df[full_df['subset']=='train']\n",
    "    all_dfs.append(full_df)\n",
    "    all_neks.append(nek) \n",
    "    \n",
    "df_dict = {}\n",
    "for df, nek in zip(all_dfs, all_neks):\n",
    "    df_dict[nek] = df\n"
   ]
  },
  {
   "cell_type": "code",
   "execution_count": 20,
   "id": "c09a6655-d8e8-479d-bc79-06119ee8e0b6",
   "metadata": {},
   "outputs": [],
   "source": [
    "neks = ['NEK2_binding', 'NEK2_inhibition', 'NEK3_binding', 'NEK5_binding', 'NEK9_binding', 'NEK9_inhibition']\n",
    "NEK2_binding=df_dict['NEK2_binding']\n",
    "NEK2_inhibition=df_dict['NEK2_inhibition']  \n",
    "NEK3_binding=df_dict['NEK3_binding']\n",
    "NEK5_binding=df_dict['NEK5_binding']\n",
    "NEK9_binding=df_dict['NEK9_binding']\n",
    "NEK9_inhibition=df_dict['NEK9_inhibition']   "
   ]
  },
  {
   "cell_type": "code",
   "execution_count": 21,
   "id": "46d7c42f-f972-45fb-b438-92da6b770206",
   "metadata": {
    "scrolled": true
   },
   "outputs": [
    {
     "data": {
      "text/plain": [
       "{'kdb_2013',\n",
       " 'kdb_2212',\n",
       " 'kdb_2238',\n",
       " 'kdb_2908',\n",
       " 'kdb_3160',\n",
       " 'kdb_3164',\n",
       " 'kdb_3211',\n",
       " 'kdb_3224',\n",
       " 'kdb_3232',\n",
       " 'kdb_3241',\n",
       " 'kdb_3264',\n",
       " 'kdb_3290',\n",
       " 'kdb_3305',\n",
       " 'kdb_3330',\n",
       " 'kdb_3334'}"
      ]
     },
     "execution_count": 21,
     "metadata": {},
     "output_type": "execute_result"
    }
   ],
   "source": [
    "nek2inhibtest=NEK2_inhibition[NEK2_inhibition['subset']=='test']\n",
    "nek9inhibtest=NEK9_inhibition[NEK9_inhibition['subset']=='test']\n",
    "common_inhib_test=common_unique_values(list(nek2inhibtest['compound_id'].values),list(nek9inhibtest['compound_id'].values))\n",
    "common_inhib_test"
   ]
  },
  {
   "cell_type": "code",
   "execution_count": 23,
   "id": "adefe861-0c0e-4892-9d22-25d7c8867c72",
   "metadata": {
    "scrolled": true
   },
   "outputs": [
    {
     "data": {
      "text/plain": [
       "{'kdb_2181'}"
      ]
     },
     "execution_count": 23,
     "metadata": {},
     "output_type": "execute_result"
    }
   ],
   "source": [
    "nek2bindtest=NEK2_binding[NEK2_binding['subset']=='test']\n",
    "nek9bindtest=NEK9_binding[NEK9_binding['subset']=='test']\n",
    "nek3bindtest=NEK3_binding[NEK3_binding['subset']=='test']\n",
    "nek5bindtest=NEK5_binding[NEK5_binding['subset']=='test']\n",
    "common_binding_test = common_unique_values(list(nek2bindtest['compound_id'].values),list(nek9bindtest['compound_id'].values),\n",
    "                           list(nek3bindtest['compound_id'].values),list(nek5bindtest['compound_id'].values)     )\n",
    "common_binding_test"
   ]
  },
  {
   "cell_type": "code",
   "execution_count": null,
   "id": "2f486e14-09b2-463e-a3ea-b43b238f9dad",
   "metadata": {},
   "outputs": [],
   "source": []
  },
  {
   "cell_type": "code",
   "execution_count": null,
   "id": "2a86d5d8-ec73-44fa-b27a-2719cf2933bc",
   "metadata": {},
   "outputs": [],
   "source": []
  },
  {
   "cell_type": "code",
   "execution_count": null,
   "id": "e09039ec-a9a0-4219-a131-80068d46b4d9",
   "metadata": {},
   "outputs": [],
   "source": []
  }
 ],
 "metadata": {
  "kernelspec": {
   "display_name": "atom2024",
   "language": "python",
   "name": "atom2024"
  },
  "language_info": {
   "codemirror_mode": {
    "name": "ipython",
    "version": 3
   },
   "file_extension": ".py",
   "mimetype": "text/x-python",
   "name": "python",
   "nbconvert_exporter": "python",
   "pygments_lexer": "ipython3",
   "version": "3.9.12"
  }
 },
 "nbformat": 4,
 "nbformat_minor": 5
}
