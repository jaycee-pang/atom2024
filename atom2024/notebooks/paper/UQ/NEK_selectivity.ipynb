{
 "cells": [
  {
   "cell_type": "code",
   "execution_count": 1,
   "id": "be212970-9729-4973-a0e9-9147882f89e5",
   "metadata": {},
   "outputs": [],
   "source": [
    "import pyforest"
   ]
  },
  {
   "cell_type": "code",
   "execution_count": 2,
   "id": "3c590022-f608-41cc-b7c2-a8fc1ef620f5",
   "metadata": {},
   "outputs": [],
   "source": [
    "df_path = '/Users/jayceepang/msse/capstone/atom2024/atom2024/notebooks/paper/datasets/80train_20test/featurized/'\n",
    "neks = ['NEK2_binding', 'NEK2_inhibition', 'NEK3_binding', 'NEK5_binding', 'NEK9_binding', 'NEK9_inhibition']\n",
    "model_types = ['GP', 'RF']\n",
    "feat_types=['MOE','MFP']\n",
    "RF_types = ['RF', 'RF_BCW', 'BRFC', 'BRFC_BCW'] \n",
    "samplings = ['none_scaled','UNDER','SMOTE']\n",
    "rf_path = '/Users/jayceepang/msse/capstone/atom2024/atom2024/notebooks/paper/results/RF_results/'\n",
    "gp_path = '/Users/jayceepang/msse/capstone/atom2024/atom2024/notebooks/paper/results/GP_results/'\n",
    "cmpd_df_path = '/Users/jayceepang/msse/capstone/atom2024/atom2024/notebooks/paper/results/compound_TNFPFNTP/'\n",
    "col_order = ['NEK', 'feat_type', 'strategy','modeling_type', 'compound_id', 'active', 'prediction' , 'RF_type']\n"
   ]
  },
  {
   "cell_type": "markdown",
   "id": "4a4f96d9-494e-44c9-a6ab-ef12cc7b7a2e",
   "metadata": {},
   "source": [
    "ideas \n",
    "- see overlapping molecules between all test sets\n",
    "- then see if it's in test/train"
   ]
  },
  {
   "cell_type": "code",
   "execution_count": 3,
   "id": "f9ba1c4d-9ba9-4b1d-8a4b-bfcb16204fef",
   "metadata": {},
   "outputs": [
    {
     "data": {
      "application/javascript": [
       "\n",
       "        if (window._pyforest_update_imports_cell) { window._pyforest_update_imports_cell('import pandas as pd'); }\n",
       "    "
      ],
      "text/plain": [
       "<IPython.core.display.Javascript object>"
      ]
     },
     "metadata": {},
     "output_type": "display_data"
    },
    {
     "data": {
      "application/javascript": [
       "\n",
       "        if (window._pyforest_update_imports_cell) { window._pyforest_update_imports_cell('import pandas as pd'); }\n",
       "    "
      ],
      "text/plain": [
       "<IPython.core.display.Javascript object>"
      ]
     },
     "metadata": {},
     "output_type": "display_data"
    },
    {
     "data": {
      "application/javascript": [
       "\n",
       "        if (window._pyforest_update_imports_cell) { window._pyforest_update_imports_cell('import pandas as pd'); }\n",
       "    "
      ],
      "text/plain": [
       "<IPython.core.display.Javascript object>"
      ]
     },
     "metadata": {},
     "output_type": "display_data"
    },
    {
     "data": {
      "application/javascript": [
       "\n",
       "        if (window._pyforest_update_imports_cell) { window._pyforest_update_imports_cell('import pandas as pd'); }\n",
       "    "
      ],
      "text/plain": [
       "<IPython.core.display.Javascript object>"
      ]
     },
     "metadata": {},
     "output_type": "display_data"
    },
    {
     "data": {
      "application/javascript": [
       "\n",
       "        if (window._pyforest_update_imports_cell) { window._pyforest_update_imports_cell('import pandas as pd'); }\n",
       "    "
      ],
      "text/plain": [
       "<IPython.core.display.Javascript object>"
      ]
     },
     "metadata": {},
     "output_type": "display_data"
    },
    {
     "data": {
      "application/javascript": [
       "\n",
       "        if (window._pyforest_update_imports_cell) { window._pyforest_update_imports_cell('import pandas as pd'); }\n",
       "    "
      ],
      "text/plain": [
       "<IPython.core.display.Javascript object>"
      ]
     },
     "metadata": {},
     "output_type": "display_data"
    },
    {
     "data": {
      "application/javascript": [
       "\n",
       "        if (window._pyforest_update_imports_cell) { window._pyforest_update_imports_cell('import pandas as pd'); }\n",
       "    "
      ],
      "text/plain": [
       "<IPython.core.display.Javascript object>"
      ]
     },
     "metadata": {},
     "output_type": "display_data"
    },
    {
     "data": {
      "application/javascript": [
       "\n",
       "        if (window._pyforest_update_imports_cell) { window._pyforest_update_imports_cell('import pandas as pd'); }\n",
       "    "
      ],
      "text/plain": [
       "<IPython.core.display.Javascript object>"
      ]
     },
     "metadata": {},
     "output_type": "display_data"
    },
    {
     "data": {
      "application/javascript": [
       "\n",
       "        if (window._pyforest_update_imports_cell) { window._pyforest_update_imports_cell('import pandas as pd'); }\n",
       "    "
      ],
      "text/plain": [
       "<IPython.core.display.Javascript object>"
      ]
     },
     "metadata": {},
     "output_type": "display_data"
    },
    {
     "data": {
      "application/javascript": [
       "\n",
       "        if (window._pyforest_update_imports_cell) { window._pyforest_update_imports_cell('import pandas as pd'); }\n",
       "    "
      ],
      "text/plain": [
       "<IPython.core.display.Javascript object>"
      ]
     },
     "metadata": {},
     "output_type": "display_data"
    },
    {
     "data": {
      "application/javascript": [
       "\n",
       "        if (window._pyforest_update_imports_cell) { window._pyforest_update_imports_cell('import pandas as pd'); }\n",
       "    "
      ],
      "text/plain": [
       "<IPython.core.display.Javascript object>"
      ]
     },
     "metadata": {},
     "output_type": "display_data"
    },
    {
     "data": {
      "application/javascript": [
       "\n",
       "        if (window._pyforest_update_imports_cell) { window._pyforest_update_imports_cell('import pandas as pd'); }\n",
       "    "
      ],
      "text/plain": [
       "<IPython.core.display.Javascript object>"
      ]
     },
     "metadata": {},
     "output_type": "display_data"
    }
   ],
   "source": [
    "all_neks = []\n",
    "# all_nek_dfs=pd.DataFrame()\n",
    "for nek in neks: \n",
    "    df_orig = pd.read_csv(f'{df_path}{nek}_MFP_none_scaled.csv')\n",
    "    df_UNDER = pd.read_csv(f'{df_path}{nek}_MFP_UNDER.csv')\n",
    "    # all_neks.append(df_orig[df_orig['subset']=='test']) \n",
    "    # all_neks.append(df_UNDER[df_UNDER['subset']=='test']) \n",
    "    \n",
    "    unique_cmpds = set(df_orig['compound_id']).intersection(set(df_UNDER['compound_id']))\n",
    "    \n",
    "    unique_cmpds_nek = df_orig[df_orig['compound_id'].isin(unique_cmpds)]\n",
    "    unique_cmpds_nek_test=unique_cmpds_nek[unique_cmpds_nek['subset']=='test']\n",
    "    all_neks.append(unique_cmpds_nek_test)\n",
    "    "
   ]
  },
  {
   "cell_type": "code",
   "execution_count": 14,
   "id": "30d2ae67-e434-4591-b0c9-5d361d11c09a",
   "metadata": {},
   "outputs": [],
   "source": [
    "def common_unique_values(list1, list2, *lists):\n",
    "    sets = [set(list1), set(list2)]\n",
    "    for lst in lists:\n",
    "        sets.append(set(lst))\n",
    "    return set.intersection(*sets)\n"
   ]
  },
  {
   "cell_type": "code",
   "execution_count": 29,
   "id": "3ae68b55-9f29-4d74-b726-7d0e20ae9db0",
   "metadata": {},
   "outputs": [
    {
     "data": {
      "application/javascript": [
       "\n",
       "        if (window._pyforest_update_imports_cell) { window._pyforest_update_imports_cell('import pandas as pd'); }\n",
       "    "
      ],
      "text/plain": [
       "<IPython.core.display.Javascript object>"
      ]
     },
     "metadata": {},
     "output_type": "display_data"
    },
    {
     "data": {
      "application/javascript": [
       "\n",
       "        if (window._pyforest_update_imports_cell) { window._pyforest_update_imports_cell('import pandas as pd'); }\n",
       "    "
      ],
      "text/plain": [
       "<IPython.core.display.Javascript object>"
      ]
     },
     "metadata": {},
     "output_type": "display_data"
    },
    {
     "data": {
      "application/javascript": [
       "\n",
       "        if (window._pyforest_update_imports_cell) { window._pyforest_update_imports_cell('import pandas as pd'); }\n",
       "    "
      ],
      "text/plain": [
       "<IPython.core.display.Javascript object>"
      ]
     },
     "metadata": {},
     "output_type": "display_data"
    },
    {
     "data": {
      "application/javascript": [
       "\n",
       "        if (window._pyforest_update_imports_cell) { window._pyforest_update_imports_cell('import pandas as pd'); }\n",
       "    "
      ],
      "text/plain": [
       "<IPython.core.display.Javascript object>"
      ]
     },
     "metadata": {},
     "output_type": "display_data"
    },
    {
     "data": {
      "application/javascript": [
       "\n",
       "        if (window._pyforest_update_imports_cell) { window._pyforest_update_imports_cell('import pandas as pd'); }\n",
       "    "
      ],
      "text/plain": [
       "<IPython.core.display.Javascript object>"
      ]
     },
     "metadata": {},
     "output_type": "display_data"
    },
    {
     "data": {
      "application/javascript": [
       "\n",
       "        if (window._pyforest_update_imports_cell) { window._pyforest_update_imports_cell('import pandas as pd'); }\n",
       "    "
      ],
      "text/plain": [
       "<IPython.core.display.Javascript object>"
      ]
     },
     "metadata": {},
     "output_type": "display_data"
    }
   ],
   "source": [
    "all_dfs = [] \n",
    "all_neks = []\n",
    "for nek in neks:  \n",
    "    full_df = pd.read_csv(f'{df_path}{nek}_MFP_none_scaled.csv') \n",
    "    # full_df=full_df[full_df['subset']=='train']\n",
    "    all_dfs.append(full_df)\n",
    "    all_neks.append(nek) \n",
    "    \n",
    "df_dict = {}\n",
    "for df, nek in zip(all_dfs, all_neks):\n",
    "    df_dict[nek] = df\n"
   ]
  },
  {
   "cell_type": "code",
   "execution_count": 30,
   "id": "c09a6655-d8e8-479d-bc79-06119ee8e0b6",
   "metadata": {},
   "outputs": [],
   "source": [
    "neks = ['NEK2_binding', 'NEK2_inhibition', 'NEK3_binding', 'NEK5_binding', 'NEK9_binding', 'NEK9_inhibition']\n",
    "NEK2_binding=df_dict['NEK2_binding']\n",
    "NEK2_inhibition=df_dict['NEK2_inhibition']  \n",
    "NEK3_binding=df_dict['NEK3_binding']\n",
    "NEK5_binding=df_dict['NEK5_binding']\n",
    "NEK9_binding=df_dict['NEK9_binding']\n",
    "NEK9_inhibition=df_dict['NEK9_inhibition']   "
   ]
  },
  {
   "cell_type": "code",
   "execution_count": 31,
   "id": "46d7c42f-f972-45fb-b438-92da6b770206",
   "metadata": {
    "scrolled": true
   },
   "outputs": [
    {
     "data": {
      "text/plain": [
       "{'kdb_2013',\n",
       " 'kdb_2212',\n",
       " 'kdb_2238',\n",
       " 'kdb_2908',\n",
       " 'kdb_3160',\n",
       " 'kdb_3164',\n",
       " 'kdb_3211',\n",
       " 'kdb_3224',\n",
       " 'kdb_3232',\n",
       " 'kdb_3241',\n",
       " 'kdb_3264',\n",
       " 'kdb_3290',\n",
       " 'kdb_3305',\n",
       " 'kdb_3330',\n",
       " 'kdb_3334'}"
      ]
     },
     "execution_count": 31,
     "metadata": {},
     "output_type": "execute_result"
    }
   ],
   "source": [
    "nek2inhibtest=NEK2_inhibition[NEK2_inhibition['subset']=='test']\n",
    "nek9inhibtest=NEK9_inhibition[NEK9_inhibition['subset']=='test']\n",
    "common_inhib_test=common_unique_values(list(nek2inhibtest['compound_id'].values),list(nek9inhibtest['compound_id'].values))\n",
    "common_inhib_test"
   ]
  },
  {
   "cell_type": "code",
   "execution_count": 64,
   "id": "adefe861-0c0e-4892-9d22-25d7c8867c72",
   "metadata": {
    "scrolled": true
   },
   "outputs": [
    {
     "data": {
      "text/plain": [
       "{'kdb_2181'}"
      ]
     },
     "execution_count": 64,
     "metadata": {},
     "output_type": "execute_result"
    }
   ],
   "source": [
    "nek2bindtest=NEK2_binding[NEK2_binding['subset']=='test']\n",
    "nek9bindtest=NEK9_binding[NEK9_binding['subset']=='test']\n",
    "nek3bindtest=NEK3_binding[NEK3_binding['subset']=='test']\n",
    "nek5bindtest=NEK5_binding[NEK5_binding['subset']=='test']\n",
    "common_binding_test = common_unique_values(list(nek2bindtest['compound_id'].values),list(nek9bindtest['compound_id'].values),\n",
    "                           list(nek3bindtest['compound_id'].values),list(nek5bindtest['compound_id'].values)     )\n",
    "common_binding_test"
   ]
  },
  {
   "cell_type": "code",
   "execution_count": 57,
   "id": "2f486e14-09b2-463e-a3ea-b43b238f9dad",
   "metadata": {},
   "outputs": [],
   "source": [
    "nek9_inhib_selects=[]\n",
    "nek2_inhib_selects=[]\n",
    "\n",
    "for cmpd in common_inhib_test:\n",
    "    for nek_df in [NEK2_inhibition, NEK9_inhibition]: \n",
    "        nek_val = nek_df['NEK'].values[0]\n",
    "        match = nek_df[nek_df['compound_id'] == cmpd][['compound_id','active']]\n",
    "        # print(match)\n",
    "        if nek_val == 'NEK2_inhibition':\n",
    "            nek2_inhib_selects.append(match)\n",
    "        elif nek_val == 'NEK9_inhibition':\n",
    "            nek9_inhib_selects.append(match)\n"
   ]
  },
  {
   "cell_type": "code",
   "execution_count": 68,
   "id": "b77576a0-ed67-41db-af13-03815c685101",
   "metadata": {},
   "outputs": [
    {
     "data": {
      "application/javascript": [
       "\n",
       "        if (window._pyforest_update_imports_cell) { window._pyforest_update_imports_cell('import pandas as pd'); }\n",
       "    "
      ],
      "text/plain": [
       "<IPython.core.display.Javascript object>"
      ]
     },
     "metadata": {},
     "output_type": "display_data"
    },
    {
     "data": {
      "application/javascript": [
       "\n",
       "        if (window._pyforest_update_imports_cell) { window._pyforest_update_imports_cell('import pandas as pd'); }\n",
       "    "
      ],
      "text/plain": [
       "<IPython.core.display.Javascript object>"
      ]
     },
     "metadata": {},
     "output_type": "display_data"
    },
    {
     "data": {
      "application/javascript": [
       "\n",
       "        if (window._pyforest_update_imports_cell) { window._pyforest_update_imports_cell('import pandas as pd'); }\n",
       "    "
      ],
      "text/plain": [
       "<IPython.core.display.Javascript object>"
      ]
     },
     "metadata": {},
     "output_type": "display_data"
    }
   ],
   "source": [
    "nek9inhib_df = pd.concat(nek9_inhib_selects).reset_index(drop=True)\n",
    "nek2inhib_df = pd.concat(nek2_inhib_selects).reset_index(drop=True)\n",
    "inhibition_selectivity = pd.merge(nek2inhib_df,nek9inhib_df, on='compound_id',\n",
    "                        how='outer',suffixes=('_NEK2_inhibition','_NEK9_inhibition'))\n"
   ]
  },
  {
   "cell_type": "code",
   "execution_count": 69,
   "id": "2a86d5d8-ec73-44fa-b27a-2719cf2933bc",
   "metadata": {},
   "outputs": [
    {
     "data": {
      "text/html": [
       "<div>\n",
       "<style scoped>\n",
       "    .dataframe tbody tr th:only-of-type {\n",
       "        vertical-align: middle;\n",
       "    }\n",
       "\n",
       "    .dataframe tbody tr th {\n",
       "        vertical-align: top;\n",
       "    }\n",
       "\n",
       "    .dataframe thead th {\n",
       "        text-align: right;\n",
       "    }\n",
       "</style>\n",
       "<table border=\"1\" class=\"dataframe\">\n",
       "  <thead>\n",
       "    <tr style=\"text-align: right;\">\n",
       "      <th></th>\n",
       "      <th>compound_id</th>\n",
       "      <th>active_NEK2_inhibition</th>\n",
       "      <th>active_NEK9_inhibition</th>\n",
       "    </tr>\n",
       "  </thead>\n",
       "  <tbody>\n",
       "    <tr>\n",
       "      <th>0</th>\n",
       "      <td>kdb_3330</td>\n",
       "      <td>0</td>\n",
       "      <td>0</td>\n",
       "    </tr>\n",
       "    <tr>\n",
       "      <th>1</th>\n",
       "      <td>kdb_2212</td>\n",
       "      <td>0</td>\n",
       "      <td>0</td>\n",
       "    </tr>\n",
       "    <tr>\n",
       "      <th>2</th>\n",
       "      <td>kdb_3211</td>\n",
       "      <td>0</td>\n",
       "      <td>0</td>\n",
       "    </tr>\n",
       "    <tr>\n",
       "      <th>3</th>\n",
       "      <td>kdb_3160</td>\n",
       "      <td>0</td>\n",
       "      <td>0</td>\n",
       "    </tr>\n",
       "    <tr>\n",
       "      <th>4</th>\n",
       "      <td>kdb_2013</td>\n",
       "      <td>0</td>\n",
       "      <td>0</td>\n",
       "    </tr>\n",
       "    <tr>\n",
       "      <th>5</th>\n",
       "      <td>kdb_3164</td>\n",
       "      <td>0</td>\n",
       "      <td>0</td>\n",
       "    </tr>\n",
       "    <tr>\n",
       "      <th>6</th>\n",
       "      <td>kdb_3264</td>\n",
       "      <td>1</td>\n",
       "      <td>0</td>\n",
       "    </tr>\n",
       "    <tr>\n",
       "      <th>7</th>\n",
       "      <td>kdb_3290</td>\n",
       "      <td>0</td>\n",
       "      <td>0</td>\n",
       "    </tr>\n",
       "    <tr>\n",
       "      <th>8</th>\n",
       "      <td>kdb_2908</td>\n",
       "      <td>0</td>\n",
       "      <td>0</td>\n",
       "    </tr>\n",
       "    <tr>\n",
       "      <th>9</th>\n",
       "      <td>kdb_3305</td>\n",
       "      <td>0</td>\n",
       "      <td>0</td>\n",
       "    </tr>\n",
       "    <tr>\n",
       "      <th>10</th>\n",
       "      <td>kdb_3241</td>\n",
       "      <td>0</td>\n",
       "      <td>0</td>\n",
       "    </tr>\n",
       "    <tr>\n",
       "      <th>11</th>\n",
       "      <td>kdb_3232</td>\n",
       "      <td>0</td>\n",
       "      <td>0</td>\n",
       "    </tr>\n",
       "    <tr>\n",
       "      <th>12</th>\n",
       "      <td>kdb_3334</td>\n",
       "      <td>0</td>\n",
       "      <td>0</td>\n",
       "    </tr>\n",
       "    <tr>\n",
       "      <th>13</th>\n",
       "      <td>kdb_2238</td>\n",
       "      <td>0</td>\n",
       "      <td>0</td>\n",
       "    </tr>\n",
       "    <tr>\n",
       "      <th>14</th>\n",
       "      <td>kdb_3224</td>\n",
       "      <td>0</td>\n",
       "      <td>0</td>\n",
       "    </tr>\n",
       "  </tbody>\n",
       "</table>\n",
       "</div>"
      ],
      "text/plain": [
       "   compound_id  active_NEK2_inhibition  active_NEK9_inhibition\n",
       "0     kdb_3330                       0                       0\n",
       "1     kdb_2212                       0                       0\n",
       "2     kdb_3211                       0                       0\n",
       "3     kdb_3160                       0                       0\n",
       "4     kdb_2013                       0                       0\n",
       "5     kdb_3164                       0                       0\n",
       "6     kdb_3264                       1                       0\n",
       "7     kdb_3290                       0                       0\n",
       "8     kdb_2908                       0                       0\n",
       "9     kdb_3305                       0                       0\n",
       "10    kdb_3241                       0                       0\n",
       "11    kdb_3232                       0                       0\n",
       "12    kdb_3334                       0                       0\n",
       "13    kdb_2238                       0                       0\n",
       "14    kdb_3224                       0                       0"
      ]
     },
     "execution_count": 69,
     "metadata": {},
     "output_type": "execute_result"
    }
   ],
   "source": [
    "inhibition_selectivity"
   ]
  },
  {
   "cell_type": "code",
   "execution_count": 72,
   "id": "e09039ec-a9a0-4219-a131-80068d46b4d9",
   "metadata": {},
   "outputs": [
    {
     "data": {
      "application/javascript": [
       "\n",
       "        if (window._pyforest_update_imports_cell) { window._pyforest_update_imports_cell('import pandas as pd'); }\n",
       "    "
      ],
      "text/plain": [
       "<IPython.core.display.Javascript object>"
      ]
     },
     "metadata": {},
     "output_type": "display_data"
    },
    {
     "data": {
      "application/javascript": [
       "\n",
       "        if (window._pyforest_update_imports_cell) { window._pyforest_update_imports_cell('import pandas as pd'); }\n",
       "    "
      ],
      "text/plain": [
       "<IPython.core.display.Javascript object>"
      ]
     },
     "metadata": {},
     "output_type": "display_data"
    },
    {
     "data": {
      "application/javascript": [
       "\n",
       "        if (window._pyforest_update_imports_cell) { window._pyforest_update_imports_cell('import pandas as pd'); }\n",
       "    "
      ],
      "text/plain": [
       "<IPython.core.display.Javascript object>"
      ]
     },
     "metadata": {},
     "output_type": "display_data"
    },
    {
     "data": {
      "application/javascript": [
       "\n",
       "        if (window._pyforest_update_imports_cell) { window._pyforest_update_imports_cell('import pandas as pd'); }\n",
       "    "
      ],
      "text/plain": [
       "<IPython.core.display.Javascript object>"
      ]
     },
     "metadata": {},
     "output_type": "display_data"
    },
    {
     "data": {
      "application/javascript": [
       "\n",
       "        if (window._pyforest_update_imports_cell) { window._pyforest_update_imports_cell('import pandas as pd'); }\n",
       "    "
      ],
      "text/plain": [
       "<IPython.core.display.Javascript object>"
      ]
     },
     "metadata": {},
     "output_type": "display_data"
    },
    {
     "data": {
      "application/javascript": [
       "\n",
       "        if (window._pyforest_update_imports_cell) { window._pyforest_update_imports_cell('import pandas as pd'); }\n",
       "    "
      ],
      "text/plain": [
       "<IPython.core.display.Javascript object>"
      ]
     },
     "metadata": {},
     "output_type": "display_data"
    },
    {
     "data": {
      "application/javascript": [
       "\n",
       "        if (window._pyforest_update_imports_cell) { window._pyforest_update_imports_cell('import pandas as pd'); }\n",
       "    "
      ],
      "text/plain": [
       "<IPython.core.display.Javascript object>"
      ]
     },
     "metadata": {},
     "output_type": "display_data"
    }
   ],
   "source": [
    "nek9_bind_selects=[]\n",
    "nek2_bind_selects=[]\n",
    "nek3_bind_selects=[]\n",
    "nek5_bind_selects=[]\n",
    "\n",
    "for cmpd in common_binding_test:\n",
    "    for nek_df in [NEK2_binding, NEK3_binding,NEK5_binding,NEK9_binding ]: \n",
    "        nek_val = nek_df['NEK'].values[0]\n",
    "        match = nek_df[nek_df['compound_id'] == cmpd][['compound_id','active']]\n",
    "        # print(match)\n",
    "        if nek_val == 'NEK2_binding':\n",
    "            nek2_bind_selects.append(match)\n",
    "        elif nek_val == 'NEK3_binding':\n",
    "            nek3_bind_selects.append(match)\n",
    "        elif nek_val == 'NEK5_binding':\n",
    "            nek5_bind_selects.append(match)\n",
    "        elif nek_val == 'NEK9_binding':\n",
    "            nek9_bind_selects.append(match)\n",
    "nek9bind_df = pd.concat(nek9_bind_selects).reset_index(drop=True)\n",
    "nek2bind_df = pd.concat(nek2_bind_selects).reset_index(drop=True)\n",
    "nek3bind_df = pd.concat(nek3_bind_selects).reset_index(drop=True)\n",
    "nek5bind_df = pd.concat(nek5_bind_selects).reset_index(drop=True)\n",
    "nek3bind_df = nek3bind_df.rename(columns={'active':'active_NEK3_binding'})\n",
    "nek5bind_df = nek5bind_df.rename(columns={'active':'active_NEK5_binding'})\n",
    "binding_selectivity = pd.merge(nek2bind_df,nek9bind_df, on='compound_id',\n",
    "                               how='outer',suffixes=('_NEK2_binding', '_NEK9_binding'))\n",
    "\n",
    "binding_selectivity = pd.merge(binding_selectivity, nek5bind_df, on='compound_id', how='outer')\n",
    "binding_selectivity = pd.merge(binding_selectivity, nek3bind_df, on='compound_id', how='outer')\n"
   ]
  },
  {
   "cell_type": "code",
   "execution_count": 73,
   "id": "a2c1c45c-9a95-4052-98f0-e9fadeb6c69a",
   "metadata": {},
   "outputs": [
    {
     "data": {
      "text/html": [
       "<div>\n",
       "<style scoped>\n",
       "    .dataframe tbody tr th:only-of-type {\n",
       "        vertical-align: middle;\n",
       "    }\n",
       "\n",
       "    .dataframe tbody tr th {\n",
       "        vertical-align: top;\n",
       "    }\n",
       "\n",
       "    .dataframe thead th {\n",
       "        text-align: right;\n",
       "    }\n",
       "</style>\n",
       "<table border=\"1\" class=\"dataframe\">\n",
       "  <thead>\n",
       "    <tr style=\"text-align: right;\">\n",
       "      <th></th>\n",
       "      <th>compound_id</th>\n",
       "      <th>active_NEK2_binding</th>\n",
       "      <th>active_NEK9_binding</th>\n",
       "      <th>active_NEK5_binding</th>\n",
       "      <th>active_NEK3_binding</th>\n",
       "    </tr>\n",
       "  </thead>\n",
       "  <tbody>\n",
       "    <tr>\n",
       "      <th>0</th>\n",
       "      <td>kdb_2181</td>\n",
       "      <td>0</td>\n",
       "      <td>0</td>\n",
       "      <td>0</td>\n",
       "      <td>0</td>\n",
       "    </tr>\n",
       "  </tbody>\n",
       "</table>\n",
       "</div>"
      ],
      "text/plain": [
       "  compound_id  active_NEK2_binding  active_NEK9_binding  active_NEK5_binding  \\\n",
       "0    kdb_2181                    0                    0                    0   \n",
       "\n",
       "   active_NEK3_binding  \n",
       "0                    0  "
      ]
     },
     "execution_count": 73,
     "metadata": {},
     "output_type": "execute_result"
    }
   ],
   "source": [
    "binding_selectivity"
   ]
  },
  {
   "cell_type": "code",
   "execution_count": null,
   "id": "0831fad3-fd53-4e36-88ad-683eee5dddcf",
   "metadata": {},
   "outputs": [],
   "source": [
    "def rename_for_nek(df, nek_label):\n",
    "    df = df.copy()\n",
    "    for col in df.columns:\n",
    "        if col not in ['compound_id','active']:\n",
    "            if not col.startswith('NEK'):\n",
    "                df.rename(columns={col:f'{col}_{nek_label}'}, inplace=True)\n",
    "    return df\n"
   ]
  },
  {
   "cell_type": "code",
   "execution_count": 178,
   "id": "42f4eae5-7aa1-47a9-babf-a406139f693e",
   "metadata": {
    "scrolled": true
   },
   "outputs": [
    {
     "name": "stdout",
     "output_type": "stream",
     "text": [
      "NEK2_inhibition UNDER_GP_matern\n"
     ]
    },
    {
     "data": {
      "application/javascript": [
       "\n",
       "        if (window._pyforest_update_imports_cell) { window._pyforest_update_imports_cell('import seaborn as sns\\nimport matplotlib.pyplot as plt\\nimport pandas as pd'); }\n",
       "    "
      ],
      "text/plain": [
       "<IPython.core.display.Javascript object>"
      ]
     },
     "metadata": {},
     "output_type": "display_data"
    },
    {
     "name": "stdout",
     "output_type": "stream",
     "text": [
      "NEK2_inhibition none_scaled_BRFC\n"
     ]
    },
    {
     "data": {
      "application/javascript": [
       "\n",
       "        if (window._pyforest_update_imports_cell) { window._pyforest_update_imports_cell('import seaborn as sns\\nimport matplotlib.pyplot as plt\\nimport pandas as pd'); }\n",
       "    "
      ],
      "text/plain": [
       "<IPython.core.display.Javascript object>"
      ]
     },
     "metadata": {},
     "output_type": "display_data"
    },
    {
     "data": {
      "text/html": [
       "<div>\n",
       "<style scoped>\n",
       "    .dataframe tbody tr th:only-of-type {\n",
       "        vertical-align: middle;\n",
       "    }\n",
       "\n",
       "    .dataframe tbody tr th {\n",
       "        vertical-align: top;\n",
       "    }\n",
       "\n",
       "    .dataframe thead th {\n",
       "        text-align: right;\n",
       "    }\n",
       "</style>\n",
       "<table border=\"1\" class=\"dataframe\">\n",
       "  <thead>\n",
       "    <tr style=\"text-align: right;\">\n",
       "      <th></th>\n",
       "      <th>NEK</th>\n",
       "      <th>compound_id</th>\n",
       "      <th>active</th>\n",
       "      <th>prediction_GP</th>\n",
       "      <th>UQ_metric_value_GP</th>\n",
       "      <th>prediction_BRFC</th>\n",
       "      <th>UQ_metric_value_BRFC</th>\n",
       "    </tr>\n",
       "  </thead>\n",
       "  <tbody>\n",
       "    <tr>\n",
       "      <th>0</th>\n",
       "      <td>NEK2_inhibition</td>\n",
       "      <td>kdb_2013</td>\n",
       "      <td>0</td>\n",
       "      <td>0</td>\n",
       "      <td>3.641125</td>\n",
       "      <td>0</td>\n",
       "      <td>0.451261</td>\n",
       "    </tr>\n",
       "    <tr>\n",
       "      <th>1</th>\n",
       "      <td>NEK2_inhibition</td>\n",
       "      <td>kdb_2212</td>\n",
       "      <td>0</td>\n",
       "      <td>0</td>\n",
       "      <td>3.569157</td>\n",
       "      <td>0</td>\n",
       "      <td>0.435194</td>\n",
       "    </tr>\n",
       "    <tr>\n",
       "      <th>2</th>\n",
       "      <td>NEK2_inhibition</td>\n",
       "      <td>kdb_2238</td>\n",
       "      <td>0</td>\n",
       "      <td>0</td>\n",
       "      <td>2.871379</td>\n",
       "      <td>1</td>\n",
       "      <td>0.451261</td>\n",
       "    </tr>\n",
       "    <tr>\n",
       "      <th>3</th>\n",
       "      <td>NEK2_inhibition</td>\n",
       "      <td>kdb_2908</td>\n",
       "      <td>0</td>\n",
       "      <td>0</td>\n",
       "      <td>3.308633</td>\n",
       "      <td>0</td>\n",
       "      <td>0.416333</td>\n",
       "    </tr>\n",
       "    <tr>\n",
       "      <th>4</th>\n",
       "      <td>NEK2_inhibition</td>\n",
       "      <td>kdb_3160</td>\n",
       "      <td>0</td>\n",
       "      <td>0</td>\n",
       "      <td>3.308633</td>\n",
       "      <td>0</td>\n",
       "      <td>0.416333</td>\n",
       "    </tr>\n",
       "    <tr>\n",
       "      <th>5</th>\n",
       "      <td>NEK2_inhibition</td>\n",
       "      <td>kdb_3164</td>\n",
       "      <td>0</td>\n",
       "      <td>0</td>\n",
       "      <td>3.309711</td>\n",
       "      <td>0</td>\n",
       "      <td>0.196946</td>\n",
       "    </tr>\n",
       "    <tr>\n",
       "      <th>6</th>\n",
       "      <td>NEK2_inhibition</td>\n",
       "      <td>kdb_3211</td>\n",
       "      <td>0</td>\n",
       "      <td>0</td>\n",
       "      <td>3.467363</td>\n",
       "      <td>0</td>\n",
       "      <td>0.358870</td>\n",
       "    </tr>\n",
       "    <tr>\n",
       "      <th>7</th>\n",
       "      <td>NEK2_inhibition</td>\n",
       "      <td>kdb_3224</td>\n",
       "      <td>0</td>\n",
       "      <td>1</td>\n",
       "      <td>3.748984</td>\n",
       "      <td>1</td>\n",
       "      <td>0.496045</td>\n",
       "    </tr>\n",
       "    <tr>\n",
       "      <th>8</th>\n",
       "      <td>NEK2_inhibition</td>\n",
       "      <td>kdb_3232</td>\n",
       "      <td>0</td>\n",
       "      <td>0</td>\n",
       "      <td>3.713614</td>\n",
       "      <td>0</td>\n",
       "      <td>0.435194</td>\n",
       "    </tr>\n",
       "    <tr>\n",
       "      <th>9</th>\n",
       "      <td>NEK2_inhibition</td>\n",
       "      <td>kdb_3241</td>\n",
       "      <td>0</td>\n",
       "      <td>0</td>\n",
       "      <td>3.812407</td>\n",
       "      <td>0</td>\n",
       "      <td>0.358870</td>\n",
       "    </tr>\n",
       "    <tr>\n",
       "      <th>10</th>\n",
       "      <td>NEK2_inhibition</td>\n",
       "      <td>kdb_3290</td>\n",
       "      <td>0</td>\n",
       "      <td>0</td>\n",
       "      <td>3.615867</td>\n",
       "      <td>0</td>\n",
       "      <td>0.358870</td>\n",
       "    </tr>\n",
       "    <tr>\n",
       "      <th>11</th>\n",
       "      <td>NEK2_inhibition</td>\n",
       "      <td>kdb_3305</td>\n",
       "      <td>0</td>\n",
       "      <td>0</td>\n",
       "      <td>3.013952</td>\n",
       "      <td>0</td>\n",
       "      <td>0.358870</td>\n",
       "    </tr>\n",
       "    <tr>\n",
       "      <th>12</th>\n",
       "      <td>NEK2_inhibition</td>\n",
       "      <td>kdb_3330</td>\n",
       "      <td>0</td>\n",
       "      <td>1</td>\n",
       "      <td>3.863997</td>\n",
       "      <td>1</td>\n",
       "      <td>0.337998</td>\n",
       "    </tr>\n",
       "    <tr>\n",
       "      <th>13</th>\n",
       "      <td>NEK2_inhibition</td>\n",
       "      <td>kdb_3334</td>\n",
       "      <td>0</td>\n",
       "      <td>0</td>\n",
       "      <td>3.384628</td>\n",
       "      <td>0</td>\n",
       "      <td>0.256432</td>\n",
       "    </tr>\n",
       "    <tr>\n",
       "      <th>14</th>\n",
       "      <td>NEK2_inhibition</td>\n",
       "      <td>kdb_3264</td>\n",
       "      <td>1</td>\n",
       "      <td>0</td>\n",
       "      <td>4.045605</td>\n",
       "      <td>0</td>\n",
       "      <td>0.464823</td>\n",
       "    </tr>\n",
       "  </tbody>\n",
       "</table>\n",
       "</div>"
      ],
      "text/plain": [
       "                NEK compound_id  active  prediction_GP  UQ_metric_value_GP  \\\n",
       "0   NEK2_inhibition    kdb_2013       0              0            3.641125   \n",
       "1   NEK2_inhibition    kdb_2212       0              0            3.569157   \n",
       "2   NEK2_inhibition    kdb_2238       0              0            2.871379   \n",
       "3   NEK2_inhibition    kdb_2908       0              0            3.308633   \n",
       "4   NEK2_inhibition    kdb_3160       0              0            3.308633   \n",
       "5   NEK2_inhibition    kdb_3164       0              0            3.309711   \n",
       "6   NEK2_inhibition    kdb_3211       0              0            3.467363   \n",
       "7   NEK2_inhibition    kdb_3224       0              1            3.748984   \n",
       "8   NEK2_inhibition    kdb_3232       0              0            3.713614   \n",
       "9   NEK2_inhibition    kdb_3241       0              0            3.812407   \n",
       "10  NEK2_inhibition    kdb_3290       0              0            3.615867   \n",
       "11  NEK2_inhibition    kdb_3305       0              0            3.013952   \n",
       "12  NEK2_inhibition    kdb_3330       0              1            3.863997   \n",
       "13  NEK2_inhibition    kdb_3334       0              0            3.384628   \n",
       "14  NEK2_inhibition    kdb_3264       1              0            4.045605   \n",
       "\n",
       "    prediction_BRFC  UQ_metric_value_BRFC  \n",
       "0                 0              0.451261  \n",
       "1                 0              0.435194  \n",
       "2                 1              0.451261  \n",
       "3                 0              0.416333  \n",
       "4                 0              0.416333  \n",
       "5                 0              0.196946  \n",
       "6                 0              0.358870  \n",
       "7                 1              0.496045  \n",
       "8                 0              0.435194  \n",
       "9                 0              0.358870  \n",
       "10                0              0.358870  \n",
       "11                0              0.358870  \n",
       "12                1              0.337998  \n",
       "13                0              0.256432  \n",
       "14                0              0.464823  "
      ]
     },
     "metadata": {},
     "output_type": "display_data"
    },
    {
     "name": "stdout",
     "output_type": "stream",
     "text": [
      "NEK9_inhibition UNDER_GP_matern\n"
     ]
    },
    {
     "data": {
      "application/javascript": [
       "\n",
       "        if (window._pyforest_update_imports_cell) { window._pyforest_update_imports_cell('import seaborn as sns\\nimport matplotlib.pyplot as plt\\nimport pandas as pd'); }\n",
       "    "
      ],
      "text/plain": [
       "<IPython.core.display.Javascript object>"
      ]
     },
     "metadata": {},
     "output_type": "display_data"
    },
    {
     "name": "stdout",
     "output_type": "stream",
     "text": [
      "NEK9_inhibition none_scaled_BRFC_BCW\n"
     ]
    },
    {
     "data": {
      "application/javascript": [
       "\n",
       "        if (window._pyforest_update_imports_cell) { window._pyforest_update_imports_cell('import seaborn as sns\\nimport matplotlib.pyplot as plt\\nimport pandas as pd'); }\n",
       "    "
      ],
      "text/plain": [
       "<IPython.core.display.Javascript object>"
      ]
     },
     "metadata": {},
     "output_type": "display_data"
    },
    {
     "data": {
      "text/html": [
       "<div>\n",
       "<style scoped>\n",
       "    .dataframe tbody tr th:only-of-type {\n",
       "        vertical-align: middle;\n",
       "    }\n",
       "\n",
       "    .dataframe tbody tr th {\n",
       "        vertical-align: top;\n",
       "    }\n",
       "\n",
       "    .dataframe thead th {\n",
       "        text-align: right;\n",
       "    }\n",
       "</style>\n",
       "<table border=\"1\" class=\"dataframe\">\n",
       "  <thead>\n",
       "    <tr style=\"text-align: right;\">\n",
       "      <th></th>\n",
       "      <th>NEK</th>\n",
       "      <th>compound_id</th>\n",
       "      <th>active</th>\n",
       "      <th>prediction_GP</th>\n",
       "      <th>UQ_metric_value_GP</th>\n",
       "      <th>prediction_BRFC_BCW</th>\n",
       "      <th>UQ_metric_value_BRFC_BCW</th>\n",
       "    </tr>\n",
       "  </thead>\n",
       "  <tbody>\n",
       "    <tr>\n",
       "      <th>0</th>\n",
       "      <td>NEK9_inhibition</td>\n",
       "      <td>kdb_2013</td>\n",
       "      <td>0</td>\n",
       "      <td>0</td>\n",
       "      <td>4.659319</td>\n",
       "      <td>0</td>\n",
       "      <td>0.272660</td>\n",
       "    </tr>\n",
       "    <tr>\n",
       "      <th>1</th>\n",
       "      <td>NEK9_inhibition</td>\n",
       "      <td>kdb_2212</td>\n",
       "      <td>0</td>\n",
       "      <td>0</td>\n",
       "      <td>5.097590</td>\n",
       "      <td>0</td>\n",
       "      <td>0.394277</td>\n",
       "    </tr>\n",
       "    <tr>\n",
       "      <th>2</th>\n",
       "      <td>NEK9_inhibition</td>\n",
       "      <td>kdb_2238</td>\n",
       "      <td>0</td>\n",
       "      <td>0</td>\n",
       "      <td>4.867220</td>\n",
       "      <td>0</td>\n",
       "      <td>0.140705</td>\n",
       "    </tr>\n",
       "    <tr>\n",
       "      <th>3</th>\n",
       "      <td>NEK9_inhibition</td>\n",
       "      <td>kdb_2908</td>\n",
       "      <td>0</td>\n",
       "      <td>0</td>\n",
       "      <td>5.113848</td>\n",
       "      <td>0</td>\n",
       "      <td>0.490207</td>\n",
       "    </tr>\n",
       "    <tr>\n",
       "      <th>4</th>\n",
       "      <td>NEK9_inhibition</td>\n",
       "      <td>kdb_3160</td>\n",
       "      <td>0</td>\n",
       "      <td>0</td>\n",
       "      <td>5.113848</td>\n",
       "      <td>0</td>\n",
       "      <td>0.490207</td>\n",
       "    </tr>\n",
       "    <tr>\n",
       "      <th>5</th>\n",
       "      <td>NEK9_inhibition</td>\n",
       "      <td>kdb_3164</td>\n",
       "      <td>0</td>\n",
       "      <td>0</td>\n",
       "      <td>3.745038</td>\n",
       "      <td>0</td>\n",
       "      <td>0.100000</td>\n",
       "    </tr>\n",
       "    <tr>\n",
       "      <th>6</th>\n",
       "      <td>NEK9_inhibition</td>\n",
       "      <td>kdb_3211</td>\n",
       "      <td>0</td>\n",
       "      <td>0</td>\n",
       "      <td>5.007483</td>\n",
       "      <td>0</td>\n",
       "      <td>0.196946</td>\n",
       "    </tr>\n",
       "    <tr>\n",
       "      <th>7</th>\n",
       "      <td>NEK9_inhibition</td>\n",
       "      <td>kdb_3224</td>\n",
       "      <td>0</td>\n",
       "      <td>1</td>\n",
       "      <td>3.463052</td>\n",
       "      <td>0</td>\n",
       "      <td>0.100000</td>\n",
       "    </tr>\n",
       "    <tr>\n",
       "      <th>8</th>\n",
       "      <td>NEK9_inhibition</td>\n",
       "      <td>kdb_3232</td>\n",
       "      <td>0</td>\n",
       "      <td>0</td>\n",
       "      <td>4.581771</td>\n",
       "      <td>0</td>\n",
       "      <td>0.238683</td>\n",
       "    </tr>\n",
       "    <tr>\n",
       "      <th>9</th>\n",
       "      <td>NEK9_inhibition</td>\n",
       "      <td>kdb_3241</td>\n",
       "      <td>0</td>\n",
       "      <td>0</td>\n",
       "      <td>4.559249</td>\n",
       "      <td>0</td>\n",
       "      <td>0.487832</td>\n",
       "    </tr>\n",
       "    <tr>\n",
       "      <th>10</th>\n",
       "      <td>NEK9_inhibition</td>\n",
       "      <td>kdb_3264</td>\n",
       "      <td>0</td>\n",
       "      <td>0</td>\n",
       "      <td>4.901257</td>\n",
       "      <td>0</td>\n",
       "      <td>0.358870</td>\n",
       "    </tr>\n",
       "    <tr>\n",
       "      <th>11</th>\n",
       "      <td>NEK9_inhibition</td>\n",
       "      <td>kdb_3290</td>\n",
       "      <td>0</td>\n",
       "      <td>0</td>\n",
       "      <td>4.744070</td>\n",
       "      <td>0</td>\n",
       "      <td>0.272660</td>\n",
       "    </tr>\n",
       "    <tr>\n",
       "      <th>12</th>\n",
       "      <td>NEK9_inhibition</td>\n",
       "      <td>kdb_3305</td>\n",
       "      <td>0</td>\n",
       "      <td>0</td>\n",
       "      <td>4.947342</td>\n",
       "      <td>0</td>\n",
       "      <td>0.000000</td>\n",
       "    </tr>\n",
       "    <tr>\n",
       "      <th>13</th>\n",
       "      <td>NEK9_inhibition</td>\n",
       "      <td>kdb_3330</td>\n",
       "      <td>0</td>\n",
       "      <td>0</td>\n",
       "      <td>4.412827</td>\n",
       "      <td>0</td>\n",
       "      <td>0.502418</td>\n",
       "    </tr>\n",
       "    <tr>\n",
       "      <th>14</th>\n",
       "      <td>NEK9_inhibition</td>\n",
       "      <td>kdb_3334</td>\n",
       "      <td>0</td>\n",
       "      <td>0</td>\n",
       "      <td>3.780212</td>\n",
       "      <td>0</td>\n",
       "      <td>0.100000</td>\n",
       "    </tr>\n",
       "  </tbody>\n",
       "</table>\n",
       "</div>"
      ],
      "text/plain": [
       "                NEK compound_id  active  prediction_GP  UQ_metric_value_GP  \\\n",
       "0   NEK9_inhibition    kdb_2013       0              0            4.659319   \n",
       "1   NEK9_inhibition    kdb_2212       0              0            5.097590   \n",
       "2   NEK9_inhibition    kdb_2238       0              0            4.867220   \n",
       "3   NEK9_inhibition    kdb_2908       0              0            5.113848   \n",
       "4   NEK9_inhibition    kdb_3160       0              0            5.113848   \n",
       "5   NEK9_inhibition    kdb_3164       0              0            3.745038   \n",
       "6   NEK9_inhibition    kdb_3211       0              0            5.007483   \n",
       "7   NEK9_inhibition    kdb_3224       0              1            3.463052   \n",
       "8   NEK9_inhibition    kdb_3232       0              0            4.581771   \n",
       "9   NEK9_inhibition    kdb_3241       0              0            4.559249   \n",
       "10  NEK9_inhibition    kdb_3264       0              0            4.901257   \n",
       "11  NEK9_inhibition    kdb_3290       0              0            4.744070   \n",
       "12  NEK9_inhibition    kdb_3305       0              0            4.947342   \n",
       "13  NEK9_inhibition    kdb_3330       0              0            4.412827   \n",
       "14  NEK9_inhibition    kdb_3334       0              0            3.780212   \n",
       "\n",
       "    prediction_BRFC_BCW  UQ_metric_value_BRFC_BCW  \n",
       "0                     0                  0.272660  \n",
       "1                     0                  0.394277  \n",
       "2                     0                  0.140705  \n",
       "3                     0                  0.490207  \n",
       "4                     0                  0.490207  \n",
       "5                     0                  0.100000  \n",
       "6                     0                  0.196946  \n",
       "7                     0                  0.100000  \n",
       "8                     0                  0.238683  \n",
       "9                     0                  0.487832  \n",
       "10                    0                  0.358870  \n",
       "11                    0                  0.272660  \n",
       "12                    0                  0.000000  \n",
       "13                    0                  0.502418  \n",
       "14                    0                  0.100000  "
      ]
     },
     "metadata": {},
     "output_type": "display_data"
    },
    {
     "data": {
      "application/javascript": [
       "\n",
       "        if (window._pyforest_update_imports_cell) { window._pyforest_update_imports_cell('import seaborn as sns\\nimport matplotlib.pyplot as plt\\nimport pandas as pd'); }\n",
       "    "
      ],
      "text/plain": [
       "<IPython.core.display.Javascript object>"
      ]
     },
     "metadata": {},
     "output_type": "display_data"
    }
   ],
   "source": [
    "from functools import reduce\n",
    "merged_dfs = []\n",
    "nek_labels = []\n",
    "for nek_df in [NEK2_inhibition, NEK9_inhibition]:\n",
    "    df_list = []\n",
    "    model_list=[]\n",
    "    nek_val=nek_df['NEK'].values[0]\n",
    "    \n",
    "    for model in ['UNDER_GP_matern','none_scaled_BRFC'] : \n",
    "        rf_model_label = 'BRFC'\n",
    "        if (nek_val=='NEK9_inhibition' and model=='none_scaled_BRFC'): \n",
    "            model ='none_scaled_BRFC_BCW'\n",
    "            rf_model_label= 'BRFC_BCW'\n",
    "        print(nek_val, model)\n",
    "        model_list.append(model)\n",
    "        df = pd.read_csv(f'{cmpd_df_path}{nek_val}_MFP_{model}_cmpd_class.csv')\n",
    "        df2=df[df['compound_id'].isin(list(common_inhib_test))]\n",
    "        keep_cols = ['NEK', 'compound_id','active','prediction','UQ_metric_value'] \n",
    "        df2=df2[keep_cols]\n",
    "       \n",
    "        df_list.append(df2) \n",
    "    \n",
    "    merged = df_list[0].merge(df_list[1], on=['compound_id','NEK','active'], suffixes=('_GP', f'_{rf_model_label}'))\n",
    "    display(merged)\n",
    "    merged_dfs.append(merged)    \n",
    "\n",
    "inhib_uqs = pd.merge(left=merged_dfs[0],right=merged_dfs[1], on=['compound_id', 'active'],\n",
    "                     suffixes=('_NEK2_inhibition', 'NEK9_inhibition'))\n"
   ]
  },
  {
   "cell_type": "code",
   "execution_count": 179,
   "id": "6811849f-b6b5-4a2b-86e3-13c75490a57d",
   "metadata": {},
   "outputs": [
    {
     "data": {
      "application/javascript": [
       "\n",
       "        if (window._pyforest_update_imports_cell) { window._pyforest_update_imports_cell('import seaborn as sns\\nimport matplotlib.pyplot as plt\\nimport pandas as pd'); }\n",
       "    "
      ],
      "text/plain": [
       "<IPython.core.display.Javascript object>"
      ]
     },
     "metadata": {},
     "output_type": "display_data"
    },
    {
     "data": {
      "application/javascript": [
       "\n",
       "        if (window._pyforest_update_imports_cell) { window._pyforest_update_imports_cell('import seaborn as sns\\nimport matplotlib.pyplot as plt\\nimport pandas as pd'); }\n",
       "    "
      ],
      "text/plain": [
       "<IPython.core.display.Javascript object>"
      ]
     },
     "metadata": {},
     "output_type": "display_data"
    },
    {
     "data": {
      "application/javascript": [
       "\n",
       "        if (window._pyforest_update_imports_cell) { window._pyforest_update_imports_cell('import seaborn as sns\\nimport matplotlib.pyplot as plt\\nimport pandas as pd'); }\n",
       "    "
      ],
      "text/plain": [
       "<IPython.core.display.Javascript object>"
      ]
     },
     "metadata": {},
     "output_type": "display_data"
    },
    {
     "data": {
      "application/javascript": [
       "\n",
       "        if (window._pyforest_update_imports_cell) { window._pyforest_update_imports_cell('import seaborn as sns\\nimport matplotlib.pyplot as plt\\nimport pandas as pd'); }\n",
       "    "
      ],
      "text/plain": [
       "<IPython.core.display.Javascript object>"
      ]
     },
     "metadata": {},
     "output_type": "display_data"
    },
    {
     "data": {
      "application/javascript": [
       "\n",
       "        if (window._pyforest_update_imports_cell) { window._pyforest_update_imports_cell('import seaborn as sns\\nimport matplotlib.pyplot as plt\\nimport pandas as pd'); }\n",
       "    "
      ],
      "text/plain": [
       "<IPython.core.display.Javascript object>"
      ]
     },
     "metadata": {},
     "output_type": "display_data"
    },
    {
     "data": {
      "application/javascript": [
       "\n",
       "        if (window._pyforest_update_imports_cell) { window._pyforest_update_imports_cell('import seaborn as sns\\nimport matplotlib.pyplot as plt\\nimport pandas as pd'); }\n",
       "    "
      ],
      "text/plain": [
       "<IPython.core.display.Javascript object>"
      ]
     },
     "metadata": {},
     "output_type": "display_data"
    },
    {
     "data": {
      "application/javascript": [
       "\n",
       "        if (window._pyforest_update_imports_cell) { window._pyforest_update_imports_cell('import seaborn as sns\\nimport matplotlib.pyplot as plt\\nimport pandas as pd'); }\n",
       "    "
      ],
      "text/plain": [
       "<IPython.core.display.Javascript object>"
      ]
     },
     "metadata": {},
     "output_type": "display_data"
    },
    {
     "data": {
      "application/javascript": [
       "\n",
       "        if (window._pyforest_update_imports_cell) { window._pyforest_update_imports_cell('import seaborn as sns\\nimport matplotlib.pyplot as plt\\nimport pandas as pd'); }\n",
       "    "
      ],
      "text/plain": [
       "<IPython.core.display.Javascript object>"
      ]
     },
     "metadata": {},
     "output_type": "display_data"
    },
    {
     "data": {
      "application/javascript": [
       "\n",
       "        if (window._pyforest_update_imports_cell) { window._pyforest_update_imports_cell('import seaborn as sns\\nimport matplotlib.pyplot as plt\\nimport pandas as pd'); }\n",
       "    "
      ],
      "text/plain": [
       "<IPython.core.display.Javascript object>"
      ]
     },
     "metadata": {},
     "output_type": "display_data"
    },
    {
     "data": {
      "application/javascript": [
       "\n",
       "        if (window._pyforest_update_imports_cell) { window._pyforest_update_imports_cell('import seaborn as sns\\nimport matplotlib.pyplot as plt\\nimport pandas as pd'); }\n",
       "    "
      ],
      "text/plain": [
       "<IPython.core.display.Javascript object>"
      ]
     },
     "metadata": {},
     "output_type": "display_data"
    },
    {
     "data": {
      "image/png": "[encoded data removed]",
      "text/plain": [
       "<Figure size 1000x600 with 1 Axes>"
      ]
     },
     "metadata": {},
     "output_type": "display_data"
    }
   ],
   "source": [
    "# fig_path='/Users/jayceepang/msse/capstone/atom2024/atom2024/notebooks/paper/UQ/compare_across/figs/UQ_point_comparison/'\n",
    "df1 = pd.melt(merged_dfs[0], id_vars=['compound_id','NEK','active'],value_vars=['UQ_metric_value_GP', 'UQ_metric_value_BRFC'],\n",
    "    var_name='model',value_name='UQ_value')\n",
    "df1['NEK_group'] = 'NEK2_inhibition'\n",
    "\n",
    "df2 = pd.melt(merged_dfs[1], id_vars=['compound_id','NEK','active'], value_vars=['UQ_metric_value_GP','UQ_metric_value_BRFC_BCW'],\n",
    "    var_name='model',value_name='UQ_value')\n",
    "df2['NEK_group'] = 'NEK9_inhibition'\n",
    "all_df = pd.concat([df1, df2])\n",
    "all_df['model'] = all_df['model'].str.replace('UQ_metric_value_', '')\n",
    "plt.figure(figsize=(10, 6))\n",
    "sns.scatterplot(data=all_df,x='compound_id',y='UQ_value',\n",
    "    hue='NEK_group',style='model',palette='deep',s=50)\n",
    "plt.xticks(rotation=90)\n",
    "plt.title('NEK Inhibition Selectivity')\n",
    "plt.tight_layout()\n",
    "plt.savefig(f'inhibition_selectivity.png', bbox_inches='tight')\n",
    "plt.show()\n"
   ]
  },
  {
   "cell_type": "code",
   "execution_count": 88,
   "id": "8f37f2f9-0037-4a09-9681-5a9100142d4d",
   "metadata": {
    "scrolled": true
   },
   "outputs": [
    {
     "data": {
      "application/javascript": [
       "\n",
       "        if (window._pyforest_update_imports_cell) { window._pyforest_update_imports_cell('import pandas as pd'); }\n",
       "    "
      ],
      "text/plain": [
       "<IPython.core.display.Javascript object>"
      ]
     },
     "metadata": {},
     "output_type": "display_data"
    },
    {
     "data": {
      "application/javascript": [
       "\n",
       "        if (window._pyforest_update_imports_cell) { window._pyforest_update_imports_cell('import pandas as pd'); }\n",
       "    "
      ],
      "text/plain": [
       "<IPython.core.display.Javascript object>"
      ]
     },
     "metadata": {},
     "output_type": "display_data"
    },
    {
     "data": {
      "application/javascript": [
       "\n",
       "        if (window._pyforest_update_imports_cell) { window._pyforest_update_imports_cell('import pandas as pd'); }\n",
       "    "
      ],
      "text/plain": [
       "<IPython.core.display.Javascript object>"
      ]
     },
     "metadata": {},
     "output_type": "display_data"
    },
    {
     "data": {
      "application/javascript": [
       "\n",
       "        if (window._pyforest_update_imports_cell) { window._pyforest_update_imports_cell('import pandas as pd'); }\n",
       "    "
      ],
      "text/plain": [
       "<IPython.core.display.Javascript object>"
      ]
     },
     "metadata": {},
     "output_type": "display_data"
    },
    {
     "data": {
      "application/javascript": [
       "\n",
       "        if (window._pyforest_update_imports_cell) { window._pyforest_update_imports_cell('import pandas as pd'); }\n",
       "    "
      ],
      "text/plain": [
       "<IPython.core.display.Javascript object>"
      ]
     },
     "metadata": {},
     "output_type": "display_data"
    },
    {
     "data": {
      "application/javascript": [
       "\n",
       "        if (window._pyforest_update_imports_cell) { window._pyforest_update_imports_cell('import pandas as pd'); }\n",
       "    "
      ],
      "text/plain": [
       "<IPython.core.display.Javascript object>"
      ]
     },
     "metadata": {},
     "output_type": "display_data"
    },
    {
     "data": {
      "application/javascript": [
       "\n",
       "        if (window._pyforest_update_imports_cell) { window._pyforest_update_imports_cell('import pandas as pd'); }\n",
       "    "
      ],
      "text/plain": [
       "<IPython.core.display.Javascript object>"
      ]
     },
     "metadata": {},
     "output_type": "display_data"
    },
    {
     "data": {
      "application/javascript": [
       "\n",
       "        if (window._pyforest_update_imports_cell) { window._pyforest_update_imports_cell('import pandas as pd'); }\n",
       "    "
      ],
      "text/plain": [
       "<IPython.core.display.Javascript object>"
      ]
     },
     "metadata": {},
     "output_type": "display_data"
    },
    {
     "data": {
      "application/javascript": [
       "\n",
       "        if (window._pyforest_update_imports_cell) { window._pyforest_update_imports_cell('import pandas as pd'); }\n",
       "    "
      ],
      "text/plain": [
       "<IPython.core.display.Javascript object>"
      ]
     },
     "metadata": {},
     "output_type": "display_data"
    },
    {
     "data": {
      "application/javascript": [
       "\n",
       "        if (window._pyforest_update_imports_cell) { window._pyforest_update_imports_cell('import pandas as pd'); }\n",
       "    "
      ],
      "text/plain": [
       "<IPython.core.display.Javascript object>"
      ]
     },
     "metadata": {},
     "output_type": "display_data"
    },
    {
     "data": {
      "application/javascript": [
       "\n",
       "        if (window._pyforest_update_imports_cell) { window._pyforest_update_imports_cell('import pandas as pd'); }\n",
       "    "
      ],
      "text/plain": [
       "<IPython.core.display.Javascript object>"
      ]
     },
     "metadata": {},
     "output_type": "display_data"
    },
    {
     "data": {
      "application/javascript": [
       "\n",
       "        if (window._pyforest_update_imports_cell) { window._pyforest_update_imports_cell('import pandas as pd'); }\n",
       "    "
      ],
      "text/plain": [
       "<IPython.core.display.Javascript object>"
      ]
     },
     "metadata": {},
     "output_type": "display_data"
    },
    {
     "data": {
      "application/javascript": [
       "\n",
       "        if (window._pyforest_update_imports_cell) { window._pyforest_update_imports_cell('import pandas as pd'); }\n",
       "    "
      ],
      "text/plain": [
       "<IPython.core.display.Javascript object>"
      ]
     },
     "metadata": {},
     "output_type": "display_data"
    },
    {
     "data": {
      "application/javascript": [
       "\n",
       "        if (window._pyforest_update_imports_cell) { window._pyforest_update_imports_cell('import pandas as pd'); }\n",
       "    "
      ],
      "text/plain": [
       "<IPython.core.display.Javascript object>"
      ]
     },
     "metadata": {},
     "output_type": "display_data"
    },
    {
     "data": {
      "application/javascript": [
       "\n",
       "        if (window._pyforest_update_imports_cell) { window._pyforest_update_imports_cell('import pandas as pd'); }\n",
       "    "
      ],
      "text/plain": [
       "<IPython.core.display.Javascript object>"
      ]
     },
     "metadata": {},
     "output_type": "display_data"
    },
    {
     "data": {
      "application/javascript": [
       "\n",
       "        if (window._pyforest_update_imports_cell) { window._pyforest_update_imports_cell('import pandas as pd'); }\n",
       "    "
      ],
      "text/plain": [
       "<IPython.core.display.Javascript object>"
      ]
     },
     "metadata": {},
     "output_type": "display_data"
    },
    {
     "data": {
      "application/javascript": [
       "\n",
       "        if (window._pyforest_update_imports_cell) { window._pyforest_update_imports_cell('import pandas as pd'); }\n",
       "    "
      ],
      "text/plain": [
       "<IPython.core.display.Javascript object>"
      ]
     },
     "metadata": {},
     "output_type": "display_data"
    },
    {
     "data": {
      "application/javascript": [
       "\n",
       "        if (window._pyforest_update_imports_cell) { window._pyforest_update_imports_cell('import pandas as pd'); }\n",
       "    "
      ],
      "text/plain": [
       "<IPython.core.display.Javascript object>"
      ]
     },
     "metadata": {},
     "output_type": "display_data"
    },
    {
     "data": {
      "application/javascript": [
       "\n",
       "        if (window._pyforest_update_imports_cell) { window._pyforest_update_imports_cell('import pandas as pd'); }\n",
       "    "
      ],
      "text/plain": [
       "<IPython.core.display.Javascript object>"
      ]
     },
     "metadata": {},
     "output_type": "display_data"
    },
    {
     "data": {
      "application/javascript": [
       "\n",
       "        if (window._pyforest_update_imports_cell) { window._pyforest_update_imports_cell('import pandas as pd'); }\n",
       "    "
      ],
      "text/plain": [
       "<IPython.core.display.Javascript object>"
      ]
     },
     "metadata": {},
     "output_type": "display_data"
    },
    {
     "data": {
      "application/javascript": [
       "\n",
       "        if (window._pyforest_update_imports_cell) { window._pyforest_update_imports_cell('import pandas as pd'); }\n",
       "    "
      ],
      "text/plain": [
       "<IPython.core.display.Javascript object>"
      ]
     },
     "metadata": {},
     "output_type": "display_data"
    },
    {
     "data": {
      "application/javascript": [
       "\n",
       "        if (window._pyforest_update_imports_cell) { window._pyforest_update_imports_cell('import pandas as pd'); }\n",
       "    "
      ],
      "text/plain": [
       "<IPython.core.display.Javascript object>"
      ]
     },
     "metadata": {},
     "output_type": "display_data"
    },
    {
     "data": {
      "application/javascript": [
       "\n",
       "        if (window._pyforest_update_imports_cell) { window._pyforest_update_imports_cell('import pandas as pd'); }\n",
       "    "
      ],
      "text/plain": [
       "<IPython.core.display.Javascript object>"
      ]
     },
     "metadata": {},
     "output_type": "display_data"
    },
    {
     "data": {
      "application/javascript": [
       "\n",
       "        if (window._pyforest_update_imports_cell) { window._pyforest_update_imports_cell('import pandas as pd'); }\n",
       "    "
      ],
      "text/plain": [
       "<IPython.core.display.Javascript object>"
      ]
     },
     "metadata": {},
     "output_type": "display_data"
    },
    {
     "data": {
      "application/javascript": [
       "\n",
       "        if (window._pyforest_update_imports_cell) { window._pyforest_update_imports_cell('import pandas as pd'); }\n",
       "    "
      ],
      "text/plain": [
       "<IPython.core.display.Javascript object>"
      ]
     },
     "metadata": {},
     "output_type": "display_data"
    },
    {
     "data": {
      "application/javascript": [
       "\n",
       "        if (window._pyforest_update_imports_cell) { window._pyforest_update_imports_cell('import pandas as pd'); }\n",
       "    "
      ],
      "text/plain": [
       "<IPython.core.display.Javascript object>"
      ]
     },
     "metadata": {},
     "output_type": "display_data"
    },
    {
     "data": {
      "application/javascript": [
       "\n",
       "        if (window._pyforest_update_imports_cell) { window._pyforest_update_imports_cell('import pandas as pd'); }\n",
       "    "
      ],
      "text/plain": [
       "<IPython.core.display.Javascript object>"
      ]
     },
     "metadata": {},
     "output_type": "display_data"
    },
    {
     "data": {
      "application/javascript": [
       "\n",
       "        if (window._pyforest_update_imports_cell) { window._pyforest_update_imports_cell('import pandas as pd'); }\n",
       "    "
      ],
      "text/plain": [
       "<IPython.core.display.Javascript object>"
      ]
     },
     "metadata": {},
     "output_type": "display_data"
    },
    {
     "data": {
      "application/javascript": [
       "\n",
       "        if (window._pyforest_update_imports_cell) { window._pyforest_update_imports_cell('import pandas as pd'); }\n",
       "    "
      ],
      "text/plain": [
       "<IPython.core.display.Javascript object>"
      ]
     },
     "metadata": {},
     "output_type": "display_data"
    },
    {
     "data": {
      "application/javascript": [
       "\n",
       "        if (window._pyforest_update_imports_cell) { window._pyforest_update_imports_cell('import pandas as pd'); }\n",
       "    "
      ],
      "text/plain": [
       "<IPython.core.display.Javascript object>"
      ]
     },
     "metadata": {},
     "output_type": "display_data"
    },
    {
     "data": {
      "application/javascript": [
       "\n",
       "        if (window._pyforest_update_imports_cell) { window._pyforest_update_imports_cell('import pandas as pd'); }\n",
       "    "
      ],
      "text/plain": [
       "<IPython.core.display.Javascript object>"
      ]
     },
     "metadata": {},
     "output_type": "display_data"
    },
    {
     "data": {
      "application/javascript": [
       "\n",
       "        if (window._pyforest_update_imports_cell) { window._pyforest_update_imports_cell('import pandas as pd'); }\n",
       "    "
      ],
      "text/plain": [
       "<IPython.core.display.Javascript object>"
      ]
     },
     "metadata": {},
     "output_type": "display_data"
    },
    {
     "data": {
      "application/javascript": [
       "\n",
       "        if (window._pyforest_update_imports_cell) { window._pyforest_update_imports_cell('import pandas as pd'); }\n",
       "    "
      ],
      "text/plain": [
       "<IPython.core.display.Javascript object>"
      ]
     },
     "metadata": {},
     "output_type": "display_data"
    },
    {
     "data": {
      "application/javascript": [
       "\n",
       "        if (window._pyforest_update_imports_cell) { window._pyforest_update_imports_cell('import pandas as pd'); }\n",
       "    "
      ],
      "text/plain": [
       "<IPython.core.display.Javascript object>"
      ]
     },
     "metadata": {},
     "output_type": "display_data"
    },
    {
     "data": {
      "application/javascript": [
       "\n",
       "        if (window._pyforest_update_imports_cell) { window._pyforest_update_imports_cell('import pandas as pd'); }\n",
       "    "
      ],
      "text/plain": [
       "<IPython.core.display.Javascript object>"
      ]
     },
     "metadata": {},
     "output_type": "display_data"
    },
    {
     "data": {
      "application/javascript": [
       "\n",
       "        if (window._pyforest_update_imports_cell) { window._pyforest_update_imports_cell('import pandas as pd'); }\n",
       "    "
      ],
      "text/plain": [
       "<IPython.core.display.Javascript object>"
      ]
     },
     "metadata": {},
     "output_type": "display_data"
    },
    {
     "data": {
      "application/javascript": [
       "\n",
       "        if (window._pyforest_update_imports_cell) { window._pyforest_update_imports_cell('import pandas as pd'); }\n",
       "    "
      ],
      "text/plain": [
       "<IPython.core.display.Javascript object>"
      ]
     },
     "metadata": {},
     "output_type": "display_data"
    },
    {
     "data": {
      "application/javascript": [
       "\n",
       "        if (window._pyforest_update_imports_cell) { window._pyforest_update_imports_cell('import pandas as pd'); }\n",
       "    "
      ],
      "text/plain": [
       "<IPython.core.display.Javascript object>"
      ]
     },
     "metadata": {},
     "output_type": "display_data"
    },
    {
     "data": {
      "application/javascript": [
       "\n",
       "        if (window._pyforest_update_imports_cell) { window._pyforest_update_imports_cell('import pandas as pd'); }\n",
       "    "
      ],
      "text/plain": [
       "<IPython.core.display.Javascript object>"
      ]
     },
     "metadata": {},
     "output_type": "display_data"
    },
    {
     "data": {
      "application/javascript": [
       "\n",
       "        if (window._pyforest_update_imports_cell) { window._pyforest_update_imports_cell('import pandas as pd'); }\n",
       "    "
      ],
      "text/plain": [
       "<IPython.core.display.Javascript object>"
      ]
     },
     "metadata": {},
     "output_type": "display_data"
    },
    {
     "data": {
      "application/javascript": [
       "\n",
       "        if (window._pyforest_update_imports_cell) { window._pyforest_update_imports_cell('import pandas as pd'); }\n",
       "    "
      ],
      "text/plain": [
       "<IPython.core.display.Javascript object>"
      ]
     },
     "metadata": {},
     "output_type": "display_data"
    },
    {
     "data": {
      "application/javascript": [
       "\n",
       "        if (window._pyforest_update_imports_cell) { window._pyforest_update_imports_cell('import pandas as pd'); }\n",
       "    "
      ],
      "text/plain": [
       "<IPython.core.display.Javascript object>"
      ]
     },
     "metadata": {},
     "output_type": "display_data"
    },
    {
     "data": {
      "application/javascript": [
       "\n",
       "        if (window._pyforest_update_imports_cell) { window._pyforest_update_imports_cell('import pandas as pd'); }\n",
       "    "
      ],
      "text/plain": [
       "<IPython.core.display.Javascript object>"
      ]
     },
     "metadata": {},
     "output_type": "display_data"
    },
    {
     "data": {
      "application/javascript": [
       "\n",
       "        if (window._pyforest_update_imports_cell) { window._pyforest_update_imports_cell('import pandas as pd'); }\n",
       "    "
      ],
      "text/plain": [
       "<IPython.core.display.Javascript object>"
      ]
     },
     "metadata": {},
     "output_type": "display_data"
    },
    {
     "data": {
      "application/javascript": [
       "\n",
       "        if (window._pyforest_update_imports_cell) { window._pyforest_update_imports_cell('import pandas as pd'); }\n",
       "    "
      ],
      "text/plain": [
       "<IPython.core.display.Javascript object>"
      ]
     },
     "metadata": {},
     "output_type": "display_data"
    },
    {
     "data": {
      "application/javascript": [
       "\n",
       "        if (window._pyforest_update_imports_cell) { window._pyforest_update_imports_cell('import pandas as pd'); }\n",
       "    "
      ],
      "text/plain": [
       "<IPython.core.display.Javascript object>"
      ]
     },
     "metadata": {},
     "output_type": "display_data"
    },
    {
     "data": {
      "application/javascript": [
       "\n",
       "        if (window._pyforest_update_imports_cell) { window._pyforest_update_imports_cell('import pandas as pd'); }\n",
       "    "
      ],
      "text/plain": [
       "<IPython.core.display.Javascript object>"
      ]
     },
     "metadata": {},
     "output_type": "display_data"
    },
    {
     "data": {
      "application/javascript": [
       "\n",
       "        if (window._pyforest_update_imports_cell) { window._pyforest_update_imports_cell('import pandas as pd'); }\n",
       "    "
      ],
      "text/plain": [
       "<IPython.core.display.Javascript object>"
      ]
     },
     "metadata": {},
     "output_type": "display_data"
    },
    {
     "data": {
      "application/javascript": [
       "\n",
       "        if (window._pyforest_update_imports_cell) { window._pyforest_update_imports_cell('import pandas as pd'); }\n",
       "    "
      ],
      "text/plain": [
       "<IPython.core.display.Javascript object>"
      ]
     },
     "metadata": {},
     "output_type": "display_data"
    },
    {
     "data": {
      "application/javascript": [
       "\n",
       "        if (window._pyforest_update_imports_cell) { window._pyforest_update_imports_cell('import pandas as pd'); }\n",
       "    "
      ],
      "text/plain": [
       "<IPython.core.display.Javascript object>"
      ]
     },
     "metadata": {},
     "output_type": "display_data"
    },
    {
     "data": {
      "application/javascript": [
       "\n",
       "        if (window._pyforest_update_imports_cell) { window._pyforest_update_imports_cell('import pandas as pd'); }\n",
       "    "
      ],
      "text/plain": [
       "<IPython.core.display.Javascript object>"
      ]
     },
     "metadata": {},
     "output_type": "display_data"
    },
    {
     "data": {
      "application/javascript": [
       "\n",
       "        if (window._pyforest_update_imports_cell) { window._pyforest_update_imports_cell('import pandas as pd'); }\n",
       "    "
      ],
      "text/plain": [
       "<IPython.core.display.Javascript object>"
      ]
     },
     "metadata": {},
     "output_type": "display_data"
    },
    {
     "data": {
      "application/javascript": [
       "\n",
       "        if (window._pyforest_update_imports_cell) { window._pyforest_update_imports_cell('import pandas as pd'); }\n",
       "    "
      ],
      "text/plain": [
       "<IPython.core.display.Javascript object>"
      ]
     },
     "metadata": {},
     "output_type": "display_data"
    },
    {
     "data": {
      "application/javascript": [
       "\n",
       "        if (window._pyforest_update_imports_cell) { window._pyforest_update_imports_cell('import pandas as pd'); }\n",
       "    "
      ],
      "text/plain": [
       "<IPython.core.display.Javascript object>"
      ]
     },
     "metadata": {},
     "output_type": "display_data"
    },
    {
     "data": {
      "application/javascript": [
       "\n",
       "        if (window._pyforest_update_imports_cell) { window._pyforest_update_imports_cell('import pandas as pd'); }\n",
       "    "
      ],
      "text/plain": [
       "<IPython.core.display.Javascript object>"
      ]
     },
     "metadata": {},
     "output_type": "display_data"
    },
    {
     "data": {
      "application/javascript": [
       "\n",
       "        if (window._pyforest_update_imports_cell) { window._pyforest_update_imports_cell('import pandas as pd'); }\n",
       "    "
      ],
      "text/plain": [
       "<IPython.core.display.Javascript object>"
      ]
     },
     "metadata": {},
     "output_type": "display_data"
    },
    {
     "data": {
      "application/javascript": [
       "\n",
       "        if (window._pyforest_update_imports_cell) { window._pyforest_update_imports_cell('import pandas as pd'); }\n",
       "    "
      ],
      "text/plain": [
       "<IPython.core.display.Javascript object>"
      ]
     },
     "metadata": {},
     "output_type": "display_data"
    },
    {
     "data": {
      "application/javascript": [
       "\n",
       "        if (window._pyforest_update_imports_cell) { window._pyforest_update_imports_cell('import pandas as pd'); }\n",
       "    "
      ],
      "text/plain": [
       "<IPython.core.display.Javascript object>"
      ]
     },
     "metadata": {},
     "output_type": "display_data"
    },
    {
     "data": {
      "application/javascript": [
       "\n",
       "        if (window._pyforest_update_imports_cell) { window._pyforest_update_imports_cell('import pandas as pd'); }\n",
       "    "
      ],
      "text/plain": [
       "<IPython.core.display.Javascript object>"
      ]
     },
     "metadata": {},
     "output_type": "display_data"
    },
    {
     "data": {
      "application/javascript": [
       "\n",
       "        if (window._pyforest_update_imports_cell) { window._pyforest_update_imports_cell('import pandas as pd'); }\n",
       "    "
      ],
      "text/plain": [
       "<IPython.core.display.Javascript object>"
      ]
     },
     "metadata": {},
     "output_type": "display_data"
    }
   ],
   "source": [
    "nek9_inhib_values = []\n",
    "nek2_inhib_values=[]\n",
    "for cmpd in common_inhib_test:\n",
    "    for nek_df in [NEK2_inhibition, NEK9_inhibition]:\n",
    "        df_list = []\n",
    "        model_list=[]\n",
    "        nek_val = nek_df['NEK'].iloc[0]\n",
    "        # match = nek_df[nek_df['compound_id'] == cmpd]\n",
    "        \n",
    "        for model in ['UNDER_GP_matern', 'none_scaled_BRFC']:\n",
    "            model_version = model\n",
    "            model_df =pd.read_csv(f'{cmpd_df_path}{nek}_MFP_{model}_cmpd_class.csv')\n",
    "            match = model_df[model_df['compound_id'] == cmpd]\n",
    "            if nek_val == 'NEK9_inhibition' and model == 'none_scaled_BRFC':\n",
    "                model_version = 'none_scaled_BRFC_BCW'\n",
    "            row = match[match['model_version'] == model_version]\n",
    "            if row.empty:\n",
    "                continue\n",
    "\n",
    "            result = {'compound_id':cmpd,'NEK': nek_val,'model': model,'model_version':model_version,\n",
    "                'active':row['active'].values[0],'prediction':row['prediction'].values[0],\n",
    "                'prediction_type':row['prediction_type'].values[0],\n",
    "                'UQ_metric_value': row['UQ_metric_value'].values[0] }\n",
    "\n",
    "\n",
    "            if nek_val == 'NEK2_inhibition':\n",
    "                nek2_inhib_values.append(result)\n",
    "            elif nek_val == 'NEK9_inhibition':\n",
    "                nek9_inhib_values.append(result)\n",
    "\n",
    "\n",
    "nek2inhib_df_final = pd.DataFrame(nek2_inhib_values)\n",
    "nek9inhib_df_final = pd.DataFrame(nek9_inhib_values)\n",
    "combined_df = pd.DataFrame(nek2_inhib_values+nek9_inhib_values)"
   ]
  },
  {
   "cell_type": "code",
   "execution_count": null,
   "id": "fd5773b3-31a0-425f-b0c8-2e22a7abb4c1",
   "metadata": {},
   "outputs": [],
   "source": []
  },
  {
   "cell_type": "code",
   "execution_count": null,
   "id": "e0b9be6c-c3c1-474a-aa4b-f7a3a020fa41",
   "metadata": {},
   "outputs": [],
   "source": []
  },
  {
   "cell_type": "markdown",
   "id": "94311574-5662-45ed-b83f-914ba34ec157",
   "metadata": {},
   "source": [
    "## Binding test overlaps ## "
   ]
  },
  {
   "cell_type": "code",
   "execution_count": 143,
   "id": "e3323ea3-a9f3-4354-81eb-332656191907",
   "metadata": {},
   "outputs": [
    {
     "name": "stdout",
     "output_type": "stream",
     "text": [
      "NEK2_binding overlap with NEK3_binding\n",
      "64\n",
      "NEK2_binding overlap with NEK5_binding\n",
      "46\n",
      "NEK2_binding overlap with NEK9_binding\n",
      "72\n",
      "NEK3_binding overlap with NEK5_binding\n",
      "40\n",
      "NEK3_binding overlap with NEK9_binding\n",
      "64\n",
      "NEK5_binding overlap with NEK9_binding\n",
      "46\n"
     ]
    }
   ],
   "source": [
    "# nek2bindtest=NEK2_binding[NEK2_binding['subset']=='test']\n",
    "# nek9bindtest=NEK9_binding[NEK9_binding['subset']=='test']\n",
    "# nek3bindtest=NEK3_binding[NEK3_binding['subset']=='test']\n",
    "# nek5bindtest=NEK5_binding[NEK5_binding['subset']=='test']\n",
    "binding_neks = [nek2bindtest,nek3bindtest,nek5bindtest,nek9bindtest]\n",
    "binding_neks_len = 4 \n",
    "count = 0 \n",
    "for i in range(binding_neks_len): \n",
    "    for j in range(i+1, binding_neks_len): \n",
    "        ij_overlap = common_unique_values(list(binding_neks[i]['compound_id'].values),list(binding_neks[j]['compound_id'].values))\n",
    "        print(f\"{binding_neks[i]['NEK'].iloc[0]} overlap with {binding_neks[j]['NEK'].iloc[0]}\")\n",
    "        print(len(ij_overlap))"
   ]
  },
  {
   "cell_type": "code",
   "execution_count": 148,
   "id": "df5c747c-8de2-4604-bde1-f54987d029a7",
   "metadata": {},
   "outputs": [
    {
     "name": "stdout",
     "output_type": "stream",
     "text": [
      "NEK2_binding overlap with NEK3_binding and NEK5_binding\n",
      "12\n",
      "NEK2_binding overlap with NEK3_binding and NEK9_binding\n",
      "18\n",
      "NEK2_binding overlap with NEK5_binding and NEK9_binding\n",
      "11\n",
      "NEK3_binding overlap with NEK5_binding and NEK9_binding\n",
      "4\n"
     ]
    },
    {
     "data": {
      "application/javascript": [
       "\n",
       "        if (window._pyforest_update_imports_cell) { window._pyforest_update_imports_cell('import seaborn as sns\\nimport matplotlib.pyplot as plt\\nimport pandas as pd'); }\n",
       "    "
      ],
      "text/plain": [
       "<IPython.core.display.Javascript object>"
      ]
     },
     "metadata": {},
     "output_type": "display_data"
    }
   ],
   "source": [
    "dfis=[]\n",
    "dfjs=[]\n",
    "dfks = []\n",
    "overlaps3 = []\n",
    "num_cmpds = [] \n",
    "for i in range(binding_neks_len): \n",
    "    for j in range(i+1, binding_neks_len): \n",
    "        for k in range(j+1, binding_neks_len): \n",
    "            ijk_overlap = common_unique_values(list(binding_neks[i]['compound_id'].values),\n",
    "                                               list(binding_neks[j]['compound_id'].values),\n",
    "                                              list(binding_neks[k]['compound_id'].values))\n",
    "            print(f\"{binding_neks[i]['NEK'].iloc[0]} overlap with {binding_neks[j]['NEK'].iloc[0]} and {binding_neks[k]['NEK'].iloc[0]}\")\n",
    "            print(len(ijk_overlap))\n",
    "            dfis.append(f\"{binding_neks[i]['NEK'].iloc[0]}\")\n",
    "            dfjs.append(f\"{binding_neks[j]['NEK'].iloc[0]}\")\n",
    "            dfks.append(f\"{binding_neks[k]['NEK'].iloc[0]}\")\n",
    "            overlaps3.append(ijk_overlap)\n",
    "            num_cmpds.append(len(ijk_overlap))\n",
    "overlap3_list_df =  pd.DataFrame({'NEK_i': dfis, 'NEK_j': dfjs, 'NEK_k':dfks, 'overlap': overlaps3,\n",
    "                                 'num compounds in overlap': num_cmpds})       "
   ]
  },
  {
   "cell_type": "code",
   "execution_count": 149,
   "id": "ed99c18e-a53e-4280-af08-e7c515a0f8bd",
   "metadata": {},
   "outputs": [
    {
     "data": {
      "text/html": [
       "<div>\n",
       "<style scoped>\n",
       "    .dataframe tbody tr th:only-of-type {\n",
       "        vertical-align: middle;\n",
       "    }\n",
       "\n",
       "    .dataframe tbody tr th {\n",
       "        vertical-align: top;\n",
       "    }\n",
       "\n",
       "    .dataframe thead th {\n",
       "        text-align: right;\n",
       "    }\n",
       "</style>\n",
       "<table border=\"1\" class=\"dataframe\">\n",
       "  <thead>\n",
       "    <tr style=\"text-align: right;\">\n",
       "      <th></th>\n",
       "      <th>NEK_i</th>\n",
       "      <th>NEK_j</th>\n",
       "      <th>NEK_k</th>\n",
       "      <th>overlap</th>\n",
       "      <th>num compounds in overlap</th>\n",
       "    </tr>\n",
       "  </thead>\n",
       "  <tbody>\n",
       "    <tr>\n",
       "      <th>0</th>\n",
       "      <td>NEK2_binding</td>\n",
       "      <td>NEK3_binding</td>\n",
       "      <td>NEK5_binding</td>\n",
       "      <td>{kdb_3007, kdb_2749, kdb_2493, kdb_2590, kdb_2...</td>\n",
       "      <td>12</td>\n",
       "    </tr>\n",
       "    <tr>\n",
       "      <th>1</th>\n",
       "      <td>NEK2_binding</td>\n",
       "      <td>NEK3_binding</td>\n",
       "      <td>NEK9_binding</td>\n",
       "      <td>{kdb_2718, kdb_2131, kdb_1219, kdb_2221, kdb_2...</td>\n",
       "      <td>18</td>\n",
       "    </tr>\n",
       "    <tr>\n",
       "      <th>2</th>\n",
       "      <td>NEK2_binding</td>\n",
       "      <td>NEK5_binding</td>\n",
       "      <td>NEK9_binding</td>\n",
       "      <td>{kdb_2225, kdb_63, kdb_168, kdb_1512, kdb_2531...</td>\n",
       "      <td>11</td>\n",
       "    </tr>\n",
       "    <tr>\n",
       "      <th>3</th>\n",
       "      <td>NEK3_binding</td>\n",
       "      <td>NEK5_binding</td>\n",
       "      <td>NEK9_binding</td>\n",
       "      <td>{kdb_2827, kdb_2181, kdb_2293, kdb_2530}</td>\n",
       "      <td>4</td>\n",
       "    </tr>\n",
       "  </tbody>\n",
       "</table>\n",
       "</div>"
      ],
      "text/plain": [
       "          NEK_i         NEK_j         NEK_k  \\\n",
       "0  NEK2_binding  NEK3_binding  NEK5_binding   \n",
       "1  NEK2_binding  NEK3_binding  NEK9_binding   \n",
       "2  NEK2_binding  NEK5_binding  NEK9_binding   \n",
       "3  NEK3_binding  NEK5_binding  NEK9_binding   \n",
       "\n",
       "                                             overlap  num compounds in overlap  \n",
       "0  {kdb_3007, kdb_2749, kdb_2493, kdb_2590, kdb_2...                        12  \n",
       "1  {kdb_2718, kdb_2131, kdb_1219, kdb_2221, kdb_2...                        18  \n",
       "2  {kdb_2225, kdb_63, kdb_168, kdb_1512, kdb_2531...                        11  \n",
       "3           {kdb_2827, kdb_2181, kdb_2293, kdb_2530}                         4  "
      ]
     },
     "execution_count": 149,
     "metadata": {},
     "output_type": "execute_result"
    }
   ],
   "source": [
    "overlap3_list_df"
   ]
  },
  {
   "cell_type": "code",
   "execution_count": 160,
   "id": "c027bfe5-2e9b-4b44-a31c-604f8131a878",
   "metadata": {
    "scrolled": true
   },
   "outputs": [
    {
     "name": "stdout",
     "output_type": "stream",
     "text": [
      "kdb_3007\n",
      "kdb_2749\n",
      "kdb_2493\n",
      "kdb_2590\n",
      "kdb_2800\n",
      "kdb_2110\n",
      "kdb_2446\n",
      "kdb_2263\n",
      "kdb_2468\n",
      "kdb_2307\n",
      "kdb_2181\n",
      "kdb_183\n"
     ]
    },
    {
     "data": {
      "application/javascript": [
       "\n",
       "        if (window._pyforest_update_imports_cell) { window._pyforest_update_imports_cell('import seaborn as sns\\nimport matplotlib.pyplot as plt\\nimport pandas as pd'); }\n",
       "    "
      ],
      "text/plain": [
       "<IPython.core.display.Javascript object>"
      ]
     },
     "metadata": {},
     "output_type": "display_data"
    },
    {
     "data": {
      "application/javascript": [
       "\n",
       "        if (window._pyforest_update_imports_cell) { window._pyforest_update_imports_cell('import seaborn as sns\\nimport matplotlib.pyplot as plt\\nimport pandas as pd'); }\n",
       "    "
      ],
      "text/plain": [
       "<IPython.core.display.Javascript object>"
      ]
     },
     "metadata": {},
     "output_type": "display_data"
    },
    {
     "data": {
      "application/javascript": [
       "\n",
       "        if (window._pyforest_update_imports_cell) { window._pyforest_update_imports_cell('import seaborn as sns\\nimport matplotlib.pyplot as plt\\nimport pandas as pd'); }\n",
       "    "
      ],
      "text/plain": [
       "<IPython.core.display.Javascript object>"
      ]
     },
     "metadata": {},
     "output_type": "display_data"
    },
    {
     "data": {
      "application/javascript": [
       "\n",
       "        if (window._pyforest_update_imports_cell) { window._pyforest_update_imports_cell('import seaborn as sns\\nimport matplotlib.pyplot as plt\\nimport pandas as pd'); }\n",
       "    "
      ],
      "text/plain": [
       "<IPython.core.display.Javascript object>"
      ]
     },
     "metadata": {},
     "output_type": "display_data"
    },
    {
     "data": {
      "application/javascript": [
       "\n",
       "        if (window._pyforest_update_imports_cell) { window._pyforest_update_imports_cell('import seaborn as sns\\nimport matplotlib.pyplot as plt\\nimport pandas as pd'); }\n",
       "    "
      ],
      "text/plain": [
       "<IPython.core.display.Javascript object>"
      ]
     },
     "metadata": {},
     "output_type": "display_data"
    },
    {
     "data": {
      "text/html": [
       "<div>\n",
       "<style scoped>\n",
       "    .dataframe tbody tr th:only-of-type {\n",
       "        vertical-align: middle;\n",
       "    }\n",
       "\n",
       "    .dataframe tbody tr th {\n",
       "        vertical-align: top;\n",
       "    }\n",
       "\n",
       "    .dataframe thead th {\n",
       "        text-align: right;\n",
       "    }\n",
       "</style>\n",
       "<table border=\"1\" class=\"dataframe\">\n",
       "  <thead>\n",
       "    <tr style=\"text-align: right;\">\n",
       "      <th></th>\n",
       "      <th>compound_id</th>\n",
       "      <th>active_NEK2_binding</th>\n",
       "      <th>active_NEK3_binding</th>\n",
       "      <th>active</th>\n",
       "    </tr>\n",
       "  </thead>\n",
       "  <tbody>\n",
       "    <tr>\n",
       "      <th>0</th>\n",
       "      <td>kdb_3007</td>\n",
       "      <td>0</td>\n",
       "      <td>0</td>\n",
       "      <td>0</td>\n",
       "    </tr>\n",
       "    <tr>\n",
       "      <th>1</th>\n",
       "      <td>kdb_2749</td>\n",
       "      <td>0</td>\n",
       "      <td>0</td>\n",
       "      <td>0</td>\n",
       "    </tr>\n",
       "    <tr>\n",
       "      <th>2</th>\n",
       "      <td>kdb_2493</td>\n",
       "      <td>0</td>\n",
       "      <td>0</td>\n",
       "      <td>0</td>\n",
       "    </tr>\n",
       "    <tr>\n",
       "      <th>3</th>\n",
       "      <td>kdb_2590</td>\n",
       "      <td>0</td>\n",
       "      <td>0</td>\n",
       "      <td>0</td>\n",
       "    </tr>\n",
       "    <tr>\n",
       "      <th>4</th>\n",
       "      <td>kdb_2800</td>\n",
       "      <td>0</td>\n",
       "      <td>0</td>\n",
       "      <td>0</td>\n",
       "    </tr>\n",
       "    <tr>\n",
       "      <th>5</th>\n",
       "      <td>kdb_2110</td>\n",
       "      <td>0</td>\n",
       "      <td>1</td>\n",
       "      <td>1</td>\n",
       "    </tr>\n",
       "    <tr>\n",
       "      <th>6</th>\n",
       "      <td>kdb_2446</td>\n",
       "      <td>0</td>\n",
       "      <td>0</td>\n",
       "      <td>0</td>\n",
       "    </tr>\n",
       "    <tr>\n",
       "      <th>7</th>\n",
       "      <td>kdb_2263</td>\n",
       "      <td>0</td>\n",
       "      <td>1</td>\n",
       "      <td>0</td>\n",
       "    </tr>\n",
       "    <tr>\n",
       "      <th>8</th>\n",
       "      <td>kdb_2468</td>\n",
       "      <td>0</td>\n",
       "      <td>0</td>\n",
       "      <td>0</td>\n",
       "    </tr>\n",
       "    <tr>\n",
       "      <th>9</th>\n",
       "      <td>kdb_2307</td>\n",
       "      <td>0</td>\n",
       "      <td>0</td>\n",
       "      <td>0</td>\n",
       "    </tr>\n",
       "    <tr>\n",
       "      <th>10</th>\n",
       "      <td>kdb_2181</td>\n",
       "      <td>0</td>\n",
       "      <td>0</td>\n",
       "      <td>0</td>\n",
       "    </tr>\n",
       "    <tr>\n",
       "      <th>11</th>\n",
       "      <td>kdb_183</td>\n",
       "      <td>0</td>\n",
       "      <td>0</td>\n",
       "      <td>0</td>\n",
       "    </tr>\n",
       "  </tbody>\n",
       "</table>\n",
       "</div>"
      ],
      "text/plain": [
       "   compound_id  active_NEK2_binding  active_NEK3_binding  active\n",
       "0     kdb_3007                    0                    0       0\n",
       "1     kdb_2749                    0                    0       0\n",
       "2     kdb_2493                    0                    0       0\n",
       "3     kdb_2590                    0                    0       0\n",
       "4     kdb_2800                    0                    0       0\n",
       "5     kdb_2110                    0                    1       1\n",
       "6     kdb_2446                    0                    0       0\n",
       "7     kdb_2263                    0                    1       0\n",
       "8     kdb_2468                    0                    0       0\n",
       "9     kdb_2307                    0                    0       0\n",
       "10    kdb_2181                    0                    0       0\n",
       "11     kdb_183                    0                    0       0"
      ]
     },
     "execution_count": 160,
     "metadata": {},
     "output_type": "execute_result"
    }
   ],
   "source": [
    "nek2_bind_selects=[]\n",
    "nek3_bind_selects=[]\n",
    "nek5_bind_selects=[]\n",
    "nek9_bind_selects=[]\n",
    "\n",
    "\n",
    "for cmpd in list(overlap3_list_df.iloc[0]['overlap']): # overlap of 2, 3, 5\n",
    "    for nek_df in [NEK2_binding, NEK3_binding, NEK5_binding]: \n",
    "        nek_val = nek_df['NEK'].values[0]\n",
    "        match = nek_df[nek_df['compound_id'] == cmpd][['compound_id','active']]\n",
    "        # print(match)\n",
    "        if nek_val == 'NEK2_binding':\n",
    "            nek2_bind_selects.append(match)\n",
    "        elif nek_val == 'NEK3_binding':\n",
    "            nek3_bind_selects.append(match)\n",
    "        elif nek_val == 'NEK5_binding':\n",
    "            nek5_bind_selects.append(match)\n",
    "        elif nek_val == 'NEK9_binding':\n",
    "            nek9_bind_selects.append(match)\n",
    "nek2bind_df = pd.concat(nek2_bind_selects).reset_index(drop=True)\n",
    "nek3bind_df = pd.concat(nek3_bind_selects).reset_index(drop=True)\n",
    "nek5bind_df = pd.concat(nek5_bind_selects).reset_index(drop=True)\n",
    "nek23bind_selectivity = pd.merge(nek2bind_df,nek3bind_df, on='compound_id',\n",
    "                        how='outer',suffixes=('_NEK2_binding','_NEK3_binding'))\n",
    "nek235bind_selectivity = pd.merge(nek23bind_selectivity,nek5bind_df, on='compound_id',\n",
    "                        how='outer',suffixes=('_prev','_NEK3_binding'))\n",
    "nek235bind_selectivity"
   ]
  },
  {
   "cell_type": "code",
   "execution_count": 194,
   "id": "15ba310d-13bb-4794-97db-4bb2e1bd7625",
   "metadata": {},
   "outputs": [
    {
     "name": "stdout",
     "output_type": "stream",
     "text": [
      "NEK2_binding UNDER_GP_matern\n"
     ]
    },
    {
     "data": {
      "application/javascript": [
       "\n",
       "        if (window._pyforest_update_imports_cell) { window._pyforest_update_imports_cell('import seaborn as sns\\nimport matplotlib.pyplot as plt\\nimport pandas as pd'); }\n",
       "    "
      ],
      "text/plain": [
       "<IPython.core.display.Javascript object>"
      ]
     },
     "metadata": {},
     "output_type": "display_data"
    },
    {
     "name": "stdout",
     "output_type": "stream",
     "text": [
      "NEK2_binding none_scaled_BRFC\n"
     ]
    },
    {
     "data": {
      "application/javascript": [
       "\n",
       "        if (window._pyforest_update_imports_cell) { window._pyforest_update_imports_cell('import seaborn as sns\\nimport matplotlib.pyplot as plt\\nimport pandas as pd'); }\n",
       "    "
      ],
      "text/plain": [
       "<IPython.core.display.Javascript object>"
      ]
     },
     "metadata": {},
     "output_type": "display_data"
    },
    {
     "name": "stdout",
     "output_type": "stream",
     "text": [
      "NEK3_binding UNDER_GP_matern\n"
     ]
    },
    {
     "data": {
      "application/javascript": [
       "\n",
       "        if (window._pyforest_update_imports_cell) { window._pyforest_update_imports_cell('import seaborn as sns\\nimport matplotlib.pyplot as plt\\nimport pandas as pd'); }\n",
       "    "
      ],
      "text/plain": [
       "<IPython.core.display.Javascript object>"
      ]
     },
     "metadata": {},
     "output_type": "display_data"
    },
    {
     "name": "stdout",
     "output_type": "stream",
     "text": [
      "NEK3_binding none_scaled_BRFC\n"
     ]
    },
    {
     "data": {
      "application/javascript": [
       "\n",
       "        if (window._pyforest_update_imports_cell) { window._pyforest_update_imports_cell('import seaborn as sns\\nimport matplotlib.pyplot as plt\\nimport pandas as pd'); }\n",
       "    "
      ],
      "text/plain": [
       "<IPython.core.display.Javascript object>"
      ]
     },
     "metadata": {},
     "output_type": "display_data"
    },
    {
     "name": "stdout",
     "output_type": "stream",
     "text": [
      "NEK5_binding UNDER_GP_matern\n"
     ]
    },
    {
     "data": {
      "application/javascript": [
       "\n",
       "        if (window._pyforest_update_imports_cell) { window._pyforest_update_imports_cell('import seaborn as sns\\nimport matplotlib.pyplot as plt\\nimport pandas as pd'); }\n",
       "    "
      ],
      "text/plain": [
       "<IPython.core.display.Javascript object>"
      ]
     },
     "metadata": {},
     "output_type": "display_data"
    },
    {
     "name": "stdout",
     "output_type": "stream",
     "text": [
      "NEK5_binding none_scaled_BRFC\n"
     ]
    },
    {
     "data": {
      "application/javascript": [
       "\n",
       "        if (window._pyforest_update_imports_cell) { window._pyforest_update_imports_cell('import seaborn as sns\\nimport matplotlib.pyplot as plt\\nimport pandas as pd'); }\n",
       "    "
      ],
      "text/plain": [
       "<IPython.core.display.Javascript object>"
      ]
     },
     "metadata": {},
     "output_type": "display_data"
    },
    {
     "data": {
      "application/javascript": [
       "\n",
       "        if (window._pyforest_update_imports_cell) { window._pyforest_update_imports_cell('import seaborn as sns\\nimport matplotlib.pyplot as plt\\nimport pandas as pd'); }\n",
       "    "
      ],
      "text/plain": [
       "<IPython.core.display.Javascript object>"
      ]
     },
     "metadata": {},
     "output_type": "display_data"
    },
    {
     "data": {
      "application/javascript": [
       "\n",
       "        if (window._pyforest_update_imports_cell) { window._pyforest_update_imports_cell('import seaborn as sns\\nimport matplotlib.pyplot as plt\\nimport pandas as pd'); }\n",
       "    "
      ],
      "text/plain": [
       "<IPython.core.display.Javascript object>"
      ]
     },
     "metadata": {},
     "output_type": "display_data"
    }
   ],
   "source": [
    "merged_dfs = []\n",
    "nek_labels = []\n",
    "from functools import reduce\n",
    "for nek_df in [NEK2_binding, NEK3_binding, NEK5_binding]:\n",
    "    df_list = []\n",
    "    model_list=[]\n",
    "    nek_val=nek_df['NEK'].values[0]\n",
    "    nek_labels.append(nek_val)\n",
    "    \n",
    "    for model in ['UNDER_GP_matern','none_scaled_BRFC'] : \n",
    "        print(nek_val, model)\n",
    "        model_list.append(model)\n",
    "        df = pd.read_csv(f'{cmpd_df_path}{nek_val}_MFP_{model}_cmpd_class.csv')\n",
    "        \n",
    "        df2=df[df['compound_id'].isin(list(nek235bind_selectivity['compound_id'].values))]\n",
    "\n",
    "        keep_cols = ['NEK', 'compound_id','active','prediction','UQ_metric_value'] \n",
    "        df2=df2[keep_cols]\n",
    "       \n",
    "        df_list.append(df2) \n",
    "\n",
    "    merged = df_list[0].merge(df_list[1],on=['compound_id','NEK','active'],suffixes=('_GP', f'_RF'))\n",
    "    merged\n",
    "    merged_dfs.append(merged)\n",
    "final_merged = reduce(lambda left, right: pd.merge(left, right, on=['compound_id', 'active']),merged_dfs)\n"
   ]
  },
  {
   "cell_type": "code",
   "execution_count": 198,
   "id": "d60d8c36-001e-4a9b-907d-aecda52f9c5d",
   "metadata": {},
   "outputs": [
    {
     "data": {
      "application/javascript": [
       "\n",
       "        if (window._pyforest_update_imports_cell) { window._pyforest_update_imports_cell('import seaborn as sns\\nimport matplotlib.pyplot as plt\\nimport pandas as pd'); }\n",
       "    "
      ],
      "text/plain": [
       "<IPython.core.display.Javascript object>"
      ]
     },
     "metadata": {},
     "output_type": "display_data"
    },
    {
     "data": {
      "application/javascript": [
       "\n",
       "        if (window._pyforest_update_imports_cell) { window._pyforest_update_imports_cell('import seaborn as sns\\nimport matplotlib.pyplot as plt\\nimport pandas as pd'); }\n",
       "    "
      ],
      "text/plain": [
       "<IPython.core.display.Javascript object>"
      ]
     },
     "metadata": {},
     "output_type": "display_data"
    },
    {
     "data": {
      "application/javascript": [
       "\n",
       "        if (window._pyforest_update_imports_cell) { window._pyforest_update_imports_cell('import seaborn as sns\\nimport matplotlib.pyplot as plt\\nimport pandas as pd'); }\n",
       "    "
      ],
      "text/plain": [
       "<IPython.core.display.Javascript object>"
      ]
     },
     "metadata": {},
     "output_type": "display_data"
    },
    {
     "data": {
      "application/javascript": [
       "\n",
       "        if (window._pyforest_update_imports_cell) { window._pyforest_update_imports_cell('import seaborn as sns\\nimport matplotlib.pyplot as plt\\nimport pandas as pd'); }\n",
       "    "
      ],
      "text/plain": [
       "<IPython.core.display.Javascript object>"
      ]
     },
     "metadata": {},
     "output_type": "display_data"
    },
    {
     "data": {
      "application/javascript": [
       "\n",
       "        if (window._pyforest_update_imports_cell) { window._pyforest_update_imports_cell('import seaborn as sns\\nimport matplotlib.pyplot as plt\\nimport pandas as pd'); }\n",
       "    "
      ],
      "text/plain": [
       "<IPython.core.display.Javascript object>"
      ]
     },
     "metadata": {},
     "output_type": "display_data"
    },
    {
     "data": {
      "application/javascript": [
       "\n",
       "        if (window._pyforest_update_imports_cell) { window._pyforest_update_imports_cell('import seaborn as sns\\nimport matplotlib.pyplot as plt\\nimport pandas as pd'); }\n",
       "    "
      ],
      "text/plain": [
       "<IPython.core.display.Javascript object>"
      ]
     },
     "metadata": {},
     "output_type": "display_data"
    },
    {
     "data": {
      "application/javascript": [
       "\n",
       "        if (window._pyforest_update_imports_cell) { window._pyforest_update_imports_cell('import seaborn as sns\\nimport matplotlib.pyplot as plt\\nimport pandas as pd'); }\n",
       "    "
      ],
      "text/plain": [
       "<IPython.core.display.Javascript object>"
      ]
     },
     "metadata": {},
     "output_type": "display_data"
    },
    {
     "data": {
      "application/javascript": [
       "\n",
       "        if (window._pyforest_update_imports_cell) { window._pyforest_update_imports_cell('import seaborn as sns\\nimport matplotlib.pyplot as plt\\nimport pandas as pd'); }\n",
       "    "
      ],
      "text/plain": [
       "<IPython.core.display.Javascript object>"
      ]
     },
     "metadata": {},
     "output_type": "display_data"
    },
    {
     "data": {
      "application/javascript": [
       "\n",
       "        if (window._pyforest_update_imports_cell) { window._pyforest_update_imports_cell('import seaborn as sns\\nimport matplotlib.pyplot as plt\\nimport pandas as pd'); }\n",
       "    "
      ],
      "text/plain": [
       "<IPython.core.display.Javascript object>"
      ]
     },
     "metadata": {},
     "output_type": "display_data"
    },
    {
     "data": {
      "application/javascript": [
       "\n",
       "        if (window._pyforest_update_imports_cell) { window._pyforest_update_imports_cell('import seaborn as sns\\nimport matplotlib.pyplot as plt\\nimport pandas as pd'); }\n",
       "    "
      ],
      "text/plain": [
       "<IPython.core.display.Javascript object>"
      ]
     },
     "metadata": {},
     "output_type": "display_data"
    },
    {
     "data": {
      "application/javascript": [
       "\n",
       "        if (window._pyforest_update_imports_cell) { window._pyforest_update_imports_cell('import seaborn as sns\\nimport matplotlib.pyplot as plt\\nimport pandas as pd'); }\n",
       "    "
      ],
      "text/plain": [
       "<IPython.core.display.Javascript object>"
      ]
     },
     "metadata": {},
     "output_type": "display_data"
    },
    {
     "data": {
      "image/png": "[encoded data removed]",
      "text/plain": [
       "<Figure size 1000x600 with 1 Axes>"
      ]
     },
     "metadata": {},
     "output_type": "display_data"
    }
   ],
   "source": [
    "df1 = pd.melt(merged_dfs[0], id_vars=['compound_id','NEK','active'],value_vars=['UQ_metric_value_GP', 'UQ_metric_value_RF'],\n",
    "    var_name='model',value_name='UQ_value')\n",
    "df1['NEK_group'] = 'NEK2_binding'\n",
    "\n",
    "df2 = pd.melt(merged_dfs[1], id_vars=['compound_id','NEK','active'], value_vars=['UQ_metric_value_GP','UQ_metric_value_RF'],\n",
    "    var_name='model',value_name='UQ_value')\n",
    "df3 = pd.melt(merged_dfs[2], id_vars=['compound_id','NEK','active'], value_vars=['UQ_metric_value_GP','UQ_metric_value_RF'],\n",
    "    var_name='model',value_name='UQ_value')\n",
    "df2['NEK_group'] = 'NEK3_binding'\n",
    "df3['NEK_group'] = 'NEK5_binding'\n",
    "all_df = pd.concat([df1, df2,df3])\n",
    "all_df['model'] = all_df['model'].str.replace('UQ_metric_value_', '')\n",
    "plt.figure(figsize=(10, 6))\n",
    "sns.scatterplot(data=all_df,x='compound_id',y='UQ_value',\n",
    "    hue='NEK_group',style='model',palette='deep',s=50)\n",
    "plt.xticks(rotation=90)\n",
    "plt.title('NEK 2, 3, 5 Binding Selectivity - (12 compounds in overlap test)')\n",
    "plt.tight_layout()\n",
    "plt.savefig(f'binding235_selectivity.png', bbox_inches='tight')\n",
    "plt.show()\n"
   ]
  },
  {
   "cell_type": "code",
   "execution_count": null,
   "id": "73e9ebe9-9931-4a45-8311-33d7a13ecb10",
   "metadata": {},
   "outputs": [],
   "source": []
  },
  {
   "cell_type": "code",
   "execution_count": null,
   "id": "225e8e3b-37a3-40c2-b9e2-557bebd83652",
   "metadata": {},
   "outputs": [],
   "source": []
  }
 ],
 "metadata": {
  "kernelspec": {
   "display_name": "atom2024",
   "language": "python",
   "name": "atom2024"
  },
  "language_info": {
   "codemirror_mode": {
    "name": "ipython",
    "version": 3
   },
   "file_extension": ".py",
   "mimetype": "text/x-python",
   "name": "python",
   "nbconvert_exporter": "python",
   "pygments_lexer": "ipython3",
   "version": "3.9.12"
  }
 },
 "nbformat": 4,
 "nbformat_minor": 5
}
