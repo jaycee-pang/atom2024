{
 "cells": [
  {
   "cell_type": "code",
   "execution_count": 1,
   "id": "be212970-9729-4973-a0e9-9147882f89e5",
   "metadata": {},
   "outputs": [],
   "source": [
    "import pyforest"
   ]
  },
  {
   "cell_type": "code",
   "execution_count": 2,
   "id": "3c590022-f608-41cc-b7c2-a8fc1ef620f5",
   "metadata": {},
   "outputs": [],
   "source": [
    "df_path = '/Users/jayceepang/msse/capstone/atom2024/atom2024/notebooks/paper/datasets/80train_20test/featurized/'\n",
    "neks = ['NEK2_binding', 'NEK2_inhibition', 'NEK3_binding', 'NEK5_binding', 'NEK9_binding', 'NEK9_inhibition']\n",
    "model_types = ['GP', 'RF']\n",
    "feat_types=['MOE','MFP']\n",
    "RF_types = ['RF', 'RF_BCW', 'BRFC', 'BRFC_BCW'] \n",
    "samplings = ['none_scaled','UNDER','SMOTE']\n",
    "rf_path = '/Users/jayceepang/msse/capstone/atom2024/atom2024/notebooks/paper/results/RF_results/'\n",
    "gp_path = '/Users/jayceepang/msse/capstone/atom2024/atom2024/notebooks/paper/results/GP_results/'\n",
    "cmpd_df_path = '/Users/jayceepang/msse/capstone/atom2024/atom2024/notebooks/paper/results/compound_TNFPFNTP/'\n",
    "col_order = ['NEK', 'feat_type', 'strategy','modeling_type', 'compound_id', 'active', 'prediction' , 'RF_type']\n"
   ]
  },
  {
   "cell_type": "markdown",
   "id": "4a4f96d9-494e-44c9-a6ab-ef12cc7b7a2e",
   "metadata": {},
   "source": [
    "ideas \n",
    "- see overlapping molecules between all test sets\n",
    "- then see if it's in test/train"
   ]
  },
  {
   "cell_type": "code",
   "execution_count": 3,
   "id": "f9ba1c4d-9ba9-4b1d-8a4b-bfcb16204fef",
   "metadata": {},
   "outputs": [
    {
     "data": {
      "application/javascript": [
       "\n",
       "        if (window._pyforest_update_imports_cell) { window._pyforest_update_imports_cell('import pandas as pd'); }\n",
       "    "
      ],
      "text/plain": [
       "<IPython.core.display.Javascript object>"
      ]
     },
     "metadata": {},
     "output_type": "display_data"
    },
    {
     "data": {
      "application/javascript": [
       "\n",
       "        if (window._pyforest_update_imports_cell) { window._pyforest_update_imports_cell('import pandas as pd'); }\n",
       "    "
      ],
      "text/plain": [
       "<IPython.core.display.Javascript object>"
      ]
     },
     "metadata": {},
     "output_type": "display_data"
    },
    {
     "data": {
      "application/javascript": [
       "\n",
       "        if (window._pyforest_update_imports_cell) { window._pyforest_update_imports_cell('import pandas as pd'); }\n",
       "    "
      ],
      "text/plain": [
       "<IPython.core.display.Javascript object>"
      ]
     },
     "metadata": {},
     "output_type": "display_data"
    },
    {
     "data": {
      "application/javascript": [
       "\n",
       "        if (window._pyforest_update_imports_cell) { window._pyforest_update_imports_cell('import pandas as pd'); }\n",
       "    "
      ],
      "text/plain": [
       "<IPython.core.display.Javascript object>"
      ]
     },
     "metadata": {},
     "output_type": "display_data"
    },
    {
     "data": {
      "application/javascript": [
       "\n",
       "        if (window._pyforest_update_imports_cell) { window._pyforest_update_imports_cell('import pandas as pd'); }\n",
       "    "
      ],
      "text/plain": [
       "<IPython.core.display.Javascript object>"
      ]
     },
     "metadata": {},
     "output_type": "display_data"
    },
    {
     "data": {
      "application/javascript": [
       "\n",
       "        if (window._pyforest_update_imports_cell) { window._pyforest_update_imports_cell('import pandas as pd'); }\n",
       "    "
      ],
      "text/plain": [
       "<IPython.core.display.Javascript object>"
      ]
     },
     "metadata": {},
     "output_type": "display_data"
    },
    {
     "data": {
      "application/javascript": [
       "\n",
       "        if (window._pyforest_update_imports_cell) { window._pyforest_update_imports_cell('import pandas as pd'); }\n",
       "    "
      ],
      "text/plain": [
       "<IPython.core.display.Javascript object>"
      ]
     },
     "metadata": {},
     "output_type": "display_data"
    },
    {
     "data": {
      "application/javascript": [
       "\n",
       "        if (window._pyforest_update_imports_cell) { window._pyforest_update_imports_cell('import pandas as pd'); }\n",
       "    "
      ],
      "text/plain": [
       "<IPython.core.display.Javascript object>"
      ]
     },
     "metadata": {},
     "output_type": "display_data"
    },
    {
     "data": {
      "application/javascript": [
       "\n",
       "        if (window._pyforest_update_imports_cell) { window._pyforest_update_imports_cell('import pandas as pd'); }\n",
       "    "
      ],
      "text/plain": [
       "<IPython.core.display.Javascript object>"
      ]
     },
     "metadata": {},
     "output_type": "display_data"
    },
    {
     "data": {
      "application/javascript": [
       "\n",
       "        if (window._pyforest_update_imports_cell) { window._pyforest_update_imports_cell('import pandas as pd'); }\n",
       "    "
      ],
      "text/plain": [
       "<IPython.core.display.Javascript object>"
      ]
     },
     "metadata": {},
     "output_type": "display_data"
    },
    {
     "data": {
      "application/javascript": [
       "\n",
       "        if (window._pyforest_update_imports_cell) { window._pyforest_update_imports_cell('import pandas as pd'); }\n",
       "    "
      ],
      "text/plain": [
       "<IPython.core.display.Javascript object>"
      ]
     },
     "metadata": {},
     "output_type": "display_data"
    },
    {
     "data": {
      "application/javascript": [
       "\n",
       "        if (window._pyforest_update_imports_cell) { window._pyforest_update_imports_cell('import pandas as pd'); }\n",
       "    "
      ],
      "text/plain": [
       "<IPython.core.display.Javascript object>"
      ]
     },
     "metadata": {},
     "output_type": "display_data"
    }
   ],
   "source": [
    "all_neks = []\n",
    "# all_nek_dfs=pd.DataFrame()\n",
    "for nek in neks: \n",
    "    df_orig = pd.read_csv(f'{df_path}{nek}_MFP_none_scaled.csv')\n",
    "    df_UNDER = pd.read_csv(f'{df_path}{nek}_MFP_UNDER.csv')\n",
    "    # all_neks.append(df_orig[df_orig['subset']=='test']) \n",
    "    # all_neks.append(df_UNDER[df_UNDER['subset']=='test']) \n",
    "    \n",
    "    unique_cmpds = set(df_orig['compound_id']).intersection(set(df_UNDER['compound_id']))\n",
    "    \n",
    "    unique_cmpds_nek = df_orig[df_orig['compound_id'].isin(unique_cmpds)]\n",
    "    unique_cmpds_nek_test=unique_cmpds_nek[unique_cmpds_nek['subset']=='test']\n",
    "    all_neks.append(unique_cmpds_nek_test)\n",
    "    "
   ]
  },
  {
   "cell_type": "code",
   "execution_count": 14,
   "id": "30d2ae67-e434-4591-b0c9-5d361d11c09a",
   "metadata": {},
   "outputs": [],
   "source": [
    "def common_unique_values(list1, list2, *lists):\n",
    "    sets = [set(list1), set(list2)]\n",
    "    for lst in lists:\n",
    "        sets.append(set(lst))\n",
    "    return set.intersection(*sets)\n"
   ]
  },
  {
   "cell_type": "code",
   "execution_count": 29,
   "id": "3ae68b55-9f29-4d74-b726-7d0e20ae9db0",
   "metadata": {},
   "outputs": [
    {
     "data": {
      "application/javascript": [
       "\n",
       "        if (window._pyforest_update_imports_cell) { window._pyforest_update_imports_cell('import pandas as pd'); }\n",
       "    "
      ],
      "text/plain": [
       "<IPython.core.display.Javascript object>"
      ]
     },
     "metadata": {},
     "output_type": "display_data"
    },
    {
     "data": {
      "application/javascript": [
       "\n",
       "        if (window._pyforest_update_imports_cell) { window._pyforest_update_imports_cell('import pandas as pd'); }\n",
       "    "
      ],
      "text/plain": [
       "<IPython.core.display.Javascript object>"
      ]
     },
     "metadata": {},
     "output_type": "display_data"
    },
    {
     "data": {
      "application/javascript": [
       "\n",
       "        if (window._pyforest_update_imports_cell) { window._pyforest_update_imports_cell('import pandas as pd'); }\n",
       "    "
      ],
      "text/plain": [
       "<IPython.core.display.Javascript object>"
      ]
     },
     "metadata": {},
     "output_type": "display_data"
    },
    {
     "data": {
      "application/javascript": [
       "\n",
       "        if (window._pyforest_update_imports_cell) { window._pyforest_update_imports_cell('import pandas as pd'); }\n",
       "    "
      ],
      "text/plain": [
       "<IPython.core.display.Javascript object>"
      ]
     },
     "metadata": {},
     "output_type": "display_data"
    },
    {
     "data": {
      "application/javascript": [
       "\n",
       "        if (window._pyforest_update_imports_cell) { window._pyforest_update_imports_cell('import pandas as pd'); }\n",
       "    "
      ],
      "text/plain": [
       "<IPython.core.display.Javascript object>"
      ]
     },
     "metadata": {},
     "output_type": "display_data"
    },
    {
     "data": {
      "application/javascript": [
       "\n",
       "        if (window._pyforest_update_imports_cell) { window._pyforest_update_imports_cell('import pandas as pd'); }\n",
       "    "
      ],
      "text/plain": [
       "<IPython.core.display.Javascript object>"
      ]
     },
     "metadata": {},
     "output_type": "display_data"
    }
   ],
   "source": [
    "all_dfs = [] \n",
    "all_neks = []\n",
    "for nek in neks:  \n",
    "    full_df = pd.read_csv(f'{df_path}{nek}_MFP_none_scaled.csv') \n",
    "    # full_df=full_df[full_df['subset']=='train']\n",
    "    all_dfs.append(full_df)\n",
    "    all_neks.append(nek) \n",
    "    \n",
    "df_dict = {}\n",
    "for df, nek in zip(all_dfs, all_neks):\n",
    "    df_dict[nek] = df\n"
   ]
  },
  {
   "cell_type": "code",
   "execution_count": 30,
   "id": "c09a6655-d8e8-479d-bc79-06119ee8e0b6",
   "metadata": {},
   "outputs": [],
   "source": [
    "neks = ['NEK2_binding', 'NEK2_inhibition', 'NEK3_binding', 'NEK5_binding', 'NEK9_binding', 'NEK9_inhibition']\n",
    "NEK2_binding=df_dict['NEK2_binding']\n",
    "NEK2_inhibition=df_dict['NEK2_inhibition']  \n",
    "NEK3_binding=df_dict['NEK3_binding']\n",
    "NEK5_binding=df_dict['NEK5_binding']\n",
    "NEK9_binding=df_dict['NEK9_binding']\n",
    "NEK9_inhibition=df_dict['NEK9_inhibition']   "
   ]
  },
  {
   "cell_type": "code",
   "execution_count": 31,
   "id": "46d7c42f-f972-45fb-b438-92da6b770206",
   "metadata": {
    "scrolled": true
   },
   "outputs": [
    {
     "data": {
      "text/plain": [
       "{'kdb_2013',\n",
       " 'kdb_2212',\n",
       " 'kdb_2238',\n",
       " 'kdb_2908',\n",
       " 'kdb_3160',\n",
       " 'kdb_3164',\n",
       " 'kdb_3211',\n",
       " 'kdb_3224',\n",
       " 'kdb_3232',\n",
       " 'kdb_3241',\n",
       " 'kdb_3264',\n",
       " 'kdb_3290',\n",
       " 'kdb_3305',\n",
       " 'kdb_3330',\n",
       " 'kdb_3334'}"
      ]
     },
     "execution_count": 31,
     "metadata": {},
     "output_type": "execute_result"
    }
   ],
   "source": [
    "nek2inhibtest=NEK2_inhibition[NEK2_inhibition['subset']=='test']\n",
    "nek9inhibtest=NEK9_inhibition[NEK9_inhibition['subset']=='test']\n",
    "common_inhib_test=common_unique_values(list(nek2inhibtest['compound_id'].values),list(nek9inhibtest['compound_id'].values))\n",
    "common_inhib_test"
   ]
  },
  {
   "cell_type": "code",
   "execution_count": 64,
   "id": "adefe861-0c0e-4892-9d22-25d7c8867c72",
   "metadata": {
    "scrolled": true
   },
   "outputs": [
    {
     "data": {
      "text/plain": [
       "{'kdb_2181'}"
      ]
     },
     "execution_count": 64,
     "metadata": {},
     "output_type": "execute_result"
    }
   ],
   "source": [
    "nek2bindtest=NEK2_binding[NEK2_binding['subset']=='test']\n",
    "nek9bindtest=NEK9_binding[NEK9_binding['subset']=='test']\n",
    "nek3bindtest=NEK3_binding[NEK3_binding['subset']=='test']\n",
    "nek5bindtest=NEK5_binding[NEK5_binding['subset']=='test']\n",
    "common_binding_test = common_unique_values(list(nek2bindtest['compound_id'].values),list(nek9bindtest['compound_id'].values),\n",
    "                           list(nek3bindtest['compound_id'].values),list(nek5bindtest['compound_id'].values)     )\n",
    "common_binding_test"
   ]
  },
  {
   "cell_type": "code",
   "execution_count": 57,
   "id": "2f486e14-09b2-463e-a3ea-b43b238f9dad",
   "metadata": {},
   "outputs": [],
   "source": [
    "nek9_inhib_selects=[]\n",
    "nek2_inhib_selects=[]\n",
    "\n",
    "for cmpd in common_inhib_test:\n",
    "    for nek_df in [NEK2_inhibition, NEK9_inhibition]: \n",
    "        nek_val = nek_df['NEK'].values[0]\n",
    "        match = nek_df[nek_df['compound_id'] == cmpd][['compound_id','active']]\n",
    "        # print(match)\n",
    "        if nek_val == 'NEK2_inhibition':\n",
    "            nek2_inhib_selects.append(match)\n",
    "        elif nek_val == 'NEK9_inhibition':\n",
    "            nek9_inhib_selects.append(match)\n"
   ]
  },
  {
   "cell_type": "code",
   "execution_count": 68,
   "id": "b77576a0-ed67-41db-af13-03815c685101",
   "metadata": {},
   "outputs": [
    {
     "data": {
      "application/javascript": [
       "\n",
       "        if (window._pyforest_update_imports_cell) { window._pyforest_update_imports_cell('import pandas as pd'); }\n",
       "    "
      ],
      "text/plain": [
       "<IPython.core.display.Javascript object>"
      ]
     },
     "metadata": {},
     "output_type": "display_data"
    },
    {
     "data": {
      "application/javascript": [
       "\n",
       "        if (window._pyforest_update_imports_cell) { window._pyforest_update_imports_cell('import pandas as pd'); }\n",
       "    "
      ],
      "text/plain": [
       "<IPython.core.display.Javascript object>"
      ]
     },
     "metadata": {},
     "output_type": "display_data"
    },
    {
     "data": {
      "application/javascript": [
       "\n",
       "        if (window._pyforest_update_imports_cell) { window._pyforest_update_imports_cell('import pandas as pd'); }\n",
       "    "
      ],
      "text/plain": [
       "<IPython.core.display.Javascript object>"
      ]
     },
     "metadata": {},
     "output_type": "display_data"
    }
   ],
   "source": [
    "nek9inhib_df = pd.concat(nek9_inhib_selects).reset_index(drop=True)\n",
    "nek2inhib_df = pd.concat(nek2_inhib_selects).reset_index(drop=True)\n",
    "inhibition_selectivity = pd.merge(nek2inhib_df,nek9inhib_df, on='compound_id',\n",
    "                        how='outer',suffixes=('_NEK2_inhibition','_NEK9_inhibition'))\n"
   ]
  },
  {
   "cell_type": "code",
   "execution_count": 69,
   "id": "2a86d5d8-ec73-44fa-b27a-2719cf2933bc",
   "metadata": {},
   "outputs": [
    {
     "data": {
      "text/html": [
       "<div>\n",
       "<style scoped>\n",
       "    .dataframe tbody tr th:only-of-type {\n",
       "        vertical-align: middle;\n",
       "    }\n",
       "\n",
       "    .dataframe tbody tr th {\n",
       "        vertical-align: top;\n",
       "    }\n",
       "\n",
       "    .dataframe thead th {\n",
       "        text-align: right;\n",
       "    }\n",
       "</style>\n",
       "<table border=\"1\" class=\"dataframe\">\n",
       "  <thead>\n",
       "    <tr style=\"text-align: right;\">\n",
       "      <th></th>\n",
       "      <th>compound_id</th>\n",
       "      <th>active_NEK2_inhibition</th>\n",
       "      <th>active_NEK9_inhibition</th>\n",
       "    </tr>\n",
       "  </thead>\n",
       "  <tbody>\n",
       "    <tr>\n",
       "      <th>0</th>\n",
       "      <td>kdb_3330</td>\n",
       "      <td>0</td>\n",
       "      <td>0</td>\n",
       "    </tr>\n",
       "    <tr>\n",
       "      <th>1</th>\n",
       "      <td>kdb_2212</td>\n",
       "      <td>0</td>\n",
       "      <td>0</td>\n",
       "    </tr>\n",
       "    <tr>\n",
       "      <th>2</th>\n",
       "      <td>kdb_3211</td>\n",
       "      <td>0</td>\n",
       "      <td>0</td>\n",
       "    </tr>\n",
       "    <tr>\n",
       "      <th>3</th>\n",
       "      <td>kdb_3160</td>\n",
       "      <td>0</td>\n",
       "      <td>0</td>\n",
       "    </tr>\n",
       "    <tr>\n",
       "      <th>4</th>\n",
       "      <td>kdb_2013</td>\n",
       "      <td>0</td>\n",
       "      <td>0</td>\n",
       "    </tr>\n",
       "    <tr>\n",
       "      <th>5</th>\n",
       "      <td>kdb_3164</td>\n",
       "      <td>0</td>\n",
       "      <td>0</td>\n",
       "    </tr>\n",
       "    <tr>\n",
       "      <th>6</th>\n",
       "      <td>kdb_3264</td>\n",
       "      <td>1</td>\n",
       "      <td>0</td>\n",
       "    </tr>\n",
       "    <tr>\n",
       "      <th>7</th>\n",
       "      <td>kdb_3290</td>\n",
       "      <td>0</td>\n",
       "      <td>0</td>\n",
       "    </tr>\n",
       "    <tr>\n",
       "      <th>8</th>\n",
       "      <td>kdb_2908</td>\n",
       "      <td>0</td>\n",
       "      <td>0</td>\n",
       "    </tr>\n",
       "    <tr>\n",
       "      <th>9</th>\n",
       "      <td>kdb_3305</td>\n",
       "      <td>0</td>\n",
       "      <td>0</td>\n",
       "    </tr>\n",
       "    <tr>\n",
       "      <th>10</th>\n",
       "      <td>kdb_3241</td>\n",
       "      <td>0</td>\n",
       "      <td>0</td>\n",
       "    </tr>\n",
       "    <tr>\n",
       "      <th>11</th>\n",
       "      <td>kdb_3232</td>\n",
       "      <td>0</td>\n",
       "      <td>0</td>\n",
       "    </tr>\n",
       "    <tr>\n",
       "      <th>12</th>\n",
       "      <td>kdb_3334</td>\n",
       "      <td>0</td>\n",
       "      <td>0</td>\n",
       "    </tr>\n",
       "    <tr>\n",
       "      <th>13</th>\n",
       "      <td>kdb_2238</td>\n",
       "      <td>0</td>\n",
       "      <td>0</td>\n",
       "    </tr>\n",
       "    <tr>\n",
       "      <th>14</th>\n",
       "      <td>kdb_3224</td>\n",
       "      <td>0</td>\n",
       "      <td>0</td>\n",
       "    </tr>\n",
       "  </tbody>\n",
       "</table>\n",
       "</div>"
      ],
      "text/plain": [
       "   compound_id  active_NEK2_inhibition  active_NEK9_inhibition\n",
       "0     kdb_3330                       0                       0\n",
       "1     kdb_2212                       0                       0\n",
       "2     kdb_3211                       0                       0\n",
       "3     kdb_3160                       0                       0\n",
       "4     kdb_2013                       0                       0\n",
       "5     kdb_3164                       0                       0\n",
       "6     kdb_3264                       1                       0\n",
       "7     kdb_3290                       0                       0\n",
       "8     kdb_2908                       0                       0\n",
       "9     kdb_3305                       0                       0\n",
       "10    kdb_3241                       0                       0\n",
       "11    kdb_3232                       0                       0\n",
       "12    kdb_3334                       0                       0\n",
       "13    kdb_2238                       0                       0\n",
       "14    kdb_3224                       0                       0"
      ]
     },
     "execution_count": 69,
     "metadata": {},
     "output_type": "execute_result"
    }
   ],
   "source": [
    "inhibition_selectivity"
   ]
  },
  {
   "cell_type": "code",
   "execution_count": 72,
   "id": "e09039ec-a9a0-4219-a131-80068d46b4d9",
   "metadata": {},
   "outputs": [
    {
     "data": {
      "application/javascript": [
       "\n",
       "        if (window._pyforest_update_imports_cell) { window._pyforest_update_imports_cell('import pandas as pd'); }\n",
       "    "
      ],
      "text/plain": [
       "<IPython.core.display.Javascript object>"
      ]
     },
     "metadata": {},
     "output_type": "display_data"
    },
    {
     "data": {
      "application/javascript": [
       "\n",
       "        if (window._pyforest_update_imports_cell) { window._pyforest_update_imports_cell('import pandas as pd'); }\n",
       "    "
      ],
      "text/plain": [
       "<IPython.core.display.Javascript object>"
      ]
     },
     "metadata": {},
     "output_type": "display_data"
    },
    {
     "data": {
      "application/javascript": [
       "\n",
       "        if (window._pyforest_update_imports_cell) { window._pyforest_update_imports_cell('import pandas as pd'); }\n",
       "    "
      ],
      "text/plain": [
       "<IPython.core.display.Javascript object>"
      ]
     },
     "metadata": {},
     "output_type": "display_data"
    },
    {
     "data": {
      "application/javascript": [
       "\n",
       "        if (window._pyforest_update_imports_cell) { window._pyforest_update_imports_cell('import pandas as pd'); }\n",
       "    "
      ],
      "text/plain": [
       "<IPython.core.display.Javascript object>"
      ]
     },
     "metadata": {},
     "output_type": "display_data"
    },
    {
     "data": {
      "application/javascript": [
       "\n",
       "        if (window._pyforest_update_imports_cell) { window._pyforest_update_imports_cell('import pandas as pd'); }\n",
       "    "
      ],
      "text/plain": [
       "<IPython.core.display.Javascript object>"
      ]
     },
     "metadata": {},
     "output_type": "display_data"
    },
    {
     "data": {
      "application/javascript": [
       "\n",
       "        if (window._pyforest_update_imports_cell) { window._pyforest_update_imports_cell('import pandas as pd'); }\n",
       "    "
      ],
      "text/plain": [
       "<IPython.core.display.Javascript object>"
      ]
     },
     "metadata": {},
     "output_type": "display_data"
    },
    {
     "data": {
      "application/javascript": [
       "\n",
       "        if (window._pyforest_update_imports_cell) { window._pyforest_update_imports_cell('import pandas as pd'); }\n",
       "    "
      ],
      "text/plain": [
       "<IPython.core.display.Javascript object>"
      ]
     },
     "metadata": {},
     "output_type": "display_data"
    }
   ],
   "source": [
    "nek9_bind_selects=[]\n",
    "nek2_bind_selects=[]\n",
    "nek3_bind_selects=[]\n",
    "nek5_bind_selects=[]\n",
    "\n",
    "for cmpd in common_binding_test:\n",
    "    for nek_df in [NEK2_binding, NEK3_binding,NEK5_binding,NEK9_binding ]: \n",
    "        nek_val = nek_df['NEK'].values[0]\n",
    "        match = nek_df[nek_df['compound_id'] == cmpd][['compound_id','active']]\n",
    "        # print(match)\n",
    "        if nek_val == 'NEK2_binding':\n",
    "            nek2_bind_selects.append(match)\n",
    "        elif nek_val == 'NEK3_binding':\n",
    "            nek3_bind_selects.append(match)\n",
    "        elif nek_val == 'NEK5_binding':\n",
    "            nek5_bind_selects.append(match)\n",
    "        elif nek_val == 'NEK9_binding':\n",
    "            nek9_bind_selects.append(match)\n",
    "nek9bind_df = pd.concat(nek9_bind_selects).reset_index(drop=True)\n",
    "nek2bind_df = pd.concat(nek2_bind_selects).reset_index(drop=True)\n",
    "nek3bind_df = pd.concat(nek3_bind_selects).reset_index(drop=True)\n",
    "nek5bind_df = pd.concat(nek5_bind_selects).reset_index(drop=True)\n",
    "nek3bind_df = nek3bind_df.rename(columns={'active':'active_NEK3_binding'})\n",
    "nek5bind_df = nek5bind_df.rename(columns={'active':'active_NEK5_binding'})\n",
    "binding_selectivity = pd.merge(nek2bind_df,nek9bind_df, on='compound_id',\n",
    "                               how='outer',suffixes=('_NEK2_binding', '_NEK9_binding'))\n",
    "\n",
    "binding_selectivity = pd.merge(binding_selectivity, nek5bind_df, on='compound_id', how='outer')\n",
    "binding_selectivity = pd.merge(binding_selectivity, nek3bind_df, on='compound_id', how='outer')\n"
   ]
  },
  {
   "cell_type": "code",
   "execution_count": 73,
   "id": "a2c1c45c-9a95-4052-98f0-e9fadeb6c69a",
   "metadata": {},
   "outputs": [
    {
     "data": {
      "text/html": [
       "<div>\n",
       "<style scoped>\n",
       "    .dataframe tbody tr th:only-of-type {\n",
       "        vertical-align: middle;\n",
       "    }\n",
       "\n",
       "    .dataframe tbody tr th {\n",
       "        vertical-align: top;\n",
       "    }\n",
       "\n",
       "    .dataframe thead th {\n",
       "        text-align: right;\n",
       "    }\n",
       "</style>\n",
       "<table border=\"1\" class=\"dataframe\">\n",
       "  <thead>\n",
       "    <tr style=\"text-align: right;\">\n",
       "      <th></th>\n",
       "      <th>compound_id</th>\n",
       "      <th>active_NEK2_binding</th>\n",
       "      <th>active_NEK9_binding</th>\n",
       "      <th>active_NEK5_binding</th>\n",
       "      <th>active_NEK3_binding</th>\n",
       "    </tr>\n",
       "  </thead>\n",
       "  <tbody>\n",
       "    <tr>\n",
       "      <th>0</th>\n",
       "      <td>kdb_2181</td>\n",
       "      <td>0</td>\n",
       "      <td>0</td>\n",
       "      <td>0</td>\n",
       "      <td>0</td>\n",
       "    </tr>\n",
       "  </tbody>\n",
       "</table>\n",
       "</div>"
      ],
      "text/plain": [
       "  compound_id  active_NEK2_binding  active_NEK9_binding  active_NEK5_binding  \\\n",
       "0    kdb_2181                    0                    0                    0   \n",
       "\n",
       "   active_NEK3_binding  \n",
       "0                    0  "
      ]
     },
     "execution_count": 73,
     "metadata": {},
     "output_type": "execute_result"
    }
   ],
   "source": [
    "binding_selectivity"
   ]
  },
  {
   "cell_type": "code",
   "execution_count": null,
   "id": "fdc3d5e3-c592-49df-9708-acb64d5a3958",
   "metadata": {},
   "outputs": [],
   "source": []
  }
 ],
 "metadata": {
  "kernelspec": {
   "display_name": "atom2024",
   "language": "python",
   "name": "atom2024"
  },
  "language_info": {
   "codemirror_mode": {
    "name": "ipython",
    "version": 3
   },
   "file_extension": ".py",
   "mimetype": "text/x-python",
   "name": "python",
   "nbconvert_exporter": "python",
   "pygments_lexer": "ipython3",
   "version": "3.9.12"
  }
 },
 "nbformat": 4,
 "nbformat_minor": 5
}
