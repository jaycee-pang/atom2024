{
 "cells": [
  {
   "cell_type": "code",
   "execution_count": 1,
   "id": "a12e7943-b501-43ce-9f12-e06b93e7e17a",
   "metadata": {},
   "outputs": [],
   "source": [
    "import pyforest"
   ]
  },
  {
   "cell_type": "code",
   "execution_count": 2,
   "id": "da7ffb7e-3246-45ce-a0da-19dca419bf20",
   "metadata": {},
   "outputs": [],
   "source": [
    "datapath_full = '/Users/jayceepang/msse/capstone/atom2024/atom2024/notebooks/paper/datasets/80train_20test/featurized/'\n",
    "kfold_path = '/Users/jayceepang/msse/capstone/atom2024/atom2024/notebooks/paper/datasets/80train_20test/k_fold/validation/'"
   ]
  },
  {
   "cell_type": "code",
   "execution_count": 71,
   "id": "c0022bb9-536e-4318-a1a9-e124555150af",
   "metadata": {
    "scrolled": true
   },
   "outputs": [
    {
     "data": {
      "application/javascript": [
       "\n",
       "        if (window._pyforest_update_imports_cell) { window._pyforest_update_imports_cell('import pandas as pd'); }\n",
       "    "
      ],
      "text/plain": [
       "<IPython.core.display.Javascript object>"
      ]
     },
     "metadata": {},
     "output_type": "display_data"
    },
    {
     "data": {
      "application/javascript": [
       "\n",
       "        if (window._pyforest_update_imports_cell) { window._pyforest_update_imports_cell('import pandas as pd'); }\n",
       "    "
      ],
      "text/plain": [
       "<IPython.core.display.Javascript object>"
      ]
     },
     "metadata": {},
     "output_type": "display_data"
    },
    {
     "data": {
      "application/javascript": [
       "\n",
       "        if (window._pyforest_update_imports_cell) { window._pyforest_update_imports_cell('import pandas as pd'); }\n",
       "    "
      ],
      "text/plain": [
       "<IPython.core.display.Javascript object>"
      ]
     },
     "metadata": {},
     "output_type": "display_data"
    },
    {
     "data": {
      "application/javascript": [
       "\n",
       "        if (window._pyforest_update_imports_cell) { window._pyforest_update_imports_cell('import pandas as pd'); }\n",
       "    "
      ],
      "text/plain": [
       "<IPython.core.display.Javascript object>"
      ]
     },
     "metadata": {},
     "output_type": "display_data"
    },
    {
     "data": {
      "application/javascript": [
       "\n",
       "        if (window._pyforest_update_imports_cell) { window._pyforest_update_imports_cell('import pandas as pd'); }\n",
       "    "
      ],
      "text/plain": [
       "<IPython.core.display.Javascript object>"
      ]
     },
     "metadata": {},
     "output_type": "display_data"
    },
    {
     "data": {
      "application/javascript": [
       "\n",
       "        if (window._pyforest_update_imports_cell) { window._pyforest_update_imports_cell('import pandas as pd'); }\n",
       "    "
      ],
      "text/plain": [
       "<IPython.core.display.Javascript object>"
      ]
     },
     "metadata": {},
     "output_type": "display_data"
    },
    {
     "data": {
      "application/javascript": [
       "\n",
       "        if (window._pyforest_update_imports_cell) { window._pyforest_update_imports_cell('import pandas as pd'); }\n",
       "    "
      ],
      "text/plain": [
       "<IPython.core.display.Javascript object>"
      ]
     },
     "metadata": {},
     "output_type": "display_data"
    },
    {
     "data": {
      "application/javascript": [
       "\n",
       "        if (window._pyforest_update_imports_cell) { window._pyforest_update_imports_cell('import pandas as pd'); }\n",
       "    "
      ],
      "text/plain": [
       "<IPython.core.display.Javascript object>"
      ]
     },
     "metadata": {},
     "output_type": "display_data"
    },
    {
     "data": {
      "application/javascript": [
       "\n",
       "        if (window._pyforest_update_imports_cell) { window._pyforest_update_imports_cell('import pandas as pd'); }\n",
       "    "
      ],
      "text/plain": [
       "<IPython.core.display.Javascript object>"
      ]
     },
     "metadata": {},
     "output_type": "display_data"
    },
    {
     "data": {
      "application/javascript": [
       "\n",
       "        if (window._pyforest_update_imports_cell) { window._pyforest_update_imports_cell('import pandas as pd'); }\n",
       "    "
      ],
      "text/plain": [
       "<IPython.core.display.Javascript object>"
      ]
     },
     "metadata": {},
     "output_type": "display_data"
    },
    {
     "data": {
      "application/javascript": [
       "\n",
       "        if (window._pyforest_update_imports_cell) { window._pyforest_update_imports_cell('import pandas as pd'); }\n",
       "    "
      ],
      "text/plain": [
       "<IPython.core.display.Javascript object>"
      ]
     },
     "metadata": {},
     "output_type": "display_data"
    },
    {
     "data": {
      "application/javascript": [
       "\n",
       "        if (window._pyforest_update_imports_cell) { window._pyforest_update_imports_cell('import pandas as pd'); }\n",
       "    "
      ],
      "text/plain": [
       "<IPython.core.display.Javascript object>"
      ]
     },
     "metadata": {},
     "output_type": "display_data"
    },
    {
     "data": {
      "application/javascript": [
       "\n",
       "        if (window._pyforest_update_imports_cell) { window._pyforest_update_imports_cell('import pandas as pd'); }\n",
       "    "
      ],
      "text/plain": [
       "<IPython.core.display.Javascript object>"
      ]
     },
     "metadata": {},
     "output_type": "display_data"
    },
    {
     "data": {
      "application/javascript": [
       "\n",
       "        if (window._pyforest_update_imports_cell) { window._pyforest_update_imports_cell('import pandas as pd'); }\n",
       "    "
      ],
      "text/plain": [
       "<IPython.core.display.Javascript object>"
      ]
     },
     "metadata": {},
     "output_type": "display_data"
    },
    {
     "data": {
      "application/javascript": [
       "\n",
       "        if (window._pyforest_update_imports_cell) { window._pyforest_update_imports_cell('import pandas as pd'); }\n",
       "    "
      ],
      "text/plain": [
       "<IPython.core.display.Javascript object>"
      ]
     },
     "metadata": {},
     "output_type": "display_data"
    },
    {
     "data": {
      "application/javascript": [
       "\n",
       "        if (window._pyforest_update_imports_cell) { window._pyforest_update_imports_cell('import pandas as pd'); }\n",
       "    "
      ],
      "text/plain": [
       "<IPython.core.display.Javascript object>"
      ]
     },
     "metadata": {},
     "output_type": "display_data"
    },
    {
     "data": {
      "application/javascript": [
       "\n",
       "        if (window._pyforest_update_imports_cell) { window._pyforest_update_imports_cell('import pandas as pd'); }\n",
       "    "
      ],
      "text/plain": [
       "<IPython.core.display.Javascript object>"
      ]
     },
     "metadata": {},
     "output_type": "display_data"
    },
    {
     "data": {
      "application/javascript": [
       "\n",
       "        if (window._pyforest_update_imports_cell) { window._pyforest_update_imports_cell('import pandas as pd'); }\n",
       "    "
      ],
      "text/plain": [
       "<IPython.core.display.Javascript object>"
      ]
     },
     "metadata": {},
     "output_type": "display_data"
    },
    {
     "data": {
      "application/javascript": [
       "\n",
       "        if (window._pyforest_update_imports_cell) { window._pyforest_update_imports_cell('import pandas as pd'); }\n",
       "    "
      ],
      "text/plain": [
       "<IPython.core.display.Javascript object>"
      ]
     },
     "metadata": {},
     "output_type": "display_data"
    },
    {
     "data": {
      "application/javascript": [
       "\n",
       "        if (window._pyforest_update_imports_cell) { window._pyforest_update_imports_cell('import pandas as pd'); }\n",
       "    "
      ],
      "text/plain": [
       "<IPython.core.display.Javascript object>"
      ]
     },
     "metadata": {},
     "output_type": "display_data"
    },
    {
     "data": {
      "application/javascript": [
       "\n",
       "        if (window._pyforest_update_imports_cell) { window._pyforest_update_imports_cell('import pandas as pd'); }\n",
       "    "
      ],
      "text/plain": [
       "<IPython.core.display.Javascript object>"
      ]
     },
     "metadata": {},
     "output_type": "display_data"
    },
    {
     "data": {
      "application/javascript": [
       "\n",
       "        if (window._pyforest_update_imports_cell) { window._pyforest_update_imports_cell('import pandas as pd'); }\n",
       "    "
      ],
      "text/plain": [
       "<IPython.core.display.Javascript object>"
      ]
     },
     "metadata": {},
     "output_type": "display_data"
    },
    {
     "data": {
      "application/javascript": [
       "\n",
       "        if (window._pyforest_update_imports_cell) { window._pyforest_update_imports_cell('import pandas as pd'); }\n",
       "    "
      ],
      "text/plain": [
       "<IPython.core.display.Javascript object>"
      ]
     },
     "metadata": {},
     "output_type": "display_data"
    },
    {
     "data": {
      "application/javascript": [
       "\n",
       "        if (window._pyforest_update_imports_cell) { window._pyforest_update_imports_cell('import pandas as pd'); }\n",
       "    "
      ],
      "text/plain": [
       "<IPython.core.display.Javascript object>"
      ]
     },
     "metadata": {},
     "output_type": "display_data"
    },
    {
     "data": {
      "application/javascript": [
       "\n",
       "        if (window._pyforest_update_imports_cell) { window._pyforest_update_imports_cell('import pandas as pd'); }\n",
       "    "
      ],
      "text/plain": [
       "<IPython.core.display.Javascript object>"
      ]
     },
     "metadata": {},
     "output_type": "display_data"
    },
    {
     "data": {
      "application/javascript": [
       "\n",
       "        if (window._pyforest_update_imports_cell) { window._pyforest_update_imports_cell('import pandas as pd'); }\n",
       "    "
      ],
      "text/plain": [
       "<IPython.core.display.Javascript object>"
      ]
     },
     "metadata": {},
     "output_type": "display_data"
    },
    {
     "data": {
      "application/javascript": [
       "\n",
       "        if (window._pyforest_update_imports_cell) { window._pyforest_update_imports_cell('import pandas as pd'); }\n",
       "    "
      ],
      "text/plain": [
       "<IPython.core.display.Javascript object>"
      ]
     },
     "metadata": {},
     "output_type": "display_data"
    },
    {
     "data": {
      "application/javascript": [
       "\n",
       "        if (window._pyforest_update_imports_cell) { window._pyforest_update_imports_cell('import pandas as pd'); }\n",
       "    "
      ],
      "text/plain": [
       "<IPython.core.display.Javascript object>"
      ]
     },
     "metadata": {},
     "output_type": "display_data"
    },
    {
     "data": {
      "application/javascript": [
       "\n",
       "        if (window._pyforest_update_imports_cell) { window._pyforest_update_imports_cell('import pandas as pd'); }\n",
       "    "
      ],
      "text/plain": [
       "<IPython.core.display.Javascript object>"
      ]
     },
     "metadata": {},
     "output_type": "display_data"
    },
    {
     "data": {
      "application/javascript": [
       "\n",
       "        if (window._pyforest_update_imports_cell) { window._pyforest_update_imports_cell('import pandas as pd'); }\n",
       "    "
      ],
      "text/plain": [
       "<IPython.core.display.Javascript object>"
      ]
     },
     "metadata": {},
     "output_type": "display_data"
    },
    {
     "data": {
      "application/javascript": [
       "\n",
       "        if (window._pyforest_update_imports_cell) { window._pyforest_update_imports_cell('import pandas as pd'); }\n",
       "    "
      ],
      "text/plain": [
       "<IPython.core.display.Javascript object>"
      ]
     },
     "metadata": {},
     "output_type": "display_data"
    },
    {
     "data": {
      "application/javascript": [
       "\n",
       "        if (window._pyforest_update_imports_cell) { window._pyforest_update_imports_cell('import pandas as pd'); }\n",
       "    "
      ],
      "text/plain": [
       "<IPython.core.display.Javascript object>"
      ]
     },
     "metadata": {},
     "output_type": "display_data"
    },
    {
     "data": {
      "application/javascript": [
       "\n",
       "        if (window._pyforest_update_imports_cell) { window._pyforest_update_imports_cell('import pandas as pd'); }\n",
       "    "
      ],
      "text/plain": [
       "<IPython.core.display.Javascript object>"
      ]
     },
     "metadata": {},
     "output_type": "display_data"
    },
    {
     "data": {
      "application/javascript": [
       "\n",
       "        if (window._pyforest_update_imports_cell) { window._pyforest_update_imports_cell('import pandas as pd'); }\n",
       "    "
      ],
      "text/plain": [
       "<IPython.core.display.Javascript object>"
      ]
     },
     "metadata": {},
     "output_type": "display_data"
    },
    {
     "data": {
      "application/javascript": [
       "\n",
       "        if (window._pyforest_update_imports_cell) { window._pyforest_update_imports_cell('import pandas as pd'); }\n",
       "    "
      ],
      "text/plain": [
       "<IPython.core.display.Javascript object>"
      ]
     },
     "metadata": {},
     "output_type": "display_data"
    },
    {
     "data": {
      "application/javascript": [
       "\n",
       "        if (window._pyforest_update_imports_cell) { window._pyforest_update_imports_cell('import pandas as pd'); }\n",
       "    "
      ],
      "text/plain": [
       "<IPython.core.display.Javascript object>"
      ]
     },
     "metadata": {},
     "output_type": "display_data"
    },
    {
     "data": {
      "application/javascript": [
       "\n",
       "        if (window._pyforest_update_imports_cell) { window._pyforest_update_imports_cell('import pandas as pd'); }\n",
       "    "
      ],
      "text/plain": [
       "<IPython.core.display.Javascript object>"
      ]
     },
     "metadata": {},
     "output_type": "display_data"
    },
    {
     "data": {
      "application/javascript": [
       "\n",
       "        if (window._pyforest_update_imports_cell) { window._pyforest_update_imports_cell('import pandas as pd'); }\n",
       "    "
      ],
      "text/plain": [
       "<IPython.core.display.Javascript object>"
      ]
     },
     "metadata": {},
     "output_type": "display_data"
    },
    {
     "data": {
      "application/javascript": [
       "\n",
       "        if (window._pyforest_update_imports_cell) { window._pyforest_update_imports_cell('import pandas as pd'); }\n",
       "    "
      ],
      "text/plain": [
       "<IPython.core.display.Javascript object>"
      ]
     },
     "metadata": {},
     "output_type": "display_data"
    },
    {
     "data": {
      "application/javascript": [
       "\n",
       "        if (window._pyforest_update_imports_cell) { window._pyforest_update_imports_cell('import pandas as pd'); }\n",
       "    "
      ],
      "text/plain": [
       "<IPython.core.display.Javascript object>"
      ]
     },
     "metadata": {},
     "output_type": "display_data"
    },
    {
     "data": {
      "application/javascript": [
       "\n",
       "        if (window._pyforest_update_imports_cell) { window._pyforest_update_imports_cell('import pandas as pd'); }\n",
       "    "
      ],
      "text/plain": [
       "<IPython.core.display.Javascript object>"
      ]
     },
     "metadata": {},
     "output_type": "display_data"
    },
    {
     "data": {
      "application/javascript": [
       "\n",
       "        if (window._pyforest_update_imports_cell) { window._pyforest_update_imports_cell('import pandas as pd'); }\n",
       "    "
      ],
      "text/plain": [
       "<IPython.core.display.Javascript object>"
      ]
     },
     "metadata": {},
     "output_type": "display_data"
    },
    {
     "data": {
      "application/javascript": [
       "\n",
       "        if (window._pyforest_update_imports_cell) { window._pyforest_update_imports_cell('import pandas as pd'); }\n",
       "    "
      ],
      "text/plain": [
       "<IPython.core.display.Javascript object>"
      ]
     },
     "metadata": {},
     "output_type": "display_data"
    },
    {
     "data": {
      "application/javascript": [
       "\n",
       "        if (window._pyforest_update_imports_cell) { window._pyforest_update_imports_cell('import pandas as pd'); }\n",
       "    "
      ],
      "text/plain": [
       "<IPython.core.display.Javascript object>"
      ]
     },
     "metadata": {},
     "output_type": "display_data"
    },
    {
     "data": {
      "application/javascript": [
       "\n",
       "        if (window._pyforest_update_imports_cell) { window._pyforest_update_imports_cell('import pandas as pd'); }\n",
       "    "
      ],
      "text/plain": [
       "<IPython.core.display.Javascript object>"
      ]
     },
     "metadata": {},
     "output_type": "display_data"
    },
    {
     "data": {
      "application/javascript": [
       "\n",
       "        if (window._pyforest_update_imports_cell) { window._pyforest_update_imports_cell('import pandas as pd'); }\n",
       "    "
      ],
      "text/plain": [
       "<IPython.core.display.Javascript object>"
      ]
     },
     "metadata": {},
     "output_type": "display_data"
    },
    {
     "data": {
      "application/javascript": [
       "\n",
       "        if (window._pyforest_update_imports_cell) { window._pyforest_update_imports_cell('import pandas as pd'); }\n",
       "    "
      ],
      "text/plain": [
       "<IPython.core.display.Javascript object>"
      ]
     },
     "metadata": {},
     "output_type": "display_data"
    },
    {
     "data": {
      "application/javascript": [
       "\n",
       "        if (window._pyforest_update_imports_cell) { window._pyforest_update_imports_cell('import pandas as pd'); }\n",
       "    "
      ],
      "text/plain": [
       "<IPython.core.display.Javascript object>"
      ]
     },
     "metadata": {},
     "output_type": "display_data"
    },
    {
     "data": {
      "application/javascript": [
       "\n",
       "        if (window._pyforest_update_imports_cell) { window._pyforest_update_imports_cell('import pandas as pd'); }\n",
       "    "
      ],
      "text/plain": [
       "<IPython.core.display.Javascript object>"
      ]
     },
     "metadata": {},
     "output_type": "display_data"
    },
    {
     "data": {
      "application/javascript": [
       "\n",
       "        if (window._pyforest_update_imports_cell) { window._pyforest_update_imports_cell('import pandas as pd'); }\n",
       "    "
      ],
      "text/plain": [
       "<IPython.core.display.Javascript object>"
      ]
     },
     "metadata": {},
     "output_type": "display_data"
    },
    {
     "data": {
      "application/javascript": [
       "\n",
       "        if (window._pyforest_update_imports_cell) { window._pyforest_update_imports_cell('import pandas as pd'); }\n",
       "    "
      ],
      "text/plain": [
       "<IPython.core.display.Javascript object>"
      ]
     },
     "metadata": {},
     "output_type": "display_data"
    },
    {
     "data": {
      "application/javascript": [
       "\n",
       "        if (window._pyforest_update_imports_cell) { window._pyforest_update_imports_cell('import pandas as pd'); }\n",
       "    "
      ],
      "text/plain": [
       "<IPython.core.display.Javascript object>"
      ]
     },
     "metadata": {},
     "output_type": "display_data"
    },
    {
     "data": {
      "application/javascript": [
       "\n",
       "        if (window._pyforest_update_imports_cell) { window._pyforest_update_imports_cell('import pandas as pd'); }\n",
       "    "
      ],
      "text/plain": [
       "<IPython.core.display.Javascript object>"
      ]
     },
     "metadata": {},
     "output_type": "display_data"
    },
    {
     "data": {
      "application/javascript": [
       "\n",
       "        if (window._pyforest_update_imports_cell) { window._pyforest_update_imports_cell('import pandas as pd'); }\n",
       "    "
      ],
      "text/plain": [
       "<IPython.core.display.Javascript object>"
      ]
     },
     "metadata": {},
     "output_type": "display_data"
    },
    {
     "data": {
      "application/javascript": [
       "\n",
       "        if (window._pyforest_update_imports_cell) { window._pyforest_update_imports_cell('import pandas as pd'); }\n",
       "    "
      ],
      "text/plain": [
       "<IPython.core.display.Javascript object>"
      ]
     },
     "metadata": {},
     "output_type": "display_data"
    },
    {
     "data": {
      "application/javascript": [
       "\n",
       "        if (window._pyforest_update_imports_cell) { window._pyforest_update_imports_cell('import pandas as pd'); }\n",
       "    "
      ],
      "text/plain": [
       "<IPython.core.display.Javascript object>"
      ]
     },
     "metadata": {},
     "output_type": "display_data"
    },
    {
     "data": {
      "application/javascript": [
       "\n",
       "        if (window._pyforest_update_imports_cell) { window._pyforest_update_imports_cell('import pandas as pd'); }\n",
       "    "
      ],
      "text/plain": [
       "<IPython.core.display.Javascript object>"
      ]
     },
     "metadata": {},
     "output_type": "display_data"
    },
    {
     "data": {
      "application/javascript": [
       "\n",
       "        if (window._pyforest_update_imports_cell) { window._pyforest_update_imports_cell('import pandas as pd'); }\n",
       "    "
      ],
      "text/plain": [
       "<IPython.core.display.Javascript object>"
      ]
     },
     "metadata": {},
     "output_type": "display_data"
    },
    {
     "data": {
      "application/javascript": [
       "\n",
       "        if (window._pyforest_update_imports_cell) { window._pyforest_update_imports_cell('import pandas as pd'); }\n",
       "    "
      ],
      "text/plain": [
       "<IPython.core.display.Javascript object>"
      ]
     },
     "metadata": {},
     "output_type": "display_data"
    },
    {
     "data": {
      "application/javascript": [
       "\n",
       "        if (window._pyforest_update_imports_cell) { window._pyforest_update_imports_cell('import pandas as pd'); }\n",
       "    "
      ],
      "text/plain": [
       "<IPython.core.display.Javascript object>"
      ]
     },
     "metadata": {},
     "output_type": "display_data"
    },
    {
     "data": {
      "application/javascript": [
       "\n",
       "        if (window._pyforest_update_imports_cell) { window._pyforest_update_imports_cell('import pandas as pd'); }\n",
       "    "
      ],
      "text/plain": [
       "<IPython.core.display.Javascript object>"
      ]
     },
     "metadata": {},
     "output_type": "display_data"
    },
    {
     "data": {
      "application/javascript": [
       "\n",
       "        if (window._pyforest_update_imports_cell) { window._pyforest_update_imports_cell('import pandas as pd'); }\n",
       "    "
      ],
      "text/plain": [
       "<IPython.core.display.Javascript object>"
      ]
     },
     "metadata": {},
     "output_type": "display_data"
    },
    {
     "data": {
      "application/javascript": [
       "\n",
       "        if (window._pyforest_update_imports_cell) { window._pyforest_update_imports_cell('import pandas as pd'); }\n",
       "    "
      ],
      "text/plain": [
       "<IPython.core.display.Javascript object>"
      ]
     },
     "metadata": {},
     "output_type": "display_data"
    },
    {
     "data": {
      "application/javascript": [
       "\n",
       "        if (window._pyforest_update_imports_cell) { window._pyforest_update_imports_cell('import pandas as pd'); }\n",
       "    "
      ],
      "text/plain": [
       "<IPython.core.display.Javascript object>"
      ]
     },
     "metadata": {},
     "output_type": "display_data"
    },
    {
     "data": {
      "application/javascript": [
       "\n",
       "        if (window._pyforest_update_imports_cell) { window._pyforest_update_imports_cell('import pandas as pd'); }\n",
       "    "
      ],
      "text/plain": [
       "<IPython.core.display.Javascript object>"
      ]
     },
     "metadata": {},
     "output_type": "display_data"
    },
    {
     "data": {
      "application/javascript": [
       "\n",
       "        if (window._pyforest_update_imports_cell) { window._pyforest_update_imports_cell('import pandas as pd'); }\n",
       "    "
      ],
      "text/plain": [
       "<IPython.core.display.Javascript object>"
      ]
     },
     "metadata": {},
     "output_type": "display_data"
    },
    {
     "data": {
      "application/javascript": [
       "\n",
       "        if (window._pyforest_update_imports_cell) { window._pyforest_update_imports_cell('import pandas as pd'); }\n",
       "    "
      ],
      "text/plain": [
       "<IPython.core.display.Javascript object>"
      ]
     },
     "metadata": {},
     "output_type": "display_data"
    },
    {
     "data": {
      "application/javascript": [
       "\n",
       "        if (window._pyforest_update_imports_cell) { window._pyforest_update_imports_cell('import pandas as pd'); }\n",
       "    "
      ],
      "text/plain": [
       "<IPython.core.display.Javascript object>"
      ]
     },
     "metadata": {},
     "output_type": "display_data"
    },
    {
     "data": {
      "application/javascript": [
       "\n",
       "        if (window._pyforest_update_imports_cell) { window._pyforest_update_imports_cell('import pandas as pd'); }\n",
       "    "
      ],
      "text/plain": [
       "<IPython.core.display.Javascript object>"
      ]
     },
     "metadata": {},
     "output_type": "display_data"
    },
    {
     "data": {
      "application/javascript": [
       "\n",
       "        if (window._pyforest_update_imports_cell) { window._pyforest_update_imports_cell('import pandas as pd'); }\n",
       "    "
      ],
      "text/plain": [
       "<IPython.core.display.Javascript object>"
      ]
     },
     "metadata": {},
     "output_type": "display_data"
    },
    {
     "data": {
      "application/javascript": [
       "\n",
       "        if (window._pyforest_update_imports_cell) { window._pyforest_update_imports_cell('import pandas as pd'); }\n",
       "    "
      ],
      "text/plain": [
       "<IPython.core.display.Javascript object>"
      ]
     },
     "metadata": {},
     "output_type": "display_data"
    },
    {
     "data": {
      "application/javascript": [
       "\n",
       "        if (window._pyforest_update_imports_cell) { window._pyforest_update_imports_cell('import pandas as pd'); }\n",
       "    "
      ],
      "text/plain": [
       "<IPython.core.display.Javascript object>"
      ]
     },
     "metadata": {},
     "output_type": "display_data"
    },
    {
     "data": {
      "application/javascript": [
       "\n",
       "        if (window._pyforest_update_imports_cell) { window._pyforest_update_imports_cell('import pandas as pd'); }\n",
       "    "
      ],
      "text/plain": [
       "<IPython.core.display.Javascript object>"
      ]
     },
     "metadata": {},
     "output_type": "display_data"
    },
    {
     "data": {
      "application/javascript": [
       "\n",
       "        if (window._pyforest_update_imports_cell) { window._pyforest_update_imports_cell('import pandas as pd'); }\n",
       "    "
      ],
      "text/plain": [
       "<IPython.core.display.Javascript object>"
      ]
     },
     "metadata": {},
     "output_type": "display_data"
    },
    {
     "data": {
      "application/javascript": [
       "\n",
       "        if (window._pyforest_update_imports_cell) { window._pyforest_update_imports_cell('import pandas as pd'); }\n",
       "    "
      ],
      "text/plain": [
       "<IPython.core.display.Javascript object>"
      ]
     },
     "metadata": {},
     "output_type": "display_data"
    },
    {
     "data": {
      "application/javascript": [
       "\n",
       "        if (window._pyforest_update_imports_cell) { window._pyforest_update_imports_cell('import pandas as pd'); }\n",
       "    "
      ],
      "text/plain": [
       "<IPython.core.display.Javascript object>"
      ]
     },
     "metadata": {},
     "output_type": "display_data"
    },
    {
     "data": {
      "application/javascript": [
       "\n",
       "        if (window._pyforest_update_imports_cell) { window._pyforest_update_imports_cell('import pandas as pd'); }\n",
       "    "
      ],
      "text/plain": [
       "<IPython.core.display.Javascript object>"
      ]
     },
     "metadata": {},
     "output_type": "display_data"
    },
    {
     "data": {
      "application/javascript": [
       "\n",
       "        if (window._pyforest_update_imports_cell) { window._pyforest_update_imports_cell('import pandas as pd'); }\n",
       "    "
      ],
      "text/plain": [
       "<IPython.core.display.Javascript object>"
      ]
     },
     "metadata": {},
     "output_type": "display_data"
    },
    {
     "data": {
      "application/javascript": [
       "\n",
       "        if (window._pyforest_update_imports_cell) { window._pyforest_update_imports_cell('import pandas as pd'); }\n",
       "    "
      ],
      "text/plain": [
       "<IPython.core.display.Javascript object>"
      ]
     },
     "metadata": {},
     "output_type": "display_data"
    },
    {
     "data": {
      "application/javascript": [
       "\n",
       "        if (window._pyforest_update_imports_cell) { window._pyforest_update_imports_cell('import pandas as pd'); }\n",
       "    "
      ],
      "text/plain": [
       "<IPython.core.display.Javascript object>"
      ]
     },
     "metadata": {},
     "output_type": "display_data"
    },
    {
     "data": {
      "application/javascript": [
       "\n",
       "        if (window._pyforest_update_imports_cell) { window._pyforest_update_imports_cell('import pandas as pd'); }\n",
       "    "
      ],
      "text/plain": [
       "<IPython.core.display.Javascript object>"
      ]
     },
     "metadata": {},
     "output_type": "display_data"
    },
    {
     "data": {
      "application/javascript": [
       "\n",
       "        if (window._pyforest_update_imports_cell) { window._pyforest_update_imports_cell('import pandas as pd'); }\n",
       "    "
      ],
      "text/plain": [
       "<IPython.core.display.Javascript object>"
      ]
     },
     "metadata": {},
     "output_type": "display_data"
    },
    {
     "data": {
      "application/javascript": [
       "\n",
       "        if (window._pyforest_update_imports_cell) { window._pyforest_update_imports_cell('import pandas as pd'); }\n",
       "    "
      ],
      "text/plain": [
       "<IPython.core.display.Javascript object>"
      ]
     },
     "metadata": {},
     "output_type": "display_data"
    },
    {
     "data": {
      "application/javascript": [
       "\n",
       "        if (window._pyforest_update_imports_cell) { window._pyforest_update_imports_cell('import pandas as pd'); }\n",
       "    "
      ],
      "text/plain": [
       "<IPython.core.display.Javascript object>"
      ]
     },
     "metadata": {},
     "output_type": "display_data"
    },
    {
     "data": {
      "application/javascript": [
       "\n",
       "        if (window._pyforest_update_imports_cell) { window._pyforest_update_imports_cell('import pandas as pd'); }\n",
       "    "
      ],
      "text/plain": [
       "<IPython.core.display.Javascript object>"
      ]
     },
     "metadata": {},
     "output_type": "display_data"
    },
    {
     "data": {
      "application/javascript": [
       "\n",
       "        if (window._pyforest_update_imports_cell) { window._pyforest_update_imports_cell('import pandas as pd'); }\n",
       "    "
      ],
      "text/plain": [
       "<IPython.core.display.Javascript object>"
      ]
     },
     "metadata": {},
     "output_type": "display_data"
    },
    {
     "data": {
      "application/javascript": [
       "\n",
       "        if (window._pyforest_update_imports_cell) { window._pyforest_update_imports_cell('import pandas as pd'); }\n",
       "    "
      ],
      "text/plain": [
       "<IPython.core.display.Javascript object>"
      ]
     },
     "metadata": {},
     "output_type": "display_data"
    },
    {
     "data": {
      "application/javascript": [
       "\n",
       "        if (window._pyforest_update_imports_cell) { window._pyforest_update_imports_cell('import pandas as pd'); }\n",
       "    "
      ],
      "text/plain": [
       "<IPython.core.display.Javascript object>"
      ]
     },
     "metadata": {},
     "output_type": "display_data"
    },
    {
     "data": {
      "application/javascript": [
       "\n",
       "        if (window._pyforest_update_imports_cell) { window._pyforest_update_imports_cell('import pandas as pd'); }\n",
       "    "
      ],
      "text/plain": [
       "<IPython.core.display.Javascript object>"
      ]
     },
     "metadata": {},
     "output_type": "display_data"
    },
    {
     "data": {
      "application/javascript": [
       "\n",
       "        if (window._pyforest_update_imports_cell) { window._pyforest_update_imports_cell('import pandas as pd'); }\n",
       "    "
      ],
      "text/plain": [
       "<IPython.core.display.Javascript object>"
      ]
     },
     "metadata": {},
     "output_type": "display_data"
    },
    {
     "data": {
      "application/javascript": [
       "\n",
       "        if (window._pyforest_update_imports_cell) { window._pyforest_update_imports_cell('import pandas as pd'); }\n",
       "    "
      ],
      "text/plain": [
       "<IPython.core.display.Javascript object>"
      ]
     },
     "metadata": {},
     "output_type": "display_data"
    },
    {
     "data": {
      "application/javascript": [
       "\n",
       "        if (window._pyforest_update_imports_cell) { window._pyforest_update_imports_cell('import pandas as pd'); }\n",
       "    "
      ],
      "text/plain": [
       "<IPython.core.display.Javascript object>"
      ]
     },
     "metadata": {},
     "output_type": "display_data"
    },
    {
     "data": {
      "application/javascript": [
       "\n",
       "        if (window._pyforest_update_imports_cell) { window._pyforest_update_imports_cell('import pandas as pd'); }\n",
       "    "
      ],
      "text/plain": [
       "<IPython.core.display.Javascript object>"
      ]
     },
     "metadata": {},
     "output_type": "display_data"
    },
    {
     "data": {
      "application/javascript": [
       "\n",
       "        if (window._pyforest_update_imports_cell) { window._pyforest_update_imports_cell('import pandas as pd'); }\n",
       "    "
      ],
      "text/plain": [
       "<IPython.core.display.Javascript object>"
      ]
     },
     "metadata": {},
     "output_type": "display_data"
    },
    {
     "data": {
      "application/javascript": [
       "\n",
       "        if (window._pyforest_update_imports_cell) { window._pyforest_update_imports_cell('import pandas as pd'); }\n",
       "    "
      ],
      "text/plain": [
       "<IPython.core.display.Javascript object>"
      ]
     },
     "metadata": {},
     "output_type": "display_data"
    },
    {
     "data": {
      "application/javascript": [
       "\n",
       "        if (window._pyforest_update_imports_cell) { window._pyforest_update_imports_cell('import pandas as pd'); }\n",
       "    "
      ],
      "text/plain": [
       "<IPython.core.display.Javascript object>"
      ]
     },
     "metadata": {},
     "output_type": "display_data"
    },
    {
     "data": {
      "application/javascript": [
       "\n",
       "        if (window._pyforest_update_imports_cell) { window._pyforest_update_imports_cell('import pandas as pd'); }\n",
       "    "
      ],
      "text/plain": [
       "<IPython.core.display.Javascript object>"
      ]
     },
     "metadata": {},
     "output_type": "display_data"
    }
   ],
   "source": [
    "neks = ['NEK2_binding','NEK2_inhibition','NEK3_binding','NEK5_binding','NEK9_binding','NEK9_inhibition']\n",
    "samplings =['none_scaled','UNDER','SMOTE','ADASYN'] \n",
    "feats=['MOE','MFP']\n",
    "all_neks = [] \n",
    "df_ratios=[]\n",
    "for nek in neks: \n",
    "    for feat in feats: \n",
    "        for samp in samplings: \n",
    "            df = pd.read_csv(f'{datapath_full}{nek}_{feat}_{samp}.csv')\n",
    "            total_actives=df[df['active']==1].shape[0]\n",
    "            total_inactives=df[df['active']==0].shape[0]\n",
    "            train=df[df['subset']=='train']\n",
    "            test=df[df['subset']=='test']\n",
    "            train_actives=train[train['active']==1].shape[0]\n",
    "            test_actives=test[test['active']==1].shape[0]\n",
    "            train_inactives=train[train['active']==1].shape[0]\n",
    "            total_size=df.shape[0]\n",
    "            active_ratio = total_actives/total_size*100\n",
    "            train_size=train.shape[0]\n",
    "            test_size=test.shape[0]\n",
    "\n",
    "            train_active_ratio = train_actives/train_size*100 \n",
    "            test_active_ratio =test_actives/test_size*100 \n",
    "            \n",
    "\n",
    "            this_df_size = pd.DataFrame({'NEK':[nek], 'feat_type':[feat],'strategy':[samp], 'total_samples':[total_size],'total actives': total_actives,\n",
    "                    'total_actives%':[active_ratio],'train_active%':[train_active_ratio],'test_active%':[test_active_ratio ]})   \n",
    "\n",
    "            df_ratios.append(this_df_size)\n",
    "all_neks_ratios = pd.concat(df_ratios, ignore_index=True)\n",
    "all_neks_ratios=all_neks_ratios.replace('none_scaled', 'no_sampling')\n",
    "\n",
    "\n",
    "all_neks_ratios.to_csv('NEK_ratios.csv',index=False)"
   ]
  },
  {
   "cell_type": "code",
   "execution_count": 69,
   "id": "cc8b416d-6206-40e8-b873-629f096dee1e",
   "metadata": {},
   "outputs": [
    {
     "data": {
      "text/html": [
       "<div>\n",
       "<style scoped>\n",
       "    .dataframe tbody tr th:only-of-type {\n",
       "        vertical-align: middle;\n",
       "    }\n",
       "\n",
       "    .dataframe tbody tr th {\n",
       "        vertical-align: top;\n",
       "    }\n",
       "\n",
       "    .dataframe thead th {\n",
       "        text-align: right;\n",
       "    }\n",
       "</style>\n",
       "<table border=\"1\" class=\"dataframe\">\n",
       "  <thead>\n",
       "    <tr style=\"text-align: right;\">\n",
       "      <th></th>\n",
       "      <th>NEK</th>\n",
       "      <th>feat</th>\n",
       "      <th>samp</th>\n",
       "      <th>total_samples</th>\n",
       "      <th>total actives</th>\n",
       "      <th>total_actives%</th>\n",
       "      <th>train_active%</th>\n",
       "      <th>test_active%</th>\n",
       "    </tr>\n",
       "  </thead>\n",
       "  <tbody>\n",
       "    <tr>\n",
       "      <th>0</th>\n",
       "      <td>NEK2_binding</td>\n",
       "      <td>MOE</td>\n",
       "      <td>none_scaled</td>\n",
       "      <td>1408</td>\n",
       "      <td>57</td>\n",
       "      <td>4.048295</td>\n",
       "      <td>4.000000</td>\n",
       "      <td>4.240283</td>\n",
       "    </tr>\n",
       "    <tr>\n",
       "      <th>1</th>\n",
       "      <td>NEK2_binding</td>\n",
       "      <td>MOE</td>\n",
       "      <td>UNDER</td>\n",
       "      <td>373</td>\n",
       "      <td>57</td>\n",
       "      <td>15.281501</td>\n",
       "      <td>50.000000</td>\n",
       "      <td>4.240283</td>\n",
       "    </tr>\n",
       "    <tr>\n",
       "      <th>2</th>\n",
       "      <td>NEK2_binding</td>\n",
       "      <td>MOE</td>\n",
       "      <td>SMOTE</td>\n",
       "      <td>2443</td>\n",
       "      <td>1092</td>\n",
       "      <td>44.699140</td>\n",
       "      <td>50.000000</td>\n",
       "      <td>4.240283</td>\n",
       "    </tr>\n",
       "    <tr>\n",
       "      <th>3</th>\n",
       "      <td>NEK2_binding</td>\n",
       "      <td>MOE</td>\n",
       "      <td>ADASYN</td>\n",
       "      <td>2445</td>\n",
       "      <td>1094</td>\n",
       "      <td>44.744376</td>\n",
       "      <td>50.046253</td>\n",
       "      <td>4.240283</td>\n",
       "    </tr>\n",
       "    <tr>\n",
       "      <th>4</th>\n",
       "      <td>NEK2_binding</td>\n",
       "      <td>MFP</td>\n",
       "      <td>none_scaled</td>\n",
       "      <td>1408</td>\n",
       "      <td>57</td>\n",
       "      <td>4.048295</td>\n",
       "      <td>4.000000</td>\n",
       "      <td>4.240283</td>\n",
       "    </tr>\n",
       "    <tr>\n",
       "      <th>5</th>\n",
       "      <td>NEK2_binding</td>\n",
       "      <td>MFP</td>\n",
       "      <td>UNDER</td>\n",
       "      <td>373</td>\n",
       "      <td>57</td>\n",
       "      <td>15.281501</td>\n",
       "      <td>50.000000</td>\n",
       "      <td>4.240283</td>\n",
       "    </tr>\n",
       "    <tr>\n",
       "      <th>6</th>\n",
       "      <td>NEK2_binding</td>\n",
       "      <td>MFP</td>\n",
       "      <td>SMOTE</td>\n",
       "      <td>2443</td>\n",
       "      <td>1092</td>\n",
       "      <td>44.699140</td>\n",
       "      <td>50.000000</td>\n",
       "      <td>4.240283</td>\n",
       "    </tr>\n",
       "    <tr>\n",
       "      <th>7</th>\n",
       "      <td>NEK2_binding</td>\n",
       "      <td>MFP</td>\n",
       "      <td>ADASYN</td>\n",
       "      <td>2438</td>\n",
       "      <td>1087</td>\n",
       "      <td>44.585726</td>\n",
       "      <td>49.883991</td>\n",
       "      <td>4.240283</td>\n",
       "    </tr>\n",
       "    <tr>\n",
       "      <th>8</th>\n",
       "      <td>NEK2_inhibition</td>\n",
       "      <td>MOE</td>\n",
       "      <td>none_scaled</td>\n",
       "      <td>2032</td>\n",
       "      <td>140</td>\n",
       "      <td>6.889764</td>\n",
       "      <td>6.892308</td>\n",
       "      <td>6.879607</td>\n",
       "    </tr>\n",
       "    <tr>\n",
       "      <th>9</th>\n",
       "      <td>NEK2_inhibition</td>\n",
       "      <td>MOE</td>\n",
       "      <td>UNDER</td>\n",
       "      <td>631</td>\n",
       "      <td>140</td>\n",
       "      <td>22.187005</td>\n",
       "      <td>50.000000</td>\n",
       "      <td>6.879607</td>\n",
       "    </tr>\n",
       "    <tr>\n",
       "      <th>10</th>\n",
       "      <td>NEK2_inhibition</td>\n",
       "      <td>MOE</td>\n",
       "      <td>SMOTE</td>\n",
       "      <td>3433</td>\n",
       "      <td>1541</td>\n",
       "      <td>44.887853</td>\n",
       "      <td>50.000000</td>\n",
       "      <td>6.879607</td>\n",
       "    </tr>\n",
       "    <tr>\n",
       "      <th>11</th>\n",
       "      <td>NEK2_inhibition</td>\n",
       "      <td>MOE</td>\n",
       "      <td>ADASYN</td>\n",
       "      <td>3445</td>\n",
       "      <td>1553</td>\n",
       "      <td>45.079826</td>\n",
       "      <td>50.197498</td>\n",
       "      <td>6.879607</td>\n",
       "    </tr>\n",
       "    <tr>\n",
       "      <th>12</th>\n",
       "      <td>NEK2_inhibition</td>\n",
       "      <td>MFP</td>\n",
       "      <td>none_scaled</td>\n",
       "      <td>2032</td>\n",
       "      <td>140</td>\n",
       "      <td>6.889764</td>\n",
       "      <td>6.892308</td>\n",
       "      <td>6.879607</td>\n",
       "    </tr>\n",
       "    <tr>\n",
       "      <th>13</th>\n",
       "      <td>NEK2_inhibition</td>\n",
       "      <td>MFP</td>\n",
       "      <td>UNDER</td>\n",
       "      <td>631</td>\n",
       "      <td>140</td>\n",
       "      <td>22.187005</td>\n",
       "      <td>50.000000</td>\n",
       "      <td>6.879607</td>\n",
       "    </tr>\n",
       "    <tr>\n",
       "      <th>14</th>\n",
       "      <td>NEK2_inhibition</td>\n",
       "      <td>MFP</td>\n",
       "      <td>SMOTE</td>\n",
       "      <td>3433</td>\n",
       "      <td>1541</td>\n",
       "      <td>44.887853</td>\n",
       "      <td>50.000000</td>\n",
       "      <td>6.879607</td>\n",
       "    </tr>\n",
       "    <tr>\n",
       "      <th>15</th>\n",
       "      <td>NEK2_inhibition</td>\n",
       "      <td>MFP</td>\n",
       "      <td>ADASYN</td>\n",
       "      <td>3439</td>\n",
       "      <td>1547</td>\n",
       "      <td>44.984007</td>\n",
       "      <td>50.098945</td>\n",
       "      <td>6.879607</td>\n",
       "    </tr>\n",
       "    <tr>\n",
       "      <th>16</th>\n",
       "      <td>NEK3_binding</td>\n",
       "      <td>MOE</td>\n",
       "      <td>none_scaled</td>\n",
       "      <td>1404</td>\n",
       "      <td>81</td>\n",
       "      <td>5.769231</td>\n",
       "      <td>5.704100</td>\n",
       "      <td>6.028369</td>\n",
       "    </tr>\n",
       "    <tr>\n",
       "      <th>17</th>\n",
       "      <td>NEK3_binding</td>\n",
       "      <td>MOE</td>\n",
       "      <td>UNDER</td>\n",
       "      <td>410</td>\n",
       "      <td>81</td>\n",
       "      <td>19.756098</td>\n",
       "      <td>50.000000</td>\n",
       "      <td>6.028369</td>\n",
       "    </tr>\n",
       "    <tr>\n",
       "      <th>18</th>\n",
       "      <td>NEK3_binding</td>\n",
       "      <td>MOE</td>\n",
       "      <td>SMOTE</td>\n",
       "      <td>2398</td>\n",
       "      <td>1075</td>\n",
       "      <td>44.829024</td>\n",
       "      <td>50.000000</td>\n",
       "      <td>6.028369</td>\n",
       "    </tr>\n",
       "    <tr>\n",
       "      <th>19</th>\n",
       "      <td>NEK3_binding</td>\n",
       "      <td>MOE</td>\n",
       "      <td>ADASYN</td>\n",
       "      <td>2385</td>\n",
       "      <td>1062</td>\n",
       "      <td>44.528302</td>\n",
       "      <td>49.690918</td>\n",
       "      <td>6.028369</td>\n",
       "    </tr>\n",
       "    <tr>\n",
       "      <th>20</th>\n",
       "      <td>NEK3_binding</td>\n",
       "      <td>MFP</td>\n",
       "      <td>none_scaled</td>\n",
       "      <td>1404</td>\n",
       "      <td>81</td>\n",
       "      <td>5.769231</td>\n",
       "      <td>5.704100</td>\n",
       "      <td>6.028369</td>\n",
       "    </tr>\n",
       "    <tr>\n",
       "      <th>21</th>\n",
       "      <td>NEK3_binding</td>\n",
       "      <td>MFP</td>\n",
       "      <td>UNDER</td>\n",
       "      <td>410</td>\n",
       "      <td>81</td>\n",
       "      <td>19.756098</td>\n",
       "      <td>50.000000</td>\n",
       "      <td>6.028369</td>\n",
       "    </tr>\n",
       "    <tr>\n",
       "      <th>22</th>\n",
       "      <td>NEK3_binding</td>\n",
       "      <td>MFP</td>\n",
       "      <td>SMOTE</td>\n",
       "      <td>2398</td>\n",
       "      <td>1075</td>\n",
       "      <td>44.829024</td>\n",
       "      <td>50.000000</td>\n",
       "      <td>6.028369</td>\n",
       "    </tr>\n",
       "    <tr>\n",
       "      <th>23</th>\n",
       "      <td>NEK3_binding</td>\n",
       "      <td>MFP</td>\n",
       "      <td>ADASYN</td>\n",
       "      <td>2407</td>\n",
       "      <td>1084</td>\n",
       "      <td>45.035314</td>\n",
       "      <td>50.211765</td>\n",
       "      <td>6.028369</td>\n",
       "    </tr>\n",
       "    <tr>\n",
       "      <th>24</th>\n",
       "      <td>NEK5_binding</td>\n",
       "      <td>MOE</td>\n",
       "      <td>none_scaled</td>\n",
       "      <td>1237</td>\n",
       "      <td>97</td>\n",
       "      <td>7.841552</td>\n",
       "      <td>7.785642</td>\n",
       "      <td>8.064516</td>\n",
       "    </tr>\n",
       "    <tr>\n",
       "      <th>25</th>\n",
       "      <td>NEK5_binding</td>\n",
       "      <td>MOE</td>\n",
       "      <td>UNDER</td>\n",
       "      <td>402</td>\n",
       "      <td>97</td>\n",
       "      <td>24.129353</td>\n",
       "      <td>50.000000</td>\n",
       "      <td>8.064516</td>\n",
       "    </tr>\n",
       "    <tr>\n",
       "      <th>26</th>\n",
       "      <td>NEK5_binding</td>\n",
       "      <td>MOE</td>\n",
       "      <td>SMOTE</td>\n",
       "      <td>2072</td>\n",
       "      <td>932</td>\n",
       "      <td>44.980695</td>\n",
       "      <td>50.000000</td>\n",
       "      <td>8.064516</td>\n",
       "    </tr>\n",
       "    <tr>\n",
       "      <th>27</th>\n",
       "      <td>NEK5_binding</td>\n",
       "      <td>MOE</td>\n",
       "      <td>ADASYN</td>\n",
       "      <td>2075</td>\n",
       "      <td>935</td>\n",
       "      <td>45.060241</td>\n",
       "      <td>50.082102</td>\n",
       "      <td>8.064516</td>\n",
       "    </tr>\n",
       "    <tr>\n",
       "      <th>28</th>\n",
       "      <td>NEK5_binding</td>\n",
       "      <td>MFP</td>\n",
       "      <td>none_scaled</td>\n",
       "      <td>1237</td>\n",
       "      <td>97</td>\n",
       "      <td>7.841552</td>\n",
       "      <td>7.785642</td>\n",
       "      <td>8.064516</td>\n",
       "    </tr>\n",
       "    <tr>\n",
       "      <th>29</th>\n",
       "      <td>NEK5_binding</td>\n",
       "      <td>MFP</td>\n",
       "      <td>UNDER</td>\n",
       "      <td>402</td>\n",
       "      <td>97</td>\n",
       "      <td>24.129353</td>\n",
       "      <td>50.000000</td>\n",
       "      <td>8.064516</td>\n",
       "    </tr>\n",
       "    <tr>\n",
       "      <th>30</th>\n",
       "      <td>NEK5_binding</td>\n",
       "      <td>MFP</td>\n",
       "      <td>SMOTE</td>\n",
       "      <td>2072</td>\n",
       "      <td>932</td>\n",
       "      <td>44.980695</td>\n",
       "      <td>50.000000</td>\n",
       "      <td>8.064516</td>\n",
       "    </tr>\n",
       "    <tr>\n",
       "      <th>31</th>\n",
       "      <td>NEK5_binding</td>\n",
       "      <td>MFP</td>\n",
       "      <td>ADASYN</td>\n",
       "      <td>2055</td>\n",
       "      <td>915</td>\n",
       "      <td>44.525547</td>\n",
       "      <td>49.529607</td>\n",
       "      <td>8.064516</td>\n",
       "    </tr>\n",
       "    <tr>\n",
       "      <th>32</th>\n",
       "      <td>NEK9_binding</td>\n",
       "      <td>MOE</td>\n",
       "      <td>none_scaled</td>\n",
       "      <td>1409</td>\n",
       "      <td>61</td>\n",
       "      <td>4.329312</td>\n",
       "      <td>4.262877</td>\n",
       "      <td>4.593640</td>\n",
       "    </tr>\n",
       "    <tr>\n",
       "      <th>33</th>\n",
       "      <td>NEK9_binding</td>\n",
       "      <td>MOE</td>\n",
       "      <td>UNDER</td>\n",
       "      <td>379</td>\n",
       "      <td>61</td>\n",
       "      <td>16.094987</td>\n",
       "      <td>50.000000</td>\n",
       "      <td>4.593640</td>\n",
       "    </tr>\n",
       "    <tr>\n",
       "      <th>34</th>\n",
       "      <td>NEK9_binding</td>\n",
       "      <td>MOE</td>\n",
       "      <td>SMOTE</td>\n",
       "      <td>2439</td>\n",
       "      <td>1091</td>\n",
       "      <td>44.731447</td>\n",
       "      <td>50.000000</td>\n",
       "      <td>4.593640</td>\n",
       "    </tr>\n",
       "    <tr>\n",
       "      <th>35</th>\n",
       "      <td>NEK9_binding</td>\n",
       "      <td>MOE</td>\n",
       "      <td>ADASYN</td>\n",
       "      <td>2444</td>\n",
       "      <td>1096</td>\n",
       "      <td>44.844517</td>\n",
       "      <td>50.115687</td>\n",
       "      <td>4.593640</td>\n",
       "    </tr>\n",
       "    <tr>\n",
       "      <th>36</th>\n",
       "      <td>NEK9_binding</td>\n",
       "      <td>MFP</td>\n",
       "      <td>none_scaled</td>\n",
       "      <td>1409</td>\n",
       "      <td>61</td>\n",
       "      <td>4.329312</td>\n",
       "      <td>4.262877</td>\n",
       "      <td>4.593640</td>\n",
       "    </tr>\n",
       "    <tr>\n",
       "      <th>37</th>\n",
       "      <td>NEK9_binding</td>\n",
       "      <td>MFP</td>\n",
       "      <td>UNDER</td>\n",
       "      <td>379</td>\n",
       "      <td>61</td>\n",
       "      <td>16.094987</td>\n",
       "      <td>50.000000</td>\n",
       "      <td>4.593640</td>\n",
       "    </tr>\n",
       "    <tr>\n",
       "      <th>38</th>\n",
       "      <td>NEK9_binding</td>\n",
       "      <td>MFP</td>\n",
       "      <td>SMOTE</td>\n",
       "      <td>2439</td>\n",
       "      <td>1091</td>\n",
       "      <td>44.731447</td>\n",
       "      <td>50.000000</td>\n",
       "      <td>4.593640</td>\n",
       "    </tr>\n",
       "    <tr>\n",
       "      <th>39</th>\n",
       "      <td>NEK9_binding</td>\n",
       "      <td>MFP</td>\n",
       "      <td>ADASYN</td>\n",
       "      <td>2442</td>\n",
       "      <td>1094</td>\n",
       "      <td>44.799345</td>\n",
       "      <td>50.069477</td>\n",
       "      <td>4.593640</td>\n",
       "    </tr>\n",
       "    <tr>\n",
       "      <th>40</th>\n",
       "      <td>NEK9_inhibition</td>\n",
       "      <td>MOE</td>\n",
       "      <td>none_scaled</td>\n",
       "      <td>393</td>\n",
       "      <td>42</td>\n",
       "      <td>10.687023</td>\n",
       "      <td>10.543131</td>\n",
       "      <td>11.250000</td>\n",
       "    </tr>\n",
       "    <tr>\n",
       "      <th>41</th>\n",
       "      <td>NEK9_inhibition</td>\n",
       "      <td>MOE</td>\n",
       "      <td>UNDER</td>\n",
       "      <td>146</td>\n",
       "      <td>42</td>\n",
       "      <td>28.767123</td>\n",
       "      <td>50.000000</td>\n",
       "      <td>11.250000</td>\n",
       "    </tr>\n",
       "    <tr>\n",
       "      <th>42</th>\n",
       "      <td>NEK9_inhibition</td>\n",
       "      <td>MOE</td>\n",
       "      <td>SMOTE</td>\n",
       "      <td>640</td>\n",
       "      <td>289</td>\n",
       "      <td>45.156250</td>\n",
       "      <td>50.000000</td>\n",
       "      <td>11.250000</td>\n",
       "    </tr>\n",
       "    <tr>\n",
       "      <th>43</th>\n",
       "      <td>NEK9_inhibition</td>\n",
       "      <td>MOE</td>\n",
       "      <td>ADASYN</td>\n",
       "      <td>635</td>\n",
       "      <td>284</td>\n",
       "      <td>44.724409</td>\n",
       "      <td>49.549550</td>\n",
       "      <td>11.250000</td>\n",
       "    </tr>\n",
       "    <tr>\n",
       "      <th>44</th>\n",
       "      <td>NEK9_inhibition</td>\n",
       "      <td>MFP</td>\n",
       "      <td>none_scaled</td>\n",
       "      <td>393</td>\n",
       "      <td>42</td>\n",
       "      <td>10.687023</td>\n",
       "      <td>10.543131</td>\n",
       "      <td>11.250000</td>\n",
       "    </tr>\n",
       "    <tr>\n",
       "      <th>45</th>\n",
       "      <td>NEK9_inhibition</td>\n",
       "      <td>MFP</td>\n",
       "      <td>UNDER</td>\n",
       "      <td>146</td>\n",
       "      <td>42</td>\n",
       "      <td>28.767123</td>\n",
       "      <td>50.000000</td>\n",
       "      <td>11.250000</td>\n",
       "    </tr>\n",
       "    <tr>\n",
       "      <th>46</th>\n",
       "      <td>NEK9_inhibition</td>\n",
       "      <td>MFP</td>\n",
       "      <td>SMOTE</td>\n",
       "      <td>640</td>\n",
       "      <td>289</td>\n",
       "      <td>45.156250</td>\n",
       "      <td>50.000000</td>\n",
       "      <td>11.250000</td>\n",
       "    </tr>\n",
       "    <tr>\n",
       "      <th>47</th>\n",
       "      <td>NEK9_inhibition</td>\n",
       "      <td>MFP</td>\n",
       "      <td>ADASYN</td>\n",
       "      <td>631</td>\n",
       "      <td>280</td>\n",
       "      <td>44.374010</td>\n",
       "      <td>49.183303</td>\n",
       "      <td>11.250000</td>\n",
       "    </tr>\n",
       "  </tbody>\n",
       "</table>\n",
       "</div>"
      ],
      "text/plain": [
       "                NEK feat         samp  total_samples  total actives  \\\n",
       "0      NEK2_binding  MOE  none_scaled           1408             57   \n",
       "1      NEK2_binding  MOE        UNDER            373             57   \n",
       "2      NEK2_binding  MOE        SMOTE           2443           1092   \n",
       "3      NEK2_binding  MOE       ADASYN           2445           1094   \n",
       "4      NEK2_binding  MFP  none_scaled           1408             57   \n",
       "5      NEK2_binding  MFP        UNDER            373             57   \n",
       "6      NEK2_binding  MFP        SMOTE           2443           1092   \n",
       "7      NEK2_binding  MFP       ADASYN           2438           1087   \n",
       "8   NEK2_inhibition  MOE  none_scaled           2032            140   \n",
       "9   NEK2_inhibition  MOE        UNDER            631            140   \n",
       "10  NEK2_inhibition  MOE        SMOTE           3433           1541   \n",
       "11  NEK2_inhibition  MOE       ADASYN           3445           1553   \n",
       "12  NEK2_inhibition  MFP  none_scaled           2032            140   \n",
       "13  NEK2_inhibition  MFP        UNDER            631            140   \n",
       "14  NEK2_inhibition  MFP        SMOTE           3433           1541   \n",
       "15  NEK2_inhibition  MFP       ADASYN           3439           1547   \n",
       "16     NEK3_binding  MOE  none_scaled           1404             81   \n",
       "17     NEK3_binding  MOE        UNDER            410             81   \n",
       "18     NEK3_binding  MOE        SMOTE           2398           1075   \n",
       "19     NEK3_binding  MOE       ADASYN           2385           1062   \n",
       "20     NEK3_binding  MFP  none_scaled           1404             81   \n",
       "21     NEK3_binding  MFP        UNDER            410             81   \n",
       "22     NEK3_binding  MFP        SMOTE           2398           1075   \n",
       "23     NEK3_binding  MFP       ADASYN           2407           1084   \n",
       "24     NEK5_binding  MOE  none_scaled           1237             97   \n",
       "25     NEK5_binding  MOE        UNDER            402             97   \n",
       "26     NEK5_binding  MOE        SMOTE           2072            932   \n",
       "27     NEK5_binding  MOE       ADASYN           2075            935   \n",
       "28     NEK5_binding  MFP  none_scaled           1237             97   \n",
       "29     NEK5_binding  MFP        UNDER            402             97   \n",
       "30     NEK5_binding  MFP        SMOTE           2072            932   \n",
       "31     NEK5_binding  MFP       ADASYN           2055            915   \n",
       "32     NEK9_binding  MOE  none_scaled           1409             61   \n",
       "33     NEK9_binding  MOE        UNDER            379             61   \n",
       "34     NEK9_binding  MOE        SMOTE           2439           1091   \n",
       "35     NEK9_binding  MOE       ADASYN           2444           1096   \n",
       "36     NEK9_binding  MFP  none_scaled           1409             61   \n",
       "37     NEK9_binding  MFP        UNDER            379             61   \n",
       "38     NEK9_binding  MFP        SMOTE           2439           1091   \n",
       "39     NEK9_binding  MFP       ADASYN           2442           1094   \n",
       "40  NEK9_inhibition  MOE  none_scaled            393             42   \n",
       "41  NEK9_inhibition  MOE        UNDER            146             42   \n",
       "42  NEK9_inhibition  MOE        SMOTE            640            289   \n",
       "43  NEK9_inhibition  MOE       ADASYN            635            284   \n",
       "44  NEK9_inhibition  MFP  none_scaled            393             42   \n",
       "45  NEK9_inhibition  MFP        UNDER            146             42   \n",
       "46  NEK9_inhibition  MFP        SMOTE            640            289   \n",
       "47  NEK9_inhibition  MFP       ADASYN            631            280   \n",
       "\n",
       "    total_actives%  train_active%  test_active%  \n",
       "0         4.048295       4.000000      4.240283  \n",
       "1        15.281501      50.000000      4.240283  \n",
       "2        44.699140      50.000000      4.240283  \n",
       "3        44.744376      50.046253      4.240283  \n",
       "4         4.048295       4.000000      4.240283  \n",
       "5        15.281501      50.000000      4.240283  \n",
       "6        44.699140      50.000000      4.240283  \n",
       "7        44.585726      49.883991      4.240283  \n",
       "8         6.889764       6.892308      6.879607  \n",
       "9        22.187005      50.000000      6.879607  \n",
       "10       44.887853      50.000000      6.879607  \n",
       "11       45.079826      50.197498      6.879607  \n",
       "12        6.889764       6.892308      6.879607  \n",
       "13       22.187005      50.000000      6.879607  \n",
       "14       44.887853      50.000000      6.879607  \n",
       "15       44.984007      50.098945      6.879607  \n",
       "16        5.769231       5.704100      6.028369  \n",
       "17       19.756098      50.000000      6.028369  \n",
       "18       44.829024      50.000000      6.028369  \n",
       "19       44.528302      49.690918      6.028369  \n",
       "20        5.769231       5.704100      6.028369  \n",
       "21       19.756098      50.000000      6.028369  \n",
       "22       44.829024      50.000000      6.028369  \n",
       "23       45.035314      50.211765      6.028369  \n",
       "24        7.841552       7.785642      8.064516  \n",
       "25       24.129353      50.000000      8.064516  \n",
       "26       44.980695      50.000000      8.064516  \n",
       "27       45.060241      50.082102      8.064516  \n",
       "28        7.841552       7.785642      8.064516  \n",
       "29       24.129353      50.000000      8.064516  \n",
       "30       44.980695      50.000000      8.064516  \n",
       "31       44.525547      49.529607      8.064516  \n",
       "32        4.329312       4.262877      4.593640  \n",
       "33       16.094987      50.000000      4.593640  \n",
       "34       44.731447      50.000000      4.593640  \n",
       "35       44.844517      50.115687      4.593640  \n",
       "36        4.329312       4.262877      4.593640  \n",
       "37       16.094987      50.000000      4.593640  \n",
       "38       44.731447      50.000000      4.593640  \n",
       "39       44.799345      50.069477      4.593640  \n",
       "40       10.687023      10.543131     11.250000  \n",
       "41       28.767123      50.000000     11.250000  \n",
       "42       45.156250      50.000000     11.250000  \n",
       "43       44.724409      49.549550     11.250000  \n",
       "44       10.687023      10.543131     11.250000  \n",
       "45       28.767123      50.000000     11.250000  \n",
       "46       45.156250      50.000000     11.250000  \n",
       "47       44.374010      49.183303     11.250000  "
      ]
     },
     "execution_count": 69,
     "metadata": {},
     "output_type": "execute_result"
    }
   ],
   "source": [
    "all_neks_ratios "
   ]
  },
  {
   "cell_type": "code",
   "execution_count": 68,
   "id": "b6b03e43-37fe-4def-b55f-432f9b0ad64e",
   "metadata": {
    "scrolled": true
   },
   "outputs": [
    {
     "data": {
      "text/html": [
       "<div>\n",
       "<style scoped>\n",
       "    .dataframe tbody tr th:only-of-type {\n",
       "        vertical-align: middle;\n",
       "    }\n",
       "\n",
       "    .dataframe tbody tr th {\n",
       "        vertical-align: top;\n",
       "    }\n",
       "\n",
       "    .dataframe thead th {\n",
       "        text-align: right;\n",
       "    }\n",
       "</style>\n",
       "<table border=\"1\" class=\"dataframe\">\n",
       "  <thead>\n",
       "    <tr style=\"text-align: right;\">\n",
       "      <th></th>\n",
       "      <th>NEK</th>\n",
       "      <th>feat</th>\n",
       "      <th>samp</th>\n",
       "      <th>total_samples</th>\n",
       "      <th>total actives</th>\n",
       "      <th>total_actives%</th>\n",
       "      <th>train_active%</th>\n",
       "      <th>test_active%</th>\n",
       "    </tr>\n",
       "  </thead>\n",
       "  <tbody>\n",
       "    <tr>\n",
       "      <th>0</th>\n",
       "      <td>NEK2_binding</td>\n",
       "      <td>MOE</td>\n",
       "      <td>none_scaled</td>\n",
       "      <td>1408</td>\n",
       "      <td>57</td>\n",
       "      <td>4.048295</td>\n",
       "      <td>4.000000</td>\n",
       "      <td>4.240283</td>\n",
       "    </tr>\n",
       "    <tr>\n",
       "      <th>1</th>\n",
       "      <td>NEK2_binding</td>\n",
       "      <td>MOE</td>\n",
       "      <td>UNDER</td>\n",
       "      <td>373</td>\n",
       "      <td>57</td>\n",
       "      <td>15.281501</td>\n",
       "      <td>50.000000</td>\n",
       "      <td>4.240283</td>\n",
       "    </tr>\n",
       "    <tr>\n",
       "      <th>2</th>\n",
       "      <td>NEK2_binding</td>\n",
       "      <td>MOE</td>\n",
       "      <td>SMOTE</td>\n",
       "      <td>2443</td>\n",
       "      <td>1092</td>\n",
       "      <td>44.699140</td>\n",
       "      <td>50.000000</td>\n",
       "      <td>4.240283</td>\n",
       "    </tr>\n",
       "    <tr>\n",
       "      <th>3</th>\n",
       "      <td>NEK2_binding</td>\n",
       "      <td>MOE</td>\n",
       "      <td>ADASYN</td>\n",
       "      <td>2445</td>\n",
       "      <td>1094</td>\n",
       "      <td>44.744376</td>\n",
       "      <td>50.046253</td>\n",
       "      <td>4.240283</td>\n",
       "    </tr>\n",
       "    <tr>\n",
       "      <th>4</th>\n",
       "      <td>NEK2_binding</td>\n",
       "      <td>MFP</td>\n",
       "      <td>none_scaled</td>\n",
       "      <td>1408</td>\n",
       "      <td>57</td>\n",
       "      <td>4.048295</td>\n",
       "      <td>4.000000</td>\n",
       "      <td>4.240283</td>\n",
       "    </tr>\n",
       "    <tr>\n",
       "      <th>5</th>\n",
       "      <td>NEK2_binding</td>\n",
       "      <td>MFP</td>\n",
       "      <td>UNDER</td>\n",
       "      <td>373</td>\n",
       "      <td>57</td>\n",
       "      <td>15.281501</td>\n",
       "      <td>50.000000</td>\n",
       "      <td>4.240283</td>\n",
       "    </tr>\n",
       "    <tr>\n",
       "      <th>6</th>\n",
       "      <td>NEK2_binding</td>\n",
       "      <td>MFP</td>\n",
       "      <td>SMOTE</td>\n",
       "      <td>2443</td>\n",
       "      <td>1092</td>\n",
       "      <td>44.699140</td>\n",
       "      <td>50.000000</td>\n",
       "      <td>4.240283</td>\n",
       "    </tr>\n",
       "    <tr>\n",
       "      <th>7</th>\n",
       "      <td>NEK2_binding</td>\n",
       "      <td>MFP</td>\n",
       "      <td>ADASYN</td>\n",
       "      <td>2438</td>\n",
       "      <td>1087</td>\n",
       "      <td>44.585726</td>\n",
       "      <td>49.883991</td>\n",
       "      <td>4.240283</td>\n",
       "    </tr>\n",
       "  </tbody>\n",
       "</table>\n",
       "</div>"
      ],
      "text/plain": [
       "            NEK feat         samp  total_samples  total actives  \\\n",
       "0  NEK2_binding  MOE  none_scaled           1408             57   \n",
       "1  NEK2_binding  MOE        UNDER            373             57   \n",
       "2  NEK2_binding  MOE        SMOTE           2443           1092   \n",
       "3  NEK2_binding  MOE       ADASYN           2445           1094   \n",
       "4  NEK2_binding  MFP  none_scaled           1408             57   \n",
       "5  NEK2_binding  MFP        UNDER            373             57   \n",
       "6  NEK2_binding  MFP        SMOTE           2443           1092   \n",
       "7  NEK2_binding  MFP       ADASYN           2438           1087   \n",
       "\n",
       "   total_actives%  train_active%  test_active%  \n",
       "0        4.048295       4.000000      4.240283  \n",
       "1       15.281501      50.000000      4.240283  \n",
       "2       44.699140      50.000000      4.240283  \n",
       "3       44.744376      50.046253      4.240283  \n",
       "4        4.048295       4.000000      4.240283  \n",
       "5       15.281501      50.000000      4.240283  \n",
       "6       44.699140      50.000000      4.240283  \n",
       "7       44.585726      49.883991      4.240283  "
      ]
     },
     "metadata": {},
     "output_type": "display_data"
    },
    {
     "data": {
      "text/html": [
       "<div>\n",
       "<style scoped>\n",
       "    .dataframe tbody tr th:only-of-type {\n",
       "        vertical-align: middle;\n",
       "    }\n",
       "\n",
       "    .dataframe tbody tr th {\n",
       "        vertical-align: top;\n",
       "    }\n",
       "\n",
       "    .dataframe thead th {\n",
       "        text-align: right;\n",
       "    }\n",
       "</style>\n",
       "<table border=\"1\" class=\"dataframe\">\n",
       "  <thead>\n",
       "    <tr style=\"text-align: right;\">\n",
       "      <th></th>\n",
       "      <th>NEK</th>\n",
       "      <th>feat</th>\n",
       "      <th>samp</th>\n",
       "      <th>total_samples</th>\n",
       "      <th>total actives</th>\n",
       "      <th>total_actives%</th>\n",
       "      <th>train_active%</th>\n",
       "      <th>test_active%</th>\n",
       "    </tr>\n",
       "  </thead>\n",
       "  <tbody>\n",
       "    <tr>\n",
       "      <th>8</th>\n",
       "      <td>NEK2_inhibition</td>\n",
       "      <td>MOE</td>\n",
       "      <td>none_scaled</td>\n",
       "      <td>2032</td>\n",
       "      <td>140</td>\n",
       "      <td>6.889764</td>\n",
       "      <td>6.892308</td>\n",
       "      <td>6.879607</td>\n",
       "    </tr>\n",
       "    <tr>\n",
       "      <th>9</th>\n",
       "      <td>NEK2_inhibition</td>\n",
       "      <td>MOE</td>\n",
       "      <td>UNDER</td>\n",
       "      <td>631</td>\n",
       "      <td>140</td>\n",
       "      <td>22.187005</td>\n",
       "      <td>50.000000</td>\n",
       "      <td>6.879607</td>\n",
       "    </tr>\n",
       "    <tr>\n",
       "      <th>10</th>\n",
       "      <td>NEK2_inhibition</td>\n",
       "      <td>MOE</td>\n",
       "      <td>SMOTE</td>\n",
       "      <td>3433</td>\n",
       "      <td>1541</td>\n",
       "      <td>44.887853</td>\n",
       "      <td>50.000000</td>\n",
       "      <td>6.879607</td>\n",
       "    </tr>\n",
       "    <tr>\n",
       "      <th>11</th>\n",
       "      <td>NEK2_inhibition</td>\n",
       "      <td>MOE</td>\n",
       "      <td>ADASYN</td>\n",
       "      <td>3445</td>\n",
       "      <td>1553</td>\n",
       "      <td>45.079826</td>\n",
       "      <td>50.197498</td>\n",
       "      <td>6.879607</td>\n",
       "    </tr>\n",
       "    <tr>\n",
       "      <th>12</th>\n",
       "      <td>NEK2_inhibition</td>\n",
       "      <td>MFP</td>\n",
       "      <td>none_scaled</td>\n",
       "      <td>2032</td>\n",
       "      <td>140</td>\n",
       "      <td>6.889764</td>\n",
       "      <td>6.892308</td>\n",
       "      <td>6.879607</td>\n",
       "    </tr>\n",
       "    <tr>\n",
       "      <th>13</th>\n",
       "      <td>NEK2_inhibition</td>\n",
       "      <td>MFP</td>\n",
       "      <td>UNDER</td>\n",
       "      <td>631</td>\n",
       "      <td>140</td>\n",
       "      <td>22.187005</td>\n",
       "      <td>50.000000</td>\n",
       "      <td>6.879607</td>\n",
       "    </tr>\n",
       "    <tr>\n",
       "      <th>14</th>\n",
       "      <td>NEK2_inhibition</td>\n",
       "      <td>MFP</td>\n",
       "      <td>SMOTE</td>\n",
       "      <td>3433</td>\n",
       "      <td>1541</td>\n",
       "      <td>44.887853</td>\n",
       "      <td>50.000000</td>\n",
       "      <td>6.879607</td>\n",
       "    </tr>\n",
       "    <tr>\n",
       "      <th>15</th>\n",
       "      <td>NEK2_inhibition</td>\n",
       "      <td>MFP</td>\n",
       "      <td>ADASYN</td>\n",
       "      <td>3439</td>\n",
       "      <td>1547</td>\n",
       "      <td>44.984007</td>\n",
       "      <td>50.098945</td>\n",
       "      <td>6.879607</td>\n",
       "    </tr>\n",
       "  </tbody>\n",
       "</table>\n",
       "</div>"
      ],
      "text/plain": [
       "                NEK feat         samp  total_samples  total actives  \\\n",
       "8   NEK2_inhibition  MOE  none_scaled           2032            140   \n",
       "9   NEK2_inhibition  MOE        UNDER            631            140   \n",
       "10  NEK2_inhibition  MOE        SMOTE           3433           1541   \n",
       "11  NEK2_inhibition  MOE       ADASYN           3445           1553   \n",
       "12  NEK2_inhibition  MFP  none_scaled           2032            140   \n",
       "13  NEK2_inhibition  MFP        UNDER            631            140   \n",
       "14  NEK2_inhibition  MFP        SMOTE           3433           1541   \n",
       "15  NEK2_inhibition  MFP       ADASYN           3439           1547   \n",
       "\n",
       "    total_actives%  train_active%  test_active%  \n",
       "8         6.889764       6.892308      6.879607  \n",
       "9        22.187005      50.000000      6.879607  \n",
       "10       44.887853      50.000000      6.879607  \n",
       "11       45.079826      50.197498      6.879607  \n",
       "12        6.889764       6.892308      6.879607  \n",
       "13       22.187005      50.000000      6.879607  \n",
       "14       44.887853      50.000000      6.879607  \n",
       "15       44.984007      50.098945      6.879607  "
      ]
     },
     "metadata": {},
     "output_type": "display_data"
    },
    {
     "data": {
      "text/html": [
       "<div>\n",
       "<style scoped>\n",
       "    .dataframe tbody tr th:only-of-type {\n",
       "        vertical-align: middle;\n",
       "    }\n",
       "\n",
       "    .dataframe tbody tr th {\n",
       "        vertical-align: top;\n",
       "    }\n",
       "\n",
       "    .dataframe thead th {\n",
       "        text-align: right;\n",
       "    }\n",
       "</style>\n",
       "<table border=\"1\" class=\"dataframe\">\n",
       "  <thead>\n",
       "    <tr style=\"text-align: right;\">\n",
       "      <th></th>\n",
       "      <th>NEK</th>\n",
       "      <th>feat</th>\n",
       "      <th>samp</th>\n",
       "      <th>total_samples</th>\n",
       "      <th>total actives</th>\n",
       "      <th>total_actives%</th>\n",
       "      <th>train_active%</th>\n",
       "      <th>test_active%</th>\n",
       "    </tr>\n",
       "  </thead>\n",
       "  <tbody>\n",
       "    <tr>\n",
       "      <th>16</th>\n",
       "      <td>NEK3_binding</td>\n",
       "      <td>MOE</td>\n",
       "      <td>none_scaled</td>\n",
       "      <td>1404</td>\n",
       "      <td>81</td>\n",
       "      <td>5.769231</td>\n",
       "      <td>5.704100</td>\n",
       "      <td>6.028369</td>\n",
       "    </tr>\n",
       "    <tr>\n",
       "      <th>17</th>\n",
       "      <td>NEK3_binding</td>\n",
       "      <td>MOE</td>\n",
       "      <td>UNDER</td>\n",
       "      <td>410</td>\n",
       "      <td>81</td>\n",
       "      <td>19.756098</td>\n",
       "      <td>50.000000</td>\n",
       "      <td>6.028369</td>\n",
       "    </tr>\n",
       "    <tr>\n",
       "      <th>18</th>\n",
       "      <td>NEK3_binding</td>\n",
       "      <td>MOE</td>\n",
       "      <td>SMOTE</td>\n",
       "      <td>2398</td>\n",
       "      <td>1075</td>\n",
       "      <td>44.829024</td>\n",
       "      <td>50.000000</td>\n",
       "      <td>6.028369</td>\n",
       "    </tr>\n",
       "    <tr>\n",
       "      <th>19</th>\n",
       "      <td>NEK3_binding</td>\n",
       "      <td>MOE</td>\n",
       "      <td>ADASYN</td>\n",
       "      <td>2385</td>\n",
       "      <td>1062</td>\n",
       "      <td>44.528302</td>\n",
       "      <td>49.690918</td>\n",
       "      <td>6.028369</td>\n",
       "    </tr>\n",
       "    <tr>\n",
       "      <th>20</th>\n",
       "      <td>NEK3_binding</td>\n",
       "      <td>MFP</td>\n",
       "      <td>none_scaled</td>\n",
       "      <td>1404</td>\n",
       "      <td>81</td>\n",
       "      <td>5.769231</td>\n",
       "      <td>5.704100</td>\n",
       "      <td>6.028369</td>\n",
       "    </tr>\n",
       "    <tr>\n",
       "      <th>21</th>\n",
       "      <td>NEK3_binding</td>\n",
       "      <td>MFP</td>\n",
       "      <td>UNDER</td>\n",
       "      <td>410</td>\n",
       "      <td>81</td>\n",
       "      <td>19.756098</td>\n",
       "      <td>50.000000</td>\n",
       "      <td>6.028369</td>\n",
       "    </tr>\n",
       "    <tr>\n",
       "      <th>22</th>\n",
       "      <td>NEK3_binding</td>\n",
       "      <td>MFP</td>\n",
       "      <td>SMOTE</td>\n",
       "      <td>2398</td>\n",
       "      <td>1075</td>\n",
       "      <td>44.829024</td>\n",
       "      <td>50.000000</td>\n",
       "      <td>6.028369</td>\n",
       "    </tr>\n",
       "    <tr>\n",
       "      <th>23</th>\n",
       "      <td>NEK3_binding</td>\n",
       "      <td>MFP</td>\n",
       "      <td>ADASYN</td>\n",
       "      <td>2407</td>\n",
       "      <td>1084</td>\n",
       "      <td>45.035314</td>\n",
       "      <td>50.211765</td>\n",
       "      <td>6.028369</td>\n",
       "    </tr>\n",
       "  </tbody>\n",
       "</table>\n",
       "</div>"
      ],
      "text/plain": [
       "             NEK feat         samp  total_samples  total actives  \\\n",
       "16  NEK3_binding  MOE  none_scaled           1404             81   \n",
       "17  NEK3_binding  MOE        UNDER            410             81   \n",
       "18  NEK3_binding  MOE        SMOTE           2398           1075   \n",
       "19  NEK3_binding  MOE       ADASYN           2385           1062   \n",
       "20  NEK3_binding  MFP  none_scaled           1404             81   \n",
       "21  NEK3_binding  MFP        UNDER            410             81   \n",
       "22  NEK3_binding  MFP        SMOTE           2398           1075   \n",
       "23  NEK3_binding  MFP       ADASYN           2407           1084   \n",
       "\n",
       "    total_actives%  train_active%  test_active%  \n",
       "16        5.769231       5.704100      6.028369  \n",
       "17       19.756098      50.000000      6.028369  \n",
       "18       44.829024      50.000000      6.028369  \n",
       "19       44.528302      49.690918      6.028369  \n",
       "20        5.769231       5.704100      6.028369  \n",
       "21       19.756098      50.000000      6.028369  \n",
       "22       44.829024      50.000000      6.028369  \n",
       "23       45.035314      50.211765      6.028369  "
      ]
     },
     "metadata": {},
     "output_type": "display_data"
    },
    {
     "data": {
      "text/html": [
       "<div>\n",
       "<style scoped>\n",
       "    .dataframe tbody tr th:only-of-type {\n",
       "        vertical-align: middle;\n",
       "    }\n",
       "\n",
       "    .dataframe tbody tr th {\n",
       "        vertical-align: top;\n",
       "    }\n",
       "\n",
       "    .dataframe thead th {\n",
       "        text-align: right;\n",
       "    }\n",
       "</style>\n",
       "<table border=\"1\" class=\"dataframe\">\n",
       "  <thead>\n",
       "    <tr style=\"text-align: right;\">\n",
       "      <th></th>\n",
       "      <th>NEK</th>\n",
       "      <th>feat</th>\n",
       "      <th>samp</th>\n",
       "      <th>total_samples</th>\n",
       "      <th>total actives</th>\n",
       "      <th>total_actives%</th>\n",
       "      <th>train_active%</th>\n",
       "      <th>test_active%</th>\n",
       "    </tr>\n",
       "  </thead>\n",
       "  <tbody>\n",
       "    <tr>\n",
       "      <th>24</th>\n",
       "      <td>NEK5_binding</td>\n",
       "      <td>MOE</td>\n",
       "      <td>none_scaled</td>\n",
       "      <td>1237</td>\n",
       "      <td>97</td>\n",
       "      <td>7.841552</td>\n",
       "      <td>7.785642</td>\n",
       "      <td>8.064516</td>\n",
       "    </tr>\n",
       "    <tr>\n",
       "      <th>25</th>\n",
       "      <td>NEK5_binding</td>\n",
       "      <td>MOE</td>\n",
       "      <td>UNDER</td>\n",
       "      <td>402</td>\n",
       "      <td>97</td>\n",
       "      <td>24.129353</td>\n",
       "      <td>50.000000</td>\n",
       "      <td>8.064516</td>\n",
       "    </tr>\n",
       "    <tr>\n",
       "      <th>26</th>\n",
       "      <td>NEK5_binding</td>\n",
       "      <td>MOE</td>\n",
       "      <td>SMOTE</td>\n",
       "      <td>2072</td>\n",
       "      <td>932</td>\n",
       "      <td>44.980695</td>\n",
       "      <td>50.000000</td>\n",
       "      <td>8.064516</td>\n",
       "    </tr>\n",
       "    <tr>\n",
       "      <th>27</th>\n",
       "      <td>NEK5_binding</td>\n",
       "      <td>MOE</td>\n",
       "      <td>ADASYN</td>\n",
       "      <td>2075</td>\n",
       "      <td>935</td>\n",
       "      <td>45.060241</td>\n",
       "      <td>50.082102</td>\n",
       "      <td>8.064516</td>\n",
       "    </tr>\n",
       "    <tr>\n",
       "      <th>28</th>\n",
       "      <td>NEK5_binding</td>\n",
       "      <td>MFP</td>\n",
       "      <td>none_scaled</td>\n",
       "      <td>1237</td>\n",
       "      <td>97</td>\n",
       "      <td>7.841552</td>\n",
       "      <td>7.785642</td>\n",
       "      <td>8.064516</td>\n",
       "    </tr>\n",
       "    <tr>\n",
       "      <th>29</th>\n",
       "      <td>NEK5_binding</td>\n",
       "      <td>MFP</td>\n",
       "      <td>UNDER</td>\n",
       "      <td>402</td>\n",
       "      <td>97</td>\n",
       "      <td>24.129353</td>\n",
       "      <td>50.000000</td>\n",
       "      <td>8.064516</td>\n",
       "    </tr>\n",
       "    <tr>\n",
       "      <th>30</th>\n",
       "      <td>NEK5_binding</td>\n",
       "      <td>MFP</td>\n",
       "      <td>SMOTE</td>\n",
       "      <td>2072</td>\n",
       "      <td>932</td>\n",
       "      <td>44.980695</td>\n",
       "      <td>50.000000</td>\n",
       "      <td>8.064516</td>\n",
       "    </tr>\n",
       "    <tr>\n",
       "      <th>31</th>\n",
       "      <td>NEK5_binding</td>\n",
       "      <td>MFP</td>\n",
       "      <td>ADASYN</td>\n",
       "      <td>2055</td>\n",
       "      <td>915</td>\n",
       "      <td>44.525547</td>\n",
       "      <td>49.529607</td>\n",
       "      <td>8.064516</td>\n",
       "    </tr>\n",
       "  </tbody>\n",
       "</table>\n",
       "</div>"
      ],
      "text/plain": [
       "             NEK feat         samp  total_samples  total actives  \\\n",
       "24  NEK5_binding  MOE  none_scaled           1237             97   \n",
       "25  NEK5_binding  MOE        UNDER            402             97   \n",
       "26  NEK5_binding  MOE        SMOTE           2072            932   \n",
       "27  NEK5_binding  MOE       ADASYN           2075            935   \n",
       "28  NEK5_binding  MFP  none_scaled           1237             97   \n",
       "29  NEK5_binding  MFP        UNDER            402             97   \n",
       "30  NEK5_binding  MFP        SMOTE           2072            932   \n",
       "31  NEK5_binding  MFP       ADASYN           2055            915   \n",
       "\n",
       "    total_actives%  train_active%  test_active%  \n",
       "24        7.841552       7.785642      8.064516  \n",
       "25       24.129353      50.000000      8.064516  \n",
       "26       44.980695      50.000000      8.064516  \n",
       "27       45.060241      50.082102      8.064516  \n",
       "28        7.841552       7.785642      8.064516  \n",
       "29       24.129353      50.000000      8.064516  \n",
       "30       44.980695      50.000000      8.064516  \n",
       "31       44.525547      49.529607      8.064516  "
      ]
     },
     "metadata": {},
     "output_type": "display_data"
    },
    {
     "data": {
      "text/html": [
       "<div>\n",
       "<style scoped>\n",
       "    .dataframe tbody tr th:only-of-type {\n",
       "        vertical-align: middle;\n",
       "    }\n",
       "\n",
       "    .dataframe tbody tr th {\n",
       "        vertical-align: top;\n",
       "    }\n",
       "\n",
       "    .dataframe thead th {\n",
       "        text-align: right;\n",
       "    }\n",
       "</style>\n",
       "<table border=\"1\" class=\"dataframe\">\n",
       "  <thead>\n",
       "    <tr style=\"text-align: right;\">\n",
       "      <th></th>\n",
       "      <th>NEK</th>\n",
       "      <th>feat</th>\n",
       "      <th>samp</th>\n",
       "      <th>total_samples</th>\n",
       "      <th>total actives</th>\n",
       "      <th>total_actives%</th>\n",
       "      <th>train_active%</th>\n",
       "      <th>test_active%</th>\n",
       "    </tr>\n",
       "  </thead>\n",
       "  <tbody>\n",
       "    <tr>\n",
       "      <th>32</th>\n",
       "      <td>NEK9_binding</td>\n",
       "      <td>MOE</td>\n",
       "      <td>none_scaled</td>\n",
       "      <td>1409</td>\n",
       "      <td>61</td>\n",
       "      <td>4.329312</td>\n",
       "      <td>4.262877</td>\n",
       "      <td>4.59364</td>\n",
       "    </tr>\n",
       "    <tr>\n",
       "      <th>33</th>\n",
       "      <td>NEK9_binding</td>\n",
       "      <td>MOE</td>\n",
       "      <td>UNDER</td>\n",
       "      <td>379</td>\n",
       "      <td>61</td>\n",
       "      <td>16.094987</td>\n",
       "      <td>50.000000</td>\n",
       "      <td>4.59364</td>\n",
       "    </tr>\n",
       "    <tr>\n",
       "      <th>34</th>\n",
       "      <td>NEK9_binding</td>\n",
       "      <td>MOE</td>\n",
       "      <td>SMOTE</td>\n",
       "      <td>2439</td>\n",
       "      <td>1091</td>\n",
       "      <td>44.731447</td>\n",
       "      <td>50.000000</td>\n",
       "      <td>4.59364</td>\n",
       "    </tr>\n",
       "    <tr>\n",
       "      <th>35</th>\n",
       "      <td>NEK9_binding</td>\n",
       "      <td>MOE</td>\n",
       "      <td>ADASYN</td>\n",
       "      <td>2444</td>\n",
       "      <td>1096</td>\n",
       "      <td>44.844517</td>\n",
       "      <td>50.115687</td>\n",
       "      <td>4.59364</td>\n",
       "    </tr>\n",
       "    <tr>\n",
       "      <th>36</th>\n",
       "      <td>NEK9_binding</td>\n",
       "      <td>MFP</td>\n",
       "      <td>none_scaled</td>\n",
       "      <td>1409</td>\n",
       "      <td>61</td>\n",
       "      <td>4.329312</td>\n",
       "      <td>4.262877</td>\n",
       "      <td>4.59364</td>\n",
       "    </tr>\n",
       "    <tr>\n",
       "      <th>37</th>\n",
       "      <td>NEK9_binding</td>\n",
       "      <td>MFP</td>\n",
       "      <td>UNDER</td>\n",
       "      <td>379</td>\n",
       "      <td>61</td>\n",
       "      <td>16.094987</td>\n",
       "      <td>50.000000</td>\n",
       "      <td>4.59364</td>\n",
       "    </tr>\n",
       "    <tr>\n",
       "      <th>38</th>\n",
       "      <td>NEK9_binding</td>\n",
       "      <td>MFP</td>\n",
       "      <td>SMOTE</td>\n",
       "      <td>2439</td>\n",
       "      <td>1091</td>\n",
       "      <td>44.731447</td>\n",
       "      <td>50.000000</td>\n",
       "      <td>4.59364</td>\n",
       "    </tr>\n",
       "    <tr>\n",
       "      <th>39</th>\n",
       "      <td>NEK9_binding</td>\n",
       "      <td>MFP</td>\n",
       "      <td>ADASYN</td>\n",
       "      <td>2442</td>\n",
       "      <td>1094</td>\n",
       "      <td>44.799345</td>\n",
       "      <td>50.069477</td>\n",
       "      <td>4.59364</td>\n",
       "    </tr>\n",
       "  </tbody>\n",
       "</table>\n",
       "</div>"
      ],
      "text/plain": [
       "             NEK feat         samp  total_samples  total actives  \\\n",
       "32  NEK9_binding  MOE  none_scaled           1409             61   \n",
       "33  NEK9_binding  MOE        UNDER            379             61   \n",
       "34  NEK9_binding  MOE        SMOTE           2439           1091   \n",
       "35  NEK9_binding  MOE       ADASYN           2444           1096   \n",
       "36  NEK9_binding  MFP  none_scaled           1409             61   \n",
       "37  NEK9_binding  MFP        UNDER            379             61   \n",
       "38  NEK9_binding  MFP        SMOTE           2439           1091   \n",
       "39  NEK9_binding  MFP       ADASYN           2442           1094   \n",
       "\n",
       "    total_actives%  train_active%  test_active%  \n",
       "32        4.329312       4.262877       4.59364  \n",
       "33       16.094987      50.000000       4.59364  \n",
       "34       44.731447      50.000000       4.59364  \n",
       "35       44.844517      50.115687       4.59364  \n",
       "36        4.329312       4.262877       4.59364  \n",
       "37       16.094987      50.000000       4.59364  \n",
       "38       44.731447      50.000000       4.59364  \n",
       "39       44.799345      50.069477       4.59364  "
      ]
     },
     "metadata": {},
     "output_type": "display_data"
    },
    {
     "data": {
      "text/html": [
       "<div>\n",
       "<style scoped>\n",
       "    .dataframe tbody tr th:only-of-type {\n",
       "        vertical-align: middle;\n",
       "    }\n",
       "\n",
       "    .dataframe tbody tr th {\n",
       "        vertical-align: top;\n",
       "    }\n",
       "\n",
       "    .dataframe thead th {\n",
       "        text-align: right;\n",
       "    }\n",
       "</style>\n",
       "<table border=\"1\" class=\"dataframe\">\n",
       "  <thead>\n",
       "    <tr style=\"text-align: right;\">\n",
       "      <th></th>\n",
       "      <th>NEK</th>\n",
       "      <th>feat</th>\n",
       "      <th>samp</th>\n",
       "      <th>total_samples</th>\n",
       "      <th>total actives</th>\n",
       "      <th>total_actives%</th>\n",
       "      <th>train_active%</th>\n",
       "      <th>test_active%</th>\n",
       "    </tr>\n",
       "  </thead>\n",
       "  <tbody>\n",
       "    <tr>\n",
       "      <th>40</th>\n",
       "      <td>NEK9_inhibition</td>\n",
       "      <td>MOE</td>\n",
       "      <td>none_scaled</td>\n",
       "      <td>393</td>\n",
       "      <td>42</td>\n",
       "      <td>10.687023</td>\n",
       "      <td>10.543131</td>\n",
       "      <td>11.25</td>\n",
       "    </tr>\n",
       "    <tr>\n",
       "      <th>41</th>\n",
       "      <td>NEK9_inhibition</td>\n",
       "      <td>MOE</td>\n",
       "      <td>UNDER</td>\n",
       "      <td>146</td>\n",
       "      <td>42</td>\n",
       "      <td>28.767123</td>\n",
       "      <td>50.000000</td>\n",
       "      <td>11.25</td>\n",
       "    </tr>\n",
       "    <tr>\n",
       "      <th>42</th>\n",
       "      <td>NEK9_inhibition</td>\n",
       "      <td>MOE</td>\n",
       "      <td>SMOTE</td>\n",
       "      <td>640</td>\n",
       "      <td>289</td>\n",
       "      <td>45.156250</td>\n",
       "      <td>50.000000</td>\n",
       "      <td>11.25</td>\n",
       "    </tr>\n",
       "    <tr>\n",
       "      <th>43</th>\n",
       "      <td>NEK9_inhibition</td>\n",
       "      <td>MOE</td>\n",
       "      <td>ADASYN</td>\n",
       "      <td>635</td>\n",
       "      <td>284</td>\n",
       "      <td>44.724409</td>\n",
       "      <td>49.549550</td>\n",
       "      <td>11.25</td>\n",
       "    </tr>\n",
       "    <tr>\n",
       "      <th>44</th>\n",
       "      <td>NEK9_inhibition</td>\n",
       "      <td>MFP</td>\n",
       "      <td>none_scaled</td>\n",
       "      <td>393</td>\n",
       "      <td>42</td>\n",
       "      <td>10.687023</td>\n",
       "      <td>10.543131</td>\n",
       "      <td>11.25</td>\n",
       "    </tr>\n",
       "    <tr>\n",
       "      <th>45</th>\n",
       "      <td>NEK9_inhibition</td>\n",
       "      <td>MFP</td>\n",
       "      <td>UNDER</td>\n",
       "      <td>146</td>\n",
       "      <td>42</td>\n",
       "      <td>28.767123</td>\n",
       "      <td>50.000000</td>\n",
       "      <td>11.25</td>\n",
       "    </tr>\n",
       "    <tr>\n",
       "      <th>46</th>\n",
       "      <td>NEK9_inhibition</td>\n",
       "      <td>MFP</td>\n",
       "      <td>SMOTE</td>\n",
       "      <td>640</td>\n",
       "      <td>289</td>\n",
       "      <td>45.156250</td>\n",
       "      <td>50.000000</td>\n",
       "      <td>11.25</td>\n",
       "    </tr>\n",
       "    <tr>\n",
       "      <th>47</th>\n",
       "      <td>NEK9_inhibition</td>\n",
       "      <td>MFP</td>\n",
       "      <td>ADASYN</td>\n",
       "      <td>631</td>\n",
       "      <td>280</td>\n",
       "      <td>44.374010</td>\n",
       "      <td>49.183303</td>\n",
       "      <td>11.25</td>\n",
       "    </tr>\n",
       "  </tbody>\n",
       "</table>\n",
       "</div>"
      ],
      "text/plain": [
       "                NEK feat         samp  total_samples  total actives  \\\n",
       "40  NEK9_inhibition  MOE  none_scaled            393             42   \n",
       "41  NEK9_inhibition  MOE        UNDER            146             42   \n",
       "42  NEK9_inhibition  MOE        SMOTE            640            289   \n",
       "43  NEK9_inhibition  MOE       ADASYN            635            284   \n",
       "44  NEK9_inhibition  MFP  none_scaled            393             42   \n",
       "45  NEK9_inhibition  MFP        UNDER            146             42   \n",
       "46  NEK9_inhibition  MFP        SMOTE            640            289   \n",
       "47  NEK9_inhibition  MFP       ADASYN            631            280   \n",
       "\n",
       "    total_actives%  train_active%  test_active%  \n",
       "40       10.687023      10.543131         11.25  \n",
       "41       28.767123      50.000000         11.25  \n",
       "42       45.156250      50.000000         11.25  \n",
       "43       44.724409      49.549550         11.25  \n",
       "44       10.687023      10.543131         11.25  \n",
       "45       28.767123      50.000000         11.25  \n",
       "46       45.156250      50.000000         11.25  \n",
       "47       44.374010      49.183303         11.25  "
      ]
     },
     "metadata": {},
     "output_type": "display_data"
    }
   ],
   "source": [
    "all_neks_ratios\n",
    "for nek in neks: \n",
    "    nek_df =all_neks_ratios[all_neks_ratios['NEK']==nek]\n",
    "    display(nek_df)"
   ]
  },
  {
   "cell_type": "markdown",
   "id": "dd09e45a-8879-405b-aec4-17e5c83b44e0",
   "metadata": {},
   "source": [
    "# Kfold validation \n"
   ]
  },
  {
   "cell_type": "code",
   "execution_count": 66,
   "id": "0721e82f-6327-4791-bf99-48c732464b15",
   "metadata": {},
   "outputs": [
    {
     "data": {
      "application/javascript": [
       "\n",
       "        if (window._pyforest_update_imports_cell) { window._pyforest_update_imports_cell('import pandas as pd'); }\n",
       "    "
      ],
      "text/plain": [
       "<IPython.core.display.Javascript object>"
      ]
     },
     "metadata": {},
     "output_type": "display_data"
    },
    {
     "name": "stdout",
     "output_type": "stream",
     "text": [
      "NEK2_binding MOE none_scaled\n",
      "fold1\n"
     ]
    },
    {
     "data": {
      "text/plain": [
       "active\n",
       "train_0    216\n",
       "train_1      9\n",
       "Name: count, dtype: int64"
      ]
     },
     "metadata": {},
     "output_type": "display_data"
    },
    {
     "name": "stdout",
     "output_type": "stream",
     "text": [
      "fold2\n"
     ]
    },
    {
     "data": {
      "text/plain": [
       "active\n",
       "train_0    216\n",
       "train_1      9\n",
       "Name: count, dtype: int64"
      ]
     },
     "metadata": {},
     "output_type": "display_data"
    },
    {
     "name": "stdout",
     "output_type": "stream",
     "text": [
      "fold3\n"
     ]
    },
    {
     "data": {
      "text/plain": [
       "active\n",
       "train_0    216\n",
       "train_1      9\n",
       "Name: count, dtype: int64"
      ]
     },
     "metadata": {},
     "output_type": "display_data"
    },
    {
     "name": "stdout",
     "output_type": "stream",
     "text": [
      "fold4\n"
     ]
    },
    {
     "data": {
      "text/plain": [
       "active\n",
       "train_0    216\n",
       "train_1      9\n",
       "Name: count, dtype: int64"
      ]
     },
     "metadata": {},
     "output_type": "display_data"
    },
    {
     "name": "stdout",
     "output_type": "stream",
     "text": [
      "fold5\n"
     ]
    },
    {
     "data": {
      "text/plain": [
       "active\n",
       "train_0    216\n",
       "train_1      9\n",
       "Name: count, dtype: int64"
      ]
     },
     "metadata": {},
     "output_type": "display_data"
    },
    {
     "name": "stdout",
     "output_type": "stream",
     "text": [
      "\n"
     ]
    },
    {
     "data": {
      "application/javascript": [
       "\n",
       "        if (window._pyforest_update_imports_cell) { window._pyforest_update_imports_cell('import pandas as pd'); }\n",
       "    "
      ],
      "text/plain": [
       "<IPython.core.display.Javascript object>"
      ]
     },
     "metadata": {},
     "output_type": "display_data"
    },
    {
     "name": "stdout",
     "output_type": "stream",
     "text": [
      "NEK2_binding MOE UNDER\n",
      "fold1\n"
     ]
    },
    {
     "data": {
      "text/plain": [
       "active\n",
       "train_0    9\n",
       "train_1    9\n",
       "Name: count, dtype: int64"
      ]
     },
     "metadata": {},
     "output_type": "display_data"
    },
    {
     "name": "stdout",
     "output_type": "stream",
     "text": [
      "fold2\n"
     ]
    },
    {
     "data": {
      "text/plain": [
       "active\n",
       "train_0    9\n",
       "train_1    9\n",
       "Name: count, dtype: int64"
      ]
     },
     "metadata": {},
     "output_type": "display_data"
    },
    {
     "name": "stdout",
     "output_type": "stream",
     "text": [
      "fold3\n"
     ]
    },
    {
     "data": {
      "text/plain": [
       "active\n",
       "train_0    9\n",
       "train_1    9\n",
       "Name: count, dtype: int64"
      ]
     },
     "metadata": {},
     "output_type": "display_data"
    },
    {
     "name": "stdout",
     "output_type": "stream",
     "text": [
      "fold4\n"
     ]
    },
    {
     "data": {
      "text/plain": [
       "active\n",
       "train_0    9\n",
       "train_1    9\n",
       "Name: count, dtype: int64"
      ]
     },
     "metadata": {},
     "output_type": "display_data"
    },
    {
     "name": "stdout",
     "output_type": "stream",
     "text": [
      "fold5\n"
     ]
    },
    {
     "data": {
      "text/plain": [
       "active\n",
       "train_0    9\n",
       "train_1    9\n",
       "Name: count, dtype: int64"
      ]
     },
     "metadata": {},
     "output_type": "display_data"
    },
    {
     "name": "stdout",
     "output_type": "stream",
     "text": [
      "\n"
     ]
    },
    {
     "data": {
      "application/javascript": [
       "\n",
       "        if (window._pyforest_update_imports_cell) { window._pyforest_update_imports_cell('import pandas as pd'); }\n",
       "    "
      ],
      "text/plain": [
       "<IPython.core.display.Javascript object>"
      ]
     },
     "metadata": {},
     "output_type": "display_data"
    },
    {
     "name": "stdout",
     "output_type": "stream",
     "text": [
      "NEK2_binding MOE SMOTE\n",
      "fold1\n"
     ]
    },
    {
     "data": {
      "text/plain": [
       "active\n",
       "0_real         216\n",
       "1_synthetic    207\n",
       "1_real           9\n",
       "Name: count, dtype: int64"
      ]
     },
     "metadata": {},
     "output_type": "display_data"
    },
    {
     "name": "stdout",
     "output_type": "stream",
     "text": [
      "fold2\n"
     ]
    },
    {
     "data": {
      "text/plain": [
       "active\n",
       "0_real         216\n",
       "1_synthetic    207\n",
       "1_real           9\n",
       "Name: count, dtype: int64"
      ]
     },
     "metadata": {},
     "output_type": "display_data"
    },
    {
     "name": "stdout",
     "output_type": "stream",
     "text": [
      "fold3\n"
     ]
    },
    {
     "data": {
      "text/plain": [
       "active\n",
       "0_real         216\n",
       "1_synthetic    207\n",
       "1_real           9\n",
       "Name: count, dtype: int64"
      ]
     },
     "metadata": {},
     "output_type": "display_data"
    },
    {
     "name": "stdout",
     "output_type": "stream",
     "text": [
      "fold4\n"
     ]
    },
    {
     "data": {
      "text/plain": [
       "active\n",
       "0_real         216\n",
       "1_synthetic    207\n",
       "1_real           9\n",
       "Name: count, dtype: int64"
      ]
     },
     "metadata": {},
     "output_type": "display_data"
    },
    {
     "name": "stdout",
     "output_type": "stream",
     "text": [
      "fold5\n"
     ]
    },
    {
     "data": {
      "text/plain": [
       "active\n",
       "0_real         216\n",
       "1_synthetic    207\n",
       "1_real           9\n",
       "Name: count, dtype: int64"
      ]
     },
     "metadata": {},
     "output_type": "display_data"
    },
    {
     "name": "stdout",
     "output_type": "stream",
     "text": [
      "\n"
     ]
    },
    {
     "data": {
      "application/javascript": [
       "\n",
       "        if (window._pyforest_update_imports_cell) { window._pyforest_update_imports_cell('import pandas as pd'); }\n",
       "    "
      ],
      "text/plain": [
       "<IPython.core.display.Javascript object>"
      ]
     },
     "metadata": {},
     "output_type": "display_data"
    },
    {
     "name": "stdout",
     "output_type": "stream",
     "text": [
      "NEK2_binding MOE ADASYN\n",
      "fold1\n"
     ]
    },
    {
     "data": {
      "text/plain": [
       "active\n",
       "0_real         216\n",
       "1_synthetic    208\n",
       "1_real           9\n",
       "Name: count, dtype: int64"
      ]
     },
     "metadata": {},
     "output_type": "display_data"
    },
    {
     "name": "stdout",
     "output_type": "stream",
     "text": [
      "fold2\n"
     ]
    },
    {
     "data": {
      "text/plain": [
       "active\n",
       "0_real         216\n",
       "1_synthetic    208\n",
       "1_real           9\n",
       "Name: count, dtype: int64"
      ]
     },
     "metadata": {},
     "output_type": "display_data"
    },
    {
     "name": "stdout",
     "output_type": "stream",
     "text": [
      "fold3\n"
     ]
    },
    {
     "data": {
      "text/plain": [
       "active\n",
       "0_real         216\n",
       "1_synthetic    207\n",
       "1_real           9\n",
       "Name: count, dtype: int64"
      ]
     },
     "metadata": {},
     "output_type": "display_data"
    },
    {
     "name": "stdout",
     "output_type": "stream",
     "text": [
      "fold4\n"
     ]
    },
    {
     "data": {
      "text/plain": [
       "active\n",
       "0_real         216\n",
       "1_synthetic    207\n",
       "1_real           9\n",
       "Name: count, dtype: int64"
      ]
     },
     "metadata": {},
     "output_type": "display_data"
    },
    {
     "name": "stdout",
     "output_type": "stream",
     "text": [
      "fold5\n"
     ]
    },
    {
     "data": {
      "text/plain": [
       "active\n",
       "0_real         216\n",
       "1_synthetic    207\n",
       "1_real           9\n",
       "Name: count, dtype: int64"
      ]
     },
     "metadata": {},
     "output_type": "display_data"
    },
    {
     "name": "stdout",
     "output_type": "stream",
     "text": [
      "\n"
     ]
    },
    {
     "data": {
      "application/javascript": [
       "\n",
       "        if (window._pyforest_update_imports_cell) { window._pyforest_update_imports_cell('import pandas as pd'); }\n",
       "    "
      ],
      "text/plain": [
       "<IPython.core.display.Javascript object>"
      ]
     },
     "metadata": {},
     "output_type": "display_data"
    },
    {
     "name": "stdout",
     "output_type": "stream",
     "text": [
      "NEK2_binding MFP none_scaled\n",
      "fold1\n"
     ]
    },
    {
     "data": {
      "text/plain": [
       "active\n",
       "train_0    216\n",
       "train_1      9\n",
       "Name: count, dtype: int64"
      ]
     },
     "metadata": {},
     "output_type": "display_data"
    },
    {
     "name": "stdout",
     "output_type": "stream",
     "text": [
      "fold2\n"
     ]
    },
    {
     "data": {
      "text/plain": [
       "active\n",
       "train_0    216\n",
       "train_1      9\n",
       "Name: count, dtype: int64"
      ]
     },
     "metadata": {},
     "output_type": "display_data"
    },
    {
     "name": "stdout",
     "output_type": "stream",
     "text": [
      "fold3\n"
     ]
    },
    {
     "data": {
      "text/plain": [
       "active\n",
       "train_0    216\n",
       "train_1      9\n",
       "Name: count, dtype: int64"
      ]
     },
     "metadata": {},
     "output_type": "display_data"
    },
    {
     "name": "stdout",
     "output_type": "stream",
     "text": [
      "fold4\n"
     ]
    },
    {
     "data": {
      "text/plain": [
       "active\n",
       "train_0    216\n",
       "train_1      9\n",
       "Name: count, dtype: int64"
      ]
     },
     "metadata": {},
     "output_type": "display_data"
    },
    {
     "name": "stdout",
     "output_type": "stream",
     "text": [
      "fold5\n"
     ]
    },
    {
     "data": {
      "text/plain": [
       "active\n",
       "train_0    216\n",
       "train_1      9\n",
       "Name: count, dtype: int64"
      ]
     },
     "metadata": {},
     "output_type": "display_data"
    },
    {
     "name": "stdout",
     "output_type": "stream",
     "text": [
      "\n"
     ]
    },
    {
     "data": {
      "application/javascript": [
       "\n",
       "        if (window._pyforest_update_imports_cell) { window._pyforest_update_imports_cell('import pandas as pd'); }\n",
       "    "
      ],
      "text/plain": [
       "<IPython.core.display.Javascript object>"
      ]
     },
     "metadata": {},
     "output_type": "display_data"
    },
    {
     "name": "stdout",
     "output_type": "stream",
     "text": [
      "NEK2_binding MFP UNDER\n",
      "fold1\n"
     ]
    },
    {
     "data": {
      "text/plain": [
       "active\n",
       "train_0    9\n",
       "train_1    9\n",
       "Name: count, dtype: int64"
      ]
     },
     "metadata": {},
     "output_type": "display_data"
    },
    {
     "name": "stdout",
     "output_type": "stream",
     "text": [
      "fold2\n"
     ]
    },
    {
     "data": {
      "text/plain": [
       "active\n",
       "train_0    9\n",
       "train_1    9\n",
       "Name: count, dtype: int64"
      ]
     },
     "metadata": {},
     "output_type": "display_data"
    },
    {
     "name": "stdout",
     "output_type": "stream",
     "text": [
      "fold3\n"
     ]
    },
    {
     "data": {
      "text/plain": [
       "active\n",
       "train_0    9\n",
       "train_1    9\n",
       "Name: count, dtype: int64"
      ]
     },
     "metadata": {},
     "output_type": "display_data"
    },
    {
     "name": "stdout",
     "output_type": "stream",
     "text": [
      "fold4\n"
     ]
    },
    {
     "data": {
      "text/plain": [
       "active\n",
       "train_0    9\n",
       "train_1    9\n",
       "Name: count, dtype: int64"
      ]
     },
     "metadata": {},
     "output_type": "display_data"
    },
    {
     "name": "stdout",
     "output_type": "stream",
     "text": [
      "fold5\n"
     ]
    },
    {
     "data": {
      "text/plain": [
       "active\n",
       "train_0    9\n",
       "train_1    9\n",
       "Name: count, dtype: int64"
      ]
     },
     "metadata": {},
     "output_type": "display_data"
    },
    {
     "name": "stdout",
     "output_type": "stream",
     "text": [
      "\n"
     ]
    },
    {
     "data": {
      "application/javascript": [
       "\n",
       "        if (window._pyforest_update_imports_cell) { window._pyforest_update_imports_cell('import pandas as pd'); }\n",
       "    "
      ],
      "text/plain": [
       "<IPython.core.display.Javascript object>"
      ]
     },
     "metadata": {},
     "output_type": "display_data"
    },
    {
     "name": "stdout",
     "output_type": "stream",
     "text": [
      "NEK2_binding MFP SMOTE\n",
      "fold1\n"
     ]
    },
    {
     "data": {
      "text/plain": [
       "active\n",
       "0_real         216\n",
       "1_synthetic    207\n",
       "1_real           9\n",
       "Name: count, dtype: int64"
      ]
     },
     "metadata": {},
     "output_type": "display_data"
    },
    {
     "name": "stdout",
     "output_type": "stream",
     "text": [
      "fold2\n"
     ]
    },
    {
     "data": {
      "text/plain": [
       "active\n",
       "0_real         216\n",
       "1_synthetic    207\n",
       "1_real           9\n",
       "Name: count, dtype: int64"
      ]
     },
     "metadata": {},
     "output_type": "display_data"
    },
    {
     "name": "stdout",
     "output_type": "stream",
     "text": [
      "fold3\n"
     ]
    },
    {
     "data": {
      "text/plain": [
       "active\n",
       "0_real         216\n",
       "1_synthetic    207\n",
       "1_real           9\n",
       "Name: count, dtype: int64"
      ]
     },
     "metadata": {},
     "output_type": "display_data"
    },
    {
     "name": "stdout",
     "output_type": "stream",
     "text": [
      "fold4\n"
     ]
    },
    {
     "data": {
      "text/plain": [
       "active\n",
       "0_real         216\n",
       "1_synthetic    207\n",
       "1_real           9\n",
       "Name: count, dtype: int64"
      ]
     },
     "metadata": {},
     "output_type": "display_data"
    },
    {
     "name": "stdout",
     "output_type": "stream",
     "text": [
      "fold5\n"
     ]
    },
    {
     "data": {
      "text/plain": [
       "active\n",
       "0_real         216\n",
       "1_synthetic    207\n",
       "1_real           9\n",
       "Name: count, dtype: int64"
      ]
     },
     "metadata": {},
     "output_type": "display_data"
    },
    {
     "name": "stdout",
     "output_type": "stream",
     "text": [
      "\n"
     ]
    },
    {
     "data": {
      "application/javascript": [
       "\n",
       "        if (window._pyforest_update_imports_cell) { window._pyforest_update_imports_cell('import pandas as pd'); }\n",
       "    "
      ],
      "text/plain": [
       "<IPython.core.display.Javascript object>"
      ]
     },
     "metadata": {},
     "output_type": "display_data"
    },
    {
     "name": "stdout",
     "output_type": "stream",
     "text": [
      "NEK2_binding MFP ADASYN\n",
      "fold1\n"
     ]
    },
    {
     "data": {
      "text/plain": [
       "active\n",
       "0_real         216\n",
       "1_synthetic    206\n",
       "1_real           9\n",
       "Name: count, dtype: int64"
      ]
     },
     "metadata": {},
     "output_type": "display_data"
    },
    {
     "name": "stdout",
     "output_type": "stream",
     "text": [
      "fold2\n"
     ]
    },
    {
     "data": {
      "text/plain": [
       "active\n",
       "0_real         216\n",
       "1_synthetic    206\n",
       "1_real           9\n",
       "Name: count, dtype: int64"
      ]
     },
     "metadata": {},
     "output_type": "display_data"
    },
    {
     "name": "stdout",
     "output_type": "stream",
     "text": [
      "fold3\n"
     ]
    },
    {
     "data": {
      "text/plain": [
       "active\n",
       "0_real         216\n",
       "1_synthetic    206\n",
       "1_real           9\n",
       "Name: count, dtype: int64"
      ]
     },
     "metadata": {},
     "output_type": "display_data"
    },
    {
     "name": "stdout",
     "output_type": "stream",
     "text": [
      "fold4\n"
     ]
    },
    {
     "data": {
      "text/plain": [
       "active\n",
       "0_real         216\n",
       "1_synthetic    206\n",
       "1_real           9\n",
       "Name: count, dtype: int64"
      ]
     },
     "metadata": {},
     "output_type": "display_data"
    },
    {
     "name": "stdout",
     "output_type": "stream",
     "text": [
      "fold5\n"
     ]
    },
    {
     "data": {
      "text/plain": [
       "active\n",
       "0_real         216\n",
       "1_synthetic    206\n",
       "1_real           9\n",
       "Name: count, dtype: int64"
      ]
     },
     "metadata": {},
     "output_type": "display_data"
    },
    {
     "name": "stdout",
     "output_type": "stream",
     "text": [
      "\n"
     ]
    },
    {
     "data": {
      "application/javascript": [
       "\n",
       "        if (window._pyforest_update_imports_cell) { window._pyforest_update_imports_cell('import pandas as pd'); }\n",
       "    "
      ],
      "text/plain": [
       "<IPython.core.display.Javascript object>"
      ]
     },
     "metadata": {},
     "output_type": "display_data"
    },
    {
     "name": "stdout",
     "output_type": "stream",
     "text": [
      "NEK2_inhibition MOE none_scaled\n",
      "fold1\n"
     ]
    },
    {
     "data": {
      "text/plain": [
       "active\n",
       "train_0    303\n",
       "train_1     22\n",
       "Name: count, dtype: int64"
      ]
     },
     "metadata": {},
     "output_type": "display_data"
    },
    {
     "name": "stdout",
     "output_type": "stream",
     "text": [
      "fold2\n"
     ]
    },
    {
     "data": {
      "text/plain": [
       "active\n",
       "train_0    303\n",
       "train_1     22\n",
       "Name: count, dtype: int64"
      ]
     },
     "metadata": {},
     "output_type": "display_data"
    },
    {
     "name": "stdout",
     "output_type": "stream",
     "text": [
      "fold3\n"
     ]
    },
    {
     "data": {
      "text/plain": [
       "active\n",
       "train_0    303\n",
       "train_1     22\n",
       "Name: count, dtype: int64"
      ]
     },
     "metadata": {},
     "output_type": "display_data"
    },
    {
     "name": "stdout",
     "output_type": "stream",
     "text": [
      "fold4\n"
     ]
    },
    {
     "data": {
      "text/plain": [
       "active\n",
       "train_0    302\n",
       "train_1     23\n",
       "Name: count, dtype: int64"
      ]
     },
     "metadata": {},
     "output_type": "display_data"
    },
    {
     "name": "stdout",
     "output_type": "stream",
     "text": [
      "fold5\n"
     ]
    },
    {
     "data": {
      "text/plain": [
       "active\n",
       "train_0    302\n",
       "train_1     23\n",
       "Name: count, dtype: int64"
      ]
     },
     "metadata": {},
     "output_type": "display_data"
    },
    {
     "name": "stdout",
     "output_type": "stream",
     "text": [
      "\n"
     ]
    },
    {
     "data": {
      "application/javascript": [
       "\n",
       "        if (window._pyforest_update_imports_cell) { window._pyforest_update_imports_cell('import pandas as pd'); }\n",
       "    "
      ],
      "text/plain": [
       "<IPython.core.display.Javascript object>"
      ]
     },
     "metadata": {},
     "output_type": "display_data"
    },
    {
     "name": "stdout",
     "output_type": "stream",
     "text": [
      "NEK2_inhibition MOE UNDER\n",
      "fold1\n"
     ]
    },
    {
     "data": {
      "text/plain": [
       "active\n",
       "train_0    23\n",
       "train_1    22\n",
       "Name: count, dtype: int64"
      ]
     },
     "metadata": {},
     "output_type": "display_data"
    },
    {
     "name": "stdout",
     "output_type": "stream",
     "text": [
      "fold2\n"
     ]
    },
    {
     "data": {
      "text/plain": [
       "active\n",
       "train_0    23\n",
       "train_1    22\n",
       "Name: count, dtype: int64"
      ]
     },
     "metadata": {},
     "output_type": "display_data"
    },
    {
     "name": "stdout",
     "output_type": "stream",
     "text": [
      "fold3\n"
     ]
    },
    {
     "data": {
      "text/plain": [
       "active\n",
       "train_1    23\n",
       "train_0    22\n",
       "Name: count, dtype: int64"
      ]
     },
     "metadata": {},
     "output_type": "display_data"
    },
    {
     "name": "stdout",
     "output_type": "stream",
     "text": [
      "fold4\n"
     ]
    },
    {
     "data": {
      "text/plain": [
       "active\n",
       "train_1    23\n",
       "train_0    22\n",
       "Name: count, dtype: int64"
      ]
     },
     "metadata": {},
     "output_type": "display_data"
    },
    {
     "name": "stdout",
     "output_type": "stream",
     "text": [
      "fold5\n"
     ]
    },
    {
     "data": {
      "text/plain": [
       "active\n",
       "train_0    22\n",
       "train_1    22\n",
       "Name: count, dtype: int64"
      ]
     },
     "metadata": {},
     "output_type": "display_data"
    },
    {
     "name": "stdout",
     "output_type": "stream",
     "text": [
      "\n"
     ]
    },
    {
     "data": {
      "application/javascript": [
       "\n",
       "        if (window._pyforest_update_imports_cell) { window._pyforest_update_imports_cell('import pandas as pd'); }\n",
       "    "
      ],
      "text/plain": [
       "<IPython.core.display.Javascript object>"
      ]
     },
     "metadata": {},
     "output_type": "display_data"
    },
    {
     "name": "stdout",
     "output_type": "stream",
     "text": [
      "NEK2_inhibition MOE SMOTE\n",
      "fold1\n"
     ]
    },
    {
     "data": {
      "text/plain": [
       "active\n",
       "0_real         303\n",
       "1_synthetic    281\n",
       "1_real          22\n",
       "Name: count, dtype: int64"
      ]
     },
     "metadata": {},
     "output_type": "display_data"
    },
    {
     "name": "stdout",
     "output_type": "stream",
     "text": [
      "fold2\n"
     ]
    },
    {
     "data": {
      "text/plain": [
       "active\n",
       "0_real         303\n",
       "1_synthetic    280\n",
       "1_real          22\n",
       "Name: count, dtype: int64"
      ]
     },
     "metadata": {},
     "output_type": "display_data"
    },
    {
     "name": "stdout",
     "output_type": "stream",
     "text": [
      "fold3\n"
     ]
    },
    {
     "data": {
      "text/plain": [
       "active\n",
       "0_real         303\n",
       "1_synthetic    280\n",
       "1_real          22\n",
       "Name: count, dtype: int64"
      ]
     },
     "metadata": {},
     "output_type": "display_data"
    },
    {
     "name": "stdout",
     "output_type": "stream",
     "text": [
      "fold4\n"
     ]
    },
    {
     "data": {
      "text/plain": [
       "active\n",
       "0_real         302\n",
       "1_synthetic    280\n",
       "1_real          23\n",
       "Name: count, dtype: int64"
      ]
     },
     "metadata": {},
     "output_type": "display_data"
    },
    {
     "name": "stdout",
     "output_type": "stream",
     "text": [
      "fold5\n"
     ]
    },
    {
     "data": {
      "text/plain": [
       "active\n",
       "0_real         302\n",
       "1_synthetic    280\n",
       "1_real          23\n",
       "Name: count, dtype: int64"
      ]
     },
     "metadata": {},
     "output_type": "display_data"
    },
    {
     "name": "stdout",
     "output_type": "stream",
     "text": [
      "\n"
     ]
    },
    {
     "data": {
      "application/javascript": [
       "\n",
       "        if (window._pyforest_update_imports_cell) { window._pyforest_update_imports_cell('import pandas as pd'); }\n",
       "    "
      ],
      "text/plain": [
       "<IPython.core.display.Javascript object>"
      ]
     },
     "metadata": {},
     "output_type": "display_data"
    },
    {
     "name": "stdout",
     "output_type": "stream",
     "text": [
      "NEK2_inhibition MOE ADASYN\n",
      "fold1\n"
     ]
    },
    {
     "data": {
      "text/plain": [
       "active\n",
       "0_real         303\n",
       "1_synthetic    283\n",
       "1_real          22\n",
       "Name: count, dtype: int64"
      ]
     },
     "metadata": {},
     "output_type": "display_data"
    },
    {
     "name": "stdout",
     "output_type": "stream",
     "text": [
      "fold2\n"
     ]
    },
    {
     "data": {
      "text/plain": [
       "active\n",
       "0_real         303\n",
       "1_synthetic    283\n",
       "1_real          22\n",
       "Name: count, dtype: int64"
      ]
     },
     "metadata": {},
     "output_type": "display_data"
    },
    {
     "name": "stdout",
     "output_type": "stream",
     "text": [
      "fold3\n"
     ]
    },
    {
     "data": {
      "text/plain": [
       "active\n",
       "0_real         303\n",
       "1_synthetic    283\n",
       "1_real          22\n",
       "Name: count, dtype: int64"
      ]
     },
     "metadata": {},
     "output_type": "display_data"
    },
    {
     "name": "stdout",
     "output_type": "stream",
     "text": [
      "fold4\n"
     ]
    },
    {
     "data": {
      "text/plain": [
       "active\n",
       "0_real         302\n",
       "1_synthetic    282\n",
       "1_real          23\n",
       "Name: count, dtype: int64"
      ]
     },
     "metadata": {},
     "output_type": "display_data"
    },
    {
     "name": "stdout",
     "output_type": "stream",
     "text": [
      "fold5\n"
     ]
    },
    {
     "data": {
      "text/plain": [
       "active\n",
       "0_real         302\n",
       "1_synthetic    282\n",
       "1_real          23\n",
       "Name: count, dtype: int64"
      ]
     },
     "metadata": {},
     "output_type": "display_data"
    },
    {
     "name": "stdout",
     "output_type": "stream",
     "text": [
      "\n"
     ]
    },
    {
     "data": {
      "application/javascript": [
       "\n",
       "        if (window._pyforest_update_imports_cell) { window._pyforest_update_imports_cell('import pandas as pd'); }\n",
       "    "
      ],
      "text/plain": [
       "<IPython.core.display.Javascript object>"
      ]
     },
     "metadata": {},
     "output_type": "display_data"
    },
    {
     "name": "stdout",
     "output_type": "stream",
     "text": [
      "NEK2_inhibition MFP none_scaled\n",
      "fold1\n"
     ]
    },
    {
     "data": {
      "text/plain": [
       "active\n",
       "train_0    303\n",
       "train_1     22\n",
       "Name: count, dtype: int64"
      ]
     },
     "metadata": {},
     "output_type": "display_data"
    },
    {
     "name": "stdout",
     "output_type": "stream",
     "text": [
      "fold2\n"
     ]
    },
    {
     "data": {
      "text/plain": [
       "active\n",
       "train_0    303\n",
       "train_1     22\n",
       "Name: count, dtype: int64"
      ]
     },
     "metadata": {},
     "output_type": "display_data"
    },
    {
     "name": "stdout",
     "output_type": "stream",
     "text": [
      "fold3\n"
     ]
    },
    {
     "data": {
      "text/plain": [
       "active\n",
       "train_0    303\n",
       "train_1     22\n",
       "Name: count, dtype: int64"
      ]
     },
     "metadata": {},
     "output_type": "display_data"
    },
    {
     "name": "stdout",
     "output_type": "stream",
     "text": [
      "fold4\n"
     ]
    },
    {
     "data": {
      "text/plain": [
       "active\n",
       "train_0    302\n",
       "train_1     23\n",
       "Name: count, dtype: int64"
      ]
     },
     "metadata": {},
     "output_type": "display_data"
    },
    {
     "name": "stdout",
     "output_type": "stream",
     "text": [
      "fold5\n"
     ]
    },
    {
     "data": {
      "text/plain": [
       "active\n",
       "train_0    302\n",
       "train_1     23\n",
       "Name: count, dtype: int64"
      ]
     },
     "metadata": {},
     "output_type": "display_data"
    },
    {
     "name": "stdout",
     "output_type": "stream",
     "text": [
      "\n"
     ]
    },
    {
     "data": {
      "application/javascript": [
       "\n",
       "        if (window._pyforest_update_imports_cell) { window._pyforest_update_imports_cell('import pandas as pd'); }\n",
       "    "
      ],
      "text/plain": [
       "<IPython.core.display.Javascript object>"
      ]
     },
     "metadata": {},
     "output_type": "display_data"
    },
    {
     "name": "stdout",
     "output_type": "stream",
     "text": [
      "NEK2_inhibition MFP UNDER\n",
      "fold1\n"
     ]
    },
    {
     "data": {
      "text/plain": [
       "active\n",
       "train_0    23\n",
       "train_1    22\n",
       "Name: count, dtype: int64"
      ]
     },
     "metadata": {},
     "output_type": "display_data"
    },
    {
     "name": "stdout",
     "output_type": "stream",
     "text": [
      "fold2\n"
     ]
    },
    {
     "data": {
      "text/plain": [
       "active\n",
       "train_0    23\n",
       "train_1    22\n",
       "Name: count, dtype: int64"
      ]
     },
     "metadata": {},
     "output_type": "display_data"
    },
    {
     "name": "stdout",
     "output_type": "stream",
     "text": [
      "fold3\n"
     ]
    },
    {
     "data": {
      "text/plain": [
       "active\n",
       "train_1    23\n",
       "train_0    22\n",
       "Name: count, dtype: int64"
      ]
     },
     "metadata": {},
     "output_type": "display_data"
    },
    {
     "name": "stdout",
     "output_type": "stream",
     "text": [
      "fold4\n"
     ]
    },
    {
     "data": {
      "text/plain": [
       "active\n",
       "train_1    23\n",
       "train_0    22\n",
       "Name: count, dtype: int64"
      ]
     },
     "metadata": {},
     "output_type": "display_data"
    },
    {
     "name": "stdout",
     "output_type": "stream",
     "text": [
      "fold5\n"
     ]
    },
    {
     "data": {
      "text/plain": [
       "active\n",
       "train_0    22\n",
       "train_1    22\n",
       "Name: count, dtype: int64"
      ]
     },
     "metadata": {},
     "output_type": "display_data"
    },
    {
     "name": "stdout",
     "output_type": "stream",
     "text": [
      "\n"
     ]
    },
    {
     "data": {
      "application/javascript": [
       "\n",
       "        if (window._pyforest_update_imports_cell) { window._pyforest_update_imports_cell('import pandas as pd'); }\n",
       "    "
      ],
      "text/plain": [
       "<IPython.core.display.Javascript object>"
      ]
     },
     "metadata": {},
     "output_type": "display_data"
    },
    {
     "name": "stdout",
     "output_type": "stream",
     "text": [
      "NEK2_inhibition MFP SMOTE\n",
      "fold1\n"
     ]
    },
    {
     "data": {
      "text/plain": [
       "active\n",
       "0_real         303\n",
       "1_synthetic    281\n",
       "1_real          22\n",
       "Name: count, dtype: int64"
      ]
     },
     "metadata": {},
     "output_type": "display_data"
    },
    {
     "name": "stdout",
     "output_type": "stream",
     "text": [
      "fold2\n"
     ]
    },
    {
     "data": {
      "text/plain": [
       "active\n",
       "0_real         303\n",
       "1_synthetic    280\n",
       "1_real          22\n",
       "Name: count, dtype: int64"
      ]
     },
     "metadata": {},
     "output_type": "display_data"
    },
    {
     "name": "stdout",
     "output_type": "stream",
     "text": [
      "fold3\n"
     ]
    },
    {
     "data": {
      "text/plain": [
       "active\n",
       "0_real         303\n",
       "1_synthetic    280\n",
       "1_real          22\n",
       "Name: count, dtype: int64"
      ]
     },
     "metadata": {},
     "output_type": "display_data"
    },
    {
     "name": "stdout",
     "output_type": "stream",
     "text": [
      "fold4\n"
     ]
    },
    {
     "data": {
      "text/plain": [
       "active\n",
       "0_real         302\n",
       "1_synthetic    280\n",
       "1_real          23\n",
       "Name: count, dtype: int64"
      ]
     },
     "metadata": {},
     "output_type": "display_data"
    },
    {
     "name": "stdout",
     "output_type": "stream",
     "text": [
      "fold5\n"
     ]
    },
    {
     "data": {
      "text/plain": [
       "active\n",
       "0_real         302\n",
       "1_synthetic    280\n",
       "1_real          23\n",
       "Name: count, dtype: int64"
      ]
     },
     "metadata": {},
     "output_type": "display_data"
    },
    {
     "name": "stdout",
     "output_type": "stream",
     "text": [
      "\n"
     ]
    },
    {
     "data": {
      "application/javascript": [
       "\n",
       "        if (window._pyforest_update_imports_cell) { window._pyforest_update_imports_cell('import pandas as pd'); }\n",
       "    "
      ],
      "text/plain": [
       "<IPython.core.display.Javascript object>"
      ]
     },
     "metadata": {},
     "output_type": "display_data"
    },
    {
     "name": "stdout",
     "output_type": "stream",
     "text": [
      "NEK2_inhibition MFP ADASYN\n",
      "fold1\n"
     ]
    },
    {
     "data": {
      "text/plain": [
       "active\n",
       "0_real         303\n",
       "1_synthetic    282\n",
       "1_real          22\n",
       "Name: count, dtype: int64"
      ]
     },
     "metadata": {},
     "output_type": "display_data"
    },
    {
     "name": "stdout",
     "output_type": "stream",
     "text": [
      "fold2\n"
     ]
    },
    {
     "data": {
      "text/plain": [
       "active\n",
       "0_real         303\n",
       "1_synthetic    282\n",
       "1_real          22\n",
       "Name: count, dtype: int64"
      ]
     },
     "metadata": {},
     "output_type": "display_data"
    },
    {
     "name": "stdout",
     "output_type": "stream",
     "text": [
      "fold3\n"
     ]
    },
    {
     "data": {
      "text/plain": [
       "active\n",
       "0_real         303\n",
       "1_synthetic    281\n",
       "1_real          22\n",
       "Name: count, dtype: int64"
      ]
     },
     "metadata": {},
     "output_type": "display_data"
    },
    {
     "name": "stdout",
     "output_type": "stream",
     "text": [
      "fold4\n"
     ]
    },
    {
     "data": {
      "text/plain": [
       "active\n",
       "0_real         302\n",
       "1_synthetic    281\n",
       "1_real          23\n",
       "Name: count, dtype: int64"
      ]
     },
     "metadata": {},
     "output_type": "display_data"
    },
    {
     "name": "stdout",
     "output_type": "stream",
     "text": [
      "fold5\n"
     ]
    },
    {
     "data": {
      "text/plain": [
       "active\n",
       "0_real         302\n",
       "1_synthetic    281\n",
       "1_real          23\n",
       "Name: count, dtype: int64"
      ]
     },
     "metadata": {},
     "output_type": "display_data"
    },
    {
     "name": "stdout",
     "output_type": "stream",
     "text": [
      "\n"
     ]
    },
    {
     "data": {
      "application/javascript": [
       "\n",
       "        if (window._pyforest_update_imports_cell) { window._pyforest_update_imports_cell('import pandas as pd'); }\n",
       "    "
      ],
      "text/plain": [
       "<IPython.core.display.Javascript object>"
      ]
     },
     "metadata": {},
     "output_type": "display_data"
    },
    {
     "name": "stdout",
     "output_type": "stream",
     "text": [
      "NEK3_binding MOE none_scaled\n",
      "fold1\n"
     ]
    },
    {
     "data": {
      "text/plain": [
       "active\n",
       "train_0    212\n",
       "train_1     13\n",
       "Name: count, dtype: int64"
      ]
     },
     "metadata": {},
     "output_type": "display_data"
    },
    {
     "name": "stdout",
     "output_type": "stream",
     "text": [
      "fold2\n"
     ]
    },
    {
     "data": {
      "text/plain": [
       "active\n",
       "train_0    212\n",
       "train_1     13\n",
       "Name: count, dtype: int64"
      ]
     },
     "metadata": {},
     "output_type": "display_data"
    },
    {
     "name": "stdout",
     "output_type": "stream",
     "text": [
      "fold3\n"
     ]
    },
    {
     "data": {
      "text/plain": [
       "active\n",
       "train_0    212\n",
       "train_1     12\n",
       "Name: count, dtype: int64"
      ]
     },
     "metadata": {},
     "output_type": "display_data"
    },
    {
     "name": "stdout",
     "output_type": "stream",
     "text": [
      "fold4\n"
     ]
    },
    {
     "data": {
      "text/plain": [
       "active\n",
       "train_0    211\n",
       "train_1     13\n",
       "Name: count, dtype: int64"
      ]
     },
     "metadata": {},
     "output_type": "display_data"
    },
    {
     "name": "stdout",
     "output_type": "stream",
     "text": [
      "fold5\n"
     ]
    },
    {
     "data": {
      "text/plain": [
       "active\n",
       "train_0    211\n",
       "train_1     13\n",
       "Name: count, dtype: int64"
      ]
     },
     "metadata": {},
     "output_type": "display_data"
    },
    {
     "name": "stdout",
     "output_type": "stream",
     "text": [
      "\n"
     ]
    },
    {
     "data": {
      "application/javascript": [
       "\n",
       "        if (window._pyforest_update_imports_cell) { window._pyforest_update_imports_cell('import pandas as pd'); }\n",
       "    "
      ],
      "text/plain": [
       "<IPython.core.display.Javascript object>"
      ]
     },
     "metadata": {},
     "output_type": "display_data"
    },
    {
     "name": "stdout",
     "output_type": "stream",
     "text": [
      "NEK3_binding MOE UNDER\n",
      "fold1\n"
     ]
    },
    {
     "data": {
      "text/plain": [
       "active\n",
       "train_0    13\n",
       "train_1    13\n",
       "Name: count, dtype: int64"
      ]
     },
     "metadata": {},
     "output_type": "display_data"
    },
    {
     "name": "stdout",
     "output_type": "stream",
     "text": [
      "fold2\n"
     ]
    },
    {
     "data": {
      "text/plain": [
       "active\n",
       "train_0    13\n",
       "train_1    13\n",
       "Name: count, dtype: int64"
      ]
     },
     "metadata": {},
     "output_type": "display_data"
    },
    {
     "name": "stdout",
     "output_type": "stream",
     "text": [
      "fold3\n"
     ]
    },
    {
     "data": {
      "text/plain": [
       "active\n",
       "train_0    13\n",
       "train_1    13\n",
       "Name: count, dtype: int64"
      ]
     },
     "metadata": {},
     "output_type": "display_data"
    },
    {
     "name": "stdout",
     "output_type": "stream",
     "text": [
      "fold4\n"
     ]
    },
    {
     "data": {
      "text/plain": [
       "active\n",
       "train_0    13\n",
       "train_1    12\n",
       "Name: count, dtype: int64"
      ]
     },
     "metadata": {},
     "output_type": "display_data"
    },
    {
     "name": "stdout",
     "output_type": "stream",
     "text": [
      "fold5\n"
     ]
    },
    {
     "data": {
      "text/plain": [
       "active\n",
       "train_1    13\n",
       "train_0    12\n",
       "Name: count, dtype: int64"
      ]
     },
     "metadata": {},
     "output_type": "display_data"
    },
    {
     "name": "stdout",
     "output_type": "stream",
     "text": [
      "\n"
     ]
    },
    {
     "data": {
      "application/javascript": [
       "\n",
       "        if (window._pyforest_update_imports_cell) { window._pyforest_update_imports_cell('import pandas as pd'); }\n",
       "    "
      ],
      "text/plain": [
       "<IPython.core.display.Javascript object>"
      ]
     },
     "metadata": {},
     "output_type": "display_data"
    },
    {
     "name": "stdout",
     "output_type": "stream",
     "text": [
      "NEK3_binding MOE SMOTE\n",
      "fold1\n"
     ]
    },
    {
     "data": {
      "text/plain": [
       "active\n",
       "0_real         212\n",
       "1_synthetic    199\n",
       "1_real          13\n",
       "Name: count, dtype: int64"
      ]
     },
     "metadata": {},
     "output_type": "display_data"
    },
    {
     "name": "stdout",
     "output_type": "stream",
     "text": [
      "fold2\n"
     ]
    },
    {
     "data": {
      "text/plain": [
       "active\n",
       "0_real         212\n",
       "1_synthetic    198\n",
       "1_real          13\n",
       "Name: count, dtype: int64"
      ]
     },
     "metadata": {},
     "output_type": "display_data"
    },
    {
     "name": "stdout",
     "output_type": "stream",
     "text": [
      "fold3\n"
     ]
    },
    {
     "data": {
      "text/plain": [
       "active\n",
       "0_real         212\n",
       "1_synthetic    199\n",
       "1_real          12\n",
       "Name: count, dtype: int64"
      ]
     },
     "metadata": {},
     "output_type": "display_data"
    },
    {
     "name": "stdout",
     "output_type": "stream",
     "text": [
      "fold4\n"
     ]
    },
    {
     "data": {
      "text/plain": [
       "active\n",
       "0_real         211\n",
       "1_synthetic    199\n",
       "1_real          13\n",
       "Name: count, dtype: int64"
      ]
     },
     "metadata": {},
     "output_type": "display_data"
    },
    {
     "name": "stdout",
     "output_type": "stream",
     "text": [
      "fold5\n"
     ]
    },
    {
     "data": {
      "text/plain": [
       "active\n",
       "0_real         211\n",
       "1_synthetic    199\n",
       "1_real          13\n",
       "Name: count, dtype: int64"
      ]
     },
     "metadata": {},
     "output_type": "display_data"
    },
    {
     "name": "stdout",
     "output_type": "stream",
     "text": [
      "\n"
     ]
    },
    {
     "data": {
      "application/javascript": [
       "\n",
       "        if (window._pyforest_update_imports_cell) { window._pyforest_update_imports_cell('import pandas as pd'); }\n",
       "    "
      ],
      "text/plain": [
       "<IPython.core.display.Javascript object>"
      ]
     },
     "metadata": {},
     "output_type": "display_data"
    },
    {
     "name": "stdout",
     "output_type": "stream",
     "text": [
      "NEK3_binding MOE ADASYN\n",
      "fold1\n"
     ]
    },
    {
     "data": {
      "text/plain": [
       "active\n",
       "0_real         212\n",
       "1_synthetic    196\n",
       "1_real          13\n",
       "Name: count, dtype: int64"
      ]
     },
     "metadata": {},
     "output_type": "display_data"
    },
    {
     "name": "stdout",
     "output_type": "stream",
     "text": [
      "fold2\n"
     ]
    },
    {
     "data": {
      "text/plain": [
       "active\n",
       "0_real         212\n",
       "1_synthetic    196\n",
       "1_real          13\n",
       "Name: count, dtype: int64"
      ]
     },
     "metadata": {},
     "output_type": "display_data"
    },
    {
     "name": "stdout",
     "output_type": "stream",
     "text": [
      "fold3\n"
     ]
    },
    {
     "data": {
      "text/plain": [
       "active\n",
       "0_real         212\n",
       "1_synthetic    197\n",
       "1_real          12\n",
       "Name: count, dtype: int64"
      ]
     },
     "metadata": {},
     "output_type": "display_data"
    },
    {
     "name": "stdout",
     "output_type": "stream",
     "text": [
      "fold4\n"
     ]
    },
    {
     "data": {
      "text/plain": [
       "active\n",
       "0_real         211\n",
       "1_synthetic    196\n",
       "1_real          13\n",
       "Name: count, dtype: int64"
      ]
     },
     "metadata": {},
     "output_type": "display_data"
    },
    {
     "name": "stdout",
     "output_type": "stream",
     "text": [
      "fold5\n"
     ]
    },
    {
     "data": {
      "text/plain": [
       "active\n",
       "0_real         211\n",
       "1_synthetic    196\n",
       "1_real          13\n",
       "Name: count, dtype: int64"
      ]
     },
     "metadata": {},
     "output_type": "display_data"
    },
    {
     "name": "stdout",
     "output_type": "stream",
     "text": [
      "\n"
     ]
    },
    {
     "data": {
      "application/javascript": [
       "\n",
       "        if (window._pyforest_update_imports_cell) { window._pyforest_update_imports_cell('import pandas as pd'); }\n",
       "    "
      ],
      "text/plain": [
       "<IPython.core.display.Javascript object>"
      ]
     },
     "metadata": {},
     "output_type": "display_data"
    },
    {
     "name": "stdout",
     "output_type": "stream",
     "text": [
      "NEK3_binding MFP none_scaled\n",
      "fold1\n"
     ]
    },
    {
     "data": {
      "text/plain": [
       "active\n",
       "train_0    212\n",
       "train_1     13\n",
       "Name: count, dtype: int64"
      ]
     },
     "metadata": {},
     "output_type": "display_data"
    },
    {
     "name": "stdout",
     "output_type": "stream",
     "text": [
      "fold2\n"
     ]
    },
    {
     "data": {
      "text/plain": [
       "active\n",
       "train_0    212\n",
       "train_1     13\n",
       "Name: count, dtype: int64"
      ]
     },
     "metadata": {},
     "output_type": "display_data"
    },
    {
     "name": "stdout",
     "output_type": "stream",
     "text": [
      "fold3\n"
     ]
    },
    {
     "data": {
      "text/plain": [
       "active\n",
       "train_0    212\n",
       "train_1     12\n",
       "Name: count, dtype: int64"
      ]
     },
     "metadata": {},
     "output_type": "display_data"
    },
    {
     "name": "stdout",
     "output_type": "stream",
     "text": [
      "fold4\n"
     ]
    },
    {
     "data": {
      "text/plain": [
       "active\n",
       "train_0    211\n",
       "train_1     13\n",
       "Name: count, dtype: int64"
      ]
     },
     "metadata": {},
     "output_type": "display_data"
    },
    {
     "name": "stdout",
     "output_type": "stream",
     "text": [
      "fold5\n"
     ]
    },
    {
     "data": {
      "text/plain": [
       "active\n",
       "train_0    211\n",
       "train_1     13\n",
       "Name: count, dtype: int64"
      ]
     },
     "metadata": {},
     "output_type": "display_data"
    },
    {
     "name": "stdout",
     "output_type": "stream",
     "text": [
      "\n"
     ]
    },
    {
     "data": {
      "application/javascript": [
       "\n",
       "        if (window._pyforest_update_imports_cell) { window._pyforest_update_imports_cell('import pandas as pd'); }\n",
       "    "
      ],
      "text/plain": [
       "<IPython.core.display.Javascript object>"
      ]
     },
     "metadata": {},
     "output_type": "display_data"
    },
    {
     "name": "stdout",
     "output_type": "stream",
     "text": [
      "NEK3_binding MFP UNDER\n",
      "fold1\n"
     ]
    },
    {
     "data": {
      "text/plain": [
       "active\n",
       "train_0    13\n",
       "train_1    13\n",
       "Name: count, dtype: int64"
      ]
     },
     "metadata": {},
     "output_type": "display_data"
    },
    {
     "name": "stdout",
     "output_type": "stream",
     "text": [
      "fold2\n"
     ]
    },
    {
     "data": {
      "text/plain": [
       "active\n",
       "train_0    13\n",
       "train_1    13\n",
       "Name: count, dtype: int64"
      ]
     },
     "metadata": {},
     "output_type": "display_data"
    },
    {
     "name": "stdout",
     "output_type": "stream",
     "text": [
      "fold3\n"
     ]
    },
    {
     "data": {
      "text/plain": [
       "active\n",
       "train_0    13\n",
       "train_1    13\n",
       "Name: count, dtype: int64"
      ]
     },
     "metadata": {},
     "output_type": "display_data"
    },
    {
     "name": "stdout",
     "output_type": "stream",
     "text": [
      "fold4\n"
     ]
    },
    {
     "data": {
      "text/plain": [
       "active\n",
       "train_0    13\n",
       "train_1    12\n",
       "Name: count, dtype: int64"
      ]
     },
     "metadata": {},
     "output_type": "display_data"
    },
    {
     "name": "stdout",
     "output_type": "stream",
     "text": [
      "fold5\n"
     ]
    },
    {
     "data": {
      "text/plain": [
       "active\n",
       "train_1    13\n",
       "train_0    12\n",
       "Name: count, dtype: int64"
      ]
     },
     "metadata": {},
     "output_type": "display_data"
    },
    {
     "name": "stdout",
     "output_type": "stream",
     "text": [
      "\n"
     ]
    },
    {
     "data": {
      "application/javascript": [
       "\n",
       "        if (window._pyforest_update_imports_cell) { window._pyforest_update_imports_cell('import pandas as pd'); }\n",
       "    "
      ],
      "text/plain": [
       "<IPython.core.display.Javascript object>"
      ]
     },
     "metadata": {},
     "output_type": "display_data"
    },
    {
     "name": "stdout",
     "output_type": "stream",
     "text": [
      "NEK3_binding MFP SMOTE\n",
      "fold1\n"
     ]
    },
    {
     "data": {
      "text/plain": [
       "active\n",
       "0_real         212\n",
       "1_synthetic    199\n",
       "1_real          13\n",
       "Name: count, dtype: int64"
      ]
     },
     "metadata": {},
     "output_type": "display_data"
    },
    {
     "name": "stdout",
     "output_type": "stream",
     "text": [
      "fold2\n"
     ]
    },
    {
     "data": {
      "text/plain": [
       "active\n",
       "0_real         212\n",
       "1_synthetic    198\n",
       "1_real          13\n",
       "Name: count, dtype: int64"
      ]
     },
     "metadata": {},
     "output_type": "display_data"
    },
    {
     "name": "stdout",
     "output_type": "stream",
     "text": [
      "fold3\n"
     ]
    },
    {
     "data": {
      "text/plain": [
       "active\n",
       "0_real         212\n",
       "1_synthetic    199\n",
       "1_real          12\n",
       "Name: count, dtype: int64"
      ]
     },
     "metadata": {},
     "output_type": "display_data"
    },
    {
     "name": "stdout",
     "output_type": "stream",
     "text": [
      "fold4\n"
     ]
    },
    {
     "data": {
      "text/plain": [
       "active\n",
       "0_real         211\n",
       "1_synthetic    199\n",
       "1_real          13\n",
       "Name: count, dtype: int64"
      ]
     },
     "metadata": {},
     "output_type": "display_data"
    },
    {
     "name": "stdout",
     "output_type": "stream",
     "text": [
      "fold5\n"
     ]
    },
    {
     "data": {
      "text/plain": [
       "active\n",
       "0_real         211\n",
       "1_synthetic    199\n",
       "1_real          13\n",
       "Name: count, dtype: int64"
      ]
     },
     "metadata": {},
     "output_type": "display_data"
    },
    {
     "name": "stdout",
     "output_type": "stream",
     "text": [
      "\n"
     ]
    },
    {
     "data": {
      "application/javascript": [
       "\n",
       "        if (window._pyforest_update_imports_cell) { window._pyforest_update_imports_cell('import pandas as pd'); }\n",
       "    "
      ],
      "text/plain": [
       "<IPython.core.display.Javascript object>"
      ]
     },
     "metadata": {},
     "output_type": "display_data"
    },
    {
     "name": "stdout",
     "output_type": "stream",
     "text": [
      "NEK3_binding MFP ADASYN\n",
      "fold1\n"
     ]
    },
    {
     "data": {
      "text/plain": [
       "active\n",
       "0_real         212\n",
       "1_synthetic    200\n",
       "1_real          13\n",
       "Name: count, dtype: int64"
      ]
     },
     "metadata": {},
     "output_type": "display_data"
    },
    {
     "name": "stdout",
     "output_type": "stream",
     "text": [
      "fold2\n"
     ]
    },
    {
     "data": {
      "text/plain": [
       "active\n",
       "0_real         212\n",
       "1_synthetic    200\n",
       "1_real          13\n",
       "Name: count, dtype: int64"
      ]
     },
     "metadata": {},
     "output_type": "display_data"
    },
    {
     "name": "stdout",
     "output_type": "stream",
     "text": [
      "fold3\n"
     ]
    },
    {
     "data": {
      "text/plain": [
       "active\n",
       "0_real         212\n",
       "1_synthetic    201\n",
       "1_real          12\n",
       "Name: count, dtype: int64"
      ]
     },
     "metadata": {},
     "output_type": "display_data"
    },
    {
     "name": "stdout",
     "output_type": "stream",
     "text": [
      "fold4\n"
     ]
    },
    {
     "data": {
      "text/plain": [
       "active\n",
       "0_real         211\n",
       "1_synthetic    201\n",
       "1_real          13\n",
       "Name: count, dtype: int64"
      ]
     },
     "metadata": {},
     "output_type": "display_data"
    },
    {
     "name": "stdout",
     "output_type": "stream",
     "text": [
      "fold5\n"
     ]
    },
    {
     "data": {
      "text/plain": [
       "active\n",
       "0_real         211\n",
       "1_synthetic    201\n",
       "1_real          13\n",
       "Name: count, dtype: int64"
      ]
     },
     "metadata": {},
     "output_type": "display_data"
    },
    {
     "name": "stdout",
     "output_type": "stream",
     "text": [
      "\n"
     ]
    },
    {
     "data": {
      "application/javascript": [
       "\n",
       "        if (window._pyforest_update_imports_cell) { window._pyforest_update_imports_cell('import pandas as pd'); }\n",
       "    "
      ],
      "text/plain": [
       "<IPython.core.display.Javascript object>"
      ]
     },
     "metadata": {},
     "output_type": "display_data"
    },
    {
     "name": "stdout",
     "output_type": "stream",
     "text": [
      "NEK5_binding MOE none_scaled\n",
      "fold1\n"
     ]
    },
    {
     "data": {
      "text/plain": [
       "active\n",
       "train_0    183\n",
       "train_1     15\n",
       "Name: count, dtype: int64"
      ]
     },
     "metadata": {},
     "output_type": "display_data"
    },
    {
     "name": "stdout",
     "output_type": "stream",
     "text": [
      "fold2\n"
     ]
    },
    {
     "data": {
      "text/plain": [
       "active\n",
       "train_0    183\n",
       "train_1     15\n",
       "Name: count, dtype: int64"
      ]
     },
     "metadata": {},
     "output_type": "display_data"
    },
    {
     "name": "stdout",
     "output_type": "stream",
     "text": [
      "fold3\n"
     ]
    },
    {
     "data": {
      "text/plain": [
       "active\n",
       "train_0    182\n",
       "train_1     16\n",
       "Name: count, dtype: int64"
      ]
     },
     "metadata": {},
     "output_type": "display_data"
    },
    {
     "name": "stdout",
     "output_type": "stream",
     "text": [
      "fold4\n"
     ]
    },
    {
     "data": {
      "text/plain": [
       "active\n",
       "train_0    182\n",
       "train_1     16\n",
       "Name: count, dtype: int64"
      ]
     },
     "metadata": {},
     "output_type": "display_data"
    },
    {
     "name": "stdout",
     "output_type": "stream",
     "text": [
      "fold5\n"
     ]
    },
    {
     "data": {
      "text/plain": [
       "active\n",
       "train_0    182\n",
       "train_1     15\n",
       "Name: count, dtype: int64"
      ]
     },
     "metadata": {},
     "output_type": "display_data"
    },
    {
     "name": "stdout",
     "output_type": "stream",
     "text": [
      "\n"
     ]
    },
    {
     "data": {
      "application/javascript": [
       "\n",
       "        if (window._pyforest_update_imports_cell) { window._pyforest_update_imports_cell('import pandas as pd'); }\n",
       "    "
      ],
      "text/plain": [
       "<IPython.core.display.Javascript object>"
      ]
     },
     "metadata": {},
     "output_type": "display_data"
    },
    {
     "name": "stdout",
     "output_type": "stream",
     "text": [
      "NEK5_binding MOE UNDER\n",
      "fold1\n"
     ]
    },
    {
     "data": {
      "text/plain": [
       "active\n",
       "train_0    16\n",
       "train_1    15\n",
       "Name: count, dtype: int64"
      ]
     },
     "metadata": {},
     "output_type": "display_data"
    },
    {
     "name": "stdout",
     "output_type": "stream",
     "text": [
      "fold2\n"
     ]
    },
    {
     "data": {
      "text/plain": [
       "active\n",
       "train_0    16\n",
       "train_1    15\n",
       "Name: count, dtype: int64"
      ]
     },
     "metadata": {},
     "output_type": "display_data"
    },
    {
     "name": "stdout",
     "output_type": "stream",
     "text": [
      "fold3\n"
     ]
    },
    {
     "data": {
      "text/plain": [
       "active\n",
       "train_1    16\n",
       "train_0    15\n",
       "Name: count, dtype: int64"
      ]
     },
     "metadata": {},
     "output_type": "display_data"
    },
    {
     "name": "stdout",
     "output_type": "stream",
     "text": [
      "fold4\n"
     ]
    },
    {
     "data": {
      "text/plain": [
       "active\n",
       "train_1    16\n",
       "train_0    15\n",
       "Name: count, dtype: int64"
      ]
     },
     "metadata": {},
     "output_type": "display_data"
    },
    {
     "name": "stdout",
     "output_type": "stream",
     "text": [
      "fold5\n"
     ]
    },
    {
     "data": {
      "text/plain": [
       "active\n",
       "train_0    15\n",
       "train_1    15\n",
       "Name: count, dtype: int64"
      ]
     },
     "metadata": {},
     "output_type": "display_data"
    },
    {
     "name": "stdout",
     "output_type": "stream",
     "text": [
      "\n"
     ]
    },
    {
     "data": {
      "application/javascript": [
       "\n",
       "        if (window._pyforest_update_imports_cell) { window._pyforest_update_imports_cell('import pandas as pd'); }\n",
       "    "
      ],
      "text/plain": [
       "<IPython.core.display.Javascript object>"
      ]
     },
     "metadata": {},
     "output_type": "display_data"
    },
    {
     "name": "stdout",
     "output_type": "stream",
     "text": [
      "NEK5_binding MOE SMOTE\n",
      "fold1\n"
     ]
    },
    {
     "data": {
      "text/plain": [
       "active\n",
       "0_real         183\n",
       "1_synthetic    167\n",
       "1_real          15\n",
       "Name: count, dtype: int64"
      ]
     },
     "metadata": {},
     "output_type": "display_data"
    },
    {
     "name": "stdout",
     "output_type": "stream",
     "text": [
      "fold2\n"
     ]
    },
    {
     "data": {
      "text/plain": [
       "active\n",
       "0_real         183\n",
       "1_synthetic    167\n",
       "1_real          15\n",
       "Name: count, dtype: int64"
      ]
     },
     "metadata": {},
     "output_type": "display_data"
    },
    {
     "name": "stdout",
     "output_type": "stream",
     "text": [
      "fold3\n"
     ]
    },
    {
     "data": {
      "text/plain": [
       "active\n",
       "0_real         182\n",
       "1_synthetic    167\n",
       "1_real          16\n",
       "Name: count, dtype: int64"
      ]
     },
     "metadata": {},
     "output_type": "display_data"
    },
    {
     "name": "stdout",
     "output_type": "stream",
     "text": [
      "fold4\n"
     ]
    },
    {
     "data": {
      "text/plain": [
       "active\n",
       "0_real         182\n",
       "1_synthetic    167\n",
       "1_real          16\n",
       "Name: count, dtype: int64"
      ]
     },
     "metadata": {},
     "output_type": "display_data"
    },
    {
     "name": "stdout",
     "output_type": "stream",
     "text": [
      "fold5\n"
     ]
    },
    {
     "data": {
      "text/plain": [
       "active\n",
       "0_real         182\n",
       "1_synthetic    167\n",
       "1_real          15\n",
       "Name: count, dtype: int64"
      ]
     },
     "metadata": {},
     "output_type": "display_data"
    },
    {
     "name": "stdout",
     "output_type": "stream",
     "text": [
      "\n"
     ]
    },
    {
     "data": {
      "application/javascript": [
       "\n",
       "        if (window._pyforest_update_imports_cell) { window._pyforest_update_imports_cell('import pandas as pd'); }\n",
       "    "
      ],
      "text/plain": [
       "<IPython.core.display.Javascript object>"
      ]
     },
     "metadata": {},
     "output_type": "display_data"
    },
    {
     "name": "stdout",
     "output_type": "stream",
     "text": [
      "NEK5_binding MOE ADASYN\n",
      "fold1\n"
     ]
    },
    {
     "data": {
      "text/plain": [
       "active\n",
       "0_real         183\n",
       "1_synthetic    168\n",
       "1_real          15\n",
       "Name: count, dtype: int64"
      ]
     },
     "metadata": {},
     "output_type": "display_data"
    },
    {
     "name": "stdout",
     "output_type": "stream",
     "text": [
      "fold2\n"
     ]
    },
    {
     "data": {
      "text/plain": [
       "active\n",
       "0_real         183\n",
       "1_synthetic    168\n",
       "1_real          15\n",
       "Name: count, dtype: int64"
      ]
     },
     "metadata": {},
     "output_type": "display_data"
    },
    {
     "name": "stdout",
     "output_type": "stream",
     "text": [
      "fold3\n"
     ]
    },
    {
     "data": {
      "text/plain": [
       "active\n",
       "0_real         182\n",
       "1_synthetic    167\n",
       "1_real          16\n",
       "Name: count, dtype: int64"
      ]
     },
     "metadata": {},
     "output_type": "display_data"
    },
    {
     "name": "stdout",
     "output_type": "stream",
     "text": [
      "fold4\n"
     ]
    },
    {
     "data": {
      "text/plain": [
       "active\n",
       "0_real         182\n",
       "1_synthetic    167\n",
       "1_real          16\n",
       "Name: count, dtype: int64"
      ]
     },
     "metadata": {},
     "output_type": "display_data"
    },
    {
     "name": "stdout",
     "output_type": "stream",
     "text": [
      "fold5\n"
     ]
    },
    {
     "data": {
      "text/plain": [
       "active\n",
       "0_real         182\n",
       "1_synthetic    168\n",
       "1_real          15\n",
       "Name: count, dtype: int64"
      ]
     },
     "metadata": {},
     "output_type": "display_data"
    },
    {
     "name": "stdout",
     "output_type": "stream",
     "text": [
      "\n"
     ]
    },
    {
     "data": {
      "application/javascript": [
       "\n",
       "        if (window._pyforest_update_imports_cell) { window._pyforest_update_imports_cell('import pandas as pd'); }\n",
       "    "
      ],
      "text/plain": [
       "<IPython.core.display.Javascript object>"
      ]
     },
     "metadata": {},
     "output_type": "display_data"
    },
    {
     "name": "stdout",
     "output_type": "stream",
     "text": [
      "NEK5_binding MFP none_scaled\n",
      "fold1\n"
     ]
    },
    {
     "data": {
      "text/plain": [
       "active\n",
       "train_0    183\n",
       "train_1     15\n",
       "Name: count, dtype: int64"
      ]
     },
     "metadata": {},
     "output_type": "display_data"
    },
    {
     "name": "stdout",
     "output_type": "stream",
     "text": [
      "fold2\n"
     ]
    },
    {
     "data": {
      "text/plain": [
       "active\n",
       "train_0    183\n",
       "train_1     15\n",
       "Name: count, dtype: int64"
      ]
     },
     "metadata": {},
     "output_type": "display_data"
    },
    {
     "name": "stdout",
     "output_type": "stream",
     "text": [
      "fold3\n"
     ]
    },
    {
     "data": {
      "text/plain": [
       "active\n",
       "train_0    182\n",
       "train_1     16\n",
       "Name: count, dtype: int64"
      ]
     },
     "metadata": {},
     "output_type": "display_data"
    },
    {
     "name": "stdout",
     "output_type": "stream",
     "text": [
      "fold4\n"
     ]
    },
    {
     "data": {
      "text/plain": [
       "active\n",
       "train_0    182\n",
       "train_1     16\n",
       "Name: count, dtype: int64"
      ]
     },
     "metadata": {},
     "output_type": "display_data"
    },
    {
     "name": "stdout",
     "output_type": "stream",
     "text": [
      "fold5\n"
     ]
    },
    {
     "data": {
      "text/plain": [
       "active\n",
       "train_0    182\n",
       "train_1     15\n",
       "Name: count, dtype: int64"
      ]
     },
     "metadata": {},
     "output_type": "display_data"
    },
    {
     "name": "stdout",
     "output_type": "stream",
     "text": [
      "\n"
     ]
    },
    {
     "data": {
      "application/javascript": [
       "\n",
       "        if (window._pyforest_update_imports_cell) { window._pyforest_update_imports_cell('import pandas as pd'); }\n",
       "    "
      ],
      "text/plain": [
       "<IPython.core.display.Javascript object>"
      ]
     },
     "metadata": {},
     "output_type": "display_data"
    },
    {
     "name": "stdout",
     "output_type": "stream",
     "text": [
      "NEK5_binding MFP UNDER\n",
      "fold1\n"
     ]
    },
    {
     "data": {
      "text/plain": [
       "active\n",
       "train_0    16\n",
       "train_1    15\n",
       "Name: count, dtype: int64"
      ]
     },
     "metadata": {},
     "output_type": "display_data"
    },
    {
     "name": "stdout",
     "output_type": "stream",
     "text": [
      "fold2\n"
     ]
    },
    {
     "data": {
      "text/plain": [
       "active\n",
       "train_0    16\n",
       "train_1    15\n",
       "Name: count, dtype: int64"
      ]
     },
     "metadata": {},
     "output_type": "display_data"
    },
    {
     "name": "stdout",
     "output_type": "stream",
     "text": [
      "fold3\n"
     ]
    },
    {
     "data": {
      "text/plain": [
       "active\n",
       "train_1    16\n",
       "train_0    15\n",
       "Name: count, dtype: int64"
      ]
     },
     "metadata": {},
     "output_type": "display_data"
    },
    {
     "name": "stdout",
     "output_type": "stream",
     "text": [
      "fold4\n"
     ]
    },
    {
     "data": {
      "text/plain": [
       "active\n",
       "train_1    16\n",
       "train_0    15\n",
       "Name: count, dtype: int64"
      ]
     },
     "metadata": {},
     "output_type": "display_data"
    },
    {
     "name": "stdout",
     "output_type": "stream",
     "text": [
      "fold5\n"
     ]
    },
    {
     "data": {
      "text/plain": [
       "active\n",
       "train_0    15\n",
       "train_1    15\n",
       "Name: count, dtype: int64"
      ]
     },
     "metadata": {},
     "output_type": "display_data"
    },
    {
     "name": "stdout",
     "output_type": "stream",
     "text": [
      "\n"
     ]
    },
    {
     "data": {
      "application/javascript": [
       "\n",
       "        if (window._pyforest_update_imports_cell) { window._pyforest_update_imports_cell('import pandas as pd'); }\n",
       "    "
      ],
      "text/plain": [
       "<IPython.core.display.Javascript object>"
      ]
     },
     "metadata": {},
     "output_type": "display_data"
    },
    {
     "name": "stdout",
     "output_type": "stream",
     "text": [
      "NEK5_binding MFP SMOTE\n",
      "fold1\n"
     ]
    },
    {
     "data": {
      "text/plain": [
       "active\n",
       "0_real         183\n",
       "1_synthetic    167\n",
       "1_real          15\n",
       "Name: count, dtype: int64"
      ]
     },
     "metadata": {},
     "output_type": "display_data"
    },
    {
     "name": "stdout",
     "output_type": "stream",
     "text": [
      "fold2\n"
     ]
    },
    {
     "data": {
      "text/plain": [
       "active\n",
       "0_real         183\n",
       "1_synthetic    167\n",
       "1_real          15\n",
       "Name: count, dtype: int64"
      ]
     },
     "metadata": {},
     "output_type": "display_data"
    },
    {
     "name": "stdout",
     "output_type": "stream",
     "text": [
      "fold3\n"
     ]
    },
    {
     "data": {
      "text/plain": [
       "active\n",
       "0_real         182\n",
       "1_synthetic    167\n",
       "1_real          16\n",
       "Name: count, dtype: int64"
      ]
     },
     "metadata": {},
     "output_type": "display_data"
    },
    {
     "name": "stdout",
     "output_type": "stream",
     "text": [
      "fold4\n"
     ]
    },
    {
     "data": {
      "text/plain": [
       "active\n",
       "0_real         182\n",
       "1_synthetic    167\n",
       "1_real          16\n",
       "Name: count, dtype: int64"
      ]
     },
     "metadata": {},
     "output_type": "display_data"
    },
    {
     "name": "stdout",
     "output_type": "stream",
     "text": [
      "fold5\n"
     ]
    },
    {
     "data": {
      "text/plain": [
       "active\n",
       "0_real         182\n",
       "1_synthetic    167\n",
       "1_real          15\n",
       "Name: count, dtype: int64"
      ]
     },
     "metadata": {},
     "output_type": "display_data"
    },
    {
     "name": "stdout",
     "output_type": "stream",
     "text": [
      "\n"
     ]
    },
    {
     "data": {
      "application/javascript": [
       "\n",
       "        if (window._pyforest_update_imports_cell) { window._pyforest_update_imports_cell('import pandas as pd'); }\n",
       "    "
      ],
      "text/plain": [
       "<IPython.core.display.Javascript object>"
      ]
     },
     "metadata": {},
     "output_type": "display_data"
    },
    {
     "name": "stdout",
     "output_type": "stream",
     "text": [
      "NEK5_binding MFP ADASYN\n",
      "fold1\n"
     ]
    },
    {
     "data": {
      "text/plain": [
       "active\n",
       "0_real         183\n",
       "1_synthetic    164\n",
       "1_real          15\n",
       "Name: count, dtype: int64"
      ]
     },
     "metadata": {},
     "output_type": "display_data"
    },
    {
     "name": "stdout",
     "output_type": "stream",
     "text": [
      "fold2\n"
     ]
    },
    {
     "data": {
      "text/plain": [
       "active\n",
       "0_real         183\n",
       "1_synthetic    164\n",
       "1_real          15\n",
       "Name: count, dtype: int64"
      ]
     },
     "metadata": {},
     "output_type": "display_data"
    },
    {
     "name": "stdout",
     "output_type": "stream",
     "text": [
      "fold3\n"
     ]
    },
    {
     "data": {
      "text/plain": [
       "active\n",
       "0_real         182\n",
       "1_synthetic    163\n",
       "1_real          16\n",
       "Name: count, dtype: int64"
      ]
     },
     "metadata": {},
     "output_type": "display_data"
    },
    {
     "name": "stdout",
     "output_type": "stream",
     "text": [
      "fold4\n"
     ]
    },
    {
     "data": {
      "text/plain": [
       "active\n",
       "0_real         182\n",
       "1_synthetic    163\n",
       "1_real          16\n",
       "Name: count, dtype: int64"
      ]
     },
     "metadata": {},
     "output_type": "display_data"
    },
    {
     "name": "stdout",
     "output_type": "stream",
     "text": [
      "fold5\n"
     ]
    },
    {
     "data": {
      "text/plain": [
       "active\n",
       "0_real         182\n",
       "1_synthetic    164\n",
       "1_real          15\n",
       "Name: count, dtype: int64"
      ]
     },
     "metadata": {},
     "output_type": "display_data"
    },
    {
     "name": "stdout",
     "output_type": "stream",
     "text": [
      "\n"
     ]
    },
    {
     "data": {
      "application/javascript": [
       "\n",
       "        if (window._pyforest_update_imports_cell) { window._pyforest_update_imports_cell('import pandas as pd'); }\n",
       "    "
      ],
      "text/plain": [
       "<IPython.core.display.Javascript object>"
      ]
     },
     "metadata": {},
     "output_type": "display_data"
    },
    {
     "name": "stdout",
     "output_type": "stream",
     "text": [
      "NEK9_binding MOE none_scaled\n",
      "fold1\n"
     ]
    },
    {
     "data": {
      "text/plain": [
       "active\n",
       "train_0    216\n",
       "train_1     10\n",
       "Name: count, dtype: int64"
      ]
     },
     "metadata": {},
     "output_type": "display_data"
    },
    {
     "name": "stdout",
     "output_type": "stream",
     "text": [
      "fold2\n"
     ]
    },
    {
     "data": {
      "text/plain": [
       "active\n",
       "train_0    216\n",
       "train_1      9\n",
       "Name: count, dtype: int64"
      ]
     },
     "metadata": {},
     "output_type": "display_data"
    },
    {
     "name": "stdout",
     "output_type": "stream",
     "text": [
      "fold3\n"
     ]
    },
    {
     "data": {
      "text/plain": [
       "active\n",
       "train_0    216\n",
       "train_1      9\n",
       "Name: count, dtype: int64"
      ]
     },
     "metadata": {},
     "output_type": "display_data"
    },
    {
     "name": "stdout",
     "output_type": "stream",
     "text": [
      "fold4\n"
     ]
    },
    {
     "data": {
      "text/plain": [
       "active\n",
       "train_0    215\n",
       "train_1     10\n",
       "Name: count, dtype: int64"
      ]
     },
     "metadata": {},
     "output_type": "display_data"
    },
    {
     "name": "stdout",
     "output_type": "stream",
     "text": [
      "fold5\n"
     ]
    },
    {
     "data": {
      "text/plain": [
       "active\n",
       "train_0    215\n",
       "train_1     10\n",
       "Name: count, dtype: int64"
      ]
     },
     "metadata": {},
     "output_type": "display_data"
    },
    {
     "name": "stdout",
     "output_type": "stream",
     "text": [
      "\n"
     ]
    },
    {
     "data": {
      "application/javascript": [
       "\n",
       "        if (window._pyforest_update_imports_cell) { window._pyforest_update_imports_cell('import pandas as pd'); }\n",
       "    "
      ],
      "text/plain": [
       "<IPython.core.display.Javascript object>"
      ]
     },
     "metadata": {},
     "output_type": "display_data"
    },
    {
     "name": "stdout",
     "output_type": "stream",
     "text": [
      "NEK9_binding MOE UNDER\n",
      "fold1\n"
     ]
    },
    {
     "data": {
      "text/plain": [
       "active\n",
       "train_0    10\n",
       "train_1    10\n",
       "Name: count, dtype: int64"
      ]
     },
     "metadata": {},
     "output_type": "display_data"
    },
    {
     "name": "stdout",
     "output_type": "stream",
     "text": [
      "fold2\n"
     ]
    },
    {
     "data": {
      "text/plain": [
       "active\n",
       "train_0    10\n",
       "train_1     9\n",
       "Name: count, dtype: int64"
      ]
     },
     "metadata": {},
     "output_type": "display_data"
    },
    {
     "name": "stdout",
     "output_type": "stream",
     "text": [
      "fold3\n"
     ]
    },
    {
     "data": {
      "text/plain": [
       "active\n",
       "train_0    10\n",
       "train_1     9\n",
       "Name: count, dtype: int64"
      ]
     },
     "metadata": {},
     "output_type": "display_data"
    },
    {
     "name": "stdout",
     "output_type": "stream",
     "text": [
      "fold4\n"
     ]
    },
    {
     "data": {
      "text/plain": [
       "active\n",
       "train_1    10\n",
       "train_0     9\n",
       "Name: count, dtype: int64"
      ]
     },
     "metadata": {},
     "output_type": "display_data"
    },
    {
     "name": "stdout",
     "output_type": "stream",
     "text": [
      "fold5\n"
     ]
    },
    {
     "data": {
      "text/plain": [
       "active\n",
       "train_1    10\n",
       "train_0     9\n",
       "Name: count, dtype: int64"
      ]
     },
     "metadata": {},
     "output_type": "display_data"
    },
    {
     "name": "stdout",
     "output_type": "stream",
     "text": [
      "\n"
     ]
    },
    {
     "data": {
      "application/javascript": [
       "\n",
       "        if (window._pyforest_update_imports_cell) { window._pyforest_update_imports_cell('import pandas as pd'); }\n",
       "    "
      ],
      "text/plain": [
       "<IPython.core.display.Javascript object>"
      ]
     },
     "metadata": {},
     "output_type": "display_data"
    },
    {
     "name": "stdout",
     "output_type": "stream",
     "text": [
      "NEK9_binding MOE SMOTE\n",
      "fold1\n"
     ]
    },
    {
     "data": {
      "text/plain": [
       "active\n",
       "0_real         216\n",
       "1_synthetic    206\n",
       "1_real          10\n",
       "Name: count, dtype: int64"
      ]
     },
     "metadata": {},
     "output_type": "display_data"
    },
    {
     "name": "stdout",
     "output_type": "stream",
     "text": [
      "fold2\n"
     ]
    },
    {
     "data": {
      "text/plain": [
       "active\n",
       "0_real         216\n",
       "1_synthetic    206\n",
       "1_real           9\n",
       "Name: count, dtype: int64"
      ]
     },
     "metadata": {},
     "output_type": "display_data"
    },
    {
     "name": "stdout",
     "output_type": "stream",
     "text": [
      "fold3\n"
     ]
    },
    {
     "data": {
      "text/plain": [
       "active\n",
       "0_real         216\n",
       "1_synthetic    206\n",
       "1_real           9\n",
       "Name: count, dtype: int64"
      ]
     },
     "metadata": {},
     "output_type": "display_data"
    },
    {
     "name": "stdout",
     "output_type": "stream",
     "text": [
      "fold4\n"
     ]
    },
    {
     "data": {
      "text/plain": [
       "active\n",
       "0_real         215\n",
       "1_synthetic    206\n",
       "1_real          10\n",
       "Name: count, dtype: int64"
      ]
     },
     "metadata": {},
     "output_type": "display_data"
    },
    {
     "name": "stdout",
     "output_type": "stream",
     "text": [
      "fold5\n"
     ]
    },
    {
     "data": {
      "text/plain": [
       "active\n",
       "0_real         215\n",
       "1_synthetic    206\n",
       "1_real          10\n",
       "Name: count, dtype: int64"
      ]
     },
     "metadata": {},
     "output_type": "display_data"
    },
    {
     "name": "stdout",
     "output_type": "stream",
     "text": [
      "\n"
     ]
    },
    {
     "data": {
      "application/javascript": [
       "\n",
       "        if (window._pyforest_update_imports_cell) { window._pyforest_update_imports_cell('import pandas as pd'); }\n",
       "    "
      ],
      "text/plain": [
       "<IPython.core.display.Javascript object>"
      ]
     },
     "metadata": {},
     "output_type": "display_data"
    },
    {
     "name": "stdout",
     "output_type": "stream",
     "text": [
      "NEK9_binding MOE ADASYN\n",
      "fold1\n"
     ]
    },
    {
     "data": {
      "text/plain": [
       "active\n",
       "0_real         216\n",
       "1_synthetic    207\n",
       "1_real          10\n",
       "Name: count, dtype: int64"
      ]
     },
     "metadata": {},
     "output_type": "display_data"
    },
    {
     "name": "stdout",
     "output_type": "stream",
     "text": [
      "fold2\n"
     ]
    },
    {
     "data": {
      "text/plain": [
       "active\n",
       "0_real         216\n",
       "1_synthetic    207\n",
       "1_real           9\n",
       "Name: count, dtype: int64"
      ]
     },
     "metadata": {},
     "output_type": "display_data"
    },
    {
     "name": "stdout",
     "output_type": "stream",
     "text": [
      "fold3\n"
     ]
    },
    {
     "data": {
      "text/plain": [
       "active\n",
       "0_real         216\n",
       "1_synthetic    207\n",
       "1_real           9\n",
       "Name: count, dtype: int64"
      ]
     },
     "metadata": {},
     "output_type": "display_data"
    },
    {
     "name": "stdout",
     "output_type": "stream",
     "text": [
      "fold4\n"
     ]
    },
    {
     "data": {
      "text/plain": [
       "active\n",
       "0_real         215\n",
       "1_synthetic    207\n",
       "1_real          10\n",
       "Name: count, dtype: int64"
      ]
     },
     "metadata": {},
     "output_type": "display_data"
    },
    {
     "name": "stdout",
     "output_type": "stream",
     "text": [
      "fold5\n"
     ]
    },
    {
     "data": {
      "text/plain": [
       "active\n",
       "0_real         215\n",
       "1_synthetic    207\n",
       "1_real          10\n",
       "Name: count, dtype: int64"
      ]
     },
     "metadata": {},
     "output_type": "display_data"
    },
    {
     "name": "stdout",
     "output_type": "stream",
     "text": [
      "\n"
     ]
    },
    {
     "data": {
      "application/javascript": [
       "\n",
       "        if (window._pyforest_update_imports_cell) { window._pyforest_update_imports_cell('import pandas as pd'); }\n",
       "    "
      ],
      "text/plain": [
       "<IPython.core.display.Javascript object>"
      ]
     },
     "metadata": {},
     "output_type": "display_data"
    },
    {
     "name": "stdout",
     "output_type": "stream",
     "text": [
      "NEK9_binding MFP none_scaled\n",
      "fold1\n"
     ]
    },
    {
     "data": {
      "text/plain": [
       "active\n",
       "train_0    216\n",
       "train_1     10\n",
       "Name: count, dtype: int64"
      ]
     },
     "metadata": {},
     "output_type": "display_data"
    },
    {
     "name": "stdout",
     "output_type": "stream",
     "text": [
      "fold2\n"
     ]
    },
    {
     "data": {
      "text/plain": [
       "active\n",
       "train_0    216\n",
       "train_1      9\n",
       "Name: count, dtype: int64"
      ]
     },
     "metadata": {},
     "output_type": "display_data"
    },
    {
     "name": "stdout",
     "output_type": "stream",
     "text": [
      "fold3\n"
     ]
    },
    {
     "data": {
      "text/plain": [
       "active\n",
       "train_0    216\n",
       "train_1      9\n",
       "Name: count, dtype: int64"
      ]
     },
     "metadata": {},
     "output_type": "display_data"
    },
    {
     "name": "stdout",
     "output_type": "stream",
     "text": [
      "fold4\n"
     ]
    },
    {
     "data": {
      "text/plain": [
       "active\n",
       "train_0    215\n",
       "train_1     10\n",
       "Name: count, dtype: int64"
      ]
     },
     "metadata": {},
     "output_type": "display_data"
    },
    {
     "name": "stdout",
     "output_type": "stream",
     "text": [
      "fold5\n"
     ]
    },
    {
     "data": {
      "text/plain": [
       "active\n",
       "train_0    215\n",
       "train_1     10\n",
       "Name: count, dtype: int64"
      ]
     },
     "metadata": {},
     "output_type": "display_data"
    },
    {
     "name": "stdout",
     "output_type": "stream",
     "text": [
      "\n"
     ]
    },
    {
     "data": {
      "application/javascript": [
       "\n",
       "        if (window._pyforest_update_imports_cell) { window._pyforest_update_imports_cell('import pandas as pd'); }\n",
       "    "
      ],
      "text/plain": [
       "<IPython.core.display.Javascript object>"
      ]
     },
     "metadata": {},
     "output_type": "display_data"
    },
    {
     "name": "stdout",
     "output_type": "stream",
     "text": [
      "NEK9_binding MFP UNDER\n",
      "fold1\n"
     ]
    },
    {
     "data": {
      "text/plain": [
       "active\n",
       "train_0    10\n",
       "train_1    10\n",
       "Name: count, dtype: int64"
      ]
     },
     "metadata": {},
     "output_type": "display_data"
    },
    {
     "name": "stdout",
     "output_type": "stream",
     "text": [
      "fold2\n"
     ]
    },
    {
     "data": {
      "text/plain": [
       "active\n",
       "train_0    10\n",
       "train_1     9\n",
       "Name: count, dtype: int64"
      ]
     },
     "metadata": {},
     "output_type": "display_data"
    },
    {
     "name": "stdout",
     "output_type": "stream",
     "text": [
      "fold3\n"
     ]
    },
    {
     "data": {
      "text/plain": [
       "active\n",
       "train_0    10\n",
       "train_1     9\n",
       "Name: count, dtype: int64"
      ]
     },
     "metadata": {},
     "output_type": "display_data"
    },
    {
     "name": "stdout",
     "output_type": "stream",
     "text": [
      "fold4\n"
     ]
    },
    {
     "data": {
      "text/plain": [
       "active\n",
       "train_1    10\n",
       "train_0     9\n",
       "Name: count, dtype: int64"
      ]
     },
     "metadata": {},
     "output_type": "display_data"
    },
    {
     "name": "stdout",
     "output_type": "stream",
     "text": [
      "fold5\n"
     ]
    },
    {
     "data": {
      "text/plain": [
       "active\n",
       "train_1    10\n",
       "train_0     9\n",
       "Name: count, dtype: int64"
      ]
     },
     "metadata": {},
     "output_type": "display_data"
    },
    {
     "name": "stdout",
     "output_type": "stream",
     "text": [
      "\n"
     ]
    },
    {
     "data": {
      "application/javascript": [
       "\n",
       "        if (window._pyforest_update_imports_cell) { window._pyforest_update_imports_cell('import pandas as pd'); }\n",
       "    "
      ],
      "text/plain": [
       "<IPython.core.display.Javascript object>"
      ]
     },
     "metadata": {},
     "output_type": "display_data"
    },
    {
     "name": "stdout",
     "output_type": "stream",
     "text": [
      "NEK9_binding MFP SMOTE\n",
      "fold1\n"
     ]
    },
    {
     "data": {
      "text/plain": [
       "active\n",
       "0_real         216\n",
       "1_synthetic    206\n",
       "1_real          10\n",
       "Name: count, dtype: int64"
      ]
     },
     "metadata": {},
     "output_type": "display_data"
    },
    {
     "name": "stdout",
     "output_type": "stream",
     "text": [
      "fold2\n"
     ]
    },
    {
     "data": {
      "text/plain": [
       "active\n",
       "0_real         216\n",
       "1_synthetic    206\n",
       "1_real           9\n",
       "Name: count, dtype: int64"
      ]
     },
     "metadata": {},
     "output_type": "display_data"
    },
    {
     "name": "stdout",
     "output_type": "stream",
     "text": [
      "fold3\n"
     ]
    },
    {
     "data": {
      "text/plain": [
       "active\n",
       "0_real         216\n",
       "1_synthetic    206\n",
       "1_real           9\n",
       "Name: count, dtype: int64"
      ]
     },
     "metadata": {},
     "output_type": "display_data"
    },
    {
     "name": "stdout",
     "output_type": "stream",
     "text": [
      "fold4\n"
     ]
    },
    {
     "data": {
      "text/plain": [
       "active\n",
       "0_real         215\n",
       "1_synthetic    206\n",
       "1_real          10\n",
       "Name: count, dtype: int64"
      ]
     },
     "metadata": {},
     "output_type": "display_data"
    },
    {
     "name": "stdout",
     "output_type": "stream",
     "text": [
      "fold5\n"
     ]
    },
    {
     "data": {
      "text/plain": [
       "active\n",
       "0_real         215\n",
       "1_synthetic    206\n",
       "1_real          10\n",
       "Name: count, dtype: int64"
      ]
     },
     "metadata": {},
     "output_type": "display_data"
    },
    {
     "name": "stdout",
     "output_type": "stream",
     "text": [
      "\n"
     ]
    },
    {
     "data": {
      "application/javascript": [
       "\n",
       "        if (window._pyforest_update_imports_cell) { window._pyforest_update_imports_cell('import pandas as pd'); }\n",
       "    "
      ],
      "text/plain": [
       "<IPython.core.display.Javascript object>"
      ]
     },
     "metadata": {},
     "output_type": "display_data"
    },
    {
     "name": "stdout",
     "output_type": "stream",
     "text": [
      "NEK9_binding MFP ADASYN\n",
      "fold1\n"
     ]
    },
    {
     "data": {
      "text/plain": [
       "active\n",
       "0_real         216\n",
       "1_synthetic    206\n",
       "1_real          10\n",
       "Name: count, dtype: int64"
      ]
     },
     "metadata": {},
     "output_type": "display_data"
    },
    {
     "name": "stdout",
     "output_type": "stream",
     "text": [
      "fold2\n"
     ]
    },
    {
     "data": {
      "text/plain": [
       "active\n",
       "0_real         216\n",
       "1_synthetic    207\n",
       "1_real           9\n",
       "Name: count, dtype: int64"
      ]
     },
     "metadata": {},
     "output_type": "display_data"
    },
    {
     "name": "stdout",
     "output_type": "stream",
     "text": [
      "fold3\n"
     ]
    },
    {
     "data": {
      "text/plain": [
       "active\n",
       "0_real         216\n",
       "1_synthetic    207\n",
       "1_real           9\n",
       "Name: count, dtype: int64"
      ]
     },
     "metadata": {},
     "output_type": "display_data"
    },
    {
     "name": "stdout",
     "output_type": "stream",
     "text": [
      "fold4\n"
     ]
    },
    {
     "data": {
      "text/plain": [
       "active\n",
       "0_real         215\n",
       "1_synthetic    207\n",
       "1_real          10\n",
       "Name: count, dtype: int64"
      ]
     },
     "metadata": {},
     "output_type": "display_data"
    },
    {
     "name": "stdout",
     "output_type": "stream",
     "text": [
      "fold5\n"
     ]
    },
    {
     "data": {
      "text/plain": [
       "active\n",
       "0_real         215\n",
       "1_synthetic    206\n",
       "1_real          10\n",
       "Name: count, dtype: int64"
      ]
     },
     "metadata": {},
     "output_type": "display_data"
    },
    {
     "name": "stdout",
     "output_type": "stream",
     "text": [
      "\n"
     ]
    },
    {
     "data": {
      "application/javascript": [
       "\n",
       "        if (window._pyforest_update_imports_cell) { window._pyforest_update_imports_cell('import pandas as pd'); }\n",
       "    "
      ],
      "text/plain": [
       "<IPython.core.display.Javascript object>"
      ]
     },
     "metadata": {},
     "output_type": "display_data"
    },
    {
     "name": "stdout",
     "output_type": "stream",
     "text": [
      "NEK9_inhibition MOE none_scaled\n",
      "fold1\n"
     ]
    },
    {
     "data": {
      "text/plain": [
       "active\n",
       "train_0    56\n",
       "train_1     7\n",
       "Name: count, dtype: int64"
      ]
     },
     "metadata": {},
     "output_type": "display_data"
    },
    {
     "name": "stdout",
     "output_type": "stream",
     "text": [
      "fold2\n"
     ]
    },
    {
     "data": {
      "text/plain": [
       "active\n",
       "train_0    56\n",
       "train_1     7\n",
       "Name: count, dtype: int64"
      ]
     },
     "metadata": {},
     "output_type": "display_data"
    },
    {
     "name": "stdout",
     "output_type": "stream",
     "text": [
      "fold3\n"
     ]
    },
    {
     "data": {
      "text/plain": [
       "active\n",
       "train_0    56\n",
       "train_1     7\n",
       "Name: count, dtype: int64"
      ]
     },
     "metadata": {},
     "output_type": "display_data"
    },
    {
     "name": "stdout",
     "output_type": "stream",
     "text": [
      "fold4\n"
     ]
    },
    {
     "data": {
      "text/plain": [
       "active\n",
       "train_0    56\n",
       "train_1     6\n",
       "Name: count, dtype: int64"
      ]
     },
     "metadata": {},
     "output_type": "display_data"
    },
    {
     "name": "stdout",
     "output_type": "stream",
     "text": [
      "fold5\n"
     ]
    },
    {
     "data": {
      "text/plain": [
       "active\n",
       "train_0    56\n",
       "train_1     6\n",
       "Name: count, dtype: int64"
      ]
     },
     "metadata": {},
     "output_type": "display_data"
    },
    {
     "name": "stdout",
     "output_type": "stream",
     "text": [
      "\n"
     ]
    },
    {
     "data": {
      "application/javascript": [
       "\n",
       "        if (window._pyforest_update_imports_cell) { window._pyforest_update_imports_cell('import pandas as pd'); }\n",
       "    "
      ],
      "text/plain": [
       "<IPython.core.display.Javascript object>"
      ]
     },
     "metadata": {},
     "output_type": "display_data"
    },
    {
     "name": "stdout",
     "output_type": "stream",
     "text": [
      "NEK9_inhibition MOE UNDER\n",
      "fold1\n"
     ]
    },
    {
     "data": {
      "text/plain": [
       "active\n",
       "train_0    7\n",
       "train_1    7\n",
       "Name: count, dtype: int64"
      ]
     },
     "metadata": {},
     "output_type": "display_data"
    },
    {
     "name": "stdout",
     "output_type": "stream",
     "text": [
      "fold2\n"
     ]
    },
    {
     "data": {
      "text/plain": [
       "active\n",
       "train_0    7\n",
       "train_1    6\n",
       "Name: count, dtype: int64"
      ]
     },
     "metadata": {},
     "output_type": "display_data"
    },
    {
     "name": "stdout",
     "output_type": "stream",
     "text": [
      "fold3\n"
     ]
    },
    {
     "data": {
      "text/plain": [
       "active\n",
       "train_0    7\n",
       "train_1    6\n",
       "Name: count, dtype: int64"
      ]
     },
     "metadata": {},
     "output_type": "display_data"
    },
    {
     "name": "stdout",
     "output_type": "stream",
     "text": [
      "fold4\n"
     ]
    },
    {
     "data": {
      "text/plain": [
       "active\n",
       "train_1    7\n",
       "train_0    6\n",
       "Name: count, dtype: int64"
      ]
     },
     "metadata": {},
     "output_type": "display_data"
    },
    {
     "name": "stdout",
     "output_type": "stream",
     "text": [
      "fold5\n"
     ]
    },
    {
     "data": {
      "text/plain": [
       "active\n",
       "train_1    7\n",
       "train_0    6\n",
       "Name: count, dtype: int64"
      ]
     },
     "metadata": {},
     "output_type": "display_data"
    },
    {
     "name": "stdout",
     "output_type": "stream",
     "text": [
      "\n"
     ]
    },
    {
     "data": {
      "application/javascript": [
       "\n",
       "        if (window._pyforest_update_imports_cell) { window._pyforest_update_imports_cell('import pandas as pd'); }\n",
       "    "
      ],
      "text/plain": [
       "<IPython.core.display.Javascript object>"
      ]
     },
     "metadata": {},
     "output_type": "display_data"
    },
    {
     "name": "stdout",
     "output_type": "stream",
     "text": [
      "NEK9_inhibition MOE SMOTE\n",
      "fold1\n"
     ]
    },
    {
     "data": {
      "text/plain": [
       "active\n",
       "0_real         56\n",
       "1_synthetic    49\n",
       "1_real          7\n",
       "Name: count, dtype: int64"
      ]
     },
     "metadata": {},
     "output_type": "display_data"
    },
    {
     "name": "stdout",
     "output_type": "stream",
     "text": [
      "fold2\n"
     ]
    },
    {
     "data": {
      "text/plain": [
       "active\n",
       "0_real         56\n",
       "1_synthetic    49\n",
       "1_real          7\n",
       "Name: count, dtype: int64"
      ]
     },
     "metadata": {},
     "output_type": "display_data"
    },
    {
     "name": "stdout",
     "output_type": "stream",
     "text": [
      "fold3\n"
     ]
    },
    {
     "data": {
      "text/plain": [
       "active\n",
       "0_real         56\n",
       "1_synthetic    49\n",
       "1_real          7\n",
       "Name: count, dtype: int64"
      ]
     },
     "metadata": {},
     "output_type": "display_data"
    },
    {
     "name": "stdout",
     "output_type": "stream",
     "text": [
      "fold4\n"
     ]
    },
    {
     "data": {
      "text/plain": [
       "active\n",
       "0_real         56\n",
       "1_synthetic    50\n",
       "1_real          6\n",
       "Name: count, dtype: int64"
      ]
     },
     "metadata": {},
     "output_type": "display_data"
    },
    {
     "name": "stdout",
     "output_type": "stream",
     "text": [
      "fold5\n"
     ]
    },
    {
     "data": {
      "text/plain": [
       "active\n",
       "0_real         56\n",
       "1_synthetic    50\n",
       "1_real          6\n",
       "Name: count, dtype: int64"
      ]
     },
     "metadata": {},
     "output_type": "display_data"
    },
    {
     "name": "stdout",
     "output_type": "stream",
     "text": [
      "\n"
     ]
    },
    {
     "data": {
      "application/javascript": [
       "\n",
       "        if (window._pyforest_update_imports_cell) { window._pyforest_update_imports_cell('import pandas as pd'); }\n",
       "    "
      ],
      "text/plain": [
       "<IPython.core.display.Javascript object>"
      ]
     },
     "metadata": {},
     "output_type": "display_data"
    },
    {
     "name": "stdout",
     "output_type": "stream",
     "text": [
      "NEK9_inhibition MOE ADASYN\n",
      "fold1\n"
     ]
    },
    {
     "data": {
      "text/plain": [
       "active\n",
       "0_real         56\n",
       "1_synthetic    48\n",
       "1_real          7\n",
       "Name: count, dtype: int64"
      ]
     },
     "metadata": {},
     "output_type": "display_data"
    },
    {
     "name": "stdout",
     "output_type": "stream",
     "text": [
      "fold2\n"
     ]
    },
    {
     "data": {
      "text/plain": [
       "active\n",
       "0_real         56\n",
       "1_synthetic    48\n",
       "1_real          7\n",
       "Name: count, dtype: int64"
      ]
     },
     "metadata": {},
     "output_type": "display_data"
    },
    {
     "name": "stdout",
     "output_type": "stream",
     "text": [
      "fold3\n"
     ]
    },
    {
     "data": {
      "text/plain": [
       "active\n",
       "0_real         56\n",
       "1_synthetic    48\n",
       "1_real          7\n",
       "Name: count, dtype: int64"
      ]
     },
     "metadata": {},
     "output_type": "display_data"
    },
    {
     "name": "stdout",
     "output_type": "stream",
     "text": [
      "fold4\n"
     ]
    },
    {
     "data": {
      "text/plain": [
       "active\n",
       "0_real         56\n",
       "1_synthetic    49\n",
       "1_real          6\n",
       "Name: count, dtype: int64"
      ]
     },
     "metadata": {},
     "output_type": "display_data"
    },
    {
     "name": "stdout",
     "output_type": "stream",
     "text": [
      "fold5\n"
     ]
    },
    {
     "data": {
      "text/plain": [
       "active\n",
       "0_real         56\n",
       "1_synthetic    49\n",
       "1_real          6\n",
       "Name: count, dtype: int64"
      ]
     },
     "metadata": {},
     "output_type": "display_data"
    },
    {
     "name": "stdout",
     "output_type": "stream",
     "text": [
      "\n"
     ]
    },
    {
     "data": {
      "application/javascript": [
       "\n",
       "        if (window._pyforest_update_imports_cell) { window._pyforest_update_imports_cell('import pandas as pd'); }\n",
       "    "
      ],
      "text/plain": [
       "<IPython.core.display.Javascript object>"
      ]
     },
     "metadata": {},
     "output_type": "display_data"
    },
    {
     "name": "stdout",
     "output_type": "stream",
     "text": [
      "NEK9_inhibition MFP none_scaled\n",
      "fold1\n"
     ]
    },
    {
     "data": {
      "text/plain": [
       "active\n",
       "train_0    56\n",
       "train_1     7\n",
       "Name: count, dtype: int64"
      ]
     },
     "metadata": {},
     "output_type": "display_data"
    },
    {
     "name": "stdout",
     "output_type": "stream",
     "text": [
      "fold2\n"
     ]
    },
    {
     "data": {
      "text/plain": [
       "active\n",
       "train_0    56\n",
       "train_1     7\n",
       "Name: count, dtype: int64"
      ]
     },
     "metadata": {},
     "output_type": "display_data"
    },
    {
     "name": "stdout",
     "output_type": "stream",
     "text": [
      "fold3\n"
     ]
    },
    {
     "data": {
      "text/plain": [
       "active\n",
       "train_0    56\n",
       "train_1     7\n",
       "Name: count, dtype: int64"
      ]
     },
     "metadata": {},
     "output_type": "display_data"
    },
    {
     "name": "stdout",
     "output_type": "stream",
     "text": [
      "fold4\n"
     ]
    },
    {
     "data": {
      "text/plain": [
       "active\n",
       "train_0    56\n",
       "train_1     6\n",
       "Name: count, dtype: int64"
      ]
     },
     "metadata": {},
     "output_type": "display_data"
    },
    {
     "name": "stdout",
     "output_type": "stream",
     "text": [
      "fold5\n"
     ]
    },
    {
     "data": {
      "text/plain": [
       "active\n",
       "train_0    56\n",
       "train_1     6\n",
       "Name: count, dtype: int64"
      ]
     },
     "metadata": {},
     "output_type": "display_data"
    },
    {
     "name": "stdout",
     "output_type": "stream",
     "text": [
      "\n"
     ]
    },
    {
     "data": {
      "application/javascript": [
       "\n",
       "        if (window._pyforest_update_imports_cell) { window._pyforest_update_imports_cell('import pandas as pd'); }\n",
       "    "
      ],
      "text/plain": [
       "<IPython.core.display.Javascript object>"
      ]
     },
     "metadata": {},
     "output_type": "display_data"
    },
    {
     "name": "stdout",
     "output_type": "stream",
     "text": [
      "NEK9_inhibition MFP UNDER\n",
      "fold1\n"
     ]
    },
    {
     "data": {
      "text/plain": [
       "active\n",
       "train_0    7\n",
       "train_1    7\n",
       "Name: count, dtype: int64"
      ]
     },
     "metadata": {},
     "output_type": "display_data"
    },
    {
     "name": "stdout",
     "output_type": "stream",
     "text": [
      "fold2\n"
     ]
    },
    {
     "data": {
      "text/plain": [
       "active\n",
       "train_0    7\n",
       "train_1    6\n",
       "Name: count, dtype: int64"
      ]
     },
     "metadata": {},
     "output_type": "display_data"
    },
    {
     "name": "stdout",
     "output_type": "stream",
     "text": [
      "fold3\n"
     ]
    },
    {
     "data": {
      "text/plain": [
       "active\n",
       "train_0    7\n",
       "train_1    6\n",
       "Name: count, dtype: int64"
      ]
     },
     "metadata": {},
     "output_type": "display_data"
    },
    {
     "name": "stdout",
     "output_type": "stream",
     "text": [
      "fold4\n"
     ]
    },
    {
     "data": {
      "text/plain": [
       "active\n",
       "train_1    7\n",
       "train_0    6\n",
       "Name: count, dtype: int64"
      ]
     },
     "metadata": {},
     "output_type": "display_data"
    },
    {
     "name": "stdout",
     "output_type": "stream",
     "text": [
      "fold5\n"
     ]
    },
    {
     "data": {
      "text/plain": [
       "active\n",
       "train_1    7\n",
       "train_0    6\n",
       "Name: count, dtype: int64"
      ]
     },
     "metadata": {},
     "output_type": "display_data"
    },
    {
     "name": "stdout",
     "output_type": "stream",
     "text": [
      "\n"
     ]
    },
    {
     "data": {
      "application/javascript": [
       "\n",
       "        if (window._pyforest_update_imports_cell) { window._pyforest_update_imports_cell('import pandas as pd'); }\n",
       "    "
      ],
      "text/plain": [
       "<IPython.core.display.Javascript object>"
      ]
     },
     "metadata": {},
     "output_type": "display_data"
    },
    {
     "name": "stdout",
     "output_type": "stream",
     "text": [
      "NEK9_inhibition MFP SMOTE\n",
      "fold1\n"
     ]
    },
    {
     "data": {
      "text/plain": [
       "active\n",
       "0_real         56\n",
       "1_synthetic    49\n",
       "1_real          7\n",
       "Name: count, dtype: int64"
      ]
     },
     "metadata": {},
     "output_type": "display_data"
    },
    {
     "name": "stdout",
     "output_type": "stream",
     "text": [
      "fold2\n"
     ]
    },
    {
     "data": {
      "text/plain": [
       "active\n",
       "0_real         56\n",
       "1_synthetic    49\n",
       "1_real          7\n",
       "Name: count, dtype: int64"
      ]
     },
     "metadata": {},
     "output_type": "display_data"
    },
    {
     "name": "stdout",
     "output_type": "stream",
     "text": [
      "fold3\n"
     ]
    },
    {
     "data": {
      "text/plain": [
       "active\n",
       "0_real         56\n",
       "1_synthetic    49\n",
       "1_real          7\n",
       "Name: count, dtype: int64"
      ]
     },
     "metadata": {},
     "output_type": "display_data"
    },
    {
     "name": "stdout",
     "output_type": "stream",
     "text": [
      "fold4\n"
     ]
    },
    {
     "data": {
      "text/plain": [
       "active\n",
       "0_real         56\n",
       "1_synthetic    50\n",
       "1_real          6\n",
       "Name: count, dtype: int64"
      ]
     },
     "metadata": {},
     "output_type": "display_data"
    },
    {
     "name": "stdout",
     "output_type": "stream",
     "text": [
      "fold5\n"
     ]
    },
    {
     "data": {
      "text/plain": [
       "active\n",
       "0_real         56\n",
       "1_synthetic    50\n",
       "1_real          6\n",
       "Name: count, dtype: int64"
      ]
     },
     "metadata": {},
     "output_type": "display_data"
    },
    {
     "name": "stdout",
     "output_type": "stream",
     "text": [
      "\n"
     ]
    },
    {
     "data": {
      "application/javascript": [
       "\n",
       "        if (window._pyforest_update_imports_cell) { window._pyforest_update_imports_cell('import pandas as pd'); }\n",
       "    "
      ],
      "text/plain": [
       "<IPython.core.display.Javascript object>"
      ]
     },
     "metadata": {},
     "output_type": "display_data"
    },
    {
     "name": "stdout",
     "output_type": "stream",
     "text": [
      "NEK9_inhibition MFP ADASYN\n",
      "fold1\n"
     ]
    },
    {
     "data": {
      "text/plain": [
       "active\n",
       "0_real         56\n",
       "1_synthetic    48\n",
       "1_real          7\n",
       "Name: count, dtype: int64"
      ]
     },
     "metadata": {},
     "output_type": "display_data"
    },
    {
     "name": "stdout",
     "output_type": "stream",
     "text": [
      "fold2\n"
     ]
    },
    {
     "data": {
      "text/plain": [
       "active\n",
       "0_real         56\n",
       "1_synthetic    47\n",
       "1_real          7\n",
       "Name: count, dtype: int64"
      ]
     },
     "metadata": {},
     "output_type": "display_data"
    },
    {
     "name": "stdout",
     "output_type": "stream",
     "text": [
      "fold3\n"
     ]
    },
    {
     "data": {
      "text/plain": [
       "active\n",
       "0_real         56\n",
       "1_synthetic    47\n",
       "1_real          7\n",
       "Name: count, dtype: int64"
      ]
     },
     "metadata": {},
     "output_type": "display_data"
    },
    {
     "name": "stdout",
     "output_type": "stream",
     "text": [
      "fold4\n"
     ]
    },
    {
     "data": {
      "text/plain": [
       "active\n",
       "0_real         56\n",
       "1_synthetic    48\n",
       "1_real          6\n",
       "Name: count, dtype: int64"
      ]
     },
     "metadata": {},
     "output_type": "display_data"
    },
    {
     "name": "stdout",
     "output_type": "stream",
     "text": [
      "fold5\n"
     ]
    },
    {
     "data": {
      "text/plain": [
       "active\n",
       "0_real         56\n",
       "1_synthetic    48\n",
       "1_real          6\n",
       "Name: count, dtype: int64"
      ]
     },
     "metadata": {},
     "output_type": "display_data"
    },
    {
     "name": "stdout",
     "output_type": "stream",
     "text": [
      "\n"
     ]
    }
   ],
   "source": [
    "folds=['fold1','fold2','fold3','fold4','fold5'] \n",
    "neks = ['NEK2_binding','NEK2_inhibition','NEK3_binding','NEK5_binding','NEK9_binding','NEK9_inhibition']\n",
    "kfold_path = '/Users/jayceepang/msse/capstone/atom2024/atom2024/notebooks/paper/datasets/80train_20test/k_fold/'\n",
    "all_neks = []\n",
    "fold1_actives = []\n",
    "fold2_actives = []\n",
    "fold3_actives=[]\n",
    "fold4_actives=[]\n",
    "fold5_actives=[] \n",
    "for nek in neks: \n",
    "    for feat in feats: \n",
    "        for samp in samplings: \n",
    "            print(f'{nek} {feat} {samp}')\n",
    "            df = pd.read_csv(f'{kfold_path}{nek}_{feat}_{samp}_kfold.csv')\n",
    "            for fold in folds: \n",
    "                fold_df=df[df['fold']==fold] \n",
    "                fold_size = fold_df.shape[0]\n",
    "                actives=fold_df[fold_df['active']==1] \n",
    "                \n",
    "                \n",
    "                \n",
    "                \n",
    "            # print(nek, feat, samp)\n",
    "            # if samp in ['SMOTE','ADASYN']:\n",
    "            #     df['source'] = df['base_rdkit_smiles'].apply(lambda x: 'synthetic' if 'synthetic' in str(x).lower() else 'real')\n",
    "            #     df['stratify_key'] = df['active'].astype(str) + \"_\" + df['source']\n",
    "            #     df['active']=df['stratify_key'] \n",
    "            #     df = df.drop(columns=['stratify_key','source'])\n",
    "            # else: \n",
    "            #     df['active'] = df['subset'].astype(str)+'_'+df['active'].astype(str)\n",
    "            # for fold in folds: \n",
    "            #     print(fold)\n",
    "            #     fold_df=df[df['fold']==fold] \n",
    "            #     display(fold_df['active'].value_counts())\n",
    "            print()"
   ]
  },
  {
   "cell_type": "markdown",
   "id": "09271b22-d627-4625-a9fc-274218e183db",
   "metadata": {},
   "source": [
    "# checking overlaps "
   ]
  },
  {
   "cell_type": "code",
   "execution_count": 47,
   "id": "d696f1f3-c99f-40a9-a212-73b0bcfecfbe",
   "metadata": {},
   "outputs": [
    {
     "name": "stdout",
     "output_type": "stream",
     "text": [
      "NEK 2 binding moe\n"
     ]
    },
    {
     "data": {
      "application/javascript": [
       "\n",
       "        if (window._pyforest_update_imports_cell) { window._pyforest_update_imports_cell('import pandas as pd'); }\n",
       "    "
      ],
      "text/plain": [
       "<IPython.core.display.Javascript object>"
      ]
     },
     "metadata": {},
     "output_type": "display_data"
    },
    {
     "data": {
      "application/javascript": [
       "\n",
       "        if (window._pyforest_update_imports_cell) { window._pyforest_update_imports_cell('import pandas as pd'); }\n",
       "    "
      ],
      "text/plain": [
       "<IPython.core.display.Javascript object>"
      ]
     },
     "metadata": {},
     "output_type": "display_data"
    },
    {
     "name": "stdout",
     "output_type": "stream",
     "text": [
      "old data test shape: (283, 311), new test: (283, 311)\n",
      "test mols in common: 51\n",
      "\n",
      "NEK 2 binding mfp\n"
     ]
    },
    {
     "data": {
      "application/javascript": [
       "\n",
       "        if (window._pyforest_update_imports_cell) { window._pyforest_update_imports_cell('import pandas as pd'); }\n",
       "    "
      ],
      "text/plain": [
       "<IPython.core.display.Javascript object>"
      ]
     },
     "metadata": {},
     "output_type": "display_data"
    },
    {
     "data": {
      "application/javascript": [
       "\n",
       "        if (window._pyforest_update_imports_cell) { window._pyforest_update_imports_cell('import pandas as pd'); }\n",
       "    "
      ],
      "text/plain": [
       "<IPython.core.display.Javascript object>"
      ]
     },
     "metadata": {},
     "output_type": "display_data"
    },
    {
     "name": "stdout",
     "output_type": "stream",
     "text": [
      "old data test shape: (283, 2053), new test: (283, 2053)\n",
      "test mols in common: 51\n",
      "\n",
      "NEK 2 inhibition moe\n"
     ]
    },
    {
     "data": {
      "application/javascript": [
       "\n",
       "        if (window._pyforest_update_imports_cell) { window._pyforest_update_imports_cell('import pandas as pd'); }\n",
       "    "
      ],
      "text/plain": [
       "<IPython.core.display.Javascript object>"
      ]
     },
     "metadata": {},
     "output_type": "display_data"
    },
    {
     "data": {
      "application/javascript": [
       "\n",
       "        if (window._pyforest_update_imports_cell) { window._pyforest_update_imports_cell('import pandas as pd'); }\n",
       "    "
      ],
      "text/plain": [
       "<IPython.core.display.Javascript object>"
      ]
     },
     "metadata": {},
     "output_type": "display_data"
    },
    {
     "name": "stdout",
     "output_type": "stream",
     "text": [
      "old data test shape: (408, 311), new test: (407, 311)\n",
      "test mols in common: 86\n",
      "\n",
      "NEK 2 inhibition mfp\n"
     ]
    },
    {
     "data": {
      "application/javascript": [
       "\n",
       "        if (window._pyforest_update_imports_cell) { window._pyforest_update_imports_cell('import pandas as pd'); }\n",
       "    "
      ],
      "text/plain": [
       "<IPython.core.display.Javascript object>"
      ]
     },
     "metadata": {},
     "output_type": "display_data"
    },
    {
     "data": {
      "application/javascript": [
       "\n",
       "        if (window._pyforest_update_imports_cell) { window._pyforest_update_imports_cell('import pandas as pd'); }\n",
       "    "
      ],
      "text/plain": [
       "<IPython.core.display.Javascript object>"
      ]
     },
     "metadata": {},
     "output_type": "display_data"
    },
    {
     "name": "stdout",
     "output_type": "stream",
     "text": [
      "old data test shape: (408, 2053), new test: (407, 2053)\n",
      "test mols in common: 86\n",
      "\n",
      "NEK 3 binding moe\n"
     ]
    },
    {
     "data": {
      "application/javascript": [
       "\n",
       "        if (window._pyforest_update_imports_cell) { window._pyforest_update_imports_cell('import pandas as pd'); }\n",
       "    "
      ],
      "text/plain": [
       "<IPython.core.display.Javascript object>"
      ]
     },
     "metadata": {},
     "output_type": "display_data"
    },
    {
     "data": {
      "application/javascript": [
       "\n",
       "        if (window._pyforest_update_imports_cell) { window._pyforest_update_imports_cell('import pandas as pd'); }\n",
       "    "
      ],
      "text/plain": [
       "<IPython.core.display.Javascript object>"
      ]
     },
     "metadata": {},
     "output_type": "display_data"
    },
    {
     "name": "stdout",
     "output_type": "stream",
     "text": [
      "old data test shape: (282, 311), new test: (282, 311)\n",
      "test mols in common: 57\n",
      "\n",
      "NEK 3 binding mfp\n"
     ]
    },
    {
     "data": {
      "application/javascript": [
       "\n",
       "        if (window._pyforest_update_imports_cell) { window._pyforest_update_imports_cell('import pandas as pd'); }\n",
       "    "
      ],
      "text/plain": [
       "<IPython.core.display.Javascript object>"
      ]
     },
     "metadata": {},
     "output_type": "display_data"
    },
    {
     "data": {
      "application/javascript": [
       "\n",
       "        if (window._pyforest_update_imports_cell) { window._pyforest_update_imports_cell('import pandas as pd'); }\n",
       "    "
      ],
      "text/plain": [
       "<IPython.core.display.Javascript object>"
      ]
     },
     "metadata": {},
     "output_type": "display_data"
    },
    {
     "name": "stdout",
     "output_type": "stream",
     "text": [
      "old data test shape: (282, 2053), new test: (282, 2053)\n",
      "test mols in common: 57\n",
      "\n",
      "NEK 5 binding moe\n"
     ]
    },
    {
     "data": {
      "application/javascript": [
       "\n",
       "        if (window._pyforest_update_imports_cell) { window._pyforest_update_imports_cell('import pandas as pd'); }\n",
       "    "
      ],
      "text/plain": [
       "<IPython.core.display.Javascript object>"
      ]
     },
     "metadata": {},
     "output_type": "display_data"
    },
    {
     "data": {
      "application/javascript": [
       "\n",
       "        if (window._pyforest_update_imports_cell) { window._pyforest_update_imports_cell('import pandas as pd'); }\n",
       "    "
      ],
      "text/plain": [
       "<IPython.core.display.Javascript object>"
      ]
     },
     "metadata": {},
     "output_type": "display_data"
    },
    {
     "name": "stdout",
     "output_type": "stream",
     "text": [
      "old data test shape: (248, 311), new test: (248, 311)\n",
      "test mols in common: 43\n",
      "\n",
      "NEK 5 binding mfp\n"
     ]
    },
    {
     "data": {
      "application/javascript": [
       "\n",
       "        if (window._pyforest_update_imports_cell) { window._pyforest_update_imports_cell('import pandas as pd'); }\n",
       "    "
      ],
      "text/plain": [
       "<IPython.core.display.Javascript object>"
      ]
     },
     "metadata": {},
     "output_type": "display_data"
    },
    {
     "data": {
      "application/javascript": [
       "\n",
       "        if (window._pyforest_update_imports_cell) { window._pyforest_update_imports_cell('import pandas as pd'); }\n",
       "    "
      ],
      "text/plain": [
       "<IPython.core.display.Javascript object>"
      ]
     },
     "metadata": {},
     "output_type": "display_data"
    },
    {
     "name": "stdout",
     "output_type": "stream",
     "text": [
      "old data test shape: (248, 2053), new test: (248, 2053)\n",
      "test mols in common: 43\n",
      "\n",
      "NEK 9 binding moe\n"
     ]
    },
    {
     "data": {
      "application/javascript": [
       "\n",
       "        if (window._pyforest_update_imports_cell) { window._pyforest_update_imports_cell('import pandas as pd'); }\n",
       "    "
      ],
      "text/plain": [
       "<IPython.core.display.Javascript object>"
      ]
     },
     "metadata": {},
     "output_type": "display_data"
    },
    {
     "data": {
      "application/javascript": [
       "\n",
       "        if (window._pyforest_update_imports_cell) { window._pyforest_update_imports_cell('import pandas as pd'); }\n",
       "    "
      ],
      "text/plain": [
       "<IPython.core.display.Javascript object>"
      ]
     },
     "metadata": {},
     "output_type": "display_data"
    },
    {
     "name": "stdout",
     "output_type": "stream",
     "text": [
      "old data test shape: (283, 311), new test: (283, 311)\n",
      "test mols in common: 55\n",
      "\n",
      "NEK 9 binding mfp\n"
     ]
    },
    {
     "data": {
      "application/javascript": [
       "\n",
       "        if (window._pyforest_update_imports_cell) { window._pyforest_update_imports_cell('import pandas as pd'); }\n",
       "    "
      ],
      "text/plain": [
       "<IPython.core.display.Javascript object>"
      ]
     },
     "metadata": {},
     "output_type": "display_data"
    },
    {
     "data": {
      "application/javascript": [
       "\n",
       "        if (window._pyforest_update_imports_cell) { window._pyforest_update_imports_cell('import pandas as pd'); }\n",
       "    "
      ],
      "text/plain": [
       "<IPython.core.display.Javascript object>"
      ]
     },
     "metadata": {},
     "output_type": "display_data"
    },
    {
     "name": "stdout",
     "output_type": "stream",
     "text": [
      "old data test shape: (283, 2053), new test: (283, 2053)\n",
      "test mols in common: 55\n",
      "\n",
      "NEK 9 inhibition moe\n"
     ]
    },
    {
     "data": {
      "application/javascript": [
       "\n",
       "        if (window._pyforest_update_imports_cell) { window._pyforest_update_imports_cell('import pandas as pd'); }\n",
       "    "
      ],
      "text/plain": [
       "<IPython.core.display.Javascript object>"
      ]
     },
     "metadata": {},
     "output_type": "display_data"
    },
    {
     "data": {
      "application/javascript": [
       "\n",
       "        if (window._pyforest_update_imports_cell) { window._pyforest_update_imports_cell('import pandas as pd'); }\n",
       "    "
      ],
      "text/plain": [
       "<IPython.core.display.Javascript object>"
      ]
     },
     "metadata": {},
     "output_type": "display_data"
    },
    {
     "name": "stdout",
     "output_type": "stream",
     "text": [
      "old data test shape: (80, 311), new test: (80, 311)\n",
      "test mols in common: 18\n",
      "\n",
      "NEK 9 inhibition mfp\n"
     ]
    },
    {
     "data": {
      "application/javascript": [
       "\n",
       "        if (window._pyforest_update_imports_cell) { window._pyforest_update_imports_cell('import pandas as pd'); }\n",
       "    "
      ],
      "text/plain": [
       "<IPython.core.display.Javascript object>"
      ]
     },
     "metadata": {},
     "output_type": "display_data"
    },
    {
     "data": {
      "application/javascript": [
       "\n",
       "        if (window._pyforest_update_imports_cell) { window._pyforest_update_imports_cell('import pandas as pd'); }\n",
       "    "
      ],
      "text/plain": [
       "<IPython.core.display.Javascript object>"
      ]
     },
     "metadata": {},
     "output_type": "display_data"
    },
    {
     "name": "stdout",
     "output_type": "stream",
     "text": [
      "old data test shape: (80, 2053), new test: (80, 2053)\n",
      "test mols in common: 18\n",
      "\n"
     ]
    }
   ],
   "source": [
    "\n",
    "og_dir ='/Users/jayceepang/msse/capstone/atom2024/atom2024/notebooks/NEK/'\n",
    "new_path ='/Users/jayceepang/msse/capstone/atom2024/atom2024/notebooks/paper/datasets/80train_20test/featurized/'\n",
    "neks = ['2','3','5','9']\n",
    "for i, nek in enumerate(neks):\n",
    "    if nek in ['2','9']: \n",
    "        bind_inhib = ['binding', 'inhibition']\n",
    "    else: \n",
    "        bind_inhib = ['binding'] \n",
    "    for bi in bind_inhib: \n",
    "        if bi == 'binding': \n",
    "            this_bi = 'bind'\n",
    "        else: \n",
    "            this_bi = 'inhib' \n",
    "        \n",
    "        og_path = f'{og_dir}NEK{nek}/{this_bi}/'\n",
    "        for feat in ['moe','mfp']: \n",
    "            print(f'NEK {nek} {bi} {feat}')\n",
    "            og_df = pd.read_csv(f'{og_path}NEK{nek}_{bi}_{feat}_scaled_df.csv')\n",
    "            new_df = pd.read_csv(f'{new_path}NEK{nek}_{bi}_{feat}_none_unscaled.csv')\n",
    "            og_df= og_df[og_df['subset']=='test'] \n",
    "            new_df=new_df[new_df['subset']=='test'] \n",
    "            print(f'old data test shape: {og_df.shape}, new test: {new_df.shape}')\n",
    "            og_set = set(og_df['base_rdkit_smiles'])\n",
    "            new_set = set(new_df['base_rdkit_smiles'])\n",
    "            same_mols=set(og_set.intersection(new_set))\n",
    "            print(f'test mols in common: {len(same_mols)}\\n')"
   ]
  },
  {
   "cell_type": "code",
   "execution_count": null,
   "id": "2a48de38-e4f0-419e-bce8-5402abb0e0a7",
   "metadata": {},
   "outputs": [],
   "source": []
  }
 ],
 "metadata": {
  "kernelspec": {
   "display_name": "atom2024",
   "language": "python",
   "name": "atom2024"
  },
  "language_info": {
   "codemirror_mode": {
    "name": "ipython",
    "version": 3
   },
   "file_extension": ".py",
   "mimetype": "text/x-python",
   "name": "python",
   "nbconvert_exporter": "python",
   "pygments_lexer": "ipython3",
   "version": "3.9.12"
  }
 },
 "nbformat": 4,
 "nbformat_minor": 5
}
