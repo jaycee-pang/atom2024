{
 "cells": [
  {
   "cell_type": "code",
   "execution_count": 1,
   "id": "0fda4751-efd7-47ce-a6d6-774804ebfb88",
   "metadata": {},
   "outputs": [],
   "source": [
    "import pyforest"
   ]
  },
  {
   "cell_type": "code",
   "execution_count": 2,
   "id": "1a92c45d-2034-40db-98d3-a080c632b192",
   "metadata": {},
   "outputs": [],
   "source": [
    "data_path = '../datasets/original_datasets/'"
   ]
  },
  {
   "cell_type": "code",
   "execution_count": 3,
   "id": "de099b35-06b5-4799-ad68-4c733501cb0b",
   "metadata": {},
   "outputs": [
    {
     "data": {
      "application/javascript": "\n        if (window._pyforest_update_imports_cell) { window._pyforest_update_imports_cell('import pandas as pd'); }\n    ",
      "text/plain": [
       "<IPython.core.display.Javascript object>"
      ]
     },
     "metadata": {},
     "output_type": "display_data"
    },
    {
     "data": {
      "text/html": [
       "<div>\n",
       "<style scoped>\n",
       "    .dataframe tbody tr th:only-of-type {\n",
       "        vertical-align: middle;\n",
       "    }\n",
       "\n",
       "    .dataframe tbody tr th {\n",
       "        vertical-align: top;\n",
       "    }\n",
       "\n",
       "    .dataframe thead th {\n",
       "        text-align: right;\n",
       "    }\n",
       "</style>\n",
       "<table border=\"1\" class=\"dataframe\">\n",
       "  <thead>\n",
       "    <tr style=\"text-align: right;\">\n",
       "      <th></th>\n",
       "      <th>target_name</th>\n",
       "      <th>compound_id</th>\n",
       "      <th>base_rdkit_smiles</th>\n",
       "      <th>pct_binding</th>\n",
       "      <th>active</th>\n",
       "    </tr>\n",
       "  </thead>\n",
       "  <tbody>\n",
       "    <tr>\n",
       "      <th>0</th>\n",
       "      <td>NEK2</td>\n",
       "      <td>kdb_10</td>\n",
       "      <td>CCS(=O)(=O)N1CC(CC#N)(n2cc(-c3ncnc4[nH]ccc34)c...</td>\n",
       "      <td>3.225806</td>\n",
       "      <td>0</td>\n",
       "    </tr>\n",
       "    <tr>\n",
       "      <th>1</th>\n",
       "      <td>NEK2</td>\n",
       "      <td>kdb_100</td>\n",
       "      <td>C[C@@H](Oc1cc(C(=O)Nc2ccc(C(=O)N3CCN(C)CC3)cc2...</td>\n",
       "      <td>3.225806</td>\n",
       "      <td>0</td>\n",
       "    </tr>\n",
       "    <tr>\n",
       "      <th>2</th>\n",
       "      <td>NEK2</td>\n",
       "      <td>kdb_1003</td>\n",
       "      <td>CC1(O)CC(c2nc(-c3ccc4ccc(-c5ccccc5)nc4c3)c3c(N...</td>\n",
       "      <td>5.000000</td>\n",
       "      <td>0</td>\n",
       "    </tr>\n",
       "    <tr>\n",
       "      <th>3</th>\n",
       "      <td>NEK2</td>\n",
       "      <td>kdb_101</td>\n",
       "      <td>COCC(=O)NC/C=C/c1ccc2ncnc(Nc3ccc(Oc4ccc(C)nc4)...</td>\n",
       "      <td>6.158358</td>\n",
       "      <td>0</td>\n",
       "    </tr>\n",
       "    <tr>\n",
       "      <th>4</th>\n",
       "      <td>NEK2</td>\n",
       "      <td>kdb_102</td>\n",
       "      <td>COC(=O)c1ccc2c(c1)NC(=O)/C2=C(\\Nc1ccc(N(C)C(=O...</td>\n",
       "      <td>6.158358</td>\n",
       "      <td>0</td>\n",
       "    </tr>\n",
       "    <tr>\n",
       "      <th>...</th>\n",
       "      <td>...</td>\n",
       "      <td>...</td>\n",
       "      <td>...</td>\n",
       "      <td>...</td>\n",
       "      <td>...</td>\n",
       "    </tr>\n",
       "    <tr>\n",
       "      <th>1403</th>\n",
       "      <td>NEK2</td>\n",
       "      <td>kdb_976</td>\n",
       "      <td>Oc1c2ccccc2c2c3c(cccc13)N=N2</td>\n",
       "      <td>9.090909</td>\n",
       "      <td>0</td>\n",
       "    </tr>\n",
       "    <tr>\n",
       "      <th>1404</th>\n",
       "      <td>NEK2</td>\n",
       "      <td>kdb_98</td>\n",
       "      <td>Cc1nc(Nc2n[nH]c3c2CN(C(=O)N[C@H](CN(C)C)c2cccc...</td>\n",
       "      <td>3.225806</td>\n",
       "      <td>0</td>\n",
       "    </tr>\n",
       "    <tr>\n",
       "      <th>1405</th>\n",
       "      <td>NEK2</td>\n",
       "      <td>kdb_980</td>\n",
       "      <td>Cc1cnc(-c2cnc(NCCNc3ccc(C#N)cn3)nc2-c2ccc(Cl)c...</td>\n",
       "      <td>85.000000</td>\n",
       "      <td>1</td>\n",
       "    </tr>\n",
       "    <tr>\n",
       "      <th>1406</th>\n",
       "      <td>NEK2</td>\n",
       "      <td>kdb_986</td>\n",
       "      <td>Nc1n[nH]c2nnc(-c3ccccc3)c(-c3ccccc3)c12</td>\n",
       "      <td>0.000000</td>\n",
       "      <td>0</td>\n",
       "    </tr>\n",
       "    <tr>\n",
       "      <th>1407</th>\n",
       "      <td>NEK2</td>\n",
       "      <td>kdb_99</td>\n",
       "      <td>C[C@@H](Oc1cc(-n2cnc3ccc(CN4CCN(C)CC4)cc32)sc1...</td>\n",
       "      <td>79.365079</td>\n",
       "      <td>1</td>\n",
       "    </tr>\n",
       "  </tbody>\n",
       "</table>\n",
       "<p>1408 rows × 5 columns</p>\n",
       "</div>"
      ],
      "text/plain": [
       "     target_name compound_id  \\\n",
       "0           NEK2      kdb_10   \n",
       "1           NEK2     kdb_100   \n",
       "2           NEK2    kdb_1003   \n",
       "3           NEK2     kdb_101   \n",
       "4           NEK2     kdb_102   \n",
       "...          ...         ...   \n",
       "1403        NEK2     kdb_976   \n",
       "1404        NEK2      kdb_98   \n",
       "1405        NEK2     kdb_980   \n",
       "1406        NEK2     kdb_986   \n",
       "1407        NEK2      kdb_99   \n",
       "\n",
       "                                      base_rdkit_smiles  pct_binding  active  \n",
       "0     CCS(=O)(=O)N1CC(CC#N)(n2cc(-c3ncnc4[nH]ccc34)c...     3.225806       0  \n",
       "1     C[C@@H](Oc1cc(C(=O)Nc2ccc(C(=O)N3CCN(C)CC3)cc2...     3.225806       0  \n",
       "2     CC1(O)CC(c2nc(-c3ccc4ccc(-c5ccccc5)nc4c3)c3c(N...     5.000000       0  \n",
       "3     COCC(=O)NC/C=C/c1ccc2ncnc(Nc3ccc(Oc4ccc(C)nc4)...     6.158358       0  \n",
       "4     COC(=O)c1ccc2c(c1)NC(=O)/C2=C(\\Nc1ccc(N(C)C(=O...     6.158358       0  \n",
       "...                                                 ...          ...     ...  \n",
       "1403                       Oc1c2ccccc2c2c3c(cccc13)N=N2     9.090909       0  \n",
       "1404  Cc1nc(Nc2n[nH]c3c2CN(C(=O)N[C@H](CN(C)C)c2cccc...     3.225806       0  \n",
       "1405  Cc1cnc(-c2cnc(NCCNc3ccc(C#N)cn3)nc2-c2ccc(Cl)c...    85.000000       1  \n",
       "1406            Nc1n[nH]c2nnc(-c3ccccc3)c(-c3ccccc3)c12     0.000000       0  \n",
       "1407  C[C@@H](Oc1cc(-n2cnc3ccc(CN4CCN(C)CC4)cc32)sc1...    79.365079       1  \n",
       "\n",
       "[1408 rows x 5 columns]"
      ]
     },
     "execution_count": 3,
     "metadata": {},
     "output_type": "execute_result"
    }
   ],
   "source": [
    "test = pd.read_csv(data_path+'NEK2_1_uM_min_50_pct_binding.csv')\n",
    "test"
   ]
  },
  {
   "cell_type": "code",
   "execution_count": 4,
   "id": "6c0999db-5c45-4f6a-a3d0-25e1b6c30ec6",
   "metadata": {},
   "outputs": [
    {
     "data": {
      "application/javascript": "\n        if (window._pyforest_update_imports_cell) { window._pyforest_update_imports_cell('import pandas as pd'); }\n    ",
      "text/plain": [
       "<IPython.core.display.Javascript object>"
      ]
     },
     "metadata": {},
     "output_type": "display_data"
    },
    {
     "name": "stdout",
     "output_type": "stream",
     "text": [
      "(2032, 5)\n"
     ]
    }
   ],
   "source": [
    "def check_labels(data_path, filename): \n",
    "\n",
    "  \n",
    "    df = pd.read_csv(data_path+filename)\n",
    "\n",
    "    pct_col = [col for col in df.columns if col.startswith('pct_')] \n",
    "    len(pct_col) == 1 \n",
    "    pct_col = pct_col[0]\n",
    "    invalid_labels = df[df['active']!= (df[pct_col]>=50).astype(int)]\n",
    "    if invalid_labels.empty: \n",
    "        # print(f'correct label assignment based on {pct_col} column')\n",
    "        pass\n",
    "    else: \n",
    "        print(f'Error on label assignement.')\n",
    "        print(invalid_labels)\n",
    "    # check for duplicates here \n",
    "    duplicates = df[df.duplicated()]\n",
    "    print(f'{df.shape}')\n",
    "    #duplicates = df[df.duplicated(subset=['base_rdkit_smiles'])]\n",
    "   \n",
    "    if not duplicates.empty:\n",
    "        print('Duplicate rows found:')\n",
    "        print(duplicates)\n",
    "        df_cleaned = df.drop_duplicates()\n",
    "        print(f'df size original: {df.shape}')\n",
    "        print(f'remove duplicates. {df_cleaned.shape}')\n",
    "check_labels(data_path,'NEK2_1_uM_min_50_pct_inhibition.csv')"
   ]
  },
  {
   "cell_type": "code",
   "execution_count": null,
   "id": "2d58f037",
   "metadata": {},
   "outputs": [],
   "source": []
  },
  {
   "cell_type": "code",
   "execution_count": null,
   "id": "61f433f7",
   "metadata": {},
   "outputs": [],
   "source": []
  },
  {
   "cell_type": "code",
   "execution_count": null,
   "id": "9fe79b29",
   "metadata": {},
   "outputs": [],
   "source": []
  },
  {
   "cell_type": "code",
   "execution_count": null,
   "id": "1a42e501",
   "metadata": {},
   "outputs": [],
   "source": []
  },
  {
   "cell_type": "code",
   "execution_count": null,
   "id": "22c841ae",
   "metadata": {},
   "outputs": [],
   "source": []
  },
  {
   "cell_type": "code",
   "execution_count": 5,
   "id": "3be712ad",
   "metadata": {},
   "outputs": [],
   "source": [
    "#create a dataset with folds\n",
    "\n",
    "# must specify filename because the 50pct binding and inhibition files differ\n",
    "# to-do: discuss how to do this --> this will create a file that is just this but with column specifying split\n",
    "#       do we want to already integrate a split_uuid like AMPL? \n",
    "#       additionally, we still have to use the splits to create the \"scaled df\" \n",
    "def remove_duplicates(datapath, filename):\n",
    "    df = pd.read_csv(f'{datapath}{filename}')\n",
    "    duplicates = df.duplicated(subset=['base_rdkit_smiles'])\n",
    "    if duplicates.any():\n",
    "        print('Duplicate rows found:')\n",
    "        print(df[duplicates])\n",
    "        df_cleaned = df.drop_duplicates(subset=['base_rdkit_smiles'])\n",
    "        print(f'df size original: {df.shape}')\n",
    "        print(f'Removed duplicates. New df size: {df_cleaned.shape}')\n",
    "    else: \n",
    "        df_cleaned = df\n",
    "    return df_cleaned\n",
    "    \n",
    "def create_folds(datapath, filename, k_splits): \n",
    "    \"\"\"filename: NEK#_1_uM_min_50_pct_(binding or inhibition).csv\"\"\"\n",
    "    df = remove_duplicates(datapath, filename)\n",
    "    # is this extra/too much and should we just assume what labels coincide with majority and minority? \n",
    "    # determine majority/minority class \n",
    "    #       AMPL takes in 'response column' \n",
    "    class_labels = df['active'].value_counts() \n",
    "    print(class_labels)\n",
    "    if len(class_labels)>1: \n",
    "        majority_class_label =class_labels.idxmax() \n",
    "        majority_num = class_labels.max() \n",
    "        minority_class_label = class_labels.idxmin()\n",
    "        minority_count = class_labels.min()\n",
    "    df_majority = df[df['active']==majority_class_label]\n",
    "    df_minority=df[df['active']==minority_class_label]\n",
    "    # copy to avoid warnings \n",
    "    df_majority = df_majority.copy()\n",
    "    df_minority = df_minority.copy()\n",
    "    kf = KFold(k_splits,shuffle=True, random_state=42)\n",
    "    # majority \n",
    "    for i, (_, v_ind) in enumerate(kf.split(df_majority)):\n",
    "        df_majority.loc[df_majority.index[v_ind], 'fold'] = f\"fold{i+1}\"\n",
    "    # minority \n",
    "    for i, (_, v_ind) in enumerate(kf.split(df_minority)):\n",
    "        df_minority.loc[df_minority.index[v_ind], 'fold'] = f\"fold{i+1}\"\n",
    "    all_fold_df = pd.concat([df_majority,df_minority])\n",
    "    \n",
    "    print(all_fold_df.shape)\n",
    "    print(all_fold_df.active.value_counts())\n",
    "    ## actually, this might be perfect jsut to save as \"split df\" because then \n",
    "    # in the next step of creating a dataset, you can choose what fold you want to be the test set \n",
    "    return all_fold_df\n",
    "        \n",
    "    "
   ]
  },
  {
   "cell_type": "code",
   "execution_count": 6,
   "id": "80b0b607",
   "metadata": {},
   "outputs": [
    {
     "ename": "SyntaxError",
     "evalue": "invalid syntax (2774517515.py, line 1)",
     "output_type": "error",
     "traceback": [
      "\u001b[0;36m  Cell \u001b[0;32mIn[6], line 1\u001b[0;36m\u001b[0m\n\u001b[0;31m    call in create_folds labeled with nek_folded\u001b[0m\n\u001b[0m                         ^\u001b[0m\n\u001b[0;31mSyntaxError\u001b[0m\u001b[0;31m:\u001b[0m invalid syntax\n"
     ]
    }
   ],
   "source": [
    "call in create_folds labeled with nek_folded \n",
    "    then call train_and__ to get full 80% train and do not touch 20% \n",
    "        then get 80% train and call create_folds\n",
    "            then send to a seperate directory call K-fold \n",
    "    \n",
    "in the the K-fold directory use the data that is folded called train___ \n",
    "    use to make train and test with each fold"
   ]
  },
  {
   "cell_type": "code",
   "execution_count": 16,
   "id": "c0819c7d",
   "metadata": {},
   "outputs": [],
   "source": [
    "def train_and__(data_path, fold_df, test_fold):\n",
    "   \"\"\"function to label 'train' or 'test' in the 'subset' column\n",
    "   to be used to create train/test OR train/val\n",
    "   fold_df: dataframe with column 'fold'\n",
    "   test_fold (str): fold to make the test set (the remaining folds will be train)\n",
    "   \"\"\"\n",
    "   df = pd.read_csv(data_path+fold_df) \n",
    "   df['subset'] = df['fold'].apply(lambda x: 'test' if x == test_fold else 'train')\n",
    "\n",
    "   return df[['NEK','compound_id', 'active', 'base_rdkit_smiles', 'subset']]\n",
    "\n"
   ]
  },
  {
   "cell_type": "code",
   "execution_count": 12,
   "id": "7a81fbbf",
   "metadata": {},
   "outputs": [
    {
     "data": {
      "application/javascript": "\n        if (window._pyforest_update_imports_cell) { window._pyforest_update_imports_cell('import pandas as pd\\nfrom sklearn.model_selection import KFold\\nimport re\\nimport os'); }\n    ",
      "text/plain": [
       "<IPython.core.display.Javascript object>"
      ]
     },
     "metadata": {},
     "output_type": "display_data"
    },
    {
     "data": {
      "application/javascript": "\n        if (window._pyforest_update_imports_cell) { window._pyforest_update_imports_cell('import pandas as pd\\nfrom sklearn.model_selection import KFold\\nimport re\\nimport os'); }\n    ",
      "text/plain": [
       "<IPython.core.display.Javascript object>"
      ]
     },
     "metadata": {},
     "output_type": "display_data"
    },
    {
     "name": "stdout",
     "output_type": "stream",
     "text": [
      "active\n",
      "0    351\n",
      "1     42\n",
      "Name: count, dtype: int64\n"
     ]
    },
    {
     "data": {
      "application/javascript": "\n        if (window._pyforest_update_imports_cell) { window._pyforest_update_imports_cell('import pandas as pd\\nfrom sklearn.model_selection import KFold\\nimport re\\nimport os'); }\n    ",
      "text/plain": [
       "<IPython.core.display.Javascript object>"
      ]
     },
     "metadata": {},
     "output_type": "display_data"
    },
    {
     "data": {
      "application/javascript": "\n        if (window._pyforest_update_imports_cell) { window._pyforest_update_imports_cell('import pandas as pd\\nfrom sklearn.model_selection import KFold\\nimport re\\nimport os'); }\n    ",
      "text/plain": [
       "<IPython.core.display.Javascript object>"
      ]
     },
     "metadata": {},
     "output_type": "display_data"
    },
    {
     "name": "stdout",
     "output_type": "stream",
     "text": [
      "(393, 6)\n",
      "active\n",
      "0    351\n",
      "1     42\n",
      "Name: count, dtype: int64\n"
     ]
    },
    {
     "data": {
      "application/javascript": "\n        if (window._pyforest_update_imports_cell) { window._pyforest_update_imports_cell('import pandas as pd\\nfrom sklearn.model_selection import KFold\\nimport re\\nimport os'); }\n    ",
      "text/plain": [
       "<IPython.core.display.Javascript object>"
      ]
     },
     "metadata": {},
     "output_type": "display_data"
    },
    {
     "name": "stdout",
     "output_type": "stream",
     "text": [
      "NEK9_inhibition\n"
     ]
    },
    {
     "data": {
      "application/javascript": "\n        if (window._pyforest_update_imports_cell) { window._pyforest_update_imports_cell('import pandas as pd\\nfrom sklearn.model_selection import KFold\\nimport re\\nimport os'); }\n    ",
      "text/plain": [
       "<IPython.core.display.Javascript object>"
      ]
     },
     "metadata": {},
     "output_type": "display_data"
    },
    {
     "name": "stdout",
     "output_type": "stream",
     "text": [
      "active\n",
      "0    1892\n",
      "1     140\n",
      "Name: count, dtype: int64\n"
     ]
    },
    {
     "data": {
      "application/javascript": "\n        if (window._pyforest_update_imports_cell) { window._pyforest_update_imports_cell('import pandas as pd\\nfrom sklearn.model_selection import KFold\\nimport re\\nimport os'); }\n    ",
      "text/plain": [
       "<IPython.core.display.Javascript object>"
      ]
     },
     "metadata": {},
     "output_type": "display_data"
    },
    {
     "data": {
      "application/javascript": "\n        if (window._pyforest_update_imports_cell) { window._pyforest_update_imports_cell('import pandas as pd\\nfrom sklearn.model_selection import KFold\\nimport re\\nimport os'); }\n    ",
      "text/plain": [
       "<IPython.core.display.Javascript object>"
      ]
     },
     "metadata": {},
     "output_type": "display_data"
    },
    {
     "name": "stdout",
     "output_type": "stream",
     "text": [
      "(2032, 6)\n",
      "active\n",
      "0    1892\n",
      "1     140\n",
      "Name: count, dtype: int64\n"
     ]
    },
    {
     "data": {
      "application/javascript": "\n        if (window._pyforest_update_imports_cell) { window._pyforest_update_imports_cell('import pandas as pd\\nfrom sklearn.model_selection import KFold\\nimport re\\nimport os'); }\n    ",
      "text/plain": [
       "<IPython.core.display.Javascript object>"
      ]
     },
     "metadata": {},
     "output_type": "display_data"
    },
    {
     "name": "stdout",
     "output_type": "stream",
     "text": [
      "NEK2_inhibition\n"
     ]
    },
    {
     "data": {
      "application/javascript": "\n        if (window._pyforest_update_imports_cell) { window._pyforest_update_imports_cell('import pandas as pd\\nfrom sklearn.model_selection import KFold\\nimport re\\nimport os'); }\n    ",
      "text/plain": [
       "<IPython.core.display.Javascript object>"
      ]
     },
     "metadata": {},
     "output_type": "display_data"
    },
    {
     "name": "stdout",
     "output_type": "stream",
     "text": [
      "active\n",
      "0    1140\n",
      "1      97\n",
      "Name: count, dtype: int64\n"
     ]
    },
    {
     "data": {
      "application/javascript": "\n        if (window._pyforest_update_imports_cell) { window._pyforest_update_imports_cell('import pandas as pd\\nfrom sklearn.model_selection import KFold\\nimport re\\nimport os'); }\n    ",
      "text/plain": [
       "<IPython.core.display.Javascript object>"
      ]
     },
     "metadata": {},
     "output_type": "display_data"
    },
    {
     "data": {
      "application/javascript": "\n        if (window._pyforest_update_imports_cell) { window._pyforest_update_imports_cell('import pandas as pd\\nfrom sklearn.model_selection import KFold\\nimport re\\nimport os'); }\n    ",
      "text/plain": [
       "<IPython.core.display.Javascript object>"
      ]
     },
     "metadata": {},
     "output_type": "display_data"
    },
    {
     "name": "stdout",
     "output_type": "stream",
     "text": [
      "(1237, 6)\n",
      "active\n",
      "0    1140\n",
      "1      97\n",
      "Name: count, dtype: int64\n"
     ]
    },
    {
     "data": {
      "application/javascript": "\n        if (window._pyforest_update_imports_cell) { window._pyforest_update_imports_cell('import pandas as pd\\nfrom sklearn.model_selection import KFold\\nimport re\\nimport os'); }\n    ",
      "text/plain": [
       "<IPython.core.display.Javascript object>"
      ]
     },
     "metadata": {},
     "output_type": "display_data"
    },
    {
     "name": "stdout",
     "output_type": "stream",
     "text": [
      "NEK5_binding\n"
     ]
    },
    {
     "data": {
      "application/javascript": "\n        if (window._pyforest_update_imports_cell) { window._pyforest_update_imports_cell('import pandas as pd\\nfrom sklearn.model_selection import KFold\\nimport re\\nimport os'); }\n    ",
      "text/plain": [
       "<IPython.core.display.Javascript object>"
      ]
     },
     "metadata": {},
     "output_type": "display_data"
    },
    {
     "name": "stdout",
     "output_type": "stream",
     "text": [
      "active\n",
      "0    1348\n",
      "1      61\n",
      "Name: count, dtype: int64\n"
     ]
    },
    {
     "data": {
      "application/javascript": "\n        if (window._pyforest_update_imports_cell) { window._pyforest_update_imports_cell('import pandas as pd\\nfrom sklearn.model_selection import KFold\\nimport re\\nimport os'); }\n    ",
      "text/plain": [
       "<IPython.core.display.Javascript object>"
      ]
     },
     "metadata": {},
     "output_type": "display_data"
    },
    {
     "data": {
      "application/javascript": "\n        if (window._pyforest_update_imports_cell) { window._pyforest_update_imports_cell('import pandas as pd\\nfrom sklearn.model_selection import KFold\\nimport re\\nimport os'); }\n    ",
      "text/plain": [
       "<IPython.core.display.Javascript object>"
      ]
     },
     "metadata": {},
     "output_type": "display_data"
    },
    {
     "name": "stdout",
     "output_type": "stream",
     "text": [
      "(1409, 6)\n",
      "active\n",
      "0    1348\n",
      "1      61\n",
      "Name: count, dtype: int64\n"
     ]
    },
    {
     "data": {
      "application/javascript": "\n        if (window._pyforest_update_imports_cell) { window._pyforest_update_imports_cell('import pandas as pd\\nfrom sklearn.model_selection import KFold\\nimport re\\nimport os'); }\n    ",
      "text/plain": [
       "<IPython.core.display.Javascript object>"
      ]
     },
     "metadata": {},
     "output_type": "display_data"
    },
    {
     "name": "stdout",
     "output_type": "stream",
     "text": [
      "NEK9_binding\n"
     ]
    },
    {
     "data": {
      "application/javascript": "\n        if (window._pyforest_update_imports_cell) { window._pyforest_update_imports_cell('import pandas as pd\\nfrom sklearn.model_selection import KFold\\nimport re\\nimport os'); }\n    ",
      "text/plain": [
       "<IPython.core.display.Javascript object>"
      ]
     },
     "metadata": {},
     "output_type": "display_data"
    },
    {
     "name": "stdout",
     "output_type": "stream",
     "text": [
      "active\n",
      "0    1323\n",
      "1      81\n",
      "Name: count, dtype: int64\n"
     ]
    },
    {
     "data": {
      "application/javascript": "\n        if (window._pyforest_update_imports_cell) { window._pyforest_update_imports_cell('import pandas as pd\\nfrom sklearn.model_selection import KFold\\nimport re\\nimport os'); }\n    ",
      "text/plain": [
       "<IPython.core.display.Javascript object>"
      ]
     },
     "metadata": {},
     "output_type": "display_data"
    },
    {
     "data": {
      "application/javascript": "\n        if (window._pyforest_update_imports_cell) { window._pyforest_update_imports_cell('import pandas as pd\\nfrom sklearn.model_selection import KFold\\nimport re\\nimport os'); }\n    ",
      "text/plain": [
       "<IPython.core.display.Javascript object>"
      ]
     },
     "metadata": {},
     "output_type": "display_data"
    },
    {
     "name": "stdout",
     "output_type": "stream",
     "text": [
      "(1404, 6)\n",
      "active\n",
      "0    1323\n",
      "1      81\n",
      "Name: count, dtype: int64\n"
     ]
    },
    {
     "data": {
      "application/javascript": "\n        if (window._pyforest_update_imports_cell) { window._pyforest_update_imports_cell('import pandas as pd\\nfrom sklearn.model_selection import KFold\\nimport re\\nimport os'); }\n    ",
      "text/plain": [
       "<IPython.core.display.Javascript object>"
      ]
     },
     "metadata": {},
     "output_type": "display_data"
    },
    {
     "name": "stdout",
     "output_type": "stream",
     "text": [
      "NEK3_binding\n"
     ]
    },
    {
     "data": {
      "application/javascript": "\n        if (window._pyforest_update_imports_cell) { window._pyforest_update_imports_cell('import pandas as pd\\nfrom sklearn.model_selection import KFold\\nimport re\\nimport os'); }\n    ",
      "text/plain": [
       "<IPython.core.display.Javascript object>"
      ]
     },
     "metadata": {},
     "output_type": "display_data"
    },
    {
     "name": "stdout",
     "output_type": "stream",
     "text": [
      "active\n",
      "0    1351\n",
      "1      57\n",
      "Name: count, dtype: int64\n"
     ]
    },
    {
     "data": {
      "application/javascript": "\n        if (window._pyforest_update_imports_cell) { window._pyforest_update_imports_cell('import pandas as pd\\nfrom sklearn.model_selection import KFold\\nimport re\\nimport os'); }\n    ",
      "text/plain": [
       "<IPython.core.display.Javascript object>"
      ]
     },
     "metadata": {},
     "output_type": "display_data"
    },
    {
     "data": {
      "application/javascript": "\n        if (window._pyforest_update_imports_cell) { window._pyforest_update_imports_cell('import pandas as pd\\nfrom sklearn.model_selection import KFold\\nimport re\\nimport os'); }\n    ",
      "text/plain": [
       "<IPython.core.display.Javascript object>"
      ]
     },
     "metadata": {},
     "output_type": "display_data"
    },
    {
     "name": "stdout",
     "output_type": "stream",
     "text": [
      "(1408, 6)\n",
      "active\n",
      "0    1351\n",
      "1      57\n",
      "Name: count, dtype: int64\n"
     ]
    },
    {
     "data": {
      "application/javascript": "\n        if (window._pyforest_update_imports_cell) { window._pyforest_update_imports_cell('import pandas as pd\\nfrom sklearn.model_selection import KFold\\nimport re\\nimport os'); }\n    ",
      "text/plain": [
       "<IPython.core.display.Javascript object>"
      ]
     },
     "metadata": {},
     "output_type": "display_data"
    },
    {
     "name": "stdout",
     "output_type": "stream",
     "text": [
      "NEK2_binding\n"
     ]
    }
   ],
   "source": [
    "def get_bind_inhib(df_name):\n",
    "    match = re.search(r'_([^_]+)\\.csv$',df_name)\n",
    "    return match.group(1) if match else None\n",
    "    # returns 'binding' or 'inhibition' \n",
    "og_dfs = [file for file in os.listdir(data_path) if file.startswith('NEK')]\n",
    "\n",
    "for df in og_dfs: \n",
    "    folded_df = create_folds(data_path, df,5)\n",
    "    bind_inhib = get_bind_inhib(df)\n",
    "    nek_name = f'NEK{df[3]}_{bind_inhib}'\n",
    "    print(nek_name)\n",
    "    folded_df['NEK']=nek_name \n",
    "    folded_df.to_csv(f'../datasets/initial_fold/{nek_name}_initial_fold.csv',index=False)\n",
    "\n",
    "    # folded_df.to_csv('intial_fold')\n",
    "\n",
    "# def label_train_validation(data_path, train80df, fold)\n",
    "#     return train df with folds"
   ]
  },
  {
   "cell_type": "code",
   "execution_count": 25,
   "id": "21e52c8d",
   "metadata": {},
   "outputs": [
    {
     "name": "stdout",
     "output_type": "stream",
     "text": [
      "NEK2_binding_initial_fold.csv\n"
     ]
    },
    {
     "data": {
      "application/javascript": "\n        if (window._pyforest_update_imports_cell) { window._pyforest_update_imports_cell('import pandas as pd\\nfrom sklearn.model_selection import KFold\\nimport re\\nimport os'); }\n    ",
      "text/plain": [
       "<IPython.core.display.Javascript object>"
      ]
     },
     "metadata": {},
     "output_type": "display_data"
    },
    {
     "name": "stdout",
     "output_type": "stream",
     "text": [
      "NEK2_inhibition_initial_fold.csv\n"
     ]
    },
    {
     "data": {
      "application/javascript": "\n        if (window._pyforest_update_imports_cell) { window._pyforest_update_imports_cell('import pandas as pd\\nfrom sklearn.model_selection import KFold\\nimport re\\nimport os'); }\n    ",
      "text/plain": [
       "<IPython.core.display.Javascript object>"
      ]
     },
     "metadata": {},
     "output_type": "display_data"
    },
    {
     "name": "stdout",
     "output_type": "stream",
     "text": [
      "NEK3_binding_initial_fold.csv\n"
     ]
    },
    {
     "data": {
      "application/javascript": "\n        if (window._pyforest_update_imports_cell) { window._pyforest_update_imports_cell('import pandas as pd\\nfrom sklearn.model_selection import KFold\\nimport re\\nimport os'); }\n    ",
      "text/plain": [
       "<IPython.core.display.Javascript object>"
      ]
     },
     "metadata": {},
     "output_type": "display_data"
    },
    {
     "name": "stdout",
     "output_type": "stream",
     "text": [
      "NEK5_binding_initial_fold.csv\n"
     ]
    },
    {
     "data": {
      "application/javascript": "\n        if (window._pyforest_update_imports_cell) { window._pyforest_update_imports_cell('import pandas as pd\\nfrom sklearn.model_selection import KFold\\nimport re\\nimport os'); }\n    ",
      "text/plain": [
       "<IPython.core.display.Javascript object>"
      ]
     },
     "metadata": {},
     "output_type": "display_data"
    },
    {
     "name": "stdout",
     "output_type": "stream",
     "text": [
      "NEK9_binding_initial_fold.csv\n"
     ]
    },
    {
     "data": {
      "application/javascript": "\n        if (window._pyforest_update_imports_cell) { window._pyforest_update_imports_cell('import pandas as pd\\nfrom sklearn.model_selection import KFold\\nimport re\\nimport os'); }\n    ",
      "text/plain": [
       "<IPython.core.display.Javascript object>"
      ]
     },
     "metadata": {},
     "output_type": "display_data"
    },
    {
     "name": "stdout",
     "output_type": "stream",
     "text": [
      "NEK9_inhibition_initial_fold.csv\n"
     ]
    },
    {
     "data": {
      "application/javascript": "\n        if (window._pyforest_update_imports_cell) { window._pyforest_update_imports_cell('import pandas as pd\\nfrom sklearn.model_selection import KFold\\nimport re\\nimport os'); }\n    ",
      "text/plain": [
       "<IPython.core.display.Javascript object>"
      ]
     },
     "metadata": {},
     "output_type": "display_data"
    }
   ],
   "source": [
    "neks = ['NEK2_binding', 'NEK2_inhibition', 'NEK3_binding', 'NEK5_binding','NEK9_binding','NEK9_inhibition']\n",
    "\n",
    "for nek in neks:\n",
    "    fold_df_name = nek+\"_initial_fold.csv\"\n",
    "    print(fold_df_name)\n",
    "    labeled_df = train_and__(\"/Users/radhi/Desktop/GitHub/atom2024/atom2024/notebooks/paper/datasets/initial_fold/\" , fold_df_name, \"fold1\")\n",
    "    labeled_df.to_csv(f'/Users/radhi/Desktop/GitHub/atom2024/atom2024/notebooks/paper/datasets/80train_20test/{nek}_80_20_df.csv',index=False)\n",
    "#labeled_df\n",
    "    \n",
    "\n"
   ]
  }
 ],
 "metadata": {
  "kernelspec": {
   "display_name": "atom2024",
   "language": "python",
   "name": "python3"
  },
  "language_info": {
   "codemirror_mode": {
    "name": "ipython",
    "version": 3
   },
   "file_extension": ".py",
   "mimetype": "text/x-python",
   "name": "python",
   "nbconvert_exporter": "python",
   "pygments_lexer": "ipython3",
   "version": "3.9.12"
  }
 },
 "nbformat": 4,
 "nbformat_minor": 5
}
