{
 "cells": [
  {
   "cell_type": "code",
   "execution_count": 1,
   "id": "1e073df4-6f1f-42d9-a7fe-d11f13690fe7",
   "metadata": {},
   "outputs": [],
   "source": [
    "import pyforest\n",
    "from updated_RF import *\n",
    "from imblearn.over_sampling import SMOTEN, ADASYN, SMOTE\n",
    "from sklearn.metrics import accuracy_score, balanced_accuracy_score,precision_score, f1_score, roc_auc_score, roc_curve, precision_recall_curve, auc, recall_score, confusion_matrix,matthews_corrcoef\n",
    "\n",
    "from rdkit import Chem\n",
    "from rdkit.Chem import AllChem\n",
    "\n",
    "\n",
    "import math\n",
    "import torch\n",
    "import numpy as np\n",
    "# import gpytorch\n",
    "import pandas as pd\n",
    "import seaborn as sns\n",
    "import os\n",
    "import pickle\n",
    "import shutil\n",
    "import matplotlib \n",
    "# matplotlib.use('Agg')\n",
    "\n",
    "from matplotlib import pyplot as plt\n",
    "import sklearn\n",
    "from sklearn.model_selection import KFold\n",
    "\n",
    "import imblearn as imb\n",
    "# print(\"imblearn version: \",imblearn.__version__)\n",
    "\n",
    "from sklearn.decomposition import PCA\n",
    "from sklearn.preprocessing import StandardScaler\n",
    "\n",
    "from sklearn.metrics import confusion_matrix\n",
    "import itertools\n",
    "\n",
    "# from scipy.stats\n",
    "from sklearn.model_selection import RandomizedSearchCV\n",
    "from sklearn.metrics import accuracy_score, precision_score, f1_score, roc_auc_score, roc_curve, precision_recall_curve, auc, recall_score, confusion_matrix\n",
    "\n",
    "from sklearn.ensemble import RandomForestClassifier\n",
    "from imblearn.ensemble import BalancedRandomForestClassifier\n",
    "import sys\n",
    "\n",
    "\n",
    "from sklearn.model_selection import GridSearchCV"
   ]
  },
  {
   "cell_type": "code",
   "execution_count": 7,
   "id": "f67f65ff-36a8-41a0-bbfd-f128c6de1492",
   "metadata": {},
   "outputs": [],
   "source": []
  },
  {
   "cell_type": "code",
   "execution_count": null,
   "id": "6495b1df-2f2c-4883-b848-4cd12d495ae6",
   "metadata": {
    "scrolled": true
   },
   "outputs": [
    {
     "name": "stdout",
     "output_type": "stream",
     "text": [
      "NEK2_binding_MOE_none_scaled_RF_fold1\n",
      "TRAIN: acc: 1.000, precision: 1.000, recall: 1.000, spec: 1.000\n",
      "TEST: acc: 0.947, precision: 0.000, recall: 0.000, spec: 0.986\n",
      "func:'rf_models'  took: 10.9170 sec\n",
      "\n",
      "NEK2_binding_MOE_none_scaled_RF_BCW_fold1\n",
      "TRAIN: acc: 1.000, precision: 1.000, recall: 1.000, spec: 1.000\n",
      "TEST: acc: 0.960, precision: 0.500, recall: 0.333, spec: 0.986\n",
      "func:'rf_models'  took: 5.5450 sec\n",
      "\n",
      "NEK2_binding_MOE_none_scaled_BRFC_fold1\n"
     ]
    },
    {
     "name": "stderr",
     "output_type": "stream",
     "text": [
      "/Users/jayceepang/miniconda3/envs/atom2024/lib/python3.9/site-packages/imblearn/ensemble/_forest.py:577: FutureWarning: The default of `sampling_strategy` will change from `'auto'` to `'all'` in version 0.13. This change will follow the implementation proposed in the original paper. Set to `'all'` to silence this warning and adopt the future behaviour.\n",
      "  warn(\n",
      "/Users/jayceepang/miniconda3/envs/atom2024/lib/python3.9/site-packages/imblearn/ensemble/_forest.py:589: FutureWarning: The default of `replacement` will change from `False` to `True` in version 0.13. This change will follow the implementation proposed in the original paper. Set to `True` to silence this warning and adopt the future behaviour.\n",
      "  warn(\n"
     ]
    },
    {
     "name": "stdout",
     "output_type": "stream",
     "text": [
      "TRAIN: acc: 0.758, precision: 0.142, recall: 1.000, spec: 0.748\n",
      "TEST: acc: 0.742, precision: 0.098, recall: 0.667, spec: 0.745\n",
      "func:'rf_models'  took: 0.3255 sec\n",
      "\n",
      "NEK2_binding_MOE_none_scaled_BRFC_BCW_fold1\n"
     ]
    },
    {
     "name": "stderr",
     "output_type": "stream",
     "text": [
      "/Users/jayceepang/miniconda3/envs/atom2024/lib/python3.9/site-packages/imblearn/ensemble/_forest.py:577: FutureWarning: The default of `sampling_strategy` will change from `'auto'` to `'all'` in version 0.13. This change will follow the implementation proposed in the original paper. Set to `'all'` to silence this warning and adopt the future behaviour.\n",
      "  warn(\n",
      "/Users/jayceepang/miniconda3/envs/atom2024/lib/python3.9/site-packages/imblearn/ensemble/_forest.py:589: FutureWarning: The default of `replacement` will change from `False` to `True` in version 0.13. This change will follow the implementation proposed in the original paper. Set to `True` to silence this warning and adopt the future behaviour.\n",
      "  warn(\n"
     ]
    },
    {
     "name": "stdout",
     "output_type": "stream",
     "text": [
      "TRAIN: acc: 0.689, precision: 0.114, recall: 1.000, spec: 0.676\n",
      "TEST: acc: 0.596, precision: 0.064, recall: 0.667, spec: 0.593\n",
      "func:'rf_models'  took: 0.6899 sec\n",
      "\n",
      "NEK2_binding_MOE_none_scaled_RF_fold2\n",
      "TRAIN: acc: 1.000, precision: 1.000, recall: 1.000, spec: 1.000\n",
      "TEST: acc: 0.933, precision: 0.125, recall: 0.111, spec: 0.968\n",
      "func:'rf_models'  took: 11.9379 sec\n",
      "\n",
      "NEK2_binding_MOE_none_scaled_RF_BCW_fold2\n",
      "TRAIN: acc: 1.000, precision: 1.000, recall: 1.000, spec: 1.000\n",
      "TEST: acc: 0.929, precision: 0.182, recall: 0.222, spec: 0.958\n",
      "func:'rf_models'  took: 5.5570 sec\n",
      "\n",
      "NEK2_binding_MOE_none_scaled_BRFC_fold2\n"
     ]
    },
    {
     "name": "stderr",
     "output_type": "stream",
     "text": [
      "/Users/jayceepang/miniconda3/envs/atom2024/lib/python3.9/site-packages/imblearn/ensemble/_forest.py:577: FutureWarning: The default of `sampling_strategy` will change from `'auto'` to `'all'` in version 0.13. This change will follow the implementation proposed in the original paper. Set to `'all'` to silence this warning and adopt the future behaviour.\n",
      "  warn(\n",
      "/Users/jayceepang/miniconda3/envs/atom2024/lib/python3.9/site-packages/imblearn/ensemble/_forest.py:589: FutureWarning: The default of `replacement` will change from `False` to `True` in version 0.13. This change will follow the implementation proposed in the original paper. Set to `True` to silence this warning and adopt the future behaviour.\n",
      "  warn(\n"
     ]
    },
    {
     "name": "stdout",
     "output_type": "stream",
     "text": [
      "TRAIN: acc: 0.782, precision: 0.155, recall: 1.000, spec: 0.773\n",
      "TEST: acc: 0.698, precision: 0.085, recall: 0.667, spec: 0.699\n",
      "func:'rf_models'  took: 0.3246 sec\n",
      "\n",
      "NEK2_binding_MOE_none_scaled_BRFC_BCW_fold2\n"
     ]
    },
    {
     "name": "stderr",
     "output_type": "stream",
     "text": [
      "/Users/jayceepang/miniconda3/envs/atom2024/lib/python3.9/site-packages/imblearn/ensemble/_forest.py:577: FutureWarning: The default of `sampling_strategy` will change from `'auto'` to `'all'` in version 0.13. This change will follow the implementation proposed in the original paper. Set to `'all'` to silence this warning and adopt the future behaviour.\n",
      "  warn(\n",
      "/Users/jayceepang/miniconda3/envs/atom2024/lib/python3.9/site-packages/imblearn/ensemble/_forest.py:589: FutureWarning: The default of `replacement` will change from `False` to `True` in version 0.13. This change will follow the implementation proposed in the original paper. Set to `True` to silence this warning and adopt the future behaviour.\n",
      "  warn(\n"
     ]
    },
    {
     "name": "stdout",
     "output_type": "stream",
     "text": [
      "TRAIN: acc: 0.702, precision: 0.118, recall: 1.000, spec: 0.690\n",
      "TEST: acc: 0.702, precision: 0.047, recall: 0.333, spec: 0.718\n",
      "func:'rf_models'  took: 0.6479 sec\n",
      "\n",
      "NEK2_binding_MOE_none_scaled_RF_fold3\n",
      "TRAIN: acc: 1.000, precision: 1.000, recall: 1.000, spec: 1.000\n",
      "TEST: acc: 0.960, precision: 0.500, recall: 0.333, spec: 0.986\n",
      "func:'rf_models'  took: 12.0804 sec\n",
      "\n",
      "NEK2_binding_MOE_none_scaled_RF_BCW_fold3\n",
      "TRAIN: acc: 1.000, precision: 1.000, recall: 1.000, spec: 1.000\n",
      "TEST: acc: 0.929, precision: 0.182, recall: 0.222, spec: 0.958\n",
      "func:'rf_models'  took: 4.6383 sec\n",
      "\n",
      "NEK2_binding_MOE_none_scaled_BRFC_fold3\n"
     ]
    },
    {
     "name": "stderr",
     "output_type": "stream",
     "text": [
      "/Users/jayceepang/miniconda3/envs/atom2024/lib/python3.9/site-packages/imblearn/ensemble/_forest.py:577: FutureWarning: The default of `sampling_strategy` will change from `'auto'` to `'all'` in version 0.13. This change will follow the implementation proposed in the original paper. Set to `'all'` to silence this warning and adopt the future behaviour.\n",
      "  warn(\n",
      "/Users/jayceepang/miniconda3/envs/atom2024/lib/python3.9/site-packages/imblearn/ensemble/_forest.py:589: FutureWarning: The default of `replacement` will change from `False` to `True` in version 0.13. This change will follow the implementation proposed in the original paper. Set to `True` to silence this warning and adopt the future behaviour.\n",
      "  warn(\n"
     ]
    },
    {
     "name": "stdout",
     "output_type": "stream",
     "text": [
      "TRAIN: acc: 0.774, precision: 0.151, recall: 1.000, spec: 0.765\n",
      "TEST: acc: 0.729, precision: 0.106, recall: 0.778, spec: 0.727\n",
      "func:'rf_models'  took: 0.3188 sec\n",
      "\n",
      "NEK2_binding_MOE_none_scaled_BRFC_BCW_fold3\n"
     ]
    },
    {
     "name": "stderr",
     "output_type": "stream",
     "text": [
      "/Users/jayceepang/miniconda3/envs/atom2024/lib/python3.9/site-packages/imblearn/ensemble/_forest.py:577: FutureWarning: The default of `sampling_strategy` will change from `'auto'` to `'all'` in version 0.13. This change will follow the implementation proposed in the original paper. Set to `'all'` to silence this warning and adopt the future behaviour.\n",
      "  warn(\n",
      "/Users/jayceepang/miniconda3/envs/atom2024/lib/python3.9/site-packages/imblearn/ensemble/_forest.py:589: FutureWarning: The default of `replacement` will change from `False` to `True` in version 0.13. This change will follow the implementation proposed in the original paper. Set to `True` to silence this warning and adopt the future behaviour.\n",
      "  warn(\n"
     ]
    },
    {
     "name": "stdout",
     "output_type": "stream",
     "text": [
      "TRAIN: acc: 0.717, precision: 0.124, recall: 1.000, spec: 0.705\n",
      "TEST: acc: 0.689, precision: 0.058, recall: 0.444, spec: 0.699\n",
      "func:'rf_models'  took: 0.6223 sec\n",
      "\n",
      "NEK2_binding_MOE_none_scaled_RF_fold4\n",
      "TRAIN: acc: 1.000, precision: 1.000, recall: 1.000, spec: 1.000\n",
      "TEST: acc: 0.916, precision: 0.000, recall: 0.000, spec: 0.954\n",
      "func:'rf_models'  took: 14.9616 sec\n",
      "\n",
      "NEK2_binding_MOE_none_scaled_RF_BCW_fold4\n",
      "TRAIN: acc: 1.000, precision: 1.000, recall: 1.000, spec: 1.000\n",
      "TEST: acc: 0.947, precision: 0.364, recall: 0.444, spec: 0.968\n",
      "func:'rf_models'  took: 5.3411 sec\n",
      "\n",
      "NEK2_binding_MOE_none_scaled_BRFC_fold4\n"
     ]
    },
    {
     "name": "stderr",
     "output_type": "stream",
     "text": [
      "/Users/jayceepang/miniconda3/envs/atom2024/lib/python3.9/site-packages/imblearn/ensemble/_forest.py:577: FutureWarning: The default of `sampling_strategy` will change from `'auto'` to `'all'` in version 0.13. This change will follow the implementation proposed in the original paper. Set to `'all'` to silence this warning and adopt the future behaviour.\n",
      "  warn(\n",
      "/Users/jayceepang/miniconda3/envs/atom2024/lib/python3.9/site-packages/imblearn/ensemble/_forest.py:589: FutureWarning: The default of `replacement` will change from `False` to `True` in version 0.13. This change will follow the implementation proposed in the original paper. Set to `True` to silence this warning and adopt the future behaviour.\n",
      "  warn(\n"
     ]
    },
    {
     "name": "stdout",
     "output_type": "stream",
     "text": [
      "TRAIN: acc: 0.769, precision: 0.148, recall: 1.000, spec: 0.759\n",
      "TEST: acc: 0.693, precision: 0.083, recall: 0.667, spec: 0.694\n",
      "func:'rf_models'  took: 0.3285 sec\n",
      "\n",
      "NEK2_binding_MOE_none_scaled_BRFC_BCW_fold4\n"
     ]
    },
    {
     "name": "stderr",
     "output_type": "stream",
     "text": [
      "/Users/jayceepang/miniconda3/envs/atom2024/lib/python3.9/site-packages/imblearn/ensemble/_forest.py:577: FutureWarning: The default of `sampling_strategy` will change from `'auto'` to `'all'` in version 0.13. This change will follow the implementation proposed in the original paper. Set to `'all'` to silence this warning and adopt the future behaviour.\n",
      "  warn(\n",
      "/Users/jayceepang/miniconda3/envs/atom2024/lib/python3.9/site-packages/imblearn/ensemble/_forest.py:589: FutureWarning: The default of `replacement` will change from `False` to `True` in version 0.13. This change will follow the implementation proposed in the original paper. Set to `True` to silence this warning and adopt the future behaviour.\n",
      "  warn(\n"
     ]
    },
    {
     "name": "stdout",
     "output_type": "stream",
     "text": [
      "TRAIN: acc: 0.678, precision: 0.110, recall: 1.000, spec: 0.664\n",
      "TEST: acc: 0.676, precision: 0.100, recall: 0.889, spec: 0.667\n",
      "func:'rf_models'  took: 0.6406 sec\n",
      "\n",
      "NEK2_binding_MOE_none_scaled_RF_fold5\n",
      "TRAIN: acc: 1.000, precision: 1.000, recall: 1.000, spec: 1.000\n",
      "TEST: acc: 0.916, precision: 0.000, recall: 0.000, spec: 0.954\n",
      "func:'rf_models'  took: 14.2217 sec\n",
      "\n",
      "NEK2_binding_MOE_none_scaled_RF_BCW_fold5\n",
      "TRAIN: acc: 1.000, precision: 1.000, recall: 1.000, spec: 1.000\n",
      "TEST: acc: 0.938, precision: 0.222, recall: 0.222, spec: 0.968\n",
      "func:'rf_models'  took: 5.4854 sec\n",
      "\n",
      "NEK2_binding_MOE_none_scaled_BRFC_fold5\n"
     ]
    },
    {
     "name": "stderr",
     "output_type": "stream",
     "text": [
      "/Users/jayceepang/miniconda3/envs/atom2024/lib/python3.9/site-packages/imblearn/ensemble/_forest.py:577: FutureWarning: The default of `sampling_strategy` will change from `'auto'` to `'all'` in version 0.13. This change will follow the implementation proposed in the original paper. Set to `'all'` to silence this warning and adopt the future behaviour.\n",
      "  warn(\n",
      "/Users/jayceepang/miniconda3/envs/atom2024/lib/python3.9/site-packages/imblearn/ensemble/_forest.py:589: FutureWarning: The default of `replacement` will change from `False` to `True` in version 0.13. This change will follow the implementation proposed in the original paper. Set to `True` to silence this warning and adopt the future behaviour.\n",
      "  warn(\n"
     ]
    },
    {
     "name": "stdout",
     "output_type": "stream",
     "text": [
      "TRAIN: acc: 0.743, precision: 0.135, recall: 1.000, spec: 0.733\n",
      "TEST: acc: 0.698, precision: 0.072, recall: 0.556, spec: 0.704\n",
      "func:'rf_models'  took: 0.3286 sec\n",
      "\n",
      "NEK2_binding_MOE_none_scaled_BRFC_BCW_fold5\n"
     ]
    },
    {
     "name": "stderr",
     "output_type": "stream",
     "text": [
      "/Users/jayceepang/miniconda3/envs/atom2024/lib/python3.9/site-packages/imblearn/ensemble/_forest.py:577: FutureWarning: The default of `sampling_strategy` will change from `'auto'` to `'all'` in version 0.13. This change will follow the implementation proposed in the original paper. Set to `'all'` to silence this warning and adopt the future behaviour.\n",
      "  warn(\n",
      "/Users/jayceepang/miniconda3/envs/atom2024/lib/python3.9/site-packages/imblearn/ensemble/_forest.py:589: FutureWarning: The default of `replacement` will change from `False` to `True` in version 0.13. This change will follow the implementation proposed in the original paper. Set to `True` to silence this warning and adopt the future behaviour.\n",
      "  warn(\n"
     ]
    },
    {
     "name": "stdout",
     "output_type": "stream",
     "text": [
      "TRAIN: acc: 0.712, precision: 0.122, recall: 1.000, spec: 0.700\n",
      "TEST: acc: 0.711, precision: 0.062, recall: 0.444, spec: 0.722\n",
      "func:'rf_models'  took: 0.6729 sec\n",
      "\n",
      "NEK2_binding_MOE_UNDER_RF_fold1\n",
      "TRAIN: acc: 1.000, precision: 1.000, recall: 1.000, spec: 1.000\n",
      "TEST: acc: 0.556, precision: 0.556, recall: 0.556, spec: 0.556\n",
      "func:'rf_models'  took: 0.2555 sec\n",
      "\n",
      "NEK2_binding_MOE_UNDER_RF_BCW_fold1\n",
      "TRAIN: acc: 1.000, precision: 1.000, recall: 1.000, spec: 1.000\n",
      "TEST: acc: 0.556, precision: 0.556, recall: 0.556, spec: 0.556\n",
      "func:'rf_models'  took: 0.2546 sec\n",
      "\n",
      "NEK2_binding_MOE_UNDER_BRFC_fold1\n"
     ]
    },
    {
     "name": "stderr",
     "output_type": "stream",
     "text": [
      "/Users/jayceepang/miniconda3/envs/atom2024/lib/python3.9/site-packages/imblearn/ensemble/_forest.py:577: FutureWarning: The default of `sampling_strategy` will change from `'auto'` to `'all'` in version 0.13. This change will follow the implementation proposed in the original paper. Set to `'all'` to silence this warning and adopt the future behaviour.\n",
      "  warn(\n",
      "/Users/jayceepang/miniconda3/envs/atom2024/lib/python3.9/site-packages/imblearn/ensemble/_forest.py:589: FutureWarning: The default of `replacement` will change from `False` to `True` in version 0.13. This change will follow the implementation proposed in the original paper. Set to `True` to silence this warning and adopt the future behaviour.\n",
      "  warn(\n"
     ]
    },
    {
     "name": "stdout",
     "output_type": "stream",
     "text": [
      "TRAIN: acc: 1.000, precision: 1.000, recall: 1.000, spec: 1.000\n",
      "TEST: acc: 0.556, precision: 0.556, recall: 0.556, spec: 0.556\n",
      "func:'rf_models'  took: 0.2841 sec\n",
      "\n",
      "NEK2_binding_MOE_UNDER_BRFC_BCW_fold1\n"
     ]
    },
    {
     "name": "stderr",
     "output_type": "stream",
     "text": [
      "/Users/jayceepang/miniconda3/envs/atom2024/lib/python3.9/site-packages/imblearn/ensemble/_forest.py:577: FutureWarning: The default of `sampling_strategy` will change from `'auto'` to `'all'` in version 0.13. This change will follow the implementation proposed in the original paper. Set to `'all'` to silence this warning and adopt the future behaviour.\n",
      "  warn(\n",
      "/Users/jayceepang/miniconda3/envs/atom2024/lib/python3.9/site-packages/imblearn/ensemble/_forest.py:589: FutureWarning: The default of `replacement` will change from `False` to `True` in version 0.13. This change will follow the implementation proposed in the original paper. Set to `True` to silence this warning and adopt the future behaviour.\n",
      "  warn(\n"
     ]
    },
    {
     "name": "stdout",
     "output_type": "stream",
     "text": [
      "TRAIN: acc: 1.000, precision: 1.000, recall: 1.000, spec: 1.000\n",
      "TEST: acc: 0.556, precision: 0.556, recall: 0.556, spec: 0.556\n",
      "func:'rf_models'  took: 0.2918 sec\n",
      "\n",
      "NEK2_binding_MOE_UNDER_RF_fold2\n",
      "TRAIN: acc: 1.000, precision: 1.000, recall: 1.000, spec: 1.000\n",
      "TEST: acc: 0.667, precision: 0.636, recall: 0.778, spec: 0.556\n",
      "func:'rf_models'  took: 0.3090 sec\n",
      "\n",
      "NEK2_binding_MOE_UNDER_RF_BCW_fold2\n",
      "TRAIN: acc: 1.000, precision: 1.000, recall: 1.000, spec: 1.000\n",
      "TEST: acc: 0.667, precision: 0.636, recall: 0.778, spec: 0.556\n",
      "func:'rf_models'  took: 0.3046 sec\n",
      "\n",
      "NEK2_binding_MOE_UNDER_BRFC_fold2\n"
     ]
    },
    {
     "name": "stderr",
     "output_type": "stream",
     "text": [
      "/Users/jayceepang/miniconda3/envs/atom2024/lib/python3.9/site-packages/imblearn/ensemble/_forest.py:577: FutureWarning: The default of `sampling_strategy` will change from `'auto'` to `'all'` in version 0.13. This change will follow the implementation proposed in the original paper. Set to `'all'` to silence this warning and adopt the future behaviour.\n",
      "  warn(\n",
      "/Users/jayceepang/miniconda3/envs/atom2024/lib/python3.9/site-packages/imblearn/ensemble/_forest.py:589: FutureWarning: The default of `replacement` will change from `False` to `True` in version 0.13. This change will follow the implementation proposed in the original paper. Set to `True` to silence this warning and adopt the future behaviour.\n",
      "  warn(\n"
     ]
    },
    {
     "name": "stdout",
     "output_type": "stream",
     "text": [
      "TRAIN: acc: 1.000, precision: 1.000, recall: 1.000, spec: 1.000\n",
      "TEST: acc: 0.667, precision: 0.636, recall: 0.778, spec: 0.556\n",
      "func:'rf_models'  took: 0.3384 sec\n",
      "\n",
      "NEK2_binding_MOE_UNDER_BRFC_BCW_fold2\n"
     ]
    },
    {
     "name": "stderr",
     "output_type": "stream",
     "text": [
      "/Users/jayceepang/miniconda3/envs/atom2024/lib/python3.9/site-packages/imblearn/ensemble/_forest.py:577: FutureWarning: The default of `sampling_strategy` will change from `'auto'` to `'all'` in version 0.13. This change will follow the implementation proposed in the original paper. Set to `'all'` to silence this warning and adopt the future behaviour.\n",
      "  warn(\n",
      "/Users/jayceepang/miniconda3/envs/atom2024/lib/python3.9/site-packages/imblearn/ensemble/_forest.py:589: FutureWarning: The default of `replacement` will change from `False` to `True` in version 0.13. This change will follow the implementation proposed in the original paper. Set to `True` to silence this warning and adopt the future behaviour.\n",
      "  warn(\n"
     ]
    },
    {
     "name": "stdout",
     "output_type": "stream",
     "text": [
      "TRAIN: acc: 1.000, precision: 1.000, recall: 1.000, spec: 1.000\n",
      "TEST: acc: 0.611, precision: 0.583, recall: 0.778, spec: 0.444\n",
      "func:'rf_models'  took: 0.3460 sec\n",
      "\n",
      "NEK2_binding_MOE_UNDER_RF_fold3\n",
      "TRAIN: acc: 1.000, precision: 1.000, recall: 1.000, spec: 1.000\n",
      "TEST: acc: 0.833, precision: 0.800, recall: 0.889, spec: 0.778\n",
      "func:'rf_models'  took: 0.3093 sec\n",
      "\n",
      "NEK2_binding_MOE_UNDER_RF_BCW_fold3\n",
      "TRAIN: acc: 1.000, precision: 1.000, recall: 1.000, spec: 1.000\n",
      "TEST: acc: 0.833, precision: 0.800, recall: 0.889, spec: 0.778\n",
      "func:'rf_models'  took: 0.3651 sec\n",
      "\n",
      "NEK2_binding_MOE_UNDER_BRFC_fold3\n"
     ]
    },
    {
     "name": "stderr",
     "output_type": "stream",
     "text": [
      "/Users/jayceepang/miniconda3/envs/atom2024/lib/python3.9/site-packages/imblearn/ensemble/_forest.py:577: FutureWarning: The default of `sampling_strategy` will change from `'auto'` to `'all'` in version 0.13. This change will follow the implementation proposed in the original paper. Set to `'all'` to silence this warning and adopt the future behaviour.\n",
      "  warn(\n",
      "/Users/jayceepang/miniconda3/envs/atom2024/lib/python3.9/site-packages/imblearn/ensemble/_forest.py:589: FutureWarning: The default of `replacement` will change from `False` to `True` in version 0.13. This change will follow the implementation proposed in the original paper. Set to `True` to silence this warning and adopt the future behaviour.\n",
      "  warn(\n"
     ]
    },
    {
     "name": "stdout",
     "output_type": "stream",
     "text": [
      "TRAIN: acc: 1.000, precision: 1.000, recall: 1.000, spec: 1.000\n",
      "TEST: acc: 0.833, precision: 0.800, recall: 0.889, spec: 0.778\n",
      "func:'rf_models'  took: 0.3643 sec\n",
      "\n",
      "NEK2_binding_MOE_UNDER_BRFC_BCW_fold3\n"
     ]
    },
    {
     "name": "stderr",
     "output_type": "stream",
     "text": [
      "/Users/jayceepang/miniconda3/envs/atom2024/lib/python3.9/site-packages/imblearn/ensemble/_forest.py:577: FutureWarning: The default of `sampling_strategy` will change from `'auto'` to `'all'` in version 0.13. This change will follow the implementation proposed in the original paper. Set to `'all'` to silence this warning and adopt the future behaviour.\n",
      "  warn(\n",
      "/Users/jayceepang/miniconda3/envs/atom2024/lib/python3.9/site-packages/imblearn/ensemble/_forest.py:589: FutureWarning: The default of `replacement` will change from `False` to `True` in version 0.13. This change will follow the implementation proposed in the original paper. Set to `True` to silence this warning and adopt the future behaviour.\n",
      "  warn(\n"
     ]
    },
    {
     "name": "stdout",
     "output_type": "stream",
     "text": [
      "TRAIN: acc: 1.000, precision: 1.000, recall: 1.000, spec: 1.000\n",
      "TEST: acc: 0.833, precision: 0.800, recall: 0.889, spec: 0.778\n",
      "func:'rf_models'  took: 0.3491 sec\n",
      "\n",
      "NEK2_binding_MOE_UNDER_RF_fold4\n",
      "TRAIN: acc: 1.000, precision: 1.000, recall: 1.000, spec: 1.000\n",
      "TEST: acc: 0.556, precision: 0.556, recall: 0.556, spec: 0.556\n",
      "func:'rf_models'  took: 0.3117 sec\n",
      "\n",
      "NEK2_binding_MOE_UNDER_RF_BCW_fold4\n",
      "TRAIN: acc: 1.000, precision: 1.000, recall: 1.000, spec: 1.000\n",
      "TEST: acc: 0.500, precision: 0.500, recall: 0.556, spec: 0.444\n",
      "func:'rf_models'  took: 0.3090 sec\n",
      "\n",
      "NEK2_binding_MOE_UNDER_BRFC_fold4\n"
     ]
    },
    {
     "name": "stderr",
     "output_type": "stream",
     "text": [
      "/Users/jayceepang/miniconda3/envs/atom2024/lib/python3.9/site-packages/imblearn/ensemble/_forest.py:577: FutureWarning: The default of `sampling_strategy` will change from `'auto'` to `'all'` in version 0.13. This change will follow the implementation proposed in the original paper. Set to `'all'` to silence this warning and adopt the future behaviour.\n",
      "  warn(\n",
      "/Users/jayceepang/miniconda3/envs/atom2024/lib/python3.9/site-packages/imblearn/ensemble/_forest.py:589: FutureWarning: The default of `replacement` will change from `False` to `True` in version 0.13. This change will follow the implementation proposed in the original paper. Set to `True` to silence this warning and adopt the future behaviour.\n",
      "  warn(\n"
     ]
    },
    {
     "name": "stdout",
     "output_type": "stream",
     "text": [
      "TRAIN: acc: 1.000, precision: 1.000, recall: 1.000, spec: 1.000\n",
      "TEST: acc: 0.556, precision: 0.556, recall: 0.556, spec: 0.556\n",
      "func:'rf_models'  took: 0.3371 sec\n",
      "\n",
      "NEK2_binding_MOE_UNDER_BRFC_BCW_fold4\n"
     ]
    },
    {
     "name": "stderr",
     "output_type": "stream",
     "text": [
      "/Users/jayceepang/miniconda3/envs/atom2024/lib/python3.9/site-packages/imblearn/ensemble/_forest.py:577: FutureWarning: The default of `sampling_strategy` will change from `'auto'` to `'all'` in version 0.13. This change will follow the implementation proposed in the original paper. Set to `'all'` to silence this warning and adopt the future behaviour.\n",
      "  warn(\n",
      "/Users/jayceepang/miniconda3/envs/atom2024/lib/python3.9/site-packages/imblearn/ensemble/_forest.py:589: FutureWarning: The default of `replacement` will change from `False` to `True` in version 0.13. This change will follow the implementation proposed in the original paper. Set to `True` to silence this warning and adopt the future behaviour.\n",
      "  warn(\n"
     ]
    },
    {
     "name": "stdout",
     "output_type": "stream",
     "text": [
      "TRAIN: acc: 1.000, precision: 1.000, recall: 1.000, spec: 1.000\n",
      "TEST: acc: 0.500, precision: 0.500, recall: 0.556, spec: 0.444\n",
      "func:'rf_models'  took: 0.3635 sec\n",
      "\n",
      "NEK2_binding_MOE_UNDER_RF_fold5\n",
      "TRAIN: acc: 1.000, precision: 1.000, recall: 1.000, spec: 1.000\n",
      "TEST: acc: 0.556, precision: 0.538, recall: 0.778, spec: 0.333\n",
      "func:'rf_models'  took: 0.2712 sec\n",
      "\n",
      "NEK2_binding_MOE_UNDER_RF_BCW_fold5\n",
      "TRAIN: acc: 1.000, precision: 1.000, recall: 1.000, spec: 1.000\n",
      "TEST: acc: 0.667, precision: 0.615, recall: 0.889, spec: 0.444\n",
      "func:'rf_models'  took: 0.2769 sec\n",
      "\n",
      "NEK2_binding_MOE_UNDER_BRFC_fold5\n"
     ]
    },
    {
     "name": "stderr",
     "output_type": "stream",
     "text": [
      "/Users/jayceepang/miniconda3/envs/atom2024/lib/python3.9/site-packages/imblearn/ensemble/_forest.py:577: FutureWarning: The default of `sampling_strategy` will change from `'auto'` to `'all'` in version 0.13. This change will follow the implementation proposed in the original paper. Set to `'all'` to silence this warning and adopt the future behaviour.\n",
      "  warn(\n",
      "/Users/jayceepang/miniconda3/envs/atom2024/lib/python3.9/site-packages/imblearn/ensemble/_forest.py:589: FutureWarning: The default of `replacement` will change from `False` to `True` in version 0.13. This change will follow the implementation proposed in the original paper. Set to `True` to silence this warning and adopt the future behaviour.\n",
      "  warn(\n"
     ]
    },
    {
     "name": "stdout",
     "output_type": "stream",
     "text": [
      "TRAIN: acc: 1.000, precision: 1.000, recall: 1.000, spec: 1.000\n",
      "TEST: acc: 0.667, precision: 0.615, recall: 0.889, spec: 0.444\n",
      "func:'rf_models'  took: 0.2958 sec\n",
      "\n",
      "NEK2_binding_MOE_UNDER_BRFC_BCW_fold5\n"
     ]
    },
    {
     "name": "stderr",
     "output_type": "stream",
     "text": [
      "/Users/jayceepang/miniconda3/envs/atom2024/lib/python3.9/site-packages/imblearn/ensemble/_forest.py:577: FutureWarning: The default of `sampling_strategy` will change from `'auto'` to `'all'` in version 0.13. This change will follow the implementation proposed in the original paper. Set to `'all'` to silence this warning and adopt the future behaviour.\n",
      "  warn(\n",
      "/Users/jayceepang/miniconda3/envs/atom2024/lib/python3.9/site-packages/imblearn/ensemble/_forest.py:589: FutureWarning: The default of `replacement` will change from `False` to `True` in version 0.13. This change will follow the implementation proposed in the original paper. Set to `True` to silence this warning and adopt the future behaviour.\n",
      "  warn(\n"
     ]
    },
    {
     "name": "stdout",
     "output_type": "stream",
     "text": [
      "TRAIN: acc: 1.000, precision: 1.000, recall: 1.000, spec: 1.000\n",
      "TEST: acc: 0.611, precision: 0.583, recall: 0.778, spec: 0.444\n",
      "func:'rf_models'  took: 0.3262 sec\n",
      "\n",
      "NEK2_binding_MOE_SMOTE_RF_fold1\n",
      "TRAIN: acc: 1.000, precision: 1.000, recall: 1.000, spec: 1.000\n",
      "TEST: acc: 0.958, precision: 0.942, recall: 0.977, spec: 0.940\n",
      "func:'rf_models'  took: 28.3557 sec\n",
      "\n",
      "NEK2_binding_MOE_SMOTE_RF_BCW_fold1\n",
      "TRAIN: acc: 1.000, precision: 1.000, recall: 1.000, spec: 1.000\n",
      "TEST: acc: 0.954, precision: 0.934, recall: 0.977, spec: 0.931\n",
      "func:'rf_models'  took: 28.3857 sec\n",
      "\n",
      "NEK2_binding_MOE_SMOTE_BRFC_fold1\n"
     ]
    },
    {
     "name": "stderr",
     "output_type": "stream",
     "text": [
      "/Users/jayceepang/miniconda3/envs/atom2024/lib/python3.9/site-packages/imblearn/ensemble/_forest.py:577: FutureWarning: The default of `sampling_strategy` will change from `'auto'` to `'all'` in version 0.13. This change will follow the implementation proposed in the original paper. Set to `'all'` to silence this warning and adopt the future behaviour.\n",
      "  warn(\n",
      "/Users/jayceepang/miniconda3/envs/atom2024/lib/python3.9/site-packages/imblearn/ensemble/_forest.py:589: FutureWarning: The default of `replacement` will change from `False` to `True` in version 0.13. This change will follow the implementation proposed in the original paper. Set to `True` to silence this warning and adopt the future behaviour.\n",
      "  warn(\n"
     ]
    },
    {
     "name": "stdout",
     "output_type": "stream",
     "text": [
      "TRAIN: acc: 1.000, precision: 1.000, recall: 1.000, spec: 1.000\n",
      "TEST: acc: 0.956, precision: 0.930, recall: 0.986, spec: 0.926\n",
      "func:'rf_models'  took: 27.8214 sec\n",
      "\n",
      "NEK2_binding_MOE_SMOTE_BRFC_BCW_fold1\n"
     ]
    },
    {
     "name": "stderr",
     "output_type": "stream",
     "text": [
      "/Users/jayceepang/miniconda3/envs/atom2024/lib/python3.9/site-packages/imblearn/ensemble/_forest.py:577: FutureWarning: The default of `sampling_strategy` will change from `'auto'` to `'all'` in version 0.13. This change will follow the implementation proposed in the original paper. Set to `'all'` to silence this warning and adopt the future behaviour.\n",
      "  warn(\n",
      "/Users/jayceepang/miniconda3/envs/atom2024/lib/python3.9/site-packages/imblearn/ensemble/_forest.py:589: FutureWarning: The default of `replacement` will change from `False` to `True` in version 0.13. This change will follow the implementation proposed in the original paper. Set to `True` to silence this warning and adopt the future behaviour.\n",
      "  warn(\n"
     ]
    },
    {
     "name": "stdout",
     "output_type": "stream",
     "text": [
      "TRAIN: acc: 1.000, precision: 1.000, recall: 1.000, spec: 1.000\n",
      "TEST: acc: 0.958, precision: 0.934, recall: 0.986, spec: 0.931\n",
      "func:'rf_models'  took: 30.6325 sec\n",
      "\n",
      "NEK2_binding_MOE_SMOTE_RF_fold2\n",
      "TRAIN: acc: 1.000, precision: 1.000, recall: 1.000, spec: 1.000\n",
      "TEST: acc: 0.970, precision: 0.959, recall: 0.981, spec: 0.958\n",
      "func:'rf_models'  took: 25.7430 sec\n",
      "\n",
      "NEK2_binding_MOE_SMOTE_RF_BCW_fold2\n",
      "TRAIN: acc: 1.000, precision: 1.000, recall: 1.000, spec: 1.000\n",
      "TEST: acc: 0.970, precision: 0.959, recall: 0.981, spec: 0.958\n",
      "func:'rf_models'  took: 26.0715 sec\n",
      "\n",
      "NEK2_binding_MOE_SMOTE_BRFC_fold2\n"
     ]
    },
    {
     "name": "stderr",
     "output_type": "stream",
     "text": [
      "/Users/jayceepang/miniconda3/envs/atom2024/lib/python3.9/site-packages/imblearn/ensemble/_forest.py:577: FutureWarning: The default of `sampling_strategy` will change from `'auto'` to `'all'` in version 0.13. This change will follow the implementation proposed in the original paper. Set to `'all'` to silence this warning and adopt the future behaviour.\n",
      "  warn(\n",
      "/Users/jayceepang/miniconda3/envs/atom2024/lib/python3.9/site-packages/imblearn/ensemble/_forest.py:589: FutureWarning: The default of `replacement` will change from `False` to `True` in version 0.13. This change will follow the implementation proposed in the original paper. Set to `True` to silence this warning and adopt the future behaviour.\n",
      "  warn(\n"
     ]
    },
    {
     "name": "stdout",
     "output_type": "stream",
     "text": [
      "TRAIN: acc: 1.000, precision: 1.000, recall: 1.000, spec: 1.000\n",
      "TEST: acc: 0.970, precision: 0.959, recall: 0.981, spec: 0.958\n",
      "func:'rf_models'  took: 27.4152 sec\n",
      "\n",
      "NEK2_binding_MOE_SMOTE_BRFC_BCW_fold2\n"
     ]
    },
    {
     "name": "stderr",
     "output_type": "stream",
     "text": [
      "/Users/jayceepang/miniconda3/envs/atom2024/lib/python3.9/site-packages/imblearn/ensemble/_forest.py:577: FutureWarning: The default of `sampling_strategy` will change from `'auto'` to `'all'` in version 0.13. This change will follow the implementation proposed in the original paper. Set to `'all'` to silence this warning and adopt the future behaviour.\n",
      "  warn(\n",
      "/Users/jayceepang/miniconda3/envs/atom2024/lib/python3.9/site-packages/imblearn/ensemble/_forest.py:589: FutureWarning: The default of `replacement` will change from `False` to `True` in version 0.13. This change will follow the implementation proposed in the original paper. Set to `True` to silence this warning and adopt the future behaviour.\n",
      "  warn(\n"
     ]
    },
    {
     "name": "stdout",
     "output_type": "stream",
     "text": [
      "TRAIN: acc: 1.000, precision: 1.000, recall: 1.000, spec: 1.000\n",
      "TEST: acc: 0.972, precision: 0.964, recall: 0.981, spec: 0.963\n",
      "func:'rf_models'  took: 25.5764 sec\n",
      "\n",
      "NEK2_binding_MOE_SMOTE_RF_fold3\n",
      "TRAIN: acc: 1.000, precision: 1.000, recall: 1.000, spec: 1.000\n",
      "TEST: acc: 0.954, precision: 0.941, recall: 0.968, spec: 0.940\n",
      "func:'rf_models'  took: 25.2371 sec\n",
      "\n",
      "NEK2_binding_MOE_SMOTE_RF_BCW_fold3\n",
      "TRAIN: acc: 1.000, precision: 1.000, recall: 1.000, spec: 1.000\n",
      "TEST: acc: 0.956, precision: 0.946, recall: 0.968, spec: 0.944\n",
      "func:'rf_models'  took: 26.4023 sec\n",
      "\n",
      "NEK2_binding_MOE_SMOTE_BRFC_fold3\n"
     ]
    },
    {
     "name": "stderr",
     "output_type": "stream",
     "text": [
      "/Users/jayceepang/miniconda3/envs/atom2024/lib/python3.9/site-packages/imblearn/ensemble/_forest.py:577: FutureWarning: The default of `sampling_strategy` will change from `'auto'` to `'all'` in version 0.13. This change will follow the implementation proposed in the original paper. Set to `'all'` to silence this warning and adopt the future behaviour.\n",
      "  warn(\n",
      "/Users/jayceepang/miniconda3/envs/atom2024/lib/python3.9/site-packages/imblearn/ensemble/_forest.py:589: FutureWarning: The default of `replacement` will change from `False` to `True` in version 0.13. This change will follow the implementation proposed in the original paper. Set to `True` to silence this warning and adopt the future behaviour.\n",
      "  warn(\n"
     ]
    },
    {
     "name": "stdout",
     "output_type": "stream",
     "text": [
      "TRAIN: acc: 1.000, precision: 1.000, recall: 1.000, spec: 1.000\n",
      "TEST: acc: 0.954, precision: 0.941, recall: 0.968, spec: 0.940\n",
      "func:'rf_models'  took: 25.2895 sec\n",
      "\n",
      "NEK2_binding_MOE_SMOTE_BRFC_BCW_fold3\n"
     ]
    },
    {
     "name": "stderr",
     "output_type": "stream",
     "text": [
      "/Users/jayceepang/miniconda3/envs/atom2024/lib/python3.9/site-packages/imblearn/ensemble/_forest.py:577: FutureWarning: The default of `sampling_strategy` will change from `'auto'` to `'all'` in version 0.13. This change will follow the implementation proposed in the original paper. Set to `'all'` to silence this warning and adopt the future behaviour.\n",
      "  warn(\n",
      "/Users/jayceepang/miniconda3/envs/atom2024/lib/python3.9/site-packages/imblearn/ensemble/_forest.py:589: FutureWarning: The default of `replacement` will change from `False` to `True` in version 0.13. This change will follow the implementation proposed in the original paper. Set to `True` to silence this warning and adopt the future behaviour.\n",
      "  warn(\n"
     ]
    },
    {
     "name": "stdout",
     "output_type": "stream",
     "text": [
      "TRAIN: acc: 1.000, precision: 1.000, recall: 1.000, spec: 1.000\n",
      "TEST: acc: 0.954, precision: 0.941, recall: 0.968, spec: 0.940\n",
      "func:'rf_models'  took: 26.0563 sec\n",
      "\n",
      "NEK2_binding_MOE_SMOTE_RF_fold4\n",
      "TRAIN: acc: 1.000, precision: 1.000, recall: 1.000, spec: 1.000\n",
      "TEST: acc: 0.949, precision: 0.922, recall: 0.981, spec: 0.917\n",
      "func:'rf_models'  took: 24.8691 sec\n",
      "\n",
      "NEK2_binding_MOE_SMOTE_RF_BCW_fold4\n",
      "TRAIN: acc: 1.000, precision: 1.000, recall: 1.000, spec: 1.000\n",
      "TEST: acc: 0.944, precision: 0.917, recall: 0.977, spec: 0.912\n",
      "func:'rf_models'  took: 26.0747 sec\n",
      "\n",
      "NEK2_binding_MOE_SMOTE_BRFC_fold4\n"
     ]
    },
    {
     "name": "stderr",
     "output_type": "stream",
     "text": [
      "/Users/jayceepang/miniconda3/envs/atom2024/lib/python3.9/site-packages/imblearn/ensemble/_forest.py:577: FutureWarning: The default of `sampling_strategy` will change from `'auto'` to `'all'` in version 0.13. This change will follow the implementation proposed in the original paper. Set to `'all'` to silence this warning and adopt the future behaviour.\n",
      "  warn(\n",
      "/Users/jayceepang/miniconda3/envs/atom2024/lib/python3.9/site-packages/imblearn/ensemble/_forest.py:589: FutureWarning: The default of `replacement` will change from `False` to `True` in version 0.13. This change will follow the implementation proposed in the original paper. Set to `True` to silence this warning and adopt the future behaviour.\n",
      "  warn(\n"
     ]
    },
    {
     "name": "stdout",
     "output_type": "stream",
     "text": [
      "TRAIN: acc: 1.000, precision: 1.000, recall: 1.000, spec: 1.000\n",
      "TEST: acc: 0.944, precision: 0.914, recall: 0.981, spec: 0.907\n",
      "func:'rf_models'  took: 25.4908 sec\n",
      "\n",
      "NEK2_binding_MOE_SMOTE_BRFC_BCW_fold4\n"
     ]
    },
    {
     "name": "stderr",
     "output_type": "stream",
     "text": [
      "/Users/jayceepang/miniconda3/envs/atom2024/lib/python3.9/site-packages/imblearn/ensemble/_forest.py:577: FutureWarning: The default of `sampling_strategy` will change from `'auto'` to `'all'` in version 0.13. This change will follow the implementation proposed in the original paper. Set to `'all'` to silence this warning and adopt the future behaviour.\n",
      "  warn(\n",
      "/Users/jayceepang/miniconda3/envs/atom2024/lib/python3.9/site-packages/imblearn/ensemble/_forest.py:589: FutureWarning: The default of `replacement` will change from `False` to `True` in version 0.13. This change will follow the implementation proposed in the original paper. Set to `True` to silence this warning and adopt the future behaviour.\n",
      "  warn(\n"
     ]
    },
    {
     "name": "stdout",
     "output_type": "stream",
     "text": [
      "TRAIN: acc: 1.000, precision: 1.000, recall: 1.000, spec: 1.000\n",
      "TEST: acc: 0.940, precision: 0.909, recall: 0.977, spec: 0.903\n",
      "func:'rf_models'  took: 26.4968 sec\n",
      "\n",
      "NEK2_binding_MOE_SMOTE_RF_fold5\n",
      "TRAIN: acc: 1.000, precision: 1.000, recall: 1.000, spec: 1.000\n",
      "TEST: acc: 0.965, precision: 0.963, recall: 0.968, spec: 0.963\n",
      "func:'rf_models'  took: 24.9898 sec\n",
      "\n",
      "NEK2_binding_MOE_SMOTE_RF_BCW_fold5\n",
      "TRAIN: acc: 1.000, precision: 1.000, recall: 1.000, spec: 1.000\n",
      "TEST: acc: 0.968, precision: 0.968, recall: 0.968, spec: 0.968\n",
      "func:'rf_models'  took: 25.4432 sec\n",
      "\n",
      "NEK2_binding_MOE_SMOTE_BRFC_fold5\n"
     ]
    },
    {
     "name": "stderr",
     "output_type": "stream",
     "text": [
      "/Users/jayceepang/miniconda3/envs/atom2024/lib/python3.9/site-packages/imblearn/ensemble/_forest.py:577: FutureWarning: The default of `sampling_strategy` will change from `'auto'` to `'all'` in version 0.13. This change will follow the implementation proposed in the original paper. Set to `'all'` to silence this warning and adopt the future behaviour.\n",
      "  warn(\n",
      "/Users/jayceepang/miniconda3/envs/atom2024/lib/python3.9/site-packages/imblearn/ensemble/_forest.py:589: FutureWarning: The default of `replacement` will change from `False` to `True` in version 0.13. This change will follow the implementation proposed in the original paper. Set to `True` to silence this warning and adopt the future behaviour.\n",
      "  warn(\n"
     ]
    },
    {
     "name": "stdout",
     "output_type": "stream",
     "text": [
      "TRAIN: acc: 1.000, precision: 1.000, recall: 1.000, spec: 1.000\n",
      "TEST: acc: 0.968, precision: 0.968, recall: 0.968, spec: 0.968\n",
      "func:'rf_models'  took: 25.3196 sec\n",
      "\n",
      "NEK2_binding_MOE_SMOTE_BRFC_BCW_fold5\n"
     ]
    },
    {
     "name": "stderr",
     "output_type": "stream",
     "text": [
      "/Users/jayceepang/miniconda3/envs/atom2024/lib/python3.9/site-packages/imblearn/ensemble/_forest.py:577: FutureWarning: The default of `sampling_strategy` will change from `'auto'` to `'all'` in version 0.13. This change will follow the implementation proposed in the original paper. Set to `'all'` to silence this warning and adopt the future behaviour.\n",
      "  warn(\n",
      "/Users/jayceepang/miniconda3/envs/atom2024/lib/python3.9/site-packages/imblearn/ensemble/_forest.py:589: FutureWarning: The default of `replacement` will change from `False` to `True` in version 0.13. This change will follow the implementation proposed in the original paper. Set to `True` to silence this warning and adopt the future behaviour.\n",
      "  warn(\n"
     ]
    },
    {
     "name": "stdout",
     "output_type": "stream",
     "text": [
      "TRAIN: acc: 1.000, precision: 1.000, recall: 1.000, spec: 1.000\n",
      "TEST: acc: 0.968, precision: 0.968, recall: 0.968, spec: 0.968\n",
      "func:'rf_models'  took: 26.0038 sec\n",
      "\n",
      "NEK2_binding_MOE_ADASYN_RF_fold1\n",
      "TRAIN: acc: 1.000, precision: 1.000, recall: 1.000, spec: 1.000\n",
      "TEST: acc: 0.961, precision: 0.950, recall: 0.972, spec: 0.949\n",
      "func:'rf_models'  took: 28.2428 sec\n",
      "\n",
      "NEK2_binding_MOE_ADASYN_RF_BCW_fold1\n",
      "TRAIN: acc: 1.000, precision: 1.000, recall: 1.000, spec: 1.000\n",
      "TEST: acc: 0.954, precision: 0.934, recall: 0.977, spec: 0.931\n",
      "func:'rf_models'  took: 29.3444 sec\n",
      "\n",
      "NEK2_binding_MOE_ADASYN_BRFC_fold1\n"
     ]
    },
    {
     "name": "stderr",
     "output_type": "stream",
     "text": [
      "/Users/jayceepang/miniconda3/envs/atom2024/lib/python3.9/site-packages/imblearn/ensemble/_forest.py:577: FutureWarning: The default of `sampling_strategy` will change from `'auto'` to `'all'` in version 0.13. This change will follow the implementation proposed in the original paper. Set to `'all'` to silence this warning and adopt the future behaviour.\n",
      "  warn(\n",
      "/Users/jayceepang/miniconda3/envs/atom2024/lib/python3.9/site-packages/imblearn/ensemble/_forest.py:589: FutureWarning: The default of `replacement` will change from `False` to `True` in version 0.13. This change will follow the implementation proposed in the original paper. Set to `True` to silence this warning and adopt the future behaviour.\n",
      "  warn(\n"
     ]
    },
    {
     "name": "stdout",
     "output_type": "stream",
     "text": [
      "TRAIN: acc: 1.000, precision: 1.000, recall: 1.000, spec: 1.000\n",
      "TEST: acc: 0.963, precision: 0.955, recall: 0.972, spec: 0.954\n",
      "func:'rf_models'  took: 27.3101 sec\n",
      "\n",
      "NEK2_binding_MOE_ADASYN_BRFC_BCW_fold1\n"
     ]
    },
    {
     "name": "stderr",
     "output_type": "stream",
     "text": [
      "/Users/jayceepang/miniconda3/envs/atom2024/lib/python3.9/site-packages/imblearn/ensemble/_forest.py:577: FutureWarning: The default of `sampling_strategy` will change from `'auto'` to `'all'` in version 0.13. This change will follow the implementation proposed in the original paper. Set to `'all'` to silence this warning and adopt the future behaviour.\n",
      "  warn(\n",
      "/Users/jayceepang/miniconda3/envs/atom2024/lib/python3.9/site-packages/imblearn/ensemble/_forest.py:589: FutureWarning: The default of `replacement` will change from `False` to `True` in version 0.13. This change will follow the implementation proposed in the original paper. Set to `True` to silence this warning and adopt the future behaviour.\n",
      "  warn(\n"
     ]
    },
    {
     "name": "stdout",
     "output_type": "stream",
     "text": [
      "TRAIN: acc: 1.000, precision: 1.000, recall: 1.000, spec: 1.000\n",
      "TEST: acc: 0.954, precision: 0.934, recall: 0.977, spec: 0.931\n",
      "func:'rf_models'  took: 29.1960 sec\n",
      "\n",
      "NEK2_binding_MOE_ADASYN_RF_fold2\n",
      "TRAIN: acc: 1.000, precision: 1.000, recall: 1.000, spec: 1.000\n",
      "TEST: acc: 0.968, precision: 0.959, recall: 0.977, spec: 0.958\n",
      "func:'rf_models'  took: 28.1820 sec\n",
      "\n",
      "NEK2_binding_MOE_ADASYN_RF_BCW_fold2\n",
      "TRAIN: acc: 1.000, precision: 1.000, recall: 1.000, spec: 1.000\n",
      "TEST: acc: 0.965, precision: 0.955, recall: 0.977, spec: 0.954\n",
      "func:'rf_models'  took: 26.8220 sec\n",
      "\n",
      "NEK2_binding_MOE_ADASYN_BRFC_fold2\n"
     ]
    },
    {
     "name": "stderr",
     "output_type": "stream",
     "text": [
      "/Users/jayceepang/miniconda3/envs/atom2024/lib/python3.9/site-packages/imblearn/ensemble/_forest.py:577: FutureWarning: The default of `sampling_strategy` will change from `'auto'` to `'all'` in version 0.13. This change will follow the implementation proposed in the original paper. Set to `'all'` to silence this warning and adopt the future behaviour.\n",
      "  warn(\n",
      "/Users/jayceepang/miniconda3/envs/atom2024/lib/python3.9/site-packages/imblearn/ensemble/_forest.py:589: FutureWarning: The default of `replacement` will change from `False` to `True` in version 0.13. This change will follow the implementation proposed in the original paper. Set to `True` to silence this warning and adopt the future behaviour.\n",
      "  warn(\n"
     ]
    },
    {
     "name": "stdout",
     "output_type": "stream",
     "text": [
      "TRAIN: acc: 1.000, precision: 1.000, recall: 1.000, spec: 1.000\n",
      "TEST: acc: 0.968, precision: 0.959, recall: 0.977, spec: 0.958\n",
      "func:'rf_models'  took: 26.1167 sec\n",
      "\n",
      "NEK2_binding_MOE_ADASYN_BRFC_BCW_fold2\n"
     ]
    },
    {
     "name": "stderr",
     "output_type": "stream",
     "text": [
      "/Users/jayceepang/miniconda3/envs/atom2024/lib/python3.9/site-packages/imblearn/ensemble/_forest.py:577: FutureWarning: The default of `sampling_strategy` will change from `'auto'` to `'all'` in version 0.13. This change will follow the implementation proposed in the original paper. Set to `'all'` to silence this warning and adopt the future behaviour.\n",
      "  warn(\n",
      "/Users/jayceepang/miniconda3/envs/atom2024/lib/python3.9/site-packages/imblearn/ensemble/_forest.py:589: FutureWarning: The default of `replacement` will change from `False` to `True` in version 0.13. This change will follow the implementation proposed in the original paper. Set to `True` to silence this warning and adopt the future behaviour.\n",
      "  warn(\n"
     ]
    },
    {
     "name": "stdout",
     "output_type": "stream",
     "text": [
      "TRAIN: acc: 1.000, precision: 1.000, recall: 1.000, spec: 1.000\n",
      "TEST: acc: 0.963, precision: 0.955, recall: 0.972, spec: 0.954\n",
      "func:'rf_models'  took: 26.4813 sec\n",
      "\n",
      "NEK2_binding_MOE_ADASYN_RF_fold3\n",
      "TRAIN: acc: 1.000, precision: 1.000, recall: 1.000, spec: 1.000\n",
      "TEST: acc: 0.944, precision: 0.914, recall: 0.981, spec: 0.907\n",
      "func:'rf_models'  took: 22.2954 sec\n",
      "\n",
      "NEK2_binding_MOE_ADASYN_RF_BCW_fold3\n",
      "TRAIN: acc: 1.000, precision: 1.000, recall: 1.000, spec: 1.000\n",
      "TEST: acc: 0.944, precision: 0.914, recall: 0.981, spec: 0.907\n",
      "func:'rf_models'  took: 23.1420 sec\n",
      "\n",
      "NEK2_binding_MOE_ADASYN_BRFC_fold3\n"
     ]
    },
    {
     "name": "stderr",
     "output_type": "stream",
     "text": [
      "/Users/jayceepang/miniconda3/envs/atom2024/lib/python3.9/site-packages/imblearn/ensemble/_forest.py:577: FutureWarning: The default of `sampling_strategy` will change from `'auto'` to `'all'` in version 0.13. This change will follow the implementation proposed in the original paper. Set to `'all'` to silence this warning and adopt the future behaviour.\n",
      "  warn(\n",
      "/Users/jayceepang/miniconda3/envs/atom2024/lib/python3.9/site-packages/imblearn/ensemble/_forest.py:589: FutureWarning: The default of `replacement` will change from `False` to `True` in version 0.13. This change will follow the implementation proposed in the original paper. Set to `True` to silence this warning and adopt the future behaviour.\n",
      "  warn(\n"
     ]
    },
    {
     "name": "stdout",
     "output_type": "stream",
     "text": [
      "TRAIN: acc: 1.000, precision: 1.000, recall: 1.000, spec: 1.000\n",
      "TEST: acc: 0.942, precision: 0.910, recall: 0.981, spec: 0.903\n",
      "func:'rf_models'  took: 22.5293 sec\n",
      "\n",
      "NEK2_binding_MOE_ADASYN_BRFC_BCW_fold3\n"
     ]
    },
    {
     "name": "stderr",
     "output_type": "stream",
     "text": [
      "/Users/jayceepang/miniconda3/envs/atom2024/lib/python3.9/site-packages/imblearn/ensemble/_forest.py:577: FutureWarning: The default of `sampling_strategy` will change from `'auto'` to `'all'` in version 0.13. This change will follow the implementation proposed in the original paper. Set to `'all'` to silence this warning and adopt the future behaviour.\n",
      "  warn(\n",
      "/Users/jayceepang/miniconda3/envs/atom2024/lib/python3.9/site-packages/imblearn/ensemble/_forest.py:589: FutureWarning: The default of `replacement` will change from `False` to `True` in version 0.13. This change will follow the implementation proposed in the original paper. Set to `True` to silence this warning and adopt the future behaviour.\n",
      "  warn(\n"
     ]
    },
    {
     "name": "stdout",
     "output_type": "stream",
     "text": [
      "TRAIN: acc: 1.000, precision: 1.000, recall: 1.000, spec: 1.000\n",
      "TEST: acc: 0.944, precision: 0.914, recall: 0.981, spec: 0.907\n",
      "func:'rf_models'  took: 23.4968 sec\n",
      "\n",
      "NEK2_binding_MOE_ADASYN_RF_fold4\n",
      "TRAIN: acc: 1.000, precision: 1.000, recall: 1.000, spec: 1.000\n",
      "TEST: acc: 0.954, precision: 0.938, recall: 0.972, spec: 0.935\n",
      "func:'rf_models'  took: 24.7592 sec\n",
      "\n",
      "NEK2_binding_MOE_ADASYN_RF_BCW_fold4\n",
      "TRAIN: acc: 1.000, precision: 1.000, recall: 1.000, spec: 1.000\n",
      "TEST: acc: 0.956, precision: 0.942, recall: 0.972, spec: 0.940\n",
      "func:'rf_models'  took: 25.1729 sec\n",
      "\n",
      "NEK2_binding_MOE_ADASYN_BRFC_fold4\n"
     ]
    },
    {
     "name": "stderr",
     "output_type": "stream",
     "text": [
      "/Users/jayceepang/miniconda3/envs/atom2024/lib/python3.9/site-packages/imblearn/ensemble/_forest.py:577: FutureWarning: The default of `sampling_strategy` will change from `'auto'` to `'all'` in version 0.13. This change will follow the implementation proposed in the original paper. Set to `'all'` to silence this warning and adopt the future behaviour.\n",
      "  warn(\n",
      "/Users/jayceepang/miniconda3/envs/atom2024/lib/python3.9/site-packages/imblearn/ensemble/_forest.py:589: FutureWarning: The default of `replacement` will change from `False` to `True` in version 0.13. This change will follow the implementation proposed in the original paper. Set to `True` to silence this warning and adopt the future behaviour.\n",
      "  warn(\n"
     ]
    },
    {
     "name": "stdout",
     "output_type": "stream",
     "text": [
      "TRAIN: acc: 1.000, precision: 1.000, recall: 1.000, spec: 1.000\n",
      "TEST: acc: 0.954, precision: 0.938, recall: 0.972, spec: 0.935\n",
      "func:'rf_models'  took: 25.5034 sec\n",
      "\n",
      "NEK2_binding_MOE_ADASYN_BRFC_BCW_fold4\n"
     ]
    },
    {
     "name": "stderr",
     "output_type": "stream",
     "text": [
      "/Users/jayceepang/miniconda3/envs/atom2024/lib/python3.9/site-packages/imblearn/ensemble/_forest.py:577: FutureWarning: The default of `sampling_strategy` will change from `'auto'` to `'all'` in version 0.13. This change will follow the implementation proposed in the original paper. Set to `'all'` to silence this warning and adopt the future behaviour.\n",
      "  warn(\n",
      "/Users/jayceepang/miniconda3/envs/atom2024/lib/python3.9/site-packages/imblearn/ensemble/_forest.py:589: FutureWarning: The default of `replacement` will change from `False` to `True` in version 0.13. This change will follow the implementation proposed in the original paper. Set to `True` to silence this warning and adopt the future behaviour.\n",
      "  warn(\n"
     ]
    },
    {
     "name": "stdout",
     "output_type": "stream",
     "text": [
      "TRAIN: acc: 1.000, precision: 1.000, recall: 1.000, spec: 1.000\n",
      "TEST: acc: 0.954, precision: 0.938, recall: 0.972, spec: 0.935\n",
      "func:'rf_models'  took: 25.4461 sec\n",
      "\n",
      "NEK2_binding_MOE_ADASYN_RF_fold5\n",
      "TRAIN: acc: 1.000, precision: 1.000, recall: 1.000, spec: 1.000\n",
      "TEST: acc: 0.970, precision: 0.955, recall: 0.986, spec: 0.954\n",
      "func:'rf_models'  took: 25.5997 sec\n",
      "\n",
      "NEK2_binding_MOE_ADASYN_RF_BCW_fold5\n",
      "TRAIN: acc: 1.000, precision: 1.000, recall: 1.000, spec: 1.000\n",
      "TEST: acc: 0.961, precision: 0.942, recall: 0.981, spec: 0.940\n",
      "func:'rf_models'  took: 26.1715 sec\n",
      "\n",
      "NEK2_binding_MOE_ADASYN_BRFC_fold5\n"
     ]
    },
    {
     "name": "stderr",
     "output_type": "stream",
     "text": [
      "/Users/jayceepang/miniconda3/envs/atom2024/lib/python3.9/site-packages/imblearn/ensemble/_forest.py:577: FutureWarning: The default of `sampling_strategy` will change from `'auto'` to `'all'` in version 0.13. This change will follow the implementation proposed in the original paper. Set to `'all'` to silence this warning and adopt the future behaviour.\n",
      "  warn(\n",
      "/Users/jayceepang/miniconda3/envs/atom2024/lib/python3.9/site-packages/imblearn/ensemble/_forest.py:589: FutureWarning: The default of `replacement` will change from `False` to `True` in version 0.13. This change will follow the implementation proposed in the original paper. Set to `True` to silence this warning and adopt the future behaviour.\n",
      "  warn(\n"
     ]
    },
    {
     "name": "stdout",
     "output_type": "stream",
     "text": [
      "TRAIN: acc: 1.000, precision: 1.000, recall: 1.000, spec: 1.000\n",
      "TEST: acc: 0.970, precision: 0.959, recall: 0.981, spec: 0.958\n",
      "func:'rf_models'  took: 29.0730 sec\n",
      "\n",
      "NEK2_binding_MOE_ADASYN_BRFC_BCW_fold5\n"
     ]
    },
    {
     "name": "stderr",
     "output_type": "stream",
     "text": [
      "/Users/jayceepang/miniconda3/envs/atom2024/lib/python3.9/site-packages/imblearn/ensemble/_forest.py:577: FutureWarning: The default of `sampling_strategy` will change from `'auto'` to `'all'` in version 0.13. This change will follow the implementation proposed in the original paper. Set to `'all'` to silence this warning and adopt the future behaviour.\n",
      "  warn(\n",
      "/Users/jayceepang/miniconda3/envs/atom2024/lib/python3.9/site-packages/imblearn/ensemble/_forest.py:589: FutureWarning: The default of `replacement` will change from `False` to `True` in version 0.13. This change will follow the implementation proposed in the original paper. Set to `True` to silence this warning and adopt the future behaviour.\n",
      "  warn(\n"
     ]
    },
    {
     "name": "stdout",
     "output_type": "stream",
     "text": [
      "TRAIN: acc: 1.000, precision: 1.000, recall: 1.000, spec: 1.000\n",
      "TEST: acc: 0.961, precision: 0.942, recall: 0.981, spec: 0.940\n",
      "func:'rf_models'  took: 28.6030 sec\n",
      "\n",
      "NEK2_binding_MFP_none_scaled_RF_fold1\n",
      "TRAIN: acc: 1.000, precision: 1.000, recall: 1.000, spec: 1.000\n",
      "TEST: acc: 0.956, precision: 0.400, recall: 0.222, spec: 0.986\n",
      "func:'rf_models'  took: 4.6147 sec\n",
      "\n",
      "NEK2_binding_MFP_none_scaled_RF_BCW_fold1\n",
      "TRAIN: acc: 1.000, precision: 1.000, recall: 1.000, spec: 1.000\n",
      "TEST: acc: 0.956, precision: 0.455, recall: 0.556, spec: 0.972\n",
      "func:'rf_models'  took: 1.7529 sec\n",
      "\n",
      "NEK2_binding_MFP_none_scaled_BRFC_fold1\n"
     ]
    },
    {
     "name": "stderr",
     "output_type": "stream",
     "text": [
      "/Users/jayceepang/miniconda3/envs/atom2024/lib/python3.9/site-packages/imblearn/ensemble/_forest.py:577: FutureWarning: The default of `sampling_strategy` will change from `'auto'` to `'all'` in version 0.13. This change will follow the implementation proposed in the original paper. Set to `'all'` to silence this warning and adopt the future behaviour.\n",
      "  warn(\n",
      "/Users/jayceepang/miniconda3/envs/atom2024/lib/python3.9/site-packages/imblearn/ensemble/_forest.py:589: FutureWarning: The default of `replacement` will change from `False` to `True` in version 0.13. This change will follow the implementation proposed in the original paper. Set to `True` to silence this warning and adopt the future behaviour.\n",
      "  warn(\n"
     ]
    },
    {
     "name": "stdout",
     "output_type": "stream",
     "text": [
      "TRAIN: acc: 0.828, precision: 0.188, recall: 1.000, spec: 0.821\n",
      "TEST: acc: 0.804, precision: 0.143, recall: 0.778, spec: 0.806\n",
      "func:'rf_models'  took: 0.2356 sec\n",
      "\n",
      "NEK2_binding_MFP_none_scaled_BRFC_BCW_fold1\n"
     ]
    },
    {
     "name": "stderr",
     "output_type": "stream",
     "text": [
      "/Users/jayceepang/miniconda3/envs/atom2024/lib/python3.9/site-packages/imblearn/ensemble/_forest.py:577: FutureWarning: The default of `sampling_strategy` will change from `'auto'` to `'all'` in version 0.13. This change will follow the implementation proposed in the original paper. Set to `'all'` to silence this warning and adopt the future behaviour.\n",
      "  warn(\n",
      "/Users/jayceepang/miniconda3/envs/atom2024/lib/python3.9/site-packages/imblearn/ensemble/_forest.py:589: FutureWarning: The default of `replacement` will change from `False` to `True` in version 0.13. This change will follow the implementation proposed in the original paper. Set to `True` to silence this warning and adopt the future behaviour.\n",
      "  warn(\n"
     ]
    },
    {
     "name": "stdout",
     "output_type": "stream",
     "text": [
      "TRAIN: acc: 0.453, precision: 0.068, recall: 1.000, spec: 0.431\n",
      "TEST: acc: 0.400, precision: 0.062, recall: 1.000, spec: 0.375\n",
      "func:'rf_models'  took: 0.3595 sec\n",
      "\n",
      "NEK2_binding_MFP_none_scaled_RF_fold2\n",
      "TRAIN: acc: 1.000, precision: 1.000, recall: 1.000, spec: 1.000\n",
      "TEST: acc: 0.938, precision: 0.308, recall: 0.444, spec: 0.958\n",
      "func:'rf_models'  took: 4.5150 sec\n",
      "\n",
      "NEK2_binding_MFP_none_scaled_RF_BCW_fold2\n",
      "TRAIN: acc: 1.000, precision: 1.000, recall: 1.000, spec: 1.000\n",
      "TEST: acc: 0.889, precision: 0.136, recall: 0.333, spec: 0.912\n",
      "func:'rf_models'  took: 1.9793 sec\n",
      "\n",
      "NEK2_binding_MFP_none_scaled_BRFC_fold2\n"
     ]
    },
    {
     "name": "stderr",
     "output_type": "stream",
     "text": [
      "/Users/jayceepang/miniconda3/envs/atom2024/lib/python3.9/site-packages/imblearn/ensemble/_forest.py:577: FutureWarning: The default of `sampling_strategy` will change from `'auto'` to `'all'` in version 0.13. This change will follow the implementation proposed in the original paper. Set to `'all'` to silence this warning and adopt the future behaviour.\n",
      "  warn(\n",
      "/Users/jayceepang/miniconda3/envs/atom2024/lib/python3.9/site-packages/imblearn/ensemble/_forest.py:589: FutureWarning: The default of `replacement` will change from `False` to `True` in version 0.13. This change will follow the implementation proposed in the original paper. Set to `True` to silence this warning and adopt the future behaviour.\n",
      "  warn(\n"
     ]
    },
    {
     "name": "stdout",
     "output_type": "stream",
     "text": [
      "TRAIN: acc: 0.844, precision: 0.205, recall: 1.000, spec: 0.838\n",
      "TEST: acc: 0.809, precision: 0.130, recall: 0.667, spec: 0.815\n",
      "func:'rf_models'  took: 0.2374 sec\n",
      "\n",
      "NEK2_binding_MFP_none_scaled_BRFC_BCW_fold2\n"
     ]
    },
    {
     "name": "stderr",
     "output_type": "stream",
     "text": [
      "/Users/jayceepang/miniconda3/envs/atom2024/lib/python3.9/site-packages/imblearn/ensemble/_forest.py:577: FutureWarning: The default of `sampling_strategy` will change from `'auto'` to `'all'` in version 0.13. This change will follow the implementation proposed in the original paper. Set to `'all'` to silence this warning and adopt the future behaviour.\n",
      "  warn(\n",
      "/Users/jayceepang/miniconda3/envs/atom2024/lib/python3.9/site-packages/imblearn/ensemble/_forest.py:589: FutureWarning: The default of `replacement` will change from `False` to `True` in version 0.13. This change will follow the implementation proposed in the original paper. Set to `True` to silence this warning and adopt the future behaviour.\n",
      "  warn(\n"
     ]
    },
    {
     "name": "stdout",
     "output_type": "stream",
     "text": [
      "TRAIN: acc: 0.441, precision: 0.067, recall: 1.000, spec: 0.418\n",
      "TEST: acc: 0.427, precision: 0.059, recall: 0.889, spec: 0.407\n",
      "func:'rf_models'  took: 0.3585 sec\n",
      "\n",
      "NEK2_binding_MFP_none_scaled_RF_fold3\n",
      "TRAIN: acc: 1.000, precision: 1.000, recall: 1.000, spec: 1.000\n",
      "TEST: acc: 0.960, precision: 0.500, recall: 0.556, spec: 0.977\n",
      "func:'rf_models'  took: 3.2601 sec\n",
      "\n",
      "NEK2_binding_MFP_none_scaled_RF_BCW_fold3\n",
      "TRAIN: acc: 1.000, precision: 1.000, recall: 1.000, spec: 1.000\n",
      "TEST: acc: 0.933, precision: 0.250, recall: 0.333, spec: 0.958\n",
      "func:'rf_models'  took: 2.1777 sec\n",
      "\n",
      "NEK2_binding_MFP_none_scaled_BRFC_fold3\n"
     ]
    },
    {
     "name": "stderr",
     "output_type": "stream",
     "text": [
      "/Users/jayceepang/miniconda3/envs/atom2024/lib/python3.9/site-packages/imblearn/ensemble/_forest.py:577: FutureWarning: The default of `sampling_strategy` will change from `'auto'` to `'all'` in version 0.13. This change will follow the implementation proposed in the original paper. Set to `'all'` to silence this warning and adopt the future behaviour.\n",
      "  warn(\n",
      "/Users/jayceepang/miniconda3/envs/atom2024/lib/python3.9/site-packages/imblearn/ensemble/_forest.py:589: FutureWarning: The default of `replacement` will change from `False` to `True` in version 0.13. This change will follow the implementation proposed in the original paper. Set to `True` to silence this warning and adopt the future behaviour.\n",
      "  warn(\n"
     ]
    },
    {
     "name": "stdout",
     "output_type": "stream",
     "text": [
      "TRAIN: acc: 0.842, precision: 0.202, recall: 1.000, spec: 0.836\n",
      "TEST: acc: 0.760, precision: 0.105, recall: 0.667, spec: 0.764\n",
      "func:'rf_models'  took: 0.2503 sec\n",
      "\n",
      "NEK2_binding_MFP_none_scaled_BRFC_BCW_fold3\n"
     ]
    },
    {
     "name": "stderr",
     "output_type": "stream",
     "text": [
      "/Users/jayceepang/miniconda3/envs/atom2024/lib/python3.9/site-packages/imblearn/ensemble/_forest.py:577: FutureWarning: The default of `sampling_strategy` will change from `'auto'` to `'all'` in version 0.13. This change will follow the implementation proposed in the original paper. Set to `'all'` to silence this warning and adopt the future behaviour.\n",
      "  warn(\n",
      "/Users/jayceepang/miniconda3/envs/atom2024/lib/python3.9/site-packages/imblearn/ensemble/_forest.py:589: FutureWarning: The default of `replacement` will change from `False` to `True` in version 0.13. This change will follow the implementation proposed in the original paper. Set to `True` to silence this warning and adopt the future behaviour.\n",
      "  warn(\n"
     ]
    },
    {
     "name": "stdout",
     "output_type": "stream",
     "text": [
      "TRAIN: acc: 0.497, precision: 0.074, recall: 1.000, spec: 0.476\n",
      "TEST: acc: 0.480, precision: 0.057, recall: 0.778, spec: 0.468\n",
      "func:'rf_models'  took: 0.3477 sec\n",
      "\n",
      "NEK2_binding_MFP_none_scaled_RF_fold4\n",
      "TRAIN: acc: 1.000, precision: 1.000, recall: 1.000, spec: 1.000\n",
      "TEST: acc: 0.964, precision: 0.667, recall: 0.222, spec: 0.995\n",
      "func:'rf_models'  took: 4.3610 sec\n",
      "\n",
      "NEK2_binding_MFP_none_scaled_RF_BCW_fold4\n",
      "TRAIN: acc: 1.000, precision: 1.000, recall: 1.000, spec: 1.000\n",
      "TEST: acc: 0.929, precision: 0.267, recall: 0.444, spec: 0.949\n",
      "func:'rf_models'  took: 1.8585 sec\n",
      "\n",
      "NEK2_binding_MFP_none_scaled_BRFC_fold4\n"
     ]
    },
    {
     "name": "stderr",
     "output_type": "stream",
     "text": [
      "/Users/jayceepang/miniconda3/envs/atom2024/lib/python3.9/site-packages/imblearn/ensemble/_forest.py:577: FutureWarning: The default of `sampling_strategy` will change from `'auto'` to `'all'` in version 0.13. This change will follow the implementation proposed in the original paper. Set to `'all'` to silence this warning and adopt the future behaviour.\n",
      "  warn(\n",
      "/Users/jayceepang/miniconda3/envs/atom2024/lib/python3.9/site-packages/imblearn/ensemble/_forest.py:589: FutureWarning: The default of `replacement` will change from `False` to `True` in version 0.13. This change will follow the implementation proposed in the original paper. Set to `True` to silence this warning and adopt the future behaviour.\n",
      "  warn(\n"
     ]
    },
    {
     "name": "stdout",
     "output_type": "stream",
     "text": [
      "TRAIN: acc: 0.858, precision: 0.220, recall: 1.000, spec: 0.852\n",
      "TEST: acc: 0.831, precision: 0.128, recall: 0.556, spec: 0.843\n",
      "func:'rf_models'  took: 0.2361 sec\n",
      "\n",
      "NEK2_binding_MFP_none_scaled_BRFC_BCW_fold4\n"
     ]
    },
    {
     "name": "stderr",
     "output_type": "stream",
     "text": [
      "/Users/jayceepang/miniconda3/envs/atom2024/lib/python3.9/site-packages/imblearn/ensemble/_forest.py:577: FutureWarning: The default of `sampling_strategy` will change from `'auto'` to `'all'` in version 0.13. This change will follow the implementation proposed in the original paper. Set to `'all'` to silence this warning and adopt the future behaviour.\n",
      "  warn(\n",
      "/Users/jayceepang/miniconda3/envs/atom2024/lib/python3.9/site-packages/imblearn/ensemble/_forest.py:589: FutureWarning: The default of `replacement` will change from `False` to `True` in version 0.13. This change will follow the implementation proposed in the original paper. Set to `True` to silence this warning and adopt the future behaviour.\n",
      "  warn(\n"
     ]
    },
    {
     "name": "stdout",
     "output_type": "stream",
     "text": [
      "TRAIN: acc: 0.438, precision: 0.066, recall: 1.000, spec: 0.414\n",
      "TEST: acc: 0.404, precision: 0.050, recall: 0.778, spec: 0.389\n",
      "func:'rf_models'  took: 0.3405 sec\n",
      "\n",
      "NEK2_binding_MFP_none_scaled_RF_fold5\n",
      "TRAIN: acc: 1.000, precision: 1.000, recall: 1.000, spec: 1.000\n",
      "TEST: acc: 0.924, precision: 0.167, recall: 0.222, spec: 0.954\n",
      "func:'rf_models'  took: 4.8182 sec\n",
      "\n",
      "NEK2_binding_MFP_none_scaled_RF_BCW_fold5\n",
      "TRAIN: acc: 1.000, precision: 1.000, recall: 1.000, spec: 1.000\n",
      "TEST: acc: 0.956, precision: 0.467, recall: 0.778, spec: 0.963\n",
      "func:'rf_models'  took: 1.8059 sec\n",
      "\n",
      "NEK2_binding_MFP_none_scaled_BRFC_fold5\n"
     ]
    },
    {
     "name": "stderr",
     "output_type": "stream",
     "text": [
      "/Users/jayceepang/miniconda3/envs/atom2024/lib/python3.9/site-packages/imblearn/ensemble/_forest.py:577: FutureWarning: The default of `sampling_strategy` will change from `'auto'` to `'all'` in version 0.13. This change will follow the implementation proposed in the original paper. Set to `'all'` to silence this warning and adopt the future behaviour.\n",
      "  warn(\n",
      "/Users/jayceepang/miniconda3/envs/atom2024/lib/python3.9/site-packages/imblearn/ensemble/_forest.py:589: FutureWarning: The default of `replacement` will change from `False` to `True` in version 0.13. This change will follow the implementation proposed in the original paper. Set to `True` to silence this warning and adopt the future behaviour.\n",
      "  warn(\n"
     ]
    },
    {
     "name": "stdout",
     "output_type": "stream",
     "text": [
      "TRAIN: acc: 0.830, precision: 0.190, recall: 1.000, spec: 0.823\n",
      "TEST: acc: 0.764, precision: 0.121, recall: 0.778, spec: 0.764\n",
      "func:'rf_models'  took: 0.2464 sec\n",
      "\n",
      "NEK2_binding_MFP_none_scaled_BRFC_BCW_fold5\n"
     ]
    },
    {
     "name": "stderr",
     "output_type": "stream",
     "text": [
      "/Users/jayceepang/miniconda3/envs/atom2024/lib/python3.9/site-packages/imblearn/ensemble/_forest.py:577: FutureWarning: The default of `sampling_strategy` will change from `'auto'` to `'all'` in version 0.13. This change will follow the implementation proposed in the original paper. Set to `'all'` to silence this warning and adopt the future behaviour.\n",
      "  warn(\n",
      "/Users/jayceepang/miniconda3/envs/atom2024/lib/python3.9/site-packages/imblearn/ensemble/_forest.py:589: FutureWarning: The default of `replacement` will change from `False` to `True` in version 0.13. This change will follow the implementation proposed in the original paper. Set to `True` to silence this warning and adopt the future behaviour.\n",
      "  warn(\n"
     ]
    },
    {
     "name": "stdout",
     "output_type": "stream",
     "text": [
      "TRAIN: acc: 0.461, precision: 0.069, recall: 1.000, spec: 0.439\n",
      "TEST: acc: 0.409, precision: 0.051, recall: 0.778, spec: 0.394\n",
      "func:'rf_models'  took: 0.3621 sec\n",
      "\n",
      "NEK2_binding_MFP_UNDER_RF_fold1\n",
      "TRAIN: acc: 1.000, precision: 1.000, recall: 1.000, spec: 1.000\n",
      "TEST: acc: 0.889, precision: 0.818, recall: 1.000, spec: 0.778\n",
      "func:'rf_models'  took: 0.1760 sec\n",
      "\n",
      "NEK2_binding_MFP_UNDER_RF_BCW_fold1\n",
      "TRAIN: acc: 1.000, precision: 1.000, recall: 1.000, spec: 1.000\n",
      "TEST: acc: 0.889, precision: 0.818, recall: 1.000, spec: 0.778\n",
      "func:'rf_models'  took: 0.1806 sec\n",
      "\n",
      "NEK2_binding_MFP_UNDER_BRFC_fold1\n"
     ]
    },
    {
     "name": "stderr",
     "output_type": "stream",
     "text": [
      "/Users/jayceepang/miniconda3/envs/atom2024/lib/python3.9/site-packages/imblearn/ensemble/_forest.py:577: FutureWarning: The default of `sampling_strategy` will change from `'auto'` to `'all'` in version 0.13. This change will follow the implementation proposed in the original paper. Set to `'all'` to silence this warning and adopt the future behaviour.\n",
      "  warn(\n",
      "/Users/jayceepang/miniconda3/envs/atom2024/lib/python3.9/site-packages/imblearn/ensemble/_forest.py:589: FutureWarning: The default of `replacement` will change from `False` to `True` in version 0.13. This change will follow the implementation proposed in the original paper. Set to `True` to silence this warning and adopt the future behaviour.\n",
      "  warn(\n"
     ]
    },
    {
     "name": "stdout",
     "output_type": "stream",
     "text": [
      "TRAIN: acc: 1.000, precision: 1.000, recall: 1.000, spec: 1.000\n",
      "TEST: acc: 0.889, precision: 0.818, recall: 1.000, spec: 0.778\n",
      "func:'rf_models'  took: 0.2378 sec\n",
      "\n",
      "NEK2_binding_MFP_UNDER_BRFC_BCW_fold1\n"
     ]
    },
    {
     "name": "stderr",
     "output_type": "stream",
     "text": [
      "/Users/jayceepang/miniconda3/envs/atom2024/lib/python3.9/site-packages/imblearn/ensemble/_forest.py:577: FutureWarning: The default of `sampling_strategy` will change from `'auto'` to `'all'` in version 0.13. This change will follow the implementation proposed in the original paper. Set to `'all'` to silence this warning and adopt the future behaviour.\n",
      "  warn(\n",
      "/Users/jayceepang/miniconda3/envs/atom2024/lib/python3.9/site-packages/imblearn/ensemble/_forest.py:589: FutureWarning: The default of `replacement` will change from `False` to `True` in version 0.13. This change will follow the implementation proposed in the original paper. Set to `True` to silence this warning and adopt the future behaviour.\n",
      "  warn(\n"
     ]
    },
    {
     "name": "stdout",
     "output_type": "stream",
     "text": [
      "TRAIN: acc: 1.000, precision: 1.000, recall: 1.000, spec: 1.000\n",
      "TEST: acc: 0.889, precision: 0.818, recall: 1.000, spec: 0.778\n",
      "func:'rf_models'  took: 0.2441 sec\n",
      "\n",
      "NEK2_binding_MFP_UNDER_RF_fold2\n",
      "TRAIN: acc: 1.000, precision: 1.000, recall: 1.000, spec: 1.000\n",
      "TEST: acc: 0.722, precision: 0.750, recall: 0.667, spec: 0.778\n",
      "func:'rf_models'  took: 0.1555 sec\n",
      "\n",
      "NEK2_binding_MFP_UNDER_RF_BCW_fold2\n",
      "TRAIN: acc: 1.000, precision: 1.000, recall: 1.000, spec: 1.000\n",
      "TEST: acc: 0.667, precision: 0.667, recall: 0.667, spec: 0.667\n",
      "func:'rf_models'  took: 0.1594 sec\n",
      "\n",
      "NEK2_binding_MFP_UNDER_BRFC_fold2\n"
     ]
    },
    {
     "name": "stderr",
     "output_type": "stream",
     "text": [
      "/Users/jayceepang/miniconda3/envs/atom2024/lib/python3.9/site-packages/imblearn/ensemble/_forest.py:577: FutureWarning: The default of `sampling_strategy` will change from `'auto'` to `'all'` in version 0.13. This change will follow the implementation proposed in the original paper. Set to `'all'` to silence this warning and adopt the future behaviour.\n",
      "  warn(\n",
      "/Users/jayceepang/miniconda3/envs/atom2024/lib/python3.9/site-packages/imblearn/ensemble/_forest.py:589: FutureWarning: The default of `replacement` will change from `False` to `True` in version 0.13. This change will follow the implementation proposed in the original paper. Set to `True` to silence this warning and adopt the future behaviour.\n",
      "  warn(\n"
     ]
    },
    {
     "name": "stdout",
     "output_type": "stream",
     "text": [
      "TRAIN: acc: 1.000, precision: 1.000, recall: 1.000, spec: 1.000\n",
      "TEST: acc: 0.667, precision: 0.667, recall: 0.667, spec: 0.667\n",
      "func:'rf_models'  took: 0.2166 sec\n",
      "\n",
      "NEK2_binding_MFP_UNDER_BRFC_BCW_fold2\n"
     ]
    },
    {
     "name": "stderr",
     "output_type": "stream",
     "text": [
      "/Users/jayceepang/miniconda3/envs/atom2024/lib/python3.9/site-packages/imblearn/ensemble/_forest.py:577: FutureWarning: The default of `sampling_strategy` will change from `'auto'` to `'all'` in version 0.13. This change will follow the implementation proposed in the original paper. Set to `'all'` to silence this warning and adopt the future behaviour.\n",
      "  warn(\n",
      "/Users/jayceepang/miniconda3/envs/atom2024/lib/python3.9/site-packages/imblearn/ensemble/_forest.py:589: FutureWarning: The default of `replacement` will change from `False` to `True` in version 0.13. This change will follow the implementation proposed in the original paper. Set to `True` to silence this warning and adopt the future behaviour.\n",
      "  warn(\n"
     ]
    },
    {
     "name": "stdout",
     "output_type": "stream",
     "text": [
      "TRAIN: acc: 1.000, precision: 1.000, recall: 1.000, spec: 1.000\n",
      "TEST: acc: 0.722, precision: 0.750, recall: 0.667, spec: 0.778\n",
      "func:'rf_models'  took: 0.2189 sec\n",
      "\n",
      "NEK2_binding_MFP_UNDER_RF_fold3\n",
      "TRAIN: acc: 1.000, precision: 1.000, recall: 1.000, spec: 1.000\n",
      "TEST: acc: 0.611, precision: 0.600, recall: 0.667, spec: 0.556\n",
      "func:'rf_models'  took: 0.1553 sec\n",
      "\n",
      "NEK2_binding_MFP_UNDER_RF_BCW_fold3\n",
      "TRAIN: acc: 1.000, precision: 1.000, recall: 1.000, spec: 1.000\n",
      "TEST: acc: 0.667, precision: 0.667, recall: 0.667, spec: 0.667\n",
      "func:'rf_models'  took: 0.1584 sec\n",
      "\n",
      "NEK2_binding_MFP_UNDER_BRFC_fold3\n"
     ]
    },
    {
     "name": "stderr",
     "output_type": "stream",
     "text": [
      "/Users/jayceepang/miniconda3/envs/atom2024/lib/python3.9/site-packages/imblearn/ensemble/_forest.py:577: FutureWarning: The default of `sampling_strategy` will change from `'auto'` to `'all'` in version 0.13. This change will follow the implementation proposed in the original paper. Set to `'all'` to silence this warning and adopt the future behaviour.\n",
      "  warn(\n",
      "/Users/jayceepang/miniconda3/envs/atom2024/lib/python3.9/site-packages/imblearn/ensemble/_forest.py:589: FutureWarning: The default of `replacement` will change from `False` to `True` in version 0.13. This change will follow the implementation proposed in the original paper. Set to `True` to silence this warning and adopt the future behaviour.\n",
      "  warn(\n"
     ]
    },
    {
     "name": "stdout",
     "output_type": "stream",
     "text": [
      "TRAIN: acc: 1.000, precision: 1.000, recall: 1.000, spec: 1.000\n",
      "TEST: acc: 0.667, precision: 0.667, recall: 0.667, spec: 0.667\n",
      "func:'rf_models'  took: 0.2119 sec\n",
      "\n",
      "NEK2_binding_MFP_UNDER_BRFC_BCW_fold3\n"
     ]
    },
    {
     "name": "stderr",
     "output_type": "stream",
     "text": [
      "/Users/jayceepang/miniconda3/envs/atom2024/lib/python3.9/site-packages/imblearn/ensemble/_forest.py:577: FutureWarning: The default of `sampling_strategy` will change from `'auto'` to `'all'` in version 0.13. This change will follow the implementation proposed in the original paper. Set to `'all'` to silence this warning and adopt the future behaviour.\n",
      "  warn(\n",
      "/Users/jayceepang/miniconda3/envs/atom2024/lib/python3.9/site-packages/imblearn/ensemble/_forest.py:589: FutureWarning: The default of `replacement` will change from `False` to `True` in version 0.13. This change will follow the implementation proposed in the original paper. Set to `True` to silence this warning and adopt the future behaviour.\n",
      "  warn(\n"
     ]
    },
    {
     "name": "stdout",
     "output_type": "stream",
     "text": [
      "TRAIN: acc: 1.000, precision: 1.000, recall: 1.000, spec: 1.000\n",
      "TEST: acc: 0.667, precision: 0.667, recall: 0.667, spec: 0.667\n",
      "func:'rf_models'  took: 0.2171 sec\n",
      "\n",
      "NEK2_binding_MFP_UNDER_RF_fold4\n",
      "TRAIN: acc: 1.000, precision: 1.000, recall: 1.000, spec: 1.000\n",
      "TEST: acc: 0.833, precision: 0.875, recall: 0.778, spec: 0.889\n",
      "func:'rf_models'  took: 0.1661 sec\n",
      "\n",
      "NEK2_binding_MFP_UNDER_RF_BCW_fold4\n",
      "TRAIN: acc: 1.000, precision: 1.000, recall: 1.000, spec: 1.000\n",
      "TEST: acc: 0.833, precision: 0.875, recall: 0.778, spec: 0.889\n",
      "func:'rf_models'  took: 0.1704 sec\n",
      "\n",
      "NEK2_binding_MFP_UNDER_BRFC_fold4\n"
     ]
    },
    {
     "name": "stderr",
     "output_type": "stream",
     "text": [
      "/Users/jayceepang/miniconda3/envs/atom2024/lib/python3.9/site-packages/imblearn/ensemble/_forest.py:577: FutureWarning: The default of `sampling_strategy` will change from `'auto'` to `'all'` in version 0.13. This change will follow the implementation proposed in the original paper. Set to `'all'` to silence this warning and adopt the future behaviour.\n",
      "  warn(\n",
      "/Users/jayceepang/miniconda3/envs/atom2024/lib/python3.9/site-packages/imblearn/ensemble/_forest.py:589: FutureWarning: The default of `replacement` will change from `False` to `True` in version 0.13. This change will follow the implementation proposed in the original paper. Set to `True` to silence this warning and adopt the future behaviour.\n",
      "  warn(\n"
     ]
    },
    {
     "name": "stdout",
     "output_type": "stream",
     "text": [
      "TRAIN: acc: 1.000, precision: 1.000, recall: 1.000, spec: 1.000\n",
      "TEST: acc: 0.833, precision: 0.875, recall: 0.778, spec: 0.889\n",
      "func:'rf_models'  took: 0.2311 sec\n",
      "\n",
      "NEK2_binding_MFP_UNDER_BRFC_BCW_fold4\n"
     ]
    },
    {
     "name": "stderr",
     "output_type": "stream",
     "text": [
      "/Users/jayceepang/miniconda3/envs/atom2024/lib/python3.9/site-packages/imblearn/ensemble/_forest.py:577: FutureWarning: The default of `sampling_strategy` will change from `'auto'` to `'all'` in version 0.13. This change will follow the implementation proposed in the original paper. Set to `'all'` to silence this warning and adopt the future behaviour.\n",
      "  warn(\n",
      "/Users/jayceepang/miniconda3/envs/atom2024/lib/python3.9/site-packages/imblearn/ensemble/_forest.py:589: FutureWarning: The default of `replacement` will change from `False` to `True` in version 0.13. This change will follow the implementation proposed in the original paper. Set to `True` to silence this warning and adopt the future behaviour.\n",
      "  warn(\n"
     ]
    },
    {
     "name": "stdout",
     "output_type": "stream",
     "text": [
      "TRAIN: acc: 1.000, precision: 1.000, recall: 1.000, spec: 1.000\n",
      "TEST: acc: 0.833, precision: 0.875, recall: 0.778, spec: 0.889\n",
      "func:'rf_models'  took: 0.2309 sec\n",
      "\n",
      "NEK2_binding_MFP_UNDER_RF_fold5\n",
      "TRAIN: acc: 1.000, precision: 1.000, recall: 1.000, spec: 1.000\n",
      "TEST: acc: 0.778, precision: 0.778, recall: 0.778, spec: 0.778\n",
      "func:'rf_models'  took: 0.1822 sec\n",
      "\n",
      "NEK2_binding_MFP_UNDER_RF_BCW_fold5\n",
      "TRAIN: acc: 1.000, precision: 1.000, recall: 1.000, spec: 1.000\n",
      "TEST: acc: 0.778, precision: 0.778, recall: 0.778, spec: 0.778\n",
      "func:'rf_models'  took: 0.1866 sec\n",
      "\n",
      "NEK2_binding_MFP_UNDER_BRFC_fold5\n"
     ]
    },
    {
     "name": "stderr",
     "output_type": "stream",
     "text": [
      "/Users/jayceepang/miniconda3/envs/atom2024/lib/python3.9/site-packages/imblearn/ensemble/_forest.py:577: FutureWarning: The default of `sampling_strategy` will change from `'auto'` to `'all'` in version 0.13. This change will follow the implementation proposed in the original paper. Set to `'all'` to silence this warning and adopt the future behaviour.\n",
      "  warn(\n",
      "/Users/jayceepang/miniconda3/envs/atom2024/lib/python3.9/site-packages/imblearn/ensemble/_forest.py:589: FutureWarning: The default of `replacement` will change from `False` to `True` in version 0.13. This change will follow the implementation proposed in the original paper. Set to `True` to silence this warning and adopt the future behaviour.\n",
      "  warn(\n"
     ]
    },
    {
     "name": "stdout",
     "output_type": "stream",
     "text": [
      "TRAIN: acc: 1.000, precision: 1.000, recall: 1.000, spec: 1.000\n",
      "TEST: acc: 0.778, precision: 0.778, recall: 0.778, spec: 0.778\n",
      "func:'rf_models'  took: 0.2434 sec\n",
      "\n",
      "NEK2_binding_MFP_UNDER_BRFC_BCW_fold5\n"
     ]
    },
    {
     "name": "stderr",
     "output_type": "stream",
     "text": [
      "/Users/jayceepang/miniconda3/envs/atom2024/lib/python3.9/site-packages/imblearn/ensemble/_forest.py:577: FutureWarning: The default of `sampling_strategy` will change from `'auto'` to `'all'` in version 0.13. This change will follow the implementation proposed in the original paper. Set to `'all'` to silence this warning and adopt the future behaviour.\n",
      "  warn(\n",
      "/Users/jayceepang/miniconda3/envs/atom2024/lib/python3.9/site-packages/imblearn/ensemble/_forest.py:589: FutureWarning: The default of `replacement` will change from `False` to `True` in version 0.13. This change will follow the implementation proposed in the original paper. Set to `True` to silence this warning and adopt the future behaviour.\n",
      "  warn(\n"
     ]
    },
    {
     "name": "stdout",
     "output_type": "stream",
     "text": [
      "TRAIN: acc: 1.000, precision: 1.000, recall: 1.000, spec: 1.000\n",
      "TEST: acc: 0.722, precision: 0.700, recall: 0.778, spec: 0.667\n",
      "func:'rf_models'  took: 0.2464 sec\n",
      "\n",
      "NEK2_binding_MFP_SMOTE_RF_fold1\n",
      "TRAIN: acc: 1.000, precision: 1.000, recall: 1.000, spec: 1.000\n",
      "TEST: acc: 0.970, precision: 0.981, recall: 0.958, spec: 0.981\n",
      "func:'rf_models'  took: 7.5765 sec\n",
      "\n",
      "NEK2_binding_MFP_SMOTE_RF_BCW_fold1\n",
      "TRAIN: acc: 1.000, precision: 1.000, recall: 1.000, spec: 1.000\n",
      "TEST: acc: 0.970, precision: 0.981, recall: 0.958, spec: 0.981\n",
      "func:'rf_models'  took: 7.6501 sec\n",
      "\n",
      "NEK2_binding_MFP_SMOTE_BRFC_fold1\n"
     ]
    },
    {
     "name": "stderr",
     "output_type": "stream",
     "text": [
      "/Users/jayceepang/miniconda3/envs/atom2024/lib/python3.9/site-packages/imblearn/ensemble/_forest.py:577: FutureWarning: The default of `sampling_strategy` will change from `'auto'` to `'all'` in version 0.13. This change will follow the implementation proposed in the original paper. Set to `'all'` to silence this warning and adopt the future behaviour.\n",
      "  warn(\n",
      "/Users/jayceepang/miniconda3/envs/atom2024/lib/python3.9/site-packages/imblearn/ensemble/_forest.py:589: FutureWarning: The default of `replacement` will change from `False` to `True` in version 0.13. This change will follow the implementation proposed in the original paper. Set to `True` to silence this warning and adopt the future behaviour.\n",
      "  warn(\n"
     ]
    },
    {
     "name": "stdout",
     "output_type": "stream",
     "text": [
      "TRAIN: acc: 1.000, precision: 1.000, recall: 1.000, spec: 1.000\n",
      "TEST: acc: 0.970, precision: 0.981, recall: 0.958, spec: 0.981\n",
      "func:'rf_models'  took: 9.2824 sec\n",
      "\n",
      "NEK2_binding_MFP_SMOTE_BRFC_BCW_fold1\n"
     ]
    },
    {
     "name": "stderr",
     "output_type": "stream",
     "text": [
      "/Users/jayceepang/miniconda3/envs/atom2024/lib/python3.9/site-packages/imblearn/ensemble/_forest.py:577: FutureWarning: The default of `sampling_strategy` will change from `'auto'` to `'all'` in version 0.13. This change will follow the implementation proposed in the original paper. Set to `'all'` to silence this warning and adopt the future behaviour.\n",
      "  warn(\n",
      "/Users/jayceepang/miniconda3/envs/atom2024/lib/python3.9/site-packages/imblearn/ensemble/_forest.py:589: FutureWarning: The default of `replacement` will change from `False` to `True` in version 0.13. This change will follow the implementation proposed in the original paper. Set to `True` to silence this warning and adopt the future behaviour.\n",
      "  warn(\n"
     ]
    },
    {
     "name": "stdout",
     "output_type": "stream",
     "text": [
      "TRAIN: acc: 1.000, precision: 1.000, recall: 1.000, spec: 1.000\n",
      "TEST: acc: 0.970, precision: 0.981, recall: 0.958, spec: 0.981\n",
      "func:'rf_models'  took: 9.3439 sec\n",
      "\n",
      "NEK2_binding_MFP_SMOTE_RF_fold2\n",
      "TRAIN: acc: 1.000, precision: 1.000, recall: 1.000, spec: 1.000\n",
      "TEST: acc: 0.965, precision: 0.955, recall: 0.977, spec: 0.954\n",
      "func:'rf_models'  took: 6.5763 sec\n",
      "\n",
      "NEK2_binding_MFP_SMOTE_RF_BCW_fold2\n",
      "TRAIN: acc: 1.000, precision: 1.000, recall: 1.000, spec: 1.000\n",
      "TEST: acc: 0.965, precision: 0.955, recall: 0.977, spec: 0.954\n",
      "func:'rf_models'  took: 6.7526 sec\n",
      "\n",
      "NEK2_binding_MFP_SMOTE_BRFC_fold2\n"
     ]
    },
    {
     "name": "stderr",
     "output_type": "stream",
     "text": [
      "/Users/jayceepang/miniconda3/envs/atom2024/lib/python3.9/site-packages/imblearn/ensemble/_forest.py:577: FutureWarning: The default of `sampling_strategy` will change from `'auto'` to `'all'` in version 0.13. This change will follow the implementation proposed in the original paper. Set to `'all'` to silence this warning and adopt the future behaviour.\n",
      "  warn(\n",
      "/Users/jayceepang/miniconda3/envs/atom2024/lib/python3.9/site-packages/imblearn/ensemble/_forest.py:589: FutureWarning: The default of `replacement` will change from `False` to `True` in version 0.13. This change will follow the implementation proposed in the original paper. Set to `True` to silence this warning and adopt the future behaviour.\n",
      "  warn(\n"
     ]
    },
    {
     "name": "stdout",
     "output_type": "stream",
     "text": [
      "TRAIN: acc: 1.000, precision: 1.000, recall: 1.000, spec: 1.000\n",
      "TEST: acc: 0.965, precision: 0.955, recall: 0.977, spec: 0.954\n",
      "func:'rf_models'  took: 8.3845 sec\n",
      "\n",
      "NEK2_binding_MFP_SMOTE_BRFC_BCW_fold2\n"
     ]
    },
    {
     "name": "stderr",
     "output_type": "stream",
     "text": [
      "/Users/jayceepang/miniconda3/envs/atom2024/lib/python3.9/site-packages/imblearn/ensemble/_forest.py:577: FutureWarning: The default of `sampling_strategy` will change from `'auto'` to `'all'` in version 0.13. This change will follow the implementation proposed in the original paper. Set to `'all'` to silence this warning and adopt the future behaviour.\n",
      "  warn(\n",
      "/Users/jayceepang/miniconda3/envs/atom2024/lib/python3.9/site-packages/imblearn/ensemble/_forest.py:589: FutureWarning: The default of `replacement` will change from `False` to `True` in version 0.13. This change will follow the implementation proposed in the original paper. Set to `True` to silence this warning and adopt the future behaviour.\n",
      "  warn(\n"
     ]
    },
    {
     "name": "stdout",
     "output_type": "stream",
     "text": [
      "TRAIN: acc: 1.000, precision: 1.000, recall: 1.000, spec: 1.000\n",
      "TEST: acc: 0.963, precision: 0.950, recall: 0.977, spec: 0.949\n",
      "func:'rf_models'  took: 8.6321 sec\n",
      "\n",
      "NEK2_binding_MFP_SMOTE_RF_fold3\n",
      "TRAIN: acc: 1.000, precision: 1.000, recall: 1.000, spec: 1.000\n",
      "TEST: acc: 0.975, precision: 0.977, recall: 0.972, spec: 0.977\n",
      "func:'rf_models'  took: 6.4924 sec\n",
      "\n",
      "NEK2_binding_MFP_SMOTE_RF_BCW_fold3\n",
      "TRAIN: acc: 1.000, precision: 1.000, recall: 1.000, spec: 1.000\n",
      "TEST: acc: 0.975, precision: 0.977, recall: 0.972, spec: 0.977\n",
      "func:'rf_models'  took: 6.6323 sec\n",
      "\n",
      "NEK2_binding_MFP_SMOTE_BRFC_fold3\n"
     ]
    },
    {
     "name": "stderr",
     "output_type": "stream",
     "text": [
      "/Users/jayceepang/miniconda3/envs/atom2024/lib/python3.9/site-packages/imblearn/ensemble/_forest.py:577: FutureWarning: The default of `sampling_strategy` will change from `'auto'` to `'all'` in version 0.13. This change will follow the implementation proposed in the original paper. Set to `'all'` to silence this warning and adopt the future behaviour.\n",
      "  warn(\n",
      "/Users/jayceepang/miniconda3/envs/atom2024/lib/python3.9/site-packages/imblearn/ensemble/_forest.py:589: FutureWarning: The default of `replacement` will change from `False` to `True` in version 0.13. This change will follow the implementation proposed in the original paper. Set to `True` to silence this warning and adopt the future behaviour.\n",
      "  warn(\n"
     ]
    },
    {
     "name": "stdout",
     "output_type": "stream",
     "text": [
      "TRAIN: acc: 1.000, precision: 1.000, recall: 1.000, spec: 1.000\n",
      "TEST: acc: 0.972, precision: 0.972, recall: 0.972, spec: 0.972\n",
      "func:'rf_models'  took: 8.3367 sec\n",
      "\n",
      "NEK2_binding_MFP_SMOTE_BRFC_BCW_fold3\n"
     ]
    },
    {
     "name": "stderr",
     "output_type": "stream",
     "text": [
      "/Users/jayceepang/miniconda3/envs/atom2024/lib/python3.9/site-packages/imblearn/ensemble/_forest.py:577: FutureWarning: The default of `sampling_strategy` will change from `'auto'` to `'all'` in version 0.13. This change will follow the implementation proposed in the original paper. Set to `'all'` to silence this warning and adopt the future behaviour.\n",
      "  warn(\n",
      "/Users/jayceepang/miniconda3/envs/atom2024/lib/python3.9/site-packages/imblearn/ensemble/_forest.py:589: FutureWarning: The default of `replacement` will change from `False` to `True` in version 0.13. This change will follow the implementation proposed in the original paper. Set to `True` to silence this warning and adopt the future behaviour.\n",
      "  warn(\n"
     ]
    },
    {
     "name": "stdout",
     "output_type": "stream",
     "text": [
      "TRAIN: acc: 1.000, precision: 1.000, recall: 1.000, spec: 1.000\n",
      "TEST: acc: 0.975, precision: 0.977, recall: 0.972, spec: 0.977\n",
      "func:'rf_models'  took: 8.2695 sec\n",
      "\n",
      "NEK2_binding_MFP_SMOTE_RF_fold4\n",
      "TRAIN: acc: 1.000, precision: 1.000, recall: 1.000, spec: 1.000\n",
      "TEST: acc: 0.956, precision: 0.942, recall: 0.972, spec: 0.940\n",
      "func:'rf_models'  took: 6.4016 sec\n",
      "\n",
      "NEK2_binding_MFP_SMOTE_RF_BCW_fold4\n",
      "TRAIN: acc: 1.000, precision: 1.000, recall: 1.000, spec: 1.000\n",
      "TEST: acc: 0.956, precision: 0.942, recall: 0.972, spec: 0.940\n",
      "func:'rf_models'  took: 6.5489 sec\n",
      "\n",
      "NEK2_binding_MFP_SMOTE_BRFC_fold4\n"
     ]
    },
    {
     "name": "stderr",
     "output_type": "stream",
     "text": [
      "/Users/jayceepang/miniconda3/envs/atom2024/lib/python3.9/site-packages/imblearn/ensemble/_forest.py:577: FutureWarning: The default of `sampling_strategy` will change from `'auto'` to `'all'` in version 0.13. This change will follow the implementation proposed in the original paper. Set to `'all'` to silence this warning and adopt the future behaviour.\n",
      "  warn(\n",
      "/Users/jayceepang/miniconda3/envs/atom2024/lib/python3.9/site-packages/imblearn/ensemble/_forest.py:589: FutureWarning: The default of `replacement` will change from `False` to `True` in version 0.13. This change will follow the implementation proposed in the original paper. Set to `True` to silence this warning and adopt the future behaviour.\n",
      "  warn(\n"
     ]
    },
    {
     "name": "stdout",
     "output_type": "stream",
     "text": [
      "TRAIN: acc: 1.000, precision: 1.000, recall: 1.000, spec: 1.000\n",
      "TEST: acc: 0.954, precision: 0.938, recall: 0.972, spec: 0.935\n",
      "func:'rf_models'  took: 8.0610 sec\n",
      "\n",
      "NEK2_binding_MFP_SMOTE_BRFC_BCW_fold4\n"
     ]
    },
    {
     "name": "stderr",
     "output_type": "stream",
     "text": [
      "/Users/jayceepang/miniconda3/envs/atom2024/lib/python3.9/site-packages/imblearn/ensemble/_forest.py:577: FutureWarning: The default of `sampling_strategy` will change from `'auto'` to `'all'` in version 0.13. This change will follow the implementation proposed in the original paper. Set to `'all'` to silence this warning and adopt the future behaviour.\n",
      "  warn(\n",
      "/Users/jayceepang/miniconda3/envs/atom2024/lib/python3.9/site-packages/imblearn/ensemble/_forest.py:589: FutureWarning: The default of `replacement` will change from `False` to `True` in version 0.13. This change will follow the implementation proposed in the original paper. Set to `True` to silence this warning and adopt the future behaviour.\n",
      "  warn(\n"
     ]
    },
    {
     "name": "stdout",
     "output_type": "stream",
     "text": [
      "TRAIN: acc: 1.000, precision: 1.000, recall: 1.000, spec: 1.000\n",
      "TEST: acc: 0.958, precision: 0.946, recall: 0.972, spec: 0.944\n",
      "func:'rf_models'  took: 8.1323 sec\n",
      "\n",
      "NEK2_binding_MFP_SMOTE_RF_fold5\n",
      "TRAIN: acc: 1.000, precision: 1.000, recall: 1.000, spec: 1.000\n",
      "TEST: acc: 0.949, precision: 0.937, recall: 0.963, spec: 0.935\n",
      "func:'rf_models'  took: 7.3331 sec\n",
      "\n",
      "NEK2_binding_MFP_SMOTE_RF_BCW_fold5\n",
      "TRAIN: acc: 1.000, precision: 1.000, recall: 1.000, spec: 1.000\n",
      "TEST: acc: 0.954, precision: 0.945, recall: 0.963, spec: 0.944\n",
      "func:'rf_models'  took: 7.6769 sec\n",
      "\n",
      "NEK2_binding_MFP_SMOTE_BRFC_fold5\n"
     ]
    },
    {
     "name": "stderr",
     "output_type": "stream",
     "text": [
      "/Users/jayceepang/miniconda3/envs/atom2024/lib/python3.9/site-packages/imblearn/ensemble/_forest.py:577: FutureWarning: The default of `sampling_strategy` will change from `'auto'` to `'all'` in version 0.13. This change will follow the implementation proposed in the original paper. Set to `'all'` to silence this warning and adopt the future behaviour.\n",
      "  warn(\n",
      "/Users/jayceepang/miniconda3/envs/atom2024/lib/python3.9/site-packages/imblearn/ensemble/_forest.py:589: FutureWarning: The default of `replacement` will change from `False` to `True` in version 0.13. This change will follow the implementation proposed in the original paper. Set to `True` to silence this warning and adopt the future behaviour.\n",
      "  warn(\n"
     ]
    },
    {
     "name": "stdout",
     "output_type": "stream",
     "text": [
      "TRAIN: acc: 1.000, precision: 1.000, recall: 1.000, spec: 1.000\n",
      "TEST: acc: 0.951, precision: 0.941, recall: 0.963, spec: 0.940\n",
      "func:'rf_models'  took: 9.2367 sec\n",
      "\n",
      "NEK2_binding_MFP_SMOTE_BRFC_BCW_fold5\n"
     ]
    },
    {
     "name": "stderr",
     "output_type": "stream",
     "text": [
      "/Users/jayceepang/miniconda3/envs/atom2024/lib/python3.9/site-packages/imblearn/ensemble/_forest.py:577: FutureWarning: The default of `sampling_strategy` will change from `'auto'` to `'all'` in version 0.13. This change will follow the implementation proposed in the original paper. Set to `'all'` to silence this warning and adopt the future behaviour.\n",
      "  warn(\n",
      "/Users/jayceepang/miniconda3/envs/atom2024/lib/python3.9/site-packages/imblearn/ensemble/_forest.py:589: FutureWarning: The default of `replacement` will change from `False` to `True` in version 0.13. This change will follow the implementation proposed in the original paper. Set to `True` to silence this warning and adopt the future behaviour.\n",
      "  warn(\n"
     ]
    },
    {
     "name": "stdout",
     "output_type": "stream",
     "text": [
      "TRAIN: acc: 1.000, precision: 1.000, recall: 1.000, spec: 1.000\n",
      "TEST: acc: 0.956, precision: 0.950, recall: 0.963, spec: 0.949\n",
      "func:'rf_models'  took: 9.3478 sec\n",
      "\n",
      "NEK2_binding_MFP_ADASYN_RF_fold1\n",
      "TRAIN: acc: 1.000, precision: 1.000, recall: 1.000, spec: 1.000\n",
      "TEST: acc: 0.977, precision: 0.990, recall: 0.963, spec: 0.991\n",
      "func:'rf_models'  took: 7.3991 sec\n",
      "\n",
      "NEK2_binding_MFP_ADASYN_RF_BCW_fold1\n",
      "TRAIN: acc: 1.000, precision: 1.000, recall: 1.000, spec: 1.000\n",
      "TEST: acc: 0.977, precision: 0.990, recall: 0.963, spec: 0.991\n",
      "func:'rf_models'  took: 7.5230 sec\n",
      "\n",
      "NEK2_binding_MFP_ADASYN_BRFC_fold1\n"
     ]
    },
    {
     "name": "stderr",
     "output_type": "stream",
     "text": [
      "/Users/jayceepang/miniconda3/envs/atom2024/lib/python3.9/site-packages/imblearn/ensemble/_forest.py:577: FutureWarning: The default of `sampling_strategy` will change from `'auto'` to `'all'` in version 0.13. This change will follow the implementation proposed in the original paper. Set to `'all'` to silence this warning and adopt the future behaviour.\n",
      "  warn(\n",
      "/Users/jayceepang/miniconda3/envs/atom2024/lib/python3.9/site-packages/imblearn/ensemble/_forest.py:589: FutureWarning: The default of `replacement` will change from `False` to `True` in version 0.13. This change will follow the implementation proposed in the original paper. Set to `True` to silence this warning and adopt the future behaviour.\n",
      "  warn(\n"
     ]
    },
    {
     "name": "stdout",
     "output_type": "stream",
     "text": [
      "TRAIN: acc: 1.000, precision: 1.000, recall: 1.000, spec: 1.000\n",
      "TEST: acc: 0.977, precision: 0.990, recall: 0.963, spec: 0.991\n",
      "func:'rf_models'  took: 8.7796 sec\n",
      "\n",
      "NEK2_binding_MFP_ADASYN_BRFC_BCW_fold1\n"
     ]
    },
    {
     "name": "stderr",
     "output_type": "stream",
     "text": [
      "/Users/jayceepang/miniconda3/envs/atom2024/lib/python3.9/site-packages/imblearn/ensemble/_forest.py:577: FutureWarning: The default of `sampling_strategy` will change from `'auto'` to `'all'` in version 0.13. This change will follow the implementation proposed in the original paper. Set to `'all'` to silence this warning and adopt the future behaviour.\n",
      "  warn(\n",
      "/Users/jayceepang/miniconda3/envs/atom2024/lib/python3.9/site-packages/imblearn/ensemble/_forest.py:589: FutureWarning: The default of `replacement` will change from `False` to `True` in version 0.13. This change will follow the implementation proposed in the original paper. Set to `True` to silence this warning and adopt the future behaviour.\n",
      "  warn(\n"
     ]
    },
    {
     "name": "stdout",
     "output_type": "stream",
     "text": [
      "TRAIN: acc: 1.000, precision: 1.000, recall: 1.000, spec: 1.000\n",
      "TEST: acc: 0.977, precision: 0.990, recall: 0.963, spec: 0.991\n",
      "func:'rf_models'  took: 8.3234 sec\n",
      "\n",
      "NEK2_binding_MFP_ADASYN_RF_fold2\n",
      "TRAIN: acc: 1.000, precision: 1.000, recall: 1.000, spec: 1.000\n",
      "TEST: acc: 0.967, precision: 0.950, recall: 0.986, spec: 0.949\n",
      "func:'rf_models'  took: 7.5847 sec\n",
      "\n",
      "NEK2_binding_MFP_ADASYN_RF_BCW_fold2\n",
      "TRAIN: acc: 1.000, precision: 1.000, recall: 1.000, spec: 1.000\n",
      "TEST: acc: 0.967, precision: 0.955, recall: 0.981, spec: 0.954\n",
      "func:'rf_models'  took: 7.6944 sec\n",
      "\n",
      "NEK2_binding_MFP_ADASYN_BRFC_fold2\n"
     ]
    },
    {
     "name": "stderr",
     "output_type": "stream",
     "text": [
      "/Users/jayceepang/miniconda3/envs/atom2024/lib/python3.9/site-packages/imblearn/ensemble/_forest.py:577: FutureWarning: The default of `sampling_strategy` will change from `'auto'` to `'all'` in version 0.13. This change will follow the implementation proposed in the original paper. Set to `'all'` to silence this warning and adopt the future behaviour.\n",
      "  warn(\n",
      "/Users/jayceepang/miniconda3/envs/atom2024/lib/python3.9/site-packages/imblearn/ensemble/_forest.py:589: FutureWarning: The default of `replacement` will change from `False` to `True` in version 0.13. This change will follow the implementation proposed in the original paper. Set to `True` to silence this warning and adopt the future behaviour.\n",
      "  warn(\n"
     ]
    },
    {
     "name": "stdout",
     "output_type": "stream",
     "text": [
      "TRAIN: acc: 1.000, precision: 1.000, recall: 1.000, spec: 1.000\n",
      "TEST: acc: 0.967, precision: 0.950, recall: 0.986, spec: 0.949\n",
      "func:'rf_models'  took: 9.2315 sec\n",
      "\n",
      "NEK2_binding_MFP_ADASYN_BRFC_BCW_fold2\n"
     ]
    },
    {
     "name": "stderr",
     "output_type": "stream",
     "text": [
      "/Users/jayceepang/miniconda3/envs/atom2024/lib/python3.9/site-packages/imblearn/ensemble/_forest.py:577: FutureWarning: The default of `sampling_strategy` will change from `'auto'` to `'all'` in version 0.13. This change will follow the implementation proposed in the original paper. Set to `'all'` to silence this warning and adopt the future behaviour.\n",
      "  warn(\n",
      "/Users/jayceepang/miniconda3/envs/atom2024/lib/python3.9/site-packages/imblearn/ensemble/_forest.py:589: FutureWarning: The default of `replacement` will change from `False` to `True` in version 0.13. This change will follow the implementation proposed in the original paper. Set to `True` to silence this warning and adopt the future behaviour.\n",
      "  warn(\n"
     ]
    },
    {
     "name": "stdout",
     "output_type": "stream",
     "text": [
      "TRAIN: acc: 1.000, precision: 1.000, recall: 1.000, spec: 1.000\n",
      "TEST: acc: 0.963, precision: 0.946, recall: 0.981, spec: 0.944\n",
      "func:'rf_models'  took: 9.7459 sec\n",
      "\n",
      "NEK2_binding_MFP_ADASYN_RF_fold3\n",
      "TRAIN: acc: 1.000, precision: 1.000, recall: 1.000, spec: 1.000\n",
      "TEST: acc: 0.972, precision: 0.967, recall: 0.977, spec: 0.968\n",
      "func:'rf_models'  took: 7.5139 sec\n",
      "\n",
      "NEK2_binding_MFP_ADASYN_RF_BCW_fold3\n",
      "TRAIN: acc: 1.000, precision: 1.000, recall: 1.000, spec: 1.000\n",
      "TEST: acc: 0.974, precision: 0.972, recall: 0.977, spec: 0.972\n",
      "func:'rf_models'  took: 7.5826 sec\n",
      "\n",
      "NEK2_binding_MFP_ADASYN_BRFC_fold3\n"
     ]
    },
    {
     "name": "stderr",
     "output_type": "stream",
     "text": [
      "/Users/jayceepang/miniconda3/envs/atom2024/lib/python3.9/site-packages/imblearn/ensemble/_forest.py:577: FutureWarning: The default of `sampling_strategy` will change from `'auto'` to `'all'` in version 0.13. This change will follow the implementation proposed in the original paper. Set to `'all'` to silence this warning and adopt the future behaviour.\n",
      "  warn(\n",
      "/Users/jayceepang/miniconda3/envs/atom2024/lib/python3.9/site-packages/imblearn/ensemble/_forest.py:589: FutureWarning: The default of `replacement` will change from `False` to `True` in version 0.13. This change will follow the implementation proposed in the original paper. Set to `True` to silence this warning and adopt the future behaviour.\n",
      "  warn(\n"
     ]
    },
    {
     "name": "stdout",
     "output_type": "stream",
     "text": [
      "TRAIN: acc: 1.000, precision: 1.000, recall: 1.000, spec: 1.000\n",
      "TEST: acc: 0.977, precision: 0.972, recall: 0.981, spec: 0.972\n",
      "func:'rf_models'  took: 8.9010 sec\n",
      "\n",
      "NEK2_binding_MFP_ADASYN_BRFC_BCW_fold3\n"
     ]
    },
    {
     "name": "stderr",
     "output_type": "stream",
     "text": [
      "/Users/jayceepang/miniconda3/envs/atom2024/lib/python3.9/site-packages/imblearn/ensemble/_forest.py:577: FutureWarning: The default of `sampling_strategy` will change from `'auto'` to `'all'` in version 0.13. This change will follow the implementation proposed in the original paper. Set to `'all'` to silence this warning and adopt the future behaviour.\n",
      "  warn(\n",
      "/Users/jayceepang/miniconda3/envs/atom2024/lib/python3.9/site-packages/imblearn/ensemble/_forest.py:589: FutureWarning: The default of `replacement` will change from `False` to `True` in version 0.13. This change will follow the implementation proposed in the original paper. Set to `True` to silence this warning and adopt the future behaviour.\n",
      "  warn(\n"
     ]
    },
    {
     "name": "stdout",
     "output_type": "stream",
     "text": [
      "TRAIN: acc: 1.000, precision: 1.000, recall: 1.000, spec: 1.000\n",
      "TEST: acc: 0.972, precision: 0.967, recall: 0.977, spec: 0.968\n",
      "func:'rf_models'  took: 9.8815 sec\n",
      "\n",
      "NEK2_binding_MFP_ADASYN_RF_fold4\n",
      "TRAIN: acc: 1.000, precision: 1.000, recall: 1.000, spec: 1.000\n",
      "TEST: acc: 0.956, precision: 0.941, recall: 0.972, spec: 0.940\n",
      "func:'rf_models'  took: 8.1158 sec\n",
      "\n",
      "NEK2_binding_MFP_ADASYN_RF_BCW_fold4\n",
      "TRAIN: acc: 1.000, precision: 1.000, recall: 1.000, spec: 1.000\n",
      "TEST: acc: 0.949, precision: 0.928, recall: 0.972, spec: 0.926\n",
      "func:'rf_models'  took: 8.1191 sec\n",
      "\n",
      "NEK2_binding_MFP_ADASYN_BRFC_fold4\n"
     ]
    },
    {
     "name": "stderr",
     "output_type": "stream",
     "text": [
      "/Users/jayceepang/miniconda3/envs/atom2024/lib/python3.9/site-packages/imblearn/ensemble/_forest.py:577: FutureWarning: The default of `sampling_strategy` will change from `'auto'` to `'all'` in version 0.13. This change will follow the implementation proposed in the original paper. Set to `'all'` to silence this warning and adopt the future behaviour.\n",
      "  warn(\n",
      "/Users/jayceepang/miniconda3/envs/atom2024/lib/python3.9/site-packages/imblearn/ensemble/_forest.py:589: FutureWarning: The default of `replacement` will change from `False` to `True` in version 0.13. This change will follow the implementation proposed in the original paper. Set to `True` to silence this warning and adopt the future behaviour.\n",
      "  warn(\n"
     ]
    },
    {
     "name": "stdout",
     "output_type": "stream",
     "text": [
      "TRAIN: acc: 1.000, precision: 1.000, recall: 1.000, spec: 1.000\n",
      "TEST: acc: 0.951, precision: 0.932, recall: 0.972, spec: 0.931\n",
      "func:'rf_models'  took: 9.9254 sec\n",
      "\n",
      "NEK2_binding_MFP_ADASYN_BRFC_BCW_fold4\n"
     ]
    },
    {
     "name": "stderr",
     "output_type": "stream",
     "text": [
      "/Users/jayceepang/miniconda3/envs/atom2024/lib/python3.9/site-packages/imblearn/ensemble/_forest.py:577: FutureWarning: The default of `sampling_strategy` will change from `'auto'` to `'all'` in version 0.13. This change will follow the implementation proposed in the original paper. Set to `'all'` to silence this warning and adopt the future behaviour.\n",
      "  warn(\n",
      "/Users/jayceepang/miniconda3/envs/atom2024/lib/python3.9/site-packages/imblearn/ensemble/_forest.py:589: FutureWarning: The default of `replacement` will change from `False` to `True` in version 0.13. This change will follow the implementation proposed in the original paper. Set to `True` to silence this warning and adopt the future behaviour.\n",
      "  warn(\n"
     ]
    },
    {
     "name": "stdout",
     "output_type": "stream",
     "text": [
      "TRAIN: acc: 1.000, precision: 1.000, recall: 1.000, spec: 1.000\n",
      "TEST: acc: 0.951, precision: 0.932, recall: 0.972, spec: 0.931\n",
      "func:'rf_models'  took: 10.1860 sec\n",
      "\n",
      "NEK2_binding_MFP_ADASYN_RF_fold5\n",
      "TRAIN: acc: 1.000, precision: 1.000, recall: 1.000, spec: 1.000\n",
      "TEST: acc: 0.960, precision: 0.950, recall: 0.972, spec: 0.949\n",
      "func:'rf_models'  took: 8.0499 sec\n",
      "\n",
      "NEK2_binding_MFP_ADASYN_RF_BCW_fold5\n",
      "TRAIN: acc: 1.000, precision: 1.000, recall: 1.000, spec: 1.000\n",
      "TEST: acc: 0.951, precision: 0.929, recall: 0.977, spec: 0.926\n",
      "func:'rf_models'  took: 7.8581 sec\n",
      "\n",
      "NEK2_binding_MFP_ADASYN_BRFC_fold5\n"
     ]
    },
    {
     "name": "stderr",
     "output_type": "stream",
     "text": [
      "/Users/jayceepang/miniconda3/envs/atom2024/lib/python3.9/site-packages/imblearn/ensemble/_forest.py:577: FutureWarning: The default of `sampling_strategy` will change from `'auto'` to `'all'` in version 0.13. This change will follow the implementation proposed in the original paper. Set to `'all'` to silence this warning and adopt the future behaviour.\n",
      "  warn(\n",
      "/Users/jayceepang/miniconda3/envs/atom2024/lib/python3.9/site-packages/imblearn/ensemble/_forest.py:589: FutureWarning: The default of `replacement` will change from `False` to `True` in version 0.13. This change will follow the implementation proposed in the original paper. Set to `True` to silence this warning and adopt the future behaviour.\n",
      "  warn(\n"
     ]
    },
    {
     "name": "stdout",
     "output_type": "stream",
     "text": [
      "TRAIN: acc: 1.000, precision: 1.000, recall: 1.000, spec: 1.000\n",
      "TEST: acc: 0.965, precision: 0.954, recall: 0.977, spec: 0.954\n",
      "func:'rf_models'  took: 9.9001 sec\n",
      "\n",
      "NEK2_binding_MFP_ADASYN_BRFC_BCW_fold5\n"
     ]
    },
    {
     "name": "stderr",
     "output_type": "stream",
     "text": [
      "/Users/jayceepang/miniconda3/envs/atom2024/lib/python3.9/site-packages/imblearn/ensemble/_forest.py:577: FutureWarning: The default of `sampling_strategy` will change from `'auto'` to `'all'` in version 0.13. This change will follow the implementation proposed in the original paper. Set to `'all'` to silence this warning and adopt the future behaviour.\n",
      "  warn(\n",
      "/Users/jayceepang/miniconda3/envs/atom2024/lib/python3.9/site-packages/imblearn/ensemble/_forest.py:589: FutureWarning: The default of `replacement` will change from `False` to `True` in version 0.13. This change will follow the implementation proposed in the original paper. Set to `True` to silence this warning and adopt the future behaviour.\n",
      "  warn(\n"
     ]
    },
    {
     "name": "stdout",
     "output_type": "stream",
     "text": [
      "TRAIN: acc: 1.000, precision: 1.000, recall: 1.000, spec: 1.000\n",
      "TEST: acc: 0.958, precision: 0.941, recall: 0.977, spec: 0.940\n",
      "func:'rf_models'  took: 10.0828 sec\n",
      "\n",
      "NEK2_inhibition_MOE_none_scaled_RF_fold1\n",
      "TRAIN: acc: 1.000, precision: 1.000, recall: 1.000, spec: 1.000\n",
      "TEST: acc: 0.945, precision: 0.591, recall: 0.591, spec: 0.970\n",
      "func:'rf_models'  took: 23.2638 sec\n",
      "\n",
      "NEK2_inhibition_MOE_none_scaled_RF_BCW_fold1\n",
      "TRAIN: acc: 1.000, precision: 1.000, recall: 1.000, spec: 1.000\n",
      "TEST: acc: 0.929, precision: 0.474, recall: 0.409, spec: 0.967\n",
      "func:'rf_models'  took: 12.5673 sec\n",
      "\n",
      "NEK2_inhibition_MOE_none_scaled_BRFC_fold1\n"
     ]
    },
    {
     "name": "stderr",
     "output_type": "stream",
     "text": [
      "/Users/jayceepang/miniconda3/envs/atom2024/lib/python3.9/site-packages/imblearn/ensemble/_forest.py:577: FutureWarning: The default of `sampling_strategy` will change from `'auto'` to `'all'` in version 0.13. This change will follow the implementation proposed in the original paper. Set to `'all'` to silence this warning and adopt the future behaviour.\n",
      "  warn(\n",
      "/Users/jayceepang/miniconda3/envs/atom2024/lib/python3.9/site-packages/imblearn/ensemble/_forest.py:589: FutureWarning: The default of `replacement` will change from `False` to `True` in version 0.13. This change will follow the implementation proposed in the original paper. Set to `True` to silence this warning and adopt the future behaviour.\n",
      "  warn(\n"
     ]
    },
    {
     "name": "stdout",
     "output_type": "stream",
     "text": [
      "TRAIN: acc: 0.895, precision: 0.396, recall: 1.000, spec: 0.887\n",
      "TEST: acc: 0.880, precision: 0.345, recall: 0.864, spec: 0.881\n",
      "func:'rf_models'  took: 1.1436 sec\n",
      "\n",
      "NEK2_inhibition_MOE_none_scaled_BRFC_BCW_fold1\n"
     ]
    },
    {
     "name": "stderr",
     "output_type": "stream",
     "text": [
      "/Users/jayceepang/miniconda3/envs/atom2024/lib/python3.9/site-packages/imblearn/ensemble/_forest.py:577: FutureWarning: The default of `sampling_strategy` will change from `'auto'` to `'all'` in version 0.13. This change will follow the implementation proposed in the original paper. Set to `'all'` to silence this warning and adopt the future behaviour.\n",
      "  warn(\n",
      "/Users/jayceepang/miniconda3/envs/atom2024/lib/python3.9/site-packages/imblearn/ensemble/_forest.py:589: FutureWarning: The default of `replacement` will change from `False` to `True` in version 0.13. This change will follow the implementation proposed in the original paper. Set to `True` to silence this warning and adopt the future behaviour.\n",
      "  warn(\n"
     ]
    },
    {
     "name": "stdout",
     "output_type": "stream",
     "text": [
      "TRAIN: acc: 0.790, precision: 0.248, recall: 1.000, spec: 0.774\n",
      "TEST: acc: 0.797, precision: 0.232, recall: 0.864, spec: 0.792\n",
      "func:'rf_models'  took: 3.2055 sec\n",
      "\n",
      "NEK2_inhibition_MOE_none_scaled_RF_fold2\n",
      "TRAIN: acc: 1.000, precision: 1.000, recall: 1.000, spec: 1.000\n",
      "TEST: acc: 0.932, precision: 0.500, recall: 0.500, spec: 0.964\n",
      "func:'rf_models'  took: 29.0461 sec\n",
      "\n",
      "NEK2_inhibition_MOE_none_scaled_RF_BCW_fold2\n",
      "TRAIN: acc: 1.000, precision: 1.000, recall: 1.000, spec: 1.000\n",
      "TEST: acc: 0.945, precision: 0.600, recall: 0.545, spec: 0.974\n",
      "func:'rf_models'  took: 14.1522 sec\n",
      "\n",
      "NEK2_inhibition_MOE_none_scaled_BRFC_fold2\n"
     ]
    },
    {
     "name": "stderr",
     "output_type": "stream",
     "text": [
      "/Users/jayceepang/miniconda3/envs/atom2024/lib/python3.9/site-packages/imblearn/ensemble/_forest.py:577: FutureWarning: The default of `sampling_strategy` will change from `'auto'` to `'all'` in version 0.13. This change will follow the implementation proposed in the original paper. Set to `'all'` to silence this warning and adopt the future behaviour.\n",
      "  warn(\n",
      "/Users/jayceepang/miniconda3/envs/atom2024/lib/python3.9/site-packages/imblearn/ensemble/_forest.py:589: FutureWarning: The default of `replacement` will change from `False` to `True` in version 0.13. This change will follow the implementation proposed in the original paper. Set to `True` to silence this warning and adopt the future behaviour.\n",
      "  warn(\n"
     ]
    },
    {
     "name": "stdout",
     "output_type": "stream",
     "text": [
      "TRAIN: acc: 0.901, precision: 0.411, recall: 1.000, spec: 0.893\n",
      "TEST: acc: 0.849, precision: 0.286, recall: 0.818, spec: 0.851\n",
      "func:'rf_models'  took: 1.1034 sec\n",
      "\n",
      "NEK2_inhibition_MOE_none_scaled_BRFC_BCW_fold2\n"
     ]
    },
    {
     "name": "stderr",
     "output_type": "stream",
     "text": [
      "/Users/jayceepang/miniconda3/envs/atom2024/lib/python3.9/site-packages/imblearn/ensemble/_forest.py:577: FutureWarning: The default of `sampling_strategy` will change from `'auto'` to `'all'` in version 0.13. This change will follow the implementation proposed in the original paper. Set to `'all'` to silence this warning and adopt the future behaviour.\n",
      "  warn(\n",
      "/Users/jayceepang/miniconda3/envs/atom2024/lib/python3.9/site-packages/imblearn/ensemble/_forest.py:589: FutureWarning: The default of `replacement` will change from `False` to `True` in version 0.13. This change will follow the implementation proposed in the original paper. Set to `True` to silence this warning and adopt the future behaviour.\n",
      "  warn(\n"
     ]
    },
    {
     "name": "stdout",
     "output_type": "stream",
     "text": [
      "TRAIN: acc: 0.832, precision: 0.291, recall: 1.000, spec: 0.819\n",
      "TEST: acc: 0.818, precision: 0.260, recall: 0.909, spec: 0.812\n",
      "func:'rf_models'  took: 2.7993 sec\n",
      "\n",
      "NEK2_inhibition_MOE_none_scaled_RF_fold3\n",
      "TRAIN: acc: 1.000, precision: 1.000, recall: 1.000, spec: 1.000\n",
      "TEST: acc: 0.945, precision: 0.591, recall: 0.591, spec: 0.970\n",
      "func:'rf_models'  took: 26.1076 sec\n",
      "\n",
      "NEK2_inhibition_MOE_none_scaled_RF_BCW_fold3\n",
      "TRAIN: acc: 1.000, precision: 1.000, recall: 1.000, spec: 1.000\n",
      "TEST: acc: 0.960, precision: 0.714, recall: 0.682, spec: 0.980\n",
      "func:'rf_models'  took: 11.9870 sec\n",
      "\n",
      "NEK2_inhibition_MOE_none_scaled_BRFC_fold3\n"
     ]
    },
    {
     "name": "stderr",
     "output_type": "stream",
     "text": [
      "/Users/jayceepang/miniconda3/envs/atom2024/lib/python3.9/site-packages/imblearn/ensemble/_forest.py:577: FutureWarning: The default of `sampling_strategy` will change from `'auto'` to `'all'` in version 0.13. This change will follow the implementation proposed in the original paper. Set to `'all'` to silence this warning and adopt the future behaviour.\n",
      "  warn(\n",
      "/Users/jayceepang/miniconda3/envs/atom2024/lib/python3.9/site-packages/imblearn/ensemble/_forest.py:589: FutureWarning: The default of `replacement` will change from `False` to `True` in version 0.13. This change will follow the implementation proposed in the original paper. Set to `True` to silence this warning and adopt the future behaviour.\n",
      "  warn(\n"
     ]
    },
    {
     "name": "stdout",
     "output_type": "stream",
     "text": [
      "TRAIN: acc: 0.899, precision: 0.407, recall: 1.000, spec: 0.892\n",
      "TEST: acc: 0.858, precision: 0.312, recall: 0.909, spec: 0.855\n",
      "func:'rf_models'  took: 1.1583 sec\n",
      "\n",
      "NEK2_inhibition_MOE_none_scaled_BRFC_BCW_fold3\n"
     ]
    },
    {
     "name": "stderr",
     "output_type": "stream",
     "text": [
      "/Users/jayceepang/miniconda3/envs/atom2024/lib/python3.9/site-packages/imblearn/ensemble/_forest.py:577: FutureWarning: The default of `sampling_strategy` will change from `'auto'` to `'all'` in version 0.13. This change will follow the implementation proposed in the original paper. Set to `'all'` to silence this warning and adopt the future behaviour.\n",
      "  warn(\n",
      "/Users/jayceepang/miniconda3/envs/atom2024/lib/python3.9/site-packages/imblearn/ensemble/_forest.py:589: FutureWarning: The default of `replacement` will change from `False` to `True` in version 0.13. This change will follow the implementation proposed in the original paper. Set to `True` to silence this warning and adopt the future behaviour.\n",
      "  warn(\n"
     ]
    },
    {
     "name": "stdout",
     "output_type": "stream",
     "text": [
      "TRAIN: acc: 0.807, precision: 0.264, recall: 1.000, spec: 0.793\n",
      "TEST: acc: 0.745, precision: 0.186, recall: 0.818, spec: 0.739\n",
      "func:'rf_models'  took: 2.9711 sec\n",
      "\n",
      "NEK2_inhibition_MOE_none_scaled_RF_fold4\n",
      "TRAIN: acc: 1.000, precision: 1.000, recall: 1.000, spec: 1.000\n",
      "TEST: acc: 0.948, precision: 0.625, recall: 0.652, spec: 0.970\n",
      "func:'rf_models'  took: 23.6149 sec\n",
      "\n",
      "NEK2_inhibition_MOE_none_scaled_RF_BCW_fold4\n",
      "TRAIN: acc: 1.000, precision: 1.000, recall: 1.000, spec: 1.000\n",
      "TEST: acc: 0.923, precision: 0.464, recall: 0.565, spec: 0.950\n",
      "func:'rf_models'  took: 9.7443 sec\n",
      "\n",
      "NEK2_inhibition_MOE_none_scaled_BRFC_fold4\n"
     ]
    },
    {
     "name": "stderr",
     "output_type": "stream",
     "text": [
      "/Users/jayceepang/miniconda3/envs/atom2024/lib/python3.9/site-packages/imblearn/ensemble/_forest.py:577: FutureWarning: The default of `sampling_strategy` will change from `'auto'` to `'all'` in version 0.13. This change will follow the implementation proposed in the original paper. Set to `'all'` to silence this warning and adopt the future behaviour.\n",
      "  warn(\n",
      "/Users/jayceepang/miniconda3/envs/atom2024/lib/python3.9/site-packages/imblearn/ensemble/_forest.py:589: FutureWarning: The default of `replacement` will change from `False` to `True` in version 0.13. This change will follow the implementation proposed in the original paper. Set to `True` to silence this warning and adopt the future behaviour.\n",
      "  warn(\n"
     ]
    },
    {
     "name": "stdout",
     "output_type": "stream",
     "text": [
      "TRAIN: acc: 0.902, precision: 0.412, recall: 1.000, spec: 0.895\n",
      "TEST: acc: 0.862, precision: 0.323, recall: 0.870, spec: 0.861\n",
      "func:'rf_models'  took: 1.1581 sec\n",
      "\n",
      "NEK2_inhibition_MOE_none_scaled_BRFC_BCW_fold4\n"
     ]
    },
    {
     "name": "stderr",
     "output_type": "stream",
     "text": [
      "/Users/jayceepang/miniconda3/envs/atom2024/lib/python3.9/site-packages/imblearn/ensemble/_forest.py:577: FutureWarning: The default of `sampling_strategy` will change from `'auto'` to `'all'` in version 0.13. This change will follow the implementation proposed in the original paper. Set to `'all'` to silence this warning and adopt the future behaviour.\n",
      "  warn(\n",
      "/Users/jayceepang/miniconda3/envs/atom2024/lib/python3.9/site-packages/imblearn/ensemble/_forest.py:589: FutureWarning: The default of `replacement` will change from `False` to `True` in version 0.13. This change will follow the implementation proposed in the original paper. Set to `True` to silence this warning and adopt the future behaviour.\n",
      "  warn(\n"
     ]
    },
    {
     "name": "stdout",
     "output_type": "stream",
     "text": [
      "TRAIN: acc: 0.806, precision: 0.261, recall: 1.000, spec: 0.792\n",
      "TEST: acc: 0.751, precision: 0.185, recall: 0.739, spec: 0.752\n",
      "func:'rf_models'  took: 3.0437 sec\n",
      "\n",
      "NEK2_inhibition_MOE_none_scaled_RF_fold5\n",
      "TRAIN: acc: 1.000, precision: 1.000, recall: 1.000, spec: 1.000\n",
      "TEST: acc: 0.935, precision: 0.562, recall: 0.391, spec: 0.977\n",
      "func:'rf_models'  took: 25.9826 sec\n",
      "\n",
      "NEK2_inhibition_MOE_none_scaled_RF_BCW_fold5\n",
      "TRAIN: acc: 1.000, precision: 1.000, recall: 1.000, spec: 1.000\n",
      "TEST: acc: 0.926, precision: 0.462, recall: 0.261, spec: 0.977\n",
      "func:'rf_models'  took: 10.2437 sec\n",
      "\n",
      "NEK2_inhibition_MOE_none_scaled_BRFC_fold5\n"
     ]
    },
    {
     "name": "stderr",
     "output_type": "stream",
     "text": [
      "/Users/jayceepang/miniconda3/envs/atom2024/lib/python3.9/site-packages/imblearn/ensemble/_forest.py:577: FutureWarning: The default of `sampling_strategy` will change from `'auto'` to `'all'` in version 0.13. This change will follow the implementation proposed in the original paper. Set to `'all'` to silence this warning and adopt the future behaviour.\n",
      "  warn(\n",
      "/Users/jayceepang/miniconda3/envs/atom2024/lib/python3.9/site-packages/imblearn/ensemble/_forest.py:589: FutureWarning: The default of `replacement` will change from `False` to `True` in version 0.13. This change will follow the implementation proposed in the original paper. Set to `True` to silence this warning and adopt the future behaviour.\n",
      "  warn(\n"
     ]
    },
    {
     "name": "stdout",
     "output_type": "stream",
     "text": [
      "TRAIN: acc: 0.918, precision: 0.454, recall: 1.000, spec: 0.912\n",
      "TEST: acc: 0.889, precision: 0.333, recall: 0.565, spec: 0.914\n",
      "func:'rf_models'  took: 1.1341 sec\n",
      "\n",
      "NEK2_inhibition_MOE_none_scaled_BRFC_BCW_fold5\n"
     ]
    },
    {
     "name": "stderr",
     "output_type": "stream",
     "text": [
      "/Users/jayceepang/miniconda3/envs/atom2024/lib/python3.9/site-packages/imblearn/ensemble/_forest.py:577: FutureWarning: The default of `sampling_strategy` will change from `'auto'` to `'all'` in version 0.13. This change will follow the implementation proposed in the original paper. Set to `'all'` to silence this warning and adopt the future behaviour.\n",
      "  warn(\n",
      "/Users/jayceepang/miniconda3/envs/atom2024/lib/python3.9/site-packages/imblearn/ensemble/_forest.py:589: FutureWarning: The default of `replacement` will change from `False` to `True` in version 0.13. This change will follow the implementation proposed in the original paper. Set to `True` to silence this warning and adopt the future behaviour.\n",
      "  warn(\n"
     ]
    },
    {
     "name": "stdout",
     "output_type": "stream",
     "text": [
      "TRAIN: acc: 0.838, precision: 0.298, recall: 1.000, spec: 0.827\n",
      "TEST: acc: 0.791, precision: 0.174, recall: 0.522, spec: 0.811\n",
      "func:'rf_models'  took: 2.4736 sec\n",
      "\n",
      "NEK2_inhibition_MOE_UNDER_RF_fold1\n",
      "TRAIN: acc: 1.000, precision: 1.000, recall: 1.000, spec: 1.000\n",
      "TEST: acc: 0.667, precision: 0.667, recall: 0.636, spec: 0.696\n",
      "func:'rf_models'  took: 0.8978 sec\n",
      "\n",
      "NEK2_inhibition_MOE_UNDER_RF_BCW_fold1\n",
      "TRAIN: acc: 1.000, precision: 1.000, recall: 1.000, spec: 1.000\n",
      "TEST: acc: 0.667, precision: 0.652, recall: 0.682, spec: 0.652\n",
      "func:'rf_models'  took: 0.9712 sec\n",
      "\n",
      "NEK2_inhibition_MOE_UNDER_BRFC_fold1\n"
     ]
    },
    {
     "name": "stderr",
     "output_type": "stream",
     "text": [
      "/Users/jayceepang/miniconda3/envs/atom2024/lib/python3.9/site-packages/imblearn/ensemble/_forest.py:577: FutureWarning: The default of `sampling_strategy` will change from `'auto'` to `'all'` in version 0.13. This change will follow the implementation proposed in the original paper. Set to `'all'` to silence this warning and adopt the future behaviour.\n",
      "  warn(\n",
      "/Users/jayceepang/miniconda3/envs/atom2024/lib/python3.9/site-packages/imblearn/ensemble/_forest.py:589: FutureWarning: The default of `replacement` will change from `False` to `True` in version 0.13. This change will follow the implementation proposed in the original paper. Set to `True` to silence this warning and adopt the future behaviour.\n",
      "  warn(\n"
     ]
    },
    {
     "name": "stdout",
     "output_type": "stream",
     "text": [
      "TRAIN: acc: 1.000, precision: 1.000, recall: 1.000, spec: 1.000\n",
      "TEST: acc: 0.689, precision: 0.700, recall: 0.636, spec: 0.739\n",
      "func:'rf_models'  took: 0.9171 sec\n",
      "\n",
      "NEK2_inhibition_MOE_UNDER_BRFC_BCW_fold1\n"
     ]
    },
    {
     "name": "stderr",
     "output_type": "stream",
     "text": [
      "/Users/jayceepang/miniconda3/envs/atom2024/lib/python3.9/site-packages/imblearn/ensemble/_forest.py:577: FutureWarning: The default of `sampling_strategy` will change from `'auto'` to `'all'` in version 0.13. This change will follow the implementation proposed in the original paper. Set to `'all'` to silence this warning and adopt the future behaviour.\n",
      "  warn(\n",
      "/Users/jayceepang/miniconda3/envs/atom2024/lib/python3.9/site-packages/imblearn/ensemble/_forest.py:589: FutureWarning: The default of `replacement` will change from `False` to `True` in version 0.13. This change will follow the implementation proposed in the original paper. Set to `True` to silence this warning and adopt the future behaviour.\n",
      "  warn(\n"
     ]
    },
    {
     "name": "stdout",
     "output_type": "stream",
     "text": [
      "TRAIN: acc: 1.000, precision: 1.000, recall: 1.000, spec: 1.000\n",
      "TEST: acc: 0.689, precision: 0.682, recall: 0.682, spec: 0.696\n",
      "func:'rf_models'  took: 0.9712 sec\n",
      "\n",
      "NEK2_inhibition_MOE_UNDER_RF_fold2\n",
      "TRAIN: acc: 1.000, precision: 1.000, recall: 1.000, spec: 1.000\n",
      "TEST: acc: 0.800, precision: 0.724, recall: 0.955, spec: 0.652\n",
      "func:'rf_models'  took: 1.2133 sec\n",
      "\n",
      "NEK2_inhibition_MOE_UNDER_RF_BCW_fold2\n",
      "TRAIN: acc: 1.000, precision: 1.000, recall: 1.000, spec: 1.000\n",
      "TEST: acc: 0.733, precision: 0.679, recall: 0.864, spec: 0.609\n",
      "func:'rf_models'  took: 1.2541 sec\n",
      "\n",
      "NEK2_inhibition_MOE_UNDER_BRFC_fold2\n"
     ]
    },
    {
     "name": "stderr",
     "output_type": "stream",
     "text": [
      "/Users/jayceepang/miniconda3/envs/atom2024/lib/python3.9/site-packages/imblearn/ensemble/_forest.py:577: FutureWarning: The default of `sampling_strategy` will change from `'auto'` to `'all'` in version 0.13. This change will follow the implementation proposed in the original paper. Set to `'all'` to silence this warning and adopt the future behaviour.\n",
      "  warn(\n",
      "/Users/jayceepang/miniconda3/envs/atom2024/lib/python3.9/site-packages/imblearn/ensemble/_forest.py:589: FutureWarning: The default of `replacement` will change from `False` to `True` in version 0.13. This change will follow the implementation proposed in the original paper. Set to `True` to silence this warning and adopt the future behaviour.\n",
      "  warn(\n"
     ]
    },
    {
     "name": "stdout",
     "output_type": "stream",
     "text": [
      "TRAIN: acc: 1.000, precision: 1.000, recall: 1.000, spec: 1.000\n",
      "TEST: acc: 0.800, precision: 0.724, recall: 0.955, spec: 0.652\n",
      "func:'rf_models'  took: 1.2093 sec\n",
      "\n",
      "NEK2_inhibition_MOE_UNDER_BRFC_BCW_fold2\n"
     ]
    },
    {
     "name": "stderr",
     "output_type": "stream",
     "text": [
      "/Users/jayceepang/miniconda3/envs/atom2024/lib/python3.9/site-packages/imblearn/ensemble/_forest.py:577: FutureWarning: The default of `sampling_strategy` will change from `'auto'` to `'all'` in version 0.13. This change will follow the implementation proposed in the original paper. Set to `'all'` to silence this warning and adopt the future behaviour.\n",
      "  warn(\n",
      "/Users/jayceepang/miniconda3/envs/atom2024/lib/python3.9/site-packages/imblearn/ensemble/_forest.py:589: FutureWarning: The default of `replacement` will change from `False` to `True` in version 0.13. This change will follow the implementation proposed in the original paper. Set to `True` to silence this warning and adopt the future behaviour.\n",
      "  warn(\n"
     ]
    },
    {
     "name": "stdout",
     "output_type": "stream",
     "text": [
      "TRAIN: acc: 1.000, precision: 1.000, recall: 1.000, spec: 1.000\n",
      "TEST: acc: 0.756, precision: 0.690, recall: 0.909, spec: 0.609\n",
      "func:'rf_models'  took: 1.2693 sec\n",
      "\n",
      "NEK2_inhibition_MOE_UNDER_RF_fold3\n",
      "TRAIN: acc: 1.000, precision: 1.000, recall: 1.000, spec: 1.000\n",
      "TEST: acc: 0.800, precision: 0.792, recall: 0.826, spec: 0.773\n",
      "func:'rf_models'  took: 1.1039 sec\n",
      "\n",
      "NEK2_inhibition_MOE_UNDER_RF_BCW_fold3\n",
      "TRAIN: acc: 1.000, precision: 1.000, recall: 1.000, spec: 1.000\n",
      "TEST: acc: 0.800, precision: 0.792, recall: 0.826, spec: 0.773\n",
      "func:'rf_models'  took: 1.1552 sec\n",
      "\n",
      "NEK2_inhibition_MOE_UNDER_BRFC_fold3\n"
     ]
    },
    {
     "name": "stderr",
     "output_type": "stream",
     "text": [
      "/Users/jayceepang/miniconda3/envs/atom2024/lib/python3.9/site-packages/imblearn/ensemble/_forest.py:577: FutureWarning: The default of `sampling_strategy` will change from `'auto'` to `'all'` in version 0.13. This change will follow the implementation proposed in the original paper. Set to `'all'` to silence this warning and adopt the future behaviour.\n",
      "  warn(\n",
      "/Users/jayceepang/miniconda3/envs/atom2024/lib/python3.9/site-packages/imblearn/ensemble/_forest.py:589: FutureWarning: The default of `replacement` will change from `False` to `True` in version 0.13. This change will follow the implementation proposed in the original paper. Set to `True` to silence this warning and adopt the future behaviour.\n",
      "  warn(\n"
     ]
    },
    {
     "name": "stdout",
     "output_type": "stream",
     "text": [
      "TRAIN: acc: 1.000, precision: 1.000, recall: 1.000, spec: 1.000\n",
      "TEST: acc: 0.800, precision: 0.792, recall: 0.826, spec: 0.773\n",
      "func:'rf_models'  took: 1.1413 sec\n",
      "\n",
      "NEK2_inhibition_MOE_UNDER_BRFC_BCW_fold3\n"
     ]
    },
    {
     "name": "stderr",
     "output_type": "stream",
     "text": [
      "/Users/jayceepang/miniconda3/envs/atom2024/lib/python3.9/site-packages/imblearn/ensemble/_forest.py:577: FutureWarning: The default of `sampling_strategy` will change from `'auto'` to `'all'` in version 0.13. This change will follow the implementation proposed in the original paper. Set to `'all'` to silence this warning and adopt the future behaviour.\n",
      "  warn(\n",
      "/Users/jayceepang/miniconda3/envs/atom2024/lib/python3.9/site-packages/imblearn/ensemble/_forest.py:589: FutureWarning: The default of `replacement` will change from `False` to `True` in version 0.13. This change will follow the implementation proposed in the original paper. Set to `True` to silence this warning and adopt the future behaviour.\n",
      "  warn(\n"
     ]
    },
    {
     "name": "stdout",
     "output_type": "stream",
     "text": [
      "TRAIN: acc: 1.000, precision: 1.000, recall: 1.000, spec: 1.000\n",
      "TEST: acc: 0.800, precision: 0.792, recall: 0.826, spec: 0.773\n",
      "func:'rf_models'  took: 1.1769 sec\n",
      "\n",
      "NEK2_inhibition_MOE_UNDER_RF_fold4\n",
      "TRAIN: acc: 1.000, precision: 1.000, recall: 1.000, spec: 1.000\n",
      "TEST: acc: 0.822, precision: 0.857, recall: 0.783, spec: 0.864\n",
      "func:'rf_models'  took: 1.1175 sec\n",
      "\n",
      "NEK2_inhibition_MOE_UNDER_RF_BCW_fold4\n",
      "TRAIN: acc: 1.000, precision: 1.000, recall: 1.000, spec: 1.000\n",
      "TEST: acc: 0.822, precision: 0.800, recall: 0.870, spec: 0.773\n",
      "func:'rf_models'  took: 1.1689 sec\n",
      "\n",
      "NEK2_inhibition_MOE_UNDER_BRFC_fold4\n"
     ]
    },
    {
     "name": "stderr",
     "output_type": "stream",
     "text": [
      "/Users/jayceepang/miniconda3/envs/atom2024/lib/python3.9/site-packages/imblearn/ensemble/_forest.py:577: FutureWarning: The default of `sampling_strategy` will change from `'auto'` to `'all'` in version 0.13. This change will follow the implementation proposed in the original paper. Set to `'all'` to silence this warning and adopt the future behaviour.\n",
      "  warn(\n",
      "/Users/jayceepang/miniconda3/envs/atom2024/lib/python3.9/site-packages/imblearn/ensemble/_forest.py:589: FutureWarning: The default of `replacement` will change from `False` to `True` in version 0.13. This change will follow the implementation proposed in the original paper. Set to `True` to silence this warning and adopt the future behaviour.\n",
      "  warn(\n"
     ]
    },
    {
     "name": "stdout",
     "output_type": "stream",
     "text": [
      "TRAIN: acc: 1.000, precision: 1.000, recall: 1.000, spec: 1.000\n",
      "TEST: acc: 0.778, precision: 0.760, recall: 0.826, spec: 0.727\n",
      "func:'rf_models'  took: 1.2799 sec\n",
      "\n",
      "NEK2_inhibition_MOE_UNDER_BRFC_BCW_fold4\n"
     ]
    },
    {
     "name": "stderr",
     "output_type": "stream",
     "text": [
      "/Users/jayceepang/miniconda3/envs/atom2024/lib/python3.9/site-packages/imblearn/ensemble/_forest.py:577: FutureWarning: The default of `sampling_strategy` will change from `'auto'` to `'all'` in version 0.13. This change will follow the implementation proposed in the original paper. Set to `'all'` to silence this warning and adopt the future behaviour.\n",
      "  warn(\n",
      "/Users/jayceepang/miniconda3/envs/atom2024/lib/python3.9/site-packages/imblearn/ensemble/_forest.py:589: FutureWarning: The default of `replacement` will change from `False` to `True` in version 0.13. This change will follow the implementation proposed in the original paper. Set to `True` to silence this warning and adopt the future behaviour.\n",
      "  warn(\n"
     ]
    },
    {
     "name": "stdout",
     "output_type": "stream",
     "text": [
      "TRAIN: acc: 1.000, precision: 1.000, recall: 1.000, spec: 1.000\n",
      "TEST: acc: 0.822, precision: 0.800, recall: 0.870, spec: 0.773\n",
      "func:'rf_models'  took: 1.1874 sec\n",
      "\n",
      "NEK2_inhibition_MOE_UNDER_RF_fold5\n",
      "TRAIN: acc: 1.000, precision: 1.000, recall: 1.000, spec: 1.000\n",
      "TEST: acc: 0.795, precision: 0.810, recall: 0.773, spec: 0.818\n",
      "func:'rf_models'  took: 1.1165 sec\n",
      "\n",
      "NEK2_inhibition_MOE_UNDER_RF_BCW_fold5\n",
      "TRAIN: acc: 1.000, precision: 1.000, recall: 1.000, spec: 1.000\n",
      "TEST: acc: 0.773, precision: 0.750, recall: 0.818, spec: 0.727\n",
      "func:'rf_models'  took: 1.1531 sec\n",
      "\n",
      "NEK2_inhibition_MOE_UNDER_BRFC_fold5\n"
     ]
    },
    {
     "name": "stderr",
     "output_type": "stream",
     "text": [
      "/Users/jayceepang/miniconda3/envs/atom2024/lib/python3.9/site-packages/imblearn/ensemble/_forest.py:577: FutureWarning: The default of `sampling_strategy` will change from `'auto'` to `'all'` in version 0.13. This change will follow the implementation proposed in the original paper. Set to `'all'` to silence this warning and adopt the future behaviour.\n",
      "  warn(\n",
      "/Users/jayceepang/miniconda3/envs/atom2024/lib/python3.9/site-packages/imblearn/ensemble/_forest.py:589: FutureWarning: The default of `replacement` will change from `False` to `True` in version 0.13. This change will follow the implementation proposed in the original paper. Set to `True` to silence this warning and adopt the future behaviour.\n",
      "  warn(\n"
     ]
    },
    {
     "name": "stdout",
     "output_type": "stream",
     "text": [
      "TRAIN: acc: 1.000, precision: 1.000, recall: 1.000, spec: 1.000\n",
      "TEST: acc: 0.773, precision: 0.773, recall: 0.773, spec: 0.773\n",
      "func:'rf_models'  took: 1.1363 sec\n",
      "\n",
      "NEK2_inhibition_MOE_UNDER_BRFC_BCW_fold5\n"
     ]
    },
    {
     "name": "stderr",
     "output_type": "stream",
     "text": [
      "/Users/jayceepang/miniconda3/envs/atom2024/lib/python3.9/site-packages/imblearn/ensemble/_forest.py:577: FutureWarning: The default of `sampling_strategy` will change from `'auto'` to `'all'` in version 0.13. This change will follow the implementation proposed in the original paper. Set to `'all'` to silence this warning and adopt the future behaviour.\n",
      "  warn(\n",
      "/Users/jayceepang/miniconda3/envs/atom2024/lib/python3.9/site-packages/imblearn/ensemble/_forest.py:589: FutureWarning: The default of `replacement` will change from `False` to `True` in version 0.13. This change will follow the implementation proposed in the original paper. Set to `True` to silence this warning and adopt the future behaviour.\n",
      "  warn(\n"
     ]
    },
    {
     "name": "stdout",
     "output_type": "stream",
     "text": [
      "TRAIN: acc: 1.000, precision: 1.000, recall: 1.000, spec: 1.000\n",
      "TEST: acc: 0.795, precision: 0.810, recall: 0.773, spec: 0.818\n",
      "func:'rf_models'  took: 1.1784 sec\n",
      "\n",
      "NEK2_inhibition_MOE_SMOTE_RF_fold1\n",
      "TRAIN: acc: 1.000, precision: 1.000, recall: 1.000, spec: 1.000\n",
      "TEST: acc: 0.955, precision: 0.942, recall: 0.970, spec: 0.941\n",
      "func:'rf_models'  took: 37.4272 sec\n",
      "\n",
      "NEK2_inhibition_MOE_SMOTE_RF_BCW_fold1\n",
      "TRAIN: acc: 1.000, precision: 1.000, recall: 1.000, spec: 1.000\n",
      "TEST: acc: 0.954, precision: 0.939, recall: 0.970, spec: 0.937\n",
      "func:'rf_models'  took: 36.9318 sec\n",
      "\n",
      "NEK2_inhibition_MOE_SMOTE_BRFC_fold1\n"
     ]
    },
    {
     "name": "stderr",
     "output_type": "stream",
     "text": [
      "/Users/jayceepang/miniconda3/envs/atom2024/lib/python3.9/site-packages/imblearn/ensemble/_forest.py:577: FutureWarning: The default of `sampling_strategy` will change from `'auto'` to `'all'` in version 0.13. This change will follow the implementation proposed in the original paper. Set to `'all'` to silence this warning and adopt the future behaviour.\n",
      "  warn(\n",
      "/Users/jayceepang/miniconda3/envs/atom2024/lib/python3.9/site-packages/imblearn/ensemble/_forest.py:589: FutureWarning: The default of `replacement` will change from `False` to `True` in version 0.13. This change will follow the implementation proposed in the original paper. Set to `True` to silence this warning and adopt the future behaviour.\n",
      "  warn(\n"
     ]
    },
    {
     "name": "stdout",
     "output_type": "stream",
     "text": [
      "TRAIN: acc: 1.000, precision: 1.000, recall: 1.000, spec: 1.000\n",
      "TEST: acc: 0.955, precision: 0.942, recall: 0.970, spec: 0.941\n",
      "func:'rf_models'  took: 36.1740 sec\n",
      "\n",
      "NEK2_inhibition_MOE_SMOTE_BRFC_BCW_fold1\n"
     ]
    },
    {
     "name": "stderr",
     "output_type": "stream",
     "text": [
      "/Users/jayceepang/miniconda3/envs/atom2024/lib/python3.9/site-packages/imblearn/ensemble/_forest.py:577: FutureWarning: The default of `sampling_strategy` will change from `'auto'` to `'all'` in version 0.13. This change will follow the implementation proposed in the original paper. Set to `'all'` to silence this warning and adopt the future behaviour.\n",
      "  warn(\n",
      "/Users/jayceepang/miniconda3/envs/atom2024/lib/python3.9/site-packages/imblearn/ensemble/_forest.py:589: FutureWarning: The default of `replacement` will change from `False` to `True` in version 0.13. This change will follow the implementation proposed in the original paper. Set to `True` to silence this warning and adopt the future behaviour.\n",
      "  warn(\n"
     ]
    },
    {
     "name": "stdout",
     "output_type": "stream",
     "text": [
      "TRAIN: acc: 1.000, precision: 1.000, recall: 1.000, spec: 1.000\n",
      "TEST: acc: 0.954, precision: 0.939, recall: 0.970, spec: 0.937\n",
      "func:'rf_models'  took: 37.5561 sec\n",
      "\n",
      "NEK2_inhibition_MOE_SMOTE_RF_fold2\n",
      "TRAIN: acc: 1.000, precision: 1.000, recall: 1.000, spec: 1.000\n",
      "TEST: acc: 0.969, precision: 0.955, recall: 0.983, spec: 0.954\n",
      "func:'rf_models'  took: 40.0944 sec\n",
      "\n",
      "NEK2_inhibition_MOE_SMOTE_RF_BCW_fold2\n",
      "TRAIN: acc: 1.000, precision: 1.000, recall: 1.000, spec: 1.000\n",
      "TEST: acc: 0.960, precision: 0.943, recall: 0.980, spec: 0.941\n",
      "func:'rf_models'  took: 41.3047 sec\n",
      "\n",
      "NEK2_inhibition_MOE_SMOTE_BRFC_fold2\n"
     ]
    },
    {
     "name": "stderr",
     "output_type": "stream",
     "text": [
      "/Users/jayceepang/miniconda3/envs/atom2024/lib/python3.9/site-packages/imblearn/ensemble/_forest.py:577: FutureWarning: The default of `sampling_strategy` will change from `'auto'` to `'all'` in version 0.13. This change will follow the implementation proposed in the original paper. Set to `'all'` to silence this warning and adopt the future behaviour.\n",
      "  warn(\n",
      "/Users/jayceepang/miniconda3/envs/atom2024/lib/python3.9/site-packages/imblearn/ensemble/_forest.py:589: FutureWarning: The default of `replacement` will change from `False` to `True` in version 0.13. This change will follow the implementation proposed in the original paper. Set to `True` to silence this warning and adopt the future behaviour.\n",
      "  warn(\n"
     ]
    },
    {
     "name": "stdout",
     "output_type": "stream",
     "text": [
      "TRAIN: acc: 1.000, precision: 1.000, recall: 1.000, spec: 1.000\n",
      "TEST: acc: 0.962, precision: 0.946, recall: 0.980, spec: 0.944\n",
      "func:'rf_models'  took: 39.3914 sec\n",
      "\n",
      "NEK2_inhibition_MOE_SMOTE_BRFC_BCW_fold2\n"
     ]
    },
    {
     "name": "stderr",
     "output_type": "stream",
     "text": [
      "/Users/jayceepang/miniconda3/envs/atom2024/lib/python3.9/site-packages/imblearn/ensemble/_forest.py:577: FutureWarning: The default of `sampling_strategy` will change from `'auto'` to `'all'` in version 0.13. This change will follow the implementation proposed in the original paper. Set to `'all'` to silence this warning and adopt the future behaviour.\n",
      "  warn(\n",
      "/Users/jayceepang/miniconda3/envs/atom2024/lib/python3.9/site-packages/imblearn/ensemble/_forest.py:589: FutureWarning: The default of `replacement` will change from `False` to `True` in version 0.13. This change will follow the implementation proposed in the original paper. Set to `True` to silence this warning and adopt the future behaviour.\n",
      "  warn(\n"
     ]
    },
    {
     "name": "stdout",
     "output_type": "stream",
     "text": [
      "TRAIN: acc: 1.000, precision: 1.000, recall: 1.000, spec: 1.000\n",
      "TEST: acc: 0.964, precision: 0.949, recall: 0.980, spec: 0.947\n",
      "func:'rf_models'  took: 40.4964 sec\n",
      "\n",
      "NEK2_inhibition_MOE_SMOTE_RF_fold3\n",
      "TRAIN: acc: 1.000, precision: 1.000, recall: 1.000, spec: 1.000\n",
      "TEST: acc: 0.964, precision: 0.955, recall: 0.974, spec: 0.954\n",
      "func:'rf_models'  took: 39.2465 sec\n",
      "\n",
      "NEK2_inhibition_MOE_SMOTE_RF_BCW_fold3\n",
      "TRAIN: acc: 1.000, precision: 1.000, recall: 1.000, spec: 1.000\n",
      "TEST: acc: 0.962, precision: 0.957, recall: 0.967, spec: 0.957\n",
      "func:'rf_models'  took: 40.3557 sec\n",
      "\n",
      "NEK2_inhibition_MOE_SMOTE_BRFC_fold3\n"
     ]
    },
    {
     "name": "stderr",
     "output_type": "stream",
     "text": [
      "/Users/jayceepang/miniconda3/envs/atom2024/lib/python3.9/site-packages/imblearn/ensemble/_forest.py:577: FutureWarning: The default of `sampling_strategy` will change from `'auto'` to `'all'` in version 0.13. This change will follow the implementation proposed in the original paper. Set to `'all'` to silence this warning and adopt the future behaviour.\n",
      "  warn(\n",
      "/Users/jayceepang/miniconda3/envs/atom2024/lib/python3.9/site-packages/imblearn/ensemble/_forest.py:589: FutureWarning: The default of `replacement` will change from `False` to `True` in version 0.13. This change will follow the implementation proposed in the original paper. Set to `True` to silence this warning and adopt the future behaviour.\n",
      "  warn(\n"
     ]
    },
    {
     "name": "stdout",
     "output_type": "stream",
     "text": [
      "TRAIN: acc: 1.000, precision: 1.000, recall: 1.000, spec: 1.000\n",
      "TEST: acc: 0.965, precision: 0.958, recall: 0.974, spec: 0.957\n",
      "func:'rf_models'  took: 39.0166 sec\n",
      "\n",
      "NEK2_inhibition_MOE_SMOTE_BRFC_BCW_fold3\n"
     ]
    },
    {
     "name": "stderr",
     "output_type": "stream",
     "text": [
      "/Users/jayceepang/miniconda3/envs/atom2024/lib/python3.9/site-packages/imblearn/ensemble/_forest.py:577: FutureWarning: The default of `sampling_strategy` will change from `'auto'` to `'all'` in version 0.13. This change will follow the implementation proposed in the original paper. Set to `'all'` to silence this warning and adopt the future behaviour.\n",
      "  warn(\n",
      "/Users/jayceepang/miniconda3/envs/atom2024/lib/python3.9/site-packages/imblearn/ensemble/_forest.py:589: FutureWarning: The default of `replacement` will change from `False` to `True` in version 0.13. This change will follow the implementation proposed in the original paper. Set to `True` to silence this warning and adopt the future behaviour.\n",
      "  warn(\n"
     ]
    },
    {
     "name": "stdout",
     "output_type": "stream",
     "text": [
      "TRAIN: acc: 1.000, precision: 1.000, recall: 1.000, spec: 1.000\n",
      "TEST: acc: 0.962, precision: 0.957, recall: 0.967, spec: 0.957\n",
      "func:'rf_models'  took: 40.0960 sec\n",
      "\n",
      "NEK2_inhibition_MOE_SMOTE_RF_fold4\n",
      "TRAIN: acc: 1.000, precision: 1.000, recall: 1.000, spec: 1.000\n",
      "TEST: acc: 0.962, precision: 0.964, recall: 0.960, spec: 0.964\n",
      "func:'rf_models'  took: 30.7094 sec\n",
      "\n",
      "NEK2_inhibition_MOE_SMOTE_RF_BCW_fold4\n",
      "TRAIN: acc: 1.000, precision: 1.000, recall: 1.000, spec: 1.000\n",
      "TEST: acc: 0.957, precision: 0.954, recall: 0.960, spec: 0.954\n",
      "func:'rf_models'  took: 31.3772 sec\n",
      "\n",
      "NEK2_inhibition_MOE_SMOTE_BRFC_fold4\n"
     ]
    },
    {
     "name": "stderr",
     "output_type": "stream",
     "text": [
      "/Users/jayceepang/miniconda3/envs/atom2024/lib/python3.9/site-packages/imblearn/ensemble/_forest.py:577: FutureWarning: The default of `sampling_strategy` will change from `'auto'` to `'all'` in version 0.13. This change will follow the implementation proposed in the original paper. Set to `'all'` to silence this warning and adopt the future behaviour.\n",
      "  warn(\n",
      "/Users/jayceepang/miniconda3/envs/atom2024/lib/python3.9/site-packages/imblearn/ensemble/_forest.py:589: FutureWarning: The default of `replacement` will change from `False` to `True` in version 0.13. This change will follow the implementation proposed in the original paper. Set to `True` to silence this warning and adopt the future behaviour.\n",
      "  warn(\n"
     ]
    },
    {
     "name": "stdout",
     "output_type": "stream",
     "text": [
      "TRAIN: acc: 1.000, precision: 1.000, recall: 1.000, spec: 1.000\n",
      "TEST: acc: 0.962, precision: 0.964, recall: 0.960, spec: 0.964\n",
      "func:'rf_models'  took: 30.9957 sec\n",
      "\n",
      "NEK2_inhibition_MOE_SMOTE_BRFC_BCW_fold4\n"
     ]
    },
    {
     "name": "stderr",
     "output_type": "stream",
     "text": [
      "/Users/jayceepang/miniconda3/envs/atom2024/lib/python3.9/site-packages/imblearn/ensemble/_forest.py:577: FutureWarning: The default of `sampling_strategy` will change from `'auto'` to `'all'` in version 0.13. This change will follow the implementation proposed in the original paper. Set to `'all'` to silence this warning and adopt the future behaviour.\n",
      "  warn(\n",
      "/Users/jayceepang/miniconda3/envs/atom2024/lib/python3.9/site-packages/imblearn/ensemble/_forest.py:589: FutureWarning: The default of `replacement` will change from `False` to `True` in version 0.13. This change will follow the implementation proposed in the original paper. Set to `True` to silence this warning and adopt the future behaviour.\n",
      "  warn(\n"
     ]
    },
    {
     "name": "stdout",
     "output_type": "stream",
     "text": [
      "TRAIN: acc: 1.000, precision: 1.000, recall: 1.000, spec: 1.000\n",
      "TEST: acc: 0.957, precision: 0.954, recall: 0.960, spec: 0.954\n",
      "func:'rf_models'  took: 31.5667 sec\n",
      "\n",
      "NEK2_inhibition_MOE_SMOTE_RF_fold5\n",
      "TRAIN: acc: 1.000, precision: 1.000, recall: 1.000, spec: 1.000\n",
      "TEST: acc: 0.945, precision: 0.930, recall: 0.964, spec: 0.927\n",
      "func:'rf_models'  took: 37.7054 sec\n",
      "\n",
      "NEK2_inhibition_MOE_SMOTE_RF_BCW_fold5\n",
      "TRAIN: acc: 1.000, precision: 1.000, recall: 1.000, spec: 1.000\n",
      "TEST: acc: 0.950, precision: 0.939, recall: 0.964, spec: 0.937\n",
      "func:'rf_models'  took: 39.3277 sec\n",
      "\n",
      "NEK2_inhibition_MOE_SMOTE_BRFC_fold5\n"
     ]
    },
    {
     "name": "stderr",
     "output_type": "stream",
     "text": [
      "/Users/jayceepang/miniconda3/envs/atom2024/lib/python3.9/site-packages/imblearn/ensemble/_forest.py:577: FutureWarning: The default of `sampling_strategy` will change from `'auto'` to `'all'` in version 0.13. This change will follow the implementation proposed in the original paper. Set to `'all'` to silence this warning and adopt the future behaviour.\n",
      "  warn(\n",
      "/Users/jayceepang/miniconda3/envs/atom2024/lib/python3.9/site-packages/imblearn/ensemble/_forest.py:589: FutureWarning: The default of `replacement` will change from `False` to `True` in version 0.13. This change will follow the implementation proposed in the original paper. Set to `True` to silence this warning and adopt the future behaviour.\n",
      "  warn(\n"
     ]
    },
    {
     "name": "stdout",
     "output_type": "stream",
     "text": [
      "TRAIN: acc: 1.000, precision: 1.000, recall: 1.000, spec: 1.000\n",
      "TEST: acc: 0.952, precision: 0.942, recall: 0.964, spec: 0.940\n",
      "func:'rf_models'  took: 38.1405 sec\n",
      "\n",
      "NEK2_inhibition_MOE_SMOTE_BRFC_BCW_fold5\n"
     ]
    },
    {
     "name": "stderr",
     "output_type": "stream",
     "text": [
      "/Users/jayceepang/miniconda3/envs/atom2024/lib/python3.9/site-packages/imblearn/ensemble/_forest.py:577: FutureWarning: The default of `sampling_strategy` will change from `'auto'` to `'all'` in version 0.13. This change will follow the implementation proposed in the original paper. Set to `'all'` to silence this warning and adopt the future behaviour.\n",
      "  warn(\n",
      "/Users/jayceepang/miniconda3/envs/atom2024/lib/python3.9/site-packages/imblearn/ensemble/_forest.py:589: FutureWarning: The default of `replacement` will change from `False` to `True` in version 0.13. This change will follow the implementation proposed in the original paper. Set to `True` to silence this warning and adopt the future behaviour.\n",
      "  warn(\n"
     ]
    },
    {
     "name": "stdout",
     "output_type": "stream",
     "text": [
      "TRAIN: acc: 1.000, precision: 1.000, recall: 1.000, spec: 1.000\n",
      "TEST: acc: 0.950, precision: 0.939, recall: 0.964, spec: 0.937\n",
      "func:'rf_models'  took: 39.3464 sec\n",
      "\n",
      "NEK2_inhibition_MOE_ADASYN_RF_fold1\n",
      "TRAIN: acc: 1.000, precision: 1.000, recall: 1.000, spec: 1.000\n",
      "TEST: acc: 0.969, precision: 0.961, recall: 0.977, spec: 0.960\n",
      "func:'rf_models'  took: 47.8858 sec\n",
      "\n",
      "NEK2_inhibition_MOE_ADASYN_RF_BCW_fold1\n",
      "TRAIN: acc: 1.000, precision: 1.000, recall: 1.000, spec: 1.000\n",
      "TEST: acc: 0.969, precision: 0.958, recall: 0.980, spec: 0.957\n",
      "func:'rf_models'  took: 49.6325 sec\n",
      "\n",
      "NEK2_inhibition_MOE_ADASYN_BRFC_fold1\n"
     ]
    },
    {
     "name": "stderr",
     "output_type": "stream",
     "text": [
      "/Users/jayceepang/miniconda3/envs/atom2024/lib/python3.9/site-packages/imblearn/ensemble/_forest.py:577: FutureWarning: The default of `sampling_strategy` will change from `'auto'` to `'all'` in version 0.13. This change will follow the implementation proposed in the original paper. Set to `'all'` to silence this warning and adopt the future behaviour.\n",
      "  warn(\n",
      "/Users/jayceepang/miniconda3/envs/atom2024/lib/python3.9/site-packages/imblearn/ensemble/_forest.py:589: FutureWarning: The default of `replacement` will change from `False` to `True` in version 0.13. This change will follow the implementation proposed in the original paper. Set to `True` to silence this warning and adopt the future behaviour.\n",
      "  warn(\n"
     ]
    },
    {
     "name": "stdout",
     "output_type": "stream",
     "text": [
      "TRAIN: acc: 1.000, precision: 1.000, recall: 1.000, spec: 1.000\n",
      "TEST: acc: 0.969, precision: 0.961, recall: 0.977, spec: 0.960\n",
      "func:'rf_models'  took: 46.9541 sec\n",
      "\n",
      "NEK2_inhibition_MOE_ADASYN_BRFC_BCW_fold1\n"
     ]
    },
    {
     "name": "stderr",
     "output_type": "stream",
     "text": [
      "/Users/jayceepang/miniconda3/envs/atom2024/lib/python3.9/site-packages/imblearn/ensemble/_forest.py:577: FutureWarning: The default of `sampling_strategy` will change from `'auto'` to `'all'` in version 0.13. This change will follow the implementation proposed in the original paper. Set to `'all'` to silence this warning and adopt the future behaviour.\n",
      "  warn(\n",
      "/Users/jayceepang/miniconda3/envs/atom2024/lib/python3.9/site-packages/imblearn/ensemble/_forest.py:589: FutureWarning: The default of `replacement` will change from `False` to `True` in version 0.13. This change will follow the implementation proposed in the original paper. Set to `True` to silence this warning and adopt the future behaviour.\n",
      "  warn(\n"
     ]
    },
    {
     "name": "stdout",
     "output_type": "stream",
     "text": [
      "TRAIN: acc: 1.000, precision: 1.000, recall: 1.000, spec: 1.000\n",
      "TEST: acc: 0.967, precision: 0.955, recall: 0.980, spec: 0.954\n",
      "func:'rf_models'  took: 48.9806 sec\n",
      "\n",
      "NEK2_inhibition_MOE_ADASYN_RF_fold2\n",
      "TRAIN: acc: 1.000, precision: 1.000, recall: 1.000, spec: 1.000\n",
      "TEST: acc: 0.951, precision: 0.931, recall: 0.974, spec: 0.927\n",
      "func:'rf_models'  took: 50.3469 sec\n",
      "\n",
      "NEK2_inhibition_MOE_ADASYN_RF_BCW_fold2\n",
      "TRAIN: acc: 1.000, precision: 1.000, recall: 1.000, spec: 1.000\n",
      "TEST: acc: 0.952, precision: 0.937, recall: 0.970, spec: 0.934\n",
      "func:'rf_models'  took: 51.2668 sec\n",
      "\n",
      "NEK2_inhibition_MOE_ADASYN_BRFC_fold2\n"
     ]
    },
    {
     "name": "stderr",
     "output_type": "stream",
     "text": [
      "/Users/jayceepang/miniconda3/envs/atom2024/lib/python3.9/site-packages/imblearn/ensemble/_forest.py:577: FutureWarning: The default of `sampling_strategy` will change from `'auto'` to `'all'` in version 0.13. This change will follow the implementation proposed in the original paper. Set to `'all'` to silence this warning and adopt the future behaviour.\n",
      "  warn(\n",
      "/Users/jayceepang/miniconda3/envs/atom2024/lib/python3.9/site-packages/imblearn/ensemble/_forest.py:589: FutureWarning: The default of `replacement` will change from `False` to `True` in version 0.13. This change will follow the implementation proposed in the original paper. Set to `True` to silence this warning and adopt the future behaviour.\n",
      "  warn(\n"
     ]
    },
    {
     "name": "stdout",
     "output_type": "stream",
     "text": [
      "TRAIN: acc: 1.000, precision: 1.000, recall: 1.000, spec: 1.000\n",
      "TEST: acc: 0.957, precision: 0.943, recall: 0.974, spec: 0.941\n",
      "func:'rf_models'  took: 50.2719 sec\n",
      "\n",
      "NEK2_inhibition_MOE_ADASYN_BRFC_BCW_fold2\n"
     ]
    },
    {
     "name": "stderr",
     "output_type": "stream",
     "text": [
      "/Users/jayceepang/miniconda3/envs/atom2024/lib/python3.9/site-packages/imblearn/ensemble/_forest.py:577: FutureWarning: The default of `sampling_strategy` will change from `'auto'` to `'all'` in version 0.13. This change will follow the implementation proposed in the original paper. Set to `'all'` to silence this warning and adopt the future behaviour.\n",
      "  warn(\n",
      "/Users/jayceepang/miniconda3/envs/atom2024/lib/python3.9/site-packages/imblearn/ensemble/_forest.py:589: FutureWarning: The default of `replacement` will change from `False` to `True` in version 0.13. This change will follow the implementation proposed in the original paper. Set to `True` to silence this warning and adopt the future behaviour.\n",
      "  warn(\n"
     ]
    },
    {
     "name": "stdout",
     "output_type": "stream",
     "text": [
      "TRAIN: acc: 1.000, precision: 1.000, recall: 1.000, spec: 1.000\n",
      "TEST: acc: 0.952, precision: 0.937, recall: 0.970, spec: 0.934\n",
      "func:'rf_models'  took: 52.7537 sec\n",
      "\n",
      "NEK2_inhibition_MOE_ADASYN_RF_fold3\n",
      "TRAIN: acc: 1.000, precision: 1.000, recall: 1.000, spec: 1.000\n",
      "TEST: acc: 0.957, precision: 0.943, recall: 0.974, spec: 0.941\n",
      "func:'rf_models'  took: 46.8186 sec\n",
      "\n",
      "NEK2_inhibition_MOE_ADASYN_RF_BCW_fold3\n",
      "TRAIN: acc: 1.000, precision: 1.000, recall: 1.000, spec: 1.000\n",
      "TEST: acc: 0.959, precision: 0.943, recall: 0.977, spec: 0.941\n",
      "func:'rf_models'  took: 48.2110 sec\n",
      "\n",
      "NEK2_inhibition_MOE_ADASYN_BRFC_fold3\n"
     ]
    },
    {
     "name": "stderr",
     "output_type": "stream",
     "text": [
      "/Users/jayceepang/miniconda3/envs/atom2024/lib/python3.9/site-packages/imblearn/ensemble/_forest.py:577: FutureWarning: The default of `sampling_strategy` will change from `'auto'` to `'all'` in version 0.13. This change will follow the implementation proposed in the original paper. Set to `'all'` to silence this warning and adopt the future behaviour.\n",
      "  warn(\n",
      "/Users/jayceepang/miniconda3/envs/atom2024/lib/python3.9/site-packages/imblearn/ensemble/_forest.py:589: FutureWarning: The default of `replacement` will change from `False` to `True` in version 0.13. This change will follow the implementation proposed in the original paper. Set to `True` to silence this warning and adopt the future behaviour.\n",
      "  warn(\n"
     ]
    },
    {
     "name": "stdout",
     "output_type": "stream",
     "text": [
      "TRAIN: acc: 1.000, precision: 1.000, recall: 1.000, spec: 1.000\n",
      "TEST: acc: 0.959, precision: 0.946, recall: 0.974, spec: 0.944\n",
      "func:'rf_models'  took: 46.8285 sec\n",
      "\n",
      "NEK2_inhibition_MOE_ADASYN_BRFC_BCW_fold3\n"
     ]
    },
    {
     "name": "stderr",
     "output_type": "stream",
     "text": [
      "/Users/jayceepang/miniconda3/envs/atom2024/lib/python3.9/site-packages/imblearn/ensemble/_forest.py:577: FutureWarning: The default of `sampling_strategy` will change from `'auto'` to `'all'` in version 0.13. This change will follow the implementation proposed in the original paper. Set to `'all'` to silence this warning and adopt the future behaviour.\n",
      "  warn(\n",
      "/Users/jayceepang/miniconda3/envs/atom2024/lib/python3.9/site-packages/imblearn/ensemble/_forest.py:589: FutureWarning: The default of `replacement` will change from `False` to `True` in version 0.13. This change will follow the implementation proposed in the original paper. Set to `True` to silence this warning and adopt the future behaviour.\n",
      "  warn(\n"
     ]
    },
    {
     "name": "stdout",
     "output_type": "stream",
     "text": [
      "TRAIN: acc: 1.000, precision: 1.000, recall: 1.000, spec: 1.000\n",
      "TEST: acc: 0.956, precision: 0.940, recall: 0.974, spec: 0.937\n",
      "func:'rf_models'  took: 48.7166 sec\n",
      "\n",
      "NEK2_inhibition_MOE_ADASYN_RF_fold4\n",
      "TRAIN: acc: 1.000, precision: 1.000, recall: 1.000, spec: 1.000\n",
      "TEST: acc: 0.937, precision: 0.927, recall: 0.951, spec: 0.924\n",
      "func:'rf_models'  took: 49.8641 sec\n",
      "\n",
      "NEK2_inhibition_MOE_ADASYN_RF_BCW_fold4\n",
      "TRAIN: acc: 1.000, precision: 1.000, recall: 1.000, spec: 1.000\n",
      "TEST: acc: 0.937, precision: 0.911, recall: 0.970, spec: 0.904\n",
      "func:'rf_models'  took: 50.3120 sec\n",
      "\n",
      "NEK2_inhibition_MOE_ADASYN_BRFC_fold4\n"
     ]
    },
    {
     "name": "stderr",
     "output_type": "stream",
     "text": [
      "/Users/jayceepang/miniconda3/envs/atom2024/lib/python3.9/site-packages/imblearn/ensemble/_forest.py:577: FutureWarning: The default of `sampling_strategy` will change from `'auto'` to `'all'` in version 0.13. This change will follow the implementation proposed in the original paper. Set to `'all'` to silence this warning and adopt the future behaviour.\n",
      "  warn(\n",
      "/Users/jayceepang/miniconda3/envs/atom2024/lib/python3.9/site-packages/imblearn/ensemble/_forest.py:589: FutureWarning: The default of `replacement` will change from `False` to `True` in version 0.13. This change will follow the implementation proposed in the original paper. Set to `True` to silence this warning and adopt the future behaviour.\n",
      "  warn(\n"
     ]
    },
    {
     "name": "stdout",
     "output_type": "stream",
     "text": [
      "TRAIN: acc: 1.000, precision: 1.000, recall: 1.000, spec: 1.000\n",
      "TEST: acc: 0.939, precision: 0.927, recall: 0.954, spec: 0.924\n",
      "func:'rf_models'  took: 48.5407 sec\n",
      "\n",
      "NEK2_inhibition_MOE_ADASYN_BRFC_BCW_fold4\n"
     ]
    },
    {
     "name": "stderr",
     "output_type": "stream",
     "text": [
      "/Users/jayceepang/miniconda3/envs/atom2024/lib/python3.9/site-packages/imblearn/ensemble/_forest.py:577: FutureWarning: The default of `sampling_strategy` will change from `'auto'` to `'all'` in version 0.13. This change will follow the implementation proposed in the original paper. Set to `'all'` to silence this warning and adopt the future behaviour.\n",
      "  warn(\n",
      "/Users/jayceepang/miniconda3/envs/atom2024/lib/python3.9/site-packages/imblearn/ensemble/_forest.py:589: FutureWarning: The default of `replacement` will change from `False` to `True` in version 0.13. This change will follow the implementation proposed in the original paper. Set to `True` to silence this warning and adopt the future behaviour.\n",
      "  warn(\n"
     ]
    },
    {
     "name": "stdout",
     "output_type": "stream",
     "text": [
      "TRAIN: acc: 1.000, precision: 1.000, recall: 1.000, spec: 1.000\n",
      "TEST: acc: 0.941, precision: 0.914, recall: 0.974, spec: 0.907\n",
      "func:'rf_models'  took: 50.0199 sec\n",
      "\n",
      "NEK2_inhibition_MOE_ADASYN_RF_fold5\n",
      "TRAIN: acc: 1.000, precision: 1.000, recall: 1.000, spec: 1.000\n",
      "TEST: acc: 0.964, precision: 0.955, recall: 0.974, spec: 0.954\n",
      "func:'rf_models'  took: 45.9544 sec\n",
      "\n",
      "NEK2_inhibition_MOE_ADASYN_RF_BCW_fold5\n",
      "TRAIN: acc: 1.000, precision: 1.000, recall: 1.000, spec: 1.000\n",
      "TEST: acc: 0.960, precision: 0.949, recall: 0.974, spec: 0.947\n",
      "func:'rf_models'  took: 46.8394 sec\n",
      "\n",
      "NEK2_inhibition_MOE_ADASYN_BRFC_fold5\n"
     ]
    },
    {
     "name": "stderr",
     "output_type": "stream",
     "text": [
      "/Users/jayceepang/miniconda3/envs/atom2024/lib/python3.9/site-packages/imblearn/ensemble/_forest.py:577: FutureWarning: The default of `sampling_strategy` will change from `'auto'` to `'all'` in version 0.13. This change will follow the implementation proposed in the original paper. Set to `'all'` to silence this warning and adopt the future behaviour.\n",
      "  warn(\n",
      "/Users/jayceepang/miniconda3/envs/atom2024/lib/python3.9/site-packages/imblearn/ensemble/_forest.py:589: FutureWarning: The default of `replacement` will change from `False` to `True` in version 0.13. This change will follow the implementation proposed in the original paper. Set to `True` to silence this warning and adopt the future behaviour.\n",
      "  warn(\n"
     ]
    },
    {
     "name": "stdout",
     "output_type": "stream",
     "text": [
      "TRAIN: acc: 1.000, precision: 1.000, recall: 1.000, spec: 1.000\n",
      "TEST: acc: 0.967, precision: 0.961, recall: 0.974, spec: 0.960\n",
      "func:'rf_models'  took: 45.9672 sec\n",
      "\n",
      "NEK2_inhibition_MOE_ADASYN_BRFC_BCW_fold5\n"
     ]
    },
    {
     "name": "stderr",
     "output_type": "stream",
     "text": [
      "/Users/jayceepang/miniconda3/envs/atom2024/lib/python3.9/site-packages/imblearn/ensemble/_forest.py:577: FutureWarning: The default of `sampling_strategy` will change from `'auto'` to `'all'` in version 0.13. This change will follow the implementation proposed in the original paper. Set to `'all'` to silence this warning and adopt the future behaviour.\n",
      "  warn(\n",
      "/Users/jayceepang/miniconda3/envs/atom2024/lib/python3.9/site-packages/imblearn/ensemble/_forest.py:589: FutureWarning: The default of `replacement` will change from `False` to `True` in version 0.13. This change will follow the implementation proposed in the original paper. Set to `True` to silence this warning and adopt the future behaviour.\n",
      "  warn(\n"
     ]
    },
    {
     "name": "stdout",
     "output_type": "stream",
     "text": [
      "TRAIN: acc: 1.000, precision: 1.000, recall: 1.000, spec: 1.000\n",
      "TEST: acc: 0.964, precision: 0.955, recall: 0.974, spec: 0.954\n",
      "func:'rf_models'  took: 46.7020 sec\n",
      "\n",
      "NEK2_inhibition_MFP_none_scaled_RF_fold1\n",
      "TRAIN: acc: 0.998, precision: 0.989, recall: 0.989, spec: 0.999\n",
      "TEST: acc: 0.923, precision: 0.457, recall: 0.727, spec: 0.937\n",
      "func:'rf_models'  took: 5.1415 sec\n",
      "\n",
      "NEK2_inhibition_MFP_none_scaled_RF_BCW_fold1\n",
      "TRAIN: acc: 0.998, precision: 0.978, recall: 1.000, spec: 0.998\n",
      "TEST: acc: 0.938, precision: 0.533, recall: 0.727, spec: 0.954\n",
      "func:'rf_models'  took: 2.9580 sec\n",
      "\n",
      "NEK2_inhibition_MFP_none_scaled_BRFC_fold1\n"
     ]
    },
    {
     "name": "stderr",
     "output_type": "stream",
     "text": [
      "/Users/jayceepang/miniconda3/envs/atom2024/lib/python3.9/site-packages/imblearn/ensemble/_forest.py:577: FutureWarning: The default of `sampling_strategy` will change from `'auto'` to `'all'` in version 0.13. This change will follow the implementation proposed in the original paper. Set to `'all'` to silence this warning and adopt the future behaviour.\n",
      "  warn(\n",
      "/Users/jayceepang/miniconda3/envs/atom2024/lib/python3.9/site-packages/imblearn/ensemble/_forest.py:589: FutureWarning: The default of `replacement` will change from `False` to `True` in version 0.13. This change will follow the implementation proposed in the original paper. Set to `True` to silence this warning and adopt the future behaviour.\n",
      "  warn(\n"
     ]
    },
    {
     "name": "stdout",
     "output_type": "stream",
     "text": [
      "TRAIN: acc: 0.905, precision: 0.423, recall: 1.000, spec: 0.898\n",
      "TEST: acc: 0.849, precision: 0.286, recall: 0.818, spec: 0.851\n",
      "func:'rf_models'  took: 0.4768 sec\n",
      "\n",
      "NEK2_inhibition_MFP_none_scaled_BRFC_BCW_fold1\n"
     ]
    },
    {
     "name": "stderr",
     "output_type": "stream",
     "text": [
      "/Users/jayceepang/miniconda3/envs/atom2024/lib/python3.9/site-packages/imblearn/ensemble/_forest.py:577: FutureWarning: The default of `sampling_strategy` will change from `'auto'` to `'all'` in version 0.13. This change will follow the implementation proposed in the original paper. Set to `'all'` to silence this warning and adopt the future behaviour.\n",
      "  warn(\n",
      "/Users/jayceepang/miniconda3/envs/atom2024/lib/python3.9/site-packages/imblearn/ensemble/_forest.py:589: FutureWarning: The default of `replacement` will change from `False` to `True` in version 0.13. This change will follow the implementation proposed in the original paper. Set to `True` to silence this warning and adopt the future behaviour.\n",
      "  warn(\n"
     ]
    },
    {
     "name": "stdout",
     "output_type": "stream",
     "text": [
      "TRAIN: acc: 0.752, precision: 0.218, recall: 1.000, spec: 0.734\n",
      "TEST: acc: 0.714, precision: 0.180, recall: 0.909, spec: 0.700\n",
      "func:'rf_models'  took: 0.9092 sec\n",
      "\n",
      "NEK2_inhibition_MFP_none_scaled_RF_fold2\n",
      "TRAIN: acc: 0.999, precision: 1.000, recall: 0.989, spec: 1.000\n",
      "TEST: acc: 0.942, precision: 0.552, recall: 0.727, spec: 0.957\n",
      "func:'rf_models'  took: 7.3031 sec\n",
      "\n",
      "NEK2_inhibition_MFP_none_scaled_RF_BCW_fold2\n",
      "TRAIN: acc: 0.999, precision: 0.989, recall: 1.000, spec: 0.999\n",
      "TEST: acc: 0.935, precision: 0.517, recall: 0.682, spec: 0.954\n",
      "func:'rf_models'  took: 2.7761 sec\n",
      "\n",
      "NEK2_inhibition_MFP_none_scaled_BRFC_fold2\n"
     ]
    },
    {
     "name": "stderr",
     "output_type": "stream",
     "text": [
      "/Users/jayceepang/miniconda3/envs/atom2024/lib/python3.9/site-packages/imblearn/ensemble/_forest.py:577: FutureWarning: The default of `sampling_strategy` will change from `'auto'` to `'all'` in version 0.13. This change will follow the implementation proposed in the original paper. Set to `'all'` to silence this warning and adopt the future behaviour.\n",
      "  warn(\n",
      "/Users/jayceepang/miniconda3/envs/atom2024/lib/python3.9/site-packages/imblearn/ensemble/_forest.py:589: FutureWarning: The default of `replacement` will change from `False` to `True` in version 0.13. This change will follow the implementation proposed in the original paper. Set to `True` to silence this warning and adopt the future behaviour.\n",
      "  warn(\n"
     ]
    },
    {
     "name": "stdout",
     "output_type": "stream",
     "text": [
      "TRAIN: acc: 0.919, precision: 0.462, recall: 1.000, spec: 0.913\n",
      "TEST: acc: 0.868, precision: 0.333, recall: 0.955, spec: 0.861\n",
      "func:'rf_models'  took: 0.4898 sec\n",
      "\n",
      "NEK2_inhibition_MFP_none_scaled_BRFC_BCW_fold2\n"
     ]
    },
    {
     "name": "stderr",
     "output_type": "stream",
     "text": [
      "/Users/jayceepang/miniconda3/envs/atom2024/lib/python3.9/site-packages/imblearn/ensemble/_forest.py:577: FutureWarning: The default of `sampling_strategy` will change from `'auto'` to `'all'` in version 0.13. This change will follow the implementation proposed in the original paper. Set to `'all'` to silence this warning and adopt the future behaviour.\n",
      "  warn(\n",
      "/Users/jayceepang/miniconda3/envs/atom2024/lib/python3.9/site-packages/imblearn/ensemble/_forest.py:589: FutureWarning: The default of `replacement` will change from `False` to `True` in version 0.13. This change will follow the implementation proposed in the original paper. Set to `True` to silence this warning and adopt the future behaviour.\n",
      "  warn(\n"
     ]
    },
    {
     "name": "stdout",
     "output_type": "stream",
     "text": [
      "TRAIN: acc: 0.728, precision: 0.203, recall: 1.000, spec: 0.708\n",
      "TEST: acc: 0.702, precision: 0.174, recall: 0.909, spec: 0.686\n",
      "func:'rf_models'  took: 0.9905 sec\n",
      "\n",
      "NEK2_inhibition_MFP_none_scaled_RF_fold3\n",
      "TRAIN: acc: 0.998, precision: 1.000, recall: 0.967, spec: 1.000\n",
      "TEST: acc: 0.942, precision: 0.565, recall: 0.591, spec: 0.967\n",
      "func:'rf_models'  took: 6.5068 sec\n",
      "\n",
      "NEK2_inhibition_MFP_none_scaled_RF_BCW_fold3\n",
      "TRAIN: acc: 0.998, precision: 0.968, recall: 1.000, spec: 0.998\n",
      "TEST: acc: 0.942, precision: 0.560, recall: 0.636, spec: 0.964\n",
      "func:'rf_models'  took: 2.8985 sec\n",
      "\n",
      "NEK2_inhibition_MFP_none_scaled_BRFC_fold3\n"
     ]
    },
    {
     "name": "stderr",
     "output_type": "stream",
     "text": [
      "/Users/jayceepang/miniconda3/envs/atom2024/lib/python3.9/site-packages/imblearn/ensemble/_forest.py:577: FutureWarning: The default of `sampling_strategy` will change from `'auto'` to `'all'` in version 0.13. This change will follow the implementation proposed in the original paper. Set to `'all'` to silence this warning and adopt the future behaviour.\n",
      "  warn(\n",
      "/Users/jayceepang/miniconda3/envs/atom2024/lib/python3.9/site-packages/imblearn/ensemble/_forest.py:589: FutureWarning: The default of `replacement` will change from `False` to `True` in version 0.13. This change will follow the implementation proposed in the original paper. Set to `True` to silence this warning and adopt the future behaviour.\n",
      "  warn(\n"
     ]
    },
    {
     "name": "stdout",
     "output_type": "stream",
     "text": [
      "TRAIN: acc: 0.928, precision: 0.489, recall: 1.000, spec: 0.922\n",
      "TEST: acc: 0.905, precision: 0.404, recall: 0.864, spec: 0.908\n",
      "func:'rf_models'  took: 0.4859 sec\n",
      "\n",
      "NEK2_inhibition_MFP_none_scaled_BRFC_BCW_fold3\n"
     ]
    },
    {
     "name": "stderr",
     "output_type": "stream",
     "text": [
      "/Users/jayceepang/miniconda3/envs/atom2024/lib/python3.9/site-packages/imblearn/ensemble/_forest.py:577: FutureWarning: The default of `sampling_strategy` will change from `'auto'` to `'all'` in version 0.13. This change will follow the implementation proposed in the original paper. Set to `'all'` to silence this warning and adopt the future behaviour.\n",
      "  warn(\n",
      "/Users/jayceepang/miniconda3/envs/atom2024/lib/python3.9/site-packages/imblearn/ensemble/_forest.py:589: FutureWarning: The default of `replacement` will change from `False` to `True` in version 0.13. This change will follow the implementation proposed in the original paper. Set to `True` to silence this warning and adopt the future behaviour.\n",
      "  warn(\n"
     ]
    },
    {
     "name": "stdout",
     "output_type": "stream",
     "text": [
      "TRAIN: acc: 0.767, precision: 0.229, recall: 1.000, spec: 0.750\n",
      "TEST: acc: 0.720, precision: 0.171, recall: 0.818, spec: 0.713\n",
      "func:'rf_models'  took: 0.9559 sec\n",
      "\n",
      "NEK2_inhibition_MFP_none_scaled_RF_fold4\n",
      "TRAIN: acc: 0.999, precision: 0.989, recall: 1.000, spec: 0.999\n",
      "TEST: acc: 0.935, precision: 0.542, recall: 0.565, spec: 0.964\n",
      "func:'rf_models'  took: 7.4499 sec\n",
      "\n",
      "NEK2_inhibition_MFP_none_scaled_RF_BCW_fold4\n",
      "TRAIN: acc: 0.999, precision: 0.989, recall: 1.000, spec: 0.999\n",
      "TEST: acc: 0.948, precision: 0.607, recall: 0.739, spec: 0.964\n",
      "func:'rf_models'  took: 2.3172 sec\n",
      "\n",
      "NEK2_inhibition_MFP_none_scaled_BRFC_fold4\n"
     ]
    },
    {
     "name": "stderr",
     "output_type": "stream",
     "text": [
      "/Users/jayceepang/miniconda3/envs/atom2024/lib/python3.9/site-packages/imblearn/ensemble/_forest.py:577: FutureWarning: The default of `sampling_strategy` will change from `'auto'` to `'all'` in version 0.13. This change will follow the implementation proposed in the original paper. Set to `'all'` to silence this warning and adopt the future behaviour.\n",
      "  warn(\n",
      "/Users/jayceepang/miniconda3/envs/atom2024/lib/python3.9/site-packages/imblearn/ensemble/_forest.py:589: FutureWarning: The default of `replacement` will change from `False` to `True` in version 0.13. This change will follow the implementation proposed in the original paper. Set to `True` to silence this warning and adopt the future behaviour.\n",
      "  warn(\n"
     ]
    },
    {
     "name": "stdout",
     "output_type": "stream",
     "text": [
      "TRAIN: acc: 0.912, precision: 0.436, recall: 1.000, spec: 0.905\n",
      "TEST: acc: 0.923, precision: 0.476, recall: 0.870, spec: 0.927\n",
      "func:'rf_models'  took: 0.4679 sec\n",
      "\n",
      "NEK2_inhibition_MFP_none_scaled_BRFC_BCW_fold4\n"
     ]
    },
    {
     "name": "stderr",
     "output_type": "stream",
     "text": [
      "/Users/jayceepang/miniconda3/envs/atom2024/lib/python3.9/site-packages/imblearn/ensemble/_forest.py:577: FutureWarning: The default of `sampling_strategy` will change from `'auto'` to `'all'` in version 0.13. This change will follow the implementation proposed in the original paper. Set to `'all'` to silence this warning and adopt the future behaviour.\n",
      "  warn(\n",
      "/Users/jayceepang/miniconda3/envs/atom2024/lib/python3.9/site-packages/imblearn/ensemble/_forest.py:589: FutureWarning: The default of `replacement` will change from `False` to `True` in version 0.13. This change will follow the implementation proposed in the original paper. Set to `True` to silence this warning and adopt the future behaviour.\n",
      "  warn(\n"
     ]
    },
    {
     "name": "stdout",
     "output_type": "stream",
     "text": [
      "TRAIN: acc: 0.715, precision: 0.194, recall: 1.000, spec: 0.694\n",
      "TEST: acc: 0.698, precision: 0.179, recall: 0.913, spec: 0.682\n",
      "func:'rf_models'  took: 0.8958 sec\n",
      "\n",
      "NEK2_inhibition_MFP_none_scaled_RF_fold5\n",
      "TRAIN: acc: 0.998, precision: 1.000, recall: 0.966, spec: 1.000\n",
      "TEST: acc: 0.963, precision: 0.789, recall: 0.652, spec: 0.987\n",
      "func:'rf_models'  took: 4.7984 sec\n",
      "\n",
      "NEK2_inhibition_MFP_none_scaled_RF_BCW_fold5\n",
      "TRAIN: acc: 0.998, precision: 0.967, recall: 1.000, spec: 0.998\n",
      "TEST: acc: 0.963, precision: 0.762, recall: 0.696, spec: 0.983\n",
      "func:'rf_models'  took: 2.6358 sec\n",
      "\n",
      "NEK2_inhibition_MFP_none_scaled_BRFC_fold5\n"
     ]
    },
    {
     "name": "stderr",
     "output_type": "stream",
     "text": [
      "/Users/jayceepang/miniconda3/envs/atom2024/lib/python3.9/site-packages/imblearn/ensemble/_forest.py:577: FutureWarning: The default of `sampling_strategy` will change from `'auto'` to `'all'` in version 0.13. This change will follow the implementation proposed in the original paper. Set to `'all'` to silence this warning and adopt the future behaviour.\n",
      "  warn(\n",
      "/Users/jayceepang/miniconda3/envs/atom2024/lib/python3.9/site-packages/imblearn/ensemble/_forest.py:589: FutureWarning: The default of `replacement` will change from `False` to `True` in version 0.13. This change will follow the implementation proposed in the original paper. Set to `True` to silence this warning and adopt the future behaviour.\n",
      "  warn(\n"
     ]
    },
    {
     "name": "stdout",
     "output_type": "stream",
     "text": [
      "TRAIN: acc: 0.920, precision: 0.461, recall: 1.000, spec: 0.914\n",
      "TEST: acc: 0.902, precision: 0.400, recall: 0.783, spec: 0.911\n",
      "func:'rf_models'  took: 0.4582 sec\n",
      "\n",
      "NEK2_inhibition_MFP_none_scaled_BRFC_BCW_fold5\n"
     ]
    },
    {
     "name": "stderr",
     "output_type": "stream",
     "text": [
      "/Users/jayceepang/miniconda3/envs/atom2024/lib/python3.9/site-packages/imblearn/ensemble/_forest.py:577: FutureWarning: The default of `sampling_strategy` will change from `'auto'` to `'all'` in version 0.13. This change will follow the implementation proposed in the original paper. Set to `'all'` to silence this warning and adopt the future behaviour.\n",
      "  warn(\n",
      "/Users/jayceepang/miniconda3/envs/atom2024/lib/python3.9/site-packages/imblearn/ensemble/_forest.py:589: FutureWarning: The default of `replacement` will change from `False` to `True` in version 0.13. This change will follow the implementation proposed in the original paper. Set to `True` to silence this warning and adopt the future behaviour.\n",
      "  warn(\n"
     ]
    },
    {
     "name": "stdout",
     "output_type": "stream",
     "text": [
      "TRAIN: acc: 0.742, precision: 0.209, recall: 1.000, spec: 0.723\n",
      "TEST: acc: 0.692, precision: 0.187, recall: 1.000, spec: 0.669\n",
      "func:'rf_models'  took: 0.9025 sec\n",
      "\n",
      "NEK2_inhibition_MFP_UNDER_RF_fold1\n",
      "TRAIN: acc: 0.994, precision: 0.989, recall: 1.000, spec: 0.989\n",
      "TEST: acc: 0.889, precision: 0.870, recall: 0.909, spec: 0.870\n",
      "func:'rf_models'  took: 0.3501 sec\n",
      "\n",
      "NEK2_inhibition_MFP_UNDER_RF_BCW_fold1\n",
      "TRAIN: acc: 0.994, precision: 0.989, recall: 1.000, spec: 0.989\n",
      "TEST: acc: 0.867, precision: 0.864, recall: 0.864, spec: 0.870\n",
      "func:'rf_models'  took: 0.3557 sec\n",
      "\n",
      "NEK2_inhibition_MFP_UNDER_BRFC_fold1\n"
     ]
    },
    {
     "name": "stderr",
     "output_type": "stream",
     "text": [
      "/Users/jayceepang/miniconda3/envs/atom2024/lib/python3.9/site-packages/imblearn/ensemble/_forest.py:577: FutureWarning: The default of `sampling_strategy` will change from `'auto'` to `'all'` in version 0.13. This change will follow the implementation proposed in the original paper. Set to `'all'` to silence this warning and adopt the future behaviour.\n",
      "  warn(\n",
      "/Users/jayceepang/miniconda3/envs/atom2024/lib/python3.9/site-packages/imblearn/ensemble/_forest.py:589: FutureWarning: The default of `replacement` will change from `False` to `True` in version 0.13. This change will follow the implementation proposed in the original paper. Set to `True` to silence this warning and adopt the future behaviour.\n",
      "  warn(\n"
     ]
    },
    {
     "name": "stdout",
     "output_type": "stream",
     "text": [
      "TRAIN: acc: 0.994, precision: 0.989, recall: 1.000, spec: 0.989\n",
      "TEST: acc: 0.911, precision: 0.875, recall: 0.955, spec: 0.870\n",
      "func:'rf_models'  took: 0.4751 sec\n",
      "\n",
      "NEK2_inhibition_MFP_UNDER_BRFC_BCW_fold1\n"
     ]
    },
    {
     "name": "stderr",
     "output_type": "stream",
     "text": [
      "/Users/jayceepang/miniconda3/envs/atom2024/lib/python3.9/site-packages/imblearn/ensemble/_forest.py:577: FutureWarning: The default of `sampling_strategy` will change from `'auto'` to `'all'` in version 0.13. This change will follow the implementation proposed in the original paper. Set to `'all'` to silence this warning and adopt the future behaviour.\n",
      "  warn(\n",
      "/Users/jayceepang/miniconda3/envs/atom2024/lib/python3.9/site-packages/imblearn/ensemble/_forest.py:589: FutureWarning: The default of `replacement` will change from `False` to `True` in version 0.13. This change will follow the implementation proposed in the original paper. Set to `True` to silence this warning and adopt the future behaviour.\n",
      "  warn(\n"
     ]
    },
    {
     "name": "stdout",
     "output_type": "stream",
     "text": [
      "TRAIN: acc: 0.994, precision: 0.989, recall: 1.000, spec: 0.989\n",
      "TEST: acc: 0.889, precision: 0.870, recall: 0.909, spec: 0.870\n",
      "func:'rf_models'  took: 0.4786 sec\n",
      "\n",
      "NEK2_inhibition_MFP_UNDER_RF_fold2\n",
      "TRAIN: acc: 0.994, precision: 1.000, recall: 0.989, spec: 1.000\n",
      "TEST: acc: 0.778, precision: 0.731, recall: 0.864, spec: 0.696\n",
      "func:'rf_models'  took: 0.3680 sec\n",
      "\n",
      "NEK2_inhibition_MFP_UNDER_RF_BCW_fold2\n",
      "TRAIN: acc: 0.994, precision: 1.000, recall: 0.989, spec: 1.000\n",
      "TEST: acc: 0.778, precision: 0.731, recall: 0.864, spec: 0.696\n",
      "func:'rf_models'  took: 0.3748 sec\n",
      "\n",
      "NEK2_inhibition_MFP_UNDER_BRFC_fold2\n"
     ]
    },
    {
     "name": "stderr",
     "output_type": "stream",
     "text": [
      "/Users/jayceepang/miniconda3/envs/atom2024/lib/python3.9/site-packages/imblearn/ensemble/_forest.py:577: FutureWarning: The default of `sampling_strategy` will change from `'auto'` to `'all'` in version 0.13. This change will follow the implementation proposed in the original paper. Set to `'all'` to silence this warning and adopt the future behaviour.\n",
      "  warn(\n",
      "/Users/jayceepang/miniconda3/envs/atom2024/lib/python3.9/site-packages/imblearn/ensemble/_forest.py:589: FutureWarning: The default of `replacement` will change from `False` to `True` in version 0.13. This change will follow the implementation proposed in the original paper. Set to `True` to silence this warning and adopt the future behaviour.\n",
      "  warn(\n"
     ]
    },
    {
     "name": "stdout",
     "output_type": "stream",
     "text": [
      "TRAIN: acc: 0.994, precision: 1.000, recall: 0.989, spec: 1.000\n",
      "TEST: acc: 0.778, precision: 0.731, recall: 0.864, spec: 0.696\n",
      "func:'rf_models'  took: 0.4849 sec\n",
      "\n",
      "NEK2_inhibition_MFP_UNDER_BRFC_BCW_fold2\n"
     ]
    },
    {
     "name": "stderr",
     "output_type": "stream",
     "text": [
      "/Users/jayceepang/miniconda3/envs/atom2024/lib/python3.9/site-packages/imblearn/ensemble/_forest.py:577: FutureWarning: The default of `sampling_strategy` will change from `'auto'` to `'all'` in version 0.13. This change will follow the implementation proposed in the original paper. Set to `'all'` to silence this warning and adopt the future behaviour.\n",
      "  warn(\n",
      "/Users/jayceepang/miniconda3/envs/atom2024/lib/python3.9/site-packages/imblearn/ensemble/_forest.py:589: FutureWarning: The default of `replacement` will change from `False` to `True` in version 0.13. This change will follow the implementation proposed in the original paper. Set to `True` to silence this warning and adopt the future behaviour.\n",
      "  warn(\n"
     ]
    },
    {
     "name": "stdout",
     "output_type": "stream",
     "text": [
      "TRAIN: acc: 0.994, precision: 1.000, recall: 0.989, spec: 1.000\n",
      "TEST: acc: 0.778, precision: 0.731, recall: 0.864, spec: 0.696\n",
      "func:'rf_models'  took: 0.4878 sec\n",
      "\n",
      "NEK2_inhibition_MFP_UNDER_RF_fold3\n",
      "TRAIN: acc: 0.994, precision: 0.989, recall: 1.000, spec: 0.989\n",
      "TEST: acc: 0.867, precision: 0.840, recall: 0.913, spec: 0.818\n",
      "func:'rf_models'  took: 0.4034 sec\n",
      "\n",
      "NEK2_inhibition_MFP_UNDER_RF_BCW_fold3\n",
      "TRAIN: acc: 0.994, precision: 0.989, recall: 1.000, spec: 0.989\n",
      "TEST: acc: 0.867, precision: 0.840, recall: 0.913, spec: 0.818\n",
      "func:'rf_models'  took: 0.4076 sec\n",
      "\n",
      "NEK2_inhibition_MFP_UNDER_BRFC_fold3\n"
     ]
    },
    {
     "name": "stderr",
     "output_type": "stream",
     "text": [
      "/Users/jayceepang/miniconda3/envs/atom2024/lib/python3.9/site-packages/imblearn/ensemble/_forest.py:577: FutureWarning: The default of `sampling_strategy` will change from `'auto'` to `'all'` in version 0.13. This change will follow the implementation proposed in the original paper. Set to `'all'` to silence this warning and adopt the future behaviour.\n",
      "  warn(\n",
      "/Users/jayceepang/miniconda3/envs/atom2024/lib/python3.9/site-packages/imblearn/ensemble/_forest.py:589: FutureWarning: The default of `replacement` will change from `False` to `True` in version 0.13. This change will follow the implementation proposed in the original paper. Set to `True` to silence this warning and adopt the future behaviour.\n",
      "  warn(\n"
     ]
    },
    {
     "name": "stdout",
     "output_type": "stream",
     "text": [
      "TRAIN: acc: 0.994, precision: 0.989, recall: 1.000, spec: 0.989\n",
      "TEST: acc: 0.867, precision: 0.840, recall: 0.913, spec: 0.818\n",
      "func:'rf_models'  took: 0.5362 sec\n",
      "\n",
      "NEK2_inhibition_MFP_UNDER_BRFC_BCW_fold3\n"
     ]
    },
    {
     "name": "stderr",
     "output_type": "stream",
     "text": [
      "/Users/jayceepang/miniconda3/envs/atom2024/lib/python3.9/site-packages/imblearn/ensemble/_forest.py:577: FutureWarning: The default of `sampling_strategy` will change from `'auto'` to `'all'` in version 0.13. This change will follow the implementation proposed in the original paper. Set to `'all'` to silence this warning and adopt the future behaviour.\n",
      "  warn(\n",
      "/Users/jayceepang/miniconda3/envs/atom2024/lib/python3.9/site-packages/imblearn/ensemble/_forest.py:589: FutureWarning: The default of `replacement` will change from `False` to `True` in version 0.13. This change will follow the implementation proposed in the original paper. Set to `True` to silence this warning and adopt the future behaviour.\n",
      "  warn(\n"
     ]
    },
    {
     "name": "stdout",
     "output_type": "stream",
     "text": [
      "TRAIN: acc: 0.994, precision: 0.989, recall: 1.000, spec: 0.989\n",
      "TEST: acc: 0.867, precision: 0.840, recall: 0.913, spec: 0.818\n",
      "func:'rf_models'  took: 0.5384 sec\n",
      "\n",
      "NEK2_inhibition_MFP_UNDER_RF_fold4\n",
      "TRAIN: acc: 1.000, precision: 1.000, recall: 1.000, spec: 1.000\n",
      "TEST: acc: 0.778, precision: 0.783, recall: 0.783, spec: 0.773\n",
      "func:'rf_models'  took: 0.3490 sec\n",
      "\n",
      "NEK2_inhibition_MFP_UNDER_RF_BCW_fold4\n",
      "TRAIN: acc: 1.000, precision: 1.000, recall: 1.000, spec: 1.000\n",
      "TEST: acc: 0.800, precision: 0.792, recall: 0.826, spec: 0.773\n",
      "func:'rf_models'  took: 0.3537 sec\n",
      "\n",
      "NEK2_inhibition_MFP_UNDER_BRFC_fold4\n"
     ]
    },
    {
     "name": "stderr",
     "output_type": "stream",
     "text": [
      "/Users/jayceepang/miniconda3/envs/atom2024/lib/python3.9/site-packages/imblearn/ensemble/_forest.py:577: FutureWarning: The default of `sampling_strategy` will change from `'auto'` to `'all'` in version 0.13. This change will follow the implementation proposed in the original paper. Set to `'all'` to silence this warning and adopt the future behaviour.\n",
      "  warn(\n",
      "/Users/jayceepang/miniconda3/envs/atom2024/lib/python3.9/site-packages/imblearn/ensemble/_forest.py:589: FutureWarning: The default of `replacement` will change from `False` to `True` in version 0.13. This change will follow the implementation proposed in the original paper. Set to `True` to silence this warning and adopt the future behaviour.\n",
      "  warn(\n"
     ]
    },
    {
     "name": "stdout",
     "output_type": "stream",
     "text": [
      "TRAIN: acc: 1.000, precision: 1.000, recall: 1.000, spec: 1.000\n",
      "TEST: acc: 0.800, precision: 0.792, recall: 0.826, spec: 0.773\n",
      "func:'rf_models'  took: 0.4545 sec\n",
      "\n",
      "NEK2_inhibition_MFP_UNDER_BRFC_BCW_fold4\n"
     ]
    },
    {
     "name": "stderr",
     "output_type": "stream",
     "text": [
      "/Users/jayceepang/miniconda3/envs/atom2024/lib/python3.9/site-packages/imblearn/ensemble/_forest.py:577: FutureWarning: The default of `sampling_strategy` will change from `'auto'` to `'all'` in version 0.13. This change will follow the implementation proposed in the original paper. Set to `'all'` to silence this warning and adopt the future behaviour.\n",
      "  warn(\n",
      "/Users/jayceepang/miniconda3/envs/atom2024/lib/python3.9/site-packages/imblearn/ensemble/_forest.py:589: FutureWarning: The default of `replacement` will change from `False` to `True` in version 0.13. This change will follow the implementation proposed in the original paper. Set to `True` to silence this warning and adopt the future behaviour.\n",
      "  warn(\n"
     ]
    },
    {
     "name": "stdout",
     "output_type": "stream",
     "text": [
      "TRAIN: acc: 1.000, precision: 1.000, recall: 1.000, spec: 1.000\n",
      "TEST: acc: 0.800, precision: 0.792, recall: 0.826, spec: 0.773\n",
      "func:'rf_models'  took: 0.4615 sec\n",
      "\n",
      "NEK2_inhibition_MFP_UNDER_RF_fold5\n",
      "TRAIN: acc: 0.994, precision: 0.989, recall: 1.000, spec: 0.989\n",
      "TEST: acc: 0.773, precision: 0.750, recall: 0.818, spec: 0.727\n",
      "func:'rf_models'  took: 0.3323 sec\n",
      "\n",
      "NEK2_inhibition_MFP_UNDER_RF_BCW_fold5\n",
      "TRAIN: acc: 0.994, precision: 0.989, recall: 1.000, spec: 0.989\n",
      "TEST: acc: 0.773, precision: 0.750, recall: 0.818, spec: 0.727\n",
      "func:'rf_models'  took: 0.3378 sec\n",
      "\n",
      "NEK2_inhibition_MFP_UNDER_BRFC_fold5\n"
     ]
    },
    {
     "name": "stderr",
     "output_type": "stream",
     "text": [
      "/Users/jayceepang/miniconda3/envs/atom2024/lib/python3.9/site-packages/imblearn/ensemble/_forest.py:577: FutureWarning: The default of `sampling_strategy` will change from `'auto'` to `'all'` in version 0.13. This change will follow the implementation proposed in the original paper. Set to `'all'` to silence this warning and adopt the future behaviour.\n",
      "  warn(\n",
      "/Users/jayceepang/miniconda3/envs/atom2024/lib/python3.9/site-packages/imblearn/ensemble/_forest.py:589: FutureWarning: The default of `replacement` will change from `False` to `True` in version 0.13. This change will follow the implementation proposed in the original paper. Set to `True` to silence this warning and adopt the future behaviour.\n",
      "  warn(\n"
     ]
    },
    {
     "name": "stdout",
     "output_type": "stream",
     "text": [
      "TRAIN: acc: 0.994, precision: 0.989, recall: 1.000, spec: 0.989\n",
      "TEST: acc: 0.773, precision: 0.750, recall: 0.818, spec: 0.727\n",
      "func:'rf_models'  took: 0.4435 sec\n",
      "\n",
      "NEK2_inhibition_MFP_UNDER_BRFC_BCW_fold5\n"
     ]
    },
    {
     "name": "stderr",
     "output_type": "stream",
     "text": [
      "/Users/jayceepang/miniconda3/envs/atom2024/lib/python3.9/site-packages/imblearn/ensemble/_forest.py:577: FutureWarning: The default of `sampling_strategy` will change from `'auto'` to `'all'` in version 0.13. This change will follow the implementation proposed in the original paper. Set to `'all'` to silence this warning and adopt the future behaviour.\n",
      "  warn(\n",
      "/Users/jayceepang/miniconda3/envs/atom2024/lib/python3.9/site-packages/imblearn/ensemble/_forest.py:589: FutureWarning: The default of `replacement` will change from `False` to `True` in version 0.13. This change will follow the implementation proposed in the original paper. Set to `True` to silence this warning and adopt the future behaviour.\n",
      "  warn(\n"
     ]
    },
    {
     "name": "stdout",
     "output_type": "stream",
     "text": [
      "TRAIN: acc: 0.994, precision: 0.989, recall: 1.000, spec: 0.989\n",
      "TEST: acc: 0.795, precision: 0.760, recall: 0.864, spec: 0.727\n",
      "func:'rf_models'  took: 0.4505 sec\n",
      "\n",
      "NEK2_inhibition_MFP_SMOTE_RF_fold1\n",
      "TRAIN: acc: 0.999, precision: 0.999, recall: 0.999, spec: 0.999\n",
      "TEST: acc: 0.959, precision: 0.948, recall: 0.970, spec: 0.947\n",
      "func:'rf_models'  took: 10.5473 sec\n",
      "\n",
      "NEK2_inhibition_MFP_SMOTE_RF_BCW_fold1\n",
      "TRAIN: acc: 0.999, precision: 0.999, recall: 0.999, spec: 0.999\n",
      "TEST: acc: 0.959, precision: 0.948, recall: 0.970, spec: 0.947\n",
      "func:'rf_models'  took: 10.7535 sec\n",
      "\n",
      "NEK2_inhibition_MFP_SMOTE_BRFC_fold1\n"
     ]
    },
    {
     "name": "stderr",
     "output_type": "stream",
     "text": [
      "/Users/jayceepang/miniconda3/envs/atom2024/lib/python3.9/site-packages/imblearn/ensemble/_forest.py:577: FutureWarning: The default of `sampling_strategy` will change from `'auto'` to `'all'` in version 0.13. This change will follow the implementation proposed in the original paper. Set to `'all'` to silence this warning and adopt the future behaviour.\n",
      "  warn(\n",
      "/Users/jayceepang/miniconda3/envs/atom2024/lib/python3.9/site-packages/imblearn/ensemble/_forest.py:589: FutureWarning: The default of `replacement` will change from `False` to `True` in version 0.13. This change will follow the implementation proposed in the original paper. Set to `True` to silence this warning and adopt the future behaviour.\n",
      "  warn(\n"
     ]
    },
    {
     "name": "stdout",
     "output_type": "stream",
     "text": [
      "TRAIN: acc: 0.999, precision: 0.999, recall: 0.999, spec: 0.999\n",
      "TEST: acc: 0.964, precision: 0.955, recall: 0.974, spec: 0.954\n",
      "func:'rf_models'  took: 13.8910 sec\n",
      "\n",
      "NEK2_inhibition_MFP_SMOTE_BRFC_BCW_fold1\n"
     ]
    },
    {
     "name": "stderr",
     "output_type": "stream",
     "text": [
      "/Users/jayceepang/miniconda3/envs/atom2024/lib/python3.9/site-packages/imblearn/ensemble/_forest.py:577: FutureWarning: The default of `sampling_strategy` will change from `'auto'` to `'all'` in version 0.13. This change will follow the implementation proposed in the original paper. Set to `'all'` to silence this warning and adopt the future behaviour.\n",
      "  warn(\n",
      "/Users/jayceepang/miniconda3/envs/atom2024/lib/python3.9/site-packages/imblearn/ensemble/_forest.py:589: FutureWarning: The default of `replacement` will change from `False` to `True` in version 0.13. This change will follow the implementation proposed in the original paper. Set to `True` to silence this warning and adopt the future behaviour.\n",
      "  warn(\n"
     ]
    },
    {
     "name": "stdout",
     "output_type": "stream",
     "text": [
      "TRAIN: acc: 0.999, precision: 0.999, recall: 0.999, spec: 0.999\n",
      "TEST: acc: 0.964, precision: 0.955, recall: 0.974, spec: 0.954\n",
      "func:'rf_models'  took: 13.9963 sec\n",
      "\n",
      "NEK2_inhibition_MFP_SMOTE_RF_fold2\n",
      "TRAIN: acc: 0.999, precision: 1.000, recall: 0.998, spec: 1.000\n",
      "TEST: acc: 0.960, precision: 0.948, recall: 0.974, spec: 0.947\n",
      "func:'rf_models'  took: 10.4950 sec\n",
      "\n",
      "NEK2_inhibition_MFP_SMOTE_RF_BCW_fold2\n",
      "TRAIN: acc: 0.999, precision: 1.000, recall: 0.998, spec: 1.000\n",
      "TEST: acc: 0.960, precision: 0.951, recall: 0.970, spec: 0.950\n",
      "func:'rf_models'  took: 10.5368 sec\n",
      "\n",
      "NEK2_inhibition_MFP_SMOTE_BRFC_fold2\n"
     ]
    },
    {
     "name": "stderr",
     "output_type": "stream",
     "text": [
      "/Users/jayceepang/miniconda3/envs/atom2024/lib/python3.9/site-packages/imblearn/ensemble/_forest.py:577: FutureWarning: The default of `sampling_strategy` will change from `'auto'` to `'all'` in version 0.13. This change will follow the implementation proposed in the original paper. Set to `'all'` to silence this warning and adopt the future behaviour.\n",
      "  warn(\n",
      "/Users/jayceepang/miniconda3/envs/atom2024/lib/python3.9/site-packages/imblearn/ensemble/_forest.py:589: FutureWarning: The default of `replacement` will change from `False` to `True` in version 0.13. This change will follow the implementation proposed in the original paper. Set to `True` to silence this warning and adopt the future behaviour.\n",
      "  warn(\n"
     ]
    },
    {
     "name": "stdout",
     "output_type": "stream",
     "text": [
      "TRAIN: acc: 0.999, precision: 1.000, recall: 0.998, spec: 1.000\n",
      "TEST: acc: 0.959, precision: 0.948, recall: 0.970, spec: 0.947\n",
      "func:'rf_models'  took: 13.6591 sec\n",
      "\n",
      "NEK2_inhibition_MFP_SMOTE_BRFC_BCW_fold2\n"
     ]
    },
    {
     "name": "stderr",
     "output_type": "stream",
     "text": [
      "/Users/jayceepang/miniconda3/envs/atom2024/lib/python3.9/site-packages/imblearn/ensemble/_forest.py:577: FutureWarning: The default of `sampling_strategy` will change from `'auto'` to `'all'` in version 0.13. This change will follow the implementation proposed in the original paper. Set to `'all'` to silence this warning and adopt the future behaviour.\n",
      "  warn(\n",
      "/Users/jayceepang/miniconda3/envs/atom2024/lib/python3.9/site-packages/imblearn/ensemble/_forest.py:589: FutureWarning: The default of `replacement` will change from `False` to `True` in version 0.13. This change will follow the implementation proposed in the original paper. Set to `True` to silence this warning and adopt the future behaviour.\n",
      "  warn(\n"
     ]
    },
    {
     "name": "stdout",
     "output_type": "stream",
     "text": [
      "TRAIN: acc: 0.999, precision: 1.000, recall: 0.998, spec: 1.000\n",
      "TEST: acc: 0.962, precision: 0.951, recall: 0.974, spec: 0.950\n",
      "func:'rf_models'  took: 13.8404 sec\n",
      "\n",
      "NEK2_inhibition_MFP_SMOTE_RF_fold3\n",
      "TRAIN: acc: 0.999, precision: 0.998, recall: 0.999, spec: 0.998\n",
      "TEST: acc: 0.972, precision: 0.970, recall: 0.974, spec: 0.970\n",
      "func:'rf_models'  took: 10.0911 sec\n",
      "\n",
      "NEK2_inhibition_MFP_SMOTE_RF_BCW_fold3\n",
      "TRAIN: acc: 0.999, precision: 0.998, recall: 0.999, spec: 0.998\n",
      "TEST: acc: 0.977, precision: 0.977, recall: 0.977, spec: 0.977\n",
      "func:'rf_models'  took: 10.2701 sec\n",
      "\n",
      "NEK2_inhibition_MFP_SMOTE_BRFC_fold3\n"
     ]
    },
    {
     "name": "stderr",
     "output_type": "stream",
     "text": [
      "/Users/jayceepang/miniconda3/envs/atom2024/lib/python3.9/site-packages/imblearn/ensemble/_forest.py:577: FutureWarning: The default of `sampling_strategy` will change from `'auto'` to `'all'` in version 0.13. This change will follow the implementation proposed in the original paper. Set to `'all'` to silence this warning and adopt the future behaviour.\n",
      "  warn(\n",
      "/Users/jayceepang/miniconda3/envs/atom2024/lib/python3.9/site-packages/imblearn/ensemble/_forest.py:589: FutureWarning: The default of `replacement` will change from `False` to `True` in version 0.13. This change will follow the implementation proposed in the original paper. Set to `True` to silence this warning and adopt the future behaviour.\n",
      "  warn(\n"
     ]
    },
    {
     "name": "stdout",
     "output_type": "stream",
     "text": [
      "TRAIN: acc: 0.999, precision: 0.998, recall: 0.999, spec: 0.998\n",
      "TEST: acc: 0.977, precision: 0.977, recall: 0.977, spec: 0.977\n",
      "func:'rf_models'  took: 13.3051 sec\n",
      "\n",
      "NEK2_inhibition_MFP_SMOTE_BRFC_BCW_fold3\n"
     ]
    },
    {
     "name": "stderr",
     "output_type": "stream",
     "text": [
      "/Users/jayceepang/miniconda3/envs/atom2024/lib/python3.9/site-packages/imblearn/ensemble/_forest.py:577: FutureWarning: The default of `sampling_strategy` will change from `'auto'` to `'all'` in version 0.13. This change will follow the implementation proposed in the original paper. Set to `'all'` to silence this warning and adopt the future behaviour.\n",
      "  warn(\n",
      "/Users/jayceepang/miniconda3/envs/atom2024/lib/python3.9/site-packages/imblearn/ensemble/_forest.py:589: FutureWarning: The default of `replacement` will change from `False` to `True` in version 0.13. This change will follow the implementation proposed in the original paper. Set to `True` to silence this warning and adopt the future behaviour.\n",
      "  warn(\n"
     ]
    },
    {
     "name": "stdout",
     "output_type": "stream",
     "text": [
      "TRAIN: acc: 0.999, precision: 0.998, recall: 0.999, spec: 0.998\n",
      "TEST: acc: 0.975, precision: 0.974, recall: 0.977, spec: 0.974\n",
      "func:'rf_models'  took: 13.3839 sec\n",
      "\n",
      "NEK2_inhibition_MFP_SMOTE_RF_fold4\n",
      "TRAIN: acc: 1.000, precision: 0.999, recall: 1.000, spec: 0.999\n",
      "TEST: acc: 0.970, precision: 0.964, recall: 0.977, spec: 0.964\n",
      "func:'rf_models'  took: 11.0104 sec\n",
      "\n",
      "NEK2_inhibition_MFP_SMOTE_RF_BCW_fold4\n",
      "TRAIN: acc: 1.000, precision: 0.999, recall: 1.000, spec: 0.999\n",
      "TEST: acc: 0.969, precision: 0.961, recall: 0.977, spec: 0.960\n",
      "func:'rf_models'  took: 11.1166 sec\n",
      "\n",
      "NEK2_inhibition_MFP_SMOTE_BRFC_fold4\n"
     ]
    },
    {
     "name": "stderr",
     "output_type": "stream",
     "text": [
      "/Users/jayceepang/miniconda3/envs/atom2024/lib/python3.9/site-packages/imblearn/ensemble/_forest.py:577: FutureWarning: The default of `sampling_strategy` will change from `'auto'` to `'all'` in version 0.13. This change will follow the implementation proposed in the original paper. Set to `'all'` to silence this warning and adopt the future behaviour.\n",
      "  warn(\n",
      "/Users/jayceepang/miniconda3/envs/atom2024/lib/python3.9/site-packages/imblearn/ensemble/_forest.py:589: FutureWarning: The default of `replacement` will change from `False` to `True` in version 0.13. This change will follow the implementation proposed in the original paper. Set to `True` to silence this warning and adopt the future behaviour.\n",
      "  warn(\n"
     ]
    },
    {
     "name": "stdout",
     "output_type": "stream",
     "text": [
      "TRAIN: acc: 1.000, precision: 0.999, recall: 1.000, spec: 0.999\n",
      "TEST: acc: 0.970, precision: 0.964, recall: 0.977, spec: 0.964\n",
      "func:'rf_models'  took: 14.1873 sec\n",
      "\n",
      "NEK2_inhibition_MFP_SMOTE_BRFC_BCW_fold4\n"
     ]
    },
    {
     "name": "stderr",
     "output_type": "stream",
     "text": [
      "/Users/jayceepang/miniconda3/envs/atom2024/lib/python3.9/site-packages/imblearn/ensemble/_forest.py:577: FutureWarning: The default of `sampling_strategy` will change from `'auto'` to `'all'` in version 0.13. This change will follow the implementation proposed in the original paper. Set to `'all'` to silence this warning and adopt the future behaviour.\n",
      "  warn(\n",
      "/Users/jayceepang/miniconda3/envs/atom2024/lib/python3.9/site-packages/imblearn/ensemble/_forest.py:589: FutureWarning: The default of `replacement` will change from `False` to `True` in version 0.13. This change will follow the implementation proposed in the original paper. Set to `True` to silence this warning and adopt the future behaviour.\n",
      "  warn(\n"
     ]
    },
    {
     "name": "stdout",
     "output_type": "stream",
     "text": [
      "TRAIN: acc: 1.000, precision: 0.999, recall: 1.000, spec: 0.999\n",
      "TEST: acc: 0.969, precision: 0.961, recall: 0.977, spec: 0.960\n",
      "func:'rf_models'  took: 14.3761 sec\n",
      "\n",
      "NEK2_inhibition_MFP_SMOTE_RF_fold5\n",
      "TRAIN: acc: 0.999, precision: 0.998, recall: 0.999, spec: 0.998\n",
      "TEST: acc: 0.983, precision: 0.983, recall: 0.983, spec: 0.983\n",
      "func:'rf_models'  took: 10.5044 sec\n",
      "\n",
      "NEK2_inhibition_MFP_SMOTE_RF_BCW_fold5\n",
      "TRAIN: acc: 0.999, precision: 0.998, recall: 1.000, spec: 0.998\n",
      "TEST: acc: 0.982, precision: 0.980, recall: 0.983, spec: 0.980\n",
      "func:'rf_models'  took: 10.7332 sec\n",
      "\n",
      "NEK2_inhibition_MFP_SMOTE_BRFC_fold5\n"
     ]
    },
    {
     "name": "stderr",
     "output_type": "stream",
     "text": [
      "/Users/jayceepang/miniconda3/envs/atom2024/lib/python3.9/site-packages/imblearn/ensemble/_forest.py:577: FutureWarning: The default of `sampling_strategy` will change from `'auto'` to `'all'` in version 0.13. This change will follow the implementation proposed in the original paper. Set to `'all'` to silence this warning and adopt the future behaviour.\n",
      "  warn(\n",
      "/Users/jayceepang/miniconda3/envs/atom2024/lib/python3.9/site-packages/imblearn/ensemble/_forest.py:589: FutureWarning: The default of `replacement` will change from `False` to `True` in version 0.13. This change will follow the implementation proposed in the original paper. Set to `True` to silence this warning and adopt the future behaviour.\n",
      "  warn(\n"
     ]
    },
    {
     "name": "stdout",
     "output_type": "stream",
     "text": [
      "TRAIN: acc: 0.999, precision: 0.998, recall: 0.999, spec: 0.998\n",
      "TEST: acc: 0.980, precision: 0.980, recall: 0.980, spec: 0.980\n",
      "func:'rf_models'  took: 13.7084 sec\n",
      "\n",
      "NEK2_inhibition_MFP_SMOTE_BRFC_BCW_fold5\n"
     ]
    },
    {
     "name": "stderr",
     "output_type": "stream",
     "text": [
      "/Users/jayceepang/miniconda3/envs/atom2024/lib/python3.9/site-packages/imblearn/ensemble/_forest.py:577: FutureWarning: The default of `sampling_strategy` will change from `'auto'` to `'all'` in version 0.13. This change will follow the implementation proposed in the original paper. Set to `'all'` to silence this warning and adopt the future behaviour.\n",
      "  warn(\n",
      "/Users/jayceepang/miniconda3/envs/atom2024/lib/python3.9/site-packages/imblearn/ensemble/_forest.py:589: FutureWarning: The default of `replacement` will change from `False` to `True` in version 0.13. This change will follow the implementation proposed in the original paper. Set to `True` to silence this warning and adopt the future behaviour.\n",
      "  warn(\n"
     ]
    },
    {
     "name": "stdout",
     "output_type": "stream",
     "text": [
      "TRAIN: acc: 0.999, precision: 0.998, recall: 1.000, spec: 0.998\n",
      "TEST: acc: 0.982, precision: 0.980, recall: 0.983, spec: 0.980\n",
      "func:'rf_models'  took: 13.9880 sec\n",
      "\n",
      "NEK2_inhibition_MFP_ADASYN_RF_fold1\n",
      "TRAIN: acc: 0.999, precision: 0.999, recall: 0.999, spec: 0.999\n",
      "TEST: acc: 0.961, precision: 0.955, recall: 0.967, spec: 0.954\n",
      "func:'rf_models'  took: 12.6736 sec\n",
      "\n",
      "NEK2_inhibition_MFP_ADASYN_RF_BCW_fold1\n",
      "TRAIN: acc: 0.999, precision: 0.999, recall: 0.999, spec: 0.999\n",
      "TEST: acc: 0.956, precision: 0.946, recall: 0.967, spec: 0.944\n",
      "func:'rf_models'  took: 13.1299 sec\n",
      "\n",
      "NEK2_inhibition_MFP_ADASYN_BRFC_fold1\n"
     ]
    },
    {
     "name": "stderr",
     "output_type": "stream",
     "text": [
      "/Users/jayceepang/miniconda3/envs/atom2024/lib/python3.9/site-packages/imblearn/ensemble/_forest.py:577: FutureWarning: The default of `sampling_strategy` will change from `'auto'` to `'all'` in version 0.13. This change will follow the implementation proposed in the original paper. Set to `'all'` to silence this warning and adopt the future behaviour.\n",
      "  warn(\n",
      "/Users/jayceepang/miniconda3/envs/atom2024/lib/python3.9/site-packages/imblearn/ensemble/_forest.py:589: FutureWarning: The default of `replacement` will change from `False` to `True` in version 0.13. This change will follow the implementation proposed in the original paper. Set to `True` to silence this warning and adopt the future behaviour.\n",
      "  warn(\n"
     ]
    },
    {
     "name": "stdout",
     "output_type": "stream",
     "text": [
      "TRAIN: acc: 0.999, precision: 0.999, recall: 0.999, spec: 0.999\n",
      "TEST: acc: 0.962, precision: 0.955, recall: 0.971, spec: 0.954\n",
      "func:'rf_models'  took: 15.5327 sec\n",
      "\n",
      "NEK2_inhibition_MFP_ADASYN_BRFC_BCW_fold1\n"
     ]
    },
    {
     "name": "stderr",
     "output_type": "stream",
     "text": [
      "/Users/jayceepang/miniconda3/envs/atom2024/lib/python3.9/site-packages/imblearn/ensemble/_forest.py:577: FutureWarning: The default of `sampling_strategy` will change from `'auto'` to `'all'` in version 0.13. This change will follow the implementation proposed in the original paper. Set to `'all'` to silence this warning and adopt the future behaviour.\n",
      "  warn(\n",
      "/Users/jayceepang/miniconda3/envs/atom2024/lib/python3.9/site-packages/imblearn/ensemble/_forest.py:589: FutureWarning: The default of `replacement` will change from `False` to `True` in version 0.13. This change will follow the implementation proposed in the original paper. Set to `True` to silence this warning and adopt the future behaviour.\n",
      "  warn(\n"
     ]
    },
    {
     "name": "stdout",
     "output_type": "stream",
     "text": [
      "TRAIN: acc: 0.999, precision: 0.999, recall: 0.999, spec: 0.999\n",
      "TEST: acc: 0.961, precision: 0.952, recall: 0.971, spec: 0.950\n",
      "func:'rf_models'  took: 16.0398 sec\n",
      "\n",
      "NEK2_inhibition_MFP_ADASYN_RF_fold2\n",
      "TRAIN: acc: 0.999, precision: 0.998, recall: 0.999, spec: 0.998\n",
      "TEST: acc: 0.959, precision: 0.946, recall: 0.974, spec: 0.944\n",
      "func:'rf_models'  took: 12.3947 sec\n",
      "\n",
      "NEK2_inhibition_MFP_ADASYN_RF_BCW_fold2\n",
      "TRAIN: acc: 0.999, precision: 0.998, recall: 0.999, spec: 0.998\n",
      "TEST: acc: 0.961, precision: 0.949, recall: 0.974, spec: 0.947\n",
      "func:'rf_models'  took: 12.5287 sec\n",
      "\n",
      "NEK2_inhibition_MFP_ADASYN_BRFC_fold2\n"
     ]
    },
    {
     "name": "stderr",
     "output_type": "stream",
     "text": [
      "/Users/jayceepang/miniconda3/envs/atom2024/lib/python3.9/site-packages/imblearn/ensemble/_forest.py:577: FutureWarning: The default of `sampling_strategy` will change from `'auto'` to `'all'` in version 0.13. This change will follow the implementation proposed in the original paper. Set to `'all'` to silence this warning and adopt the future behaviour.\n",
      "  warn(\n",
      "/Users/jayceepang/miniconda3/envs/atom2024/lib/python3.9/site-packages/imblearn/ensemble/_forest.py:589: FutureWarning: The default of `replacement` will change from `False` to `True` in version 0.13. This change will follow the implementation proposed in the original paper. Set to `True` to silence this warning and adopt the future behaviour.\n",
      "  warn(\n"
     ]
    },
    {
     "name": "stdout",
     "output_type": "stream",
     "text": [
      "TRAIN: acc: 0.999, precision: 0.998, recall: 0.999, spec: 0.998\n",
      "TEST: acc: 0.961, precision: 0.946, recall: 0.977, spec: 0.944\n",
      "func:'rf_models'  took: 15.6620 sec\n",
      "\n",
      "NEK2_inhibition_MFP_ADASYN_BRFC_BCW_fold2\n"
     ]
    },
    {
     "name": "stderr",
     "output_type": "stream",
     "text": [
      "/Users/jayceepang/miniconda3/envs/atom2024/lib/python3.9/site-packages/imblearn/ensemble/_forest.py:577: FutureWarning: The default of `sampling_strategy` will change from `'auto'` to `'all'` in version 0.13. This change will follow the implementation proposed in the original paper. Set to `'all'` to silence this warning and adopt the future behaviour.\n",
      "  warn(\n",
      "/Users/jayceepang/miniconda3/envs/atom2024/lib/python3.9/site-packages/imblearn/ensemble/_forest.py:589: FutureWarning: The default of `replacement` will change from `False` to `True` in version 0.13. This change will follow the implementation proposed in the original paper. Set to `True` to silence this warning and adopt the future behaviour.\n",
      "  warn(\n"
     ]
    },
    {
     "name": "stdout",
     "output_type": "stream",
     "text": [
      "TRAIN: acc: 0.999, precision: 0.998, recall: 0.999, spec: 0.998\n",
      "TEST: acc: 0.961, precision: 0.949, recall: 0.974, spec: 0.947\n",
      "func:'rf_models'  took: 15.7729 sec\n",
      "\n",
      "NEK2_inhibition_MFP_ADASYN_RF_fold3\n",
      "TRAIN: acc: 0.999, precision: 0.998, recall: 0.999, spec: 0.998\n",
      "TEST: acc: 0.975, precision: 0.971, recall: 0.980, spec: 0.970\n",
      "func:'rf_models'  took: 13.0542 sec\n",
      "\n",
      "NEK2_inhibition_MFP_ADASYN_RF_BCW_fold3\n",
      "TRAIN: acc: 0.999, precision: 0.998, recall: 0.999, spec: 0.998\n",
      "TEST: acc: 0.970, precision: 0.961, recall: 0.980, spec: 0.960\n",
      "func:'rf_models'  took: 13.2922 sec\n",
      "\n",
      "NEK2_inhibition_MFP_ADASYN_BRFC_fold3\n"
     ]
    },
    {
     "name": "stderr",
     "output_type": "stream",
     "text": [
      "/Users/jayceepang/miniconda3/envs/atom2024/lib/python3.9/site-packages/imblearn/ensemble/_forest.py:577: FutureWarning: The default of `sampling_strategy` will change from `'auto'` to `'all'` in version 0.13. This change will follow the implementation proposed in the original paper. Set to `'all'` to silence this warning and adopt the future behaviour.\n",
      "  warn(\n",
      "/Users/jayceepang/miniconda3/envs/atom2024/lib/python3.9/site-packages/imblearn/ensemble/_forest.py:589: FutureWarning: The default of `replacement` will change from `False` to `True` in version 0.13. This change will follow the implementation proposed in the original paper. Set to `True` to silence this warning and adopt the future behaviour.\n",
      "  warn(\n"
     ]
    },
    {
     "name": "stdout",
     "output_type": "stream",
     "text": [
      "TRAIN: acc: 0.999, precision: 0.998, recall: 0.999, spec: 0.998\n",
      "TEST: acc: 0.972, precision: 0.965, recall: 0.980, spec: 0.964\n",
      "func:'rf_models'  took: 15.9765 sec\n",
      "\n",
      "NEK2_inhibition_MFP_ADASYN_BRFC_BCW_fold3\n"
     ]
    },
    {
     "name": "stderr",
     "output_type": "stream",
     "text": [
      "/Users/jayceepang/miniconda3/envs/atom2024/lib/python3.9/site-packages/imblearn/ensemble/_forest.py:577: FutureWarning: The default of `sampling_strategy` will change from `'auto'` to `'all'` in version 0.13. This change will follow the implementation proposed in the original paper. Set to `'all'` to silence this warning and adopt the future behaviour.\n",
      "  warn(\n",
      "/Users/jayceepang/miniconda3/envs/atom2024/lib/python3.9/site-packages/imblearn/ensemble/_forest.py:589: FutureWarning: The default of `replacement` will change from `False` to `True` in version 0.13. This change will follow the implementation proposed in the original paper. Set to `True` to silence this warning and adopt the future behaviour.\n",
      "  warn(\n"
     ]
    },
    {
     "name": "stdout",
     "output_type": "stream",
     "text": [
      "TRAIN: acc: 0.999, precision: 0.998, recall: 0.999, spec: 0.998\n",
      "TEST: acc: 0.970, precision: 0.961, recall: 0.980, spec: 0.960\n",
      "func:'rf_models'  took: 16.2768 sec\n",
      "\n",
      "NEK2_inhibition_MFP_ADASYN_RF_fold4\n",
      "TRAIN: acc: 1.000, precision: 0.999, recall: 1.000, spec: 0.999\n",
      "TEST: acc: 0.975, precision: 0.971, recall: 0.980, spec: 0.970\n",
      "func:'rf_models'  took: 13.1132 sec\n",
      "\n",
      "NEK2_inhibition_MFP_ADASYN_RF_BCW_fold4\n",
      "TRAIN: acc: 1.000, precision: 0.999, recall: 1.000, spec: 0.999\n",
      "TEST: acc: 0.974, precision: 0.968, recall: 0.980, spec: 0.967\n",
      "func:'rf_models'  took: 13.1810 sec\n",
      "\n",
      "NEK2_inhibition_MFP_ADASYN_BRFC_fold4\n"
     ]
    },
    {
     "name": "stderr",
     "output_type": "stream",
     "text": [
      "/Users/jayceepang/miniconda3/envs/atom2024/lib/python3.9/site-packages/imblearn/ensemble/_forest.py:577: FutureWarning: The default of `sampling_strategy` will change from `'auto'` to `'all'` in version 0.13. This change will follow the implementation proposed in the original paper. Set to `'all'` to silence this warning and adopt the future behaviour.\n",
      "  warn(\n",
      "/Users/jayceepang/miniconda3/envs/atom2024/lib/python3.9/site-packages/imblearn/ensemble/_forest.py:589: FutureWarning: The default of `replacement` will change from `False` to `True` in version 0.13. This change will follow the implementation proposed in the original paper. Set to `True` to silence this warning and adopt the future behaviour.\n",
      "  warn(\n"
     ]
    },
    {
     "name": "stdout",
     "output_type": "stream",
     "text": [
      "TRAIN: acc: 1.000, precision: 0.999, recall: 1.000, spec: 0.999\n",
      "TEST: acc: 0.975, precision: 0.971, recall: 0.980, spec: 0.970\n",
      "func:'rf_models'  took: 15.9782 sec\n",
      "\n",
      "NEK2_inhibition_MFP_ADASYN_BRFC_BCW_fold4\n"
     ]
    },
    {
     "name": "stderr",
     "output_type": "stream",
     "text": [
      "/Users/jayceepang/miniconda3/envs/atom2024/lib/python3.9/site-packages/imblearn/ensemble/_forest.py:577: FutureWarning: The default of `sampling_strategy` will change from `'auto'` to `'all'` in version 0.13. This change will follow the implementation proposed in the original paper. Set to `'all'` to silence this warning and adopt the future behaviour.\n",
      "  warn(\n",
      "/Users/jayceepang/miniconda3/envs/atom2024/lib/python3.9/site-packages/imblearn/ensemble/_forest.py:589: FutureWarning: The default of `replacement` will change from `False` to `True` in version 0.13. This change will follow the implementation proposed in the original paper. Set to `True` to silence this warning and adopt the future behaviour.\n",
      "  warn(\n"
     ]
    },
    {
     "name": "stdout",
     "output_type": "stream",
     "text": [
      "TRAIN: acc: 1.000, precision: 0.999, recall: 1.000, spec: 0.999\n",
      "TEST: acc: 0.975, precision: 0.971, recall: 0.980, spec: 0.970\n",
      "func:'rf_models'  took: 16.0370 sec\n",
      "\n",
      "NEK2_inhibition_MFP_ADASYN_RF_fold5\n",
      "TRAIN: acc: 0.999, precision: 0.998, recall: 0.999, spec: 0.998\n",
      "TEST: acc: 0.970, precision: 0.977, recall: 0.964, spec: 0.977\n",
      "func:'rf_models'  took: 12.3117 sec\n",
      "\n",
      "NEK2_inhibition_MFP_ADASYN_RF_BCW_fold5\n",
      "TRAIN: acc: 0.999, precision: 0.998, recall: 0.999, spec: 0.998\n",
      "TEST: acc: 0.975, precision: 0.980, recall: 0.971, spec: 0.980\n",
      "func:'rf_models'  took: 12.5108 sec\n",
      "\n",
      "NEK2_inhibition_MFP_ADASYN_BRFC_fold5\n"
     ]
    },
    {
     "name": "stderr",
     "output_type": "stream",
     "text": [
      "/Users/jayceepang/miniconda3/envs/atom2024/lib/python3.9/site-packages/imblearn/ensemble/_forest.py:577: FutureWarning: The default of `sampling_strategy` will change from `'auto'` to `'all'` in version 0.13. This change will follow the implementation proposed in the original paper. Set to `'all'` to silence this warning and adopt the future behaviour.\n",
      "  warn(\n",
      "/Users/jayceepang/miniconda3/envs/atom2024/lib/python3.9/site-packages/imblearn/ensemble/_forest.py:589: FutureWarning: The default of `replacement` will change from `False` to `True` in version 0.13. This change will follow the implementation proposed in the original paper. Set to `True` to silence this warning and adopt the future behaviour.\n",
      "  warn(\n"
     ]
    },
    {
     "name": "stdout",
     "output_type": "stream",
     "text": [
      "TRAIN: acc: 0.999, precision: 0.998, recall: 0.999, spec: 0.998\n",
      "TEST: acc: 0.970, precision: 0.977, recall: 0.964, spec: 0.977\n",
      "func:'rf_models'  took: 15.3953 sec\n",
      "\n",
      "NEK2_inhibition_MFP_ADASYN_BRFC_BCW_fold5\n"
     ]
    },
    {
     "name": "stderr",
     "output_type": "stream",
     "text": [
      "/Users/jayceepang/miniconda3/envs/atom2024/lib/python3.9/site-packages/imblearn/ensemble/_forest.py:577: FutureWarning: The default of `sampling_strategy` will change from `'auto'` to `'all'` in version 0.13. This change will follow the implementation proposed in the original paper. Set to `'all'` to silence this warning and adopt the future behaviour.\n",
      "  warn(\n",
      "/Users/jayceepang/miniconda3/envs/atom2024/lib/python3.9/site-packages/imblearn/ensemble/_forest.py:589: FutureWarning: The default of `replacement` will change from `False` to `True` in version 0.13. This change will follow the implementation proposed in the original paper. Set to `True` to silence this warning and adopt the future behaviour.\n",
      "  warn(\n"
     ]
    },
    {
     "name": "stdout",
     "output_type": "stream",
     "text": [
      "TRAIN: acc: 0.999, precision: 0.998, recall: 0.999, spec: 0.998\n",
      "TEST: acc: 0.969, precision: 0.974, recall: 0.964, spec: 0.974\n",
      "func:'rf_models'  took: 15.4838 sec\n",
      "\n",
      "NEK3_binding_MOE_none_scaled_RF_fold1\n",
      "TRAIN: acc: 1.000, precision: 1.000, recall: 1.000, spec: 1.000\n",
      "TEST: acc: 0.889, precision: 0.071, recall: 0.077, spec: 0.939\n",
      "func:'rf_models'  took: 14.0151 sec\n",
      "\n",
      "NEK3_binding_MOE_none_scaled_RF_BCW_fold1\n",
      "TRAIN: acc: 1.000, precision: 1.000, recall: 1.000, spec: 1.000\n",
      "TEST: acc: 0.871, precision: 0.100, recall: 0.154, spec: 0.915\n",
      "func:'rf_models'  took: 6.9914 sec\n",
      "\n",
      "NEK3_binding_MOE_none_scaled_BRFC_fold1\n"
     ]
    },
    {
     "name": "stderr",
     "output_type": "stream",
     "text": [
      "/Users/jayceepang/miniconda3/envs/atom2024/lib/python3.9/site-packages/imblearn/ensemble/_forest.py:577: FutureWarning: The default of `sampling_strategy` will change from `'auto'` to `'all'` in version 0.13. This change will follow the implementation proposed in the original paper. Set to `'all'` to silence this warning and adopt the future behaviour.\n",
      "  warn(\n",
      "/Users/jayceepang/miniconda3/envs/atom2024/lib/python3.9/site-packages/imblearn/ensemble/_forest.py:589: FutureWarning: The default of `replacement` will change from `False` to `True` in version 0.13. This change will follow the implementation proposed in the original paper. Set to `True` to silence this warning and adopt the future behaviour.\n",
      "  warn(\n"
     ]
    },
    {
     "name": "stdout",
     "output_type": "stream",
     "text": [
      "TRAIN: acc: 0.727, precision: 0.172, recall: 1.000, spec: 0.710\n",
      "TEST: acc: 0.631, precision: 0.093, recall: 0.615, spec: 0.632\n",
      "func:'rf_models'  took: 0.5642 sec\n",
      "\n",
      "NEK3_binding_MOE_none_scaled_BRFC_BCW_fold1\n"
     ]
    },
    {
     "name": "stderr",
     "output_type": "stream",
     "text": [
      "/Users/jayceepang/miniconda3/envs/atom2024/lib/python3.9/site-packages/imblearn/ensemble/_forest.py:577: FutureWarning: The default of `sampling_strategy` will change from `'auto'` to `'all'` in version 0.13. This change will follow the implementation proposed in the original paper. Set to `'all'` to silence this warning and adopt the future behaviour.\n",
      "  warn(\n",
      "/Users/jayceepang/miniconda3/envs/atom2024/lib/python3.9/site-packages/imblearn/ensemble/_forest.py:589: FutureWarning: The default of `replacement` will change from `False` to `True` in version 0.13. This change will follow the implementation proposed in the original paper. Set to `True` to silence this warning and adopt the future behaviour.\n",
      "  warn(\n"
     ]
    },
    {
     "name": "stdout",
     "output_type": "stream",
     "text": [
      "TRAIN: acc: 0.669, precision: 0.147, recall: 1.000, spec: 0.649\n",
      "TEST: acc: 0.653, precision: 0.089, recall: 0.538, spec: 0.660\n",
      "func:'rf_models'  took: 1.5452 sec\n",
      "\n",
      "NEK3_binding_MOE_none_scaled_RF_fold2\n",
      "TRAIN: acc: 1.000, precision: 1.000, recall: 1.000, spec: 1.000\n",
      "TEST: acc: 0.893, precision: 0.077, recall: 0.077, spec: 0.943\n",
      "func:'rf_models'  took: 19.8321 sec\n",
      "\n",
      "NEK3_binding_MOE_none_scaled_RF_BCW_fold2\n",
      "TRAIN: acc: 1.000, precision: 1.000, recall: 1.000, spec: 1.000\n",
      "TEST: acc: 0.893, precision: 0.133, recall: 0.154, spec: 0.939\n",
      "func:'rf_models'  took: 8.3281 sec\n",
      "\n",
      "NEK3_binding_MOE_none_scaled_BRFC_fold2\n"
     ]
    },
    {
     "name": "stderr",
     "output_type": "stream",
     "text": [
      "/Users/jayceepang/miniconda3/envs/atom2024/lib/python3.9/site-packages/imblearn/ensemble/_forest.py:577: FutureWarning: The default of `sampling_strategy` will change from `'auto'` to `'all'` in version 0.13. This change will follow the implementation proposed in the original paper. Set to `'all'` to silence this warning and adopt the future behaviour.\n",
      "  warn(\n",
      "/Users/jayceepang/miniconda3/envs/atom2024/lib/python3.9/site-packages/imblearn/ensemble/_forest.py:589: FutureWarning: The default of `replacement` will change from `False` to `True` in version 0.13. This change will follow the implementation proposed in the original paper. Set to `True` to silence this warning and adopt the future behaviour.\n",
      "  warn(\n"
     ]
    },
    {
     "name": "stdout",
     "output_type": "stream",
     "text": [
      "TRAIN: acc: 0.728, precision: 0.173, recall: 1.000, spec: 0.712\n",
      "TEST: acc: 0.631, precision: 0.083, recall: 0.538, spec: 0.637\n",
      "func:'rf_models'  took: 0.5559 sec\n",
      "\n",
      "NEK3_binding_MOE_none_scaled_BRFC_BCW_fold2\n"
     ]
    },
    {
     "name": "stderr",
     "output_type": "stream",
     "text": [
      "/Users/jayceepang/miniconda3/envs/atom2024/lib/python3.9/site-packages/imblearn/ensemble/_forest.py:577: FutureWarning: The default of `sampling_strategy` will change from `'auto'` to `'all'` in version 0.13. This change will follow the implementation proposed in the original paper. Set to `'all'` to silence this warning and adopt the future behaviour.\n",
      "  warn(\n",
      "/Users/jayceepang/miniconda3/envs/atom2024/lib/python3.9/site-packages/imblearn/ensemble/_forest.py:589: FutureWarning: The default of `replacement` will change from `False` to `True` in version 0.13. This change will follow the implementation proposed in the original paper. Set to `True` to silence this warning and adopt the future behaviour.\n",
      "  warn(\n"
     ]
    },
    {
     "name": "stdout",
     "output_type": "stream",
     "text": [
      "TRAIN: acc: 0.682, precision: 0.152, recall: 1.000, spec: 0.663\n",
      "TEST: acc: 0.676, precision: 0.105, recall: 0.615, spec: 0.679\n",
      "func:'rf_models'  took: 1.4773 sec\n",
      "\n",
      "NEK3_binding_MOE_none_scaled_RF_fold3\n",
      "TRAIN: acc: 1.000, precision: 1.000, recall: 1.000, spec: 1.000\n",
      "TEST: acc: 0.897, precision: 0.133, recall: 0.167, spec: 0.939\n",
      "func:'rf_models'  took: 10.5073 sec\n",
      "\n",
      "NEK3_binding_MOE_none_scaled_RF_BCW_fold3\n",
      "TRAIN: acc: 1.000, precision: 1.000, recall: 1.000, spec: 1.000\n",
      "TEST: acc: 0.897, precision: 0.133, recall: 0.167, spec: 0.939\n",
      "func:'rf_models'  took: 6.2800 sec\n",
      "\n",
      "NEK3_binding_MOE_none_scaled_BRFC_fold3\n"
     ]
    },
    {
     "name": "stderr",
     "output_type": "stream",
     "text": [
      "/Users/jayceepang/miniconda3/envs/atom2024/lib/python3.9/site-packages/imblearn/ensemble/_forest.py:577: FutureWarning: The default of `sampling_strategy` will change from `'auto'` to `'all'` in version 0.13. This change will follow the implementation proposed in the original paper. Set to `'all'` to silence this warning and adopt the future behaviour.\n",
      "  warn(\n",
      "/Users/jayceepang/miniconda3/envs/atom2024/lib/python3.9/site-packages/imblearn/ensemble/_forest.py:589: FutureWarning: The default of `replacement` will change from `False` to `True` in version 0.13. This change will follow the implementation proposed in the original paper. Set to `True` to silence this warning and adopt the future behaviour.\n",
      "  warn(\n"
     ]
    },
    {
     "name": "stdout",
     "output_type": "stream",
     "text": [
      "TRAIN: acc: 0.754, precision: 0.190, recall: 1.000, spec: 0.739\n",
      "TEST: acc: 0.589, precision: 0.065, recall: 0.500, spec: 0.594\n",
      "func:'rf_models'  took: 0.5615 sec\n",
      "\n",
      "NEK3_binding_MOE_none_scaled_BRFC_BCW_fold3\n"
     ]
    },
    {
     "name": "stderr",
     "output_type": "stream",
     "text": [
      "/Users/jayceepang/miniconda3/envs/atom2024/lib/python3.9/site-packages/imblearn/ensemble/_forest.py:577: FutureWarning: The default of `sampling_strategy` will change from `'auto'` to `'all'` in version 0.13. This change will follow the implementation proposed in the original paper. Set to `'all'` to silence this warning and adopt the future behaviour.\n",
      "  warn(\n",
      "/Users/jayceepang/miniconda3/envs/atom2024/lib/python3.9/site-packages/imblearn/ensemble/_forest.py:589: FutureWarning: The default of `replacement` will change from `False` to `True` in version 0.13. This change will follow the implementation proposed in the original paper. Set to `True` to silence this warning and adopt the future behaviour.\n",
      "  warn(\n"
     ]
    },
    {
     "name": "stdout",
     "output_type": "stream",
     "text": [
      "TRAIN: acc: 0.697, precision: 0.160, recall: 1.000, spec: 0.678\n",
      "TEST: acc: 0.656, precision: 0.078, recall: 0.500, spec: 0.665\n",
      "func:'rf_models'  took: 1.5038 sec\n",
      "\n",
      "NEK3_binding_MOE_none_scaled_RF_fold4\n",
      "TRAIN: acc: 1.000, precision: 1.000, recall: 1.000, spec: 1.000\n",
      "TEST: acc: 0.897, precision: 0.083, recall: 0.077, spec: 0.948\n",
      "func:'rf_models'  took: 20.2278 sec\n",
      "\n",
      "NEK3_binding_MOE_none_scaled_RF_BCW_fold4\n",
      "TRAIN: acc: 1.000, precision: 1.000, recall: 1.000, spec: 1.000\n",
      "TEST: acc: 0.897, precision: 0.000, recall: 0.000, spec: 0.953\n",
      "func:'rf_models'  took: 6.7539 sec\n",
      "\n",
      "NEK3_binding_MOE_none_scaled_BRFC_fold4\n"
     ]
    },
    {
     "name": "stderr",
     "output_type": "stream",
     "text": [
      "/Users/jayceepang/miniconda3/envs/atom2024/lib/python3.9/site-packages/imblearn/ensemble/_forest.py:577: FutureWarning: The default of `sampling_strategy` will change from `'auto'` to `'all'` in version 0.13. This change will follow the implementation proposed in the original paper. Set to `'all'` to silence this warning and adopt the future behaviour.\n",
      "  warn(\n",
      "/Users/jayceepang/miniconda3/envs/atom2024/lib/python3.9/site-packages/imblearn/ensemble/_forest.py:589: FutureWarning: The default of `replacement` will change from `False` to `True` in version 0.13. This change will follow the implementation proposed in the original paper. Set to `True` to silence this warning and adopt the future behaviour.\n",
      "  warn(\n"
     ]
    },
    {
     "name": "stdout",
     "output_type": "stream",
     "text": [
      "TRAIN: acc: 0.728, precision: 0.173, recall: 1.000, spec: 0.712\n",
      "TEST: acc: 0.625, precision: 0.082, recall: 0.538, spec: 0.630\n",
      "func:'rf_models'  took: 0.5688 sec\n",
      "\n",
      "NEK3_binding_MOE_none_scaled_BRFC_BCW_fold4\n"
     ]
    },
    {
     "name": "stderr",
     "output_type": "stream",
     "text": [
      "/Users/jayceepang/miniconda3/envs/atom2024/lib/python3.9/site-packages/imblearn/ensemble/_forest.py:577: FutureWarning: The default of `sampling_strategy` will change from `'auto'` to `'all'` in version 0.13. This change will follow the implementation proposed in the original paper. Set to `'all'` to silence this warning and adopt the future behaviour.\n",
      "  warn(\n",
      "/Users/jayceepang/miniconda3/envs/atom2024/lib/python3.9/site-packages/imblearn/ensemble/_forest.py:589: FutureWarning: The default of `replacement` will change from `False` to `True` in version 0.13. This change will follow the implementation proposed in the original paper. Set to `True` to silence this warning and adopt the future behaviour.\n",
      "  warn(\n"
     ]
    },
    {
     "name": "stdout",
     "output_type": "stream",
     "text": [
      "TRAIN: acc: 0.719, precision: 0.168, recall: 1.000, spec: 0.702\n",
      "TEST: acc: 0.661, precision: 0.068, recall: 0.385, spec: 0.678\n",
      "func:'rf_models'  took: 1.4269 sec\n",
      "\n",
      "NEK3_binding_MOE_none_scaled_RF_fold5\n",
      "TRAIN: acc: 1.000, precision: 1.000, recall: 1.000, spec: 1.000\n",
      "TEST: acc: 0.902, precision: 0.091, recall: 0.077, spec: 0.953\n",
      "func:'rf_models'  took: 24.3997 sec\n",
      "\n",
      "NEK3_binding_MOE_none_scaled_RF_BCW_fold5\n",
      "TRAIN: acc: 1.000, precision: 1.000, recall: 1.000, spec: 1.000\n",
      "TEST: acc: 0.893, precision: 0.133, recall: 0.154, spec: 0.938\n",
      "func:'rf_models'  took: 6.0434 sec\n",
      "\n",
      "NEK3_binding_MOE_none_scaled_BRFC_fold5\n"
     ]
    },
    {
     "name": "stderr",
     "output_type": "stream",
     "text": [
      "/Users/jayceepang/miniconda3/envs/atom2024/lib/python3.9/site-packages/imblearn/ensemble/_forest.py:577: FutureWarning: The default of `sampling_strategy` will change from `'auto'` to `'all'` in version 0.13. This change will follow the implementation proposed in the original paper. Set to `'all'` to silence this warning and adopt the future behaviour.\n",
      "  warn(\n",
      "/Users/jayceepang/miniconda3/envs/atom2024/lib/python3.9/site-packages/imblearn/ensemble/_forest.py:589: FutureWarning: The default of `replacement` will change from `False` to `True` in version 0.13. This change will follow the implementation proposed in the original paper. Set to `True` to silence this warning and adopt the future behaviour.\n",
      "  warn(\n"
     ]
    },
    {
     "name": "stdout",
     "output_type": "stream",
     "text": [
      "TRAIN: acc: 0.746, precision: 0.183, recall: 1.000, spec: 0.731\n",
      "TEST: acc: 0.652, precision: 0.099, recall: 0.615, spec: 0.654\n",
      "func:'rf_models'  took: 0.5847 sec\n",
      "\n",
      "NEK3_binding_MOE_none_scaled_BRFC_BCW_fold5\n"
     ]
    },
    {
     "name": "stderr",
     "output_type": "stream",
     "text": [
      "/Users/jayceepang/miniconda3/envs/atom2024/lib/python3.9/site-packages/imblearn/ensemble/_forest.py:577: FutureWarning: The default of `sampling_strategy` will change from `'auto'` to `'all'` in version 0.13. This change will follow the implementation proposed in the original paper. Set to `'all'` to silence this warning and adopt the future behaviour.\n",
      "  warn(\n",
      "/Users/jayceepang/miniconda3/envs/atom2024/lib/python3.9/site-packages/imblearn/ensemble/_forest.py:589: FutureWarning: The default of `replacement` will change from `False` to `True` in version 0.13. This change will follow the implementation proposed in the original paper. Set to `True` to silence this warning and adopt the future behaviour.\n",
      "  warn(\n"
     ]
    },
    {
     "name": "stdout",
     "output_type": "stream",
     "text": [
      "TRAIN: acc: 0.674, precision: 0.148, recall: 1.000, spec: 0.654\n",
      "TEST: acc: 0.674, precision: 0.115, recall: 0.692, spec: 0.673\n",
      "func:'rf_models'  took: 1.4295 sec\n",
      "\n",
      "NEK3_binding_MOE_UNDER_RF_fold1\n",
      "TRAIN: acc: 1.000, precision: 1.000, recall: 1.000, spec: 1.000\n",
      "TEST: acc: 0.654, precision: 0.700, recall: 0.538, spec: 0.769\n",
      "func:'rf_models'  took: 0.5494 sec\n",
      "\n",
      "NEK3_binding_MOE_UNDER_RF_BCW_fold1\n",
      "TRAIN: acc: 1.000, precision: 1.000, recall: 1.000, spec: 1.000\n",
      "TEST: acc: 0.654, precision: 0.700, recall: 0.538, spec: 0.769\n",
      "func:'rf_models'  took: 0.5619 sec\n",
      "\n",
      "NEK3_binding_MOE_UNDER_BRFC_fold1\n"
     ]
    },
    {
     "name": "stderr",
     "output_type": "stream",
     "text": [
      "/Users/jayceepang/miniconda3/envs/atom2024/lib/python3.9/site-packages/imblearn/ensemble/_forest.py:577: FutureWarning: The default of `sampling_strategy` will change from `'auto'` to `'all'` in version 0.13. This change will follow the implementation proposed in the original paper. Set to `'all'` to silence this warning and adopt the future behaviour.\n",
      "  warn(\n",
      "/Users/jayceepang/miniconda3/envs/atom2024/lib/python3.9/site-packages/imblearn/ensemble/_forest.py:589: FutureWarning: The default of `replacement` will change from `False` to `True` in version 0.13. This change will follow the implementation proposed in the original paper. Set to `True` to silence this warning and adopt the future behaviour.\n",
      "  warn(\n"
     ]
    },
    {
     "name": "stdout",
     "output_type": "stream",
     "text": [
      "TRAIN: acc: 1.000, precision: 1.000, recall: 1.000, spec: 1.000\n",
      "TEST: acc: 0.615, precision: 0.667, recall: 0.462, spec: 0.769\n",
      "func:'rf_models'  took: 0.5825 sec\n",
      "\n",
      "NEK3_binding_MOE_UNDER_BRFC_BCW_fold1\n"
     ]
    },
    {
     "name": "stderr",
     "output_type": "stream",
     "text": [
      "/Users/jayceepang/miniconda3/envs/atom2024/lib/python3.9/site-packages/imblearn/ensemble/_forest.py:577: FutureWarning: The default of `sampling_strategy` will change from `'auto'` to `'all'` in version 0.13. This change will follow the implementation proposed in the original paper. Set to `'all'` to silence this warning and adopt the future behaviour.\n",
      "  warn(\n",
      "/Users/jayceepang/miniconda3/envs/atom2024/lib/python3.9/site-packages/imblearn/ensemble/_forest.py:589: FutureWarning: The default of `replacement` will change from `False` to `True` in version 0.13. This change will follow the implementation proposed in the original paper. Set to `True` to silence this warning and adopt the future behaviour.\n",
      "  warn(\n"
     ]
    },
    {
     "name": "stdout",
     "output_type": "stream",
     "text": [
      "TRAIN: acc: 1.000, precision: 1.000, recall: 1.000, spec: 1.000\n",
      "TEST: acc: 0.654, precision: 0.700, recall: 0.538, spec: 0.769\n",
      "func:'rf_models'  took: 0.6213 sec\n",
      "\n",
      "NEK3_binding_MOE_UNDER_RF_fold2\n",
      "TRAIN: acc: 1.000, precision: 1.000, recall: 1.000, spec: 1.000\n",
      "TEST: acc: 0.615, precision: 0.636, recall: 0.538, spec: 0.692\n",
      "func:'rf_models'  took: 0.5815 sec\n",
      "\n",
      "NEK3_binding_MOE_UNDER_RF_BCW_fold2\n",
      "TRAIN: acc: 1.000, precision: 1.000, recall: 1.000, spec: 1.000\n",
      "TEST: acc: 0.615, precision: 0.636, recall: 0.538, spec: 0.692\n",
      "func:'rf_models'  took: 0.5973 sec\n",
      "\n",
      "NEK3_binding_MOE_UNDER_BRFC_fold2\n"
     ]
    },
    {
     "name": "stderr",
     "output_type": "stream",
     "text": [
      "/Users/jayceepang/miniconda3/envs/atom2024/lib/python3.9/site-packages/imblearn/ensemble/_forest.py:577: FutureWarning: The default of `sampling_strategy` will change from `'auto'` to `'all'` in version 0.13. This change will follow the implementation proposed in the original paper. Set to `'all'` to silence this warning and adopt the future behaviour.\n",
      "  warn(\n",
      "/Users/jayceepang/miniconda3/envs/atom2024/lib/python3.9/site-packages/imblearn/ensemble/_forest.py:589: FutureWarning: The default of `replacement` will change from `False` to `True` in version 0.13. This change will follow the implementation proposed in the original paper. Set to `True` to silence this warning and adopt the future behaviour.\n",
      "  warn(\n"
     ]
    },
    {
     "name": "stdout",
     "output_type": "stream",
     "text": [
      "TRAIN: acc: 1.000, precision: 1.000, recall: 1.000, spec: 1.000\n",
      "TEST: acc: 0.654, precision: 0.667, recall: 0.615, spec: 0.692\n",
      "func:'rf_models'  took: 0.6784 sec\n",
      "\n",
      "NEK3_binding_MOE_UNDER_BRFC_BCW_fold2\n"
     ]
    },
    {
     "name": "stderr",
     "output_type": "stream",
     "text": [
      "/Users/jayceepang/miniconda3/envs/atom2024/lib/python3.9/site-packages/imblearn/ensemble/_forest.py:577: FutureWarning: The default of `sampling_strategy` will change from `'auto'` to `'all'` in version 0.13. This change will follow the implementation proposed in the original paper. Set to `'all'` to silence this warning and adopt the future behaviour.\n",
      "  warn(\n",
      "/Users/jayceepang/miniconda3/envs/atom2024/lib/python3.9/site-packages/imblearn/ensemble/_forest.py:589: FutureWarning: The default of `replacement` will change from `False` to `True` in version 0.13. This change will follow the implementation proposed in the original paper. Set to `True` to silence this warning and adopt the future behaviour.\n",
      "  warn(\n"
     ]
    },
    {
     "name": "stdout",
     "output_type": "stream",
     "text": [
      "TRAIN: acc: 1.000, precision: 1.000, recall: 1.000, spec: 1.000\n",
      "TEST: acc: 0.577, precision: 0.571, recall: 0.615, spec: 0.538\n",
      "func:'rf_models'  took: 0.6303 sec\n",
      "\n",
      "NEK3_binding_MOE_UNDER_RF_fold3\n",
      "TRAIN: acc: 1.000, precision: 1.000, recall: 1.000, spec: 1.000\n",
      "TEST: acc: 0.692, precision: 0.727, recall: 0.615, spec: 0.769\n",
      "func:'rf_models'  took: 0.5189 sec\n",
      "\n",
      "NEK3_binding_MOE_UNDER_RF_BCW_fold3\n",
      "TRAIN: acc: 1.000, precision: 1.000, recall: 1.000, spec: 1.000\n",
      "TEST: acc: 0.692, precision: 0.727, recall: 0.615, spec: 0.769\n",
      "func:'rf_models'  took: 0.5344 sec\n",
      "\n",
      "NEK3_binding_MOE_UNDER_BRFC_fold3\n"
     ]
    },
    {
     "name": "stderr",
     "output_type": "stream",
     "text": [
      "/Users/jayceepang/miniconda3/envs/atom2024/lib/python3.9/site-packages/imblearn/ensemble/_forest.py:577: FutureWarning: The default of `sampling_strategy` will change from `'auto'` to `'all'` in version 0.13. This change will follow the implementation proposed in the original paper. Set to `'all'` to silence this warning and adopt the future behaviour.\n",
      "  warn(\n",
      "/Users/jayceepang/miniconda3/envs/atom2024/lib/python3.9/site-packages/imblearn/ensemble/_forest.py:589: FutureWarning: The default of `replacement` will change from `False` to `True` in version 0.13. This change will follow the implementation proposed in the original paper. Set to `True` to silence this warning and adopt the future behaviour.\n",
      "  warn(\n"
     ]
    },
    {
     "name": "stdout",
     "output_type": "stream",
     "text": [
      "TRAIN: acc: 1.000, precision: 1.000, recall: 1.000, spec: 1.000\n",
      "TEST: acc: 0.692, precision: 0.727, recall: 0.615, spec: 0.769\n",
      "func:'rf_models'  took: 0.5565 sec\n",
      "\n",
      "NEK3_binding_MOE_UNDER_BRFC_BCW_fold3\n"
     ]
    },
    {
     "name": "stderr",
     "output_type": "stream",
     "text": [
      "/Users/jayceepang/miniconda3/envs/atom2024/lib/python3.9/site-packages/imblearn/ensemble/_forest.py:577: FutureWarning: The default of `sampling_strategy` will change from `'auto'` to `'all'` in version 0.13. This change will follow the implementation proposed in the original paper. Set to `'all'` to silence this warning and adopt the future behaviour.\n",
      "  warn(\n",
      "/Users/jayceepang/miniconda3/envs/atom2024/lib/python3.9/site-packages/imblearn/ensemble/_forest.py:589: FutureWarning: The default of `replacement` will change from `False` to `True` in version 0.13. This change will follow the implementation proposed in the original paper. Set to `True` to silence this warning and adopt the future behaviour.\n",
      "  warn(\n"
     ]
    },
    {
     "name": "stdout",
     "output_type": "stream",
     "text": [
      "TRAIN: acc: 1.000, precision: 1.000, recall: 1.000, spec: 1.000\n",
      "TEST: acc: 0.692, precision: 0.727, recall: 0.615, spec: 0.769\n",
      "func:'rf_models'  took: 0.5787 sec\n",
      "\n",
      "NEK3_binding_MOE_UNDER_RF_fold4\n",
      "TRAIN: acc: 1.000, precision: 1.000, recall: 1.000, spec: 1.000\n",
      "TEST: acc: 0.440, precision: 0.429, recall: 0.500, spec: 0.385\n",
      "func:'rf_models'  took: 0.5062 sec\n",
      "\n",
      "NEK3_binding_MOE_UNDER_RF_BCW_fold4\n",
      "TRAIN: acc: 1.000, precision: 1.000, recall: 1.000, spec: 1.000\n",
      "TEST: acc: 0.440, precision: 0.429, recall: 0.500, spec: 0.385\n",
      "func:'rf_models'  took: 0.5388 sec\n",
      "\n",
      "NEK3_binding_MOE_UNDER_BRFC_fold4\n"
     ]
    },
    {
     "name": "stderr",
     "output_type": "stream",
     "text": [
      "/Users/jayceepang/miniconda3/envs/atom2024/lib/python3.9/site-packages/imblearn/ensemble/_forest.py:577: FutureWarning: The default of `sampling_strategy` will change from `'auto'` to `'all'` in version 0.13. This change will follow the implementation proposed in the original paper. Set to `'all'` to silence this warning and adopt the future behaviour.\n",
      "  warn(\n",
      "/Users/jayceepang/miniconda3/envs/atom2024/lib/python3.9/site-packages/imblearn/ensemble/_forest.py:589: FutureWarning: The default of `replacement` will change from `False` to `True` in version 0.13. This change will follow the implementation proposed in the original paper. Set to `True` to silence this warning and adopt the future behaviour.\n",
      "  warn(\n"
     ]
    },
    {
     "name": "stdout",
     "output_type": "stream",
     "text": [
      "TRAIN: acc: 1.000, precision: 1.000, recall: 1.000, spec: 1.000\n",
      "TEST: acc: 0.440, precision: 0.429, recall: 0.500, spec: 0.385\n",
      "func:'rf_models'  took: 0.5252 sec\n",
      "\n",
      "NEK3_binding_MOE_UNDER_BRFC_BCW_fold4\n"
     ]
    },
    {
     "name": "stderr",
     "output_type": "stream",
     "text": [
      "/Users/jayceepang/miniconda3/envs/atom2024/lib/python3.9/site-packages/imblearn/ensemble/_forest.py:577: FutureWarning: The default of `sampling_strategy` will change from `'auto'` to `'all'` in version 0.13. This change will follow the implementation proposed in the original paper. Set to `'all'` to silence this warning and adopt the future behaviour.\n",
      "  warn(\n",
      "/Users/jayceepang/miniconda3/envs/atom2024/lib/python3.9/site-packages/imblearn/ensemble/_forest.py:589: FutureWarning: The default of `replacement` will change from `False` to `True` in version 0.13. This change will follow the implementation proposed in the original paper. Set to `True` to silence this warning and adopt the future behaviour.\n",
      "  warn(\n"
     ]
    },
    {
     "name": "stdout",
     "output_type": "stream",
     "text": [
      "TRAIN: acc: 1.000, precision: 1.000, recall: 1.000, spec: 1.000\n",
      "TEST: acc: 0.440, precision: 0.429, recall: 0.500, spec: 0.385\n",
      "func:'rf_models'  took: 0.5503 sec\n",
      "\n",
      "NEK3_binding_MOE_UNDER_RF_fold5\n",
      "TRAIN: acc: 1.000, precision: 1.000, recall: 1.000, spec: 1.000\n",
      "TEST: acc: 0.720, precision: 0.688, recall: 0.846, spec: 0.583\n",
      "func:'rf_models'  took: 0.5144 sec\n",
      "\n",
      "NEK3_binding_MOE_UNDER_RF_BCW_fold5\n",
      "TRAIN: acc: 1.000, precision: 1.000, recall: 1.000, spec: 1.000\n",
      "TEST: acc: 0.640, precision: 0.625, recall: 0.769, spec: 0.500\n",
      "func:'rf_models'  took: 0.5346 sec\n",
      "\n",
      "NEK3_binding_MOE_UNDER_BRFC_fold5\n"
     ]
    },
    {
     "name": "stderr",
     "output_type": "stream",
     "text": [
      "/Users/jayceepang/miniconda3/envs/atom2024/lib/python3.9/site-packages/imblearn/ensemble/_forest.py:577: FutureWarning: The default of `sampling_strategy` will change from `'auto'` to `'all'` in version 0.13. This change will follow the implementation proposed in the original paper. Set to `'all'` to silence this warning and adopt the future behaviour.\n",
      "  warn(\n",
      "/Users/jayceepang/miniconda3/envs/atom2024/lib/python3.9/site-packages/imblearn/ensemble/_forest.py:589: FutureWarning: The default of `replacement` will change from `False` to `True` in version 0.13. This change will follow the implementation proposed in the original paper. Set to `True` to silence this warning and adopt the future behaviour.\n",
      "  warn(\n"
     ]
    },
    {
     "name": "stdout",
     "output_type": "stream",
     "text": [
      "TRAIN: acc: 1.000, precision: 1.000, recall: 1.000, spec: 1.000\n",
      "TEST: acc: 0.760, precision: 0.733, recall: 0.846, spec: 0.667\n",
      "func:'rf_models'  took: 0.5367 sec\n",
      "\n",
      "NEK3_binding_MOE_UNDER_BRFC_BCW_fold5\n"
     ]
    },
    {
     "name": "stderr",
     "output_type": "stream",
     "text": [
      "/Users/jayceepang/miniconda3/envs/atom2024/lib/python3.9/site-packages/imblearn/ensemble/_forest.py:577: FutureWarning: The default of `sampling_strategy` will change from `'auto'` to `'all'` in version 0.13. This change will follow the implementation proposed in the original paper. Set to `'all'` to silence this warning and adopt the future behaviour.\n",
      "  warn(\n",
      "/Users/jayceepang/miniconda3/envs/atom2024/lib/python3.9/site-packages/imblearn/ensemble/_forest.py:589: FutureWarning: The default of `replacement` will change from `False` to `True` in version 0.13. This change will follow the implementation proposed in the original paper. Set to `True` to silence this warning and adopt the future behaviour.\n",
      "  warn(\n"
     ]
    },
    {
     "name": "stdout",
     "output_type": "stream",
     "text": [
      "TRAIN: acc: 1.000, precision: 1.000, recall: 1.000, spec: 1.000\n",
      "TEST: acc: 0.760, precision: 0.733, recall: 0.846, spec: 0.667\n",
      "func:'rf_models'  took: 0.5602 sec\n",
      "\n",
      "NEK3_binding_MOE_SMOTE_RF_fold1\n",
      "TRAIN: acc: 1.000, precision: 1.000, recall: 1.000, spec: 1.000\n",
      "TEST: acc: 0.920, precision: 0.894, recall: 0.953, spec: 0.887\n",
      "func:'rf_models'  took: 23.9019 sec\n",
      "\n",
      "NEK3_binding_MOE_SMOTE_RF_BCW_fold1\n",
      "TRAIN: acc: 1.000, precision: 1.000, recall: 1.000, spec: 1.000\n",
      "TEST: acc: 0.922, precision: 0.898, recall: 0.953, spec: 0.892\n",
      "func:'rf_models'  took: 24.3912 sec\n",
      "\n",
      "NEK3_binding_MOE_SMOTE_BRFC_fold1\n"
     ]
    },
    {
     "name": "stderr",
     "output_type": "stream",
     "text": [
      "/Users/jayceepang/miniconda3/envs/atom2024/lib/python3.9/site-packages/imblearn/ensemble/_forest.py:577: FutureWarning: The default of `sampling_strategy` will change from `'auto'` to `'all'` in version 0.13. This change will follow the implementation proposed in the original paper. Set to `'all'` to silence this warning and adopt the future behaviour.\n",
      "  warn(\n",
      "/Users/jayceepang/miniconda3/envs/atom2024/lib/python3.9/site-packages/imblearn/ensemble/_forest.py:589: FutureWarning: The default of `replacement` will change from `False` to `True` in version 0.13. This change will follow the implementation proposed in the original paper. Set to `True` to silence this warning and adopt the future behaviour.\n",
      "  warn(\n"
     ]
    },
    {
     "name": "stdout",
     "output_type": "stream",
     "text": [
      "TRAIN: acc: 1.000, precision: 1.000, recall: 1.000, spec: 1.000\n",
      "TEST: acc: 0.917, precision: 0.890, recall: 0.953, spec: 0.882\n",
      "func:'rf_models'  took: 23.8445 sec\n",
      "\n",
      "NEK3_binding_MOE_SMOTE_BRFC_BCW_fold1\n"
     ]
    },
    {
     "name": "stderr",
     "output_type": "stream",
     "text": [
      "/Users/jayceepang/miniconda3/envs/atom2024/lib/python3.9/site-packages/imblearn/ensemble/_forest.py:577: FutureWarning: The default of `sampling_strategy` will change from `'auto'` to `'all'` in version 0.13. This change will follow the implementation proposed in the original paper. Set to `'all'` to silence this warning and adopt the future behaviour.\n",
      "  warn(\n",
      "/Users/jayceepang/miniconda3/envs/atom2024/lib/python3.9/site-packages/imblearn/ensemble/_forest.py:589: FutureWarning: The default of `replacement` will change from `False` to `True` in version 0.13. This change will follow the implementation proposed in the original paper. Set to `True` to silence this warning and adopt the future behaviour.\n",
      "  warn(\n"
     ]
    },
    {
     "name": "stdout",
     "output_type": "stream",
     "text": [
      "TRAIN: acc: 1.000, precision: 1.000, recall: 1.000, spec: 1.000\n",
      "TEST: acc: 0.920, precision: 0.894, recall: 0.953, spec: 0.887\n",
      "func:'rf_models'  took: 24.7520 sec\n",
      "\n",
      "NEK3_binding_MOE_SMOTE_RF_fold2\n",
      "TRAIN: acc: 1.000, precision: 1.000, recall: 1.000, spec: 1.000\n",
      "TEST: acc: 0.939, precision: 0.907, recall: 0.976, spec: 0.901\n",
      "func:'rf_models'  took: 27.6856 sec\n",
      "\n",
      "NEK3_binding_MOE_SMOTE_RF_BCW_fold2\n",
      "TRAIN: acc: 1.000, precision: 1.000, recall: 1.000, spec: 1.000\n",
      "TEST: acc: 0.936, precision: 0.904, recall: 0.976, spec: 0.896\n",
      "func:'rf_models'  took: 28.6065 sec\n",
      "\n",
      "NEK3_binding_MOE_SMOTE_BRFC_fold2\n"
     ]
    },
    {
     "name": "stderr",
     "output_type": "stream",
     "text": [
      "/Users/jayceepang/miniconda3/envs/atom2024/lib/python3.9/site-packages/imblearn/ensemble/_forest.py:577: FutureWarning: The default of `sampling_strategy` will change from `'auto'` to `'all'` in version 0.13. This change will follow the implementation proposed in the original paper. Set to `'all'` to silence this warning and adopt the future behaviour.\n",
      "  warn(\n",
      "/Users/jayceepang/miniconda3/envs/atom2024/lib/python3.9/site-packages/imblearn/ensemble/_forest.py:589: FutureWarning: The default of `replacement` will change from `False` to `True` in version 0.13. This change will follow the implementation proposed in the original paper. Set to `True` to silence this warning and adopt the future behaviour.\n",
      "  warn(\n"
     ]
    },
    {
     "name": "stdout",
     "output_type": "stream",
     "text": [
      "TRAIN: acc: 1.000, precision: 1.000, recall: 1.000, spec: 1.000\n",
      "TEST: acc: 0.939, precision: 0.907, recall: 0.976, spec: 0.901\n",
      "func:'rf_models'  took: 28.5758 sec\n",
      "\n",
      "NEK3_binding_MOE_SMOTE_BRFC_BCW_fold2\n"
     ]
    },
    {
     "name": "stderr",
     "output_type": "stream",
     "text": [
      "/Users/jayceepang/miniconda3/envs/atom2024/lib/python3.9/site-packages/imblearn/ensemble/_forest.py:577: FutureWarning: The default of `sampling_strategy` will change from `'auto'` to `'all'` in version 0.13. This change will follow the implementation proposed in the original paper. Set to `'all'` to silence this warning and adopt the future behaviour.\n",
      "  warn(\n",
      "/Users/jayceepang/miniconda3/envs/atom2024/lib/python3.9/site-packages/imblearn/ensemble/_forest.py:589: FutureWarning: The default of `replacement` will change from `False` to `True` in version 0.13. This change will follow the implementation proposed in the original paper. Set to `True` to silence this warning and adopt the future behaviour.\n",
      "  warn(\n"
     ]
    },
    {
     "name": "stdout",
     "output_type": "stream",
     "text": [
      "TRAIN: acc: 1.000, precision: 1.000, recall: 1.000, spec: 1.000\n",
      "TEST: acc: 0.934, precision: 0.900, recall: 0.976, spec: 0.892\n",
      "func:'rf_models'  took: 29.1346 sec\n",
      "\n",
      "NEK3_binding_MOE_SMOTE_RF_fold3\n",
      "TRAIN: acc: 1.000, precision: 1.000, recall: 1.000, spec: 1.000\n",
      "TEST: acc: 0.939, precision: 0.922, recall: 0.957, spec: 0.920\n",
      "func:'rf_models'  took: 31.0058 sec\n",
      "\n",
      "NEK3_binding_MOE_SMOTE_RF_BCW_fold3\n",
      "TRAIN: acc: 1.000, precision: 1.000, recall: 1.000, spec: 1.000\n",
      "TEST: acc: 0.936, precision: 0.926, recall: 0.948, spec: 0.925\n",
      "func:'rf_models'  took: 31.8799 sec\n",
      "\n",
      "NEK3_binding_MOE_SMOTE_BRFC_fold3\n"
     ]
    },
    {
     "name": "stderr",
     "output_type": "stream",
     "text": [
      "/Users/jayceepang/miniconda3/envs/atom2024/lib/python3.9/site-packages/imblearn/ensemble/_forest.py:577: FutureWarning: The default of `sampling_strategy` will change from `'auto'` to `'all'` in version 0.13. This change will follow the implementation proposed in the original paper. Set to `'all'` to silence this warning and adopt the future behaviour.\n",
      "  warn(\n",
      "/Users/jayceepang/miniconda3/envs/atom2024/lib/python3.9/site-packages/imblearn/ensemble/_forest.py:589: FutureWarning: The default of `replacement` will change from `False` to `True` in version 0.13. This change will follow the implementation proposed in the original paper. Set to `True` to silence this warning and adopt the future behaviour.\n",
      "  warn(\n"
     ]
    },
    {
     "name": "stdout",
     "output_type": "stream",
     "text": [
      "TRAIN: acc: 1.000, precision: 1.000, recall: 1.000, spec: 1.000\n",
      "TEST: acc: 0.948, precision: 0.940, recall: 0.957, spec: 0.939\n",
      "func:'rf_models'  took: 29.7105 sec\n",
      "\n",
      "NEK3_binding_MOE_SMOTE_BRFC_BCW_fold3\n"
     ]
    },
    {
     "name": "stderr",
     "output_type": "stream",
     "text": [
      "/Users/jayceepang/miniconda3/envs/atom2024/lib/python3.9/site-packages/imblearn/ensemble/_forest.py:577: FutureWarning: The default of `sampling_strategy` will change from `'auto'` to `'all'` in version 0.13. This change will follow the implementation proposed in the original paper. Set to `'all'` to silence this warning and adopt the future behaviour.\n",
      "  warn(\n",
      "/Users/jayceepang/miniconda3/envs/atom2024/lib/python3.9/site-packages/imblearn/ensemble/_forest.py:589: FutureWarning: The default of `replacement` will change from `False` to `True` in version 0.13. This change will follow the implementation proposed in the original paper. Set to `True` to silence this warning and adopt the future behaviour.\n",
      "  warn(\n"
     ]
    },
    {
     "name": "stdout",
     "output_type": "stream",
     "text": [
      "TRAIN: acc: 1.000, precision: 1.000, recall: 1.000, spec: 1.000\n",
      "TEST: acc: 0.941, precision: 0.935, recall: 0.948, spec: 0.934\n",
      "func:'rf_models'  took: 30.9878 sec\n",
      "\n",
      "NEK3_binding_MOE_SMOTE_RF_fold4\n",
      "TRAIN: acc: 1.000, precision: 1.000, recall: 1.000, spec: 1.000\n",
      "TEST: acc: 0.924, precision: 0.905, recall: 0.948, spec: 0.900\n",
      "func:'rf_models'  took: 25.9098 sec\n",
      "\n",
      "NEK3_binding_MOE_SMOTE_RF_BCW_fold4\n",
      "TRAIN: acc: 1.000, precision: 1.000, recall: 1.000, spec: 1.000\n",
      "TEST: acc: 0.927, precision: 0.910, recall: 0.948, spec: 0.905\n",
      "func:'rf_models'  took: 26.6994 sec\n",
      "\n",
      "NEK3_binding_MOE_SMOTE_BRFC_fold4\n"
     ]
    },
    {
     "name": "stderr",
     "output_type": "stream",
     "text": [
      "/Users/jayceepang/miniconda3/envs/atom2024/lib/python3.9/site-packages/imblearn/ensemble/_forest.py:577: FutureWarning: The default of `sampling_strategy` will change from `'auto'` to `'all'` in version 0.13. This change will follow the implementation proposed in the original paper. Set to `'all'` to silence this warning and adopt the future behaviour.\n",
      "  warn(\n",
      "/Users/jayceepang/miniconda3/envs/atom2024/lib/python3.9/site-packages/imblearn/ensemble/_forest.py:589: FutureWarning: The default of `replacement` will change from `False` to `True` in version 0.13. This change will follow the implementation proposed in the original paper. Set to `True` to silence this warning and adopt the future behaviour.\n",
      "  warn(\n"
     ]
    },
    {
     "name": "stdout",
     "output_type": "stream",
     "text": [
      "TRAIN: acc: 1.000, precision: 1.000, recall: 1.000, spec: 1.000\n",
      "TEST: acc: 0.931, precision: 0.918, recall: 0.948, spec: 0.915\n",
      "func:'rf_models'  took: 26.2332 sec\n",
      "\n",
      "NEK3_binding_MOE_SMOTE_BRFC_BCW_fold4\n"
     ]
    },
    {
     "name": "stderr",
     "output_type": "stream",
     "text": [
      "/Users/jayceepang/miniconda3/envs/atom2024/lib/python3.9/site-packages/imblearn/ensemble/_forest.py:577: FutureWarning: The default of `sampling_strategy` will change from `'auto'` to `'all'` in version 0.13. This change will follow the implementation proposed in the original paper. Set to `'all'` to silence this warning and adopt the future behaviour.\n",
      "  warn(\n",
      "/Users/jayceepang/miniconda3/envs/atom2024/lib/python3.9/site-packages/imblearn/ensemble/_forest.py:589: FutureWarning: The default of `replacement` will change from `False` to `True` in version 0.13. This change will follow the implementation proposed in the original paper. Set to `True` to silence this warning and adopt the future behaviour.\n",
      "  warn(\n"
     ]
    },
    {
     "name": "stdout",
     "output_type": "stream",
     "text": [
      "TRAIN: acc: 1.000, precision: 1.000, recall: 1.000, spec: 1.000\n",
      "TEST: acc: 0.929, precision: 0.914, recall: 0.948, spec: 0.910\n",
      "func:'rf_models'  took: 26.6078 sec\n",
      "\n",
      "NEK3_binding_MOE_SMOTE_RF_fold5\n",
      "TRAIN: acc: 1.000, precision: 1.000, recall: 1.000, spec: 1.000\n",
      "TEST: acc: 0.943, precision: 0.948, recall: 0.939, spec: 0.948\n",
      "func:'rf_models'  took: 29.1106 sec\n",
      "\n",
      "NEK3_binding_MOE_SMOTE_RF_BCW_fold5\n",
      "TRAIN: acc: 1.000, precision: 1.000, recall: 1.000, spec: 1.000\n",
      "TEST: acc: 0.931, precision: 0.938, recall: 0.925, spec: 0.938\n",
      "func:'rf_models'  took: 30.0384 sec\n",
      "\n",
      "NEK3_binding_MOE_SMOTE_BRFC_fold5\n"
     ]
    },
    {
     "name": "stderr",
     "output_type": "stream",
     "text": [
      "/Users/jayceepang/miniconda3/envs/atom2024/lib/python3.9/site-packages/imblearn/ensemble/_forest.py:577: FutureWarning: The default of `sampling_strategy` will change from `'auto'` to `'all'` in version 0.13. This change will follow the implementation proposed in the original paper. Set to `'all'` to silence this warning and adopt the future behaviour.\n",
      "  warn(\n",
      "/Users/jayceepang/miniconda3/envs/atom2024/lib/python3.9/site-packages/imblearn/ensemble/_forest.py:589: FutureWarning: The default of `replacement` will change from `False` to `True` in version 0.13. This change will follow the implementation proposed in the original paper. Set to `True` to silence this warning and adopt the future behaviour.\n",
      "  warn(\n"
     ]
    },
    {
     "name": "stdout",
     "output_type": "stream",
     "text": [
      "TRAIN: acc: 1.000, precision: 1.000, recall: 1.000, spec: 1.000\n",
      "TEST: acc: 0.941, precision: 0.947, recall: 0.934, spec: 0.948\n",
      "func:'rf_models'  took: 29.2324 sec\n",
      "\n",
      "NEK3_binding_MOE_SMOTE_BRFC_BCW_fold5\n"
     ]
    },
    {
     "name": "stderr",
     "output_type": "stream",
     "text": [
      "/Users/jayceepang/miniconda3/envs/atom2024/lib/python3.9/site-packages/imblearn/ensemble/_forest.py:577: FutureWarning: The default of `sampling_strategy` will change from `'auto'` to `'all'` in version 0.13. This change will follow the implementation proposed in the original paper. Set to `'all'` to silence this warning and adopt the future behaviour.\n",
      "  warn(\n",
      "/Users/jayceepang/miniconda3/envs/atom2024/lib/python3.9/site-packages/imblearn/ensemble/_forest.py:589: FutureWarning: The default of `replacement` will change from `False` to `True` in version 0.13. This change will follow the implementation proposed in the original paper. Set to `True` to silence this warning and adopt the future behaviour.\n",
      "  warn(\n"
     ]
    },
    {
     "name": "stdout",
     "output_type": "stream",
     "text": [
      "TRAIN: acc: 1.000, precision: 1.000, recall: 1.000, spec: 1.000\n",
      "TEST: acc: 0.929, precision: 0.933, recall: 0.925, spec: 0.934\n",
      "func:'rf_models'  took: 30.5834 sec\n",
      "\n",
      "NEK3_binding_MOE_ADASYN_RF_fold1\n",
      "TRAIN: acc: 1.000, precision: 1.000, recall: 1.000, spec: 1.000\n",
      "TEST: acc: 0.943, precision: 0.934, recall: 0.952, spec: 0.934\n",
      "func:'rf_models'  took: 21.7331 sec\n",
      "\n",
      "NEK3_binding_MOE_ADASYN_RF_BCW_fold1\n",
      "TRAIN: acc: 1.000, precision: 1.000, recall: 1.000, spec: 1.000\n",
      "TEST: acc: 0.929, precision: 0.912, recall: 0.947, spec: 0.910\n",
      "func:'rf_models'  took: 22.3334 sec\n",
      "\n",
      "NEK3_binding_MOE_ADASYN_BRFC_fold1\n"
     ]
    },
    {
     "name": "stderr",
     "output_type": "stream",
     "text": [
      "/Users/jayceepang/miniconda3/envs/atom2024/lib/python3.9/site-packages/imblearn/ensemble/_forest.py:577: FutureWarning: The default of `sampling_strategy` will change from `'auto'` to `'all'` in version 0.13. This change will follow the implementation proposed in the original paper. Set to `'all'` to silence this warning and adopt the future behaviour.\n",
      "  warn(\n",
      "/Users/jayceepang/miniconda3/envs/atom2024/lib/python3.9/site-packages/imblearn/ensemble/_forest.py:589: FutureWarning: The default of `replacement` will change from `False` to `True` in version 0.13. This change will follow the implementation proposed in the original paper. Set to `True` to silence this warning and adopt the future behaviour.\n",
      "  warn(\n"
     ]
    },
    {
     "name": "stdout",
     "output_type": "stream",
     "text": [
      "TRAIN: acc: 1.000, precision: 1.000, recall: 1.000, spec: 1.000\n",
      "TEST: acc: 0.945, precision: 0.939, recall: 0.952, spec: 0.939\n",
      "func:'rf_models'  took: 24.4380 sec\n",
      "\n",
      "NEK3_binding_MOE_ADASYN_BRFC_BCW_fold1\n"
     ]
    },
    {
     "name": "stderr",
     "output_type": "stream",
     "text": [
      "/Users/jayceepang/miniconda3/envs/atom2024/lib/python3.9/site-packages/imblearn/ensemble/_forest.py:577: FutureWarning: The default of `sampling_strategy` will change from `'auto'` to `'all'` in version 0.13. This change will follow the implementation proposed in the original paper. Set to `'all'` to silence this warning and adopt the future behaviour.\n",
      "  warn(\n",
      "/Users/jayceepang/miniconda3/envs/atom2024/lib/python3.9/site-packages/imblearn/ensemble/_forest.py:589: FutureWarning: The default of `replacement` will change from `False` to `True` in version 0.13. This change will follow the implementation proposed in the original paper. Set to `True` to silence this warning and adopt the future behaviour.\n",
      "  warn(\n"
     ]
    },
    {
     "name": "stdout",
     "output_type": "stream",
     "text": [
      "TRAIN: acc: 1.000, precision: 1.000, recall: 1.000, spec: 1.000\n",
      "TEST: acc: 0.945, precision: 0.931, recall: 0.962, spec: 0.929\n",
      "func:'rf_models'  took: 25.8608 sec\n",
      "\n",
      "NEK3_binding_MOE_ADASYN_RF_fold2\n",
      "TRAIN: acc: 1.000, precision: 1.000, recall: 1.000, spec: 1.000\n",
      "TEST: acc: 0.941, precision: 0.926, recall: 0.957, spec: 0.925\n",
      "func:'rf_models'  took: 21.4412 sec\n",
      "\n",
      "NEK3_binding_MOE_ADASYN_RF_BCW_fold2\n",
      "TRAIN: acc: 1.000, precision: 1.000, recall: 1.000, spec: 1.000\n",
      "TEST: acc: 0.938, precision: 0.930, recall: 0.947, spec: 0.929\n",
      "func:'rf_models'  took: 21.8620 sec\n",
      "\n",
      "NEK3_binding_MOE_ADASYN_BRFC_fold2\n"
     ]
    },
    {
     "name": "stderr",
     "output_type": "stream",
     "text": [
      "/Users/jayceepang/miniconda3/envs/atom2024/lib/python3.9/site-packages/imblearn/ensemble/_forest.py:577: FutureWarning: The default of `sampling_strategy` will change from `'auto'` to `'all'` in version 0.13. This change will follow the implementation proposed in the original paper. Set to `'all'` to silence this warning and adopt the future behaviour.\n",
      "  warn(\n",
      "/Users/jayceepang/miniconda3/envs/atom2024/lib/python3.9/site-packages/imblearn/ensemble/_forest.py:589: FutureWarning: The default of `replacement` will change from `False` to `True` in version 0.13. This change will follow the implementation proposed in the original paper. Set to `True` to silence this warning and adopt the future behaviour.\n",
      "  warn(\n"
     ]
    },
    {
     "name": "stdout",
     "output_type": "stream",
     "text": [
      "TRAIN: acc: 1.000, precision: 1.000, recall: 1.000, spec: 1.000\n",
      "TEST: acc: 0.938, precision: 0.926, recall: 0.952, spec: 0.925\n",
      "func:'rf_models'  took: 21.4551 sec\n",
      "\n",
      "NEK3_binding_MOE_ADASYN_BRFC_BCW_fold2\n"
     ]
    },
    {
     "name": "stderr",
     "output_type": "stream",
     "text": [
      "/Users/jayceepang/miniconda3/envs/atom2024/lib/python3.9/site-packages/imblearn/ensemble/_forest.py:577: FutureWarning: The default of `sampling_strategy` will change from `'auto'` to `'all'` in version 0.13. This change will follow the implementation proposed in the original paper. Set to `'all'` to silence this warning and adopt the future behaviour.\n",
      "  warn(\n",
      "/Users/jayceepang/miniconda3/envs/atom2024/lib/python3.9/site-packages/imblearn/ensemble/_forest.py:589: FutureWarning: The default of `replacement` will change from `False` to `True` in version 0.13. This change will follow the implementation proposed in the original paper. Set to `True` to silence this warning and adopt the future behaviour.\n",
      "  warn(\n"
     ]
    },
    {
     "name": "stdout",
     "output_type": "stream",
     "text": [
      "TRAIN: acc: 1.000, precision: 1.000, recall: 1.000, spec: 1.000\n",
      "TEST: acc: 0.938, precision: 0.930, recall: 0.947, spec: 0.929\n",
      "func:'rf_models'  took: 21.8333 sec\n",
      "\n",
      "NEK3_binding_MOE_ADASYN_RF_fold3\n",
      "TRAIN: acc: 1.000, precision: 1.000, recall: 1.000, spec: 1.000\n",
      "TEST: acc: 0.948, precision: 0.927, recall: 0.971, spec: 0.925\n",
      "func:'rf_models'  took: 18.3467 sec\n",
      "\n",
      "NEK3_binding_MOE_ADASYN_RF_BCW_fold3\n",
      "TRAIN: acc: 1.000, precision: 1.000, recall: 1.000, spec: 1.000\n",
      "TEST: acc: 0.941, precision: 0.926, recall: 0.957, spec: 0.925\n",
      "func:'rf_models'  took: 18.8446 sec\n",
      "\n",
      "NEK3_binding_MOE_ADASYN_BRFC_fold3\n"
     ]
    },
    {
     "name": "stderr",
     "output_type": "stream",
     "text": [
      "/Users/jayceepang/miniconda3/envs/atom2024/lib/python3.9/site-packages/imblearn/ensemble/_forest.py:577: FutureWarning: The default of `sampling_strategy` will change from `'auto'` to `'all'` in version 0.13. This change will follow the implementation proposed in the original paper. Set to `'all'` to silence this warning and adopt the future behaviour.\n",
      "  warn(\n",
      "/Users/jayceepang/miniconda3/envs/atom2024/lib/python3.9/site-packages/imblearn/ensemble/_forest.py:589: FutureWarning: The default of `replacement` will change from `False` to `True` in version 0.13. This change will follow the implementation proposed in the original paper. Set to `True` to silence this warning and adopt the future behaviour.\n",
      "  warn(\n"
     ]
    },
    {
     "name": "stdout",
     "output_type": "stream",
     "text": [
      "TRAIN: acc: 1.000, precision: 1.000, recall: 1.000, spec: 1.000\n",
      "TEST: acc: 0.950, precision: 0.935, recall: 0.967, spec: 0.934\n",
      "func:'rf_models'  took: 18.3804 sec\n",
      "\n",
      "NEK3_binding_MOE_ADASYN_BRFC_BCW_fold3\n"
     ]
    },
    {
     "name": "stderr",
     "output_type": "stream",
     "text": [
      "/Users/jayceepang/miniconda3/envs/atom2024/lib/python3.9/site-packages/imblearn/ensemble/_forest.py:577: FutureWarning: The default of `sampling_strategy` will change from `'auto'` to `'all'` in version 0.13. This change will follow the implementation proposed in the original paper. Set to `'all'` to silence this warning and adopt the future behaviour.\n",
      "  warn(\n",
      "/Users/jayceepang/miniconda3/envs/atom2024/lib/python3.9/site-packages/imblearn/ensemble/_forest.py:589: FutureWarning: The default of `replacement` will change from `False` to `True` in version 0.13. This change will follow the implementation proposed in the original paper. Set to `True` to silence this warning and adopt the future behaviour.\n",
      "  warn(\n"
     ]
    },
    {
     "name": "stdout",
     "output_type": "stream",
     "text": [
      "TRAIN: acc: 1.000, precision: 1.000, recall: 1.000, spec: 1.000\n",
      "TEST: acc: 0.955, precision: 0.944, recall: 0.967, spec: 0.943\n",
      "func:'rf_models'  took: 18.9919 sec\n",
      "\n",
      "NEK3_binding_MOE_ADASYN_RF_fold4\n",
      "TRAIN: acc: 1.000, precision: 1.000, recall: 1.000, spec: 1.000\n",
      "TEST: acc: 0.917, precision: 0.899, recall: 0.938, spec: 0.896\n",
      "func:'rf_models'  took: 29.5393 sec\n",
      "\n",
      "NEK3_binding_MOE_ADASYN_RF_BCW_fold4\n",
      "TRAIN: acc: 1.000, precision: 1.000, recall: 1.000, spec: 1.000\n",
      "TEST: acc: 0.917, precision: 0.899, recall: 0.938, spec: 0.896\n",
      "func:'rf_models'  took: 30.6734 sec\n",
      "\n",
      "NEK3_binding_MOE_ADASYN_BRFC_fold4\n"
     ]
    },
    {
     "name": "stderr",
     "output_type": "stream",
     "text": [
      "/Users/jayceepang/miniconda3/envs/atom2024/lib/python3.9/site-packages/imblearn/ensemble/_forest.py:577: FutureWarning: The default of `sampling_strategy` will change from `'auto'` to `'all'` in version 0.13. This change will follow the implementation proposed in the original paper. Set to `'all'` to silence this warning and adopt the future behaviour.\n",
      "  warn(\n",
      "/Users/jayceepang/miniconda3/envs/atom2024/lib/python3.9/site-packages/imblearn/ensemble/_forest.py:589: FutureWarning: The default of `replacement` will change from `False` to `True` in version 0.13. This change will follow the implementation proposed in the original paper. Set to `True` to silence this warning and adopt the future behaviour.\n",
      "  warn(\n"
     ]
    },
    {
     "name": "stdout",
     "output_type": "stream",
     "text": [
      "TRAIN: acc: 1.000, precision: 1.000, recall: 1.000, spec: 1.000\n",
      "TEST: acc: 0.931, precision: 0.913, recall: 0.952, spec: 0.910\n",
      "func:'rf_models'  took: 27.0838 sec\n",
      "\n",
      "NEK3_binding_MOE_ADASYN_BRFC_BCW_fold4\n"
     ]
    },
    {
     "name": "stderr",
     "output_type": "stream",
     "text": [
      "/Users/jayceepang/miniconda3/envs/atom2024/lib/python3.9/site-packages/imblearn/ensemble/_forest.py:577: FutureWarning: The default of `sampling_strategy` will change from `'auto'` to `'all'` in version 0.13. This change will follow the implementation proposed in the original paper. Set to `'all'` to silence this warning and adopt the future behaviour.\n",
      "  warn(\n",
      "/Users/jayceepang/miniconda3/envs/atom2024/lib/python3.9/site-packages/imblearn/ensemble/_forest.py:589: FutureWarning: The default of `replacement` will change from `False` to `True` in version 0.13. This change will follow the implementation proposed in the original paper. Set to `True` to silence this warning and adopt the future behaviour.\n",
      "  warn(\n"
     ]
    },
    {
     "name": "stdout",
     "output_type": "stream",
     "text": [
      "TRAIN: acc: 1.000, precision: 1.000, recall: 1.000, spec: 1.000\n",
      "TEST: acc: 0.926, precision: 0.916, recall: 0.938, spec: 0.915\n",
      "func:'rf_models'  took: 27.7807 sec\n",
      "\n",
      "NEK3_binding_MOE_ADASYN_RF_fold5\n",
      "TRAIN: acc: 1.000, precision: 1.000, recall: 1.000, spec: 1.000\n",
      "TEST: acc: 0.945, precision: 0.943, recall: 0.947, spec: 0.943\n",
      "func:'rf_models'  took: 18.9584 sec\n",
      "\n",
      "NEK3_binding_MOE_ADASYN_RF_BCW_fold5\n",
      "TRAIN: acc: 1.000, precision: 1.000, recall: 1.000, spec: 1.000\n",
      "TEST: acc: 0.936, precision: 0.925, recall: 0.947, spec: 0.924\n",
      "func:'rf_models'  took: 19.5921 sec\n",
      "\n",
      "NEK3_binding_MOE_ADASYN_BRFC_fold5\n"
     ]
    },
    {
     "name": "stderr",
     "output_type": "stream",
     "text": [
      "/Users/jayceepang/miniconda3/envs/atom2024/lib/python3.9/site-packages/imblearn/ensemble/_forest.py:577: FutureWarning: The default of `sampling_strategy` will change from `'auto'` to `'all'` in version 0.13. This change will follow the implementation proposed in the original paper. Set to `'all'` to silence this warning and adopt the future behaviour.\n",
      "  warn(\n",
      "/Users/jayceepang/miniconda3/envs/atom2024/lib/python3.9/site-packages/imblearn/ensemble/_forest.py:589: FutureWarning: The default of `replacement` will change from `False` to `True` in version 0.13. This change will follow the implementation proposed in the original paper. Set to `True` to silence this warning and adopt the future behaviour.\n",
      "  warn(\n"
     ]
    },
    {
     "name": "stdout",
     "output_type": "stream",
     "text": [
      "TRAIN: acc: 1.000, precision: 1.000, recall: 1.000, spec: 1.000\n",
      "TEST: acc: 0.945, precision: 0.939, recall: 0.952, spec: 0.938\n",
      "func:'rf_models'  took: 18.9158 sec\n",
      "\n",
      "NEK3_binding_MOE_ADASYN_BRFC_BCW_fold5\n"
     ]
    },
    {
     "name": "stderr",
     "output_type": "stream",
     "text": [
      "/Users/jayceepang/miniconda3/envs/atom2024/lib/python3.9/site-packages/imblearn/ensemble/_forest.py:577: FutureWarning: The default of `sampling_strategy` will change from `'auto'` to `'all'` in version 0.13. This change will follow the implementation proposed in the original paper. Set to `'all'` to silence this warning and adopt the future behaviour.\n",
      "  warn(\n",
      "/Users/jayceepang/miniconda3/envs/atom2024/lib/python3.9/site-packages/imblearn/ensemble/_forest.py:589: FutureWarning: The default of `replacement` will change from `False` to `True` in version 0.13. This change will follow the implementation proposed in the original paper. Set to `True` to silence this warning and adopt the future behaviour.\n",
      "  warn(\n"
     ]
    },
    {
     "name": "stdout",
     "output_type": "stream",
     "text": [
      "TRAIN: acc: 1.000, precision: 1.000, recall: 1.000, spec: 1.000\n",
      "TEST: acc: 0.940, precision: 0.930, recall: 0.952, spec: 0.929\n",
      "func:'rf_models'  took: 19.8056 sec\n",
      "\n",
      "NEK3_binding_MFP_none_scaled_RF_fold1\n",
      "TRAIN: acc: 1.000, precision: 1.000, recall: 1.000, spec: 1.000\n",
      "TEST: acc: 0.951, precision: 0.625, recall: 0.385, spec: 0.986\n",
      "func:'rf_models'  took: 4.9020 sec\n",
      "\n",
      "NEK3_binding_MFP_none_scaled_RF_BCW_fold1\n",
      "TRAIN: acc: 1.000, precision: 1.000, recall: 1.000, spec: 1.000\n",
      "TEST: acc: 0.867, precision: 0.130, recall: 0.231, spec: 0.906\n",
      "func:'rf_models'  took: 1.9349 sec\n",
      "\n",
      "NEK3_binding_MFP_none_scaled_BRFC_fold1\n"
     ]
    },
    {
     "name": "stderr",
     "output_type": "stream",
     "text": [
      "/Users/jayceepang/miniconda3/envs/atom2024/lib/python3.9/site-packages/imblearn/ensemble/_forest.py:577: FutureWarning: The default of `sampling_strategy` will change from `'auto'` to `'all'` in version 0.13. This change will follow the implementation proposed in the original paper. Set to `'all'` to silence this warning and adopt the future behaviour.\n",
      "  warn(\n",
      "/Users/jayceepang/miniconda3/envs/atom2024/lib/python3.9/site-packages/imblearn/ensemble/_forest.py:589: FutureWarning: The default of `replacement` will change from `False` to `True` in version 0.13. This change will follow the implementation proposed in the original paper. Set to `True` to silence this warning and adopt the future behaviour.\n",
      "  warn(\n"
     ]
    },
    {
     "name": "stdout",
     "output_type": "stream",
     "text": [
      "TRAIN: acc: 0.794, precision: 0.216, recall: 1.000, spec: 0.781\n",
      "TEST: acc: 0.773, precision: 0.161, recall: 0.692, spec: 0.778\n",
      "func:'rf_models'  took: 0.3213 sec\n",
      "\n",
      "NEK3_binding_MFP_none_scaled_BRFC_BCW_fold1\n"
     ]
    },
    {
     "name": "stderr",
     "output_type": "stream",
     "text": [
      "/Users/jayceepang/miniconda3/envs/atom2024/lib/python3.9/site-packages/imblearn/ensemble/_forest.py:577: FutureWarning: The default of `sampling_strategy` will change from `'auto'` to `'all'` in version 0.13. This change will follow the implementation proposed in the original paper. Set to `'all'` to silence this warning and adopt the future behaviour.\n",
      "  warn(\n",
      "/Users/jayceepang/miniconda3/envs/atom2024/lib/python3.9/site-packages/imblearn/ensemble/_forest.py:589: FutureWarning: The default of `replacement` will change from `False` to `True` in version 0.13. This change will follow the implementation proposed in the original paper. Set to `True` to silence this warning and adopt the future behaviour.\n",
      "  warn(\n"
     ]
    },
    {
     "name": "stdout",
     "output_type": "stream",
     "text": [
      "TRAIN: acc: 0.545, precision: 0.111, recall: 1.000, spec: 0.518\n",
      "TEST: acc: 0.507, precision: 0.085, recall: 0.769, spec: 0.491\n",
      "func:'rf_models'  took: 0.6240 sec\n",
      "\n",
      "NEK3_binding_MFP_none_scaled_RF_fold2\n",
      "TRAIN: acc: 0.998, precision: 1.000, recall: 0.961, spec: 1.000\n",
      "TEST: acc: 0.911, precision: 0.231, recall: 0.231, spec: 0.953\n",
      "func:'rf_models'  took: 4.0228 sec\n",
      "\n",
      "NEK3_binding_MFP_none_scaled_RF_BCW_fold2\n",
      "TRAIN: acc: 0.998, precision: 0.962, recall: 1.000, spec: 0.998\n",
      "TEST: acc: 0.893, precision: 0.238, recall: 0.385, spec: 0.925\n",
      "func:'rf_models'  took: 1.8377 sec\n",
      "\n",
      "NEK3_binding_MFP_none_scaled_BRFC_fold2\n"
     ]
    },
    {
     "name": "stderr",
     "output_type": "stream",
     "text": [
      "/Users/jayceepang/miniconda3/envs/atom2024/lib/python3.9/site-packages/imblearn/ensemble/_forest.py:577: FutureWarning: The default of `sampling_strategy` will change from `'auto'` to `'all'` in version 0.13. This change will follow the implementation proposed in the original paper. Set to `'all'` to silence this warning and adopt the future behaviour.\n",
      "  warn(\n",
      "/Users/jayceepang/miniconda3/envs/atom2024/lib/python3.9/site-packages/imblearn/ensemble/_forest.py:589: FutureWarning: The default of `replacement` will change from `False` to `True` in version 0.13. This change will follow the implementation proposed in the original paper. Set to `True` to silence this warning and adopt the future behaviour.\n",
      "  warn(\n"
     ]
    },
    {
     "name": "stdout",
     "output_type": "stream",
     "text": [
      "TRAIN: acc: 0.727, precision: 0.172, recall: 1.000, spec: 0.710\n",
      "TEST: acc: 0.618, precision: 0.099, recall: 0.692, spec: 0.613\n",
      "func:'rf_models'  took: 0.3037 sec\n",
      "\n",
      "NEK3_binding_MFP_none_scaled_BRFC_BCW_fold2\n"
     ]
    },
    {
     "name": "stderr",
     "output_type": "stream",
     "text": [
      "/Users/jayceepang/miniconda3/envs/atom2024/lib/python3.9/site-packages/imblearn/ensemble/_forest.py:577: FutureWarning: The default of `sampling_strategy` will change from `'auto'` to `'all'` in version 0.13. This change will follow the implementation proposed in the original paper. Set to `'all'` to silence this warning and adopt the future behaviour.\n",
      "  warn(\n",
      "/Users/jayceepang/miniconda3/envs/atom2024/lib/python3.9/site-packages/imblearn/ensemble/_forest.py:589: FutureWarning: The default of `replacement` will change from `False` to `True` in version 0.13. This change will follow the implementation proposed in the original paper. Set to `True` to silence this warning and adopt the future behaviour.\n",
      "  warn(\n"
     ]
    },
    {
     "name": "stdout",
     "output_type": "stream",
     "text": [
      "TRAIN: acc: 0.557, precision: 0.114, recall: 1.000, spec: 0.531\n",
      "TEST: acc: 0.484, precision: 0.074, recall: 0.692, spec: 0.472\n",
      "func:'rf_models'  took: 0.6153 sec\n",
      "\n",
      "NEK3_binding_MFP_none_scaled_RF_fold3\n",
      "TRAIN: acc: 0.999, precision: 1.000, recall: 0.981, spec: 1.000\n",
      "TEST: acc: 0.888, precision: 0.067, recall: 0.083, spec: 0.934\n",
      "func:'rf_models'  took: 6.8459 sec\n",
      "\n",
      "NEK3_binding_MFP_none_scaled_RF_BCW_fold3\n",
      "TRAIN: acc: 0.999, precision: 0.981, recall: 1.000, spec: 0.999\n",
      "TEST: acc: 0.920, precision: 0.250, recall: 0.250, spec: 0.958\n",
      "func:'rf_models'  took: 2.4243 sec\n",
      "\n",
      "NEK3_binding_MFP_none_scaled_BRFC_fold3\n"
     ]
    },
    {
     "name": "stderr",
     "output_type": "stream",
     "text": [
      "/Users/jayceepang/miniconda3/envs/atom2024/lib/python3.9/site-packages/imblearn/ensemble/_forest.py:577: FutureWarning: The default of `sampling_strategy` will change from `'auto'` to `'all'` in version 0.13. This change will follow the implementation proposed in the original paper. Set to `'all'` to silence this warning and adopt the future behaviour.\n",
      "  warn(\n",
      "/Users/jayceepang/miniconda3/envs/atom2024/lib/python3.9/site-packages/imblearn/ensemble/_forest.py:589: FutureWarning: The default of `replacement` will change from `False` to `True` in version 0.13. This change will follow the implementation proposed in the original paper. Set to `True` to silence this warning and adopt the future behaviour.\n",
      "  warn(\n"
     ]
    },
    {
     "name": "stdout",
     "output_type": "stream",
     "text": [
      "TRAIN: acc: 0.787, precision: 0.214, recall: 1.000, spec: 0.774\n",
      "TEST: acc: 0.759, precision: 0.138, recall: 0.667, spec: 0.764\n",
      "func:'rf_models'  took: 0.3308 sec\n",
      "\n",
      "NEK3_binding_MFP_none_scaled_BRFC_BCW_fold3\n"
     ]
    },
    {
     "name": "stderr",
     "output_type": "stream",
     "text": [
      "/Users/jayceepang/miniconda3/envs/atom2024/lib/python3.9/site-packages/imblearn/ensemble/_forest.py:577: FutureWarning: The default of `sampling_strategy` will change from `'auto'` to `'all'` in version 0.13. This change will follow the implementation proposed in the original paper. Set to `'all'` to silence this warning and adopt the future behaviour.\n",
      "  warn(\n",
      "/Users/jayceepang/miniconda3/envs/atom2024/lib/python3.9/site-packages/imblearn/ensemble/_forest.py:589: FutureWarning: The default of `replacement` will change from `False` to `True` in version 0.13. This change will follow the implementation proposed in the original paper. Set to `True` to silence this warning and adopt the future behaviour.\n",
      "  warn(\n"
     ]
    },
    {
     "name": "stdout",
     "output_type": "stream",
     "text": [
      "TRAIN: acc: 0.565, precision: 0.117, recall: 1.000, spec: 0.538\n",
      "TEST: acc: 0.540, precision: 0.090, recall: 0.833, spec: 0.524\n",
      "func:'rf_models'  took: 0.6422 sec\n",
      "\n",
      "NEK3_binding_MFP_none_scaled_RF_fold4\n",
      "TRAIN: acc: 0.998, precision: 1.000, recall: 0.961, spec: 1.000\n",
      "TEST: acc: 0.929, precision: 0.286, recall: 0.154, spec: 0.976\n",
      "func:'rf_models'  took: 3.2283 sec\n",
      "\n",
      "NEK3_binding_MFP_none_scaled_RF_BCW_fold4\n",
      "TRAIN: acc: 0.998, precision: 0.962, recall: 1.000, spec: 0.998\n",
      "TEST: acc: 0.893, precision: 0.211, recall: 0.308, spec: 0.929\n",
      "func:'rf_models'  took: 2.2727 sec\n",
      "\n",
      "NEK3_binding_MFP_none_scaled_BRFC_fold4\n"
     ]
    },
    {
     "name": "stderr",
     "output_type": "stream",
     "text": [
      "/Users/jayceepang/miniconda3/envs/atom2024/lib/python3.9/site-packages/imblearn/ensemble/_forest.py:577: FutureWarning: The default of `sampling_strategy` will change from `'auto'` to `'all'` in version 0.13. This change will follow the implementation proposed in the original paper. Set to `'all'` to silence this warning and adopt the future behaviour.\n",
      "  warn(\n",
      "/Users/jayceepang/miniconda3/envs/atom2024/lib/python3.9/site-packages/imblearn/ensemble/_forest.py:589: FutureWarning: The default of `replacement` will change from `False` to `True` in version 0.13. This change will follow the implementation proposed in the original paper. Set to `True` to silence this warning and adopt the future behaviour.\n",
      "  warn(\n"
     ]
    },
    {
     "name": "stdout",
     "output_type": "stream",
     "text": [
      "TRAIN: acc: 0.753, precision: 0.187, recall: 1.000, spec: 0.738\n",
      "TEST: acc: 0.737, precision: 0.117, recall: 0.538, spec: 0.749\n",
      "func:'rf_models'  took: 0.3228 sec\n",
      "\n",
      "NEK3_binding_MFP_none_scaled_BRFC_BCW_fold4\n"
     ]
    },
    {
     "name": "stderr",
     "output_type": "stream",
     "text": [
      "/Users/jayceepang/miniconda3/envs/atom2024/lib/python3.9/site-packages/imblearn/ensemble/_forest.py:577: FutureWarning: The default of `sampling_strategy` will change from `'auto'` to `'all'` in version 0.13. This change will follow the implementation proposed in the original paper. Set to `'all'` to silence this warning and adopt the future behaviour.\n",
      "  warn(\n",
      "/Users/jayceepang/miniconda3/envs/atom2024/lib/python3.9/site-packages/imblearn/ensemble/_forest.py:589: FutureWarning: The default of `replacement` will change from `False` to `True` in version 0.13. This change will follow the implementation proposed in the original paper. Set to `True` to silence this warning and adopt the future behaviour.\n",
      "  warn(\n"
     ]
    },
    {
     "name": "stdout",
     "output_type": "stream",
     "text": [
      "TRAIN: acc: 0.577, precision: 0.118, recall: 1.000, spec: 0.551\n",
      "TEST: acc: 0.482, precision: 0.081, recall: 0.769, spec: 0.464\n",
      "func:'rf_models'  took: 0.5780 sec\n",
      "\n",
      "NEK3_binding_MFP_none_scaled_RF_fold5\n",
      "TRAIN: acc: 0.998, precision: 1.000, recall: 0.961, spec: 1.000\n",
      "TEST: acc: 0.902, precision: 0.154, recall: 0.154, spec: 0.948\n",
      "func:'rf_models'  took: 3.9736 sec\n",
      "\n",
      "NEK3_binding_MFP_none_scaled_RF_BCW_fold5\n",
      "TRAIN: acc: 0.998, precision: 0.962, recall: 1.000, spec: 0.998\n",
      "TEST: acc: 0.906, precision: 0.214, recall: 0.231, spec: 0.948\n",
      "func:'rf_models'  took: 2.4655 sec\n",
      "\n",
      "NEK3_binding_MFP_none_scaled_BRFC_fold5\n"
     ]
    },
    {
     "name": "stderr",
     "output_type": "stream",
     "text": [
      "/Users/jayceepang/miniconda3/envs/atom2024/lib/python3.9/site-packages/imblearn/ensemble/_forest.py:577: FutureWarning: The default of `sampling_strategy` will change from `'auto'` to `'all'` in version 0.13. This change will follow the implementation proposed in the original paper. Set to `'all'` to silence this warning and adopt the future behaviour.\n",
      "  warn(\n",
      "/Users/jayceepang/miniconda3/envs/atom2024/lib/python3.9/site-packages/imblearn/ensemble/_forest.py:589: FutureWarning: The default of `replacement` will change from `False` to `True` in version 0.13. This change will follow the implementation proposed in the original paper. Set to `True` to silence this warning and adopt the future behaviour.\n",
      "  warn(\n"
     ]
    },
    {
     "name": "stdout",
     "output_type": "stream",
     "text": [
      "TRAIN: acc: 0.797, precision: 0.219, recall: 1.000, spec: 0.785\n",
      "TEST: acc: 0.750, precision: 0.123, recall: 0.538, spec: 0.763\n",
      "func:'rf_models'  took: 0.3290 sec\n",
      "\n",
      "NEK3_binding_MFP_none_scaled_BRFC_BCW_fold5\n"
     ]
    },
    {
     "name": "stderr",
     "output_type": "stream",
     "text": [
      "/Users/jayceepang/miniconda3/envs/atom2024/lib/python3.9/site-packages/imblearn/ensemble/_forest.py:577: FutureWarning: The default of `sampling_strategy` will change from `'auto'` to `'all'` in version 0.13. This change will follow the implementation proposed in the original paper. Set to `'all'` to silence this warning and adopt the future behaviour.\n",
      "  warn(\n",
      "/Users/jayceepang/miniconda3/envs/atom2024/lib/python3.9/site-packages/imblearn/ensemble/_forest.py:589: FutureWarning: The default of `replacement` will change from `False` to `True` in version 0.13. This change will follow the implementation proposed in the original paper. Set to `True` to silence this warning and adopt the future behaviour.\n",
      "  warn(\n"
     ]
    },
    {
     "name": "stdout",
     "output_type": "stream",
     "text": [
      "TRAIN: acc: 0.512, precision: 0.104, recall: 1.000, spec: 0.483\n",
      "TEST: acc: 0.491, precision: 0.089, recall: 0.846, spec: 0.469\n",
      "func:'rf_models'  took: 0.5940 sec\n",
      "\n",
      "NEK3_binding_MFP_UNDER_RF_fold1\n"
     ]
    }
   ],
   "source": [
    "kf_path = '/Users/jayceepang/msse/capstone/atom2024/atom2024/notebooks/paper/datasets/80train_20test/k_fold/validation/'\n",
    "val_models='/Users/jayceepang/msse/capstone/atom2024/atom2024/notebooks/paper/datasets/80train_20test/k_fold/validation/val_models/'\n",
    "results_dir='/Users/jayceepang/msse/capstone/atom2024/atom2024/notebooks/paper/datasets/80train_20test/k_fold/validation/results/'\n",
    "neks = ['NEK2_binding','NEK2_inhibition','NEK3_binding','NEK5_binding','NEK9_binding','NEK9_inhibition']\n",
    "samplings =['none_scaled','UNDER','SMOTE','ADASYN'] \n",
    "feats=['MOE','MFP'] \n",
    "RF_types = ['RF','RF_BCW','BRFC','BRFC_BCW']\n",
    "folds=['fold1','fold2','fold3','fold4','fold5'] \n",
    "\n",
    "# final_cols=['NEK','strategy','feat_type','RF_type','fold','accuracy', 'precision', 'recall', 'specificity', 'f1', 'ROC_AUC', 'MCC', 'balanced_accuracy', 'prob_class0', 'prob_class1', 'y',\n",
    "#             'cm', 'TN', 'FN', 'FP', 'TP','prediction' ]\n",
    "final_cols=['NEK','strategy','feat_type','RF_type','fold', 'cm','recall', 'specificity', 'accuracy', 'precision', \n",
    "            'f1', 'ROC_AUC', 'MCC', 'balanced_accuracy']\n",
    "for nek in neks: \n",
    "    for feat in feats: \n",
    "        for samp in samplings:\n",
    "            for fold in folds: \n",
    "                root_name = f'{nek}_{feat}_{samp}_{fold}_validation'\n",
    "                \n",
    "                trainX=pd.read_csv(f'{kf_path}{root_name}_trainX.csv').iloc[:, :-1]\n",
    "                train_y=pd.read_csv(f'{kf_path}{root_name}_train_y.csv').to_numpy().reshape(-1)\n",
    "                testX=pd.read_csv(f'{kf_path}{root_name}_testX.csv').iloc[:, :-1]\n",
    "                test_y=pd.read_csv(f'{kf_path}{root_name}_test_y.csv').to_numpy().reshape(-1)\n",
    "                for rf in RF_types: \n",
    "                    model_name = f'{nek}_{feat}_{samp}_{rf}_{fold}'\n",
    "                    print(model_name) \n",
    "                    model = rf_models(trainX, train_y, testX, test_y, rf, {}, True)  # make sure dict and doesn't go to default RF version\n",
    "\n",
    "                    # with open(f'{model_pickle_dir}{model_name}.pkl', 'wb') as f: \n",
    "                    #     pickle.dump(model, f) \n",
    "                    # add cm and other metrics to this function \n",
    "                    train_df = gather_rf_results(model, trainX, train_y)\n",
    "                    test_df = gather_rf_results(model, testX, test_y)\n",
    "                    print()\n",
    "                    \n",
    "                    \n",
    "                    for this_df in [train_df,test_df]: \n",
    "                        this_df['model'] = model_name\n",
    "                        # this_df= add_cm(this_df)\n",
    "                        this_df['NEK'] =nek\n",
    "                        this_df['feat_type'] = feat\n",
    "                        this_df['strategy'] = samp\n",
    "                        this_df['RF_type'] = rf\n",
    "                    \n",
    "                    train_df.to_csv(f'{results_dir}{model_name}_train.csv',index=False) \n",
    "                    test_df.to_csv(f'{results_dir}{model_name}_test.csv',index=False) \n",
    "                        \n",
    "                        \n",
    "                    "
   ]
  },
  {
   "cell_type": "code",
   "execution_count": 4,
   "id": "674d5cd3-b995-4950-a61d-705b6c533b59",
   "metadata": {},
   "outputs": [
    {
     "name": "stdout",
     "output_type": "stream",
     "text": [
      "['prediction', 'accuracy', 'precision', 'recall', 'specificity', 'f1', 'ROC_AUC', 'MCC', 'balanced_accuracy', 'prob_class0', 'prob_class1', 'y', 'cm', 'TN', 'FN', 'FP', 'TP']\n"
     ]
    }
   ],
   "source": [
    "print(list(test_df.columns))"
   ]
  },
  {
   "cell_type": "code",
   "execution_count": null,
   "id": "110350d6-1268-4715-903c-7b9f324cd0d7",
   "metadata": {},
   "outputs": [],
   "source": []
  }
 ],
 "metadata": {
  "kernelspec": {
   "display_name": "atom2024",
   "language": "python",
   "name": "atom2024"
  },
  "language_info": {
   "codemirror_mode": {
    "name": "ipython",
    "version": 3
   },
   "file_extension": ".py",
   "mimetype": "text/x-python",
   "name": "python",
   "nbconvert_exporter": "python",
   "pygments_lexer": "ipython3",
   "version": "3.9.12"
  }
 },
 "nbformat": 4,
 "nbformat_minor": 5
}
