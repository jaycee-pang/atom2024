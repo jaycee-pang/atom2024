{
 "cells": [
  {
   "cell_type": "code",
   "execution_count": 1,
   "id": "1e073df4-6f1f-42d9-a7fe-d11f13690fe7",
   "metadata": {},
   "outputs": [],
   "source": [
    "import pyforest\n",
    "from updated_RF import *\n",
    "from imblearn.over_sampling import SMOTEN, ADASYN, SMOTE\n",
    "from sklearn.metrics import accuracy_score, balanced_accuracy_score,precision_score, f1_score, roc_auc_score, roc_curve, precision_recall_curve, auc, recall_score, confusion_matrix,matthews_corrcoef\n",
    "\n",
    "from rdkit import Chem\n",
    "from rdkit.Chem import AllChem\n",
    "\n",
    "\n",
    "import math\n",
    "import torch\n",
    "import numpy as np\n",
    "# import gpytorch\n",
    "import pandas as pd\n",
    "import seaborn as sns\n",
    "import os\n",
    "import pickle\n",
    "import shutil\n",
    "import matplotlib \n",
    "# matplotlib.use('Agg')\n",
    "\n",
    "from matplotlib import pyplot as plt\n",
    "import sklearn\n",
    "from sklearn.model_selection import KFold\n",
    "\n",
    "import imblearn as imb\n",
    "# print(\"imblearn version: \",imblearn.__version__)\n",
    "\n",
    "from sklearn.decomposition import PCA\n",
    "from sklearn.preprocessing import StandardScaler\n",
    "\n",
    "from sklearn.metrics import confusion_matrix\n",
    "import itertools\n",
    "\n",
    "# from scipy.stats\n",
    "from sklearn.model_selection import RandomizedSearchCV\n",
    "from sklearn.metrics import accuracy_score, precision_score, f1_score, roc_auc_score, roc_curve, precision_recall_curve, auc, recall_score, confusion_matrix\n",
    "\n",
    "from sklearn.ensemble import RandomForestClassifier\n",
    "from imblearn.ensemble import BalancedRandomForestClassifier\n",
    "import sys\n",
    "\n",
    "\n",
    "from sklearn.model_selection import GridSearchCV"
   ]
  },
  {
   "cell_type": "code",
   "execution_count": 7,
   "id": "f67f65ff-36a8-41a0-bbfd-f128c6de1492",
   "metadata": {},
   "outputs": [],
   "source": []
  },
  {
   "cell_type": "code",
   "execution_count": 5,
   "id": "6495b1df-2f2c-4883-b848-4cd12d495ae6",
   "metadata": {
    "scrolled": true
   },
   "outputs": [
    {
     "name": "stdout",
     "output_type": "stream",
     "text": [
      "NEK2_binding_MOE_none_scaled_RF_fold1\n",
      "TRAIN: acc: 1.000, precision: 1.000, recall: 1.000, spec: 1.000\n",
      "TEST: acc: 0.947, precision: 0.000, recall: 0.000, spec: 0.986\n",
      "func:'rf_models'  took: 10.9170 sec\n",
      "\n",
      "NEK2_binding_MOE_none_scaled_RF_BCW_fold1\n",
      "TRAIN: acc: 1.000, precision: 1.000, recall: 1.000, spec: 1.000\n",
      "TEST: acc: 0.960, precision: 0.500, recall: 0.333, spec: 0.986\n",
      "func:'rf_models'  took: 5.5450 sec\n",
      "\n",
      "NEK2_binding_MOE_none_scaled_BRFC_fold1\n"
     ]
    },
    {
     "name": "stderr",
     "output_type": "stream",
     "text": [
      "/Users/jayceepang/miniconda3/envs/atom2024/lib/python3.9/site-packages/imblearn/ensemble/_forest.py:577: FutureWarning: The default of `sampling_strategy` will change from `'auto'` to `'all'` in version 0.13. This change will follow the implementation proposed in the original paper. Set to `'all'` to silence this warning and adopt the future behaviour.\n",
      "  warn(\n",
      "/Users/jayceepang/miniconda3/envs/atom2024/lib/python3.9/site-packages/imblearn/ensemble/_forest.py:589: FutureWarning: The default of `replacement` will change from `False` to `True` in version 0.13. This change will follow the implementation proposed in the original paper. Set to `True` to silence this warning and adopt the future behaviour.\n",
      "  warn(\n"
     ]
    },
    {
     "name": "stdout",
     "output_type": "stream",
     "text": [
      "TRAIN: acc: 0.758, precision: 0.142, recall: 1.000, spec: 0.748\n",
      "TEST: acc: 0.742, precision: 0.098, recall: 0.667, spec: 0.745\n",
      "func:'rf_models'  took: 0.3255 sec\n",
      "\n",
      "NEK2_binding_MOE_none_scaled_BRFC_BCW_fold1\n"
     ]
    },
    {
     "name": "stderr",
     "output_type": "stream",
     "text": [
      "/Users/jayceepang/miniconda3/envs/atom2024/lib/python3.9/site-packages/imblearn/ensemble/_forest.py:577: FutureWarning: The default of `sampling_strategy` will change from `'auto'` to `'all'` in version 0.13. This change will follow the implementation proposed in the original paper. Set to `'all'` to silence this warning and adopt the future behaviour.\n",
      "  warn(\n",
      "/Users/jayceepang/miniconda3/envs/atom2024/lib/python3.9/site-packages/imblearn/ensemble/_forest.py:589: FutureWarning: The default of `replacement` will change from `False` to `True` in version 0.13. This change will follow the implementation proposed in the original paper. Set to `True` to silence this warning and adopt the future behaviour.\n",
      "  warn(\n"
     ]
    },
    {
     "name": "stdout",
     "output_type": "stream",
     "text": [
      "TRAIN: acc: 0.689, precision: 0.114, recall: 1.000, spec: 0.676\n",
      "TEST: acc: 0.596, precision: 0.064, recall: 0.667, spec: 0.593\n",
      "func:'rf_models'  took: 0.6899 sec\n",
      "\n",
      "NEK2_binding_MOE_none_scaled_RF_fold2\n",
      "TRAIN: acc: 1.000, precision: 1.000, recall: 1.000, spec: 1.000\n",
      "TEST: acc: 0.933, precision: 0.125, recall: 0.111, spec: 0.968\n",
      "func:'rf_models'  took: 11.9379 sec\n",
      "\n",
      "NEK2_binding_MOE_none_scaled_RF_BCW_fold2\n",
      "TRAIN: acc: 1.000, precision: 1.000, recall: 1.000, spec: 1.000\n",
      "TEST: acc: 0.929, precision: 0.182, recall: 0.222, spec: 0.958\n",
      "func:'rf_models'  took: 5.5570 sec\n",
      "\n",
      "NEK2_binding_MOE_none_scaled_BRFC_fold2\n"
     ]
    },
    {
     "name": "stderr",
     "output_type": "stream",
     "text": [
      "/Users/jayceepang/miniconda3/envs/atom2024/lib/python3.9/site-packages/imblearn/ensemble/_forest.py:577: FutureWarning: The default of `sampling_strategy` will change from `'auto'` to `'all'` in version 0.13. This change will follow the implementation proposed in the original paper. Set to `'all'` to silence this warning and adopt the future behaviour.\n",
      "  warn(\n",
      "/Users/jayceepang/miniconda3/envs/atom2024/lib/python3.9/site-packages/imblearn/ensemble/_forest.py:589: FutureWarning: The default of `replacement` will change from `False` to `True` in version 0.13. This change will follow the implementation proposed in the original paper. Set to `True` to silence this warning and adopt the future behaviour.\n",
      "  warn(\n"
     ]
    },
    {
     "name": "stdout",
     "output_type": "stream",
     "text": [
      "TRAIN: acc: 0.782, precision: 0.155, recall: 1.000, spec: 0.773\n",
      "TEST: acc: 0.698, precision: 0.085, recall: 0.667, spec: 0.699\n",
      "func:'rf_models'  took: 0.3246 sec\n",
      "\n",
      "NEK2_binding_MOE_none_scaled_BRFC_BCW_fold2\n"
     ]
    },
    {
     "name": "stderr",
     "output_type": "stream",
     "text": [
      "/Users/jayceepang/miniconda3/envs/atom2024/lib/python3.9/site-packages/imblearn/ensemble/_forest.py:577: FutureWarning: The default of `sampling_strategy` will change from `'auto'` to `'all'` in version 0.13. This change will follow the implementation proposed in the original paper. Set to `'all'` to silence this warning and adopt the future behaviour.\n",
      "  warn(\n",
      "/Users/jayceepang/miniconda3/envs/atom2024/lib/python3.9/site-packages/imblearn/ensemble/_forest.py:589: FutureWarning: The default of `replacement` will change from `False` to `True` in version 0.13. This change will follow the implementation proposed in the original paper. Set to `True` to silence this warning and adopt the future behaviour.\n",
      "  warn(\n"
     ]
    },
    {
     "name": "stdout",
     "output_type": "stream",
     "text": [
      "TRAIN: acc: 0.702, precision: 0.118, recall: 1.000, spec: 0.690\n",
      "TEST: acc: 0.702, precision: 0.047, recall: 0.333, spec: 0.718\n",
      "func:'rf_models'  took: 0.6479 sec\n",
      "\n",
      "NEK2_binding_MOE_none_scaled_RF_fold3\n",
      "TRAIN: acc: 1.000, precision: 1.000, recall: 1.000, spec: 1.000\n",
      "TEST: acc: 0.960, precision: 0.500, recall: 0.333, spec: 0.986\n",
      "func:'rf_models'  took: 12.0804 sec\n",
      "\n",
      "NEK2_binding_MOE_none_scaled_RF_BCW_fold3\n",
      "TRAIN: acc: 1.000, precision: 1.000, recall: 1.000, spec: 1.000\n",
      "TEST: acc: 0.929, precision: 0.182, recall: 0.222, spec: 0.958\n",
      "func:'rf_models'  took: 4.6383 sec\n",
      "\n",
      "NEK2_binding_MOE_none_scaled_BRFC_fold3\n"
     ]
    },
    {
     "name": "stderr",
     "output_type": "stream",
     "text": [
      "/Users/jayceepang/miniconda3/envs/atom2024/lib/python3.9/site-packages/imblearn/ensemble/_forest.py:577: FutureWarning: The default of `sampling_strategy` will change from `'auto'` to `'all'` in version 0.13. This change will follow the implementation proposed in the original paper. Set to `'all'` to silence this warning and adopt the future behaviour.\n",
      "  warn(\n",
      "/Users/jayceepang/miniconda3/envs/atom2024/lib/python3.9/site-packages/imblearn/ensemble/_forest.py:589: FutureWarning: The default of `replacement` will change from `False` to `True` in version 0.13. This change will follow the implementation proposed in the original paper. Set to `True` to silence this warning and adopt the future behaviour.\n",
      "  warn(\n"
     ]
    },
    {
     "name": "stdout",
     "output_type": "stream",
     "text": [
      "TRAIN: acc: 0.774, precision: 0.151, recall: 1.000, spec: 0.765\n",
      "TEST: acc: 0.729, precision: 0.106, recall: 0.778, spec: 0.727\n",
      "func:'rf_models'  took: 0.3188 sec\n",
      "\n",
      "NEK2_binding_MOE_none_scaled_BRFC_BCW_fold3\n"
     ]
    },
    {
     "name": "stderr",
     "output_type": "stream",
     "text": [
      "/Users/jayceepang/miniconda3/envs/atom2024/lib/python3.9/site-packages/imblearn/ensemble/_forest.py:577: FutureWarning: The default of `sampling_strategy` will change from `'auto'` to `'all'` in version 0.13. This change will follow the implementation proposed in the original paper. Set to `'all'` to silence this warning and adopt the future behaviour.\n",
      "  warn(\n",
      "/Users/jayceepang/miniconda3/envs/atom2024/lib/python3.9/site-packages/imblearn/ensemble/_forest.py:589: FutureWarning: The default of `replacement` will change from `False` to `True` in version 0.13. This change will follow the implementation proposed in the original paper. Set to `True` to silence this warning and adopt the future behaviour.\n",
      "  warn(\n"
     ]
    },
    {
     "name": "stdout",
     "output_type": "stream",
     "text": [
      "TRAIN: acc: 0.717, precision: 0.124, recall: 1.000, spec: 0.705\n",
      "TEST: acc: 0.689, precision: 0.058, recall: 0.444, spec: 0.699\n",
      "func:'rf_models'  took: 0.6223 sec\n",
      "\n",
      "NEK2_binding_MOE_none_scaled_RF_fold4\n",
      "TRAIN: acc: 1.000, precision: 1.000, recall: 1.000, spec: 1.000\n",
      "TEST: acc: 0.916, precision: 0.000, recall: 0.000, spec: 0.954\n",
      "func:'rf_models'  took: 14.9616 sec\n",
      "\n",
      "NEK2_binding_MOE_none_scaled_RF_BCW_fold4\n",
      "TRAIN: acc: 1.000, precision: 1.000, recall: 1.000, spec: 1.000\n",
      "TEST: acc: 0.947, precision: 0.364, recall: 0.444, spec: 0.968\n",
      "func:'rf_models'  took: 5.3411 sec\n",
      "\n",
      "NEK2_binding_MOE_none_scaled_BRFC_fold4\n"
     ]
    },
    {
     "name": "stderr",
     "output_type": "stream",
     "text": [
      "/Users/jayceepang/miniconda3/envs/atom2024/lib/python3.9/site-packages/imblearn/ensemble/_forest.py:577: FutureWarning: The default of `sampling_strategy` will change from `'auto'` to `'all'` in version 0.13. This change will follow the implementation proposed in the original paper. Set to `'all'` to silence this warning and adopt the future behaviour.\n",
      "  warn(\n",
      "/Users/jayceepang/miniconda3/envs/atom2024/lib/python3.9/site-packages/imblearn/ensemble/_forest.py:589: FutureWarning: The default of `replacement` will change from `False` to `True` in version 0.13. This change will follow the implementation proposed in the original paper. Set to `True` to silence this warning and adopt the future behaviour.\n",
      "  warn(\n"
     ]
    },
    {
     "name": "stdout",
     "output_type": "stream",
     "text": [
      "TRAIN: acc: 0.769, precision: 0.148, recall: 1.000, spec: 0.759\n",
      "TEST: acc: 0.693, precision: 0.083, recall: 0.667, spec: 0.694\n",
      "func:'rf_models'  took: 0.3285 sec\n",
      "\n",
      "NEK2_binding_MOE_none_scaled_BRFC_BCW_fold4\n"
     ]
    },
    {
     "name": "stderr",
     "output_type": "stream",
     "text": [
      "/Users/jayceepang/miniconda3/envs/atom2024/lib/python3.9/site-packages/imblearn/ensemble/_forest.py:577: FutureWarning: The default of `sampling_strategy` will change from `'auto'` to `'all'` in version 0.13. This change will follow the implementation proposed in the original paper. Set to `'all'` to silence this warning and adopt the future behaviour.\n",
      "  warn(\n",
      "/Users/jayceepang/miniconda3/envs/atom2024/lib/python3.9/site-packages/imblearn/ensemble/_forest.py:589: FutureWarning: The default of `replacement` will change from `False` to `True` in version 0.13. This change will follow the implementation proposed in the original paper. Set to `True` to silence this warning and adopt the future behaviour.\n",
      "  warn(\n"
     ]
    },
    {
     "name": "stdout",
     "output_type": "stream",
     "text": [
      "TRAIN: acc: 0.678, precision: 0.110, recall: 1.000, spec: 0.664\n",
      "TEST: acc: 0.676, precision: 0.100, recall: 0.889, spec: 0.667\n",
      "func:'rf_models'  took: 0.6406 sec\n",
      "\n",
      "NEK2_binding_MOE_none_scaled_RF_fold5\n",
      "TRAIN: acc: 1.000, precision: 1.000, recall: 1.000, spec: 1.000\n",
      "TEST: acc: 0.916, precision: 0.000, recall: 0.000, spec: 0.954\n",
      "func:'rf_models'  took: 14.2217 sec\n",
      "\n",
      "NEK2_binding_MOE_none_scaled_RF_BCW_fold5\n",
      "TRAIN: acc: 1.000, precision: 1.000, recall: 1.000, spec: 1.000\n",
      "TEST: acc: 0.938, precision: 0.222, recall: 0.222, spec: 0.968\n",
      "func:'rf_models'  took: 5.4854 sec\n",
      "\n",
      "NEK2_binding_MOE_none_scaled_BRFC_fold5\n"
     ]
    },
    {
     "name": "stderr",
     "output_type": "stream",
     "text": [
      "/Users/jayceepang/miniconda3/envs/atom2024/lib/python3.9/site-packages/imblearn/ensemble/_forest.py:577: FutureWarning: The default of `sampling_strategy` will change from `'auto'` to `'all'` in version 0.13. This change will follow the implementation proposed in the original paper. Set to `'all'` to silence this warning and adopt the future behaviour.\n",
      "  warn(\n",
      "/Users/jayceepang/miniconda3/envs/atom2024/lib/python3.9/site-packages/imblearn/ensemble/_forest.py:589: FutureWarning: The default of `replacement` will change from `False` to `True` in version 0.13. This change will follow the implementation proposed in the original paper. Set to `True` to silence this warning and adopt the future behaviour.\n",
      "  warn(\n"
     ]
    },
    {
     "name": "stdout",
     "output_type": "stream",
     "text": [
      "TRAIN: acc: 0.743, precision: 0.135, recall: 1.000, spec: 0.733\n",
      "TEST: acc: 0.698, precision: 0.072, recall: 0.556, spec: 0.704\n",
      "func:'rf_models'  took: 0.3286 sec\n",
      "\n",
      "NEK2_binding_MOE_none_scaled_BRFC_BCW_fold5\n"
     ]
    },
    {
     "name": "stderr",
     "output_type": "stream",
     "text": [
      "/Users/jayceepang/miniconda3/envs/atom2024/lib/python3.9/site-packages/imblearn/ensemble/_forest.py:577: FutureWarning: The default of `sampling_strategy` will change from `'auto'` to `'all'` in version 0.13. This change will follow the implementation proposed in the original paper. Set to `'all'` to silence this warning and adopt the future behaviour.\n",
      "  warn(\n",
      "/Users/jayceepang/miniconda3/envs/atom2024/lib/python3.9/site-packages/imblearn/ensemble/_forest.py:589: FutureWarning: The default of `replacement` will change from `False` to `True` in version 0.13. This change will follow the implementation proposed in the original paper. Set to `True` to silence this warning and adopt the future behaviour.\n",
      "  warn(\n"
     ]
    },
    {
     "name": "stdout",
     "output_type": "stream",
     "text": [
      "TRAIN: acc: 0.712, precision: 0.122, recall: 1.000, spec: 0.700\n",
      "TEST: acc: 0.711, precision: 0.062, recall: 0.444, spec: 0.722\n",
      "func:'rf_models'  took: 0.6729 sec\n",
      "\n",
      "NEK2_binding_MOE_UNDER_RF_fold1\n",
      "TRAIN: acc: 1.000, precision: 1.000, recall: 1.000, spec: 1.000\n",
      "TEST: acc: 0.556, precision: 0.556, recall: 0.556, spec: 0.556\n",
      "func:'rf_models'  took: 0.2555 sec\n",
      "\n",
      "NEK2_binding_MOE_UNDER_RF_BCW_fold1\n",
      "TRAIN: acc: 1.000, precision: 1.000, recall: 1.000, spec: 1.000\n",
      "TEST: acc: 0.556, precision: 0.556, recall: 0.556, spec: 0.556\n",
      "func:'rf_models'  took: 0.2546 sec\n",
      "\n",
      "NEK2_binding_MOE_UNDER_BRFC_fold1\n"
     ]
    },
    {
     "name": "stderr",
     "output_type": "stream",
     "text": [
      "/Users/jayceepang/miniconda3/envs/atom2024/lib/python3.9/site-packages/imblearn/ensemble/_forest.py:577: FutureWarning: The default of `sampling_strategy` will change from `'auto'` to `'all'` in version 0.13. This change will follow the implementation proposed in the original paper. Set to `'all'` to silence this warning and adopt the future behaviour.\n",
      "  warn(\n",
      "/Users/jayceepang/miniconda3/envs/atom2024/lib/python3.9/site-packages/imblearn/ensemble/_forest.py:589: FutureWarning: The default of `replacement` will change from `False` to `True` in version 0.13. This change will follow the implementation proposed in the original paper. Set to `True` to silence this warning and adopt the future behaviour.\n",
      "  warn(\n"
     ]
    },
    {
     "name": "stdout",
     "output_type": "stream",
     "text": [
      "TRAIN: acc: 1.000, precision: 1.000, recall: 1.000, spec: 1.000\n",
      "TEST: acc: 0.556, precision: 0.556, recall: 0.556, spec: 0.556\n",
      "func:'rf_models'  took: 0.2841 sec\n",
      "\n",
      "NEK2_binding_MOE_UNDER_BRFC_BCW_fold1\n"
     ]
    },
    {
     "name": "stderr",
     "output_type": "stream",
     "text": [
      "/Users/jayceepang/miniconda3/envs/atom2024/lib/python3.9/site-packages/imblearn/ensemble/_forest.py:577: FutureWarning: The default of `sampling_strategy` will change from `'auto'` to `'all'` in version 0.13. This change will follow the implementation proposed in the original paper. Set to `'all'` to silence this warning and adopt the future behaviour.\n",
      "  warn(\n",
      "/Users/jayceepang/miniconda3/envs/atom2024/lib/python3.9/site-packages/imblearn/ensemble/_forest.py:589: FutureWarning: The default of `replacement` will change from `False` to `True` in version 0.13. This change will follow the implementation proposed in the original paper. Set to `True` to silence this warning and adopt the future behaviour.\n",
      "  warn(\n"
     ]
    },
    {
     "name": "stdout",
     "output_type": "stream",
     "text": [
      "TRAIN: acc: 1.000, precision: 1.000, recall: 1.000, spec: 1.000\n",
      "TEST: acc: 0.556, precision: 0.556, recall: 0.556, spec: 0.556\n",
      "func:'rf_models'  took: 0.2918 sec\n",
      "\n",
      "NEK2_binding_MOE_UNDER_RF_fold2\n",
      "TRAIN: acc: 1.000, precision: 1.000, recall: 1.000, spec: 1.000\n",
      "TEST: acc: 0.667, precision: 0.636, recall: 0.778, spec: 0.556\n",
      "func:'rf_models'  took: 0.3090 sec\n",
      "\n",
      "NEK2_binding_MOE_UNDER_RF_BCW_fold2\n",
      "TRAIN: acc: 1.000, precision: 1.000, recall: 1.000, spec: 1.000\n",
      "TEST: acc: 0.667, precision: 0.636, recall: 0.778, spec: 0.556\n",
      "func:'rf_models'  took: 0.3046 sec\n",
      "\n",
      "NEK2_binding_MOE_UNDER_BRFC_fold2\n"
     ]
    },
    {
     "name": "stderr",
     "output_type": "stream",
     "text": [
      "/Users/jayceepang/miniconda3/envs/atom2024/lib/python3.9/site-packages/imblearn/ensemble/_forest.py:577: FutureWarning: The default of `sampling_strategy` will change from `'auto'` to `'all'` in version 0.13. This change will follow the implementation proposed in the original paper. Set to `'all'` to silence this warning and adopt the future behaviour.\n",
      "  warn(\n",
      "/Users/jayceepang/miniconda3/envs/atom2024/lib/python3.9/site-packages/imblearn/ensemble/_forest.py:589: FutureWarning: The default of `replacement` will change from `False` to `True` in version 0.13. This change will follow the implementation proposed in the original paper. Set to `True` to silence this warning and adopt the future behaviour.\n",
      "  warn(\n"
     ]
    },
    {
     "name": "stdout",
     "output_type": "stream",
     "text": [
      "TRAIN: acc: 1.000, precision: 1.000, recall: 1.000, spec: 1.000\n",
      "TEST: acc: 0.667, precision: 0.636, recall: 0.778, spec: 0.556\n",
      "func:'rf_models'  took: 0.3384 sec\n",
      "\n",
      "NEK2_binding_MOE_UNDER_BRFC_BCW_fold2\n"
     ]
    },
    {
     "name": "stderr",
     "output_type": "stream",
     "text": [
      "/Users/jayceepang/miniconda3/envs/atom2024/lib/python3.9/site-packages/imblearn/ensemble/_forest.py:577: FutureWarning: The default of `sampling_strategy` will change from `'auto'` to `'all'` in version 0.13. This change will follow the implementation proposed in the original paper. Set to `'all'` to silence this warning and adopt the future behaviour.\n",
      "  warn(\n",
      "/Users/jayceepang/miniconda3/envs/atom2024/lib/python3.9/site-packages/imblearn/ensemble/_forest.py:589: FutureWarning: The default of `replacement` will change from `False` to `True` in version 0.13. This change will follow the implementation proposed in the original paper. Set to `True` to silence this warning and adopt the future behaviour.\n",
      "  warn(\n"
     ]
    },
    {
     "name": "stdout",
     "output_type": "stream",
     "text": [
      "TRAIN: acc: 1.000, precision: 1.000, recall: 1.000, spec: 1.000\n",
      "TEST: acc: 0.611, precision: 0.583, recall: 0.778, spec: 0.444\n",
      "func:'rf_models'  took: 0.3460 sec\n",
      "\n",
      "NEK2_binding_MOE_UNDER_RF_fold3\n",
      "TRAIN: acc: 1.000, precision: 1.000, recall: 1.000, spec: 1.000\n",
      "TEST: acc: 0.833, precision: 0.800, recall: 0.889, spec: 0.778\n",
      "func:'rf_models'  took: 0.3093 sec\n",
      "\n",
      "NEK2_binding_MOE_UNDER_RF_BCW_fold3\n",
      "TRAIN: acc: 1.000, precision: 1.000, recall: 1.000, spec: 1.000\n",
      "TEST: acc: 0.833, precision: 0.800, recall: 0.889, spec: 0.778\n",
      "func:'rf_models'  took: 0.3651 sec\n",
      "\n",
      "NEK2_binding_MOE_UNDER_BRFC_fold3\n"
     ]
    },
    {
     "name": "stderr",
     "output_type": "stream",
     "text": [
      "/Users/jayceepang/miniconda3/envs/atom2024/lib/python3.9/site-packages/imblearn/ensemble/_forest.py:577: FutureWarning: The default of `sampling_strategy` will change from `'auto'` to `'all'` in version 0.13. This change will follow the implementation proposed in the original paper. Set to `'all'` to silence this warning and adopt the future behaviour.\n",
      "  warn(\n",
      "/Users/jayceepang/miniconda3/envs/atom2024/lib/python3.9/site-packages/imblearn/ensemble/_forest.py:589: FutureWarning: The default of `replacement` will change from `False` to `True` in version 0.13. This change will follow the implementation proposed in the original paper. Set to `True` to silence this warning and adopt the future behaviour.\n",
      "  warn(\n"
     ]
    },
    {
     "name": "stdout",
     "output_type": "stream",
     "text": [
      "TRAIN: acc: 1.000, precision: 1.000, recall: 1.000, spec: 1.000\n",
      "TEST: acc: 0.833, precision: 0.800, recall: 0.889, spec: 0.778\n",
      "func:'rf_models'  took: 0.3643 sec\n",
      "\n",
      "NEK2_binding_MOE_UNDER_BRFC_BCW_fold3\n"
     ]
    },
    {
     "name": "stderr",
     "output_type": "stream",
     "text": [
      "/Users/jayceepang/miniconda3/envs/atom2024/lib/python3.9/site-packages/imblearn/ensemble/_forest.py:577: FutureWarning: The default of `sampling_strategy` will change from `'auto'` to `'all'` in version 0.13. This change will follow the implementation proposed in the original paper. Set to `'all'` to silence this warning and adopt the future behaviour.\n",
      "  warn(\n",
      "/Users/jayceepang/miniconda3/envs/atom2024/lib/python3.9/site-packages/imblearn/ensemble/_forest.py:589: FutureWarning: The default of `replacement` will change from `False` to `True` in version 0.13. This change will follow the implementation proposed in the original paper. Set to `True` to silence this warning and adopt the future behaviour.\n",
      "  warn(\n"
     ]
    },
    {
     "name": "stdout",
     "output_type": "stream",
     "text": [
      "TRAIN: acc: 1.000, precision: 1.000, recall: 1.000, spec: 1.000\n",
      "TEST: acc: 0.833, precision: 0.800, recall: 0.889, spec: 0.778\n",
      "func:'rf_models'  took: 0.3491 sec\n",
      "\n",
      "NEK2_binding_MOE_UNDER_RF_fold4\n",
      "TRAIN: acc: 1.000, precision: 1.000, recall: 1.000, spec: 1.000\n",
      "TEST: acc: 0.556, precision: 0.556, recall: 0.556, spec: 0.556\n",
      "func:'rf_models'  took: 0.3117 sec\n",
      "\n",
      "NEK2_binding_MOE_UNDER_RF_BCW_fold4\n",
      "TRAIN: acc: 1.000, precision: 1.000, recall: 1.000, spec: 1.000\n",
      "TEST: acc: 0.500, precision: 0.500, recall: 0.556, spec: 0.444\n",
      "func:'rf_models'  took: 0.3090 sec\n",
      "\n",
      "NEK2_binding_MOE_UNDER_BRFC_fold4\n"
     ]
    },
    {
     "name": "stderr",
     "output_type": "stream",
     "text": [
      "/Users/jayceepang/miniconda3/envs/atom2024/lib/python3.9/site-packages/imblearn/ensemble/_forest.py:577: FutureWarning: The default of `sampling_strategy` will change from `'auto'` to `'all'` in version 0.13. This change will follow the implementation proposed in the original paper. Set to `'all'` to silence this warning and adopt the future behaviour.\n",
      "  warn(\n",
      "/Users/jayceepang/miniconda3/envs/atom2024/lib/python3.9/site-packages/imblearn/ensemble/_forest.py:589: FutureWarning: The default of `replacement` will change from `False` to `True` in version 0.13. This change will follow the implementation proposed in the original paper. Set to `True` to silence this warning and adopt the future behaviour.\n",
      "  warn(\n"
     ]
    },
    {
     "name": "stdout",
     "output_type": "stream",
     "text": [
      "TRAIN: acc: 1.000, precision: 1.000, recall: 1.000, spec: 1.000\n",
      "TEST: acc: 0.556, precision: 0.556, recall: 0.556, spec: 0.556\n",
      "func:'rf_models'  took: 0.3371 sec\n",
      "\n",
      "NEK2_binding_MOE_UNDER_BRFC_BCW_fold4\n"
     ]
    },
    {
     "name": "stderr",
     "output_type": "stream",
     "text": [
      "/Users/jayceepang/miniconda3/envs/atom2024/lib/python3.9/site-packages/imblearn/ensemble/_forest.py:577: FutureWarning: The default of `sampling_strategy` will change from `'auto'` to `'all'` in version 0.13. This change will follow the implementation proposed in the original paper. Set to `'all'` to silence this warning and adopt the future behaviour.\n",
      "  warn(\n",
      "/Users/jayceepang/miniconda3/envs/atom2024/lib/python3.9/site-packages/imblearn/ensemble/_forest.py:589: FutureWarning: The default of `replacement` will change from `False` to `True` in version 0.13. This change will follow the implementation proposed in the original paper. Set to `True` to silence this warning and adopt the future behaviour.\n",
      "  warn(\n"
     ]
    },
    {
     "name": "stdout",
     "output_type": "stream",
     "text": [
      "TRAIN: acc: 1.000, precision: 1.000, recall: 1.000, spec: 1.000\n",
      "TEST: acc: 0.500, precision: 0.500, recall: 0.556, spec: 0.444\n",
      "func:'rf_models'  took: 0.3635 sec\n",
      "\n",
      "NEK2_binding_MOE_UNDER_RF_fold5\n",
      "TRAIN: acc: 1.000, precision: 1.000, recall: 1.000, spec: 1.000\n",
      "TEST: acc: 0.556, precision: 0.538, recall: 0.778, spec: 0.333\n",
      "func:'rf_models'  took: 0.2712 sec\n",
      "\n",
      "NEK2_binding_MOE_UNDER_RF_BCW_fold5\n",
      "TRAIN: acc: 1.000, precision: 1.000, recall: 1.000, spec: 1.000\n",
      "TEST: acc: 0.667, precision: 0.615, recall: 0.889, spec: 0.444\n",
      "func:'rf_models'  took: 0.2769 sec\n",
      "\n",
      "NEK2_binding_MOE_UNDER_BRFC_fold5\n"
     ]
    },
    {
     "name": "stderr",
     "output_type": "stream",
     "text": [
      "/Users/jayceepang/miniconda3/envs/atom2024/lib/python3.9/site-packages/imblearn/ensemble/_forest.py:577: FutureWarning: The default of `sampling_strategy` will change from `'auto'` to `'all'` in version 0.13. This change will follow the implementation proposed in the original paper. Set to `'all'` to silence this warning and adopt the future behaviour.\n",
      "  warn(\n",
      "/Users/jayceepang/miniconda3/envs/atom2024/lib/python3.9/site-packages/imblearn/ensemble/_forest.py:589: FutureWarning: The default of `replacement` will change from `False` to `True` in version 0.13. This change will follow the implementation proposed in the original paper. Set to `True` to silence this warning and adopt the future behaviour.\n",
      "  warn(\n"
     ]
    },
    {
     "name": "stdout",
     "output_type": "stream",
     "text": [
      "TRAIN: acc: 1.000, precision: 1.000, recall: 1.000, spec: 1.000\n",
      "TEST: acc: 0.667, precision: 0.615, recall: 0.889, spec: 0.444\n",
      "func:'rf_models'  took: 0.2958 sec\n",
      "\n",
      "NEK2_binding_MOE_UNDER_BRFC_BCW_fold5\n"
     ]
    },
    {
     "name": "stderr",
     "output_type": "stream",
     "text": [
      "/Users/jayceepang/miniconda3/envs/atom2024/lib/python3.9/site-packages/imblearn/ensemble/_forest.py:577: FutureWarning: The default of `sampling_strategy` will change from `'auto'` to `'all'` in version 0.13. This change will follow the implementation proposed in the original paper. Set to `'all'` to silence this warning and adopt the future behaviour.\n",
      "  warn(\n",
      "/Users/jayceepang/miniconda3/envs/atom2024/lib/python3.9/site-packages/imblearn/ensemble/_forest.py:589: FutureWarning: The default of `replacement` will change from `False` to `True` in version 0.13. This change will follow the implementation proposed in the original paper. Set to `True` to silence this warning and adopt the future behaviour.\n",
      "  warn(\n"
     ]
    },
    {
     "name": "stdout",
     "output_type": "stream",
     "text": [
      "TRAIN: acc: 1.000, precision: 1.000, recall: 1.000, spec: 1.000\n",
      "TEST: acc: 0.611, precision: 0.583, recall: 0.778, spec: 0.444\n",
      "func:'rf_models'  took: 0.3262 sec\n",
      "\n",
      "NEK2_binding_MOE_SMOTE_RF_fold1\n",
      "TRAIN: acc: 1.000, precision: 1.000, recall: 1.000, spec: 1.000\n",
      "TEST: acc: 0.958, precision: 0.942, recall: 0.977, spec: 0.940\n",
      "func:'rf_models'  took: 28.3557 sec\n",
      "\n",
      "NEK2_binding_MOE_SMOTE_RF_BCW_fold1\n",
      "TRAIN: acc: 1.000, precision: 1.000, recall: 1.000, spec: 1.000\n",
      "TEST: acc: 0.954, precision: 0.934, recall: 0.977, spec: 0.931\n",
      "func:'rf_models'  took: 28.3857 sec\n",
      "\n",
      "NEK2_binding_MOE_SMOTE_BRFC_fold1\n"
     ]
    },
    {
     "name": "stderr",
     "output_type": "stream",
     "text": [
      "/Users/jayceepang/miniconda3/envs/atom2024/lib/python3.9/site-packages/imblearn/ensemble/_forest.py:577: FutureWarning: The default of `sampling_strategy` will change from `'auto'` to `'all'` in version 0.13. This change will follow the implementation proposed in the original paper. Set to `'all'` to silence this warning and adopt the future behaviour.\n",
      "  warn(\n",
      "/Users/jayceepang/miniconda3/envs/atom2024/lib/python3.9/site-packages/imblearn/ensemble/_forest.py:589: FutureWarning: The default of `replacement` will change from `False` to `True` in version 0.13. This change will follow the implementation proposed in the original paper. Set to `True` to silence this warning and adopt the future behaviour.\n",
      "  warn(\n"
     ]
    },
    {
     "name": "stdout",
     "output_type": "stream",
     "text": [
      "TRAIN: acc: 1.000, precision: 1.000, recall: 1.000, spec: 1.000\n",
      "TEST: acc: 0.956, precision: 0.930, recall: 0.986, spec: 0.926\n",
      "func:'rf_models'  took: 27.8214 sec\n",
      "\n",
      "NEK2_binding_MOE_SMOTE_BRFC_BCW_fold1\n"
     ]
    },
    {
     "name": "stderr",
     "output_type": "stream",
     "text": [
      "/Users/jayceepang/miniconda3/envs/atom2024/lib/python3.9/site-packages/imblearn/ensemble/_forest.py:577: FutureWarning: The default of `sampling_strategy` will change from `'auto'` to `'all'` in version 0.13. This change will follow the implementation proposed in the original paper. Set to `'all'` to silence this warning and adopt the future behaviour.\n",
      "  warn(\n",
      "/Users/jayceepang/miniconda3/envs/atom2024/lib/python3.9/site-packages/imblearn/ensemble/_forest.py:589: FutureWarning: The default of `replacement` will change from `False` to `True` in version 0.13. This change will follow the implementation proposed in the original paper. Set to `True` to silence this warning and adopt the future behaviour.\n",
      "  warn(\n"
     ]
    },
    {
     "name": "stdout",
     "output_type": "stream",
     "text": [
      "TRAIN: acc: 1.000, precision: 1.000, recall: 1.000, spec: 1.000\n",
      "TEST: acc: 0.958, precision: 0.934, recall: 0.986, spec: 0.931\n",
      "func:'rf_models'  took: 30.6325 sec\n",
      "\n",
      "NEK2_binding_MOE_SMOTE_RF_fold2\n",
      "TRAIN: acc: 1.000, precision: 1.000, recall: 1.000, spec: 1.000\n",
      "TEST: acc: 0.970, precision: 0.959, recall: 0.981, spec: 0.958\n",
      "func:'rf_models'  took: 25.7430 sec\n",
      "\n",
      "NEK2_binding_MOE_SMOTE_RF_BCW_fold2\n",
      "TRAIN: acc: 1.000, precision: 1.000, recall: 1.000, spec: 1.000\n",
      "TEST: acc: 0.970, precision: 0.959, recall: 0.981, spec: 0.958\n",
      "func:'rf_models'  took: 26.0715 sec\n",
      "\n",
      "NEK2_binding_MOE_SMOTE_BRFC_fold2\n"
     ]
    },
    {
     "name": "stderr",
     "output_type": "stream",
     "text": [
      "/Users/jayceepang/miniconda3/envs/atom2024/lib/python3.9/site-packages/imblearn/ensemble/_forest.py:577: FutureWarning: The default of `sampling_strategy` will change from `'auto'` to `'all'` in version 0.13. This change will follow the implementation proposed in the original paper. Set to `'all'` to silence this warning and adopt the future behaviour.\n",
      "  warn(\n",
      "/Users/jayceepang/miniconda3/envs/atom2024/lib/python3.9/site-packages/imblearn/ensemble/_forest.py:589: FutureWarning: The default of `replacement` will change from `False` to `True` in version 0.13. This change will follow the implementation proposed in the original paper. Set to `True` to silence this warning and adopt the future behaviour.\n",
      "  warn(\n"
     ]
    },
    {
     "name": "stdout",
     "output_type": "stream",
     "text": [
      "TRAIN: acc: 1.000, precision: 1.000, recall: 1.000, spec: 1.000\n",
      "TEST: acc: 0.970, precision: 0.959, recall: 0.981, spec: 0.958\n",
      "func:'rf_models'  took: 27.4152 sec\n",
      "\n",
      "NEK2_binding_MOE_SMOTE_BRFC_BCW_fold2\n"
     ]
    },
    {
     "name": "stderr",
     "output_type": "stream",
     "text": [
      "/Users/jayceepang/miniconda3/envs/atom2024/lib/python3.9/site-packages/imblearn/ensemble/_forest.py:577: FutureWarning: The default of `sampling_strategy` will change from `'auto'` to `'all'` in version 0.13. This change will follow the implementation proposed in the original paper. Set to `'all'` to silence this warning and adopt the future behaviour.\n",
      "  warn(\n",
      "/Users/jayceepang/miniconda3/envs/atom2024/lib/python3.9/site-packages/imblearn/ensemble/_forest.py:589: FutureWarning: The default of `replacement` will change from `False` to `True` in version 0.13. This change will follow the implementation proposed in the original paper. Set to `True` to silence this warning and adopt the future behaviour.\n",
      "  warn(\n"
     ]
    },
    {
     "name": "stdout",
     "output_type": "stream",
     "text": [
      "TRAIN: acc: 1.000, precision: 1.000, recall: 1.000, spec: 1.000\n",
      "TEST: acc: 0.972, precision: 0.964, recall: 0.981, spec: 0.963\n",
      "func:'rf_models'  took: 25.5764 sec\n",
      "\n",
      "NEK2_binding_MOE_SMOTE_RF_fold3\n",
      "TRAIN: acc: 1.000, precision: 1.000, recall: 1.000, spec: 1.000\n",
      "TEST: acc: 0.954, precision: 0.941, recall: 0.968, spec: 0.940\n",
      "func:'rf_models'  took: 25.2371 sec\n",
      "\n",
      "NEK2_binding_MOE_SMOTE_RF_BCW_fold3\n",
      "TRAIN: acc: 1.000, precision: 1.000, recall: 1.000, spec: 1.000\n",
      "TEST: acc: 0.956, precision: 0.946, recall: 0.968, spec: 0.944\n",
      "func:'rf_models'  took: 26.4023 sec\n",
      "\n",
      "NEK2_binding_MOE_SMOTE_BRFC_fold3\n"
     ]
    },
    {
     "name": "stderr",
     "output_type": "stream",
     "text": [
      "/Users/jayceepang/miniconda3/envs/atom2024/lib/python3.9/site-packages/imblearn/ensemble/_forest.py:577: FutureWarning: The default of `sampling_strategy` will change from `'auto'` to `'all'` in version 0.13. This change will follow the implementation proposed in the original paper. Set to `'all'` to silence this warning and adopt the future behaviour.\n",
      "  warn(\n",
      "/Users/jayceepang/miniconda3/envs/atom2024/lib/python3.9/site-packages/imblearn/ensemble/_forest.py:589: FutureWarning: The default of `replacement` will change from `False` to `True` in version 0.13. This change will follow the implementation proposed in the original paper. Set to `True` to silence this warning and adopt the future behaviour.\n",
      "  warn(\n"
     ]
    },
    {
     "name": "stdout",
     "output_type": "stream",
     "text": [
      "TRAIN: acc: 1.000, precision: 1.000, recall: 1.000, spec: 1.000\n",
      "TEST: acc: 0.954, precision: 0.941, recall: 0.968, spec: 0.940\n",
      "func:'rf_models'  took: 25.2895 sec\n",
      "\n",
      "NEK2_binding_MOE_SMOTE_BRFC_BCW_fold3\n"
     ]
    },
    {
     "name": "stderr",
     "output_type": "stream",
     "text": [
      "/Users/jayceepang/miniconda3/envs/atom2024/lib/python3.9/site-packages/imblearn/ensemble/_forest.py:577: FutureWarning: The default of `sampling_strategy` will change from `'auto'` to `'all'` in version 0.13. This change will follow the implementation proposed in the original paper. Set to `'all'` to silence this warning and adopt the future behaviour.\n",
      "  warn(\n",
      "/Users/jayceepang/miniconda3/envs/atom2024/lib/python3.9/site-packages/imblearn/ensemble/_forest.py:589: FutureWarning: The default of `replacement` will change from `False` to `True` in version 0.13. This change will follow the implementation proposed in the original paper. Set to `True` to silence this warning and adopt the future behaviour.\n",
      "  warn(\n"
     ]
    },
    {
     "name": "stdout",
     "output_type": "stream",
     "text": [
      "TRAIN: acc: 1.000, precision: 1.000, recall: 1.000, spec: 1.000\n",
      "TEST: acc: 0.954, precision: 0.941, recall: 0.968, spec: 0.940\n",
      "func:'rf_models'  took: 26.0563 sec\n",
      "\n",
      "NEK2_binding_MOE_SMOTE_RF_fold4\n",
      "TRAIN: acc: 1.000, precision: 1.000, recall: 1.000, spec: 1.000\n",
      "TEST: acc: 0.949, precision: 0.922, recall: 0.981, spec: 0.917\n",
      "func:'rf_models'  took: 24.8691 sec\n",
      "\n",
      "NEK2_binding_MOE_SMOTE_RF_BCW_fold4\n",
      "TRAIN: acc: 1.000, precision: 1.000, recall: 1.000, spec: 1.000\n",
      "TEST: acc: 0.944, precision: 0.917, recall: 0.977, spec: 0.912\n",
      "func:'rf_models'  took: 26.0747 sec\n",
      "\n",
      "NEK2_binding_MOE_SMOTE_BRFC_fold4\n"
     ]
    },
    {
     "name": "stderr",
     "output_type": "stream",
     "text": [
      "/Users/jayceepang/miniconda3/envs/atom2024/lib/python3.9/site-packages/imblearn/ensemble/_forest.py:577: FutureWarning: The default of `sampling_strategy` will change from `'auto'` to `'all'` in version 0.13. This change will follow the implementation proposed in the original paper. Set to `'all'` to silence this warning and adopt the future behaviour.\n",
      "  warn(\n",
      "/Users/jayceepang/miniconda3/envs/atom2024/lib/python3.9/site-packages/imblearn/ensemble/_forest.py:589: FutureWarning: The default of `replacement` will change from `False` to `True` in version 0.13. This change will follow the implementation proposed in the original paper. Set to `True` to silence this warning and adopt the future behaviour.\n",
      "  warn(\n"
     ]
    },
    {
     "name": "stdout",
     "output_type": "stream",
     "text": [
      "TRAIN: acc: 1.000, precision: 1.000, recall: 1.000, spec: 1.000\n",
      "TEST: acc: 0.944, precision: 0.914, recall: 0.981, spec: 0.907\n",
      "func:'rf_models'  took: 25.4908 sec\n",
      "\n",
      "NEK2_binding_MOE_SMOTE_BRFC_BCW_fold4\n"
     ]
    },
    {
     "name": "stderr",
     "output_type": "stream",
     "text": [
      "/Users/jayceepang/miniconda3/envs/atom2024/lib/python3.9/site-packages/imblearn/ensemble/_forest.py:577: FutureWarning: The default of `sampling_strategy` will change from `'auto'` to `'all'` in version 0.13. This change will follow the implementation proposed in the original paper. Set to `'all'` to silence this warning and adopt the future behaviour.\n",
      "  warn(\n",
      "/Users/jayceepang/miniconda3/envs/atom2024/lib/python3.9/site-packages/imblearn/ensemble/_forest.py:589: FutureWarning: The default of `replacement` will change from `False` to `True` in version 0.13. This change will follow the implementation proposed in the original paper. Set to `True` to silence this warning and adopt the future behaviour.\n",
      "  warn(\n"
     ]
    },
    {
     "name": "stdout",
     "output_type": "stream",
     "text": [
      "TRAIN: acc: 1.000, precision: 1.000, recall: 1.000, spec: 1.000\n",
      "TEST: acc: 0.940, precision: 0.909, recall: 0.977, spec: 0.903\n",
      "func:'rf_models'  took: 26.4968 sec\n",
      "\n",
      "NEK2_binding_MOE_SMOTE_RF_fold5\n",
      "TRAIN: acc: 1.000, precision: 1.000, recall: 1.000, spec: 1.000\n",
      "TEST: acc: 0.965, precision: 0.963, recall: 0.968, spec: 0.963\n",
      "func:'rf_models'  took: 24.9898 sec\n",
      "\n",
      "NEK2_binding_MOE_SMOTE_RF_BCW_fold5\n",
      "TRAIN: acc: 1.000, precision: 1.000, recall: 1.000, spec: 1.000\n",
      "TEST: acc: 0.968, precision: 0.968, recall: 0.968, spec: 0.968\n",
      "func:'rf_models'  took: 25.4432 sec\n",
      "\n",
      "NEK2_binding_MOE_SMOTE_BRFC_fold5\n"
     ]
    },
    {
     "name": "stderr",
     "output_type": "stream",
     "text": [
      "/Users/jayceepang/miniconda3/envs/atom2024/lib/python3.9/site-packages/imblearn/ensemble/_forest.py:577: FutureWarning: The default of `sampling_strategy` will change from `'auto'` to `'all'` in version 0.13. This change will follow the implementation proposed in the original paper. Set to `'all'` to silence this warning and adopt the future behaviour.\n",
      "  warn(\n",
      "/Users/jayceepang/miniconda3/envs/atom2024/lib/python3.9/site-packages/imblearn/ensemble/_forest.py:589: FutureWarning: The default of `replacement` will change from `False` to `True` in version 0.13. This change will follow the implementation proposed in the original paper. Set to `True` to silence this warning and adopt the future behaviour.\n",
      "  warn(\n"
     ]
    },
    {
     "name": "stdout",
     "output_type": "stream",
     "text": [
      "TRAIN: acc: 1.000, precision: 1.000, recall: 1.000, spec: 1.000\n",
      "TEST: acc: 0.968, precision: 0.968, recall: 0.968, spec: 0.968\n",
      "func:'rf_models'  took: 25.3196 sec\n",
      "\n",
      "NEK2_binding_MOE_SMOTE_BRFC_BCW_fold5\n"
     ]
    },
    {
     "name": "stderr",
     "output_type": "stream",
     "text": [
      "/Users/jayceepang/miniconda3/envs/atom2024/lib/python3.9/site-packages/imblearn/ensemble/_forest.py:577: FutureWarning: The default of `sampling_strategy` will change from `'auto'` to `'all'` in version 0.13. This change will follow the implementation proposed in the original paper. Set to `'all'` to silence this warning and adopt the future behaviour.\n",
      "  warn(\n",
      "/Users/jayceepang/miniconda3/envs/atom2024/lib/python3.9/site-packages/imblearn/ensemble/_forest.py:589: FutureWarning: The default of `replacement` will change from `False` to `True` in version 0.13. This change will follow the implementation proposed in the original paper. Set to `True` to silence this warning and adopt the future behaviour.\n",
      "  warn(\n"
     ]
    },
    {
     "name": "stdout",
     "output_type": "stream",
     "text": [
      "TRAIN: acc: 1.000, precision: 1.000, recall: 1.000, spec: 1.000\n",
      "TEST: acc: 0.968, precision: 0.968, recall: 0.968, spec: 0.968\n",
      "func:'rf_models'  took: 26.0038 sec\n",
      "\n",
      "NEK2_binding_MOE_ADASYN_RF_fold1\n",
      "TRAIN: acc: 1.000, precision: 1.000, recall: 1.000, spec: 1.000\n",
      "TEST: acc: 0.961, precision: 0.950, recall: 0.972, spec: 0.949\n",
      "func:'rf_models'  took: 28.2428 sec\n",
      "\n",
      "NEK2_binding_MOE_ADASYN_RF_BCW_fold1\n",
      "TRAIN: acc: 1.000, precision: 1.000, recall: 1.000, spec: 1.000\n",
      "TEST: acc: 0.954, precision: 0.934, recall: 0.977, spec: 0.931\n",
      "func:'rf_models'  took: 29.3444 sec\n",
      "\n",
      "NEK2_binding_MOE_ADASYN_BRFC_fold1\n"
     ]
    },
    {
     "name": "stderr",
     "output_type": "stream",
     "text": [
      "/Users/jayceepang/miniconda3/envs/atom2024/lib/python3.9/site-packages/imblearn/ensemble/_forest.py:577: FutureWarning: The default of `sampling_strategy` will change from `'auto'` to `'all'` in version 0.13. This change will follow the implementation proposed in the original paper. Set to `'all'` to silence this warning and adopt the future behaviour.\n",
      "  warn(\n",
      "/Users/jayceepang/miniconda3/envs/atom2024/lib/python3.9/site-packages/imblearn/ensemble/_forest.py:589: FutureWarning: The default of `replacement` will change from `False` to `True` in version 0.13. This change will follow the implementation proposed in the original paper. Set to `True` to silence this warning and adopt the future behaviour.\n",
      "  warn(\n"
     ]
    },
    {
     "name": "stdout",
     "output_type": "stream",
     "text": [
      "TRAIN: acc: 1.000, precision: 1.000, recall: 1.000, spec: 1.000\n",
      "TEST: acc: 0.963, precision: 0.955, recall: 0.972, spec: 0.954\n",
      "func:'rf_models'  took: 27.3101 sec\n",
      "\n",
      "NEK2_binding_MOE_ADASYN_BRFC_BCW_fold1\n"
     ]
    },
    {
     "name": "stderr",
     "output_type": "stream",
     "text": [
      "/Users/jayceepang/miniconda3/envs/atom2024/lib/python3.9/site-packages/imblearn/ensemble/_forest.py:577: FutureWarning: The default of `sampling_strategy` will change from `'auto'` to `'all'` in version 0.13. This change will follow the implementation proposed in the original paper. Set to `'all'` to silence this warning and adopt the future behaviour.\n",
      "  warn(\n",
      "/Users/jayceepang/miniconda3/envs/atom2024/lib/python3.9/site-packages/imblearn/ensemble/_forest.py:589: FutureWarning: The default of `replacement` will change from `False` to `True` in version 0.13. This change will follow the implementation proposed in the original paper. Set to `True` to silence this warning and adopt the future behaviour.\n",
      "  warn(\n"
     ]
    },
    {
     "name": "stdout",
     "output_type": "stream",
     "text": [
      "TRAIN: acc: 1.000, precision: 1.000, recall: 1.000, spec: 1.000\n",
      "TEST: acc: 0.954, precision: 0.934, recall: 0.977, spec: 0.931\n",
      "func:'rf_models'  took: 29.1960 sec\n",
      "\n",
      "NEK2_binding_MOE_ADASYN_RF_fold2\n",
      "TRAIN: acc: 1.000, precision: 1.000, recall: 1.000, spec: 1.000\n",
      "TEST: acc: 0.968, precision: 0.959, recall: 0.977, spec: 0.958\n",
      "func:'rf_models'  took: 28.1820 sec\n",
      "\n",
      "NEK2_binding_MOE_ADASYN_RF_BCW_fold2\n",
      "TRAIN: acc: 1.000, precision: 1.000, recall: 1.000, spec: 1.000\n",
      "TEST: acc: 0.965, precision: 0.955, recall: 0.977, spec: 0.954\n",
      "func:'rf_models'  took: 26.8220 sec\n",
      "\n",
      "NEK2_binding_MOE_ADASYN_BRFC_fold2\n"
     ]
    },
    {
     "name": "stderr",
     "output_type": "stream",
     "text": [
      "/Users/jayceepang/miniconda3/envs/atom2024/lib/python3.9/site-packages/imblearn/ensemble/_forest.py:577: FutureWarning: The default of `sampling_strategy` will change from `'auto'` to `'all'` in version 0.13. This change will follow the implementation proposed in the original paper. Set to `'all'` to silence this warning and adopt the future behaviour.\n",
      "  warn(\n",
      "/Users/jayceepang/miniconda3/envs/atom2024/lib/python3.9/site-packages/imblearn/ensemble/_forest.py:589: FutureWarning: The default of `replacement` will change from `False` to `True` in version 0.13. This change will follow the implementation proposed in the original paper. Set to `True` to silence this warning and adopt the future behaviour.\n",
      "  warn(\n"
     ]
    },
    {
     "name": "stdout",
     "output_type": "stream",
     "text": [
      "TRAIN: acc: 1.000, precision: 1.000, recall: 1.000, spec: 1.000\n",
      "TEST: acc: 0.968, precision: 0.959, recall: 0.977, spec: 0.958\n",
      "func:'rf_models'  took: 26.1167 sec\n",
      "\n",
      "NEK2_binding_MOE_ADASYN_BRFC_BCW_fold2\n"
     ]
    },
    {
     "name": "stderr",
     "output_type": "stream",
     "text": [
      "/Users/jayceepang/miniconda3/envs/atom2024/lib/python3.9/site-packages/imblearn/ensemble/_forest.py:577: FutureWarning: The default of `sampling_strategy` will change from `'auto'` to `'all'` in version 0.13. This change will follow the implementation proposed in the original paper. Set to `'all'` to silence this warning and adopt the future behaviour.\n",
      "  warn(\n",
      "/Users/jayceepang/miniconda3/envs/atom2024/lib/python3.9/site-packages/imblearn/ensemble/_forest.py:589: FutureWarning: The default of `replacement` will change from `False` to `True` in version 0.13. This change will follow the implementation proposed in the original paper. Set to `True` to silence this warning and adopt the future behaviour.\n",
      "  warn(\n"
     ]
    },
    {
     "name": "stdout",
     "output_type": "stream",
     "text": [
      "TRAIN: acc: 1.000, precision: 1.000, recall: 1.000, spec: 1.000\n",
      "TEST: acc: 0.963, precision: 0.955, recall: 0.972, spec: 0.954\n",
      "func:'rf_models'  took: 26.4813 sec\n",
      "\n",
      "NEK2_binding_MOE_ADASYN_RF_fold3\n",
      "TRAIN: acc: 1.000, precision: 1.000, recall: 1.000, spec: 1.000\n",
      "TEST: acc: 0.944, precision: 0.914, recall: 0.981, spec: 0.907\n",
      "func:'rf_models'  took: 22.2954 sec\n",
      "\n",
      "NEK2_binding_MOE_ADASYN_RF_BCW_fold3\n",
      "TRAIN: acc: 1.000, precision: 1.000, recall: 1.000, spec: 1.000\n",
      "TEST: acc: 0.944, precision: 0.914, recall: 0.981, spec: 0.907\n",
      "func:'rf_models'  took: 23.1420 sec\n",
      "\n",
      "NEK2_binding_MOE_ADASYN_BRFC_fold3\n"
     ]
    },
    {
     "name": "stderr",
     "output_type": "stream",
     "text": [
      "/Users/jayceepang/miniconda3/envs/atom2024/lib/python3.9/site-packages/imblearn/ensemble/_forest.py:577: FutureWarning: The default of `sampling_strategy` will change from `'auto'` to `'all'` in version 0.13. This change will follow the implementation proposed in the original paper. Set to `'all'` to silence this warning and adopt the future behaviour.\n",
      "  warn(\n",
      "/Users/jayceepang/miniconda3/envs/atom2024/lib/python3.9/site-packages/imblearn/ensemble/_forest.py:589: FutureWarning: The default of `replacement` will change from `False` to `True` in version 0.13. This change will follow the implementation proposed in the original paper. Set to `True` to silence this warning and adopt the future behaviour.\n",
      "  warn(\n"
     ]
    },
    {
     "name": "stdout",
     "output_type": "stream",
     "text": [
      "TRAIN: acc: 1.000, precision: 1.000, recall: 1.000, spec: 1.000\n",
      "TEST: acc: 0.942, precision: 0.910, recall: 0.981, spec: 0.903\n",
      "func:'rf_models'  took: 22.5293 sec\n",
      "\n",
      "NEK2_binding_MOE_ADASYN_BRFC_BCW_fold3\n"
     ]
    },
    {
     "name": "stderr",
     "output_type": "stream",
     "text": [
      "/Users/jayceepang/miniconda3/envs/atom2024/lib/python3.9/site-packages/imblearn/ensemble/_forest.py:577: FutureWarning: The default of `sampling_strategy` will change from `'auto'` to `'all'` in version 0.13. This change will follow the implementation proposed in the original paper. Set to `'all'` to silence this warning and adopt the future behaviour.\n",
      "  warn(\n",
      "/Users/jayceepang/miniconda3/envs/atom2024/lib/python3.9/site-packages/imblearn/ensemble/_forest.py:589: FutureWarning: The default of `replacement` will change from `False` to `True` in version 0.13. This change will follow the implementation proposed in the original paper. Set to `True` to silence this warning and adopt the future behaviour.\n",
      "  warn(\n"
     ]
    },
    {
     "name": "stdout",
     "output_type": "stream",
     "text": [
      "TRAIN: acc: 1.000, precision: 1.000, recall: 1.000, spec: 1.000\n",
      "TEST: acc: 0.944, precision: 0.914, recall: 0.981, spec: 0.907\n",
      "func:'rf_models'  took: 23.4968 sec\n",
      "\n",
      "NEK2_binding_MOE_ADASYN_RF_fold4\n",
      "TRAIN: acc: 1.000, precision: 1.000, recall: 1.000, spec: 1.000\n",
      "TEST: acc: 0.954, precision: 0.938, recall: 0.972, spec: 0.935\n",
      "func:'rf_models'  took: 24.7592 sec\n",
      "\n",
      "NEK2_binding_MOE_ADASYN_RF_BCW_fold4\n",
      "TRAIN: acc: 1.000, precision: 1.000, recall: 1.000, spec: 1.000\n",
      "TEST: acc: 0.956, precision: 0.942, recall: 0.972, spec: 0.940\n",
      "func:'rf_models'  took: 25.1729 sec\n",
      "\n",
      "NEK2_binding_MOE_ADASYN_BRFC_fold4\n"
     ]
    },
    {
     "name": "stderr",
     "output_type": "stream",
     "text": [
      "/Users/jayceepang/miniconda3/envs/atom2024/lib/python3.9/site-packages/imblearn/ensemble/_forest.py:577: FutureWarning: The default of `sampling_strategy` will change from `'auto'` to `'all'` in version 0.13. This change will follow the implementation proposed in the original paper. Set to `'all'` to silence this warning and adopt the future behaviour.\n",
      "  warn(\n",
      "/Users/jayceepang/miniconda3/envs/atom2024/lib/python3.9/site-packages/imblearn/ensemble/_forest.py:589: FutureWarning: The default of `replacement` will change from `False` to `True` in version 0.13. This change will follow the implementation proposed in the original paper. Set to `True` to silence this warning and adopt the future behaviour.\n",
      "  warn(\n"
     ]
    },
    {
     "name": "stdout",
     "output_type": "stream",
     "text": [
      "TRAIN: acc: 1.000, precision: 1.000, recall: 1.000, spec: 1.000\n",
      "TEST: acc: 0.954, precision: 0.938, recall: 0.972, spec: 0.935\n",
      "func:'rf_models'  took: 25.5034 sec\n",
      "\n",
      "NEK2_binding_MOE_ADASYN_BRFC_BCW_fold4\n"
     ]
    },
    {
     "name": "stderr",
     "output_type": "stream",
     "text": [
      "/Users/jayceepang/miniconda3/envs/atom2024/lib/python3.9/site-packages/imblearn/ensemble/_forest.py:577: FutureWarning: The default of `sampling_strategy` will change from `'auto'` to `'all'` in version 0.13. This change will follow the implementation proposed in the original paper. Set to `'all'` to silence this warning and adopt the future behaviour.\n",
      "  warn(\n",
      "/Users/jayceepang/miniconda3/envs/atom2024/lib/python3.9/site-packages/imblearn/ensemble/_forest.py:589: FutureWarning: The default of `replacement` will change from `False` to `True` in version 0.13. This change will follow the implementation proposed in the original paper. Set to `True` to silence this warning and adopt the future behaviour.\n",
      "  warn(\n"
     ]
    },
    {
     "name": "stdout",
     "output_type": "stream",
     "text": [
      "TRAIN: acc: 1.000, precision: 1.000, recall: 1.000, spec: 1.000\n",
      "TEST: acc: 0.954, precision: 0.938, recall: 0.972, spec: 0.935\n",
      "func:'rf_models'  took: 25.4461 sec\n",
      "\n",
      "NEK2_binding_MOE_ADASYN_RF_fold5\n",
      "TRAIN: acc: 1.000, precision: 1.000, recall: 1.000, spec: 1.000\n",
      "TEST: acc: 0.970, precision: 0.955, recall: 0.986, spec: 0.954\n",
      "func:'rf_models'  took: 25.5997 sec\n",
      "\n",
      "NEK2_binding_MOE_ADASYN_RF_BCW_fold5\n",
      "TRAIN: acc: 1.000, precision: 1.000, recall: 1.000, spec: 1.000\n",
      "TEST: acc: 0.961, precision: 0.942, recall: 0.981, spec: 0.940\n",
      "func:'rf_models'  took: 26.1715 sec\n",
      "\n",
      "NEK2_binding_MOE_ADASYN_BRFC_fold5\n"
     ]
    },
    {
     "name": "stderr",
     "output_type": "stream",
     "text": [
      "/Users/jayceepang/miniconda3/envs/atom2024/lib/python3.9/site-packages/imblearn/ensemble/_forest.py:577: FutureWarning: The default of `sampling_strategy` will change from `'auto'` to `'all'` in version 0.13. This change will follow the implementation proposed in the original paper. Set to `'all'` to silence this warning and adopt the future behaviour.\n",
      "  warn(\n",
      "/Users/jayceepang/miniconda3/envs/atom2024/lib/python3.9/site-packages/imblearn/ensemble/_forest.py:589: FutureWarning: The default of `replacement` will change from `False` to `True` in version 0.13. This change will follow the implementation proposed in the original paper. Set to `True` to silence this warning and adopt the future behaviour.\n",
      "  warn(\n"
     ]
    },
    {
     "name": "stdout",
     "output_type": "stream",
     "text": [
      "TRAIN: acc: 1.000, precision: 1.000, recall: 1.000, spec: 1.000\n",
      "TEST: acc: 0.970, precision: 0.959, recall: 0.981, spec: 0.958\n",
      "func:'rf_models'  took: 29.0730 sec\n",
      "\n",
      "NEK2_binding_MOE_ADASYN_BRFC_BCW_fold5\n"
     ]
    },
    {
     "name": "stderr",
     "output_type": "stream",
     "text": [
      "/Users/jayceepang/miniconda3/envs/atom2024/lib/python3.9/site-packages/imblearn/ensemble/_forest.py:577: FutureWarning: The default of `sampling_strategy` will change from `'auto'` to `'all'` in version 0.13. This change will follow the implementation proposed in the original paper. Set to `'all'` to silence this warning and adopt the future behaviour.\n",
      "  warn(\n",
      "/Users/jayceepang/miniconda3/envs/atom2024/lib/python3.9/site-packages/imblearn/ensemble/_forest.py:589: FutureWarning: The default of `replacement` will change from `False` to `True` in version 0.13. This change will follow the implementation proposed in the original paper. Set to `True` to silence this warning and adopt the future behaviour.\n",
      "  warn(\n"
     ]
    },
    {
     "name": "stdout",
     "output_type": "stream",
     "text": [
      "TRAIN: acc: 1.000, precision: 1.000, recall: 1.000, spec: 1.000\n",
      "TEST: acc: 0.961, precision: 0.942, recall: 0.981, spec: 0.940\n",
      "func:'rf_models'  took: 28.6030 sec\n",
      "\n",
      "NEK2_binding_MFP_none_scaled_RF_fold1\n",
      "TRAIN: acc: 1.000, precision: 1.000, recall: 1.000, spec: 1.000\n",
      "TEST: acc: 0.956, precision: 0.400, recall: 0.222, spec: 0.986\n",
      "func:'rf_models'  took: 4.6147 sec\n",
      "\n",
      "NEK2_binding_MFP_none_scaled_RF_BCW_fold1\n",
      "TRAIN: acc: 1.000, precision: 1.000, recall: 1.000, spec: 1.000\n",
      "TEST: acc: 0.956, precision: 0.455, recall: 0.556, spec: 0.972\n",
      "func:'rf_models'  took: 1.7529 sec\n",
      "\n",
      "NEK2_binding_MFP_none_scaled_BRFC_fold1\n"
     ]
    },
    {
     "name": "stderr",
     "output_type": "stream",
     "text": [
      "/Users/jayceepang/miniconda3/envs/atom2024/lib/python3.9/site-packages/imblearn/ensemble/_forest.py:577: FutureWarning: The default of `sampling_strategy` will change from `'auto'` to `'all'` in version 0.13. This change will follow the implementation proposed in the original paper. Set to `'all'` to silence this warning and adopt the future behaviour.\n",
      "  warn(\n",
      "/Users/jayceepang/miniconda3/envs/atom2024/lib/python3.9/site-packages/imblearn/ensemble/_forest.py:589: FutureWarning: The default of `replacement` will change from `False` to `True` in version 0.13. This change will follow the implementation proposed in the original paper. Set to `True` to silence this warning and adopt the future behaviour.\n",
      "  warn(\n"
     ]
    },
    {
     "name": "stdout",
     "output_type": "stream",
     "text": [
      "TRAIN: acc: 0.828, precision: 0.188, recall: 1.000, spec: 0.821\n",
      "TEST: acc: 0.804, precision: 0.143, recall: 0.778, spec: 0.806\n",
      "func:'rf_models'  took: 0.2356 sec\n",
      "\n",
      "NEK2_binding_MFP_none_scaled_BRFC_BCW_fold1\n"
     ]
    },
    {
     "name": "stderr",
     "output_type": "stream",
     "text": [
      "/Users/jayceepang/miniconda3/envs/atom2024/lib/python3.9/site-packages/imblearn/ensemble/_forest.py:577: FutureWarning: The default of `sampling_strategy` will change from `'auto'` to `'all'` in version 0.13. This change will follow the implementation proposed in the original paper. Set to `'all'` to silence this warning and adopt the future behaviour.\n",
      "  warn(\n",
      "/Users/jayceepang/miniconda3/envs/atom2024/lib/python3.9/site-packages/imblearn/ensemble/_forest.py:589: FutureWarning: The default of `replacement` will change from `False` to `True` in version 0.13. This change will follow the implementation proposed in the original paper. Set to `True` to silence this warning and adopt the future behaviour.\n",
      "  warn(\n"
     ]
    },
    {
     "name": "stdout",
     "output_type": "stream",
     "text": [
      "TRAIN: acc: 0.453, precision: 0.068, recall: 1.000, spec: 0.431\n",
      "TEST: acc: 0.400, precision: 0.062, recall: 1.000, spec: 0.375\n",
      "func:'rf_models'  took: 0.3595 sec\n",
      "\n",
      "NEK2_binding_MFP_none_scaled_RF_fold2\n",
      "TRAIN: acc: 1.000, precision: 1.000, recall: 1.000, spec: 1.000\n",
      "TEST: acc: 0.938, precision: 0.308, recall: 0.444, spec: 0.958\n",
      "func:'rf_models'  took: 4.5150 sec\n",
      "\n",
      "NEK2_binding_MFP_none_scaled_RF_BCW_fold2\n",
      "TRAIN: acc: 1.000, precision: 1.000, recall: 1.000, spec: 1.000\n",
      "TEST: acc: 0.889, precision: 0.136, recall: 0.333, spec: 0.912\n",
      "func:'rf_models'  took: 1.9793 sec\n",
      "\n",
      "NEK2_binding_MFP_none_scaled_BRFC_fold2\n"
     ]
    },
    {
     "name": "stderr",
     "output_type": "stream",
     "text": [
      "/Users/jayceepang/miniconda3/envs/atom2024/lib/python3.9/site-packages/imblearn/ensemble/_forest.py:577: FutureWarning: The default of `sampling_strategy` will change from `'auto'` to `'all'` in version 0.13. This change will follow the implementation proposed in the original paper. Set to `'all'` to silence this warning and adopt the future behaviour.\n",
      "  warn(\n",
      "/Users/jayceepang/miniconda3/envs/atom2024/lib/python3.9/site-packages/imblearn/ensemble/_forest.py:589: FutureWarning: The default of `replacement` will change from `False` to `True` in version 0.13. This change will follow the implementation proposed in the original paper. Set to `True` to silence this warning and adopt the future behaviour.\n",
      "  warn(\n"
     ]
    },
    {
     "name": "stdout",
     "output_type": "stream",
     "text": [
      "TRAIN: acc: 0.844, precision: 0.205, recall: 1.000, spec: 0.838\n",
      "TEST: acc: 0.809, precision: 0.130, recall: 0.667, spec: 0.815\n",
      "func:'rf_models'  took: 0.2374 sec\n",
      "\n",
      "NEK2_binding_MFP_none_scaled_BRFC_BCW_fold2\n"
     ]
    },
    {
     "name": "stderr",
     "output_type": "stream",
     "text": [
      "/Users/jayceepang/miniconda3/envs/atom2024/lib/python3.9/site-packages/imblearn/ensemble/_forest.py:577: FutureWarning: The default of `sampling_strategy` will change from `'auto'` to `'all'` in version 0.13. This change will follow the implementation proposed in the original paper. Set to `'all'` to silence this warning and adopt the future behaviour.\n",
      "  warn(\n",
      "/Users/jayceepang/miniconda3/envs/atom2024/lib/python3.9/site-packages/imblearn/ensemble/_forest.py:589: FutureWarning: The default of `replacement` will change from `False` to `True` in version 0.13. This change will follow the implementation proposed in the original paper. Set to `True` to silence this warning and adopt the future behaviour.\n",
      "  warn(\n"
     ]
    },
    {
     "name": "stdout",
     "output_type": "stream",
     "text": [
      "TRAIN: acc: 0.441, precision: 0.067, recall: 1.000, spec: 0.418\n",
      "TEST: acc: 0.427, precision: 0.059, recall: 0.889, spec: 0.407\n",
      "func:'rf_models'  took: 0.3585 sec\n",
      "\n",
      "NEK2_binding_MFP_none_scaled_RF_fold3\n",
      "TRAIN: acc: 1.000, precision: 1.000, recall: 1.000, spec: 1.000\n",
      "TEST: acc: 0.960, precision: 0.500, recall: 0.556, spec: 0.977\n",
      "func:'rf_models'  took: 3.2601 sec\n",
      "\n",
      "NEK2_binding_MFP_none_scaled_RF_BCW_fold3\n",
      "TRAIN: acc: 1.000, precision: 1.000, recall: 1.000, spec: 1.000\n",
      "TEST: acc: 0.933, precision: 0.250, recall: 0.333, spec: 0.958\n",
      "func:'rf_models'  took: 2.1777 sec\n",
      "\n",
      "NEK2_binding_MFP_none_scaled_BRFC_fold3\n"
     ]
    },
    {
     "name": "stderr",
     "output_type": "stream",
     "text": [
      "/Users/jayceepang/miniconda3/envs/atom2024/lib/python3.9/site-packages/imblearn/ensemble/_forest.py:577: FutureWarning: The default of `sampling_strategy` will change from `'auto'` to `'all'` in version 0.13. This change will follow the implementation proposed in the original paper. Set to `'all'` to silence this warning and adopt the future behaviour.\n",
      "  warn(\n",
      "/Users/jayceepang/miniconda3/envs/atom2024/lib/python3.9/site-packages/imblearn/ensemble/_forest.py:589: FutureWarning: The default of `replacement` will change from `False` to `True` in version 0.13. This change will follow the implementation proposed in the original paper. Set to `True` to silence this warning and adopt the future behaviour.\n",
      "  warn(\n"
     ]
    },
    {
     "name": "stdout",
     "output_type": "stream",
     "text": [
      "TRAIN: acc: 0.842, precision: 0.202, recall: 1.000, spec: 0.836\n",
      "TEST: acc: 0.760, precision: 0.105, recall: 0.667, spec: 0.764\n",
      "func:'rf_models'  took: 0.2503 sec\n",
      "\n",
      "NEK2_binding_MFP_none_scaled_BRFC_BCW_fold3\n"
     ]
    },
    {
     "name": "stderr",
     "output_type": "stream",
     "text": [
      "/Users/jayceepang/miniconda3/envs/atom2024/lib/python3.9/site-packages/imblearn/ensemble/_forest.py:577: FutureWarning: The default of `sampling_strategy` will change from `'auto'` to `'all'` in version 0.13. This change will follow the implementation proposed in the original paper. Set to `'all'` to silence this warning and adopt the future behaviour.\n",
      "  warn(\n",
      "/Users/jayceepang/miniconda3/envs/atom2024/lib/python3.9/site-packages/imblearn/ensemble/_forest.py:589: FutureWarning: The default of `replacement` will change from `False` to `True` in version 0.13. This change will follow the implementation proposed in the original paper. Set to `True` to silence this warning and adopt the future behaviour.\n",
      "  warn(\n"
     ]
    },
    {
     "name": "stdout",
     "output_type": "stream",
     "text": [
      "TRAIN: acc: 0.497, precision: 0.074, recall: 1.000, spec: 0.476\n",
      "TEST: acc: 0.480, precision: 0.057, recall: 0.778, spec: 0.468\n",
      "func:'rf_models'  took: 0.3477 sec\n",
      "\n",
      "NEK2_binding_MFP_none_scaled_RF_fold4\n",
      "TRAIN: acc: 1.000, precision: 1.000, recall: 1.000, spec: 1.000\n",
      "TEST: acc: 0.964, precision: 0.667, recall: 0.222, spec: 0.995\n",
      "func:'rf_models'  took: 4.3610 sec\n",
      "\n",
      "NEK2_binding_MFP_none_scaled_RF_BCW_fold4\n",
      "TRAIN: acc: 1.000, precision: 1.000, recall: 1.000, spec: 1.000\n",
      "TEST: acc: 0.929, precision: 0.267, recall: 0.444, spec: 0.949\n",
      "func:'rf_models'  took: 1.8585 sec\n",
      "\n",
      "NEK2_binding_MFP_none_scaled_BRFC_fold4\n"
     ]
    },
    {
     "name": "stderr",
     "output_type": "stream",
     "text": [
      "/Users/jayceepang/miniconda3/envs/atom2024/lib/python3.9/site-packages/imblearn/ensemble/_forest.py:577: FutureWarning: The default of `sampling_strategy` will change from `'auto'` to `'all'` in version 0.13. This change will follow the implementation proposed in the original paper. Set to `'all'` to silence this warning and adopt the future behaviour.\n",
      "  warn(\n",
      "/Users/jayceepang/miniconda3/envs/atom2024/lib/python3.9/site-packages/imblearn/ensemble/_forest.py:589: FutureWarning: The default of `replacement` will change from `False` to `True` in version 0.13. This change will follow the implementation proposed in the original paper. Set to `True` to silence this warning and adopt the future behaviour.\n",
      "  warn(\n"
     ]
    },
    {
     "name": "stdout",
     "output_type": "stream",
     "text": [
      "TRAIN: acc: 0.858, precision: 0.220, recall: 1.000, spec: 0.852\n",
      "TEST: acc: 0.831, precision: 0.128, recall: 0.556, spec: 0.843\n",
      "func:'rf_models'  took: 0.2361 sec\n",
      "\n",
      "NEK2_binding_MFP_none_scaled_BRFC_BCW_fold4\n"
     ]
    },
    {
     "name": "stderr",
     "output_type": "stream",
     "text": [
      "/Users/jayceepang/miniconda3/envs/atom2024/lib/python3.9/site-packages/imblearn/ensemble/_forest.py:577: FutureWarning: The default of `sampling_strategy` will change from `'auto'` to `'all'` in version 0.13. This change will follow the implementation proposed in the original paper. Set to `'all'` to silence this warning and adopt the future behaviour.\n",
      "  warn(\n",
      "/Users/jayceepang/miniconda3/envs/atom2024/lib/python3.9/site-packages/imblearn/ensemble/_forest.py:589: FutureWarning: The default of `replacement` will change from `False` to `True` in version 0.13. This change will follow the implementation proposed in the original paper. Set to `True` to silence this warning and adopt the future behaviour.\n",
      "  warn(\n"
     ]
    },
    {
     "name": "stdout",
     "output_type": "stream",
     "text": [
      "TRAIN: acc: 0.438, precision: 0.066, recall: 1.000, spec: 0.414\n",
      "TEST: acc: 0.404, precision: 0.050, recall: 0.778, spec: 0.389\n",
      "func:'rf_models'  took: 0.3405 sec\n",
      "\n",
      "NEK2_binding_MFP_none_scaled_RF_fold5\n",
      "TRAIN: acc: 1.000, precision: 1.000, recall: 1.000, spec: 1.000\n",
      "TEST: acc: 0.924, precision: 0.167, recall: 0.222, spec: 0.954\n",
      "func:'rf_models'  took: 4.8182 sec\n",
      "\n",
      "NEK2_binding_MFP_none_scaled_RF_BCW_fold5\n",
      "TRAIN: acc: 1.000, precision: 1.000, recall: 1.000, spec: 1.000\n",
      "TEST: acc: 0.956, precision: 0.467, recall: 0.778, spec: 0.963\n",
      "func:'rf_models'  took: 1.8059 sec\n",
      "\n",
      "NEK2_binding_MFP_none_scaled_BRFC_fold5\n"
     ]
    },
    {
     "name": "stderr",
     "output_type": "stream",
     "text": [
      "/Users/jayceepang/miniconda3/envs/atom2024/lib/python3.9/site-packages/imblearn/ensemble/_forest.py:577: FutureWarning: The default of `sampling_strategy` will change from `'auto'` to `'all'` in version 0.13. This change will follow the implementation proposed in the original paper. Set to `'all'` to silence this warning and adopt the future behaviour.\n",
      "  warn(\n",
      "/Users/jayceepang/miniconda3/envs/atom2024/lib/python3.9/site-packages/imblearn/ensemble/_forest.py:589: FutureWarning: The default of `replacement` will change from `False` to `True` in version 0.13. This change will follow the implementation proposed in the original paper. Set to `True` to silence this warning and adopt the future behaviour.\n",
      "  warn(\n"
     ]
    },
    {
     "name": "stdout",
     "output_type": "stream",
     "text": [
      "TRAIN: acc: 0.830, precision: 0.190, recall: 1.000, spec: 0.823\n",
      "TEST: acc: 0.764, precision: 0.121, recall: 0.778, spec: 0.764\n",
      "func:'rf_models'  took: 0.2464 sec\n",
      "\n",
      "NEK2_binding_MFP_none_scaled_BRFC_BCW_fold5\n"
     ]
    },
    {
     "name": "stderr",
     "output_type": "stream",
     "text": [
      "/Users/jayceepang/miniconda3/envs/atom2024/lib/python3.9/site-packages/imblearn/ensemble/_forest.py:577: FutureWarning: The default of `sampling_strategy` will change from `'auto'` to `'all'` in version 0.13. This change will follow the implementation proposed in the original paper. Set to `'all'` to silence this warning and adopt the future behaviour.\n",
      "  warn(\n",
      "/Users/jayceepang/miniconda3/envs/atom2024/lib/python3.9/site-packages/imblearn/ensemble/_forest.py:589: FutureWarning: The default of `replacement` will change from `False` to `True` in version 0.13. This change will follow the implementation proposed in the original paper. Set to `True` to silence this warning and adopt the future behaviour.\n",
      "  warn(\n"
     ]
    },
    {
     "name": "stdout",
     "output_type": "stream",
     "text": [
      "TRAIN: acc: 0.461, precision: 0.069, recall: 1.000, spec: 0.439\n",
      "TEST: acc: 0.409, precision: 0.051, recall: 0.778, spec: 0.394\n",
      "func:'rf_models'  took: 0.3621 sec\n",
      "\n",
      "NEK2_binding_MFP_UNDER_RF_fold1\n",
      "TRAIN: acc: 1.000, precision: 1.000, recall: 1.000, spec: 1.000\n",
      "TEST: acc: 0.889, precision: 0.818, recall: 1.000, spec: 0.778\n",
      "func:'rf_models'  took: 0.1760 sec\n",
      "\n",
      "NEK2_binding_MFP_UNDER_RF_BCW_fold1\n",
      "TRAIN: acc: 1.000, precision: 1.000, recall: 1.000, spec: 1.000\n",
      "TEST: acc: 0.889, precision: 0.818, recall: 1.000, spec: 0.778\n",
      "func:'rf_models'  took: 0.1806 sec\n",
      "\n",
      "NEK2_binding_MFP_UNDER_BRFC_fold1\n"
     ]
    },
    {
     "name": "stderr",
     "output_type": "stream",
     "text": [
      "/Users/jayceepang/miniconda3/envs/atom2024/lib/python3.9/site-packages/imblearn/ensemble/_forest.py:577: FutureWarning: The default of `sampling_strategy` will change from `'auto'` to `'all'` in version 0.13. This change will follow the implementation proposed in the original paper. Set to `'all'` to silence this warning and adopt the future behaviour.\n",
      "  warn(\n",
      "/Users/jayceepang/miniconda3/envs/atom2024/lib/python3.9/site-packages/imblearn/ensemble/_forest.py:589: FutureWarning: The default of `replacement` will change from `False` to `True` in version 0.13. This change will follow the implementation proposed in the original paper. Set to `True` to silence this warning and adopt the future behaviour.\n",
      "  warn(\n"
     ]
    },
    {
     "name": "stdout",
     "output_type": "stream",
     "text": [
      "TRAIN: acc: 1.000, precision: 1.000, recall: 1.000, spec: 1.000\n",
      "TEST: acc: 0.889, precision: 0.818, recall: 1.000, spec: 0.778\n",
      "func:'rf_models'  took: 0.2378 sec\n",
      "\n",
      "NEK2_binding_MFP_UNDER_BRFC_BCW_fold1\n"
     ]
    },
    {
     "name": "stderr",
     "output_type": "stream",
     "text": [
      "/Users/jayceepang/miniconda3/envs/atom2024/lib/python3.9/site-packages/imblearn/ensemble/_forest.py:577: FutureWarning: The default of `sampling_strategy` will change from `'auto'` to `'all'` in version 0.13. This change will follow the implementation proposed in the original paper. Set to `'all'` to silence this warning and adopt the future behaviour.\n",
      "  warn(\n",
      "/Users/jayceepang/miniconda3/envs/atom2024/lib/python3.9/site-packages/imblearn/ensemble/_forest.py:589: FutureWarning: The default of `replacement` will change from `False` to `True` in version 0.13. This change will follow the implementation proposed in the original paper. Set to `True` to silence this warning and adopt the future behaviour.\n",
      "  warn(\n"
     ]
    },
    {
     "name": "stdout",
     "output_type": "stream",
     "text": [
      "TRAIN: acc: 1.000, precision: 1.000, recall: 1.000, spec: 1.000\n",
      "TEST: acc: 0.889, precision: 0.818, recall: 1.000, spec: 0.778\n",
      "func:'rf_models'  took: 0.2441 sec\n",
      "\n",
      "NEK2_binding_MFP_UNDER_RF_fold2\n",
      "TRAIN: acc: 1.000, precision: 1.000, recall: 1.000, spec: 1.000\n",
      "TEST: acc: 0.722, precision: 0.750, recall: 0.667, spec: 0.778\n",
      "func:'rf_models'  took: 0.1555 sec\n",
      "\n",
      "NEK2_binding_MFP_UNDER_RF_BCW_fold2\n",
      "TRAIN: acc: 1.000, precision: 1.000, recall: 1.000, spec: 1.000\n",
      "TEST: acc: 0.667, precision: 0.667, recall: 0.667, spec: 0.667\n",
      "func:'rf_models'  took: 0.1594 sec\n",
      "\n",
      "NEK2_binding_MFP_UNDER_BRFC_fold2\n"
     ]
    },
    {
     "name": "stderr",
     "output_type": "stream",
     "text": [
      "/Users/jayceepang/miniconda3/envs/atom2024/lib/python3.9/site-packages/imblearn/ensemble/_forest.py:577: FutureWarning: The default of `sampling_strategy` will change from `'auto'` to `'all'` in version 0.13. This change will follow the implementation proposed in the original paper. Set to `'all'` to silence this warning and adopt the future behaviour.\n",
      "  warn(\n",
      "/Users/jayceepang/miniconda3/envs/atom2024/lib/python3.9/site-packages/imblearn/ensemble/_forest.py:589: FutureWarning: The default of `replacement` will change from `False` to `True` in version 0.13. This change will follow the implementation proposed in the original paper. Set to `True` to silence this warning and adopt the future behaviour.\n",
      "  warn(\n"
     ]
    },
    {
     "name": "stdout",
     "output_type": "stream",
     "text": [
      "TRAIN: acc: 1.000, precision: 1.000, recall: 1.000, spec: 1.000\n",
      "TEST: acc: 0.667, precision: 0.667, recall: 0.667, spec: 0.667\n",
      "func:'rf_models'  took: 0.2166 sec\n",
      "\n",
      "NEK2_binding_MFP_UNDER_BRFC_BCW_fold2\n"
     ]
    },
    {
     "name": "stderr",
     "output_type": "stream",
     "text": [
      "/Users/jayceepang/miniconda3/envs/atom2024/lib/python3.9/site-packages/imblearn/ensemble/_forest.py:577: FutureWarning: The default of `sampling_strategy` will change from `'auto'` to `'all'` in version 0.13. This change will follow the implementation proposed in the original paper. Set to `'all'` to silence this warning and adopt the future behaviour.\n",
      "  warn(\n",
      "/Users/jayceepang/miniconda3/envs/atom2024/lib/python3.9/site-packages/imblearn/ensemble/_forest.py:589: FutureWarning: The default of `replacement` will change from `False` to `True` in version 0.13. This change will follow the implementation proposed in the original paper. Set to `True` to silence this warning and adopt the future behaviour.\n",
      "  warn(\n"
     ]
    },
    {
     "name": "stdout",
     "output_type": "stream",
     "text": [
      "TRAIN: acc: 1.000, precision: 1.000, recall: 1.000, spec: 1.000\n",
      "TEST: acc: 0.722, precision: 0.750, recall: 0.667, spec: 0.778\n",
      "func:'rf_models'  took: 0.2189 sec\n",
      "\n",
      "NEK2_binding_MFP_UNDER_RF_fold3\n",
      "TRAIN: acc: 1.000, precision: 1.000, recall: 1.000, spec: 1.000\n",
      "TEST: acc: 0.611, precision: 0.600, recall: 0.667, spec: 0.556\n",
      "func:'rf_models'  took: 0.1553 sec\n",
      "\n",
      "NEK2_binding_MFP_UNDER_RF_BCW_fold3\n",
      "TRAIN: acc: 1.000, precision: 1.000, recall: 1.000, spec: 1.000\n",
      "TEST: acc: 0.667, precision: 0.667, recall: 0.667, spec: 0.667\n",
      "func:'rf_models'  took: 0.1584 sec\n",
      "\n",
      "NEK2_binding_MFP_UNDER_BRFC_fold3\n"
     ]
    },
    {
     "name": "stderr",
     "output_type": "stream",
     "text": [
      "/Users/jayceepang/miniconda3/envs/atom2024/lib/python3.9/site-packages/imblearn/ensemble/_forest.py:577: FutureWarning: The default of `sampling_strategy` will change from `'auto'` to `'all'` in version 0.13. This change will follow the implementation proposed in the original paper. Set to `'all'` to silence this warning and adopt the future behaviour.\n",
      "  warn(\n",
      "/Users/jayceepang/miniconda3/envs/atom2024/lib/python3.9/site-packages/imblearn/ensemble/_forest.py:589: FutureWarning: The default of `replacement` will change from `False` to `True` in version 0.13. This change will follow the implementation proposed in the original paper. Set to `True` to silence this warning and adopt the future behaviour.\n",
      "  warn(\n"
     ]
    },
    {
     "name": "stdout",
     "output_type": "stream",
     "text": [
      "TRAIN: acc: 1.000, precision: 1.000, recall: 1.000, spec: 1.000\n",
      "TEST: acc: 0.667, precision: 0.667, recall: 0.667, spec: 0.667\n",
      "func:'rf_models'  took: 0.2119 sec\n",
      "\n",
      "NEK2_binding_MFP_UNDER_BRFC_BCW_fold3\n"
     ]
    },
    {
     "name": "stderr",
     "output_type": "stream",
     "text": [
      "/Users/jayceepang/miniconda3/envs/atom2024/lib/python3.9/site-packages/imblearn/ensemble/_forest.py:577: FutureWarning: The default of `sampling_strategy` will change from `'auto'` to `'all'` in version 0.13. This change will follow the implementation proposed in the original paper. Set to `'all'` to silence this warning and adopt the future behaviour.\n",
      "  warn(\n",
      "/Users/jayceepang/miniconda3/envs/atom2024/lib/python3.9/site-packages/imblearn/ensemble/_forest.py:589: FutureWarning: The default of `replacement` will change from `False` to `True` in version 0.13. This change will follow the implementation proposed in the original paper. Set to `True` to silence this warning and adopt the future behaviour.\n",
      "  warn(\n"
     ]
    },
    {
     "name": "stdout",
     "output_type": "stream",
     "text": [
      "TRAIN: acc: 1.000, precision: 1.000, recall: 1.000, spec: 1.000\n",
      "TEST: acc: 0.667, precision: 0.667, recall: 0.667, spec: 0.667\n",
      "func:'rf_models'  took: 0.2171 sec\n",
      "\n",
      "NEK2_binding_MFP_UNDER_RF_fold4\n",
      "TRAIN: acc: 1.000, precision: 1.000, recall: 1.000, spec: 1.000\n",
      "TEST: acc: 0.833, precision: 0.875, recall: 0.778, spec: 0.889\n",
      "func:'rf_models'  took: 0.1661 sec\n",
      "\n",
      "NEK2_binding_MFP_UNDER_RF_BCW_fold4\n",
      "TRAIN: acc: 1.000, precision: 1.000, recall: 1.000, spec: 1.000\n",
      "TEST: acc: 0.833, precision: 0.875, recall: 0.778, spec: 0.889\n",
      "func:'rf_models'  took: 0.1704 sec\n",
      "\n",
      "NEK2_binding_MFP_UNDER_BRFC_fold4\n"
     ]
    },
    {
     "name": "stderr",
     "output_type": "stream",
     "text": [
      "/Users/jayceepang/miniconda3/envs/atom2024/lib/python3.9/site-packages/imblearn/ensemble/_forest.py:577: FutureWarning: The default of `sampling_strategy` will change from `'auto'` to `'all'` in version 0.13. This change will follow the implementation proposed in the original paper. Set to `'all'` to silence this warning and adopt the future behaviour.\n",
      "  warn(\n",
      "/Users/jayceepang/miniconda3/envs/atom2024/lib/python3.9/site-packages/imblearn/ensemble/_forest.py:589: FutureWarning: The default of `replacement` will change from `False` to `True` in version 0.13. This change will follow the implementation proposed in the original paper. Set to `True` to silence this warning and adopt the future behaviour.\n",
      "  warn(\n"
     ]
    },
    {
     "name": "stdout",
     "output_type": "stream",
     "text": [
      "TRAIN: acc: 1.000, precision: 1.000, recall: 1.000, spec: 1.000\n",
      "TEST: acc: 0.833, precision: 0.875, recall: 0.778, spec: 0.889\n",
      "func:'rf_models'  took: 0.2311 sec\n",
      "\n",
      "NEK2_binding_MFP_UNDER_BRFC_BCW_fold4\n"
     ]
    },
    {
     "name": "stderr",
     "output_type": "stream",
     "text": [
      "/Users/jayceepang/miniconda3/envs/atom2024/lib/python3.9/site-packages/imblearn/ensemble/_forest.py:577: FutureWarning: The default of `sampling_strategy` will change from `'auto'` to `'all'` in version 0.13. This change will follow the implementation proposed in the original paper. Set to `'all'` to silence this warning and adopt the future behaviour.\n",
      "  warn(\n",
      "/Users/jayceepang/miniconda3/envs/atom2024/lib/python3.9/site-packages/imblearn/ensemble/_forest.py:589: FutureWarning: The default of `replacement` will change from `False` to `True` in version 0.13. This change will follow the implementation proposed in the original paper. Set to `True` to silence this warning and adopt the future behaviour.\n",
      "  warn(\n"
     ]
    },
    {
     "name": "stdout",
     "output_type": "stream",
     "text": [
      "TRAIN: acc: 1.000, precision: 1.000, recall: 1.000, spec: 1.000\n",
      "TEST: acc: 0.833, precision: 0.875, recall: 0.778, spec: 0.889\n",
      "func:'rf_models'  took: 0.2309 sec\n",
      "\n",
      "NEK2_binding_MFP_UNDER_RF_fold5\n",
      "TRAIN: acc: 1.000, precision: 1.000, recall: 1.000, spec: 1.000\n",
      "TEST: acc: 0.778, precision: 0.778, recall: 0.778, spec: 0.778\n",
      "func:'rf_models'  took: 0.1822 sec\n",
      "\n",
      "NEK2_binding_MFP_UNDER_RF_BCW_fold5\n",
      "TRAIN: acc: 1.000, precision: 1.000, recall: 1.000, spec: 1.000\n",
      "TEST: acc: 0.778, precision: 0.778, recall: 0.778, spec: 0.778\n",
      "func:'rf_models'  took: 0.1866 sec\n",
      "\n",
      "NEK2_binding_MFP_UNDER_BRFC_fold5\n"
     ]
    },
    {
     "name": "stderr",
     "output_type": "stream",
     "text": [
      "/Users/jayceepang/miniconda3/envs/atom2024/lib/python3.9/site-packages/imblearn/ensemble/_forest.py:577: FutureWarning: The default of `sampling_strategy` will change from `'auto'` to `'all'` in version 0.13. This change will follow the implementation proposed in the original paper. Set to `'all'` to silence this warning and adopt the future behaviour.\n",
      "  warn(\n",
      "/Users/jayceepang/miniconda3/envs/atom2024/lib/python3.9/site-packages/imblearn/ensemble/_forest.py:589: FutureWarning: The default of `replacement` will change from `False` to `True` in version 0.13. This change will follow the implementation proposed in the original paper. Set to `True` to silence this warning and adopt the future behaviour.\n",
      "  warn(\n"
     ]
    },
    {
     "name": "stdout",
     "output_type": "stream",
     "text": [
      "TRAIN: acc: 1.000, precision: 1.000, recall: 1.000, spec: 1.000\n",
      "TEST: acc: 0.778, precision: 0.778, recall: 0.778, spec: 0.778\n",
      "func:'rf_models'  took: 0.2434 sec\n",
      "\n",
      "NEK2_binding_MFP_UNDER_BRFC_BCW_fold5\n"
     ]
    },
    {
     "name": "stderr",
     "output_type": "stream",
     "text": [
      "/Users/jayceepang/miniconda3/envs/atom2024/lib/python3.9/site-packages/imblearn/ensemble/_forest.py:577: FutureWarning: The default of `sampling_strategy` will change from `'auto'` to `'all'` in version 0.13. This change will follow the implementation proposed in the original paper. Set to `'all'` to silence this warning and adopt the future behaviour.\n",
      "  warn(\n",
      "/Users/jayceepang/miniconda3/envs/atom2024/lib/python3.9/site-packages/imblearn/ensemble/_forest.py:589: FutureWarning: The default of `replacement` will change from `False` to `True` in version 0.13. This change will follow the implementation proposed in the original paper. Set to `True` to silence this warning and adopt the future behaviour.\n",
      "  warn(\n"
     ]
    },
    {
     "name": "stdout",
     "output_type": "stream",
     "text": [
      "TRAIN: acc: 1.000, precision: 1.000, recall: 1.000, spec: 1.000\n",
      "TEST: acc: 0.722, precision: 0.700, recall: 0.778, spec: 0.667\n",
      "func:'rf_models'  took: 0.2464 sec\n",
      "\n",
      "NEK2_binding_MFP_SMOTE_RF_fold1\n",
      "TRAIN: acc: 1.000, precision: 1.000, recall: 1.000, spec: 1.000\n",
      "TEST: acc: 0.970, precision: 0.981, recall: 0.958, spec: 0.981\n",
      "func:'rf_models'  took: 7.5765 sec\n",
      "\n",
      "NEK2_binding_MFP_SMOTE_RF_BCW_fold1\n",
      "TRAIN: acc: 1.000, precision: 1.000, recall: 1.000, spec: 1.000\n",
      "TEST: acc: 0.970, precision: 0.981, recall: 0.958, spec: 0.981\n",
      "func:'rf_models'  took: 7.6501 sec\n",
      "\n",
      "NEK2_binding_MFP_SMOTE_BRFC_fold1\n"
     ]
    },
    {
     "name": "stderr",
     "output_type": "stream",
     "text": [
      "/Users/jayceepang/miniconda3/envs/atom2024/lib/python3.9/site-packages/imblearn/ensemble/_forest.py:577: FutureWarning: The default of `sampling_strategy` will change from `'auto'` to `'all'` in version 0.13. This change will follow the implementation proposed in the original paper. Set to `'all'` to silence this warning and adopt the future behaviour.\n",
      "  warn(\n",
      "/Users/jayceepang/miniconda3/envs/atom2024/lib/python3.9/site-packages/imblearn/ensemble/_forest.py:589: FutureWarning: The default of `replacement` will change from `False` to `True` in version 0.13. This change will follow the implementation proposed in the original paper. Set to `True` to silence this warning and adopt the future behaviour.\n",
      "  warn(\n"
     ]
    },
    {
     "name": "stdout",
     "output_type": "stream",
     "text": [
      "TRAIN: acc: 1.000, precision: 1.000, recall: 1.000, spec: 1.000\n",
      "TEST: acc: 0.970, precision: 0.981, recall: 0.958, spec: 0.981\n",
      "func:'rf_models'  took: 9.2824 sec\n",
      "\n",
      "NEK2_binding_MFP_SMOTE_BRFC_BCW_fold1\n"
     ]
    },
    {
     "name": "stderr",
     "output_type": "stream",
     "text": [
      "/Users/jayceepang/miniconda3/envs/atom2024/lib/python3.9/site-packages/imblearn/ensemble/_forest.py:577: FutureWarning: The default of `sampling_strategy` will change from `'auto'` to `'all'` in version 0.13. This change will follow the implementation proposed in the original paper. Set to `'all'` to silence this warning and adopt the future behaviour.\n",
      "  warn(\n",
      "/Users/jayceepang/miniconda3/envs/atom2024/lib/python3.9/site-packages/imblearn/ensemble/_forest.py:589: FutureWarning: The default of `replacement` will change from `False` to `True` in version 0.13. This change will follow the implementation proposed in the original paper. Set to `True` to silence this warning and adopt the future behaviour.\n",
      "  warn(\n"
     ]
    },
    {
     "name": "stdout",
     "output_type": "stream",
     "text": [
      "TRAIN: acc: 1.000, precision: 1.000, recall: 1.000, spec: 1.000\n",
      "TEST: acc: 0.970, precision: 0.981, recall: 0.958, spec: 0.981\n",
      "func:'rf_models'  took: 9.3439 sec\n",
      "\n",
      "NEK2_binding_MFP_SMOTE_RF_fold2\n",
      "TRAIN: acc: 1.000, precision: 1.000, recall: 1.000, spec: 1.000\n",
      "TEST: acc: 0.965, precision: 0.955, recall: 0.977, spec: 0.954\n",
      "func:'rf_models'  took: 6.5763 sec\n",
      "\n",
      "NEK2_binding_MFP_SMOTE_RF_BCW_fold2\n",
      "TRAIN: acc: 1.000, precision: 1.000, recall: 1.000, spec: 1.000\n",
      "TEST: acc: 0.965, precision: 0.955, recall: 0.977, spec: 0.954\n",
      "func:'rf_models'  took: 6.7526 sec\n",
      "\n",
      "NEK2_binding_MFP_SMOTE_BRFC_fold2\n"
     ]
    },
    {
     "name": "stderr",
     "output_type": "stream",
     "text": [
      "/Users/jayceepang/miniconda3/envs/atom2024/lib/python3.9/site-packages/imblearn/ensemble/_forest.py:577: FutureWarning: The default of `sampling_strategy` will change from `'auto'` to `'all'` in version 0.13. This change will follow the implementation proposed in the original paper. Set to `'all'` to silence this warning and adopt the future behaviour.\n",
      "  warn(\n",
      "/Users/jayceepang/miniconda3/envs/atom2024/lib/python3.9/site-packages/imblearn/ensemble/_forest.py:589: FutureWarning: The default of `replacement` will change from `False` to `True` in version 0.13. This change will follow the implementation proposed in the original paper. Set to `True` to silence this warning and adopt the future behaviour.\n",
      "  warn(\n"
     ]
    },
    {
     "name": "stdout",
     "output_type": "stream",
     "text": [
      "TRAIN: acc: 1.000, precision: 1.000, recall: 1.000, spec: 1.000\n",
      "TEST: acc: 0.965, precision: 0.955, recall: 0.977, spec: 0.954\n",
      "func:'rf_models'  took: 8.3845 sec\n",
      "\n",
      "NEK2_binding_MFP_SMOTE_BRFC_BCW_fold2\n"
     ]
    },
    {
     "name": "stderr",
     "output_type": "stream",
     "text": [
      "/Users/jayceepang/miniconda3/envs/atom2024/lib/python3.9/site-packages/imblearn/ensemble/_forest.py:577: FutureWarning: The default of `sampling_strategy` will change from `'auto'` to `'all'` in version 0.13. This change will follow the implementation proposed in the original paper. Set to `'all'` to silence this warning and adopt the future behaviour.\n",
      "  warn(\n",
      "/Users/jayceepang/miniconda3/envs/atom2024/lib/python3.9/site-packages/imblearn/ensemble/_forest.py:589: FutureWarning: The default of `replacement` will change from `False` to `True` in version 0.13. This change will follow the implementation proposed in the original paper. Set to `True` to silence this warning and adopt the future behaviour.\n",
      "  warn(\n"
     ]
    },
    {
     "name": "stdout",
     "output_type": "stream",
     "text": [
      "TRAIN: acc: 1.000, precision: 1.000, recall: 1.000, spec: 1.000\n",
      "TEST: acc: 0.963, precision: 0.950, recall: 0.977, spec: 0.949\n",
      "func:'rf_models'  took: 8.6321 sec\n",
      "\n",
      "NEK2_binding_MFP_SMOTE_RF_fold3\n",
      "TRAIN: acc: 1.000, precision: 1.000, recall: 1.000, spec: 1.000\n",
      "TEST: acc: 0.975, precision: 0.977, recall: 0.972, spec: 0.977\n",
      "func:'rf_models'  took: 6.4924 sec\n",
      "\n",
      "NEK2_binding_MFP_SMOTE_RF_BCW_fold3\n",
      "TRAIN: acc: 1.000, precision: 1.000, recall: 1.000, spec: 1.000\n",
      "TEST: acc: 0.975, precision: 0.977, recall: 0.972, spec: 0.977\n",
      "func:'rf_models'  took: 6.6323 sec\n",
      "\n",
      "NEK2_binding_MFP_SMOTE_BRFC_fold3\n"
     ]
    },
    {
     "name": "stderr",
     "output_type": "stream",
     "text": [
      "/Users/jayceepang/miniconda3/envs/atom2024/lib/python3.9/site-packages/imblearn/ensemble/_forest.py:577: FutureWarning: The default of `sampling_strategy` will change from `'auto'` to `'all'` in version 0.13. This change will follow the implementation proposed in the original paper. Set to `'all'` to silence this warning and adopt the future behaviour.\n",
      "  warn(\n",
      "/Users/jayceepang/miniconda3/envs/atom2024/lib/python3.9/site-packages/imblearn/ensemble/_forest.py:589: FutureWarning: The default of `replacement` will change from `False` to `True` in version 0.13. This change will follow the implementation proposed in the original paper. Set to `True` to silence this warning and adopt the future behaviour.\n",
      "  warn(\n"
     ]
    },
    {
     "name": "stdout",
     "output_type": "stream",
     "text": [
      "TRAIN: acc: 1.000, precision: 1.000, recall: 1.000, spec: 1.000\n",
      "TEST: acc: 0.972, precision: 0.972, recall: 0.972, spec: 0.972\n",
      "func:'rf_models'  took: 8.3367 sec\n",
      "\n",
      "NEK2_binding_MFP_SMOTE_BRFC_BCW_fold3\n"
     ]
    },
    {
     "name": "stderr",
     "output_type": "stream",
     "text": [
      "/Users/jayceepang/miniconda3/envs/atom2024/lib/python3.9/site-packages/imblearn/ensemble/_forest.py:577: FutureWarning: The default of `sampling_strategy` will change from `'auto'` to `'all'` in version 0.13. This change will follow the implementation proposed in the original paper. Set to `'all'` to silence this warning and adopt the future behaviour.\n",
      "  warn(\n",
      "/Users/jayceepang/miniconda3/envs/atom2024/lib/python3.9/site-packages/imblearn/ensemble/_forest.py:589: FutureWarning: The default of `replacement` will change from `False` to `True` in version 0.13. This change will follow the implementation proposed in the original paper. Set to `True` to silence this warning and adopt the future behaviour.\n",
      "  warn(\n"
     ]
    },
    {
     "name": "stdout",
     "output_type": "stream",
     "text": [
      "TRAIN: acc: 1.000, precision: 1.000, recall: 1.000, spec: 1.000\n",
      "TEST: acc: 0.975, precision: 0.977, recall: 0.972, spec: 0.977\n",
      "func:'rf_models'  took: 8.2695 sec\n",
      "\n",
      "NEK2_binding_MFP_SMOTE_RF_fold4\n",
      "TRAIN: acc: 1.000, precision: 1.000, recall: 1.000, spec: 1.000\n",
      "TEST: acc: 0.956, precision: 0.942, recall: 0.972, spec: 0.940\n",
      "func:'rf_models'  took: 6.4016 sec\n",
      "\n",
      "NEK2_binding_MFP_SMOTE_RF_BCW_fold4\n",
      "TRAIN: acc: 1.000, precision: 1.000, recall: 1.000, spec: 1.000\n",
      "TEST: acc: 0.956, precision: 0.942, recall: 0.972, spec: 0.940\n",
      "func:'rf_models'  took: 6.5489 sec\n",
      "\n",
      "NEK2_binding_MFP_SMOTE_BRFC_fold4\n"
     ]
    },
    {
     "name": "stderr",
     "output_type": "stream",
     "text": [
      "/Users/jayceepang/miniconda3/envs/atom2024/lib/python3.9/site-packages/imblearn/ensemble/_forest.py:577: FutureWarning: The default of `sampling_strategy` will change from `'auto'` to `'all'` in version 0.13. This change will follow the implementation proposed in the original paper. Set to `'all'` to silence this warning and adopt the future behaviour.\n",
      "  warn(\n",
      "/Users/jayceepang/miniconda3/envs/atom2024/lib/python3.9/site-packages/imblearn/ensemble/_forest.py:589: FutureWarning: The default of `replacement` will change from `False` to `True` in version 0.13. This change will follow the implementation proposed in the original paper. Set to `True` to silence this warning and adopt the future behaviour.\n",
      "  warn(\n"
     ]
    },
    {
     "name": "stdout",
     "output_type": "stream",
     "text": [
      "TRAIN: acc: 1.000, precision: 1.000, recall: 1.000, spec: 1.000\n",
      "TEST: acc: 0.954, precision: 0.938, recall: 0.972, spec: 0.935\n",
      "func:'rf_models'  took: 8.0610 sec\n",
      "\n",
      "NEK2_binding_MFP_SMOTE_BRFC_BCW_fold4\n"
     ]
    },
    {
     "name": "stderr",
     "output_type": "stream",
     "text": [
      "/Users/jayceepang/miniconda3/envs/atom2024/lib/python3.9/site-packages/imblearn/ensemble/_forest.py:577: FutureWarning: The default of `sampling_strategy` will change from `'auto'` to `'all'` in version 0.13. This change will follow the implementation proposed in the original paper. Set to `'all'` to silence this warning and adopt the future behaviour.\n",
      "  warn(\n",
      "/Users/jayceepang/miniconda3/envs/atom2024/lib/python3.9/site-packages/imblearn/ensemble/_forest.py:589: FutureWarning: The default of `replacement` will change from `False` to `True` in version 0.13. This change will follow the implementation proposed in the original paper. Set to `True` to silence this warning and adopt the future behaviour.\n",
      "  warn(\n"
     ]
    },
    {
     "name": "stdout",
     "output_type": "stream",
     "text": [
      "TRAIN: acc: 1.000, precision: 1.000, recall: 1.000, spec: 1.000\n",
      "TEST: acc: 0.958, precision: 0.946, recall: 0.972, spec: 0.944\n",
      "func:'rf_models'  took: 8.1323 sec\n",
      "\n",
      "NEK2_binding_MFP_SMOTE_RF_fold5\n",
      "TRAIN: acc: 1.000, precision: 1.000, recall: 1.000, spec: 1.000\n",
      "TEST: acc: 0.949, precision: 0.937, recall: 0.963, spec: 0.935\n",
      "func:'rf_models'  took: 7.3331 sec\n",
      "\n",
      "NEK2_binding_MFP_SMOTE_RF_BCW_fold5\n",
      "TRAIN: acc: 1.000, precision: 1.000, recall: 1.000, spec: 1.000\n",
      "TEST: acc: 0.954, precision: 0.945, recall: 0.963, spec: 0.944\n",
      "func:'rf_models'  took: 7.6769 sec\n",
      "\n",
      "NEK2_binding_MFP_SMOTE_BRFC_fold5\n"
     ]
    },
    {
     "name": "stderr",
     "output_type": "stream",
     "text": [
      "/Users/jayceepang/miniconda3/envs/atom2024/lib/python3.9/site-packages/imblearn/ensemble/_forest.py:577: FutureWarning: The default of `sampling_strategy` will change from `'auto'` to `'all'` in version 0.13. This change will follow the implementation proposed in the original paper. Set to `'all'` to silence this warning and adopt the future behaviour.\n",
      "  warn(\n",
      "/Users/jayceepang/miniconda3/envs/atom2024/lib/python3.9/site-packages/imblearn/ensemble/_forest.py:589: FutureWarning: The default of `replacement` will change from `False` to `True` in version 0.13. This change will follow the implementation proposed in the original paper. Set to `True` to silence this warning and adopt the future behaviour.\n",
      "  warn(\n"
     ]
    },
    {
     "name": "stdout",
     "output_type": "stream",
     "text": [
      "TRAIN: acc: 1.000, precision: 1.000, recall: 1.000, spec: 1.000\n",
      "TEST: acc: 0.951, precision: 0.941, recall: 0.963, spec: 0.940\n",
      "func:'rf_models'  took: 9.2367 sec\n",
      "\n",
      "NEK2_binding_MFP_SMOTE_BRFC_BCW_fold5\n"
     ]
    },
    {
     "name": "stderr",
     "output_type": "stream",
     "text": [
      "/Users/jayceepang/miniconda3/envs/atom2024/lib/python3.9/site-packages/imblearn/ensemble/_forest.py:577: FutureWarning: The default of `sampling_strategy` will change from `'auto'` to `'all'` in version 0.13. This change will follow the implementation proposed in the original paper. Set to `'all'` to silence this warning and adopt the future behaviour.\n",
      "  warn(\n",
      "/Users/jayceepang/miniconda3/envs/atom2024/lib/python3.9/site-packages/imblearn/ensemble/_forest.py:589: FutureWarning: The default of `replacement` will change from `False` to `True` in version 0.13. This change will follow the implementation proposed in the original paper. Set to `True` to silence this warning and adopt the future behaviour.\n",
      "  warn(\n"
     ]
    },
    {
     "name": "stdout",
     "output_type": "stream",
     "text": [
      "TRAIN: acc: 1.000, precision: 1.000, recall: 1.000, spec: 1.000\n",
      "TEST: acc: 0.956, precision: 0.950, recall: 0.963, spec: 0.949\n",
      "func:'rf_models'  took: 9.3478 sec\n",
      "\n",
      "NEK2_binding_MFP_ADASYN_RF_fold1\n",
      "TRAIN: acc: 1.000, precision: 1.000, recall: 1.000, spec: 1.000\n",
      "TEST: acc: 0.977, precision: 0.990, recall: 0.963, spec: 0.991\n",
      "func:'rf_models'  took: 7.3991 sec\n",
      "\n",
      "NEK2_binding_MFP_ADASYN_RF_BCW_fold1\n",
      "TRAIN: acc: 1.000, precision: 1.000, recall: 1.000, spec: 1.000\n",
      "TEST: acc: 0.977, precision: 0.990, recall: 0.963, spec: 0.991\n",
      "func:'rf_models'  took: 7.5230 sec\n",
      "\n",
      "NEK2_binding_MFP_ADASYN_BRFC_fold1\n"
     ]
    },
    {
     "name": "stderr",
     "output_type": "stream",
     "text": [
      "/Users/jayceepang/miniconda3/envs/atom2024/lib/python3.9/site-packages/imblearn/ensemble/_forest.py:577: FutureWarning: The default of `sampling_strategy` will change from `'auto'` to `'all'` in version 0.13. This change will follow the implementation proposed in the original paper. Set to `'all'` to silence this warning and adopt the future behaviour.\n",
      "  warn(\n",
      "/Users/jayceepang/miniconda3/envs/atom2024/lib/python3.9/site-packages/imblearn/ensemble/_forest.py:589: FutureWarning: The default of `replacement` will change from `False` to `True` in version 0.13. This change will follow the implementation proposed in the original paper. Set to `True` to silence this warning and adopt the future behaviour.\n",
      "  warn(\n"
     ]
    },
    {
     "name": "stdout",
     "output_type": "stream",
     "text": [
      "TRAIN: acc: 1.000, precision: 1.000, recall: 1.000, spec: 1.000\n",
      "TEST: acc: 0.977, precision: 0.990, recall: 0.963, spec: 0.991\n",
      "func:'rf_models'  took: 8.7796 sec\n",
      "\n",
      "NEK2_binding_MFP_ADASYN_BRFC_BCW_fold1\n"
     ]
    },
    {
     "name": "stderr",
     "output_type": "stream",
     "text": [
      "/Users/jayceepang/miniconda3/envs/atom2024/lib/python3.9/site-packages/imblearn/ensemble/_forest.py:577: FutureWarning: The default of `sampling_strategy` will change from `'auto'` to `'all'` in version 0.13. This change will follow the implementation proposed in the original paper. Set to `'all'` to silence this warning and adopt the future behaviour.\n",
      "  warn(\n",
      "/Users/jayceepang/miniconda3/envs/atom2024/lib/python3.9/site-packages/imblearn/ensemble/_forest.py:589: FutureWarning: The default of `replacement` will change from `False` to `True` in version 0.13. This change will follow the implementation proposed in the original paper. Set to `True` to silence this warning and adopt the future behaviour.\n",
      "  warn(\n"
     ]
    },
    {
     "name": "stdout",
     "output_type": "stream",
     "text": [
      "TRAIN: acc: 1.000, precision: 1.000, recall: 1.000, spec: 1.000\n",
      "TEST: acc: 0.977, precision: 0.990, recall: 0.963, spec: 0.991\n",
      "func:'rf_models'  took: 8.3234 sec\n",
      "\n",
      "NEK2_binding_MFP_ADASYN_RF_fold2\n",
      "TRAIN: acc: 1.000, precision: 1.000, recall: 1.000, spec: 1.000\n",
      "TEST: acc: 0.967, precision: 0.950, recall: 0.986, spec: 0.949\n",
      "func:'rf_models'  took: 7.5847 sec\n",
      "\n",
      "NEK2_binding_MFP_ADASYN_RF_BCW_fold2\n",
      "TRAIN: acc: 1.000, precision: 1.000, recall: 1.000, spec: 1.000\n",
      "TEST: acc: 0.967, precision: 0.955, recall: 0.981, spec: 0.954\n",
      "func:'rf_models'  took: 7.6944 sec\n",
      "\n",
      "NEK2_binding_MFP_ADASYN_BRFC_fold2\n"
     ]
    },
    {
     "name": "stderr",
     "output_type": "stream",
     "text": [
      "/Users/jayceepang/miniconda3/envs/atom2024/lib/python3.9/site-packages/imblearn/ensemble/_forest.py:577: FutureWarning: The default of `sampling_strategy` will change from `'auto'` to `'all'` in version 0.13. This change will follow the implementation proposed in the original paper. Set to `'all'` to silence this warning and adopt the future behaviour.\n",
      "  warn(\n",
      "/Users/jayceepang/miniconda3/envs/atom2024/lib/python3.9/site-packages/imblearn/ensemble/_forest.py:589: FutureWarning: The default of `replacement` will change from `False` to `True` in version 0.13. This change will follow the implementation proposed in the original paper. Set to `True` to silence this warning and adopt the future behaviour.\n",
      "  warn(\n"
     ]
    },
    {
     "name": "stdout",
     "output_type": "stream",
     "text": [
      "TRAIN: acc: 1.000, precision: 1.000, recall: 1.000, spec: 1.000\n",
      "TEST: acc: 0.967, precision: 0.950, recall: 0.986, spec: 0.949\n",
      "func:'rf_models'  took: 9.2315 sec\n",
      "\n",
      "NEK2_binding_MFP_ADASYN_BRFC_BCW_fold2\n"
     ]
    },
    {
     "name": "stderr",
     "output_type": "stream",
     "text": [
      "/Users/jayceepang/miniconda3/envs/atom2024/lib/python3.9/site-packages/imblearn/ensemble/_forest.py:577: FutureWarning: The default of `sampling_strategy` will change from `'auto'` to `'all'` in version 0.13. This change will follow the implementation proposed in the original paper. Set to `'all'` to silence this warning and adopt the future behaviour.\n",
      "  warn(\n",
      "/Users/jayceepang/miniconda3/envs/atom2024/lib/python3.9/site-packages/imblearn/ensemble/_forest.py:589: FutureWarning: The default of `replacement` will change from `False` to `True` in version 0.13. This change will follow the implementation proposed in the original paper. Set to `True` to silence this warning and adopt the future behaviour.\n",
      "  warn(\n"
     ]
    },
    {
     "name": "stdout",
     "output_type": "stream",
     "text": [
      "TRAIN: acc: 1.000, precision: 1.000, recall: 1.000, spec: 1.000\n",
      "TEST: acc: 0.963, precision: 0.946, recall: 0.981, spec: 0.944\n",
      "func:'rf_models'  took: 9.7459 sec\n",
      "\n",
      "NEK2_binding_MFP_ADASYN_RF_fold3\n",
      "TRAIN: acc: 1.000, precision: 1.000, recall: 1.000, spec: 1.000\n",
      "TEST: acc: 0.972, precision: 0.967, recall: 0.977, spec: 0.968\n",
      "func:'rf_models'  took: 7.5139 sec\n",
      "\n",
      "NEK2_binding_MFP_ADASYN_RF_BCW_fold3\n",
      "TRAIN: acc: 1.000, precision: 1.000, recall: 1.000, spec: 1.000\n",
      "TEST: acc: 0.974, precision: 0.972, recall: 0.977, spec: 0.972\n",
      "func:'rf_models'  took: 7.5826 sec\n",
      "\n",
      "NEK2_binding_MFP_ADASYN_BRFC_fold3\n"
     ]
    },
    {
     "name": "stderr",
     "output_type": "stream",
     "text": [
      "/Users/jayceepang/miniconda3/envs/atom2024/lib/python3.9/site-packages/imblearn/ensemble/_forest.py:577: FutureWarning: The default of `sampling_strategy` will change from `'auto'` to `'all'` in version 0.13. This change will follow the implementation proposed in the original paper. Set to `'all'` to silence this warning and adopt the future behaviour.\n",
      "  warn(\n",
      "/Users/jayceepang/miniconda3/envs/atom2024/lib/python3.9/site-packages/imblearn/ensemble/_forest.py:589: FutureWarning: The default of `replacement` will change from `False` to `True` in version 0.13. This change will follow the implementation proposed in the original paper. Set to `True` to silence this warning and adopt the future behaviour.\n",
      "  warn(\n"
     ]
    },
    {
     "name": "stdout",
     "output_type": "stream",
     "text": [
      "TRAIN: acc: 1.000, precision: 1.000, recall: 1.000, spec: 1.000\n",
      "TEST: acc: 0.977, precision: 0.972, recall: 0.981, spec: 0.972\n",
      "func:'rf_models'  took: 8.9010 sec\n",
      "\n",
      "NEK2_binding_MFP_ADASYN_BRFC_BCW_fold3\n"
     ]
    },
    {
     "name": "stderr",
     "output_type": "stream",
     "text": [
      "/Users/jayceepang/miniconda3/envs/atom2024/lib/python3.9/site-packages/imblearn/ensemble/_forest.py:577: FutureWarning: The default of `sampling_strategy` will change from `'auto'` to `'all'` in version 0.13. This change will follow the implementation proposed in the original paper. Set to `'all'` to silence this warning and adopt the future behaviour.\n",
      "  warn(\n",
      "/Users/jayceepang/miniconda3/envs/atom2024/lib/python3.9/site-packages/imblearn/ensemble/_forest.py:589: FutureWarning: The default of `replacement` will change from `False` to `True` in version 0.13. This change will follow the implementation proposed in the original paper. Set to `True` to silence this warning and adopt the future behaviour.\n",
      "  warn(\n"
     ]
    },
    {
     "name": "stdout",
     "output_type": "stream",
     "text": [
      "TRAIN: acc: 1.000, precision: 1.000, recall: 1.000, spec: 1.000\n",
      "TEST: acc: 0.972, precision: 0.967, recall: 0.977, spec: 0.968\n",
      "func:'rf_models'  took: 9.8815 sec\n",
      "\n",
      "NEK2_binding_MFP_ADASYN_RF_fold4\n",
      "TRAIN: acc: 1.000, precision: 1.000, recall: 1.000, spec: 1.000\n",
      "TEST: acc: 0.956, precision: 0.941, recall: 0.972, spec: 0.940\n",
      "func:'rf_models'  took: 8.1158 sec\n",
      "\n",
      "NEK2_binding_MFP_ADASYN_RF_BCW_fold4\n",
      "TRAIN: acc: 1.000, precision: 1.000, recall: 1.000, spec: 1.000\n",
      "TEST: acc: 0.949, precision: 0.928, recall: 0.972, spec: 0.926\n",
      "func:'rf_models'  took: 8.1191 sec\n",
      "\n",
      "NEK2_binding_MFP_ADASYN_BRFC_fold4\n"
     ]
    },
    {
     "name": "stderr",
     "output_type": "stream",
     "text": [
      "/Users/jayceepang/miniconda3/envs/atom2024/lib/python3.9/site-packages/imblearn/ensemble/_forest.py:577: FutureWarning: The default of `sampling_strategy` will change from `'auto'` to `'all'` in version 0.13. This change will follow the implementation proposed in the original paper. Set to `'all'` to silence this warning and adopt the future behaviour.\n",
      "  warn(\n",
      "/Users/jayceepang/miniconda3/envs/atom2024/lib/python3.9/site-packages/imblearn/ensemble/_forest.py:589: FutureWarning: The default of `replacement` will change from `False` to `True` in version 0.13. This change will follow the implementation proposed in the original paper. Set to `True` to silence this warning and adopt the future behaviour.\n",
      "  warn(\n"
     ]
    },
    {
     "name": "stdout",
     "output_type": "stream",
     "text": [
      "TRAIN: acc: 1.000, precision: 1.000, recall: 1.000, spec: 1.000\n",
      "TEST: acc: 0.951, precision: 0.932, recall: 0.972, spec: 0.931\n",
      "func:'rf_models'  took: 9.9254 sec\n",
      "\n",
      "NEK2_binding_MFP_ADASYN_BRFC_BCW_fold4\n"
     ]
    },
    {
     "name": "stderr",
     "output_type": "stream",
     "text": [
      "/Users/jayceepang/miniconda3/envs/atom2024/lib/python3.9/site-packages/imblearn/ensemble/_forest.py:577: FutureWarning: The default of `sampling_strategy` will change from `'auto'` to `'all'` in version 0.13. This change will follow the implementation proposed in the original paper. Set to `'all'` to silence this warning and adopt the future behaviour.\n",
      "  warn(\n",
      "/Users/jayceepang/miniconda3/envs/atom2024/lib/python3.9/site-packages/imblearn/ensemble/_forest.py:589: FutureWarning: The default of `replacement` will change from `False` to `True` in version 0.13. This change will follow the implementation proposed in the original paper. Set to `True` to silence this warning and adopt the future behaviour.\n",
      "  warn(\n"
     ]
    },
    {
     "name": "stdout",
     "output_type": "stream",
     "text": [
      "TRAIN: acc: 1.000, precision: 1.000, recall: 1.000, spec: 1.000\n",
      "TEST: acc: 0.951, precision: 0.932, recall: 0.972, spec: 0.931\n",
      "func:'rf_models'  took: 10.1860 sec\n",
      "\n",
      "NEK2_binding_MFP_ADASYN_RF_fold5\n",
      "TRAIN: acc: 1.000, precision: 1.000, recall: 1.000, spec: 1.000\n",
      "TEST: acc: 0.960, precision: 0.950, recall: 0.972, spec: 0.949\n",
      "func:'rf_models'  took: 8.0499 sec\n",
      "\n",
      "NEK2_binding_MFP_ADASYN_RF_BCW_fold5\n",
      "TRAIN: acc: 1.000, precision: 1.000, recall: 1.000, spec: 1.000\n",
      "TEST: acc: 0.951, precision: 0.929, recall: 0.977, spec: 0.926\n",
      "func:'rf_models'  took: 7.8581 sec\n",
      "\n",
      "NEK2_binding_MFP_ADASYN_BRFC_fold5\n"
     ]
    },
    {
     "name": "stderr",
     "output_type": "stream",
     "text": [
      "/Users/jayceepang/miniconda3/envs/atom2024/lib/python3.9/site-packages/imblearn/ensemble/_forest.py:577: FutureWarning: The default of `sampling_strategy` will change from `'auto'` to `'all'` in version 0.13. This change will follow the implementation proposed in the original paper. Set to `'all'` to silence this warning and adopt the future behaviour.\n",
      "  warn(\n",
      "/Users/jayceepang/miniconda3/envs/atom2024/lib/python3.9/site-packages/imblearn/ensemble/_forest.py:589: FutureWarning: The default of `replacement` will change from `False` to `True` in version 0.13. This change will follow the implementation proposed in the original paper. Set to `True` to silence this warning and adopt the future behaviour.\n",
      "  warn(\n"
     ]
    },
    {
     "name": "stdout",
     "output_type": "stream",
     "text": [
      "TRAIN: acc: 1.000, precision: 1.000, recall: 1.000, spec: 1.000\n",
      "TEST: acc: 0.965, precision: 0.954, recall: 0.977, spec: 0.954\n",
      "func:'rf_models'  took: 9.9001 sec\n",
      "\n",
      "NEK2_binding_MFP_ADASYN_BRFC_BCW_fold5\n"
     ]
    },
    {
     "name": "stderr",
     "output_type": "stream",
     "text": [
      "/Users/jayceepang/miniconda3/envs/atom2024/lib/python3.9/site-packages/imblearn/ensemble/_forest.py:577: FutureWarning: The default of `sampling_strategy` will change from `'auto'` to `'all'` in version 0.13. This change will follow the implementation proposed in the original paper. Set to `'all'` to silence this warning and adopt the future behaviour.\n",
      "  warn(\n",
      "/Users/jayceepang/miniconda3/envs/atom2024/lib/python3.9/site-packages/imblearn/ensemble/_forest.py:589: FutureWarning: The default of `replacement` will change from `False` to `True` in version 0.13. This change will follow the implementation proposed in the original paper. Set to `True` to silence this warning and adopt the future behaviour.\n",
      "  warn(\n"
     ]
    },
    {
     "name": "stdout",
     "output_type": "stream",
     "text": [
      "TRAIN: acc: 1.000, precision: 1.000, recall: 1.000, spec: 1.000\n",
      "TEST: acc: 0.958, precision: 0.941, recall: 0.977, spec: 0.940\n",
      "func:'rf_models'  took: 10.0828 sec\n",
      "\n",
      "NEK2_inhibition_MOE_none_scaled_RF_fold1\n",
      "TRAIN: acc: 1.000, precision: 1.000, recall: 1.000, spec: 1.000\n",
      "TEST: acc: 0.945, precision: 0.591, recall: 0.591, spec: 0.970\n",
      "func:'rf_models'  took: 23.2638 sec\n",
      "\n",
      "NEK2_inhibition_MOE_none_scaled_RF_BCW_fold1\n",
      "TRAIN: acc: 1.000, precision: 1.000, recall: 1.000, spec: 1.000\n",
      "TEST: acc: 0.929, precision: 0.474, recall: 0.409, spec: 0.967\n",
      "func:'rf_models'  took: 12.5673 sec\n",
      "\n",
      "NEK2_inhibition_MOE_none_scaled_BRFC_fold1\n"
     ]
    },
    {
     "name": "stderr",
     "output_type": "stream",
     "text": [
      "/Users/jayceepang/miniconda3/envs/atom2024/lib/python3.9/site-packages/imblearn/ensemble/_forest.py:577: FutureWarning: The default of `sampling_strategy` will change from `'auto'` to `'all'` in version 0.13. This change will follow the implementation proposed in the original paper. Set to `'all'` to silence this warning and adopt the future behaviour.\n",
      "  warn(\n",
      "/Users/jayceepang/miniconda3/envs/atom2024/lib/python3.9/site-packages/imblearn/ensemble/_forest.py:589: FutureWarning: The default of `replacement` will change from `False` to `True` in version 0.13. This change will follow the implementation proposed in the original paper. Set to `True` to silence this warning and adopt the future behaviour.\n",
      "  warn(\n"
     ]
    },
    {
     "name": "stdout",
     "output_type": "stream",
     "text": [
      "TRAIN: acc: 0.895, precision: 0.396, recall: 1.000, spec: 0.887\n",
      "TEST: acc: 0.880, precision: 0.345, recall: 0.864, spec: 0.881\n",
      "func:'rf_models'  took: 1.1436 sec\n",
      "\n",
      "NEK2_inhibition_MOE_none_scaled_BRFC_BCW_fold1\n"
     ]
    },
    {
     "name": "stderr",
     "output_type": "stream",
     "text": [
      "/Users/jayceepang/miniconda3/envs/atom2024/lib/python3.9/site-packages/imblearn/ensemble/_forest.py:577: FutureWarning: The default of `sampling_strategy` will change from `'auto'` to `'all'` in version 0.13. This change will follow the implementation proposed in the original paper. Set to `'all'` to silence this warning and adopt the future behaviour.\n",
      "  warn(\n",
      "/Users/jayceepang/miniconda3/envs/atom2024/lib/python3.9/site-packages/imblearn/ensemble/_forest.py:589: FutureWarning: The default of `replacement` will change from `False` to `True` in version 0.13. This change will follow the implementation proposed in the original paper. Set to `True` to silence this warning and adopt the future behaviour.\n",
      "  warn(\n"
     ]
    },
    {
     "name": "stdout",
     "output_type": "stream",
     "text": [
      "TRAIN: acc: 0.790, precision: 0.248, recall: 1.000, spec: 0.774\n",
      "TEST: acc: 0.797, precision: 0.232, recall: 0.864, spec: 0.792\n",
      "func:'rf_models'  took: 3.2055 sec\n",
      "\n",
      "NEK2_inhibition_MOE_none_scaled_RF_fold2\n",
      "TRAIN: acc: 1.000, precision: 1.000, recall: 1.000, spec: 1.000\n",
      "TEST: acc: 0.932, precision: 0.500, recall: 0.500, spec: 0.964\n",
      "func:'rf_models'  took: 29.0461 sec\n",
      "\n",
      "NEK2_inhibition_MOE_none_scaled_RF_BCW_fold2\n",
      "TRAIN: acc: 1.000, precision: 1.000, recall: 1.000, spec: 1.000\n",
      "TEST: acc: 0.945, precision: 0.600, recall: 0.545, spec: 0.974\n",
      "func:'rf_models'  took: 14.1522 sec\n",
      "\n",
      "NEK2_inhibition_MOE_none_scaled_BRFC_fold2\n"
     ]
    },
    {
     "name": "stderr",
     "output_type": "stream",
     "text": [
      "/Users/jayceepang/miniconda3/envs/atom2024/lib/python3.9/site-packages/imblearn/ensemble/_forest.py:577: FutureWarning: The default of `sampling_strategy` will change from `'auto'` to `'all'` in version 0.13. This change will follow the implementation proposed in the original paper. Set to `'all'` to silence this warning and adopt the future behaviour.\n",
      "  warn(\n",
      "/Users/jayceepang/miniconda3/envs/atom2024/lib/python3.9/site-packages/imblearn/ensemble/_forest.py:589: FutureWarning: The default of `replacement` will change from `False` to `True` in version 0.13. This change will follow the implementation proposed in the original paper. Set to `True` to silence this warning and adopt the future behaviour.\n",
      "  warn(\n"
     ]
    },
    {
     "name": "stdout",
     "output_type": "stream",
     "text": [
      "TRAIN: acc: 0.901, precision: 0.411, recall: 1.000, spec: 0.893\n",
      "TEST: acc: 0.849, precision: 0.286, recall: 0.818, spec: 0.851\n",
      "func:'rf_models'  took: 1.1034 sec\n",
      "\n",
      "NEK2_inhibition_MOE_none_scaled_BRFC_BCW_fold2\n"
     ]
    },
    {
     "name": "stderr",
     "output_type": "stream",
     "text": [
      "/Users/jayceepang/miniconda3/envs/atom2024/lib/python3.9/site-packages/imblearn/ensemble/_forest.py:577: FutureWarning: The default of `sampling_strategy` will change from `'auto'` to `'all'` in version 0.13. This change will follow the implementation proposed in the original paper. Set to `'all'` to silence this warning and adopt the future behaviour.\n",
      "  warn(\n",
      "/Users/jayceepang/miniconda3/envs/atom2024/lib/python3.9/site-packages/imblearn/ensemble/_forest.py:589: FutureWarning: The default of `replacement` will change from `False` to `True` in version 0.13. This change will follow the implementation proposed in the original paper. Set to `True` to silence this warning and adopt the future behaviour.\n",
      "  warn(\n"
     ]
    },
    {
     "name": "stdout",
     "output_type": "stream",
     "text": [
      "TRAIN: acc: 0.832, precision: 0.291, recall: 1.000, spec: 0.819\n",
      "TEST: acc: 0.818, precision: 0.260, recall: 0.909, spec: 0.812\n",
      "func:'rf_models'  took: 2.7993 sec\n",
      "\n",
      "NEK2_inhibition_MOE_none_scaled_RF_fold3\n",
      "TRAIN: acc: 1.000, precision: 1.000, recall: 1.000, spec: 1.000\n",
      "TEST: acc: 0.945, precision: 0.591, recall: 0.591, spec: 0.970\n",
      "func:'rf_models'  took: 26.1076 sec\n",
      "\n",
      "NEK2_inhibition_MOE_none_scaled_RF_BCW_fold3\n",
      "TRAIN: acc: 1.000, precision: 1.000, recall: 1.000, spec: 1.000\n",
      "TEST: acc: 0.960, precision: 0.714, recall: 0.682, spec: 0.980\n",
      "func:'rf_models'  took: 11.9870 sec\n",
      "\n",
      "NEK2_inhibition_MOE_none_scaled_BRFC_fold3\n"
     ]
    },
    {
     "name": "stderr",
     "output_type": "stream",
     "text": [
      "/Users/jayceepang/miniconda3/envs/atom2024/lib/python3.9/site-packages/imblearn/ensemble/_forest.py:577: FutureWarning: The default of `sampling_strategy` will change from `'auto'` to `'all'` in version 0.13. This change will follow the implementation proposed in the original paper. Set to `'all'` to silence this warning and adopt the future behaviour.\n",
      "  warn(\n",
      "/Users/jayceepang/miniconda3/envs/atom2024/lib/python3.9/site-packages/imblearn/ensemble/_forest.py:589: FutureWarning: The default of `replacement` will change from `False` to `True` in version 0.13. This change will follow the implementation proposed in the original paper. Set to `True` to silence this warning and adopt the future behaviour.\n",
      "  warn(\n"
     ]
    },
    {
     "name": "stdout",
     "output_type": "stream",
     "text": [
      "TRAIN: acc: 0.899, precision: 0.407, recall: 1.000, spec: 0.892\n",
      "TEST: acc: 0.858, precision: 0.312, recall: 0.909, spec: 0.855\n",
      "func:'rf_models'  took: 1.1583 sec\n",
      "\n",
      "NEK2_inhibition_MOE_none_scaled_BRFC_BCW_fold3\n"
     ]
    },
    {
     "name": "stderr",
     "output_type": "stream",
     "text": [
      "/Users/jayceepang/miniconda3/envs/atom2024/lib/python3.9/site-packages/imblearn/ensemble/_forest.py:577: FutureWarning: The default of `sampling_strategy` will change from `'auto'` to `'all'` in version 0.13. This change will follow the implementation proposed in the original paper. Set to `'all'` to silence this warning and adopt the future behaviour.\n",
      "  warn(\n",
      "/Users/jayceepang/miniconda3/envs/atom2024/lib/python3.9/site-packages/imblearn/ensemble/_forest.py:589: FutureWarning: The default of `replacement` will change from `False` to `True` in version 0.13. This change will follow the implementation proposed in the original paper. Set to `True` to silence this warning and adopt the future behaviour.\n",
      "  warn(\n"
     ]
    },
    {
     "name": "stdout",
     "output_type": "stream",
     "text": [
      "TRAIN: acc: 0.807, precision: 0.264, recall: 1.000, spec: 0.793\n",
      "TEST: acc: 0.745, precision: 0.186, recall: 0.818, spec: 0.739\n",
      "func:'rf_models'  took: 2.9711 sec\n",
      "\n",
      "NEK2_inhibition_MOE_none_scaled_RF_fold4\n",
      "TRAIN: acc: 1.000, precision: 1.000, recall: 1.000, spec: 1.000\n",
      "TEST: acc: 0.948, precision: 0.625, recall: 0.652, spec: 0.970\n",
      "func:'rf_models'  took: 23.6149 sec\n",
      "\n",
      "NEK2_inhibition_MOE_none_scaled_RF_BCW_fold4\n",
      "TRAIN: acc: 1.000, precision: 1.000, recall: 1.000, spec: 1.000\n",
      "TEST: acc: 0.923, precision: 0.464, recall: 0.565, spec: 0.950\n",
      "func:'rf_models'  took: 9.7443 sec\n",
      "\n",
      "NEK2_inhibition_MOE_none_scaled_BRFC_fold4\n"
     ]
    },
    {
     "name": "stderr",
     "output_type": "stream",
     "text": [
      "/Users/jayceepang/miniconda3/envs/atom2024/lib/python3.9/site-packages/imblearn/ensemble/_forest.py:577: FutureWarning: The default of `sampling_strategy` will change from `'auto'` to `'all'` in version 0.13. This change will follow the implementation proposed in the original paper. Set to `'all'` to silence this warning and adopt the future behaviour.\n",
      "  warn(\n",
      "/Users/jayceepang/miniconda3/envs/atom2024/lib/python3.9/site-packages/imblearn/ensemble/_forest.py:589: FutureWarning: The default of `replacement` will change from `False` to `True` in version 0.13. This change will follow the implementation proposed in the original paper. Set to `True` to silence this warning and adopt the future behaviour.\n",
      "  warn(\n"
     ]
    },
    {
     "name": "stdout",
     "output_type": "stream",
     "text": [
      "TRAIN: acc: 0.902, precision: 0.412, recall: 1.000, spec: 0.895\n",
      "TEST: acc: 0.862, precision: 0.323, recall: 0.870, spec: 0.861\n",
      "func:'rf_models'  took: 1.1581 sec\n",
      "\n",
      "NEK2_inhibition_MOE_none_scaled_BRFC_BCW_fold4\n"
     ]
    },
    {
     "name": "stderr",
     "output_type": "stream",
     "text": [
      "/Users/jayceepang/miniconda3/envs/atom2024/lib/python3.9/site-packages/imblearn/ensemble/_forest.py:577: FutureWarning: The default of `sampling_strategy` will change from `'auto'` to `'all'` in version 0.13. This change will follow the implementation proposed in the original paper. Set to `'all'` to silence this warning and adopt the future behaviour.\n",
      "  warn(\n",
      "/Users/jayceepang/miniconda3/envs/atom2024/lib/python3.9/site-packages/imblearn/ensemble/_forest.py:589: FutureWarning: The default of `replacement` will change from `False` to `True` in version 0.13. This change will follow the implementation proposed in the original paper. Set to `True` to silence this warning and adopt the future behaviour.\n",
      "  warn(\n"
     ]
    },
    {
     "name": "stdout",
     "output_type": "stream",
     "text": [
      "TRAIN: acc: 0.806, precision: 0.261, recall: 1.000, spec: 0.792\n",
      "TEST: acc: 0.751, precision: 0.185, recall: 0.739, spec: 0.752\n",
      "func:'rf_models'  took: 3.0437 sec\n",
      "\n",
      "NEK2_inhibition_MOE_none_scaled_RF_fold5\n",
      "TRAIN: acc: 1.000, precision: 1.000, recall: 1.000, spec: 1.000\n",
      "TEST: acc: 0.935, precision: 0.562, recall: 0.391, spec: 0.977\n",
      "func:'rf_models'  took: 25.9826 sec\n",
      "\n",
      "NEK2_inhibition_MOE_none_scaled_RF_BCW_fold5\n",
      "TRAIN: acc: 1.000, precision: 1.000, recall: 1.000, spec: 1.000\n",
      "TEST: acc: 0.926, precision: 0.462, recall: 0.261, spec: 0.977\n",
      "func:'rf_models'  took: 10.2437 sec\n",
      "\n",
      "NEK2_inhibition_MOE_none_scaled_BRFC_fold5\n"
     ]
    },
    {
     "name": "stderr",
     "output_type": "stream",
     "text": [
      "/Users/jayceepang/miniconda3/envs/atom2024/lib/python3.9/site-packages/imblearn/ensemble/_forest.py:577: FutureWarning: The default of `sampling_strategy` will change from `'auto'` to `'all'` in version 0.13. This change will follow the implementation proposed in the original paper. Set to `'all'` to silence this warning and adopt the future behaviour.\n",
      "  warn(\n",
      "/Users/jayceepang/miniconda3/envs/atom2024/lib/python3.9/site-packages/imblearn/ensemble/_forest.py:589: FutureWarning: The default of `replacement` will change from `False` to `True` in version 0.13. This change will follow the implementation proposed in the original paper. Set to `True` to silence this warning and adopt the future behaviour.\n",
      "  warn(\n"
     ]
    },
    {
     "name": "stdout",
     "output_type": "stream",
     "text": [
      "TRAIN: acc: 0.918, precision: 0.454, recall: 1.000, spec: 0.912\n",
      "TEST: acc: 0.889, precision: 0.333, recall: 0.565, spec: 0.914\n",
      "func:'rf_models'  took: 1.1341 sec\n",
      "\n",
      "NEK2_inhibition_MOE_none_scaled_BRFC_BCW_fold5\n"
     ]
    },
    {
     "name": "stderr",
     "output_type": "stream",
     "text": [
      "/Users/jayceepang/miniconda3/envs/atom2024/lib/python3.9/site-packages/imblearn/ensemble/_forest.py:577: FutureWarning: The default of `sampling_strategy` will change from `'auto'` to `'all'` in version 0.13. This change will follow the implementation proposed in the original paper. Set to `'all'` to silence this warning and adopt the future behaviour.\n",
      "  warn(\n",
      "/Users/jayceepang/miniconda3/envs/atom2024/lib/python3.9/site-packages/imblearn/ensemble/_forest.py:589: FutureWarning: The default of `replacement` will change from `False` to `True` in version 0.13. This change will follow the implementation proposed in the original paper. Set to `True` to silence this warning and adopt the future behaviour.\n",
      "  warn(\n"
     ]
    },
    {
     "name": "stdout",
     "output_type": "stream",
     "text": [
      "TRAIN: acc: 0.838, precision: 0.298, recall: 1.000, spec: 0.827\n",
      "TEST: acc: 0.791, precision: 0.174, recall: 0.522, spec: 0.811\n",
      "func:'rf_models'  took: 2.4736 sec\n",
      "\n",
      "NEK2_inhibition_MOE_UNDER_RF_fold1\n",
      "TRAIN: acc: 1.000, precision: 1.000, recall: 1.000, spec: 1.000\n",
      "TEST: acc: 0.667, precision: 0.667, recall: 0.636, spec: 0.696\n",
      "func:'rf_models'  took: 0.8978 sec\n",
      "\n",
      "NEK2_inhibition_MOE_UNDER_RF_BCW_fold1\n",
      "TRAIN: acc: 1.000, precision: 1.000, recall: 1.000, spec: 1.000\n",
      "TEST: acc: 0.667, precision: 0.652, recall: 0.682, spec: 0.652\n",
      "func:'rf_models'  took: 0.9712 sec\n",
      "\n",
      "NEK2_inhibition_MOE_UNDER_BRFC_fold1\n"
     ]
    },
    {
     "name": "stderr",
     "output_type": "stream",
     "text": [
      "/Users/jayceepang/miniconda3/envs/atom2024/lib/python3.9/site-packages/imblearn/ensemble/_forest.py:577: FutureWarning: The default of `sampling_strategy` will change from `'auto'` to `'all'` in version 0.13. This change will follow the implementation proposed in the original paper. Set to `'all'` to silence this warning and adopt the future behaviour.\n",
      "  warn(\n",
      "/Users/jayceepang/miniconda3/envs/atom2024/lib/python3.9/site-packages/imblearn/ensemble/_forest.py:589: FutureWarning: The default of `replacement` will change from `False` to `True` in version 0.13. This change will follow the implementation proposed in the original paper. Set to `True` to silence this warning and adopt the future behaviour.\n",
      "  warn(\n"
     ]
    },
    {
     "name": "stdout",
     "output_type": "stream",
     "text": [
      "TRAIN: acc: 1.000, precision: 1.000, recall: 1.000, spec: 1.000\n",
      "TEST: acc: 0.689, precision: 0.700, recall: 0.636, spec: 0.739\n",
      "func:'rf_models'  took: 0.9171 sec\n",
      "\n",
      "NEK2_inhibition_MOE_UNDER_BRFC_BCW_fold1\n"
     ]
    },
    {
     "name": "stderr",
     "output_type": "stream",
     "text": [
      "/Users/jayceepang/miniconda3/envs/atom2024/lib/python3.9/site-packages/imblearn/ensemble/_forest.py:577: FutureWarning: The default of `sampling_strategy` will change from `'auto'` to `'all'` in version 0.13. This change will follow the implementation proposed in the original paper. Set to `'all'` to silence this warning and adopt the future behaviour.\n",
      "  warn(\n",
      "/Users/jayceepang/miniconda3/envs/atom2024/lib/python3.9/site-packages/imblearn/ensemble/_forest.py:589: FutureWarning: The default of `replacement` will change from `False` to `True` in version 0.13. This change will follow the implementation proposed in the original paper. Set to `True` to silence this warning and adopt the future behaviour.\n",
      "  warn(\n"
     ]
    },
    {
     "name": "stdout",
     "output_type": "stream",
     "text": [
      "TRAIN: acc: 1.000, precision: 1.000, recall: 1.000, spec: 1.000\n",
      "TEST: acc: 0.689, precision: 0.682, recall: 0.682, spec: 0.696\n",
      "func:'rf_models'  took: 0.9712 sec\n",
      "\n",
      "NEK2_inhibition_MOE_UNDER_RF_fold2\n",
      "TRAIN: acc: 1.000, precision: 1.000, recall: 1.000, spec: 1.000\n",
      "TEST: acc: 0.800, precision: 0.724, recall: 0.955, spec: 0.652\n",
      "func:'rf_models'  took: 1.2133 sec\n",
      "\n",
      "NEK2_inhibition_MOE_UNDER_RF_BCW_fold2\n",
      "TRAIN: acc: 1.000, precision: 1.000, recall: 1.000, spec: 1.000\n",
      "TEST: acc: 0.733, precision: 0.679, recall: 0.864, spec: 0.609\n",
      "func:'rf_models'  took: 1.2541 sec\n",
      "\n",
      "NEK2_inhibition_MOE_UNDER_BRFC_fold2\n"
     ]
    },
    {
     "name": "stderr",
     "output_type": "stream",
     "text": [
      "/Users/jayceepang/miniconda3/envs/atom2024/lib/python3.9/site-packages/imblearn/ensemble/_forest.py:577: FutureWarning: The default of `sampling_strategy` will change from `'auto'` to `'all'` in version 0.13. This change will follow the implementation proposed in the original paper. Set to `'all'` to silence this warning and adopt the future behaviour.\n",
      "  warn(\n",
      "/Users/jayceepang/miniconda3/envs/atom2024/lib/python3.9/site-packages/imblearn/ensemble/_forest.py:589: FutureWarning: The default of `replacement` will change from `False` to `True` in version 0.13. This change will follow the implementation proposed in the original paper. Set to `True` to silence this warning and adopt the future behaviour.\n",
      "  warn(\n"
     ]
    },
    {
     "name": "stdout",
     "output_type": "stream",
     "text": [
      "TRAIN: acc: 1.000, precision: 1.000, recall: 1.000, spec: 1.000\n",
      "TEST: acc: 0.800, precision: 0.724, recall: 0.955, spec: 0.652\n",
      "func:'rf_models'  took: 1.2093 sec\n",
      "\n",
      "NEK2_inhibition_MOE_UNDER_BRFC_BCW_fold2\n"
     ]
    },
    {
     "name": "stderr",
     "output_type": "stream",
     "text": [
      "/Users/jayceepang/miniconda3/envs/atom2024/lib/python3.9/site-packages/imblearn/ensemble/_forest.py:577: FutureWarning: The default of `sampling_strategy` will change from `'auto'` to `'all'` in version 0.13. This change will follow the implementation proposed in the original paper. Set to `'all'` to silence this warning and adopt the future behaviour.\n",
      "  warn(\n",
      "/Users/jayceepang/miniconda3/envs/atom2024/lib/python3.9/site-packages/imblearn/ensemble/_forest.py:589: FutureWarning: The default of `replacement` will change from `False` to `True` in version 0.13. This change will follow the implementation proposed in the original paper. Set to `True` to silence this warning and adopt the future behaviour.\n",
      "  warn(\n"
     ]
    },
    {
     "name": "stdout",
     "output_type": "stream",
     "text": [
      "TRAIN: acc: 1.000, precision: 1.000, recall: 1.000, spec: 1.000\n",
      "TEST: acc: 0.756, precision: 0.690, recall: 0.909, spec: 0.609\n",
      "func:'rf_models'  took: 1.2693 sec\n",
      "\n",
      "NEK2_inhibition_MOE_UNDER_RF_fold3\n",
      "TRAIN: acc: 1.000, precision: 1.000, recall: 1.000, spec: 1.000\n",
      "TEST: acc: 0.800, precision: 0.792, recall: 0.826, spec: 0.773\n",
      "func:'rf_models'  took: 1.1039 sec\n",
      "\n",
      "NEK2_inhibition_MOE_UNDER_RF_BCW_fold3\n",
      "TRAIN: acc: 1.000, precision: 1.000, recall: 1.000, spec: 1.000\n",
      "TEST: acc: 0.800, precision: 0.792, recall: 0.826, spec: 0.773\n",
      "func:'rf_models'  took: 1.1552 sec\n",
      "\n",
      "NEK2_inhibition_MOE_UNDER_BRFC_fold3\n"
     ]
    },
    {
     "name": "stderr",
     "output_type": "stream",
     "text": [
      "/Users/jayceepang/miniconda3/envs/atom2024/lib/python3.9/site-packages/imblearn/ensemble/_forest.py:577: FutureWarning: The default of `sampling_strategy` will change from `'auto'` to `'all'` in version 0.13. This change will follow the implementation proposed in the original paper. Set to `'all'` to silence this warning and adopt the future behaviour.\n",
      "  warn(\n",
      "/Users/jayceepang/miniconda3/envs/atom2024/lib/python3.9/site-packages/imblearn/ensemble/_forest.py:589: FutureWarning: The default of `replacement` will change from `False` to `True` in version 0.13. This change will follow the implementation proposed in the original paper. Set to `True` to silence this warning and adopt the future behaviour.\n",
      "  warn(\n"
     ]
    },
    {
     "name": "stdout",
     "output_type": "stream",
     "text": [
      "TRAIN: acc: 1.000, precision: 1.000, recall: 1.000, spec: 1.000\n",
      "TEST: acc: 0.800, precision: 0.792, recall: 0.826, spec: 0.773\n",
      "func:'rf_models'  took: 1.1413 sec\n",
      "\n",
      "NEK2_inhibition_MOE_UNDER_BRFC_BCW_fold3\n"
     ]
    },
    {
     "name": "stderr",
     "output_type": "stream",
     "text": [
      "/Users/jayceepang/miniconda3/envs/atom2024/lib/python3.9/site-packages/imblearn/ensemble/_forest.py:577: FutureWarning: The default of `sampling_strategy` will change from `'auto'` to `'all'` in version 0.13. This change will follow the implementation proposed in the original paper. Set to `'all'` to silence this warning and adopt the future behaviour.\n",
      "  warn(\n",
      "/Users/jayceepang/miniconda3/envs/atom2024/lib/python3.9/site-packages/imblearn/ensemble/_forest.py:589: FutureWarning: The default of `replacement` will change from `False` to `True` in version 0.13. This change will follow the implementation proposed in the original paper. Set to `True` to silence this warning and adopt the future behaviour.\n",
      "  warn(\n"
     ]
    },
    {
     "name": "stdout",
     "output_type": "stream",
     "text": [
      "TRAIN: acc: 1.000, precision: 1.000, recall: 1.000, spec: 1.000\n",
      "TEST: acc: 0.800, precision: 0.792, recall: 0.826, spec: 0.773\n",
      "func:'rf_models'  took: 1.1769 sec\n",
      "\n",
      "NEK2_inhibition_MOE_UNDER_RF_fold4\n",
      "TRAIN: acc: 1.000, precision: 1.000, recall: 1.000, spec: 1.000\n",
      "TEST: acc: 0.822, precision: 0.857, recall: 0.783, spec: 0.864\n",
      "func:'rf_models'  took: 1.1175 sec\n",
      "\n",
      "NEK2_inhibition_MOE_UNDER_RF_BCW_fold4\n",
      "TRAIN: acc: 1.000, precision: 1.000, recall: 1.000, spec: 1.000\n",
      "TEST: acc: 0.822, precision: 0.800, recall: 0.870, spec: 0.773\n",
      "func:'rf_models'  took: 1.1689 sec\n",
      "\n",
      "NEK2_inhibition_MOE_UNDER_BRFC_fold4\n"
     ]
    },
    {
     "name": "stderr",
     "output_type": "stream",
     "text": [
      "/Users/jayceepang/miniconda3/envs/atom2024/lib/python3.9/site-packages/imblearn/ensemble/_forest.py:577: FutureWarning: The default of `sampling_strategy` will change from `'auto'` to `'all'` in version 0.13. This change will follow the implementation proposed in the original paper. Set to `'all'` to silence this warning and adopt the future behaviour.\n",
      "  warn(\n",
      "/Users/jayceepang/miniconda3/envs/atom2024/lib/python3.9/site-packages/imblearn/ensemble/_forest.py:589: FutureWarning: The default of `replacement` will change from `False` to `True` in version 0.13. This change will follow the implementation proposed in the original paper. Set to `True` to silence this warning and adopt the future behaviour.\n",
      "  warn(\n"
     ]
    },
    {
     "name": "stdout",
     "output_type": "stream",
     "text": [
      "TRAIN: acc: 1.000, precision: 1.000, recall: 1.000, spec: 1.000\n",
      "TEST: acc: 0.778, precision: 0.760, recall: 0.826, spec: 0.727\n",
      "func:'rf_models'  took: 1.2799 sec\n",
      "\n",
      "NEK2_inhibition_MOE_UNDER_BRFC_BCW_fold4\n"
     ]
    },
    {
     "name": "stderr",
     "output_type": "stream",
     "text": [
      "/Users/jayceepang/miniconda3/envs/atom2024/lib/python3.9/site-packages/imblearn/ensemble/_forest.py:577: FutureWarning: The default of `sampling_strategy` will change from `'auto'` to `'all'` in version 0.13. This change will follow the implementation proposed in the original paper. Set to `'all'` to silence this warning and adopt the future behaviour.\n",
      "  warn(\n",
      "/Users/jayceepang/miniconda3/envs/atom2024/lib/python3.9/site-packages/imblearn/ensemble/_forest.py:589: FutureWarning: The default of `replacement` will change from `False` to `True` in version 0.13. This change will follow the implementation proposed in the original paper. Set to `True` to silence this warning and adopt the future behaviour.\n",
      "  warn(\n"
     ]
    },
    {
     "name": "stdout",
     "output_type": "stream",
     "text": [
      "TRAIN: acc: 1.000, precision: 1.000, recall: 1.000, spec: 1.000\n",
      "TEST: acc: 0.822, precision: 0.800, recall: 0.870, spec: 0.773\n",
      "func:'rf_models'  took: 1.1874 sec\n",
      "\n",
      "NEK2_inhibition_MOE_UNDER_RF_fold5\n",
      "TRAIN: acc: 1.000, precision: 1.000, recall: 1.000, spec: 1.000\n",
      "TEST: acc: 0.795, precision: 0.810, recall: 0.773, spec: 0.818\n",
      "func:'rf_models'  took: 1.1165 sec\n",
      "\n",
      "NEK2_inhibition_MOE_UNDER_RF_BCW_fold5\n",
      "TRAIN: acc: 1.000, precision: 1.000, recall: 1.000, spec: 1.000\n",
      "TEST: acc: 0.773, precision: 0.750, recall: 0.818, spec: 0.727\n",
      "func:'rf_models'  took: 1.1531 sec\n",
      "\n",
      "NEK2_inhibition_MOE_UNDER_BRFC_fold5\n"
     ]
    },
    {
     "name": "stderr",
     "output_type": "stream",
     "text": [
      "/Users/jayceepang/miniconda3/envs/atom2024/lib/python3.9/site-packages/imblearn/ensemble/_forest.py:577: FutureWarning: The default of `sampling_strategy` will change from `'auto'` to `'all'` in version 0.13. This change will follow the implementation proposed in the original paper. Set to `'all'` to silence this warning and adopt the future behaviour.\n",
      "  warn(\n",
      "/Users/jayceepang/miniconda3/envs/atom2024/lib/python3.9/site-packages/imblearn/ensemble/_forest.py:589: FutureWarning: The default of `replacement` will change from `False` to `True` in version 0.13. This change will follow the implementation proposed in the original paper. Set to `True` to silence this warning and adopt the future behaviour.\n",
      "  warn(\n"
     ]
    },
    {
     "name": "stdout",
     "output_type": "stream",
     "text": [
      "TRAIN: acc: 1.000, precision: 1.000, recall: 1.000, spec: 1.000\n",
      "TEST: acc: 0.773, precision: 0.773, recall: 0.773, spec: 0.773\n",
      "func:'rf_models'  took: 1.1363 sec\n",
      "\n",
      "NEK2_inhibition_MOE_UNDER_BRFC_BCW_fold5\n"
     ]
    },
    {
     "name": "stderr",
     "output_type": "stream",
     "text": [
      "/Users/jayceepang/miniconda3/envs/atom2024/lib/python3.9/site-packages/imblearn/ensemble/_forest.py:577: FutureWarning: The default of `sampling_strategy` will change from `'auto'` to `'all'` in version 0.13. This change will follow the implementation proposed in the original paper. Set to `'all'` to silence this warning and adopt the future behaviour.\n",
      "  warn(\n",
      "/Users/jayceepang/miniconda3/envs/atom2024/lib/python3.9/site-packages/imblearn/ensemble/_forest.py:589: FutureWarning: The default of `replacement` will change from `False` to `True` in version 0.13. This change will follow the implementation proposed in the original paper. Set to `True` to silence this warning and adopt the future behaviour.\n",
      "  warn(\n"
     ]
    },
    {
     "name": "stdout",
     "output_type": "stream",
     "text": [
      "TRAIN: acc: 1.000, precision: 1.000, recall: 1.000, spec: 1.000\n",
      "TEST: acc: 0.795, precision: 0.810, recall: 0.773, spec: 0.818\n",
      "func:'rf_models'  took: 1.1784 sec\n",
      "\n",
      "NEK2_inhibition_MOE_SMOTE_RF_fold1\n",
      "TRAIN: acc: 1.000, precision: 1.000, recall: 1.000, spec: 1.000\n",
      "TEST: acc: 0.955, precision: 0.942, recall: 0.970, spec: 0.941\n",
      "func:'rf_models'  took: 37.4272 sec\n",
      "\n",
      "NEK2_inhibition_MOE_SMOTE_RF_BCW_fold1\n",
      "TRAIN: acc: 1.000, precision: 1.000, recall: 1.000, spec: 1.000\n",
      "TEST: acc: 0.954, precision: 0.939, recall: 0.970, spec: 0.937\n",
      "func:'rf_models'  took: 36.9318 sec\n",
      "\n",
      "NEK2_inhibition_MOE_SMOTE_BRFC_fold1\n"
     ]
    },
    {
     "name": "stderr",
     "output_type": "stream",
     "text": [
      "/Users/jayceepang/miniconda3/envs/atom2024/lib/python3.9/site-packages/imblearn/ensemble/_forest.py:577: FutureWarning: The default of `sampling_strategy` will change from `'auto'` to `'all'` in version 0.13. This change will follow the implementation proposed in the original paper. Set to `'all'` to silence this warning and adopt the future behaviour.\n",
      "  warn(\n",
      "/Users/jayceepang/miniconda3/envs/atom2024/lib/python3.9/site-packages/imblearn/ensemble/_forest.py:589: FutureWarning: The default of `replacement` will change from `False` to `True` in version 0.13. This change will follow the implementation proposed in the original paper. Set to `True` to silence this warning and adopt the future behaviour.\n",
      "  warn(\n"
     ]
    },
    {
     "name": "stdout",
     "output_type": "stream",
     "text": [
      "TRAIN: acc: 1.000, precision: 1.000, recall: 1.000, spec: 1.000\n",
      "TEST: acc: 0.955, precision: 0.942, recall: 0.970, spec: 0.941\n",
      "func:'rf_models'  took: 36.1740 sec\n",
      "\n",
      "NEK2_inhibition_MOE_SMOTE_BRFC_BCW_fold1\n"
     ]
    },
    {
     "name": "stderr",
     "output_type": "stream",
     "text": [
      "/Users/jayceepang/miniconda3/envs/atom2024/lib/python3.9/site-packages/imblearn/ensemble/_forest.py:577: FutureWarning: The default of `sampling_strategy` will change from `'auto'` to `'all'` in version 0.13. This change will follow the implementation proposed in the original paper. Set to `'all'` to silence this warning and adopt the future behaviour.\n",
      "  warn(\n",
      "/Users/jayceepang/miniconda3/envs/atom2024/lib/python3.9/site-packages/imblearn/ensemble/_forest.py:589: FutureWarning: The default of `replacement` will change from `False` to `True` in version 0.13. This change will follow the implementation proposed in the original paper. Set to `True` to silence this warning and adopt the future behaviour.\n",
      "  warn(\n"
     ]
    },
    {
     "name": "stdout",
     "output_type": "stream",
     "text": [
      "TRAIN: acc: 1.000, precision: 1.000, recall: 1.000, spec: 1.000\n",
      "TEST: acc: 0.954, precision: 0.939, recall: 0.970, spec: 0.937\n",
      "func:'rf_models'  took: 37.5561 sec\n",
      "\n",
      "NEK2_inhibition_MOE_SMOTE_RF_fold2\n",
      "TRAIN: acc: 1.000, precision: 1.000, recall: 1.000, spec: 1.000\n",
      "TEST: acc: 0.969, precision: 0.955, recall: 0.983, spec: 0.954\n",
      "func:'rf_models'  took: 40.0944 sec\n",
      "\n",
      "NEK2_inhibition_MOE_SMOTE_RF_BCW_fold2\n",
      "TRAIN: acc: 1.000, precision: 1.000, recall: 1.000, spec: 1.000\n",
      "TEST: acc: 0.960, precision: 0.943, recall: 0.980, spec: 0.941\n",
      "func:'rf_models'  took: 41.3047 sec\n",
      "\n",
      "NEK2_inhibition_MOE_SMOTE_BRFC_fold2\n"
     ]
    },
    {
     "name": "stderr",
     "output_type": "stream",
     "text": [
      "/Users/jayceepang/miniconda3/envs/atom2024/lib/python3.9/site-packages/imblearn/ensemble/_forest.py:577: FutureWarning: The default of `sampling_strategy` will change from `'auto'` to `'all'` in version 0.13. This change will follow the implementation proposed in the original paper. Set to `'all'` to silence this warning and adopt the future behaviour.\n",
      "  warn(\n",
      "/Users/jayceepang/miniconda3/envs/atom2024/lib/python3.9/site-packages/imblearn/ensemble/_forest.py:589: FutureWarning: The default of `replacement` will change from `False` to `True` in version 0.13. This change will follow the implementation proposed in the original paper. Set to `True` to silence this warning and adopt the future behaviour.\n",
      "  warn(\n"
     ]
    },
    {
     "name": "stdout",
     "output_type": "stream",
     "text": [
      "TRAIN: acc: 1.000, precision: 1.000, recall: 1.000, spec: 1.000\n",
      "TEST: acc: 0.962, precision: 0.946, recall: 0.980, spec: 0.944\n",
      "func:'rf_models'  took: 39.3914 sec\n",
      "\n",
      "NEK2_inhibition_MOE_SMOTE_BRFC_BCW_fold2\n"
     ]
    },
    {
     "name": "stderr",
     "output_type": "stream",
     "text": [
      "/Users/jayceepang/miniconda3/envs/atom2024/lib/python3.9/site-packages/imblearn/ensemble/_forest.py:577: FutureWarning: The default of `sampling_strategy` will change from `'auto'` to `'all'` in version 0.13. This change will follow the implementation proposed in the original paper. Set to `'all'` to silence this warning and adopt the future behaviour.\n",
      "  warn(\n",
      "/Users/jayceepang/miniconda3/envs/atom2024/lib/python3.9/site-packages/imblearn/ensemble/_forest.py:589: FutureWarning: The default of `replacement` will change from `False` to `True` in version 0.13. This change will follow the implementation proposed in the original paper. Set to `True` to silence this warning and adopt the future behaviour.\n",
      "  warn(\n"
     ]
    },
    {
     "name": "stdout",
     "output_type": "stream",
     "text": [
      "TRAIN: acc: 1.000, precision: 1.000, recall: 1.000, spec: 1.000\n",
      "TEST: acc: 0.964, precision: 0.949, recall: 0.980, spec: 0.947\n",
      "func:'rf_models'  took: 40.4964 sec\n",
      "\n",
      "NEK2_inhibition_MOE_SMOTE_RF_fold3\n",
      "TRAIN: acc: 1.000, precision: 1.000, recall: 1.000, spec: 1.000\n",
      "TEST: acc: 0.964, precision: 0.955, recall: 0.974, spec: 0.954\n",
      "func:'rf_models'  took: 39.2465 sec\n",
      "\n",
      "NEK2_inhibition_MOE_SMOTE_RF_BCW_fold3\n",
      "TRAIN: acc: 1.000, precision: 1.000, recall: 1.000, spec: 1.000\n",
      "TEST: acc: 0.962, precision: 0.957, recall: 0.967, spec: 0.957\n",
      "func:'rf_models'  took: 40.3557 sec\n",
      "\n",
      "NEK2_inhibition_MOE_SMOTE_BRFC_fold3\n"
     ]
    },
    {
     "name": "stderr",
     "output_type": "stream",
     "text": [
      "/Users/jayceepang/miniconda3/envs/atom2024/lib/python3.9/site-packages/imblearn/ensemble/_forest.py:577: FutureWarning: The default of `sampling_strategy` will change from `'auto'` to `'all'` in version 0.13. This change will follow the implementation proposed in the original paper. Set to `'all'` to silence this warning and adopt the future behaviour.\n",
      "  warn(\n",
      "/Users/jayceepang/miniconda3/envs/atom2024/lib/python3.9/site-packages/imblearn/ensemble/_forest.py:589: FutureWarning: The default of `replacement` will change from `False` to `True` in version 0.13. This change will follow the implementation proposed in the original paper. Set to `True` to silence this warning and adopt the future behaviour.\n",
      "  warn(\n"
     ]
    },
    {
     "name": "stdout",
     "output_type": "stream",
     "text": [
      "TRAIN: acc: 1.000, precision: 1.000, recall: 1.000, spec: 1.000\n",
      "TEST: acc: 0.965, precision: 0.958, recall: 0.974, spec: 0.957\n",
      "func:'rf_models'  took: 39.0166 sec\n",
      "\n",
      "NEK2_inhibition_MOE_SMOTE_BRFC_BCW_fold3\n"
     ]
    },
    {
     "name": "stderr",
     "output_type": "stream",
     "text": [
      "/Users/jayceepang/miniconda3/envs/atom2024/lib/python3.9/site-packages/imblearn/ensemble/_forest.py:577: FutureWarning: The default of `sampling_strategy` will change from `'auto'` to `'all'` in version 0.13. This change will follow the implementation proposed in the original paper. Set to `'all'` to silence this warning and adopt the future behaviour.\n",
      "  warn(\n",
      "/Users/jayceepang/miniconda3/envs/atom2024/lib/python3.9/site-packages/imblearn/ensemble/_forest.py:589: FutureWarning: The default of `replacement` will change from `False` to `True` in version 0.13. This change will follow the implementation proposed in the original paper. Set to `True` to silence this warning and adopt the future behaviour.\n",
      "  warn(\n"
     ]
    },
    {
     "name": "stdout",
     "output_type": "stream",
     "text": [
      "TRAIN: acc: 1.000, precision: 1.000, recall: 1.000, spec: 1.000\n",
      "TEST: acc: 0.962, precision: 0.957, recall: 0.967, spec: 0.957\n",
      "func:'rf_models'  took: 40.0960 sec\n",
      "\n",
      "NEK2_inhibition_MOE_SMOTE_RF_fold4\n",
      "TRAIN: acc: 1.000, precision: 1.000, recall: 1.000, spec: 1.000\n",
      "TEST: acc: 0.962, precision: 0.964, recall: 0.960, spec: 0.964\n",
      "func:'rf_models'  took: 30.7094 sec\n",
      "\n",
      "NEK2_inhibition_MOE_SMOTE_RF_BCW_fold4\n",
      "TRAIN: acc: 1.000, precision: 1.000, recall: 1.000, spec: 1.000\n",
      "TEST: acc: 0.957, precision: 0.954, recall: 0.960, spec: 0.954\n",
      "func:'rf_models'  took: 31.3772 sec\n",
      "\n",
      "NEK2_inhibition_MOE_SMOTE_BRFC_fold4\n"
     ]
    },
    {
     "name": "stderr",
     "output_type": "stream",
     "text": [
      "/Users/jayceepang/miniconda3/envs/atom2024/lib/python3.9/site-packages/imblearn/ensemble/_forest.py:577: FutureWarning: The default of `sampling_strategy` will change from `'auto'` to `'all'` in version 0.13. This change will follow the implementation proposed in the original paper. Set to `'all'` to silence this warning and adopt the future behaviour.\n",
      "  warn(\n",
      "/Users/jayceepang/miniconda3/envs/atom2024/lib/python3.9/site-packages/imblearn/ensemble/_forest.py:589: FutureWarning: The default of `replacement` will change from `False` to `True` in version 0.13. This change will follow the implementation proposed in the original paper. Set to `True` to silence this warning and adopt the future behaviour.\n",
      "  warn(\n"
     ]
    },
    {
     "name": "stdout",
     "output_type": "stream",
     "text": [
      "TRAIN: acc: 1.000, precision: 1.000, recall: 1.000, spec: 1.000\n",
      "TEST: acc: 0.962, precision: 0.964, recall: 0.960, spec: 0.964\n",
      "func:'rf_models'  took: 30.9957 sec\n",
      "\n",
      "NEK2_inhibition_MOE_SMOTE_BRFC_BCW_fold4\n"
     ]
    },
    {
     "name": "stderr",
     "output_type": "stream",
     "text": [
      "/Users/jayceepang/miniconda3/envs/atom2024/lib/python3.9/site-packages/imblearn/ensemble/_forest.py:577: FutureWarning: The default of `sampling_strategy` will change from `'auto'` to `'all'` in version 0.13. This change will follow the implementation proposed in the original paper. Set to `'all'` to silence this warning and adopt the future behaviour.\n",
      "  warn(\n",
      "/Users/jayceepang/miniconda3/envs/atom2024/lib/python3.9/site-packages/imblearn/ensemble/_forest.py:589: FutureWarning: The default of `replacement` will change from `False` to `True` in version 0.13. This change will follow the implementation proposed in the original paper. Set to `True` to silence this warning and adopt the future behaviour.\n",
      "  warn(\n"
     ]
    },
    {
     "name": "stdout",
     "output_type": "stream",
     "text": [
      "TRAIN: acc: 1.000, precision: 1.000, recall: 1.000, spec: 1.000\n",
      "TEST: acc: 0.957, precision: 0.954, recall: 0.960, spec: 0.954\n",
      "func:'rf_models'  took: 31.5667 sec\n",
      "\n",
      "NEK2_inhibition_MOE_SMOTE_RF_fold5\n",
      "TRAIN: acc: 1.000, precision: 1.000, recall: 1.000, spec: 1.000\n",
      "TEST: acc: 0.945, precision: 0.930, recall: 0.964, spec: 0.927\n",
      "func:'rf_models'  took: 37.7054 sec\n",
      "\n",
      "NEK2_inhibition_MOE_SMOTE_RF_BCW_fold5\n",
      "TRAIN: acc: 1.000, precision: 1.000, recall: 1.000, spec: 1.000\n",
      "TEST: acc: 0.950, precision: 0.939, recall: 0.964, spec: 0.937\n",
      "func:'rf_models'  took: 39.3277 sec\n",
      "\n",
      "NEK2_inhibition_MOE_SMOTE_BRFC_fold5\n"
     ]
    },
    {
     "name": "stderr",
     "output_type": "stream",
     "text": [
      "/Users/jayceepang/miniconda3/envs/atom2024/lib/python3.9/site-packages/imblearn/ensemble/_forest.py:577: FutureWarning: The default of `sampling_strategy` will change from `'auto'` to `'all'` in version 0.13. This change will follow the implementation proposed in the original paper. Set to `'all'` to silence this warning and adopt the future behaviour.\n",
      "  warn(\n",
      "/Users/jayceepang/miniconda3/envs/atom2024/lib/python3.9/site-packages/imblearn/ensemble/_forest.py:589: FutureWarning: The default of `replacement` will change from `False` to `True` in version 0.13. This change will follow the implementation proposed in the original paper. Set to `True` to silence this warning and adopt the future behaviour.\n",
      "  warn(\n"
     ]
    },
    {
     "name": "stdout",
     "output_type": "stream",
     "text": [
      "TRAIN: acc: 1.000, precision: 1.000, recall: 1.000, spec: 1.000\n",
      "TEST: acc: 0.952, precision: 0.942, recall: 0.964, spec: 0.940\n",
      "func:'rf_models'  took: 38.1405 sec\n",
      "\n",
      "NEK2_inhibition_MOE_SMOTE_BRFC_BCW_fold5\n"
     ]
    },
    {
     "name": "stderr",
     "output_type": "stream",
     "text": [
      "/Users/jayceepang/miniconda3/envs/atom2024/lib/python3.9/site-packages/imblearn/ensemble/_forest.py:577: FutureWarning: The default of `sampling_strategy` will change from `'auto'` to `'all'` in version 0.13. This change will follow the implementation proposed in the original paper. Set to `'all'` to silence this warning and adopt the future behaviour.\n",
      "  warn(\n",
      "/Users/jayceepang/miniconda3/envs/atom2024/lib/python3.9/site-packages/imblearn/ensemble/_forest.py:589: FutureWarning: The default of `replacement` will change from `False` to `True` in version 0.13. This change will follow the implementation proposed in the original paper. Set to `True` to silence this warning and adopt the future behaviour.\n",
      "  warn(\n"
     ]
    },
    {
     "name": "stdout",
     "output_type": "stream",
     "text": [
      "TRAIN: acc: 1.000, precision: 1.000, recall: 1.000, spec: 1.000\n",
      "TEST: acc: 0.950, precision: 0.939, recall: 0.964, spec: 0.937\n",
      "func:'rf_models'  took: 39.3464 sec\n",
      "\n",
      "NEK2_inhibition_MOE_ADASYN_RF_fold1\n",
      "TRAIN: acc: 1.000, precision: 1.000, recall: 1.000, spec: 1.000\n",
      "TEST: acc: 0.969, precision: 0.961, recall: 0.977, spec: 0.960\n",
      "func:'rf_models'  took: 47.8858 sec\n",
      "\n",
      "NEK2_inhibition_MOE_ADASYN_RF_BCW_fold1\n",
      "TRAIN: acc: 1.000, precision: 1.000, recall: 1.000, spec: 1.000\n",
      "TEST: acc: 0.969, precision: 0.958, recall: 0.980, spec: 0.957\n",
      "func:'rf_models'  took: 49.6325 sec\n",
      "\n",
      "NEK2_inhibition_MOE_ADASYN_BRFC_fold1\n"
     ]
    },
    {
     "name": "stderr",
     "output_type": "stream",
     "text": [
      "/Users/jayceepang/miniconda3/envs/atom2024/lib/python3.9/site-packages/imblearn/ensemble/_forest.py:577: FutureWarning: The default of `sampling_strategy` will change from `'auto'` to `'all'` in version 0.13. This change will follow the implementation proposed in the original paper. Set to `'all'` to silence this warning and adopt the future behaviour.\n",
      "  warn(\n",
      "/Users/jayceepang/miniconda3/envs/atom2024/lib/python3.9/site-packages/imblearn/ensemble/_forest.py:589: FutureWarning: The default of `replacement` will change from `False` to `True` in version 0.13. This change will follow the implementation proposed in the original paper. Set to `True` to silence this warning and adopt the future behaviour.\n",
      "  warn(\n"
     ]
    },
    {
     "name": "stdout",
     "output_type": "stream",
     "text": [
      "TRAIN: acc: 1.000, precision: 1.000, recall: 1.000, spec: 1.000\n",
      "TEST: acc: 0.969, precision: 0.961, recall: 0.977, spec: 0.960\n",
      "func:'rf_models'  took: 46.9541 sec\n",
      "\n",
      "NEK2_inhibition_MOE_ADASYN_BRFC_BCW_fold1\n"
     ]
    },
    {
     "name": "stderr",
     "output_type": "stream",
     "text": [
      "/Users/jayceepang/miniconda3/envs/atom2024/lib/python3.9/site-packages/imblearn/ensemble/_forest.py:577: FutureWarning: The default of `sampling_strategy` will change from `'auto'` to `'all'` in version 0.13. This change will follow the implementation proposed in the original paper. Set to `'all'` to silence this warning and adopt the future behaviour.\n",
      "  warn(\n",
      "/Users/jayceepang/miniconda3/envs/atom2024/lib/python3.9/site-packages/imblearn/ensemble/_forest.py:589: FutureWarning: The default of `replacement` will change from `False` to `True` in version 0.13. This change will follow the implementation proposed in the original paper. Set to `True` to silence this warning and adopt the future behaviour.\n",
      "  warn(\n"
     ]
    },
    {
     "name": "stdout",
     "output_type": "stream",
     "text": [
      "TRAIN: acc: 1.000, precision: 1.000, recall: 1.000, spec: 1.000\n",
      "TEST: acc: 0.967, precision: 0.955, recall: 0.980, spec: 0.954\n",
      "func:'rf_models'  took: 48.9806 sec\n",
      "\n",
      "NEK2_inhibition_MOE_ADASYN_RF_fold2\n",
      "TRAIN: acc: 1.000, precision: 1.000, recall: 1.000, spec: 1.000\n",
      "TEST: acc: 0.951, precision: 0.931, recall: 0.974, spec: 0.927\n",
      "func:'rf_models'  took: 50.3469 sec\n",
      "\n",
      "NEK2_inhibition_MOE_ADASYN_RF_BCW_fold2\n",
      "TRAIN: acc: 1.000, precision: 1.000, recall: 1.000, spec: 1.000\n",
      "TEST: acc: 0.952, precision: 0.937, recall: 0.970, spec: 0.934\n",
      "func:'rf_models'  took: 51.2668 sec\n",
      "\n",
      "NEK2_inhibition_MOE_ADASYN_BRFC_fold2\n"
     ]
    },
    {
     "name": "stderr",
     "output_type": "stream",
     "text": [
      "/Users/jayceepang/miniconda3/envs/atom2024/lib/python3.9/site-packages/imblearn/ensemble/_forest.py:577: FutureWarning: The default of `sampling_strategy` will change from `'auto'` to `'all'` in version 0.13. This change will follow the implementation proposed in the original paper. Set to `'all'` to silence this warning and adopt the future behaviour.\n",
      "  warn(\n",
      "/Users/jayceepang/miniconda3/envs/atom2024/lib/python3.9/site-packages/imblearn/ensemble/_forest.py:589: FutureWarning: The default of `replacement` will change from `False` to `True` in version 0.13. This change will follow the implementation proposed in the original paper. Set to `True` to silence this warning and adopt the future behaviour.\n",
      "  warn(\n"
     ]
    },
    {
     "name": "stdout",
     "output_type": "stream",
     "text": [
      "TRAIN: acc: 1.000, precision: 1.000, recall: 1.000, spec: 1.000\n",
      "TEST: acc: 0.957, precision: 0.943, recall: 0.974, spec: 0.941\n",
      "func:'rf_models'  took: 50.2719 sec\n",
      "\n",
      "NEK2_inhibition_MOE_ADASYN_BRFC_BCW_fold2\n"
     ]
    },
    {
     "name": "stderr",
     "output_type": "stream",
     "text": [
      "/Users/jayceepang/miniconda3/envs/atom2024/lib/python3.9/site-packages/imblearn/ensemble/_forest.py:577: FutureWarning: The default of `sampling_strategy` will change from `'auto'` to `'all'` in version 0.13. This change will follow the implementation proposed in the original paper. Set to `'all'` to silence this warning and adopt the future behaviour.\n",
      "  warn(\n",
      "/Users/jayceepang/miniconda3/envs/atom2024/lib/python3.9/site-packages/imblearn/ensemble/_forest.py:589: FutureWarning: The default of `replacement` will change from `False` to `True` in version 0.13. This change will follow the implementation proposed in the original paper. Set to `True` to silence this warning and adopt the future behaviour.\n",
      "  warn(\n"
     ]
    },
    {
     "name": "stdout",
     "output_type": "stream",
     "text": [
      "TRAIN: acc: 1.000, precision: 1.000, recall: 1.000, spec: 1.000\n",
      "TEST: acc: 0.952, precision: 0.937, recall: 0.970, spec: 0.934\n",
      "func:'rf_models'  took: 52.7537 sec\n",
      "\n",
      "NEK2_inhibition_MOE_ADASYN_RF_fold3\n",
      "TRAIN: acc: 1.000, precision: 1.000, recall: 1.000, spec: 1.000\n",
      "TEST: acc: 0.957, precision: 0.943, recall: 0.974, spec: 0.941\n",
      "func:'rf_models'  took: 46.8186 sec\n",
      "\n",
      "NEK2_inhibition_MOE_ADASYN_RF_BCW_fold3\n",
      "TRAIN: acc: 1.000, precision: 1.000, recall: 1.000, spec: 1.000\n",
      "TEST: acc: 0.959, precision: 0.943, recall: 0.977, spec: 0.941\n",
      "func:'rf_models'  took: 48.2110 sec\n",
      "\n",
      "NEK2_inhibition_MOE_ADASYN_BRFC_fold3\n"
     ]
    },
    {
     "name": "stderr",
     "output_type": "stream",
     "text": [
      "/Users/jayceepang/miniconda3/envs/atom2024/lib/python3.9/site-packages/imblearn/ensemble/_forest.py:577: FutureWarning: The default of `sampling_strategy` will change from `'auto'` to `'all'` in version 0.13. This change will follow the implementation proposed in the original paper. Set to `'all'` to silence this warning and adopt the future behaviour.\n",
      "  warn(\n",
      "/Users/jayceepang/miniconda3/envs/atom2024/lib/python3.9/site-packages/imblearn/ensemble/_forest.py:589: FutureWarning: The default of `replacement` will change from `False` to `True` in version 0.13. This change will follow the implementation proposed in the original paper. Set to `True` to silence this warning and adopt the future behaviour.\n",
      "  warn(\n"
     ]
    },
    {
     "name": "stdout",
     "output_type": "stream",
     "text": [
      "TRAIN: acc: 1.000, precision: 1.000, recall: 1.000, spec: 1.000\n",
      "TEST: acc: 0.959, precision: 0.946, recall: 0.974, spec: 0.944\n",
      "func:'rf_models'  took: 46.8285 sec\n",
      "\n",
      "NEK2_inhibition_MOE_ADASYN_BRFC_BCW_fold3\n"
     ]
    },
    {
     "name": "stderr",
     "output_type": "stream",
     "text": [
      "/Users/jayceepang/miniconda3/envs/atom2024/lib/python3.9/site-packages/imblearn/ensemble/_forest.py:577: FutureWarning: The default of `sampling_strategy` will change from `'auto'` to `'all'` in version 0.13. This change will follow the implementation proposed in the original paper. Set to `'all'` to silence this warning and adopt the future behaviour.\n",
      "  warn(\n",
      "/Users/jayceepang/miniconda3/envs/atom2024/lib/python3.9/site-packages/imblearn/ensemble/_forest.py:589: FutureWarning: The default of `replacement` will change from `False` to `True` in version 0.13. This change will follow the implementation proposed in the original paper. Set to `True` to silence this warning and adopt the future behaviour.\n",
      "  warn(\n"
     ]
    },
    {
     "name": "stdout",
     "output_type": "stream",
     "text": [
      "TRAIN: acc: 1.000, precision: 1.000, recall: 1.000, spec: 1.000\n",
      "TEST: acc: 0.956, precision: 0.940, recall: 0.974, spec: 0.937\n",
      "func:'rf_models'  took: 48.7166 sec\n",
      "\n",
      "NEK2_inhibition_MOE_ADASYN_RF_fold4\n",
      "TRAIN: acc: 1.000, precision: 1.000, recall: 1.000, spec: 1.000\n",
      "TEST: acc: 0.937, precision: 0.927, recall: 0.951, spec: 0.924\n",
      "func:'rf_models'  took: 49.8641 sec\n",
      "\n",
      "NEK2_inhibition_MOE_ADASYN_RF_BCW_fold4\n",
      "TRAIN: acc: 1.000, precision: 1.000, recall: 1.000, spec: 1.000\n",
      "TEST: acc: 0.937, precision: 0.911, recall: 0.970, spec: 0.904\n",
      "func:'rf_models'  took: 50.3120 sec\n",
      "\n",
      "NEK2_inhibition_MOE_ADASYN_BRFC_fold4\n"
     ]
    },
    {
     "name": "stderr",
     "output_type": "stream",
     "text": [
      "/Users/jayceepang/miniconda3/envs/atom2024/lib/python3.9/site-packages/imblearn/ensemble/_forest.py:577: FutureWarning: The default of `sampling_strategy` will change from `'auto'` to `'all'` in version 0.13. This change will follow the implementation proposed in the original paper. Set to `'all'` to silence this warning and adopt the future behaviour.\n",
      "  warn(\n",
      "/Users/jayceepang/miniconda3/envs/atom2024/lib/python3.9/site-packages/imblearn/ensemble/_forest.py:589: FutureWarning: The default of `replacement` will change from `False` to `True` in version 0.13. This change will follow the implementation proposed in the original paper. Set to `True` to silence this warning and adopt the future behaviour.\n",
      "  warn(\n"
     ]
    },
    {
     "name": "stdout",
     "output_type": "stream",
     "text": [
      "TRAIN: acc: 1.000, precision: 1.000, recall: 1.000, spec: 1.000\n",
      "TEST: acc: 0.939, precision: 0.927, recall: 0.954, spec: 0.924\n",
      "func:'rf_models'  took: 48.5407 sec\n",
      "\n",
      "NEK2_inhibition_MOE_ADASYN_BRFC_BCW_fold4\n"
     ]
    },
    {
     "name": "stderr",
     "output_type": "stream",
     "text": [
      "/Users/jayceepang/miniconda3/envs/atom2024/lib/python3.9/site-packages/imblearn/ensemble/_forest.py:577: FutureWarning: The default of `sampling_strategy` will change from `'auto'` to `'all'` in version 0.13. This change will follow the implementation proposed in the original paper. Set to `'all'` to silence this warning and adopt the future behaviour.\n",
      "  warn(\n",
      "/Users/jayceepang/miniconda3/envs/atom2024/lib/python3.9/site-packages/imblearn/ensemble/_forest.py:589: FutureWarning: The default of `replacement` will change from `False` to `True` in version 0.13. This change will follow the implementation proposed in the original paper. Set to `True` to silence this warning and adopt the future behaviour.\n",
      "  warn(\n"
     ]
    },
    {
     "name": "stdout",
     "output_type": "stream",
     "text": [
      "TRAIN: acc: 1.000, precision: 1.000, recall: 1.000, spec: 1.000\n",
      "TEST: acc: 0.941, precision: 0.914, recall: 0.974, spec: 0.907\n",
      "func:'rf_models'  took: 50.0199 sec\n",
      "\n",
      "NEK2_inhibition_MOE_ADASYN_RF_fold5\n",
      "TRAIN: acc: 1.000, precision: 1.000, recall: 1.000, spec: 1.000\n",
      "TEST: acc: 0.964, precision: 0.955, recall: 0.974, spec: 0.954\n",
      "func:'rf_models'  took: 45.9544 sec\n",
      "\n",
      "NEK2_inhibition_MOE_ADASYN_RF_BCW_fold5\n",
      "TRAIN: acc: 1.000, precision: 1.000, recall: 1.000, spec: 1.000\n",
      "TEST: acc: 0.960, precision: 0.949, recall: 0.974, spec: 0.947\n",
      "func:'rf_models'  took: 46.8394 sec\n",
      "\n",
      "NEK2_inhibition_MOE_ADASYN_BRFC_fold5\n"
     ]
    },
    {
     "name": "stderr",
     "output_type": "stream",
     "text": [
      "/Users/jayceepang/miniconda3/envs/atom2024/lib/python3.9/site-packages/imblearn/ensemble/_forest.py:577: FutureWarning: The default of `sampling_strategy` will change from `'auto'` to `'all'` in version 0.13. This change will follow the implementation proposed in the original paper. Set to `'all'` to silence this warning and adopt the future behaviour.\n",
      "  warn(\n",
      "/Users/jayceepang/miniconda3/envs/atom2024/lib/python3.9/site-packages/imblearn/ensemble/_forest.py:589: FutureWarning: The default of `replacement` will change from `False` to `True` in version 0.13. This change will follow the implementation proposed in the original paper. Set to `True` to silence this warning and adopt the future behaviour.\n",
      "  warn(\n"
     ]
    },
    {
     "name": "stdout",
     "output_type": "stream",
     "text": [
      "TRAIN: acc: 1.000, precision: 1.000, recall: 1.000, spec: 1.000\n",
      "TEST: acc: 0.967, precision: 0.961, recall: 0.974, spec: 0.960\n",
      "func:'rf_models'  took: 45.9672 sec\n",
      "\n",
      "NEK2_inhibition_MOE_ADASYN_BRFC_BCW_fold5\n"
     ]
    },
    {
     "name": "stderr",
     "output_type": "stream",
     "text": [
      "/Users/jayceepang/miniconda3/envs/atom2024/lib/python3.9/site-packages/imblearn/ensemble/_forest.py:577: FutureWarning: The default of `sampling_strategy` will change from `'auto'` to `'all'` in version 0.13. This change will follow the implementation proposed in the original paper. Set to `'all'` to silence this warning and adopt the future behaviour.\n",
      "  warn(\n",
      "/Users/jayceepang/miniconda3/envs/atom2024/lib/python3.9/site-packages/imblearn/ensemble/_forest.py:589: FutureWarning: The default of `replacement` will change from `False` to `True` in version 0.13. This change will follow the implementation proposed in the original paper. Set to `True` to silence this warning and adopt the future behaviour.\n",
      "  warn(\n"
     ]
    },
    {
     "name": "stdout",
     "output_type": "stream",
     "text": [
      "TRAIN: acc: 1.000, precision: 1.000, recall: 1.000, spec: 1.000\n",
      "TEST: acc: 0.964, precision: 0.955, recall: 0.974, spec: 0.954\n",
      "func:'rf_models'  took: 46.7020 sec\n",
      "\n",
      "NEK2_inhibition_MFP_none_scaled_RF_fold1\n",
      "TRAIN: acc: 0.998, precision: 0.989, recall: 0.989, spec: 0.999\n",
      "TEST: acc: 0.923, precision: 0.457, recall: 0.727, spec: 0.937\n",
      "func:'rf_models'  took: 5.1415 sec\n",
      "\n",
      "NEK2_inhibition_MFP_none_scaled_RF_BCW_fold1\n",
      "TRAIN: acc: 0.998, precision: 0.978, recall: 1.000, spec: 0.998\n",
      "TEST: acc: 0.938, precision: 0.533, recall: 0.727, spec: 0.954\n",
      "func:'rf_models'  took: 2.9580 sec\n",
      "\n",
      "NEK2_inhibition_MFP_none_scaled_BRFC_fold1\n"
     ]
    },
    {
     "name": "stderr",
     "output_type": "stream",
     "text": [
      "/Users/jayceepang/miniconda3/envs/atom2024/lib/python3.9/site-packages/imblearn/ensemble/_forest.py:577: FutureWarning: The default of `sampling_strategy` will change from `'auto'` to `'all'` in version 0.13. This change will follow the implementation proposed in the original paper. Set to `'all'` to silence this warning and adopt the future behaviour.\n",
      "  warn(\n",
      "/Users/jayceepang/miniconda3/envs/atom2024/lib/python3.9/site-packages/imblearn/ensemble/_forest.py:589: FutureWarning: The default of `replacement` will change from `False` to `True` in version 0.13. This change will follow the implementation proposed in the original paper. Set to `True` to silence this warning and adopt the future behaviour.\n",
      "  warn(\n"
     ]
    },
    {
     "name": "stdout",
     "output_type": "stream",
     "text": [
      "TRAIN: acc: 0.905, precision: 0.423, recall: 1.000, spec: 0.898\n",
      "TEST: acc: 0.849, precision: 0.286, recall: 0.818, spec: 0.851\n",
      "func:'rf_models'  took: 0.4768 sec\n",
      "\n",
      "NEK2_inhibition_MFP_none_scaled_BRFC_BCW_fold1\n"
     ]
    },
    {
     "name": "stderr",
     "output_type": "stream",
     "text": [
      "/Users/jayceepang/miniconda3/envs/atom2024/lib/python3.9/site-packages/imblearn/ensemble/_forest.py:577: FutureWarning: The default of `sampling_strategy` will change from `'auto'` to `'all'` in version 0.13. This change will follow the implementation proposed in the original paper. Set to `'all'` to silence this warning and adopt the future behaviour.\n",
      "  warn(\n",
      "/Users/jayceepang/miniconda3/envs/atom2024/lib/python3.9/site-packages/imblearn/ensemble/_forest.py:589: FutureWarning: The default of `replacement` will change from `False` to `True` in version 0.13. This change will follow the implementation proposed in the original paper. Set to `True` to silence this warning and adopt the future behaviour.\n",
      "  warn(\n"
     ]
    },
    {
     "name": "stdout",
     "output_type": "stream",
     "text": [
      "TRAIN: acc: 0.752, precision: 0.218, recall: 1.000, spec: 0.734\n",
      "TEST: acc: 0.714, precision: 0.180, recall: 0.909, spec: 0.700\n",
      "func:'rf_models'  took: 0.9092 sec\n",
      "\n",
      "NEK2_inhibition_MFP_none_scaled_RF_fold2\n",
      "TRAIN: acc: 0.999, precision: 1.000, recall: 0.989, spec: 1.000\n",
      "TEST: acc: 0.942, precision: 0.552, recall: 0.727, spec: 0.957\n",
      "func:'rf_models'  took: 7.3031 sec\n",
      "\n",
      "NEK2_inhibition_MFP_none_scaled_RF_BCW_fold2\n",
      "TRAIN: acc: 0.999, precision: 0.989, recall: 1.000, spec: 0.999\n",
      "TEST: acc: 0.935, precision: 0.517, recall: 0.682, spec: 0.954\n",
      "func:'rf_models'  took: 2.7761 sec\n",
      "\n",
      "NEK2_inhibition_MFP_none_scaled_BRFC_fold2\n"
     ]
    },
    {
     "name": "stderr",
     "output_type": "stream",
     "text": [
      "/Users/jayceepang/miniconda3/envs/atom2024/lib/python3.9/site-packages/imblearn/ensemble/_forest.py:577: FutureWarning: The default of `sampling_strategy` will change from `'auto'` to `'all'` in version 0.13. This change will follow the implementation proposed in the original paper. Set to `'all'` to silence this warning and adopt the future behaviour.\n",
      "  warn(\n",
      "/Users/jayceepang/miniconda3/envs/atom2024/lib/python3.9/site-packages/imblearn/ensemble/_forest.py:589: FutureWarning: The default of `replacement` will change from `False` to `True` in version 0.13. This change will follow the implementation proposed in the original paper. Set to `True` to silence this warning and adopt the future behaviour.\n",
      "  warn(\n"
     ]
    },
    {
     "name": "stdout",
     "output_type": "stream",
     "text": [
      "TRAIN: acc: 0.919, precision: 0.462, recall: 1.000, spec: 0.913\n",
      "TEST: acc: 0.868, precision: 0.333, recall: 0.955, spec: 0.861\n",
      "func:'rf_models'  took: 0.4898 sec\n",
      "\n",
      "NEK2_inhibition_MFP_none_scaled_BRFC_BCW_fold2\n"
     ]
    },
    {
     "name": "stderr",
     "output_type": "stream",
     "text": [
      "/Users/jayceepang/miniconda3/envs/atom2024/lib/python3.9/site-packages/imblearn/ensemble/_forest.py:577: FutureWarning: The default of `sampling_strategy` will change from `'auto'` to `'all'` in version 0.13. This change will follow the implementation proposed in the original paper. Set to `'all'` to silence this warning and adopt the future behaviour.\n",
      "  warn(\n",
      "/Users/jayceepang/miniconda3/envs/atom2024/lib/python3.9/site-packages/imblearn/ensemble/_forest.py:589: FutureWarning: The default of `replacement` will change from `False` to `True` in version 0.13. This change will follow the implementation proposed in the original paper. Set to `True` to silence this warning and adopt the future behaviour.\n",
      "  warn(\n"
     ]
    },
    {
     "name": "stdout",
     "output_type": "stream",
     "text": [
      "TRAIN: acc: 0.728, precision: 0.203, recall: 1.000, spec: 0.708\n",
      "TEST: acc: 0.702, precision: 0.174, recall: 0.909, spec: 0.686\n",
      "func:'rf_models'  took: 0.9905 sec\n",
      "\n",
      "NEK2_inhibition_MFP_none_scaled_RF_fold3\n",
      "TRAIN: acc: 0.998, precision: 1.000, recall: 0.967, spec: 1.000\n",
      "TEST: acc: 0.942, precision: 0.565, recall: 0.591, spec: 0.967\n",
      "func:'rf_models'  took: 6.5068 sec\n",
      "\n",
      "NEK2_inhibition_MFP_none_scaled_RF_BCW_fold3\n",
      "TRAIN: acc: 0.998, precision: 0.968, recall: 1.000, spec: 0.998\n",
      "TEST: acc: 0.942, precision: 0.560, recall: 0.636, spec: 0.964\n",
      "func:'rf_models'  took: 2.8985 sec\n",
      "\n",
      "NEK2_inhibition_MFP_none_scaled_BRFC_fold3\n"
     ]
    },
    {
     "name": "stderr",
     "output_type": "stream",
     "text": [
      "/Users/jayceepang/miniconda3/envs/atom2024/lib/python3.9/site-packages/imblearn/ensemble/_forest.py:577: FutureWarning: The default of `sampling_strategy` will change from `'auto'` to `'all'` in version 0.13. This change will follow the implementation proposed in the original paper. Set to `'all'` to silence this warning and adopt the future behaviour.\n",
      "  warn(\n",
      "/Users/jayceepang/miniconda3/envs/atom2024/lib/python3.9/site-packages/imblearn/ensemble/_forest.py:589: FutureWarning: The default of `replacement` will change from `False` to `True` in version 0.13. This change will follow the implementation proposed in the original paper. Set to `True` to silence this warning and adopt the future behaviour.\n",
      "  warn(\n"
     ]
    },
    {
     "name": "stdout",
     "output_type": "stream",
     "text": [
      "TRAIN: acc: 0.928, precision: 0.489, recall: 1.000, spec: 0.922\n",
      "TEST: acc: 0.905, precision: 0.404, recall: 0.864, spec: 0.908\n",
      "func:'rf_models'  took: 0.4859 sec\n",
      "\n",
      "NEK2_inhibition_MFP_none_scaled_BRFC_BCW_fold3\n"
     ]
    },
    {
     "name": "stderr",
     "output_type": "stream",
     "text": [
      "/Users/jayceepang/miniconda3/envs/atom2024/lib/python3.9/site-packages/imblearn/ensemble/_forest.py:577: FutureWarning: The default of `sampling_strategy` will change from `'auto'` to `'all'` in version 0.13. This change will follow the implementation proposed in the original paper. Set to `'all'` to silence this warning and adopt the future behaviour.\n",
      "  warn(\n",
      "/Users/jayceepang/miniconda3/envs/atom2024/lib/python3.9/site-packages/imblearn/ensemble/_forest.py:589: FutureWarning: The default of `replacement` will change from `False` to `True` in version 0.13. This change will follow the implementation proposed in the original paper. Set to `True` to silence this warning and adopt the future behaviour.\n",
      "  warn(\n"
     ]
    },
    {
     "name": "stdout",
     "output_type": "stream",
     "text": [
      "TRAIN: acc: 0.767, precision: 0.229, recall: 1.000, spec: 0.750\n",
      "TEST: acc: 0.720, precision: 0.171, recall: 0.818, spec: 0.713\n",
      "func:'rf_models'  took: 0.9559 sec\n",
      "\n",
      "NEK2_inhibition_MFP_none_scaled_RF_fold4\n",
      "TRAIN: acc: 0.999, precision: 0.989, recall: 1.000, spec: 0.999\n",
      "TEST: acc: 0.935, precision: 0.542, recall: 0.565, spec: 0.964\n",
      "func:'rf_models'  took: 7.4499 sec\n",
      "\n",
      "NEK2_inhibition_MFP_none_scaled_RF_BCW_fold4\n",
      "TRAIN: acc: 0.999, precision: 0.989, recall: 1.000, spec: 0.999\n",
      "TEST: acc: 0.948, precision: 0.607, recall: 0.739, spec: 0.964\n",
      "func:'rf_models'  took: 2.3172 sec\n",
      "\n",
      "NEK2_inhibition_MFP_none_scaled_BRFC_fold4\n"
     ]
    },
    {
     "name": "stderr",
     "output_type": "stream",
     "text": [
      "/Users/jayceepang/miniconda3/envs/atom2024/lib/python3.9/site-packages/imblearn/ensemble/_forest.py:577: FutureWarning: The default of `sampling_strategy` will change from `'auto'` to `'all'` in version 0.13. This change will follow the implementation proposed in the original paper. Set to `'all'` to silence this warning and adopt the future behaviour.\n",
      "  warn(\n",
      "/Users/jayceepang/miniconda3/envs/atom2024/lib/python3.9/site-packages/imblearn/ensemble/_forest.py:589: FutureWarning: The default of `replacement` will change from `False` to `True` in version 0.13. This change will follow the implementation proposed in the original paper. Set to `True` to silence this warning and adopt the future behaviour.\n",
      "  warn(\n"
     ]
    },
    {
     "name": "stdout",
     "output_type": "stream",
     "text": [
      "TRAIN: acc: 0.912, precision: 0.436, recall: 1.000, spec: 0.905\n",
      "TEST: acc: 0.923, precision: 0.476, recall: 0.870, spec: 0.927\n",
      "func:'rf_models'  took: 0.4679 sec\n",
      "\n",
      "NEK2_inhibition_MFP_none_scaled_BRFC_BCW_fold4\n"
     ]
    },
    {
     "name": "stderr",
     "output_type": "stream",
     "text": [
      "/Users/jayceepang/miniconda3/envs/atom2024/lib/python3.9/site-packages/imblearn/ensemble/_forest.py:577: FutureWarning: The default of `sampling_strategy` will change from `'auto'` to `'all'` in version 0.13. This change will follow the implementation proposed in the original paper. Set to `'all'` to silence this warning and adopt the future behaviour.\n",
      "  warn(\n",
      "/Users/jayceepang/miniconda3/envs/atom2024/lib/python3.9/site-packages/imblearn/ensemble/_forest.py:589: FutureWarning: The default of `replacement` will change from `False` to `True` in version 0.13. This change will follow the implementation proposed in the original paper. Set to `True` to silence this warning and adopt the future behaviour.\n",
      "  warn(\n"
     ]
    },
    {
     "name": "stdout",
     "output_type": "stream",
     "text": [
      "TRAIN: acc: 0.715, precision: 0.194, recall: 1.000, spec: 0.694\n",
      "TEST: acc: 0.698, precision: 0.179, recall: 0.913, spec: 0.682\n",
      "func:'rf_models'  took: 0.8958 sec\n",
      "\n",
      "NEK2_inhibition_MFP_none_scaled_RF_fold5\n",
      "TRAIN: acc: 0.998, precision: 1.000, recall: 0.966, spec: 1.000\n",
      "TEST: acc: 0.963, precision: 0.789, recall: 0.652, spec: 0.987\n",
      "func:'rf_models'  took: 4.7984 sec\n",
      "\n",
      "NEK2_inhibition_MFP_none_scaled_RF_BCW_fold5\n",
      "TRAIN: acc: 0.998, precision: 0.967, recall: 1.000, spec: 0.998\n",
      "TEST: acc: 0.963, precision: 0.762, recall: 0.696, spec: 0.983\n",
      "func:'rf_models'  took: 2.6358 sec\n",
      "\n",
      "NEK2_inhibition_MFP_none_scaled_BRFC_fold5\n"
     ]
    },
    {
     "name": "stderr",
     "output_type": "stream",
     "text": [
      "/Users/jayceepang/miniconda3/envs/atom2024/lib/python3.9/site-packages/imblearn/ensemble/_forest.py:577: FutureWarning: The default of `sampling_strategy` will change from `'auto'` to `'all'` in version 0.13. This change will follow the implementation proposed in the original paper. Set to `'all'` to silence this warning and adopt the future behaviour.\n",
      "  warn(\n",
      "/Users/jayceepang/miniconda3/envs/atom2024/lib/python3.9/site-packages/imblearn/ensemble/_forest.py:589: FutureWarning: The default of `replacement` will change from `False` to `True` in version 0.13. This change will follow the implementation proposed in the original paper. Set to `True` to silence this warning and adopt the future behaviour.\n",
      "  warn(\n"
     ]
    },
    {
     "name": "stdout",
     "output_type": "stream",
     "text": [
      "TRAIN: acc: 0.920, precision: 0.461, recall: 1.000, spec: 0.914\n",
      "TEST: acc: 0.902, precision: 0.400, recall: 0.783, spec: 0.911\n",
      "func:'rf_models'  took: 0.4582 sec\n",
      "\n",
      "NEK2_inhibition_MFP_none_scaled_BRFC_BCW_fold5\n"
     ]
    },
    {
     "name": "stderr",
     "output_type": "stream",
     "text": [
      "/Users/jayceepang/miniconda3/envs/atom2024/lib/python3.9/site-packages/imblearn/ensemble/_forest.py:577: FutureWarning: The default of `sampling_strategy` will change from `'auto'` to `'all'` in version 0.13. This change will follow the implementation proposed in the original paper. Set to `'all'` to silence this warning and adopt the future behaviour.\n",
      "  warn(\n",
      "/Users/jayceepang/miniconda3/envs/atom2024/lib/python3.9/site-packages/imblearn/ensemble/_forest.py:589: FutureWarning: The default of `replacement` will change from `False` to `True` in version 0.13. This change will follow the implementation proposed in the original paper. Set to `True` to silence this warning and adopt the future behaviour.\n",
      "  warn(\n"
     ]
    },
    {
     "name": "stdout",
     "output_type": "stream",
     "text": [
      "TRAIN: acc: 0.742, precision: 0.209, recall: 1.000, spec: 0.723\n",
      "TEST: acc: 0.692, precision: 0.187, recall: 1.000, spec: 0.669\n",
      "func:'rf_models'  took: 0.9025 sec\n",
      "\n",
      "NEK2_inhibition_MFP_UNDER_RF_fold1\n",
      "TRAIN: acc: 0.994, precision: 0.989, recall: 1.000, spec: 0.989\n",
      "TEST: acc: 0.889, precision: 0.870, recall: 0.909, spec: 0.870\n",
      "func:'rf_models'  took: 0.3501 sec\n",
      "\n",
      "NEK2_inhibition_MFP_UNDER_RF_BCW_fold1\n",
      "TRAIN: acc: 0.994, precision: 0.989, recall: 1.000, spec: 0.989\n",
      "TEST: acc: 0.867, precision: 0.864, recall: 0.864, spec: 0.870\n",
      "func:'rf_models'  took: 0.3557 sec\n",
      "\n",
      "NEK2_inhibition_MFP_UNDER_BRFC_fold1\n"
     ]
    },
    {
     "name": "stderr",
     "output_type": "stream",
     "text": [
      "/Users/jayceepang/miniconda3/envs/atom2024/lib/python3.9/site-packages/imblearn/ensemble/_forest.py:577: FutureWarning: The default of `sampling_strategy` will change from `'auto'` to `'all'` in version 0.13. This change will follow the implementation proposed in the original paper. Set to `'all'` to silence this warning and adopt the future behaviour.\n",
      "  warn(\n",
      "/Users/jayceepang/miniconda3/envs/atom2024/lib/python3.9/site-packages/imblearn/ensemble/_forest.py:589: FutureWarning: The default of `replacement` will change from `False` to `True` in version 0.13. This change will follow the implementation proposed in the original paper. Set to `True` to silence this warning and adopt the future behaviour.\n",
      "  warn(\n"
     ]
    },
    {
     "name": "stdout",
     "output_type": "stream",
     "text": [
      "TRAIN: acc: 0.994, precision: 0.989, recall: 1.000, spec: 0.989\n",
      "TEST: acc: 0.911, precision: 0.875, recall: 0.955, spec: 0.870\n",
      "func:'rf_models'  took: 0.4751 sec\n",
      "\n",
      "NEK2_inhibition_MFP_UNDER_BRFC_BCW_fold1\n"
     ]
    },
    {
     "name": "stderr",
     "output_type": "stream",
     "text": [
      "/Users/jayceepang/miniconda3/envs/atom2024/lib/python3.9/site-packages/imblearn/ensemble/_forest.py:577: FutureWarning: The default of `sampling_strategy` will change from `'auto'` to `'all'` in version 0.13. This change will follow the implementation proposed in the original paper. Set to `'all'` to silence this warning and adopt the future behaviour.\n",
      "  warn(\n",
      "/Users/jayceepang/miniconda3/envs/atom2024/lib/python3.9/site-packages/imblearn/ensemble/_forest.py:589: FutureWarning: The default of `replacement` will change from `False` to `True` in version 0.13. This change will follow the implementation proposed in the original paper. Set to `True` to silence this warning and adopt the future behaviour.\n",
      "  warn(\n"
     ]
    },
    {
     "name": "stdout",
     "output_type": "stream",
     "text": [
      "TRAIN: acc: 0.994, precision: 0.989, recall: 1.000, spec: 0.989\n",
      "TEST: acc: 0.889, precision: 0.870, recall: 0.909, spec: 0.870\n",
      "func:'rf_models'  took: 0.4786 sec\n",
      "\n",
      "NEK2_inhibition_MFP_UNDER_RF_fold2\n",
      "TRAIN: acc: 0.994, precision: 1.000, recall: 0.989, spec: 1.000\n",
      "TEST: acc: 0.778, precision: 0.731, recall: 0.864, spec: 0.696\n",
      "func:'rf_models'  took: 0.3680 sec\n",
      "\n",
      "NEK2_inhibition_MFP_UNDER_RF_BCW_fold2\n",
      "TRAIN: acc: 0.994, precision: 1.000, recall: 0.989, spec: 1.000\n",
      "TEST: acc: 0.778, precision: 0.731, recall: 0.864, spec: 0.696\n",
      "func:'rf_models'  took: 0.3748 sec\n",
      "\n",
      "NEK2_inhibition_MFP_UNDER_BRFC_fold2\n"
     ]
    },
    {
     "name": "stderr",
     "output_type": "stream",
     "text": [
      "/Users/jayceepang/miniconda3/envs/atom2024/lib/python3.9/site-packages/imblearn/ensemble/_forest.py:577: FutureWarning: The default of `sampling_strategy` will change from `'auto'` to `'all'` in version 0.13. This change will follow the implementation proposed in the original paper. Set to `'all'` to silence this warning and adopt the future behaviour.\n",
      "  warn(\n",
      "/Users/jayceepang/miniconda3/envs/atom2024/lib/python3.9/site-packages/imblearn/ensemble/_forest.py:589: FutureWarning: The default of `replacement` will change from `False` to `True` in version 0.13. This change will follow the implementation proposed in the original paper. Set to `True` to silence this warning and adopt the future behaviour.\n",
      "  warn(\n"
     ]
    },
    {
     "name": "stdout",
     "output_type": "stream",
     "text": [
      "TRAIN: acc: 0.994, precision: 1.000, recall: 0.989, spec: 1.000\n",
      "TEST: acc: 0.778, precision: 0.731, recall: 0.864, spec: 0.696\n",
      "func:'rf_models'  took: 0.4849 sec\n",
      "\n",
      "NEK2_inhibition_MFP_UNDER_BRFC_BCW_fold2\n"
     ]
    },
    {
     "name": "stderr",
     "output_type": "stream",
     "text": [
      "/Users/jayceepang/miniconda3/envs/atom2024/lib/python3.9/site-packages/imblearn/ensemble/_forest.py:577: FutureWarning: The default of `sampling_strategy` will change from `'auto'` to `'all'` in version 0.13. This change will follow the implementation proposed in the original paper. Set to `'all'` to silence this warning and adopt the future behaviour.\n",
      "  warn(\n",
      "/Users/jayceepang/miniconda3/envs/atom2024/lib/python3.9/site-packages/imblearn/ensemble/_forest.py:589: FutureWarning: The default of `replacement` will change from `False` to `True` in version 0.13. This change will follow the implementation proposed in the original paper. Set to `True` to silence this warning and adopt the future behaviour.\n",
      "  warn(\n"
     ]
    },
    {
     "name": "stdout",
     "output_type": "stream",
     "text": [
      "TRAIN: acc: 0.994, precision: 1.000, recall: 0.989, spec: 1.000\n",
      "TEST: acc: 0.778, precision: 0.731, recall: 0.864, spec: 0.696\n",
      "func:'rf_models'  took: 0.4878 sec\n",
      "\n",
      "NEK2_inhibition_MFP_UNDER_RF_fold3\n",
      "TRAIN: acc: 0.994, precision: 0.989, recall: 1.000, spec: 0.989\n",
      "TEST: acc: 0.867, precision: 0.840, recall: 0.913, spec: 0.818\n",
      "func:'rf_models'  took: 0.4034 sec\n",
      "\n",
      "NEK2_inhibition_MFP_UNDER_RF_BCW_fold3\n",
      "TRAIN: acc: 0.994, precision: 0.989, recall: 1.000, spec: 0.989\n",
      "TEST: acc: 0.867, precision: 0.840, recall: 0.913, spec: 0.818\n",
      "func:'rf_models'  took: 0.4076 sec\n",
      "\n",
      "NEK2_inhibition_MFP_UNDER_BRFC_fold3\n"
     ]
    },
    {
     "name": "stderr",
     "output_type": "stream",
     "text": [
      "/Users/jayceepang/miniconda3/envs/atom2024/lib/python3.9/site-packages/imblearn/ensemble/_forest.py:577: FutureWarning: The default of `sampling_strategy` will change from `'auto'` to `'all'` in version 0.13. This change will follow the implementation proposed in the original paper. Set to `'all'` to silence this warning and adopt the future behaviour.\n",
      "  warn(\n",
      "/Users/jayceepang/miniconda3/envs/atom2024/lib/python3.9/site-packages/imblearn/ensemble/_forest.py:589: FutureWarning: The default of `replacement` will change from `False` to `True` in version 0.13. This change will follow the implementation proposed in the original paper. Set to `True` to silence this warning and adopt the future behaviour.\n",
      "  warn(\n"
     ]
    },
    {
     "name": "stdout",
     "output_type": "stream",
     "text": [
      "TRAIN: acc: 0.994, precision: 0.989, recall: 1.000, spec: 0.989\n",
      "TEST: acc: 0.867, precision: 0.840, recall: 0.913, spec: 0.818\n",
      "func:'rf_models'  took: 0.5362 sec\n",
      "\n",
      "NEK2_inhibition_MFP_UNDER_BRFC_BCW_fold3\n"
     ]
    },
    {
     "name": "stderr",
     "output_type": "stream",
     "text": [
      "/Users/jayceepang/miniconda3/envs/atom2024/lib/python3.9/site-packages/imblearn/ensemble/_forest.py:577: FutureWarning: The default of `sampling_strategy` will change from `'auto'` to `'all'` in version 0.13. This change will follow the implementation proposed in the original paper. Set to `'all'` to silence this warning and adopt the future behaviour.\n",
      "  warn(\n",
      "/Users/jayceepang/miniconda3/envs/atom2024/lib/python3.9/site-packages/imblearn/ensemble/_forest.py:589: FutureWarning: The default of `replacement` will change from `False` to `True` in version 0.13. This change will follow the implementation proposed in the original paper. Set to `True` to silence this warning and adopt the future behaviour.\n",
      "  warn(\n"
     ]
    },
    {
     "name": "stdout",
     "output_type": "stream",
     "text": [
      "TRAIN: acc: 0.994, precision: 0.989, recall: 1.000, spec: 0.989\n",
      "TEST: acc: 0.867, precision: 0.840, recall: 0.913, spec: 0.818\n",
      "func:'rf_models'  took: 0.5384 sec\n",
      "\n",
      "NEK2_inhibition_MFP_UNDER_RF_fold4\n",
      "TRAIN: acc: 1.000, precision: 1.000, recall: 1.000, spec: 1.000\n",
      "TEST: acc: 0.778, precision: 0.783, recall: 0.783, spec: 0.773\n",
      "func:'rf_models'  took: 0.3490 sec\n",
      "\n",
      "NEK2_inhibition_MFP_UNDER_RF_BCW_fold4\n",
      "TRAIN: acc: 1.000, precision: 1.000, recall: 1.000, spec: 1.000\n",
      "TEST: acc: 0.800, precision: 0.792, recall: 0.826, spec: 0.773\n",
      "func:'rf_models'  took: 0.3537 sec\n",
      "\n",
      "NEK2_inhibition_MFP_UNDER_BRFC_fold4\n"
     ]
    },
    {
     "name": "stderr",
     "output_type": "stream",
     "text": [
      "/Users/jayceepang/miniconda3/envs/atom2024/lib/python3.9/site-packages/imblearn/ensemble/_forest.py:577: FutureWarning: The default of `sampling_strategy` will change from `'auto'` to `'all'` in version 0.13. This change will follow the implementation proposed in the original paper. Set to `'all'` to silence this warning and adopt the future behaviour.\n",
      "  warn(\n",
      "/Users/jayceepang/miniconda3/envs/atom2024/lib/python3.9/site-packages/imblearn/ensemble/_forest.py:589: FutureWarning: The default of `replacement` will change from `False` to `True` in version 0.13. This change will follow the implementation proposed in the original paper. Set to `True` to silence this warning and adopt the future behaviour.\n",
      "  warn(\n"
     ]
    },
    {
     "name": "stdout",
     "output_type": "stream",
     "text": [
      "TRAIN: acc: 1.000, precision: 1.000, recall: 1.000, spec: 1.000\n",
      "TEST: acc: 0.800, precision: 0.792, recall: 0.826, spec: 0.773\n",
      "func:'rf_models'  took: 0.4545 sec\n",
      "\n",
      "NEK2_inhibition_MFP_UNDER_BRFC_BCW_fold4\n"
     ]
    },
    {
     "name": "stderr",
     "output_type": "stream",
     "text": [
      "/Users/jayceepang/miniconda3/envs/atom2024/lib/python3.9/site-packages/imblearn/ensemble/_forest.py:577: FutureWarning: The default of `sampling_strategy` will change from `'auto'` to `'all'` in version 0.13. This change will follow the implementation proposed in the original paper. Set to `'all'` to silence this warning and adopt the future behaviour.\n",
      "  warn(\n",
      "/Users/jayceepang/miniconda3/envs/atom2024/lib/python3.9/site-packages/imblearn/ensemble/_forest.py:589: FutureWarning: The default of `replacement` will change from `False` to `True` in version 0.13. This change will follow the implementation proposed in the original paper. Set to `True` to silence this warning and adopt the future behaviour.\n",
      "  warn(\n"
     ]
    },
    {
     "name": "stdout",
     "output_type": "stream",
     "text": [
      "TRAIN: acc: 1.000, precision: 1.000, recall: 1.000, spec: 1.000\n",
      "TEST: acc: 0.800, precision: 0.792, recall: 0.826, spec: 0.773\n",
      "func:'rf_models'  took: 0.4615 sec\n",
      "\n",
      "NEK2_inhibition_MFP_UNDER_RF_fold5\n",
      "TRAIN: acc: 0.994, precision: 0.989, recall: 1.000, spec: 0.989\n",
      "TEST: acc: 0.773, precision: 0.750, recall: 0.818, spec: 0.727\n",
      "func:'rf_models'  took: 0.3323 sec\n",
      "\n",
      "NEK2_inhibition_MFP_UNDER_RF_BCW_fold5\n",
      "TRAIN: acc: 0.994, precision: 0.989, recall: 1.000, spec: 0.989\n",
      "TEST: acc: 0.773, precision: 0.750, recall: 0.818, spec: 0.727\n",
      "func:'rf_models'  took: 0.3378 sec\n",
      "\n",
      "NEK2_inhibition_MFP_UNDER_BRFC_fold5\n"
     ]
    },
    {
     "name": "stderr",
     "output_type": "stream",
     "text": [
      "/Users/jayceepang/miniconda3/envs/atom2024/lib/python3.9/site-packages/imblearn/ensemble/_forest.py:577: FutureWarning: The default of `sampling_strategy` will change from `'auto'` to `'all'` in version 0.13. This change will follow the implementation proposed in the original paper. Set to `'all'` to silence this warning and adopt the future behaviour.\n",
      "  warn(\n",
      "/Users/jayceepang/miniconda3/envs/atom2024/lib/python3.9/site-packages/imblearn/ensemble/_forest.py:589: FutureWarning: The default of `replacement` will change from `False` to `True` in version 0.13. This change will follow the implementation proposed in the original paper. Set to `True` to silence this warning and adopt the future behaviour.\n",
      "  warn(\n"
     ]
    },
    {
     "name": "stdout",
     "output_type": "stream",
     "text": [
      "TRAIN: acc: 0.994, precision: 0.989, recall: 1.000, spec: 0.989\n",
      "TEST: acc: 0.773, precision: 0.750, recall: 0.818, spec: 0.727\n",
      "func:'rf_models'  took: 0.4435 sec\n",
      "\n",
      "NEK2_inhibition_MFP_UNDER_BRFC_BCW_fold5\n"
     ]
    },
    {
     "name": "stderr",
     "output_type": "stream",
     "text": [
      "/Users/jayceepang/miniconda3/envs/atom2024/lib/python3.9/site-packages/imblearn/ensemble/_forest.py:577: FutureWarning: The default of `sampling_strategy` will change from `'auto'` to `'all'` in version 0.13. This change will follow the implementation proposed in the original paper. Set to `'all'` to silence this warning and adopt the future behaviour.\n",
      "  warn(\n",
      "/Users/jayceepang/miniconda3/envs/atom2024/lib/python3.9/site-packages/imblearn/ensemble/_forest.py:589: FutureWarning: The default of `replacement` will change from `False` to `True` in version 0.13. This change will follow the implementation proposed in the original paper. Set to `True` to silence this warning and adopt the future behaviour.\n",
      "  warn(\n"
     ]
    },
    {
     "name": "stdout",
     "output_type": "stream",
     "text": [
      "TRAIN: acc: 0.994, precision: 0.989, recall: 1.000, spec: 0.989\n",
      "TEST: acc: 0.795, precision: 0.760, recall: 0.864, spec: 0.727\n",
      "func:'rf_models'  took: 0.4505 sec\n",
      "\n",
      "NEK2_inhibition_MFP_SMOTE_RF_fold1\n",
      "TRAIN: acc: 0.999, precision: 0.999, recall: 0.999, spec: 0.999\n",
      "TEST: acc: 0.959, precision: 0.948, recall: 0.970, spec: 0.947\n",
      "func:'rf_models'  took: 10.5473 sec\n",
      "\n",
      "NEK2_inhibition_MFP_SMOTE_RF_BCW_fold1\n",
      "TRAIN: acc: 0.999, precision: 0.999, recall: 0.999, spec: 0.999\n",
      "TEST: acc: 0.959, precision: 0.948, recall: 0.970, spec: 0.947\n",
      "func:'rf_models'  took: 10.7535 sec\n",
      "\n",
      "NEK2_inhibition_MFP_SMOTE_BRFC_fold1\n"
     ]
    },
    {
     "name": "stderr",
     "output_type": "stream",
     "text": [
      "/Users/jayceepang/miniconda3/envs/atom2024/lib/python3.9/site-packages/imblearn/ensemble/_forest.py:577: FutureWarning: The default of `sampling_strategy` will change from `'auto'` to `'all'` in version 0.13. This change will follow the implementation proposed in the original paper. Set to `'all'` to silence this warning and adopt the future behaviour.\n",
      "  warn(\n",
      "/Users/jayceepang/miniconda3/envs/atom2024/lib/python3.9/site-packages/imblearn/ensemble/_forest.py:589: FutureWarning: The default of `replacement` will change from `False` to `True` in version 0.13. This change will follow the implementation proposed in the original paper. Set to `True` to silence this warning and adopt the future behaviour.\n",
      "  warn(\n"
     ]
    },
    {
     "name": "stdout",
     "output_type": "stream",
     "text": [
      "TRAIN: acc: 0.999, precision: 0.999, recall: 0.999, spec: 0.999\n",
      "TEST: acc: 0.964, precision: 0.955, recall: 0.974, spec: 0.954\n",
      "func:'rf_models'  took: 13.8910 sec\n",
      "\n",
      "NEK2_inhibition_MFP_SMOTE_BRFC_BCW_fold1\n"
     ]
    },
    {
     "name": "stderr",
     "output_type": "stream",
     "text": [
      "/Users/jayceepang/miniconda3/envs/atom2024/lib/python3.9/site-packages/imblearn/ensemble/_forest.py:577: FutureWarning: The default of `sampling_strategy` will change from `'auto'` to `'all'` in version 0.13. This change will follow the implementation proposed in the original paper. Set to `'all'` to silence this warning and adopt the future behaviour.\n",
      "  warn(\n",
      "/Users/jayceepang/miniconda3/envs/atom2024/lib/python3.9/site-packages/imblearn/ensemble/_forest.py:589: FutureWarning: The default of `replacement` will change from `False` to `True` in version 0.13. This change will follow the implementation proposed in the original paper. Set to `True` to silence this warning and adopt the future behaviour.\n",
      "  warn(\n"
     ]
    },
    {
     "name": "stdout",
     "output_type": "stream",
     "text": [
      "TRAIN: acc: 0.999, precision: 0.999, recall: 0.999, spec: 0.999\n",
      "TEST: acc: 0.964, precision: 0.955, recall: 0.974, spec: 0.954\n",
      "func:'rf_models'  took: 13.9963 sec\n",
      "\n",
      "NEK2_inhibition_MFP_SMOTE_RF_fold2\n",
      "TRAIN: acc: 0.999, precision: 1.000, recall: 0.998, spec: 1.000\n",
      "TEST: acc: 0.960, precision: 0.948, recall: 0.974, spec: 0.947\n",
      "func:'rf_models'  took: 10.4950 sec\n",
      "\n",
      "NEK2_inhibition_MFP_SMOTE_RF_BCW_fold2\n",
      "TRAIN: acc: 0.999, precision: 1.000, recall: 0.998, spec: 1.000\n",
      "TEST: acc: 0.960, precision: 0.951, recall: 0.970, spec: 0.950\n",
      "func:'rf_models'  took: 10.5368 sec\n",
      "\n",
      "NEK2_inhibition_MFP_SMOTE_BRFC_fold2\n"
     ]
    },
    {
     "name": "stderr",
     "output_type": "stream",
     "text": [
      "/Users/jayceepang/miniconda3/envs/atom2024/lib/python3.9/site-packages/imblearn/ensemble/_forest.py:577: FutureWarning: The default of `sampling_strategy` will change from `'auto'` to `'all'` in version 0.13. This change will follow the implementation proposed in the original paper. Set to `'all'` to silence this warning and adopt the future behaviour.\n",
      "  warn(\n",
      "/Users/jayceepang/miniconda3/envs/atom2024/lib/python3.9/site-packages/imblearn/ensemble/_forest.py:589: FutureWarning: The default of `replacement` will change from `False` to `True` in version 0.13. This change will follow the implementation proposed in the original paper. Set to `True` to silence this warning and adopt the future behaviour.\n",
      "  warn(\n"
     ]
    },
    {
     "name": "stdout",
     "output_type": "stream",
     "text": [
      "TRAIN: acc: 0.999, precision: 1.000, recall: 0.998, spec: 1.000\n",
      "TEST: acc: 0.959, precision: 0.948, recall: 0.970, spec: 0.947\n",
      "func:'rf_models'  took: 13.6591 sec\n",
      "\n",
      "NEK2_inhibition_MFP_SMOTE_BRFC_BCW_fold2\n"
     ]
    },
    {
     "name": "stderr",
     "output_type": "stream",
     "text": [
      "/Users/jayceepang/miniconda3/envs/atom2024/lib/python3.9/site-packages/imblearn/ensemble/_forest.py:577: FutureWarning: The default of `sampling_strategy` will change from `'auto'` to `'all'` in version 0.13. This change will follow the implementation proposed in the original paper. Set to `'all'` to silence this warning and adopt the future behaviour.\n",
      "  warn(\n",
      "/Users/jayceepang/miniconda3/envs/atom2024/lib/python3.9/site-packages/imblearn/ensemble/_forest.py:589: FutureWarning: The default of `replacement` will change from `False` to `True` in version 0.13. This change will follow the implementation proposed in the original paper. Set to `True` to silence this warning and adopt the future behaviour.\n",
      "  warn(\n"
     ]
    },
    {
     "name": "stdout",
     "output_type": "stream",
     "text": [
      "TRAIN: acc: 0.999, precision: 1.000, recall: 0.998, spec: 1.000\n",
      "TEST: acc: 0.962, precision: 0.951, recall: 0.974, spec: 0.950\n",
      "func:'rf_models'  took: 13.8404 sec\n",
      "\n",
      "NEK2_inhibition_MFP_SMOTE_RF_fold3\n",
      "TRAIN: acc: 0.999, precision: 0.998, recall: 0.999, spec: 0.998\n",
      "TEST: acc: 0.972, precision: 0.970, recall: 0.974, spec: 0.970\n",
      "func:'rf_models'  took: 10.0911 sec\n",
      "\n",
      "NEK2_inhibition_MFP_SMOTE_RF_BCW_fold3\n",
      "TRAIN: acc: 0.999, precision: 0.998, recall: 0.999, spec: 0.998\n",
      "TEST: acc: 0.977, precision: 0.977, recall: 0.977, spec: 0.977\n",
      "func:'rf_models'  took: 10.2701 sec\n",
      "\n",
      "NEK2_inhibition_MFP_SMOTE_BRFC_fold3\n"
     ]
    },
    {
     "name": "stderr",
     "output_type": "stream",
     "text": [
      "/Users/jayceepang/miniconda3/envs/atom2024/lib/python3.9/site-packages/imblearn/ensemble/_forest.py:577: FutureWarning: The default of `sampling_strategy` will change from `'auto'` to `'all'` in version 0.13. This change will follow the implementation proposed in the original paper. Set to `'all'` to silence this warning and adopt the future behaviour.\n",
      "  warn(\n",
      "/Users/jayceepang/miniconda3/envs/atom2024/lib/python3.9/site-packages/imblearn/ensemble/_forest.py:589: FutureWarning: The default of `replacement` will change from `False` to `True` in version 0.13. This change will follow the implementation proposed in the original paper. Set to `True` to silence this warning and adopt the future behaviour.\n",
      "  warn(\n"
     ]
    },
    {
     "name": "stdout",
     "output_type": "stream",
     "text": [
      "TRAIN: acc: 0.999, precision: 0.998, recall: 0.999, spec: 0.998\n",
      "TEST: acc: 0.977, precision: 0.977, recall: 0.977, spec: 0.977\n",
      "func:'rf_models'  took: 13.3051 sec\n",
      "\n",
      "NEK2_inhibition_MFP_SMOTE_BRFC_BCW_fold3\n"
     ]
    },
    {
     "name": "stderr",
     "output_type": "stream",
     "text": [
      "/Users/jayceepang/miniconda3/envs/atom2024/lib/python3.9/site-packages/imblearn/ensemble/_forest.py:577: FutureWarning: The default of `sampling_strategy` will change from `'auto'` to `'all'` in version 0.13. This change will follow the implementation proposed in the original paper. Set to `'all'` to silence this warning and adopt the future behaviour.\n",
      "  warn(\n",
      "/Users/jayceepang/miniconda3/envs/atom2024/lib/python3.9/site-packages/imblearn/ensemble/_forest.py:589: FutureWarning: The default of `replacement` will change from `False` to `True` in version 0.13. This change will follow the implementation proposed in the original paper. Set to `True` to silence this warning and adopt the future behaviour.\n",
      "  warn(\n"
     ]
    },
    {
     "name": "stdout",
     "output_type": "stream",
     "text": [
      "TRAIN: acc: 0.999, precision: 0.998, recall: 0.999, spec: 0.998\n",
      "TEST: acc: 0.975, precision: 0.974, recall: 0.977, spec: 0.974\n",
      "func:'rf_models'  took: 13.3839 sec\n",
      "\n",
      "NEK2_inhibition_MFP_SMOTE_RF_fold4\n",
      "TRAIN: acc: 1.000, precision: 0.999, recall: 1.000, spec: 0.999\n",
      "TEST: acc: 0.970, precision: 0.964, recall: 0.977, spec: 0.964\n",
      "func:'rf_models'  took: 11.0104 sec\n",
      "\n",
      "NEK2_inhibition_MFP_SMOTE_RF_BCW_fold4\n",
      "TRAIN: acc: 1.000, precision: 0.999, recall: 1.000, spec: 0.999\n",
      "TEST: acc: 0.969, precision: 0.961, recall: 0.977, spec: 0.960\n",
      "func:'rf_models'  took: 11.1166 sec\n",
      "\n",
      "NEK2_inhibition_MFP_SMOTE_BRFC_fold4\n"
     ]
    },
    {
     "name": "stderr",
     "output_type": "stream",
     "text": [
      "/Users/jayceepang/miniconda3/envs/atom2024/lib/python3.9/site-packages/imblearn/ensemble/_forest.py:577: FutureWarning: The default of `sampling_strategy` will change from `'auto'` to `'all'` in version 0.13. This change will follow the implementation proposed in the original paper. Set to `'all'` to silence this warning and adopt the future behaviour.\n",
      "  warn(\n",
      "/Users/jayceepang/miniconda3/envs/atom2024/lib/python3.9/site-packages/imblearn/ensemble/_forest.py:589: FutureWarning: The default of `replacement` will change from `False` to `True` in version 0.13. This change will follow the implementation proposed in the original paper. Set to `True` to silence this warning and adopt the future behaviour.\n",
      "  warn(\n"
     ]
    },
    {
     "name": "stdout",
     "output_type": "stream",
     "text": [
      "TRAIN: acc: 1.000, precision: 0.999, recall: 1.000, spec: 0.999\n",
      "TEST: acc: 0.970, precision: 0.964, recall: 0.977, spec: 0.964\n",
      "func:'rf_models'  took: 14.1873 sec\n",
      "\n",
      "NEK2_inhibition_MFP_SMOTE_BRFC_BCW_fold4\n"
     ]
    },
    {
     "name": "stderr",
     "output_type": "stream",
     "text": [
      "/Users/jayceepang/miniconda3/envs/atom2024/lib/python3.9/site-packages/imblearn/ensemble/_forest.py:577: FutureWarning: The default of `sampling_strategy` will change from `'auto'` to `'all'` in version 0.13. This change will follow the implementation proposed in the original paper. Set to `'all'` to silence this warning and adopt the future behaviour.\n",
      "  warn(\n",
      "/Users/jayceepang/miniconda3/envs/atom2024/lib/python3.9/site-packages/imblearn/ensemble/_forest.py:589: FutureWarning: The default of `replacement` will change from `False` to `True` in version 0.13. This change will follow the implementation proposed in the original paper. Set to `True` to silence this warning and adopt the future behaviour.\n",
      "  warn(\n"
     ]
    },
    {
     "name": "stdout",
     "output_type": "stream",
     "text": [
      "TRAIN: acc: 1.000, precision: 0.999, recall: 1.000, spec: 0.999\n",
      "TEST: acc: 0.969, precision: 0.961, recall: 0.977, spec: 0.960\n",
      "func:'rf_models'  took: 14.3761 sec\n",
      "\n",
      "NEK2_inhibition_MFP_SMOTE_RF_fold5\n",
      "TRAIN: acc: 0.999, precision: 0.998, recall: 0.999, spec: 0.998\n",
      "TEST: acc: 0.983, precision: 0.983, recall: 0.983, spec: 0.983\n",
      "func:'rf_models'  took: 10.5044 sec\n",
      "\n",
      "NEK2_inhibition_MFP_SMOTE_RF_BCW_fold5\n",
      "TRAIN: acc: 0.999, precision: 0.998, recall: 1.000, spec: 0.998\n",
      "TEST: acc: 0.982, precision: 0.980, recall: 0.983, spec: 0.980\n",
      "func:'rf_models'  took: 10.7332 sec\n",
      "\n",
      "NEK2_inhibition_MFP_SMOTE_BRFC_fold5\n"
     ]
    },
    {
     "name": "stderr",
     "output_type": "stream",
     "text": [
      "/Users/jayceepang/miniconda3/envs/atom2024/lib/python3.9/site-packages/imblearn/ensemble/_forest.py:577: FutureWarning: The default of `sampling_strategy` will change from `'auto'` to `'all'` in version 0.13. This change will follow the implementation proposed in the original paper. Set to `'all'` to silence this warning and adopt the future behaviour.\n",
      "  warn(\n",
      "/Users/jayceepang/miniconda3/envs/atom2024/lib/python3.9/site-packages/imblearn/ensemble/_forest.py:589: FutureWarning: The default of `replacement` will change from `False` to `True` in version 0.13. This change will follow the implementation proposed in the original paper. Set to `True` to silence this warning and adopt the future behaviour.\n",
      "  warn(\n"
     ]
    },
    {
     "name": "stdout",
     "output_type": "stream",
     "text": [
      "TRAIN: acc: 0.999, precision: 0.998, recall: 0.999, spec: 0.998\n",
      "TEST: acc: 0.980, precision: 0.980, recall: 0.980, spec: 0.980\n",
      "func:'rf_models'  took: 13.7084 sec\n",
      "\n",
      "NEK2_inhibition_MFP_SMOTE_BRFC_BCW_fold5\n"
     ]
    },
    {
     "name": "stderr",
     "output_type": "stream",
     "text": [
      "/Users/jayceepang/miniconda3/envs/atom2024/lib/python3.9/site-packages/imblearn/ensemble/_forest.py:577: FutureWarning: The default of `sampling_strategy` will change from `'auto'` to `'all'` in version 0.13. This change will follow the implementation proposed in the original paper. Set to `'all'` to silence this warning and adopt the future behaviour.\n",
      "  warn(\n",
      "/Users/jayceepang/miniconda3/envs/atom2024/lib/python3.9/site-packages/imblearn/ensemble/_forest.py:589: FutureWarning: The default of `replacement` will change from `False` to `True` in version 0.13. This change will follow the implementation proposed in the original paper. Set to `True` to silence this warning and adopt the future behaviour.\n",
      "  warn(\n"
     ]
    },
    {
     "name": "stdout",
     "output_type": "stream",
     "text": [
      "TRAIN: acc: 0.999, precision: 0.998, recall: 1.000, spec: 0.998\n",
      "TEST: acc: 0.982, precision: 0.980, recall: 0.983, spec: 0.980\n",
      "func:'rf_models'  took: 13.9880 sec\n",
      "\n",
      "NEK2_inhibition_MFP_ADASYN_RF_fold1\n",
      "TRAIN: acc: 0.999, precision: 0.999, recall: 0.999, spec: 0.999\n",
      "TEST: acc: 0.961, precision: 0.955, recall: 0.967, spec: 0.954\n",
      "func:'rf_models'  took: 12.6736 sec\n",
      "\n",
      "NEK2_inhibition_MFP_ADASYN_RF_BCW_fold1\n",
      "TRAIN: acc: 0.999, precision: 0.999, recall: 0.999, spec: 0.999\n",
      "TEST: acc: 0.956, precision: 0.946, recall: 0.967, spec: 0.944\n",
      "func:'rf_models'  took: 13.1299 sec\n",
      "\n",
      "NEK2_inhibition_MFP_ADASYN_BRFC_fold1\n"
     ]
    },
    {
     "name": "stderr",
     "output_type": "stream",
     "text": [
      "/Users/jayceepang/miniconda3/envs/atom2024/lib/python3.9/site-packages/imblearn/ensemble/_forest.py:577: FutureWarning: The default of `sampling_strategy` will change from `'auto'` to `'all'` in version 0.13. This change will follow the implementation proposed in the original paper. Set to `'all'` to silence this warning and adopt the future behaviour.\n",
      "  warn(\n",
      "/Users/jayceepang/miniconda3/envs/atom2024/lib/python3.9/site-packages/imblearn/ensemble/_forest.py:589: FutureWarning: The default of `replacement` will change from `False` to `True` in version 0.13. This change will follow the implementation proposed in the original paper. Set to `True` to silence this warning and adopt the future behaviour.\n",
      "  warn(\n"
     ]
    },
    {
     "name": "stdout",
     "output_type": "stream",
     "text": [
      "TRAIN: acc: 0.999, precision: 0.999, recall: 0.999, spec: 0.999\n",
      "TEST: acc: 0.962, precision: 0.955, recall: 0.971, spec: 0.954\n",
      "func:'rf_models'  took: 15.5327 sec\n",
      "\n",
      "NEK2_inhibition_MFP_ADASYN_BRFC_BCW_fold1\n"
     ]
    },
    {
     "name": "stderr",
     "output_type": "stream",
     "text": [
      "/Users/jayceepang/miniconda3/envs/atom2024/lib/python3.9/site-packages/imblearn/ensemble/_forest.py:577: FutureWarning: The default of `sampling_strategy` will change from `'auto'` to `'all'` in version 0.13. This change will follow the implementation proposed in the original paper. Set to `'all'` to silence this warning and adopt the future behaviour.\n",
      "  warn(\n",
      "/Users/jayceepang/miniconda3/envs/atom2024/lib/python3.9/site-packages/imblearn/ensemble/_forest.py:589: FutureWarning: The default of `replacement` will change from `False` to `True` in version 0.13. This change will follow the implementation proposed in the original paper. Set to `True` to silence this warning and adopt the future behaviour.\n",
      "  warn(\n"
     ]
    },
    {
     "name": "stdout",
     "output_type": "stream",
     "text": [
      "TRAIN: acc: 0.999, precision: 0.999, recall: 0.999, spec: 0.999\n",
      "TEST: acc: 0.961, precision: 0.952, recall: 0.971, spec: 0.950\n",
      "func:'rf_models'  took: 16.0398 sec\n",
      "\n",
      "NEK2_inhibition_MFP_ADASYN_RF_fold2\n",
      "TRAIN: acc: 0.999, precision: 0.998, recall: 0.999, spec: 0.998\n",
      "TEST: acc: 0.959, precision: 0.946, recall: 0.974, spec: 0.944\n",
      "func:'rf_models'  took: 12.3947 sec\n",
      "\n",
      "NEK2_inhibition_MFP_ADASYN_RF_BCW_fold2\n",
      "TRAIN: acc: 0.999, precision: 0.998, recall: 0.999, spec: 0.998\n",
      "TEST: acc: 0.961, precision: 0.949, recall: 0.974, spec: 0.947\n",
      "func:'rf_models'  took: 12.5287 sec\n",
      "\n",
      "NEK2_inhibition_MFP_ADASYN_BRFC_fold2\n"
     ]
    },
    {
     "name": "stderr",
     "output_type": "stream",
     "text": [
      "/Users/jayceepang/miniconda3/envs/atom2024/lib/python3.9/site-packages/imblearn/ensemble/_forest.py:577: FutureWarning: The default of `sampling_strategy` will change from `'auto'` to `'all'` in version 0.13. This change will follow the implementation proposed in the original paper. Set to `'all'` to silence this warning and adopt the future behaviour.\n",
      "  warn(\n",
      "/Users/jayceepang/miniconda3/envs/atom2024/lib/python3.9/site-packages/imblearn/ensemble/_forest.py:589: FutureWarning: The default of `replacement` will change from `False` to `True` in version 0.13. This change will follow the implementation proposed in the original paper. Set to `True` to silence this warning and adopt the future behaviour.\n",
      "  warn(\n"
     ]
    },
    {
     "name": "stdout",
     "output_type": "stream",
     "text": [
      "TRAIN: acc: 0.999, precision: 0.998, recall: 0.999, spec: 0.998\n",
      "TEST: acc: 0.961, precision: 0.946, recall: 0.977, spec: 0.944\n",
      "func:'rf_models'  took: 15.6620 sec\n",
      "\n",
      "NEK2_inhibition_MFP_ADASYN_BRFC_BCW_fold2\n"
     ]
    },
    {
     "name": "stderr",
     "output_type": "stream",
     "text": [
      "/Users/jayceepang/miniconda3/envs/atom2024/lib/python3.9/site-packages/imblearn/ensemble/_forest.py:577: FutureWarning: The default of `sampling_strategy` will change from `'auto'` to `'all'` in version 0.13. This change will follow the implementation proposed in the original paper. Set to `'all'` to silence this warning and adopt the future behaviour.\n",
      "  warn(\n",
      "/Users/jayceepang/miniconda3/envs/atom2024/lib/python3.9/site-packages/imblearn/ensemble/_forest.py:589: FutureWarning: The default of `replacement` will change from `False` to `True` in version 0.13. This change will follow the implementation proposed in the original paper. Set to `True` to silence this warning and adopt the future behaviour.\n",
      "  warn(\n"
     ]
    },
    {
     "name": "stdout",
     "output_type": "stream",
     "text": [
      "TRAIN: acc: 0.999, precision: 0.998, recall: 0.999, spec: 0.998\n",
      "TEST: acc: 0.961, precision: 0.949, recall: 0.974, spec: 0.947\n",
      "func:'rf_models'  took: 15.7729 sec\n",
      "\n",
      "NEK2_inhibition_MFP_ADASYN_RF_fold3\n",
      "TRAIN: acc: 0.999, precision: 0.998, recall: 0.999, spec: 0.998\n",
      "TEST: acc: 0.975, precision: 0.971, recall: 0.980, spec: 0.970\n",
      "func:'rf_models'  took: 13.0542 sec\n",
      "\n",
      "NEK2_inhibition_MFP_ADASYN_RF_BCW_fold3\n",
      "TRAIN: acc: 0.999, precision: 0.998, recall: 0.999, spec: 0.998\n",
      "TEST: acc: 0.970, precision: 0.961, recall: 0.980, spec: 0.960\n",
      "func:'rf_models'  took: 13.2922 sec\n",
      "\n",
      "NEK2_inhibition_MFP_ADASYN_BRFC_fold3\n"
     ]
    },
    {
     "name": "stderr",
     "output_type": "stream",
     "text": [
      "/Users/jayceepang/miniconda3/envs/atom2024/lib/python3.9/site-packages/imblearn/ensemble/_forest.py:577: FutureWarning: The default of `sampling_strategy` will change from `'auto'` to `'all'` in version 0.13. This change will follow the implementation proposed in the original paper. Set to `'all'` to silence this warning and adopt the future behaviour.\n",
      "  warn(\n",
      "/Users/jayceepang/miniconda3/envs/atom2024/lib/python3.9/site-packages/imblearn/ensemble/_forest.py:589: FutureWarning: The default of `replacement` will change from `False` to `True` in version 0.13. This change will follow the implementation proposed in the original paper. Set to `True` to silence this warning and adopt the future behaviour.\n",
      "  warn(\n"
     ]
    },
    {
     "name": "stdout",
     "output_type": "stream",
     "text": [
      "TRAIN: acc: 0.999, precision: 0.998, recall: 0.999, spec: 0.998\n",
      "TEST: acc: 0.972, precision: 0.965, recall: 0.980, spec: 0.964\n",
      "func:'rf_models'  took: 15.9765 sec\n",
      "\n",
      "NEK2_inhibition_MFP_ADASYN_BRFC_BCW_fold3\n"
     ]
    },
    {
     "name": "stderr",
     "output_type": "stream",
     "text": [
      "/Users/jayceepang/miniconda3/envs/atom2024/lib/python3.9/site-packages/imblearn/ensemble/_forest.py:577: FutureWarning: The default of `sampling_strategy` will change from `'auto'` to `'all'` in version 0.13. This change will follow the implementation proposed in the original paper. Set to `'all'` to silence this warning and adopt the future behaviour.\n",
      "  warn(\n",
      "/Users/jayceepang/miniconda3/envs/atom2024/lib/python3.9/site-packages/imblearn/ensemble/_forest.py:589: FutureWarning: The default of `replacement` will change from `False` to `True` in version 0.13. This change will follow the implementation proposed in the original paper. Set to `True` to silence this warning and adopt the future behaviour.\n",
      "  warn(\n"
     ]
    },
    {
     "name": "stdout",
     "output_type": "stream",
     "text": [
      "TRAIN: acc: 0.999, precision: 0.998, recall: 0.999, spec: 0.998\n",
      "TEST: acc: 0.970, precision: 0.961, recall: 0.980, spec: 0.960\n",
      "func:'rf_models'  took: 16.2768 sec\n",
      "\n",
      "NEK2_inhibition_MFP_ADASYN_RF_fold4\n",
      "TRAIN: acc: 1.000, precision: 0.999, recall: 1.000, spec: 0.999\n",
      "TEST: acc: 0.975, precision: 0.971, recall: 0.980, spec: 0.970\n",
      "func:'rf_models'  took: 13.1132 sec\n",
      "\n",
      "NEK2_inhibition_MFP_ADASYN_RF_BCW_fold4\n",
      "TRAIN: acc: 1.000, precision: 0.999, recall: 1.000, spec: 0.999\n",
      "TEST: acc: 0.974, precision: 0.968, recall: 0.980, spec: 0.967\n",
      "func:'rf_models'  took: 13.1810 sec\n",
      "\n",
      "NEK2_inhibition_MFP_ADASYN_BRFC_fold4\n"
     ]
    },
    {
     "name": "stderr",
     "output_type": "stream",
     "text": [
      "/Users/jayceepang/miniconda3/envs/atom2024/lib/python3.9/site-packages/imblearn/ensemble/_forest.py:577: FutureWarning: The default of `sampling_strategy` will change from `'auto'` to `'all'` in version 0.13. This change will follow the implementation proposed in the original paper. Set to `'all'` to silence this warning and adopt the future behaviour.\n",
      "  warn(\n",
      "/Users/jayceepang/miniconda3/envs/atom2024/lib/python3.9/site-packages/imblearn/ensemble/_forest.py:589: FutureWarning: The default of `replacement` will change from `False` to `True` in version 0.13. This change will follow the implementation proposed in the original paper. Set to `True` to silence this warning and adopt the future behaviour.\n",
      "  warn(\n"
     ]
    },
    {
     "name": "stdout",
     "output_type": "stream",
     "text": [
      "TRAIN: acc: 1.000, precision: 0.999, recall: 1.000, spec: 0.999\n",
      "TEST: acc: 0.975, precision: 0.971, recall: 0.980, spec: 0.970\n",
      "func:'rf_models'  took: 15.9782 sec\n",
      "\n",
      "NEK2_inhibition_MFP_ADASYN_BRFC_BCW_fold4\n"
     ]
    },
    {
     "name": "stderr",
     "output_type": "stream",
     "text": [
      "/Users/jayceepang/miniconda3/envs/atom2024/lib/python3.9/site-packages/imblearn/ensemble/_forest.py:577: FutureWarning: The default of `sampling_strategy` will change from `'auto'` to `'all'` in version 0.13. This change will follow the implementation proposed in the original paper. Set to `'all'` to silence this warning and adopt the future behaviour.\n",
      "  warn(\n",
      "/Users/jayceepang/miniconda3/envs/atom2024/lib/python3.9/site-packages/imblearn/ensemble/_forest.py:589: FutureWarning: The default of `replacement` will change from `False` to `True` in version 0.13. This change will follow the implementation proposed in the original paper. Set to `True` to silence this warning and adopt the future behaviour.\n",
      "  warn(\n"
     ]
    },
    {
     "name": "stdout",
     "output_type": "stream",
     "text": [
      "TRAIN: acc: 1.000, precision: 0.999, recall: 1.000, spec: 0.999\n",
      "TEST: acc: 0.975, precision: 0.971, recall: 0.980, spec: 0.970\n",
      "func:'rf_models'  took: 16.0370 sec\n",
      "\n",
      "NEK2_inhibition_MFP_ADASYN_RF_fold5\n",
      "TRAIN: acc: 0.999, precision: 0.998, recall: 0.999, spec: 0.998\n",
      "TEST: acc: 0.970, precision: 0.977, recall: 0.964, spec: 0.977\n",
      "func:'rf_models'  took: 12.3117 sec\n",
      "\n",
      "NEK2_inhibition_MFP_ADASYN_RF_BCW_fold5\n",
      "TRAIN: acc: 0.999, precision: 0.998, recall: 0.999, spec: 0.998\n",
      "TEST: acc: 0.975, precision: 0.980, recall: 0.971, spec: 0.980\n",
      "func:'rf_models'  took: 12.5108 sec\n",
      "\n",
      "NEK2_inhibition_MFP_ADASYN_BRFC_fold5\n"
     ]
    },
    {
     "name": "stderr",
     "output_type": "stream",
     "text": [
      "/Users/jayceepang/miniconda3/envs/atom2024/lib/python3.9/site-packages/imblearn/ensemble/_forest.py:577: FutureWarning: The default of `sampling_strategy` will change from `'auto'` to `'all'` in version 0.13. This change will follow the implementation proposed in the original paper. Set to `'all'` to silence this warning and adopt the future behaviour.\n",
      "  warn(\n",
      "/Users/jayceepang/miniconda3/envs/atom2024/lib/python3.9/site-packages/imblearn/ensemble/_forest.py:589: FutureWarning: The default of `replacement` will change from `False` to `True` in version 0.13. This change will follow the implementation proposed in the original paper. Set to `True` to silence this warning and adopt the future behaviour.\n",
      "  warn(\n"
     ]
    },
    {
     "name": "stdout",
     "output_type": "stream",
     "text": [
      "TRAIN: acc: 0.999, precision: 0.998, recall: 0.999, spec: 0.998\n",
      "TEST: acc: 0.970, precision: 0.977, recall: 0.964, spec: 0.977\n",
      "func:'rf_models'  took: 15.3953 sec\n",
      "\n",
      "NEK2_inhibition_MFP_ADASYN_BRFC_BCW_fold5\n"
     ]
    },
    {
     "name": "stderr",
     "output_type": "stream",
     "text": [
      "/Users/jayceepang/miniconda3/envs/atom2024/lib/python3.9/site-packages/imblearn/ensemble/_forest.py:577: FutureWarning: The default of `sampling_strategy` will change from `'auto'` to `'all'` in version 0.13. This change will follow the implementation proposed in the original paper. Set to `'all'` to silence this warning and adopt the future behaviour.\n",
      "  warn(\n",
      "/Users/jayceepang/miniconda3/envs/atom2024/lib/python3.9/site-packages/imblearn/ensemble/_forest.py:589: FutureWarning: The default of `replacement` will change from `False` to `True` in version 0.13. This change will follow the implementation proposed in the original paper. Set to `True` to silence this warning and adopt the future behaviour.\n",
      "  warn(\n"
     ]
    },
    {
     "name": "stdout",
     "output_type": "stream",
     "text": [
      "TRAIN: acc: 0.999, precision: 0.998, recall: 0.999, spec: 0.998\n",
      "TEST: acc: 0.969, precision: 0.974, recall: 0.964, spec: 0.974\n",
      "func:'rf_models'  took: 15.4838 sec\n",
      "\n",
      "NEK3_binding_MOE_none_scaled_RF_fold1\n",
      "TRAIN: acc: 1.000, precision: 1.000, recall: 1.000, spec: 1.000\n",
      "TEST: acc: 0.889, precision: 0.071, recall: 0.077, spec: 0.939\n",
      "func:'rf_models'  took: 14.0151 sec\n",
      "\n",
      "NEK3_binding_MOE_none_scaled_RF_BCW_fold1\n",
      "TRAIN: acc: 1.000, precision: 1.000, recall: 1.000, spec: 1.000\n",
      "TEST: acc: 0.871, precision: 0.100, recall: 0.154, spec: 0.915\n",
      "func:'rf_models'  took: 6.9914 sec\n",
      "\n",
      "NEK3_binding_MOE_none_scaled_BRFC_fold1\n"
     ]
    },
    {
     "name": "stderr",
     "output_type": "stream",
     "text": [
      "/Users/jayceepang/miniconda3/envs/atom2024/lib/python3.9/site-packages/imblearn/ensemble/_forest.py:577: FutureWarning: The default of `sampling_strategy` will change from `'auto'` to `'all'` in version 0.13. This change will follow the implementation proposed in the original paper. Set to `'all'` to silence this warning and adopt the future behaviour.\n",
      "  warn(\n",
      "/Users/jayceepang/miniconda3/envs/atom2024/lib/python3.9/site-packages/imblearn/ensemble/_forest.py:589: FutureWarning: The default of `replacement` will change from `False` to `True` in version 0.13. This change will follow the implementation proposed in the original paper. Set to `True` to silence this warning and adopt the future behaviour.\n",
      "  warn(\n"
     ]
    },
    {
     "name": "stdout",
     "output_type": "stream",
     "text": [
      "TRAIN: acc: 0.727, precision: 0.172, recall: 1.000, spec: 0.710\n",
      "TEST: acc: 0.631, precision: 0.093, recall: 0.615, spec: 0.632\n",
      "func:'rf_models'  took: 0.5642 sec\n",
      "\n",
      "NEK3_binding_MOE_none_scaled_BRFC_BCW_fold1\n"
     ]
    },
    {
     "name": "stderr",
     "output_type": "stream",
     "text": [
      "/Users/jayceepang/miniconda3/envs/atom2024/lib/python3.9/site-packages/imblearn/ensemble/_forest.py:577: FutureWarning: The default of `sampling_strategy` will change from `'auto'` to `'all'` in version 0.13. This change will follow the implementation proposed in the original paper. Set to `'all'` to silence this warning and adopt the future behaviour.\n",
      "  warn(\n",
      "/Users/jayceepang/miniconda3/envs/atom2024/lib/python3.9/site-packages/imblearn/ensemble/_forest.py:589: FutureWarning: The default of `replacement` will change from `False` to `True` in version 0.13. This change will follow the implementation proposed in the original paper. Set to `True` to silence this warning and adopt the future behaviour.\n",
      "  warn(\n"
     ]
    },
    {
     "name": "stdout",
     "output_type": "stream",
     "text": [
      "TRAIN: acc: 0.669, precision: 0.147, recall: 1.000, spec: 0.649\n",
      "TEST: acc: 0.653, precision: 0.089, recall: 0.538, spec: 0.660\n",
      "func:'rf_models'  took: 1.5452 sec\n",
      "\n",
      "NEK3_binding_MOE_none_scaled_RF_fold2\n",
      "TRAIN: acc: 1.000, precision: 1.000, recall: 1.000, spec: 1.000\n",
      "TEST: acc: 0.893, precision: 0.077, recall: 0.077, spec: 0.943\n",
      "func:'rf_models'  took: 19.8321 sec\n",
      "\n",
      "NEK3_binding_MOE_none_scaled_RF_BCW_fold2\n",
      "TRAIN: acc: 1.000, precision: 1.000, recall: 1.000, spec: 1.000\n",
      "TEST: acc: 0.893, precision: 0.133, recall: 0.154, spec: 0.939\n",
      "func:'rf_models'  took: 8.3281 sec\n",
      "\n",
      "NEK3_binding_MOE_none_scaled_BRFC_fold2\n"
     ]
    },
    {
     "name": "stderr",
     "output_type": "stream",
     "text": [
      "/Users/jayceepang/miniconda3/envs/atom2024/lib/python3.9/site-packages/imblearn/ensemble/_forest.py:577: FutureWarning: The default of `sampling_strategy` will change from `'auto'` to `'all'` in version 0.13. This change will follow the implementation proposed in the original paper. Set to `'all'` to silence this warning and adopt the future behaviour.\n",
      "  warn(\n",
      "/Users/jayceepang/miniconda3/envs/atom2024/lib/python3.9/site-packages/imblearn/ensemble/_forest.py:589: FutureWarning: The default of `replacement` will change from `False` to `True` in version 0.13. This change will follow the implementation proposed in the original paper. Set to `True` to silence this warning and adopt the future behaviour.\n",
      "  warn(\n"
     ]
    },
    {
     "name": "stdout",
     "output_type": "stream",
     "text": [
      "TRAIN: acc: 0.728, precision: 0.173, recall: 1.000, spec: 0.712\n",
      "TEST: acc: 0.631, precision: 0.083, recall: 0.538, spec: 0.637\n",
      "func:'rf_models'  took: 0.5559 sec\n",
      "\n",
      "NEK3_binding_MOE_none_scaled_BRFC_BCW_fold2\n"
     ]
    },
    {
     "name": "stderr",
     "output_type": "stream",
     "text": [
      "/Users/jayceepang/miniconda3/envs/atom2024/lib/python3.9/site-packages/imblearn/ensemble/_forest.py:577: FutureWarning: The default of `sampling_strategy` will change from `'auto'` to `'all'` in version 0.13. This change will follow the implementation proposed in the original paper. Set to `'all'` to silence this warning and adopt the future behaviour.\n",
      "  warn(\n",
      "/Users/jayceepang/miniconda3/envs/atom2024/lib/python3.9/site-packages/imblearn/ensemble/_forest.py:589: FutureWarning: The default of `replacement` will change from `False` to `True` in version 0.13. This change will follow the implementation proposed in the original paper. Set to `True` to silence this warning and adopt the future behaviour.\n",
      "  warn(\n"
     ]
    },
    {
     "name": "stdout",
     "output_type": "stream",
     "text": [
      "TRAIN: acc: 0.682, precision: 0.152, recall: 1.000, spec: 0.663\n",
      "TEST: acc: 0.676, precision: 0.105, recall: 0.615, spec: 0.679\n",
      "func:'rf_models'  took: 1.4773 sec\n",
      "\n",
      "NEK3_binding_MOE_none_scaled_RF_fold3\n",
      "TRAIN: acc: 1.000, precision: 1.000, recall: 1.000, spec: 1.000\n",
      "TEST: acc: 0.897, precision: 0.133, recall: 0.167, spec: 0.939\n",
      "func:'rf_models'  took: 10.5073 sec\n",
      "\n",
      "NEK3_binding_MOE_none_scaled_RF_BCW_fold3\n",
      "TRAIN: acc: 1.000, precision: 1.000, recall: 1.000, spec: 1.000\n",
      "TEST: acc: 0.897, precision: 0.133, recall: 0.167, spec: 0.939\n",
      "func:'rf_models'  took: 6.2800 sec\n",
      "\n",
      "NEK3_binding_MOE_none_scaled_BRFC_fold3\n"
     ]
    },
    {
     "name": "stderr",
     "output_type": "stream",
     "text": [
      "/Users/jayceepang/miniconda3/envs/atom2024/lib/python3.9/site-packages/imblearn/ensemble/_forest.py:577: FutureWarning: The default of `sampling_strategy` will change from `'auto'` to `'all'` in version 0.13. This change will follow the implementation proposed in the original paper. Set to `'all'` to silence this warning and adopt the future behaviour.\n",
      "  warn(\n",
      "/Users/jayceepang/miniconda3/envs/atom2024/lib/python3.9/site-packages/imblearn/ensemble/_forest.py:589: FutureWarning: The default of `replacement` will change from `False` to `True` in version 0.13. This change will follow the implementation proposed in the original paper. Set to `True` to silence this warning and adopt the future behaviour.\n",
      "  warn(\n"
     ]
    },
    {
     "name": "stdout",
     "output_type": "stream",
     "text": [
      "TRAIN: acc: 0.754, precision: 0.190, recall: 1.000, spec: 0.739\n",
      "TEST: acc: 0.589, precision: 0.065, recall: 0.500, spec: 0.594\n",
      "func:'rf_models'  took: 0.5615 sec\n",
      "\n",
      "NEK3_binding_MOE_none_scaled_BRFC_BCW_fold3\n"
     ]
    },
    {
     "name": "stderr",
     "output_type": "stream",
     "text": [
      "/Users/jayceepang/miniconda3/envs/atom2024/lib/python3.9/site-packages/imblearn/ensemble/_forest.py:577: FutureWarning: The default of `sampling_strategy` will change from `'auto'` to `'all'` in version 0.13. This change will follow the implementation proposed in the original paper. Set to `'all'` to silence this warning and adopt the future behaviour.\n",
      "  warn(\n",
      "/Users/jayceepang/miniconda3/envs/atom2024/lib/python3.9/site-packages/imblearn/ensemble/_forest.py:589: FutureWarning: The default of `replacement` will change from `False` to `True` in version 0.13. This change will follow the implementation proposed in the original paper. Set to `True` to silence this warning and adopt the future behaviour.\n",
      "  warn(\n"
     ]
    },
    {
     "name": "stdout",
     "output_type": "stream",
     "text": [
      "TRAIN: acc: 0.697, precision: 0.160, recall: 1.000, spec: 0.678\n",
      "TEST: acc: 0.656, precision: 0.078, recall: 0.500, spec: 0.665\n",
      "func:'rf_models'  took: 1.5038 sec\n",
      "\n",
      "NEK3_binding_MOE_none_scaled_RF_fold4\n",
      "TRAIN: acc: 1.000, precision: 1.000, recall: 1.000, spec: 1.000\n",
      "TEST: acc: 0.897, precision: 0.083, recall: 0.077, spec: 0.948\n",
      "func:'rf_models'  took: 20.2278 sec\n",
      "\n",
      "NEK3_binding_MOE_none_scaled_RF_BCW_fold4\n",
      "TRAIN: acc: 1.000, precision: 1.000, recall: 1.000, spec: 1.000\n",
      "TEST: acc: 0.897, precision: 0.000, recall: 0.000, spec: 0.953\n",
      "func:'rf_models'  took: 6.7539 sec\n",
      "\n",
      "NEK3_binding_MOE_none_scaled_BRFC_fold4\n"
     ]
    },
    {
     "name": "stderr",
     "output_type": "stream",
     "text": [
      "/Users/jayceepang/miniconda3/envs/atom2024/lib/python3.9/site-packages/imblearn/ensemble/_forest.py:577: FutureWarning: The default of `sampling_strategy` will change from `'auto'` to `'all'` in version 0.13. This change will follow the implementation proposed in the original paper. Set to `'all'` to silence this warning and adopt the future behaviour.\n",
      "  warn(\n",
      "/Users/jayceepang/miniconda3/envs/atom2024/lib/python3.9/site-packages/imblearn/ensemble/_forest.py:589: FutureWarning: The default of `replacement` will change from `False` to `True` in version 0.13. This change will follow the implementation proposed in the original paper. Set to `True` to silence this warning and adopt the future behaviour.\n",
      "  warn(\n"
     ]
    },
    {
     "name": "stdout",
     "output_type": "stream",
     "text": [
      "TRAIN: acc: 0.728, precision: 0.173, recall: 1.000, spec: 0.712\n",
      "TEST: acc: 0.625, precision: 0.082, recall: 0.538, spec: 0.630\n",
      "func:'rf_models'  took: 0.5688 sec\n",
      "\n",
      "NEK3_binding_MOE_none_scaled_BRFC_BCW_fold4\n"
     ]
    },
    {
     "name": "stderr",
     "output_type": "stream",
     "text": [
      "/Users/jayceepang/miniconda3/envs/atom2024/lib/python3.9/site-packages/imblearn/ensemble/_forest.py:577: FutureWarning: The default of `sampling_strategy` will change from `'auto'` to `'all'` in version 0.13. This change will follow the implementation proposed in the original paper. Set to `'all'` to silence this warning and adopt the future behaviour.\n",
      "  warn(\n",
      "/Users/jayceepang/miniconda3/envs/atom2024/lib/python3.9/site-packages/imblearn/ensemble/_forest.py:589: FutureWarning: The default of `replacement` will change from `False` to `True` in version 0.13. This change will follow the implementation proposed in the original paper. Set to `True` to silence this warning and adopt the future behaviour.\n",
      "  warn(\n"
     ]
    },
    {
     "name": "stdout",
     "output_type": "stream",
     "text": [
      "TRAIN: acc: 0.719, precision: 0.168, recall: 1.000, spec: 0.702\n",
      "TEST: acc: 0.661, precision: 0.068, recall: 0.385, spec: 0.678\n",
      "func:'rf_models'  took: 1.4269 sec\n",
      "\n",
      "NEK3_binding_MOE_none_scaled_RF_fold5\n",
      "TRAIN: acc: 1.000, precision: 1.000, recall: 1.000, spec: 1.000\n",
      "TEST: acc: 0.902, precision: 0.091, recall: 0.077, spec: 0.953\n",
      "func:'rf_models'  took: 24.3997 sec\n",
      "\n",
      "NEK3_binding_MOE_none_scaled_RF_BCW_fold5\n",
      "TRAIN: acc: 1.000, precision: 1.000, recall: 1.000, spec: 1.000\n",
      "TEST: acc: 0.893, precision: 0.133, recall: 0.154, spec: 0.938\n",
      "func:'rf_models'  took: 6.0434 sec\n",
      "\n",
      "NEK3_binding_MOE_none_scaled_BRFC_fold5\n"
     ]
    },
    {
     "name": "stderr",
     "output_type": "stream",
     "text": [
      "/Users/jayceepang/miniconda3/envs/atom2024/lib/python3.9/site-packages/imblearn/ensemble/_forest.py:577: FutureWarning: The default of `sampling_strategy` will change from `'auto'` to `'all'` in version 0.13. This change will follow the implementation proposed in the original paper. Set to `'all'` to silence this warning and adopt the future behaviour.\n",
      "  warn(\n",
      "/Users/jayceepang/miniconda3/envs/atom2024/lib/python3.9/site-packages/imblearn/ensemble/_forest.py:589: FutureWarning: The default of `replacement` will change from `False` to `True` in version 0.13. This change will follow the implementation proposed in the original paper. Set to `True` to silence this warning and adopt the future behaviour.\n",
      "  warn(\n"
     ]
    },
    {
     "name": "stdout",
     "output_type": "stream",
     "text": [
      "TRAIN: acc: 0.746, precision: 0.183, recall: 1.000, spec: 0.731\n",
      "TEST: acc: 0.652, precision: 0.099, recall: 0.615, spec: 0.654\n",
      "func:'rf_models'  took: 0.5847 sec\n",
      "\n",
      "NEK3_binding_MOE_none_scaled_BRFC_BCW_fold5\n"
     ]
    },
    {
     "name": "stderr",
     "output_type": "stream",
     "text": [
      "/Users/jayceepang/miniconda3/envs/atom2024/lib/python3.9/site-packages/imblearn/ensemble/_forest.py:577: FutureWarning: The default of `sampling_strategy` will change from `'auto'` to `'all'` in version 0.13. This change will follow the implementation proposed in the original paper. Set to `'all'` to silence this warning and adopt the future behaviour.\n",
      "  warn(\n",
      "/Users/jayceepang/miniconda3/envs/atom2024/lib/python3.9/site-packages/imblearn/ensemble/_forest.py:589: FutureWarning: The default of `replacement` will change from `False` to `True` in version 0.13. This change will follow the implementation proposed in the original paper. Set to `True` to silence this warning and adopt the future behaviour.\n",
      "  warn(\n"
     ]
    },
    {
     "name": "stdout",
     "output_type": "stream",
     "text": [
      "TRAIN: acc: 0.674, precision: 0.148, recall: 1.000, spec: 0.654\n",
      "TEST: acc: 0.674, precision: 0.115, recall: 0.692, spec: 0.673\n",
      "func:'rf_models'  took: 1.4295 sec\n",
      "\n",
      "NEK3_binding_MOE_UNDER_RF_fold1\n",
      "TRAIN: acc: 1.000, precision: 1.000, recall: 1.000, spec: 1.000\n",
      "TEST: acc: 0.654, precision: 0.700, recall: 0.538, spec: 0.769\n",
      "func:'rf_models'  took: 0.5494 sec\n",
      "\n",
      "NEK3_binding_MOE_UNDER_RF_BCW_fold1\n",
      "TRAIN: acc: 1.000, precision: 1.000, recall: 1.000, spec: 1.000\n",
      "TEST: acc: 0.654, precision: 0.700, recall: 0.538, spec: 0.769\n",
      "func:'rf_models'  took: 0.5619 sec\n",
      "\n",
      "NEK3_binding_MOE_UNDER_BRFC_fold1\n"
     ]
    },
    {
     "name": "stderr",
     "output_type": "stream",
     "text": [
      "/Users/jayceepang/miniconda3/envs/atom2024/lib/python3.9/site-packages/imblearn/ensemble/_forest.py:577: FutureWarning: The default of `sampling_strategy` will change from `'auto'` to `'all'` in version 0.13. This change will follow the implementation proposed in the original paper. Set to `'all'` to silence this warning and adopt the future behaviour.\n",
      "  warn(\n",
      "/Users/jayceepang/miniconda3/envs/atom2024/lib/python3.9/site-packages/imblearn/ensemble/_forest.py:589: FutureWarning: The default of `replacement` will change from `False` to `True` in version 0.13. This change will follow the implementation proposed in the original paper. Set to `True` to silence this warning and adopt the future behaviour.\n",
      "  warn(\n"
     ]
    },
    {
     "name": "stdout",
     "output_type": "stream",
     "text": [
      "TRAIN: acc: 1.000, precision: 1.000, recall: 1.000, spec: 1.000\n",
      "TEST: acc: 0.615, precision: 0.667, recall: 0.462, spec: 0.769\n",
      "func:'rf_models'  took: 0.5825 sec\n",
      "\n",
      "NEK3_binding_MOE_UNDER_BRFC_BCW_fold1\n"
     ]
    },
    {
     "name": "stderr",
     "output_type": "stream",
     "text": [
      "/Users/jayceepang/miniconda3/envs/atom2024/lib/python3.9/site-packages/imblearn/ensemble/_forest.py:577: FutureWarning: The default of `sampling_strategy` will change from `'auto'` to `'all'` in version 0.13. This change will follow the implementation proposed in the original paper. Set to `'all'` to silence this warning and adopt the future behaviour.\n",
      "  warn(\n",
      "/Users/jayceepang/miniconda3/envs/atom2024/lib/python3.9/site-packages/imblearn/ensemble/_forest.py:589: FutureWarning: The default of `replacement` will change from `False` to `True` in version 0.13. This change will follow the implementation proposed in the original paper. Set to `True` to silence this warning and adopt the future behaviour.\n",
      "  warn(\n"
     ]
    },
    {
     "name": "stdout",
     "output_type": "stream",
     "text": [
      "TRAIN: acc: 1.000, precision: 1.000, recall: 1.000, spec: 1.000\n",
      "TEST: acc: 0.654, precision: 0.700, recall: 0.538, spec: 0.769\n",
      "func:'rf_models'  took: 0.6213 sec\n",
      "\n",
      "NEK3_binding_MOE_UNDER_RF_fold2\n",
      "TRAIN: acc: 1.000, precision: 1.000, recall: 1.000, spec: 1.000\n",
      "TEST: acc: 0.615, precision: 0.636, recall: 0.538, spec: 0.692\n",
      "func:'rf_models'  took: 0.5815 sec\n",
      "\n",
      "NEK3_binding_MOE_UNDER_RF_BCW_fold2\n",
      "TRAIN: acc: 1.000, precision: 1.000, recall: 1.000, spec: 1.000\n",
      "TEST: acc: 0.615, precision: 0.636, recall: 0.538, spec: 0.692\n",
      "func:'rf_models'  took: 0.5973 sec\n",
      "\n",
      "NEK3_binding_MOE_UNDER_BRFC_fold2\n"
     ]
    },
    {
     "name": "stderr",
     "output_type": "stream",
     "text": [
      "/Users/jayceepang/miniconda3/envs/atom2024/lib/python3.9/site-packages/imblearn/ensemble/_forest.py:577: FutureWarning: The default of `sampling_strategy` will change from `'auto'` to `'all'` in version 0.13. This change will follow the implementation proposed in the original paper. Set to `'all'` to silence this warning and adopt the future behaviour.\n",
      "  warn(\n",
      "/Users/jayceepang/miniconda3/envs/atom2024/lib/python3.9/site-packages/imblearn/ensemble/_forest.py:589: FutureWarning: The default of `replacement` will change from `False` to `True` in version 0.13. This change will follow the implementation proposed in the original paper. Set to `True` to silence this warning and adopt the future behaviour.\n",
      "  warn(\n"
     ]
    },
    {
     "name": "stdout",
     "output_type": "stream",
     "text": [
      "TRAIN: acc: 1.000, precision: 1.000, recall: 1.000, spec: 1.000\n",
      "TEST: acc: 0.654, precision: 0.667, recall: 0.615, spec: 0.692\n",
      "func:'rf_models'  took: 0.6784 sec\n",
      "\n",
      "NEK3_binding_MOE_UNDER_BRFC_BCW_fold2\n"
     ]
    },
    {
     "name": "stderr",
     "output_type": "stream",
     "text": [
      "/Users/jayceepang/miniconda3/envs/atom2024/lib/python3.9/site-packages/imblearn/ensemble/_forest.py:577: FutureWarning: The default of `sampling_strategy` will change from `'auto'` to `'all'` in version 0.13. This change will follow the implementation proposed in the original paper. Set to `'all'` to silence this warning and adopt the future behaviour.\n",
      "  warn(\n",
      "/Users/jayceepang/miniconda3/envs/atom2024/lib/python3.9/site-packages/imblearn/ensemble/_forest.py:589: FutureWarning: The default of `replacement` will change from `False` to `True` in version 0.13. This change will follow the implementation proposed in the original paper. Set to `True` to silence this warning and adopt the future behaviour.\n",
      "  warn(\n"
     ]
    },
    {
     "name": "stdout",
     "output_type": "stream",
     "text": [
      "TRAIN: acc: 1.000, precision: 1.000, recall: 1.000, spec: 1.000\n",
      "TEST: acc: 0.577, precision: 0.571, recall: 0.615, spec: 0.538\n",
      "func:'rf_models'  took: 0.6303 sec\n",
      "\n",
      "NEK3_binding_MOE_UNDER_RF_fold3\n",
      "TRAIN: acc: 1.000, precision: 1.000, recall: 1.000, spec: 1.000\n",
      "TEST: acc: 0.692, precision: 0.727, recall: 0.615, spec: 0.769\n",
      "func:'rf_models'  took: 0.5189 sec\n",
      "\n",
      "NEK3_binding_MOE_UNDER_RF_BCW_fold3\n",
      "TRAIN: acc: 1.000, precision: 1.000, recall: 1.000, spec: 1.000\n",
      "TEST: acc: 0.692, precision: 0.727, recall: 0.615, spec: 0.769\n",
      "func:'rf_models'  took: 0.5344 sec\n",
      "\n",
      "NEK3_binding_MOE_UNDER_BRFC_fold3\n"
     ]
    },
    {
     "name": "stderr",
     "output_type": "stream",
     "text": [
      "/Users/jayceepang/miniconda3/envs/atom2024/lib/python3.9/site-packages/imblearn/ensemble/_forest.py:577: FutureWarning: The default of `sampling_strategy` will change from `'auto'` to `'all'` in version 0.13. This change will follow the implementation proposed in the original paper. Set to `'all'` to silence this warning and adopt the future behaviour.\n",
      "  warn(\n",
      "/Users/jayceepang/miniconda3/envs/atom2024/lib/python3.9/site-packages/imblearn/ensemble/_forest.py:589: FutureWarning: The default of `replacement` will change from `False` to `True` in version 0.13. This change will follow the implementation proposed in the original paper. Set to `True` to silence this warning and adopt the future behaviour.\n",
      "  warn(\n"
     ]
    },
    {
     "name": "stdout",
     "output_type": "stream",
     "text": [
      "TRAIN: acc: 1.000, precision: 1.000, recall: 1.000, spec: 1.000\n",
      "TEST: acc: 0.692, precision: 0.727, recall: 0.615, spec: 0.769\n",
      "func:'rf_models'  took: 0.5565 sec\n",
      "\n",
      "NEK3_binding_MOE_UNDER_BRFC_BCW_fold3\n"
     ]
    },
    {
     "name": "stderr",
     "output_type": "stream",
     "text": [
      "/Users/jayceepang/miniconda3/envs/atom2024/lib/python3.9/site-packages/imblearn/ensemble/_forest.py:577: FutureWarning: The default of `sampling_strategy` will change from `'auto'` to `'all'` in version 0.13. This change will follow the implementation proposed in the original paper. Set to `'all'` to silence this warning and adopt the future behaviour.\n",
      "  warn(\n",
      "/Users/jayceepang/miniconda3/envs/atom2024/lib/python3.9/site-packages/imblearn/ensemble/_forest.py:589: FutureWarning: The default of `replacement` will change from `False` to `True` in version 0.13. This change will follow the implementation proposed in the original paper. Set to `True` to silence this warning and adopt the future behaviour.\n",
      "  warn(\n"
     ]
    },
    {
     "name": "stdout",
     "output_type": "stream",
     "text": [
      "TRAIN: acc: 1.000, precision: 1.000, recall: 1.000, spec: 1.000\n",
      "TEST: acc: 0.692, precision: 0.727, recall: 0.615, spec: 0.769\n",
      "func:'rf_models'  took: 0.5787 sec\n",
      "\n",
      "NEK3_binding_MOE_UNDER_RF_fold4\n",
      "TRAIN: acc: 1.000, precision: 1.000, recall: 1.000, spec: 1.000\n",
      "TEST: acc: 0.440, precision: 0.429, recall: 0.500, spec: 0.385\n",
      "func:'rf_models'  took: 0.5062 sec\n",
      "\n",
      "NEK3_binding_MOE_UNDER_RF_BCW_fold4\n",
      "TRAIN: acc: 1.000, precision: 1.000, recall: 1.000, spec: 1.000\n",
      "TEST: acc: 0.440, precision: 0.429, recall: 0.500, spec: 0.385\n",
      "func:'rf_models'  took: 0.5388 sec\n",
      "\n",
      "NEK3_binding_MOE_UNDER_BRFC_fold4\n"
     ]
    },
    {
     "name": "stderr",
     "output_type": "stream",
     "text": [
      "/Users/jayceepang/miniconda3/envs/atom2024/lib/python3.9/site-packages/imblearn/ensemble/_forest.py:577: FutureWarning: The default of `sampling_strategy` will change from `'auto'` to `'all'` in version 0.13. This change will follow the implementation proposed in the original paper. Set to `'all'` to silence this warning and adopt the future behaviour.\n",
      "  warn(\n",
      "/Users/jayceepang/miniconda3/envs/atom2024/lib/python3.9/site-packages/imblearn/ensemble/_forest.py:589: FutureWarning: The default of `replacement` will change from `False` to `True` in version 0.13. This change will follow the implementation proposed in the original paper. Set to `True` to silence this warning and adopt the future behaviour.\n",
      "  warn(\n"
     ]
    },
    {
     "name": "stdout",
     "output_type": "stream",
     "text": [
      "TRAIN: acc: 1.000, precision: 1.000, recall: 1.000, spec: 1.000\n",
      "TEST: acc: 0.440, precision: 0.429, recall: 0.500, spec: 0.385\n",
      "func:'rf_models'  took: 0.5252 sec\n",
      "\n",
      "NEK3_binding_MOE_UNDER_BRFC_BCW_fold4\n"
     ]
    },
    {
     "name": "stderr",
     "output_type": "stream",
     "text": [
      "/Users/jayceepang/miniconda3/envs/atom2024/lib/python3.9/site-packages/imblearn/ensemble/_forest.py:577: FutureWarning: The default of `sampling_strategy` will change from `'auto'` to `'all'` in version 0.13. This change will follow the implementation proposed in the original paper. Set to `'all'` to silence this warning and adopt the future behaviour.\n",
      "  warn(\n",
      "/Users/jayceepang/miniconda3/envs/atom2024/lib/python3.9/site-packages/imblearn/ensemble/_forest.py:589: FutureWarning: The default of `replacement` will change from `False` to `True` in version 0.13. This change will follow the implementation proposed in the original paper. Set to `True` to silence this warning and adopt the future behaviour.\n",
      "  warn(\n"
     ]
    },
    {
     "name": "stdout",
     "output_type": "stream",
     "text": [
      "TRAIN: acc: 1.000, precision: 1.000, recall: 1.000, spec: 1.000\n",
      "TEST: acc: 0.440, precision: 0.429, recall: 0.500, spec: 0.385\n",
      "func:'rf_models'  took: 0.5503 sec\n",
      "\n",
      "NEK3_binding_MOE_UNDER_RF_fold5\n",
      "TRAIN: acc: 1.000, precision: 1.000, recall: 1.000, spec: 1.000\n",
      "TEST: acc: 0.720, precision: 0.688, recall: 0.846, spec: 0.583\n",
      "func:'rf_models'  took: 0.5144 sec\n",
      "\n",
      "NEK3_binding_MOE_UNDER_RF_BCW_fold5\n",
      "TRAIN: acc: 1.000, precision: 1.000, recall: 1.000, spec: 1.000\n",
      "TEST: acc: 0.640, precision: 0.625, recall: 0.769, spec: 0.500\n",
      "func:'rf_models'  took: 0.5346 sec\n",
      "\n",
      "NEK3_binding_MOE_UNDER_BRFC_fold5\n"
     ]
    },
    {
     "name": "stderr",
     "output_type": "stream",
     "text": [
      "/Users/jayceepang/miniconda3/envs/atom2024/lib/python3.9/site-packages/imblearn/ensemble/_forest.py:577: FutureWarning: The default of `sampling_strategy` will change from `'auto'` to `'all'` in version 0.13. This change will follow the implementation proposed in the original paper. Set to `'all'` to silence this warning and adopt the future behaviour.\n",
      "  warn(\n",
      "/Users/jayceepang/miniconda3/envs/atom2024/lib/python3.9/site-packages/imblearn/ensemble/_forest.py:589: FutureWarning: The default of `replacement` will change from `False` to `True` in version 0.13. This change will follow the implementation proposed in the original paper. Set to `True` to silence this warning and adopt the future behaviour.\n",
      "  warn(\n"
     ]
    },
    {
     "name": "stdout",
     "output_type": "stream",
     "text": [
      "TRAIN: acc: 1.000, precision: 1.000, recall: 1.000, spec: 1.000\n",
      "TEST: acc: 0.760, precision: 0.733, recall: 0.846, spec: 0.667\n",
      "func:'rf_models'  took: 0.5367 sec\n",
      "\n",
      "NEK3_binding_MOE_UNDER_BRFC_BCW_fold5\n"
     ]
    },
    {
     "name": "stderr",
     "output_type": "stream",
     "text": [
      "/Users/jayceepang/miniconda3/envs/atom2024/lib/python3.9/site-packages/imblearn/ensemble/_forest.py:577: FutureWarning: The default of `sampling_strategy` will change from `'auto'` to `'all'` in version 0.13. This change will follow the implementation proposed in the original paper. Set to `'all'` to silence this warning and adopt the future behaviour.\n",
      "  warn(\n",
      "/Users/jayceepang/miniconda3/envs/atom2024/lib/python3.9/site-packages/imblearn/ensemble/_forest.py:589: FutureWarning: The default of `replacement` will change from `False` to `True` in version 0.13. This change will follow the implementation proposed in the original paper. Set to `True` to silence this warning and adopt the future behaviour.\n",
      "  warn(\n"
     ]
    },
    {
     "name": "stdout",
     "output_type": "stream",
     "text": [
      "TRAIN: acc: 1.000, precision: 1.000, recall: 1.000, spec: 1.000\n",
      "TEST: acc: 0.760, precision: 0.733, recall: 0.846, spec: 0.667\n",
      "func:'rf_models'  took: 0.5602 sec\n",
      "\n",
      "NEK3_binding_MOE_SMOTE_RF_fold1\n",
      "TRAIN: acc: 1.000, precision: 1.000, recall: 1.000, spec: 1.000\n",
      "TEST: acc: 0.920, precision: 0.894, recall: 0.953, spec: 0.887\n",
      "func:'rf_models'  took: 23.9019 sec\n",
      "\n",
      "NEK3_binding_MOE_SMOTE_RF_BCW_fold1\n",
      "TRAIN: acc: 1.000, precision: 1.000, recall: 1.000, spec: 1.000\n",
      "TEST: acc: 0.922, precision: 0.898, recall: 0.953, spec: 0.892\n",
      "func:'rf_models'  took: 24.3912 sec\n",
      "\n",
      "NEK3_binding_MOE_SMOTE_BRFC_fold1\n"
     ]
    },
    {
     "name": "stderr",
     "output_type": "stream",
     "text": [
      "/Users/jayceepang/miniconda3/envs/atom2024/lib/python3.9/site-packages/imblearn/ensemble/_forest.py:577: FutureWarning: The default of `sampling_strategy` will change from `'auto'` to `'all'` in version 0.13. This change will follow the implementation proposed in the original paper. Set to `'all'` to silence this warning and adopt the future behaviour.\n",
      "  warn(\n",
      "/Users/jayceepang/miniconda3/envs/atom2024/lib/python3.9/site-packages/imblearn/ensemble/_forest.py:589: FutureWarning: The default of `replacement` will change from `False` to `True` in version 0.13. This change will follow the implementation proposed in the original paper. Set to `True` to silence this warning and adopt the future behaviour.\n",
      "  warn(\n"
     ]
    },
    {
     "name": "stdout",
     "output_type": "stream",
     "text": [
      "TRAIN: acc: 1.000, precision: 1.000, recall: 1.000, spec: 1.000\n",
      "TEST: acc: 0.917, precision: 0.890, recall: 0.953, spec: 0.882\n",
      "func:'rf_models'  took: 23.8445 sec\n",
      "\n",
      "NEK3_binding_MOE_SMOTE_BRFC_BCW_fold1\n"
     ]
    },
    {
     "name": "stderr",
     "output_type": "stream",
     "text": [
      "/Users/jayceepang/miniconda3/envs/atom2024/lib/python3.9/site-packages/imblearn/ensemble/_forest.py:577: FutureWarning: The default of `sampling_strategy` will change from `'auto'` to `'all'` in version 0.13. This change will follow the implementation proposed in the original paper. Set to `'all'` to silence this warning and adopt the future behaviour.\n",
      "  warn(\n",
      "/Users/jayceepang/miniconda3/envs/atom2024/lib/python3.9/site-packages/imblearn/ensemble/_forest.py:589: FutureWarning: The default of `replacement` will change from `False` to `True` in version 0.13. This change will follow the implementation proposed in the original paper. Set to `True` to silence this warning and adopt the future behaviour.\n",
      "  warn(\n"
     ]
    },
    {
     "name": "stdout",
     "output_type": "stream",
     "text": [
      "TRAIN: acc: 1.000, precision: 1.000, recall: 1.000, spec: 1.000\n",
      "TEST: acc: 0.920, precision: 0.894, recall: 0.953, spec: 0.887\n",
      "func:'rf_models'  took: 24.7520 sec\n",
      "\n",
      "NEK3_binding_MOE_SMOTE_RF_fold2\n",
      "TRAIN: acc: 1.000, precision: 1.000, recall: 1.000, spec: 1.000\n",
      "TEST: acc: 0.939, precision: 0.907, recall: 0.976, spec: 0.901\n",
      "func:'rf_models'  took: 27.6856 sec\n",
      "\n",
      "NEK3_binding_MOE_SMOTE_RF_BCW_fold2\n",
      "TRAIN: acc: 1.000, precision: 1.000, recall: 1.000, spec: 1.000\n",
      "TEST: acc: 0.936, precision: 0.904, recall: 0.976, spec: 0.896\n",
      "func:'rf_models'  took: 28.6065 sec\n",
      "\n",
      "NEK3_binding_MOE_SMOTE_BRFC_fold2\n"
     ]
    },
    {
     "name": "stderr",
     "output_type": "stream",
     "text": [
      "/Users/jayceepang/miniconda3/envs/atom2024/lib/python3.9/site-packages/imblearn/ensemble/_forest.py:577: FutureWarning: The default of `sampling_strategy` will change from `'auto'` to `'all'` in version 0.13. This change will follow the implementation proposed in the original paper. Set to `'all'` to silence this warning and adopt the future behaviour.\n",
      "  warn(\n",
      "/Users/jayceepang/miniconda3/envs/atom2024/lib/python3.9/site-packages/imblearn/ensemble/_forest.py:589: FutureWarning: The default of `replacement` will change from `False` to `True` in version 0.13. This change will follow the implementation proposed in the original paper. Set to `True` to silence this warning and adopt the future behaviour.\n",
      "  warn(\n"
     ]
    },
    {
     "name": "stdout",
     "output_type": "stream",
     "text": [
      "TRAIN: acc: 1.000, precision: 1.000, recall: 1.000, spec: 1.000\n",
      "TEST: acc: 0.939, precision: 0.907, recall: 0.976, spec: 0.901\n",
      "func:'rf_models'  took: 28.5758 sec\n",
      "\n",
      "NEK3_binding_MOE_SMOTE_BRFC_BCW_fold2\n"
     ]
    },
    {
     "name": "stderr",
     "output_type": "stream",
     "text": [
      "/Users/jayceepang/miniconda3/envs/atom2024/lib/python3.9/site-packages/imblearn/ensemble/_forest.py:577: FutureWarning: The default of `sampling_strategy` will change from `'auto'` to `'all'` in version 0.13. This change will follow the implementation proposed in the original paper. Set to `'all'` to silence this warning and adopt the future behaviour.\n",
      "  warn(\n",
      "/Users/jayceepang/miniconda3/envs/atom2024/lib/python3.9/site-packages/imblearn/ensemble/_forest.py:589: FutureWarning: The default of `replacement` will change from `False` to `True` in version 0.13. This change will follow the implementation proposed in the original paper. Set to `True` to silence this warning and adopt the future behaviour.\n",
      "  warn(\n"
     ]
    },
    {
     "name": "stdout",
     "output_type": "stream",
     "text": [
      "TRAIN: acc: 1.000, precision: 1.000, recall: 1.000, spec: 1.000\n",
      "TEST: acc: 0.934, precision: 0.900, recall: 0.976, spec: 0.892\n",
      "func:'rf_models'  took: 29.1346 sec\n",
      "\n",
      "NEK3_binding_MOE_SMOTE_RF_fold3\n",
      "TRAIN: acc: 1.000, precision: 1.000, recall: 1.000, spec: 1.000\n",
      "TEST: acc: 0.939, precision: 0.922, recall: 0.957, spec: 0.920\n",
      "func:'rf_models'  took: 31.0058 sec\n",
      "\n",
      "NEK3_binding_MOE_SMOTE_RF_BCW_fold3\n",
      "TRAIN: acc: 1.000, precision: 1.000, recall: 1.000, spec: 1.000\n",
      "TEST: acc: 0.936, precision: 0.926, recall: 0.948, spec: 0.925\n",
      "func:'rf_models'  took: 31.8799 sec\n",
      "\n",
      "NEK3_binding_MOE_SMOTE_BRFC_fold3\n"
     ]
    },
    {
     "name": "stderr",
     "output_type": "stream",
     "text": [
      "/Users/jayceepang/miniconda3/envs/atom2024/lib/python3.9/site-packages/imblearn/ensemble/_forest.py:577: FutureWarning: The default of `sampling_strategy` will change from `'auto'` to `'all'` in version 0.13. This change will follow the implementation proposed in the original paper. Set to `'all'` to silence this warning and adopt the future behaviour.\n",
      "  warn(\n",
      "/Users/jayceepang/miniconda3/envs/atom2024/lib/python3.9/site-packages/imblearn/ensemble/_forest.py:589: FutureWarning: The default of `replacement` will change from `False` to `True` in version 0.13. This change will follow the implementation proposed in the original paper. Set to `True` to silence this warning and adopt the future behaviour.\n",
      "  warn(\n"
     ]
    },
    {
     "name": "stdout",
     "output_type": "stream",
     "text": [
      "TRAIN: acc: 1.000, precision: 1.000, recall: 1.000, spec: 1.000\n",
      "TEST: acc: 0.948, precision: 0.940, recall: 0.957, spec: 0.939\n",
      "func:'rf_models'  took: 29.7105 sec\n",
      "\n",
      "NEK3_binding_MOE_SMOTE_BRFC_BCW_fold3\n"
     ]
    },
    {
     "name": "stderr",
     "output_type": "stream",
     "text": [
      "/Users/jayceepang/miniconda3/envs/atom2024/lib/python3.9/site-packages/imblearn/ensemble/_forest.py:577: FutureWarning: The default of `sampling_strategy` will change from `'auto'` to `'all'` in version 0.13. This change will follow the implementation proposed in the original paper. Set to `'all'` to silence this warning and adopt the future behaviour.\n",
      "  warn(\n",
      "/Users/jayceepang/miniconda3/envs/atom2024/lib/python3.9/site-packages/imblearn/ensemble/_forest.py:589: FutureWarning: The default of `replacement` will change from `False` to `True` in version 0.13. This change will follow the implementation proposed in the original paper. Set to `True` to silence this warning and adopt the future behaviour.\n",
      "  warn(\n"
     ]
    },
    {
     "name": "stdout",
     "output_type": "stream",
     "text": [
      "TRAIN: acc: 1.000, precision: 1.000, recall: 1.000, spec: 1.000\n",
      "TEST: acc: 0.941, precision: 0.935, recall: 0.948, spec: 0.934\n",
      "func:'rf_models'  took: 30.9878 sec\n",
      "\n",
      "NEK3_binding_MOE_SMOTE_RF_fold4\n",
      "TRAIN: acc: 1.000, precision: 1.000, recall: 1.000, spec: 1.000\n",
      "TEST: acc: 0.924, precision: 0.905, recall: 0.948, spec: 0.900\n",
      "func:'rf_models'  took: 25.9098 sec\n",
      "\n",
      "NEK3_binding_MOE_SMOTE_RF_BCW_fold4\n",
      "TRAIN: acc: 1.000, precision: 1.000, recall: 1.000, spec: 1.000\n",
      "TEST: acc: 0.927, precision: 0.910, recall: 0.948, spec: 0.905\n",
      "func:'rf_models'  took: 26.6994 sec\n",
      "\n",
      "NEK3_binding_MOE_SMOTE_BRFC_fold4\n"
     ]
    },
    {
     "name": "stderr",
     "output_type": "stream",
     "text": [
      "/Users/jayceepang/miniconda3/envs/atom2024/lib/python3.9/site-packages/imblearn/ensemble/_forest.py:577: FutureWarning: The default of `sampling_strategy` will change from `'auto'` to `'all'` in version 0.13. This change will follow the implementation proposed in the original paper. Set to `'all'` to silence this warning and adopt the future behaviour.\n",
      "  warn(\n",
      "/Users/jayceepang/miniconda3/envs/atom2024/lib/python3.9/site-packages/imblearn/ensemble/_forest.py:589: FutureWarning: The default of `replacement` will change from `False` to `True` in version 0.13. This change will follow the implementation proposed in the original paper. Set to `True` to silence this warning and adopt the future behaviour.\n",
      "  warn(\n"
     ]
    },
    {
     "name": "stdout",
     "output_type": "stream",
     "text": [
      "TRAIN: acc: 1.000, precision: 1.000, recall: 1.000, spec: 1.000\n",
      "TEST: acc: 0.931, precision: 0.918, recall: 0.948, spec: 0.915\n",
      "func:'rf_models'  took: 26.2332 sec\n",
      "\n",
      "NEK3_binding_MOE_SMOTE_BRFC_BCW_fold4\n"
     ]
    },
    {
     "name": "stderr",
     "output_type": "stream",
     "text": [
      "/Users/jayceepang/miniconda3/envs/atom2024/lib/python3.9/site-packages/imblearn/ensemble/_forest.py:577: FutureWarning: The default of `sampling_strategy` will change from `'auto'` to `'all'` in version 0.13. This change will follow the implementation proposed in the original paper. Set to `'all'` to silence this warning and adopt the future behaviour.\n",
      "  warn(\n",
      "/Users/jayceepang/miniconda3/envs/atom2024/lib/python3.9/site-packages/imblearn/ensemble/_forest.py:589: FutureWarning: The default of `replacement` will change from `False` to `True` in version 0.13. This change will follow the implementation proposed in the original paper. Set to `True` to silence this warning and adopt the future behaviour.\n",
      "  warn(\n"
     ]
    },
    {
     "name": "stdout",
     "output_type": "stream",
     "text": [
      "TRAIN: acc: 1.000, precision: 1.000, recall: 1.000, spec: 1.000\n",
      "TEST: acc: 0.929, precision: 0.914, recall: 0.948, spec: 0.910\n",
      "func:'rf_models'  took: 26.6078 sec\n",
      "\n",
      "NEK3_binding_MOE_SMOTE_RF_fold5\n",
      "TRAIN: acc: 1.000, precision: 1.000, recall: 1.000, spec: 1.000\n",
      "TEST: acc: 0.943, precision: 0.948, recall: 0.939, spec: 0.948\n",
      "func:'rf_models'  took: 29.1106 sec\n",
      "\n",
      "NEK3_binding_MOE_SMOTE_RF_BCW_fold5\n",
      "TRAIN: acc: 1.000, precision: 1.000, recall: 1.000, spec: 1.000\n",
      "TEST: acc: 0.931, precision: 0.938, recall: 0.925, spec: 0.938\n",
      "func:'rf_models'  took: 30.0384 sec\n",
      "\n",
      "NEK3_binding_MOE_SMOTE_BRFC_fold5\n"
     ]
    },
    {
     "name": "stderr",
     "output_type": "stream",
     "text": [
      "/Users/jayceepang/miniconda3/envs/atom2024/lib/python3.9/site-packages/imblearn/ensemble/_forest.py:577: FutureWarning: The default of `sampling_strategy` will change from `'auto'` to `'all'` in version 0.13. This change will follow the implementation proposed in the original paper. Set to `'all'` to silence this warning and adopt the future behaviour.\n",
      "  warn(\n",
      "/Users/jayceepang/miniconda3/envs/atom2024/lib/python3.9/site-packages/imblearn/ensemble/_forest.py:589: FutureWarning: The default of `replacement` will change from `False` to `True` in version 0.13. This change will follow the implementation proposed in the original paper. Set to `True` to silence this warning and adopt the future behaviour.\n",
      "  warn(\n"
     ]
    },
    {
     "name": "stdout",
     "output_type": "stream",
     "text": [
      "TRAIN: acc: 1.000, precision: 1.000, recall: 1.000, spec: 1.000\n",
      "TEST: acc: 0.941, precision: 0.947, recall: 0.934, spec: 0.948\n",
      "func:'rf_models'  took: 29.2324 sec\n",
      "\n",
      "NEK3_binding_MOE_SMOTE_BRFC_BCW_fold5\n"
     ]
    },
    {
     "name": "stderr",
     "output_type": "stream",
     "text": [
      "/Users/jayceepang/miniconda3/envs/atom2024/lib/python3.9/site-packages/imblearn/ensemble/_forest.py:577: FutureWarning: The default of `sampling_strategy` will change from `'auto'` to `'all'` in version 0.13. This change will follow the implementation proposed in the original paper. Set to `'all'` to silence this warning and adopt the future behaviour.\n",
      "  warn(\n",
      "/Users/jayceepang/miniconda3/envs/atom2024/lib/python3.9/site-packages/imblearn/ensemble/_forest.py:589: FutureWarning: The default of `replacement` will change from `False` to `True` in version 0.13. This change will follow the implementation proposed in the original paper. Set to `True` to silence this warning and adopt the future behaviour.\n",
      "  warn(\n"
     ]
    },
    {
     "name": "stdout",
     "output_type": "stream",
     "text": [
      "TRAIN: acc: 1.000, precision: 1.000, recall: 1.000, spec: 1.000\n",
      "TEST: acc: 0.929, precision: 0.933, recall: 0.925, spec: 0.934\n",
      "func:'rf_models'  took: 30.5834 sec\n",
      "\n",
      "NEK3_binding_MOE_ADASYN_RF_fold1\n",
      "TRAIN: acc: 1.000, precision: 1.000, recall: 1.000, spec: 1.000\n",
      "TEST: acc: 0.943, precision: 0.934, recall: 0.952, spec: 0.934\n",
      "func:'rf_models'  took: 21.7331 sec\n",
      "\n",
      "NEK3_binding_MOE_ADASYN_RF_BCW_fold1\n",
      "TRAIN: acc: 1.000, precision: 1.000, recall: 1.000, spec: 1.000\n",
      "TEST: acc: 0.929, precision: 0.912, recall: 0.947, spec: 0.910\n",
      "func:'rf_models'  took: 22.3334 sec\n",
      "\n",
      "NEK3_binding_MOE_ADASYN_BRFC_fold1\n"
     ]
    },
    {
     "name": "stderr",
     "output_type": "stream",
     "text": [
      "/Users/jayceepang/miniconda3/envs/atom2024/lib/python3.9/site-packages/imblearn/ensemble/_forest.py:577: FutureWarning: The default of `sampling_strategy` will change from `'auto'` to `'all'` in version 0.13. This change will follow the implementation proposed in the original paper. Set to `'all'` to silence this warning and adopt the future behaviour.\n",
      "  warn(\n",
      "/Users/jayceepang/miniconda3/envs/atom2024/lib/python3.9/site-packages/imblearn/ensemble/_forest.py:589: FutureWarning: The default of `replacement` will change from `False` to `True` in version 0.13. This change will follow the implementation proposed in the original paper. Set to `True` to silence this warning and adopt the future behaviour.\n",
      "  warn(\n"
     ]
    },
    {
     "name": "stdout",
     "output_type": "stream",
     "text": [
      "TRAIN: acc: 1.000, precision: 1.000, recall: 1.000, spec: 1.000\n",
      "TEST: acc: 0.945, precision: 0.939, recall: 0.952, spec: 0.939\n",
      "func:'rf_models'  took: 24.4380 sec\n",
      "\n",
      "NEK3_binding_MOE_ADASYN_BRFC_BCW_fold1\n"
     ]
    },
    {
     "name": "stderr",
     "output_type": "stream",
     "text": [
      "/Users/jayceepang/miniconda3/envs/atom2024/lib/python3.9/site-packages/imblearn/ensemble/_forest.py:577: FutureWarning: The default of `sampling_strategy` will change from `'auto'` to `'all'` in version 0.13. This change will follow the implementation proposed in the original paper. Set to `'all'` to silence this warning and adopt the future behaviour.\n",
      "  warn(\n",
      "/Users/jayceepang/miniconda3/envs/atom2024/lib/python3.9/site-packages/imblearn/ensemble/_forest.py:589: FutureWarning: The default of `replacement` will change from `False` to `True` in version 0.13. This change will follow the implementation proposed in the original paper. Set to `True` to silence this warning and adopt the future behaviour.\n",
      "  warn(\n"
     ]
    },
    {
     "name": "stdout",
     "output_type": "stream",
     "text": [
      "TRAIN: acc: 1.000, precision: 1.000, recall: 1.000, spec: 1.000\n",
      "TEST: acc: 0.945, precision: 0.931, recall: 0.962, spec: 0.929\n",
      "func:'rf_models'  took: 25.8608 sec\n",
      "\n",
      "NEK3_binding_MOE_ADASYN_RF_fold2\n",
      "TRAIN: acc: 1.000, precision: 1.000, recall: 1.000, spec: 1.000\n",
      "TEST: acc: 0.941, precision: 0.926, recall: 0.957, spec: 0.925\n",
      "func:'rf_models'  took: 21.4412 sec\n",
      "\n",
      "NEK3_binding_MOE_ADASYN_RF_BCW_fold2\n",
      "TRAIN: acc: 1.000, precision: 1.000, recall: 1.000, spec: 1.000\n",
      "TEST: acc: 0.938, precision: 0.930, recall: 0.947, spec: 0.929\n",
      "func:'rf_models'  took: 21.8620 sec\n",
      "\n",
      "NEK3_binding_MOE_ADASYN_BRFC_fold2\n"
     ]
    },
    {
     "name": "stderr",
     "output_type": "stream",
     "text": [
      "/Users/jayceepang/miniconda3/envs/atom2024/lib/python3.9/site-packages/imblearn/ensemble/_forest.py:577: FutureWarning: The default of `sampling_strategy` will change from `'auto'` to `'all'` in version 0.13. This change will follow the implementation proposed in the original paper. Set to `'all'` to silence this warning and adopt the future behaviour.\n",
      "  warn(\n",
      "/Users/jayceepang/miniconda3/envs/atom2024/lib/python3.9/site-packages/imblearn/ensemble/_forest.py:589: FutureWarning: The default of `replacement` will change from `False` to `True` in version 0.13. This change will follow the implementation proposed in the original paper. Set to `True` to silence this warning and adopt the future behaviour.\n",
      "  warn(\n"
     ]
    },
    {
     "name": "stdout",
     "output_type": "stream",
     "text": [
      "TRAIN: acc: 1.000, precision: 1.000, recall: 1.000, spec: 1.000\n",
      "TEST: acc: 0.938, precision: 0.926, recall: 0.952, spec: 0.925\n",
      "func:'rf_models'  took: 21.4551 sec\n",
      "\n",
      "NEK3_binding_MOE_ADASYN_BRFC_BCW_fold2\n"
     ]
    },
    {
     "name": "stderr",
     "output_type": "stream",
     "text": [
      "/Users/jayceepang/miniconda3/envs/atom2024/lib/python3.9/site-packages/imblearn/ensemble/_forest.py:577: FutureWarning: The default of `sampling_strategy` will change from `'auto'` to `'all'` in version 0.13. This change will follow the implementation proposed in the original paper. Set to `'all'` to silence this warning and adopt the future behaviour.\n",
      "  warn(\n",
      "/Users/jayceepang/miniconda3/envs/atom2024/lib/python3.9/site-packages/imblearn/ensemble/_forest.py:589: FutureWarning: The default of `replacement` will change from `False` to `True` in version 0.13. This change will follow the implementation proposed in the original paper. Set to `True` to silence this warning and adopt the future behaviour.\n",
      "  warn(\n"
     ]
    },
    {
     "name": "stdout",
     "output_type": "stream",
     "text": [
      "TRAIN: acc: 1.000, precision: 1.000, recall: 1.000, spec: 1.000\n",
      "TEST: acc: 0.938, precision: 0.930, recall: 0.947, spec: 0.929\n",
      "func:'rf_models'  took: 21.8333 sec\n",
      "\n",
      "NEK3_binding_MOE_ADASYN_RF_fold3\n",
      "TRAIN: acc: 1.000, precision: 1.000, recall: 1.000, spec: 1.000\n",
      "TEST: acc: 0.948, precision: 0.927, recall: 0.971, spec: 0.925\n",
      "func:'rf_models'  took: 18.3467 sec\n",
      "\n",
      "NEK3_binding_MOE_ADASYN_RF_BCW_fold3\n",
      "TRAIN: acc: 1.000, precision: 1.000, recall: 1.000, spec: 1.000\n",
      "TEST: acc: 0.941, precision: 0.926, recall: 0.957, spec: 0.925\n",
      "func:'rf_models'  took: 18.8446 sec\n",
      "\n",
      "NEK3_binding_MOE_ADASYN_BRFC_fold3\n"
     ]
    },
    {
     "name": "stderr",
     "output_type": "stream",
     "text": [
      "/Users/jayceepang/miniconda3/envs/atom2024/lib/python3.9/site-packages/imblearn/ensemble/_forest.py:577: FutureWarning: The default of `sampling_strategy` will change from `'auto'` to `'all'` in version 0.13. This change will follow the implementation proposed in the original paper. Set to `'all'` to silence this warning and adopt the future behaviour.\n",
      "  warn(\n",
      "/Users/jayceepang/miniconda3/envs/atom2024/lib/python3.9/site-packages/imblearn/ensemble/_forest.py:589: FutureWarning: The default of `replacement` will change from `False` to `True` in version 0.13. This change will follow the implementation proposed in the original paper. Set to `True` to silence this warning and adopt the future behaviour.\n",
      "  warn(\n"
     ]
    },
    {
     "name": "stdout",
     "output_type": "stream",
     "text": [
      "TRAIN: acc: 1.000, precision: 1.000, recall: 1.000, spec: 1.000\n",
      "TEST: acc: 0.950, precision: 0.935, recall: 0.967, spec: 0.934\n",
      "func:'rf_models'  took: 18.3804 sec\n",
      "\n",
      "NEK3_binding_MOE_ADASYN_BRFC_BCW_fold3\n"
     ]
    },
    {
     "name": "stderr",
     "output_type": "stream",
     "text": [
      "/Users/jayceepang/miniconda3/envs/atom2024/lib/python3.9/site-packages/imblearn/ensemble/_forest.py:577: FutureWarning: The default of `sampling_strategy` will change from `'auto'` to `'all'` in version 0.13. This change will follow the implementation proposed in the original paper. Set to `'all'` to silence this warning and adopt the future behaviour.\n",
      "  warn(\n",
      "/Users/jayceepang/miniconda3/envs/atom2024/lib/python3.9/site-packages/imblearn/ensemble/_forest.py:589: FutureWarning: The default of `replacement` will change from `False` to `True` in version 0.13. This change will follow the implementation proposed in the original paper. Set to `True` to silence this warning and adopt the future behaviour.\n",
      "  warn(\n"
     ]
    },
    {
     "name": "stdout",
     "output_type": "stream",
     "text": [
      "TRAIN: acc: 1.000, precision: 1.000, recall: 1.000, spec: 1.000\n",
      "TEST: acc: 0.955, precision: 0.944, recall: 0.967, spec: 0.943\n",
      "func:'rf_models'  took: 18.9919 sec\n",
      "\n",
      "NEK3_binding_MOE_ADASYN_RF_fold4\n",
      "TRAIN: acc: 1.000, precision: 1.000, recall: 1.000, spec: 1.000\n",
      "TEST: acc: 0.917, precision: 0.899, recall: 0.938, spec: 0.896\n",
      "func:'rf_models'  took: 29.5393 sec\n",
      "\n",
      "NEK3_binding_MOE_ADASYN_RF_BCW_fold4\n",
      "TRAIN: acc: 1.000, precision: 1.000, recall: 1.000, spec: 1.000\n",
      "TEST: acc: 0.917, precision: 0.899, recall: 0.938, spec: 0.896\n",
      "func:'rf_models'  took: 30.6734 sec\n",
      "\n",
      "NEK3_binding_MOE_ADASYN_BRFC_fold4\n"
     ]
    },
    {
     "name": "stderr",
     "output_type": "stream",
     "text": [
      "/Users/jayceepang/miniconda3/envs/atom2024/lib/python3.9/site-packages/imblearn/ensemble/_forest.py:577: FutureWarning: The default of `sampling_strategy` will change from `'auto'` to `'all'` in version 0.13. This change will follow the implementation proposed in the original paper. Set to `'all'` to silence this warning and adopt the future behaviour.\n",
      "  warn(\n",
      "/Users/jayceepang/miniconda3/envs/atom2024/lib/python3.9/site-packages/imblearn/ensemble/_forest.py:589: FutureWarning: The default of `replacement` will change from `False` to `True` in version 0.13. This change will follow the implementation proposed in the original paper. Set to `True` to silence this warning and adopt the future behaviour.\n",
      "  warn(\n"
     ]
    },
    {
     "name": "stdout",
     "output_type": "stream",
     "text": [
      "TRAIN: acc: 1.000, precision: 1.000, recall: 1.000, spec: 1.000\n",
      "TEST: acc: 0.931, precision: 0.913, recall: 0.952, spec: 0.910\n",
      "func:'rf_models'  took: 27.0838 sec\n",
      "\n",
      "NEK3_binding_MOE_ADASYN_BRFC_BCW_fold4\n"
     ]
    },
    {
     "name": "stderr",
     "output_type": "stream",
     "text": [
      "/Users/jayceepang/miniconda3/envs/atom2024/lib/python3.9/site-packages/imblearn/ensemble/_forest.py:577: FutureWarning: The default of `sampling_strategy` will change from `'auto'` to `'all'` in version 0.13. This change will follow the implementation proposed in the original paper. Set to `'all'` to silence this warning and adopt the future behaviour.\n",
      "  warn(\n",
      "/Users/jayceepang/miniconda3/envs/atom2024/lib/python3.9/site-packages/imblearn/ensemble/_forest.py:589: FutureWarning: The default of `replacement` will change from `False` to `True` in version 0.13. This change will follow the implementation proposed in the original paper. Set to `True` to silence this warning and adopt the future behaviour.\n",
      "  warn(\n"
     ]
    },
    {
     "name": "stdout",
     "output_type": "stream",
     "text": [
      "TRAIN: acc: 1.000, precision: 1.000, recall: 1.000, spec: 1.000\n",
      "TEST: acc: 0.926, precision: 0.916, recall: 0.938, spec: 0.915\n",
      "func:'rf_models'  took: 27.7807 sec\n",
      "\n",
      "NEK3_binding_MOE_ADASYN_RF_fold5\n",
      "TRAIN: acc: 1.000, precision: 1.000, recall: 1.000, spec: 1.000\n",
      "TEST: acc: 0.945, precision: 0.943, recall: 0.947, spec: 0.943\n",
      "func:'rf_models'  took: 18.9584 sec\n",
      "\n",
      "NEK3_binding_MOE_ADASYN_RF_BCW_fold5\n",
      "TRAIN: acc: 1.000, precision: 1.000, recall: 1.000, spec: 1.000\n",
      "TEST: acc: 0.936, precision: 0.925, recall: 0.947, spec: 0.924\n",
      "func:'rf_models'  took: 19.5921 sec\n",
      "\n",
      "NEK3_binding_MOE_ADASYN_BRFC_fold5\n"
     ]
    },
    {
     "name": "stderr",
     "output_type": "stream",
     "text": [
      "/Users/jayceepang/miniconda3/envs/atom2024/lib/python3.9/site-packages/imblearn/ensemble/_forest.py:577: FutureWarning: The default of `sampling_strategy` will change from `'auto'` to `'all'` in version 0.13. This change will follow the implementation proposed in the original paper. Set to `'all'` to silence this warning and adopt the future behaviour.\n",
      "  warn(\n",
      "/Users/jayceepang/miniconda3/envs/atom2024/lib/python3.9/site-packages/imblearn/ensemble/_forest.py:589: FutureWarning: The default of `replacement` will change from `False` to `True` in version 0.13. This change will follow the implementation proposed in the original paper. Set to `True` to silence this warning and adopt the future behaviour.\n",
      "  warn(\n"
     ]
    },
    {
     "name": "stdout",
     "output_type": "stream",
     "text": [
      "TRAIN: acc: 1.000, precision: 1.000, recall: 1.000, spec: 1.000\n",
      "TEST: acc: 0.945, precision: 0.939, recall: 0.952, spec: 0.938\n",
      "func:'rf_models'  took: 18.9158 sec\n",
      "\n",
      "NEK3_binding_MOE_ADASYN_BRFC_BCW_fold5\n"
     ]
    },
    {
     "name": "stderr",
     "output_type": "stream",
     "text": [
      "/Users/jayceepang/miniconda3/envs/atom2024/lib/python3.9/site-packages/imblearn/ensemble/_forest.py:577: FutureWarning: The default of `sampling_strategy` will change from `'auto'` to `'all'` in version 0.13. This change will follow the implementation proposed in the original paper. Set to `'all'` to silence this warning and adopt the future behaviour.\n",
      "  warn(\n",
      "/Users/jayceepang/miniconda3/envs/atom2024/lib/python3.9/site-packages/imblearn/ensemble/_forest.py:589: FutureWarning: The default of `replacement` will change from `False` to `True` in version 0.13. This change will follow the implementation proposed in the original paper. Set to `True` to silence this warning and adopt the future behaviour.\n",
      "  warn(\n"
     ]
    },
    {
     "name": "stdout",
     "output_type": "stream",
     "text": [
      "TRAIN: acc: 1.000, precision: 1.000, recall: 1.000, spec: 1.000\n",
      "TEST: acc: 0.940, precision: 0.930, recall: 0.952, spec: 0.929\n",
      "func:'rf_models'  took: 19.8056 sec\n",
      "\n",
      "NEK3_binding_MFP_none_scaled_RF_fold1\n",
      "TRAIN: acc: 1.000, precision: 1.000, recall: 1.000, spec: 1.000\n",
      "TEST: acc: 0.951, precision: 0.625, recall: 0.385, spec: 0.986\n",
      "func:'rf_models'  took: 4.9020 sec\n",
      "\n",
      "NEK3_binding_MFP_none_scaled_RF_BCW_fold1\n",
      "TRAIN: acc: 1.000, precision: 1.000, recall: 1.000, spec: 1.000\n",
      "TEST: acc: 0.867, precision: 0.130, recall: 0.231, spec: 0.906\n",
      "func:'rf_models'  took: 1.9349 sec\n",
      "\n",
      "NEK3_binding_MFP_none_scaled_BRFC_fold1\n"
     ]
    },
    {
     "name": "stderr",
     "output_type": "stream",
     "text": [
      "/Users/jayceepang/miniconda3/envs/atom2024/lib/python3.9/site-packages/imblearn/ensemble/_forest.py:577: FutureWarning: The default of `sampling_strategy` will change from `'auto'` to `'all'` in version 0.13. This change will follow the implementation proposed in the original paper. Set to `'all'` to silence this warning and adopt the future behaviour.\n",
      "  warn(\n",
      "/Users/jayceepang/miniconda3/envs/atom2024/lib/python3.9/site-packages/imblearn/ensemble/_forest.py:589: FutureWarning: The default of `replacement` will change from `False` to `True` in version 0.13. This change will follow the implementation proposed in the original paper. Set to `True` to silence this warning and adopt the future behaviour.\n",
      "  warn(\n"
     ]
    },
    {
     "name": "stdout",
     "output_type": "stream",
     "text": [
      "TRAIN: acc: 0.794, precision: 0.216, recall: 1.000, spec: 0.781\n",
      "TEST: acc: 0.773, precision: 0.161, recall: 0.692, spec: 0.778\n",
      "func:'rf_models'  took: 0.3213 sec\n",
      "\n",
      "NEK3_binding_MFP_none_scaled_BRFC_BCW_fold1\n"
     ]
    },
    {
     "name": "stderr",
     "output_type": "stream",
     "text": [
      "/Users/jayceepang/miniconda3/envs/atom2024/lib/python3.9/site-packages/imblearn/ensemble/_forest.py:577: FutureWarning: The default of `sampling_strategy` will change from `'auto'` to `'all'` in version 0.13. This change will follow the implementation proposed in the original paper. Set to `'all'` to silence this warning and adopt the future behaviour.\n",
      "  warn(\n",
      "/Users/jayceepang/miniconda3/envs/atom2024/lib/python3.9/site-packages/imblearn/ensemble/_forest.py:589: FutureWarning: The default of `replacement` will change from `False` to `True` in version 0.13. This change will follow the implementation proposed in the original paper. Set to `True` to silence this warning and adopt the future behaviour.\n",
      "  warn(\n"
     ]
    },
    {
     "name": "stdout",
     "output_type": "stream",
     "text": [
      "TRAIN: acc: 0.545, precision: 0.111, recall: 1.000, spec: 0.518\n",
      "TEST: acc: 0.507, precision: 0.085, recall: 0.769, spec: 0.491\n",
      "func:'rf_models'  took: 0.6240 sec\n",
      "\n",
      "NEK3_binding_MFP_none_scaled_RF_fold2\n",
      "TRAIN: acc: 0.998, precision: 1.000, recall: 0.961, spec: 1.000\n",
      "TEST: acc: 0.911, precision: 0.231, recall: 0.231, spec: 0.953\n",
      "func:'rf_models'  took: 4.0228 sec\n",
      "\n",
      "NEK3_binding_MFP_none_scaled_RF_BCW_fold2\n",
      "TRAIN: acc: 0.998, precision: 0.962, recall: 1.000, spec: 0.998\n",
      "TEST: acc: 0.893, precision: 0.238, recall: 0.385, spec: 0.925\n",
      "func:'rf_models'  took: 1.8377 sec\n",
      "\n",
      "NEK3_binding_MFP_none_scaled_BRFC_fold2\n"
     ]
    },
    {
     "name": "stderr",
     "output_type": "stream",
     "text": [
      "/Users/jayceepang/miniconda3/envs/atom2024/lib/python3.9/site-packages/imblearn/ensemble/_forest.py:577: FutureWarning: The default of `sampling_strategy` will change from `'auto'` to `'all'` in version 0.13. This change will follow the implementation proposed in the original paper. Set to `'all'` to silence this warning and adopt the future behaviour.\n",
      "  warn(\n",
      "/Users/jayceepang/miniconda3/envs/atom2024/lib/python3.9/site-packages/imblearn/ensemble/_forest.py:589: FutureWarning: The default of `replacement` will change from `False` to `True` in version 0.13. This change will follow the implementation proposed in the original paper. Set to `True` to silence this warning and adopt the future behaviour.\n",
      "  warn(\n"
     ]
    },
    {
     "name": "stdout",
     "output_type": "stream",
     "text": [
      "TRAIN: acc: 0.727, precision: 0.172, recall: 1.000, spec: 0.710\n",
      "TEST: acc: 0.618, precision: 0.099, recall: 0.692, spec: 0.613\n",
      "func:'rf_models'  took: 0.3037 sec\n",
      "\n",
      "NEK3_binding_MFP_none_scaled_BRFC_BCW_fold2\n"
     ]
    },
    {
     "name": "stderr",
     "output_type": "stream",
     "text": [
      "/Users/jayceepang/miniconda3/envs/atom2024/lib/python3.9/site-packages/imblearn/ensemble/_forest.py:577: FutureWarning: The default of `sampling_strategy` will change from `'auto'` to `'all'` in version 0.13. This change will follow the implementation proposed in the original paper. Set to `'all'` to silence this warning and adopt the future behaviour.\n",
      "  warn(\n",
      "/Users/jayceepang/miniconda3/envs/atom2024/lib/python3.9/site-packages/imblearn/ensemble/_forest.py:589: FutureWarning: The default of `replacement` will change from `False` to `True` in version 0.13. This change will follow the implementation proposed in the original paper. Set to `True` to silence this warning and adopt the future behaviour.\n",
      "  warn(\n"
     ]
    },
    {
     "name": "stdout",
     "output_type": "stream",
     "text": [
      "TRAIN: acc: 0.557, precision: 0.114, recall: 1.000, spec: 0.531\n",
      "TEST: acc: 0.484, precision: 0.074, recall: 0.692, spec: 0.472\n",
      "func:'rf_models'  took: 0.6153 sec\n",
      "\n",
      "NEK3_binding_MFP_none_scaled_RF_fold3\n",
      "TRAIN: acc: 0.999, precision: 1.000, recall: 0.981, spec: 1.000\n",
      "TEST: acc: 0.888, precision: 0.067, recall: 0.083, spec: 0.934\n",
      "func:'rf_models'  took: 6.8459 sec\n",
      "\n",
      "NEK3_binding_MFP_none_scaled_RF_BCW_fold3\n",
      "TRAIN: acc: 0.999, precision: 0.981, recall: 1.000, spec: 0.999\n",
      "TEST: acc: 0.920, precision: 0.250, recall: 0.250, spec: 0.958\n",
      "func:'rf_models'  took: 2.4243 sec\n",
      "\n",
      "NEK3_binding_MFP_none_scaled_BRFC_fold3\n"
     ]
    },
    {
     "name": "stderr",
     "output_type": "stream",
     "text": [
      "/Users/jayceepang/miniconda3/envs/atom2024/lib/python3.9/site-packages/imblearn/ensemble/_forest.py:577: FutureWarning: The default of `sampling_strategy` will change from `'auto'` to `'all'` in version 0.13. This change will follow the implementation proposed in the original paper. Set to `'all'` to silence this warning and adopt the future behaviour.\n",
      "  warn(\n",
      "/Users/jayceepang/miniconda3/envs/atom2024/lib/python3.9/site-packages/imblearn/ensemble/_forest.py:589: FutureWarning: The default of `replacement` will change from `False` to `True` in version 0.13. This change will follow the implementation proposed in the original paper. Set to `True` to silence this warning and adopt the future behaviour.\n",
      "  warn(\n"
     ]
    },
    {
     "name": "stdout",
     "output_type": "stream",
     "text": [
      "TRAIN: acc: 0.787, precision: 0.214, recall: 1.000, spec: 0.774\n",
      "TEST: acc: 0.759, precision: 0.138, recall: 0.667, spec: 0.764\n",
      "func:'rf_models'  took: 0.3308 sec\n",
      "\n",
      "NEK3_binding_MFP_none_scaled_BRFC_BCW_fold3\n"
     ]
    },
    {
     "name": "stderr",
     "output_type": "stream",
     "text": [
      "/Users/jayceepang/miniconda3/envs/atom2024/lib/python3.9/site-packages/imblearn/ensemble/_forest.py:577: FutureWarning: The default of `sampling_strategy` will change from `'auto'` to `'all'` in version 0.13. This change will follow the implementation proposed in the original paper. Set to `'all'` to silence this warning and adopt the future behaviour.\n",
      "  warn(\n",
      "/Users/jayceepang/miniconda3/envs/atom2024/lib/python3.9/site-packages/imblearn/ensemble/_forest.py:589: FutureWarning: The default of `replacement` will change from `False` to `True` in version 0.13. This change will follow the implementation proposed in the original paper. Set to `True` to silence this warning and adopt the future behaviour.\n",
      "  warn(\n"
     ]
    },
    {
     "name": "stdout",
     "output_type": "stream",
     "text": [
      "TRAIN: acc: 0.565, precision: 0.117, recall: 1.000, spec: 0.538\n",
      "TEST: acc: 0.540, precision: 0.090, recall: 0.833, spec: 0.524\n",
      "func:'rf_models'  took: 0.6422 sec\n",
      "\n",
      "NEK3_binding_MFP_none_scaled_RF_fold4\n",
      "TRAIN: acc: 0.998, precision: 1.000, recall: 0.961, spec: 1.000\n",
      "TEST: acc: 0.929, precision: 0.286, recall: 0.154, spec: 0.976\n",
      "func:'rf_models'  took: 3.2283 sec\n",
      "\n",
      "NEK3_binding_MFP_none_scaled_RF_BCW_fold4\n",
      "TRAIN: acc: 0.998, precision: 0.962, recall: 1.000, spec: 0.998\n",
      "TEST: acc: 0.893, precision: 0.211, recall: 0.308, spec: 0.929\n",
      "func:'rf_models'  took: 2.2727 sec\n",
      "\n",
      "NEK3_binding_MFP_none_scaled_BRFC_fold4\n"
     ]
    },
    {
     "name": "stderr",
     "output_type": "stream",
     "text": [
      "/Users/jayceepang/miniconda3/envs/atom2024/lib/python3.9/site-packages/imblearn/ensemble/_forest.py:577: FutureWarning: The default of `sampling_strategy` will change from `'auto'` to `'all'` in version 0.13. This change will follow the implementation proposed in the original paper. Set to `'all'` to silence this warning and adopt the future behaviour.\n",
      "  warn(\n",
      "/Users/jayceepang/miniconda3/envs/atom2024/lib/python3.9/site-packages/imblearn/ensemble/_forest.py:589: FutureWarning: The default of `replacement` will change from `False` to `True` in version 0.13. This change will follow the implementation proposed in the original paper. Set to `True` to silence this warning and adopt the future behaviour.\n",
      "  warn(\n"
     ]
    },
    {
     "name": "stdout",
     "output_type": "stream",
     "text": [
      "TRAIN: acc: 0.753, precision: 0.187, recall: 1.000, spec: 0.738\n",
      "TEST: acc: 0.737, precision: 0.117, recall: 0.538, spec: 0.749\n",
      "func:'rf_models'  took: 0.3228 sec\n",
      "\n",
      "NEK3_binding_MFP_none_scaled_BRFC_BCW_fold4\n"
     ]
    },
    {
     "name": "stderr",
     "output_type": "stream",
     "text": [
      "/Users/jayceepang/miniconda3/envs/atom2024/lib/python3.9/site-packages/imblearn/ensemble/_forest.py:577: FutureWarning: The default of `sampling_strategy` will change from `'auto'` to `'all'` in version 0.13. This change will follow the implementation proposed in the original paper. Set to `'all'` to silence this warning and adopt the future behaviour.\n",
      "  warn(\n",
      "/Users/jayceepang/miniconda3/envs/atom2024/lib/python3.9/site-packages/imblearn/ensemble/_forest.py:589: FutureWarning: The default of `replacement` will change from `False` to `True` in version 0.13. This change will follow the implementation proposed in the original paper. Set to `True` to silence this warning and adopt the future behaviour.\n",
      "  warn(\n"
     ]
    },
    {
     "name": "stdout",
     "output_type": "stream",
     "text": [
      "TRAIN: acc: 0.577, precision: 0.118, recall: 1.000, spec: 0.551\n",
      "TEST: acc: 0.482, precision: 0.081, recall: 0.769, spec: 0.464\n",
      "func:'rf_models'  took: 0.5780 sec\n",
      "\n",
      "NEK3_binding_MFP_none_scaled_RF_fold5\n",
      "TRAIN: acc: 0.998, precision: 1.000, recall: 0.961, spec: 1.000\n",
      "TEST: acc: 0.902, precision: 0.154, recall: 0.154, spec: 0.948\n",
      "func:'rf_models'  took: 3.9736 sec\n",
      "\n",
      "NEK3_binding_MFP_none_scaled_RF_BCW_fold5\n",
      "TRAIN: acc: 0.998, precision: 0.962, recall: 1.000, spec: 0.998\n",
      "TEST: acc: 0.906, precision: 0.214, recall: 0.231, spec: 0.948\n",
      "func:'rf_models'  took: 2.4655 sec\n",
      "\n",
      "NEK3_binding_MFP_none_scaled_BRFC_fold5\n"
     ]
    },
    {
     "name": "stderr",
     "output_type": "stream",
     "text": [
      "/Users/jayceepang/miniconda3/envs/atom2024/lib/python3.9/site-packages/imblearn/ensemble/_forest.py:577: FutureWarning: The default of `sampling_strategy` will change from `'auto'` to `'all'` in version 0.13. This change will follow the implementation proposed in the original paper. Set to `'all'` to silence this warning and adopt the future behaviour.\n",
      "  warn(\n",
      "/Users/jayceepang/miniconda3/envs/atom2024/lib/python3.9/site-packages/imblearn/ensemble/_forest.py:589: FutureWarning: The default of `replacement` will change from `False` to `True` in version 0.13. This change will follow the implementation proposed in the original paper. Set to `True` to silence this warning and adopt the future behaviour.\n",
      "  warn(\n"
     ]
    },
    {
     "name": "stdout",
     "output_type": "stream",
     "text": [
      "TRAIN: acc: 0.797, precision: 0.219, recall: 1.000, spec: 0.785\n",
      "TEST: acc: 0.750, precision: 0.123, recall: 0.538, spec: 0.763\n",
      "func:'rf_models'  took: 0.3290 sec\n",
      "\n",
      "NEK3_binding_MFP_none_scaled_BRFC_BCW_fold5\n"
     ]
    },
    {
     "name": "stderr",
     "output_type": "stream",
     "text": [
      "/Users/jayceepang/miniconda3/envs/atom2024/lib/python3.9/site-packages/imblearn/ensemble/_forest.py:577: FutureWarning: The default of `sampling_strategy` will change from `'auto'` to `'all'` in version 0.13. This change will follow the implementation proposed in the original paper. Set to `'all'` to silence this warning and adopt the future behaviour.\n",
      "  warn(\n",
      "/Users/jayceepang/miniconda3/envs/atom2024/lib/python3.9/site-packages/imblearn/ensemble/_forest.py:589: FutureWarning: The default of `replacement` will change from `False` to `True` in version 0.13. This change will follow the implementation proposed in the original paper. Set to `True` to silence this warning and adopt the future behaviour.\n",
      "  warn(\n"
     ]
    },
    {
     "name": "stdout",
     "output_type": "stream",
     "text": [
      "TRAIN: acc: 0.512, precision: 0.104, recall: 1.000, spec: 0.483\n",
      "TEST: acc: 0.491, precision: 0.089, recall: 0.846, spec: 0.469\n",
      "func:'rf_models'  took: 0.5940 sec\n",
      "\n",
      "NEK3_binding_MFP_UNDER_RF_fold1\n",
      "TRAIN: acc: 1.000, precision: 1.000, recall: 1.000, spec: 1.000\n",
      "TEST: acc: 0.654, precision: 0.643, recall: 0.692, spec: 0.615\n",
      "func:'rf_models'  took: 0.2107 sec\n",
      "\n",
      "NEK3_binding_MFP_UNDER_RF_BCW_fold1\n",
      "TRAIN: acc: 1.000, precision: 1.000, recall: 1.000, spec: 1.000\n",
      "TEST: acc: 0.654, precision: 0.643, recall: 0.692, spec: 0.615\n",
      "func:'rf_models'  took: 0.2210 sec\n",
      "\n",
      "NEK3_binding_MFP_UNDER_BRFC_fold1\n"
     ]
    },
    {
     "name": "stderr",
     "output_type": "stream",
     "text": [
      "/Users/jayceepang/miniconda3/envs/atom2024/lib/python3.9/site-packages/imblearn/ensemble/_forest.py:577: FutureWarning: The default of `sampling_strategy` will change from `'auto'` to `'all'` in version 0.13. This change will follow the implementation proposed in the original paper. Set to `'all'` to silence this warning and adopt the future behaviour.\n",
      "  warn(\n",
      "/Users/jayceepang/miniconda3/envs/atom2024/lib/python3.9/site-packages/imblearn/ensemble/_forest.py:589: FutureWarning: The default of `replacement` will change from `False` to `True` in version 0.13. This change will follow the implementation proposed in the original paper. Set to `True` to silence this warning and adopt the future behaviour.\n",
      "  warn(\n"
     ]
    },
    {
     "name": "stdout",
     "output_type": "stream",
     "text": [
      "TRAIN: acc: 1.000, precision: 1.000, recall: 1.000, spec: 1.000\n",
      "TEST: acc: 0.654, precision: 0.643, recall: 0.692, spec: 0.615\n",
      "func:'rf_models'  took: 0.2807 sec\n",
      "\n",
      "NEK3_binding_MFP_UNDER_BRFC_BCW_fold1\n"
     ]
    },
    {
     "name": "stderr",
     "output_type": "stream",
     "text": [
      "/Users/jayceepang/miniconda3/envs/atom2024/lib/python3.9/site-packages/imblearn/ensemble/_forest.py:577: FutureWarning: The default of `sampling_strategy` will change from `'auto'` to `'all'` in version 0.13. This change will follow the implementation proposed in the original paper. Set to `'all'` to silence this warning and adopt the future behaviour.\n",
      "  warn(\n",
      "/Users/jayceepang/miniconda3/envs/atom2024/lib/python3.9/site-packages/imblearn/ensemble/_forest.py:589: FutureWarning: The default of `replacement` will change from `False` to `True` in version 0.13. This change will follow the implementation proposed in the original paper. Set to `True` to silence this warning and adopt the future behaviour.\n",
      "  warn(\n"
     ]
    },
    {
     "name": "stdout",
     "output_type": "stream",
     "text": [
      "TRAIN: acc: 1.000, precision: 1.000, recall: 1.000, spec: 1.000\n",
      "TEST: acc: 0.654, precision: 0.643, recall: 0.692, spec: 0.615\n",
      "func:'rf_models'  took: 0.2863 sec\n",
      "\n",
      "NEK3_binding_MFP_UNDER_RF_fold2\n",
      "TRAIN: acc: 1.000, precision: 1.000, recall: 1.000, spec: 1.000\n",
      "TEST: acc: 0.615, precision: 0.615, recall: 0.615, spec: 0.615\n",
      "func:'rf_models'  took: 0.1956 sec\n",
      "\n",
      "NEK3_binding_MFP_UNDER_RF_BCW_fold2\n",
      "TRAIN: acc: 1.000, precision: 1.000, recall: 1.000, spec: 1.000\n",
      "TEST: acc: 0.615, precision: 0.615, recall: 0.615, spec: 0.615\n",
      "func:'rf_models'  took: 0.2015 sec\n",
      "\n",
      "NEK3_binding_MFP_UNDER_BRFC_fold2\n"
     ]
    },
    {
     "name": "stderr",
     "output_type": "stream",
     "text": [
      "/Users/jayceepang/miniconda3/envs/atom2024/lib/python3.9/site-packages/imblearn/ensemble/_forest.py:577: FutureWarning: The default of `sampling_strategy` will change from `'auto'` to `'all'` in version 0.13. This change will follow the implementation proposed in the original paper. Set to `'all'` to silence this warning and adopt the future behaviour.\n",
      "  warn(\n",
      "/Users/jayceepang/miniconda3/envs/atom2024/lib/python3.9/site-packages/imblearn/ensemble/_forest.py:589: FutureWarning: The default of `replacement` will change from `False` to `True` in version 0.13. This change will follow the implementation proposed in the original paper. Set to `True` to silence this warning and adopt the future behaviour.\n",
      "  warn(\n"
     ]
    },
    {
     "name": "stdout",
     "output_type": "stream",
     "text": [
      "TRAIN: acc: 1.000, precision: 1.000, recall: 1.000, spec: 1.000\n",
      "TEST: acc: 0.615, precision: 0.615, recall: 0.615, spec: 0.615\n",
      "func:'rf_models'  took: 0.2631 sec\n",
      "\n",
      "NEK3_binding_MFP_UNDER_BRFC_BCW_fold2\n"
     ]
    },
    {
     "name": "stderr",
     "output_type": "stream",
     "text": [
      "/Users/jayceepang/miniconda3/envs/atom2024/lib/python3.9/site-packages/imblearn/ensemble/_forest.py:577: FutureWarning: The default of `sampling_strategy` will change from `'auto'` to `'all'` in version 0.13. This change will follow the implementation proposed in the original paper. Set to `'all'` to silence this warning and adopt the future behaviour.\n",
      "  warn(\n",
      "/Users/jayceepang/miniconda3/envs/atom2024/lib/python3.9/site-packages/imblearn/ensemble/_forest.py:589: FutureWarning: The default of `replacement` will change from `False` to `True` in version 0.13. This change will follow the implementation proposed in the original paper. Set to `True` to silence this warning and adopt the future behaviour.\n",
      "  warn(\n"
     ]
    },
    {
     "name": "stdout",
     "output_type": "stream",
     "text": [
      "TRAIN: acc: 1.000, precision: 1.000, recall: 1.000, spec: 1.000\n",
      "TEST: acc: 0.615, precision: 0.615, recall: 0.615, spec: 0.615\n",
      "func:'rf_models'  took: 0.2651 sec\n",
      "\n",
      "NEK3_binding_MFP_UNDER_RF_fold3\n",
      "TRAIN: acc: 1.000, precision: 1.000, recall: 1.000, spec: 1.000\n",
      "TEST: acc: 0.462, precision: 0.462, recall: 0.462, spec: 0.462\n",
      "func:'rf_models'  took: 0.2746 sec\n",
      "\n",
      "NEK3_binding_MFP_UNDER_RF_BCW_fold3\n",
      "TRAIN: acc: 1.000, precision: 1.000, recall: 1.000, spec: 1.000\n",
      "TEST: acc: 0.462, precision: 0.462, recall: 0.462, spec: 0.462\n",
      "func:'rf_models'  took: 0.2760 sec\n",
      "\n",
      "NEK3_binding_MFP_UNDER_BRFC_fold3\n"
     ]
    },
    {
     "name": "stderr",
     "output_type": "stream",
     "text": [
      "/Users/jayceepang/miniconda3/envs/atom2024/lib/python3.9/site-packages/imblearn/ensemble/_forest.py:577: FutureWarning: The default of `sampling_strategy` will change from `'auto'` to `'all'` in version 0.13. This change will follow the implementation proposed in the original paper. Set to `'all'` to silence this warning and adopt the future behaviour.\n",
      "  warn(\n",
      "/Users/jayceepang/miniconda3/envs/atom2024/lib/python3.9/site-packages/imblearn/ensemble/_forest.py:589: FutureWarning: The default of `replacement` will change from `False` to `True` in version 0.13. This change will follow the implementation proposed in the original paper. Set to `True` to silence this warning and adopt the future behaviour.\n",
      "  warn(\n"
     ]
    },
    {
     "name": "stdout",
     "output_type": "stream",
     "text": [
      "TRAIN: acc: 1.000, precision: 1.000, recall: 1.000, spec: 1.000\n",
      "TEST: acc: 0.500, precision: 0.500, recall: 0.462, spec: 0.538\n",
      "func:'rf_models'  took: 0.3624 sec\n",
      "\n",
      "NEK3_binding_MFP_UNDER_BRFC_BCW_fold3\n"
     ]
    },
    {
     "name": "stderr",
     "output_type": "stream",
     "text": [
      "/Users/jayceepang/miniconda3/envs/atom2024/lib/python3.9/site-packages/imblearn/ensemble/_forest.py:577: FutureWarning: The default of `sampling_strategy` will change from `'auto'` to `'all'` in version 0.13. This change will follow the implementation proposed in the original paper. Set to `'all'` to silence this warning and adopt the future behaviour.\n",
      "  warn(\n",
      "/Users/jayceepang/miniconda3/envs/atom2024/lib/python3.9/site-packages/imblearn/ensemble/_forest.py:589: FutureWarning: The default of `replacement` will change from `False` to `True` in version 0.13. This change will follow the implementation proposed in the original paper. Set to `True` to silence this warning and adopt the future behaviour.\n",
      "  warn(\n"
     ]
    },
    {
     "name": "stdout",
     "output_type": "stream",
     "text": [
      "TRAIN: acc: 1.000, precision: 1.000, recall: 1.000, spec: 1.000\n",
      "TEST: acc: 0.462, precision: 0.462, recall: 0.462, spec: 0.462\n",
      "func:'rf_models'  took: 0.3620 sec\n",
      "\n",
      "NEK3_binding_MFP_UNDER_RF_fold4\n",
      "TRAIN: acc: 1.000, precision: 1.000, recall: 1.000, spec: 1.000\n",
      "TEST: acc: 0.560, precision: 0.533, recall: 0.667, spec: 0.462\n",
      "func:'rf_models'  took: 0.2116 sec\n",
      "\n",
      "NEK3_binding_MFP_UNDER_RF_BCW_fold4\n",
      "TRAIN: acc: 1.000, precision: 1.000, recall: 1.000, spec: 1.000\n",
      "TEST: acc: 0.560, precision: 0.533, recall: 0.667, spec: 0.462\n",
      "func:'rf_models'  took: 0.2165 sec\n",
      "\n",
      "NEK3_binding_MFP_UNDER_BRFC_fold4\n"
     ]
    },
    {
     "name": "stderr",
     "output_type": "stream",
     "text": [
      "/Users/jayceepang/miniconda3/envs/atom2024/lib/python3.9/site-packages/imblearn/ensemble/_forest.py:577: FutureWarning: The default of `sampling_strategy` will change from `'auto'` to `'all'` in version 0.13. This change will follow the implementation proposed in the original paper. Set to `'all'` to silence this warning and adopt the future behaviour.\n",
      "  warn(\n",
      "/Users/jayceepang/miniconda3/envs/atom2024/lib/python3.9/site-packages/imblearn/ensemble/_forest.py:589: FutureWarning: The default of `replacement` will change from `False` to `True` in version 0.13. This change will follow the implementation proposed in the original paper. Set to `True` to silence this warning and adopt the future behaviour.\n",
      "  warn(\n"
     ]
    },
    {
     "name": "stdout",
     "output_type": "stream",
     "text": [
      "TRAIN: acc: 1.000, precision: 1.000, recall: 1.000, spec: 1.000\n",
      "TEST: acc: 0.560, precision: 0.533, recall: 0.667, spec: 0.462\n",
      "func:'rf_models'  took: 0.2823 sec\n",
      "\n",
      "NEK3_binding_MFP_UNDER_BRFC_BCW_fold4\n"
     ]
    },
    {
     "name": "stderr",
     "output_type": "stream",
     "text": [
      "/Users/jayceepang/miniconda3/envs/atom2024/lib/python3.9/site-packages/imblearn/ensemble/_forest.py:577: FutureWarning: The default of `sampling_strategy` will change from `'auto'` to `'all'` in version 0.13. This change will follow the implementation proposed in the original paper. Set to `'all'` to silence this warning and adopt the future behaviour.\n",
      "  warn(\n",
      "/Users/jayceepang/miniconda3/envs/atom2024/lib/python3.9/site-packages/imblearn/ensemble/_forest.py:589: FutureWarning: The default of `replacement` will change from `False` to `True` in version 0.13. This change will follow the implementation proposed in the original paper. Set to `True` to silence this warning and adopt the future behaviour.\n",
      "  warn(\n"
     ]
    },
    {
     "name": "stdout",
     "output_type": "stream",
     "text": [
      "TRAIN: acc: 1.000, precision: 1.000, recall: 1.000, spec: 1.000\n",
      "TEST: acc: 0.560, precision: 0.533, recall: 0.667, spec: 0.462\n",
      "func:'rf_models'  took: 0.2848 sec\n",
      "\n",
      "NEK3_binding_MFP_UNDER_RF_fold5\n",
      "TRAIN: acc: 1.000, precision: 1.000, recall: 1.000, spec: 1.000\n",
      "TEST: acc: 0.600, precision: 0.714, recall: 0.385, spec: 0.833\n",
      "func:'rf_models'  took: 0.2150 sec\n",
      "\n",
      "NEK3_binding_MFP_UNDER_RF_BCW_fold5\n",
      "TRAIN: acc: 1.000, precision: 1.000, recall: 1.000, spec: 1.000\n",
      "TEST: acc: 0.640, precision: 0.750, recall: 0.462, spec: 0.833\n",
      "func:'rf_models'  took: 0.2212 sec\n",
      "\n",
      "NEK3_binding_MFP_UNDER_BRFC_fold5\n"
     ]
    },
    {
     "name": "stderr",
     "output_type": "stream",
     "text": [
      "/Users/jayceepang/miniconda3/envs/atom2024/lib/python3.9/site-packages/imblearn/ensemble/_forest.py:577: FutureWarning: The default of `sampling_strategy` will change from `'auto'` to `'all'` in version 0.13. This change will follow the implementation proposed in the original paper. Set to `'all'` to silence this warning and adopt the future behaviour.\n",
      "  warn(\n",
      "/Users/jayceepang/miniconda3/envs/atom2024/lib/python3.9/site-packages/imblearn/ensemble/_forest.py:589: FutureWarning: The default of `replacement` will change from `False` to `True` in version 0.13. This change will follow the implementation proposed in the original paper. Set to `True` to silence this warning and adopt the future behaviour.\n",
      "  warn(\n"
     ]
    },
    {
     "name": "stdout",
     "output_type": "stream",
     "text": [
      "TRAIN: acc: 1.000, precision: 1.000, recall: 1.000, spec: 1.000\n",
      "TEST: acc: 0.600, precision: 0.667, recall: 0.462, spec: 0.750\n",
      "func:'rf_models'  took: 0.2960 sec\n",
      "\n",
      "NEK3_binding_MFP_UNDER_BRFC_BCW_fold5\n"
     ]
    },
    {
     "name": "stderr",
     "output_type": "stream",
     "text": [
      "/Users/jayceepang/miniconda3/envs/atom2024/lib/python3.9/site-packages/imblearn/ensemble/_forest.py:577: FutureWarning: The default of `sampling_strategy` will change from `'auto'` to `'all'` in version 0.13. This change will follow the implementation proposed in the original paper. Set to `'all'` to silence this warning and adopt the future behaviour.\n",
      "  warn(\n",
      "/Users/jayceepang/miniconda3/envs/atom2024/lib/python3.9/site-packages/imblearn/ensemble/_forest.py:589: FutureWarning: The default of `replacement` will change from `False` to `True` in version 0.13. This change will follow the implementation proposed in the original paper. Set to `True` to silence this warning and adopt the future behaviour.\n",
      "  warn(\n"
     ]
    },
    {
     "name": "stdout",
     "output_type": "stream",
     "text": [
      "TRAIN: acc: 1.000, precision: 1.000, recall: 1.000, spec: 1.000\n",
      "TEST: acc: 0.600, precision: 0.667, recall: 0.462, spec: 0.750\n",
      "func:'rf_models'  took: 0.3008 sec\n",
      "\n",
      "NEK3_binding_MFP_SMOTE_RF_fold1\n",
      "TRAIN: acc: 1.000, precision: 1.000, recall: 1.000, spec: 1.000\n",
      "TEST: acc: 0.958, precision: 0.953, recall: 0.962, spec: 0.953\n",
      "func:'rf_models'  took: 7.3668 sec\n",
      "\n",
      "NEK3_binding_MFP_SMOTE_RF_BCW_fold1\n",
      "TRAIN: acc: 1.000, precision: 1.000, recall: 1.000, spec: 1.000\n",
      "TEST: acc: 0.960, precision: 0.958, recall: 0.962, spec: 0.958\n",
      "func:'rf_models'  took: 7.4002 sec\n",
      "\n",
      "NEK3_binding_MFP_SMOTE_BRFC_fold1\n"
     ]
    },
    {
     "name": "stderr",
     "output_type": "stream",
     "text": [
      "/Users/jayceepang/miniconda3/envs/atom2024/lib/python3.9/site-packages/imblearn/ensemble/_forest.py:577: FutureWarning: The default of `sampling_strategy` will change from `'auto'` to `'all'` in version 0.13. This change will follow the implementation proposed in the original paper. Set to `'all'` to silence this warning and adopt the future behaviour.\n",
      "  warn(\n",
      "/Users/jayceepang/miniconda3/envs/atom2024/lib/python3.9/site-packages/imblearn/ensemble/_forest.py:589: FutureWarning: The default of `replacement` will change from `False` to `True` in version 0.13. This change will follow the implementation proposed in the original paper. Set to `True` to silence this warning and adopt the future behaviour.\n",
      "  warn(\n"
     ]
    },
    {
     "name": "stdout",
     "output_type": "stream",
     "text": [
      "TRAIN: acc: 1.000, precision: 1.000, recall: 1.000, spec: 1.000\n",
      "TEST: acc: 0.962, precision: 0.962, recall: 0.962, spec: 0.962\n",
      "func:'rf_models'  took: 9.2068 sec\n",
      "\n",
      "NEK3_binding_MFP_SMOTE_BRFC_BCW_fold1\n"
     ]
    },
    {
     "name": "stderr",
     "output_type": "stream",
     "text": [
      "/Users/jayceepang/miniconda3/envs/atom2024/lib/python3.9/site-packages/imblearn/ensemble/_forest.py:577: FutureWarning: The default of `sampling_strategy` will change from `'auto'` to `'all'` in version 0.13. This change will follow the implementation proposed in the original paper. Set to `'all'` to silence this warning and adopt the future behaviour.\n",
      "  warn(\n",
      "/Users/jayceepang/miniconda3/envs/atom2024/lib/python3.9/site-packages/imblearn/ensemble/_forest.py:589: FutureWarning: The default of `replacement` will change from `False` to `True` in version 0.13. This change will follow the implementation proposed in the original paper. Set to `True` to silence this warning and adopt the future behaviour.\n",
      "  warn(\n"
     ]
    },
    {
     "name": "stdout",
     "output_type": "stream",
     "text": [
      "TRAIN: acc: 1.000, precision: 1.000, recall: 1.000, spec: 1.000\n",
      "TEST: acc: 0.960, precision: 0.958, recall: 0.962, spec: 0.958\n",
      "func:'rf_models'  took: 9.2589 sec\n",
      "\n",
      "NEK3_binding_MFP_SMOTE_RF_fold2\n",
      "TRAIN: acc: 0.999, precision: 1.000, recall: 0.998, spec: 1.000\n",
      "TEST: acc: 0.950, precision: 0.940, recall: 0.962, spec: 0.939\n",
      "func:'rf_models'  took: 8.4353 sec\n",
      "\n",
      "NEK3_binding_MFP_SMOTE_RF_BCW_fold2\n",
      "TRAIN: acc: 0.999, precision: 1.000, recall: 0.998, spec: 1.000\n",
      "TEST: acc: 0.955, precision: 0.944, recall: 0.967, spec: 0.943\n",
      "func:'rf_models'  took: 8.7567 sec\n",
      "\n",
      "NEK3_binding_MFP_SMOTE_BRFC_fold2\n"
     ]
    },
    {
     "name": "stderr",
     "output_type": "stream",
     "text": [
      "/Users/jayceepang/miniconda3/envs/atom2024/lib/python3.9/site-packages/imblearn/ensemble/_forest.py:577: FutureWarning: The default of `sampling_strategy` will change from `'auto'` to `'all'` in version 0.13. This change will follow the implementation proposed in the original paper. Set to `'all'` to silence this warning and adopt the future behaviour.\n",
      "  warn(\n",
      "/Users/jayceepang/miniconda3/envs/atom2024/lib/python3.9/site-packages/imblearn/ensemble/_forest.py:589: FutureWarning: The default of `replacement` will change from `False` to `True` in version 0.13. This change will follow the implementation proposed in the original paper. Set to `True` to silence this warning and adopt the future behaviour.\n",
      "  warn(\n"
     ]
    },
    {
     "name": "stdout",
     "output_type": "stream",
     "text": [
      "TRAIN: acc: 0.999, precision: 1.000, recall: 0.998, spec: 1.000\n",
      "TEST: acc: 0.953, precision: 0.944, recall: 0.962, spec: 0.943\n",
      "func:'rf_models'  took: 10.5510 sec\n",
      "\n",
      "NEK3_binding_MFP_SMOTE_BRFC_BCW_fold2\n"
     ]
    },
    {
     "name": "stderr",
     "output_type": "stream",
     "text": [
      "/Users/jayceepang/miniconda3/envs/atom2024/lib/python3.9/site-packages/imblearn/ensemble/_forest.py:577: FutureWarning: The default of `sampling_strategy` will change from `'auto'` to `'all'` in version 0.13. This change will follow the implementation proposed in the original paper. Set to `'all'` to silence this warning and adopt the future behaviour.\n",
      "  warn(\n",
      "/Users/jayceepang/miniconda3/envs/atom2024/lib/python3.9/site-packages/imblearn/ensemble/_forest.py:589: FutureWarning: The default of `replacement` will change from `False` to `True` in version 0.13. This change will follow the implementation proposed in the original paper. Set to `True` to silence this warning and adopt the future behaviour.\n",
      "  warn(\n"
     ]
    },
    {
     "name": "stdout",
     "output_type": "stream",
     "text": [
      "TRAIN: acc: 0.999, precision: 1.000, recall: 0.998, spec: 1.000\n",
      "TEST: acc: 0.957, precision: 0.949, recall: 0.967, spec: 0.948\n",
      "func:'rf_models'  took: 10.8246 sec\n",
      "\n",
      "NEK3_binding_MFP_SMOTE_RF_fold3\n",
      "TRAIN: acc: 0.999, precision: 1.000, recall: 0.999, spec: 1.000\n",
      "TEST: acc: 0.950, precision: 0.948, recall: 0.953, spec: 0.948\n",
      "func:'rf_models'  took: 8.7969 sec\n",
      "\n",
      "NEK3_binding_MFP_SMOTE_RF_BCW_fold3\n",
      "TRAIN: acc: 0.999, precision: 1.000, recall: 0.999, spec: 1.000\n",
      "TEST: acc: 0.943, precision: 0.935, recall: 0.953, spec: 0.934\n",
      "func:'rf_models'  took: 8.5141 sec\n",
      "\n",
      "NEK3_binding_MFP_SMOTE_BRFC_fold3\n"
     ]
    },
    {
     "name": "stderr",
     "output_type": "stream",
     "text": [
      "/Users/jayceepang/miniconda3/envs/atom2024/lib/python3.9/site-packages/imblearn/ensemble/_forest.py:577: FutureWarning: The default of `sampling_strategy` will change from `'auto'` to `'all'` in version 0.13. This change will follow the implementation proposed in the original paper. Set to `'all'` to silence this warning and adopt the future behaviour.\n",
      "  warn(\n",
      "/Users/jayceepang/miniconda3/envs/atom2024/lib/python3.9/site-packages/imblearn/ensemble/_forest.py:589: FutureWarning: The default of `replacement` will change from `False` to `True` in version 0.13. This change will follow the implementation proposed in the original paper. Set to `True` to silence this warning and adopt the future behaviour.\n",
      "  warn(\n"
     ]
    },
    {
     "name": "stdout",
     "output_type": "stream",
     "text": [
      "TRAIN: acc: 0.999, precision: 1.000, recall: 0.999, spec: 1.000\n",
      "TEST: acc: 0.960, precision: 0.958, recall: 0.962, spec: 0.958\n",
      "func:'rf_models'  took: 10.3032 sec\n",
      "\n",
      "NEK3_binding_MFP_SMOTE_BRFC_BCW_fold3\n"
     ]
    },
    {
     "name": "stderr",
     "output_type": "stream",
     "text": [
      "/Users/jayceepang/miniconda3/envs/atom2024/lib/python3.9/site-packages/imblearn/ensemble/_forest.py:577: FutureWarning: The default of `sampling_strategy` will change from `'auto'` to `'all'` in version 0.13. This change will follow the implementation proposed in the original paper. Set to `'all'` to silence this warning and adopt the future behaviour.\n",
      "  warn(\n",
      "/Users/jayceepang/miniconda3/envs/atom2024/lib/python3.9/site-packages/imblearn/ensemble/_forest.py:589: FutureWarning: The default of `replacement` will change from `False` to `True` in version 0.13. This change will follow the implementation proposed in the original paper. Set to `True` to silence this warning and adopt the future behaviour.\n",
      "  warn(\n"
     ]
    },
    {
     "name": "stdout",
     "output_type": "stream",
     "text": [
      "TRAIN: acc: 0.999, precision: 1.000, recall: 0.999, spec: 1.000\n",
      "TEST: acc: 0.946, precision: 0.939, recall: 0.953, spec: 0.939\n",
      "func:'rf_models'  took: 10.2253 sec\n",
      "\n",
      "NEK3_binding_MFP_SMOTE_RF_fold4\n",
      "TRAIN: acc: 0.999, precision: 1.000, recall: 0.998, spec: 1.000\n",
      "TEST: acc: 0.960, precision: 0.949, recall: 0.972, spec: 0.948\n",
      "func:'rf_models'  took: 7.8364 sec\n",
      "\n",
      "NEK3_binding_MFP_SMOTE_RF_BCW_fold4\n",
      "TRAIN: acc: 0.999, precision: 0.998, recall: 1.000, spec: 0.998\n",
      "TEST: acc: 0.960, precision: 0.949, recall: 0.972, spec: 0.948\n",
      "func:'rf_models'  took: 8.0512 sec\n",
      "\n",
      "NEK3_binding_MFP_SMOTE_BRFC_fold4\n"
     ]
    },
    {
     "name": "stderr",
     "output_type": "stream",
     "text": [
      "/Users/jayceepang/miniconda3/envs/atom2024/lib/python3.9/site-packages/imblearn/ensemble/_forest.py:577: FutureWarning: The default of `sampling_strategy` will change from `'auto'` to `'all'` in version 0.13. This change will follow the implementation proposed in the original paper. Set to `'all'` to silence this warning and adopt the future behaviour.\n",
      "  warn(\n",
      "/Users/jayceepang/miniconda3/envs/atom2024/lib/python3.9/site-packages/imblearn/ensemble/_forest.py:589: FutureWarning: The default of `replacement` will change from `False` to `True` in version 0.13. This change will follow the implementation proposed in the original paper. Set to `True` to silence this warning and adopt the future behaviour.\n",
      "  warn(\n"
     ]
    },
    {
     "name": "stdout",
     "output_type": "stream",
     "text": [
      "TRAIN: acc: 0.999, precision: 1.000, recall: 0.998, spec: 1.000\n",
      "TEST: acc: 0.962, precision: 0.954, recall: 0.972, spec: 0.953\n",
      "func:'rf_models'  took: 9.6921 sec\n",
      "\n",
      "NEK3_binding_MFP_SMOTE_BRFC_BCW_fold4\n"
     ]
    },
    {
     "name": "stderr",
     "output_type": "stream",
     "text": [
      "/Users/jayceepang/miniconda3/envs/atom2024/lib/python3.9/site-packages/imblearn/ensemble/_forest.py:577: FutureWarning: The default of `sampling_strategy` will change from `'auto'` to `'all'` in version 0.13. This change will follow the implementation proposed in the original paper. Set to `'all'` to silence this warning and adopt the future behaviour.\n",
      "  warn(\n",
      "/Users/jayceepang/miniconda3/envs/atom2024/lib/python3.9/site-packages/imblearn/ensemble/_forest.py:589: FutureWarning: The default of `replacement` will change from `False` to `True` in version 0.13. This change will follow the implementation proposed in the original paper. Set to `True` to silence this warning and adopt the future behaviour.\n",
      "  warn(\n"
     ]
    },
    {
     "name": "stdout",
     "output_type": "stream",
     "text": [
      "TRAIN: acc: 0.999, precision: 0.998, recall: 1.000, spec: 0.998\n",
      "TEST: acc: 0.962, precision: 0.958, recall: 0.967, spec: 0.957\n",
      "func:'rf_models'  took: 9.8967 sec\n",
      "\n",
      "NEK3_binding_MFP_SMOTE_RF_fold5\n",
      "TRAIN: acc: 0.999, precision: 1.000, recall: 0.998, spec: 1.000\n",
      "TEST: acc: 0.962, precision: 0.967, recall: 0.958, spec: 0.967\n",
      "func:'rf_models'  took: 7.3152 sec\n",
      "\n",
      "NEK3_binding_MFP_SMOTE_RF_BCW_fold5\n",
      "TRAIN: acc: 0.999, precision: 0.998, recall: 1.000, spec: 0.998\n",
      "TEST: acc: 0.962, precision: 0.967, recall: 0.958, spec: 0.967\n",
      "func:'rf_models'  took: 7.5092 sec\n",
      "\n",
      "NEK3_binding_MFP_SMOTE_BRFC_fold5\n"
     ]
    },
    {
     "name": "stderr",
     "output_type": "stream",
     "text": [
      "/Users/jayceepang/miniconda3/envs/atom2024/lib/python3.9/site-packages/imblearn/ensemble/_forest.py:577: FutureWarning: The default of `sampling_strategy` will change from `'auto'` to `'all'` in version 0.13. This change will follow the implementation proposed in the original paper. Set to `'all'` to silence this warning and adopt the future behaviour.\n",
      "  warn(\n",
      "/Users/jayceepang/miniconda3/envs/atom2024/lib/python3.9/site-packages/imblearn/ensemble/_forest.py:589: FutureWarning: The default of `replacement` will change from `False` to `True` in version 0.13. This change will follow the implementation proposed in the original paper. Set to `True` to silence this warning and adopt the future behaviour.\n",
      "  warn(\n"
     ]
    },
    {
     "name": "stdout",
     "output_type": "stream",
     "text": [
      "TRAIN: acc: 0.999, precision: 0.999, recall: 0.999, spec: 0.999\n",
      "TEST: acc: 0.960, precision: 0.967, recall: 0.953, spec: 0.967\n",
      "func:'rf_models'  took: 9.1162 sec\n",
      "\n",
      "NEK3_binding_MFP_SMOTE_BRFC_BCW_fold5\n"
     ]
    },
    {
     "name": "stderr",
     "output_type": "stream",
     "text": [
      "/Users/jayceepang/miniconda3/envs/atom2024/lib/python3.9/site-packages/imblearn/ensemble/_forest.py:577: FutureWarning: The default of `sampling_strategy` will change from `'auto'` to `'all'` in version 0.13. This change will follow the implementation proposed in the original paper. Set to `'all'` to silence this warning and adopt the future behaviour.\n",
      "  warn(\n",
      "/Users/jayceepang/miniconda3/envs/atom2024/lib/python3.9/site-packages/imblearn/ensemble/_forest.py:589: FutureWarning: The default of `replacement` will change from `False` to `True` in version 0.13. This change will follow the implementation proposed in the original paper. Set to `True` to silence this warning and adopt the future behaviour.\n",
      "  warn(\n"
     ]
    },
    {
     "name": "stdout",
     "output_type": "stream",
     "text": [
      "TRAIN: acc: 0.999, precision: 0.998, recall: 1.000, spec: 0.998\n",
      "TEST: acc: 0.960, precision: 0.967, recall: 0.953, spec: 0.967\n",
      "func:'rf_models'  took: 9.2693 sec\n",
      "\n",
      "NEK3_binding_MFP_ADASYN_RF_fold1\n",
      "TRAIN: acc: 1.000, precision: 1.000, recall: 1.000, spec: 1.000\n",
      "TEST: acc: 0.943, precision: 0.931, recall: 0.958, spec: 0.929\n",
      "func:'rf_models'  took: 6.6494 sec\n",
      "\n",
      "NEK3_binding_MFP_ADASYN_RF_BCW_fold1\n",
      "TRAIN: acc: 1.000, precision: 1.000, recall: 1.000, spec: 1.000\n",
      "TEST: acc: 0.948, precision: 0.940, recall: 0.958, spec: 0.939\n",
      "func:'rf_models'  took: 6.9224 sec\n",
      "\n",
      "NEK3_binding_MFP_ADASYN_BRFC_fold1\n"
     ]
    },
    {
     "name": "stderr",
     "output_type": "stream",
     "text": [
      "/Users/jayceepang/miniconda3/envs/atom2024/lib/python3.9/site-packages/imblearn/ensemble/_forest.py:577: FutureWarning: The default of `sampling_strategy` will change from `'auto'` to `'all'` in version 0.13. This change will follow the implementation proposed in the original paper. Set to `'all'` to silence this warning and adopt the future behaviour.\n",
      "  warn(\n",
      "/Users/jayceepang/miniconda3/envs/atom2024/lib/python3.9/site-packages/imblearn/ensemble/_forest.py:589: FutureWarning: The default of `replacement` will change from `False` to `True` in version 0.13. This change will follow the implementation proposed in the original paper. Set to `True` to silence this warning and adopt the future behaviour.\n",
      "  warn(\n"
     ]
    },
    {
     "name": "stdout",
     "output_type": "stream",
     "text": [
      "TRAIN: acc: 1.000, precision: 1.000, recall: 1.000, spec: 1.000\n",
      "TEST: acc: 0.948, precision: 0.940, recall: 0.958, spec: 0.939\n",
      "func:'rf_models'  took: 8.2512 sec\n",
      "\n",
      "NEK3_binding_MFP_ADASYN_BRFC_BCW_fold1\n"
     ]
    },
    {
     "name": "stderr",
     "output_type": "stream",
     "text": [
      "/Users/jayceepang/miniconda3/envs/atom2024/lib/python3.9/site-packages/imblearn/ensemble/_forest.py:577: FutureWarning: The default of `sampling_strategy` will change from `'auto'` to `'all'` in version 0.13. This change will follow the implementation proposed in the original paper. Set to `'all'` to silence this warning and adopt the future behaviour.\n",
      "  warn(\n",
      "/Users/jayceepang/miniconda3/envs/atom2024/lib/python3.9/site-packages/imblearn/ensemble/_forest.py:589: FutureWarning: The default of `replacement` will change from `False` to `True` in version 0.13. This change will follow the implementation proposed in the original paper. Set to `True` to silence this warning and adopt the future behaviour.\n",
      "  warn(\n"
     ]
    },
    {
     "name": "stdout",
     "output_type": "stream",
     "text": [
      "TRAIN: acc: 1.000, precision: 1.000, recall: 1.000, spec: 1.000\n",
      "TEST: acc: 0.948, precision: 0.940, recall: 0.958, spec: 0.939\n",
      "func:'rf_models'  took: 8.3885 sec\n",
      "\n",
      "NEK3_binding_MFP_ADASYN_RF_fold2\n",
      "TRAIN: acc: 0.999, precision: 1.000, recall: 0.998, spec: 1.000\n",
      "TEST: acc: 0.943, precision: 0.935, recall: 0.953, spec: 0.934\n",
      "func:'rf_models'  took: 9.0896 sec\n",
      "\n",
      "NEK3_binding_MFP_ADASYN_RF_BCW_fold2\n",
      "TRAIN: acc: 0.999, precision: 1.000, recall: 0.998, spec: 1.000\n",
      "TEST: acc: 0.941, precision: 0.939, recall: 0.943, spec: 0.939\n",
      "func:'rf_models'  took: 9.3110 sec\n",
      "\n",
      "NEK3_binding_MFP_ADASYN_BRFC_fold2\n"
     ]
    },
    {
     "name": "stderr",
     "output_type": "stream",
     "text": [
      "/Users/jayceepang/miniconda3/envs/atom2024/lib/python3.9/site-packages/imblearn/ensemble/_forest.py:577: FutureWarning: The default of `sampling_strategy` will change from `'auto'` to `'all'` in version 0.13. This change will follow the implementation proposed in the original paper. Set to `'all'` to silence this warning and adopt the future behaviour.\n",
      "  warn(\n",
      "/Users/jayceepang/miniconda3/envs/atom2024/lib/python3.9/site-packages/imblearn/ensemble/_forest.py:589: FutureWarning: The default of `replacement` will change from `False` to `True` in version 0.13. This change will follow the implementation proposed in the original paper. Set to `True` to silence this warning and adopt the future behaviour.\n",
      "  warn(\n"
     ]
    },
    {
     "name": "stdout",
     "output_type": "stream",
     "text": [
      "TRAIN: acc: 0.999, precision: 1.000, recall: 0.998, spec: 1.000\n",
      "TEST: acc: 0.941, precision: 0.931, recall: 0.953, spec: 0.929\n",
      "func:'rf_models'  took: 10.8651 sec\n",
      "\n",
      "NEK3_binding_MFP_ADASYN_BRFC_BCW_fold2\n"
     ]
    },
    {
     "name": "stderr",
     "output_type": "stream",
     "text": [
      "/Users/jayceepang/miniconda3/envs/atom2024/lib/python3.9/site-packages/imblearn/ensemble/_forest.py:577: FutureWarning: The default of `sampling_strategy` will change from `'auto'` to `'all'` in version 0.13. This change will follow the implementation proposed in the original paper. Set to `'all'` to silence this warning and adopt the future behaviour.\n",
      "  warn(\n",
      "/Users/jayceepang/miniconda3/envs/atom2024/lib/python3.9/site-packages/imblearn/ensemble/_forest.py:589: FutureWarning: The default of `replacement` will change from `False` to `True` in version 0.13. This change will follow the implementation proposed in the original paper. Set to `True` to silence this warning and adopt the future behaviour.\n",
      "  warn(\n"
     ]
    },
    {
     "name": "stdout",
     "output_type": "stream",
     "text": [
      "TRAIN: acc: 0.999, precision: 1.000, recall: 0.998, spec: 1.000\n",
      "TEST: acc: 0.941, precision: 0.939, recall: 0.943, spec: 0.939\n",
      "func:'rf_models'  took: 11.1172 sec\n",
      "\n",
      "NEK3_binding_MFP_ADASYN_RF_fold3\n",
      "TRAIN: acc: 0.999, precision: 1.000, recall: 0.999, spec: 1.000\n",
      "TEST: acc: 0.948, precision: 0.948, recall: 0.948, spec: 0.948\n",
      "func:'rf_models'  took: 8.0323 sec\n",
      "\n",
      "NEK3_binding_MFP_ADASYN_RF_BCW_fold3\n",
      "TRAIN: acc: 0.999, precision: 1.000, recall: 0.999, spec: 1.000\n",
      "TEST: acc: 0.941, precision: 0.947, recall: 0.934, spec: 0.948\n",
      "func:'rf_models'  took: 8.1258 sec\n",
      "\n",
      "NEK3_binding_MFP_ADASYN_BRFC_fold3\n"
     ]
    },
    {
     "name": "stderr",
     "output_type": "stream",
     "text": [
      "/Users/jayceepang/miniconda3/envs/atom2024/lib/python3.9/site-packages/imblearn/ensemble/_forest.py:577: FutureWarning: The default of `sampling_strategy` will change from `'auto'` to `'all'` in version 0.13. This change will follow the implementation proposed in the original paper. Set to `'all'` to silence this warning and adopt the future behaviour.\n",
      "  warn(\n",
      "/Users/jayceepang/miniconda3/envs/atom2024/lib/python3.9/site-packages/imblearn/ensemble/_forest.py:589: FutureWarning: The default of `replacement` will change from `False` to `True` in version 0.13. This change will follow the implementation proposed in the original paper. Set to `True` to silence this warning and adopt the future behaviour.\n",
      "  warn(\n"
     ]
    },
    {
     "name": "stdout",
     "output_type": "stream",
     "text": [
      "TRAIN: acc: 0.999, precision: 1.000, recall: 0.999, spec: 1.000\n",
      "TEST: acc: 0.950, precision: 0.952, recall: 0.948, spec: 0.953\n",
      "func:'rf_models'  took: 9.7098 sec\n",
      "\n",
      "NEK3_binding_MFP_ADASYN_BRFC_BCW_fold3\n"
     ]
    },
    {
     "name": "stderr",
     "output_type": "stream",
     "text": [
      "/Users/jayceepang/miniconda3/envs/atom2024/lib/python3.9/site-packages/imblearn/ensemble/_forest.py:577: FutureWarning: The default of `sampling_strategy` will change from `'auto'` to `'all'` in version 0.13. This change will follow the implementation proposed in the original paper. Set to `'all'` to silence this warning and adopt the future behaviour.\n",
      "  warn(\n",
      "/Users/jayceepang/miniconda3/envs/atom2024/lib/python3.9/site-packages/imblearn/ensemble/_forest.py:589: FutureWarning: The default of `replacement` will change from `False` to `True` in version 0.13. This change will follow the implementation proposed in the original paper. Set to `True` to silence this warning and adopt the future behaviour.\n",
      "  warn(\n"
     ]
    },
    {
     "name": "stdout",
     "output_type": "stream",
     "text": [
      "TRAIN: acc: 0.999, precision: 1.000, recall: 0.999, spec: 1.000\n",
      "TEST: acc: 0.943, precision: 0.952, recall: 0.934, spec: 0.953\n",
      "func:'rf_models'  took: 9.9803 sec\n",
      "\n",
      "NEK3_binding_MFP_ADASYN_RF_fold4\n",
      "TRAIN: acc: 0.999, precision: 1.000, recall: 0.998, spec: 1.000\n",
      "TEST: acc: 0.955, precision: 0.945, recall: 0.967, spec: 0.943\n",
      "func:'rf_models'  took: 9.0073 sec\n",
      "\n",
      "NEK3_binding_MFP_ADASYN_RF_BCW_fold4\n",
      "TRAIN: acc: 0.999, precision: 1.000, recall: 0.998, spec: 1.000\n",
      "TEST: acc: 0.957, precision: 0.949, recall: 0.967, spec: 0.948\n",
      "func:'rf_models'  took: 9.1504 sec\n",
      "\n",
      "NEK3_binding_MFP_ADASYN_BRFC_fold4\n"
     ]
    },
    {
     "name": "stderr",
     "output_type": "stream",
     "text": [
      "/Users/jayceepang/miniconda3/envs/atom2024/lib/python3.9/site-packages/imblearn/ensemble/_forest.py:577: FutureWarning: The default of `sampling_strategy` will change from `'auto'` to `'all'` in version 0.13. This change will follow the implementation proposed in the original paper. Set to `'all'` to silence this warning and adopt the future behaviour.\n",
      "  warn(\n",
      "/Users/jayceepang/miniconda3/envs/atom2024/lib/python3.9/site-packages/imblearn/ensemble/_forest.py:589: FutureWarning: The default of `replacement` will change from `False` to `True` in version 0.13. This change will follow the implementation proposed in the original paper. Set to `True` to silence this warning and adopt the future behaviour.\n",
      "  warn(\n"
     ]
    },
    {
     "name": "stdout",
     "output_type": "stream",
     "text": [
      "TRAIN: acc: 0.999, precision: 1.000, recall: 0.998, spec: 1.000\n",
      "TEST: acc: 0.960, precision: 0.953, recall: 0.967, spec: 0.953\n",
      "func:'rf_models'  took: 10.9772 sec\n",
      "\n",
      "NEK3_binding_MFP_ADASYN_BRFC_BCW_fold4\n"
     ]
    },
    {
     "name": "stderr",
     "output_type": "stream",
     "text": [
      "/Users/jayceepang/miniconda3/envs/atom2024/lib/python3.9/site-packages/imblearn/ensemble/_forest.py:577: FutureWarning: The default of `sampling_strategy` will change from `'auto'` to `'all'` in version 0.13. This change will follow the implementation proposed in the original paper. Set to `'all'` to silence this warning and adopt the future behaviour.\n",
      "  warn(\n",
      "/Users/jayceepang/miniconda3/envs/atom2024/lib/python3.9/site-packages/imblearn/ensemble/_forest.py:589: FutureWarning: The default of `replacement` will change from `False` to `True` in version 0.13. This change will follow the implementation proposed in the original paper. Set to `True` to silence this warning and adopt the future behaviour.\n",
      "  warn(\n"
     ]
    },
    {
     "name": "stdout",
     "output_type": "stream",
     "text": [
      "TRAIN: acc: 0.999, precision: 1.000, recall: 0.998, spec: 1.000\n",
      "TEST: acc: 0.960, precision: 0.953, recall: 0.967, spec: 0.953\n",
      "func:'rf_models'  took: 11.0039 sec\n",
      "\n",
      "NEK3_binding_MFP_ADASYN_RF_fold5\n",
      "TRAIN: acc: 0.999, precision: 1.000, recall: 0.998, spec: 1.000\n",
      "TEST: acc: 0.950, precision: 0.944, recall: 0.958, spec: 0.943\n",
      "func:'rf_models'  took: 7.0115 sec\n",
      "\n",
      "NEK3_binding_MFP_ADASYN_RF_BCW_fold5\n",
      "TRAIN: acc: 0.999, precision: 1.000, recall: 0.998, spec: 1.000\n",
      "TEST: acc: 0.955, precision: 0.949, recall: 0.962, spec: 0.948\n",
      "func:'rf_models'  took: 7.2243 sec\n",
      "\n",
      "NEK3_binding_MFP_ADASYN_BRFC_fold5\n"
     ]
    },
    {
     "name": "stderr",
     "output_type": "stream",
     "text": [
      "/Users/jayceepang/miniconda3/envs/atom2024/lib/python3.9/site-packages/imblearn/ensemble/_forest.py:577: FutureWarning: The default of `sampling_strategy` will change from `'auto'` to `'all'` in version 0.13. This change will follow the implementation proposed in the original paper. Set to `'all'` to silence this warning and adopt the future behaviour.\n",
      "  warn(\n",
      "/Users/jayceepang/miniconda3/envs/atom2024/lib/python3.9/site-packages/imblearn/ensemble/_forest.py:589: FutureWarning: The default of `replacement` will change from `False` to `True` in version 0.13. This change will follow the implementation proposed in the original paper. Set to `True` to silence this warning and adopt the future behaviour.\n",
      "  warn(\n"
     ]
    },
    {
     "name": "stdout",
     "output_type": "stream",
     "text": [
      "TRAIN: acc: 0.999, precision: 1.000, recall: 0.998, spec: 1.000\n",
      "TEST: acc: 0.957, precision: 0.953, recall: 0.962, spec: 0.953\n",
      "func:'rf_models'  took: 8.6083 sec\n",
      "\n",
      "NEK3_binding_MFP_ADASYN_BRFC_BCW_fold5\n"
     ]
    },
    {
     "name": "stderr",
     "output_type": "stream",
     "text": [
      "/Users/jayceepang/miniconda3/envs/atom2024/lib/python3.9/site-packages/imblearn/ensemble/_forest.py:577: FutureWarning: The default of `sampling_strategy` will change from `'auto'` to `'all'` in version 0.13. This change will follow the implementation proposed in the original paper. Set to `'all'` to silence this warning and adopt the future behaviour.\n",
      "  warn(\n",
      "/Users/jayceepang/miniconda3/envs/atom2024/lib/python3.9/site-packages/imblearn/ensemble/_forest.py:589: FutureWarning: The default of `replacement` will change from `False` to `True` in version 0.13. This change will follow the implementation proposed in the original paper. Set to `True` to silence this warning and adopt the future behaviour.\n",
      "  warn(\n"
     ]
    },
    {
     "name": "stdout",
     "output_type": "stream",
     "text": [
      "TRAIN: acc: 0.999, precision: 1.000, recall: 0.998, spec: 1.000\n",
      "TEST: acc: 0.957, precision: 0.953, recall: 0.962, spec: 0.953\n",
      "func:'rf_models'  took: 8.7193 sec\n",
      "\n",
      "NEK5_binding_MOE_none_scaled_RF_fold1\n",
      "TRAIN: acc: 1.000, precision: 1.000, recall: 1.000, spec: 1.000\n",
      "TEST: acc: 0.914, precision: 0.450, recall: 0.600, spec: 0.940\n",
      "func:'rf_models'  took: 8.9523 sec\n",
      "\n",
      "NEK5_binding_MOE_none_scaled_RF_BCW_fold1\n",
      "TRAIN: acc: 1.000, precision: 1.000, recall: 1.000, spec: 1.000\n",
      "TEST: acc: 0.904, precision: 0.389, recall: 0.467, spec: 0.940\n",
      "func:'rf_models'  took: 5.1772 sec\n",
      "\n",
      "NEK5_binding_MOE_none_scaled_BRFC_fold1\n"
     ]
    },
    {
     "name": "stderr",
     "output_type": "stream",
     "text": [
      "/Users/jayceepang/miniconda3/envs/atom2024/lib/python3.9/site-packages/imblearn/ensemble/_forest.py:577: FutureWarning: The default of `sampling_strategy` will change from `'auto'` to `'all'` in version 0.13. This change will follow the implementation proposed in the original paper. Set to `'all'` to silence this warning and adopt the future behaviour.\n",
      "  warn(\n",
      "/Users/jayceepang/miniconda3/envs/atom2024/lib/python3.9/site-packages/imblearn/ensemble/_forest.py:589: FutureWarning: The default of `replacement` will change from `False` to `True` in version 0.13. This change will follow the implementation proposed in the original paper. Set to `True` to silence this warning and adopt the future behaviour.\n",
      "  warn(\n"
     ]
    },
    {
     "name": "stdout",
     "output_type": "stream",
     "text": [
      "TRAIN: acc: 0.841, precision: 0.330, recall: 1.000, spec: 0.827\n",
      "TEST: acc: 0.737, precision: 0.206, recall: 0.867, spec: 0.727\n",
      "func:'rf_models'  took: 0.6726 sec\n",
      "\n",
      "NEK5_binding_MOE_none_scaled_BRFC_BCW_fold1\n"
     ]
    },
    {
     "name": "stderr",
     "output_type": "stream",
     "text": [
      "/Users/jayceepang/miniconda3/envs/atom2024/lib/python3.9/site-packages/imblearn/ensemble/_forest.py:577: FutureWarning: The default of `sampling_strategy` will change from `'auto'` to `'all'` in version 0.13. This change will follow the implementation proposed in the original paper. Set to `'all'` to silence this warning and adopt the future behaviour.\n",
      "  warn(\n",
      "/Users/jayceepang/miniconda3/envs/atom2024/lib/python3.9/site-packages/imblearn/ensemble/_forest.py:589: FutureWarning: The default of `replacement` will change from `False` to `True` in version 0.13. This change will follow the implementation proposed in the original paper. Set to `True` to silence this warning and adopt the future behaviour.\n",
      "  warn(\n"
     ]
    },
    {
     "name": "stdout",
     "output_type": "stream",
     "text": [
      "TRAIN: acc: 0.805, precision: 0.287, recall: 1.000, spec: 0.789\n",
      "TEST: acc: 0.737, precision: 0.186, recall: 0.733, spec: 0.738\n",
      "func:'rf_models'  took: 1.6204 sec\n",
      "\n",
      "NEK5_binding_MOE_none_scaled_RF_fold2\n",
      "TRAIN: acc: 1.000, precision: 1.000, recall: 1.000, spec: 1.000\n",
      "TEST: acc: 0.914, precision: 0.429, recall: 0.400, spec: 0.956\n",
      "func:'rf_models'  took: 12.8874 sec\n",
      "\n",
      "NEK5_binding_MOE_none_scaled_RF_BCW_fold2\n",
      "TRAIN: acc: 1.000, precision: 1.000, recall: 1.000, spec: 1.000\n",
      "TEST: acc: 0.929, precision: 0.545, recall: 0.400, spec: 0.973\n",
      "func:'rf_models'  took: 5.8487 sec\n",
      "\n",
      "NEK5_binding_MOE_none_scaled_BRFC_fold2\n"
     ]
    },
    {
     "name": "stderr",
     "output_type": "stream",
     "text": [
      "/Users/jayceepang/miniconda3/envs/atom2024/lib/python3.9/site-packages/imblearn/ensemble/_forest.py:577: FutureWarning: The default of `sampling_strategy` will change from `'auto'` to `'all'` in version 0.13. This change will follow the implementation proposed in the original paper. Set to `'all'` to silence this warning and adopt the future behaviour.\n",
      "  warn(\n",
      "/Users/jayceepang/miniconda3/envs/atom2024/lib/python3.9/site-packages/imblearn/ensemble/_forest.py:589: FutureWarning: The default of `replacement` will change from `False` to `True` in version 0.13. This change will follow the implementation proposed in the original paper. Set to `True` to silence this warning and adopt the future behaviour.\n",
      "  warn(\n"
     ]
    },
    {
     "name": "stdout",
     "output_type": "stream",
     "text": [
      "TRAIN: acc: 0.833, precision: 0.320, recall: 1.000, spec: 0.819\n",
      "TEST: acc: 0.798, precision: 0.255, recall: 0.867, spec: 0.792\n",
      "func:'rf_models'  took: 0.6669 sec\n",
      "\n",
      "NEK5_binding_MOE_none_scaled_BRFC_BCW_fold2\n"
     ]
    },
    {
     "name": "stderr",
     "output_type": "stream",
     "text": [
      "/Users/jayceepang/miniconda3/envs/atom2024/lib/python3.9/site-packages/imblearn/ensemble/_forest.py:577: FutureWarning: The default of `sampling_strategy` will change from `'auto'` to `'all'` in version 0.13. This change will follow the implementation proposed in the original paper. Set to `'all'` to silence this warning and adopt the future behaviour.\n",
      "  warn(\n",
      "/Users/jayceepang/miniconda3/envs/atom2024/lib/python3.9/site-packages/imblearn/ensemble/_forest.py:589: FutureWarning: The default of `replacement` will change from `False` to `True` in version 0.13. This change will follow the implementation proposed in the original paper. Set to `True` to silence this warning and adopt the future behaviour.\n",
      "  warn(\n"
     ]
    },
    {
     "name": "stdout",
     "output_type": "stream",
     "text": [
      "TRAIN: acc: 0.803, precision: 0.284, recall: 1.000, spec: 0.786\n",
      "TEST: acc: 0.813, precision: 0.250, recall: 0.733, spec: 0.820\n",
      "func:'rf_models'  took: 1.6422 sec\n",
      "\n",
      "NEK5_binding_MOE_none_scaled_RF_fold3\n",
      "TRAIN: acc: 1.000, precision: 1.000, recall: 1.000, spec: 1.000\n",
      "TEST: acc: 0.879, precision: 0.250, recall: 0.250, spec: 0.934\n",
      "func:'rf_models'  took: 12.4029 sec\n",
      "\n",
      "NEK5_binding_MOE_none_scaled_RF_BCW_fold3\n",
      "TRAIN: acc: 1.000, precision: 1.000, recall: 1.000, spec: 1.000\n",
      "TEST: acc: 0.894, precision: 0.333, recall: 0.312, spec: 0.945\n",
      "func:'rf_models'  took: 5.2421 sec\n",
      "\n",
      "NEK5_binding_MOE_none_scaled_BRFC_fold3\n"
     ]
    },
    {
     "name": "stderr",
     "output_type": "stream",
     "text": [
      "/Users/jayceepang/miniconda3/envs/atom2024/lib/python3.9/site-packages/imblearn/ensemble/_forest.py:577: FutureWarning: The default of `sampling_strategy` will change from `'auto'` to `'all'` in version 0.13. This change will follow the implementation proposed in the original paper. Set to `'all'` to silence this warning and adopt the future behaviour.\n",
      "  warn(\n",
      "/Users/jayceepang/miniconda3/envs/atom2024/lib/python3.9/site-packages/imblearn/ensemble/_forest.py:589: FutureWarning: The default of `replacement` will change from `False` to `True` in version 0.13. This change will follow the implementation proposed in the original paper. Set to `True` to silence this warning and adopt the future behaviour.\n",
      "  warn(\n"
     ]
    },
    {
     "name": "stdout",
     "output_type": "stream",
     "text": [
      "TRAIN: acc: 0.812, precision: 0.290, recall: 1.000, spec: 0.796\n",
      "TEST: acc: 0.768, precision: 0.200, recall: 0.625, spec: 0.780\n",
      "func:'rf_models'  took: 0.6629 sec\n",
      "\n",
      "NEK5_binding_MOE_none_scaled_BRFC_BCW_fold3\n"
     ]
    },
    {
     "name": "stderr",
     "output_type": "stream",
     "text": [
      "/Users/jayceepang/miniconda3/envs/atom2024/lib/python3.9/site-packages/imblearn/ensemble/_forest.py:577: FutureWarning: The default of `sampling_strategy` will change from `'auto'` to `'all'` in version 0.13. This change will follow the implementation proposed in the original paper. Set to `'all'` to silence this warning and adopt the future behaviour.\n",
      "  warn(\n",
      "/Users/jayceepang/miniconda3/envs/atom2024/lib/python3.9/site-packages/imblearn/ensemble/_forest.py:589: FutureWarning: The default of `replacement` will change from `False` to `True` in version 0.13. This change will follow the implementation proposed in the original paper. Set to `True` to silence this warning and adopt the future behaviour.\n",
      "  warn(\n"
     ]
    },
    {
     "name": "stdout",
     "output_type": "stream",
     "text": [
      "TRAIN: acc: 0.790, precision: 0.269, recall: 1.000, spec: 0.773\n",
      "TEST: acc: 0.712, precision: 0.185, recall: 0.750, spec: 0.709\n",
      "func:'rf_models'  took: 1.5649 sec\n",
      "\n",
      "NEK5_binding_MOE_none_scaled_RF_fold4\n",
      "TRAIN: acc: 1.000, precision: 1.000, recall: 1.000, spec: 1.000\n",
      "TEST: acc: 0.899, precision: 0.409, recall: 0.562, spec: 0.929\n",
      "func:'rf_models'  took: 10.8928 sec\n",
      "\n",
      "NEK5_binding_MOE_none_scaled_RF_BCW_fold4\n",
      "TRAIN: acc: 1.000, precision: 1.000, recall: 1.000, spec: 1.000\n",
      "TEST: acc: 0.869, precision: 0.250, recall: 0.312, spec: 0.918\n",
      "func:'rf_models'  took: 4.6746 sec\n",
      "\n",
      "NEK5_binding_MOE_none_scaled_BRFC_fold4\n"
     ]
    },
    {
     "name": "stderr",
     "output_type": "stream",
     "text": [
      "/Users/jayceepang/miniconda3/envs/atom2024/lib/python3.9/site-packages/imblearn/ensemble/_forest.py:577: FutureWarning: The default of `sampling_strategy` will change from `'auto'` to `'all'` in version 0.13. This change will follow the implementation proposed in the original paper. Set to `'all'` to silence this warning and adopt the future behaviour.\n",
      "  warn(\n",
      "/Users/jayceepang/miniconda3/envs/atom2024/lib/python3.9/site-packages/imblearn/ensemble/_forest.py:589: FutureWarning: The default of `replacement` will change from `False` to `True` in version 0.13. This change will follow the implementation proposed in the original paper. Set to `True` to silence this warning and adopt the future behaviour.\n",
      "  warn(\n"
     ]
    },
    {
     "name": "stdout",
     "output_type": "stream",
     "text": [
      "TRAIN: acc: 0.828, precision: 0.310, recall: 1.000, spec: 0.814\n",
      "TEST: acc: 0.763, precision: 0.228, recall: 0.812, spec: 0.758\n",
      "func:'rf_models'  took: 0.6762 sec\n",
      "\n",
      "NEK5_binding_MOE_none_scaled_BRFC_BCW_fold4\n"
     ]
    },
    {
     "name": "stderr",
     "output_type": "stream",
     "text": [
      "/Users/jayceepang/miniconda3/envs/atom2024/lib/python3.9/site-packages/imblearn/ensemble/_forest.py:577: FutureWarning: The default of `sampling_strategy` will change from `'auto'` to `'all'` in version 0.13. This change will follow the implementation proposed in the original paper. Set to `'all'` to silence this warning and adopt the future behaviour.\n",
      "  warn(\n",
      "/Users/jayceepang/miniconda3/envs/atom2024/lib/python3.9/site-packages/imblearn/ensemble/_forest.py:589: FutureWarning: The default of `replacement` will change from `False` to `True` in version 0.13. This change will follow the implementation proposed in the original paper. Set to `True` to silence this warning and adopt the future behaviour.\n",
      "  warn(\n"
     ]
    },
    {
     "name": "stdout",
     "output_type": "stream",
     "text": [
      "TRAIN: acc: 0.804, precision: 0.282, recall: 1.000, spec: 0.788\n",
      "TEST: acc: 0.717, precision: 0.177, recall: 0.688, spec: 0.720\n",
      "func:'rf_models'  took: 1.5542 sec\n",
      "\n",
      "NEK5_binding_MOE_none_scaled_RF_fold5\n",
      "TRAIN: acc: 1.000, precision: 1.000, recall: 1.000, spec: 1.000\n",
      "TEST: acc: 0.883, precision: 0.250, recall: 0.267, spec: 0.934\n",
      "func:'rf_models'  took: 8.9578 sec\n",
      "\n",
      "NEK5_binding_MOE_none_scaled_RF_BCW_fold5\n",
      "TRAIN: acc: 1.000, precision: 1.000, recall: 1.000, spec: 1.000\n",
      "TEST: acc: 0.904, precision: 0.333, recall: 0.267, spec: 0.956\n",
      "func:'rf_models'  took: 6.4657 sec\n",
      "\n",
      "NEK5_binding_MOE_none_scaled_BRFC_fold5\n"
     ]
    },
    {
     "name": "stderr",
     "output_type": "stream",
     "text": [
      "/Users/jayceepang/miniconda3/envs/atom2024/lib/python3.9/site-packages/imblearn/ensemble/_forest.py:577: FutureWarning: The default of `sampling_strategy` will change from `'auto'` to `'all'` in version 0.13. This change will follow the implementation proposed in the original paper. Set to `'all'` to silence this warning and adopt the future behaviour.\n",
      "  warn(\n",
      "/Users/jayceepang/miniconda3/envs/atom2024/lib/python3.9/site-packages/imblearn/ensemble/_forest.py:589: FutureWarning: The default of `replacement` will change from `False` to `True` in version 0.13. This change will follow the implementation proposed in the original paper. Set to `True` to silence this warning and adopt the future behaviour.\n",
      "  warn(\n"
     ]
    },
    {
     "name": "stdout",
     "output_type": "stream",
     "text": [
      "TRAIN: acc: 0.835, precision: 0.321, recall: 1.000, spec: 0.821\n",
      "TEST: acc: 0.772, precision: 0.188, recall: 0.600, spec: 0.786\n",
      "func:'rf_models'  took: 0.6542 sec\n",
      "\n",
      "NEK5_binding_MOE_none_scaled_BRFC_BCW_fold5\n"
     ]
    },
    {
     "name": "stderr",
     "output_type": "stream",
     "text": [
      "/Users/jayceepang/miniconda3/envs/atom2024/lib/python3.9/site-packages/imblearn/ensemble/_forest.py:577: FutureWarning: The default of `sampling_strategy` will change from `'auto'` to `'all'` in version 0.13. This change will follow the implementation proposed in the original paper. Set to `'all'` to silence this warning and adopt the future behaviour.\n",
      "  warn(\n",
      "/Users/jayceepang/miniconda3/envs/atom2024/lib/python3.9/site-packages/imblearn/ensemble/_forest.py:589: FutureWarning: The default of `replacement` will change from `False` to `True` in version 0.13. This change will follow the implementation proposed in the original paper. Set to `True` to silence this warning and adopt the future behaviour.\n",
      "  warn(\n"
     ]
    },
    {
     "name": "stdout",
     "output_type": "stream",
     "text": [
      "TRAIN: acc: 0.817, precision: 0.300, recall: 1.000, spec: 0.801\n",
      "TEST: acc: 0.782, precision: 0.167, recall: 0.467, spec: 0.808\n",
      "func:'rf_models'  took: 1.4048 sec\n",
      "\n",
      "NEK5_binding_MOE_UNDER_RF_fold1\n",
      "TRAIN: acc: 1.000, precision: 1.000, recall: 1.000, spec: 1.000\n",
      "TEST: acc: 0.548, precision: 0.533, recall: 0.533, spec: 0.562\n",
      "func:'rf_models'  took: 0.5556 sec\n",
      "\n",
      "NEK5_binding_MOE_UNDER_RF_BCW_fold1\n",
      "TRAIN: acc: 1.000, precision: 1.000, recall: 1.000, spec: 1.000\n",
      "TEST: acc: 0.581, precision: 0.571, recall: 0.533, spec: 0.625\n",
      "func:'rf_models'  took: 0.6364 sec\n",
      "\n",
      "NEK5_binding_MOE_UNDER_BRFC_fold1\n"
     ]
    },
    {
     "name": "stderr",
     "output_type": "stream",
     "text": [
      "/Users/jayceepang/miniconda3/envs/atom2024/lib/python3.9/site-packages/imblearn/ensemble/_forest.py:577: FutureWarning: The default of `sampling_strategy` will change from `'auto'` to `'all'` in version 0.13. This change will follow the implementation proposed in the original paper. Set to `'all'` to silence this warning and adopt the future behaviour.\n",
      "  warn(\n",
      "/Users/jayceepang/miniconda3/envs/atom2024/lib/python3.9/site-packages/imblearn/ensemble/_forest.py:589: FutureWarning: The default of `replacement` will change from `False` to `True` in version 0.13. This change will follow the implementation proposed in the original paper. Set to `True` to silence this warning and adopt the future behaviour.\n",
      "  warn(\n"
     ]
    },
    {
     "name": "stdout",
     "output_type": "stream",
     "text": [
      "TRAIN: acc: 1.000, precision: 1.000, recall: 1.000, spec: 1.000\n",
      "TEST: acc: 0.581, precision: 0.571, recall: 0.533, spec: 0.625\n",
      "func:'rf_models'  took: 0.6102 sec\n",
      "\n",
      "NEK5_binding_MOE_UNDER_BRFC_BCW_fold1\n"
     ]
    },
    {
     "name": "stderr",
     "output_type": "stream",
     "text": [
      "/Users/jayceepang/miniconda3/envs/atom2024/lib/python3.9/site-packages/imblearn/ensemble/_forest.py:577: FutureWarning: The default of `sampling_strategy` will change from `'auto'` to `'all'` in version 0.13. This change will follow the implementation proposed in the original paper. Set to `'all'` to silence this warning and adopt the future behaviour.\n",
      "  warn(\n",
      "/Users/jayceepang/miniconda3/envs/atom2024/lib/python3.9/site-packages/imblearn/ensemble/_forest.py:589: FutureWarning: The default of `replacement` will change from `False` to `True` in version 0.13. This change will follow the implementation proposed in the original paper. Set to `True` to silence this warning and adopt the future behaviour.\n",
      "  warn(\n"
     ]
    },
    {
     "name": "stdout",
     "output_type": "stream",
     "text": [
      "TRAIN: acc: 1.000, precision: 1.000, recall: 1.000, spec: 1.000\n",
      "TEST: acc: 0.613, precision: 0.600, recall: 0.600, spec: 0.625\n",
      "func:'rf_models'  took: 0.6491 sec\n",
      "\n",
      "NEK5_binding_MOE_UNDER_RF_fold2\n",
      "TRAIN: acc: 1.000, precision: 1.000, recall: 1.000, spec: 1.000\n",
      "TEST: acc: 0.677, precision: 0.647, recall: 0.733, spec: 0.625\n",
      "func:'rf_models'  took: 0.5961 sec\n",
      "\n",
      "NEK5_binding_MOE_UNDER_RF_BCW_fold2\n",
      "TRAIN: acc: 1.000, precision: 1.000, recall: 1.000, spec: 1.000\n",
      "TEST: acc: 0.710, precision: 0.667, recall: 0.800, spec: 0.625\n",
      "func:'rf_models'  took: 0.6423 sec\n",
      "\n",
      "NEK5_binding_MOE_UNDER_BRFC_fold2\n"
     ]
    },
    {
     "name": "stderr",
     "output_type": "stream",
     "text": [
      "/Users/jayceepang/miniconda3/envs/atom2024/lib/python3.9/site-packages/imblearn/ensemble/_forest.py:577: FutureWarning: The default of `sampling_strategy` will change from `'auto'` to `'all'` in version 0.13. This change will follow the implementation proposed in the original paper. Set to `'all'` to silence this warning and adopt the future behaviour.\n",
      "  warn(\n",
      "/Users/jayceepang/miniconda3/envs/atom2024/lib/python3.9/site-packages/imblearn/ensemble/_forest.py:589: FutureWarning: The default of `replacement` will change from `False` to `True` in version 0.13. This change will follow the implementation proposed in the original paper. Set to `True` to silence this warning and adopt the future behaviour.\n",
      "  warn(\n"
     ]
    },
    {
     "name": "stdout",
     "output_type": "stream",
     "text": [
      "TRAIN: acc: 1.000, precision: 1.000, recall: 1.000, spec: 1.000\n",
      "TEST: acc: 0.710, precision: 0.667, recall: 0.800, spec: 0.625\n",
      "func:'rf_models'  took: 0.6186 sec\n",
      "\n",
      "NEK5_binding_MOE_UNDER_BRFC_BCW_fold2\n"
     ]
    },
    {
     "name": "stderr",
     "output_type": "stream",
     "text": [
      "/Users/jayceepang/miniconda3/envs/atom2024/lib/python3.9/site-packages/imblearn/ensemble/_forest.py:577: FutureWarning: The default of `sampling_strategy` will change from `'auto'` to `'all'` in version 0.13. This change will follow the implementation proposed in the original paper. Set to `'all'` to silence this warning and adopt the future behaviour.\n",
      "  warn(\n",
      "/Users/jayceepang/miniconda3/envs/atom2024/lib/python3.9/site-packages/imblearn/ensemble/_forest.py:589: FutureWarning: The default of `replacement` will change from `False` to `True` in version 0.13. This change will follow the implementation proposed in the original paper. Set to `True` to silence this warning and adopt the future behaviour.\n",
      "  warn(\n"
     ]
    },
    {
     "name": "stdout",
     "output_type": "stream",
     "text": [
      "TRAIN: acc: 1.000, precision: 1.000, recall: 1.000, spec: 1.000\n",
      "TEST: acc: 0.710, precision: 0.667, recall: 0.800, spec: 0.625\n",
      "func:'rf_models'  took: 0.6691 sec\n",
      "\n",
      "NEK5_binding_MOE_UNDER_RF_fold3\n",
      "TRAIN: acc: 1.000, precision: 1.000, recall: 1.000, spec: 1.000\n",
      "TEST: acc: 0.871, precision: 0.875, recall: 0.875, spec: 0.867\n",
      "func:'rf_models'  took: 0.6192 sec\n",
      "\n",
      "NEK5_binding_MOE_UNDER_RF_BCW_fold3\n",
      "TRAIN: acc: 1.000, precision: 1.000, recall: 1.000, spec: 1.000\n",
      "TEST: acc: 0.839, precision: 0.867, recall: 0.812, spec: 0.867\n",
      "func:'rf_models'  took: 0.6229 sec\n",
      "\n",
      "NEK5_binding_MOE_UNDER_BRFC_fold3\n"
     ]
    },
    {
     "name": "stderr",
     "output_type": "stream",
     "text": [
      "/Users/jayceepang/miniconda3/envs/atom2024/lib/python3.9/site-packages/imblearn/ensemble/_forest.py:577: FutureWarning: The default of `sampling_strategy` will change from `'auto'` to `'all'` in version 0.13. This change will follow the implementation proposed in the original paper. Set to `'all'` to silence this warning and adopt the future behaviour.\n",
      "  warn(\n",
      "/Users/jayceepang/miniconda3/envs/atom2024/lib/python3.9/site-packages/imblearn/ensemble/_forest.py:589: FutureWarning: The default of `replacement` will change from `False` to `True` in version 0.13. This change will follow the implementation proposed in the original paper. Set to `True` to silence this warning and adopt the future behaviour.\n",
      "  warn(\n"
     ]
    },
    {
     "name": "stdout",
     "output_type": "stream",
     "text": [
      "TRAIN: acc: 1.000, precision: 1.000, recall: 1.000, spec: 1.000\n",
      "TEST: acc: 0.903, precision: 0.842, recall: 1.000, spec: 0.800\n",
      "func:'rf_models'  took: 0.6323 sec\n",
      "\n",
      "NEK5_binding_MOE_UNDER_BRFC_BCW_fold3\n"
     ]
    },
    {
     "name": "stderr",
     "output_type": "stream",
     "text": [
      "/Users/jayceepang/miniconda3/envs/atom2024/lib/python3.9/site-packages/imblearn/ensemble/_forest.py:577: FutureWarning: The default of `sampling_strategy` will change from `'auto'` to `'all'` in version 0.13. This change will follow the implementation proposed in the original paper. Set to `'all'` to silence this warning and adopt the future behaviour.\n",
      "  warn(\n",
      "/Users/jayceepang/miniconda3/envs/atom2024/lib/python3.9/site-packages/imblearn/ensemble/_forest.py:589: FutureWarning: The default of `replacement` will change from `False` to `True` in version 0.13. This change will follow the implementation proposed in the original paper. Set to `True` to silence this warning and adopt the future behaviour.\n",
      "  warn(\n"
     ]
    },
    {
     "name": "stdout",
     "output_type": "stream",
     "text": [
      "TRAIN: acc: 1.000, precision: 1.000, recall: 1.000, spec: 1.000\n",
      "TEST: acc: 0.839, precision: 0.867, recall: 0.812, spec: 0.867\n",
      "func:'rf_models'  took: 0.6551 sec\n",
      "\n",
      "NEK5_binding_MOE_UNDER_RF_fold4\n",
      "TRAIN: acc: 1.000, precision: 1.000, recall: 1.000, spec: 1.000\n",
      "TEST: acc: 0.774, precision: 0.909, recall: 0.625, spec: 0.933\n",
      "func:'rf_models'  took: 0.5707 sec\n",
      "\n",
      "NEK5_binding_MOE_UNDER_RF_BCW_fold4\n",
      "TRAIN: acc: 1.000, precision: 1.000, recall: 1.000, spec: 1.000\n",
      "TEST: acc: 0.806, precision: 0.917, recall: 0.688, spec: 0.933\n",
      "func:'rf_models'  took: 0.5919 sec\n",
      "\n",
      "NEK5_binding_MOE_UNDER_BRFC_fold4\n"
     ]
    },
    {
     "name": "stderr",
     "output_type": "stream",
     "text": [
      "/Users/jayceepang/miniconda3/envs/atom2024/lib/python3.9/site-packages/imblearn/ensemble/_forest.py:577: FutureWarning: The default of `sampling_strategy` will change from `'auto'` to `'all'` in version 0.13. This change will follow the implementation proposed in the original paper. Set to `'all'` to silence this warning and adopt the future behaviour.\n",
      "  warn(\n",
      "/Users/jayceepang/miniconda3/envs/atom2024/lib/python3.9/site-packages/imblearn/ensemble/_forest.py:589: FutureWarning: The default of `replacement` will change from `False` to `True` in version 0.13. This change will follow the implementation proposed in the original paper. Set to `True` to silence this warning and adopt the future behaviour.\n",
      "  warn(\n"
     ]
    },
    {
     "name": "stdout",
     "output_type": "stream",
     "text": [
      "TRAIN: acc: 1.000, precision: 1.000, recall: 1.000, spec: 1.000\n",
      "TEST: acc: 0.806, precision: 0.917, recall: 0.688, spec: 0.933\n",
      "func:'rf_models'  took: 0.5978 sec\n",
      "\n",
      "NEK5_binding_MOE_UNDER_BRFC_BCW_fold4\n"
     ]
    },
    {
     "name": "stderr",
     "output_type": "stream",
     "text": [
      "/Users/jayceepang/miniconda3/envs/atom2024/lib/python3.9/site-packages/imblearn/ensemble/_forest.py:577: FutureWarning: The default of `sampling_strategy` will change from `'auto'` to `'all'` in version 0.13. This change will follow the implementation proposed in the original paper. Set to `'all'` to silence this warning and adopt the future behaviour.\n",
      "  warn(\n",
      "/Users/jayceepang/miniconda3/envs/atom2024/lib/python3.9/site-packages/imblearn/ensemble/_forest.py:589: FutureWarning: The default of `replacement` will change from `False` to `True` in version 0.13. This change will follow the implementation proposed in the original paper. Set to `True` to silence this warning and adopt the future behaviour.\n",
      "  warn(\n"
     ]
    },
    {
     "name": "stdout",
     "output_type": "stream",
     "text": [
      "TRAIN: acc: 1.000, precision: 1.000, recall: 1.000, spec: 1.000\n",
      "TEST: acc: 0.806, precision: 0.917, recall: 0.688, spec: 0.933\n",
      "func:'rf_models'  took: 0.6394 sec\n",
      "\n",
      "NEK5_binding_MOE_UNDER_RF_fold5\n",
      "TRAIN: acc: 1.000, precision: 1.000, recall: 1.000, spec: 1.000\n",
      "TEST: acc: 0.600, precision: 0.615, recall: 0.533, spec: 0.667\n",
      "func:'rf_models'  took: 0.5370 sec\n",
      "\n",
      "NEK5_binding_MOE_UNDER_RF_BCW_fold5\n",
      "TRAIN: acc: 1.000, precision: 1.000, recall: 1.000, spec: 1.000\n",
      "TEST: acc: 0.600, precision: 0.615, recall: 0.533, spec: 0.667\n",
      "func:'rf_models'  took: 0.5441 sec\n",
      "\n",
      "NEK5_binding_MOE_UNDER_BRFC_fold5\n"
     ]
    },
    {
     "name": "stderr",
     "output_type": "stream",
     "text": [
      "/Users/jayceepang/miniconda3/envs/atom2024/lib/python3.9/site-packages/imblearn/ensemble/_forest.py:577: FutureWarning: The default of `sampling_strategy` will change from `'auto'` to `'all'` in version 0.13. This change will follow the implementation proposed in the original paper. Set to `'all'` to silence this warning and adopt the future behaviour.\n",
      "  warn(\n",
      "/Users/jayceepang/miniconda3/envs/atom2024/lib/python3.9/site-packages/imblearn/ensemble/_forest.py:589: FutureWarning: The default of `replacement` will change from `False` to `True` in version 0.13. This change will follow the implementation proposed in the original paper. Set to `True` to silence this warning and adopt the future behaviour.\n",
      "  warn(\n"
     ]
    },
    {
     "name": "stdout",
     "output_type": "stream",
     "text": [
      "TRAIN: acc: 1.000, precision: 1.000, recall: 1.000, spec: 1.000\n",
      "TEST: acc: 0.600, precision: 0.615, recall: 0.533, spec: 0.667\n",
      "func:'rf_models'  took: 0.5531 sec\n",
      "\n",
      "NEK5_binding_MOE_UNDER_BRFC_BCW_fold5\n"
     ]
    },
    {
     "name": "stderr",
     "output_type": "stream",
     "text": [
      "/Users/jayceepang/miniconda3/envs/atom2024/lib/python3.9/site-packages/imblearn/ensemble/_forest.py:577: FutureWarning: The default of `sampling_strategy` will change from `'auto'` to `'all'` in version 0.13. This change will follow the implementation proposed in the original paper. Set to `'all'` to silence this warning and adopt the future behaviour.\n",
      "  warn(\n",
      "/Users/jayceepang/miniconda3/envs/atom2024/lib/python3.9/site-packages/imblearn/ensemble/_forest.py:589: FutureWarning: The default of `replacement` will change from `False` to `True` in version 0.13. This change will follow the implementation proposed in the original paper. Set to `True` to silence this warning and adopt the future behaviour.\n",
      "  warn(\n"
     ]
    },
    {
     "name": "stdout",
     "output_type": "stream",
     "text": [
      "TRAIN: acc: 1.000, precision: 1.000, recall: 1.000, spec: 1.000\n",
      "TEST: acc: 0.600, precision: 0.615, recall: 0.533, spec: 0.667\n",
      "func:'rf_models'  took: 0.5684 sec\n",
      "\n",
      "NEK5_binding_MOE_SMOTE_RF_fold1\n",
      "TRAIN: acc: 1.000, precision: 1.000, recall: 1.000, spec: 1.000\n",
      "TEST: acc: 0.923, precision: 0.889, recall: 0.967, spec: 0.880\n",
      "func:'rf_models'  took: 28.6957 sec\n",
      "\n",
      "NEK5_binding_MOE_SMOTE_RF_BCW_fold1\n",
      "TRAIN: acc: 1.000, precision: 1.000, recall: 1.000, spec: 1.000\n",
      "TEST: acc: 0.918, precision: 0.880, recall: 0.967, spec: 0.869\n",
      "func:'rf_models'  took: 30.2583 sec\n",
      "\n",
      "NEK5_binding_MOE_SMOTE_BRFC_fold1\n"
     ]
    },
    {
     "name": "stderr",
     "output_type": "stream",
     "text": [
      "/Users/jayceepang/miniconda3/envs/atom2024/lib/python3.9/site-packages/imblearn/ensemble/_forest.py:577: FutureWarning: The default of `sampling_strategy` will change from `'auto'` to `'all'` in version 0.13. This change will follow the implementation proposed in the original paper. Set to `'all'` to silence this warning and adopt the future behaviour.\n",
      "  warn(\n",
      "/Users/jayceepang/miniconda3/envs/atom2024/lib/python3.9/site-packages/imblearn/ensemble/_forest.py:589: FutureWarning: The default of `replacement` will change from `False` to `True` in version 0.13. This change will follow the implementation proposed in the original paper. Set to `True` to silence this warning and adopt the future behaviour.\n",
      "  warn(\n"
     ]
    },
    {
     "name": "stdout",
     "output_type": "stream",
     "text": [
      "TRAIN: acc: 1.000, precision: 1.000, recall: 1.000, spec: 1.000\n",
      "TEST: acc: 0.923, precision: 0.889, recall: 0.967, spec: 0.880\n",
      "func:'rf_models'  took: 28.7223 sec\n",
      "\n",
      "NEK5_binding_MOE_SMOTE_BRFC_BCW_fold1\n"
     ]
    },
    {
     "name": "stderr",
     "output_type": "stream",
     "text": [
      "/Users/jayceepang/miniconda3/envs/atom2024/lib/python3.9/site-packages/imblearn/ensemble/_forest.py:577: FutureWarning: The default of `sampling_strategy` will change from `'auto'` to `'all'` in version 0.13. This change will follow the implementation proposed in the original paper. Set to `'all'` to silence this warning and adopt the future behaviour.\n",
      "  warn(\n",
      "/Users/jayceepang/miniconda3/envs/atom2024/lib/python3.9/site-packages/imblearn/ensemble/_forest.py:589: FutureWarning: The default of `replacement` will change from `False` to `True` in version 0.13. This change will follow the implementation proposed in the original paper. Set to `True` to silence this warning and adopt the future behaviour.\n",
      "  warn(\n"
     ]
    },
    {
     "name": "stdout",
     "output_type": "stream",
     "text": [
      "TRAIN: acc: 1.000, precision: 1.000, recall: 1.000, spec: 1.000\n",
      "TEST: acc: 0.926, precision: 0.893, recall: 0.967, spec: 0.885\n",
      "func:'rf_models'  took: 30.1562 sec\n",
      "\n",
      "NEK5_binding_MOE_SMOTE_RF_fold2\n",
      "TRAIN: acc: 1.000, precision: 1.000, recall: 1.000, spec: 1.000\n",
      "TEST: acc: 0.915, precision: 0.904, recall: 0.929, spec: 0.902\n",
      "func:'rf_models'  took: 24.6239 sec\n",
      "\n",
      "NEK5_binding_MOE_SMOTE_RF_BCW_fold2\n",
      "TRAIN: acc: 1.000, precision: 1.000, recall: 1.000, spec: 1.000\n",
      "TEST: acc: 0.915, precision: 0.913, recall: 0.918, spec: 0.913\n",
      "func:'rf_models'  took: 25.1307 sec\n",
      "\n",
      "NEK5_binding_MOE_SMOTE_BRFC_fold2\n"
     ]
    },
    {
     "name": "stderr",
     "output_type": "stream",
     "text": [
      "/Users/jayceepang/miniconda3/envs/atom2024/lib/python3.9/site-packages/imblearn/ensemble/_forest.py:577: FutureWarning: The default of `sampling_strategy` will change from `'auto'` to `'all'` in version 0.13. This change will follow the implementation proposed in the original paper. Set to `'all'` to silence this warning and adopt the future behaviour.\n",
      "  warn(\n",
      "/Users/jayceepang/miniconda3/envs/atom2024/lib/python3.9/site-packages/imblearn/ensemble/_forest.py:589: FutureWarning: The default of `replacement` will change from `False` to `True` in version 0.13. This change will follow the implementation proposed in the original paper. Set to `True` to silence this warning and adopt the future behaviour.\n",
      "  warn(\n"
     ]
    },
    {
     "name": "stdout",
     "output_type": "stream",
     "text": [
      "TRAIN: acc: 1.000, precision: 1.000, recall: 1.000, spec: 1.000\n",
      "TEST: acc: 0.923, precision: 0.914, recall: 0.934, spec: 0.913\n",
      "func:'rf_models'  took: 24.7649 sec\n",
      "\n",
      "NEK5_binding_MOE_SMOTE_BRFC_BCW_fold2\n"
     ]
    },
    {
     "name": "stderr",
     "output_type": "stream",
     "text": [
      "/Users/jayceepang/miniconda3/envs/atom2024/lib/python3.9/site-packages/imblearn/ensemble/_forest.py:577: FutureWarning: The default of `sampling_strategy` will change from `'auto'` to `'all'` in version 0.13. This change will follow the implementation proposed in the original paper. Set to `'all'` to silence this warning and adopt the future behaviour.\n",
      "  warn(\n",
      "/Users/jayceepang/miniconda3/envs/atom2024/lib/python3.9/site-packages/imblearn/ensemble/_forest.py:589: FutureWarning: The default of `replacement` will change from `False` to `True` in version 0.13. This change will follow the implementation proposed in the original paper. Set to `True` to silence this warning and adopt the future behaviour.\n",
      "  warn(\n"
     ]
    },
    {
     "name": "stdout",
     "output_type": "stream",
     "text": [
      "TRAIN: acc: 1.000, precision: 1.000, recall: 1.000, spec: 1.000\n",
      "TEST: acc: 0.915, precision: 0.913, recall: 0.918, spec: 0.913\n",
      "func:'rf_models'  took: 25.2581 sec\n",
      "\n",
      "NEK5_binding_MOE_SMOTE_RF_fold3\n",
      "TRAIN: acc: 1.000, precision: 1.000, recall: 1.000, spec: 1.000\n",
      "TEST: acc: 0.934, precision: 0.912, recall: 0.962, spec: 0.907\n",
      "func:'rf_models'  took: 17.6027 sec\n",
      "\n",
      "NEK5_binding_MOE_SMOTE_RF_BCW_fold3\n",
      "TRAIN: acc: 1.000, precision: 1.000, recall: 1.000, spec: 1.000\n",
      "TEST: acc: 0.923, precision: 0.893, recall: 0.962, spec: 0.885\n",
      "func:'rf_models'  took: 17.8581 sec\n",
      "\n",
      "NEK5_binding_MOE_SMOTE_BRFC_fold3\n"
     ]
    },
    {
     "name": "stderr",
     "output_type": "stream",
     "text": [
      "/Users/jayceepang/miniconda3/envs/atom2024/lib/python3.9/site-packages/imblearn/ensemble/_forest.py:577: FutureWarning: The default of `sampling_strategy` will change from `'auto'` to `'all'` in version 0.13. This change will follow the implementation proposed in the original paper. Set to `'all'` to silence this warning and adopt the future behaviour.\n",
      "  warn(\n",
      "/Users/jayceepang/miniconda3/envs/atom2024/lib/python3.9/site-packages/imblearn/ensemble/_forest.py:589: FutureWarning: The default of `replacement` will change from `False` to `True` in version 0.13. This change will follow the implementation proposed in the original paper. Set to `True` to silence this warning and adopt the future behaviour.\n",
      "  warn(\n"
     ]
    },
    {
     "name": "stdout",
     "output_type": "stream",
     "text": [
      "TRAIN: acc: 1.000, precision: 1.000, recall: 1.000, spec: 1.000\n",
      "TEST: acc: 0.932, precision: 0.907, recall: 0.962, spec: 0.901\n",
      "func:'rf_models'  took: 17.7049 sec\n",
      "\n",
      "NEK5_binding_MOE_SMOTE_BRFC_BCW_fold3\n"
     ]
    },
    {
     "name": "stderr",
     "output_type": "stream",
     "text": [
      "/Users/jayceepang/miniconda3/envs/atom2024/lib/python3.9/site-packages/imblearn/ensemble/_forest.py:577: FutureWarning: The default of `sampling_strategy` will change from `'auto'` to `'all'` in version 0.13. This change will follow the implementation proposed in the original paper. Set to `'all'` to silence this warning and adopt the future behaviour.\n",
      "  warn(\n",
      "/Users/jayceepang/miniconda3/envs/atom2024/lib/python3.9/site-packages/imblearn/ensemble/_forest.py:589: FutureWarning: The default of `replacement` will change from `False` to `True` in version 0.13. This change will follow the implementation proposed in the original paper. Set to `True` to silence this warning and adopt the future behaviour.\n",
      "  warn(\n"
     ]
    },
    {
     "name": "stdout",
     "output_type": "stream",
     "text": [
      "TRAIN: acc: 1.000, precision: 1.000, recall: 1.000, spec: 1.000\n",
      "TEST: acc: 0.926, precision: 0.898, recall: 0.962, spec: 0.890\n",
      "func:'rf_models'  took: 18.0566 sec\n",
      "\n",
      "NEK5_binding_MOE_SMOTE_RF_fold4\n",
      "TRAIN: acc: 1.000, precision: 1.000, recall: 1.000, spec: 1.000\n",
      "TEST: acc: 0.934, precision: 0.916, recall: 0.956, spec: 0.912\n",
      "func:'rf_models'  took: 24.9054 sec\n",
      "\n",
      "NEK5_binding_MOE_SMOTE_RF_BCW_fold4\n",
      "TRAIN: acc: 1.000, precision: 1.000, recall: 1.000, spec: 1.000\n",
      "TEST: acc: 0.942, precision: 0.926, recall: 0.962, spec: 0.923\n",
      "func:'rf_models'  took: 25.7021 sec\n",
      "\n",
      "NEK5_binding_MOE_SMOTE_BRFC_fold4\n"
     ]
    },
    {
     "name": "stderr",
     "output_type": "stream",
     "text": [
      "/Users/jayceepang/miniconda3/envs/atom2024/lib/python3.9/site-packages/imblearn/ensemble/_forest.py:577: FutureWarning: The default of `sampling_strategy` will change from `'auto'` to `'all'` in version 0.13. This change will follow the implementation proposed in the original paper. Set to `'all'` to silence this warning and adopt the future behaviour.\n",
      "  warn(\n",
      "/Users/jayceepang/miniconda3/envs/atom2024/lib/python3.9/site-packages/imblearn/ensemble/_forest.py:589: FutureWarning: The default of `replacement` will change from `False` to `True` in version 0.13. This change will follow the implementation proposed in the original paper. Set to `True` to silence this warning and adopt the future behaviour.\n",
      "  warn(\n"
     ]
    },
    {
     "name": "stdout",
     "output_type": "stream",
     "text": [
      "TRAIN: acc: 1.000, precision: 1.000, recall: 1.000, spec: 1.000\n",
      "TEST: acc: 0.934, precision: 0.921, recall: 0.951, spec: 0.918\n",
      "func:'rf_models'  took: 24.9915 sec\n",
      "\n",
      "NEK5_binding_MOE_SMOTE_BRFC_BCW_fold4\n"
     ]
    },
    {
     "name": "stderr",
     "output_type": "stream",
     "text": [
      "/Users/jayceepang/miniconda3/envs/atom2024/lib/python3.9/site-packages/imblearn/ensemble/_forest.py:577: FutureWarning: The default of `sampling_strategy` will change from `'auto'` to `'all'` in version 0.13. This change will follow the implementation proposed in the original paper. Set to `'all'` to silence this warning and adopt the future behaviour.\n",
      "  warn(\n",
      "/Users/jayceepang/miniconda3/envs/atom2024/lib/python3.9/site-packages/imblearn/ensemble/_forest.py:589: FutureWarning: The default of `replacement` will change from `False` to `True` in version 0.13. This change will follow the implementation proposed in the original paper. Set to `True` to silence this warning and adopt the future behaviour.\n",
      "  warn(\n"
     ]
    },
    {
     "name": "stdout",
     "output_type": "stream",
     "text": [
      "TRAIN: acc: 1.000, precision: 1.000, recall: 1.000, spec: 1.000\n",
      "TEST: acc: 0.940, precision: 0.921, recall: 0.962, spec: 0.918\n",
      "func:'rf_models'  took: 25.6897 sec\n",
      "\n",
      "NEK5_binding_MOE_SMOTE_RF_fold5\n",
      "TRAIN: acc: 1.000, precision: 1.000, recall: 1.000, spec: 1.000\n",
      "TEST: acc: 0.926, precision: 0.910, recall: 0.945, spec: 0.907\n",
      "func:'rf_models'  took: 19.3495 sec\n",
      "\n",
      "NEK5_binding_MOE_SMOTE_RF_BCW_fold5\n",
      "TRAIN: acc: 1.000, precision: 1.000, recall: 1.000, spec: 1.000\n",
      "TEST: acc: 0.923, precision: 0.905, recall: 0.945, spec: 0.901\n",
      "func:'rf_models'  took: 19.8003 sec\n",
      "\n",
      "NEK5_binding_MOE_SMOTE_BRFC_fold5\n"
     ]
    },
    {
     "name": "stderr",
     "output_type": "stream",
     "text": [
      "/Users/jayceepang/miniconda3/envs/atom2024/lib/python3.9/site-packages/imblearn/ensemble/_forest.py:577: FutureWarning: The default of `sampling_strategy` will change from `'auto'` to `'all'` in version 0.13. This change will follow the implementation proposed in the original paper. Set to `'all'` to silence this warning and adopt the future behaviour.\n",
      "  warn(\n",
      "/Users/jayceepang/miniconda3/envs/atom2024/lib/python3.9/site-packages/imblearn/ensemble/_forest.py:589: FutureWarning: The default of `replacement` will change from `False` to `True` in version 0.13. This change will follow the implementation proposed in the original paper. Set to `True` to silence this warning and adopt the future behaviour.\n",
      "  warn(\n"
     ]
    },
    {
     "name": "stdout",
     "output_type": "stream",
     "text": [
      "TRAIN: acc: 1.000, precision: 1.000, recall: 1.000, spec: 1.000\n",
      "TEST: acc: 0.926, precision: 0.910, recall: 0.945, spec: 0.907\n",
      "func:'rf_models'  took: 19.5061 sec\n",
      "\n",
      "NEK5_binding_MOE_SMOTE_BRFC_BCW_fold5\n"
     ]
    },
    {
     "name": "stderr",
     "output_type": "stream",
     "text": [
      "/Users/jayceepang/miniconda3/envs/atom2024/lib/python3.9/site-packages/imblearn/ensemble/_forest.py:577: FutureWarning: The default of `sampling_strategy` will change from `'auto'` to `'all'` in version 0.13. This change will follow the implementation proposed in the original paper. Set to `'all'` to silence this warning and adopt the future behaviour.\n",
      "  warn(\n",
      "/Users/jayceepang/miniconda3/envs/atom2024/lib/python3.9/site-packages/imblearn/ensemble/_forest.py:589: FutureWarning: The default of `replacement` will change from `False` to `True` in version 0.13. This change will follow the implementation proposed in the original paper. Set to `True` to silence this warning and adopt the future behaviour.\n",
      "  warn(\n"
     ]
    },
    {
     "name": "stdout",
     "output_type": "stream",
     "text": [
      "TRAIN: acc: 1.000, precision: 1.000, recall: 1.000, spec: 1.000\n",
      "TEST: acc: 0.920, precision: 0.909, recall: 0.934, spec: 0.907\n",
      "func:'rf_models'  took: 20.0006 sec\n",
      "\n",
      "NEK5_binding_MOE_ADASYN_RF_fold1\n",
      "TRAIN: acc: 1.000, precision: 1.000, recall: 1.000, spec: 1.000\n",
      "TEST: acc: 0.940, precision: 0.917, recall: 0.967, spec: 0.913\n",
      "func:'rf_models'  took: 28.6740 sec\n",
      "\n",
      "NEK5_binding_MOE_ADASYN_RF_BCW_fold1\n",
      "TRAIN: acc: 1.000, precision: 1.000, recall: 1.000, spec: 1.000\n",
      "TEST: acc: 0.934, precision: 0.908, recall: 0.967, spec: 0.902\n",
      "func:'rf_models'  took: 28.9186 sec\n",
      "\n",
      "NEK5_binding_MOE_ADASYN_BRFC_fold1\n"
     ]
    },
    {
     "name": "stderr",
     "output_type": "stream",
     "text": [
      "/Users/jayceepang/miniconda3/envs/atom2024/lib/python3.9/site-packages/imblearn/ensemble/_forest.py:577: FutureWarning: The default of `sampling_strategy` will change from `'auto'` to `'all'` in version 0.13. This change will follow the implementation proposed in the original paper. Set to `'all'` to silence this warning and adopt the future behaviour.\n",
      "  warn(\n",
      "/Users/jayceepang/miniconda3/envs/atom2024/lib/python3.9/site-packages/imblearn/ensemble/_forest.py:589: FutureWarning: The default of `replacement` will change from `False` to `True` in version 0.13. This change will follow the implementation proposed in the original paper. Set to `True` to silence this warning and adopt the future behaviour.\n",
      "  warn(\n"
     ]
    },
    {
     "name": "stdout",
     "output_type": "stream",
     "text": [
      "TRAIN: acc: 1.000, precision: 1.000, recall: 1.000, spec: 1.000\n",
      "TEST: acc: 0.940, precision: 0.921, recall: 0.962, spec: 0.918\n",
      "func:'rf_models'  took: 27.9507 sec\n",
      "\n",
      "NEK5_binding_MOE_ADASYN_BRFC_BCW_fold1\n"
     ]
    },
    {
     "name": "stderr",
     "output_type": "stream",
     "text": [
      "/Users/jayceepang/miniconda3/envs/atom2024/lib/python3.9/site-packages/imblearn/ensemble/_forest.py:577: FutureWarning: The default of `sampling_strategy` will change from `'auto'` to `'all'` in version 0.13. This change will follow the implementation proposed in the original paper. Set to `'all'` to silence this warning and adopt the future behaviour.\n",
      "  warn(\n",
      "/Users/jayceepang/miniconda3/envs/atom2024/lib/python3.9/site-packages/imblearn/ensemble/_forest.py:589: FutureWarning: The default of `replacement` will change from `False` to `True` in version 0.13. This change will follow the implementation proposed in the original paper. Set to `True` to silence this warning and adopt the future behaviour.\n",
      "  warn(\n"
     ]
    },
    {
     "name": "stdout",
     "output_type": "stream",
     "text": [
      "TRAIN: acc: 1.000, precision: 1.000, recall: 1.000, spec: 1.000\n",
      "TEST: acc: 0.937, precision: 0.912, recall: 0.967, spec: 0.907\n",
      "func:'rf_models'  took: 28.6906 sec\n",
      "\n",
      "NEK5_binding_MOE_ADASYN_RF_fold2\n",
      "TRAIN: acc: 1.000, precision: 1.000, recall: 1.000, spec: 1.000\n",
      "TEST: acc: 0.934, precision: 0.908, recall: 0.967, spec: 0.902\n",
      "func:'rf_models'  took: 27.5656 sec\n",
      "\n",
      "NEK5_binding_MOE_ADASYN_RF_BCW_fold2\n",
      "TRAIN: acc: 1.000, precision: 1.000, recall: 1.000, spec: 1.000\n",
      "TEST: acc: 0.943, precision: 0.918, recall: 0.973, spec: 0.913\n",
      "func:'rf_models'  took: 28.6474 sec\n",
      "\n",
      "NEK5_binding_MOE_ADASYN_BRFC_fold2\n"
     ]
    },
    {
     "name": "stderr",
     "output_type": "stream",
     "text": [
      "/Users/jayceepang/miniconda3/envs/atom2024/lib/python3.9/site-packages/imblearn/ensemble/_forest.py:577: FutureWarning: The default of `sampling_strategy` will change from `'auto'` to `'all'` in version 0.13. This change will follow the implementation proposed in the original paper. Set to `'all'` to silence this warning and adopt the future behaviour.\n",
      "  warn(\n",
      "/Users/jayceepang/miniconda3/envs/atom2024/lib/python3.9/site-packages/imblearn/ensemble/_forest.py:589: FutureWarning: The default of `replacement` will change from `False` to `True` in version 0.13. This change will follow the implementation proposed in the original paper. Set to `True` to silence this warning and adopt the future behaviour.\n",
      "  warn(\n"
     ]
    },
    {
     "name": "stdout",
     "output_type": "stream",
     "text": [
      "TRAIN: acc: 1.000, precision: 1.000, recall: 1.000, spec: 1.000\n",
      "TEST: acc: 0.929, precision: 0.911, recall: 0.951, spec: 0.907\n",
      "func:'rf_models'  took: 27.6611 sec\n",
      "\n",
      "NEK5_binding_MOE_ADASYN_BRFC_BCW_fold2\n"
     ]
    },
    {
     "name": "stderr",
     "output_type": "stream",
     "text": [
      "/Users/jayceepang/miniconda3/envs/atom2024/lib/python3.9/site-packages/imblearn/ensemble/_forest.py:577: FutureWarning: The default of `sampling_strategy` will change from `'auto'` to `'all'` in version 0.13. This change will follow the implementation proposed in the original paper. Set to `'all'` to silence this warning and adopt the future behaviour.\n",
      "  warn(\n",
      "/Users/jayceepang/miniconda3/envs/atom2024/lib/python3.9/site-packages/imblearn/ensemble/_forest.py:589: FutureWarning: The default of `replacement` will change from `False` to `True` in version 0.13. This change will follow the implementation proposed in the original paper. Set to `True` to silence this warning and adopt the future behaviour.\n",
      "  warn(\n"
     ]
    },
    {
     "name": "stdout",
     "output_type": "stream",
     "text": [
      "TRAIN: acc: 1.000, precision: 1.000, recall: 1.000, spec: 1.000\n",
      "TEST: acc: 0.937, precision: 0.908, recall: 0.973, spec: 0.902\n",
      "func:'rf_models'  took: 28.3530 sec\n",
      "\n",
      "NEK5_binding_MOE_ADASYN_RF_fold3\n",
      "TRAIN: acc: 1.000, precision: 1.000, recall: 1.000, spec: 1.000\n",
      "TEST: acc: 0.926, precision: 0.924, recall: 0.929, spec: 0.923\n",
      "func:'rf_models'  took: 27.0430 sec\n",
      "\n",
      "NEK5_binding_MOE_ADASYN_RF_BCW_fold3\n",
      "TRAIN: acc: 1.000, precision: 1.000, recall: 1.000, spec: 1.000\n",
      "TEST: acc: 0.932, precision: 0.934, recall: 0.929, spec: 0.934\n",
      "func:'rf_models'  took: 29.7845 sec\n",
      "\n",
      "NEK5_binding_MOE_ADASYN_BRFC_fold3\n"
     ]
    },
    {
     "name": "stderr",
     "output_type": "stream",
     "text": [
      "/Users/jayceepang/miniconda3/envs/atom2024/lib/python3.9/site-packages/imblearn/ensemble/_forest.py:577: FutureWarning: The default of `sampling_strategy` will change from `'auto'` to `'all'` in version 0.13. This change will follow the implementation proposed in the original paper. Set to `'all'` to silence this warning and adopt the future behaviour.\n",
      "  warn(\n",
      "/Users/jayceepang/miniconda3/envs/atom2024/lib/python3.9/site-packages/imblearn/ensemble/_forest.py:589: FutureWarning: The default of `replacement` will change from `False` to `True` in version 0.13. This change will follow the implementation proposed in the original paper. Set to `True` to silence this warning and adopt the future behaviour.\n",
      "  warn(\n"
     ]
    },
    {
     "name": "stdout",
     "output_type": "stream",
     "text": [
      "TRAIN: acc: 1.000, precision: 1.000, recall: 1.000, spec: 1.000\n",
      "TEST: acc: 0.932, precision: 0.929, recall: 0.934, spec: 0.929\n",
      "func:'rf_models'  took: 26.6603 sec\n",
      "\n",
      "NEK5_binding_MOE_ADASYN_BRFC_BCW_fold3\n"
     ]
    },
    {
     "name": "stderr",
     "output_type": "stream",
     "text": [
      "/Users/jayceepang/miniconda3/envs/atom2024/lib/python3.9/site-packages/imblearn/ensemble/_forest.py:577: FutureWarning: The default of `sampling_strategy` will change from `'auto'` to `'all'` in version 0.13. This change will follow the implementation proposed in the original paper. Set to `'all'` to silence this warning and adopt the future behaviour.\n",
      "  warn(\n",
      "/Users/jayceepang/miniconda3/envs/atom2024/lib/python3.9/site-packages/imblearn/ensemble/_forest.py:589: FutureWarning: The default of `replacement` will change from `False` to `True` in version 0.13. This change will follow the implementation proposed in the original paper. Set to `True` to silence this warning and adopt the future behaviour.\n",
      "  warn(\n"
     ]
    },
    {
     "name": "stdout",
     "output_type": "stream",
     "text": [
      "TRAIN: acc: 1.000, precision: 1.000, recall: 1.000, spec: 1.000\n",
      "TEST: acc: 0.926, precision: 0.924, recall: 0.929, spec: 0.923\n",
      "func:'rf_models'  took: 29.5349 sec\n",
      "\n",
      "NEK5_binding_MOE_ADASYN_RF_fold4\n",
      "TRAIN: acc: 1.000, precision: 1.000, recall: 1.000, spec: 1.000\n",
      "TEST: acc: 0.923, precision: 0.897, recall: 0.956, spec: 0.890\n",
      "func:'rf_models'  took: 28.3283 sec\n",
      "\n",
      "NEK5_binding_MOE_ADASYN_RF_BCW_fold4\n",
      "TRAIN: acc: 1.000, precision: 1.000, recall: 1.000, spec: 1.000\n",
      "TEST: acc: 0.934, precision: 0.916, recall: 0.956, spec: 0.912\n",
      "func:'rf_models'  took: 29.4299 sec\n",
      "\n",
      "NEK5_binding_MOE_ADASYN_BRFC_fold4\n"
     ]
    },
    {
     "name": "stderr",
     "output_type": "stream",
     "text": [
      "/Users/jayceepang/miniconda3/envs/atom2024/lib/python3.9/site-packages/imblearn/ensemble/_forest.py:577: FutureWarning: The default of `sampling_strategy` will change from `'auto'` to `'all'` in version 0.13. This change will follow the implementation proposed in the original paper. Set to `'all'` to silence this warning and adopt the future behaviour.\n",
      "  warn(\n",
      "/Users/jayceepang/miniconda3/envs/atom2024/lib/python3.9/site-packages/imblearn/ensemble/_forest.py:589: FutureWarning: The default of `replacement` will change from `False` to `True` in version 0.13. This change will follow the implementation proposed in the original paper. Set to `True` to silence this warning and adopt the future behaviour.\n",
      "  warn(\n"
     ]
    },
    {
     "name": "stdout",
     "output_type": "stream",
     "text": [
      "TRAIN: acc: 1.000, precision: 1.000, recall: 1.000, spec: 1.000\n",
      "TEST: acc: 0.937, precision: 0.908, recall: 0.973, spec: 0.901\n",
      "func:'rf_models'  took: 27.9913 sec\n",
      "\n",
      "NEK5_binding_MOE_ADASYN_BRFC_BCW_fold4\n"
     ]
    },
    {
     "name": "stderr",
     "output_type": "stream",
     "text": [
      "/Users/jayceepang/miniconda3/envs/atom2024/lib/python3.9/site-packages/imblearn/ensemble/_forest.py:577: FutureWarning: The default of `sampling_strategy` will change from `'auto'` to `'all'` in version 0.13. This change will follow the implementation proposed in the original paper. Set to `'all'` to silence this warning and adopt the future behaviour.\n",
      "  warn(\n",
      "/Users/jayceepang/miniconda3/envs/atom2024/lib/python3.9/site-packages/imblearn/ensemble/_forest.py:589: FutureWarning: The default of `replacement` will change from `False` to `True` in version 0.13. This change will follow the implementation proposed in the original paper. Set to `True` to silence this warning and adopt the future behaviour.\n",
      "  warn(\n"
     ]
    },
    {
     "name": "stdout",
     "output_type": "stream",
     "text": [
      "TRAIN: acc: 1.000, precision: 1.000, recall: 1.000, spec: 1.000\n",
      "TEST: acc: 0.934, precision: 0.921, recall: 0.951, spec: 0.918\n",
      "func:'rf_models'  took: 29.0818 sec\n",
      "\n",
      "NEK5_binding_MOE_ADASYN_RF_fold5\n",
      "TRAIN: acc: 1.000, precision: 1.000, recall: 1.000, spec: 1.000\n",
      "TEST: acc: 0.901, precision: 0.866, recall: 0.951, spec: 0.852\n",
      "func:'rf_models'  took: 25.5625 sec\n",
      "\n",
      "NEK5_binding_MOE_ADASYN_RF_BCW_fold5\n",
      "TRAIN: acc: 1.000, precision: 1.000, recall: 1.000, spec: 1.000\n",
      "TEST: acc: 0.890, precision: 0.852, recall: 0.945, spec: 0.835\n",
      "func:'rf_models'  took: 26.1368 sec\n",
      "\n",
      "NEK5_binding_MOE_ADASYN_BRFC_fold5\n"
     ]
    },
    {
     "name": "stderr",
     "output_type": "stream",
     "text": [
      "/Users/jayceepang/miniconda3/envs/atom2024/lib/python3.9/site-packages/imblearn/ensemble/_forest.py:577: FutureWarning: The default of `sampling_strategy` will change from `'auto'` to `'all'` in version 0.13. This change will follow the implementation proposed in the original paper. Set to `'all'` to silence this warning and adopt the future behaviour.\n",
      "  warn(\n",
      "/Users/jayceepang/miniconda3/envs/atom2024/lib/python3.9/site-packages/imblearn/ensemble/_forest.py:589: FutureWarning: The default of `replacement` will change from `False` to `True` in version 0.13. This change will follow the implementation proposed in the original paper. Set to `True` to silence this warning and adopt the future behaviour.\n",
      "  warn(\n"
     ]
    },
    {
     "name": "stdout",
     "output_type": "stream",
     "text": [
      "TRAIN: acc: 1.000, precision: 1.000, recall: 1.000, spec: 1.000\n",
      "TEST: acc: 0.904, precision: 0.866, recall: 0.956, spec: 0.852\n",
      "func:'rf_models'  took: 25.2761 sec\n",
      "\n",
      "NEK5_binding_MOE_ADASYN_BRFC_BCW_fold5\n"
     ]
    },
    {
     "name": "stderr",
     "output_type": "stream",
     "text": [
      "/Users/jayceepang/miniconda3/envs/atom2024/lib/python3.9/site-packages/imblearn/ensemble/_forest.py:577: FutureWarning: The default of `sampling_strategy` will change from `'auto'` to `'all'` in version 0.13. This change will follow the implementation proposed in the original paper. Set to `'all'` to silence this warning and adopt the future behaviour.\n",
      "  warn(\n",
      "/Users/jayceepang/miniconda3/envs/atom2024/lib/python3.9/site-packages/imblearn/ensemble/_forest.py:589: FutureWarning: The default of `replacement` will change from `False` to `True` in version 0.13. This change will follow the implementation proposed in the original paper. Set to `True` to silence this warning and adopt the future behaviour.\n",
      "  warn(\n"
     ]
    },
    {
     "name": "stdout",
     "output_type": "stream",
     "text": [
      "TRAIN: acc: 1.000, precision: 1.000, recall: 1.000, spec: 1.000\n",
      "TEST: acc: 0.893, precision: 0.856, recall: 0.945, spec: 0.841\n",
      "func:'rf_models'  took: 26.1114 sec\n",
      "\n",
      "NEK5_binding_MFP_none_scaled_RF_fold1\n",
      "TRAIN: acc: 0.999, precision: 1.000, recall: 0.984, spec: 1.000\n",
      "TEST: acc: 0.929, precision: 0.526, recall: 0.667, spec: 0.951\n",
      "func:'rf_models'  took: 2.8299 sec\n",
      "\n",
      "NEK5_binding_MFP_none_scaled_RF_BCW_fold1\n",
      "TRAIN: acc: 0.999, precision: 0.984, recall: 1.000, spec: 0.999\n",
      "TEST: acc: 0.924, precision: 0.500, recall: 0.333, spec: 0.973\n",
      "func:'rf_models'  took: 2.0084 sec\n",
      "\n",
      "NEK5_binding_MFP_none_scaled_BRFC_fold1\n"
     ]
    },
    {
     "name": "stderr",
     "output_type": "stream",
     "text": [
      "/Users/jayceepang/miniconda3/envs/atom2024/lib/python3.9/site-packages/imblearn/ensemble/_forest.py:577: FutureWarning: The default of `sampling_strategy` will change from `'auto'` to `'all'` in version 0.13. This change will follow the implementation proposed in the original paper. Set to `'all'` to silence this warning and adopt the future behaviour.\n",
      "  warn(\n",
      "/Users/jayceepang/miniconda3/envs/atom2024/lib/python3.9/site-packages/imblearn/ensemble/_forest.py:589: FutureWarning: The default of `replacement` will change from `False` to `True` in version 0.13. This change will follow the implementation proposed in the original paper. Set to `True` to silence this warning and adopt the future behaviour.\n",
      "  warn(\n"
     ]
    },
    {
     "name": "stdout",
     "output_type": "stream",
     "text": [
      "TRAIN: acc: 0.848, precision: 0.341, recall: 1.000, spec: 0.835\n",
      "TEST: acc: 0.828, precision: 0.289, recall: 0.867, spec: 0.825\n",
      "func:'rf_models'  took: 0.3477 sec\n",
      "\n",
      "NEK5_binding_MFP_none_scaled_BRFC_BCW_fold1\n"
     ]
    },
    {
     "name": "stderr",
     "output_type": "stream",
     "text": [
      "/Users/jayceepang/miniconda3/envs/atom2024/lib/python3.9/site-packages/imblearn/ensemble/_forest.py:577: FutureWarning: The default of `sampling_strategy` will change from `'auto'` to `'all'` in version 0.13. This change will follow the implementation proposed in the original paper. Set to `'all'` to silence this warning and adopt the future behaviour.\n",
      "  warn(\n",
      "/Users/jayceepang/miniconda3/envs/atom2024/lib/python3.9/site-packages/imblearn/ensemble/_forest.py:589: FutureWarning: The default of `replacement` will change from `False` to `True` in version 0.13. This change will follow the implementation proposed in the original paper. Set to `True` to silence this warning and adopt the future behaviour.\n",
      "  warn(\n"
     ]
    },
    {
     "name": "stdout",
     "output_type": "stream",
     "text": [
      "TRAIN: acc: 0.750, precision: 0.238, recall: 1.000, spec: 0.728\n",
      "TEST: acc: 0.672, precision: 0.171, recall: 0.867, spec: 0.656\n",
      "func:'rf_models'  took: 0.5013 sec\n",
      "\n",
      "NEK5_binding_MFP_none_scaled_RF_fold2\n",
      "TRAIN: acc: 0.997, precision: 1.000, recall: 0.968, spec: 1.000\n",
      "TEST: acc: 0.944, precision: 0.667, recall: 0.533, spec: 0.978\n",
      "func:'rf_models'  took: 2.4682 sec\n",
      "\n",
      "NEK5_binding_MFP_none_scaled_RF_BCW_fold2\n",
      "TRAIN: acc: 0.997, precision: 0.969, recall: 1.000, spec: 0.997\n",
      "TEST: acc: 0.929, precision: 0.526, recall: 0.667, spec: 0.951\n",
      "func:'rf_models'  took: 1.7786 sec\n",
      "\n",
      "NEK5_binding_MFP_none_scaled_BRFC_fold2\n"
     ]
    },
    {
     "name": "stderr",
     "output_type": "stream",
     "text": [
      "/Users/jayceepang/miniconda3/envs/atom2024/lib/python3.9/site-packages/imblearn/ensemble/_forest.py:577: FutureWarning: The default of `sampling_strategy` will change from `'auto'` to `'all'` in version 0.13. This change will follow the implementation proposed in the original paper. Set to `'all'` to silence this warning and adopt the future behaviour.\n",
      "  warn(\n",
      "/Users/jayceepang/miniconda3/envs/atom2024/lib/python3.9/site-packages/imblearn/ensemble/_forest.py:589: FutureWarning: The default of `replacement` will change from `False` to `True` in version 0.13. This change will follow the implementation proposed in the original paper. Set to `True` to silence this warning and adopt the future behaviour.\n",
      "  warn(\n"
     ]
    },
    {
     "name": "stdout",
     "output_type": "stream",
     "text": [
      "TRAIN: acc: 0.860, precision: 0.358, recall: 1.000, spec: 0.848\n",
      "TEST: acc: 0.818, precision: 0.277, recall: 0.867, spec: 0.814\n",
      "func:'rf_models'  took: 0.3409 sec\n",
      "\n",
      "NEK5_binding_MFP_none_scaled_BRFC_BCW_fold2\n"
     ]
    },
    {
     "name": "stderr",
     "output_type": "stream",
     "text": [
      "/Users/jayceepang/miniconda3/envs/atom2024/lib/python3.9/site-packages/imblearn/ensemble/_forest.py:577: FutureWarning: The default of `sampling_strategy` will change from `'auto'` to `'all'` in version 0.13. This change will follow the implementation proposed in the original paper. Set to `'all'` to silence this warning and adopt the future behaviour.\n",
      "  warn(\n",
      "/Users/jayceepang/miniconda3/envs/atom2024/lib/python3.9/site-packages/imblearn/ensemble/_forest.py:589: FutureWarning: The default of `replacement` will change from `False` to `True` in version 0.13. This change will follow the implementation proposed in the original paper. Set to `True` to silence this warning and adopt the future behaviour.\n",
      "  warn(\n"
     ]
    },
    {
     "name": "stdout",
     "output_type": "stream",
     "text": [
      "TRAIN: acc: 0.802, precision: 0.283, recall: 1.000, spec: 0.785\n",
      "TEST: acc: 0.788, precision: 0.245, recall: 0.867, spec: 0.781\n",
      "func:'rf_models'  took: 0.4573 sec\n",
      "\n",
      "NEK5_binding_MFP_none_scaled_RF_fold3\n",
      "TRAIN: acc: 0.999, precision: 1.000, recall: 0.984, spec: 1.000\n",
      "TEST: acc: 0.879, precision: 0.300, recall: 0.375, spec: 0.923\n",
      "func:'rf_models'  took: 2.0273 sec\n",
      "\n",
      "NEK5_binding_MFP_none_scaled_RF_BCW_fold3\n",
      "TRAIN: acc: 0.999, precision: 0.984, recall: 1.000, spec: 0.999\n",
      "TEST: acc: 0.899, precision: 0.375, recall: 0.375, spec: 0.945\n",
      "func:'rf_models'  took: 1.7905 sec\n",
      "\n",
      "NEK5_binding_MFP_none_scaled_BRFC_fold3\n"
     ]
    },
    {
     "name": "stderr",
     "output_type": "stream",
     "text": [
      "/Users/jayceepang/miniconda3/envs/atom2024/lib/python3.9/site-packages/imblearn/ensemble/_forest.py:577: FutureWarning: The default of `sampling_strategy` will change from `'auto'` to `'all'` in version 0.13. This change will follow the implementation proposed in the original paper. Set to `'all'` to silence this warning and adopt the future behaviour.\n",
      "  warn(\n",
      "/Users/jayceepang/miniconda3/envs/atom2024/lib/python3.9/site-packages/imblearn/ensemble/_forest.py:589: FutureWarning: The default of `replacement` will change from `False` to `True` in version 0.13. This change will follow the implementation proposed in the original paper. Set to `True` to silence this warning and adopt the future behaviour.\n",
      "  warn(\n"
     ]
    },
    {
     "name": "stdout",
     "output_type": "stream",
     "text": [
      "TRAIN: acc: 0.881, precision: 0.394, recall: 1.000, spec: 0.871\n",
      "TEST: acc: 0.848, precision: 0.294, recall: 0.625, spec: 0.868\n",
      "func:'rf_models'  took: 0.3362 sec\n",
      "\n",
      "NEK5_binding_MFP_none_scaled_BRFC_BCW_fold3\n"
     ]
    },
    {
     "name": "stderr",
     "output_type": "stream",
     "text": [
      "/Users/jayceepang/miniconda3/envs/atom2024/lib/python3.9/site-packages/imblearn/ensemble/_forest.py:577: FutureWarning: The default of `sampling_strategy` will change from `'auto'` to `'all'` in version 0.13. This change will follow the implementation proposed in the original paper. Set to `'all'` to silence this warning and adopt the future behaviour.\n",
      "  warn(\n",
      "/Users/jayceepang/miniconda3/envs/atom2024/lib/python3.9/site-packages/imblearn/ensemble/_forest.py:589: FutureWarning: The default of `replacement` will change from `False` to `True` in version 0.13. This change will follow the implementation proposed in the original paper. Set to `True` to silence this warning and adopt the future behaviour.\n",
      "  warn(\n"
     ]
    },
    {
     "name": "stdout",
     "output_type": "stream",
     "text": [
      "TRAIN: acc: 0.793, precision: 0.271, recall: 1.000, spec: 0.775\n",
      "TEST: acc: 0.768, precision: 0.212, recall: 0.688, spec: 0.775\n",
      "func:'rf_models'  took: 0.4883 sec\n",
      "\n",
      "NEK5_binding_MFP_none_scaled_RF_fold4\n",
      "TRAIN: acc: 0.999, precision: 1.000, recall: 0.984, spec: 1.000\n",
      "TEST: acc: 0.924, precision: 0.524, recall: 0.688, spec: 0.945\n",
      "func:'rf_models'  took: 2.6251 sec\n",
      "\n",
      "NEK5_binding_MFP_none_scaled_RF_BCW_fold4\n",
      "TRAIN: acc: 0.999, precision: 0.984, recall: 1.000, spec: 0.999\n",
      "TEST: acc: 0.904, precision: 0.440, recall: 0.688, spec: 0.923\n",
      "func:'rf_models'  took: 1.9132 sec\n",
      "\n",
      "NEK5_binding_MFP_none_scaled_BRFC_fold4\n"
     ]
    },
    {
     "name": "stderr",
     "output_type": "stream",
     "text": [
      "/Users/jayceepang/miniconda3/envs/atom2024/lib/python3.9/site-packages/imblearn/ensemble/_forest.py:577: FutureWarning: The default of `sampling_strategy` will change from `'auto'` to `'all'` in version 0.13. This change will follow the implementation proposed in the original paper. Set to `'all'` to silence this warning and adopt the future behaviour.\n",
      "  warn(\n",
      "/Users/jayceepang/miniconda3/envs/atom2024/lib/python3.9/site-packages/imblearn/ensemble/_forest.py:589: FutureWarning: The default of `replacement` will change from `False` to `True` in version 0.13. This change will follow the implementation proposed in the original paper. Set to `True` to silence this warning and adopt the future behaviour.\n",
      "  warn(\n"
     ]
    },
    {
     "name": "stdout",
     "output_type": "stream",
     "text": [
      "TRAIN: acc: 0.874, precision: 0.379, recall: 1.000, spec: 0.863\n",
      "TEST: acc: 0.828, precision: 0.312, recall: 0.938, spec: 0.819\n",
      "func:'rf_models'  took: 0.3449 sec\n",
      "\n",
      "NEK5_binding_MFP_none_scaled_BRFC_BCW_fold4\n"
     ]
    },
    {
     "name": "stderr",
     "output_type": "stream",
     "text": [
      "/Users/jayceepang/miniconda3/envs/atom2024/lib/python3.9/site-packages/imblearn/ensemble/_forest.py:577: FutureWarning: The default of `sampling_strategy` will change from `'auto'` to `'all'` in version 0.13. This change will follow the implementation proposed in the original paper. Set to `'all'` to silence this warning and adopt the future behaviour.\n",
      "  warn(\n",
      "/Users/jayceepang/miniconda3/envs/atom2024/lib/python3.9/site-packages/imblearn/ensemble/_forest.py:589: FutureWarning: The default of `replacement` will change from `False` to `True` in version 0.13. This change will follow the implementation proposed in the original paper. Set to `True` to silence this warning and adopt the future behaviour.\n",
      "  warn(\n"
     ]
    },
    {
     "name": "stdout",
     "output_type": "stream",
     "text": [
      "TRAIN: acc: 0.769, precision: 0.250, recall: 1.000, spec: 0.749\n",
      "TEST: acc: 0.682, precision: 0.195, recall: 0.938, spec: 0.659\n",
      "func:'rf_models'  took: 0.5128 sec\n",
      "\n",
      "NEK5_binding_MFP_none_scaled_RF_fold5\n",
      "TRAIN: acc: 0.999, precision: 1.000, recall: 0.984, spec: 1.000\n",
      "TEST: acc: 0.919, precision: 0.471, recall: 0.533, spec: 0.951\n",
      "func:'rf_models'  took: 2.7033 sec\n",
      "\n",
      "NEK5_binding_MFP_none_scaled_RF_BCW_fold5\n",
      "TRAIN: acc: 0.999, precision: 0.984, recall: 1.000, spec: 0.999\n",
      "TEST: acc: 0.898, precision: 0.391, recall: 0.600, spec: 0.923\n",
      "func:'rf_models'  took: 1.8816 sec\n",
      "\n",
      "NEK5_binding_MFP_none_scaled_BRFC_fold5\n"
     ]
    },
    {
     "name": "stderr",
     "output_type": "stream",
     "text": [
      "/Users/jayceepang/miniconda3/envs/atom2024/lib/python3.9/site-packages/imblearn/ensemble/_forest.py:577: FutureWarning: The default of `sampling_strategy` will change from `'auto'` to `'all'` in version 0.13. This change will follow the implementation proposed in the original paper. Set to `'all'` to silence this warning and adopt the future behaviour.\n",
      "  warn(\n",
      "/Users/jayceepang/miniconda3/envs/atom2024/lib/python3.9/site-packages/imblearn/ensemble/_forest.py:589: FutureWarning: The default of `replacement` will change from `False` to `True` in version 0.13. This change will follow the implementation proposed in the original paper. Set to `True` to silence this warning and adopt the future behaviour.\n",
      "  warn(\n"
     ]
    },
    {
     "name": "stdout",
     "output_type": "stream",
     "text": [
      "TRAIN: acc: 0.855, precision: 0.350, recall: 1.000, spec: 0.842\n",
      "TEST: acc: 0.812, precision: 0.280, recall: 0.933, spec: 0.802\n",
      "func:'rf_models'  took: 0.3449 sec\n",
      "\n",
      "NEK5_binding_MFP_none_scaled_BRFC_BCW_fold5\n"
     ]
    },
    {
     "name": "stderr",
     "output_type": "stream",
     "text": [
      "/Users/jayceepang/miniconda3/envs/atom2024/lib/python3.9/site-packages/imblearn/ensemble/_forest.py:577: FutureWarning: The default of `sampling_strategy` will change from `'auto'` to `'all'` in version 0.13. This change will follow the implementation proposed in the original paper. Set to `'all'` to silence this warning and adopt the future behaviour.\n",
      "  warn(\n",
      "/Users/jayceepang/miniconda3/envs/atom2024/lib/python3.9/site-packages/imblearn/ensemble/_forest.py:589: FutureWarning: The default of `replacement` will change from `False` to `True` in version 0.13. This change will follow the implementation proposed in the original paper. Set to `True` to silence this warning and adopt the future behaviour.\n",
      "  warn(\n"
     ]
    },
    {
     "name": "stdout",
     "output_type": "stream",
     "text": [
      "TRAIN: acc: 0.741, precision: 0.232, recall: 1.000, spec: 0.719\n",
      "TEST: acc: 0.736, precision: 0.197, recall: 0.800, spec: 0.731\n",
      "func:'rf_models'  took: 0.6109 sec\n",
      "\n",
      "NEK5_binding_MFP_UNDER_RF_fold1\n",
      "TRAIN: acc: 1.000, precision: 1.000, recall: 1.000, spec: 1.000\n",
      "TEST: acc: 0.839, precision: 0.917, recall: 0.733, spec: 0.938\n",
      "func:'rf_models'  took: 0.2261 sec\n",
      "\n",
      "NEK5_binding_MFP_UNDER_RF_BCW_fold1\n",
      "TRAIN: acc: 1.000, precision: 1.000, recall: 1.000, spec: 1.000\n",
      "TEST: acc: 0.839, precision: 0.917, recall: 0.733, spec: 0.938\n",
      "func:'rf_models'  took: 0.2397 sec\n",
      "\n",
      "NEK5_binding_MFP_UNDER_BRFC_fold1\n"
     ]
    },
    {
     "name": "stderr",
     "output_type": "stream",
     "text": [
      "/Users/jayceepang/miniconda3/envs/atom2024/lib/python3.9/site-packages/imblearn/ensemble/_forest.py:577: FutureWarning: The default of `sampling_strategy` will change from `'auto'` to `'all'` in version 0.13. This change will follow the implementation proposed in the original paper. Set to `'all'` to silence this warning and adopt the future behaviour.\n",
      "  warn(\n",
      "/Users/jayceepang/miniconda3/envs/atom2024/lib/python3.9/site-packages/imblearn/ensemble/_forest.py:589: FutureWarning: The default of `replacement` will change from `False` to `True` in version 0.13. This change will follow the implementation proposed in the original paper. Set to `True` to silence this warning and adopt the future behaviour.\n",
      "  warn(\n"
     ]
    },
    {
     "name": "stdout",
     "output_type": "stream",
     "text": [
      "TRAIN: acc: 1.000, precision: 1.000, recall: 1.000, spec: 1.000\n",
      "TEST: acc: 0.839, precision: 0.917, recall: 0.733, spec: 0.938\n",
      "func:'rf_models'  took: 0.3046 sec\n",
      "\n",
      "NEK5_binding_MFP_UNDER_BRFC_BCW_fold1\n"
     ]
    },
    {
     "name": "stderr",
     "output_type": "stream",
     "text": [
      "/Users/jayceepang/miniconda3/envs/atom2024/lib/python3.9/site-packages/imblearn/ensemble/_forest.py:577: FutureWarning: The default of `sampling_strategy` will change from `'auto'` to `'all'` in version 0.13. This change will follow the implementation proposed in the original paper. Set to `'all'` to silence this warning and adopt the future behaviour.\n",
      "  warn(\n",
      "/Users/jayceepang/miniconda3/envs/atom2024/lib/python3.9/site-packages/imblearn/ensemble/_forest.py:589: FutureWarning: The default of `replacement` will change from `False` to `True` in version 0.13. This change will follow the implementation proposed in the original paper. Set to `True` to silence this warning and adopt the future behaviour.\n",
      "  warn(\n"
     ]
    },
    {
     "name": "stdout",
     "output_type": "stream",
     "text": [
      "TRAIN: acc: 1.000, precision: 1.000, recall: 1.000, spec: 1.000\n",
      "TEST: acc: 0.839, precision: 0.917, recall: 0.733, spec: 0.938\n",
      "func:'rf_models'  took: 0.3181 sec\n",
      "\n",
      "NEK5_binding_MFP_UNDER_RF_fold2\n",
      "TRAIN: acc: 1.000, precision: 1.000, recall: 1.000, spec: 1.000\n",
      "TEST: acc: 0.871, precision: 0.867, recall: 0.867, spec: 0.875\n",
      "func:'rf_models'  took: 0.2349 sec\n",
      "\n",
      "NEK5_binding_MFP_UNDER_RF_BCW_fold2\n",
      "TRAIN: acc: 1.000, precision: 1.000, recall: 1.000, spec: 1.000\n",
      "TEST: acc: 0.903, precision: 0.875, recall: 0.933, spec: 0.875\n",
      "func:'rf_models'  took: 0.2532 sec\n",
      "\n",
      "NEK5_binding_MFP_UNDER_BRFC_fold2\n"
     ]
    },
    {
     "name": "stderr",
     "output_type": "stream",
     "text": [
      "/Users/jayceepang/miniconda3/envs/atom2024/lib/python3.9/site-packages/imblearn/ensemble/_forest.py:577: FutureWarning: The default of `sampling_strategy` will change from `'auto'` to `'all'` in version 0.13. This change will follow the implementation proposed in the original paper. Set to `'all'` to silence this warning and adopt the future behaviour.\n",
      "  warn(\n",
      "/Users/jayceepang/miniconda3/envs/atom2024/lib/python3.9/site-packages/imblearn/ensemble/_forest.py:589: FutureWarning: The default of `replacement` will change from `False` to `True` in version 0.13. This change will follow the implementation proposed in the original paper. Set to `True` to silence this warning and adopt the future behaviour.\n",
      "  warn(\n"
     ]
    },
    {
     "name": "stdout",
     "output_type": "stream",
     "text": [
      "TRAIN: acc: 1.000, precision: 1.000, recall: 1.000, spec: 1.000\n",
      "TEST: acc: 0.871, precision: 0.867, recall: 0.867, spec: 0.875\n",
      "func:'rf_models'  took: 0.3288 sec\n",
      "\n",
      "NEK5_binding_MFP_UNDER_BRFC_BCW_fold2\n"
     ]
    },
    {
     "name": "stderr",
     "output_type": "stream",
     "text": [
      "/Users/jayceepang/miniconda3/envs/atom2024/lib/python3.9/site-packages/imblearn/ensemble/_forest.py:577: FutureWarning: The default of `sampling_strategy` will change from `'auto'` to `'all'` in version 0.13. This change will follow the implementation proposed in the original paper. Set to `'all'` to silence this warning and adopt the future behaviour.\n",
      "  warn(\n",
      "/Users/jayceepang/miniconda3/envs/atom2024/lib/python3.9/site-packages/imblearn/ensemble/_forest.py:589: FutureWarning: The default of `replacement` will change from `False` to `True` in version 0.13. This change will follow the implementation proposed in the original paper. Set to `True` to silence this warning and adopt the future behaviour.\n",
      "  warn(\n"
     ]
    },
    {
     "name": "stdout",
     "output_type": "stream",
     "text": [
      "TRAIN: acc: 1.000, precision: 1.000, recall: 1.000, spec: 1.000\n",
      "TEST: acc: 0.903, precision: 0.875, recall: 0.933, spec: 0.875\n",
      "func:'rf_models'  took: 0.3476 sec\n",
      "\n",
      "NEK5_binding_MFP_UNDER_RF_fold3\n",
      "TRAIN: acc: 1.000, precision: 1.000, recall: 1.000, spec: 1.000\n",
      "TEST: acc: 0.871, precision: 0.833, recall: 0.938, spec: 0.800\n",
      "func:'rf_models'  took: 0.2223 sec\n",
      "\n",
      "NEK5_binding_MFP_UNDER_RF_BCW_fold3\n",
      "TRAIN: acc: 1.000, precision: 1.000, recall: 1.000, spec: 1.000\n",
      "TEST: acc: 0.806, precision: 0.812, recall: 0.812, spec: 0.800\n",
      "func:'rf_models'  took: 0.2376 sec\n",
      "\n",
      "NEK5_binding_MFP_UNDER_BRFC_fold3\n"
     ]
    },
    {
     "name": "stderr",
     "output_type": "stream",
     "text": [
      "/Users/jayceepang/miniconda3/envs/atom2024/lib/python3.9/site-packages/imblearn/ensemble/_forest.py:577: FutureWarning: The default of `sampling_strategy` will change from `'auto'` to `'all'` in version 0.13. This change will follow the implementation proposed in the original paper. Set to `'all'` to silence this warning and adopt the future behaviour.\n",
      "  warn(\n",
      "/Users/jayceepang/miniconda3/envs/atom2024/lib/python3.9/site-packages/imblearn/ensemble/_forest.py:589: FutureWarning: The default of `replacement` will change from `False` to `True` in version 0.13. This change will follow the implementation proposed in the original paper. Set to `True` to silence this warning and adopt the future behaviour.\n",
      "  warn(\n"
     ]
    },
    {
     "name": "stdout",
     "output_type": "stream",
     "text": [
      "TRAIN: acc: 1.000, precision: 1.000, recall: 1.000, spec: 1.000\n",
      "TEST: acc: 0.871, precision: 0.833, recall: 0.938, spec: 0.800\n",
      "func:'rf_models'  took: 0.3024 sec\n",
      "\n",
      "NEK5_binding_MFP_UNDER_BRFC_BCW_fold3\n"
     ]
    },
    {
     "name": "stderr",
     "output_type": "stream",
     "text": [
      "/Users/jayceepang/miniconda3/envs/atom2024/lib/python3.9/site-packages/imblearn/ensemble/_forest.py:577: FutureWarning: The default of `sampling_strategy` will change from `'auto'` to `'all'` in version 0.13. This change will follow the implementation proposed in the original paper. Set to `'all'` to silence this warning and adopt the future behaviour.\n",
      "  warn(\n",
      "/Users/jayceepang/miniconda3/envs/atom2024/lib/python3.9/site-packages/imblearn/ensemble/_forest.py:589: FutureWarning: The default of `replacement` will change from `False` to `True` in version 0.13. This change will follow the implementation proposed in the original paper. Set to `True` to silence this warning and adopt the future behaviour.\n",
      "  warn(\n"
     ]
    },
    {
     "name": "stdout",
     "output_type": "stream",
     "text": [
      "TRAIN: acc: 1.000, precision: 1.000, recall: 1.000, spec: 1.000\n",
      "TEST: acc: 0.871, precision: 0.833, recall: 0.938, spec: 0.800\n",
      "func:'rf_models'  took: 0.3182 sec\n",
      "\n",
      "NEK5_binding_MFP_UNDER_RF_fold4\n",
      "TRAIN: acc: 1.000, precision: 1.000, recall: 1.000, spec: 1.000\n",
      "TEST: acc: 0.839, precision: 0.923, recall: 0.750, spec: 0.933\n",
      "func:'rf_models'  took: 0.2163 sec\n",
      "\n",
      "NEK5_binding_MFP_UNDER_RF_BCW_fold4\n",
      "TRAIN: acc: 1.000, precision: 1.000, recall: 1.000, spec: 1.000\n",
      "TEST: acc: 0.839, precision: 0.923, recall: 0.750, spec: 0.933\n",
      "func:'rf_models'  took: 0.2253 sec\n",
      "\n",
      "NEK5_binding_MFP_UNDER_BRFC_fold4\n"
     ]
    },
    {
     "name": "stderr",
     "output_type": "stream",
     "text": [
      "/Users/jayceepang/miniconda3/envs/atom2024/lib/python3.9/site-packages/imblearn/ensemble/_forest.py:577: FutureWarning: The default of `sampling_strategy` will change from `'auto'` to `'all'` in version 0.13. This change will follow the implementation proposed in the original paper. Set to `'all'` to silence this warning and adopt the future behaviour.\n",
      "  warn(\n",
      "/Users/jayceepang/miniconda3/envs/atom2024/lib/python3.9/site-packages/imblearn/ensemble/_forest.py:589: FutureWarning: The default of `replacement` will change from `False` to `True` in version 0.13. This change will follow the implementation proposed in the original paper. Set to `True` to silence this warning and adopt the future behaviour.\n",
      "  warn(\n"
     ]
    },
    {
     "name": "stdout",
     "output_type": "stream",
     "text": [
      "TRAIN: acc: 1.000, precision: 1.000, recall: 1.000, spec: 1.000\n",
      "TEST: acc: 0.839, precision: 0.923, recall: 0.750, spec: 0.933\n",
      "func:'rf_models'  took: 0.2932 sec\n",
      "\n",
      "NEK5_binding_MFP_UNDER_BRFC_BCW_fold4\n"
     ]
    },
    {
     "name": "stderr",
     "output_type": "stream",
     "text": [
      "/Users/jayceepang/miniconda3/envs/atom2024/lib/python3.9/site-packages/imblearn/ensemble/_forest.py:577: FutureWarning: The default of `sampling_strategy` will change from `'auto'` to `'all'` in version 0.13. This change will follow the implementation proposed in the original paper. Set to `'all'` to silence this warning and adopt the future behaviour.\n",
      "  warn(\n",
      "/Users/jayceepang/miniconda3/envs/atom2024/lib/python3.9/site-packages/imblearn/ensemble/_forest.py:589: FutureWarning: The default of `replacement` will change from `False` to `True` in version 0.13. This change will follow the implementation proposed in the original paper. Set to `True` to silence this warning and adopt the future behaviour.\n",
      "  warn(\n"
     ]
    },
    {
     "name": "stdout",
     "output_type": "stream",
     "text": [
      "TRAIN: acc: 1.000, precision: 1.000, recall: 1.000, spec: 1.000\n",
      "TEST: acc: 0.839, precision: 0.923, recall: 0.750, spec: 0.933\n",
      "func:'rf_models'  took: 0.2978 sec\n",
      "\n",
      "NEK5_binding_MFP_UNDER_RF_fold5\n",
      "TRAIN: acc: 1.000, precision: 1.000, recall: 1.000, spec: 1.000\n",
      "TEST: acc: 0.900, precision: 0.929, recall: 0.867, spec: 0.933\n",
      "func:'rf_models'  took: 0.2168 sec\n",
      "\n",
      "NEK5_binding_MFP_UNDER_RF_BCW_fold5\n",
      "TRAIN: acc: 1.000, precision: 1.000, recall: 1.000, spec: 1.000\n",
      "TEST: acc: 0.900, precision: 0.929, recall: 0.867, spec: 0.933\n",
      "func:'rf_models'  took: 0.2228 sec\n",
      "\n",
      "NEK5_binding_MFP_UNDER_BRFC_fold5\n"
     ]
    },
    {
     "name": "stderr",
     "output_type": "stream",
     "text": [
      "/Users/jayceepang/miniconda3/envs/atom2024/lib/python3.9/site-packages/imblearn/ensemble/_forest.py:577: FutureWarning: The default of `sampling_strategy` will change from `'auto'` to `'all'` in version 0.13. This change will follow the implementation proposed in the original paper. Set to `'all'` to silence this warning and adopt the future behaviour.\n",
      "  warn(\n",
      "/Users/jayceepang/miniconda3/envs/atom2024/lib/python3.9/site-packages/imblearn/ensemble/_forest.py:589: FutureWarning: The default of `replacement` will change from `False` to `True` in version 0.13. This change will follow the implementation proposed in the original paper. Set to `True` to silence this warning and adopt the future behaviour.\n",
      "  warn(\n"
     ]
    },
    {
     "name": "stdout",
     "output_type": "stream",
     "text": [
      "TRAIN: acc: 1.000, precision: 1.000, recall: 1.000, spec: 1.000\n",
      "TEST: acc: 0.900, precision: 0.929, recall: 0.867, spec: 0.933\n",
      "func:'rf_models'  took: 0.3051 sec\n",
      "\n",
      "NEK5_binding_MFP_UNDER_BRFC_BCW_fold5\n"
     ]
    },
    {
     "name": "stderr",
     "output_type": "stream",
     "text": [
      "/Users/jayceepang/miniconda3/envs/atom2024/lib/python3.9/site-packages/imblearn/ensemble/_forest.py:577: FutureWarning: The default of `sampling_strategy` will change from `'auto'` to `'all'` in version 0.13. This change will follow the implementation proposed in the original paper. Set to `'all'` to silence this warning and adopt the future behaviour.\n",
      "  warn(\n",
      "/Users/jayceepang/miniconda3/envs/atom2024/lib/python3.9/site-packages/imblearn/ensemble/_forest.py:589: FutureWarning: The default of `replacement` will change from `False` to `True` in version 0.13. This change will follow the implementation proposed in the original paper. Set to `True` to silence this warning and adopt the future behaviour.\n",
      "  warn(\n"
     ]
    },
    {
     "name": "stdout",
     "output_type": "stream",
     "text": [
      "TRAIN: acc: 1.000, precision: 1.000, recall: 1.000, spec: 1.000\n",
      "TEST: acc: 0.900, precision: 0.929, recall: 0.867, spec: 0.933\n",
      "func:'rf_models'  took: 0.3100 sec\n",
      "\n",
      "NEK5_binding_MFP_SMOTE_RF_fold1\n",
      "TRAIN: acc: 0.999, precision: 1.000, recall: 0.999, spec: 1.000\n",
      "TEST: acc: 0.964, precision: 0.972, recall: 0.956, spec: 0.973\n",
      "func:'rf_models'  took: 5.6883 sec\n",
      "\n",
      "NEK5_binding_MFP_SMOTE_RF_BCW_fold1\n",
      "TRAIN: acc: 0.999, precision: 1.000, recall: 0.999, spec: 1.000\n",
      "TEST: acc: 0.959, precision: 0.961, recall: 0.956, spec: 0.962\n",
      "func:'rf_models'  took: 5.8405 sec\n",
      "\n",
      "NEK5_binding_MFP_SMOTE_BRFC_fold1\n"
     ]
    },
    {
     "name": "stderr",
     "output_type": "stream",
     "text": [
      "/Users/jayceepang/miniconda3/envs/atom2024/lib/python3.9/site-packages/imblearn/ensemble/_forest.py:577: FutureWarning: The default of `sampling_strategy` will change from `'auto'` to `'all'` in version 0.13. This change will follow the implementation proposed in the original paper. Set to `'all'` to silence this warning and adopt the future behaviour.\n",
      "  warn(\n",
      "/Users/jayceepang/miniconda3/envs/atom2024/lib/python3.9/site-packages/imblearn/ensemble/_forest.py:589: FutureWarning: The default of `replacement` will change from `False` to `True` in version 0.13. This change will follow the implementation proposed in the original paper. Set to `True` to silence this warning and adopt the future behaviour.\n",
      "  warn(\n"
     ]
    },
    {
     "name": "stdout",
     "output_type": "stream",
     "text": [
      "TRAIN: acc: 0.999, precision: 1.000, recall: 0.999, spec: 1.000\n",
      "TEST: acc: 0.964, precision: 0.972, recall: 0.956, spec: 0.973\n",
      "func:'rf_models'  took: 7.1689 sec\n",
      "\n",
      "NEK5_binding_MFP_SMOTE_BRFC_BCW_fold1\n"
     ]
    },
    {
     "name": "stderr",
     "output_type": "stream",
     "text": [
      "/Users/jayceepang/miniconda3/envs/atom2024/lib/python3.9/site-packages/imblearn/ensemble/_forest.py:577: FutureWarning: The default of `sampling_strategy` will change from `'auto'` to `'all'` in version 0.13. This change will follow the implementation proposed in the original paper. Set to `'all'` to silence this warning and adopt the future behaviour.\n",
      "  warn(\n",
      "/Users/jayceepang/miniconda3/envs/atom2024/lib/python3.9/site-packages/imblearn/ensemble/_forest.py:589: FutureWarning: The default of `replacement` will change from `False` to `True` in version 0.13. This change will follow the implementation proposed in the original paper. Set to `True` to silence this warning and adopt the future behaviour.\n",
      "  warn(\n"
     ]
    },
    {
     "name": "stdout",
     "output_type": "stream",
     "text": [
      "TRAIN: acc: 0.999, precision: 1.000, recall: 0.999, spec: 1.000\n",
      "TEST: acc: 0.959, precision: 0.961, recall: 0.956, spec: 0.962\n",
      "func:'rf_models'  took: 7.3590 sec\n",
      "\n",
      "NEK5_binding_MFP_SMOTE_RF_fold2\n",
      "TRAIN: acc: 0.999, precision: 1.000, recall: 0.997, spec: 1.000\n",
      "TEST: acc: 0.973, precision: 0.978, recall: 0.967, spec: 0.978\n",
      "func:'rf_models'  took: 5.7658 sec\n",
      "\n",
      "NEK5_binding_MFP_SMOTE_RF_BCW_fold2\n",
      "TRAIN: acc: 0.999, precision: 1.000, recall: 0.997, spec: 1.000\n",
      "TEST: acc: 0.967, precision: 0.967, recall: 0.967, spec: 0.967\n",
      "func:'rf_models'  took: 5.7734 sec\n",
      "\n",
      "NEK5_binding_MFP_SMOTE_BRFC_fold2\n"
     ]
    },
    {
     "name": "stderr",
     "output_type": "stream",
     "text": [
      "/Users/jayceepang/miniconda3/envs/atom2024/lib/python3.9/site-packages/imblearn/ensemble/_forest.py:577: FutureWarning: The default of `sampling_strategy` will change from `'auto'` to `'all'` in version 0.13. This change will follow the implementation proposed in the original paper. Set to `'all'` to silence this warning and adopt the future behaviour.\n",
      "  warn(\n",
      "/Users/jayceepang/miniconda3/envs/atom2024/lib/python3.9/site-packages/imblearn/ensemble/_forest.py:589: FutureWarning: The default of `replacement` will change from `False` to `True` in version 0.13. This change will follow the implementation proposed in the original paper. Set to `True` to silence this warning and adopt the future behaviour.\n",
      "  warn(\n"
     ]
    },
    {
     "name": "stdout",
     "output_type": "stream",
     "text": [
      "TRAIN: acc: 0.999, precision: 1.000, recall: 0.997, spec: 1.000\n",
      "TEST: acc: 0.970, precision: 0.972, recall: 0.967, spec: 0.973\n",
      "func:'rf_models'  took: 7.2379 sec\n",
      "\n",
      "NEK5_binding_MFP_SMOTE_BRFC_BCW_fold2\n"
     ]
    },
    {
     "name": "stderr",
     "output_type": "stream",
     "text": [
      "/Users/jayceepang/miniconda3/envs/atom2024/lib/python3.9/site-packages/imblearn/ensemble/_forest.py:577: FutureWarning: The default of `sampling_strategy` will change from `'auto'` to `'all'` in version 0.13. This change will follow the implementation proposed in the original paper. Set to `'all'` to silence this warning and adopt the future behaviour.\n",
      "  warn(\n",
      "/Users/jayceepang/miniconda3/envs/atom2024/lib/python3.9/site-packages/imblearn/ensemble/_forest.py:589: FutureWarning: The default of `replacement` will change from `False` to `True` in version 0.13. This change will follow the implementation proposed in the original paper. Set to `True` to silence this warning and adopt the future behaviour.\n",
      "  warn(\n"
     ]
    },
    {
     "name": "stdout",
     "output_type": "stream",
     "text": [
      "TRAIN: acc: 0.999, precision: 1.000, recall: 0.997, spec: 1.000\n",
      "TEST: acc: 0.967, precision: 0.967, recall: 0.967, spec: 0.967\n",
      "func:'rf_models'  took: 7.3213 sec\n",
      "\n",
      "NEK5_binding_MFP_SMOTE_RF_fold3\n",
      "TRAIN: acc: 0.999, precision: 1.000, recall: 0.999, spec: 1.000\n",
      "TEST: acc: 0.934, precision: 0.925, recall: 0.945, spec: 0.923\n",
      "func:'rf_models'  took: 4.9255 sec\n",
      "\n",
      "NEK5_binding_MFP_SMOTE_RF_BCW_fold3\n",
      "TRAIN: acc: 0.999, precision: 0.999, recall: 1.000, spec: 0.999\n",
      "TEST: acc: 0.940, precision: 0.935, recall: 0.945, spec: 0.934\n",
      "func:'rf_models'  took: 5.0398 sec\n",
      "\n",
      "NEK5_binding_MFP_SMOTE_BRFC_fold3\n"
     ]
    },
    {
     "name": "stderr",
     "output_type": "stream",
     "text": [
      "/Users/jayceepang/miniconda3/envs/atom2024/lib/python3.9/site-packages/imblearn/ensemble/_forest.py:577: FutureWarning: The default of `sampling_strategy` will change from `'auto'` to `'all'` in version 0.13. This change will follow the implementation proposed in the original paper. Set to `'all'` to silence this warning and adopt the future behaviour.\n",
      "  warn(\n",
      "/Users/jayceepang/miniconda3/envs/atom2024/lib/python3.9/site-packages/imblearn/ensemble/_forest.py:589: FutureWarning: The default of `replacement` will change from `False` to `True` in version 0.13. This change will follow the implementation proposed in the original paper. Set to `True` to silence this warning and adopt the future behaviour.\n",
      "  warn(\n"
     ]
    },
    {
     "name": "stdout",
     "output_type": "stream",
     "text": [
      "TRAIN: acc: 0.999, precision: 1.000, recall: 0.999, spec: 1.000\n",
      "TEST: acc: 0.934, precision: 0.925, recall: 0.945, spec: 0.923\n",
      "func:'rf_models'  took: 6.3630 sec\n",
      "\n",
      "NEK5_binding_MFP_SMOTE_BRFC_BCW_fold3\n"
     ]
    },
    {
     "name": "stderr",
     "output_type": "stream",
     "text": [
      "/Users/jayceepang/miniconda3/envs/atom2024/lib/python3.9/site-packages/imblearn/ensemble/_forest.py:577: FutureWarning: The default of `sampling_strategy` will change from `'auto'` to `'all'` in version 0.13. This change will follow the implementation proposed in the original paper. Set to `'all'` to silence this warning and adopt the future behaviour.\n",
      "  warn(\n",
      "/Users/jayceepang/miniconda3/envs/atom2024/lib/python3.9/site-packages/imblearn/ensemble/_forest.py:589: FutureWarning: The default of `replacement` will change from `False` to `True` in version 0.13. This change will follow the implementation proposed in the original paper. Set to `True` to silence this warning and adopt the future behaviour.\n",
      "  warn(\n"
     ]
    },
    {
     "name": "stdout",
     "output_type": "stream",
     "text": [
      "TRAIN: acc: 0.999, precision: 0.999, recall: 1.000, spec: 0.999\n",
      "TEST: acc: 0.942, precision: 0.940, recall: 0.945, spec: 0.940\n",
      "func:'rf_models'  took: 6.3752 sec\n",
      "\n",
      "NEK5_binding_MFP_SMOTE_RF_fold4\n",
      "TRAIN: acc: 0.999, precision: 1.000, recall: 0.999, spec: 1.000\n",
      "TEST: acc: 0.953, precision: 0.937, recall: 0.973, spec: 0.934\n",
      "func:'rf_models'  took: 6.3770 sec\n",
      "\n",
      "NEK5_binding_MFP_SMOTE_RF_BCW_fold4\n",
      "TRAIN: acc: 0.999, precision: 0.999, recall: 1.000, spec: 0.999\n",
      "TEST: acc: 0.953, precision: 0.937, recall: 0.973, spec: 0.934\n",
      "func:'rf_models'  took: 6.5690 sec\n",
      "\n",
      "NEK5_binding_MFP_SMOTE_BRFC_fold4\n"
     ]
    },
    {
     "name": "stderr",
     "output_type": "stream",
     "text": [
      "/Users/jayceepang/miniconda3/envs/atom2024/lib/python3.9/site-packages/imblearn/ensemble/_forest.py:577: FutureWarning: The default of `sampling_strategy` will change from `'auto'` to `'all'` in version 0.13. This change will follow the implementation proposed in the original paper. Set to `'all'` to silence this warning and adopt the future behaviour.\n",
      "  warn(\n",
      "/Users/jayceepang/miniconda3/envs/atom2024/lib/python3.9/site-packages/imblearn/ensemble/_forest.py:589: FutureWarning: The default of `replacement` will change from `False` to `True` in version 0.13. This change will follow the implementation proposed in the original paper. Set to `True` to silence this warning and adopt the future behaviour.\n",
      "  warn(\n"
     ]
    },
    {
     "name": "stdout",
     "output_type": "stream",
     "text": [
      "TRAIN: acc: 0.999, precision: 1.000, recall: 0.999, spec: 1.000\n",
      "TEST: acc: 0.956, precision: 0.942, recall: 0.973, spec: 0.940\n",
      "func:'rf_models'  took: 8.0825 sec\n",
      "\n",
      "NEK5_binding_MFP_SMOTE_BRFC_BCW_fold4\n"
     ]
    },
    {
     "name": "stderr",
     "output_type": "stream",
     "text": [
      "/Users/jayceepang/miniconda3/envs/atom2024/lib/python3.9/site-packages/imblearn/ensemble/_forest.py:577: FutureWarning: The default of `sampling_strategy` will change from `'auto'` to `'all'` in version 0.13. This change will follow the implementation proposed in the original paper. Set to `'all'` to silence this warning and adopt the future behaviour.\n",
      "  warn(\n",
      "/Users/jayceepang/miniconda3/envs/atom2024/lib/python3.9/site-packages/imblearn/ensemble/_forest.py:589: FutureWarning: The default of `replacement` will change from `False` to `True` in version 0.13. This change will follow the implementation proposed in the original paper. Set to `True` to silence this warning and adopt the future behaviour.\n",
      "  warn(\n"
     ]
    },
    {
     "name": "stdout",
     "output_type": "stream",
     "text": [
      "TRAIN: acc: 0.999, precision: 0.999, recall: 1.000, spec: 0.999\n",
      "TEST: acc: 0.953, precision: 0.937, recall: 0.973, spec: 0.934\n",
      "func:'rf_models'  took: 8.1604 sec\n",
      "\n",
      "NEK5_binding_MFP_SMOTE_RF_fold5\n",
      "TRAIN: acc: 0.999, precision: 1.000, recall: 0.999, spec: 1.000\n",
      "TEST: acc: 0.959, precision: 0.937, recall: 0.984, spec: 0.934\n",
      "func:'rf_models'  took: 6.8857 sec\n",
      "\n",
      "NEK5_binding_MFP_SMOTE_RF_BCW_fold5\n",
      "TRAIN: acc: 0.999, precision: 1.000, recall: 0.999, spec: 1.000\n",
      "TEST: acc: 0.962, precision: 0.942, recall: 0.984, spec: 0.940\n",
      "func:'rf_models'  took: 6.9073 sec\n",
      "\n",
      "NEK5_binding_MFP_SMOTE_BRFC_fold5\n"
     ]
    },
    {
     "name": "stderr",
     "output_type": "stream",
     "text": [
      "/Users/jayceepang/miniconda3/envs/atom2024/lib/python3.9/site-packages/imblearn/ensemble/_forest.py:577: FutureWarning: The default of `sampling_strategy` will change from `'auto'` to `'all'` in version 0.13. This change will follow the implementation proposed in the original paper. Set to `'all'` to silence this warning and adopt the future behaviour.\n",
      "  warn(\n",
      "/Users/jayceepang/miniconda3/envs/atom2024/lib/python3.9/site-packages/imblearn/ensemble/_forest.py:589: FutureWarning: The default of `replacement` will change from `False` to `True` in version 0.13. This change will follow the implementation proposed in the original paper. Set to `True` to silence this warning and adopt the future behaviour.\n",
      "  warn(\n"
     ]
    },
    {
     "name": "stdout",
     "output_type": "stream",
     "text": [
      "TRAIN: acc: 0.999, precision: 1.000, recall: 0.999, spec: 1.000\n",
      "TEST: acc: 0.959, precision: 0.937, recall: 0.984, spec: 0.934\n",
      "func:'rf_models'  took: 8.4497 sec\n",
      "\n",
      "NEK5_binding_MFP_SMOTE_BRFC_BCW_fold5\n"
     ]
    },
    {
     "name": "stderr",
     "output_type": "stream",
     "text": [
      "/Users/jayceepang/miniconda3/envs/atom2024/lib/python3.9/site-packages/imblearn/ensemble/_forest.py:577: FutureWarning: The default of `sampling_strategy` will change from `'auto'` to `'all'` in version 0.13. This change will follow the implementation proposed in the original paper. Set to `'all'` to silence this warning and adopt the future behaviour.\n",
      "  warn(\n",
      "/Users/jayceepang/miniconda3/envs/atom2024/lib/python3.9/site-packages/imblearn/ensemble/_forest.py:589: FutureWarning: The default of `replacement` will change from `False` to `True` in version 0.13. This change will follow the implementation proposed in the original paper. Set to `True` to silence this warning and adopt the future behaviour.\n",
      "  warn(\n"
     ]
    },
    {
     "name": "stdout",
     "output_type": "stream",
     "text": [
      "TRAIN: acc: 0.999, precision: 1.000, recall: 0.999, spec: 1.000\n",
      "TEST: acc: 0.962, precision: 0.942, recall: 0.984, spec: 0.940\n",
      "func:'rf_models'  took: 8.6091 sec\n",
      "\n",
      "NEK5_binding_MFP_ADASYN_RF_fold1\n",
      "TRAIN: acc: 0.999, precision: 1.000, recall: 0.999, spec: 1.000\n",
      "TEST: acc: 0.964, precision: 0.967, recall: 0.961, spec: 0.967\n",
      "func:'rf_models'  took: 6.2442 sec\n",
      "\n",
      "NEK5_binding_MFP_ADASYN_RF_BCW_fold1\n",
      "TRAIN: acc: 0.999, precision: 0.999, recall: 1.000, spec: 0.999\n",
      "TEST: acc: 0.962, precision: 0.961, recall: 0.961, spec: 0.962\n",
      "func:'rf_models'  took: 6.3136 sec\n",
      "\n",
      "NEK5_binding_MFP_ADASYN_BRFC_fold1\n"
     ]
    },
    {
     "name": "stderr",
     "output_type": "stream",
     "text": [
      "/Users/jayceepang/miniconda3/envs/atom2024/lib/python3.9/site-packages/imblearn/ensemble/_forest.py:577: FutureWarning: The default of `sampling_strategy` will change from `'auto'` to `'all'` in version 0.13. This change will follow the implementation proposed in the original paper. Set to `'all'` to silence this warning and adopt the future behaviour.\n",
      "  warn(\n",
      "/Users/jayceepang/miniconda3/envs/atom2024/lib/python3.9/site-packages/imblearn/ensemble/_forest.py:589: FutureWarning: The default of `replacement` will change from `False` to `True` in version 0.13. This change will follow the implementation proposed in the original paper. Set to `True` to silence this warning and adopt the future behaviour.\n",
      "  warn(\n"
     ]
    },
    {
     "name": "stdout",
     "output_type": "stream",
     "text": [
      "TRAIN: acc: 0.999, precision: 1.000, recall: 0.999, spec: 1.000\n",
      "TEST: acc: 0.962, precision: 0.961, recall: 0.961, spec: 0.962\n",
      "func:'rf_models'  took: 7.8054 sec\n",
      "\n",
      "NEK5_binding_MFP_ADASYN_BRFC_BCW_fold1\n"
     ]
    },
    {
     "name": "stderr",
     "output_type": "stream",
     "text": [
      "/Users/jayceepang/miniconda3/envs/atom2024/lib/python3.9/site-packages/imblearn/ensemble/_forest.py:577: FutureWarning: The default of `sampling_strategy` will change from `'auto'` to `'all'` in version 0.13. This change will follow the implementation proposed in the original paper. Set to `'all'` to silence this warning and adopt the future behaviour.\n",
      "  warn(\n",
      "/Users/jayceepang/miniconda3/envs/atom2024/lib/python3.9/site-packages/imblearn/ensemble/_forest.py:589: FutureWarning: The default of `replacement` will change from `False` to `True` in version 0.13. This change will follow the implementation proposed in the original paper. Set to `True` to silence this warning and adopt the future behaviour.\n",
      "  warn(\n"
     ]
    },
    {
     "name": "stdout",
     "output_type": "stream",
     "text": [
      "TRAIN: acc: 0.999, precision: 0.999, recall: 1.000, spec: 0.999\n",
      "TEST: acc: 0.962, precision: 0.961, recall: 0.961, spec: 0.962\n",
      "func:'rf_models'  took: 7.9712 sec\n",
      "\n",
      "NEK5_binding_MFP_ADASYN_RF_fold2\n",
      "TRAIN: acc: 0.999, precision: 1.000, recall: 0.997, spec: 1.000\n",
      "TEST: acc: 0.970, precision: 0.972, recall: 0.967, spec: 0.973\n",
      "func:'rf_models'  took: 3.9980 sec\n",
      "\n",
      "NEK5_binding_MFP_ADASYN_RF_BCW_fold2\n",
      "TRAIN: acc: 0.999, precision: 0.997, recall: 1.000, spec: 0.997\n",
      "TEST: acc: 0.970, precision: 0.972, recall: 0.967, spec: 0.973\n",
      "func:'rf_models'  took: 4.1172 sec\n",
      "\n",
      "NEK5_binding_MFP_ADASYN_BRFC_fold2\n"
     ]
    },
    {
     "name": "stderr",
     "output_type": "stream",
     "text": [
      "/Users/jayceepang/miniconda3/envs/atom2024/lib/python3.9/site-packages/imblearn/ensemble/_forest.py:577: FutureWarning: The default of `sampling_strategy` will change from `'auto'` to `'all'` in version 0.13. This change will follow the implementation proposed in the original paper. Set to `'all'` to silence this warning and adopt the future behaviour.\n",
      "  warn(\n",
      "/Users/jayceepang/miniconda3/envs/atom2024/lib/python3.9/site-packages/imblearn/ensemble/_forest.py:589: FutureWarning: The default of `replacement` will change from `False` to `True` in version 0.13. This change will follow the implementation proposed in the original paper. Set to `True` to silence this warning and adopt the future behaviour.\n",
      "  warn(\n"
     ]
    },
    {
     "name": "stdout",
     "output_type": "stream",
     "text": [
      "TRAIN: acc: 0.999, precision: 0.999, recall: 0.999, spec: 0.999\n",
      "TEST: acc: 0.970, precision: 0.972, recall: 0.967, spec: 0.973\n",
      "func:'rf_models'  took: 5.3152 sec\n",
      "\n",
      "NEK5_binding_MFP_ADASYN_BRFC_BCW_fold2\n"
     ]
    },
    {
     "name": "stderr",
     "output_type": "stream",
     "text": [
      "/Users/jayceepang/miniconda3/envs/atom2024/lib/python3.9/site-packages/imblearn/ensemble/_forest.py:577: FutureWarning: The default of `sampling_strategy` will change from `'auto'` to `'all'` in version 0.13. This change will follow the implementation proposed in the original paper. Set to `'all'` to silence this warning and adopt the future behaviour.\n",
      "  warn(\n",
      "/Users/jayceepang/miniconda3/envs/atom2024/lib/python3.9/site-packages/imblearn/ensemble/_forest.py:589: FutureWarning: The default of `replacement` will change from `False` to `True` in version 0.13. This change will follow the implementation proposed in the original paper. Set to `True` to silence this warning and adopt the future behaviour.\n",
      "  warn(\n"
     ]
    },
    {
     "name": "stdout",
     "output_type": "stream",
     "text": [
      "TRAIN: acc: 0.999, precision: 0.997, recall: 1.000, spec: 0.997\n",
      "TEST: acc: 0.970, precision: 0.972, recall: 0.967, spec: 0.973\n",
      "func:'rf_models'  took: 5.8853 sec\n",
      "\n",
      "NEK5_binding_MFP_ADASYN_RF_fold3\n",
      "TRAIN: acc: 0.999, precision: 1.000, recall: 0.999, spec: 1.000\n",
      "TEST: acc: 0.956, precision: 0.956, recall: 0.956, spec: 0.956\n",
      "func:'rf_models'  took: 5.1940 sec\n",
      "\n",
      "NEK5_binding_MFP_ADASYN_RF_BCW_fold3\n",
      "TRAIN: acc: 0.999, precision: 0.999, recall: 1.000, spec: 0.999\n",
      "TEST: acc: 0.956, precision: 0.956, recall: 0.956, spec: 0.956\n",
      "func:'rf_models'  took: 5.5466 sec\n",
      "\n",
      "NEK5_binding_MFP_ADASYN_BRFC_fold3\n"
     ]
    },
    {
     "name": "stderr",
     "output_type": "stream",
     "text": [
      "/Users/jayceepang/miniconda3/envs/atom2024/lib/python3.9/site-packages/imblearn/ensemble/_forest.py:577: FutureWarning: The default of `sampling_strategy` will change from `'auto'` to `'all'` in version 0.13. This change will follow the implementation proposed in the original paper. Set to `'all'` to silence this warning and adopt the future behaviour.\n",
      "  warn(\n",
      "/Users/jayceepang/miniconda3/envs/atom2024/lib/python3.9/site-packages/imblearn/ensemble/_forest.py:589: FutureWarning: The default of `replacement` will change from `False` to `True` in version 0.13. This change will follow the implementation proposed in the original paper. Set to `True` to silence this warning and adopt the future behaviour.\n",
      "  warn(\n"
     ]
    },
    {
     "name": "stdout",
     "output_type": "stream",
     "text": [
      "TRAIN: acc: 0.999, precision: 0.999, recall: 1.000, spec: 0.999\n",
      "TEST: acc: 0.956, precision: 0.956, recall: 0.956, spec: 0.956\n",
      "func:'rf_models'  took: 6.5102 sec\n",
      "\n",
      "NEK5_binding_MFP_ADASYN_BRFC_BCW_fold3\n"
     ]
    },
    {
     "name": "stderr",
     "output_type": "stream",
     "text": [
      "/Users/jayceepang/miniconda3/envs/atom2024/lib/python3.9/site-packages/imblearn/ensemble/_forest.py:577: FutureWarning: The default of `sampling_strategy` will change from `'auto'` to `'all'` in version 0.13. This change will follow the implementation proposed in the original paper. Set to `'all'` to silence this warning and adopt the future behaviour.\n",
      "  warn(\n",
      "/Users/jayceepang/miniconda3/envs/atom2024/lib/python3.9/site-packages/imblearn/ensemble/_forest.py:589: FutureWarning: The default of `replacement` will change from `False` to `True` in version 0.13. This change will follow the implementation proposed in the original paper. Set to `True` to silence this warning and adopt the future behaviour.\n",
      "  warn(\n"
     ]
    },
    {
     "name": "stdout",
     "output_type": "stream",
     "text": [
      "TRAIN: acc: 0.999, precision: 0.999, recall: 1.000, spec: 0.999\n",
      "TEST: acc: 0.956, precision: 0.956, recall: 0.956, spec: 0.956\n",
      "func:'rf_models'  took: 6.9252 sec\n",
      "\n",
      "NEK5_binding_MFP_ADASYN_RF_fold4\n",
      "TRAIN: acc: 0.999, precision: 1.000, recall: 0.999, spec: 1.000\n",
      "TEST: acc: 0.964, precision: 0.942, recall: 0.989, spec: 0.940\n",
      "func:'rf_models'  took: 4.3393 sec\n",
      "\n",
      "NEK5_binding_MFP_ADASYN_RF_BCW_fold4\n",
      "TRAIN: acc: 0.999, precision: 0.999, recall: 1.000, spec: 0.999\n",
      "TEST: acc: 0.967, precision: 0.947, recall: 0.989, spec: 0.945\n",
      "func:'rf_models'  took: 4.5705 sec\n",
      "\n",
      "NEK5_binding_MFP_ADASYN_BRFC_fold4\n"
     ]
    },
    {
     "name": "stderr",
     "output_type": "stream",
     "text": [
      "/Users/jayceepang/miniconda3/envs/atom2024/lib/python3.9/site-packages/imblearn/ensemble/_forest.py:577: FutureWarning: The default of `sampling_strategy` will change from `'auto'` to `'all'` in version 0.13. This change will follow the implementation proposed in the original paper. Set to `'all'` to silence this warning and adopt the future behaviour.\n",
      "  warn(\n",
      "/Users/jayceepang/miniconda3/envs/atom2024/lib/python3.9/site-packages/imblearn/ensemble/_forest.py:589: FutureWarning: The default of `replacement` will change from `False` to `True` in version 0.13. This change will follow the implementation proposed in the original paper. Set to `True` to silence this warning and adopt the future behaviour.\n",
      "  warn(\n"
     ]
    },
    {
     "name": "stdout",
     "output_type": "stream",
     "text": [
      "TRAIN: acc: 0.999, precision: 0.999, recall: 1.000, spec: 0.999\n",
      "TEST: acc: 0.964, precision: 0.942, recall: 0.989, spec: 0.940\n",
      "func:'rf_models'  took: 5.7025 sec\n",
      "\n",
      "NEK5_binding_MFP_ADASYN_BRFC_BCW_fold4\n"
     ]
    },
    {
     "name": "stderr",
     "output_type": "stream",
     "text": [
      "/Users/jayceepang/miniconda3/envs/atom2024/lib/python3.9/site-packages/imblearn/ensemble/_forest.py:577: FutureWarning: The default of `sampling_strategy` will change from `'auto'` to `'all'` in version 0.13. This change will follow the implementation proposed in the original paper. Set to `'all'` to silence this warning and adopt the future behaviour.\n",
      "  warn(\n",
      "/Users/jayceepang/miniconda3/envs/atom2024/lib/python3.9/site-packages/imblearn/ensemble/_forest.py:589: FutureWarning: The default of `replacement` will change from `False` to `True` in version 0.13. This change will follow the implementation proposed in the original paper. Set to `True` to silence this warning and adopt the future behaviour.\n",
      "  warn(\n"
     ]
    },
    {
     "name": "stdout",
     "output_type": "stream",
     "text": [
      "TRAIN: acc: 0.999, precision: 0.999, recall: 1.000, spec: 0.999\n",
      "TEST: acc: 0.967, precision: 0.947, recall: 0.989, spec: 0.945\n",
      "func:'rf_models'  took: 6.0618 sec\n",
      "\n",
      "NEK5_binding_MFP_ADASYN_RF_fold5\n",
      "TRAIN: acc: 0.999, precision: 1.000, recall: 0.999, spec: 1.000\n",
      "TEST: acc: 0.964, precision: 0.942, recall: 0.989, spec: 0.940\n",
      "func:'rf_models'  took: 5.4747 sec\n",
      "\n",
      "NEK5_binding_MFP_ADASYN_RF_BCW_fold5\n",
      "TRAIN: acc: 0.999, precision: 0.999, recall: 1.000, spec: 0.999\n",
      "TEST: acc: 0.964, precision: 0.942, recall: 0.989, spec: 0.940\n",
      "func:'rf_models'  took: 5.7313 sec\n",
      "\n",
      "NEK5_binding_MFP_ADASYN_BRFC_fold5\n"
     ]
    },
    {
     "name": "stderr",
     "output_type": "stream",
     "text": [
      "/Users/jayceepang/miniconda3/envs/atom2024/lib/python3.9/site-packages/imblearn/ensemble/_forest.py:577: FutureWarning: The default of `sampling_strategy` will change from `'auto'` to `'all'` in version 0.13. This change will follow the implementation proposed in the original paper. Set to `'all'` to silence this warning and adopt the future behaviour.\n",
      "  warn(\n",
      "/Users/jayceepang/miniconda3/envs/atom2024/lib/python3.9/site-packages/imblearn/ensemble/_forest.py:589: FutureWarning: The default of `replacement` will change from `False` to `True` in version 0.13. This change will follow the implementation proposed in the original paper. Set to `True` to silence this warning and adopt the future behaviour.\n",
      "  warn(\n"
     ]
    },
    {
     "name": "stdout",
     "output_type": "stream",
     "text": [
      "TRAIN: acc: 0.999, precision: 0.999, recall: 1.000, spec: 0.999\n",
      "TEST: acc: 0.964, precision: 0.942, recall: 0.989, spec: 0.940\n",
      "func:'rf_models'  took: 6.9573 sec\n",
      "\n",
      "NEK5_binding_MFP_ADASYN_BRFC_BCW_fold5\n"
     ]
    },
    {
     "name": "stderr",
     "output_type": "stream",
     "text": [
      "/Users/jayceepang/miniconda3/envs/atom2024/lib/python3.9/site-packages/imblearn/ensemble/_forest.py:577: FutureWarning: The default of `sampling_strategy` will change from `'auto'` to `'all'` in version 0.13. This change will follow the implementation proposed in the original paper. Set to `'all'` to silence this warning and adopt the future behaviour.\n",
      "  warn(\n",
      "/Users/jayceepang/miniconda3/envs/atom2024/lib/python3.9/site-packages/imblearn/ensemble/_forest.py:589: FutureWarning: The default of `replacement` will change from `False` to `True` in version 0.13. This change will follow the implementation proposed in the original paper. Set to `True` to silence this warning and adopt the future behaviour.\n",
      "  warn(\n"
     ]
    },
    {
     "name": "stdout",
     "output_type": "stream",
     "text": [
      "TRAIN: acc: 0.999, precision: 0.999, recall: 1.000, spec: 0.999\n",
      "TEST: acc: 0.961, precision: 0.937, recall: 0.989, spec: 0.934\n",
      "func:'rf_models'  took: 7.1834 sec\n",
      "\n",
      "NEK9_binding_MOE_none_scaled_RF_fold1\n",
      "TRAIN: acc: 1.000, precision: 1.000, recall: 1.000, spec: 1.000\n",
      "TEST: acc: 0.916, precision: 0.091, recall: 0.100, spec: 0.954\n",
      "func:'rf_models'  took: 16.7516 sec\n",
      "\n",
      "NEK9_binding_MOE_none_scaled_RF_BCW_fold1\n",
      "TRAIN: acc: 1.000, precision: 1.000, recall: 1.000, spec: 1.000\n",
      "TEST: acc: 0.912, precision: 0.000, recall: 0.000, spec: 0.954\n",
      "func:'rf_models'  took: 6.4324 sec\n",
      "\n",
      "NEK9_binding_MOE_none_scaled_BRFC_fold1\n"
     ]
    },
    {
     "name": "stderr",
     "output_type": "stream",
     "text": [
      "/Users/jayceepang/miniconda3/envs/atom2024/lib/python3.9/site-packages/imblearn/ensemble/_forest.py:577: FutureWarning: The default of `sampling_strategy` will change from `'auto'` to `'all'` in version 0.13. This change will follow the implementation proposed in the original paper. Set to `'all'` to silence this warning and adopt the future behaviour.\n",
      "  warn(\n",
      "/Users/jayceepang/miniconda3/envs/atom2024/lib/python3.9/site-packages/imblearn/ensemble/_forest.py:589: FutureWarning: The default of `replacement` will change from `False` to `True` in version 0.13. This change will follow the implementation proposed in the original paper. Set to `True` to silence this warning and adopt the future behaviour.\n",
      "  warn(\n"
     ]
    },
    {
     "name": "stdout",
     "output_type": "stream",
     "text": [
      "TRAIN: acc: 0.716, precision: 0.129, recall: 1.000, spec: 0.703\n",
      "TEST: acc: 0.664, precision: 0.077, recall: 0.600, spec: 0.667\n",
      "func:'rf_models'  took: 0.3742 sec\n",
      "\n",
      "NEK9_binding_MOE_none_scaled_BRFC_BCW_fold1\n"
     ]
    },
    {
     "name": "stderr",
     "output_type": "stream",
     "text": [
      "/Users/jayceepang/miniconda3/envs/atom2024/lib/python3.9/site-packages/imblearn/ensemble/_forest.py:577: FutureWarning: The default of `sampling_strategy` will change from `'auto'` to `'all'` in version 0.13. This change will follow the implementation proposed in the original paper. Set to `'all'` to silence this warning and adopt the future behaviour.\n",
      "  warn(\n",
      "/Users/jayceepang/miniconda3/envs/atom2024/lib/python3.9/site-packages/imblearn/ensemble/_forest.py:589: FutureWarning: The default of `replacement` will change from `False` to `True` in version 0.13. This change will follow the implementation proposed in the original paper. Set to `True` to silence this warning and adopt the future behaviour.\n",
      "  warn(\n"
     ]
    },
    {
     "name": "stdout",
     "output_type": "stream",
     "text": [
      "TRAIN: acc: 0.681, precision: 0.117, recall: 1.000, spec: 0.667\n",
      "TEST: acc: 0.611, precision: 0.024, recall: 0.200, spec: 0.630\n",
      "func:'rf_models'  took: 0.8209 sec\n",
      "\n",
      "NEK9_binding_MOE_none_scaled_RF_fold2\n",
      "TRAIN: acc: 1.000, precision: 1.000, recall: 1.000, spec: 1.000\n",
      "TEST: acc: 0.920, precision: 0.091, recall: 0.111, spec: 0.954\n",
      "func:'rf_models'  took: 18.5253 sec\n",
      "\n",
      "NEK9_binding_MOE_none_scaled_RF_BCW_fold2\n",
      "TRAIN: acc: 1.000, precision: 1.000, recall: 1.000, spec: 1.000\n",
      "TEST: acc: 0.942, precision: 0.000, recall: 0.000, spec: 0.981\n",
      "func:'rf_models'  took: 6.1104 sec\n",
      "\n",
      "NEK9_binding_MOE_none_scaled_BRFC_fold2\n"
     ]
    },
    {
     "name": "stderr",
     "output_type": "stream",
     "text": [
      "/Users/jayceepang/miniconda3/envs/atom2024/lib/python3.9/site-packages/imblearn/ensemble/_forest.py:577: FutureWarning: The default of `sampling_strategy` will change from `'auto'` to `'all'` in version 0.13. This change will follow the implementation proposed in the original paper. Set to `'all'` to silence this warning and adopt the future behaviour.\n",
      "  warn(\n",
      "/Users/jayceepang/miniconda3/envs/atom2024/lib/python3.9/site-packages/imblearn/ensemble/_forest.py:589: FutureWarning: The default of `replacement` will change from `False` to `True` in version 0.13. This change will follow the implementation proposed in the original paper. Set to `True` to silence this warning and adopt the future behaviour.\n",
      "  warn(\n"
     ]
    },
    {
     "name": "stdout",
     "output_type": "stream",
     "text": [
      "TRAIN: acc: 0.719, precision: 0.134, recall: 1.000, spec: 0.706\n",
      "TEST: acc: 0.724, precision: 0.104, recall: 0.778, spec: 0.722\n",
      "func:'rf_models'  took: 0.3963 sec\n",
      "\n",
      "NEK9_binding_MOE_none_scaled_BRFC_BCW_fold2\n"
     ]
    },
    {
     "name": "stderr",
     "output_type": "stream",
     "text": [
      "/Users/jayceepang/miniconda3/envs/atom2024/lib/python3.9/site-packages/imblearn/ensemble/_forest.py:577: FutureWarning: The default of `sampling_strategy` will change from `'auto'` to `'all'` in version 0.13. This change will follow the implementation proposed in the original paper. Set to `'all'` to silence this warning and adopt the future behaviour.\n",
      "  warn(\n",
      "/Users/jayceepang/miniconda3/envs/atom2024/lib/python3.9/site-packages/imblearn/ensemble/_forest.py:589: FutureWarning: The default of `replacement` will change from `False` to `True` in version 0.13. This change will follow the implementation proposed in the original paper. Set to `True` to silence this warning and adopt the future behaviour.\n",
      "  warn(\n"
     ]
    },
    {
     "name": "stdout",
     "output_type": "stream",
     "text": [
      "TRAIN: acc: 0.678, precision: 0.119, recall: 1.000, spec: 0.664\n",
      "TEST: acc: 0.662, precision: 0.065, recall: 0.556, spec: 0.667\n",
      "func:'rf_models'  took: 0.8640 sec\n",
      "\n",
      "NEK9_binding_MOE_none_scaled_RF_fold3\n",
      "TRAIN: acc: 1.000, precision: 1.000, recall: 1.000, spec: 1.000\n",
      "TEST: acc: 0.920, precision: 0.091, recall: 0.111, spec: 0.954\n",
      "func:'rf_models'  took: 16.6102 sec\n",
      "\n",
      "NEK9_binding_MOE_none_scaled_RF_BCW_fold3\n",
      "TRAIN: acc: 1.000, precision: 1.000, recall: 1.000, spec: 1.000\n",
      "TEST: acc: 0.911, precision: 0.133, recall: 0.222, spec: 0.940\n",
      "func:'rf_models'  took: 5.8634 sec\n",
      "\n",
      "NEK9_binding_MOE_none_scaled_BRFC_fold3\n"
     ]
    },
    {
     "name": "stderr",
     "output_type": "stream",
     "text": [
      "/Users/jayceepang/miniconda3/envs/atom2024/lib/python3.9/site-packages/imblearn/ensemble/_forest.py:577: FutureWarning: The default of `sampling_strategy` will change from `'auto'` to `'all'` in version 0.13. This change will follow the implementation proposed in the original paper. Set to `'all'` to silence this warning and adopt the future behaviour.\n",
      "  warn(\n",
      "/Users/jayceepang/miniconda3/envs/atom2024/lib/python3.9/site-packages/imblearn/ensemble/_forest.py:589: FutureWarning: The default of `replacement` will change from `False` to `True` in version 0.13. This change will follow the implementation proposed in the original paper. Set to `True` to silence this warning and adopt the future behaviour.\n",
      "  warn(\n"
     ]
    },
    {
     "name": "stdout",
     "output_type": "stream",
     "text": [
      "TRAIN: acc: 0.728, precision: 0.137, recall: 1.000, spec: 0.716\n",
      "TEST: acc: 0.653, precision: 0.084, recall: 0.778, spec: 0.648\n",
      "func:'rf_models'  took: 0.3894 sec\n",
      "\n",
      "NEK9_binding_MOE_none_scaled_BRFC_BCW_fold3\n"
     ]
    },
    {
     "name": "stderr",
     "output_type": "stream",
     "text": [
      "/Users/jayceepang/miniconda3/envs/atom2024/lib/python3.9/site-packages/imblearn/ensemble/_forest.py:577: FutureWarning: The default of `sampling_strategy` will change from `'auto'` to `'all'` in version 0.13. This change will follow the implementation proposed in the original paper. Set to `'all'` to silence this warning and adopt the future behaviour.\n",
      "  warn(\n",
      "/Users/jayceepang/miniconda3/envs/atom2024/lib/python3.9/site-packages/imblearn/ensemble/_forest.py:589: FutureWarning: The default of `replacement` will change from `False` to `True` in version 0.13. This change will follow the implementation proposed in the original paper. Set to `True` to silence this warning and adopt the future behaviour.\n",
      "  warn(\n"
     ]
    },
    {
     "name": "stdout",
     "output_type": "stream",
     "text": [
      "TRAIN: acc: 0.647, precision: 0.109, recall: 1.000, spec: 0.631\n",
      "TEST: acc: 0.564, precision: 0.068, recall: 0.778, spec: 0.556\n",
      "func:'rf_models'  took: 0.8711 sec\n",
      "\n",
      "NEK9_binding_MOE_none_scaled_RF_fold4\n",
      "TRAIN: acc: 1.000, precision: 1.000, recall: 1.000, spec: 1.000\n",
      "TEST: acc: 0.929, precision: 0.125, recall: 0.100, spec: 0.967\n",
      "func:'rf_models'  took: 17.9354 sec\n",
      "\n",
      "NEK9_binding_MOE_none_scaled_RF_BCW_fold4\n",
      "TRAIN: acc: 1.000, precision: 1.000, recall: 1.000, spec: 1.000\n",
      "TEST: acc: 0.924, precision: 0.182, recall: 0.200, spec: 0.958\n",
      "func:'rf_models'  took: 6.3107 sec\n",
      "\n",
      "NEK9_binding_MOE_none_scaled_BRFC_fold4\n"
     ]
    },
    {
     "name": "stderr",
     "output_type": "stream",
     "text": [
      "/Users/jayceepang/miniconda3/envs/atom2024/lib/python3.9/site-packages/imblearn/ensemble/_forest.py:577: FutureWarning: The default of `sampling_strategy` will change from `'auto'` to `'all'` in version 0.13. This change will follow the implementation proposed in the original paper. Set to `'all'` to silence this warning and adopt the future behaviour.\n",
      "  warn(\n",
      "/Users/jayceepang/miniconda3/envs/atom2024/lib/python3.9/site-packages/imblearn/ensemble/_forest.py:589: FutureWarning: The default of `replacement` will change from `False` to `True` in version 0.13. This change will follow the implementation proposed in the original paper. Set to `True` to silence this warning and adopt the future behaviour.\n",
      "  warn(\n"
     ]
    },
    {
     "name": "stdout",
     "output_type": "stream",
     "text": [
      "TRAIN: acc: 0.728, precision: 0.134, recall: 1.000, spec: 0.716\n",
      "TEST: acc: 0.707, precision: 0.088, recall: 0.600, spec: 0.712\n",
      "func:'rf_models'  took: 0.3720 sec\n",
      "\n",
      "NEK9_binding_MOE_none_scaled_BRFC_BCW_fold4\n"
     ]
    },
    {
     "name": "stderr",
     "output_type": "stream",
     "text": [
      "/Users/jayceepang/miniconda3/envs/atom2024/lib/python3.9/site-packages/imblearn/ensemble/_forest.py:577: FutureWarning: The default of `sampling_strategy` will change from `'auto'` to `'all'` in version 0.13. This change will follow the implementation proposed in the original paper. Set to `'all'` to silence this warning and adopt the future behaviour.\n",
      "  warn(\n",
      "/Users/jayceepang/miniconda3/envs/atom2024/lib/python3.9/site-packages/imblearn/ensemble/_forest.py:589: FutureWarning: The default of `replacement` will change from `False` to `True` in version 0.13. This change will follow the implementation proposed in the original paper. Set to `True` to silence this warning and adopt the future behaviour.\n",
      "  warn(\n"
     ]
    },
    {
     "name": "stdout",
     "output_type": "stream",
     "text": [
      "TRAIN: acc: 0.650, precision: 0.108, recall: 1.000, spec: 0.635\n",
      "TEST: acc: 0.609, precision: 0.076, recall: 0.700, spec: 0.605\n",
      "func:'rf_models'  took: 0.8401 sec\n",
      "\n",
      "NEK9_binding_MOE_none_scaled_RF_fold5\n",
      "TRAIN: acc: 1.000, precision: 1.000, recall: 1.000, spec: 1.000\n",
      "TEST: acc: 0.916, precision: 0.091, recall: 0.100, spec: 0.953\n",
      "func:'rf_models'  took: 17.9567 sec\n",
      "\n",
      "NEK9_binding_MOE_none_scaled_RF_BCW_fold5\n",
      "TRAIN: acc: 1.000, precision: 1.000, recall: 1.000, spec: 1.000\n",
      "TEST: acc: 0.916, precision: 0.154, recall: 0.200, spec: 0.949\n",
      "func:'rf_models'  took: 5.2920 sec\n",
      "\n",
      "NEK9_binding_MOE_none_scaled_BRFC_fold5\n"
     ]
    },
    {
     "name": "stderr",
     "output_type": "stream",
     "text": [
      "/Users/jayceepang/miniconda3/envs/atom2024/lib/python3.9/site-packages/imblearn/ensemble/_forest.py:577: FutureWarning: The default of `sampling_strategy` will change from `'auto'` to `'all'` in version 0.13. This change will follow the implementation proposed in the original paper. Set to `'all'` to silence this warning and adopt the future behaviour.\n",
      "  warn(\n",
      "/Users/jayceepang/miniconda3/envs/atom2024/lib/python3.9/site-packages/imblearn/ensemble/_forest.py:589: FutureWarning: The default of `replacement` will change from `False` to `True` in version 0.13. This change will follow the implementation proposed in the original paper. Set to `True` to silence this warning and adopt the future behaviour.\n",
      "  warn(\n"
     ]
    },
    {
     "name": "stdout",
     "output_type": "stream",
     "text": [
      "TRAIN: acc: 0.781, precision: 0.162, recall: 1.000, spec: 0.772\n",
      "TEST: acc: 0.680, precision: 0.081, recall: 0.600, spec: 0.684\n",
      "func:'rf_models'  took: 0.3756 sec\n",
      "\n",
      "NEK9_binding_MOE_none_scaled_BRFC_BCW_fold5\n"
     ]
    },
    {
     "name": "stderr",
     "output_type": "stream",
     "text": [
      "/Users/jayceepang/miniconda3/envs/atom2024/lib/python3.9/site-packages/imblearn/ensemble/_forest.py:577: FutureWarning: The default of `sampling_strategy` will change from `'auto'` to `'all'` in version 0.13. This change will follow the implementation proposed in the original paper. Set to `'all'` to silence this warning and adopt the future behaviour.\n",
      "  warn(\n",
      "/Users/jayceepang/miniconda3/envs/atom2024/lib/python3.9/site-packages/imblearn/ensemble/_forest.py:589: FutureWarning: The default of `replacement` will change from `False` to `True` in version 0.13. This change will follow the implementation proposed in the original paper. Set to `True` to silence this warning and adopt the future behaviour.\n",
      "  warn(\n"
     ]
    },
    {
     "name": "stdout",
     "output_type": "stream",
     "text": [
      "TRAIN: acc: 0.633, precision: 0.103, recall: 1.000, spec: 0.616\n",
      "TEST: acc: 0.618, precision: 0.068, recall: 0.600, spec: 0.619\n",
      "func:'rf_models'  took: 0.7786 sec\n",
      "\n",
      "NEK9_binding_MOE_UNDER_RF_fold1\n",
      "TRAIN: acc: 1.000, precision: 1.000, recall: 1.000, spec: 1.000\n",
      "TEST: acc: 0.650, precision: 0.667, recall: 0.600, spec: 0.700\n",
      "func:'rf_models'  took: 0.3039 sec\n",
      "\n",
      "NEK9_binding_MOE_UNDER_RF_BCW_fold1\n",
      "TRAIN: acc: 1.000, precision: 1.000, recall: 1.000, spec: 1.000\n",
      "TEST: acc: 0.650, precision: 0.667, recall: 0.600, spec: 0.700\n",
      "func:'rf_models'  took: 0.3195 sec\n",
      "\n",
      "NEK9_binding_MOE_UNDER_BRFC_fold1\n"
     ]
    },
    {
     "name": "stderr",
     "output_type": "stream",
     "text": [
      "/Users/jayceepang/miniconda3/envs/atom2024/lib/python3.9/site-packages/imblearn/ensemble/_forest.py:577: FutureWarning: The default of `sampling_strategy` will change from `'auto'` to `'all'` in version 0.13. This change will follow the implementation proposed in the original paper. Set to `'all'` to silence this warning and adopt the future behaviour.\n",
      "  warn(\n",
      "/Users/jayceepang/miniconda3/envs/atom2024/lib/python3.9/site-packages/imblearn/ensemble/_forest.py:589: FutureWarning: The default of `replacement` will change from `False` to `True` in version 0.13. This change will follow the implementation proposed in the original paper. Set to `True` to silence this warning and adopt the future behaviour.\n",
      "  warn(\n"
     ]
    },
    {
     "name": "stdout",
     "output_type": "stream",
     "text": [
      "TRAIN: acc: 1.000, precision: 1.000, recall: 1.000, spec: 1.000\n",
      "TEST: acc: 0.650, precision: 0.667, recall: 0.600, spec: 0.700\n",
      "func:'rf_models'  took: 0.3365 sec\n",
      "\n",
      "NEK9_binding_MOE_UNDER_BRFC_BCW_fold1\n"
     ]
    },
    {
     "name": "stderr",
     "output_type": "stream",
     "text": [
      "/Users/jayceepang/miniconda3/envs/atom2024/lib/python3.9/site-packages/imblearn/ensemble/_forest.py:577: FutureWarning: The default of `sampling_strategy` will change from `'auto'` to `'all'` in version 0.13. This change will follow the implementation proposed in the original paper. Set to `'all'` to silence this warning and adopt the future behaviour.\n",
      "  warn(\n",
      "/Users/jayceepang/miniconda3/envs/atom2024/lib/python3.9/site-packages/imblearn/ensemble/_forest.py:589: FutureWarning: The default of `replacement` will change from `False` to `True` in version 0.13. This change will follow the implementation proposed in the original paper. Set to `True` to silence this warning and adopt the future behaviour.\n",
      "  warn(\n"
     ]
    },
    {
     "name": "stdout",
     "output_type": "stream",
     "text": [
      "TRAIN: acc: 1.000, precision: 1.000, recall: 1.000, spec: 1.000\n",
      "TEST: acc: 0.650, precision: 0.667, recall: 0.600, spec: 0.700\n",
      "func:'rf_models'  took: 0.3430 sec\n",
      "\n",
      "NEK9_binding_MOE_UNDER_RF_fold2\n",
      "TRAIN: acc: 1.000, precision: 1.000, recall: 1.000, spec: 1.000\n",
      "TEST: acc: 0.474, precision: 0.455, recall: 0.556, spec: 0.400\n",
      "func:'rf_models'  took: 0.3161 sec\n",
      "\n",
      "NEK9_binding_MOE_UNDER_RF_BCW_fold2\n",
      "TRAIN: acc: 1.000, precision: 1.000, recall: 1.000, spec: 1.000\n",
      "TEST: acc: 0.474, precision: 0.455, recall: 0.556, spec: 0.400\n",
      "func:'rf_models'  took: 0.3441 sec\n",
      "\n",
      "NEK9_binding_MOE_UNDER_BRFC_fold2\n"
     ]
    },
    {
     "name": "stderr",
     "output_type": "stream",
     "text": [
      "/Users/jayceepang/miniconda3/envs/atom2024/lib/python3.9/site-packages/imblearn/ensemble/_forest.py:577: FutureWarning: The default of `sampling_strategy` will change from `'auto'` to `'all'` in version 0.13. This change will follow the implementation proposed in the original paper. Set to `'all'` to silence this warning and adopt the future behaviour.\n",
      "  warn(\n",
      "/Users/jayceepang/miniconda3/envs/atom2024/lib/python3.9/site-packages/imblearn/ensemble/_forest.py:589: FutureWarning: The default of `replacement` will change from `False` to `True` in version 0.13. This change will follow the implementation proposed in the original paper. Set to `True` to silence this warning and adopt the future behaviour.\n",
      "  warn(\n"
     ]
    },
    {
     "name": "stdout",
     "output_type": "stream",
     "text": [
      "TRAIN: acc: 1.000, precision: 1.000, recall: 1.000, spec: 1.000\n",
      "TEST: acc: 0.474, precision: 0.455, recall: 0.556, spec: 0.400\n",
      "func:'rf_models'  took: 0.3369 sec\n",
      "\n",
      "NEK9_binding_MOE_UNDER_BRFC_BCW_fold2\n"
     ]
    },
    {
     "name": "stderr",
     "output_type": "stream",
     "text": [
      "/Users/jayceepang/miniconda3/envs/atom2024/lib/python3.9/site-packages/imblearn/ensemble/_forest.py:577: FutureWarning: The default of `sampling_strategy` will change from `'auto'` to `'all'` in version 0.13. This change will follow the implementation proposed in the original paper. Set to `'all'` to silence this warning and adopt the future behaviour.\n",
      "  warn(\n",
      "/Users/jayceepang/miniconda3/envs/atom2024/lib/python3.9/site-packages/imblearn/ensemble/_forest.py:589: FutureWarning: The default of `replacement` will change from `False` to `True` in version 0.13. This change will follow the implementation proposed in the original paper. Set to `True` to silence this warning and adopt the future behaviour.\n",
      "  warn(\n"
     ]
    },
    {
     "name": "stdout",
     "output_type": "stream",
     "text": [
      "TRAIN: acc: 1.000, precision: 1.000, recall: 1.000, spec: 1.000\n",
      "TEST: acc: 0.474, precision: 0.455, recall: 0.556, spec: 0.400\n",
      "func:'rf_models'  took: 0.3732 sec\n",
      "\n",
      "NEK9_binding_MOE_UNDER_RF_fold3\n",
      "TRAIN: acc: 1.000, precision: 1.000, recall: 1.000, spec: 1.000\n",
      "TEST: acc: 0.526, precision: 0.500, recall: 0.778, spec: 0.300\n",
      "func:'rf_models'  took: 0.2966 sec\n",
      "\n",
      "NEK9_binding_MOE_UNDER_RF_BCW_fold3\n",
      "TRAIN: acc: 1.000, precision: 1.000, recall: 1.000, spec: 1.000\n",
      "TEST: acc: 0.474, precision: 0.462, recall: 0.667, spec: 0.300\n",
      "func:'rf_models'  took: 0.3127 sec\n",
      "\n",
      "NEK9_binding_MOE_UNDER_BRFC_fold3\n"
     ]
    },
    {
     "name": "stderr",
     "output_type": "stream",
     "text": [
      "/Users/jayceepang/miniconda3/envs/atom2024/lib/python3.9/site-packages/imblearn/ensemble/_forest.py:577: FutureWarning: The default of `sampling_strategy` will change from `'auto'` to `'all'` in version 0.13. This change will follow the implementation proposed in the original paper. Set to `'all'` to silence this warning and adopt the future behaviour.\n",
      "  warn(\n",
      "/Users/jayceepang/miniconda3/envs/atom2024/lib/python3.9/site-packages/imblearn/ensemble/_forest.py:589: FutureWarning: The default of `replacement` will change from `False` to `True` in version 0.13. This change will follow the implementation proposed in the original paper. Set to `True` to silence this warning and adopt the future behaviour.\n",
      "  warn(\n"
     ]
    },
    {
     "name": "stdout",
     "output_type": "stream",
     "text": [
      "TRAIN: acc: 1.000, precision: 1.000, recall: 1.000, spec: 1.000\n",
      "TEST: acc: 0.526, precision: 0.500, recall: 0.778, spec: 0.300\n",
      "func:'rf_models'  took: 0.3289 sec\n",
      "\n",
      "NEK9_binding_MOE_UNDER_BRFC_BCW_fold3\n"
     ]
    },
    {
     "name": "stderr",
     "output_type": "stream",
     "text": [
      "/Users/jayceepang/miniconda3/envs/atom2024/lib/python3.9/site-packages/imblearn/ensemble/_forest.py:577: FutureWarning: The default of `sampling_strategy` will change from `'auto'` to `'all'` in version 0.13. This change will follow the implementation proposed in the original paper. Set to `'all'` to silence this warning and adopt the future behaviour.\n",
      "  warn(\n",
      "/Users/jayceepang/miniconda3/envs/atom2024/lib/python3.9/site-packages/imblearn/ensemble/_forest.py:589: FutureWarning: The default of `replacement` will change from `False` to `True` in version 0.13. This change will follow the implementation proposed in the original paper. Set to `True` to silence this warning and adopt the future behaviour.\n",
      "  warn(\n"
     ]
    },
    {
     "name": "stdout",
     "output_type": "stream",
     "text": [
      "TRAIN: acc: 1.000, precision: 1.000, recall: 1.000, spec: 1.000\n",
      "TEST: acc: 0.474, precision: 0.467, recall: 0.778, spec: 0.200\n",
      "func:'rf_models'  took: 0.3473 sec\n",
      "\n",
      "NEK9_binding_MOE_UNDER_RF_fold4\n",
      "TRAIN: acc: 1.000, precision: 1.000, recall: 1.000, spec: 1.000\n",
      "TEST: acc: 0.526, precision: 0.571, recall: 0.400, spec: 0.667\n",
      "func:'rf_models'  took: 0.3262 sec\n",
      "\n",
      "NEK9_binding_MOE_UNDER_RF_BCW_fold4\n",
      "TRAIN: acc: 1.000, precision: 1.000, recall: 1.000, spec: 1.000\n",
      "TEST: acc: 0.526, precision: 0.571, recall: 0.400, spec: 0.667\n",
      "func:'rf_models'  took: 0.3299 sec\n",
      "\n",
      "NEK9_binding_MOE_UNDER_BRFC_fold4\n"
     ]
    },
    {
     "name": "stderr",
     "output_type": "stream",
     "text": [
      "/Users/jayceepang/miniconda3/envs/atom2024/lib/python3.9/site-packages/imblearn/ensemble/_forest.py:577: FutureWarning: The default of `sampling_strategy` will change from `'auto'` to `'all'` in version 0.13. This change will follow the implementation proposed in the original paper. Set to `'all'` to silence this warning and adopt the future behaviour.\n",
      "  warn(\n",
      "/Users/jayceepang/miniconda3/envs/atom2024/lib/python3.9/site-packages/imblearn/ensemble/_forest.py:589: FutureWarning: The default of `replacement` will change from `False` to `True` in version 0.13. This change will follow the implementation proposed in the original paper. Set to `True` to silence this warning and adopt the future behaviour.\n",
      "  warn(\n"
     ]
    },
    {
     "name": "stdout",
     "output_type": "stream",
     "text": [
      "TRAIN: acc: 1.000, precision: 1.000, recall: 1.000, spec: 1.000\n",
      "TEST: acc: 0.526, precision: 0.571, recall: 0.400, spec: 0.667\n",
      "func:'rf_models'  took: 0.3567 sec\n",
      "\n",
      "NEK9_binding_MOE_UNDER_BRFC_BCW_fold4\n"
     ]
    },
    {
     "name": "stderr",
     "output_type": "stream",
     "text": [
      "/Users/jayceepang/miniconda3/envs/atom2024/lib/python3.9/site-packages/imblearn/ensemble/_forest.py:577: FutureWarning: The default of `sampling_strategy` will change from `'auto'` to `'all'` in version 0.13. This change will follow the implementation proposed in the original paper. Set to `'all'` to silence this warning and adopt the future behaviour.\n",
      "  warn(\n",
      "/Users/jayceepang/miniconda3/envs/atom2024/lib/python3.9/site-packages/imblearn/ensemble/_forest.py:589: FutureWarning: The default of `replacement` will change from `False` to `True` in version 0.13. This change will follow the implementation proposed in the original paper. Set to `True` to silence this warning and adopt the future behaviour.\n",
      "  warn(\n"
     ]
    },
    {
     "name": "stdout",
     "output_type": "stream",
     "text": [
      "TRAIN: acc: 1.000, precision: 1.000, recall: 1.000, spec: 1.000\n",
      "TEST: acc: 0.526, precision: 0.571, recall: 0.400, spec: 0.667\n",
      "func:'rf_models'  took: 0.3890 sec\n",
      "\n",
      "NEK9_binding_MOE_UNDER_RF_fold5\n",
      "TRAIN: acc: 1.000, precision: 1.000, recall: 1.000, spec: 1.000\n",
      "TEST: acc: 0.579, precision: 0.600, recall: 0.600, spec: 0.556\n",
      "func:'rf_models'  took: 0.3222 sec\n",
      "\n",
      "NEK9_binding_MOE_UNDER_RF_BCW_fold5\n",
      "TRAIN: acc: 1.000, precision: 1.000, recall: 1.000, spec: 1.000\n",
      "TEST: acc: 0.526, precision: 0.556, recall: 0.500, spec: 0.556\n",
      "func:'rf_models'  took: 0.3484 sec\n",
      "\n",
      "NEK9_binding_MOE_UNDER_BRFC_fold5\n"
     ]
    },
    {
     "name": "stderr",
     "output_type": "stream",
     "text": [
      "/Users/jayceepang/miniconda3/envs/atom2024/lib/python3.9/site-packages/imblearn/ensemble/_forest.py:577: FutureWarning: The default of `sampling_strategy` will change from `'auto'` to `'all'` in version 0.13. This change will follow the implementation proposed in the original paper. Set to `'all'` to silence this warning and adopt the future behaviour.\n",
      "  warn(\n",
      "/Users/jayceepang/miniconda3/envs/atom2024/lib/python3.9/site-packages/imblearn/ensemble/_forest.py:589: FutureWarning: The default of `replacement` will change from `False` to `True` in version 0.13. This change will follow the implementation proposed in the original paper. Set to `True` to silence this warning and adopt the future behaviour.\n",
      "  warn(\n"
     ]
    },
    {
     "name": "stdout",
     "output_type": "stream",
     "text": [
      "TRAIN: acc: 1.000, precision: 1.000, recall: 1.000, spec: 1.000\n",
      "TEST: acc: 0.526, precision: 0.556, recall: 0.500, spec: 0.556\n",
      "func:'rf_models'  took: 0.3491 sec\n",
      "\n",
      "NEK9_binding_MOE_UNDER_BRFC_BCW_fold5\n"
     ]
    },
    {
     "name": "stderr",
     "output_type": "stream",
     "text": [
      "/Users/jayceepang/miniconda3/envs/atom2024/lib/python3.9/site-packages/imblearn/ensemble/_forest.py:577: FutureWarning: The default of `sampling_strategy` will change from `'auto'` to `'all'` in version 0.13. This change will follow the implementation proposed in the original paper. Set to `'all'` to silence this warning and adopt the future behaviour.\n",
      "  warn(\n",
      "/Users/jayceepang/miniconda3/envs/atom2024/lib/python3.9/site-packages/imblearn/ensemble/_forest.py:589: FutureWarning: The default of `replacement` will change from `False` to `True` in version 0.13. This change will follow the implementation proposed in the original paper. Set to `True` to silence this warning and adopt the future behaviour.\n",
      "  warn(\n"
     ]
    },
    {
     "name": "stdout",
     "output_type": "stream",
     "text": [
      "TRAIN: acc: 1.000, precision: 1.000, recall: 1.000, spec: 1.000\n",
      "TEST: acc: 0.474, precision: 0.500, recall: 0.500, spec: 0.444\n",
      "func:'rf_models'  took: 0.3641 sec\n",
      "\n",
      "NEK9_binding_MOE_SMOTE_RF_fold1\n",
      "TRAIN: acc: 1.000, precision: 1.000, recall: 1.000, spec: 1.000\n",
      "TEST: acc: 0.944, precision: 0.917, recall: 0.977, spec: 0.912\n",
      "func:'rf_models'  took: 30.4819 sec\n",
      "\n",
      "NEK9_binding_MOE_SMOTE_RF_BCW_fold1\n",
      "TRAIN: acc: 1.000, precision: 1.000, recall: 1.000, spec: 1.000\n",
      "TEST: acc: 0.944, precision: 0.917, recall: 0.977, spec: 0.912\n",
      "func:'rf_models'  took: 31.3577 sec\n",
      "\n",
      "NEK9_binding_MOE_SMOTE_BRFC_fold1\n"
     ]
    },
    {
     "name": "stderr",
     "output_type": "stream",
     "text": [
      "/Users/jayceepang/miniconda3/envs/atom2024/lib/python3.9/site-packages/imblearn/ensemble/_forest.py:577: FutureWarning: The default of `sampling_strategy` will change from `'auto'` to `'all'` in version 0.13. This change will follow the implementation proposed in the original paper. Set to `'all'` to silence this warning and adopt the future behaviour.\n",
      "  warn(\n",
      "/Users/jayceepang/miniconda3/envs/atom2024/lib/python3.9/site-packages/imblearn/ensemble/_forest.py:589: FutureWarning: The default of `replacement` will change from `False` to `True` in version 0.13. This change will follow the implementation proposed in the original paper. Set to `True` to silence this warning and adopt the future behaviour.\n",
      "  warn(\n"
     ]
    },
    {
     "name": "stdout",
     "output_type": "stream",
     "text": [
      "TRAIN: acc: 1.000, precision: 1.000, recall: 1.000, spec: 1.000\n",
      "TEST: acc: 0.942, precision: 0.913, recall: 0.977, spec: 0.907\n",
      "func:'rf_models'  took: 30.7046 sec\n",
      "\n",
      "NEK9_binding_MOE_SMOTE_BRFC_BCW_fold1\n"
     ]
    },
    {
     "name": "stderr",
     "output_type": "stream",
     "text": [
      "/Users/jayceepang/miniconda3/envs/atom2024/lib/python3.9/site-packages/imblearn/ensemble/_forest.py:577: FutureWarning: The default of `sampling_strategy` will change from `'auto'` to `'all'` in version 0.13. This change will follow the implementation proposed in the original paper. Set to `'all'` to silence this warning and adopt the future behaviour.\n",
      "  warn(\n",
      "/Users/jayceepang/miniconda3/envs/atom2024/lib/python3.9/site-packages/imblearn/ensemble/_forest.py:589: FutureWarning: The default of `replacement` will change from `False` to `True` in version 0.13. This change will follow the implementation proposed in the original paper. Set to `True` to silence this warning and adopt the future behaviour.\n",
      "  warn(\n"
     ]
    },
    {
     "name": "stdout",
     "output_type": "stream",
     "text": [
      "TRAIN: acc: 1.000, precision: 1.000, recall: 1.000, spec: 1.000\n",
      "TEST: acc: 0.942, precision: 0.910, recall: 0.981, spec: 0.903\n",
      "func:'rf_models'  took: 31.4699 sec\n",
      "\n",
      "NEK9_binding_MOE_SMOTE_RF_fold2\n",
      "TRAIN: acc: 1.000, precision: 1.000, recall: 1.000, spec: 1.000\n",
      "TEST: acc: 0.944, precision: 0.948, recall: 0.940, spec: 0.949\n",
      "func:'rf_models'  took: 31.9484 sec\n",
      "\n",
      "NEK9_binding_MOE_SMOTE_RF_BCW_fold2\n",
      "TRAIN: acc: 1.000, precision: 1.000, recall: 1.000, spec: 1.000\n",
      "TEST: acc: 0.942, precision: 0.944, recall: 0.940, spec: 0.944\n",
      "func:'rf_models'  took: 33.4848 sec\n",
      "\n",
      "NEK9_binding_MOE_SMOTE_BRFC_fold2\n"
     ]
    },
    {
     "name": "stderr",
     "output_type": "stream",
     "text": [
      "/Users/jayceepang/miniconda3/envs/atom2024/lib/python3.9/site-packages/imblearn/ensemble/_forest.py:577: FutureWarning: The default of `sampling_strategy` will change from `'auto'` to `'all'` in version 0.13. This change will follow the implementation proposed in the original paper. Set to `'all'` to silence this warning and adopt the future behaviour.\n",
      "  warn(\n",
      "/Users/jayceepang/miniconda3/envs/atom2024/lib/python3.9/site-packages/imblearn/ensemble/_forest.py:589: FutureWarning: The default of `replacement` will change from `False` to `True` in version 0.13. This change will follow the implementation proposed in the original paper. Set to `True` to silence this warning and adopt the future behaviour.\n",
      "  warn(\n"
     ]
    },
    {
     "name": "stdout",
     "output_type": "stream",
     "text": [
      "TRAIN: acc: 1.000, precision: 1.000, recall: 1.000, spec: 1.000\n",
      "TEST: acc: 0.947, precision: 0.953, recall: 0.940, spec: 0.954\n",
      "func:'rf_models'  took: 31.8087 sec\n",
      "\n",
      "NEK9_binding_MOE_SMOTE_BRFC_BCW_fold2\n"
     ]
    },
    {
     "name": "stderr",
     "output_type": "stream",
     "text": [
      "/Users/jayceepang/miniconda3/envs/atom2024/lib/python3.9/site-packages/imblearn/ensemble/_forest.py:577: FutureWarning: The default of `sampling_strategy` will change from `'auto'` to `'all'` in version 0.13. This change will follow the implementation proposed in the original paper. Set to `'all'` to silence this warning and adopt the future behaviour.\n",
      "  warn(\n",
      "/Users/jayceepang/miniconda3/envs/atom2024/lib/python3.9/site-packages/imblearn/ensemble/_forest.py:589: FutureWarning: The default of `replacement` will change from `False` to `True` in version 0.13. This change will follow the implementation proposed in the original paper. Set to `True` to silence this warning and adopt the future behaviour.\n",
      "  warn(\n"
     ]
    },
    {
     "name": "stdout",
     "output_type": "stream",
     "text": [
      "TRAIN: acc: 1.000, precision: 1.000, recall: 1.000, spec: 1.000\n",
      "TEST: acc: 0.944, precision: 0.948, recall: 0.940, spec: 0.949\n",
      "func:'rf_models'  took: 33.6720 sec\n",
      "\n",
      "NEK9_binding_MOE_SMOTE_RF_fold3\n",
      "TRAIN: acc: 1.000, precision: 1.000, recall: 1.000, spec: 1.000\n",
      "TEST: acc: 0.972, precision: 0.959, recall: 0.986, spec: 0.958\n",
      "func:'rf_models'  took: 33.2951 sec\n",
      "\n",
      "NEK9_binding_MOE_SMOTE_RF_BCW_fold3\n",
      "TRAIN: acc: 1.000, precision: 1.000, recall: 1.000, spec: 1.000\n",
      "TEST: acc: 0.972, precision: 0.959, recall: 0.986, spec: 0.958\n",
      "func:'rf_models'  took: 33.8934 sec\n",
      "\n",
      "NEK9_binding_MOE_SMOTE_BRFC_fold3\n"
     ]
    },
    {
     "name": "stderr",
     "output_type": "stream",
     "text": [
      "/Users/jayceepang/miniconda3/envs/atom2024/lib/python3.9/site-packages/imblearn/ensemble/_forest.py:577: FutureWarning: The default of `sampling_strategy` will change from `'auto'` to `'all'` in version 0.13. This change will follow the implementation proposed in the original paper. Set to `'all'` to silence this warning and adopt the future behaviour.\n",
      "  warn(\n",
      "/Users/jayceepang/miniconda3/envs/atom2024/lib/python3.9/site-packages/imblearn/ensemble/_forest.py:589: FutureWarning: The default of `replacement` will change from `False` to `True` in version 0.13. This change will follow the implementation proposed in the original paper. Set to `True` to silence this warning and adopt the future behaviour.\n",
      "  warn(\n"
     ]
    },
    {
     "name": "stdout",
     "output_type": "stream",
     "text": [
      "TRAIN: acc: 1.000, precision: 1.000, recall: 1.000, spec: 1.000\n",
      "TEST: acc: 0.974, precision: 0.964, recall: 0.986, spec: 0.963\n",
      "func:'rf_models'  took: 33.3015 sec\n",
      "\n",
      "NEK9_binding_MOE_SMOTE_BRFC_BCW_fold3\n"
     ]
    },
    {
     "name": "stderr",
     "output_type": "stream",
     "text": [
      "/Users/jayceepang/miniconda3/envs/atom2024/lib/python3.9/site-packages/imblearn/ensemble/_forest.py:577: FutureWarning: The default of `sampling_strategy` will change from `'auto'` to `'all'` in version 0.13. This change will follow the implementation proposed in the original paper. Set to `'all'` to silence this warning and adopt the future behaviour.\n",
      "  warn(\n",
      "/Users/jayceepang/miniconda3/envs/atom2024/lib/python3.9/site-packages/imblearn/ensemble/_forest.py:589: FutureWarning: The default of `replacement` will change from `False` to `True` in version 0.13. This change will follow the implementation proposed in the original paper. Set to `True` to silence this warning and adopt the future behaviour.\n",
      "  warn(\n"
     ]
    },
    {
     "name": "stdout",
     "output_type": "stream",
     "text": [
      "TRAIN: acc: 1.000, precision: 1.000, recall: 1.000, spec: 1.000\n",
      "TEST: acc: 0.970, precision: 0.955, recall: 0.986, spec: 0.954\n",
      "func:'rf_models'  took: 34.9020 sec\n",
      "\n",
      "NEK9_binding_MOE_SMOTE_RF_fold4\n",
      "TRAIN: acc: 1.000, precision: 1.000, recall: 1.000, spec: 1.000\n",
      "TEST: acc: 0.933, precision: 0.939, recall: 0.926, spec: 0.940\n",
      "func:'rf_models'  took: 29.9289 sec\n",
      "\n",
      "NEK9_binding_MOE_SMOTE_RF_BCW_fold4\n",
      "TRAIN: acc: 1.000, precision: 1.000, recall: 1.000, spec: 1.000\n",
      "TEST: acc: 0.937, precision: 0.944, recall: 0.931, spec: 0.944\n",
      "func:'rf_models'  took: 30.6331 sec\n",
      "\n",
      "NEK9_binding_MOE_SMOTE_BRFC_fold4\n"
     ]
    },
    {
     "name": "stderr",
     "output_type": "stream",
     "text": [
      "/Users/jayceepang/miniconda3/envs/atom2024/lib/python3.9/site-packages/imblearn/ensemble/_forest.py:577: FutureWarning: The default of `sampling_strategy` will change from `'auto'` to `'all'` in version 0.13. This change will follow the implementation proposed in the original paper. Set to `'all'` to silence this warning and adopt the future behaviour.\n",
      "  warn(\n",
      "/Users/jayceepang/miniconda3/envs/atom2024/lib/python3.9/site-packages/imblearn/ensemble/_forest.py:589: FutureWarning: The default of `replacement` will change from `False` to `True` in version 0.13. This change will follow the implementation proposed in the original paper. Set to `True` to silence this warning and adopt the future behaviour.\n",
      "  warn(\n"
     ]
    },
    {
     "name": "stdout",
     "output_type": "stream",
     "text": [
      "TRAIN: acc: 1.000, precision: 1.000, recall: 1.000, spec: 1.000\n",
      "TEST: acc: 0.933, precision: 0.939, recall: 0.926, spec: 0.940\n",
      "func:'rf_models'  took: 30.0960 sec\n",
      "\n",
      "NEK9_binding_MOE_SMOTE_BRFC_BCW_fold4\n"
     ]
    },
    {
     "name": "stderr",
     "output_type": "stream",
     "text": [
      "/Users/jayceepang/miniconda3/envs/atom2024/lib/python3.9/site-packages/imblearn/ensemble/_forest.py:577: FutureWarning: The default of `sampling_strategy` will change from `'auto'` to `'all'` in version 0.13. This change will follow the implementation proposed in the original paper. Set to `'all'` to silence this warning and adopt the future behaviour.\n",
      "  warn(\n",
      "/Users/jayceepang/miniconda3/envs/atom2024/lib/python3.9/site-packages/imblearn/ensemble/_forest.py:589: FutureWarning: The default of `replacement` will change from `False` to `True` in version 0.13. This change will follow the implementation proposed in the original paper. Set to `True` to silence this warning and adopt the future behaviour.\n",
      "  warn(\n"
     ]
    },
    {
     "name": "stdout",
     "output_type": "stream",
     "text": [
      "TRAIN: acc: 1.000, precision: 1.000, recall: 1.000, spec: 1.000\n",
      "TEST: acc: 0.937, precision: 0.944, recall: 0.931, spec: 0.944\n",
      "func:'rf_models'  took: 30.8952 sec\n",
      "\n",
      "NEK9_binding_MOE_SMOTE_RF_fold5\n",
      "TRAIN: acc: 1.000, precision: 1.000, recall: 1.000, spec: 1.000\n",
      "TEST: acc: 0.951, precision: 0.949, recall: 0.954, spec: 0.949\n",
      "func:'rf_models'  took: 28.8151 sec\n",
      "\n",
      "NEK9_binding_MOE_SMOTE_RF_BCW_fold5\n",
      "TRAIN: acc: 1.000, precision: 1.000, recall: 1.000, spec: 1.000\n",
      "TEST: acc: 0.961, precision: 0.959, recall: 0.963, spec: 0.958\n",
      "func:'rf_models'  took: 29.2793 sec\n",
      "\n",
      "NEK9_binding_MOE_SMOTE_BRFC_fold5\n"
     ]
    },
    {
     "name": "stderr",
     "output_type": "stream",
     "text": [
      "/Users/jayceepang/miniconda3/envs/atom2024/lib/python3.9/site-packages/imblearn/ensemble/_forest.py:577: FutureWarning: The default of `sampling_strategy` will change from `'auto'` to `'all'` in version 0.13. This change will follow the implementation proposed in the original paper. Set to `'all'` to silence this warning and adopt the future behaviour.\n",
      "  warn(\n",
      "/Users/jayceepang/miniconda3/envs/atom2024/lib/python3.9/site-packages/imblearn/ensemble/_forest.py:589: FutureWarning: The default of `replacement` will change from `False` to `True` in version 0.13. This change will follow the implementation proposed in the original paper. Set to `True` to silence this warning and adopt the future behaviour.\n",
      "  warn(\n"
     ]
    },
    {
     "name": "stdout",
     "output_type": "stream",
     "text": [
      "TRAIN: acc: 1.000, precision: 1.000, recall: 1.000, spec: 1.000\n",
      "TEST: acc: 0.956, precision: 0.958, recall: 0.954, spec: 0.958\n",
      "func:'rf_models'  took: 28.8333 sec\n",
      "\n",
      "NEK9_binding_MOE_SMOTE_BRFC_BCW_fold5\n"
     ]
    },
    {
     "name": "stderr",
     "output_type": "stream",
     "text": [
      "/Users/jayceepang/miniconda3/envs/atom2024/lib/python3.9/site-packages/imblearn/ensemble/_forest.py:577: FutureWarning: The default of `sampling_strategy` will change from `'auto'` to `'all'` in version 0.13. This change will follow the implementation proposed in the original paper. Set to `'all'` to silence this warning and adopt the future behaviour.\n",
      "  warn(\n",
      "/Users/jayceepang/miniconda3/envs/atom2024/lib/python3.9/site-packages/imblearn/ensemble/_forest.py:589: FutureWarning: The default of `replacement` will change from `False` to `True` in version 0.13. This change will follow the implementation proposed in the original paper. Set to `True` to silence this warning and adopt the future behaviour.\n",
      "  warn(\n"
     ]
    },
    {
     "name": "stdout",
     "output_type": "stream",
     "text": [
      "TRAIN: acc: 1.000, precision: 1.000, recall: 1.000, spec: 1.000\n",
      "TEST: acc: 0.961, precision: 0.959, recall: 0.963, spec: 0.958\n",
      "func:'rf_models'  took: 29.3716 sec\n",
      "\n",
      "NEK9_binding_MOE_ADASYN_RF_fold1\n",
      "TRAIN: acc: 1.000, precision: 1.000, recall: 1.000, spec: 1.000\n",
      "TEST: acc: 0.954, precision: 0.934, recall: 0.977, spec: 0.931\n",
      "func:'rf_models'  took: 33.3360 sec\n",
      "\n",
      "NEK9_binding_MOE_ADASYN_RF_BCW_fold1\n",
      "TRAIN: acc: 1.000, precision: 1.000, recall: 1.000, spec: 1.000\n",
      "TEST: acc: 0.954, precision: 0.934, recall: 0.977, spec: 0.931\n",
      "func:'rf_models'  took: 34.7376 sec\n",
      "\n",
      "NEK9_binding_MOE_ADASYN_BRFC_fold1\n"
     ]
    },
    {
     "name": "stderr",
     "output_type": "stream",
     "text": [
      "/Users/jayceepang/miniconda3/envs/atom2024/lib/python3.9/site-packages/imblearn/ensemble/_forest.py:577: FutureWarning: The default of `sampling_strategy` will change from `'auto'` to `'all'` in version 0.13. This change will follow the implementation proposed in the original paper. Set to `'all'` to silence this warning and adopt the future behaviour.\n",
      "  warn(\n",
      "/Users/jayceepang/miniconda3/envs/atom2024/lib/python3.9/site-packages/imblearn/ensemble/_forest.py:589: FutureWarning: The default of `replacement` will change from `False` to `True` in version 0.13. This change will follow the implementation proposed in the original paper. Set to `True` to silence this warning and adopt the future behaviour.\n",
      "  warn(\n"
     ]
    },
    {
     "name": "stdout",
     "output_type": "stream",
     "text": [
      "TRAIN: acc: 1.000, precision: 1.000, recall: 1.000, spec: 1.000\n",
      "TEST: acc: 0.956, precision: 0.938, recall: 0.977, spec: 0.935\n",
      "func:'rf_models'  took: 33.6073 sec\n",
      "\n",
      "NEK9_binding_MOE_ADASYN_BRFC_BCW_fold1\n"
     ]
    },
    {
     "name": "stderr",
     "output_type": "stream",
     "text": [
      "/Users/jayceepang/miniconda3/envs/atom2024/lib/python3.9/site-packages/imblearn/ensemble/_forest.py:577: FutureWarning: The default of `sampling_strategy` will change from `'auto'` to `'all'` in version 0.13. This change will follow the implementation proposed in the original paper. Set to `'all'` to silence this warning and adopt the future behaviour.\n",
      "  warn(\n",
      "/Users/jayceepang/miniconda3/envs/atom2024/lib/python3.9/site-packages/imblearn/ensemble/_forest.py:589: FutureWarning: The default of `replacement` will change from `False` to `True` in version 0.13. This change will follow the implementation proposed in the original paper. Set to `True` to silence this warning and adopt the future behaviour.\n",
      "  warn(\n"
     ]
    },
    {
     "name": "stdout",
     "output_type": "stream",
     "text": [
      "TRAIN: acc: 1.000, precision: 1.000, recall: 1.000, spec: 1.000\n",
      "TEST: acc: 0.954, precision: 0.934, recall: 0.977, spec: 0.931\n",
      "func:'rf_models'  took: 35.2019 sec\n",
      "\n",
      "NEK9_binding_MOE_ADASYN_RF_fold2\n",
      "TRAIN: acc: 1.000, precision: 1.000, recall: 1.000, spec: 1.000\n",
      "TEST: acc: 0.961, precision: 0.954, recall: 0.968, spec: 0.954\n",
      "func:'rf_models'  took: 40.2373 sec\n",
      "\n",
      "NEK9_binding_MOE_ADASYN_RF_BCW_fold2\n",
      "TRAIN: acc: 1.000, precision: 1.000, recall: 1.000, spec: 1.000\n",
      "TEST: acc: 0.947, precision: 0.937, recall: 0.958, spec: 0.935\n",
      "func:'rf_models'  took: 41.5242 sec\n",
      "\n",
      "NEK9_binding_MOE_ADASYN_BRFC_fold2\n"
     ]
    },
    {
     "name": "stderr",
     "output_type": "stream",
     "text": [
      "/Users/jayceepang/miniconda3/envs/atom2024/lib/python3.9/site-packages/imblearn/ensemble/_forest.py:577: FutureWarning: The default of `sampling_strategy` will change from `'auto'` to `'all'` in version 0.13. This change will follow the implementation proposed in the original paper. Set to `'all'` to silence this warning and adopt the future behaviour.\n",
      "  warn(\n",
      "/Users/jayceepang/miniconda3/envs/atom2024/lib/python3.9/site-packages/imblearn/ensemble/_forest.py:589: FutureWarning: The default of `replacement` will change from `False` to `True` in version 0.13. This change will follow the implementation proposed in the original paper. Set to `True` to silence this warning and adopt the future behaviour.\n",
      "  warn(\n"
     ]
    },
    {
     "name": "stdout",
     "output_type": "stream",
     "text": [
      "TRAIN: acc: 1.000, precision: 1.000, recall: 1.000, spec: 1.000\n",
      "TEST: acc: 0.963, precision: 0.959, recall: 0.968, spec: 0.958\n",
      "func:'rf_models'  took: 40.1960 sec\n",
      "\n",
      "NEK9_binding_MOE_ADASYN_BRFC_BCW_fold2\n"
     ]
    },
    {
     "name": "stderr",
     "output_type": "stream",
     "text": [
      "/Users/jayceepang/miniconda3/envs/atom2024/lib/python3.9/site-packages/imblearn/ensemble/_forest.py:577: FutureWarning: The default of `sampling_strategy` will change from `'auto'` to `'all'` in version 0.13. This change will follow the implementation proposed in the original paper. Set to `'all'` to silence this warning and adopt the future behaviour.\n",
      "  warn(\n",
      "/Users/jayceepang/miniconda3/envs/atom2024/lib/python3.9/site-packages/imblearn/ensemble/_forest.py:589: FutureWarning: The default of `replacement` will change from `False` to `True` in version 0.13. This change will follow the implementation proposed in the original paper. Set to `True` to silence this warning and adopt the future behaviour.\n",
      "  warn(\n"
     ]
    },
    {
     "name": "stdout",
     "output_type": "stream",
     "text": [
      "TRAIN: acc: 1.000, precision: 1.000, recall: 1.000, spec: 1.000\n",
      "TEST: acc: 0.954, precision: 0.941, recall: 0.968, spec: 0.940\n",
      "func:'rf_models'  took: 40.8613 sec\n",
      "\n",
      "NEK9_binding_MOE_ADASYN_RF_fold3\n",
      "TRAIN: acc: 1.000, precision: 1.000, recall: 1.000, spec: 1.000\n",
      "TEST: acc: 0.951, precision: 0.933, recall: 0.972, spec: 0.931\n",
      "func:'rf_models'  took: 33.6078 sec\n",
      "\n",
      "NEK9_binding_MOE_ADASYN_RF_BCW_fold3\n",
      "TRAIN: acc: 1.000, precision: 1.000, recall: 1.000, spec: 1.000\n",
      "TEST: acc: 0.947, precision: 0.937, recall: 0.958, spec: 0.935\n",
      "func:'rf_models'  took: 33.7985 sec\n",
      "\n",
      "NEK9_binding_MOE_ADASYN_BRFC_fold3\n"
     ]
    },
    {
     "name": "stderr",
     "output_type": "stream",
     "text": [
      "/Users/jayceepang/miniconda3/envs/atom2024/lib/python3.9/site-packages/imblearn/ensemble/_forest.py:577: FutureWarning: The default of `sampling_strategy` will change from `'auto'` to `'all'` in version 0.13. This change will follow the implementation proposed in the original paper. Set to `'all'` to silence this warning and adopt the future behaviour.\n",
      "  warn(\n",
      "/Users/jayceepang/miniconda3/envs/atom2024/lib/python3.9/site-packages/imblearn/ensemble/_forest.py:589: FutureWarning: The default of `replacement` will change from `False` to `True` in version 0.13. This change will follow the implementation proposed in the original paper. Set to `True` to silence this warning and adopt the future behaviour.\n",
      "  warn(\n"
     ]
    },
    {
     "name": "stdout",
     "output_type": "stream",
     "text": [
      "TRAIN: acc: 1.000, precision: 1.000, recall: 1.000, spec: 1.000\n",
      "TEST: acc: 0.951, precision: 0.933, recall: 0.972, spec: 0.931\n",
      "func:'rf_models'  took: 33.4782 sec\n",
      "\n",
      "NEK9_binding_MOE_ADASYN_BRFC_BCW_fold3\n"
     ]
    },
    {
     "name": "stderr",
     "output_type": "stream",
     "text": [
      "/Users/jayceepang/miniconda3/envs/atom2024/lib/python3.9/site-packages/imblearn/ensemble/_forest.py:577: FutureWarning: The default of `sampling_strategy` will change from `'auto'` to `'all'` in version 0.13. This change will follow the implementation proposed in the original paper. Set to `'all'` to silence this warning and adopt the future behaviour.\n",
      "  warn(\n",
      "/Users/jayceepang/miniconda3/envs/atom2024/lib/python3.9/site-packages/imblearn/ensemble/_forest.py:589: FutureWarning: The default of `replacement` will change from `False` to `True` in version 0.13. This change will follow the implementation proposed in the original paper. Set to `True` to silence this warning and adopt the future behaviour.\n",
      "  warn(\n"
     ]
    },
    {
     "name": "stdout",
     "output_type": "stream",
     "text": [
      "TRAIN: acc: 1.000, precision: 1.000, recall: 1.000, spec: 1.000\n",
      "TEST: acc: 0.956, precision: 0.942, recall: 0.972, spec: 0.940\n",
      "func:'rf_models'  took: 35.0548 sec\n",
      "\n",
      "NEK9_binding_MOE_ADASYN_RF_fold4\n",
      "TRAIN: acc: 1.000, precision: 1.000, recall: 1.000, spec: 1.000\n",
      "TEST: acc: 0.972, precision: 0.964, recall: 0.982, spec: 0.963\n",
      "func:'rf_models'  took: 36.1567 sec\n",
      "\n",
      "NEK9_binding_MOE_ADASYN_RF_BCW_fold4\n",
      "TRAIN: acc: 1.000, precision: 1.000, recall: 1.000, spec: 1.000\n",
      "TEST: acc: 0.961, precision: 0.942, recall: 0.982, spec: 0.940\n",
      "func:'rf_models'  took: 37.7421 sec\n",
      "\n",
      "NEK9_binding_MOE_ADASYN_BRFC_fold4\n"
     ]
    },
    {
     "name": "stderr",
     "output_type": "stream",
     "text": [
      "/Users/jayceepang/miniconda3/envs/atom2024/lib/python3.9/site-packages/imblearn/ensemble/_forest.py:577: FutureWarning: The default of `sampling_strategy` will change from `'auto'` to `'all'` in version 0.13. This change will follow the implementation proposed in the original paper. Set to `'all'` to silence this warning and adopt the future behaviour.\n",
      "  warn(\n",
      "/Users/jayceepang/miniconda3/envs/atom2024/lib/python3.9/site-packages/imblearn/ensemble/_forest.py:589: FutureWarning: The default of `replacement` will change from `False` to `True` in version 0.13. This change will follow the implementation proposed in the original paper. Set to `True` to silence this warning and adopt the future behaviour.\n",
      "  warn(\n"
     ]
    },
    {
     "name": "stdout",
     "output_type": "stream",
     "text": [
      "TRAIN: acc: 1.000, precision: 1.000, recall: 1.000, spec: 1.000\n",
      "TEST: acc: 0.972, precision: 0.964, recall: 0.982, spec: 0.963\n",
      "func:'rf_models'  took: 36.5518 sec\n",
      "\n",
      "NEK9_binding_MOE_ADASYN_BRFC_BCW_fold4\n"
     ]
    },
    {
     "name": "stderr",
     "output_type": "stream",
     "text": [
      "/Users/jayceepang/miniconda3/envs/atom2024/lib/python3.9/site-packages/imblearn/ensemble/_forest.py:577: FutureWarning: The default of `sampling_strategy` will change from `'auto'` to `'all'` in version 0.13. This change will follow the implementation proposed in the original paper. Set to `'all'` to silence this warning and adopt the future behaviour.\n",
      "  warn(\n",
      "/Users/jayceepang/miniconda3/envs/atom2024/lib/python3.9/site-packages/imblearn/ensemble/_forest.py:589: FutureWarning: The default of `replacement` will change from `False` to `True` in version 0.13. This change will follow the implementation proposed in the original paper. Set to `True` to silence this warning and adopt the future behaviour.\n",
      "  warn(\n"
     ]
    },
    {
     "name": "stdout",
     "output_type": "stream",
     "text": [
      "TRAIN: acc: 1.000, precision: 1.000, recall: 1.000, spec: 1.000\n",
      "TEST: acc: 0.961, precision: 0.942, recall: 0.982, spec: 0.940\n",
      "func:'rf_models'  took: 36.5959 sec\n",
      "\n",
      "NEK9_binding_MOE_ADASYN_RF_fold5\n",
      "TRAIN: acc: 1.000, precision: 1.000, recall: 1.000, spec: 1.000\n",
      "TEST: acc: 0.951, precision: 0.930, recall: 0.977, spec: 0.926\n",
      "func:'rf_models'  took: 31.9275 sec\n",
      "\n",
      "NEK9_binding_MOE_ADASYN_RF_BCW_fold5\n",
      "TRAIN: acc: 1.000, precision: 1.000, recall: 1.000, spec: 1.000\n",
      "TEST: acc: 0.942, precision: 0.914, recall: 0.977, spec: 0.907\n",
      "func:'rf_models'  took: 32.6275 sec\n",
      "\n",
      "NEK9_binding_MOE_ADASYN_BRFC_fold5\n"
     ]
    },
    {
     "name": "stderr",
     "output_type": "stream",
     "text": [
      "/Users/jayceepang/miniconda3/envs/atom2024/lib/python3.9/site-packages/imblearn/ensemble/_forest.py:577: FutureWarning: The default of `sampling_strategy` will change from `'auto'` to `'all'` in version 0.13. This change will follow the implementation proposed in the original paper. Set to `'all'` to silence this warning and adopt the future behaviour.\n",
      "  warn(\n",
      "/Users/jayceepang/miniconda3/envs/atom2024/lib/python3.9/site-packages/imblearn/ensemble/_forest.py:589: FutureWarning: The default of `replacement` will change from `False` to `True` in version 0.13. This change will follow the implementation proposed in the original paper. Set to `True` to silence this warning and adopt the future behaviour.\n",
      "  warn(\n"
     ]
    },
    {
     "name": "stdout",
     "output_type": "stream",
     "text": [
      "TRAIN: acc: 1.000, precision: 1.000, recall: 1.000, spec: 1.000\n",
      "TEST: acc: 0.956, precision: 0.938, recall: 0.977, spec: 0.935\n",
      "func:'rf_models'  took: 32.0090 sec\n",
      "\n",
      "NEK9_binding_MOE_ADASYN_BRFC_BCW_fold5\n"
     ]
    },
    {
     "name": "stderr",
     "output_type": "stream",
     "text": [
      "/Users/jayceepang/miniconda3/envs/atom2024/lib/python3.9/site-packages/imblearn/ensemble/_forest.py:577: FutureWarning: The default of `sampling_strategy` will change from `'auto'` to `'all'` in version 0.13. This change will follow the implementation proposed in the original paper. Set to `'all'` to silence this warning and adopt the future behaviour.\n",
      "  warn(\n",
      "/Users/jayceepang/miniconda3/envs/atom2024/lib/python3.9/site-packages/imblearn/ensemble/_forest.py:589: FutureWarning: The default of `replacement` will change from `False` to `True` in version 0.13. This change will follow the implementation proposed in the original paper. Set to `True` to silence this warning and adopt the future behaviour.\n",
      "  warn(\n"
     ]
    },
    {
     "name": "stdout",
     "output_type": "stream",
     "text": [
      "TRAIN: acc: 1.000, precision: 1.000, recall: 1.000, spec: 1.000\n",
      "TEST: acc: 0.942, precision: 0.910, recall: 0.982, spec: 0.902\n",
      "func:'rf_models'  took: 32.7942 sec\n",
      "\n",
      "NEK9_binding_MFP_none_scaled_RF_fold1\n",
      "TRAIN: acc: 1.000, precision: 1.000, recall: 1.000, spec: 1.000\n",
      "TEST: acc: 0.947, precision: 0.333, recall: 0.200, spec: 0.981\n",
      "func:'rf_models'  took: 3.4521 sec\n",
      "\n",
      "NEK9_binding_MFP_none_scaled_RF_BCW_fold1\n",
      "TRAIN: acc: 1.000, precision: 1.000, recall: 1.000, spec: 1.000\n",
      "TEST: acc: 0.934, precision: 0.308, recall: 0.400, spec: 0.958\n",
      "func:'rf_models'  took: 1.7657 sec\n",
      "\n",
      "NEK9_binding_MFP_none_scaled_BRFC_fold1\n"
     ]
    },
    {
     "name": "stderr",
     "output_type": "stream",
     "text": [
      "/Users/jayceepang/miniconda3/envs/atom2024/lib/python3.9/site-packages/imblearn/ensemble/_forest.py:577: FutureWarning: The default of `sampling_strategy` will change from `'auto'` to `'all'` in version 0.13. This change will follow the implementation proposed in the original paper. Set to `'all'` to silence this warning and adopt the future behaviour.\n",
      "  warn(\n",
      "/Users/jayceepang/miniconda3/envs/atom2024/lib/python3.9/site-packages/imblearn/ensemble/_forest.py:589: FutureWarning: The default of `replacement` will change from `False` to `True` in version 0.13. This change will follow the implementation proposed in the original paper. Set to `True` to silence this warning and adopt the future behaviour.\n",
      "  warn(\n"
     ]
    },
    {
     "name": "stdout",
     "output_type": "stream",
     "text": [
      "TRAIN: acc: 0.851, precision: 0.221, recall: 1.000, spec: 0.845\n",
      "TEST: acc: 0.779, precision: 0.083, recall: 0.400, spec: 0.796\n",
      "func:'rf_models'  took: 0.2371 sec\n",
      "\n",
      "NEK9_binding_MFP_none_scaled_BRFC_BCW_fold1\n"
     ]
    },
    {
     "name": "stderr",
     "output_type": "stream",
     "text": [
      "/Users/jayceepang/miniconda3/envs/atom2024/lib/python3.9/site-packages/imblearn/ensemble/_forest.py:577: FutureWarning: The default of `sampling_strategy` will change from `'auto'` to `'all'` in version 0.13. This change will follow the implementation proposed in the original paper. Set to `'all'` to silence this warning and adopt the future behaviour.\n",
      "  warn(\n",
      "/Users/jayceepang/miniconda3/envs/atom2024/lib/python3.9/site-packages/imblearn/ensemble/_forest.py:589: FutureWarning: The default of `replacement` will change from `False` to `True` in version 0.13. This change will follow the implementation proposed in the original paper. Set to `True` to silence this warning and adopt the future behaviour.\n",
      "  warn(\n"
     ]
    },
    {
     "name": "stdout",
     "output_type": "stream",
     "text": [
      "TRAIN: acc: 0.466, precision: 0.073, recall: 1.000, spec: 0.442\n",
      "TEST: acc: 0.363, precision: 0.065, recall: 1.000, spec: 0.333\n",
      "func:'rf_models'  took: 0.3561 sec\n",
      "\n",
      "NEK9_binding_MFP_none_scaled_RF_fold2\n",
      "TRAIN: acc: 0.999, precision: 1.000, recall: 0.974, spec: 1.000\n",
      "TEST: acc: 0.960, precision: 0.500, recall: 0.667, spec: 0.972\n",
      "func:'rf_models'  took: 6.2967 sec\n",
      "\n",
      "NEK9_binding_MFP_none_scaled_RF_BCW_fold2\n",
      "TRAIN: acc: 0.999, precision: 0.975, recall: 1.000, spec: 0.999\n",
      "TEST: acc: 0.947, precision: 0.412, recall: 0.778, spec: 0.954\n",
      "func:'rf_models'  took: 1.7219 sec\n",
      "\n",
      "NEK9_binding_MFP_none_scaled_BRFC_fold2\n"
     ]
    },
    {
     "name": "stderr",
     "output_type": "stream",
     "text": [
      "/Users/jayceepang/miniconda3/envs/atom2024/lib/python3.9/site-packages/imblearn/ensemble/_forest.py:577: FutureWarning: The default of `sampling_strategy` will change from `'auto'` to `'all'` in version 0.13. This change will follow the implementation proposed in the original paper. Set to `'all'` to silence this warning and adopt the future behaviour.\n",
      "  warn(\n",
      "/Users/jayceepang/miniconda3/envs/atom2024/lib/python3.9/site-packages/imblearn/ensemble/_forest.py:589: FutureWarning: The default of `replacement` will change from `False` to `True` in version 0.13. This change will follow the implementation proposed in the original paper. Set to `True` to silence this warning and adopt the future behaviour.\n",
      "  warn(\n"
     ]
    },
    {
     "name": "stdout",
     "output_type": "stream",
     "text": [
      "TRAIN: acc: 0.785, precision: 0.167, recall: 1.000, spec: 0.775\n",
      "TEST: acc: 0.782, precision: 0.143, recall: 0.889, spec: 0.778\n",
      "func:'rf_models'  took: 0.2559 sec\n",
      "\n",
      "NEK9_binding_MFP_none_scaled_BRFC_BCW_fold2\n"
     ]
    },
    {
     "name": "stderr",
     "output_type": "stream",
     "text": [
      "/Users/jayceepang/miniconda3/envs/atom2024/lib/python3.9/site-packages/imblearn/ensemble/_forest.py:577: FutureWarning: The default of `sampling_strategy` will change from `'auto'` to `'all'` in version 0.13. This change will follow the implementation proposed in the original paper. Set to `'all'` to silence this warning and adopt the future behaviour.\n",
      "  warn(\n",
      "/Users/jayceepang/miniconda3/envs/atom2024/lib/python3.9/site-packages/imblearn/ensemble/_forest.py:589: FutureWarning: The default of `replacement` will change from `False` to `True` in version 0.13. This change will follow the implementation proposed in the original paper. Set to `True` to silence this warning and adopt the future behaviour.\n",
      "  warn(\n"
     ]
    },
    {
     "name": "stdout",
     "output_type": "stream",
     "text": [
      "TRAIN: acc: 0.545, precision: 0.087, recall: 1.000, spec: 0.524\n",
      "TEST: acc: 0.484, precision: 0.065, recall: 0.889, spec: 0.468\n",
      "func:'rf_models'  took: 0.3987 sec\n",
      "\n",
      "NEK9_binding_MFP_none_scaled_RF_fold3\n",
      "TRAIN: acc: 1.000, precision: 1.000, recall: 1.000, spec: 1.000\n",
      "TEST: acc: 0.951, precision: 0.375, recall: 0.333, spec: 0.977\n",
      "func:'rf_models'  took: 5.9970 sec\n",
      "\n",
      "NEK9_binding_MFP_none_scaled_RF_BCW_fold3\n",
      "TRAIN: acc: 1.000, precision: 1.000, recall: 1.000, spec: 1.000\n",
      "TEST: acc: 0.920, precision: 0.235, recall: 0.444, spec: 0.940\n",
      "func:'rf_models'  took: 1.6598 sec\n",
      "\n",
      "NEK9_binding_MFP_none_scaled_BRFC_fold3\n"
     ]
    },
    {
     "name": "stderr",
     "output_type": "stream",
     "text": [
      "/Users/jayceepang/miniconda3/envs/atom2024/lib/python3.9/site-packages/imblearn/ensemble/_forest.py:577: FutureWarning: The default of `sampling_strategy` will change from `'auto'` to `'all'` in version 0.13. This change will follow the implementation proposed in the original paper. Set to `'all'` to silence this warning and adopt the future behaviour.\n",
      "  warn(\n",
      "/Users/jayceepang/miniconda3/envs/atom2024/lib/python3.9/site-packages/imblearn/ensemble/_forest.py:589: FutureWarning: The default of `replacement` will change from `False` to `True` in version 0.13. This change will follow the implementation proposed in the original paper. Set to `True` to silence this warning and adopt the future behaviour.\n",
      "  warn(\n"
     ]
    },
    {
     "name": "stdout",
     "output_type": "stream",
     "text": [
      "TRAIN: acc: 0.779, precision: 0.164, recall: 1.000, spec: 0.769\n",
      "TEST: acc: 0.787, precision: 0.145, recall: 0.889, spec: 0.782\n",
      "func:'rf_models'  took: 0.2526 sec\n",
      "\n",
      "NEK9_binding_MFP_none_scaled_BRFC_BCW_fold3\n"
     ]
    },
    {
     "name": "stderr",
     "output_type": "stream",
     "text": [
      "/Users/jayceepang/miniconda3/envs/atom2024/lib/python3.9/site-packages/imblearn/ensemble/_forest.py:577: FutureWarning: The default of `sampling_strategy` will change from `'auto'` to `'all'` in version 0.13. This change will follow the implementation proposed in the original paper. Set to `'all'` to silence this warning and adopt the future behaviour.\n",
      "  warn(\n",
      "/Users/jayceepang/miniconda3/envs/atom2024/lib/python3.9/site-packages/imblearn/ensemble/_forest.py:589: FutureWarning: The default of `replacement` will change from `False` to `True` in version 0.13. This change will follow the implementation proposed in the original paper. Set to `True` to silence this warning and adopt the future behaviour.\n",
      "  warn(\n"
     ]
    },
    {
     "name": "stdout",
     "output_type": "stream",
     "text": [
      "TRAIN: acc: 0.537, precision: 0.086, recall: 1.000, spec: 0.516\n",
      "TEST: acc: 0.560, precision: 0.075, recall: 0.889, spec: 0.546\n",
      "func:'rf_models'  took: 0.4021 sec\n",
      "\n",
      "NEK9_binding_MFP_none_scaled_RF_fold4\n",
      "TRAIN: acc: 0.999, precision: 1.000, recall: 0.974, spec: 1.000\n",
      "TEST: acc: 0.933, precision: 0.143, recall: 0.100, spec: 0.972\n",
      "func:'rf_models'  took: 5.8385 sec\n",
      "\n",
      "NEK9_binding_MFP_none_scaled_RF_BCW_fold4\n",
      "TRAIN: acc: 0.999, precision: 0.974, recall: 1.000, spec: 0.999\n",
      "TEST: acc: 0.929, precision: 0.286, recall: 0.400, spec: 0.953\n",
      "func:'rf_models'  took: 1.7159 sec\n",
      "\n",
      "NEK9_binding_MFP_none_scaled_BRFC_fold4\n"
     ]
    },
    {
     "name": "stderr",
     "output_type": "stream",
     "text": [
      "/Users/jayceepang/miniconda3/envs/atom2024/lib/python3.9/site-packages/imblearn/ensemble/_forest.py:577: FutureWarning: The default of `sampling_strategy` will change from `'auto'` to `'all'` in version 0.13. This change will follow the implementation proposed in the original paper. Set to `'all'` to silence this warning and adopt the future behaviour.\n",
      "  warn(\n",
      "/Users/jayceepang/miniconda3/envs/atom2024/lib/python3.9/site-packages/imblearn/ensemble/_forest.py:589: FutureWarning: The default of `replacement` will change from `False` to `True` in version 0.13. This change will follow the implementation proposed in the original paper. Set to `True` to silence this warning and adopt the future behaviour.\n",
      "  warn(\n"
     ]
    },
    {
     "name": "stdout",
     "output_type": "stream",
     "text": [
      "TRAIN: acc: 0.786, precision: 0.165, recall: 1.000, spec: 0.776\n",
      "TEST: acc: 0.760, precision: 0.145, recall: 0.900, spec: 0.753\n",
      "func:'rf_models'  took: 0.2483 sec\n",
      "\n",
      "NEK9_binding_MFP_none_scaled_BRFC_BCW_fold4\n"
     ]
    },
    {
     "name": "stderr",
     "output_type": "stream",
     "text": [
      "/Users/jayceepang/miniconda3/envs/atom2024/lib/python3.9/site-packages/imblearn/ensemble/_forest.py:577: FutureWarning: The default of `sampling_strategy` will change from `'auto'` to `'all'` in version 0.13. This change will follow the implementation proposed in the original paper. Set to `'all'` to silence this warning and adopt the future behaviour.\n",
      "  warn(\n",
      "/Users/jayceepang/miniconda3/envs/atom2024/lib/python3.9/site-packages/imblearn/ensemble/_forest.py:589: FutureWarning: The default of `replacement` will change from `False` to `True` in version 0.13. This change will follow the implementation proposed in the original paper. Set to `True` to silence this warning and adopt the future behaviour.\n",
      "  warn(\n"
     ]
    },
    {
     "name": "stdout",
     "output_type": "stream",
     "text": [
      "TRAIN: acc: 0.541, precision: 0.084, recall: 1.000, spec: 0.520\n",
      "TEST: acc: 0.524, precision: 0.071, recall: 0.800, spec: 0.512\n",
      "func:'rf_models'  took: 0.3915 sec\n",
      "\n",
      "NEK9_binding_MFP_none_scaled_RF_fold5\n",
      "TRAIN: acc: 0.999, precision: 1.000, recall: 0.974, spec: 1.000\n",
      "TEST: acc: 0.933, precision: 0.273, recall: 0.300, spec: 0.963\n",
      "func:'rf_models'  took: 5.0387 sec\n",
      "\n",
      "NEK9_binding_MFP_none_scaled_RF_BCW_fold5\n",
      "TRAIN: acc: 0.999, precision: 0.974, recall: 1.000, spec: 0.999\n",
      "TEST: acc: 0.911, precision: 0.143, recall: 0.200, spec: 0.944\n",
      "func:'rf_models'  took: 1.8859 sec\n",
      "\n",
      "NEK9_binding_MFP_none_scaled_BRFC_fold5\n"
     ]
    },
    {
     "name": "stderr",
     "output_type": "stream",
     "text": [
      "/Users/jayceepang/miniconda3/envs/atom2024/lib/python3.9/site-packages/imblearn/ensemble/_forest.py:577: FutureWarning: The default of `sampling_strategy` will change from `'auto'` to `'all'` in version 0.13. This change will follow the implementation proposed in the original paper. Set to `'all'` to silence this warning and adopt the future behaviour.\n",
      "  warn(\n",
      "/Users/jayceepang/miniconda3/envs/atom2024/lib/python3.9/site-packages/imblearn/ensemble/_forest.py:589: FutureWarning: The default of `replacement` will change from `False` to `True` in version 0.13. This change will follow the implementation proposed in the original paper. Set to `True` to silence this warning and adopt the future behaviour.\n",
      "  warn(\n"
     ]
    },
    {
     "name": "stdout",
     "output_type": "stream",
     "text": [
      "TRAIN: acc: 0.838, precision: 0.207, recall: 1.000, spec: 0.831\n",
      "TEST: acc: 0.800, precision: 0.111, recall: 0.500, spec: 0.814\n",
      "func:'rf_models'  took: 0.2451 sec\n",
      "\n",
      "NEK9_binding_MFP_none_scaled_BRFC_BCW_fold5\n"
     ]
    },
    {
     "name": "stderr",
     "output_type": "stream",
     "text": [
      "/Users/jayceepang/miniconda3/envs/atom2024/lib/python3.9/site-packages/imblearn/ensemble/_forest.py:577: FutureWarning: The default of `sampling_strategy` will change from `'auto'` to `'all'` in version 0.13. This change will follow the implementation proposed in the original paper. Set to `'all'` to silence this warning and adopt the future behaviour.\n",
      "  warn(\n",
      "/Users/jayceepang/miniconda3/envs/atom2024/lib/python3.9/site-packages/imblearn/ensemble/_forest.py:589: FutureWarning: The default of `replacement` will change from `False` to `True` in version 0.13. This change will follow the implementation proposed in the original paper. Set to `True` to silence this warning and adopt the future behaviour.\n",
      "  warn(\n"
     ]
    },
    {
     "name": "stdout",
     "output_type": "stream",
     "text": [
      "TRAIN: acc: 0.497, precision: 0.077, recall: 1.000, spec: 0.475\n",
      "TEST: acc: 0.484, precision: 0.079, recall: 1.000, spec: 0.460\n",
      "func:'rf_models'  took: 0.4096 sec\n",
      "\n",
      "NEK9_binding_MFP_UNDER_RF_fold1\n",
      "TRAIN: acc: 1.000, precision: 1.000, recall: 1.000, spec: 1.000\n",
      "TEST: acc: 0.750, precision: 0.857, recall: 0.600, spec: 0.900\n",
      "func:'rf_models'  took: 0.1748 sec\n",
      "\n",
      "NEK9_binding_MFP_UNDER_RF_BCW_fold1\n",
      "TRAIN: acc: 1.000, precision: 1.000, recall: 1.000, spec: 1.000\n",
      "TEST: acc: 0.750, precision: 0.857, recall: 0.600, spec: 0.900\n",
      "func:'rf_models'  took: 0.1782 sec\n",
      "\n",
      "NEK9_binding_MFP_UNDER_BRFC_fold1\n"
     ]
    },
    {
     "name": "stderr",
     "output_type": "stream",
     "text": [
      "/Users/jayceepang/miniconda3/envs/atom2024/lib/python3.9/site-packages/imblearn/ensemble/_forest.py:577: FutureWarning: The default of `sampling_strategy` will change from `'auto'` to `'all'` in version 0.13. This change will follow the implementation proposed in the original paper. Set to `'all'` to silence this warning and adopt the future behaviour.\n",
      "  warn(\n",
      "/Users/jayceepang/miniconda3/envs/atom2024/lib/python3.9/site-packages/imblearn/ensemble/_forest.py:589: FutureWarning: The default of `replacement` will change from `False` to `True` in version 0.13. This change will follow the implementation proposed in the original paper. Set to `True` to silence this warning and adopt the future behaviour.\n",
      "  warn(\n"
     ]
    },
    {
     "name": "stdout",
     "output_type": "stream",
     "text": [
      "TRAIN: acc: 1.000, precision: 1.000, recall: 1.000, spec: 1.000\n",
      "TEST: acc: 0.750, precision: 0.857, recall: 0.600, spec: 0.900\n",
      "func:'rf_models'  took: 0.2333 sec\n",
      "\n",
      "NEK9_binding_MFP_UNDER_BRFC_BCW_fold1\n"
     ]
    },
    {
     "name": "stderr",
     "output_type": "stream",
     "text": [
      "/Users/jayceepang/miniconda3/envs/atom2024/lib/python3.9/site-packages/imblearn/ensemble/_forest.py:577: FutureWarning: The default of `sampling_strategy` will change from `'auto'` to `'all'` in version 0.13. This change will follow the implementation proposed in the original paper. Set to `'all'` to silence this warning and adopt the future behaviour.\n",
      "  warn(\n",
      "/Users/jayceepang/miniconda3/envs/atom2024/lib/python3.9/site-packages/imblearn/ensemble/_forest.py:589: FutureWarning: The default of `replacement` will change from `False` to `True` in version 0.13. This change will follow the implementation proposed in the original paper. Set to `True` to silence this warning and adopt the future behaviour.\n",
      "  warn(\n"
     ]
    },
    {
     "name": "stdout",
     "output_type": "stream",
     "text": [
      "TRAIN: acc: 1.000, precision: 1.000, recall: 1.000, spec: 1.000\n",
      "TEST: acc: 0.750, precision: 0.857, recall: 0.600, spec: 0.900\n",
      "func:'rf_models'  took: 0.2379 sec\n",
      "\n",
      "NEK9_binding_MFP_UNDER_RF_fold2\n",
      "TRAIN: acc: 1.000, precision: 1.000, recall: 1.000, spec: 1.000\n",
      "TEST: acc: 0.632, precision: 0.600, recall: 0.667, spec: 0.600\n",
      "func:'rf_models'  took: 0.1752 sec\n",
      "\n",
      "NEK9_binding_MFP_UNDER_RF_BCW_fold2\n",
      "TRAIN: acc: 1.000, precision: 1.000, recall: 1.000, spec: 1.000\n",
      "TEST: acc: 0.632, precision: 0.600, recall: 0.667, spec: 0.600\n",
      "func:'rf_models'  took: 0.1929 sec\n",
      "\n",
      "NEK9_binding_MFP_UNDER_BRFC_fold2\n"
     ]
    },
    {
     "name": "stderr",
     "output_type": "stream",
     "text": [
      "/Users/jayceepang/miniconda3/envs/atom2024/lib/python3.9/site-packages/imblearn/ensemble/_forest.py:577: FutureWarning: The default of `sampling_strategy` will change from `'auto'` to `'all'` in version 0.13. This change will follow the implementation proposed in the original paper. Set to `'all'` to silence this warning and adopt the future behaviour.\n",
      "  warn(\n",
      "/Users/jayceepang/miniconda3/envs/atom2024/lib/python3.9/site-packages/imblearn/ensemble/_forest.py:589: FutureWarning: The default of `replacement` will change from `False` to `True` in version 0.13. This change will follow the implementation proposed in the original paper. Set to `True` to silence this warning and adopt the future behaviour.\n",
      "  warn(\n"
     ]
    },
    {
     "name": "stdout",
     "output_type": "stream",
     "text": [
      "TRAIN: acc: 1.000, precision: 1.000, recall: 1.000, spec: 1.000\n",
      "TEST: acc: 0.632, precision: 0.600, recall: 0.667, spec: 0.600\n",
      "func:'rf_models'  took: 0.2348 sec\n",
      "\n",
      "NEK9_binding_MFP_UNDER_BRFC_BCW_fold2\n"
     ]
    },
    {
     "name": "stderr",
     "output_type": "stream",
     "text": [
      "/Users/jayceepang/miniconda3/envs/atom2024/lib/python3.9/site-packages/imblearn/ensemble/_forest.py:577: FutureWarning: The default of `sampling_strategy` will change from `'auto'` to `'all'` in version 0.13. This change will follow the implementation proposed in the original paper. Set to `'all'` to silence this warning and adopt the future behaviour.\n",
      "  warn(\n",
      "/Users/jayceepang/miniconda3/envs/atom2024/lib/python3.9/site-packages/imblearn/ensemble/_forest.py:589: FutureWarning: The default of `replacement` will change from `False` to `True` in version 0.13. This change will follow the implementation proposed in the original paper. Set to `True` to silence this warning and adopt the future behaviour.\n",
      "  warn(\n"
     ]
    },
    {
     "name": "stdout",
     "output_type": "stream",
     "text": [
      "TRAIN: acc: 1.000, precision: 1.000, recall: 1.000, spec: 1.000\n",
      "TEST: acc: 0.632, precision: 0.600, recall: 0.667, spec: 0.600\n",
      "func:'rf_models'  took: 0.3087 sec\n",
      "\n",
      "NEK9_binding_MFP_UNDER_RF_fold3\n",
      "TRAIN: acc: 1.000, precision: 1.000, recall: 1.000, spec: 1.000\n",
      "TEST: acc: 0.789, precision: 0.778, recall: 0.778, spec: 0.800\n",
      "func:'rf_models'  took: 0.1708 sec\n",
      "\n",
      "NEK9_binding_MFP_UNDER_RF_BCW_fold3\n",
      "TRAIN: acc: 1.000, precision: 1.000, recall: 1.000, spec: 1.000\n",
      "TEST: acc: 0.842, precision: 0.875, recall: 0.778, spec: 0.900\n",
      "func:'rf_models'  took: 0.1800 sec\n",
      "\n",
      "NEK9_binding_MFP_UNDER_BRFC_fold3\n"
     ]
    },
    {
     "name": "stderr",
     "output_type": "stream",
     "text": [
      "/Users/jayceepang/miniconda3/envs/atom2024/lib/python3.9/site-packages/imblearn/ensemble/_forest.py:577: FutureWarning: The default of `sampling_strategy` will change from `'auto'` to `'all'` in version 0.13. This change will follow the implementation proposed in the original paper. Set to `'all'` to silence this warning and adopt the future behaviour.\n",
      "  warn(\n",
      "/Users/jayceepang/miniconda3/envs/atom2024/lib/python3.9/site-packages/imblearn/ensemble/_forest.py:589: FutureWarning: The default of `replacement` will change from `False` to `True` in version 0.13. This change will follow the implementation proposed in the original paper. Set to `True` to silence this warning and adopt the future behaviour.\n",
      "  warn(\n"
     ]
    },
    {
     "name": "stdout",
     "output_type": "stream",
     "text": [
      "TRAIN: acc: 1.000, precision: 1.000, recall: 1.000, spec: 1.000\n",
      "TEST: acc: 0.789, precision: 0.778, recall: 0.778, spec: 0.800\n",
      "func:'rf_models'  took: 0.2294 sec\n",
      "\n",
      "NEK9_binding_MFP_UNDER_BRFC_BCW_fold3\n"
     ]
    },
    {
     "name": "stderr",
     "output_type": "stream",
     "text": [
      "/Users/jayceepang/miniconda3/envs/atom2024/lib/python3.9/site-packages/imblearn/ensemble/_forest.py:577: FutureWarning: The default of `sampling_strategy` will change from `'auto'` to `'all'` in version 0.13. This change will follow the implementation proposed in the original paper. Set to `'all'` to silence this warning and adopt the future behaviour.\n",
      "  warn(\n",
      "/Users/jayceepang/miniconda3/envs/atom2024/lib/python3.9/site-packages/imblearn/ensemble/_forest.py:589: FutureWarning: The default of `replacement` will change from `False` to `True` in version 0.13. This change will follow the implementation proposed in the original paper. Set to `True` to silence this warning and adopt the future behaviour.\n",
      "  warn(\n"
     ]
    },
    {
     "name": "stdout",
     "output_type": "stream",
     "text": [
      "TRAIN: acc: 1.000, precision: 1.000, recall: 1.000, spec: 1.000\n",
      "TEST: acc: 0.789, precision: 0.778, recall: 0.778, spec: 0.800\n",
      "func:'rf_models'  took: 0.2368 sec\n",
      "\n",
      "NEK9_binding_MFP_UNDER_RF_fold4\n",
      "TRAIN: acc: 1.000, precision: 1.000, recall: 1.000, spec: 1.000\n",
      "TEST: acc: 0.684, precision: 0.700, recall: 0.700, spec: 0.667\n",
      "func:'rf_models'  took: 0.1721 sec\n",
      "\n",
      "NEK9_binding_MFP_UNDER_RF_BCW_fold4\n",
      "TRAIN: acc: 1.000, precision: 1.000, recall: 1.000, spec: 1.000\n",
      "TEST: acc: 0.684, precision: 0.700, recall: 0.700, spec: 0.667\n",
      "func:'rf_models'  took: 0.1831 sec\n",
      "\n",
      "NEK9_binding_MFP_UNDER_BRFC_fold4\n"
     ]
    },
    {
     "name": "stderr",
     "output_type": "stream",
     "text": [
      "/Users/jayceepang/miniconda3/envs/atom2024/lib/python3.9/site-packages/imblearn/ensemble/_forest.py:577: FutureWarning: The default of `sampling_strategy` will change from `'auto'` to `'all'` in version 0.13. This change will follow the implementation proposed in the original paper. Set to `'all'` to silence this warning and adopt the future behaviour.\n",
      "  warn(\n",
      "/Users/jayceepang/miniconda3/envs/atom2024/lib/python3.9/site-packages/imblearn/ensemble/_forest.py:589: FutureWarning: The default of `replacement` will change from `False` to `True` in version 0.13. This change will follow the implementation proposed in the original paper. Set to `True` to silence this warning and adopt the future behaviour.\n",
      "  warn(\n"
     ]
    },
    {
     "name": "stdout",
     "output_type": "stream",
     "text": [
      "TRAIN: acc: 1.000, precision: 1.000, recall: 1.000, spec: 1.000\n",
      "TEST: acc: 0.684, precision: 0.700, recall: 0.700, spec: 0.667\n",
      "func:'rf_models'  took: 0.2323 sec\n",
      "\n",
      "NEK9_binding_MFP_UNDER_BRFC_BCW_fold4\n"
     ]
    },
    {
     "name": "stderr",
     "output_type": "stream",
     "text": [
      "/Users/jayceepang/miniconda3/envs/atom2024/lib/python3.9/site-packages/imblearn/ensemble/_forest.py:577: FutureWarning: The default of `sampling_strategy` will change from `'auto'` to `'all'` in version 0.13. This change will follow the implementation proposed in the original paper. Set to `'all'` to silence this warning and adopt the future behaviour.\n",
      "  warn(\n",
      "/Users/jayceepang/miniconda3/envs/atom2024/lib/python3.9/site-packages/imblearn/ensemble/_forest.py:589: FutureWarning: The default of `replacement` will change from `False` to `True` in version 0.13. This change will follow the implementation proposed in the original paper. Set to `True` to silence this warning and adopt the future behaviour.\n",
      "  warn(\n"
     ]
    },
    {
     "name": "stdout",
     "output_type": "stream",
     "text": [
      "TRAIN: acc: 1.000, precision: 1.000, recall: 1.000, spec: 1.000\n",
      "TEST: acc: 0.684, precision: 0.700, recall: 0.700, spec: 0.667\n",
      "func:'rf_models'  took: 0.2434 sec\n",
      "\n",
      "NEK9_binding_MFP_UNDER_RF_fold5\n",
      "TRAIN: acc: 1.000, precision: 1.000, recall: 1.000, spec: 1.000\n",
      "TEST: acc: 0.632, precision: 0.636, recall: 0.700, spec: 0.556\n",
      "func:'rf_models'  took: 0.1774 sec\n",
      "\n",
      "NEK9_binding_MFP_UNDER_RF_BCW_fold5\n",
      "TRAIN: acc: 1.000, precision: 1.000, recall: 1.000, spec: 1.000\n",
      "TEST: acc: 0.632, precision: 0.636, recall: 0.700, spec: 0.556\n",
      "func:'rf_models'  took: 0.1927 sec\n",
      "\n",
      "NEK9_binding_MFP_UNDER_BRFC_fold5\n"
     ]
    },
    {
     "name": "stderr",
     "output_type": "stream",
     "text": [
      "/Users/jayceepang/miniconda3/envs/atom2024/lib/python3.9/site-packages/imblearn/ensemble/_forest.py:577: FutureWarning: The default of `sampling_strategy` will change from `'auto'` to `'all'` in version 0.13. This change will follow the implementation proposed in the original paper. Set to `'all'` to silence this warning and adopt the future behaviour.\n",
      "  warn(\n",
      "/Users/jayceepang/miniconda3/envs/atom2024/lib/python3.9/site-packages/imblearn/ensemble/_forest.py:589: FutureWarning: The default of `replacement` will change from `False` to `True` in version 0.13. This change will follow the implementation proposed in the original paper. Set to `True` to silence this warning and adopt the future behaviour.\n",
      "  warn(\n"
     ]
    },
    {
     "name": "stdout",
     "output_type": "stream",
     "text": [
      "TRAIN: acc: 1.000, precision: 1.000, recall: 1.000, spec: 1.000\n",
      "TEST: acc: 0.632, precision: 0.636, recall: 0.700, spec: 0.556\n",
      "func:'rf_models'  took: 0.2375 sec\n",
      "\n",
      "NEK9_binding_MFP_UNDER_BRFC_BCW_fold5\n"
     ]
    },
    {
     "name": "stderr",
     "output_type": "stream",
     "text": [
      "/Users/jayceepang/miniconda3/envs/atom2024/lib/python3.9/site-packages/imblearn/ensemble/_forest.py:577: FutureWarning: The default of `sampling_strategy` will change from `'auto'` to `'all'` in version 0.13. This change will follow the implementation proposed in the original paper. Set to `'all'` to silence this warning and adopt the future behaviour.\n",
      "  warn(\n",
      "/Users/jayceepang/miniconda3/envs/atom2024/lib/python3.9/site-packages/imblearn/ensemble/_forest.py:589: FutureWarning: The default of `replacement` will change from `False` to `True` in version 0.13. This change will follow the implementation proposed in the original paper. Set to `True` to silence this warning and adopt the future behaviour.\n",
      "  warn(\n"
     ]
    },
    {
     "name": "stdout",
     "output_type": "stream",
     "text": [
      "TRAIN: acc: 1.000, precision: 1.000, recall: 1.000, spec: 1.000\n",
      "TEST: acc: 0.632, precision: 0.636, recall: 0.700, spec: 0.556\n",
      "func:'rf_models'  took: 0.2460 sec\n",
      "\n",
      "NEK9_binding_MFP_SMOTE_RF_fold1\n",
      "TRAIN: acc: 1.000, precision: 1.000, recall: 1.000, spec: 1.000\n",
      "TEST: acc: 0.968, precision: 0.972, recall: 0.963, spec: 0.972\n",
      "func:'rf_models'  took: 6.1128 sec\n",
      "\n",
      "NEK9_binding_MFP_SMOTE_RF_BCW_fold1\n",
      "TRAIN: acc: 1.000, precision: 1.000, recall: 1.000, spec: 1.000\n",
      "TEST: acc: 0.965, precision: 0.972, recall: 0.958, spec: 0.972\n",
      "func:'rf_models'  took: 6.0922 sec\n",
      "\n",
      "NEK9_binding_MFP_SMOTE_BRFC_fold1\n"
     ]
    },
    {
     "name": "stderr",
     "output_type": "stream",
     "text": [
      "/Users/jayceepang/miniconda3/envs/atom2024/lib/python3.9/site-packages/imblearn/ensemble/_forest.py:577: FutureWarning: The default of `sampling_strategy` will change from `'auto'` to `'all'` in version 0.13. This change will follow the implementation proposed in the original paper. Set to `'all'` to silence this warning and adopt the future behaviour.\n",
      "  warn(\n",
      "/Users/jayceepang/miniconda3/envs/atom2024/lib/python3.9/site-packages/imblearn/ensemble/_forest.py:589: FutureWarning: The default of `replacement` will change from `False` to `True` in version 0.13. This change will follow the implementation proposed in the original paper. Set to `True` to silence this warning and adopt the future behaviour.\n",
      "  warn(\n"
     ]
    },
    {
     "name": "stdout",
     "output_type": "stream",
     "text": [
      "TRAIN: acc: 1.000, precision: 1.000, recall: 1.000, spec: 1.000\n",
      "TEST: acc: 0.968, precision: 0.972, recall: 0.963, spec: 0.972\n",
      "func:'rf_models'  took: 7.4766 sec\n",
      "\n",
      "NEK9_binding_MFP_SMOTE_BRFC_BCW_fold1\n"
     ]
    },
    {
     "name": "stderr",
     "output_type": "stream",
     "text": [
      "/Users/jayceepang/miniconda3/envs/atom2024/lib/python3.9/site-packages/imblearn/ensemble/_forest.py:577: FutureWarning: The default of `sampling_strategy` will change from `'auto'` to `'all'` in version 0.13. This change will follow the implementation proposed in the original paper. Set to `'all'` to silence this warning and adopt the future behaviour.\n",
      "  warn(\n",
      "/Users/jayceepang/miniconda3/envs/atom2024/lib/python3.9/site-packages/imblearn/ensemble/_forest.py:589: FutureWarning: The default of `replacement` will change from `False` to `True` in version 0.13. This change will follow the implementation proposed in the original paper. Set to `True` to silence this warning and adopt the future behaviour.\n",
      "  warn(\n"
     ]
    },
    {
     "name": "stdout",
     "output_type": "stream",
     "text": [
      "TRAIN: acc: 1.000, precision: 1.000, recall: 1.000, spec: 1.000\n",
      "TEST: acc: 0.968, precision: 0.972, recall: 0.963, spec: 0.972\n",
      "func:'rf_models'  took: 7.5344 sec\n",
      "\n",
      "NEK9_binding_MFP_SMOTE_RF_fold2\n",
      "TRAIN: acc: 0.999, precision: 1.000, recall: 0.999, spec: 1.000\n",
      "TEST: acc: 0.965, precision: 0.950, recall: 0.981, spec: 0.949\n",
      "func:'rf_models'  took: 6.2748 sec\n",
      "\n",
      "NEK9_binding_MFP_SMOTE_RF_BCW_fold2\n",
      "TRAIN: acc: 0.999, precision: 1.000, recall: 0.999, spec: 1.000\n",
      "TEST: acc: 0.972, precision: 0.963, recall: 0.981, spec: 0.963\n",
      "func:'rf_models'  took: 7.2364 sec\n",
      "\n",
      "NEK9_binding_MFP_SMOTE_BRFC_fold2\n"
     ]
    },
    {
     "name": "stderr",
     "output_type": "stream",
     "text": [
      "/Users/jayceepang/miniconda3/envs/atom2024/lib/python3.9/site-packages/imblearn/ensemble/_forest.py:577: FutureWarning: The default of `sampling_strategy` will change from `'auto'` to `'all'` in version 0.13. This change will follow the implementation proposed in the original paper. Set to `'all'` to silence this warning and adopt the future behaviour.\n",
      "  warn(\n",
      "/Users/jayceepang/miniconda3/envs/atom2024/lib/python3.9/site-packages/imblearn/ensemble/_forest.py:589: FutureWarning: The default of `replacement` will change from `False` to `True` in version 0.13. This change will follow the implementation proposed in the original paper. Set to `True` to silence this warning and adopt the future behaviour.\n",
      "  warn(\n"
     ]
    },
    {
     "name": "stdout",
     "output_type": "stream",
     "text": [
      "TRAIN: acc: 0.999, precision: 1.000, recall: 0.999, spec: 1.000\n",
      "TEST: acc: 0.961, precision: 0.942, recall: 0.981, spec: 0.940\n",
      "func:'rf_models'  took: 7.9523 sec\n",
      "\n",
      "NEK9_binding_MFP_SMOTE_BRFC_BCW_fold2\n"
     ]
    },
    {
     "name": "stderr",
     "output_type": "stream",
     "text": [
      "/Users/jayceepang/miniconda3/envs/atom2024/lib/python3.9/site-packages/imblearn/ensemble/_forest.py:577: FutureWarning: The default of `sampling_strategy` will change from `'auto'` to `'all'` in version 0.13. This change will follow the implementation proposed in the original paper. Set to `'all'` to silence this warning and adopt the future behaviour.\n",
      "  warn(\n",
      "/Users/jayceepang/miniconda3/envs/atom2024/lib/python3.9/site-packages/imblearn/ensemble/_forest.py:589: FutureWarning: The default of `replacement` will change from `False` to `True` in version 0.13. This change will follow the implementation proposed in the original paper. Set to `True` to silence this warning and adopt the future behaviour.\n",
      "  warn(\n"
     ]
    },
    {
     "name": "stdout",
     "output_type": "stream",
     "text": [
      "TRAIN: acc: 0.999, precision: 1.000, recall: 0.999, spec: 1.000\n",
      "TEST: acc: 0.963, precision: 0.946, recall: 0.981, spec: 0.944\n",
      "func:'rf_models'  took: 8.9924 sec\n",
      "\n",
      "NEK9_binding_MFP_SMOTE_RF_fold3\n",
      "TRAIN: acc: 1.000, precision: 1.000, recall: 1.000, spec: 1.000\n",
      "TEST: acc: 0.970, precision: 0.968, recall: 0.972, spec: 0.968\n",
      "func:'rf_models'  took: 5.5022 sec\n",
      "\n",
      "NEK9_binding_MFP_SMOTE_RF_BCW_fold3\n",
      "TRAIN: acc: 1.000, precision: 1.000, recall: 1.000, spec: 1.000\n",
      "TEST: acc: 0.970, precision: 0.968, recall: 0.972, spec: 0.968\n",
      "func:'rf_models'  took: 5.4841 sec\n",
      "\n",
      "NEK9_binding_MFP_SMOTE_BRFC_fold3\n"
     ]
    },
    {
     "name": "stderr",
     "output_type": "stream",
     "text": [
      "/Users/jayceepang/miniconda3/envs/atom2024/lib/python3.9/site-packages/imblearn/ensemble/_forest.py:577: FutureWarning: The default of `sampling_strategy` will change from `'auto'` to `'all'` in version 0.13. This change will follow the implementation proposed in the original paper. Set to `'all'` to silence this warning and adopt the future behaviour.\n",
      "  warn(\n",
      "/Users/jayceepang/miniconda3/envs/atom2024/lib/python3.9/site-packages/imblearn/ensemble/_forest.py:589: FutureWarning: The default of `replacement` will change from `False` to `True` in version 0.13. This change will follow the implementation proposed in the original paper. Set to `True` to silence this warning and adopt the future behaviour.\n",
      "  warn(\n"
     ]
    },
    {
     "name": "stdout",
     "output_type": "stream",
     "text": [
      "TRAIN: acc: 1.000, precision: 1.000, recall: 1.000, spec: 1.000\n",
      "TEST: acc: 0.972, precision: 0.972, recall: 0.972, spec: 0.972\n",
      "func:'rf_models'  took: 7.3177 sec\n",
      "\n",
      "NEK9_binding_MFP_SMOTE_BRFC_BCW_fold3\n"
     ]
    },
    {
     "name": "stderr",
     "output_type": "stream",
     "text": [
      "/Users/jayceepang/miniconda3/envs/atom2024/lib/python3.9/site-packages/imblearn/ensemble/_forest.py:577: FutureWarning: The default of `sampling_strategy` will change from `'auto'` to `'all'` in version 0.13. This change will follow the implementation proposed in the original paper. Set to `'all'` to silence this warning and adopt the future behaviour.\n",
      "  warn(\n",
      "/Users/jayceepang/miniconda3/envs/atom2024/lib/python3.9/site-packages/imblearn/ensemble/_forest.py:589: FutureWarning: The default of `replacement` will change from `False` to `True` in version 0.13. This change will follow the implementation proposed in the original paper. Set to `True` to silence this warning and adopt the future behaviour.\n",
      "  warn(\n"
     ]
    },
    {
     "name": "stdout",
     "output_type": "stream",
     "text": [
      "TRAIN: acc: 1.000, precision: 1.000, recall: 1.000, spec: 1.000\n",
      "TEST: acc: 0.974, precision: 0.977, recall: 0.972, spec: 0.977\n",
      "func:'rf_models'  took: 7.1752 sec\n",
      "\n",
      "NEK9_binding_MFP_SMOTE_RF_fold4\n",
      "TRAIN: acc: 0.999, precision: 1.000, recall: 0.999, spec: 1.000\n",
      "TEST: acc: 0.961, precision: 0.946, recall: 0.977, spec: 0.944\n",
      "func:'rf_models'  took: 6.0828 sec\n",
      "\n",
      "NEK9_binding_MFP_SMOTE_RF_BCW_fold4\n",
      "TRAIN: acc: 0.999, precision: 0.999, recall: 1.000, spec: 0.999\n",
      "TEST: acc: 0.961, precision: 0.946, recall: 0.977, spec: 0.944\n",
      "func:'rf_models'  took: 6.4447 sec\n",
      "\n",
      "NEK9_binding_MFP_SMOTE_BRFC_fold4\n"
     ]
    },
    {
     "name": "stderr",
     "output_type": "stream",
     "text": [
      "/Users/jayceepang/miniconda3/envs/atom2024/lib/python3.9/site-packages/imblearn/ensemble/_forest.py:577: FutureWarning: The default of `sampling_strategy` will change from `'auto'` to `'all'` in version 0.13. This change will follow the implementation proposed in the original paper. Set to `'all'` to silence this warning and adopt the future behaviour.\n",
      "  warn(\n",
      "/Users/jayceepang/miniconda3/envs/atom2024/lib/python3.9/site-packages/imblearn/ensemble/_forest.py:589: FutureWarning: The default of `replacement` will change from `False` to `True` in version 0.13. This change will follow the implementation proposed in the original paper. Set to `True` to silence this warning and adopt the future behaviour.\n",
      "  warn(\n"
     ]
    },
    {
     "name": "stdout",
     "output_type": "stream",
     "text": [
      "TRAIN: acc: 0.999, precision: 1.000, recall: 0.999, spec: 1.000\n",
      "TEST: acc: 0.961, precision: 0.946, recall: 0.977, spec: 0.944\n",
      "func:'rf_models'  took: 7.4996 sec\n",
      "\n",
      "NEK9_binding_MFP_SMOTE_BRFC_BCW_fold4\n"
     ]
    },
    {
     "name": "stderr",
     "output_type": "stream",
     "text": [
      "/Users/jayceepang/miniconda3/envs/atom2024/lib/python3.9/site-packages/imblearn/ensemble/_forest.py:577: FutureWarning: The default of `sampling_strategy` will change from `'auto'` to `'all'` in version 0.13. This change will follow the implementation proposed in the original paper. Set to `'all'` to silence this warning and adopt the future behaviour.\n",
      "  warn(\n",
      "/Users/jayceepang/miniconda3/envs/atom2024/lib/python3.9/site-packages/imblearn/ensemble/_forest.py:589: FutureWarning: The default of `replacement` will change from `False` to `True` in version 0.13. This change will follow the implementation proposed in the original paper. Set to `True` to silence this warning and adopt the future behaviour.\n",
      "  warn(\n"
     ]
    },
    {
     "name": "stdout",
     "output_type": "stream",
     "text": [
      "TRAIN: acc: 0.999, precision: 0.999, recall: 1.000, spec: 0.999\n",
      "TEST: acc: 0.961, precision: 0.946, recall: 0.977, spec: 0.944\n",
      "func:'rf_models'  took: 7.8474 sec\n",
      "\n",
      "NEK9_binding_MFP_SMOTE_RF_fold5\n",
      "TRAIN: acc: 0.999, precision: 1.000, recall: 0.999, spec: 1.000\n",
      "TEST: acc: 0.968, precision: 0.968, recall: 0.968, spec: 0.967\n",
      "func:'rf_models'  took: 4.9386 sec\n",
      "\n",
      "NEK9_binding_MFP_SMOTE_RF_BCW_fold5\n",
      "TRAIN: acc: 0.999, precision: 0.999, recall: 1.000, spec: 0.999\n",
      "TEST: acc: 0.968, precision: 0.968, recall: 0.968, spec: 0.967\n",
      "func:'rf_models'  took: 5.2280 sec\n",
      "\n",
      "NEK9_binding_MFP_SMOTE_BRFC_fold5\n"
     ]
    },
    {
     "name": "stderr",
     "output_type": "stream",
     "text": [
      "/Users/jayceepang/miniconda3/envs/atom2024/lib/python3.9/site-packages/imblearn/ensemble/_forest.py:577: FutureWarning: The default of `sampling_strategy` will change from `'auto'` to `'all'` in version 0.13. This change will follow the implementation proposed in the original paper. Set to `'all'` to silence this warning and adopt the future behaviour.\n",
      "  warn(\n",
      "/Users/jayceepang/miniconda3/envs/atom2024/lib/python3.9/site-packages/imblearn/ensemble/_forest.py:589: FutureWarning: The default of `replacement` will change from `False` to `True` in version 0.13. This change will follow the implementation proposed in the original paper. Set to `True` to silence this warning and adopt the future behaviour.\n",
      "  warn(\n"
     ]
    },
    {
     "name": "stdout",
     "output_type": "stream",
     "text": [
      "TRAIN: acc: 0.999, precision: 1.000, recall: 0.999, spec: 1.000\n",
      "TEST: acc: 0.968, precision: 0.968, recall: 0.968, spec: 0.967\n",
      "func:'rf_models'  took: 6.3112 sec\n",
      "\n",
      "NEK9_binding_MFP_SMOTE_BRFC_BCW_fold5\n"
     ]
    },
    {
     "name": "stderr",
     "output_type": "stream",
     "text": [
      "/Users/jayceepang/miniconda3/envs/atom2024/lib/python3.9/site-packages/imblearn/ensemble/_forest.py:577: FutureWarning: The default of `sampling_strategy` will change from `'auto'` to `'all'` in version 0.13. This change will follow the implementation proposed in the original paper. Set to `'all'` to silence this warning and adopt the future behaviour.\n",
      "  warn(\n",
      "/Users/jayceepang/miniconda3/envs/atom2024/lib/python3.9/site-packages/imblearn/ensemble/_forest.py:589: FutureWarning: The default of `replacement` will change from `False` to `True` in version 0.13. This change will follow the implementation proposed in the original paper. Set to `True` to silence this warning and adopt the future behaviour.\n",
      "  warn(\n"
     ]
    },
    {
     "name": "stdout",
     "output_type": "stream",
     "text": [
      "TRAIN: acc: 0.999, precision: 0.999, recall: 1.000, spec: 0.999\n",
      "TEST: acc: 0.965, precision: 0.967, recall: 0.963, spec: 0.967\n",
      "func:'rf_models'  took: 6.6165 sec\n",
      "\n",
      "NEK9_binding_MFP_ADASYN_RF_fold1\n",
      "TRAIN: acc: 1.000, precision: 1.000, recall: 1.000, spec: 1.000\n",
      "TEST: acc: 0.970, precision: 0.959, recall: 0.981, spec: 0.958\n",
      "func:'rf_models'  took: 7.3632 sec\n",
      "\n",
      "NEK9_binding_MFP_ADASYN_RF_BCW_fold1\n",
      "TRAIN: acc: 1.000, precision: 1.000, recall: 1.000, spec: 1.000\n",
      "TEST: acc: 0.968, precision: 0.959, recall: 0.977, spec: 0.958\n",
      "func:'rf_models'  took: 7.9506 sec\n",
      "\n",
      "NEK9_binding_MFP_ADASYN_BRFC_fold1\n"
     ]
    },
    {
     "name": "stderr",
     "output_type": "stream",
     "text": [
      "/Users/jayceepang/miniconda3/envs/atom2024/lib/python3.9/site-packages/imblearn/ensemble/_forest.py:577: FutureWarning: The default of `sampling_strategy` will change from `'auto'` to `'all'` in version 0.13. This change will follow the implementation proposed in the original paper. Set to `'all'` to silence this warning and adopt the future behaviour.\n",
      "  warn(\n",
      "/Users/jayceepang/miniconda3/envs/atom2024/lib/python3.9/site-packages/imblearn/ensemble/_forest.py:589: FutureWarning: The default of `replacement` will change from `False` to `True` in version 0.13. This change will follow the implementation proposed in the original paper. Set to `True` to silence this warning and adopt the future behaviour.\n",
      "  warn(\n"
     ]
    },
    {
     "name": "stdout",
     "output_type": "stream",
     "text": [
      "TRAIN: acc: 1.000, precision: 1.000, recall: 1.000, spec: 1.000\n",
      "TEST: acc: 0.970, precision: 0.959, recall: 0.981, spec: 0.958\n",
      "func:'rf_models'  took: 9.0053 sec\n",
      "\n",
      "NEK9_binding_MFP_ADASYN_BRFC_BCW_fold1\n"
     ]
    },
    {
     "name": "stderr",
     "output_type": "stream",
     "text": [
      "/Users/jayceepang/miniconda3/envs/atom2024/lib/python3.9/site-packages/imblearn/ensemble/_forest.py:577: FutureWarning: The default of `sampling_strategy` will change from `'auto'` to `'all'` in version 0.13. This change will follow the implementation proposed in the original paper. Set to `'all'` to silence this warning and adopt the future behaviour.\n",
      "  warn(\n",
      "/Users/jayceepang/miniconda3/envs/atom2024/lib/python3.9/site-packages/imblearn/ensemble/_forest.py:589: FutureWarning: The default of `replacement` will change from `False` to `True` in version 0.13. This change will follow the implementation proposed in the original paper. Set to `True` to silence this warning and adopt the future behaviour.\n",
      "  warn(\n"
     ]
    },
    {
     "name": "stdout",
     "output_type": "stream",
     "text": [
      "TRAIN: acc: 1.000, precision: 1.000, recall: 1.000, spec: 1.000\n",
      "TEST: acc: 0.968, precision: 0.959, recall: 0.977, spec: 0.958\n",
      "func:'rf_models'  took: 9.4810 sec\n",
      "\n",
      "NEK9_binding_MFP_ADASYN_RF_fold2\n",
      "TRAIN: acc: 0.999, precision: 1.000, recall: 0.999, spec: 1.000\n",
      "TEST: acc: 0.968, precision: 0.959, recall: 0.977, spec: 0.958\n",
      "func:'rf_models'  took: 8.0227 sec\n",
      "\n",
      "NEK9_binding_MFP_ADASYN_RF_BCW_fold2\n",
      "TRAIN: acc: 0.999, precision: 0.999, recall: 1.000, spec: 0.999\n",
      "TEST: acc: 0.970, precision: 0.963, recall: 0.977, spec: 0.963\n",
      "func:'rf_models'  took: 8.5161 sec\n",
      "\n",
      "NEK9_binding_MFP_ADASYN_BRFC_fold2\n"
     ]
    },
    {
     "name": "stderr",
     "output_type": "stream",
     "text": [
      "/Users/jayceepang/miniconda3/envs/atom2024/lib/python3.9/site-packages/imblearn/ensemble/_forest.py:577: FutureWarning: The default of `sampling_strategy` will change from `'auto'` to `'all'` in version 0.13. This change will follow the implementation proposed in the original paper. Set to `'all'` to silence this warning and adopt the future behaviour.\n",
      "  warn(\n",
      "/Users/jayceepang/miniconda3/envs/atom2024/lib/python3.9/site-packages/imblearn/ensemble/_forest.py:589: FutureWarning: The default of `replacement` will change from `False` to `True` in version 0.13. This change will follow the implementation proposed in the original paper. Set to `True` to silence this warning and adopt the future behaviour.\n",
      "  warn(\n"
     ]
    },
    {
     "name": "stdout",
     "output_type": "stream",
     "text": [
      "TRAIN: acc: 0.999, precision: 0.999, recall: 1.000, spec: 0.999\n",
      "TEST: acc: 0.970, precision: 0.963, recall: 0.977, spec: 0.963\n",
      "func:'rf_models'  took: 9.7685 sec\n",
      "\n",
      "NEK9_binding_MFP_ADASYN_BRFC_BCW_fold2\n"
     ]
    },
    {
     "name": "stderr",
     "output_type": "stream",
     "text": [
      "/Users/jayceepang/miniconda3/envs/atom2024/lib/python3.9/site-packages/imblearn/ensemble/_forest.py:577: FutureWarning: The default of `sampling_strategy` will change from `'auto'` to `'all'` in version 0.13. This change will follow the implementation proposed in the original paper. Set to `'all'` to silence this warning and adopt the future behaviour.\n",
      "  warn(\n",
      "/Users/jayceepang/miniconda3/envs/atom2024/lib/python3.9/site-packages/imblearn/ensemble/_forest.py:589: FutureWarning: The default of `replacement` will change from `False` to `True` in version 0.13. This change will follow the implementation proposed in the original paper. Set to `True` to silence this warning and adopt the future behaviour.\n",
      "  warn(\n"
     ]
    },
    {
     "name": "stdout",
     "output_type": "stream",
     "text": [
      "TRAIN: acc: 0.999, precision: 0.999, recall: 1.000, spec: 0.999\n",
      "TEST: acc: 0.970, precision: 0.963, recall: 0.977, spec: 0.963\n",
      "func:'rf_models'  took: 10.1892 sec\n",
      "\n",
      "NEK9_binding_MFP_ADASYN_RF_fold3\n",
      "TRAIN: acc: 1.000, precision: 1.000, recall: 1.000, spec: 1.000\n",
      "TEST: acc: 0.963, precision: 0.954, recall: 0.972, spec: 0.954\n",
      "func:'rf_models'  took: 8.5738 sec\n",
      "\n",
      "NEK9_binding_MFP_ADASYN_RF_BCW_fold3\n",
      "TRAIN: acc: 1.000, precision: 1.000, recall: 1.000, spec: 1.000\n",
      "TEST: acc: 0.961, precision: 0.950, recall: 0.972, spec: 0.949\n",
      "func:'rf_models'  took: 9.0031 sec\n",
      "\n",
      "NEK9_binding_MFP_ADASYN_BRFC_fold3\n"
     ]
    },
    {
     "name": "stderr",
     "output_type": "stream",
     "text": [
      "/Users/jayceepang/miniconda3/envs/atom2024/lib/python3.9/site-packages/imblearn/ensemble/_forest.py:577: FutureWarning: The default of `sampling_strategy` will change from `'auto'` to `'all'` in version 0.13. This change will follow the implementation proposed in the original paper. Set to `'all'` to silence this warning and adopt the future behaviour.\n",
      "  warn(\n",
      "/Users/jayceepang/miniconda3/envs/atom2024/lib/python3.9/site-packages/imblearn/ensemble/_forest.py:589: FutureWarning: The default of `replacement` will change from `False` to `True` in version 0.13. This change will follow the implementation proposed in the original paper. Set to `True` to silence this warning and adopt the future behaviour.\n",
      "  warn(\n"
     ]
    },
    {
     "name": "stdout",
     "output_type": "stream",
     "text": [
      "TRAIN: acc: 1.000, precision: 1.000, recall: 1.000, spec: 1.000\n",
      "TEST: acc: 0.963, precision: 0.954, recall: 0.972, spec: 0.954\n",
      "func:'rf_models'  took: 10.5373 sec\n",
      "\n",
      "NEK9_binding_MFP_ADASYN_BRFC_BCW_fold3\n"
     ]
    },
    {
     "name": "stderr",
     "output_type": "stream",
     "text": [
      "/Users/jayceepang/miniconda3/envs/atom2024/lib/python3.9/site-packages/imblearn/ensemble/_forest.py:577: FutureWarning: The default of `sampling_strategy` will change from `'auto'` to `'all'` in version 0.13. This change will follow the implementation proposed in the original paper. Set to `'all'` to silence this warning and adopt the future behaviour.\n",
      "  warn(\n",
      "/Users/jayceepang/miniconda3/envs/atom2024/lib/python3.9/site-packages/imblearn/ensemble/_forest.py:589: FutureWarning: The default of `replacement` will change from `False` to `True` in version 0.13. This change will follow the implementation proposed in the original paper. Set to `True` to silence this warning and adopt the future behaviour.\n",
      "  warn(\n"
     ]
    },
    {
     "name": "stdout",
     "output_type": "stream",
     "text": [
      "TRAIN: acc: 1.000, precision: 1.000, recall: 1.000, spec: 1.000\n",
      "TEST: acc: 0.958, precision: 0.946, recall: 0.972, spec: 0.944\n",
      "func:'rf_models'  took: 10.9533 sec\n",
      "\n",
      "NEK9_binding_MFP_ADASYN_RF_fold4\n",
      "TRAIN: acc: 0.999, precision: 1.000, recall: 0.999, spec: 1.000\n",
      "TEST: acc: 0.965, precision: 0.967, recall: 0.963, spec: 0.967\n",
      "func:'rf_models'  took: 7.7849 sec\n",
      "\n",
      "NEK9_binding_MFP_ADASYN_RF_BCW_fold4\n",
      "TRAIN: acc: 0.999, precision: 0.999, recall: 1.000, spec: 0.999\n",
      "TEST: acc: 0.963, precision: 0.972, recall: 0.953, spec: 0.972\n",
      "func:'rf_models'  took: 8.1564 sec\n",
      "\n",
      "NEK9_binding_MFP_ADASYN_BRFC_fold4\n"
     ]
    },
    {
     "name": "stderr",
     "output_type": "stream",
     "text": [
      "/Users/jayceepang/miniconda3/envs/atom2024/lib/python3.9/site-packages/imblearn/ensemble/_forest.py:577: FutureWarning: The default of `sampling_strategy` will change from `'auto'` to `'all'` in version 0.13. This change will follow the implementation proposed in the original paper. Set to `'all'` to silence this warning and adopt the future behaviour.\n",
      "  warn(\n",
      "/Users/jayceepang/miniconda3/envs/atom2024/lib/python3.9/site-packages/imblearn/ensemble/_forest.py:589: FutureWarning: The default of `replacement` will change from `False` to `True` in version 0.13. This change will follow the implementation proposed in the original paper. Set to `True` to silence this warning and adopt the future behaviour.\n",
      "  warn(\n"
     ]
    },
    {
     "name": "stdout",
     "output_type": "stream",
     "text": [
      "TRAIN: acc: 0.999, precision: 1.000, recall: 0.999, spec: 1.000\n",
      "TEST: acc: 0.965, precision: 0.972, recall: 0.958, spec: 0.972\n",
      "func:'rf_models'  took: 9.4296 sec\n",
      "\n",
      "NEK9_binding_MFP_ADASYN_BRFC_BCW_fold4\n"
     ]
    },
    {
     "name": "stderr",
     "output_type": "stream",
     "text": [
      "/Users/jayceepang/miniconda3/envs/atom2024/lib/python3.9/site-packages/imblearn/ensemble/_forest.py:577: FutureWarning: The default of `sampling_strategy` will change from `'auto'` to `'all'` in version 0.13. This change will follow the implementation proposed in the original paper. Set to `'all'` to silence this warning and adopt the future behaviour.\n",
      "  warn(\n",
      "/Users/jayceepang/miniconda3/envs/atom2024/lib/python3.9/site-packages/imblearn/ensemble/_forest.py:589: FutureWarning: The default of `replacement` will change from `False` to `True` in version 0.13. This change will follow the implementation proposed in the original paper. Set to `True` to silence this warning and adopt the future behaviour.\n",
      "  warn(\n"
     ]
    },
    {
     "name": "stdout",
     "output_type": "stream",
     "text": [
      "TRAIN: acc: 0.999, precision: 0.999, recall: 1.000, spec: 0.999\n",
      "TEST: acc: 0.963, precision: 0.967, recall: 0.958, spec: 0.967\n",
      "func:'rf_models'  took: 9.8823 sec\n",
      "\n",
      "NEK9_binding_MFP_ADASYN_RF_fold5\n",
      "TRAIN: acc: 0.999, precision: 1.000, recall: 0.999, spec: 1.000\n",
      "TEST: acc: 0.963, precision: 0.959, recall: 0.967, spec: 0.958\n",
      "func:'rf_models'  took: 7.8868 sec\n",
      "\n",
      "NEK9_binding_MFP_ADASYN_RF_BCW_fold5\n",
      "TRAIN: acc: 0.999, precision: 0.999, recall: 1.000, spec: 0.999\n",
      "TEST: acc: 0.960, precision: 0.954, recall: 0.967, spec: 0.953\n",
      "func:'rf_models'  took: 8.1317 sec\n",
      "\n",
      "NEK9_binding_MFP_ADASYN_BRFC_fold5\n"
     ]
    },
    {
     "name": "stderr",
     "output_type": "stream",
     "text": [
      "/Users/jayceepang/miniconda3/envs/atom2024/lib/python3.9/site-packages/imblearn/ensemble/_forest.py:577: FutureWarning: The default of `sampling_strategy` will change from `'auto'` to `'all'` in version 0.13. This change will follow the implementation proposed in the original paper. Set to `'all'` to silence this warning and adopt the future behaviour.\n",
      "  warn(\n",
      "/Users/jayceepang/miniconda3/envs/atom2024/lib/python3.9/site-packages/imblearn/ensemble/_forest.py:589: FutureWarning: The default of `replacement` will change from `False` to `True` in version 0.13. This change will follow the implementation proposed in the original paper. Set to `True` to silence this warning and adopt the future behaviour.\n",
      "  warn(\n"
     ]
    },
    {
     "name": "stdout",
     "output_type": "stream",
     "text": [
      "TRAIN: acc: 0.999, precision: 1.000, recall: 0.999, spec: 1.000\n",
      "TEST: acc: 0.960, precision: 0.954, recall: 0.967, spec: 0.953\n",
      "func:'rf_models'  took: 9.2595 sec\n",
      "\n",
      "NEK9_binding_MFP_ADASYN_BRFC_BCW_fold5\n"
     ]
    },
    {
     "name": "stderr",
     "output_type": "stream",
     "text": [
      "/Users/jayceepang/miniconda3/envs/atom2024/lib/python3.9/site-packages/imblearn/ensemble/_forest.py:577: FutureWarning: The default of `sampling_strategy` will change from `'auto'` to `'all'` in version 0.13. This change will follow the implementation proposed in the original paper. Set to `'all'` to silence this warning and adopt the future behaviour.\n",
      "  warn(\n",
      "/Users/jayceepang/miniconda3/envs/atom2024/lib/python3.9/site-packages/imblearn/ensemble/_forest.py:589: FutureWarning: The default of `replacement` will change from `False` to `True` in version 0.13. This change will follow the implementation proposed in the original paper. Set to `True` to silence this warning and adopt the future behaviour.\n",
      "  warn(\n"
     ]
    },
    {
     "name": "stdout",
     "output_type": "stream",
     "text": [
      "TRAIN: acc: 0.999, precision: 0.999, recall: 1.000, spec: 0.999\n",
      "TEST: acc: 0.963, precision: 0.959, recall: 0.967, spec: 0.958\n",
      "func:'rf_models'  took: 9.8343 sec\n",
      "\n",
      "NEK9_inhibition_MOE_none_scaled_RF_fold1\n",
      "TRAIN: acc: 1.000, precision: 1.000, recall: 1.000, spec: 1.000\n",
      "TEST: acc: 0.889, precision: 0.500, recall: 0.143, spec: 0.982\n",
      "func:'rf_models'  took: 1.4121 sec\n",
      "\n",
      "NEK9_inhibition_MOE_none_scaled_RF_BCW_fold1\n",
      "TRAIN: acc: 1.000, precision: 1.000, recall: 1.000, spec: 1.000\n",
      "TEST: acc: 0.905, precision: 0.571, recall: 0.571, spec: 0.946\n",
      "func:'rf_models'  took: 0.8889 sec\n",
      "\n",
      "NEK9_inhibition_MOE_none_scaled_BRFC_fold1\n"
     ]
    },
    {
     "name": "stderr",
     "output_type": "stream",
     "text": [
      "/Users/jayceepang/miniconda3/envs/atom2024/lib/python3.9/site-packages/imblearn/ensemble/_forest.py:577: FutureWarning: The default of `sampling_strategy` will change from `'auto'` to `'all'` in version 0.13. This change will follow the implementation proposed in the original paper. Set to `'all'` to silence this warning and adopt the future behaviour.\n",
      "  warn(\n",
      "/Users/jayceepang/miniconda3/envs/atom2024/lib/python3.9/site-packages/imblearn/ensemble/_forest.py:589: FutureWarning: The default of `replacement` will change from `False` to `True` in version 0.13. This change will follow the implementation proposed in the original paper. Set to `True` to silence this warning and adopt the future behaviour.\n",
      "  warn(\n"
     ]
    },
    {
     "name": "stdout",
     "output_type": "stream",
     "text": [
      "TRAIN: acc: 0.928, precision: 0.591, recall: 1.000, spec: 0.920\n",
      "TEST: acc: 0.873, precision: 0.444, recall: 0.571, spec: 0.911\n",
      "func:'rf_models'  took: 0.1907 sec\n",
      "\n",
      "NEK9_inhibition_MOE_none_scaled_BRFC_BCW_fold1\n"
     ]
    },
    {
     "name": "stderr",
     "output_type": "stream",
     "text": [
      "/Users/jayceepang/miniconda3/envs/atom2024/lib/python3.9/site-packages/imblearn/ensemble/_forest.py:577: FutureWarning: The default of `sampling_strategy` will change from `'auto'` to `'all'` in version 0.13. This change will follow the implementation proposed in the original paper. Set to `'all'` to silence this warning and adopt the future behaviour.\n",
      "  warn(\n",
      "/Users/jayceepang/miniconda3/envs/atom2024/lib/python3.9/site-packages/imblearn/ensemble/_forest.py:589: FutureWarning: The default of `replacement` will change from `False` to `True` in version 0.13. This change will follow the implementation proposed in the original paper. Set to `True` to silence this warning and adopt the future behaviour.\n",
      "  warn(\n"
     ]
    },
    {
     "name": "stdout",
     "output_type": "stream",
     "text": [
      "TRAIN: acc: 0.924, precision: 0.578, recall: 1.000, spec: 0.915\n",
      "TEST: acc: 0.873, precision: 0.444, recall: 0.571, spec: 0.911\n",
      "func:'rf_models'  took: 0.2131 sec\n",
      "\n",
      "NEK9_inhibition_MOE_none_scaled_RF_fold2\n",
      "TRAIN: acc: 1.000, precision: 1.000, recall: 1.000, spec: 1.000\n",
      "TEST: acc: 0.905, precision: 0.600, recall: 0.429, spec: 0.964\n",
      "func:'rf_models'  took: 1.1730 sec\n",
      "\n",
      "NEK9_inhibition_MOE_none_scaled_RF_BCW_fold2\n",
      "TRAIN: acc: 1.000, precision: 1.000, recall: 1.000, spec: 1.000\n",
      "TEST: acc: 0.921, precision: 0.667, recall: 0.571, spec: 0.964\n",
      "func:'rf_models'  took: 0.9482 sec\n",
      "\n",
      "NEK9_inhibition_MOE_none_scaled_BRFC_fold2\n"
     ]
    },
    {
     "name": "stderr",
     "output_type": "stream",
     "text": [
      "/Users/jayceepang/miniconda3/envs/atom2024/lib/python3.9/site-packages/imblearn/ensemble/_forest.py:577: FutureWarning: The default of `sampling_strategy` will change from `'auto'` to `'all'` in version 0.13. This change will follow the implementation proposed in the original paper. Set to `'all'` to silence this warning and adopt the future behaviour.\n",
      "  warn(\n",
      "/Users/jayceepang/miniconda3/envs/atom2024/lib/python3.9/site-packages/imblearn/ensemble/_forest.py:589: FutureWarning: The default of `replacement` will change from `False` to `True` in version 0.13. This change will follow the implementation proposed in the original paper. Set to `True` to silence this warning and adopt the future behaviour.\n",
      "  warn(\n"
     ]
    },
    {
     "name": "stdout",
     "output_type": "stream",
     "text": [
      "TRAIN: acc: 0.916, precision: 0.553, recall: 1.000, spec: 0.906\n",
      "TEST: acc: 0.921, precision: 0.583, recall: 1.000, spec: 0.911\n",
      "func:'rf_models'  took: 0.1941 sec\n",
      "\n",
      "NEK9_inhibition_MOE_none_scaled_BRFC_BCW_fold2\n"
     ]
    },
    {
     "name": "stderr",
     "output_type": "stream",
     "text": [
      "/Users/jayceepang/miniconda3/envs/atom2024/lib/python3.9/site-packages/imblearn/ensemble/_forest.py:577: FutureWarning: The default of `sampling_strategy` will change from `'auto'` to `'all'` in version 0.13. This change will follow the implementation proposed in the original paper. Set to `'all'` to silence this warning and adopt the future behaviour.\n",
      "  warn(\n",
      "/Users/jayceepang/miniconda3/envs/atom2024/lib/python3.9/site-packages/imblearn/ensemble/_forest.py:589: FutureWarning: The default of `replacement` will change from `False` to `True` in version 0.13. This change will follow the implementation proposed in the original paper. Set to `True` to silence this warning and adopt the future behaviour.\n",
      "  warn(\n"
     ]
    },
    {
     "name": "stdout",
     "output_type": "stream",
     "text": [
      "TRAIN: acc: 0.912, precision: 0.542, recall: 1.000, spec: 0.902\n",
      "TEST: acc: 0.921, precision: 0.600, recall: 0.857, spec: 0.929\n",
      "func:'rf_models'  took: 0.2256 sec\n",
      "\n",
      "NEK9_inhibition_MOE_none_scaled_RF_fold3\n",
      "TRAIN: acc: 1.000, precision: 1.000, recall: 1.000, spec: 1.000\n",
      "TEST: acc: 0.952, precision: 0.833, recall: 0.714, spec: 0.982\n",
      "func:'rf_models'  took: 1.4162 sec\n",
      "\n",
      "NEK9_inhibition_MOE_none_scaled_RF_BCW_fold3\n",
      "TRAIN: acc: 1.000, precision: 1.000, recall: 1.000, spec: 1.000\n",
      "TEST: acc: 0.921, precision: 0.625, recall: 0.714, spec: 0.946\n",
      "func:'rf_models'  took: 0.9507 sec\n",
      "\n",
      "NEK9_inhibition_MOE_none_scaled_BRFC_fold3\n"
     ]
    },
    {
     "name": "stderr",
     "output_type": "stream",
     "text": [
      "/Users/jayceepang/miniconda3/envs/atom2024/lib/python3.9/site-packages/imblearn/ensemble/_forest.py:577: FutureWarning: The default of `sampling_strategy` will change from `'auto'` to `'all'` in version 0.13. This change will follow the implementation proposed in the original paper. Set to `'all'` to silence this warning and adopt the future behaviour.\n",
      "  warn(\n",
      "/Users/jayceepang/miniconda3/envs/atom2024/lib/python3.9/site-packages/imblearn/ensemble/_forest.py:589: FutureWarning: The default of `replacement` will change from `False` to `True` in version 0.13. This change will follow the implementation proposed in the original paper. Set to `True` to silence this warning and adopt the future behaviour.\n",
      "  warn(\n"
     ]
    },
    {
     "name": "stdout",
     "output_type": "stream",
     "text": [
      "TRAIN: acc: 0.904, precision: 0.520, recall: 1.000, spec: 0.893\n",
      "TEST: acc: 0.873, precision: 0.467, recall: 1.000, spec: 0.857\n",
      "func:'rf_models'  took: 0.1914 sec\n",
      "\n",
      "NEK9_inhibition_MOE_none_scaled_BRFC_BCW_fold3\n"
     ]
    },
    {
     "name": "stderr",
     "output_type": "stream",
     "text": [
      "/Users/jayceepang/miniconda3/envs/atom2024/lib/python3.9/site-packages/imblearn/ensemble/_forest.py:577: FutureWarning: The default of `sampling_strategy` will change from `'auto'` to `'all'` in version 0.13. This change will follow the implementation proposed in the original paper. Set to `'all'` to silence this warning and adopt the future behaviour.\n",
      "  warn(\n",
      "/Users/jayceepang/miniconda3/envs/atom2024/lib/python3.9/site-packages/imblearn/ensemble/_forest.py:589: FutureWarning: The default of `replacement` will change from `False` to `True` in version 0.13. This change will follow the implementation proposed in the original paper. Set to `True` to silence this warning and adopt the future behaviour.\n",
      "  warn(\n"
     ]
    },
    {
     "name": "stdout",
     "output_type": "stream",
     "text": [
      "TRAIN: acc: 0.908, precision: 0.531, recall: 1.000, spec: 0.897\n",
      "TEST: acc: 0.889, precision: 0.500, recall: 0.857, spec: 0.893\n",
      "func:'rf_models'  took: 0.2297 sec\n",
      "\n",
      "NEK9_inhibition_MOE_none_scaled_RF_fold4\n",
      "TRAIN: acc: 1.000, precision: 1.000, recall: 1.000, spec: 1.000\n",
      "TEST: acc: 0.935, precision: 0.667, recall: 0.667, spec: 0.964\n",
      "func:'rf_models'  took: 1.2186 sec\n",
      "\n",
      "NEK9_inhibition_MOE_none_scaled_RF_BCW_fold4\n",
      "TRAIN: acc: 1.000, precision: 1.000, recall: 1.000, spec: 1.000\n",
      "TEST: acc: 0.952, precision: 0.800, recall: 0.667, spec: 0.982\n",
      "func:'rf_models'  took: 0.9643 sec\n",
      "\n",
      "NEK9_inhibition_MOE_none_scaled_BRFC_fold4\n"
     ]
    },
    {
     "name": "stderr",
     "output_type": "stream",
     "text": [
      "/Users/jayceepang/miniconda3/envs/atom2024/lib/python3.9/site-packages/imblearn/ensemble/_forest.py:577: FutureWarning: The default of `sampling_strategy` will change from `'auto'` to `'all'` in version 0.13. This change will follow the implementation proposed in the original paper. Set to `'all'` to silence this warning and adopt the future behaviour.\n",
      "  warn(\n",
      "/Users/jayceepang/miniconda3/envs/atom2024/lib/python3.9/site-packages/imblearn/ensemble/_forest.py:589: FutureWarning: The default of `replacement` will change from `False` to `True` in version 0.13. This change will follow the implementation proposed in the original paper. Set to `True` to silence this warning and adopt the future behaviour.\n",
      "  warn(\n"
     ]
    },
    {
     "name": "stdout",
     "output_type": "stream",
     "text": [
      "TRAIN: acc: 0.928, precision: 0.600, recall: 1.000, spec: 0.920\n",
      "TEST: acc: 0.919, precision: 0.556, recall: 0.833, spec: 0.929\n",
      "func:'rf_models'  took: 0.2008 sec\n",
      "\n",
      "NEK9_inhibition_MOE_none_scaled_BRFC_BCW_fold4\n"
     ]
    },
    {
     "name": "stderr",
     "output_type": "stream",
     "text": [
      "/Users/jayceepang/miniconda3/envs/atom2024/lib/python3.9/site-packages/imblearn/ensemble/_forest.py:577: FutureWarning: The default of `sampling_strategy` will change from `'auto'` to `'all'` in version 0.13. This change will follow the implementation proposed in the original paper. Set to `'all'` to silence this warning and adopt the future behaviour.\n",
      "  warn(\n",
      "/Users/jayceepang/miniconda3/envs/atom2024/lib/python3.9/site-packages/imblearn/ensemble/_forest.py:589: FutureWarning: The default of `replacement` will change from `False` to `True` in version 0.13. This change will follow the implementation proposed in the original paper. Set to `True` to silence this warning and adopt the future behaviour.\n",
      "  warn(\n"
     ]
    },
    {
     "name": "stdout",
     "output_type": "stream",
     "text": [
      "TRAIN: acc: 0.928, precision: 0.600, recall: 1.000, spec: 0.920\n",
      "TEST: acc: 0.903, precision: 0.500, recall: 0.833, spec: 0.911\n",
      "func:'rf_models'  took: 0.2369 sec\n",
      "\n",
      "NEK9_inhibition_MOE_none_scaled_RF_fold5\n",
      "TRAIN: acc: 1.000, precision: 1.000, recall: 1.000, spec: 1.000\n",
      "TEST: acc: 0.935, precision: 0.667, recall: 0.667, spec: 0.964\n",
      "func:'rf_models'  took: 1.1960 sec\n",
      "\n",
      "NEK9_inhibition_MOE_none_scaled_RF_BCW_fold5\n",
      "TRAIN: acc: 1.000, precision: 1.000, recall: 1.000, spec: 1.000\n",
      "TEST: acc: 0.935, precision: 0.667, recall: 0.667, spec: 0.964\n",
      "func:'rf_models'  took: 0.9268 sec\n",
      "\n",
      "NEK9_inhibition_MOE_none_scaled_BRFC_fold5\n"
     ]
    },
    {
     "name": "stderr",
     "output_type": "stream",
     "text": [
      "/Users/jayceepang/miniconda3/envs/atom2024/lib/python3.9/site-packages/imblearn/ensemble/_forest.py:577: FutureWarning: The default of `sampling_strategy` will change from `'auto'` to `'all'` in version 0.13. This change will follow the implementation proposed in the original paper. Set to `'all'` to silence this warning and adopt the future behaviour.\n",
      "  warn(\n",
      "/Users/jayceepang/miniconda3/envs/atom2024/lib/python3.9/site-packages/imblearn/ensemble/_forest.py:589: FutureWarning: The default of `replacement` will change from `False` to `True` in version 0.13. This change will follow the implementation proposed in the original paper. Set to `True` to silence this warning and adopt the future behaviour.\n",
      "  warn(\n"
     ]
    },
    {
     "name": "stdout",
     "output_type": "stream",
     "text": [
      "TRAIN: acc: 0.952, precision: 0.692, recall: 1.000, spec: 0.946\n",
      "TEST: acc: 0.903, precision: 0.500, recall: 0.833, spec: 0.911\n",
      "func:'rf_models'  took: 0.2053 sec\n",
      "\n",
      "NEK9_inhibition_MOE_none_scaled_BRFC_BCW_fold5\n"
     ]
    },
    {
     "name": "stderr",
     "output_type": "stream",
     "text": [
      "/Users/jayceepang/miniconda3/envs/atom2024/lib/python3.9/site-packages/imblearn/ensemble/_forest.py:577: FutureWarning: The default of `sampling_strategy` will change from `'auto'` to `'all'` in version 0.13. This change will follow the implementation proposed in the original paper. Set to `'all'` to silence this warning and adopt the future behaviour.\n",
      "  warn(\n",
      "/Users/jayceepang/miniconda3/envs/atom2024/lib/python3.9/site-packages/imblearn/ensemble/_forest.py:589: FutureWarning: The default of `replacement` will change from `False` to `True` in version 0.13. This change will follow the implementation proposed in the original paper. Set to `True` to silence this warning and adopt the future behaviour.\n",
      "  warn(\n"
     ]
    },
    {
     "name": "stdout",
     "output_type": "stream",
     "text": [
      "TRAIN: acc: 0.944, precision: 0.659, recall: 1.000, spec: 0.938\n",
      "TEST: acc: 0.903, precision: 0.500, recall: 0.833, spec: 0.911\n",
      "func:'rf_models'  took: 0.2963 sec\n",
      "\n",
      "NEK9_inhibition_MOE_UNDER_RF_fold1\n",
      "TRAIN: acc: 1.000, precision: 1.000, recall: 1.000, spec: 1.000\n",
      "TEST: acc: 0.714, precision: 0.714, recall: 0.714, spec: 0.714\n",
      "func:'rf_models'  took: 0.1883 sec\n",
      "\n",
      "NEK9_inhibition_MOE_UNDER_RF_BCW_fold1\n",
      "TRAIN: acc: 1.000, precision: 1.000, recall: 1.000, spec: 1.000\n",
      "TEST: acc: 0.714, precision: 0.714, recall: 0.714, spec: 0.714\n",
      "func:'rf_models'  took: 0.1934 sec\n",
      "\n",
      "NEK9_inhibition_MOE_UNDER_BRFC_fold1\n"
     ]
    },
    {
     "name": "stderr",
     "output_type": "stream",
     "text": [
      "/Users/jayceepang/miniconda3/envs/atom2024/lib/python3.9/site-packages/imblearn/ensemble/_forest.py:577: FutureWarning: The default of `sampling_strategy` will change from `'auto'` to `'all'` in version 0.13. This change will follow the implementation proposed in the original paper. Set to `'all'` to silence this warning and adopt the future behaviour.\n",
      "  warn(\n",
      "/Users/jayceepang/miniconda3/envs/atom2024/lib/python3.9/site-packages/imblearn/ensemble/_forest.py:589: FutureWarning: The default of `replacement` will change from `False` to `True` in version 0.13. This change will follow the implementation proposed in the original paper. Set to `True` to silence this warning and adopt the future behaviour.\n",
      "  warn(\n"
     ]
    },
    {
     "name": "stdout",
     "output_type": "stream",
     "text": [
      "TRAIN: acc: 1.000, precision: 1.000, recall: 1.000, spec: 1.000\n",
      "TEST: acc: 0.714, precision: 0.714, recall: 0.714, spec: 0.714\n",
      "func:'rf_models'  took: 0.2219 sec\n",
      "\n",
      "NEK9_inhibition_MOE_UNDER_BRFC_BCW_fold1\n"
     ]
    },
    {
     "name": "stderr",
     "output_type": "stream",
     "text": [
      "/Users/jayceepang/miniconda3/envs/atom2024/lib/python3.9/site-packages/imblearn/ensemble/_forest.py:577: FutureWarning: The default of `sampling_strategy` will change from `'auto'` to `'all'` in version 0.13. This change will follow the implementation proposed in the original paper. Set to `'all'` to silence this warning and adopt the future behaviour.\n",
      "  warn(\n",
      "/Users/jayceepang/miniconda3/envs/atom2024/lib/python3.9/site-packages/imblearn/ensemble/_forest.py:589: FutureWarning: The default of `replacement` will change from `False` to `True` in version 0.13. This change will follow the implementation proposed in the original paper. Set to `True` to silence this warning and adopt the future behaviour.\n",
      "  warn(\n"
     ]
    },
    {
     "name": "stdout",
     "output_type": "stream",
     "text": [
      "TRAIN: acc: 1.000, precision: 1.000, recall: 1.000, spec: 1.000\n",
      "TEST: acc: 0.714, precision: 0.714, recall: 0.714, spec: 0.714\n",
      "func:'rf_models'  took: 0.2288 sec\n",
      "\n",
      "NEK9_inhibition_MOE_UNDER_RF_fold2\n",
      "TRAIN: acc: 1.000, precision: 1.000, recall: 1.000, spec: 1.000\n",
      "TEST: acc: 1.000, precision: 1.000, recall: 1.000, spec: 1.000\n",
      "func:'rf_models'  took: 0.1495 sec\n",
      "\n",
      "NEK9_inhibition_MOE_UNDER_RF_BCW_fold2\n",
      "TRAIN: acc: 1.000, precision: 1.000, recall: 1.000, spec: 1.000\n",
      "TEST: acc: 0.846, precision: 0.750, recall: 1.000, spec: 0.714\n",
      "func:'rf_models'  took: 0.1680 sec\n",
      "\n",
      "NEK9_inhibition_MOE_UNDER_BRFC_fold2\n",
      "TRAIN: acc: 1.000, precision: 1.000, recall: 1.000, spec: 1.000\n",
      "TEST: acc: 0.923, precision: 0.857, recall: 1.000, spec: 0.857\n",
      "func:'rf_models'  took: 0.1805 sec\n",
      "\n",
      "NEK9_inhibition_MOE_UNDER_BRFC_BCW_fold2\n"
     ]
    },
    {
     "name": "stderr",
     "output_type": "stream",
     "text": [
      "/Users/jayceepang/miniconda3/envs/atom2024/lib/python3.9/site-packages/imblearn/ensemble/_forest.py:577: FutureWarning: The default of `sampling_strategy` will change from `'auto'` to `'all'` in version 0.13. This change will follow the implementation proposed in the original paper. Set to `'all'` to silence this warning and adopt the future behaviour.\n",
      "  warn(\n",
      "/Users/jayceepang/miniconda3/envs/atom2024/lib/python3.9/site-packages/imblearn/ensemble/_forest.py:589: FutureWarning: The default of `replacement` will change from `False` to `True` in version 0.13. This change will follow the implementation proposed in the original paper. Set to `True` to silence this warning and adopt the future behaviour.\n",
      "  warn(\n",
      "/Users/jayceepang/miniconda3/envs/atom2024/lib/python3.9/site-packages/imblearn/ensemble/_forest.py:577: FutureWarning: The default of `sampling_strategy` will change from `'auto'` to `'all'` in version 0.13. This change will follow the implementation proposed in the original paper. Set to `'all'` to silence this warning and adopt the future behaviour.\n",
      "  warn(\n",
      "/Users/jayceepang/miniconda3/envs/atom2024/lib/python3.9/site-packages/imblearn/ensemble/_forest.py:589: FutureWarning: The default of `replacement` will change from `False` to `True` in version 0.13. This change will follow the implementation proposed in the original paper. Set to `True` to silence this warning and adopt the future behaviour.\n",
      "  warn(\n"
     ]
    },
    {
     "name": "stdout",
     "output_type": "stream",
     "text": [
      "TRAIN: acc: 1.000, precision: 1.000, recall: 1.000, spec: 1.000\n",
      "TEST: acc: 0.846, precision: 0.750, recall: 1.000, spec: 0.714\n",
      "func:'rf_models'  took: 0.1977 sec\n",
      "\n",
      "NEK9_inhibition_MOE_UNDER_RF_fold3\n",
      "TRAIN: acc: 1.000, precision: 1.000, recall: 1.000, spec: 1.000\n",
      "TEST: acc: 0.769, precision: 0.667, recall: 1.000, spec: 0.571\n",
      "func:'rf_models'  took: 0.1499 sec\n",
      "\n",
      "NEK9_inhibition_MOE_UNDER_RF_BCW_fold3\n",
      "TRAIN: acc: 1.000, precision: 1.000, recall: 1.000, spec: 1.000\n",
      "TEST: acc: 0.769, precision: 0.667, recall: 1.000, spec: 0.571\n",
      "func:'rf_models'  took: 0.1686 sec\n",
      "\n",
      "NEK9_inhibition_MOE_UNDER_BRFC_fold3\n",
      "TRAIN: acc: 1.000, precision: 1.000, recall: 1.000, spec: 1.000\n",
      "TEST: acc: 0.769, precision: 0.667, recall: 1.000, spec: 0.571\n",
      "func:'rf_models'  took: 0.1825 sec\n",
      "\n",
      "NEK9_inhibition_MOE_UNDER_BRFC_BCW_fold3\n"
     ]
    },
    {
     "name": "stderr",
     "output_type": "stream",
     "text": [
      "/Users/jayceepang/miniconda3/envs/atom2024/lib/python3.9/site-packages/imblearn/ensemble/_forest.py:577: FutureWarning: The default of `sampling_strategy` will change from `'auto'` to `'all'` in version 0.13. This change will follow the implementation proposed in the original paper. Set to `'all'` to silence this warning and adopt the future behaviour.\n",
      "  warn(\n",
      "/Users/jayceepang/miniconda3/envs/atom2024/lib/python3.9/site-packages/imblearn/ensemble/_forest.py:589: FutureWarning: The default of `replacement` will change from `False` to `True` in version 0.13. This change will follow the implementation proposed in the original paper. Set to `True` to silence this warning and adopt the future behaviour.\n",
      "  warn(\n",
      "/Users/jayceepang/miniconda3/envs/atom2024/lib/python3.9/site-packages/imblearn/ensemble/_forest.py:577: FutureWarning: The default of `sampling_strategy` will change from `'auto'` to `'all'` in version 0.13. This change will follow the implementation proposed in the original paper. Set to `'all'` to silence this warning and adopt the future behaviour.\n",
      "  warn(\n",
      "/Users/jayceepang/miniconda3/envs/atom2024/lib/python3.9/site-packages/imblearn/ensemble/_forest.py:589: FutureWarning: The default of `replacement` will change from `False` to `True` in version 0.13. This change will follow the implementation proposed in the original paper. Set to `True` to silence this warning and adopt the future behaviour.\n",
      "  warn(\n"
     ]
    },
    {
     "name": "stdout",
     "output_type": "stream",
     "text": [
      "TRAIN: acc: 1.000, precision: 1.000, recall: 1.000, spec: 1.000\n",
      "TEST: acc: 0.769, precision: 0.667, recall: 1.000, spec: 0.571\n",
      "func:'rf_models'  took: 0.1947 sec\n",
      "\n",
      "NEK9_inhibition_MOE_UNDER_RF_fold4\n",
      "TRAIN: acc: 1.000, precision: 1.000, recall: 1.000, spec: 1.000\n",
      "TEST: acc: 0.615, precision: 0.667, recall: 0.571, spec: 0.667\n",
      "func:'rf_models'  took: 0.1540 sec\n",
      "\n",
      "NEK9_inhibition_MOE_UNDER_RF_BCW_fold4\n",
      "TRAIN: acc: 1.000, precision: 1.000, recall: 1.000, spec: 1.000\n",
      "TEST: acc: 0.769, precision: 0.750, recall: 0.857, spec: 0.667\n",
      "func:'rf_models'  took: 0.1608 sec\n",
      "\n",
      "NEK9_inhibition_MOE_UNDER_BRFC_fold4\n",
      "TRAIN: acc: 1.000, precision: 1.000, recall: 1.000, spec: 1.000\n",
      "TEST: acc: 0.769, precision: 0.750, recall: 0.857, spec: 0.667\n",
      "func:'rf_models'  took: 0.1889 sec\n",
      "\n"
     ]
    },
    {
     "name": "stderr",
     "output_type": "stream",
     "text": [
      "/Users/jayceepang/miniconda3/envs/atom2024/lib/python3.9/site-packages/imblearn/ensemble/_forest.py:577: FutureWarning: The default of `sampling_strategy` will change from `'auto'` to `'all'` in version 0.13. This change will follow the implementation proposed in the original paper. Set to `'all'` to silence this warning and adopt the future behaviour.\n",
      "  warn(\n",
      "/Users/jayceepang/miniconda3/envs/atom2024/lib/python3.9/site-packages/imblearn/ensemble/_forest.py:589: FutureWarning: The default of `replacement` will change from `False` to `True` in version 0.13. This change will follow the implementation proposed in the original paper. Set to `True` to silence this warning and adopt the future behaviour.\n",
      "  warn(\n"
     ]
    },
    {
     "name": "stdout",
     "output_type": "stream",
     "text": [
      "NEK9_inhibition_MOE_UNDER_BRFC_BCW_fold4\n",
      "TRAIN: acc: 1.000, precision: 1.000, recall: 1.000, spec: 1.000\n",
      "TEST: acc: 0.769, precision: 0.750, recall: 0.857, spec: 0.667\n",
      "func:'rf_models'  took: 0.2031 sec\n",
      "\n"
     ]
    },
    {
     "name": "stderr",
     "output_type": "stream",
     "text": [
      "/Users/jayceepang/miniconda3/envs/atom2024/lib/python3.9/site-packages/imblearn/ensemble/_forest.py:577: FutureWarning: The default of `sampling_strategy` will change from `'auto'` to `'all'` in version 0.13. This change will follow the implementation proposed in the original paper. Set to `'all'` to silence this warning and adopt the future behaviour.\n",
      "  warn(\n",
      "/Users/jayceepang/miniconda3/envs/atom2024/lib/python3.9/site-packages/imblearn/ensemble/_forest.py:589: FutureWarning: The default of `replacement` will change from `False` to `True` in version 0.13. This change will follow the implementation proposed in the original paper. Set to `True` to silence this warning and adopt the future behaviour.\n",
      "  warn(\n"
     ]
    },
    {
     "name": "stdout",
     "output_type": "stream",
     "text": [
      "NEK9_inhibition_MOE_UNDER_RF_fold5\n",
      "TRAIN: acc: 1.000, precision: 1.000, recall: 1.000, spec: 1.000\n",
      "TEST: acc: 0.846, precision: 0.778, recall: 1.000, spec: 0.667\n",
      "func:'rf_models'  took: 0.1879 sec\n",
      "\n",
      "NEK9_inhibition_MOE_UNDER_RF_BCW_fold5\n",
      "TRAIN: acc: 1.000, precision: 1.000, recall: 1.000, spec: 1.000\n",
      "TEST: acc: 0.923, precision: 0.875, recall: 1.000, spec: 0.833\n",
      "func:'rf_models'  took: 0.1939 sec\n",
      "\n",
      "NEK9_inhibition_MOE_UNDER_BRFC_fold5\n",
      "TRAIN: acc: 1.000, precision: 1.000, recall: 1.000, spec: 1.000\n",
      "TEST: acc: 0.846, precision: 0.778, recall: 1.000, spec: 0.667\n",
      "func:'rf_models'  took: 0.2126 sec\n",
      "\n"
     ]
    },
    {
     "name": "stderr",
     "output_type": "stream",
     "text": [
      "/Users/jayceepang/miniconda3/envs/atom2024/lib/python3.9/site-packages/imblearn/ensemble/_forest.py:577: FutureWarning: The default of `sampling_strategy` will change from `'auto'` to `'all'` in version 0.13. This change will follow the implementation proposed in the original paper. Set to `'all'` to silence this warning and adopt the future behaviour.\n",
      "  warn(\n",
      "/Users/jayceepang/miniconda3/envs/atom2024/lib/python3.9/site-packages/imblearn/ensemble/_forest.py:589: FutureWarning: The default of `replacement` will change from `False` to `True` in version 0.13. This change will follow the implementation proposed in the original paper. Set to `True` to silence this warning and adopt the future behaviour.\n",
      "  warn(\n"
     ]
    },
    {
     "name": "stdout",
     "output_type": "stream",
     "text": [
      "NEK9_inhibition_MOE_UNDER_BRFC_BCW_fold5\n",
      "TRAIN: acc: 1.000, precision: 1.000, recall: 1.000, spec: 1.000\n",
      "TEST: acc: 0.846, precision: 0.778, recall: 1.000, spec: 0.667\n",
      "func:'rf_models'  took: 0.2225 sec\n",
      "\n"
     ]
    },
    {
     "name": "stderr",
     "output_type": "stream",
     "text": [
      "/Users/jayceepang/miniconda3/envs/atom2024/lib/python3.9/site-packages/imblearn/ensemble/_forest.py:577: FutureWarning: The default of `sampling_strategy` will change from `'auto'` to `'all'` in version 0.13. This change will follow the implementation proposed in the original paper. Set to `'all'` to silence this warning and adopt the future behaviour.\n",
      "  warn(\n",
      "/Users/jayceepang/miniconda3/envs/atom2024/lib/python3.9/site-packages/imblearn/ensemble/_forest.py:589: FutureWarning: The default of `replacement` will change from `False` to `True` in version 0.13. This change will follow the implementation proposed in the original paper. Set to `True` to silence this warning and adopt the future behaviour.\n",
      "  warn(\n"
     ]
    },
    {
     "name": "stdout",
     "output_type": "stream",
     "text": [
      "NEK9_inhibition_MOE_SMOTE_RF_fold1\n",
      "TRAIN: acc: 1.000, precision: 1.000, recall: 1.000, spec: 1.000\n",
      "TEST: acc: 0.938, precision: 0.945, recall: 0.929, spec: 0.946\n",
      "func:'rf_models'  took: 2.8412 sec\n",
      "\n",
      "NEK9_inhibition_MOE_SMOTE_RF_BCW_fold1\n",
      "TRAIN: acc: 1.000, precision: 1.000, recall: 1.000, spec: 1.000\n",
      "TEST: acc: 0.938, precision: 0.945, recall: 0.929, spec: 0.946\n",
      "func:'rf_models'  took: 2.9382 sec\n",
      "\n",
      "NEK9_inhibition_MOE_SMOTE_BRFC_fold1\n"
     ]
    },
    {
     "name": "stderr",
     "output_type": "stream",
     "text": [
      "/Users/jayceepang/miniconda3/envs/atom2024/lib/python3.9/site-packages/imblearn/ensemble/_forest.py:577: FutureWarning: The default of `sampling_strategy` will change from `'auto'` to `'all'` in version 0.13. This change will follow the implementation proposed in the original paper. Set to `'all'` to silence this warning and adopt the future behaviour.\n",
      "  warn(\n",
      "/Users/jayceepang/miniconda3/envs/atom2024/lib/python3.9/site-packages/imblearn/ensemble/_forest.py:589: FutureWarning: The default of `replacement` will change from `False` to `True` in version 0.13. This change will follow the implementation proposed in the original paper. Set to `True` to silence this warning and adopt the future behaviour.\n",
      "  warn(\n"
     ]
    },
    {
     "name": "stdout",
     "output_type": "stream",
     "text": [
      "TRAIN: acc: 1.000, precision: 1.000, recall: 1.000, spec: 1.000\n",
      "TEST: acc: 0.946, precision: 0.963, recall: 0.929, spec: 0.964\n",
      "func:'rf_models'  took: 2.8687 sec\n",
      "\n",
      "NEK9_inhibition_MOE_SMOTE_BRFC_BCW_fold1\n"
     ]
    },
    {
     "name": "stderr",
     "output_type": "stream",
     "text": [
      "/Users/jayceepang/miniconda3/envs/atom2024/lib/python3.9/site-packages/imblearn/ensemble/_forest.py:577: FutureWarning: The default of `sampling_strategy` will change from `'auto'` to `'all'` in version 0.13. This change will follow the implementation proposed in the original paper. Set to `'all'` to silence this warning and adopt the future behaviour.\n",
      "  warn(\n",
      "/Users/jayceepang/miniconda3/envs/atom2024/lib/python3.9/site-packages/imblearn/ensemble/_forest.py:589: FutureWarning: The default of `replacement` will change from `False` to `True` in version 0.13. This change will follow the implementation proposed in the original paper. Set to `True` to silence this warning and adopt the future behaviour.\n",
      "  warn(\n"
     ]
    },
    {
     "name": "stdout",
     "output_type": "stream",
     "text": [
      "TRAIN: acc: 1.000, precision: 1.000, recall: 1.000, spec: 1.000\n",
      "TEST: acc: 0.938, precision: 0.945, recall: 0.929, spec: 0.946\n",
      "func:'rf_models'  took: 2.9752 sec\n",
      "\n",
      "NEK9_inhibition_MOE_SMOTE_RF_fold2\n",
      "TRAIN: acc: 1.000, precision: 1.000, recall: 1.000, spec: 1.000\n",
      "TEST: acc: 0.973, precision: 0.965, recall: 0.982, spec: 0.964\n",
      "func:'rf_models'  took: 2.5844 sec\n",
      "\n",
      "NEK9_inhibition_MOE_SMOTE_RF_BCW_fold2\n",
      "TRAIN: acc: 1.000, precision: 1.000, recall: 1.000, spec: 1.000\n",
      "TEST: acc: 0.973, precision: 0.965, recall: 0.982, spec: 0.964\n",
      "func:'rf_models'  took: 2.6621 sec\n",
      "\n",
      "NEK9_inhibition_MOE_SMOTE_BRFC_fold2\n"
     ]
    },
    {
     "name": "stderr",
     "output_type": "stream",
     "text": [
      "/Users/jayceepang/miniconda3/envs/atom2024/lib/python3.9/site-packages/imblearn/ensemble/_forest.py:577: FutureWarning: The default of `sampling_strategy` will change from `'auto'` to `'all'` in version 0.13. This change will follow the implementation proposed in the original paper. Set to `'all'` to silence this warning and adopt the future behaviour.\n",
      "  warn(\n",
      "/Users/jayceepang/miniconda3/envs/atom2024/lib/python3.9/site-packages/imblearn/ensemble/_forest.py:589: FutureWarning: The default of `replacement` will change from `False` to `True` in version 0.13. This change will follow the implementation proposed in the original paper. Set to `True` to silence this warning and adopt the future behaviour.\n",
      "  warn(\n"
     ]
    },
    {
     "name": "stdout",
     "output_type": "stream",
     "text": [
      "TRAIN: acc: 1.000, precision: 1.000, recall: 1.000, spec: 1.000\n",
      "TEST: acc: 0.964, precision: 0.964, recall: 0.964, spec: 0.964\n",
      "func:'rf_models'  took: 2.7696 sec\n",
      "\n",
      "NEK9_inhibition_MOE_SMOTE_BRFC_BCW_fold2\n"
     ]
    },
    {
     "name": "stderr",
     "output_type": "stream",
     "text": [
      "/Users/jayceepang/miniconda3/envs/atom2024/lib/python3.9/site-packages/imblearn/ensemble/_forest.py:577: FutureWarning: The default of `sampling_strategy` will change from `'auto'` to `'all'` in version 0.13. This change will follow the implementation proposed in the original paper. Set to `'all'` to silence this warning and adopt the future behaviour.\n",
      "  warn(\n",
      "/Users/jayceepang/miniconda3/envs/atom2024/lib/python3.9/site-packages/imblearn/ensemble/_forest.py:589: FutureWarning: The default of `replacement` will change from `False` to `True` in version 0.13. This change will follow the implementation proposed in the original paper. Set to `True` to silence this warning and adopt the future behaviour.\n",
      "  warn(\n"
     ]
    },
    {
     "name": "stdout",
     "output_type": "stream",
     "text": [
      "TRAIN: acc: 1.000, precision: 1.000, recall: 1.000, spec: 1.000\n",
      "TEST: acc: 0.973, precision: 0.965, recall: 0.982, spec: 0.964\n",
      "func:'rf_models'  took: 2.6888 sec\n",
      "\n",
      "NEK9_inhibition_MOE_SMOTE_RF_fold3\n",
      "TRAIN: acc: 1.000, precision: 1.000, recall: 1.000, spec: 1.000\n",
      "TEST: acc: 0.991, precision: 1.000, recall: 0.982, spec: 1.000\n",
      "func:'rf_models'  took: 2.9984 sec\n",
      "\n",
      "NEK9_inhibition_MOE_SMOTE_RF_BCW_fold3\n",
      "TRAIN: acc: 1.000, precision: 1.000, recall: 1.000, spec: 1.000\n",
      "TEST: acc: 0.991, precision: 1.000, recall: 0.982, spec: 1.000\n",
      "func:'rf_models'  took: 3.1095 sec\n",
      "\n",
      "NEK9_inhibition_MOE_SMOTE_BRFC_fold3\n"
     ]
    },
    {
     "name": "stderr",
     "output_type": "stream",
     "text": [
      "/Users/jayceepang/miniconda3/envs/atom2024/lib/python3.9/site-packages/imblearn/ensemble/_forest.py:577: FutureWarning: The default of `sampling_strategy` will change from `'auto'` to `'all'` in version 0.13. This change will follow the implementation proposed in the original paper. Set to `'all'` to silence this warning and adopt the future behaviour.\n",
      "  warn(\n",
      "/Users/jayceepang/miniconda3/envs/atom2024/lib/python3.9/site-packages/imblearn/ensemble/_forest.py:589: FutureWarning: The default of `replacement` will change from `False` to `True` in version 0.13. This change will follow the implementation proposed in the original paper. Set to `True` to silence this warning and adopt the future behaviour.\n",
      "  warn(\n"
     ]
    },
    {
     "name": "stdout",
     "output_type": "stream",
     "text": [
      "TRAIN: acc: 1.000, precision: 1.000, recall: 1.000, spec: 1.000\n",
      "TEST: acc: 0.982, precision: 1.000, recall: 0.964, spec: 1.000\n",
      "func:'rf_models'  took: 3.0316 sec\n",
      "\n",
      "NEK9_inhibition_MOE_SMOTE_BRFC_BCW_fold3\n"
     ]
    },
    {
     "name": "stderr",
     "output_type": "stream",
     "text": [
      "/Users/jayceepang/miniconda3/envs/atom2024/lib/python3.9/site-packages/imblearn/ensemble/_forest.py:577: FutureWarning: The default of `sampling_strategy` will change from `'auto'` to `'all'` in version 0.13. This change will follow the implementation proposed in the original paper. Set to `'all'` to silence this warning and adopt the future behaviour.\n",
      "  warn(\n",
      "/Users/jayceepang/miniconda3/envs/atom2024/lib/python3.9/site-packages/imblearn/ensemble/_forest.py:589: FutureWarning: The default of `replacement` will change from `False` to `True` in version 0.13. This change will follow the implementation proposed in the original paper. Set to `True` to silence this warning and adopt the future behaviour.\n",
      "  warn(\n"
     ]
    },
    {
     "name": "stdout",
     "output_type": "stream",
     "text": [
      "TRAIN: acc: 1.000, precision: 1.000, recall: 1.000, spec: 1.000\n",
      "TEST: acc: 0.982, precision: 1.000, recall: 0.964, spec: 1.000\n",
      "func:'rf_models'  took: 3.1248 sec\n",
      "\n",
      "NEK9_inhibition_MOE_SMOTE_RF_fold4\n",
      "TRAIN: acc: 1.000, precision: 1.000, recall: 1.000, spec: 1.000\n",
      "TEST: acc: 0.938, precision: 0.930, recall: 0.946, spec: 0.929\n",
      "func:'rf_models'  took: 2.7142 sec\n",
      "\n",
      "NEK9_inhibition_MOE_SMOTE_RF_BCW_fold4\n",
      "TRAIN: acc: 1.000, precision: 1.000, recall: 1.000, spec: 1.000\n",
      "TEST: acc: 0.946, precision: 0.931, recall: 0.964, spec: 0.929\n",
      "func:'rf_models'  took: 2.8918 sec\n",
      "\n",
      "NEK9_inhibition_MOE_SMOTE_BRFC_fold4\n"
     ]
    },
    {
     "name": "stderr",
     "output_type": "stream",
     "text": [
      "/Users/jayceepang/miniconda3/envs/atom2024/lib/python3.9/site-packages/imblearn/ensemble/_forest.py:577: FutureWarning: The default of `sampling_strategy` will change from `'auto'` to `'all'` in version 0.13. This change will follow the implementation proposed in the original paper. Set to `'all'` to silence this warning and adopt the future behaviour.\n",
      "  warn(\n",
      "/Users/jayceepang/miniconda3/envs/atom2024/lib/python3.9/site-packages/imblearn/ensemble/_forest.py:589: FutureWarning: The default of `replacement` will change from `False` to `True` in version 0.13. This change will follow the implementation proposed in the original paper. Set to `True` to silence this warning and adopt the future behaviour.\n",
      "  warn(\n"
     ]
    },
    {
     "name": "stdout",
     "output_type": "stream",
     "text": [
      "TRAIN: acc: 1.000, precision: 1.000, recall: 1.000, spec: 1.000\n",
      "TEST: acc: 0.946, precision: 0.931, recall: 0.964, spec: 0.929\n",
      "func:'rf_models'  took: 2.7631 sec\n",
      "\n",
      "NEK9_inhibition_MOE_SMOTE_BRFC_BCW_fold4\n"
     ]
    },
    {
     "name": "stderr",
     "output_type": "stream",
     "text": [
      "/Users/jayceepang/miniconda3/envs/atom2024/lib/python3.9/site-packages/imblearn/ensemble/_forest.py:577: FutureWarning: The default of `sampling_strategy` will change from `'auto'` to `'all'` in version 0.13. This change will follow the implementation proposed in the original paper. Set to `'all'` to silence this warning and adopt the future behaviour.\n",
      "  warn(\n",
      "/Users/jayceepang/miniconda3/envs/atom2024/lib/python3.9/site-packages/imblearn/ensemble/_forest.py:589: FutureWarning: The default of `replacement` will change from `False` to `True` in version 0.13. This change will follow the implementation proposed in the original paper. Set to `True` to silence this warning and adopt the future behaviour.\n",
      "  warn(\n"
     ]
    },
    {
     "name": "stdout",
     "output_type": "stream",
     "text": [
      "TRAIN: acc: 1.000, precision: 1.000, recall: 1.000, spec: 1.000\n",
      "TEST: acc: 0.946, precision: 0.931, recall: 0.964, spec: 0.929\n",
      "func:'rf_models'  took: 2.8333 sec\n",
      "\n",
      "NEK9_inhibition_MOE_SMOTE_RF_fold5\n",
      "TRAIN: acc: 1.000, precision: 1.000, recall: 1.000, spec: 1.000\n",
      "TEST: acc: 0.946, precision: 0.931, recall: 0.964, spec: 0.929\n",
      "func:'rf_models'  took: 2.6327 sec\n",
      "\n",
      "NEK9_inhibition_MOE_SMOTE_RF_BCW_fold5\n",
      "TRAIN: acc: 1.000, precision: 1.000, recall: 1.000, spec: 1.000\n",
      "TEST: acc: 0.938, precision: 0.915, recall: 0.964, spec: 0.911\n",
      "func:'rf_models'  took: 2.7115 sec\n",
      "\n",
      "NEK9_inhibition_MOE_SMOTE_BRFC_fold5\n"
     ]
    },
    {
     "name": "stderr",
     "output_type": "stream",
     "text": [
      "/Users/jayceepang/miniconda3/envs/atom2024/lib/python3.9/site-packages/imblearn/ensemble/_forest.py:577: FutureWarning: The default of `sampling_strategy` will change from `'auto'` to `'all'` in version 0.13. This change will follow the implementation proposed in the original paper. Set to `'all'` to silence this warning and adopt the future behaviour.\n",
      "  warn(\n",
      "/Users/jayceepang/miniconda3/envs/atom2024/lib/python3.9/site-packages/imblearn/ensemble/_forest.py:589: FutureWarning: The default of `replacement` will change from `False` to `True` in version 0.13. This change will follow the implementation proposed in the original paper. Set to `True` to silence this warning and adopt the future behaviour.\n",
      "  warn(\n"
     ]
    },
    {
     "name": "stdout",
     "output_type": "stream",
     "text": [
      "TRAIN: acc: 1.000, precision: 1.000, recall: 1.000, spec: 1.000\n",
      "TEST: acc: 0.938, precision: 0.915, recall: 0.964, spec: 0.911\n",
      "func:'rf_models'  took: 2.6761 sec\n",
      "\n",
      "NEK9_inhibition_MOE_SMOTE_BRFC_BCW_fold5\n"
     ]
    },
    {
     "name": "stderr",
     "output_type": "stream",
     "text": [
      "/Users/jayceepang/miniconda3/envs/atom2024/lib/python3.9/site-packages/imblearn/ensemble/_forest.py:577: FutureWarning: The default of `sampling_strategy` will change from `'auto'` to `'all'` in version 0.13. This change will follow the implementation proposed in the original paper. Set to `'all'` to silence this warning and adopt the future behaviour.\n",
      "  warn(\n",
      "/Users/jayceepang/miniconda3/envs/atom2024/lib/python3.9/site-packages/imblearn/ensemble/_forest.py:589: FutureWarning: The default of `replacement` will change from `False` to `True` in version 0.13. This change will follow the implementation proposed in the original paper. Set to `True` to silence this warning and adopt the future behaviour.\n",
      "  warn(\n"
     ]
    },
    {
     "name": "stdout",
     "output_type": "stream",
     "text": [
      "TRAIN: acc: 1.000, precision: 1.000, recall: 1.000, spec: 1.000\n",
      "TEST: acc: 0.946, precision: 0.931, recall: 0.964, spec: 0.929\n",
      "func:'rf_models'  took: 2.7276 sec\n",
      "\n",
      "NEK9_inhibition_MOE_ADASYN_RF_fold1\n",
      "TRAIN: acc: 1.000, precision: 1.000, recall: 1.000, spec: 1.000\n",
      "TEST: acc: 0.982, precision: 0.965, recall: 1.000, spec: 0.964\n",
      "func:'rf_models'  took: 2.9140 sec\n",
      "\n",
      "NEK9_inhibition_MOE_ADASYN_RF_BCW_fold1\n",
      "TRAIN: acc: 1.000, precision: 1.000, recall: 1.000, spec: 1.000\n",
      "TEST: acc: 0.973, precision: 0.964, recall: 0.982, spec: 0.964\n",
      "func:'rf_models'  took: 3.0738 sec\n",
      "\n",
      "NEK9_inhibition_MOE_ADASYN_BRFC_fold1\n"
     ]
    },
    {
     "name": "stderr",
     "output_type": "stream",
     "text": [
      "/Users/jayceepang/miniconda3/envs/atom2024/lib/python3.9/site-packages/imblearn/ensemble/_forest.py:577: FutureWarning: The default of `sampling_strategy` will change from `'auto'` to `'all'` in version 0.13. This change will follow the implementation proposed in the original paper. Set to `'all'` to silence this warning and adopt the future behaviour.\n",
      "  warn(\n",
      "/Users/jayceepang/miniconda3/envs/atom2024/lib/python3.9/site-packages/imblearn/ensemble/_forest.py:589: FutureWarning: The default of `replacement` will change from `False` to `True` in version 0.13. This change will follow the implementation proposed in the original paper. Set to `True` to silence this warning and adopt the future behaviour.\n",
      "  warn(\n"
     ]
    },
    {
     "name": "stdout",
     "output_type": "stream",
     "text": [
      "TRAIN: acc: 1.000, precision: 1.000, recall: 1.000, spec: 1.000\n",
      "TEST: acc: 0.991, precision: 0.982, recall: 1.000, spec: 0.982\n",
      "func:'rf_models'  took: 2.9270 sec\n",
      "\n",
      "NEK9_inhibition_MOE_ADASYN_BRFC_BCW_fold1\n"
     ]
    },
    {
     "name": "stderr",
     "output_type": "stream",
     "text": [
      "/Users/jayceepang/miniconda3/envs/atom2024/lib/python3.9/site-packages/imblearn/ensemble/_forest.py:577: FutureWarning: The default of `sampling_strategy` will change from `'auto'` to `'all'` in version 0.13. This change will follow the implementation proposed in the original paper. Set to `'all'` to silence this warning and adopt the future behaviour.\n",
      "  warn(\n",
      "/Users/jayceepang/miniconda3/envs/atom2024/lib/python3.9/site-packages/imblearn/ensemble/_forest.py:589: FutureWarning: The default of `replacement` will change from `False` to `True` in version 0.13. This change will follow the implementation proposed in the original paper. Set to `True` to silence this warning and adopt the future behaviour.\n",
      "  warn(\n"
     ]
    },
    {
     "name": "stdout",
     "output_type": "stream",
     "text": [
      "TRAIN: acc: 1.000, precision: 1.000, recall: 1.000, spec: 1.000\n",
      "TEST: acc: 0.982, precision: 0.982, recall: 0.982, spec: 0.982\n",
      "func:'rf_models'  took: 2.9937 sec\n",
      "\n",
      "NEK9_inhibition_MOE_ADASYN_RF_fold2\n",
      "TRAIN: acc: 1.000, precision: 1.000, recall: 1.000, spec: 1.000\n",
      "TEST: acc: 0.973, precision: 0.981, recall: 0.964, spec: 0.982\n",
      "func:'rf_models'  took: 2.9769 sec\n",
      "\n",
      "NEK9_inhibition_MOE_ADASYN_RF_BCW_fold2\n",
      "TRAIN: acc: 1.000, precision: 1.000, recall: 1.000, spec: 1.000\n",
      "TEST: acc: 0.982, precision: 0.982, recall: 0.982, spec: 0.982\n",
      "func:'rf_models'  took: 3.0077 sec\n",
      "\n",
      "NEK9_inhibition_MOE_ADASYN_BRFC_fold2\n"
     ]
    },
    {
     "name": "stderr",
     "output_type": "stream",
     "text": [
      "/Users/jayceepang/miniconda3/envs/atom2024/lib/python3.9/site-packages/imblearn/ensemble/_forest.py:577: FutureWarning: The default of `sampling_strategy` will change from `'auto'` to `'all'` in version 0.13. This change will follow the implementation proposed in the original paper. Set to `'all'` to silence this warning and adopt the future behaviour.\n",
      "  warn(\n",
      "/Users/jayceepang/miniconda3/envs/atom2024/lib/python3.9/site-packages/imblearn/ensemble/_forest.py:589: FutureWarning: The default of `replacement` will change from `False` to `True` in version 0.13. This change will follow the implementation proposed in the original paper. Set to `True` to silence this warning and adopt the future behaviour.\n",
      "  warn(\n"
     ]
    },
    {
     "name": "stdout",
     "output_type": "stream",
     "text": [
      "TRAIN: acc: 1.000, precision: 1.000, recall: 1.000, spec: 1.000\n",
      "TEST: acc: 0.973, precision: 0.981, recall: 0.964, spec: 0.982\n",
      "func:'rf_models'  took: 2.9507 sec\n",
      "\n",
      "NEK9_inhibition_MOE_ADASYN_BRFC_BCW_fold2\n"
     ]
    },
    {
     "name": "stderr",
     "output_type": "stream",
     "text": [
      "/Users/jayceepang/miniconda3/envs/atom2024/lib/python3.9/site-packages/imblearn/ensemble/_forest.py:577: FutureWarning: The default of `sampling_strategy` will change from `'auto'` to `'all'` in version 0.13. This change will follow the implementation proposed in the original paper. Set to `'all'` to silence this warning and adopt the future behaviour.\n",
      "  warn(\n",
      "/Users/jayceepang/miniconda3/envs/atom2024/lib/python3.9/site-packages/imblearn/ensemble/_forest.py:589: FutureWarning: The default of `replacement` will change from `False` to `True` in version 0.13. This change will follow the implementation proposed in the original paper. Set to `True` to silence this warning and adopt the future behaviour.\n",
      "  warn(\n"
     ]
    },
    {
     "name": "stdout",
     "output_type": "stream",
     "text": [
      "TRAIN: acc: 1.000, precision: 1.000, recall: 1.000, spec: 1.000\n",
      "TEST: acc: 0.973, precision: 0.981, recall: 0.964, spec: 0.982\n",
      "func:'rf_models'  took: 3.0176 sec\n",
      "\n",
      "NEK9_inhibition_MOE_ADASYN_RF_fold3\n",
      "TRAIN: acc: 1.000, precision: 1.000, recall: 1.000, spec: 1.000\n",
      "TEST: acc: 0.973, precision: 0.964, recall: 0.982, spec: 0.964\n",
      "func:'rf_models'  took: 3.2843 sec\n",
      "\n",
      "NEK9_inhibition_MOE_ADASYN_RF_BCW_fold3\n",
      "TRAIN: acc: 1.000, precision: 1.000, recall: 1.000, spec: 1.000\n",
      "TEST: acc: 0.982, precision: 0.982, recall: 0.982, spec: 0.982\n",
      "func:'rf_models'  took: 3.2884 sec\n",
      "\n",
      "NEK9_inhibition_MOE_ADASYN_BRFC_fold3\n"
     ]
    },
    {
     "name": "stderr",
     "output_type": "stream",
     "text": [
      "/Users/jayceepang/miniconda3/envs/atom2024/lib/python3.9/site-packages/imblearn/ensemble/_forest.py:577: FutureWarning: The default of `sampling_strategy` will change from `'auto'` to `'all'` in version 0.13. This change will follow the implementation proposed in the original paper. Set to `'all'` to silence this warning and adopt the future behaviour.\n",
      "  warn(\n",
      "/Users/jayceepang/miniconda3/envs/atom2024/lib/python3.9/site-packages/imblearn/ensemble/_forest.py:589: FutureWarning: The default of `replacement` will change from `False` to `True` in version 0.13. This change will follow the implementation proposed in the original paper. Set to `True` to silence this warning and adopt the future behaviour.\n",
      "  warn(\n"
     ]
    },
    {
     "name": "stdout",
     "output_type": "stream",
     "text": [
      "TRAIN: acc: 1.000, precision: 1.000, recall: 1.000, spec: 1.000\n",
      "TEST: acc: 0.973, precision: 0.964, recall: 0.982, spec: 0.964\n",
      "func:'rf_models'  took: 3.1895 sec\n",
      "\n",
      "NEK9_inhibition_MOE_ADASYN_BRFC_BCW_fold3\n"
     ]
    },
    {
     "name": "stderr",
     "output_type": "stream",
     "text": [
      "/Users/jayceepang/miniconda3/envs/atom2024/lib/python3.9/site-packages/imblearn/ensemble/_forest.py:577: FutureWarning: The default of `sampling_strategy` will change from `'auto'` to `'all'` in version 0.13. This change will follow the implementation proposed in the original paper. Set to `'all'` to silence this warning and adopt the future behaviour.\n",
      "  warn(\n",
      "/Users/jayceepang/miniconda3/envs/atom2024/lib/python3.9/site-packages/imblearn/ensemble/_forest.py:589: FutureWarning: The default of `replacement` will change from `False` to `True` in version 0.13. This change will follow the implementation proposed in the original paper. Set to `True` to silence this warning and adopt the future behaviour.\n",
      "  warn(\n"
     ]
    },
    {
     "name": "stdout",
     "output_type": "stream",
     "text": [
      "TRAIN: acc: 1.000, precision: 1.000, recall: 1.000, spec: 1.000\n",
      "TEST: acc: 0.982, precision: 0.982, recall: 0.982, spec: 0.982\n",
      "func:'rf_models'  took: 3.2994 sec\n",
      "\n",
      "NEK9_inhibition_MOE_ADASYN_RF_fold4\n",
      "TRAIN: acc: 1.000, precision: 1.000, recall: 1.000, spec: 1.000\n",
      "TEST: acc: 0.991, precision: 0.982, recall: 1.000, spec: 0.982\n",
      "func:'rf_models'  took: 2.9207 sec\n",
      "\n",
      "NEK9_inhibition_MOE_ADASYN_RF_BCW_fold4\n",
      "TRAIN: acc: 1.000, precision: 1.000, recall: 1.000, spec: 1.000\n",
      "TEST: acc: 0.991, precision: 0.982, recall: 1.000, spec: 0.982\n",
      "func:'rf_models'  took: 2.9992 sec\n",
      "\n",
      "NEK9_inhibition_MOE_ADASYN_BRFC_fold4\n"
     ]
    },
    {
     "name": "stderr",
     "output_type": "stream",
     "text": [
      "/Users/jayceepang/miniconda3/envs/atom2024/lib/python3.9/site-packages/imblearn/ensemble/_forest.py:577: FutureWarning: The default of `sampling_strategy` will change from `'auto'` to `'all'` in version 0.13. This change will follow the implementation proposed in the original paper. Set to `'all'` to silence this warning and adopt the future behaviour.\n",
      "  warn(\n",
      "/Users/jayceepang/miniconda3/envs/atom2024/lib/python3.9/site-packages/imblearn/ensemble/_forest.py:589: FutureWarning: The default of `replacement` will change from `False` to `True` in version 0.13. This change will follow the implementation proposed in the original paper. Set to `True` to silence this warning and adopt the future behaviour.\n",
      "  warn(\n"
     ]
    },
    {
     "name": "stdout",
     "output_type": "stream",
     "text": [
      "TRAIN: acc: 1.000, precision: 1.000, recall: 1.000, spec: 1.000\n",
      "TEST: acc: 0.991, precision: 0.982, recall: 1.000, spec: 0.982\n",
      "func:'rf_models'  took: 2.9501 sec\n",
      "\n",
      "NEK9_inhibition_MOE_ADASYN_BRFC_BCW_fold4\n"
     ]
    },
    {
     "name": "stderr",
     "output_type": "stream",
     "text": [
      "/Users/jayceepang/miniconda3/envs/atom2024/lib/python3.9/site-packages/imblearn/ensemble/_forest.py:577: FutureWarning: The default of `sampling_strategy` will change from `'auto'` to `'all'` in version 0.13. This change will follow the implementation proposed in the original paper. Set to `'all'` to silence this warning and adopt the future behaviour.\n",
      "  warn(\n",
      "/Users/jayceepang/miniconda3/envs/atom2024/lib/python3.9/site-packages/imblearn/ensemble/_forest.py:589: FutureWarning: The default of `replacement` will change from `False` to `True` in version 0.13. This change will follow the implementation proposed in the original paper. Set to `True` to silence this warning and adopt the future behaviour.\n",
      "  warn(\n"
     ]
    },
    {
     "name": "stdout",
     "output_type": "stream",
     "text": [
      "TRAIN: acc: 1.000, precision: 1.000, recall: 1.000, spec: 1.000\n",
      "TEST: acc: 0.991, precision: 0.982, recall: 1.000, spec: 0.982\n",
      "func:'rf_models'  took: 3.0904 sec\n",
      "\n",
      "NEK9_inhibition_MOE_ADASYN_RF_fold5\n",
      "TRAIN: acc: 1.000, precision: 1.000, recall: 1.000, spec: 1.000\n",
      "TEST: acc: 0.946, precision: 0.915, recall: 0.982, spec: 0.911\n",
      "func:'rf_models'  took: 2.9136 sec\n",
      "\n",
      "NEK9_inhibition_MOE_ADASYN_RF_BCW_fold5\n",
      "TRAIN: acc: 1.000, precision: 1.000, recall: 1.000, spec: 1.000\n",
      "TEST: acc: 0.955, precision: 0.931, recall: 0.982, spec: 0.929\n",
      "func:'rf_models'  took: 2.9749 sec\n",
      "\n",
      "NEK9_inhibition_MOE_ADASYN_BRFC_fold5\n"
     ]
    },
    {
     "name": "stderr",
     "output_type": "stream",
     "text": [
      "/Users/jayceepang/miniconda3/envs/atom2024/lib/python3.9/site-packages/imblearn/ensemble/_forest.py:577: FutureWarning: The default of `sampling_strategy` will change from `'auto'` to `'all'` in version 0.13. This change will follow the implementation proposed in the original paper. Set to `'all'` to silence this warning and adopt the future behaviour.\n",
      "  warn(\n",
      "/Users/jayceepang/miniconda3/envs/atom2024/lib/python3.9/site-packages/imblearn/ensemble/_forest.py:589: FutureWarning: The default of `replacement` will change from `False` to `True` in version 0.13. This change will follow the implementation proposed in the original paper. Set to `True` to silence this warning and adopt the future behaviour.\n",
      "  warn(\n"
     ]
    },
    {
     "name": "stdout",
     "output_type": "stream",
     "text": [
      "TRAIN: acc: 1.000, precision: 1.000, recall: 1.000, spec: 1.000\n",
      "TEST: acc: 0.955, precision: 0.931, recall: 0.982, spec: 0.929\n",
      "func:'rf_models'  took: 2.8885 sec\n",
      "\n",
      "NEK9_inhibition_MOE_ADASYN_BRFC_BCW_fold5\n"
     ]
    },
    {
     "name": "stderr",
     "output_type": "stream",
     "text": [
      "/Users/jayceepang/miniconda3/envs/atom2024/lib/python3.9/site-packages/imblearn/ensemble/_forest.py:577: FutureWarning: The default of `sampling_strategy` will change from `'auto'` to `'all'` in version 0.13. This change will follow the implementation proposed in the original paper. Set to `'all'` to silence this warning and adopt the future behaviour.\n",
      "  warn(\n",
      "/Users/jayceepang/miniconda3/envs/atom2024/lib/python3.9/site-packages/imblearn/ensemble/_forest.py:589: FutureWarning: The default of `replacement` will change from `False` to `True` in version 0.13. This change will follow the implementation proposed in the original paper. Set to `True` to silence this warning and adopt the future behaviour.\n",
      "  warn(\n"
     ]
    },
    {
     "name": "stdout",
     "output_type": "stream",
     "text": [
      "TRAIN: acc: 1.000, precision: 1.000, recall: 1.000, spec: 1.000\n",
      "TEST: acc: 0.964, precision: 0.947, recall: 0.982, spec: 0.946\n",
      "func:'rf_models'  took: 3.0173 sec\n",
      "\n",
      "NEK9_inhibition_MFP_none_scaled_RF_fold1\n",
      "TRAIN: acc: 0.996, precision: 1.000, recall: 0.962, spec: 1.000\n",
      "TEST: acc: 0.952, precision: 0.700, recall: 1.000, spec: 0.946\n",
      "func:'rf_models'  took: 0.4640 sec\n",
      "\n",
      "NEK9_inhibition_MFP_none_scaled_RF_BCW_fold1\n",
      "TRAIN: acc: 0.996, precision: 0.963, recall: 1.000, spec: 0.996\n",
      "TEST: acc: 0.937, precision: 0.667, recall: 0.857, spec: 0.946\n",
      "func:'rf_models'  took: 0.2856 sec\n",
      "\n",
      "NEK9_inhibition_MFP_none_scaled_BRFC_fold1\n",
      "TRAIN: acc: 0.920, precision: 0.565, recall: 1.000, spec: 0.911\n",
      "TEST: acc: 0.984, precision: 0.875, recall: 1.000, spec: 0.982\n",
      "func:'rf_models'  took: 0.1483 sec\n"
     ]
    },
    {
     "name": "stderr",
     "output_type": "stream",
     "text": [
      "/Users/jayceepang/miniconda3/envs/atom2024/lib/python3.9/site-packages/imblearn/ensemble/_forest.py:577: FutureWarning: The default of `sampling_strategy` will change from `'auto'` to `'all'` in version 0.13. This change will follow the implementation proposed in the original paper. Set to `'all'` to silence this warning and adopt the future behaviour.\n",
      "  warn(\n",
      "/Users/jayceepang/miniconda3/envs/atom2024/lib/python3.9/site-packages/imblearn/ensemble/_forest.py:589: FutureWarning: The default of `replacement` will change from `False` to `True` in version 0.13. This change will follow the implementation proposed in the original paper. Set to `True` to silence this warning and adopt the future behaviour.\n",
      "  warn(\n",
      "/Users/jayceepang/miniconda3/envs/atom2024/lib/python3.9/site-packages/imblearn/ensemble/_forest.py:577: FutureWarning: The default of `sampling_strategy` will change from `'auto'` to `'all'` in version 0.13. This change will follow the implementation proposed in the original paper. Set to `'all'` to silence this warning and adopt the future behaviour.\n",
      "  warn(\n",
      "/Users/jayceepang/miniconda3/envs/atom2024/lib/python3.9/site-packages/imblearn/ensemble/_forest.py:589: FutureWarning: The default of `replacement` will change from `False` to `True` in version 0.13. This change will follow the implementation proposed in the original paper. Set to `True` to silence this warning and adopt the future behaviour.\n",
      "  warn(\n"
     ]
    },
    {
     "name": "stdout",
     "output_type": "stream",
     "text": [
      "\n",
      "NEK9_inhibition_MFP_none_scaled_BRFC_BCW_fold1\n",
      "TRAIN: acc: 0.884, precision: 0.473, recall: 1.000, spec: 0.871\n",
      "TEST: acc: 0.921, precision: 0.583, recall: 1.000, spec: 0.911\n",
      "func:'rf_models'  took: 0.1659 sec\n",
      "\n",
      "NEK9_inhibition_MFP_none_scaled_RF_fold2\n",
      "TRAIN: acc: 1.000, precision: 1.000, recall: 1.000, spec: 1.000\n",
      "TEST: acc: 0.905, precision: 0.545, recall: 0.857, spec: 0.911\n",
      "func:'rf_models'  took: 0.3596 sec\n",
      "\n",
      "NEK9_inhibition_MFP_none_scaled_RF_BCW_fold2\n",
      "TRAIN: acc: 1.000, precision: 1.000, recall: 1.000, spec: 1.000\n",
      "TEST: acc: 0.873, precision: 0.444, recall: 0.571, spec: 0.911\n",
      "func:'rf_models'  took: 0.3171 sec\n",
      "\n",
      "NEK9_inhibition_MFP_none_scaled_BRFC_fold2\n",
      "TRAIN: acc: 0.944, precision: 0.650, recall: 1.000, spec: 0.938\n",
      "TEST: acc: 0.889, precision: 0.500, recall: 1.000, spec: 0.875\n",
      "func:'rf_models'  took: 0.1419 sec\n",
      "\n"
     ]
    },
    {
     "name": "stderr",
     "output_type": "stream",
     "text": [
      "/Users/jayceepang/miniconda3/envs/atom2024/lib/python3.9/site-packages/imblearn/ensemble/_forest.py:577: FutureWarning: The default of `sampling_strategy` will change from `'auto'` to `'all'` in version 0.13. This change will follow the implementation proposed in the original paper. Set to `'all'` to silence this warning and adopt the future behaviour.\n",
      "  warn(\n",
      "/Users/jayceepang/miniconda3/envs/atom2024/lib/python3.9/site-packages/imblearn/ensemble/_forest.py:589: FutureWarning: The default of `replacement` will change from `False` to `True` in version 0.13. This change will follow the implementation proposed in the original paper. Set to `True` to silence this warning and adopt the future behaviour.\n",
      "  warn(\n",
      "/Users/jayceepang/miniconda3/envs/atom2024/lib/python3.9/site-packages/imblearn/ensemble/_forest.py:577: FutureWarning: The default of `sampling_strategy` will change from `'auto'` to `'all'` in version 0.13. This change will follow the implementation proposed in the original paper. Set to `'all'` to silence this warning and adopt the future behaviour.\n",
      "  warn(\n",
      "/Users/jayceepang/miniconda3/envs/atom2024/lib/python3.9/site-packages/imblearn/ensemble/_forest.py:589: FutureWarning: The default of `replacement` will change from `False` to `True` in version 0.13. This change will follow the implementation proposed in the original paper. Set to `True` to silence this warning and adopt the future behaviour.\n",
      "  warn(\n"
     ]
    },
    {
     "name": "stdout",
     "output_type": "stream",
     "text": [
      "NEK9_inhibition_MFP_none_scaled_BRFC_BCW_fold2\n",
      "TRAIN: acc: 0.888, precision: 0.481, recall: 1.000, spec: 0.875\n",
      "TEST: acc: 0.825, precision: 0.389, recall: 1.000, spec: 0.804\n",
      "func:'rf_models'  took: 0.1543 sec\n",
      "\n",
      "NEK9_inhibition_MFP_none_scaled_RF_fold3\n",
      "TRAIN: acc: 1.000, precision: 1.000, recall: 1.000, spec: 1.000\n",
      "TEST: acc: 0.937, precision: 0.636, recall: 1.000, spec: 0.929\n",
      "func:'rf_models'  took: 0.4166 sec\n",
      "\n",
      "NEK9_inhibition_MFP_none_scaled_RF_BCW_fold3\n",
      "TRAIN: acc: 1.000, precision: 1.000, recall: 1.000, spec: 1.000\n",
      "TEST: acc: 0.921, precision: 0.583, recall: 1.000, spec: 0.911\n",
      "func:'rf_models'  took: 0.2922 sec\n",
      "\n",
      "NEK9_inhibition_MFP_none_scaled_BRFC_fold3\n",
      "TRAIN: acc: 0.936, precision: 0.619, recall: 1.000, spec: 0.929\n",
      "TEST: acc: 0.873, precision: 0.467, recall: 1.000, spec: 0.857\n",
      "func:'rf_models'  took: 0.1442 sec\n",
      "\n"
     ]
    },
    {
     "name": "stderr",
     "output_type": "stream",
     "text": [
      "/Users/jayceepang/miniconda3/envs/atom2024/lib/python3.9/site-packages/imblearn/ensemble/_forest.py:577: FutureWarning: The default of `sampling_strategy` will change from `'auto'` to `'all'` in version 0.13. This change will follow the implementation proposed in the original paper. Set to `'all'` to silence this warning and adopt the future behaviour.\n",
      "  warn(\n",
      "/Users/jayceepang/miniconda3/envs/atom2024/lib/python3.9/site-packages/imblearn/ensemble/_forest.py:589: FutureWarning: The default of `replacement` will change from `False` to `True` in version 0.13. This change will follow the implementation proposed in the original paper. Set to `True` to silence this warning and adopt the future behaviour.\n",
      "  warn(\n",
      "/Users/jayceepang/miniconda3/envs/atom2024/lib/python3.9/site-packages/imblearn/ensemble/_forest.py:577: FutureWarning: The default of `sampling_strategy` will change from `'auto'` to `'all'` in version 0.13. This change will follow the implementation proposed in the original paper. Set to `'all'` to silence this warning and adopt the future behaviour.\n",
      "  warn(\n",
      "/Users/jayceepang/miniconda3/envs/atom2024/lib/python3.9/site-packages/imblearn/ensemble/_forest.py:589: FutureWarning: The default of `replacement` will change from `False` to `True` in version 0.13. This change will follow the implementation proposed in the original paper. Set to `True` to silence this warning and adopt the future behaviour.\n",
      "  warn(\n"
     ]
    },
    {
     "name": "stdout",
     "output_type": "stream",
     "text": [
      "NEK9_inhibition_MFP_none_scaled_BRFC_BCW_fold3\n",
      "TRAIN: acc: 0.884, precision: 0.473, recall: 1.000, spec: 0.871\n",
      "TEST: acc: 0.794, precision: 0.350, recall: 1.000, spec: 0.768\n",
      "func:'rf_models'  took: 0.1530 sec\n",
      "\n",
      "NEK9_inhibition_MFP_none_scaled_RF_fold4\n",
      "TRAIN: acc: 0.996, precision: 1.000, recall: 0.963, spec: 1.000\n",
      "TEST: acc: 0.952, precision: 1.000, recall: 0.500, spec: 1.000\n",
      "func:'rf_models'  took: 0.3113 sec\n",
      "\n",
      "NEK9_inhibition_MFP_none_scaled_RF_BCW_fold4\n",
      "TRAIN: acc: 0.996, precision: 0.964, recall: 1.000, spec: 0.996\n",
      "TEST: acc: 0.952, precision: 1.000, recall: 0.500, spec: 1.000\n",
      "func:'rf_models'  took: 0.2638 sec\n",
      "\n",
      "NEK9_inhibition_MFP_none_scaled_BRFC_fold4\n",
      "TRAIN: acc: 0.944, precision: 0.659, recall: 1.000, spec: 0.938\n",
      "TEST: acc: 0.935, precision: 0.750, recall: 0.500, spec: 0.982\n",
      "func:'rf_models'  took: 0.1346 sec\n",
      "\n",
      "NEK9_inhibition_MFP_none_scaled_BRFC_BCW_fold4\n"
     ]
    },
    {
     "name": "stderr",
     "output_type": "stream",
     "text": [
      "/Users/jayceepang/miniconda3/envs/atom2024/lib/python3.9/site-packages/imblearn/ensemble/_forest.py:577: FutureWarning: The default of `sampling_strategy` will change from `'auto'` to `'all'` in version 0.13. This change will follow the implementation proposed in the original paper. Set to `'all'` to silence this warning and adopt the future behaviour.\n",
      "  warn(\n",
      "/Users/jayceepang/miniconda3/envs/atom2024/lib/python3.9/site-packages/imblearn/ensemble/_forest.py:589: FutureWarning: The default of `replacement` will change from `False` to `True` in version 0.13. This change will follow the implementation proposed in the original paper. Set to `True` to silence this warning and adopt the future behaviour.\n",
      "  warn(\n",
      "/Users/jayceepang/miniconda3/envs/atom2024/lib/python3.9/site-packages/imblearn/ensemble/_forest.py:577: FutureWarning: The default of `sampling_strategy` will change from `'auto'` to `'all'` in version 0.13. This change will follow the implementation proposed in the original paper. Set to `'all'` to silence this warning and adopt the future behaviour.\n",
      "  warn(\n",
      "/Users/jayceepang/miniconda3/envs/atom2024/lib/python3.9/site-packages/imblearn/ensemble/_forest.py:589: FutureWarning: The default of `replacement` will change from `False` to `True` in version 0.13. This change will follow the implementation proposed in the original paper. Set to `True` to silence this warning and adopt the future behaviour.\n",
      "  warn(\n"
     ]
    },
    {
     "name": "stdout",
     "output_type": "stream",
     "text": [
      "TRAIN: acc: 0.936, precision: 0.628, recall: 1.000, spec: 0.929\n",
      "TEST: acc: 0.903, precision: 0.500, recall: 0.500, spec: 0.946\n",
      "func:'rf_models'  took: 0.1526 sec\n",
      "\n",
      "NEK9_inhibition_MFP_none_scaled_RF_fold5\n",
      "TRAIN: acc: 0.996, precision: 1.000, recall: 0.963, spec: 1.000\n",
      "TEST: acc: 0.968, precision: 0.833, recall: 0.833, spec: 0.982\n",
      "func:'rf_models'  took: 0.4125 sec\n",
      "\n",
      "NEK9_inhibition_MFP_none_scaled_RF_BCW_fold5\n",
      "TRAIN: acc: 0.996, precision: 0.964, recall: 1.000, spec: 0.996\n",
      "TEST: acc: 0.968, precision: 0.750, recall: 1.000, spec: 0.964\n",
      "func:'rf_models'  took: 0.3511 sec\n",
      "\n",
      "NEK9_inhibition_MFP_none_scaled_BRFC_fold5\n",
      "TRAIN: acc: 0.940, precision: 0.643, recall: 1.000, spec: 0.933\n",
      "TEST: acc: 0.968, precision: 0.750, recall: 1.000, spec: 0.964\n",
      "func:'rf_models'  took: 0.1474 sec\n"
     ]
    },
    {
     "name": "stderr",
     "output_type": "stream",
     "text": [
      "/Users/jayceepang/miniconda3/envs/atom2024/lib/python3.9/site-packages/imblearn/ensemble/_forest.py:577: FutureWarning: The default of `sampling_strategy` will change from `'auto'` to `'all'` in version 0.13. This change will follow the implementation proposed in the original paper. Set to `'all'` to silence this warning and adopt the future behaviour.\n",
      "  warn(\n",
      "/Users/jayceepang/miniconda3/envs/atom2024/lib/python3.9/site-packages/imblearn/ensemble/_forest.py:589: FutureWarning: The default of `replacement` will change from `False` to `True` in version 0.13. This change will follow the implementation proposed in the original paper. Set to `True` to silence this warning and adopt the future behaviour.\n",
      "  warn(\n",
      "/Users/jayceepang/miniconda3/envs/atom2024/lib/python3.9/site-packages/imblearn/ensemble/_forest.py:577: FutureWarning: The default of `sampling_strategy` will change from `'auto'` to `'all'` in version 0.13. This change will follow the implementation proposed in the original paper. Set to `'all'` to silence this warning and adopt the future behaviour.\n",
      "  warn(\n",
      "/Users/jayceepang/miniconda3/envs/atom2024/lib/python3.9/site-packages/imblearn/ensemble/_forest.py:589: FutureWarning: The default of `replacement` will change from `False` to `True` in version 0.13. This change will follow the implementation proposed in the original paper. Set to `True` to silence this warning and adopt the future behaviour.\n",
      "  warn(\n"
     ]
    },
    {
     "name": "stdout",
     "output_type": "stream",
     "text": [
      "\n",
      "NEK9_inhibition_MFP_none_scaled_BRFC_BCW_fold5\n",
      "TRAIN: acc: 0.888, precision: 0.491, recall: 1.000, spec: 0.875\n",
      "TEST: acc: 0.919, precision: 0.545, recall: 1.000, spec: 0.911\n",
      "func:'rf_models'  took: 0.1627 sec\n",
      "\n",
      "NEK9_inhibition_MFP_UNDER_RF_fold1\n",
      "TRAIN: acc: 1.000, precision: 1.000, recall: 1.000, spec: 1.000\n",
      "TEST: acc: 0.929, precision: 0.875, recall: 1.000, spec: 0.857\n",
      "func:'rf_models'  took: 0.0953 sec\n",
      "\n",
      "NEK9_inhibition_MFP_UNDER_RF_BCW_fold1\n",
      "TRAIN: acc: 1.000, precision: 1.000, recall: 1.000, spec: 1.000\n",
      "TEST: acc: 0.929, precision: 0.875, recall: 1.000, spec: 0.857\n",
      "func:'rf_models'  took: 0.1021 sec\n",
      "\n",
      "NEK9_inhibition_MFP_UNDER_BRFC_fold1\n",
      "TRAIN: acc: 1.000, precision: 1.000, recall: 1.000, spec: 1.000\n",
      "TEST: acc: 0.929, precision: 0.875, recall: 1.000, spec: 0.857\n",
      "func:'rf_models'  took: 0.1383 sec\n",
      "\n",
      "NEK9_inhibition_MFP_UNDER_BRFC_BCW_fold1\n"
     ]
    },
    {
     "name": "stderr",
     "output_type": "stream",
     "text": [
      "/Users/jayceepang/miniconda3/envs/atom2024/lib/python3.9/site-packages/imblearn/ensemble/_forest.py:577: FutureWarning: The default of `sampling_strategy` will change from `'auto'` to `'all'` in version 0.13. This change will follow the implementation proposed in the original paper. Set to `'all'` to silence this warning and adopt the future behaviour.\n",
      "  warn(\n",
      "/Users/jayceepang/miniconda3/envs/atom2024/lib/python3.9/site-packages/imblearn/ensemble/_forest.py:589: FutureWarning: The default of `replacement` will change from `False` to `True` in version 0.13. This change will follow the implementation proposed in the original paper. Set to `True` to silence this warning and adopt the future behaviour.\n",
      "  warn(\n",
      "/Users/jayceepang/miniconda3/envs/atom2024/lib/python3.9/site-packages/imblearn/ensemble/_forest.py:577: FutureWarning: The default of `sampling_strategy` will change from `'auto'` to `'all'` in version 0.13. This change will follow the implementation proposed in the original paper. Set to `'all'` to silence this warning and adopt the future behaviour.\n",
      "  warn(\n",
      "/Users/jayceepang/miniconda3/envs/atom2024/lib/python3.9/site-packages/imblearn/ensemble/_forest.py:589: FutureWarning: The default of `replacement` will change from `False` to `True` in version 0.13. This change will follow the implementation proposed in the original paper. Set to `True` to silence this warning and adopt the future behaviour.\n",
      "  warn(\n"
     ]
    },
    {
     "name": "stdout",
     "output_type": "stream",
     "text": [
      "TRAIN: acc: 1.000, precision: 1.000, recall: 1.000, spec: 1.000\n",
      "TEST: acc: 0.929, precision: 0.875, recall: 1.000, spec: 0.857\n",
      "func:'rf_models'  took: 0.1438 sec\n",
      "\n",
      "NEK9_inhibition_MFP_UNDER_RF_fold2\n",
      "TRAIN: acc: 1.000, precision: 1.000, recall: 1.000, spec: 1.000\n",
      "TEST: acc: 0.923, precision: 0.857, recall: 1.000, spec: 0.857\n",
      "func:'rf_models'  took: 0.0955 sec\n",
      "\n",
      "NEK9_inhibition_MFP_UNDER_RF_BCW_fold2\n",
      "TRAIN: acc: 1.000, precision: 1.000, recall: 1.000, spec: 1.000\n",
      "TEST: acc: 0.923, precision: 0.857, recall: 1.000, spec: 0.857\n",
      "func:'rf_models'  took: 0.0995 sec\n",
      "\n",
      "NEK9_inhibition_MFP_UNDER_BRFC_fold2\n"
     ]
    },
    {
     "name": "stderr",
     "output_type": "stream",
     "text": [
      "/Users/jayceepang/miniconda3/envs/atom2024/lib/python3.9/site-packages/imblearn/ensemble/_forest.py:577: FutureWarning: The default of `sampling_strategy` will change from `'auto'` to `'all'` in version 0.13. This change will follow the implementation proposed in the original paper. Set to `'all'` to silence this warning and adopt the future behaviour.\n",
      "  warn(\n",
      "/Users/jayceepang/miniconda3/envs/atom2024/lib/python3.9/site-packages/imblearn/ensemble/_forest.py:589: FutureWarning: The default of `replacement` will change from `False` to `True` in version 0.13. This change will follow the implementation proposed in the original paper. Set to `True` to silence this warning and adopt the future behaviour.\n",
      "  warn(\n",
      "/Users/jayceepang/miniconda3/envs/atom2024/lib/python3.9/site-packages/imblearn/ensemble/_forest.py:577: FutureWarning: The default of `sampling_strategy` will change from `'auto'` to `'all'` in version 0.13. This change will follow the implementation proposed in the original paper. Set to `'all'` to silence this warning and adopt the future behaviour.\n",
      "  warn(\n",
      "/Users/jayceepang/miniconda3/envs/atom2024/lib/python3.9/site-packages/imblearn/ensemble/_forest.py:589: FutureWarning: The default of `replacement` will change from `False` to `True` in version 0.13. This change will follow the implementation proposed in the original paper. Set to `True` to silence this warning and adopt the future behaviour.\n",
      "  warn(\n"
     ]
    },
    {
     "name": "stdout",
     "output_type": "stream",
     "text": [
      "TRAIN: acc: 1.000, precision: 1.000, recall: 1.000, spec: 1.000\n",
      "TEST: acc: 0.923, precision: 0.857, recall: 1.000, spec: 0.857\n",
      "func:'rf_models'  took: 0.1383 sec\n",
      "\n",
      "NEK9_inhibition_MFP_UNDER_BRFC_BCW_fold2\n",
      "TRAIN: acc: 1.000, precision: 1.000, recall: 1.000, spec: 1.000\n",
      "TEST: acc: 0.923, precision: 0.857, recall: 1.000, spec: 0.857\n",
      "func:'rf_models'  took: 0.1448 sec\n",
      "\n",
      "NEK9_inhibition_MFP_UNDER_RF_fold3\n",
      "TRAIN: acc: 1.000, precision: 1.000, recall: 1.000, spec: 1.000\n",
      "TEST: acc: 0.846, precision: 0.750, recall: 1.000, spec: 0.714\n",
      "func:'rf_models'  took: 0.0968 sec\n",
      "\n",
      "NEK9_inhibition_MFP_UNDER_RF_BCW_fold3\n",
      "TRAIN: acc: 1.000, precision: 1.000, recall: 1.000, spec: 1.000\n",
      "TEST: acc: 0.846, precision: 0.750, recall: 1.000, spec: 0.714\n",
      "func:'rf_models'  took: 0.1033 sec\n",
      "\n",
      "NEK9_inhibition_MFP_UNDER_BRFC_fold3\n",
      "TRAIN: acc: 1.000, precision: 1.000, recall: 1.000, spec: 1.000\n",
      "TEST: acc: 0.846, precision: 0.750, recall: 1.000, spec: 0.714\n",
      "func:'rf_models'  took: 0.1390 sec\n",
      "\n",
      "NEK9_inhibition_MFP_UNDER_BRFC_BCW_fold3\n"
     ]
    },
    {
     "name": "stderr",
     "output_type": "stream",
     "text": [
      "/Users/jayceepang/miniconda3/envs/atom2024/lib/python3.9/site-packages/imblearn/ensemble/_forest.py:577: FutureWarning: The default of `sampling_strategy` will change from `'auto'` to `'all'` in version 0.13. This change will follow the implementation proposed in the original paper. Set to `'all'` to silence this warning and adopt the future behaviour.\n",
      "  warn(\n",
      "/Users/jayceepang/miniconda3/envs/atom2024/lib/python3.9/site-packages/imblearn/ensemble/_forest.py:589: FutureWarning: The default of `replacement` will change from `False` to `True` in version 0.13. This change will follow the implementation proposed in the original paper. Set to `True` to silence this warning and adopt the future behaviour.\n",
      "  warn(\n",
      "/Users/jayceepang/miniconda3/envs/atom2024/lib/python3.9/site-packages/imblearn/ensemble/_forest.py:577: FutureWarning: The default of `sampling_strategy` will change from `'auto'` to `'all'` in version 0.13. This change will follow the implementation proposed in the original paper. Set to `'all'` to silence this warning and adopt the future behaviour.\n",
      "  warn(\n",
      "/Users/jayceepang/miniconda3/envs/atom2024/lib/python3.9/site-packages/imblearn/ensemble/_forest.py:589: FutureWarning: The default of `replacement` will change from `False` to `True` in version 0.13. This change will follow the implementation proposed in the original paper. Set to `True` to silence this warning and adopt the future behaviour.\n",
      "  warn(\n"
     ]
    },
    {
     "name": "stdout",
     "output_type": "stream",
     "text": [
      "TRAIN: acc: 1.000, precision: 1.000, recall: 1.000, spec: 1.000\n",
      "TEST: acc: 0.846, precision: 0.750, recall: 1.000, spec: 0.714\n",
      "func:'rf_models'  took: 0.1461 sec\n",
      "\n",
      "NEK9_inhibition_MFP_UNDER_RF_fold4\n",
      "TRAIN: acc: 1.000, precision: 1.000, recall: 1.000, spec: 1.000\n",
      "TEST: acc: 0.846, precision: 0.778, recall: 1.000, spec: 0.667\n",
      "func:'rf_models'  took: 0.0935 sec\n",
      "\n",
      "NEK9_inhibition_MFP_UNDER_RF_BCW_fold4\n",
      "TRAIN: acc: 1.000, precision: 1.000, recall: 1.000, spec: 1.000\n",
      "TEST: acc: 0.846, precision: 0.778, recall: 1.000, spec: 0.667\n",
      "func:'rf_models'  took: 0.0992 sec\n",
      "\n",
      "NEK9_inhibition_MFP_UNDER_BRFC_fold4\n"
     ]
    },
    {
     "name": "stderr",
     "output_type": "stream",
     "text": [
      "/Users/jayceepang/miniconda3/envs/atom2024/lib/python3.9/site-packages/imblearn/ensemble/_forest.py:577: FutureWarning: The default of `sampling_strategy` will change from `'auto'` to `'all'` in version 0.13. This change will follow the implementation proposed in the original paper. Set to `'all'` to silence this warning and adopt the future behaviour.\n",
      "  warn(\n",
      "/Users/jayceepang/miniconda3/envs/atom2024/lib/python3.9/site-packages/imblearn/ensemble/_forest.py:589: FutureWarning: The default of `replacement` will change from `False` to `True` in version 0.13. This change will follow the implementation proposed in the original paper. Set to `True` to silence this warning and adopt the future behaviour.\n",
      "  warn(\n",
      "/Users/jayceepang/miniconda3/envs/atom2024/lib/python3.9/site-packages/imblearn/ensemble/_forest.py:577: FutureWarning: The default of `sampling_strategy` will change from `'auto'` to `'all'` in version 0.13. This change will follow the implementation proposed in the original paper. Set to `'all'` to silence this warning and adopt the future behaviour.\n",
      "  warn(\n",
      "/Users/jayceepang/miniconda3/envs/atom2024/lib/python3.9/site-packages/imblearn/ensemble/_forest.py:589: FutureWarning: The default of `replacement` will change from `False` to `True` in version 0.13. This change will follow the implementation proposed in the original paper. Set to `True` to silence this warning and adopt the future behaviour.\n",
      "  warn(\n"
     ]
    },
    {
     "name": "stdout",
     "output_type": "stream",
     "text": [
      "TRAIN: acc: 1.000, precision: 1.000, recall: 1.000, spec: 1.000\n",
      "TEST: acc: 0.769, precision: 0.750, recall: 0.857, spec: 0.667\n",
      "func:'rf_models'  took: 0.1407 sec\n",
      "\n",
      "NEK9_inhibition_MFP_UNDER_BRFC_BCW_fold4\n",
      "TRAIN: acc: 1.000, precision: 1.000, recall: 1.000, spec: 1.000\n",
      "TEST: acc: 0.769, precision: 0.750, recall: 0.857, spec: 0.667\n",
      "func:'rf_models'  took: 0.1429 sec\n",
      "\n",
      "NEK9_inhibition_MFP_UNDER_RF_fold5\n",
      "TRAIN: acc: 1.000, precision: 1.000, recall: 1.000, spec: 1.000\n",
      "TEST: acc: 0.846, precision: 1.000, recall: 0.714, spec: 1.000\n",
      "func:'rf_models'  took: 0.0968 sec\n",
      "\n",
      "NEK9_inhibition_MFP_UNDER_RF_BCW_fold5\n",
      "TRAIN: acc: 1.000, precision: 1.000, recall: 1.000, spec: 1.000\n",
      "TEST: acc: 0.923, precision: 1.000, recall: 0.857, spec: 1.000\n",
      "func:'rf_models'  took: 0.1033 sec\n",
      "\n",
      "NEK9_inhibition_MFP_UNDER_BRFC_fold5\n",
      "TRAIN: acc: 1.000, precision: 1.000, recall: 1.000, spec: 1.000\n",
      "TEST: acc: 0.923, precision: 1.000, recall: 0.857, spec: 1.000\n",
      "func:'rf_models'  took: 0.1441 sec\n",
      "\n"
     ]
    },
    {
     "name": "stderr",
     "output_type": "stream",
     "text": [
      "/Users/jayceepang/miniconda3/envs/atom2024/lib/python3.9/site-packages/imblearn/ensemble/_forest.py:577: FutureWarning: The default of `sampling_strategy` will change from `'auto'` to `'all'` in version 0.13. This change will follow the implementation proposed in the original paper. Set to `'all'` to silence this warning and adopt the future behaviour.\n",
      "  warn(\n",
      "/Users/jayceepang/miniconda3/envs/atom2024/lib/python3.9/site-packages/imblearn/ensemble/_forest.py:589: FutureWarning: The default of `replacement` will change from `False` to `True` in version 0.13. This change will follow the implementation proposed in the original paper. Set to `True` to silence this warning and adopt the future behaviour.\n",
      "  warn(\n",
      "/Users/jayceepang/miniconda3/envs/atom2024/lib/python3.9/site-packages/imblearn/ensemble/_forest.py:577: FutureWarning: The default of `sampling_strategy` will change from `'auto'` to `'all'` in version 0.13. This change will follow the implementation proposed in the original paper. Set to `'all'` to silence this warning and adopt the future behaviour.\n",
      "  warn(\n",
      "/Users/jayceepang/miniconda3/envs/atom2024/lib/python3.9/site-packages/imblearn/ensemble/_forest.py:589: FutureWarning: The default of `replacement` will change from `False` to `True` in version 0.13. This change will follow the implementation proposed in the original paper. Set to `True` to silence this warning and adopt the future behaviour.\n",
      "  warn(\n"
     ]
    },
    {
     "name": "stdout",
     "output_type": "stream",
     "text": [
      "NEK9_inhibition_MFP_UNDER_BRFC_BCW_fold5\n",
      "TRAIN: acc: 1.000, precision: 1.000, recall: 1.000, spec: 1.000\n",
      "TEST: acc: 0.846, precision: 1.000, recall: 0.714, spec: 1.000\n",
      "func:'rf_models'  took: 0.1512 sec\n",
      "\n",
      "NEK9_inhibition_MFP_SMOTE_RF_fold1\n",
      "TRAIN: acc: 0.998, precision: 1.000, recall: 0.996, spec: 1.000\n",
      "TEST: acc: 0.991, precision: 1.000, recall: 0.982, spec: 1.000\n",
      "func:'rf_models'  took: 0.6489 sec\n",
      "\n",
      "NEK9_inhibition_MFP_SMOTE_RF_BCW_fold1\n",
      "TRAIN: acc: 0.998, precision: 1.000, recall: 0.996, spec: 1.000\n",
      "TEST: acc: 0.991, precision: 1.000, recall: 0.982, spec: 1.000\n",
      "func:'rf_models'  took: 0.6573 sec\n",
      "\n",
      "NEK9_inhibition_MFP_SMOTE_BRFC_fold1\n"
     ]
    },
    {
     "name": "stderr",
     "output_type": "stream",
     "text": [
      "/Users/jayceepang/miniconda3/envs/atom2024/lib/python3.9/site-packages/imblearn/ensemble/_forest.py:577: FutureWarning: The default of `sampling_strategy` will change from `'auto'` to `'all'` in version 0.13. This change will follow the implementation proposed in the original paper. Set to `'all'` to silence this warning and adopt the future behaviour.\n",
      "  warn(\n",
      "/Users/jayceepang/miniconda3/envs/atom2024/lib/python3.9/site-packages/imblearn/ensemble/_forest.py:589: FutureWarning: The default of `replacement` will change from `False` to `True` in version 0.13. This change will follow the implementation proposed in the original paper. Set to `True` to silence this warning and adopt the future behaviour.\n",
      "  warn(\n"
     ]
    },
    {
     "name": "stdout",
     "output_type": "stream",
     "text": [
      "TRAIN: acc: 0.998, precision: 1.000, recall: 0.996, spec: 1.000\n",
      "TEST: acc: 0.991, precision: 1.000, recall: 0.982, spec: 1.000\n",
      "func:'rf_models'  took: 0.8792 sec\n",
      "\n",
      "NEK9_inhibition_MFP_SMOTE_BRFC_BCW_fold1\n"
     ]
    },
    {
     "name": "stderr",
     "output_type": "stream",
     "text": [
      "/Users/jayceepang/miniconda3/envs/atom2024/lib/python3.9/site-packages/imblearn/ensemble/_forest.py:577: FutureWarning: The default of `sampling_strategy` will change from `'auto'` to `'all'` in version 0.13. This change will follow the implementation proposed in the original paper. Set to `'all'` to silence this warning and adopt the future behaviour.\n",
      "  warn(\n",
      "/Users/jayceepang/miniconda3/envs/atom2024/lib/python3.9/site-packages/imblearn/ensemble/_forest.py:589: FutureWarning: The default of `replacement` will change from `False` to `True` in version 0.13. This change will follow the implementation proposed in the original paper. Set to `True` to silence this warning and adopt the future behaviour.\n",
      "  warn(\n"
     ]
    },
    {
     "name": "stdout",
     "output_type": "stream",
     "text": [
      "TRAIN: acc: 0.998, precision: 1.000, recall: 0.996, spec: 1.000\n",
      "TEST: acc: 0.991, precision: 1.000, recall: 0.982, spec: 1.000\n",
      "func:'rf_models'  took: 0.8832 sec\n",
      "\n",
      "NEK9_inhibition_MFP_SMOTE_RF_fold2\n",
      "TRAIN: acc: 1.000, precision: 1.000, recall: 1.000, spec: 1.000\n",
      "TEST: acc: 0.946, precision: 0.917, recall: 0.982, spec: 0.911\n",
      "func:'rf_models'  took: 0.5324 sec\n",
      "\n",
      "NEK9_inhibition_MFP_SMOTE_RF_BCW_fold2\n",
      "TRAIN: acc: 1.000, precision: 1.000, recall: 1.000, spec: 1.000\n",
      "TEST: acc: 0.946, precision: 0.917, recall: 0.982, spec: 0.911\n",
      "func:'rf_models'  took: 0.5433 sec\n",
      "\n",
      "NEK9_inhibition_MFP_SMOTE_BRFC_fold2\n"
     ]
    },
    {
     "name": "stderr",
     "output_type": "stream",
     "text": [
      "/Users/jayceepang/miniconda3/envs/atom2024/lib/python3.9/site-packages/imblearn/ensemble/_forest.py:577: FutureWarning: The default of `sampling_strategy` will change from `'auto'` to `'all'` in version 0.13. This change will follow the implementation proposed in the original paper. Set to `'all'` to silence this warning and adopt the future behaviour.\n",
      "  warn(\n",
      "/Users/jayceepang/miniconda3/envs/atom2024/lib/python3.9/site-packages/imblearn/ensemble/_forest.py:589: FutureWarning: The default of `replacement` will change from `False` to `True` in version 0.13. This change will follow the implementation proposed in the original paper. Set to `True` to silence this warning and adopt the future behaviour.\n",
      "  warn(\n"
     ]
    },
    {
     "name": "stdout",
     "output_type": "stream",
     "text": [
      "TRAIN: acc: 1.000, precision: 1.000, recall: 1.000, spec: 1.000\n",
      "TEST: acc: 0.946, precision: 0.917, recall: 0.982, spec: 0.911\n",
      "func:'rf_models'  took: 0.7441 sec\n",
      "\n",
      "NEK9_inhibition_MFP_SMOTE_BRFC_BCW_fold2\n"
     ]
    },
    {
     "name": "stderr",
     "output_type": "stream",
     "text": [
      "/Users/jayceepang/miniconda3/envs/atom2024/lib/python3.9/site-packages/imblearn/ensemble/_forest.py:577: FutureWarning: The default of `sampling_strategy` will change from `'auto'` to `'all'` in version 0.13. This change will follow the implementation proposed in the original paper. Set to `'all'` to silence this warning and adopt the future behaviour.\n",
      "  warn(\n",
      "/Users/jayceepang/miniconda3/envs/atom2024/lib/python3.9/site-packages/imblearn/ensemble/_forest.py:589: FutureWarning: The default of `replacement` will change from `False` to `True` in version 0.13. This change will follow the implementation proposed in the original paper. Set to `True` to silence this warning and adopt the future behaviour.\n",
      "  warn(\n"
     ]
    },
    {
     "name": "stdout",
     "output_type": "stream",
     "text": [
      "TRAIN: acc: 1.000, precision: 1.000, recall: 1.000, spec: 1.000\n",
      "TEST: acc: 0.946, precision: 0.917, recall: 0.982, spec: 0.911\n",
      "func:'rf_models'  took: 0.7565 sec\n",
      "\n",
      "NEK9_inhibition_MFP_SMOTE_RF_fold3\n",
      "TRAIN: acc: 1.000, precision: 1.000, recall: 1.000, spec: 1.000\n",
      "TEST: acc: 0.955, precision: 0.918, recall: 1.000, spec: 0.911\n",
      "func:'rf_models'  took: 0.6067 sec\n",
      "\n",
      "NEK9_inhibition_MFP_SMOTE_RF_BCW_fold3\n",
      "TRAIN: acc: 1.000, precision: 1.000, recall: 1.000, spec: 1.000\n",
      "TEST: acc: 0.955, precision: 0.918, recall: 1.000, spec: 0.911\n",
      "func:'rf_models'  took: 0.6175 sec\n",
      "\n",
      "NEK9_inhibition_MFP_SMOTE_BRFC_fold3\n"
     ]
    },
    {
     "name": "stderr",
     "output_type": "stream",
     "text": [
      "/Users/jayceepang/miniconda3/envs/atom2024/lib/python3.9/site-packages/imblearn/ensemble/_forest.py:577: FutureWarning: The default of `sampling_strategy` will change from `'auto'` to `'all'` in version 0.13. This change will follow the implementation proposed in the original paper. Set to `'all'` to silence this warning and adopt the future behaviour.\n",
      "  warn(\n",
      "/Users/jayceepang/miniconda3/envs/atom2024/lib/python3.9/site-packages/imblearn/ensemble/_forest.py:589: FutureWarning: The default of `replacement` will change from `False` to `True` in version 0.13. This change will follow the implementation proposed in the original paper. Set to `True` to silence this warning and adopt the future behaviour.\n",
      "  warn(\n"
     ]
    },
    {
     "name": "stdout",
     "output_type": "stream",
     "text": [
      "TRAIN: acc: 1.000, precision: 1.000, recall: 1.000, spec: 1.000\n",
      "TEST: acc: 0.955, precision: 0.918, recall: 1.000, spec: 0.911\n",
      "func:'rf_models'  took: 0.8305 sec\n",
      "\n",
      "NEK9_inhibition_MFP_SMOTE_BRFC_BCW_fold3\n"
     ]
    },
    {
     "name": "stderr",
     "output_type": "stream",
     "text": [
      "/Users/jayceepang/miniconda3/envs/atom2024/lib/python3.9/site-packages/imblearn/ensemble/_forest.py:577: FutureWarning: The default of `sampling_strategy` will change from `'auto'` to `'all'` in version 0.13. This change will follow the implementation proposed in the original paper. Set to `'all'` to silence this warning and adopt the future behaviour.\n",
      "  warn(\n",
      "/Users/jayceepang/miniconda3/envs/atom2024/lib/python3.9/site-packages/imblearn/ensemble/_forest.py:589: FutureWarning: The default of `replacement` will change from `False` to `True` in version 0.13. This change will follow the implementation proposed in the original paper. Set to `True` to silence this warning and adopt the future behaviour.\n",
      "  warn(\n"
     ]
    },
    {
     "name": "stdout",
     "output_type": "stream",
     "text": [
      "TRAIN: acc: 1.000, precision: 1.000, recall: 1.000, spec: 1.000\n",
      "TEST: acc: 0.955, precision: 0.918, recall: 1.000, spec: 0.911\n",
      "func:'rf_models'  took: 0.8311 sec\n",
      "\n",
      "NEK9_inhibition_MFP_SMOTE_RF_fold4\n",
      "TRAIN: acc: 0.998, precision: 1.000, recall: 0.996, spec: 1.000\n",
      "TEST: acc: 0.946, precision: 0.946, recall: 0.946, spec: 0.946\n",
      "func:'rf_models'  took: 0.6496 sec\n",
      "\n",
      "NEK9_inhibition_MFP_SMOTE_RF_BCW_fold4\n",
      "TRAIN: acc: 0.998, precision: 1.000, recall: 0.996, spec: 1.000\n",
      "TEST: acc: 0.946, precision: 0.946, recall: 0.946, spec: 0.946\n",
      "func:'rf_models'  took: 0.6767 sec\n",
      "\n",
      "NEK9_inhibition_MFP_SMOTE_BRFC_fold4\n"
     ]
    },
    {
     "name": "stderr",
     "output_type": "stream",
     "text": [
      "/Users/jayceepang/miniconda3/envs/atom2024/lib/python3.9/site-packages/imblearn/ensemble/_forest.py:577: FutureWarning: The default of `sampling_strategy` will change from `'auto'` to `'all'` in version 0.13. This change will follow the implementation proposed in the original paper. Set to `'all'` to silence this warning and adopt the future behaviour.\n",
      "  warn(\n",
      "/Users/jayceepang/miniconda3/envs/atom2024/lib/python3.9/site-packages/imblearn/ensemble/_forest.py:589: FutureWarning: The default of `replacement` will change from `False` to `True` in version 0.13. This change will follow the implementation proposed in the original paper. Set to `True` to silence this warning and adopt the future behaviour.\n",
      "  warn(\n"
     ]
    },
    {
     "name": "stdout",
     "output_type": "stream",
     "text": [
      "TRAIN: acc: 0.998, precision: 1.000, recall: 0.996, spec: 1.000\n",
      "TEST: acc: 0.946, precision: 0.946, recall: 0.946, spec: 0.946\n",
      "func:'rf_models'  took: 0.8679 sec\n",
      "\n",
      "NEK9_inhibition_MFP_SMOTE_BRFC_BCW_fold4\n"
     ]
    },
    {
     "name": "stderr",
     "output_type": "stream",
     "text": [
      "/Users/jayceepang/miniconda3/envs/atom2024/lib/python3.9/site-packages/imblearn/ensemble/_forest.py:577: FutureWarning: The default of `sampling_strategy` will change from `'auto'` to `'all'` in version 0.13. This change will follow the implementation proposed in the original paper. Set to `'all'` to silence this warning and adopt the future behaviour.\n",
      "  warn(\n",
      "/Users/jayceepang/miniconda3/envs/atom2024/lib/python3.9/site-packages/imblearn/ensemble/_forest.py:589: FutureWarning: The default of `replacement` will change from `False` to `True` in version 0.13. This change will follow the implementation proposed in the original paper. Set to `True` to silence this warning and adopt the future behaviour.\n",
      "  warn(\n"
     ]
    },
    {
     "name": "stdout",
     "output_type": "stream",
     "text": [
      "TRAIN: acc: 0.998, precision: 1.000, recall: 0.996, spec: 1.000\n",
      "TEST: acc: 0.946, precision: 0.946, recall: 0.946, spec: 0.946\n",
      "func:'rf_models'  took: 0.8681 sec\n",
      "\n",
      "NEK9_inhibition_MFP_SMOTE_RF_fold5\n",
      "TRAIN: acc: 0.998, precision: 1.000, recall: 0.996, spec: 1.000\n",
      "TEST: acc: 0.973, precision: 0.982, recall: 0.964, spec: 0.982\n",
      "func:'rf_models'  took: 0.6215 sec\n",
      "\n",
      "NEK9_inhibition_MFP_SMOTE_RF_BCW_fold5\n",
      "TRAIN: acc: 0.998, precision: 1.000, recall: 0.996, spec: 1.000\n",
      "TEST: acc: 0.973, precision: 0.982, recall: 0.964, spec: 0.982\n",
      "func:'rf_models'  took: 0.6575 sec\n",
      "\n",
      "NEK9_inhibition_MFP_SMOTE_BRFC_fold5\n"
     ]
    },
    {
     "name": "stderr",
     "output_type": "stream",
     "text": [
      "/Users/jayceepang/miniconda3/envs/atom2024/lib/python3.9/site-packages/imblearn/ensemble/_forest.py:577: FutureWarning: The default of `sampling_strategy` will change from `'auto'` to `'all'` in version 0.13. This change will follow the implementation proposed in the original paper. Set to `'all'` to silence this warning and adopt the future behaviour.\n",
      "  warn(\n",
      "/Users/jayceepang/miniconda3/envs/atom2024/lib/python3.9/site-packages/imblearn/ensemble/_forest.py:589: FutureWarning: The default of `replacement` will change from `False` to `True` in version 0.13. This change will follow the implementation proposed in the original paper. Set to `True` to silence this warning and adopt the future behaviour.\n",
      "  warn(\n"
     ]
    },
    {
     "name": "stdout",
     "output_type": "stream",
     "text": [
      "TRAIN: acc: 0.998, precision: 1.000, recall: 0.996, spec: 1.000\n",
      "TEST: acc: 0.973, precision: 0.982, recall: 0.964, spec: 0.982\n",
      "func:'rf_models'  took: 0.8648 sec\n",
      "\n",
      "NEK9_inhibition_MFP_SMOTE_BRFC_BCW_fold5\n"
     ]
    },
    {
     "name": "stderr",
     "output_type": "stream",
     "text": [
      "/Users/jayceepang/miniconda3/envs/atom2024/lib/python3.9/site-packages/imblearn/ensemble/_forest.py:577: FutureWarning: The default of `sampling_strategy` will change from `'auto'` to `'all'` in version 0.13. This change will follow the implementation proposed in the original paper. Set to `'all'` to silence this warning and adopt the future behaviour.\n",
      "  warn(\n",
      "/Users/jayceepang/miniconda3/envs/atom2024/lib/python3.9/site-packages/imblearn/ensemble/_forest.py:589: FutureWarning: The default of `replacement` will change from `False` to `True` in version 0.13. This change will follow the implementation proposed in the original paper. Set to `True` to silence this warning and adopt the future behaviour.\n",
      "  warn(\n"
     ]
    },
    {
     "name": "stdout",
     "output_type": "stream",
     "text": [
      "TRAIN: acc: 0.998, precision: 1.000, recall: 0.996, spec: 1.000\n",
      "TEST: acc: 0.964, precision: 0.981, recall: 0.946, spec: 0.982\n",
      "func:'rf_models'  took: 0.8670 sec\n",
      "\n",
      "NEK9_inhibition_MFP_ADASYN_RF_fold1\n",
      "TRAIN: acc: 0.998, precision: 1.000, recall: 0.996, spec: 1.000\n",
      "TEST: acc: 0.973, precision: 0.950, recall: 1.000, spec: 0.946\n",
      "func:'rf_models'  took: 1.0731 sec\n",
      "\n",
      "NEK9_inhibition_MFP_ADASYN_RF_BCW_fold1\n",
      "TRAIN: acc: 0.998, precision: 1.000, recall: 0.996, spec: 1.000\n",
      "TEST: acc: 0.973, precision: 0.950, recall: 1.000, spec: 0.946\n",
      "func:'rf_models'  took: 1.1138 sec\n",
      "\n",
      "NEK9_inhibition_MFP_ADASYN_BRFC_fold1\n"
     ]
    },
    {
     "name": "stderr",
     "output_type": "stream",
     "text": [
      "/Users/jayceepang/miniconda3/envs/atom2024/lib/python3.9/site-packages/imblearn/ensemble/_forest.py:577: FutureWarning: The default of `sampling_strategy` will change from `'auto'` to `'all'` in version 0.13. This change will follow the implementation proposed in the original paper. Set to `'all'` to silence this warning and adopt the future behaviour.\n",
      "  warn(\n",
      "/Users/jayceepang/miniconda3/envs/atom2024/lib/python3.9/site-packages/imblearn/ensemble/_forest.py:589: FutureWarning: The default of `replacement` will change from `False` to `True` in version 0.13. This change will follow the implementation proposed in the original paper. Set to `True` to silence this warning and adopt the future behaviour.\n",
      "  warn(\n"
     ]
    },
    {
     "name": "stdout",
     "output_type": "stream",
     "text": [
      "TRAIN: acc: 0.998, precision: 1.000, recall: 0.996, spec: 1.000\n",
      "TEST: acc: 0.973, precision: 0.950, recall: 1.000, spec: 0.946\n",
      "func:'rf_models'  took: 1.2986 sec\n",
      "\n",
      "NEK9_inhibition_MFP_ADASYN_BRFC_BCW_fold1\n"
     ]
    },
    {
     "name": "stderr",
     "output_type": "stream",
     "text": [
      "/Users/jayceepang/miniconda3/envs/atom2024/lib/python3.9/site-packages/imblearn/ensemble/_forest.py:577: FutureWarning: The default of `sampling_strategy` will change from `'auto'` to `'all'` in version 0.13. This change will follow the implementation proposed in the original paper. Set to `'all'` to silence this warning and adopt the future behaviour.\n",
      "  warn(\n",
      "/Users/jayceepang/miniconda3/envs/atom2024/lib/python3.9/site-packages/imblearn/ensemble/_forest.py:589: FutureWarning: The default of `replacement` will change from `False` to `True` in version 0.13. This change will follow the implementation proposed in the original paper. Set to `True` to silence this warning and adopt the future behaviour.\n",
      "  warn(\n"
     ]
    },
    {
     "name": "stdout",
     "output_type": "stream",
     "text": [
      "TRAIN: acc: 0.998, precision: 1.000, recall: 0.996, spec: 1.000\n",
      "TEST: acc: 0.973, precision: 0.950, recall: 1.000, spec: 0.946\n",
      "func:'rf_models'  took: 1.3410 sec\n",
      "\n",
      "NEK9_inhibition_MFP_ADASYN_RF_fold2\n",
      "TRAIN: acc: 1.000, precision: 1.000, recall: 1.000, spec: 1.000\n",
      "TEST: acc: 0.947, precision: 0.932, recall: 0.965, spec: 0.929\n",
      "func:'rf_models'  took: 1.0958 sec\n",
      "\n",
      "NEK9_inhibition_MFP_ADASYN_RF_BCW_fold2\n",
      "TRAIN: acc: 1.000, precision: 1.000, recall: 1.000, spec: 1.000\n",
      "TEST: acc: 0.947, precision: 0.932, recall: 0.965, spec: 0.929\n",
      "func:'rf_models'  took: 1.0326 sec\n",
      "\n",
      "NEK9_inhibition_MFP_ADASYN_BRFC_fold2\n"
     ]
    },
    {
     "name": "stderr",
     "output_type": "stream",
     "text": [
      "/Users/jayceepang/miniconda3/envs/atom2024/lib/python3.9/site-packages/imblearn/ensemble/_forest.py:577: FutureWarning: The default of `sampling_strategy` will change from `'auto'` to `'all'` in version 0.13. This change will follow the implementation proposed in the original paper. Set to `'all'` to silence this warning and adopt the future behaviour.\n",
      "  warn(\n",
      "/Users/jayceepang/miniconda3/envs/atom2024/lib/python3.9/site-packages/imblearn/ensemble/_forest.py:589: FutureWarning: The default of `replacement` will change from `False` to `True` in version 0.13. This change will follow the implementation proposed in the original paper. Set to `True` to silence this warning and adopt the future behaviour.\n",
      "  warn(\n"
     ]
    },
    {
     "name": "stdout",
     "output_type": "stream",
     "text": [
      "TRAIN: acc: 1.000, precision: 1.000, recall: 1.000, spec: 1.000\n",
      "TEST: acc: 0.947, precision: 0.932, recall: 0.965, spec: 0.929\n",
      "func:'rf_models'  took: 1.2111 sec\n",
      "\n",
      "NEK9_inhibition_MFP_ADASYN_BRFC_BCW_fold2\n"
     ]
    },
    {
     "name": "stderr",
     "output_type": "stream",
     "text": [
      "/Users/jayceepang/miniconda3/envs/atom2024/lib/python3.9/site-packages/imblearn/ensemble/_forest.py:577: FutureWarning: The default of `sampling_strategy` will change from `'auto'` to `'all'` in version 0.13. This change will follow the implementation proposed in the original paper. Set to `'all'` to silence this warning and adopt the future behaviour.\n",
      "  warn(\n",
      "/Users/jayceepang/miniconda3/envs/atom2024/lib/python3.9/site-packages/imblearn/ensemble/_forest.py:589: FutureWarning: The default of `replacement` will change from `False` to `True` in version 0.13. This change will follow the implementation proposed in the original paper. Set to `True` to silence this warning and adopt the future behaviour.\n",
      "  warn(\n"
     ]
    },
    {
     "name": "stdout",
     "output_type": "stream",
     "text": [
      "TRAIN: acc: 1.000, precision: 1.000, recall: 1.000, spec: 1.000\n",
      "TEST: acc: 0.947, precision: 0.932, recall: 0.965, spec: 0.929\n",
      "func:'rf_models'  took: 1.2443 sec\n",
      "\n",
      "NEK9_inhibition_MFP_ADASYN_RF_fold3\n",
      "TRAIN: acc: 1.000, precision: 1.000, recall: 1.000, spec: 1.000\n",
      "TEST: acc: 0.955, precision: 0.932, recall: 0.982, spec: 0.929\n",
      "func:'rf_models'  took: 0.8797 sec\n",
      "\n",
      "NEK9_inhibition_MFP_ADASYN_RF_BCW_fold3\n",
      "TRAIN: acc: 1.000, precision: 1.000, recall: 1.000, spec: 1.000\n",
      "TEST: acc: 0.955, precision: 0.932, recall: 0.982, spec: 0.929\n",
      "func:'rf_models'  took: 0.9139 sec\n",
      "\n",
      "NEK9_inhibition_MFP_ADASYN_BRFC_fold3\n"
     ]
    },
    {
     "name": "stderr",
     "output_type": "stream",
     "text": [
      "/Users/jayceepang/miniconda3/envs/atom2024/lib/python3.9/site-packages/imblearn/ensemble/_forest.py:577: FutureWarning: The default of `sampling_strategy` will change from `'auto'` to `'all'` in version 0.13. This change will follow the implementation proposed in the original paper. Set to `'all'` to silence this warning and adopt the future behaviour.\n",
      "  warn(\n",
      "/Users/jayceepang/miniconda3/envs/atom2024/lib/python3.9/site-packages/imblearn/ensemble/_forest.py:589: FutureWarning: The default of `replacement` will change from `False` to `True` in version 0.13. This change will follow the implementation proposed in the original paper. Set to `True` to silence this warning and adopt the future behaviour.\n",
      "  warn(\n"
     ]
    },
    {
     "name": "stdout",
     "output_type": "stream",
     "text": [
      "TRAIN: acc: 1.000, precision: 1.000, recall: 1.000, spec: 1.000\n",
      "TEST: acc: 0.955, precision: 0.932, recall: 0.982, spec: 0.929\n",
      "func:'rf_models'  took: 1.1019 sec\n",
      "\n",
      "NEK9_inhibition_MFP_ADASYN_BRFC_BCW_fold3\n"
     ]
    },
    {
     "name": "stderr",
     "output_type": "stream",
     "text": [
      "/Users/jayceepang/miniconda3/envs/atom2024/lib/python3.9/site-packages/imblearn/ensemble/_forest.py:577: FutureWarning: The default of `sampling_strategy` will change from `'auto'` to `'all'` in version 0.13. This change will follow the implementation proposed in the original paper. Set to `'all'` to silence this warning and adopt the future behaviour.\n",
      "  warn(\n",
      "/Users/jayceepang/miniconda3/envs/atom2024/lib/python3.9/site-packages/imblearn/ensemble/_forest.py:589: FutureWarning: The default of `replacement` will change from `False` to `True` in version 0.13. This change will follow the implementation proposed in the original paper. Set to `True` to silence this warning and adopt the future behaviour.\n",
      "  warn(\n"
     ]
    },
    {
     "name": "stdout",
     "output_type": "stream",
     "text": [
      "TRAIN: acc: 1.000, precision: 1.000, recall: 1.000, spec: 1.000\n",
      "TEST: acc: 0.946, precision: 0.917, recall: 0.982, spec: 0.911\n",
      "func:'rf_models'  took: 1.1888 sec\n",
      "\n",
      "NEK9_inhibition_MFP_ADASYN_RF_fold4\n",
      "TRAIN: acc: 0.998, precision: 1.000, recall: 0.996, spec: 1.000\n",
      "TEST: acc: 0.973, precision: 0.965, recall: 0.982, spec: 0.964\n",
      "func:'rf_models'  took: 0.9557 sec\n",
      "\n",
      "NEK9_inhibition_MFP_ADASYN_RF_BCW_fold4\n",
      "TRAIN: acc: 0.998, precision: 1.000, recall: 0.996, spec: 1.000\n",
      "TEST: acc: 0.973, precision: 0.965, recall: 0.982, spec: 0.964\n",
      "func:'rf_models'  took: 0.9825 sec\n",
      "\n",
      "NEK9_inhibition_MFP_ADASYN_BRFC_fold4\n"
     ]
    },
    {
     "name": "stderr",
     "output_type": "stream",
     "text": [
      "/Users/jayceepang/miniconda3/envs/atom2024/lib/python3.9/site-packages/imblearn/ensemble/_forest.py:577: FutureWarning: The default of `sampling_strategy` will change from `'auto'` to `'all'` in version 0.13. This change will follow the implementation proposed in the original paper. Set to `'all'` to silence this warning and adopt the future behaviour.\n",
      "  warn(\n",
      "/Users/jayceepang/miniconda3/envs/atom2024/lib/python3.9/site-packages/imblearn/ensemble/_forest.py:589: FutureWarning: The default of `replacement` will change from `False` to `True` in version 0.13. This change will follow the implementation proposed in the original paper. Set to `True` to silence this warning and adopt the future behaviour.\n",
      "  warn(\n"
     ]
    },
    {
     "name": "stdout",
     "output_type": "stream",
     "text": [
      "TRAIN: acc: 0.998, precision: 1.000, recall: 0.996, spec: 1.000\n",
      "TEST: acc: 0.973, precision: 0.965, recall: 0.982, spec: 0.964\n",
      "func:'rf_models'  took: 1.2151 sec\n",
      "\n",
      "NEK9_inhibition_MFP_ADASYN_BRFC_BCW_fold4\n"
     ]
    },
    {
     "name": "stderr",
     "output_type": "stream",
     "text": [
      "/Users/jayceepang/miniconda3/envs/atom2024/lib/python3.9/site-packages/imblearn/ensemble/_forest.py:577: FutureWarning: The default of `sampling_strategy` will change from `'auto'` to `'all'` in version 0.13. This change will follow the implementation proposed in the original paper. Set to `'all'` to silence this warning and adopt the future behaviour.\n",
      "  warn(\n",
      "/Users/jayceepang/miniconda3/envs/atom2024/lib/python3.9/site-packages/imblearn/ensemble/_forest.py:589: FutureWarning: The default of `replacement` will change from `False` to `True` in version 0.13. This change will follow the implementation proposed in the original paper. Set to `True` to silence this warning and adopt the future behaviour.\n",
      "  warn(\n"
     ]
    },
    {
     "name": "stdout",
     "output_type": "stream",
     "text": [
      "TRAIN: acc: 0.998, precision: 1.000, recall: 0.996, spec: 1.000\n",
      "TEST: acc: 0.973, precision: 0.965, recall: 0.982, spec: 0.964\n",
      "func:'rf_models'  took: 1.1966 sec\n",
      "\n",
      "NEK9_inhibition_MFP_ADASYN_RF_fold5\n",
      "TRAIN: acc: 0.998, precision: 1.000, recall: 0.996, spec: 1.000\n",
      "TEST: acc: 0.964, precision: 0.964, recall: 0.964, spec: 0.964\n",
      "func:'rf_models'  took: 0.9820 sec\n",
      "\n",
      "NEK9_inhibition_MFP_ADASYN_RF_BCW_fold5\n",
      "TRAIN: acc: 0.998, precision: 1.000, recall: 0.996, spec: 1.000\n",
      "TEST: acc: 0.973, precision: 0.982, recall: 0.964, spec: 0.982\n",
      "func:'rf_models'  took: 1.0059 sec\n",
      "\n",
      "NEK9_inhibition_MFP_ADASYN_BRFC_fold5\n"
     ]
    },
    {
     "name": "stderr",
     "output_type": "stream",
     "text": [
      "/Users/jayceepang/miniconda3/envs/atom2024/lib/python3.9/site-packages/imblearn/ensemble/_forest.py:577: FutureWarning: The default of `sampling_strategy` will change from `'auto'` to `'all'` in version 0.13. This change will follow the implementation proposed in the original paper. Set to `'all'` to silence this warning and adopt the future behaviour.\n",
      "  warn(\n",
      "/Users/jayceepang/miniconda3/envs/atom2024/lib/python3.9/site-packages/imblearn/ensemble/_forest.py:589: FutureWarning: The default of `replacement` will change from `False` to `True` in version 0.13. This change will follow the implementation proposed in the original paper. Set to `True` to silence this warning and adopt the future behaviour.\n",
      "  warn(\n"
     ]
    },
    {
     "name": "stdout",
     "output_type": "stream",
     "text": [
      "TRAIN: acc: 0.998, precision: 1.000, recall: 0.996, spec: 1.000\n",
      "TEST: acc: 0.964, precision: 0.964, recall: 0.964, spec: 0.964\n",
      "func:'rf_models'  took: 1.2011 sec\n",
      "\n",
      "NEK9_inhibition_MFP_ADASYN_BRFC_BCW_fold5\n"
     ]
    },
    {
     "name": "stderr",
     "output_type": "stream",
     "text": [
      "/Users/jayceepang/miniconda3/envs/atom2024/lib/python3.9/site-packages/imblearn/ensemble/_forest.py:577: FutureWarning: The default of `sampling_strategy` will change from `'auto'` to `'all'` in version 0.13. This change will follow the implementation proposed in the original paper. Set to `'all'` to silence this warning and adopt the future behaviour.\n",
      "  warn(\n",
      "/Users/jayceepang/miniconda3/envs/atom2024/lib/python3.9/site-packages/imblearn/ensemble/_forest.py:589: FutureWarning: The default of `replacement` will change from `False` to `True` in version 0.13. This change will follow the implementation proposed in the original paper. Set to `True` to silence this warning and adopt the future behaviour.\n",
      "  warn(\n"
     ]
    },
    {
     "name": "stdout",
     "output_type": "stream",
     "text": [
      "TRAIN: acc: 0.998, precision: 1.000, recall: 0.996, spec: 1.000\n",
      "TEST: acc: 0.964, precision: 0.964, recall: 0.964, spec: 0.964\n",
      "func:'rf_models'  took: 1.2277 sec\n",
      "\n"
     ]
    }
   ],
   "source": [
    "kf_path = '/Users/jayceepang/msse/capstone/atom2024/atom2024/notebooks/paper/datasets/80train_20test/k_fold/validation/'\n",
    "val_models='/Users/jayceepang/msse/capstone/atom2024/atom2024/notebooks/paper/datasets/80train_20test/k_fold/validation/val_models/'\n",
    "results_dir='/Users/jayceepang/msse/capstone/atom2024/atom2024/notebooks/paper/datasets/80train_20test/k_fold/validation/results/'\n",
    "neks = ['NEK2_binding','NEK2_inhibition','NEK3_binding','NEK5_binding','NEK9_binding','NEK9_inhibition']\n",
    "samplings =['none_scaled','UNDER','SMOTE','ADASYN'] \n",
    "feats=['MOE','MFP'] \n",
    "RF_types = ['RF','RF_BCW','BRFC','BRFC_BCW']\n",
    "folds=['fold1','fold2','fold3','fold4','fold5'] \n",
    "\n",
    "for nek in neks: \n",
    "    for feat in feats: \n",
    "        for samp in samplings:\n",
    "            for fold in folds: \n",
    "                root_name = f'{nek}_{feat}_{samp}_{fold}_validation'\n",
    "                \n",
    "                trainX=pd.read_csv(f'{kf_path}{root_name}_trainX.csv').iloc[:, :-1]\n",
    "                train_y=pd.read_csv(f'{kf_path}{root_name}_train_y.csv').to_numpy().reshape(-1)\n",
    "                testX=pd.read_csv(f'{kf_path}{root_name}_testX.csv').iloc[:, :-1]\n",
    "                test_y=pd.read_csv(f'{kf_path}{root_name}_test_y.csv').to_numpy().reshape(-1)\n",
    "                for rf in RF_types: \n",
    "                    model_name = f'{nek}_{feat}_{samp}_{rf}_{fold}'\n",
    "                    print(model_name) \n",
    "                    model = rf_models(trainX, train_y, testX, test_y, rf, {}, True)  # make sure dict and doesn't go to default RF version\n",
    "\n",
    "                    # with open(f'{model_pickle_dir}{model_name}.pkl', 'wb') as f: \n",
    "                    #     pickle.dump(model, f) \n",
    "                    # add cm and other metrics to this function \n",
    "                    train_df = gather_rf_results(model, trainX, train_y)\n",
    "                    test_df = gather_rf_results(model, testX, test_y)\n",
    "                    print()\n",
    "                    \n",
    "                    \n",
    "                    for this_df in [train_df,test_df]: \n",
    "                        this_df['model'] = model_name\n",
    "                        # this_df= add_cm(this_df)\n",
    "                        this_df['NEK'] =nek\n",
    "                        this_df['feat_type'] = feat\n",
    "                        this_df['strategy'] = samp\n",
    "                        this_df['RF_type'] = rf\n",
    "                    \n",
    "                    train_df.to_csv(f'{results_dir}{model_name}_train.csv',index=False) \n",
    "                    test_df.to_csv(f'{results_dir}{model_name}_test.csv',index=False) \n",
    "                        \n",
    "                        \n",
    "                    "
   ]
  },
  {
   "cell_type": "code",
   "execution_count": 4,
   "id": "674d5cd3-b995-4950-a61d-705b6c533b59",
   "metadata": {},
   "outputs": [
    {
     "name": "stdout",
     "output_type": "stream",
     "text": [
      "['prediction', 'accuracy', 'precision', 'recall', 'specificity', 'f1', 'ROC_AUC', 'MCC', 'balanced_accuracy', 'prob_class0', 'prob_class1', 'y', 'cm', 'TN', 'FN', 'FP', 'TP']\n"
     ]
    }
   ],
   "source": [
    "print(list(test_df.columns))"
   ]
  },
  {
   "cell_type": "code",
   "execution_count": 13,
   "id": "110350d6-1268-4715-903c-7b9f324cd0d7",
   "metadata": {
    "scrolled": true
   },
   "outputs": [
    {
     "name": "stdout",
     "output_type": "stream",
     "text": [
      "NEK2_binding_MOE_none_scaled_RF_fold1\n",
      "NEK2_binding_MOE_none_scaled_RF_BCW_fold1\n",
      "NEK2_binding_MOE_none_scaled_BRFC_fold1\n",
      "NEK2_binding_MOE_none_scaled_BRFC_BCW_fold1\n",
      "NEK2_binding_MOE_none_scaled_RF_fold2\n",
      "NEK2_binding_MOE_none_scaled_RF_BCW_fold2\n",
      "NEK2_binding_MOE_none_scaled_BRFC_fold2\n",
      "NEK2_binding_MOE_none_scaled_BRFC_BCW_fold2\n",
      "NEK2_binding_MOE_none_scaled_RF_fold3\n",
      "NEK2_binding_MOE_none_scaled_RF_BCW_fold3\n",
      "NEK2_binding_MOE_none_scaled_BRFC_fold3\n",
      "NEK2_binding_MOE_none_scaled_BRFC_BCW_fold3\n",
      "NEK2_binding_MOE_none_scaled_RF_fold4\n",
      "NEK2_binding_MOE_none_scaled_RF_BCW_fold4\n",
      "NEK2_binding_MOE_none_scaled_BRFC_fold4\n",
      "NEK2_binding_MOE_none_scaled_BRFC_BCW_fold4\n",
      "NEK2_binding_MOE_none_scaled_RF_fold5\n",
      "NEK2_binding_MOE_none_scaled_RF_BCW_fold5\n",
      "NEK2_binding_MOE_none_scaled_BRFC_fold5\n",
      "NEK2_binding_MOE_none_scaled_BRFC_BCW_fold5\n",
      "NEK2_binding_MOE_UNDER_RF_fold1\n",
      "NEK2_binding_MOE_UNDER_RF_BCW_fold1\n",
      "NEK2_binding_MOE_UNDER_BRFC_fold1\n",
      "NEK2_binding_MOE_UNDER_BRFC_BCW_fold1\n",
      "NEK2_binding_MOE_UNDER_RF_fold2\n",
      "NEK2_binding_MOE_UNDER_RF_BCW_fold2\n",
      "NEK2_binding_MOE_UNDER_BRFC_fold2\n",
      "NEK2_binding_MOE_UNDER_BRFC_BCW_fold2\n",
      "NEK2_binding_MOE_UNDER_RF_fold3\n",
      "NEK2_binding_MOE_UNDER_RF_BCW_fold3\n",
      "NEK2_binding_MOE_UNDER_BRFC_fold3\n",
      "NEK2_binding_MOE_UNDER_BRFC_BCW_fold3\n",
      "NEK2_binding_MOE_UNDER_RF_fold4\n",
      "NEK2_binding_MOE_UNDER_RF_BCW_fold4\n",
      "NEK2_binding_MOE_UNDER_BRFC_fold4\n",
      "NEK2_binding_MOE_UNDER_BRFC_BCW_fold4\n",
      "NEK2_binding_MOE_UNDER_RF_fold5\n",
      "NEK2_binding_MOE_UNDER_RF_BCW_fold5\n",
      "NEK2_binding_MOE_UNDER_BRFC_fold5\n",
      "NEK2_binding_MOE_UNDER_BRFC_BCW_fold5\n",
      "NEK2_binding_MOE_SMOTE_RF_fold1\n",
      "NEK2_binding_MOE_SMOTE_RF_BCW_fold1\n",
      "NEK2_binding_MOE_SMOTE_BRFC_fold1\n",
      "NEK2_binding_MOE_SMOTE_BRFC_BCW_fold1\n",
      "NEK2_binding_MOE_SMOTE_RF_fold2\n",
      "NEK2_binding_MOE_SMOTE_RF_BCW_fold2\n",
      "NEK2_binding_MOE_SMOTE_BRFC_fold2\n",
      "NEK2_binding_MOE_SMOTE_BRFC_BCW_fold2\n",
      "NEK2_binding_MOE_SMOTE_RF_fold3\n",
      "NEK2_binding_MOE_SMOTE_RF_BCW_fold3\n",
      "NEK2_binding_MOE_SMOTE_BRFC_fold3\n",
      "NEK2_binding_MOE_SMOTE_BRFC_BCW_fold3\n",
      "NEK2_binding_MOE_SMOTE_RF_fold4\n",
      "NEK2_binding_MOE_SMOTE_RF_BCW_fold4\n",
      "NEK2_binding_MOE_SMOTE_BRFC_fold4\n",
      "NEK2_binding_MOE_SMOTE_BRFC_BCW_fold4\n",
      "NEK2_binding_MOE_SMOTE_RF_fold5\n",
      "NEK2_binding_MOE_SMOTE_RF_BCW_fold5\n",
      "NEK2_binding_MOE_SMOTE_BRFC_fold5\n",
      "NEK2_binding_MOE_SMOTE_BRFC_BCW_fold5\n",
      "NEK2_binding_MOE_ADASYN_RF_fold1\n",
      "NEK2_binding_MOE_ADASYN_RF_BCW_fold1\n",
      "NEK2_binding_MOE_ADASYN_BRFC_fold1\n",
      "NEK2_binding_MOE_ADASYN_BRFC_BCW_fold1\n",
      "NEK2_binding_MOE_ADASYN_RF_fold2\n",
      "NEK2_binding_MOE_ADASYN_RF_BCW_fold2\n",
      "NEK2_binding_MOE_ADASYN_BRFC_fold2\n",
      "NEK2_binding_MOE_ADASYN_BRFC_BCW_fold2\n",
      "NEK2_binding_MOE_ADASYN_RF_fold3\n",
      "NEK2_binding_MOE_ADASYN_RF_BCW_fold3\n",
      "NEK2_binding_MOE_ADASYN_BRFC_fold3\n",
      "NEK2_binding_MOE_ADASYN_BRFC_BCW_fold3\n",
      "NEK2_binding_MOE_ADASYN_RF_fold4\n",
      "NEK2_binding_MOE_ADASYN_RF_BCW_fold4\n",
      "NEK2_binding_MOE_ADASYN_BRFC_fold4\n",
      "NEK2_binding_MOE_ADASYN_BRFC_BCW_fold4\n",
      "NEK2_binding_MOE_ADASYN_RF_fold5\n",
      "NEK2_binding_MOE_ADASYN_RF_BCW_fold5\n",
      "NEK2_binding_MOE_ADASYN_BRFC_fold5\n",
      "NEK2_binding_MOE_ADASYN_BRFC_BCW_fold5\n",
      "NEK2_binding_MFP_none_scaled_RF_fold1\n",
      "NEK2_binding_MFP_none_scaled_RF_BCW_fold1\n",
      "NEK2_binding_MFP_none_scaled_BRFC_fold1\n",
      "NEK2_binding_MFP_none_scaled_BRFC_BCW_fold1\n",
      "NEK2_binding_MFP_none_scaled_RF_fold2\n",
      "NEK2_binding_MFP_none_scaled_RF_BCW_fold2\n",
      "NEK2_binding_MFP_none_scaled_BRFC_fold2\n",
      "NEK2_binding_MFP_none_scaled_BRFC_BCW_fold2\n",
      "NEK2_binding_MFP_none_scaled_RF_fold3\n",
      "NEK2_binding_MFP_none_scaled_RF_BCW_fold3\n",
      "NEK2_binding_MFP_none_scaled_BRFC_fold3\n",
      "NEK2_binding_MFP_none_scaled_BRFC_BCW_fold3\n",
      "NEK2_binding_MFP_none_scaled_RF_fold4\n",
      "NEK2_binding_MFP_none_scaled_RF_BCW_fold4\n",
      "NEK2_binding_MFP_none_scaled_BRFC_fold4\n",
      "NEK2_binding_MFP_none_scaled_BRFC_BCW_fold4\n",
      "NEK2_binding_MFP_none_scaled_RF_fold5\n",
      "NEK2_binding_MFP_none_scaled_RF_BCW_fold5\n",
      "NEK2_binding_MFP_none_scaled_BRFC_fold5\n",
      "NEK2_binding_MFP_none_scaled_BRFC_BCW_fold5\n",
      "NEK2_binding_MFP_UNDER_RF_fold1\n",
      "NEK2_binding_MFP_UNDER_RF_BCW_fold1\n",
      "NEK2_binding_MFP_UNDER_BRFC_fold1\n",
      "NEK2_binding_MFP_UNDER_BRFC_BCW_fold1\n",
      "NEK2_binding_MFP_UNDER_RF_fold2\n",
      "NEK2_binding_MFP_UNDER_RF_BCW_fold2\n",
      "NEK2_binding_MFP_UNDER_BRFC_fold2\n",
      "NEK2_binding_MFP_UNDER_BRFC_BCW_fold2\n",
      "NEK2_binding_MFP_UNDER_RF_fold3\n",
      "NEK2_binding_MFP_UNDER_RF_BCW_fold3\n",
      "NEK2_binding_MFP_UNDER_BRFC_fold3\n",
      "NEK2_binding_MFP_UNDER_BRFC_BCW_fold3\n",
      "NEK2_binding_MFP_UNDER_RF_fold4\n",
      "NEK2_binding_MFP_UNDER_RF_BCW_fold4\n",
      "NEK2_binding_MFP_UNDER_BRFC_fold4\n",
      "NEK2_binding_MFP_UNDER_BRFC_BCW_fold4\n",
      "NEK2_binding_MFP_UNDER_RF_fold5\n",
      "NEK2_binding_MFP_UNDER_RF_BCW_fold5\n",
      "NEK2_binding_MFP_UNDER_BRFC_fold5\n",
      "NEK2_binding_MFP_UNDER_BRFC_BCW_fold5\n",
      "NEK2_binding_MFP_SMOTE_RF_fold1\n",
      "NEK2_binding_MFP_SMOTE_RF_BCW_fold1\n",
      "NEK2_binding_MFP_SMOTE_BRFC_fold1\n",
      "NEK2_binding_MFP_SMOTE_BRFC_BCW_fold1\n",
      "NEK2_binding_MFP_SMOTE_RF_fold2\n",
      "NEK2_binding_MFP_SMOTE_RF_BCW_fold2\n",
      "NEK2_binding_MFP_SMOTE_BRFC_fold2\n",
      "NEK2_binding_MFP_SMOTE_BRFC_BCW_fold2\n",
      "NEK2_binding_MFP_SMOTE_RF_fold3\n",
      "NEK2_binding_MFP_SMOTE_RF_BCW_fold3\n",
      "NEK2_binding_MFP_SMOTE_BRFC_fold3\n",
      "NEK2_binding_MFP_SMOTE_BRFC_BCW_fold3\n",
      "NEK2_binding_MFP_SMOTE_RF_fold4\n",
      "NEK2_binding_MFP_SMOTE_RF_BCW_fold4\n",
      "NEK2_binding_MFP_SMOTE_BRFC_fold4\n",
      "NEK2_binding_MFP_SMOTE_BRFC_BCW_fold4\n",
      "NEK2_binding_MFP_SMOTE_RF_fold5\n",
      "NEK2_binding_MFP_SMOTE_RF_BCW_fold5\n",
      "NEK2_binding_MFP_SMOTE_BRFC_fold5\n",
      "NEK2_binding_MFP_SMOTE_BRFC_BCW_fold5\n",
      "NEK2_binding_MFP_ADASYN_RF_fold1\n",
      "NEK2_binding_MFP_ADASYN_RF_BCW_fold1\n",
      "NEK2_binding_MFP_ADASYN_BRFC_fold1\n",
      "NEK2_binding_MFP_ADASYN_BRFC_BCW_fold1\n",
      "NEK2_binding_MFP_ADASYN_RF_fold2\n",
      "NEK2_binding_MFP_ADASYN_RF_BCW_fold2\n",
      "NEK2_binding_MFP_ADASYN_BRFC_fold2\n",
      "NEK2_binding_MFP_ADASYN_BRFC_BCW_fold2\n",
      "NEK2_binding_MFP_ADASYN_RF_fold3\n",
      "NEK2_binding_MFP_ADASYN_RF_BCW_fold3\n",
      "NEK2_binding_MFP_ADASYN_BRFC_fold3\n",
      "NEK2_binding_MFP_ADASYN_BRFC_BCW_fold3\n",
      "NEK2_binding_MFP_ADASYN_RF_fold4\n",
      "NEK2_binding_MFP_ADASYN_RF_BCW_fold4\n",
      "NEK2_binding_MFP_ADASYN_BRFC_fold4\n",
      "NEK2_binding_MFP_ADASYN_BRFC_BCW_fold4\n",
      "NEK2_binding_MFP_ADASYN_RF_fold5\n",
      "NEK2_binding_MFP_ADASYN_RF_BCW_fold5\n",
      "NEK2_binding_MFP_ADASYN_BRFC_fold5\n",
      "NEK2_binding_MFP_ADASYN_BRFC_BCW_fold5\n",
      "NEK2_inhibition_MOE_none_scaled_RF_fold1\n",
      "NEK2_inhibition_MOE_none_scaled_RF_BCW_fold1\n",
      "NEK2_inhibition_MOE_none_scaled_BRFC_fold1\n",
      "NEK2_inhibition_MOE_none_scaled_BRFC_BCW_fold1\n",
      "NEK2_inhibition_MOE_none_scaled_RF_fold2\n",
      "NEK2_inhibition_MOE_none_scaled_RF_BCW_fold2\n",
      "NEK2_inhibition_MOE_none_scaled_BRFC_fold2\n",
      "NEK2_inhibition_MOE_none_scaled_BRFC_BCW_fold2\n",
      "NEK2_inhibition_MOE_none_scaled_RF_fold3\n",
      "NEK2_inhibition_MOE_none_scaled_RF_BCW_fold3\n",
      "NEK2_inhibition_MOE_none_scaled_BRFC_fold3\n",
      "NEK2_inhibition_MOE_none_scaled_BRFC_BCW_fold3\n",
      "NEK2_inhibition_MOE_none_scaled_RF_fold4\n",
      "NEK2_inhibition_MOE_none_scaled_RF_BCW_fold4\n",
      "NEK2_inhibition_MOE_none_scaled_BRFC_fold4\n",
      "NEK2_inhibition_MOE_none_scaled_BRFC_BCW_fold4\n",
      "NEK2_inhibition_MOE_none_scaled_RF_fold5\n",
      "NEK2_inhibition_MOE_none_scaled_RF_BCW_fold5\n",
      "NEK2_inhibition_MOE_none_scaled_BRFC_fold5\n",
      "NEK2_inhibition_MOE_none_scaled_BRFC_BCW_fold5\n",
      "NEK2_inhibition_MOE_UNDER_RF_fold1\n",
      "NEK2_inhibition_MOE_UNDER_RF_BCW_fold1\n",
      "NEK2_inhibition_MOE_UNDER_BRFC_fold1\n",
      "NEK2_inhibition_MOE_UNDER_BRFC_BCW_fold1\n",
      "NEK2_inhibition_MOE_UNDER_RF_fold2\n",
      "NEK2_inhibition_MOE_UNDER_RF_BCW_fold2\n",
      "NEK2_inhibition_MOE_UNDER_BRFC_fold2\n",
      "NEK2_inhibition_MOE_UNDER_BRFC_BCW_fold2\n",
      "NEK2_inhibition_MOE_UNDER_RF_fold3\n",
      "NEK2_inhibition_MOE_UNDER_RF_BCW_fold3\n",
      "NEK2_inhibition_MOE_UNDER_BRFC_fold3\n",
      "NEK2_inhibition_MOE_UNDER_BRFC_BCW_fold3\n",
      "NEK2_inhibition_MOE_UNDER_RF_fold4\n",
      "NEK2_inhibition_MOE_UNDER_RF_BCW_fold4\n",
      "NEK2_inhibition_MOE_UNDER_BRFC_fold4\n",
      "NEK2_inhibition_MOE_UNDER_BRFC_BCW_fold4\n",
      "NEK2_inhibition_MOE_UNDER_RF_fold5\n",
      "NEK2_inhibition_MOE_UNDER_RF_BCW_fold5\n",
      "NEK2_inhibition_MOE_UNDER_BRFC_fold5\n",
      "NEK2_inhibition_MOE_UNDER_BRFC_BCW_fold5\n",
      "NEK2_inhibition_MOE_SMOTE_RF_fold1\n",
      "NEK2_inhibition_MOE_SMOTE_RF_BCW_fold1\n",
      "NEK2_inhibition_MOE_SMOTE_BRFC_fold1\n",
      "NEK2_inhibition_MOE_SMOTE_BRFC_BCW_fold1\n",
      "NEK2_inhibition_MOE_SMOTE_RF_fold2\n",
      "NEK2_inhibition_MOE_SMOTE_RF_BCW_fold2\n",
      "NEK2_inhibition_MOE_SMOTE_BRFC_fold2\n",
      "NEK2_inhibition_MOE_SMOTE_BRFC_BCW_fold2\n",
      "NEK2_inhibition_MOE_SMOTE_RF_fold3\n",
      "NEK2_inhibition_MOE_SMOTE_RF_BCW_fold3\n",
      "NEK2_inhibition_MOE_SMOTE_BRFC_fold3\n",
      "NEK2_inhibition_MOE_SMOTE_BRFC_BCW_fold3\n",
      "NEK2_inhibition_MOE_SMOTE_RF_fold4\n",
      "NEK2_inhibition_MOE_SMOTE_RF_BCW_fold4\n",
      "NEK2_inhibition_MOE_SMOTE_BRFC_fold4\n",
      "NEK2_inhibition_MOE_SMOTE_BRFC_BCW_fold4\n",
      "NEK2_inhibition_MOE_SMOTE_RF_fold5\n",
      "NEK2_inhibition_MOE_SMOTE_RF_BCW_fold5\n",
      "NEK2_inhibition_MOE_SMOTE_BRFC_fold5\n",
      "NEK2_inhibition_MOE_SMOTE_BRFC_BCW_fold5\n",
      "NEK2_inhibition_MOE_ADASYN_RF_fold1\n",
      "NEK2_inhibition_MOE_ADASYN_RF_BCW_fold1\n",
      "NEK2_inhibition_MOE_ADASYN_BRFC_fold1\n",
      "NEK2_inhibition_MOE_ADASYN_BRFC_BCW_fold1\n",
      "NEK2_inhibition_MOE_ADASYN_RF_fold2\n",
      "NEK2_inhibition_MOE_ADASYN_RF_BCW_fold2\n",
      "NEK2_inhibition_MOE_ADASYN_BRFC_fold2\n",
      "NEK2_inhibition_MOE_ADASYN_BRFC_BCW_fold2\n",
      "NEK2_inhibition_MOE_ADASYN_RF_fold3\n",
      "NEK2_inhibition_MOE_ADASYN_RF_BCW_fold3\n",
      "NEK2_inhibition_MOE_ADASYN_BRFC_fold3\n",
      "NEK2_inhibition_MOE_ADASYN_BRFC_BCW_fold3\n",
      "NEK2_inhibition_MOE_ADASYN_RF_fold4\n",
      "NEK2_inhibition_MOE_ADASYN_RF_BCW_fold4\n",
      "NEK2_inhibition_MOE_ADASYN_BRFC_fold4\n",
      "NEK2_inhibition_MOE_ADASYN_BRFC_BCW_fold4\n",
      "NEK2_inhibition_MOE_ADASYN_RF_fold5\n",
      "NEK2_inhibition_MOE_ADASYN_RF_BCW_fold5\n",
      "NEK2_inhibition_MOE_ADASYN_BRFC_fold5\n",
      "NEK2_inhibition_MOE_ADASYN_BRFC_BCW_fold5\n",
      "NEK2_inhibition_MFP_none_scaled_RF_fold1\n",
      "NEK2_inhibition_MFP_none_scaled_RF_BCW_fold1\n",
      "NEK2_inhibition_MFP_none_scaled_BRFC_fold1\n",
      "NEK2_inhibition_MFP_none_scaled_BRFC_BCW_fold1\n",
      "NEK2_inhibition_MFP_none_scaled_RF_fold2\n",
      "NEK2_inhibition_MFP_none_scaled_RF_BCW_fold2\n",
      "NEK2_inhibition_MFP_none_scaled_BRFC_fold2\n",
      "NEK2_inhibition_MFP_none_scaled_BRFC_BCW_fold2\n",
      "NEK2_inhibition_MFP_none_scaled_RF_fold3\n",
      "NEK2_inhibition_MFP_none_scaled_RF_BCW_fold3\n",
      "NEK2_inhibition_MFP_none_scaled_BRFC_fold3\n",
      "NEK2_inhibition_MFP_none_scaled_BRFC_BCW_fold3\n",
      "NEK2_inhibition_MFP_none_scaled_RF_fold4\n",
      "NEK2_inhibition_MFP_none_scaled_RF_BCW_fold4\n",
      "NEK2_inhibition_MFP_none_scaled_BRFC_fold4\n",
      "NEK2_inhibition_MFP_none_scaled_BRFC_BCW_fold4\n",
      "NEK2_inhibition_MFP_none_scaled_RF_fold5\n",
      "NEK2_inhibition_MFP_none_scaled_RF_BCW_fold5\n",
      "NEK2_inhibition_MFP_none_scaled_BRFC_fold5\n",
      "NEK2_inhibition_MFP_none_scaled_BRFC_BCW_fold5\n",
      "NEK2_inhibition_MFP_UNDER_RF_fold1\n",
      "NEK2_inhibition_MFP_UNDER_RF_BCW_fold1\n",
      "NEK2_inhibition_MFP_UNDER_BRFC_fold1\n",
      "NEK2_inhibition_MFP_UNDER_BRFC_BCW_fold1\n",
      "NEK2_inhibition_MFP_UNDER_RF_fold2\n",
      "NEK2_inhibition_MFP_UNDER_RF_BCW_fold2\n",
      "NEK2_inhibition_MFP_UNDER_BRFC_fold2\n",
      "NEK2_inhibition_MFP_UNDER_BRFC_BCW_fold2\n",
      "NEK2_inhibition_MFP_UNDER_RF_fold3\n",
      "NEK2_inhibition_MFP_UNDER_RF_BCW_fold3\n",
      "NEK2_inhibition_MFP_UNDER_BRFC_fold3\n",
      "NEK2_inhibition_MFP_UNDER_BRFC_BCW_fold3\n",
      "NEK2_inhibition_MFP_UNDER_RF_fold4\n",
      "NEK2_inhibition_MFP_UNDER_RF_BCW_fold4\n",
      "NEK2_inhibition_MFP_UNDER_BRFC_fold4\n",
      "NEK2_inhibition_MFP_UNDER_BRFC_BCW_fold4\n",
      "NEK2_inhibition_MFP_UNDER_RF_fold5\n",
      "NEK2_inhibition_MFP_UNDER_RF_BCW_fold5\n",
      "NEK2_inhibition_MFP_UNDER_BRFC_fold5\n",
      "NEK2_inhibition_MFP_UNDER_BRFC_BCW_fold5\n",
      "NEK2_inhibition_MFP_SMOTE_RF_fold1\n",
      "NEK2_inhibition_MFP_SMOTE_RF_BCW_fold1\n",
      "NEK2_inhibition_MFP_SMOTE_BRFC_fold1\n",
      "NEK2_inhibition_MFP_SMOTE_BRFC_BCW_fold1\n",
      "NEK2_inhibition_MFP_SMOTE_RF_fold2\n",
      "NEK2_inhibition_MFP_SMOTE_RF_BCW_fold2\n",
      "NEK2_inhibition_MFP_SMOTE_BRFC_fold2\n",
      "NEK2_inhibition_MFP_SMOTE_BRFC_BCW_fold2\n",
      "NEK2_inhibition_MFP_SMOTE_RF_fold3\n",
      "NEK2_inhibition_MFP_SMOTE_RF_BCW_fold3\n",
      "NEK2_inhibition_MFP_SMOTE_BRFC_fold3\n",
      "NEK2_inhibition_MFP_SMOTE_BRFC_BCW_fold3\n",
      "NEK2_inhibition_MFP_SMOTE_RF_fold4\n",
      "NEK2_inhibition_MFP_SMOTE_RF_BCW_fold4\n",
      "NEK2_inhibition_MFP_SMOTE_BRFC_fold4\n",
      "NEK2_inhibition_MFP_SMOTE_BRFC_BCW_fold4\n",
      "NEK2_inhibition_MFP_SMOTE_RF_fold5\n",
      "NEK2_inhibition_MFP_SMOTE_RF_BCW_fold5\n",
      "NEK2_inhibition_MFP_SMOTE_BRFC_fold5\n",
      "NEK2_inhibition_MFP_SMOTE_BRFC_BCW_fold5\n",
      "NEK2_inhibition_MFP_ADASYN_RF_fold1\n",
      "NEK2_inhibition_MFP_ADASYN_RF_BCW_fold1\n",
      "NEK2_inhibition_MFP_ADASYN_BRFC_fold1\n",
      "NEK2_inhibition_MFP_ADASYN_BRFC_BCW_fold1\n",
      "NEK2_inhibition_MFP_ADASYN_RF_fold2\n",
      "NEK2_inhibition_MFP_ADASYN_RF_BCW_fold2\n",
      "NEK2_inhibition_MFP_ADASYN_BRFC_fold2\n",
      "NEK2_inhibition_MFP_ADASYN_BRFC_BCW_fold2\n",
      "NEK2_inhibition_MFP_ADASYN_RF_fold3\n",
      "NEK2_inhibition_MFP_ADASYN_RF_BCW_fold3\n",
      "NEK2_inhibition_MFP_ADASYN_BRFC_fold3\n",
      "NEK2_inhibition_MFP_ADASYN_BRFC_BCW_fold3\n",
      "NEK2_inhibition_MFP_ADASYN_RF_fold4\n",
      "NEK2_inhibition_MFP_ADASYN_RF_BCW_fold4\n",
      "NEK2_inhibition_MFP_ADASYN_BRFC_fold4\n",
      "NEK2_inhibition_MFP_ADASYN_BRFC_BCW_fold4\n",
      "NEK2_inhibition_MFP_ADASYN_RF_fold5\n",
      "NEK2_inhibition_MFP_ADASYN_RF_BCW_fold5\n",
      "NEK2_inhibition_MFP_ADASYN_BRFC_fold5\n",
      "NEK2_inhibition_MFP_ADASYN_BRFC_BCW_fold5\n",
      "NEK3_binding_MOE_none_scaled_RF_fold1\n",
      "NEK3_binding_MOE_none_scaled_RF_BCW_fold1\n",
      "NEK3_binding_MOE_none_scaled_BRFC_fold1\n",
      "NEK3_binding_MOE_none_scaled_BRFC_BCW_fold1\n",
      "NEK3_binding_MOE_none_scaled_RF_fold2\n",
      "NEK3_binding_MOE_none_scaled_RF_BCW_fold2\n",
      "NEK3_binding_MOE_none_scaled_BRFC_fold2\n",
      "NEK3_binding_MOE_none_scaled_BRFC_BCW_fold2\n",
      "NEK3_binding_MOE_none_scaled_RF_fold3\n",
      "NEK3_binding_MOE_none_scaled_RF_BCW_fold3\n",
      "NEK3_binding_MOE_none_scaled_BRFC_fold3\n",
      "NEK3_binding_MOE_none_scaled_BRFC_BCW_fold3\n",
      "NEK3_binding_MOE_none_scaled_RF_fold4\n",
      "NEK3_binding_MOE_none_scaled_RF_BCW_fold4\n",
      "NEK3_binding_MOE_none_scaled_BRFC_fold4\n",
      "NEK3_binding_MOE_none_scaled_BRFC_BCW_fold4\n",
      "NEK3_binding_MOE_none_scaled_RF_fold5\n",
      "NEK3_binding_MOE_none_scaled_RF_BCW_fold5\n",
      "NEK3_binding_MOE_none_scaled_BRFC_fold5\n",
      "NEK3_binding_MOE_none_scaled_BRFC_BCW_fold5\n",
      "NEK3_binding_MOE_UNDER_RF_fold1\n",
      "NEK3_binding_MOE_UNDER_RF_BCW_fold1\n",
      "NEK3_binding_MOE_UNDER_BRFC_fold1\n",
      "NEK3_binding_MOE_UNDER_BRFC_BCW_fold1\n",
      "NEK3_binding_MOE_UNDER_RF_fold2\n",
      "NEK3_binding_MOE_UNDER_RF_BCW_fold2\n",
      "NEK3_binding_MOE_UNDER_BRFC_fold2\n",
      "NEK3_binding_MOE_UNDER_BRFC_BCW_fold2\n",
      "NEK3_binding_MOE_UNDER_RF_fold3\n",
      "NEK3_binding_MOE_UNDER_RF_BCW_fold3\n",
      "NEK3_binding_MOE_UNDER_BRFC_fold3\n",
      "NEK3_binding_MOE_UNDER_BRFC_BCW_fold3\n",
      "NEK3_binding_MOE_UNDER_RF_fold4\n",
      "NEK3_binding_MOE_UNDER_RF_BCW_fold4\n",
      "NEK3_binding_MOE_UNDER_BRFC_fold4\n",
      "NEK3_binding_MOE_UNDER_BRFC_BCW_fold4\n",
      "NEK3_binding_MOE_UNDER_RF_fold5\n",
      "NEK3_binding_MOE_UNDER_RF_BCW_fold5\n",
      "NEK3_binding_MOE_UNDER_BRFC_fold5\n",
      "NEK3_binding_MOE_UNDER_BRFC_BCW_fold5\n",
      "NEK3_binding_MOE_SMOTE_RF_fold1\n",
      "NEK3_binding_MOE_SMOTE_RF_BCW_fold1\n",
      "NEK3_binding_MOE_SMOTE_BRFC_fold1\n",
      "NEK3_binding_MOE_SMOTE_BRFC_BCW_fold1\n",
      "NEK3_binding_MOE_SMOTE_RF_fold2\n",
      "NEK3_binding_MOE_SMOTE_RF_BCW_fold2\n",
      "NEK3_binding_MOE_SMOTE_BRFC_fold2\n",
      "NEK3_binding_MOE_SMOTE_BRFC_BCW_fold2\n",
      "NEK3_binding_MOE_SMOTE_RF_fold3\n",
      "NEK3_binding_MOE_SMOTE_RF_BCW_fold3\n",
      "NEK3_binding_MOE_SMOTE_BRFC_fold3\n",
      "NEK3_binding_MOE_SMOTE_BRFC_BCW_fold3\n",
      "NEK3_binding_MOE_SMOTE_RF_fold4\n",
      "NEK3_binding_MOE_SMOTE_RF_BCW_fold4\n",
      "NEK3_binding_MOE_SMOTE_BRFC_fold4\n",
      "NEK3_binding_MOE_SMOTE_BRFC_BCW_fold4\n",
      "NEK3_binding_MOE_SMOTE_RF_fold5\n",
      "NEK3_binding_MOE_SMOTE_RF_BCW_fold5\n",
      "NEK3_binding_MOE_SMOTE_BRFC_fold5\n",
      "NEK3_binding_MOE_SMOTE_BRFC_BCW_fold5\n",
      "NEK3_binding_MOE_ADASYN_RF_fold1\n",
      "NEK3_binding_MOE_ADASYN_RF_BCW_fold1\n",
      "NEK3_binding_MOE_ADASYN_BRFC_fold1\n",
      "NEK3_binding_MOE_ADASYN_BRFC_BCW_fold1\n",
      "NEK3_binding_MOE_ADASYN_RF_fold2\n",
      "NEK3_binding_MOE_ADASYN_RF_BCW_fold2\n",
      "NEK3_binding_MOE_ADASYN_BRFC_fold2\n",
      "NEK3_binding_MOE_ADASYN_BRFC_BCW_fold2\n",
      "NEK3_binding_MOE_ADASYN_RF_fold3\n",
      "NEK3_binding_MOE_ADASYN_RF_BCW_fold3\n",
      "NEK3_binding_MOE_ADASYN_BRFC_fold3\n",
      "NEK3_binding_MOE_ADASYN_BRFC_BCW_fold3\n",
      "NEK3_binding_MOE_ADASYN_RF_fold4\n",
      "NEK3_binding_MOE_ADASYN_RF_BCW_fold4\n",
      "NEK3_binding_MOE_ADASYN_BRFC_fold4\n",
      "NEK3_binding_MOE_ADASYN_BRFC_BCW_fold4\n",
      "NEK3_binding_MOE_ADASYN_RF_fold5\n",
      "NEK3_binding_MOE_ADASYN_RF_BCW_fold5\n",
      "NEK3_binding_MOE_ADASYN_BRFC_fold5\n",
      "NEK3_binding_MOE_ADASYN_BRFC_BCW_fold5\n",
      "NEK3_binding_MFP_none_scaled_RF_fold1\n",
      "NEK3_binding_MFP_none_scaled_RF_BCW_fold1\n",
      "NEK3_binding_MFP_none_scaled_BRFC_fold1\n",
      "NEK3_binding_MFP_none_scaled_BRFC_BCW_fold1\n",
      "NEK3_binding_MFP_none_scaled_RF_fold2\n",
      "NEK3_binding_MFP_none_scaled_RF_BCW_fold2\n",
      "NEK3_binding_MFP_none_scaled_BRFC_fold2\n",
      "NEK3_binding_MFP_none_scaled_BRFC_BCW_fold2\n",
      "NEK3_binding_MFP_none_scaled_RF_fold3\n",
      "NEK3_binding_MFP_none_scaled_RF_BCW_fold3\n",
      "NEK3_binding_MFP_none_scaled_BRFC_fold3\n",
      "NEK3_binding_MFP_none_scaled_BRFC_BCW_fold3\n",
      "NEK3_binding_MFP_none_scaled_RF_fold4\n",
      "NEK3_binding_MFP_none_scaled_RF_BCW_fold4\n",
      "NEK3_binding_MFP_none_scaled_BRFC_fold4\n",
      "NEK3_binding_MFP_none_scaled_BRFC_BCW_fold4\n",
      "NEK3_binding_MFP_none_scaled_RF_fold5\n",
      "NEK3_binding_MFP_none_scaled_RF_BCW_fold5\n",
      "NEK3_binding_MFP_none_scaled_BRFC_fold5\n",
      "NEK3_binding_MFP_none_scaled_BRFC_BCW_fold5\n",
      "NEK3_binding_MFP_UNDER_RF_fold1\n",
      "NEK3_binding_MFP_UNDER_RF_BCW_fold1\n",
      "NEK3_binding_MFP_UNDER_BRFC_fold1\n",
      "NEK3_binding_MFP_UNDER_BRFC_BCW_fold1\n",
      "NEK3_binding_MFP_UNDER_RF_fold2\n",
      "NEK3_binding_MFP_UNDER_RF_BCW_fold2\n",
      "NEK3_binding_MFP_UNDER_BRFC_fold2\n",
      "NEK3_binding_MFP_UNDER_BRFC_BCW_fold2\n",
      "NEK3_binding_MFP_UNDER_RF_fold3\n",
      "NEK3_binding_MFP_UNDER_RF_BCW_fold3\n",
      "NEK3_binding_MFP_UNDER_BRFC_fold3\n",
      "NEK3_binding_MFP_UNDER_BRFC_BCW_fold3\n",
      "NEK3_binding_MFP_UNDER_RF_fold4\n",
      "NEK3_binding_MFP_UNDER_RF_BCW_fold4\n",
      "NEK3_binding_MFP_UNDER_BRFC_fold4\n",
      "NEK3_binding_MFP_UNDER_BRFC_BCW_fold4\n",
      "NEK3_binding_MFP_UNDER_RF_fold5\n",
      "NEK3_binding_MFP_UNDER_RF_BCW_fold5\n",
      "NEK3_binding_MFP_UNDER_BRFC_fold5\n",
      "NEK3_binding_MFP_UNDER_BRFC_BCW_fold5\n",
      "NEK3_binding_MFP_SMOTE_RF_fold1\n",
      "NEK3_binding_MFP_SMOTE_RF_BCW_fold1\n",
      "NEK3_binding_MFP_SMOTE_BRFC_fold1\n",
      "NEK3_binding_MFP_SMOTE_BRFC_BCW_fold1\n",
      "NEK3_binding_MFP_SMOTE_RF_fold2\n",
      "NEK3_binding_MFP_SMOTE_RF_BCW_fold2\n",
      "NEK3_binding_MFP_SMOTE_BRFC_fold2\n",
      "NEK3_binding_MFP_SMOTE_BRFC_BCW_fold2\n",
      "NEK3_binding_MFP_SMOTE_RF_fold3\n",
      "NEK3_binding_MFP_SMOTE_RF_BCW_fold3\n",
      "NEK3_binding_MFP_SMOTE_BRFC_fold3\n",
      "NEK3_binding_MFP_SMOTE_BRFC_BCW_fold3\n",
      "NEK3_binding_MFP_SMOTE_RF_fold4\n",
      "NEK3_binding_MFP_SMOTE_RF_BCW_fold4\n",
      "NEK3_binding_MFP_SMOTE_BRFC_fold4\n",
      "NEK3_binding_MFP_SMOTE_BRFC_BCW_fold4\n",
      "NEK3_binding_MFP_SMOTE_RF_fold5\n",
      "NEK3_binding_MFP_SMOTE_RF_BCW_fold5\n",
      "NEK3_binding_MFP_SMOTE_BRFC_fold5\n",
      "NEK3_binding_MFP_SMOTE_BRFC_BCW_fold5\n",
      "NEK3_binding_MFP_ADASYN_RF_fold1\n",
      "NEK3_binding_MFP_ADASYN_RF_BCW_fold1\n",
      "NEK3_binding_MFP_ADASYN_BRFC_fold1\n",
      "NEK3_binding_MFP_ADASYN_BRFC_BCW_fold1\n",
      "NEK3_binding_MFP_ADASYN_RF_fold2\n",
      "NEK3_binding_MFP_ADASYN_RF_BCW_fold2\n",
      "NEK3_binding_MFP_ADASYN_BRFC_fold2\n",
      "NEK3_binding_MFP_ADASYN_BRFC_BCW_fold2\n",
      "NEK3_binding_MFP_ADASYN_RF_fold3\n",
      "NEK3_binding_MFP_ADASYN_RF_BCW_fold3\n",
      "NEK3_binding_MFP_ADASYN_BRFC_fold3\n",
      "NEK3_binding_MFP_ADASYN_BRFC_BCW_fold3\n",
      "NEK3_binding_MFP_ADASYN_RF_fold4\n",
      "NEK3_binding_MFP_ADASYN_RF_BCW_fold4\n",
      "NEK3_binding_MFP_ADASYN_BRFC_fold4\n",
      "NEK3_binding_MFP_ADASYN_BRFC_BCW_fold4\n",
      "NEK3_binding_MFP_ADASYN_RF_fold5\n",
      "NEK3_binding_MFP_ADASYN_RF_BCW_fold5\n",
      "NEK3_binding_MFP_ADASYN_BRFC_fold5\n",
      "NEK3_binding_MFP_ADASYN_BRFC_BCW_fold5\n",
      "NEK5_binding_MOE_none_scaled_RF_fold1\n",
      "NEK5_binding_MOE_none_scaled_RF_BCW_fold1\n",
      "NEK5_binding_MOE_none_scaled_BRFC_fold1\n",
      "NEK5_binding_MOE_none_scaled_BRFC_BCW_fold1\n",
      "NEK5_binding_MOE_none_scaled_RF_fold2\n",
      "NEK5_binding_MOE_none_scaled_RF_BCW_fold2\n",
      "NEK5_binding_MOE_none_scaled_BRFC_fold2\n",
      "NEK5_binding_MOE_none_scaled_BRFC_BCW_fold2\n",
      "NEK5_binding_MOE_none_scaled_RF_fold3\n",
      "NEK5_binding_MOE_none_scaled_RF_BCW_fold3\n",
      "NEK5_binding_MOE_none_scaled_BRFC_fold3\n",
      "NEK5_binding_MOE_none_scaled_BRFC_BCW_fold3\n",
      "NEK5_binding_MOE_none_scaled_RF_fold4\n",
      "NEK5_binding_MOE_none_scaled_RF_BCW_fold4\n",
      "NEK5_binding_MOE_none_scaled_BRFC_fold4\n",
      "NEK5_binding_MOE_none_scaled_BRFC_BCW_fold4\n",
      "NEK5_binding_MOE_none_scaled_RF_fold5\n",
      "NEK5_binding_MOE_none_scaled_RF_BCW_fold5\n",
      "NEK5_binding_MOE_none_scaled_BRFC_fold5\n",
      "NEK5_binding_MOE_none_scaled_BRFC_BCW_fold5\n",
      "NEK5_binding_MOE_UNDER_RF_fold1\n",
      "NEK5_binding_MOE_UNDER_RF_BCW_fold1\n",
      "NEK5_binding_MOE_UNDER_BRFC_fold1\n",
      "NEK5_binding_MOE_UNDER_BRFC_BCW_fold1\n",
      "NEK5_binding_MOE_UNDER_RF_fold2\n",
      "NEK5_binding_MOE_UNDER_RF_BCW_fold2\n",
      "NEK5_binding_MOE_UNDER_BRFC_fold2\n",
      "NEK5_binding_MOE_UNDER_BRFC_BCW_fold2\n",
      "NEK5_binding_MOE_UNDER_RF_fold3\n",
      "NEK5_binding_MOE_UNDER_RF_BCW_fold3\n",
      "NEK5_binding_MOE_UNDER_BRFC_fold3\n",
      "NEK5_binding_MOE_UNDER_BRFC_BCW_fold3\n",
      "NEK5_binding_MOE_UNDER_RF_fold4\n",
      "NEK5_binding_MOE_UNDER_RF_BCW_fold4\n",
      "NEK5_binding_MOE_UNDER_BRFC_fold4\n",
      "NEK5_binding_MOE_UNDER_BRFC_BCW_fold4\n",
      "NEK5_binding_MOE_UNDER_RF_fold5\n",
      "NEK5_binding_MOE_UNDER_RF_BCW_fold5\n",
      "NEK5_binding_MOE_UNDER_BRFC_fold5\n",
      "NEK5_binding_MOE_UNDER_BRFC_BCW_fold5\n",
      "NEK5_binding_MOE_SMOTE_RF_fold1\n",
      "NEK5_binding_MOE_SMOTE_RF_BCW_fold1\n",
      "NEK5_binding_MOE_SMOTE_BRFC_fold1\n",
      "NEK5_binding_MOE_SMOTE_BRFC_BCW_fold1\n",
      "NEK5_binding_MOE_SMOTE_RF_fold2\n",
      "NEK5_binding_MOE_SMOTE_RF_BCW_fold2\n",
      "NEK5_binding_MOE_SMOTE_BRFC_fold2\n",
      "NEK5_binding_MOE_SMOTE_BRFC_BCW_fold2\n",
      "NEK5_binding_MOE_SMOTE_RF_fold3\n",
      "NEK5_binding_MOE_SMOTE_RF_BCW_fold3\n",
      "NEK5_binding_MOE_SMOTE_BRFC_fold3\n",
      "NEK5_binding_MOE_SMOTE_BRFC_BCW_fold3\n",
      "NEK5_binding_MOE_SMOTE_RF_fold4\n",
      "NEK5_binding_MOE_SMOTE_RF_BCW_fold4\n",
      "NEK5_binding_MOE_SMOTE_BRFC_fold4\n",
      "NEK5_binding_MOE_SMOTE_BRFC_BCW_fold4\n",
      "NEK5_binding_MOE_SMOTE_RF_fold5\n",
      "NEK5_binding_MOE_SMOTE_RF_BCW_fold5\n",
      "NEK5_binding_MOE_SMOTE_BRFC_fold5\n",
      "NEK5_binding_MOE_SMOTE_BRFC_BCW_fold5\n",
      "NEK5_binding_MOE_ADASYN_RF_fold1\n",
      "NEK5_binding_MOE_ADASYN_RF_BCW_fold1\n",
      "NEK5_binding_MOE_ADASYN_BRFC_fold1\n",
      "NEK5_binding_MOE_ADASYN_BRFC_BCW_fold1\n",
      "NEK5_binding_MOE_ADASYN_RF_fold2\n",
      "NEK5_binding_MOE_ADASYN_RF_BCW_fold2\n",
      "NEK5_binding_MOE_ADASYN_BRFC_fold2\n",
      "NEK5_binding_MOE_ADASYN_BRFC_BCW_fold2\n",
      "NEK5_binding_MOE_ADASYN_RF_fold3\n",
      "NEK5_binding_MOE_ADASYN_RF_BCW_fold3\n",
      "NEK5_binding_MOE_ADASYN_BRFC_fold3\n",
      "NEK5_binding_MOE_ADASYN_BRFC_BCW_fold3\n",
      "NEK5_binding_MOE_ADASYN_RF_fold4\n",
      "NEK5_binding_MOE_ADASYN_RF_BCW_fold4\n",
      "NEK5_binding_MOE_ADASYN_BRFC_fold4\n",
      "NEK5_binding_MOE_ADASYN_BRFC_BCW_fold4\n",
      "NEK5_binding_MOE_ADASYN_RF_fold5\n",
      "NEK5_binding_MOE_ADASYN_RF_BCW_fold5\n",
      "NEK5_binding_MOE_ADASYN_BRFC_fold5\n",
      "NEK5_binding_MOE_ADASYN_BRFC_BCW_fold5\n",
      "NEK5_binding_MFP_none_scaled_RF_fold1\n",
      "NEK5_binding_MFP_none_scaled_RF_BCW_fold1\n",
      "NEK5_binding_MFP_none_scaled_BRFC_fold1\n",
      "NEK5_binding_MFP_none_scaled_BRFC_BCW_fold1\n",
      "NEK5_binding_MFP_none_scaled_RF_fold2\n",
      "NEK5_binding_MFP_none_scaled_RF_BCW_fold2\n",
      "NEK5_binding_MFP_none_scaled_BRFC_fold2\n",
      "NEK5_binding_MFP_none_scaled_BRFC_BCW_fold2\n",
      "NEK5_binding_MFP_none_scaled_RF_fold3\n",
      "NEK5_binding_MFP_none_scaled_RF_BCW_fold3\n",
      "NEK5_binding_MFP_none_scaled_BRFC_fold3\n",
      "NEK5_binding_MFP_none_scaled_BRFC_BCW_fold3\n",
      "NEK5_binding_MFP_none_scaled_RF_fold4\n",
      "NEK5_binding_MFP_none_scaled_RF_BCW_fold4\n",
      "NEK5_binding_MFP_none_scaled_BRFC_fold4\n",
      "NEK5_binding_MFP_none_scaled_BRFC_BCW_fold4\n",
      "NEK5_binding_MFP_none_scaled_RF_fold5\n",
      "NEK5_binding_MFP_none_scaled_RF_BCW_fold5\n",
      "NEK5_binding_MFP_none_scaled_BRFC_fold5\n",
      "NEK5_binding_MFP_none_scaled_BRFC_BCW_fold5\n",
      "NEK5_binding_MFP_UNDER_RF_fold1\n",
      "NEK5_binding_MFP_UNDER_RF_BCW_fold1\n",
      "NEK5_binding_MFP_UNDER_BRFC_fold1\n",
      "NEK5_binding_MFP_UNDER_BRFC_BCW_fold1\n",
      "NEK5_binding_MFP_UNDER_RF_fold2\n",
      "NEK5_binding_MFP_UNDER_RF_BCW_fold2\n",
      "NEK5_binding_MFP_UNDER_BRFC_fold2\n",
      "NEK5_binding_MFP_UNDER_BRFC_BCW_fold2\n",
      "NEK5_binding_MFP_UNDER_RF_fold3\n",
      "NEK5_binding_MFP_UNDER_RF_BCW_fold3\n",
      "NEK5_binding_MFP_UNDER_BRFC_fold3\n",
      "NEK5_binding_MFP_UNDER_BRFC_BCW_fold3\n",
      "NEK5_binding_MFP_UNDER_RF_fold4\n",
      "NEK5_binding_MFP_UNDER_RF_BCW_fold4\n",
      "NEK5_binding_MFP_UNDER_BRFC_fold4\n",
      "NEK5_binding_MFP_UNDER_BRFC_BCW_fold4\n",
      "NEK5_binding_MFP_UNDER_RF_fold5\n",
      "NEK5_binding_MFP_UNDER_RF_BCW_fold5\n",
      "NEK5_binding_MFP_UNDER_BRFC_fold5\n",
      "NEK5_binding_MFP_UNDER_BRFC_BCW_fold5\n",
      "NEK5_binding_MFP_SMOTE_RF_fold1\n",
      "NEK5_binding_MFP_SMOTE_RF_BCW_fold1\n",
      "NEK5_binding_MFP_SMOTE_BRFC_fold1\n",
      "NEK5_binding_MFP_SMOTE_BRFC_BCW_fold1\n",
      "NEK5_binding_MFP_SMOTE_RF_fold2\n",
      "NEK5_binding_MFP_SMOTE_RF_BCW_fold2\n",
      "NEK5_binding_MFP_SMOTE_BRFC_fold2\n",
      "NEK5_binding_MFP_SMOTE_BRFC_BCW_fold2\n",
      "NEK5_binding_MFP_SMOTE_RF_fold3\n",
      "NEK5_binding_MFP_SMOTE_RF_BCW_fold3\n",
      "NEK5_binding_MFP_SMOTE_BRFC_fold3\n",
      "NEK5_binding_MFP_SMOTE_BRFC_BCW_fold3\n",
      "NEK5_binding_MFP_SMOTE_RF_fold4\n",
      "NEK5_binding_MFP_SMOTE_RF_BCW_fold4\n",
      "NEK5_binding_MFP_SMOTE_BRFC_fold4\n",
      "NEK5_binding_MFP_SMOTE_BRFC_BCW_fold4\n",
      "NEK5_binding_MFP_SMOTE_RF_fold5\n",
      "NEK5_binding_MFP_SMOTE_RF_BCW_fold5\n",
      "NEK5_binding_MFP_SMOTE_BRFC_fold5\n",
      "NEK5_binding_MFP_SMOTE_BRFC_BCW_fold5\n",
      "NEK5_binding_MFP_ADASYN_RF_fold1\n",
      "NEK5_binding_MFP_ADASYN_RF_BCW_fold1\n",
      "NEK5_binding_MFP_ADASYN_BRFC_fold1\n",
      "NEK5_binding_MFP_ADASYN_BRFC_BCW_fold1\n",
      "NEK5_binding_MFP_ADASYN_RF_fold2\n",
      "NEK5_binding_MFP_ADASYN_RF_BCW_fold2\n",
      "NEK5_binding_MFP_ADASYN_BRFC_fold2\n",
      "NEK5_binding_MFP_ADASYN_BRFC_BCW_fold2\n",
      "NEK5_binding_MFP_ADASYN_RF_fold3\n",
      "NEK5_binding_MFP_ADASYN_RF_BCW_fold3\n",
      "NEK5_binding_MFP_ADASYN_BRFC_fold3\n",
      "NEK5_binding_MFP_ADASYN_BRFC_BCW_fold3\n",
      "NEK5_binding_MFP_ADASYN_RF_fold4\n",
      "NEK5_binding_MFP_ADASYN_RF_BCW_fold4\n",
      "NEK5_binding_MFP_ADASYN_BRFC_fold4\n",
      "NEK5_binding_MFP_ADASYN_BRFC_BCW_fold4\n",
      "NEK5_binding_MFP_ADASYN_RF_fold5\n",
      "NEK5_binding_MFP_ADASYN_RF_BCW_fold5\n",
      "NEK5_binding_MFP_ADASYN_BRFC_fold5\n",
      "NEK5_binding_MFP_ADASYN_BRFC_BCW_fold5\n",
      "NEK9_binding_MOE_none_scaled_RF_fold1\n",
      "NEK9_binding_MOE_none_scaled_RF_BCW_fold1\n",
      "NEK9_binding_MOE_none_scaled_BRFC_fold1\n",
      "NEK9_binding_MOE_none_scaled_BRFC_BCW_fold1\n",
      "NEK9_binding_MOE_none_scaled_RF_fold2\n",
      "NEK9_binding_MOE_none_scaled_RF_BCW_fold2\n",
      "NEK9_binding_MOE_none_scaled_BRFC_fold2\n",
      "NEK9_binding_MOE_none_scaled_BRFC_BCW_fold2\n",
      "NEK9_binding_MOE_none_scaled_RF_fold3\n",
      "NEK9_binding_MOE_none_scaled_RF_BCW_fold3\n",
      "NEK9_binding_MOE_none_scaled_BRFC_fold3\n",
      "NEK9_binding_MOE_none_scaled_BRFC_BCW_fold3\n",
      "NEK9_binding_MOE_none_scaled_RF_fold4\n",
      "NEK9_binding_MOE_none_scaled_RF_BCW_fold4\n",
      "NEK9_binding_MOE_none_scaled_BRFC_fold4\n",
      "NEK9_binding_MOE_none_scaled_BRFC_BCW_fold4\n",
      "NEK9_binding_MOE_none_scaled_RF_fold5\n",
      "NEK9_binding_MOE_none_scaled_RF_BCW_fold5\n",
      "NEK9_binding_MOE_none_scaled_BRFC_fold5\n",
      "NEK9_binding_MOE_none_scaled_BRFC_BCW_fold5\n",
      "NEK9_binding_MOE_UNDER_RF_fold1\n",
      "NEK9_binding_MOE_UNDER_RF_BCW_fold1\n",
      "NEK9_binding_MOE_UNDER_BRFC_fold1\n",
      "NEK9_binding_MOE_UNDER_BRFC_BCW_fold1\n",
      "NEK9_binding_MOE_UNDER_RF_fold2\n",
      "NEK9_binding_MOE_UNDER_RF_BCW_fold2\n",
      "NEK9_binding_MOE_UNDER_BRFC_fold2\n",
      "NEK9_binding_MOE_UNDER_BRFC_BCW_fold2\n",
      "NEK9_binding_MOE_UNDER_RF_fold3\n",
      "NEK9_binding_MOE_UNDER_RF_BCW_fold3\n",
      "NEK9_binding_MOE_UNDER_BRFC_fold3\n",
      "NEK9_binding_MOE_UNDER_BRFC_BCW_fold3\n",
      "NEK9_binding_MOE_UNDER_RF_fold4\n",
      "NEK9_binding_MOE_UNDER_RF_BCW_fold4\n",
      "NEK9_binding_MOE_UNDER_BRFC_fold4\n",
      "NEK9_binding_MOE_UNDER_BRFC_BCW_fold4\n",
      "NEK9_binding_MOE_UNDER_RF_fold5\n",
      "NEK9_binding_MOE_UNDER_RF_BCW_fold5\n",
      "NEK9_binding_MOE_UNDER_BRFC_fold5\n",
      "NEK9_binding_MOE_UNDER_BRFC_BCW_fold5\n",
      "NEK9_binding_MOE_SMOTE_RF_fold1\n",
      "NEK9_binding_MOE_SMOTE_RF_BCW_fold1\n",
      "NEK9_binding_MOE_SMOTE_BRFC_fold1\n",
      "NEK9_binding_MOE_SMOTE_BRFC_BCW_fold1\n",
      "NEK9_binding_MOE_SMOTE_RF_fold2\n",
      "NEK9_binding_MOE_SMOTE_RF_BCW_fold2\n",
      "NEK9_binding_MOE_SMOTE_BRFC_fold2\n",
      "NEK9_binding_MOE_SMOTE_BRFC_BCW_fold2\n",
      "NEK9_binding_MOE_SMOTE_RF_fold3\n",
      "NEK9_binding_MOE_SMOTE_RF_BCW_fold3\n",
      "NEK9_binding_MOE_SMOTE_BRFC_fold3\n",
      "NEK9_binding_MOE_SMOTE_BRFC_BCW_fold3\n",
      "NEK9_binding_MOE_SMOTE_RF_fold4\n",
      "NEK9_binding_MOE_SMOTE_RF_BCW_fold4\n",
      "NEK9_binding_MOE_SMOTE_BRFC_fold4\n",
      "NEK9_binding_MOE_SMOTE_BRFC_BCW_fold4\n",
      "NEK9_binding_MOE_SMOTE_RF_fold5\n",
      "NEK9_binding_MOE_SMOTE_RF_BCW_fold5\n",
      "NEK9_binding_MOE_SMOTE_BRFC_fold5\n",
      "NEK9_binding_MOE_SMOTE_BRFC_BCW_fold5\n",
      "NEK9_binding_MOE_ADASYN_RF_fold1\n",
      "NEK9_binding_MOE_ADASYN_RF_BCW_fold1\n",
      "NEK9_binding_MOE_ADASYN_BRFC_fold1\n",
      "NEK9_binding_MOE_ADASYN_BRFC_BCW_fold1\n",
      "NEK9_binding_MOE_ADASYN_RF_fold2\n",
      "NEK9_binding_MOE_ADASYN_RF_BCW_fold2\n",
      "NEK9_binding_MOE_ADASYN_BRFC_fold2\n",
      "NEK9_binding_MOE_ADASYN_BRFC_BCW_fold2\n",
      "NEK9_binding_MOE_ADASYN_RF_fold3\n",
      "NEK9_binding_MOE_ADASYN_RF_BCW_fold3\n",
      "NEK9_binding_MOE_ADASYN_BRFC_fold3\n",
      "NEK9_binding_MOE_ADASYN_BRFC_BCW_fold3\n",
      "NEK9_binding_MOE_ADASYN_RF_fold4\n",
      "NEK9_binding_MOE_ADASYN_RF_BCW_fold4\n",
      "NEK9_binding_MOE_ADASYN_BRFC_fold4\n",
      "NEK9_binding_MOE_ADASYN_BRFC_BCW_fold4\n",
      "NEK9_binding_MOE_ADASYN_RF_fold5\n",
      "NEK9_binding_MOE_ADASYN_RF_BCW_fold5\n",
      "NEK9_binding_MOE_ADASYN_BRFC_fold5\n",
      "NEK9_binding_MOE_ADASYN_BRFC_BCW_fold5\n",
      "NEK9_binding_MFP_none_scaled_RF_fold1\n",
      "NEK9_binding_MFP_none_scaled_RF_BCW_fold1\n",
      "NEK9_binding_MFP_none_scaled_BRFC_fold1\n",
      "NEK9_binding_MFP_none_scaled_BRFC_BCW_fold1\n",
      "NEK9_binding_MFP_none_scaled_RF_fold2\n",
      "NEK9_binding_MFP_none_scaled_RF_BCW_fold2\n",
      "NEK9_binding_MFP_none_scaled_BRFC_fold2\n",
      "NEK9_binding_MFP_none_scaled_BRFC_BCW_fold2\n",
      "NEK9_binding_MFP_none_scaled_RF_fold3\n",
      "NEK9_binding_MFP_none_scaled_RF_BCW_fold3\n",
      "NEK9_binding_MFP_none_scaled_BRFC_fold3\n",
      "NEK9_binding_MFP_none_scaled_BRFC_BCW_fold3\n",
      "NEK9_binding_MFP_none_scaled_RF_fold4\n",
      "NEK9_binding_MFP_none_scaled_RF_BCW_fold4\n",
      "NEK9_binding_MFP_none_scaled_BRFC_fold4\n",
      "NEK9_binding_MFP_none_scaled_BRFC_BCW_fold4\n",
      "NEK9_binding_MFP_none_scaled_RF_fold5\n",
      "NEK9_binding_MFP_none_scaled_RF_BCW_fold5\n",
      "NEK9_binding_MFP_none_scaled_BRFC_fold5\n",
      "NEK9_binding_MFP_none_scaled_BRFC_BCW_fold5\n",
      "NEK9_binding_MFP_UNDER_RF_fold1\n",
      "NEK9_binding_MFP_UNDER_RF_BCW_fold1\n",
      "NEK9_binding_MFP_UNDER_BRFC_fold1\n",
      "NEK9_binding_MFP_UNDER_BRFC_BCW_fold1\n",
      "NEK9_binding_MFP_UNDER_RF_fold2\n",
      "NEK9_binding_MFP_UNDER_RF_BCW_fold2\n",
      "NEK9_binding_MFP_UNDER_BRFC_fold2\n",
      "NEK9_binding_MFP_UNDER_BRFC_BCW_fold2\n",
      "NEK9_binding_MFP_UNDER_RF_fold3\n",
      "NEK9_binding_MFP_UNDER_RF_BCW_fold3\n",
      "NEK9_binding_MFP_UNDER_BRFC_fold3\n",
      "NEK9_binding_MFP_UNDER_BRFC_BCW_fold3\n",
      "NEK9_binding_MFP_UNDER_RF_fold4\n",
      "NEK9_binding_MFP_UNDER_RF_BCW_fold4\n",
      "NEK9_binding_MFP_UNDER_BRFC_fold4\n",
      "NEK9_binding_MFP_UNDER_BRFC_BCW_fold4\n",
      "NEK9_binding_MFP_UNDER_RF_fold5\n",
      "NEK9_binding_MFP_UNDER_RF_BCW_fold5\n",
      "NEK9_binding_MFP_UNDER_BRFC_fold5\n",
      "NEK9_binding_MFP_UNDER_BRFC_BCW_fold5\n",
      "NEK9_binding_MFP_SMOTE_RF_fold1\n",
      "NEK9_binding_MFP_SMOTE_RF_BCW_fold1\n",
      "NEK9_binding_MFP_SMOTE_BRFC_fold1\n",
      "NEK9_binding_MFP_SMOTE_BRFC_BCW_fold1\n",
      "NEK9_binding_MFP_SMOTE_RF_fold2\n",
      "NEK9_binding_MFP_SMOTE_RF_BCW_fold2\n",
      "NEK9_binding_MFP_SMOTE_BRFC_fold2\n",
      "NEK9_binding_MFP_SMOTE_BRFC_BCW_fold2\n",
      "NEK9_binding_MFP_SMOTE_RF_fold3\n",
      "NEK9_binding_MFP_SMOTE_RF_BCW_fold3\n",
      "NEK9_binding_MFP_SMOTE_BRFC_fold3\n",
      "NEK9_binding_MFP_SMOTE_BRFC_BCW_fold3\n",
      "NEK9_binding_MFP_SMOTE_RF_fold4\n",
      "NEK9_binding_MFP_SMOTE_RF_BCW_fold4\n",
      "NEK9_binding_MFP_SMOTE_BRFC_fold4\n",
      "NEK9_binding_MFP_SMOTE_BRFC_BCW_fold4\n",
      "NEK9_binding_MFP_SMOTE_RF_fold5\n",
      "NEK9_binding_MFP_SMOTE_RF_BCW_fold5\n",
      "NEK9_binding_MFP_SMOTE_BRFC_fold5\n",
      "NEK9_binding_MFP_SMOTE_BRFC_BCW_fold5\n",
      "NEK9_binding_MFP_ADASYN_RF_fold1\n",
      "NEK9_binding_MFP_ADASYN_RF_BCW_fold1\n",
      "NEK9_binding_MFP_ADASYN_BRFC_fold1\n",
      "NEK9_binding_MFP_ADASYN_BRFC_BCW_fold1\n",
      "NEK9_binding_MFP_ADASYN_RF_fold2\n",
      "NEK9_binding_MFP_ADASYN_RF_BCW_fold2\n",
      "NEK9_binding_MFP_ADASYN_BRFC_fold2\n",
      "NEK9_binding_MFP_ADASYN_BRFC_BCW_fold2\n",
      "NEK9_binding_MFP_ADASYN_RF_fold3\n",
      "NEK9_binding_MFP_ADASYN_RF_BCW_fold3\n",
      "NEK9_binding_MFP_ADASYN_BRFC_fold3\n",
      "NEK9_binding_MFP_ADASYN_BRFC_BCW_fold3\n",
      "NEK9_binding_MFP_ADASYN_RF_fold4\n",
      "NEK9_binding_MFP_ADASYN_RF_BCW_fold4\n",
      "NEK9_binding_MFP_ADASYN_BRFC_fold4\n",
      "NEK9_binding_MFP_ADASYN_BRFC_BCW_fold4\n",
      "NEK9_binding_MFP_ADASYN_RF_fold5\n",
      "NEK9_binding_MFP_ADASYN_RF_BCW_fold5\n",
      "NEK9_binding_MFP_ADASYN_BRFC_fold5\n",
      "NEK9_binding_MFP_ADASYN_BRFC_BCW_fold5\n",
      "NEK9_inhibition_MOE_none_scaled_RF_fold1\n",
      "NEK9_inhibition_MOE_none_scaled_RF_BCW_fold1\n",
      "NEK9_inhibition_MOE_none_scaled_BRFC_fold1\n",
      "NEK9_inhibition_MOE_none_scaled_BRFC_BCW_fold1\n",
      "NEK9_inhibition_MOE_none_scaled_RF_fold2\n",
      "NEK9_inhibition_MOE_none_scaled_RF_BCW_fold2\n",
      "NEK9_inhibition_MOE_none_scaled_BRFC_fold2\n",
      "NEK9_inhibition_MOE_none_scaled_BRFC_BCW_fold2\n",
      "NEK9_inhibition_MOE_none_scaled_RF_fold3\n",
      "NEK9_inhibition_MOE_none_scaled_RF_BCW_fold3\n",
      "NEK9_inhibition_MOE_none_scaled_BRFC_fold3\n",
      "NEK9_inhibition_MOE_none_scaled_BRFC_BCW_fold3\n",
      "NEK9_inhibition_MOE_none_scaled_RF_fold4\n",
      "NEK9_inhibition_MOE_none_scaled_RF_BCW_fold4\n",
      "NEK9_inhibition_MOE_none_scaled_BRFC_fold4\n",
      "NEK9_inhibition_MOE_none_scaled_BRFC_BCW_fold4\n",
      "NEK9_inhibition_MOE_none_scaled_RF_fold5\n",
      "NEK9_inhibition_MOE_none_scaled_RF_BCW_fold5\n",
      "NEK9_inhibition_MOE_none_scaled_BRFC_fold5\n",
      "NEK9_inhibition_MOE_none_scaled_BRFC_BCW_fold5\n",
      "NEK9_inhibition_MOE_UNDER_RF_fold1\n",
      "NEK9_inhibition_MOE_UNDER_RF_BCW_fold1\n",
      "NEK9_inhibition_MOE_UNDER_BRFC_fold1\n",
      "NEK9_inhibition_MOE_UNDER_BRFC_BCW_fold1\n",
      "NEK9_inhibition_MOE_UNDER_RF_fold2\n",
      "NEK9_inhibition_MOE_UNDER_RF_BCW_fold2\n",
      "NEK9_inhibition_MOE_UNDER_BRFC_fold2\n",
      "NEK9_inhibition_MOE_UNDER_BRFC_BCW_fold2\n",
      "NEK9_inhibition_MOE_UNDER_RF_fold3\n",
      "NEK9_inhibition_MOE_UNDER_RF_BCW_fold3\n",
      "NEK9_inhibition_MOE_UNDER_BRFC_fold3\n",
      "NEK9_inhibition_MOE_UNDER_BRFC_BCW_fold3\n",
      "NEK9_inhibition_MOE_UNDER_RF_fold4\n",
      "NEK9_inhibition_MOE_UNDER_RF_BCW_fold4\n",
      "NEK9_inhibition_MOE_UNDER_BRFC_fold4\n",
      "NEK9_inhibition_MOE_UNDER_BRFC_BCW_fold4\n",
      "NEK9_inhibition_MOE_UNDER_RF_fold5\n",
      "NEK9_inhibition_MOE_UNDER_RF_BCW_fold5\n",
      "NEK9_inhibition_MOE_UNDER_BRFC_fold5\n",
      "NEK9_inhibition_MOE_UNDER_BRFC_BCW_fold5\n",
      "NEK9_inhibition_MOE_SMOTE_RF_fold1\n",
      "NEK9_inhibition_MOE_SMOTE_RF_BCW_fold1\n",
      "NEK9_inhibition_MOE_SMOTE_BRFC_fold1\n",
      "NEK9_inhibition_MOE_SMOTE_BRFC_BCW_fold1\n",
      "NEK9_inhibition_MOE_SMOTE_RF_fold2\n",
      "NEK9_inhibition_MOE_SMOTE_RF_BCW_fold2\n",
      "NEK9_inhibition_MOE_SMOTE_BRFC_fold2\n",
      "NEK9_inhibition_MOE_SMOTE_BRFC_BCW_fold2\n",
      "NEK9_inhibition_MOE_SMOTE_RF_fold3\n",
      "NEK9_inhibition_MOE_SMOTE_RF_BCW_fold3\n",
      "NEK9_inhibition_MOE_SMOTE_BRFC_fold3\n",
      "NEK9_inhibition_MOE_SMOTE_BRFC_BCW_fold3\n",
      "NEK9_inhibition_MOE_SMOTE_RF_fold4\n",
      "NEK9_inhibition_MOE_SMOTE_RF_BCW_fold4\n",
      "NEK9_inhibition_MOE_SMOTE_BRFC_fold4\n",
      "NEK9_inhibition_MOE_SMOTE_BRFC_BCW_fold4\n",
      "NEK9_inhibition_MOE_SMOTE_RF_fold5\n",
      "NEK9_inhibition_MOE_SMOTE_RF_BCW_fold5\n",
      "NEK9_inhibition_MOE_SMOTE_BRFC_fold5\n",
      "NEK9_inhibition_MOE_SMOTE_BRFC_BCW_fold5\n",
      "NEK9_inhibition_MOE_ADASYN_RF_fold1\n",
      "NEK9_inhibition_MOE_ADASYN_RF_BCW_fold1\n",
      "NEK9_inhibition_MOE_ADASYN_BRFC_fold1\n",
      "NEK9_inhibition_MOE_ADASYN_BRFC_BCW_fold1\n",
      "NEK9_inhibition_MOE_ADASYN_RF_fold2\n",
      "NEK9_inhibition_MOE_ADASYN_RF_BCW_fold2\n",
      "NEK9_inhibition_MOE_ADASYN_BRFC_fold2\n",
      "NEK9_inhibition_MOE_ADASYN_BRFC_BCW_fold2\n",
      "NEK9_inhibition_MOE_ADASYN_RF_fold3\n",
      "NEK9_inhibition_MOE_ADASYN_RF_BCW_fold3\n",
      "NEK9_inhibition_MOE_ADASYN_BRFC_fold3\n",
      "NEK9_inhibition_MOE_ADASYN_BRFC_BCW_fold3\n",
      "NEK9_inhibition_MOE_ADASYN_RF_fold4\n",
      "NEK9_inhibition_MOE_ADASYN_RF_BCW_fold4\n",
      "NEK9_inhibition_MOE_ADASYN_BRFC_fold4\n",
      "NEK9_inhibition_MOE_ADASYN_BRFC_BCW_fold4\n",
      "NEK9_inhibition_MOE_ADASYN_RF_fold5\n",
      "NEK9_inhibition_MOE_ADASYN_RF_BCW_fold5\n",
      "NEK9_inhibition_MOE_ADASYN_BRFC_fold5\n",
      "NEK9_inhibition_MOE_ADASYN_BRFC_BCW_fold5\n",
      "NEK9_inhibition_MFP_none_scaled_RF_fold1\n",
      "NEK9_inhibition_MFP_none_scaled_RF_BCW_fold1\n",
      "NEK9_inhibition_MFP_none_scaled_BRFC_fold1\n",
      "NEK9_inhibition_MFP_none_scaled_BRFC_BCW_fold1\n",
      "NEK9_inhibition_MFP_none_scaled_RF_fold2\n",
      "NEK9_inhibition_MFP_none_scaled_RF_BCW_fold2\n",
      "NEK9_inhibition_MFP_none_scaled_BRFC_fold2\n",
      "NEK9_inhibition_MFP_none_scaled_BRFC_BCW_fold2\n",
      "NEK9_inhibition_MFP_none_scaled_RF_fold3\n",
      "NEK9_inhibition_MFP_none_scaled_RF_BCW_fold3\n",
      "NEK9_inhibition_MFP_none_scaled_BRFC_fold3\n",
      "NEK9_inhibition_MFP_none_scaled_BRFC_BCW_fold3\n",
      "NEK9_inhibition_MFP_none_scaled_RF_fold4\n",
      "NEK9_inhibition_MFP_none_scaled_RF_BCW_fold4\n",
      "NEK9_inhibition_MFP_none_scaled_BRFC_fold4\n",
      "NEK9_inhibition_MFP_none_scaled_BRFC_BCW_fold4\n",
      "NEK9_inhibition_MFP_none_scaled_RF_fold5\n",
      "NEK9_inhibition_MFP_none_scaled_RF_BCW_fold5\n",
      "NEK9_inhibition_MFP_none_scaled_BRFC_fold5\n",
      "NEK9_inhibition_MFP_none_scaled_BRFC_BCW_fold5\n",
      "NEK9_inhibition_MFP_UNDER_RF_fold1\n",
      "NEK9_inhibition_MFP_UNDER_RF_BCW_fold1\n",
      "NEK9_inhibition_MFP_UNDER_BRFC_fold1\n",
      "NEK9_inhibition_MFP_UNDER_BRFC_BCW_fold1\n",
      "NEK9_inhibition_MFP_UNDER_RF_fold2\n",
      "NEK9_inhibition_MFP_UNDER_RF_BCW_fold2\n",
      "NEK9_inhibition_MFP_UNDER_BRFC_fold2\n",
      "NEK9_inhibition_MFP_UNDER_BRFC_BCW_fold2\n",
      "NEK9_inhibition_MFP_UNDER_RF_fold3\n",
      "NEK9_inhibition_MFP_UNDER_RF_BCW_fold3\n",
      "NEK9_inhibition_MFP_UNDER_BRFC_fold3\n",
      "NEK9_inhibition_MFP_UNDER_BRFC_BCW_fold3\n",
      "NEK9_inhibition_MFP_UNDER_RF_fold4\n",
      "NEK9_inhibition_MFP_UNDER_RF_BCW_fold4\n",
      "NEK9_inhibition_MFP_UNDER_BRFC_fold4\n",
      "NEK9_inhibition_MFP_UNDER_BRFC_BCW_fold4\n",
      "NEK9_inhibition_MFP_UNDER_RF_fold5\n",
      "NEK9_inhibition_MFP_UNDER_RF_BCW_fold5\n",
      "NEK9_inhibition_MFP_UNDER_BRFC_fold5\n",
      "NEK9_inhibition_MFP_UNDER_BRFC_BCW_fold5\n",
      "NEK9_inhibition_MFP_SMOTE_RF_fold1\n",
      "NEK9_inhibition_MFP_SMOTE_RF_BCW_fold1\n",
      "NEK9_inhibition_MFP_SMOTE_BRFC_fold1\n",
      "NEK9_inhibition_MFP_SMOTE_BRFC_BCW_fold1\n",
      "NEK9_inhibition_MFP_SMOTE_RF_fold2\n",
      "NEK9_inhibition_MFP_SMOTE_RF_BCW_fold2\n",
      "NEK9_inhibition_MFP_SMOTE_BRFC_fold2\n",
      "NEK9_inhibition_MFP_SMOTE_BRFC_BCW_fold2\n",
      "NEK9_inhibition_MFP_SMOTE_RF_fold3\n",
      "NEK9_inhibition_MFP_SMOTE_RF_BCW_fold3\n",
      "NEK9_inhibition_MFP_SMOTE_BRFC_fold3\n",
      "NEK9_inhibition_MFP_SMOTE_BRFC_BCW_fold3\n",
      "NEK9_inhibition_MFP_SMOTE_RF_fold4\n",
      "NEK9_inhibition_MFP_SMOTE_RF_BCW_fold4\n",
      "NEK9_inhibition_MFP_SMOTE_BRFC_fold4\n",
      "NEK9_inhibition_MFP_SMOTE_BRFC_BCW_fold4\n",
      "NEK9_inhibition_MFP_SMOTE_RF_fold5\n",
      "NEK9_inhibition_MFP_SMOTE_RF_BCW_fold5\n",
      "NEK9_inhibition_MFP_SMOTE_BRFC_fold5\n",
      "NEK9_inhibition_MFP_SMOTE_BRFC_BCW_fold5\n",
      "NEK9_inhibition_MFP_ADASYN_RF_fold1\n",
      "NEK9_inhibition_MFP_ADASYN_RF_BCW_fold1\n",
      "NEK9_inhibition_MFP_ADASYN_BRFC_fold1\n",
      "NEK9_inhibition_MFP_ADASYN_BRFC_BCW_fold1\n",
      "NEK9_inhibition_MFP_ADASYN_RF_fold2\n",
      "NEK9_inhibition_MFP_ADASYN_RF_BCW_fold2\n",
      "NEK9_inhibition_MFP_ADASYN_BRFC_fold2\n",
      "NEK9_inhibition_MFP_ADASYN_BRFC_BCW_fold2\n",
      "NEK9_inhibition_MFP_ADASYN_RF_fold3\n",
      "NEK9_inhibition_MFP_ADASYN_RF_BCW_fold3\n",
      "NEK9_inhibition_MFP_ADASYN_BRFC_fold3\n",
      "NEK9_inhibition_MFP_ADASYN_BRFC_BCW_fold3\n",
      "NEK9_inhibition_MFP_ADASYN_RF_fold4\n",
      "NEK9_inhibition_MFP_ADASYN_RF_BCW_fold4\n",
      "NEK9_inhibition_MFP_ADASYN_BRFC_fold4\n",
      "NEK9_inhibition_MFP_ADASYN_BRFC_BCW_fold4\n",
      "NEK9_inhibition_MFP_ADASYN_RF_fold5\n",
      "NEK9_inhibition_MFP_ADASYN_RF_BCW_fold5\n",
      "NEK9_inhibition_MFP_ADASYN_BRFC_fold5\n",
      "NEK9_inhibition_MFP_ADASYN_BRFC_BCW_fold5\n"
     ]
    },
    {
     "data": {
      "text/html": [
       "<div>\n",
       "<style scoped>\n",
       "    .dataframe tbody tr th:only-of-type {\n",
       "        vertical-align: middle;\n",
       "    }\n",
       "\n",
       "    .dataframe tbody tr th {\n",
       "        vertical-align: top;\n",
       "    }\n",
       "\n",
       "    .dataframe thead th {\n",
       "        text-align: right;\n",
       "    }\n",
       "</style>\n",
       "<table border=\"1\" class=\"dataframe\">\n",
       "  <thead>\n",
       "    <tr style=\"text-align: right;\">\n",
       "      <th></th>\n",
       "      <th>model</th>\n",
       "      <th>NEK</th>\n",
       "      <th>strategy</th>\n",
       "      <th>feat_type</th>\n",
       "      <th>RF_type</th>\n",
       "      <th>fold</th>\n",
       "      <th>cm</th>\n",
       "      <th>recall</th>\n",
       "      <th>specificity</th>\n",
       "      <th>accuracy</th>\n",
       "      <th>precision</th>\n",
       "      <th>f1</th>\n",
       "      <th>ROC_AUC</th>\n",
       "      <th>MCC</th>\n",
       "      <th>balanced_accuracy</th>\n",
       "      <th>modeling_type</th>\n",
       "      <th>set</th>\n",
       "    </tr>\n",
       "  </thead>\n",
       "  <tbody>\n",
       "    <tr>\n",
       "      <th>0</th>\n",
       "      <td>NEK2_binding_MOE_none_scaled_RF_fold1</td>\n",
       "      <td>NEK2_binding</td>\n",
       "      <td>none_scaled</td>\n",
       "      <td>MOE</td>\n",
       "      <td>RF</td>\n",
       "      <td>fold1</td>\n",
       "      <td>[213, 3, 9, 0]</td>\n",
       "      <td>0.000000</td>\n",
       "      <td>0.986111</td>\n",
       "      <td>0.946667</td>\n",
       "      <td>0.000000</td>\n",
       "      <td>0.000000</td>\n",
       "      <td>0.493056</td>\n",
       "      <td>-0.023729</td>\n",
       "      <td>0.493056</td>\n",
       "      <td>RF</td>\n",
       "      <td>foldvalidation</td>\n",
       "    </tr>\n",
       "    <tr>\n",
       "      <th>1</th>\n",
       "      <td>NEK2_binding_MOE_none_scaled_RF_BCW_fold1</td>\n",
       "      <td>NEK2_binding</td>\n",
       "      <td>none_scaled</td>\n",
       "      <td>MOE</td>\n",
       "      <td>RF_BCW</td>\n",
       "      <td>fold1</td>\n",
       "      <td>[213, 3, 6, 3]</td>\n",
       "      <td>0.333333</td>\n",
       "      <td>0.986111</td>\n",
       "      <td>0.960000</td>\n",
       "      <td>0.500000</td>\n",
       "      <td>0.400000</td>\n",
       "      <td>0.659722</td>\n",
       "      <td>0.388549</td>\n",
       "      <td>0.659722</td>\n",
       "      <td>RF</td>\n",
       "      <td>foldvalidation</td>\n",
       "    </tr>\n",
       "    <tr>\n",
       "      <th>2</th>\n",
       "      <td>NEK2_binding_MOE_none_scaled_BRFC_fold1</td>\n",
       "      <td>NEK2_binding</td>\n",
       "      <td>none_scaled</td>\n",
       "      <td>MOE</td>\n",
       "      <td>BRFC</td>\n",
       "      <td>fold1</td>\n",
       "      <td>[161, 55, 3, 6]</td>\n",
       "      <td>0.666667</td>\n",
       "      <td>0.745370</td>\n",
       "      <td>0.742222</td>\n",
       "      <td>0.098361</td>\n",
       "      <td>0.171429</td>\n",
       "      <td>0.706019</td>\n",
       "      <td>0.181634</td>\n",
       "      <td>0.706019</td>\n",
       "      <td>RF</td>\n",
       "      <td>foldvalidation</td>\n",
       "    </tr>\n",
       "    <tr>\n",
       "      <th>3</th>\n",
       "      <td>NEK2_binding_MOE_none_scaled_BRFC_BCW_fold1</td>\n",
       "      <td>NEK2_binding</td>\n",
       "      <td>none_scaled</td>\n",
       "      <td>MOE</td>\n",
       "      <td>BRFC_BCW</td>\n",
       "      <td>fold1</td>\n",
       "      <td>[128, 88, 3, 6]</td>\n",
       "      <td>0.666667</td>\n",
       "      <td>0.592593</td>\n",
       "      <td>0.595556</td>\n",
       "      <td>0.063830</td>\n",
       "      <td>0.116505</td>\n",
       "      <td>0.629630</td>\n",
       "      <td>0.103011</td>\n",
       "      <td>0.629630</td>\n",
       "      <td>RF</td>\n",
       "      <td>foldvalidation</td>\n",
       "    </tr>\n",
       "    <tr>\n",
       "      <th>4</th>\n",
       "      <td>NEK2_binding_MOE_none_scaled_RF_fold2</td>\n",
       "      <td>NEK2_binding</td>\n",
       "      <td>none_scaled</td>\n",
       "      <td>MOE</td>\n",
       "      <td>RF</td>\n",
       "      <td>fold2</td>\n",
       "      <td>[209, 7, 8, 1]</td>\n",
       "      <td>0.111111</td>\n",
       "      <td>0.967593</td>\n",
       "      <td>0.933333</td>\n",
       "      <td>0.125000</td>\n",
       "      <td>0.117647</td>\n",
       "      <td>0.539352</td>\n",
       "      <td>0.083285</td>\n",
       "      <td>0.539352</td>\n",
       "      <td>RF</td>\n",
       "      <td>foldvalidation</td>\n",
       "    </tr>\n",
       "    <tr>\n",
       "      <th>...</th>\n",
       "      <td>...</td>\n",
       "      <td>...</td>\n",
       "      <td>...</td>\n",
       "      <td>...</td>\n",
       "      <td>...</td>\n",
       "      <td>...</td>\n",
       "      <td>...</td>\n",
       "      <td>...</td>\n",
       "      <td>...</td>\n",
       "      <td>...</td>\n",
       "      <td>...</td>\n",
       "      <td>...</td>\n",
       "      <td>...</td>\n",
       "      <td>...</td>\n",
       "      <td>...</td>\n",
       "      <td>...</td>\n",
       "      <td>...</td>\n",
       "    </tr>\n",
       "    <tr>\n",
       "      <th>955</th>\n",
       "      <td>NEK9_inhibition_MFP_ADASYN_BRFC_BCW_fold4</td>\n",
       "      <td>NEK9_inhibition</td>\n",
       "      <td>ADASYN</td>\n",
       "      <td>MFP</td>\n",
       "      <td>BRFC_BCW</td>\n",
       "      <td>fold4</td>\n",
       "      <td>[54, 2, 1, 55]</td>\n",
       "      <td>0.982143</td>\n",
       "      <td>0.964286</td>\n",
       "      <td>0.973214</td>\n",
       "      <td>0.964912</td>\n",
       "      <td>0.973451</td>\n",
       "      <td>0.973214</td>\n",
       "      <td>0.946580</td>\n",
       "      <td>0.973214</td>\n",
       "      <td>RF</td>\n",
       "      <td>foldvalidation</td>\n",
       "    </tr>\n",
       "    <tr>\n",
       "      <th>956</th>\n",
       "      <td>NEK9_inhibition_MFP_ADASYN_RF_fold5</td>\n",
       "      <td>NEK9_inhibition</td>\n",
       "      <td>ADASYN</td>\n",
       "      <td>MFP</td>\n",
       "      <td>RF</td>\n",
       "      <td>fold5</td>\n",
       "      <td>[54, 2, 2, 54]</td>\n",
       "      <td>0.964286</td>\n",
       "      <td>0.964286</td>\n",
       "      <td>0.964286</td>\n",
       "      <td>0.964286</td>\n",
       "      <td>0.964286</td>\n",
       "      <td>0.964286</td>\n",
       "      <td>0.928571</td>\n",
       "      <td>0.964286</td>\n",
       "      <td>RF</td>\n",
       "      <td>foldvalidation</td>\n",
       "    </tr>\n",
       "    <tr>\n",
       "      <th>957</th>\n",
       "      <td>NEK9_inhibition_MFP_ADASYN_RF_BCW_fold5</td>\n",
       "      <td>NEK9_inhibition</td>\n",
       "      <td>ADASYN</td>\n",
       "      <td>MFP</td>\n",
       "      <td>RF_BCW</td>\n",
       "      <td>fold5</td>\n",
       "      <td>[55, 1, 2, 54]</td>\n",
       "      <td>0.964286</td>\n",
       "      <td>0.982143</td>\n",
       "      <td>0.973214</td>\n",
       "      <td>0.981818</td>\n",
       "      <td>0.972973</td>\n",
       "      <td>0.973214</td>\n",
       "      <td>0.946580</td>\n",
       "      <td>0.973214</td>\n",
       "      <td>RF</td>\n",
       "      <td>foldvalidation</td>\n",
       "    </tr>\n",
       "    <tr>\n",
       "      <th>958</th>\n",
       "      <td>NEK9_inhibition_MFP_ADASYN_BRFC_fold5</td>\n",
       "      <td>NEK9_inhibition</td>\n",
       "      <td>ADASYN</td>\n",
       "      <td>MFP</td>\n",
       "      <td>BRFC</td>\n",
       "      <td>fold5</td>\n",
       "      <td>[54, 2, 2, 54]</td>\n",
       "      <td>0.964286</td>\n",
       "      <td>0.964286</td>\n",
       "      <td>0.964286</td>\n",
       "      <td>0.964286</td>\n",
       "      <td>0.964286</td>\n",
       "      <td>0.964286</td>\n",
       "      <td>0.928571</td>\n",
       "      <td>0.964286</td>\n",
       "      <td>RF</td>\n",
       "      <td>foldvalidation</td>\n",
       "    </tr>\n",
       "    <tr>\n",
       "      <th>959</th>\n",
       "      <td>NEK9_inhibition_MFP_ADASYN_BRFC_BCW_fold5</td>\n",
       "      <td>NEK9_inhibition</td>\n",
       "      <td>ADASYN</td>\n",
       "      <td>MFP</td>\n",
       "      <td>BRFC_BCW</td>\n",
       "      <td>fold5</td>\n",
       "      <td>[54, 2, 2, 54]</td>\n",
       "      <td>0.964286</td>\n",
       "      <td>0.964286</td>\n",
       "      <td>0.964286</td>\n",
       "      <td>0.964286</td>\n",
       "      <td>0.964286</td>\n",
       "      <td>0.964286</td>\n",
       "      <td>0.928571</td>\n",
       "      <td>0.964286</td>\n",
       "      <td>RF</td>\n",
       "      <td>foldvalidation</td>\n",
       "    </tr>\n",
       "  </tbody>\n",
       "</table>\n",
       "<p>960 rows × 17 columns</p>\n",
       "</div>"
      ],
      "text/plain": [
       "                                           model              NEK  \\\n",
       "0          NEK2_binding_MOE_none_scaled_RF_fold1     NEK2_binding   \n",
       "1      NEK2_binding_MOE_none_scaled_RF_BCW_fold1     NEK2_binding   \n",
       "2        NEK2_binding_MOE_none_scaled_BRFC_fold1     NEK2_binding   \n",
       "3    NEK2_binding_MOE_none_scaled_BRFC_BCW_fold1     NEK2_binding   \n",
       "4          NEK2_binding_MOE_none_scaled_RF_fold2     NEK2_binding   \n",
       "..                                           ...              ...   \n",
       "955    NEK9_inhibition_MFP_ADASYN_BRFC_BCW_fold4  NEK9_inhibition   \n",
       "956          NEK9_inhibition_MFP_ADASYN_RF_fold5  NEK9_inhibition   \n",
       "957      NEK9_inhibition_MFP_ADASYN_RF_BCW_fold5  NEK9_inhibition   \n",
       "958        NEK9_inhibition_MFP_ADASYN_BRFC_fold5  NEK9_inhibition   \n",
       "959    NEK9_inhibition_MFP_ADASYN_BRFC_BCW_fold5  NEK9_inhibition   \n",
       "\n",
       "        strategy feat_type   RF_type   fold               cm    recall  \\\n",
       "0    none_scaled       MOE        RF  fold1   [213, 3, 9, 0]  0.000000   \n",
       "1    none_scaled       MOE    RF_BCW  fold1   [213, 3, 6, 3]  0.333333   \n",
       "2    none_scaled       MOE      BRFC  fold1  [161, 55, 3, 6]  0.666667   \n",
       "3    none_scaled       MOE  BRFC_BCW  fold1  [128, 88, 3, 6]  0.666667   \n",
       "4    none_scaled       MOE        RF  fold2   [209, 7, 8, 1]  0.111111   \n",
       "..           ...       ...       ...    ...              ...       ...   \n",
       "955       ADASYN       MFP  BRFC_BCW  fold4   [54, 2, 1, 55]  0.982143   \n",
       "956       ADASYN       MFP        RF  fold5   [54, 2, 2, 54]  0.964286   \n",
       "957       ADASYN       MFP    RF_BCW  fold5   [55, 1, 2, 54]  0.964286   \n",
       "958       ADASYN       MFP      BRFC  fold5   [54, 2, 2, 54]  0.964286   \n",
       "959       ADASYN       MFP  BRFC_BCW  fold5   [54, 2, 2, 54]  0.964286   \n",
       "\n",
       "     specificity  accuracy  precision        f1   ROC_AUC       MCC  \\\n",
       "0       0.986111  0.946667   0.000000  0.000000  0.493056 -0.023729   \n",
       "1       0.986111  0.960000   0.500000  0.400000  0.659722  0.388549   \n",
       "2       0.745370  0.742222   0.098361  0.171429  0.706019  0.181634   \n",
       "3       0.592593  0.595556   0.063830  0.116505  0.629630  0.103011   \n",
       "4       0.967593  0.933333   0.125000  0.117647  0.539352  0.083285   \n",
       "..           ...       ...        ...       ...       ...       ...   \n",
       "955     0.964286  0.973214   0.964912  0.973451  0.973214  0.946580   \n",
       "956     0.964286  0.964286   0.964286  0.964286  0.964286  0.928571   \n",
       "957     0.982143  0.973214   0.981818  0.972973  0.973214  0.946580   \n",
       "958     0.964286  0.964286   0.964286  0.964286  0.964286  0.928571   \n",
       "959     0.964286  0.964286   0.964286  0.964286  0.964286  0.928571   \n",
       "\n",
       "     balanced_accuracy modeling_type             set  \n",
       "0             0.493056            RF  foldvalidation  \n",
       "1             0.659722            RF  foldvalidation  \n",
       "2             0.706019            RF  foldvalidation  \n",
       "3             0.629630            RF  foldvalidation  \n",
       "4             0.539352            RF  foldvalidation  \n",
       "..                 ...           ...             ...  \n",
       "955           0.973214            RF  foldvalidation  \n",
       "956           0.964286            RF  foldvalidation  \n",
       "957           0.973214            RF  foldvalidation  \n",
       "958           0.964286            RF  foldvalidation  \n",
       "959           0.964286            RF  foldvalidation  \n",
       "\n",
       "[960 rows x 17 columns]"
      ]
     },
     "execution_count": 13,
     "metadata": {},
     "output_type": "execute_result"
    }
   ],
   "source": [
    "final_cols=['model','NEK','strategy','feat_type','RF_type','fold', 'cm','recall', 'specificity', 'accuracy', 'precision', \n",
    "            'f1', 'ROC_AUC', 'MCC', 'balanced_accuracy']\n",
    "train_results=[]\n",
    "test_results=[]\n",
    "for nek in neks: \n",
    "    for feat in feats: \n",
    "        for samp in samplings:\n",
    "            for fold in folds: \n",
    "                for rf in RF_types: \n",
    "                    model_name = f'{nek}_{feat}_{samp}_{rf}_{fold}'\n",
    "                    print(model_name) \n",
    "                    train = pd.read_csv(f'{results_dir}{model_name}_train.csv') \n",
    "                    test = pd.read_csv(f'{results_dir}{model_name}_test.csv') \n",
    "                    train['fold'] = fold \n",
    "                    test['fold']=fold\n",
    "    \n",
    "                    train_results.append(train.iloc[[0]][final_cols].values.flatten())\n",
    "                    test_results.append(test.iloc[[0]][final_cols].values.flatten())\n",
    "train_df =  pd.DataFrame(train_results,columns=final_cols)\n",
    "test_df =  pd.DataFrame(test_results,columns=final_cols)\n",
    "train_df['modeling_type'] = 'RF' \n",
    "train_df['set'] = 'foldvalidation' \n",
    "test_df['modeling_type'] = 'RF' \n",
    "test_df['set'] = 'foldvalidation' \n",
    "train_df.to_csv(results_dir+'RF_train_results_all_NEK_kfold_val.csv', index=False) \n",
    "test_df.to_csv(results_dir+'RF_test_results_all_NEK_kfold_val.csv', index=False) \n",
    "test_df                  \n",
    "                "
   ]
  },
  {
   "cell_type": "code",
   "execution_count": 17,
   "id": "be825e2c-cd3e-4b65-a346-9cc2ca219d8a",
   "metadata": {},
   "outputs": [],
   "source": [
    "test_df ['1-specificity']=1-test_df['specificity']\n",
    "test_df['nek type'] = test_df['NEK'].astype(str).str.split('_').str[1]\n",
    "binding = test_df[test_df['nek type'] == 'binding'] \n",
    "inhib = test_df[test_df['nek type'] == 'inhibition'] "
   ]
  },
  {
   "cell_type": "code",
   "execution_count": 18,
   "id": "fe771520-61ac-40d7-a1df-0b5d5cc09084",
   "metadata": {},
   "outputs": [
    {
     "ename": "NameError",
     "evalue": "name 'this_palette' is not defined",
     "output_type": "error",
     "traceback": [
      "\u001b[0;31m---------------------------------------------------------------------------\u001b[0m",
      "\u001b[0;31mNameError\u001b[0m                                 Traceback (most recent call last)",
      "Cell \u001b[0;32mIn[18], line 7\u001b[0m\n\u001b[1;32m      4\u001b[0m moe_df \u001b[38;5;241m=\u001b[39m nek_df[(nek_df[\u001b[38;5;124m'\u001b[39m\u001b[38;5;124mNEK\u001b[39m\u001b[38;5;124m'\u001b[39m] \u001b[38;5;241m==\u001b[39m nek) \u001b[38;5;241m&\u001b[39m (nek_df[\u001b[38;5;124m'\u001b[39m\u001b[38;5;124mfeat_type\u001b[39m\u001b[38;5;124m'\u001b[39m] \u001b[38;5;241m==\u001b[39m \u001b[38;5;124m'\u001b[39m\u001b[38;5;124mmoe\u001b[39m\u001b[38;5;124m'\u001b[39m)]\n\u001b[1;32m      5\u001b[0m mfp_df \u001b[38;5;241m=\u001b[39m nek_df[(nek_df[\u001b[38;5;124m'\u001b[39m\u001b[38;5;124mNEK\u001b[39m\u001b[38;5;124m'\u001b[39m] \u001b[38;5;241m==\u001b[39m nek) \u001b[38;5;241m&\u001b[39m (nek_df[\u001b[38;5;124m'\u001b[39m\u001b[38;5;124mfeat_type\u001b[39m\u001b[38;5;124m'\u001b[39m] \u001b[38;5;241m==\u001b[39m \u001b[38;5;124m'\u001b[39m\u001b[38;5;124mmfp\u001b[39m\u001b[38;5;124m'\u001b[39m)]\n\u001b[1;32m      6\u001b[0m sns\u001b[38;5;241m.\u001b[39mscatterplot(data\u001b[38;5;241m=\u001b[39mmoe_df, x\u001b[38;5;241m=\u001b[39m\u001b[38;5;124m'\u001b[39m\u001b[38;5;124m1-specificity\u001b[39m\u001b[38;5;124m'\u001b[39m, y\u001b[38;5;241m=\u001b[39m\u001b[38;5;124m'\u001b[39m\u001b[38;5;124mrecall\u001b[39m\u001b[38;5;124m'\u001b[39m, hue\u001b[38;5;241m=\u001b[39m\u001b[38;5;124m'\u001b[39m\u001b[38;5;124mstrategy\u001b[39m\u001b[38;5;124m'\u001b[39m, style\u001b[38;5;241m=\u001b[39m\u001b[38;5;124m'\u001b[39m\u001b[38;5;124mfold\u001b[39m\u001b[38;5;124m'\u001b[39m,\n\u001b[0;32m----> 7\u001b[0m                s\u001b[38;5;241m=\u001b[39m\u001b[38;5;241m300\u001b[39m, alpha\u001b[38;5;241m=\u001b[39m\u001b[38;5;241m0.6\u001b[39m, ax\u001b[38;5;241m=\u001b[39maxs[\u001b[38;5;241m0\u001b[39m], legend\u001b[38;5;241m=\u001b[39m\u001b[38;5;28;01mTrue\u001b[39;00m, palette\u001b[38;5;241m=\u001b[39m\u001b[43mthis_palette\u001b[49m )\n\u001b[1;32m      8\u001b[0m sns\u001b[38;5;241m.\u001b[39mscatterplot(data\u001b[38;5;241m=\u001b[39mmfp_df, x\u001b[38;5;241m=\u001b[39m\u001b[38;5;124m'\u001b[39m\u001b[38;5;124m1-specificity\u001b[39m\u001b[38;5;124m'\u001b[39m, y\u001b[38;5;241m=\u001b[39m\u001b[38;5;124m'\u001b[39m\u001b[38;5;124mrecall\u001b[39m\u001b[38;5;124m'\u001b[39m, hue\u001b[38;5;241m=\u001b[39m\u001b[38;5;124m'\u001b[39m\u001b[38;5;124mstrategy\u001b[39m\u001b[38;5;124m'\u001b[39m, style\u001b[38;5;241m=\u001b[39m\u001b[38;5;124m'\u001b[39m\u001b[38;5;124mfold\u001b[39m\u001b[38;5;124m'\u001b[39m,\n\u001b[1;32m      9\u001b[0m               s\u001b[38;5;241m=\u001b[39m\u001b[38;5;241m300\u001b[39m, alpha\u001b[38;5;241m=\u001b[39m\u001b[38;5;241m0.6\u001b[39m, ax\u001b[38;5;241m=\u001b[39maxs[\u001b[38;5;241m1\u001b[39m], legend\u001b[38;5;241m=\u001b[39m\u001b[38;5;28;01mFalse\u001b[39;00m, palette\u001b[38;5;241m=\u001b[39mthis_palette )\n\u001b[1;32m     10\u001b[0m plt\u001b[38;5;241m.\u001b[39msuptitle(\u001b[38;5;124m'\u001b[39m\u001b[38;5;124mGP RBF Kernel Results (fold validation)\u001b[39m\u001b[38;5;124m'\u001b[39m, fontsize\u001b[38;5;241m=\u001b[39m\u001b[38;5;241m18\u001b[39m, x\u001b[38;5;241m=\u001b[39m\u001b[38;5;241m0.49\u001b[39m, y \u001b[38;5;241m=\u001b[39m\u001b[38;5;241m.96\u001b[39m)\n",
      "\u001b[0;31mNameError\u001b[0m: name 'this_palette' is not defined"
     ]
    },
    {
     "data": {
      "image/png": "[encoded data removed]",
      "text/plain": [
       "<Figure size 1200x600 with 2 Axes>"
      ]
     },
     "metadata": {},
     "output_type": "display_data"
    }
   ],
   "source": [
    "for nek in test_df['NEK'].unique():\n",
    "    fig, axs = plt.subplots(1,2, figsize=(12,6))\n",
    "    nek_df = test_df[test_df['NEK']==nek]\n",
    "    moe_df = nek_df[(nek_df['NEK'] == nek) & (nek_df['feat_type'] == 'moe')]\n",
    "    mfp_df = nek_df[(nek_df['NEK'] == nek) & (nek_df['feat_type'] == 'mfp')]\n",
    "    sns.scatterplot(data=moe_df, x='1-specificity', y='recall', hue='strategy', style='fold',\n",
    "                   s=300, alpha=0.6, ax=axs[0], legend=True, palette=this_palette )\n",
    "    sns.scatterplot(data=mfp_df, x='1-specificity', y='recall', hue='strategy', style='fold',\n",
    "                  s=300, alpha=0.6, ax=axs[1], legend=False, palette=this_palette )\n",
    "    plt.suptitle('GP RBF Kernel Results (fold validation)', fontsize=18, x=0.49, y =.96)\n",
    "    for i, ax in enumerate(axs): \n",
    "        axs[i].plot([-0.1, 1.1],[-0.1,1.1], linestyle='--', color='gray')\n",
    "        axs[i].set_xlim(-0.1, 1.1)\n",
    "        axs[i].set_ylim(-0.1, 1.1)\n",
    "        axs[i].set_xlabel('1 - Specificity', fontsize=16)\n",
    "        axs[i].set_ylabel('Sensitivity (Recall)', fontsize=16)\n",
    "    \n",
    "        \n",
    "    axs[0].set_title(f'{nek} moe', fontsize=16)\n",
    "    axs[1].set_title(f'{nek} mfp', fontsize=16)\n",
    "    handles, labels = axs[0].get_legend_handles_labels()\n",
    "    fig.legend(handles=handles, labels=labels,\n",
    "               loc='upper center', bbox_to_anchor=(0.5, .01), ncol=2, fontsize=12)\n",
    "    axs[0].get_legend().remove()\n",
    "    \n",
    "    plt.tight_layout(rect=[0, 0, 1, 0.95]) \n",
    "    # plt.savefig(f'{nek}_GP_RBF_fold_results.png',bbox_inches='tight')\n",
    "    plt.tight_layout()\n",
    "    plt.show();"
   ]
  },
  {
   "cell_type": "code",
   "execution_count": null,
   "id": "753c7543-f035-404f-be0a-872cb02c0f6a",
   "metadata": {},
   "outputs": [],
   "source": []
  }
 ],
 "metadata": {
  "kernelspec": {
   "display_name": "atom2024",
   "language": "python",
   "name": "atom2024"
  },
  "language_info": {
   "codemirror_mode": {
    "name": "ipython",
    "version": 3
   },
   "file_extension": ".py",
   "mimetype": "text/x-python",
   "name": "python",
   "nbconvert_exporter": "python",
   "pygments_lexer": "ipython3",
   "version": "3.9.12"
  }
 },
 "nbformat": 4,
 "nbformat_minor": 5
}
