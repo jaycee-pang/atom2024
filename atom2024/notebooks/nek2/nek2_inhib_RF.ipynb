{
 "cells": [
  {
   "cell_type": "code",
   "execution_count": 1,
   "id": "bfab7ac2-ac43-4068-b9dc-c0f9b8c430c1",
   "metadata": {},
   "outputs": [],
   "source": [
    "import math\n",
    "import torch\n",
    "import numpy as np\n",
    "import gpytorch\n",
    "import pandas as pd\n",
    "import seaborn as sns\n",
    "import os\n",
    "import pickle\n",
    "import matplotlib \n",
    "matplotlib.use('Agg')\n",
    "from matplotlib import pyplot as plt\n",
    "import sklearn\n",
    "from sklearn.model_selection import KFold\n",
    "\n",
    "%matplotlib inline\n",
    "%load_ext autoreload\n",
    "%autoreload 2\n",
    "\n",
    "import imblearn as imb\n",
    "# print(\"imblearn version: \",imblearn.__version__)\n",
    "from imblearn.over_sampling import SMOTE\n",
    "\n",
    "from sklearn.decomposition import PCA\n",
    "from sklearn.preprocessing import StandardScaler\n",
    "\n",
    "from sklearn.metrics import confusion_matrix\n",
    "import itertools\n",
    "\n",
    "from scipy.stats import randint\n",
    "from sklearn.model_selection import RandomizedSearchCV\n",
    "from sklearn.metrics import accuracy_score, precision_score, f1_score, roc_auc_score, roc_curve, precision_recall_curve, auc, recall_score\n",
    "\n",
    "from sklearn.ensemble import RandomForestClassifier\n",
    "from imblearn.ensemble import BalancedRandomForestClassifier\n",
    "from rdkit import Chem\n",
    "from rdkit.Chem import Draw\n",
    "import sys\n",
    "sys.path.append('../')\n",
    "# import utils\n",
    "from sklearn.model_selection import GridSearchCV\n",
    "from VisUtils import *\n",
    "\n",
    "from sklearn.tree import export_graphviz\n",
    "from IPython.display import Image\n",
    "import graphviz"
   ]
  },
  {
   "cell_type": "code",
   "execution_count": 2,
   "id": "932618a0-4fd8-4ac0-9861-de36df6ebe45",
   "metadata": {},
   "outputs": [],
   "source": [
    "from functools import wraps\n",
    "from time import time\n",
    "\n",
    "def timing(f):\n",
    "    @wraps(f)\n",
    "    def wrap(*args, **kw):\n",
    "        ts = time()\n",
    "        result = f(*args, **kw)\n",
    "        te = time()\n",
    "        print('func:%r  took: %2.4f sec' % (f.__name__,  te-ts))\n",
    "        return result\n",
    "    return wrap\n",
    "    "
   ]
  },
  {
   "cell_type": "code",
   "execution_count": 3,
   "id": "162a60d8-eb09-4f5c-89c5-5343d74c012b",
   "metadata": {},
   "outputs": [],
   "source": [
    "split_path = '../../../../data/NEK_data_4Berkeley/NEK2/'\n",
    "train_x_df = pd.read_csv(split_path+\"/NEK2_inhibition_random_fold1_trainX.csv\")\n",
    "train_y_df= pd.read_csv(split_path+\"/NEK2_inhibition_random_fold1_trainY.csv\")\n",
    "test_x_df= pd.read_csv(split_path+\"/NEK2_inhibition_random_fold1_testX.csv\")\n",
    "test_y_df= pd.read_csv(split_path+\"/NEK2_inhibition_random_fold1_testY.csv\")\n",
    "train_x = torch.from_numpy(train_x_df.to_numpy())\n",
    "train_y = torch.from_numpy(train_y_df.to_numpy().reshape(-1))\n",
    "test_x = torch.from_numpy(test_x_df.to_numpy())\n",
    "test_y = torch.from_numpy(test_y_df.to_numpy().reshape(-1))\n"
   ]
  },
  {
   "cell_type": "code",
   "execution_count": 4,
   "id": "dea38ec3-c5fe-4476-ac7b-443cce099f53",
   "metadata": {},
   "outputs": [],
   "source": [
    "# Scale data\n",
    "x_df = pd.concat([train_x_df, test_x_df])\n",
    "\n",
    "scaling=StandardScaler()\n",
    " \n",
    "# Use fit and transform method \n",
    "scaling.fit(x_df)\n",
    "Scaled_data=scaling.transform(x_df)\n",
    "train_x = scaling.transform(train_x_df)\n",
    "test_x = scaling.transform(test_x_df) \n",
    "\n",
    "train_y = train_y_df.to_numpy().flatten()\n",
    "test_y = test_y_df.to_numpy().flatten()\n"
   ]
  },
  {
   "cell_type": "code",
   "execution_count": 8,
   "id": "22a15bd1-935c-4c77-af1e-4d7561a82220",
   "metadata": {},
   "outputs": [],
   "source": [
    "@timing\n",
    "def rf_results(model, train_x, train_y, test_x, test_y): \n",
    "    \"\"\"Make predictions adn get probabilities\n",
    "    @params\n",
    "    model: fitted model (fitted to train set)\n",
    "    train_x, train_y, test_x, test_y: train and test set inputs (np arrays)\n",
    "    @returns\n",
    "    train/test predictions\n",
    "    train/test accuracies \n",
    "    train/test probabilities\"\"\"\n",
    "    train_pred = model.predict(train_x) \n",
    "    test_pred = model.predict(test_x)\n",
    "    train_acc = accuracy_score(train_y, train_pred) \n",
    "    test_acc = accuracy_score(test_y, test_pred) \n",
    "    print(f'train accuracy: {train_acc}')\n",
    "    print(f'test accuracy: {test_acc}')\n",
    "    train_prob = model.predict_proba(train_x) \n",
    "    test_prob = model.predict_proba(test_x) \n",
    "    return train_pred, test_pred, train_acc, test_acc, train_prob, test_prob"
   ]
  },
  {
   "cell_type": "code",
   "execution_count": 9,
   "id": "6e85e87a-bf79-4f06-be64-61efa6df8d21",
   "metadata": {},
   "outputs": [],
   "source": [
    "@timing\n",
    "def rf_models(train_x, train_y, test_x, test_y, rf_type, parameters, dataset_type):\n",
    "    \"\"\"Fit a RF model, make predictions, get probabilities\n",
    "    @params: \n",
    "    train_x, train_y, test_x, test_y: train and test set inputs (np arrays) \n",
    "    rf_type: model type: RandomForestClassifier, RandomForestClassifier with class_weight:'balanced', or BalancedRandomForestClassifier\n",
    "        default is RFC \n",
    "    parameters: dict for model params \n",
    "    dataset_type: binding or inhibition\n",
    "    @returns: dict with model, train/test prections and probabilities\n",
    "    \"\"\"\n",
    "    n_estimators = parameters.get('n_estimators', 100)\n",
    "    random_state = parameters.get('random_state', 42) \n",
    "    criterion = parameters.get('criterion', 'gini')\n",
    "    max_depth = parameters.get('max_depth', 100)\n",
    "    min_samples_split = parameters.get('min_samples_split', 2) \n",
    "    min_samples_leaf = parameters.get('min_samples_leaf', 1) \n",
    "    bootstrap = parameters.get('bootstrap', False) \n",
    "    max_features = parameters.get('max_features', None) \n",
    "    class_weight = parameters.get('class_weight', None)\n",
    "    \n",
    "    if (rf_type == 'balanced class_weight'): \n",
    "        model = RandomForestClassifier(n_estimators=n_estimators, criterion=criterion, max_depth=max_depth, min_samples_split=min_samples_split\n",
    "                                , min_samples_leaf=min_samples_leaf, bootstrap=bootstrap, max_features=max_features, class_weight='balanced')\n",
    "    elif (rf_type == 'balanced RF'):\n",
    "        model = BalancedRandomForestClassifier(n_estimators=n_estimators, criterion=criterion, max_depth=max_depth, min_samples_split=min_samples_split\n",
    "                                , min_samples_leaf=min_samples_leaf, bootstrap=bootstrap, max_features=max_features, class_weight=class_weight)\n",
    "    else:\n",
    "        model = RandomForestClassifier(n_estimators=n_estimators, criterion=criterion, max_depth=max_depth, min_samples_split=min_samples_split\n",
    "                                , min_samples_leaf=min_samples_leaf, bootstrap=bootstrap, max_features=max_features, class_weight=class_weight)\n",
    "        \n",
    "    model.fit(train_x, train_y)\n",
    "    train_pred, test_pred, train_acc, test_acc, train_prob, test_prob = rf_results(model, train_x, train_y, test_x, test_y)\n",
    "    classes = ['0','1']\n",
    "    plot_confusion_matrix(train_y, train_pred, classes, title=f\"NEK2 {dataset_type} Train: {rf_type}\")\n",
    "    plot_confusion_matrix(test_y, test_pred, classes, title=f\"NEK2 {dataset_type} Test: {rf_type}\")\n",
    "    \n",
    "    return {'model': model, 'train_pred':train_pred, 'test_pred': test_pred, 'train_prob':train_prob, 'test_prob': test_prob}"
   ]
  },
  {
   "cell_type": "code",
   "execution_count": 10,
   "id": "c8ac53aa-8c3d-459a-9d28-3f430d0af0ee",
   "metadata": {},
   "outputs": [],
   "source": [
    "@timing\n",
    "def find_best_models(train_x, train_y, test_x, test_y, rf_type, parameters, param_dist, dataset_type, verbose_val=None):\n",
    "    \"\"\"uses GridSearchCV not random grid search\n",
    "    Grid search to find the best model, make predictions (train and test), get probability (train and test), and plot CM \n",
    "    Save best model to pickle file \n",
    "    @params:\n",
    "    train_x, train_y, test_x, test_y: train and test set inputs (np arrays) \n",
    "    rf_type: model type: RandomForestClassifier, RandomForestClassifier with class_weight:'balanced', or BalancedRandomForestClassifier\n",
    "        default is RFC \n",
    "    parameters: dict for model params \n",
    "    param_dist: parameters for grid search\n",
    "    dataset_type: binding or inhibition\n",
    "    @returns: dict with model, train/test prections and probabilities\n",
    "    \"\"\"\n",
    "    n_estimators = parameters.get('n_estimators', 100)\n",
    "    random_state = parameters.get('random_state', 42) \n",
    "    criterion = parameters.get('criterion', 'gini')\n",
    "    max_depth = parameters.get('max_depth', 100)\n",
    "    min_samples_split = parameters.get('min_samples_split', 2) \n",
    "    min_samples_leaf = parameters.get('min_samples_leaf', 1) \n",
    "    bootstrap = parameters.get('bootstrap', False) \n",
    "    max_features = parameters.get('max_features', None) \n",
    "    class_weight = parameters.get('class_weight', None)\n",
    "    bootstrap = parameters.get('bootstrap', False)\n",
    "    if (verbose_val==None): \n",
    "        verbose_val = 0\n",
    "    if (rf_type == 'balanced class_weight'): \n",
    "        model = RandomForestClassifier(n_estimators=n_estimators, criterion=criterion, max_depth=max_depth, min_samples_split=min_samples_split\n",
    "                                , min_samples_leaf=min_samples_leaf, bootstrap=bootstrap, max_features=max_features, class_weight='balanced')\n",
    "    elif (rf_type == 'balanced RF'):\n",
    "        model = BalancedRandomForestClassifier(n_estimators=n_estimators, criterion=criterion, max_depth=max_depth, min_samples_split=min_samples_split\n",
    "                                , min_samples_leaf=min_samples_leaf, bootstrap=bootstrap, max_features=max_features)\n",
    "    else:\n",
    "        model = RandomForestClassifier(n_estimators=n_estimators, criterion=criterion, max_depth=max_depth, min_samples_split=min_samples_split\n",
    "                                , min_samples_leaf=min_samples_leaf, bootstrap=bootstrap, max_features=max_features, class_weight=class_weight)\n",
    "\n",
    "    rand_search = GridSearchCV(estimator =model, param_grid = param_dist,cv=5, n_jobs=8, verbose=verbose_val)\n",
    "    rand_search.fit(train_x, train_y) \n",
    "    best_rf = rand_search.best_estimator_\n",
    "    \n",
    "    return {'best_model': best_rf, 'train_pred':train_pred, 'test_pred': test_pred, 'train_prob':train_prob, 'test_prob': test_prob}\n",
    "    "
   ]
  },
  {
   "cell_type": "code",
   "execution_count": 11,
   "id": "a36fb016-ac48-485f-833c-c401b84e864a",
   "metadata": {},
   "outputs": [
    {
     "name": "stdout",
     "output_type": "stream",
     "text": [
      "train accuracy: 1.0\n",
      "test accuracy: 0.9437652811735942\n",
      "func:'rf_results'  took: 0.0342 sec\n",
      "func:'rf_models'  took: 54.8083 sec\n"
     ]
    },
    {
     "data": {
      "image/png": "[encoded data removed]",
      "text/plain": [
       "<Figure size 640x480 with 2 Axes>"
      ]
     },
     "metadata": {},
     "output_type": "display_data"
    },
    {
     "data": {
      "image/png": "[encoded data removed]",
      "text/plain": [
       "<Figure size 640x480 with 2 Axes>"
      ]
     },
     "metadata": {},
     "output_type": "display_data"
    }
   ],
   "source": [
    "result1 = rf_models(train_x, train_y, test_x, test_y, 'Basic RF', {}, 'Inhibition')\n"
   ]
  },
  {
   "cell_type": "code",
   "execution_count": 12,
   "id": "1dd7ff6e-1d6c-482f-8abc-97da55ee19a1",
   "metadata": {},
   "outputs": [],
   "source": [
    "param_grid = {\n",
    "    'n_estimators': np.linspace(100, 2000, 5, dtype = int),\n",
    "    'max_depth': [20, 40, 60, 80, 100, 150, 200, 220],\n",
    "    'min_samples_split': [2, 3, 4],\n",
    "    'min_samples_leaf': [2, 3, 4, 5],\n",
    "    'criterion': ['gini','entropy']\n",
    "}"
   ]
  },
  {
   "cell_type": "code",
   "execution_count": null,
   "id": "ce8aa109-9548-44ee-a8e7-9fe386063786",
   "metadata": {},
   "outputs": [
    {
     "name": "stdout",
     "output_type": "stream",
     "text": [
      "Fitting 5 folds for each of 960 candidates, totalling 4800 fits\n"
     ]
    }
   ],
   "source": [
    "\n",
    "result1_best = find_best_models(train_x, train_y, test_x, test_y, 'Basic RF', {}, \n",
    "                                param_grid, 'Inhibition', verbose_val=2)\n",
    "# result1_best = find_best_models(train_x, train_y, test_x, test_y, 'Basic RF', {'bootstrap':True, 'class_weight':'balanced'}, \n",
    "#                                 param_grid, 'Binding', 'NEK2bind_gridsearch_basic_best', verbose_val=2)"
   ]
  },
  {
   "cell_type": "code",
   "execution_count": null,
   "id": "af9cdd7d-c955-43b1-aaaf-251768a2eee8",
   "metadata": {},
   "outputs": [],
   "source": [
    "best_params = result1_best['best_model'].get_params()\n",
    "    for param, value in best_params.items():\n",
    "        print(f\"{param}: {value}\")\n",
    "    train_pred, test_pred, train_acc, test_acc, train_prob, test_prob = rf_results(result1_best['best_model'], train_x, train_y, test_x, test_y)\n",
    "    classes = ['0','1']\n",
    "    plot_confusion_matrix(train_y, train_pred, classes, title=f\"Best NEK2 Binding Train: Basic RF\")\n",
    "    plot_confusion_matrix(test_y, test_pred, classes, title=f\"Best NEK2 Binding Test: Basic RF\")\n",
    "    pklfile = 'NEK2bind_gridsearch_basic_best.pkl'\n",
    "    with open(pklfile, 'wb') as f:\n",
    "        pickle.dump(result1_best['best_model'], f)"
   ]
  },
  {
   "cell_type": "code",
   "execution_count": null,
   "id": "4d5632f3-13ae-4331-a9a2-3773370b2b23",
   "metadata": {},
   "outputs": [],
   "source": [
    "result2 = rf_models(train_x, train_y, test_x, test_y, 'balanced class_weight', {}, 'Binding')\n"
   ]
  },
  {
   "cell_type": "code",
   "execution_count": null,
   "id": "6b823282-5422-41f8-a289-541f0fbdcda8",
   "metadata": {},
   "outputs": [],
   "source": [
    "result2_best = find_best_models(train_x, train_y, test_x, test_y, 'balanced class_weight', {'bootstrap':True, 'class_weight':'balanced'}, \n",
    "                                param_grid, 'Binding', 'NEK2bind_gridsearch_classweightbal_best', verbose_val=2)"
   ]
  },
  {
   "cell_type": "code",
   "execution_count": null,
   "id": "6e4f78be-a949-4182-965a-f668dd837aef",
   "metadata": {},
   "outputs": [],
   "source": [
    "best_params2 = result2_best['best_model'].get_params()\n",
    "    for param, value in best_params2.items():\n",
    "        print(f\"{param}: {value}\")\n",
    "    train_pred, test_pred, train_acc, test_acc, train_prob, test_prob = rf_results(result2_best['best_model'], train_x, train_y, test_x, test_y)\n",
    "    classes = ['0','1']\n",
    "    plot_confusion_matrix(train_y, train_pred, classes, title=f\"Best NEK2 Binding Train: balanced class_weight\")\n",
    "    plot_confusion_matrix(test_y, test_pred, classes, title=f\"Best NEK2 Binding Test: balanced class_weight\")\n",
    "    pklfile = 'NEK2bind_gridsearch_classweightbal_best.pkl'\n",
    "    with open(pklfile, 'wb') as f:\n",
    "        pickle.dump(result2_best['best_model'], f)"
   ]
  },
  {
   "cell_type": "code",
   "execution_count": null,
   "id": "6520a626-d5c7-42b3-adce-ff16a5d8a2af",
   "metadata": {},
   "outputs": [],
   "source": [
    "result3 = rf_models(train_x, train_y, test_x, test_y, 'balanced RF', {}, 'Binding')"
   ]
  },
  {
   "cell_type": "code",
   "execution_count": null,
   "id": "46bf3207-cf9c-418e-8c50-a3494affa73a",
   "metadata": {},
   "outputs": [],
   "source": [
    "result3_best = find_best_models(train_x, train_y, test_x, test_y, 'balanced RF', {}, \n",
    "                                param_grid, 'Binding', 'NEK2bind_gridsearch_BRF_best', verbose_val=2)"
   ]
  },
  {
   "cell_type": "code",
   "execution_count": null,
   "id": "b737f435-dc88-4e0e-8b1e-f45873d8dd57",
   "metadata": {},
   "outputs": [],
   "source": [
    "best_params3 = result3_best['best_model'].get_params()\n",
    "    for param, value in best_params3.items():\n",
    "        print(f\"{param}: {value}\")\n",
    "    train_pred, test_pred, train_acc, test_acc, train_prob, test_prob = rf_results(result3_best['best_model'], train_x, train_y, test_x, test_y)\n",
    "    classes = ['0','1']\n",
    "    plot_confusion_matrix(train_y, train_pred, classes, title=f\"Best NEK2 Binding Train: Balanced RF\")\n",
    "    plot_confusion_matrix(test_y, test_pred, classes, title=f\"Best NEK2 Binding Test: Balanced RF\")\n",
    "    pklfile = 'NEK2bind_gridsearch_BRF_best.pkl'\n",
    "    with open(pklfile, 'wb') as f:\n",
    "        pickle.dump(result2_best['best_model'], f)"
   ]
  }
 ],
 "metadata": {
  "kernelspec": {
   "display_name": "atomsci",
   "language": "python",
   "name": "atomsci"
  },
  "language_info": {
   "codemirror_mode": {
    "name": "ipython",
    "version": 3
   },
   "file_extension": ".py",
   "mimetype": "text/x-python",
   "name": "python",
   "nbconvert_exporter": "python",
   "pygments_lexer": "ipython3",
   "version": "3.9.12"
  }
 },
 "nbformat": 4,
 "nbformat_minor": 5
}
