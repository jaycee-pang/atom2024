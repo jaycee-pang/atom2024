{
 "cells": [
  {
   "cell_type": "code",
   "execution_count": 21,
   "id": "97246bfc-8a7c-42a4-92d9-55860769502e",
   "metadata": {},
   "outputs": [
    {
     "name": "stdout",
     "output_type": "stream",
     "text": [
      "The autoreload extension is already loaded. To reload it, use:\n",
      "  %reload_ext autoreload\n"
     ]
    }
   ],
   "source": [
    "import math\n",
    "import torch\n",
    "import numpy as np\n",
    "# import gpytorch\n",
    "import pandas as pd\n",
    "import os\n",
    "import pickle\n",
    "import shutil\n",
    "\n",
    "import sklearn\n",
    "from sklearn.model_selection import KFold\n",
    "\n",
    "import imblearn as imb\n",
    "# print(\"imblearn version: \",imblearn.__version__)\n",
    "from imblearn.over_sampling import SMOTE\n",
    "from imblearn.under_sampling import RandomUnderSampler\n",
    "from imblearn.over_sampling import ADASYN\n",
    "from sklearn.decomposition import PCA\n",
    "from sklearn.preprocessing import StandardScaler\n",
    "\n",
    "import itertools\n",
    "\n",
    "from scipy.stats import randint\n",
    "from sklearn.model_selection import RandomizedSearchCV\n",
    "from sklearn.metrics import accuracy_score, precision_score, f1_score, roc_auc_score, roc_curve, precision_recall_curve, auc, recall_score\n",
    "\n",
    "from sklearn.ensemble import RandomForestClassifier\n",
    "from imblearn.ensemble import BalancedRandomForestClassifier\n",
    "from rdkit import Chem\n",
    "from rdkit.Chem import Draw\n",
    "import sys\n",
    "sys.path.append('../')\n",
    "import utils\n",
    "\n",
    "from sklearn.model_selection import GridSearchCV\n",
    "from VisUtils import *\n",
    "from RF_GSCV import *\n",
    "from sklearn.model_selection import KFold\n",
    "from split_data import *\n",
    "from matplotlib import pyplot as plt\n",
    "%matplotlib inline\n",
    "%load_ext autoreload\n",
    "%autoreload 2"
   ]
  },
  {
   "cell_type": "code",
   "execution_count": 22,
   "id": "17f81fce-efa2-4f81-ae59-d7f35172f160",
   "metadata": {},
   "outputs": [],
   "source": [
    "def scale_data(train_x_df, train_y_df, test_x_df, test_y_df): \n",
    "    x_df = pd.concat([train_x_df, test_x_df])\n",
    "    scaling=StandardScaler()\n",
    "    scaling.fit(x_df)\n",
    "    Scaled_data=scaling.transform(x_df)\n",
    "    train_x = scaling.transform(train_x_df)\n",
    "    test_x = scaling.transform(test_x_df) \n",
    "    \n",
    "    train_y = train_y_df.to_numpy().flatten()\n",
    "    test_y = test_y_df.to_numpy().flatten()\n",
    "    return train_x, train_y, test_x, test_y\n",
    "    "
   ]
  },
  {
   "cell_type": "markdown",
   "id": "d6e952bd-d151-48f3-815c-921af1d4855f",
   "metadata": {},
   "source": [
    "# Split into train/test splits based on fold \n",
    "Here, fold1 is the testset "
   ]
  },
  {
   "cell_type": "code",
   "execution_count": 23,
   "id": "841df9d5-d09f-4f8e-8d6b-01024ae48208",
   "metadata": {},
   "outputs": [
    {
     "data": {
      "text/plain": [
       "active\n",
       "0    1904\n",
       "1     140\n",
       "Name: count, dtype: int64"
      ]
     },
     "execution_count": 23,
     "metadata": {},
     "output_type": "execute_result"
    }
   ],
   "source": [
    "smile_prop_df = pd.read_csv('../../../../data/datasets/NEK_data_4Berkeley/NEK2/NEK2_1_uM_min_50_pct_inhibition_5fold_random_imbalanced.csv')\n",
    "trues1 = smile_prop_df[smile_prop_df['fold']=='fold1']['active'].value_counts()\n",
    "trues1.value_counts()\n",
    "trues1\n",
    "smile_prop_df['active'].value_counts()"
   ]
  },
  {
   "cell_type": "markdown",
   "id": "aecc7f8b-847c-451d-bd98-1ddc42958575",
   "metadata": {},
   "source": [
    "# Normalizing\n"
   ]
  },
  {
   "cell_type": "code",
   "execution_count": 24,
   "id": "52a7129f-cd74-42ca-b8ed-ba3a6df2536f",
   "metadata": {},
   "outputs": [],
   "source": [
    "from rdkit import Chem\n",
    "from rdkit.Chem import AllChem\n",
    "import numpy as np\n",
    "\n",
    "def smiles_to_fps(smiles_list, radius=2, nBits=2048):\n",
    "    fps = []\n",
    "    for smi in smiles_list:\n",
    "        mol = Chem.MolFromSmiles(smi)\n",
    "        # mol = utils.normalize(mol)\n",
    "        if mol is not None:\n",
    "            fp = AllChem.GetMorganFingerprintAsBitVect(mol, radius, nBits=nBits)\n",
    "            arr = np.zeros((1,), dtype=np.int8)\n",
    "            Chem.DataStructs.ConvertToNumpyArray(fp, arr)\n",
    "            fps.append(arr)\n",
    "    return np.array(fps)"
   ]
  },
  {
   "cell_type": "code",
   "execution_count": 25,
   "id": "21bea98e-c023-4a8a-ac61-2f4b83663b17",
   "metadata": {},
   "outputs": [],
   "source": [
    "\n",
    "# original splits\n",
    "split_path = '../../../../data/NEK_data_4Berkeley/NEK2/'\n",
    "train_x_df = pd.read_csv(split_path+\"/NEK2_inhibition_random_fold1_trainX.csv\")\n",
    "train_y_df= pd.read_csv(split_path+\"/NEK2_inhibition_random_fold1_trainY.csv\")\n",
    "test_x_df= pd.read_csv(split_path+\"/NEK2_inhibition_random_fold1_testX.csv\")\n",
    "test_y_df= pd.read_csv(split_path+\"/NEK2_inhibition_random_fold1_testY.csv\")\n",
    "\n",
    "split_path = '../../../../data/NEK_data_4Berkeley/NEK2/inhib/'\n",
    "# train_x_df.to_csv(split_path+'inhib_train_x_scaledoriginal.csv',index=False, header=False)\n",
    "# train_y_df.to_csv(split_path+'inhib_train_y_scaledoriginal.csv',index=False, header=False)\n",
    "# test_x_df.to_csv(split_path+'inhib_test_x_scaledoriginal.csv',index=False, header=False)\n",
    "# test_y_df.to_csv(split_path+'inhib_test_y_scaledoriginal.csv',index=False, header=False)"
   ]
  },
  {
   "cell_type": "code",
   "execution_count": 26,
   "id": "b7ef7901-16c2-4dee-8054-21cf387d18d6",
   "metadata": {},
   "outputs": [
    {
     "data": {
      "text/plain": [
       "((1635, 306), (409, 306))"
      ]
     },
     "execution_count": 26,
     "metadata": {},
     "output_type": "execute_result"
    }
   ],
   "source": [
    "train_x_df.shape, test_x_df.shape"
   ]
  },
  {
   "cell_type": "code",
   "execution_count": 27,
   "id": "e5a9f45f-6ae2-4bb5-895b-070150ed20db",
   "metadata": {},
   "outputs": [],
   "source": [
    "x_inhib = pd.concat([train_x_df, test_x_df])\n",
    "x_inhib.columns = x_inhib.columns.astype(str)\n",
    "\n",
    "scaling = StandardScaler()\n",
    "scaling.fit(x_inhib)\n",
    "\n",
    "train_x_moe = scaling.transform(train_x_df)\n",
    "test_x_moe = scaling.transform(test_x_df)\n",
    "train_y_moe = train_y_df.to_numpy().reshape(-1)\n",
    "test_y_moe = test_y_df.to_numpy().reshape(-1)"
   ]
  },
  {
   "cell_type": "code",
   "execution_count": 28,
   "id": "ad5c5faf-6dd4-486e-ba10-2bbc03cf2e44",
   "metadata": {},
   "outputs": [],
   "source": [
    "inhib_df = pd.read_csv('../../../../data/datasets/NEK_data_4Berkeley/NEK2/NEK2_1_uM_min_50_pct_inhibition_5fold_random_imbalanced.csv')\n",
    "\n",
    "inhib_train = inhib_df[inhib_df['fold'] != 'fold1'].drop(columns=['fold'])\n",
    "inhib_test = inhib_df[inhib_df['fold'] == 'fold1'].drop(columns=['fold'])\n",
    "\n",
    "\n",
    "trainX_inhib_smiles = inhib_train['base_rdkit_smiles']\n",
    "testX_inhib_smiles = inhib_test['base_rdkit_smiles']\n",
    "\n"
   ]
  },
  {
   "cell_type": "code",
   "execution_count": 33,
   "id": "130289c6-68ba-4433-9d91-f9d6a421f0e4",
   "metadata": {
    "scrolled": true
   },
   "outputs": [],
   "source": [
    "trainX_inhib_MF = smiles_to_fps(trainX_inhib_smiles, radius=2)\n",
    "testX_inhib_MF = smiles_to_fps(testX_inhib_smiles, radius=2)\n"
   ]
  },
  {
   "cell_type": "code",
   "execution_count": 30,
   "id": "23f2b59c-b5d6-4a65-a285-ecc76a55678d",
   "metadata": {},
   "outputs": [],
   "source": [
    "\n",
    "train_x_df = pd.DataFrame(train_x_moe) \n",
    "train_y_df = pd.DataFrame(train_y_moe) \n",
    "test_y_df = pd.DataFrame(test_y_moe)\n",
    "test_x_df = pd.DataFrame(test_x_moe)\n",
    "\n",
    "# train_x_df.to_csv(split_path+'inhib_train_x_normalized.csv', index=False, header=False)\n",
    "# train_y_df.to_csv(split_path+'inhib_train_y_normalized.csv', index=False, header=False) \n",
    "# test_y_df.to_csv(split_path+'inhib_test_y_normalized.csv', index=False, header=False) \n",
    "# test_x_df.to_csv(split_path+'inhib_test_x_normalized.csv', index=False, header=False) \n",
    "# train_x_df.to_csv(split_path+'inhib_train_x_scaledoriginal.csv',index=False, header=False)\n",
    "# train_y_df.to_csv(split_path+'inhib_train_y_scaledoriginal.csv',index=False, header=False)\n",
    "# test_x_df.to_csv(split_path+'inhib_test_x_scaledoriginal.csv',index=False, header=False)\n",
    "# test_y_df.to_csv(split_path+'inhib_test_y_scaledoriginal.csv',index=False, header=False)"
   ]
  },
  {
   "cell_type": "code",
   "execution_count": 6,
   "id": "2c111816-09fa-4186-86a3-685cf7286959",
   "metadata": {},
   "outputs": [],
   "source": [
    "split_path = '../../../../data/NEK_data_4Berkeley/NEK2/inhib/'\n",
    "trainX_norm = pd.read_csv(split_path+\"inhib_train_x_normalized.csv\",header=None)\n",
    "train_y_df= pd.read_csv(split_path+\"inhib_train_y_normalized.csv\",header=None)\n",
    "test_x_df= pd.read_csv(split_path+\"inhib_test_x_normalized.csv\",header=None)\n",
    "test_y_df= pd.read_csv(split_path+\"inhib_test_y_normalized.csv\",header=None)"
   ]
  },
  {
   "cell_type": "code",
   "execution_count": 7,
   "id": "e17c8a03-d2d9-4f53-bc55-48e6e13e95e7",
   "metadata": {},
   "outputs": [
    {
     "data": {
      "text/plain": [
       "0\n",
       "0    381\n",
       "1     28\n",
       "Name: count, dtype: int64"
      ]
     },
     "execution_count": 7,
     "metadata": {},
     "output_type": "execute_result"
    }
   ],
   "source": [
    "test_y_df.value_counts()"
   ]
  },
  {
   "cell_type": "code",
   "execution_count": 31,
   "id": "c12d0700-6241-4274-ad0b-1fb78e688588",
   "metadata": {},
   "outputs": [
    {
     "name": "stdout",
     "output_type": "stream",
     "text": [
      "(1635, 306) (1635,) (409, 306) (409,)\n"
     ]
    }
   ],
   "source": [
    "train_x = trainX_norm.to_numpy()\n",
    "train_y = train_y_df.to_numpy().reshape(-1)\n",
    "test_x = test_x_df.to_numpy()\n",
    "test_y= test_y_df.to_numpy().reshape(-1)\n",
    "print(train_x.shape, train_y.shape, test_x.shape, test_y.shape)"
   ]
  },
  {
   "cell_type": "markdown",
   "id": "f676b048-fcf3-4e2d-bd68-8a1c2d4f1b21",
   "metadata": {},
   "source": [
    "# norm SMOTE"
   ]
  },
  {
   "cell_type": "code",
   "execution_count": 32,
   "id": "b6698950-3eff-4d57-913f-bc037293bf3d",
   "metadata": {},
   "outputs": [
    {
     "data": {
      "text/plain": [
       "((3046, 306), (3046, 1), (409, 1), (409, 306))"
      ]
     },
     "execution_count": 32,
     "metadata": {},
     "output_type": "execute_result"
    }
   ],
   "source": [
    "# SMOTE that ^ \n",
    "oversample = SMOTE()\n",
    "trainX_normSMOTE_temp, trainy_normSMOTE_temp = oversample.fit_resample(train_x,train_y)\n",
    "trainX_normSMOTE = trainX_normSMOTE_temp\n",
    "trainy_normSMOTE = trainy_normSMOTE_temp.reshape(-1)\n",
    "\n",
    "train_x_dfSMOTE = pd.DataFrame(trainX_normSMOTE) \n",
    "train_y_dfSMOTE = pd.DataFrame(trainy_normSMOTE.reshape(-1)) \n",
    "test_y_df = pd.DataFrame(test_y)\n",
    "\n",
    "test_x_df = pd.DataFrame(test_x)\n",
    "train_x_dfSMOTE.shape, train_y_dfSMOTE.shape, test_y_df.shape, test_x_df.shape\n",
    "\n",
    "# train_x_dfSMOTE.to_csv(split_path+'inhib_train_x_normSMOTE.csv', index=False, header=False)\n",
    "# train_y_dfSMOTE.to_csv(split_path+'inhib_train_y_normSMOTE.csv', index=False, header=False) \n",
    "# test_y_df.to_csv(split_path+'inhib_test_y_normSMOTE.csv', index=False, header=False) \n",
    "# test_x_df.to_csv('inhib_test_x_normSMOTE.csv', index=False, header=False) "
   ]
  },
  {
   "cell_type": "markdown",
   "id": "fad3b6e6-9f7e-4aa4-a601-44a635abb04b",
   "metadata": {},
   "source": [
    "# norm UNDER"
   ]
  },
  {
   "cell_type": "code",
   "execution_count": 12,
   "id": "026964ad-bcb2-4bef-af59-d303d0d8c6de",
   "metadata": {},
   "outputs": [
    {
     "name": "stdout",
     "output_type": "stream",
     "text": [
      "(224, 306) (224, 1) (409, 1) (409, 306)\n"
     ]
    }
   ],
   "source": [
    "\n",
    "undersample = RandomUnderSampler()\n",
    "train_x_UNDER, train_y_UNDER = undersample.fit_resample(train_x,train_y)\n",
    "\n",
    "train_y_UNDER = train_y_UNDER.flatten()\n",
    "\n",
    "train_x_dfUNDER = pd.DataFrame(train_x_UNDER) \n",
    "train_y_dfUNDER = pd.DataFrame(train_y_UNDER) \n",
    "test_y_df = pd.DataFrame(test_y)\n",
    "test_x_df = pd.DataFrame(test_x)\n",
    "\n",
    "# train_x_dfUNDER.to_csv(split_path+'inhib_train_x_normUNDER.csv', index=False, header=False)\n",
    "# train_y_dfUNDER.to_csv(split_path+'inhib_train_y_normUNDER.csv', index=False, header=False) \n",
    "# test_y_df.to_csv(split_path+'inhib_test_y_normUNDER.csv', index=False, header=False) \n",
    "# test_x_df.to_csv(split_path+'inhib_test_x_normUNDER.csv', index=False, header=False) \n",
    "# print(train_x_dfUNDER.shape, train_y_dfUNDER.shape, test_y_df.shape, test_x_df.shape)"
   ]
  },
  {
   "cell_type": "markdown",
   "id": "50a72d85-97a7-4e19-9097-8c51584453d6",
   "metadata": {},
   "source": [
    "# norm ADASYN"
   ]
  },
  {
   "cell_type": "code",
   "execution_count": 14,
   "id": "d0131a48-499e-4d85-8bbe-48c0a050b028",
   "metadata": {},
   "outputs": [
    {
     "name": "stdout",
     "output_type": "stream",
     "text": [
      "(3037, 306) (3037, 1) (409, 1) (409, 306)\n"
     ]
    }
   ],
   "source": [
    "\n",
    "adasyn = ADASYN() \n",
    "train_x_tempADASYN, train_y_tempADASYN = adasyn.fit_resample(train_x, train_y)\n",
    "train_xADASYN = train_x_tempADASYN\n",
    "train_yADASYN = train_y_tempADASYN.flatten()\n",
    "\n",
    "train_xADASYN.shape,train_yADASYN.shape, test_x.shape, test_y.shape\n",
    "\n",
    "train_x_dfADASYN = pd.DataFrame(train_xADASYN) \n",
    "train_y_dfADASYN = pd.DataFrame(train_yADASYN.reshape(-1)) \n",
    "test_y_df = pd.DataFrame(test_y)\n",
    "test_x_df = pd.DataFrame(test_x)\n",
    "\n",
    "train_x_dfADASYN.to_csv(split_path+'inhib_train_x_normADASYN.csv', index=False, header=False)\n",
    "train_y_dfADASYN.to_csv(split_path+'inhib_train_y_normADASYN.csv', index=False, header=False) \n",
    "test_y_df.to_csv(split_path+'inhib_test_y_normADASYN.csv', index=False, header=False) \n",
    "test_x_df.to_csv(split_path+'inhib_test_x_normADASYN.csv', index=False, header=False) \n",
    "print(train_x_dfADASYN.shape, train_y_dfADASYN.shape, test_y_df.shape, test_x_df.shape)"
   ]
  },
  {
   "cell_type": "markdown",
   "id": "d474e9b5-20bc-464d-b9e7-a900ffec896f",
   "metadata": {},
   "source": [
    "# Morgan fingerprints wiht radius 2 \n",
    "r=2"
   ]
  },
  {
   "cell_type": "code",
   "execution_count": 34,
   "id": "0494656f-40bf-4438-8acb-89d526a491f2",
   "metadata": {},
   "outputs": [],
   "source": [
    "trainX_inhib_MF = smiles_to_fps(trainX_inhib_smiles, radius=2)\n",
    "testX_inhib_MF = smiles_to_fps(testX_inhib_smiles, radius=2)\n",
    "trainY_inhib_MF = inhib_train['active'].to_numpy().reshape(-1)\n",
    "testY_inhib_MF = inhib_test['active'].to_numpy().reshape(-1)\n",
    "\n",
    "train_x_mf = pd.DataFrame(trainX_inhib_MF) \n",
    "train_y_mf = pd.DataFrame(trainY_inhib_MF) \n",
    "test_y_mf = pd.DataFrame(testY_inhib_MF)\n",
    "test_x_mf = pd.DataFrame(testX_inhib_MF)\n",
    "\n",
    "train_x_mf.to_csv(split_path+'inhib_train_x_normMorgan2.csv', index=False, header=False)\n",
    "train_y_mf.to_csv(split_path+'inhib_train_y_normMorgan2.csv', index=False, header=False) \n",
    "test_y_mf.to_csv(split_path+'inhib_test_y_normMorgan2.csv', index=False, header=False) \n",
    "test_x_mf.to_csv(split_path+'inhib_test_x_normMorgan2.csv', index=False, header=False) "
   ]
  },
  {
   "cell_type": "code",
   "execution_count": 35,
   "id": "bde5e0fe-3c74-410f-8ddf-8f2bdaf5cea9",
   "metadata": {},
   "outputs": [
    {
     "data": {
      "text/plain": [
       "((1635, 2048), (1635, 1), (409, 2048), (409, 1))"
      ]
     },
     "execution_count": 35,
     "metadata": {},
     "output_type": "execute_result"
    }
   ],
   "source": [
    "train_x_mf.shape,train_y_mf.shape, test_x_mf.shape, test_y_mf.shape"
   ]
  },
  {
   "cell_type": "markdown",
   "id": "56f9af6e-486a-4fd3-8e84-727a83290bc7",
   "metadata": {},
   "source": [
    "# Morgan fingerprints + SMOTE \n",
    "r = 2"
   ]
  },
  {
   "cell_type": "code",
   "execution_count": 36,
   "id": "1b7916e4-cc94-4df9-9201-60d0e74cfd45",
   "metadata": {},
   "outputs": [
    {
     "data": {
      "text/plain": [
       "((3046, 2048), (3046, 1), (409, 1), (409, 2048))"
      ]
     },
     "execution_count": 36,
     "metadata": {},
     "output_type": "execute_result"
    }
   ],
   "source": [
    "oversample = SMOTE()\n",
    "trainX_Morgan_SMOTE, trainy_Morgan_SMOTE = oversample.fit_resample(train_x_mf, train_y_mf)\n",
    "train_x_dfmorganSMOTE = pd.DataFrame(trainX_Morgan_SMOTE) \n",
    "train_y_dfmorganSMOTE = pd.DataFrame(trainy_Morgan_SMOTE) \n",
    "test_y_dfmorganSMOTE = pd.DataFrame(test_y_mf)\n",
    "test_x_dfmorganSMOTE = pd.DataFrame(test_x_mf)\n",
    "\n",
    "train_x_dfmorganSMOTE.to_csv(split_path+'inhib_train_x_Morgan2SMOTE.csv', index=False, header=False)\n",
    "train_y_dfmorganSMOTE.to_csv(split_path+'inhib_train_y_Morgan2SMOTE.csv', index=False, header=False) \n",
    "test_y_dfmorganSMOTE.to_csv(split_path+'inhib_test_y_Morgan2SMOTE.csv', index=False, header=False) \n",
    "test_x_dfmorganSMOTE.to_csv(split_path+'inhib_test_x_Morgan2SMOTE.csv', index=False, header=False) \n",
    "train_x_dfmorganSMOTE.shape, train_y_dfmorganSMOTE.shape, test_y_dfmorganSMOTE.shape, test_x_dfmorganSMOTE.shape"
   ]
  },
  {
   "cell_type": "code",
   "execution_count": null,
   "id": "4f11f20d-798d-4d68-b6f2-ded52e98e249",
   "metadata": {},
   "outputs": [],
   "source": [
    "test_y_dfmorganSMOTE.value_counts()"
   ]
  },
  {
   "cell_type": "markdown",
   "id": "ccfec7a4-47ec-42e3-8cd3-c8ca03c38b49",
   "metadata": {},
   "source": [
    "# Morgan fingerprints + UNDER"
   ]
  },
  {
   "cell_type": "code",
   "execution_count": 37,
   "id": "914ca233-6e1e-4539-9acd-ce7a8cb059ce",
   "metadata": {},
   "outputs": [],
   "source": [
    "undersample = RandomUnderSampler()\n",
    "train_x_Morgan_UNDER, train_y_Morgan_UNDER = undersample.fit_resample(train_x_mf, train_y_mf)\n",
    "\n",
    "train_x_dfMorganUNDER = pd.DataFrame(train_x_Morgan_UNDER) \n",
    "train_y_dfMorganUNDER = pd.DataFrame(train_y_Morgan_UNDER) \n",
    "test_y_dfMorganUnder = pd.DataFrame(test_y_mf)\n",
    "test_x_dfMorganUnder = pd.DataFrame(test_x_mf)\n",
    "\n",
    "train_x_dfMorganUNDER.to_csv(split_path+'inhib_train_x_Morgan2UNDER.csv', index=False, header=False)\n",
    "train_y_dfMorganUNDER.to_csv(split_path+'inhib_train_y_Morgan2UNDER.csv', index=False, header=False) \n",
    "test_y_dfMorganUnder.to_csv(split_path+'inhib_test_y_Morgan2UNDER.csv', index=False, header=False) \n",
    "test_x_dfMorganUnder.to_csv(split_path+'inhib_test_x_Morgan2UNDER.csv', index=False, header=False) "
   ]
  },
  {
   "cell_type": "code",
   "execution_count": 39,
   "id": "d86eef59-ef88-4aad-9d47-70165abed160",
   "metadata": {},
   "outputs": [
    {
     "name": "stdout",
     "output_type": "stream",
     "text": [
      "(224, 2048) (224, 1) (409, 1) (409, 2048)\n"
     ]
    }
   ],
   "source": [
    "print(train_x_dfMorganUNDER.shape, train_y_dfMorganUNDER.shape, test_y_dfMorganUnder.shape,test_x_dfMorganUnder.shape)"
   ]
  },
  {
   "cell_type": "markdown",
   "id": "6c6649e8-0e18-48ff-a2d3-4c8837acfab9",
   "metadata": {},
   "source": [
    "# Morgan fingerprints + ADASYN"
   ]
  },
  {
   "cell_type": "code",
   "execution_count": 38,
   "id": "47f6d62b-9861-4688-9b90-f98e24a7fd92",
   "metadata": {},
   "outputs": [],
   "source": [
    "\n",
    "adasyn = ADASYN() \n",
    "train_x_MorganADASYN, train_y_MorganADASYN = adasyn.fit_resample(train_x_mf, train_y_mf)\n",
    "\n",
    "\n",
    "train_x_dfMorganADASYN = pd.DataFrame(train_x_MorganADASYN) \n",
    "train_y_dfMorganADASYN = pd.DataFrame(train_y_MorganADASYN) \n",
    "test_y_dfMorganADASYN = pd.DataFrame(test_y_mf)\n",
    "test_x_dfMorganADASYN = pd.DataFrame(test_x_mf)\n",
    "\n",
    "train_x_dfMorganADASYN.to_csv(split_path+'inhib_train_x_Morgan2ADASYN.csv', index=False, header=False)\n",
    "train_y_dfMorganADASYN.to_csv(split_path+'inhib_train_y_Morgan2ADASYN.csv', index=False, header=False) \n",
    "test_y_dfMorganADASYN.to_csv(split_path+'inhib_test_y_Morgan2ADASYN.csv', index=False, header=False) \n",
    "test_x_dfMorganADASYN.to_csv(split_path+'inhib_test_x_Morgan2ADASYN.csv', index=False, header=False) "
   ]
  },
  {
   "cell_type": "code",
   "execution_count": 40,
   "id": "9778a2c8-11e2-4208-85ba-ce0633e85852",
   "metadata": {},
   "outputs": [
    {
     "name": "stdout",
     "output_type": "stream",
     "text": [
      "(3027, 2048) (3027, 1) (409, 1) (409, 2048)\n"
     ]
    }
   ],
   "source": [
    "print(train_x_dfMorganADASYN.shape, train_y_dfMorganADASYN.shape, test_y_dfMorganADASYN.shape,test_x_dfMorganADASYN.shape)"
   ]
  },
  {
   "cell_type": "code",
   "execution_count": null,
   "id": "6922e637-2511-4752-8cce-89556c3a5c1f",
   "metadata": {},
   "outputs": [],
   "source": []
  },
  {
   "cell_type": "code",
   "execution_count": null,
   "id": "6668c31c-12f7-49cf-b8aa-fda6d49f09e5",
   "metadata": {},
   "outputs": [],
   "source": []
  },
  {
   "cell_type": "code",
   "execution_count": null,
   "id": "63530d13-c747-417e-a641-b26e2db86ed5",
   "metadata": {},
   "outputs": [],
   "source": []
  },
  {
   "cell_type": "code",
   "execution_count": null,
   "id": "df10eff9-a426-4cf3-b1ba-c8bd7c850ed3",
   "metadata": {},
   "outputs": [],
   "source": []
  },
  {
   "cell_type": "code",
   "execution_count": null,
   "id": "ddc867dd-454a-438e-9719-a9849102c53d",
   "metadata": {},
   "outputs": [],
   "source": []
  },
  {
   "cell_type": "code",
   "execution_count": null,
   "id": "0f5cb790-f9eb-4ff5-b070-c5147b552166",
   "metadata": {},
   "outputs": [],
   "source": []
  },
  {
   "cell_type": "code",
   "execution_count": null,
   "id": "fb593880-7240-4ede-876a-c46c5bc90d44",
   "metadata": {},
   "outputs": [],
   "source": []
  },
  {
   "cell_type": "code",
   "execution_count": null,
   "id": "c982e6ac-d366-4cd2-868d-916f78cc173b",
   "metadata": {},
   "outputs": [],
   "source": []
  },
  {
   "cell_type": "code",
   "execution_count": null,
   "id": "3836e3af-195d-4baf-a510-684452f13485",
   "metadata": {},
   "outputs": [],
   "source": []
  },
  {
   "cell_type": "code",
   "execution_count": null,
   "id": "abd300ff-b36b-4957-a9c1-df34f58e8171",
   "metadata": {},
   "outputs": [],
   "source": []
  },
  {
   "cell_type": "code",
   "execution_count": null,
   "id": "734170be-5943-4c9a-8086-b57bdaa39231",
   "metadata": {},
   "outputs": [],
   "source": []
  },
  {
   "cell_type": "code",
   "execution_count": null,
   "id": "6345f70e-d504-4a89-8244-7cc7a7c03d0c",
   "metadata": {},
   "outputs": [],
   "source": []
  },
  {
   "cell_type": "markdown",
   "id": "60a43267-f24b-4e0a-ace9-8a6718f71159",
   "metadata": {},
   "source": [
    "# Combine MOE with Morgan fingerprints "
   ]
  },
  {
   "cell_type": "code",
   "execution_count": null,
   "id": "40310287-4b5d-46c3-8a9f-f7e5e81812bf",
   "metadata": {},
   "outputs": [],
   "source": [
    "X_train_allfeats = np.hstack((X_existing_train, X_morgan_train))\n",
    "X_test_allfeats = np.hstack((X_existing_test, X_morgan_test)) # X_test_allfeats.shape (283, 2354) # now 2354 feats\n",
    "# y_test and y_testmrogan == same \n",
    "train_combo = pd.DataFrame(X_train_allfeats) # train X \n",
    "test_combo = pd.DataFrame(X_test_allfeats) # test X \n",
    "y_train_df = pd.DataFrame(y_train)\n",
    "y_test_df = pd.DataFrame(y_testmorgan)\n",
    "# train_combo.shape, test_combo.shape, X_existing_train.shape, len(X_morgan_train), X_train_allfeats.shape\n",
    "# train_combo.to_csv(split_path+'inhib_train_x_MOEMorgan2combo.csv', index=False, header=False)\n",
    "# y_train_df.to_csv(split_path+'inhib_train_y_MOEMorgan2combo.csv', index=False, header=False)\n",
    "# y_test_df.to_csv(split_path+'inhib_test_y_MOEMorgan2combo.csv', index=False, header=False)\n",
    "# test_combo.to_csv(split_path+'inhib_test_x_MOEMorgan2combo.csv', index=False, header=False)"
   ]
  },
  {
   "cell_type": "code",
   "execution_count": null,
   "id": "b8debf44-b46e-47f9-bb5c-c4b13b0eba08",
   "metadata": {},
   "outputs": [],
   "source": [
    "train_combo.shape, y_train_df.shape, test_combo.shape,y_test_df.shape"
   ]
  },
  {
   "cell_type": "markdown",
   "id": "1ed47226-e0d5-44d7-aa24-8bceaeaddf12",
   "metadata": {},
   "source": [
    "# Combo r = 2, SMOTE "
   ]
  },
  {
   "cell_type": "code",
   "execution_count": null,
   "id": "69ed5d81-8a3d-4f78-adc7-521b398d60e2",
   "metadata": {},
   "outputs": [],
   "source": [
    "oversample = SMOTE()\n",
    "trainX_allSMOTE, trainy_allSMOTE = oversample.fit_resample(X_train_allfeats, y_train)\n",
    "trainXdfcomboSMOTE = pd.DataFrame(trainX_allSMOTE)\n",
    "trainydfcomboSMOTE = pd.DataFrame(trainy_allSMOTE)\n",
    "test_x_comboSMOTE = pd.DataFrame(X_test_allfeats)\n",
    "\n",
    "# trainXdfcomboSMOTE.to_csv(split_path+'inhib_train_x_Morgan2comboSMOTE.csv', index=False, header=False)\n",
    "# trainydfcomboSMOTE.to_csv(split_path+'inhib_train_y_Morgan2comboSMOTE.csv', index=False, header=False)\n",
    "# y_test_df.to_csv(split_path+'inhib_test_y_Morgan2comboSMOTE.csv', index=False, header=False)\n",
    "# test_x_comboSMOTE.to_csv(split_path+'inhib_test_x_Morgan2comboSMOTE.csv', index=False, header=False)\n",
    "trainXdfcomboSMOTE.shape, trainydfcomboSMOTE.shape, test_x_comboSMOTE.shape, y_test.shape"
   ]
  },
  {
   "cell_type": "markdown",
   "id": "c800da2e-7d87-43e6-a4a0-e60d4d06065d",
   "metadata": {},
   "source": [
    "# Combo r=2, UNDER"
   ]
  },
  {
   "cell_type": "code",
   "execution_count": null,
   "id": "03cb9046-ca30-4c7d-b7af-be7f3e69b989",
   "metadata": {},
   "outputs": [],
   "source": [
    "undersampler = RandomUnderSampler()\n",
    "trainX_allUNDER, trainy_allUNDER = undersampler.fit_resample(X_train_allfeats, y_train) \n",
    "trainXallUNDERdf = pd.DataFrame(trainX_allUNDER)\n",
    "trainyallUNDERdf = pd.DataFrame(trainy_allUNDER)\n",
    "testxdf = pd.DataFrame(X_test_allfeats)\n",
    "testydf = pd.DataFrame(y_testmorgan) \n",
    "\n",
    "# trainXallUNDERdf.to_csv(split_path+'inhib_train_x_Morgan2comboUNDER.csv', index=False, header=False)\n",
    "# trainyallUNDERdf.to_csv(split_path+'inhib_train_y_Morgan2comboUNDER.csv', index=False, header=False)\n",
    "# testydf.to_csv(split_path+'inhib_test_y_Morgan2comboUNDER.csv', index=False, header=False)\n",
    "# testxdf.to_csv(split_path+'inhib_test_x_Morgan2comboUNDER.csv', index=False, header=False)\n",
    "\n",
    "trainXallUNDERdf.shape, trainyallUNDERdf.shape, testydf.shape, testxdf.shape"
   ]
  },
  {
   "cell_type": "markdown",
   "id": "c303c1ee-5486-4c85-833c-faac061c2011",
   "metadata": {},
   "source": [
    "# Combo r=2, ADASYN"
   ]
  },
  {
   "cell_type": "code",
   "execution_count": null,
   "id": "5c7d30de-cfa6-421f-8c0a-2082358325b2",
   "metadata": {},
   "outputs": [],
   "source": [
    "adasyn = ADASYN() \n",
    "trainX_allADASYN, trainy_allADASYN = adasyn.fit_resample(X_train_allfeats, y_train)\n",
    "trainXallADASYNdf = pd.DataFrame(trainX_allADASYN)\n",
    "trainyallADASYNdf = pd.DataFrame(trainy_allADASYN)\n",
    "testxdfADASYN = pd.DataFrame(X_test_allfeats)\n",
    "testydfADASYN = pd.DataFrame(y_testmorgan) \n",
    "\n",
    "# trainXallADASYNdf.to_csv(split_path+'inhib_train_x_Morgan2comboADASYN.csv', index=False, header=False)\n",
    "# trainyallADASYNdf.to_csv(split_path+'inhib_train_y_Morgan2comboADASYN.csv', index=False, header=False)\n",
    "# testxdfADASYN.to_csv(split_path+'inhib_test_y_Morgan2comboADASYN.csv', index=False, header=False)\n",
    "# testydfADASYN.to_csv(split_path+'inhib_test_x_Morgan2comboADASYN.csv', index=False, header=False)\n",
    "\n",
    "trainXallADASYNdf.shape, trainyallADASYNdf.shape, testxdfADASYN.shape, testydfADASYN.shape"
   ]
  }
 ],
 "metadata": {
  "kernelspec": {
   "display_name": "atomsci",
   "language": "python",
   "name": "atomsci"
  },
  "language_info": {
   "codemirror_mode": {
    "name": "ipython",
    "version": 3
   },
   "file_extension": ".py",
   "mimetype": "text/x-python",
   "name": "python",
   "nbconvert_exporter": "python",
   "pygments_lexer": "ipython3",
   "version": "3.9.12"
  }
 },
 "nbformat": 4,
 "nbformat_minor": 5
}
