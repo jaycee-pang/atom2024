{
 "cells": [
  {
   "cell_type": "code",
   "execution_count": 11,
   "id": "1acc54f6-db93-4148-90bc-a48ece504de2",
   "metadata": {},
   "outputs": [],
   "source": [
    "import math\n",
    "import torch\n",
    "import numpy as np\n",
    "import gpytorch\n",
    "import pandas as pd\n",
    "import seaborn as sns\n",
    "import os\n",
    "import pickle\n",
    "import matplotlib \n",
    "matplotlib.use('Agg')\n",
    "from matplotlib import pyplot as plt\n",
    "import sklearn\n",
    "from sklearn.model_selection import KFold\n",
    "\n",
    "%matplotlib inline\n",
    "# %load_ext autoreload\n",
    "# %autoreload 2\n",
    "%reload_ext autoreload\n",
    "import imblearn\n",
    "# print(\"imblearn version: \",imblearn.__version__)\n",
    "from imblearn.over_sampling import SMOTE, ADASYN\n",
    "from imblearn.under_sampling import RandomUnderSampler\n",
    "from sklearn.decomposition import PCA\n",
    "from sklearn.preprocessing import StandardScaler\n",
    "\n",
    "from sklearn.metrics import confusion_matrix\n",
    "import itertools\n",
    "\n",
    "from scipy.stats import randint\n",
    "from sklearn.model_selection import RandomizedSearchCV\n",
    "from sklearn.metrics import accuracy_score, precision_score, f1_score, roc_auc_score, roc_curve, precision_recall_curve, auc, recall_score\n",
    "\n",
    "from sklearn.ensemble import RandomForestClassifier\n",
    "from imblearn.ensemble import BalancedRandomForestClassifier\n",
    "from rdkit import Chem\n",
    "from rdkit.Chem import Draw\n",
    "import sys\n",
    "sys.path.append('../../')\n",
    "import utils\n",
    "from sklearn.model_selection import GridSearchCV\n",
    "from VisUtils import *\n",
    "from split_data import *\n",
    "from RF_GSCV import *\n",
    "\n"
   ]
  },
  {
   "cell_type": "code",
   "execution_count": 12,
   "id": "a5cc3cce-e8f5-4322-b351-1e8bc4930ebc",
   "metadata": {},
   "outputs": [
    {
     "data": {
      "text/plain": [
       "fold\n",
       "fold4    409\n",
       "fold1    409\n",
       "fold2    409\n",
       "fold3    409\n",
       "fold5    408\n",
       "Name: count, dtype: int64"
      ]
     },
     "execution_count": 12,
     "metadata": {},
     "output_type": "execute_result"
    }
   ],
   "source": [
    "datapath = '../../../../../data/datasets/'\n",
    "# capstone/data/datasets/NEK2_1_uM_min_50_pct_binding_with_moe_descriptors.csv\n",
    "binding_moe = pd.read_csv(datapath+'NEK2_1_uM_min_50_pct_inhibition_with_moe_descriptors.csv') \n",
    "all_folds = pd.read_csv(datapath+'NEK_data_4Berkeley/NEK2/NEK2_1_uM_min_50_pct_inhibition_5fold_random_imbalanced.csv')\n",
    "all_folds['fold'].value_counts()\n"
   ]
  },
  {
   "cell_type": "code",
   "execution_count": 5,
   "id": "77cc3510-ae95-4181-b6ca-672c67cda28a",
   "metadata": {
    "scrolled": true
   },
   "outputs": [],
   "source": [
    "smile_prop_df = pd.read_csv(datapath+'NEK_data_4Berkeley/NEK2/NEK2_1_uM_min_50_pct_inhibition_5fold_random_imbalanced.csv')\n",
    "# smile prop train will be normalized feats\n",
    "smile_prop_train = smile_prop_df[smile_prop_df['fold'] != 'fold1'].drop(columns=['fold'])\n",
    "smile_prop_test = smile_prop_df[smile_prop_df['fold'] == 'fold1'].drop(columns=['fold'])\n",
    "mol_train = []\n",
    "for i in smile_prop_train.index:\n",
    "    m = Chem.MolFromSmiles(smile_prop_train.loc[i, 'base_rdkit_smiles'])\n",
    "    if m:\n",
    "        m.SetProp(\"_Name\", smile_prop_train.loc[i, 'compound_id'])\n",
    "        m.SetProp(\"Active\", str(smile_prop_train.loc[i, 'active']))\n",
    "        mol_train.append(m)\n",
    "        # mol_train.append(utils.normalize(m)) # this causes an erro\n",
    "\n",
    "mol_test = []\n",
    "for i in smile_prop_test.index:\n",
    "    m = Chem.MolFromSmiles(smile_prop_test.loc[i, 'base_rdkit_smiles'])\n",
    "    if m:\n",
    "        m.SetProp(\"_Name\", smile_prop_test.loc[i, 'compound_id'])\n",
    "        m.SetProp(\"Active\", str(smile_prop_test.loc[i, 'active']))\n",
    "        # mol_test.append(utils.normalize(m)) # this causes an error with inhibition\n",
    "        mol_test.append(m)\n",
    "# normalized feats from smile_prop_train\n",
    "X_existing_train = smile_prop_train.drop(columns=['compound_id', 'base_rdkit_smiles', 'active'])\n",
    "X_existing_test = smile_prop_test.drop(columns=['compound_id', 'base_rdkit_smiles', 'active'])\n",
    "y_train = smile_prop_train['active']\n",
    "y_test = smile_prop_test['active']\n",
    "\n",
    "# generate fingeprints: Morgan fingerprint with radius 2\n",
    "fps = [Chem.AllChem.GetMorganFingerprintAsBitVect(m, 2) for m in mol_train]\n",
    "# convert the RDKit explicit vectors into numpy arrays\n",
    "X_morgan_train = []\n",
    "for fp in fps:\n",
    "  arr = np.zeros((1,))\n",
    "  Chem.DataStructs.ConvertToNumpyArray(fp, arr)\n",
    "  X_morgan_train.append(arr)\n",
    "\n",
    "# generate fingeprints: Morgan fingerprint with radius 2\n",
    "fps = [Chem.AllChem.GetMorganFingerprintAsBitVect(m, 2) for m in mol_test]\n",
    "# convert the RDKit explicit vectors into numpy arrays\n",
    "X_morgan_test = []\n",
    "for fp in fps:\n",
    "  arr = np.zeros((1,))\n",
    "  Chem.DataStructs.ConvertToNumpyArray(fp, arr)\n",
    "  X_morgan_test.append(arr)"
   ]
  },
  {
   "cell_type": "code",
   "execution_count": 6,
   "id": "a67215c3-3024-4c92-a482-75765ccb5f29",
   "metadata": {},
   "outputs": [
    {
     "name": "stdout",
     "output_type": "stream",
     "text": [
      "(1635, 306) (1635, 1) (409, 306) (409, 306)\n"
     ]
    }
   ],
   "source": [
    "bind_data_path = '../features/data/inhib/'\n",
    "trainX_norm = X_existing_train.to_numpy()\n",
    "# y_train = y_train.to_numpy().reshape(-1)\n",
    "testX_norm = X_existing_test.to_numpy()\n",
    "# y_test = y_test.to_numpy().reshape(-1)\n",
    "# we also scale the data\n",
    "\n",
    "# back to df for saving \n",
    "\n",
    "train_x_df = pd.DataFrame(trainX_norm) \n",
    "train_y_df = pd.DataFrame(y_train) \n",
    "test_y_df = pd.DataFrame(y_test)\n",
    "test_x_df = pd.DataFrame(testX_norm)\n",
    "\n",
    "# scale the data for consistency (this is what i did in the project)  using StandardScalar \n",
    "train_x_temp, train_y_temp, test_x_temp, test_y_temp = scale_data(train_x_df, train_y_df, test_x_df, test_y_df)\n",
    "\n",
    "train_x_df = pd.DataFrame(train_x_temp) \n",
    "train_y_df = pd.DataFrame(train_y_temp) \n",
    "test_y_df = pd.DataFrame(test_y_temp)\n",
    "test_x_df = pd.DataFrame(test_x_temp)\n",
    "\n",
    "train_x_df.to_csv(bind_data_path+'inhib_train_x_normalized.csv', index=False, header=False)\n",
    "train_y_df.to_csv(bind_data_path+'inhib_train_y_normalized.csv', index=False, header=False) \n",
    "test_y_df.to_csv(bind_data_path+'inhib_test_y_normalized.csv',index=False, header=False) \n",
    "test_x_df.to_csv(bind_data_path+'inhib_test_x_normalized.csv', index=False, header=False) \n",
    "print(train_x_df.shape, train_y_df.shape, test_x_df.shape, test_x_df.shape)"
   ]
  },
  {
   "cell_type": "code",
   "execution_count": 7,
   "id": "16b7b404-8cc9-47ab-8ea5-57aae139096f",
   "metadata": {},
   "outputs": [
    {
     "name": "stdout",
     "output_type": "stream",
     "text": [
      "(1635, 306) (1635,) (409, 306) (409,)\n"
     ]
    }
   ],
   "source": [
    "train_x = train_x_df.to_numpy()\n",
    "train_y = train_y_df.to_numpy().reshape(-1)\n",
    "test_x = test_x_df.to_numpy()\n",
    "test_y = test_y_df.to_numpy().reshape(-1)\n",
    "print(train_x.shape, train_y.shape, test_x.shape, test_y.shape)"
   ]
  },
  {
   "cell_type": "code",
   "execution_count": 8,
   "id": "55461593-1f74-4437-97f0-6df457eb45b1",
   "metadata": {},
   "outputs": [
    {
     "name": "stdout",
     "output_type": "stream",
     "text": [
      "(1635, 2048) (1635, 1) (409, 1) (409, 2048)\n"
     ]
    }
   ],
   "source": [
    "split_path ='../features/data/inhib/'\n",
    "X_morgan_train \n",
    "X_morgan_test = X_morgan_test\n",
    "y_trainmorgan = smile_prop_train['active']\n",
    "y_testmorgan = smile_prop_test['active']\n",
    "\n",
    "train_x_dfmorgan = pd.DataFrame(X_morgan_train) \n",
    "train_y_dfmorgan = pd.DataFrame(y_trainmorgan) \n",
    "test_y_dfmorgan = pd.DataFrame(y_testmorgan)\n",
    "test_x_dfmorgan = pd.DataFrame(X_morgan_test)\n",
    "\n",
    "train_x_dfmorgan.to_csv(split_path+'inhib_train_x_Morgan2.csv', index=False, header=False)\n",
    "train_y_dfmorgan.to_csv(split_path+'inhib_train_y_Morgan2.csv', index=False, header=False) \n",
    "test_y_dfmorgan.to_csv(split_path+'inhib_test_y_Morgan2.csv', index=False, header=False) \n",
    "test_x_dfmorgan.to_csv(split_path+'inhib_test_x_Morgan2.csv', index=False, header=False) \n",
    "print(train_x_dfmorgan.shape, train_y_dfmorgan.shape, test_y_dfmorgan.shape, test_x_dfmorgan.shape)"
   ]
  },
  {
   "cell_type": "code",
   "execution_count": 9,
   "id": "98760d7e-c955-432c-8e5e-6eda05fff2ee",
   "metadata": {},
   "outputs": [
    {
     "name": "stdout",
     "output_type": "stream",
     "text": [
      "(3046, 2048) (3046, 1) (409, 2048) (409, 2048)\n"
     ]
    }
   ],
   "source": [
    "oversample = SMOTE()\n",
    "trainX_Morgan_SMOTE, trainy_Morgan_SMOTE = oversample.fit_resample(X_morgan_train,train_y)\n",
    "train_x_dfmorganSMOTE = pd.DataFrame(trainX_Morgan_SMOTE) \n",
    "train_y_dfmorganSMOTE = pd.DataFrame(trainy_Morgan_SMOTE) \n",
    "test_y_dfmorganSMOTE = pd.DataFrame(y_testmorgan)\n",
    "test_x_dfmorganSMOTE = pd.DataFrame(X_morgan_test)\n",
    "\n",
    "train_x_dfmorganSMOTE.to_csv(split_path+'inhib_train_x_Morgan2SMOTE.csv', index=False, header=False)\n",
    "train_y_dfmorganSMOTE.to_csv(split_path+'inhib_train_y_Morgan2SMOTE.csv', index=False, header=False) \n",
    "test_y_dfmorganSMOTE.to_csv(split_path+'inhib_test_y_Morgan2SMOTE.csv', index=False, header=False) \n",
    "test_x_dfmorganSMOTE.to_csv(split_path+'inhib_test_x_Morgan2SMOTE.csv', index=False, header=False) \n",
    "print(train_x_dfmorganSMOTE.shape, train_y_dfmorganSMOTE.shape, test_x_dfmorganSMOTE.shape, test_x_dfmorganSMOTE.shape)"
   ]
  },
  {
   "cell_type": "code",
   "execution_count": 10,
   "id": "0c815f21-f81d-4e7b-a0e5-24442c37f39d",
   "metadata": {},
   "outputs": [
    {
     "name": "stdout",
     "output_type": "stream",
     "text": [
      "(90, 2048) (90, 1) (283, 2048) (283, 1)\n"
     ]
    }
   ],
   "source": [
    "undersample = RandomUnderSampler()\n",
    "train_x_Morgan_UNDER, train_y_Morgan_UNDER = undersample.fit_resample(X_morgan_train, train_y)\n",
    "\n",
    "train_x_dfMorganUNDER = pd.DataFrame(train_x_Morgan_UNDER) \n",
    "train_y_dfMorganUNDER = pd.DataFrame(train_y_Morgan_UNDER) \n",
    "test_y_dfMorganUnder = pd.DataFrame(y_testmorgan)\n",
    "test_x_dfMorganUnder = pd.DataFrame(X_morgan_test)\n",
    "\n",
    "train_x_dfMorganUNDER.to_csv(split_path+'inhib_train_x_Morgan2UNDER.csv', index=False, header=False)\n",
    "train_y_dfMorganUNDER.to_csv(split_path+'inhib_train_y_Morgan2UNDER.csv', index=False, header=False) \n",
    "test_y_dfMorganUnder.to_csv(split_path+'inhib_test_y_Morgan2UNDER.csv', index=False, header=False) \n",
    "test_x_dfMorganUnder.to_csv(split_path+'inhib_test_x_Morgan2UNDER.csv', index=False, header=False)\n",
    "print(train_x_dfMorganUNDER.shape, train_y_dfMorganUNDER.shape, test_x_dfMorganUnder.shape, test_y_dfMorganUnder.shape)"
   ]
  },
  {
   "cell_type": "code",
   "execution_count": 10,
   "id": "75d7c569-a104-462a-9fd2-4a93edb86644",
   "metadata": {},
   "outputs": [
    {
     "name": "stdout",
     "output_type": "stream",
     "text": [
      "(3050, 2048) (3050, 1) (409, 2048) (409, 1)\n"
     ]
    }
   ],
   "source": [
    "adasyn = ADASYN() \n",
    "train_x_MorganADASYN, train_y_MorganADASYN = adasyn.fit_resample(X_morgan_train, train_y)\n",
    "\n",
    "train_x_dfMorganADASYN = pd.DataFrame(train_x_MorganADASYN) \n",
    "train_y_dfMorganADASYN = pd.DataFrame(train_y_MorganADASYN) \n",
    "test_y_dfMorganADASYN = pd.DataFrame(y_testmorgan)\n",
    "test_x_dfMorganADASYN = pd.DataFrame(X_morgan_test)\n",
    "\n",
    "train_x_dfMorganADASYN.to_csv(split_path+'inhib_train_x_Morgan2ADASYN.csv', index=False, header=False)\n",
    "train_y_dfMorganADASYN.to_csv(split_path+'inhib_train_y_Morgan2ADASYN.csv', index=False, header=False) \n",
    "test_y_dfMorganADASYN.to_csv(split_path+'inhib_test_y_Morgan2ADASYN.csv', index=False, header=False) \n",
    "test_x_dfMorganADASYN.to_csv(split_path+'inhib_test_x_Morgan2ADASYN.csv', index=False, header=False) \n",
    "\n",
    "print(train_x_dfMorganADASYN.shape, train_y_dfMorganADASYN.shape, test_x_dfMorganADASYN.shape, test_y_dfMorganADASYN.shape)"
   ]
  },
  {
   "cell_type": "code",
   "execution_count": null,
   "id": "e153b33b-847b-44a9-9994-d55ea2fc6198",
   "metadata": {},
   "outputs": [],
   "source": []
  }
 ],
 "metadata": {
  "kernelspec": {
   "display_name": "atomsci",
   "language": "python",
   "name": "atomsci"
  },
  "language_info": {
   "codemirror_mode": {
    "name": "ipython",
    "version": 3
   },
   "file_extension": ".py",
   "mimetype": "text/x-python",
   "name": "python",
   "nbconvert_exporter": "python",
   "pygments_lexer": "ipython3",
   "version": "3.9.12"
  }
 },
 "nbformat": 4,
 "nbformat_minor": 5
}
