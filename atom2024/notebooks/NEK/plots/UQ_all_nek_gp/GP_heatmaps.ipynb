{
 "cells": [
  {
   "cell_type": "code",
   "execution_count": 1,
   "id": "a6ac329e-b837-45f2-b392-bf28badb92d9",
   "metadata": {},
   "outputs": [],
   "source": [
    "import math\n",
    "import torch\n",
    "import numpy as np\n",
    "import pandas as pd\n",
    "import seaborn as sns\n",
    "import os\n",
    "\n",
    "import shutil\n",
    "import sklearn\n",
    "from sklearn.metrics import confusion_matrix\n",
    "import itertools\n",
    "from sklearn.metrics import precision_score, recall_score, roc_auc_score, matthews_corrcoef, balanced_accuracy_score, confusion_matrix, f1_score, roc_curve,precision_recall_curve, auc\n",
    "\n",
    "import sys\n",
    "sys.path.append('../../')\n",
    "from RF_atomver import * \n",
    "from VisUtils import * "
   ]
  },
  {
   "cell_type": "code",
   "execution_count": null,
   "id": "9e6528a1-03cc-4bdf-ab9c-1cfd6118ff80",
   "metadata": {},
   "outputs": [],
   "source": [
    "result_path = '/Users/jayceepang/msse/capstone/atom2024/atom2024/notebooks/NEK/GP/GP_results/'\n"
   ]
  },
  {
   "cell_type": "code",
   "execution_count": 2,
   "id": "9b0a27e3-32a4-439d-975f-8075be218a3f",
   "metadata": {},
   "outputs": [
    {
     "data": {
      "text/plain": [
       "48"
      ]
     },
     "execution_count": 2,
     "metadata": {},
     "output_type": "execute_result"
    }
   ],
   "source": [
    "datasets = 6 \n",
    "feats = 2 \n",
    "samp = 4 \n",
    "6*4*2"
   ]
  },
  {
   "cell_type": "code",
   "execution_count": 8,
   "id": "38a8e68a-6a69-415e-8e78-e245ffca42ea",
   "metadata": {},
   "outputs": [
    {
     "data": {
      "text/plain": [
       "32"
      ]
     },
     "execution_count": 8,
     "metadata": {},
     "output_type": "execute_result"
    }
   ],
   "source": [
    "moe = 6 \n",
    "tie = 8\n",
    "mfp = 10\n",
    "48 - (6+10)"
   ]
  },
  {
   "cell_type": "code",
   "execution_count": 4,
   "id": "dfd47889-f362-4fe2-9287-348e701d090c",
   "metadata": {},
   "outputs": [
    {
     "data": {
      "text/plain": [
       "24.0"
      ]
     },
     "execution_count": 4,
     "metadata": {},
     "output_type": "execute_result"
    }
   ],
   "source": [
    "48/2 \n",
    "# =  24 possible GP models, MFP is winner for 8, "
   ]
  },
  {
   "cell_type": "code",
   "execution_count": 9,
   "id": "9a10b079-132b-4cac-a9c5-cf185fab358a",
   "metadata": {},
   "outputs": [
    {
     "data": {
      "text/plain": [
       "8"
      ]
     },
     "execution_count": 9,
     "metadata": {},
     "output_type": "execute_result"
    }
   ],
   "source": [
    "24-16"
   ]
  },
  {
   "cell_type": "code",
   "execution_count": 6,
   "id": "5fa35786-9ac1-41d2-b0a4-0bbb27370e5e",
   "metadata": {},
   "outputs": [
    {
     "data": {
      "text/plain": [
       "22"
      ]
     },
     "execution_count": 6,
     "metadata": {},
     "output_type": "execute_result"
    }
   ],
   "source": []
  },
  {
   "cell_type": "code",
   "execution_count": null,
   "id": "30772c44-ffef-4efd-8c1b-6e3179ea89da",
   "metadata": {},
   "outputs": [],
   "source": []
  }
 ],
 "metadata": {
  "kernelspec": {
   "display_name": "atom2024",
   "language": "python",
   "name": "atom2024"
  },
  "language_info": {
   "codemirror_mode": {
    "name": "ipython",
    "version": 3
   },
   "file_extension": ".py",
   "mimetype": "text/x-python",
   "name": "python",
   "nbconvert_exporter": "python",
   "pygments_lexer": "ipython3",
   "version": "3.9.12"
  }
 },
 "nbformat": 4,
 "nbformat_minor": 5
}
