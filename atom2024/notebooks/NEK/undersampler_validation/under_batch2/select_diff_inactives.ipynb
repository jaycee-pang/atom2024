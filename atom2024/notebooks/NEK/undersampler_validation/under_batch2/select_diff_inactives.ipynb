{
 "cells": [
  {
   "cell_type": "code",
   "execution_count": 18,
   "id": "2c33aefa-d42c-4114-8dc7-f82e44e2be03",
   "metadata": {},
   "outputs": [],
   "source": [
    "import numpy as np\n",
    "import pandas as pd\n",
    "import seaborn as sns\n",
    "import matplotlib.pyplot as plt\n",
    "\n",
    "from sklearn.metrics import accuracy_score, balanced_accuracy_score,precision_score, f1_score, roc_auc_score, roc_curve, precision_recall_curve, auc, recall_score, confusion_matrix,matthews_corrcoef\n",
    "import sys \n",
    "import pickle\n",
    "\n",
    "from imblearn.under_sampling import RandomUnderSampler\n",
    "sys.path.append('/Users/jayceepang/msse/capstone/atom2024/atom2024/notebooks/')\n",
    "from RF_atomver import *\n",
    "from VisUtils import *"
   ]
  },
  {
   "cell_type": "markdown",
   "id": "5e2f481f-339f-438e-9027-9996e77eb567",
   "metadata": {},
   "source": [
    "- 1. keep same test and keep same actives as UNDER train\n",
    "- 2. select NEW inactives for train "
   ]
  },
  {
   "cell_type": "code",
   "execution_count": 21,
   "id": "04f2e3da-a535-4713-8f7a-3becb51ce25b",
   "metadata": {
    "scrolled": true
   },
   "outputs": [
    {
     "name": "stdout",
     "output_type": "stream",
     "text": [
      "\n",
      "NEK2 binding moe\n",
      "(373, 311)\n",
      "\n",
      "NEK2 binding mfp\n",
      "(373, 2053)\n",
      "\n",
      "NEK2 inhibition moe\n",
      "(632, 311)\n",
      "\n",
      "NEK2 inhibition mfp\n",
      "(632, 2053)\n",
      "\n",
      "NEK3 binding moe\n",
      "(410, 311)\n",
      "\n",
      "NEK3 binding mfp\n",
      "(410, 2053)\n",
      "\n",
      "NEK5 binding moe\n",
      "(402, 311)\n",
      "\n",
      "NEK5 binding mfp\n",
      "(402, 2053)\n",
      "\n",
      "NEK9 binding moe\n",
      "(379, 311)\n",
      "\n",
      "NEK9 binding mfp\n",
      "(379, 2053)\n",
      "\n",
      "NEK9 inhibition moe\n",
      "(146, 311)\n",
      "\n",
      "NEK9 inhibition mfp\n",
      "(146, 2053)\n"
     ]
    }
   ],
   "source": [
    "data_dir = '/Users/jayceepang/msse/capstone/atom2024/atom2024/notebooks/NEK/'\n",
    "save_dir = '/Users/jayceepang/msse/capstone/atom2024/atom2024/notebooks/NEK/undersampler_validation/batch2_UNDER/'\n",
    "neks = ['2','3','5','9']\n",
    "for i, nek in enumerate(neks):\n",
    "    if nek in ['2','9']: \n",
    "        bind_inhib = ['binding', 'inhibition']\n",
    "    else: \n",
    "        bind_inhib = ['binding'] \n",
    "    for bi in bind_inhib: \n",
    "        if bi == 'binding': \n",
    "            this_bi = 'bind'\n",
    "        else: \n",
    "            this_bi = 'inhib' \n",
    "        for feat in ['moe', 'mfp']: \n",
    "            data_dir = f'/Users/jayceepang/msse/capstone/atom2024/atom2024/notebooks/NEK/NEK{nek}/{this_bi}/'\n",
    "            og_full =  pd.read_csv(f'{data_dir}NEK{nek}_{bi}_{feat}_scaled_df.csv')\n",
    "            under = pd.read_csv(f'{data_dir}NEK{nek}_{bi}_{feat}_UNDER_df.csv')\n",
    "            print(f'\\nNEK{nek} {bi} {feat}')\n",
    "\n",
    "            og_train = og_full[og_full['subset']=='train'] \n",
    "            under_train = under[under['subset'] == 'train'] \n",
    "            \n",
    "            under_actives = under_train[under_train['active']==1] \n",
    "            num_actives = under_actives.shape[0] \n",
    "            \n",
    "            train_inactive = og_train[og_train['active']==0] \n",
    "            under_inactive = under_train[under_train['active']==0] \n",
    "            test = under[under['subset'] == 'test'] \n",
    "            \n",
    "            \n",
    "            inactive_not_in_UNDERtrain = train_inactive[~train_inactive['base_rdkit_smiles'].isin(under_inactive['base_rdkit_smiles'])]\n",
    "            new_inactives = inactive_not_in_UNDERtrain.iloc[:num_actives] \n",
    "            new_under_df = pd.concat([under_actives, new_inactives, test])\n",
    "            # display(new_under_df) \n",
    "            print(new_under_df.shape)\n",
    "            \n",
    "            new_under_df.to_csv(f'NEK{nek}_{bi}_{feat}_UNDER_batch2.csv', index=False)\n"
   ]
  },
  {
   "cell_type": "code",
   "execution_count": 12,
   "id": "672f6248-fc51-414e-a14a-2f9c6e5fbaf6",
   "metadata": {},
   "outputs": [
    {
     "data": {
      "text/plain": [
       "410"
      ]
     },
     "execution_count": 12,
     "metadata": {},
     "output_type": "execute_result"
    }
   ],
   "source": [
    "282+128"
   ]
  },
  {
   "cell_type": "code",
   "execution_count": 13,
   "id": "b40e2d62-aa5c-4e96-9c3e-610e7f0a3da2",
   "metadata": {},
   "outputs": [
    {
     "data": {
      "text/plain": [
       "402"
      ]
     },
     "execution_count": 13,
     "metadata": {},
     "output_type": "execute_result"
    }
   ],
   "source": [
    "248+154"
   ]
  },
  {
   "cell_type": "code",
   "execution_count": 14,
   "id": "5f96766f-9f8c-4e91-996f-3cbde8eea4d4",
   "metadata": {},
   "outputs": [
    {
     "data": {
      "text/plain": [
       "379"
      ]
     },
     "execution_count": 14,
     "metadata": {},
     "output_type": "execute_result"
    }
   ],
   "source": [
    "283+96"
   ]
  },
  {
   "cell_type": "code",
   "execution_count": 15,
   "id": "5d91a3ba-ac5e-4385-b682-33277ee62830",
   "metadata": {},
   "outputs": [
    {
     "data": {
      "text/plain": [
       "146"
      ]
     },
     "execution_count": 15,
     "metadata": {},
     "output_type": "execute_result"
    }
   ],
   "source": [
    "80+66"
   ]
  },
  {
   "cell_type": "code",
   "execution_count": null,
   "id": "95f53110-23b0-44ef-9b98-cd0a15d510a1",
   "metadata": {},
   "outputs": [],
   "source": []
  }
 ],
 "metadata": {
  "kernelspec": {
   "display_name": "atom2024",
   "language": "python",
   "name": "atom2024"
  },
  "language_info": {
   "codemirror_mode": {
    "name": "ipython",
    "version": 3
   },
   "file_extension": ".py",
   "mimetype": "text/x-python",
   "name": "python",
   "nbconvert_exporter": "python",
   "pygments_lexer": "ipython3",
   "version": "3.9.12"
  }
 },
 "nbformat": 4,
 "nbformat_minor": 5
}
