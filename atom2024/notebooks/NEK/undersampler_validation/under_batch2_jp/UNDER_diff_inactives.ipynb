{
 "cells": [
  {
   "cell_type": "code",
   "execution_count": 1,
   "id": "11347e91-5764-498e-ac31-d8eff1cc1a23",
   "metadata": {},
   "outputs": [],
   "source": [
    "import numpy as np\n",
    "import pandas as pd\n",
    "import seaborn as sns\n",
    "import matplotlib.pyplot as plt\n",
    "\n",
    "from sklearn.metrics import accuracy_score, balanced_accuracy_score,precision_score, f1_score, roc_auc_score, roc_curve, precision_recall_curve, auc, recall_score, confusion_matrix,matthews_corrcoef\n",
    "import sys \n",
    "import pickle\n",
    "\n",
    "from imblearn.under_sampling import RandomUnderSampler\n",
    "sys.path.append('/Users/jayceepang/msse/capstone/atom2024/atom2024/notebooks/')\n",
    "from RF_atomver import *\n",
    "from VisUtils import *"
   ]
  },
  {
   "cell_type": "code",
   "execution_count": 8,
   "id": "da49d6bd-3d1a-4456-99df-3777bc2b1826",
   "metadata": {},
   "outputs": [
    {
     "name": "stdout",
     "output_type": "stream",
     "text": [
      "NEK2 binding moe\n",
      "new df: (373, 311), actives: (45, 311), inactives: (45, 311)\n",
      "NEK2 binding mfp\n",
      "new df: (373, 2053), actives: (45, 2053), inactives: (45, 2053)\n",
      "NEK2 inhibition moe\n",
      "new df: (632, 311), actives: (112, 311), inactives: (112, 311)\n",
      "NEK2 inhibition mfp\n",
      "new df: (632, 2053), actives: (112, 2053), inactives: (112, 2053)\n",
      "NEK3 binding moe\n",
      "new df: (410, 311), actives: (64, 311), inactives: (64, 311)\n",
      "NEK3 binding mfp\n",
      "new df: (410, 2053), actives: (64, 2053), inactives: (64, 2053)\n",
      "NEK5 binding moe\n",
      "new df: (402, 311), actives: (77, 311), inactives: (77, 311)\n",
      "NEK5 binding mfp\n",
      "new df: (402, 2053), actives: (77, 2053), inactives: (77, 2053)\n",
      "NEK9 binding moe\n",
      "new df: (379, 311), actives: (48, 311), inactives: (48, 311)\n",
      "NEK9 binding mfp\n",
      "new df: (379, 2053), actives: (48, 2053), inactives: (48, 2053)\n",
      "NEK9 inhibition moe\n",
      "new df: (146, 311), actives: (33, 311), inactives: (33, 311)\n",
      "NEK9 inhibition mfp\n",
      "new df: (146, 2053), actives: (33, 2053), inactives: (33, 2053)\n"
     ]
    }
   ],
   "source": [
    "drop_cols = ['subset', 'compound_id', 'base_rdkit_smiles', 'fold', 'active'] \n",
    "this_dir='/Users/jayceepang/msse/capstone/atom2024/atom2024/notebooks/NEK/undersampler_validation/under_batch2_jp/'\n",
    "RF_type = 'RF'\n",
    "neks = ['2','3','5','9']\n",
    "for i, nek in enumerate(neks):\n",
    "    if nek in ['2','9']: \n",
    "        bind_inhib = ['binding', 'inhibition']\n",
    "    else: \n",
    "        bind_inhib = ['binding'] \n",
    "    for bi in bind_inhib: \n",
    "        if bi == 'binding': \n",
    "            this_bi = 'bind'\n",
    "        else: \n",
    "            this_bi = 'inhib' \n",
    "        for feat in ['moe', 'mfp']:\n",
    "            print(f'NEK{nek} {bi} {feat}')\n",
    "            reg_dir = f'/Users/jayceepang/msse/capstone/atom2024/atom2024/notebooks/NEK/NEK{nek}/{this_bi}/'\n",
    "            og_df = pd.read_csv(f'{reg_dir}NEK{nek}_{bi}_{feat}_scaled_df.csv')\n",
    "            og_train = og_df[og_df['subset'] == 'train']\n",
    "            under_df = pd.read_csv(f'{reg_dir}NEK{nek}_{bi}_{feat}_UNDER_df.csv')\n",
    "            \n",
    "            train=under_df[under_df['subset']=='train'] \n",
    "            inactives_in_under = train[train['active'] ==0] \n",
    "            test= under_df[under_df['subset']=='test']\n",
    "            actives = train[train['active']==1] \n",
    "            \n",
    "\n",
    "            og_inactives = og_train[og_train['active'] == 0] \n",
    "            remaining_inactives = og_inactives[~og_inactives['base_rdkit_smiles'].isin(inactives_in_under['base_rdkit_smiles'])]        \n",
    "             \n",
    "            new_inactives = remaining_inactives.sample(n=len(inactives_in_under), random_state=42)\n",
    "            new_train_under_df = pd.concat([actives,new_inactives, test]).reset_index(drop=True)\n",
    "            \n",
    "            new_train_under_df.to_csv(f'{this_dir}NEK{nek}_{bi}_{feat}_UNDER_batch2.csv', index=False)\n",
    "            print(f'new df: {new_train_under_df.shape}, actives: {actives.shape}, inactives: {new_inactives.shape}')\n"
   ]
  },
  {
   "cell_type": "code",
   "execution_count": null,
   "id": "994643c9-c3a0-414c-a99b-a2cbd77f141c",
   "metadata": {},
   "outputs": [],
   "source": []
  }
 ],
 "metadata": {
  "kernelspec": {
   "display_name": "atom2024",
   "language": "python",
   "name": "atom2024"
  },
  "language_info": {
   "codemirror_mode": {
    "name": "ipython",
    "version": 3
   },
   "file_extension": ".py",
   "mimetype": "text/x-python",
   "name": "python",
   "nbconvert_exporter": "python",
   "pygments_lexer": "ipython3",
   "version": "3.9.12"
  }
 },
 "nbformat": 4,
 "nbformat_minor": 5
}
