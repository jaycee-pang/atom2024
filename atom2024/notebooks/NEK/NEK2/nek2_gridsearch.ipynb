{
 "cells": [
  {
   "cell_type": "code",
   "execution_count": 12,
   "id": "0eb354b4-ef04-414a-89a2-dbc19181b770",
   "metadata": {},
   "outputs": [
    {
     "name": "stdout",
     "output_type": "stream",
     "text": [
      "The autoreload extension is already loaded. To reload it, use:\n",
      "  %reload_ext autoreload\n"
     ]
    }
   ],
   "source": [
    "import math\n",
    "import torch\n",
    "import numpy as np\n",
    "import pandas as pd\n",
    "import seaborn as sns\n",
    "import os\n",
    "import pickle\n",
    "import matplotlib \n",
    "matplotlib.use('Agg')\n",
    "from matplotlib import pyplot as plt\n",
    "import sklearn\n",
    "from sklearn.model_selection import KFold\n",
    "\n",
    "%matplotlib inline\n",
    "%load_ext autoreload\n",
    "%autoreload 2\n",
    "%reload_ext autoreload\n",
    "import imblearn as imb\n",
    "\n",
    "from sklearn.metrics import confusion_matrix\n",
    "import itertools\n",
    "\n",
    "from scipy.stats import randint\n",
    "from sklearn.model_selection import RandomizedSearchCV\n",
    "from sklearn.metrics import accuracy_score, precision_score, f1_score, roc_auc_score, roc_curve, precision_recall_curve, auc, recall_score, confusion_matrix\n",
    "\n",
    "from sklearn.ensemble import RandomForestClassifier\n",
    "from imblearn.ensemble import BalancedRandomForestClassifier\n",
    "\n",
    "import sys\n",
    "sys.path.append('../../')\n",
    "# import utils\n",
    "from sklearn.model_selection import GridSearchCV\n",
    "\n",
    "from split_data import *\n",
    "\n",
    "from RF_atomver import *"
   ]
  },
  {
   "cell_type": "code",
   "execution_count": 13,
   "id": "0bf7c146-d052-4bf1-b47c-3ac38a0b92ef",
   "metadata": {},
   "outputs": [],
   "source": [
    "def get_arrays(file_path, df_filename, filename_type=None, save=False):\n",
    "    \"\"\"use dataframes to get trainX, trainy, testX, testy out. Optional: save those files to csv\n",
    "    file_path: directory\n",
    "    df_filename: dataframe NEK#_binding_moe_{sampling}_df.csv (sampling: scaled, UNDER, SMOTE, ADASYN)\n",
    "    split dataframe to train and test, and x and y\n",
    "    save: bool, option to save splits to separate csv files (train X, train y, test X, test y) \n",
    "    returns: numpy arrays train X, train y, testX, test y\"\"\"\n",
    "    df = pd.read_csv(file_path+df_filename)\n",
    "    train_df= df[df['subset']=='train']\n",
    "    test_df = df[df['subset']=='test']\n",
    "    train_y = train_df['active'].to_numpy().reshape(-1)\n",
    "    test_y=test_df['active'].to_numpy().reshape(-1)\n",
    "    train_x_df = train_df.drop(columns='active')\n",
    "\n",
    "  \n",
    "    test_x_df = test_df.drop(columns='active')\n",
    "    \n",
    "    train_x_df = train_df.drop(columns='active')\n",
    "    test_x_df = test_df.drop(columns='active')\n",
    "    trainX = train_x_df.select_dtypes(include='number').to_numpy()\n",
    "    testX = test_x_df.select_dtypes(include='number').to_numpy()\n",
    "    \n",
    "    print(f'train X shape: {trainX.shape}, y: {train_y.shape}, test X: {testX.shape}, y:{test_y.shape}')\n",
    "    if (save and filename_type is not None): \n",
    "        trainxdf = pd.DataFrame(trainX)\n",
    "        trainxdf.to_csv(file_path+filename_type+'_trainX.csv', index=False)\n",
    "        # train_x_df.to_csv(filename_type+'_trainX.csv', index=False)\n",
    "        trainy_df = pd.DataFrame(train_y)\n",
    "        trainy_df.to_csv(file_path+filename_type+'_train_y.csv', index=False) \n",
    "        # test_x_df.to_csv(filename_type+'_testX.csv', index=False)\n",
    "        testxdf = pd.DataFrame(testX)\n",
    "        testxdf.to_csv(file_path+filename_type+'_testX.csv', index=False)\n",
    "        testy_df = pd.DataFrame(test_y)\n",
    "        testy_df.to_csv(file_path+filename_type+'_test_y.csv', index=False) \n",
    "        \n",
    "    return trainX, train_y, testX, test_y"
   ]
  },
  {
   "cell_type": "code",
   "execution_count": 14,
   "id": "a2a094be-a849-4550-beea-04aaa2def77d",
   "metadata": {},
   "outputs": [
    {
     "name": "stdout",
     "output_type": "stream",
     "text": [
      "train X shape: (1125, 306), y: (1125,), test X: (283, 306), y:(283,)\n"
     ]
    }
   ],
   "source": [
    "trainX, trainy, testX, testy = get_arrays('/Users/jayceepang/msse/capstone/atom2024/atom2024/notebooks/NEK/NEK2/bind/','NEK2_binding_moe_scaled_df.csv')"
   ]
  },
  {
   "cell_type": "code",
   "execution_count": 18,
   "id": "8571fdc9-dbab-4572-af1e-c3a4089c809b",
   "metadata": {},
   "outputs": [],
   "source": [
    "parameters = {}\n",
    "param_dist = {\n",
    "    'n_estimators': np.linspace(100, 2000, 5, dtype = int),\n",
    "    'max_depth': [20, 100, 200, 220],\n",
    "    'min_samples_split': [2, 3,4,5 ],\n",
    "    'min_samples_leaf': [2, 3, 4, 5],\n",
    "    'criterion': ['gini','entropy']\n",
    "}"
   ]
  },
  {
   "cell_type": "code",
   "execution_count": null,
   "id": "1dffeacd-870d-47f5-8610-b7969120e54b",
   "metadata": {
    "scrolled": true
   },
   "outputs": [
    {
     "name": "stdout",
     "output_type": "stream",
     "text": [
      "Fitting 5 folds for each of 640 candidates, totalling 3200 fits\n"
     ]
    }
   ],
   "source": [
    "scaled_moe_bind = find_best_models(trainX, trainy, testX, testy, 'RF', parameters, param_dist,  verbose_val=2) # start June 12 12:22 pm"
   ]
  },
  {
   "cell_type": "code",
   "execution_count": 17,
   "id": "65e52ee8-5225-436d-b05a-0a78c622ea12",
   "metadata": {},
   "outputs": [
    {
     "name": "stdout",
     "output_type": "stream",
     "text": [
      "train X shape: (1125, 2048), y: (1125,), test X: (283, 2048), y:(283,)\n"
     ]
    }
   ],
   "source": [
    "trainX_mfp, trainy_mfp, testX_mfp, testy_mfp = get_arrays('/Users/jayceepang/msse/capstone/atom2024/atom2024/notebooks/NEK/NEK2/bind/','NEK2_binding_mfp_scaled_df.csv')"
   ]
  },
  {
   "cell_type": "code",
   "execution_count": null,
   "id": "69503f33-73ec-4195-9e57-0116106ff881",
   "metadata": {},
   "outputs": [],
   "source": []
  }
 ],
 "metadata": {
  "kernelspec": {
   "display_name": "atom2024",
   "language": "python",
   "name": "atom2024"
  },
  "language_info": {
   "codemirror_mode": {
    "name": "ipython",
    "version": 3
   },
   "file_extension": ".py",
   "mimetype": "text/x-python",
   "name": "python",
   "nbconvert_exporter": "python",
   "pygments_lexer": "ipython3",
   "version": "3.9.12"
  }
 },
 "nbformat": 4,
 "nbformat_minor": 5
}
