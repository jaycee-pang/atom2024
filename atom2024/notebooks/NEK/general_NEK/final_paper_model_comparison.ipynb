{
 "cells": [
  {
   "cell_type": "code",
   "execution_count": 1,
   "id": "73a89c56-726a-42f4-b3e9-ef3ae4f35f6f",
   "metadata": {},
   "outputs": [],
   "source": [
    "from matplotlib import pyplot as plt\n",
    "from sklearn.metrics import accuracy_score, precision_score, f1_score, roc_auc_score, roc_curve, precision_recall_curve, auc, recall_score, confusion_matrix\n",
    "import sys \n",
    "sys.path.append('/Users/jayceepang/msse/capstone/atom2024/atom2024/notebooks/')\n",
    "from RF_atomver import *\n",
    "import pandas as pd\n",
    "import numpy as np\n",
    "\n",
    "import seaborn as sns\n",
    "import matplotlib.pyplot as plt\n",
    "from sklearn.ensemble import RandomForestClassifier, GradientBoostingClassifier\n",
    "from sklearn.model_selection import train_test_split\n",
    "from imblearn.over_sampling import SMOTE, ADASYN\n",
    "from imblearn.under_sampling import RandomUnderSampler, NearMiss, TomekLinks, ClusterCentroids\n",
    "from imblearn.ensemble import EasyEnsembleClassifier, BalancedBaggingClassifier\n",
    "from imblearn.pipeline import Pipeline\n",
    "from sklearn.metrics import precision_score, recall_score, roc_auc_score, matthews_corrcoef, balanced_accuracy_score, confusion_matrix\n",
    "from sklearn.datasets import make_classification"
   ]
  },
  {
   "cell_type": "code",
   "execution_count": null,
   "id": "dce9bbe9-3233-4c66-90d1-d71ffb42ac88",
   "metadata": {},
   "outputs": [],
   "source": [
    "# GP: GP matern \n",
    "# RF: just RF, not Grid search \n",
    "# let's remove literautre sets \n",
    "# call this file: final_paper_results (keep smote and adasyn) "
   ]
  },
  {
   "cell_type": "code",
   "execution_count": 34,
   "id": "eeed5304-1bf9-40a0-a82c-36ba2a447d58",
   "metadata": {},
   "outputs": [
    {
     "data": {
      "text/plain": [
       "Index(['model', 'NEK', 'strategy', 'feat_type', 'cm', 'prediction_type',\n",
       "       'recall', 'ROC-AUC', 'MCC', 'Balanced Accuracy', 'f1', 'accuracy',\n",
       "       'precision', 'specificity', 'TN', 'FN', 'FP', 'TP'],\n",
       "      dtype='object')"
      ]
     },
     "execution_count": 34,
     "metadata": {},
     "output_type": "execute_result"
    }
   ],
   "source": [
    "# GP matern\n",
    "matern_path = '/Users/jayceepang/msse/capstone/atom2024/atom2024/notebooks/NEK/GP/GP_matern_kernel/'\n",
    "gp_matern = pd.read_csv(matern_path+'GP_maternkern_test_results.csv')\n",
    "gp_matern.columns"
   ]
  },
  {
   "cell_type": "code",
   "execution_count": 40,
   "id": "1c82cab4-96f2-4cd6-8aac-b8b7b5e65687",
   "metadata": {},
   "outputs": [],
   "source": [
    "# RF \n",
    "RF_path= '/Users/jayceepang/msse/capstone/atom2024/atom2024/notebooks/NEK/RF/RF_results/'\n",
    "og_RF = pd.read_csv(RF_path+'RF_test_results_all_NEK.csv')\n",
    "gp_matern['set'] = 'original' \n",
    "og_RF['set'] = 'original' \n",
    "gp_matern['modeling_type'] = 'GP_matern' \n",
    "gp_matern['RF_type'] = 'N/A' \n",
    "og_RF['modeling_type'] = 'RF' \n",
    "validation = '/Users/jayceepang/msse/capstone/atom2024/atom2024/notebooks/NEK/undersampler_validation/idea5_dir/'\n",
    "\n",
    "folds = pd.read_csv(f'{validation}RF_results_all_folds.csv')\n",
    "folds['set'] = folds['train_fold'] \n",
    "folds=folds.drop(columns=['train_fold'])\n",
    "folds['model']=folds['NEK'].astype(str)+'_'+folds['feat_type']+'_'+folds['strategy']+'_'+folds['RF_type'] \n",
    "final_paper_model = pd.concat([gp_matern, og_RF, folds])\n",
    "\n",
    "final_paper_model = final_paper_model.replace('scaled', 'raw')\n",
    "\n",
    "\n",
    "final_paper_model.to_csv('/Users/jayceepang/msse/capstone/atom2024/atom2024/notebooks/NEK/general_NEK/final_paper_models.csv',index=False)\n",
    "final_paper_model.to_excel('/Users/jayceepang/msse/capstone/atom2024/atom2024/notebooks/NEK/general_NEK/final_paper_models.xlsx',index=False)"
   ]
  },
  {
   "cell_type": "code",
   "execution_count": 39,
   "id": "d6415b13-8de0-42c0-8145-507b0b4c06ee",
   "metadata": {},
   "outputs": [
    {
     "data": {
      "text/plain": [
       "Index(['accuracy', 'precision', 'recall', 'specificity', 'TN', 'FN', 'FP',\n",
       "       'TP', 'f1', 'ROC-AUC', 'MCC', 'Balanced Accuracy', 'model', 'cm',\n",
       "       'prediction_type', 'NEK', 'feat_type', 'strategy', 'RF_type',\n",
       "       'modeling_type', 'set'],\n",
       "      dtype='object')"
      ]
     },
     "execution_count": 39,
     "metadata": {},
     "output_type": "execute_result"
    }
   ],
   "source": [
    "folds.columns"
   ]
  },
  {
   "cell_type": "code",
   "execution_count": 17,
   "id": "61bf8f22-21ea-4619-80ce-b95e1bb100ba",
   "metadata": {},
   "outputs": [
    {
     "data": {
      "text/plain": [
       "(420, 22)"
      ]
     },
     "execution_count": 17,
     "metadata": {},
     "output_type": "execute_result"
    }
   ],
   "source": [
    "final_paper_model.shape"
   ]
  },
  {
   "cell_type": "code",
   "execution_count": 18,
   "id": "28595e68-e5e8-4f8d-a9ff-289531d69740",
   "metadata": {},
   "outputs": [
    {
     "data": {
      "text/plain": [
       "180"
      ]
     },
     "execution_count": 18,
     "metadata": {},
     "output_type": "execute_result"
    }
   ],
   "source": [
    "240 # (original) \n",
    "180 \n",
    "420"
   ]
  },
  {
   "cell_type": "code",
   "execution_count": 19,
   "id": "cb7ba397-1781-44fc-86de-20712a9c2225",
   "metadata": {},
   "outputs": [
    {
     "data": {
      "text/plain": [
       "180"
      ]
     },
     "execution_count": 19,
     "metadata": {},
     "output_type": "execute_result"
    }
   ],
   "source": [
    "15*6*2"
   ]
  },
  {
   "cell_type": "code",
   "execution_count": 20,
   "id": "ecdc083f-808c-4c2a-8db8-0947cdf20b03",
   "metadata": {},
   "outputs": [
    {
     "data": {
      "text/plain": [
       "420"
      ]
     },
     "execution_count": 20,
     "metadata": {},
     "output_type": "execute_result"
    }
   ],
   "source": [
    "180+240"
   ]
  },
  {
   "cell_type": "code",
   "execution_count": 32,
   "id": "f0271aa4-e15d-48c6-a8b6-2a1880a1d47e",
   "metadata": {},
   "outputs": [
    {
     "data": {
      "text/html": [
       "<div>\n",
       "<style scoped>\n",
       "    .dataframe tbody tr th:only-of-type {\n",
       "        vertical-align: middle;\n",
       "    }\n",
       "\n",
       "    .dataframe tbody tr th {\n",
       "        vertical-align: top;\n",
       "    }\n",
       "\n",
       "    .dataframe thead th {\n",
       "        text-align: right;\n",
       "    }\n",
       "</style>\n",
       "<table border=\"1\" class=\"dataframe\">\n",
       "  <thead>\n",
       "    <tr style=\"text-align: right;\">\n",
       "      <th></th>\n",
       "      <th>model</th>\n",
       "      <th>NEK</th>\n",
       "      <th>strategy</th>\n",
       "      <th>feat_type</th>\n",
       "      <th>cm</th>\n",
       "      <th>prediction_type</th>\n",
       "      <th>recall</th>\n",
       "      <th>ROC-AUC</th>\n",
       "      <th>MCC</th>\n",
       "      <th>Balanced Accuracy</th>\n",
       "      <th>...</th>\n",
       "      <th>precision</th>\n",
       "      <th>specificity</th>\n",
       "      <th>TN</th>\n",
       "      <th>FN</th>\n",
       "      <th>FP</th>\n",
       "      <th>TP</th>\n",
       "      <th>set</th>\n",
       "      <th>modeling type</th>\n",
       "      <th>RF_type</th>\n",
       "      <th>modeling_type</th>\n",
       "    </tr>\n",
       "  </thead>\n",
       "  <tbody>\n",
       "    <tr>\n",
       "      <th>51</th>\n",
       "      <td>NEK2_inhibition_mfp_raw_BRFC_BCW</td>\n",
       "      <td>NEK2_inhibition</td>\n",
       "      <td>raw</td>\n",
       "      <td>mfp</td>\n",
       "      <td>[272, 108, 2, 26]</td>\n",
       "      <td>TN</td>\n",
       "      <td>0.928571</td>\n",
       "      <td>0.822180</td>\n",
       "      <td>0.346874</td>\n",
       "      <td>0.822180</td>\n",
       "      <td>...</td>\n",
       "      <td>0.194030</td>\n",
       "      <td>0.715789</td>\n",
       "      <td>272</td>\n",
       "      <td>2</td>\n",
       "      <td>108</td>\n",
       "      <td>26</td>\n",
       "      <td>original</td>\n",
       "      <td>NaN</td>\n",
       "      <td>BRFC_BCW</td>\n",
       "      <td>RF</td>\n",
       "    </tr>\n",
       "    <tr>\n",
       "      <th>47</th>\n",
       "      <td>NEK2_inhibition_mfp_raw_BRFC_BCW</td>\n",
       "      <td>NEK2_inhibition</td>\n",
       "      <td>raw</td>\n",
       "      <td>mfp</td>\n",
       "      <td>[277, 103, 2, 26]</td>\n",
       "      <td>TN</td>\n",
       "      <td>0.928571</td>\n",
       "      <td>0.828759</td>\n",
       "      <td>0.357505</td>\n",
       "      <td>0.828759</td>\n",
       "      <td>...</td>\n",
       "      <td>0.201550</td>\n",
       "      <td>0.728947</td>\n",
       "      <td>277</td>\n",
       "      <td>2</td>\n",
       "      <td>103</td>\n",
       "      <td>26</td>\n",
       "      <td>fold1</td>\n",
       "      <td>NaN</td>\n",
       "      <td>BRFC_BCW</td>\n",
       "      <td>RF</td>\n",
       "    </tr>\n",
       "    <tr>\n",
       "      <th>50</th>\n",
       "      <td>NEK2_inhibition_mfp_raw_BRFC_BCW</td>\n",
       "      <td>NEK2_inhibition</td>\n",
       "      <td>raw</td>\n",
       "      <td>mfp</td>\n",
       "      <td>[264, 112, 2, 26]</td>\n",
       "      <td>FP</td>\n",
       "      <td>0.928571</td>\n",
       "      <td>0.815350</td>\n",
       "      <td>0.337765</td>\n",
       "      <td>0.815350</td>\n",
       "      <td>...</td>\n",
       "      <td>0.188406</td>\n",
       "      <td>0.702128</td>\n",
       "      <td>264</td>\n",
       "      <td>2</td>\n",
       "      <td>112</td>\n",
       "      <td>26</td>\n",
       "      <td>fold2</td>\n",
       "      <td>NaN</td>\n",
       "      <td>BRFC_BCW</td>\n",
       "      <td>RF</td>\n",
       "    </tr>\n",
       "    <tr>\n",
       "      <th>53</th>\n",
       "      <td>NEK2_inhibition_mfp_raw_BRFC_BCW</td>\n",
       "      <td>NEK2_inhibition</td>\n",
       "      <td>raw</td>\n",
       "      <td>mfp</td>\n",
       "      <td>[265, 114, 5, 23]</td>\n",
       "      <td>TN</td>\n",
       "      <td>0.821429</td>\n",
       "      <td>0.760319</td>\n",
       "      <td>0.278863</td>\n",
       "      <td>0.760319</td>\n",
       "      <td>...</td>\n",
       "      <td>0.167883</td>\n",
       "      <td>0.699208</td>\n",
       "      <td>265</td>\n",
       "      <td>5</td>\n",
       "      <td>114</td>\n",
       "      <td>23</td>\n",
       "      <td>fold3</td>\n",
       "      <td>NaN</td>\n",
       "      <td>BRFC_BCW</td>\n",
       "      <td>RF</td>\n",
       "    </tr>\n",
       "    <tr>\n",
       "      <th>56</th>\n",
       "      <td>NEK2_inhibition_mfp_raw_BRFC_BCW</td>\n",
       "      <td>NEK2_inhibition</td>\n",
       "      <td>raw</td>\n",
       "      <td>mfp</td>\n",
       "      <td>[265, 113, 1, 27]</td>\n",
       "      <td>FP</td>\n",
       "      <td>0.964286</td>\n",
       "      <td>0.832672</td>\n",
       "      <td>0.354704</td>\n",
       "      <td>0.832672</td>\n",
       "      <td>...</td>\n",
       "      <td>0.192857</td>\n",
       "      <td>0.701058</td>\n",
       "      <td>265</td>\n",
       "      <td>1</td>\n",
       "      <td>113</td>\n",
       "      <td>27</td>\n",
       "      <td>fold4</td>\n",
       "      <td>NaN</td>\n",
       "      <td>BRFC_BCW</td>\n",
       "      <td>RF</td>\n",
       "    </tr>\n",
       "    <tr>\n",
       "      <th>59</th>\n",
       "      <td>NEK2_inhibition_mfp_raw_BRFC_BCW</td>\n",
       "      <td>NEK2_inhibition</td>\n",
       "      <td>raw</td>\n",
       "      <td>mfp</td>\n",
       "      <td>[266, 113, 3, 25]</td>\n",
       "      <td>TN</td>\n",
       "      <td>0.892857</td>\n",
       "      <td>0.797352</td>\n",
       "      <td>0.317968</td>\n",
       "      <td>0.797352</td>\n",
       "      <td>...</td>\n",
       "      <td>0.181159</td>\n",
       "      <td>0.701847</td>\n",
       "      <td>266</td>\n",
       "      <td>3</td>\n",
       "      <td>113</td>\n",
       "      <td>25</td>\n",
       "      <td>fold5</td>\n",
       "      <td>NaN</td>\n",
       "      <td>BRFC_BCW</td>\n",
       "      <td>RF</td>\n",
       "    </tr>\n",
       "  </tbody>\n",
       "</table>\n",
       "<p>6 rows × 22 columns</p>\n",
       "</div>"
      ],
      "text/plain": [
       "                               model              NEK strategy feat_type  \\\n",
       "51  NEK2_inhibition_mfp_raw_BRFC_BCW  NEK2_inhibition      raw       mfp   \n",
       "47  NEK2_inhibition_mfp_raw_BRFC_BCW  NEK2_inhibition      raw       mfp   \n",
       "50  NEK2_inhibition_mfp_raw_BRFC_BCW  NEK2_inhibition      raw       mfp   \n",
       "53  NEK2_inhibition_mfp_raw_BRFC_BCW  NEK2_inhibition      raw       mfp   \n",
       "56  NEK2_inhibition_mfp_raw_BRFC_BCW  NEK2_inhibition      raw       mfp   \n",
       "59  NEK2_inhibition_mfp_raw_BRFC_BCW  NEK2_inhibition      raw       mfp   \n",
       "\n",
       "                   cm prediction_type    recall   ROC-AUC       MCC  \\\n",
       "51  [272, 108, 2, 26]              TN  0.928571  0.822180  0.346874   \n",
       "47  [277, 103, 2, 26]              TN  0.928571  0.828759  0.357505   \n",
       "50  [264, 112, 2, 26]              FP  0.928571  0.815350  0.337765   \n",
       "53  [265, 114, 5, 23]              TN  0.821429  0.760319  0.278863   \n",
       "56  [265, 113, 1, 27]              FP  0.964286  0.832672  0.354704   \n",
       "59  [266, 113, 3, 25]              TN  0.892857  0.797352  0.317968   \n",
       "\n",
       "    Balanced Accuracy  ...  precision  specificity   TN  FN   FP  TP  \\\n",
       "51           0.822180  ...   0.194030     0.715789  272   2  108  26   \n",
       "47           0.828759  ...   0.201550     0.728947  277   2  103  26   \n",
       "50           0.815350  ...   0.188406     0.702128  264   2  112  26   \n",
       "53           0.760319  ...   0.167883     0.699208  265   5  114  23   \n",
       "56           0.832672  ...   0.192857     0.701058  265   1  113  27   \n",
       "59           0.797352  ...   0.181159     0.701847  266   3  113  25   \n",
       "\n",
       "         set  modeling type   RF_type modeling_type  \n",
       "51  original            NaN  BRFC_BCW            RF  \n",
       "47     fold1            NaN  BRFC_BCW            RF  \n",
       "50     fold2            NaN  BRFC_BCW            RF  \n",
       "53     fold3            NaN  BRFC_BCW            RF  \n",
       "56     fold4            NaN  BRFC_BCW            RF  \n",
       "59     fold5            NaN  BRFC_BCW            RF  \n",
       "\n",
       "[6 rows x 22 columns]"
      ]
     },
     "execution_count": 32,
     "metadata": {},
     "output_type": "execute_result"
    }
   ],
   "source": [
    "inhib = final_paper_model[final_paper_model['NEK']=='NEK2_inhibition']\n",
    "inhib_rf = inhib[inhib['RF_type'] == 'BRFC_BCW']\n",
    "inhib_rf = inhib_rf[inhib_rf['feat_type']=='mfp']\n",
    "inhib_rf = inhib_rf[inhib_rf['strategy']=='raw']\n",
    "inhib_rf"
   ]
  },
  {
   "cell_type": "code",
   "execution_count": null,
   "id": "8fa89dbf-7453-4a3f-93a3-d03bcea63a84",
   "metadata": {},
   "outputs": [],
   "source": []
  }
 ],
 "metadata": {
  "kernelspec": {
   "display_name": "atom2024",
   "language": "python",
   "name": "atom2024"
  },
  "language_info": {
   "codemirror_mode": {
    "name": "ipython",
    "version": 3
   },
   "file_extension": ".py",
   "mimetype": "text/x-python",
   "name": "python",
   "nbconvert_exporter": "python",
   "pygments_lexer": "ipython3",
   "version": "3.9.12"
  }
 },
 "nbformat": 4,
 "nbformat_minor": 5
}
