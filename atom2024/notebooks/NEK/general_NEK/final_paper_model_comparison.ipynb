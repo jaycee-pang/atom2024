{
 "cells": [
  {
   "cell_type": "code",
   "execution_count": 1,
   "id": "73a89c56-726a-42f4-b3e9-ef3ae4f35f6f",
   "metadata": {},
   "outputs": [],
   "source": [
    "from matplotlib import pyplot as plt\n",
    "from sklearn.metrics import accuracy_score, precision_score, f1_score, roc_auc_score, roc_curve, precision_recall_curve, auc, recall_score, confusion_matrix\n",
    "import sys \n",
    "sys.path.append('/Users/jayceepang/msse/capstone/atom2024/atom2024/notebooks/')\n",
    "from RF_atomver import *\n",
    "import pandas as pd\n",
    "import numpy as np\n",
    "\n",
    "import seaborn as sns\n",
    "import matplotlib.pyplot as plt\n",
    "from sklearn.ensemble import RandomForestClassifier, GradientBoostingClassifier\n",
    "from sklearn.model_selection import train_test_split\n",
    "from imblearn.over_sampling import SMOTE, ADASYN\n",
    "from imblearn.under_sampling import RandomUnderSampler, NearMiss, TomekLinks, ClusterCentroids\n",
    "from imblearn.ensemble import EasyEnsembleClassifier, BalancedBaggingClassifier\n",
    "from imblearn.pipeline import Pipeline\n",
    "from sklearn.metrics import precision_score, recall_score, roc_auc_score, matthews_corrcoef, balanced_accuracy_score, confusion_matrix\n",
    "from sklearn.datasets import make_classification"
   ]
  },
  {
   "cell_type": "code",
   "execution_count": null,
   "id": "dce9bbe9-3233-4c66-90d1-d71ffb42ac88",
   "metadata": {},
   "outputs": [],
   "source": [
    "# GP: GP matern \n",
    "# RF: just RF, not Grid search \n",
    "# let's remove literautre sets \n",
    "# call this file: final_paper_results (keep smote and adasyn) \n",
    "\n"
   ]
  },
  {
   "cell_type": "code",
   "execution_count": 2,
   "id": "eeed5304-1bf9-40a0-a82c-36ba2a447d58",
   "metadata": {},
   "outputs": [],
   "source": [
    "# GP matern\n",
    "matern_path = '/Users/jayceepang/msse/capstone/atom2024/atom2024/notebooks/NEK/GP/GP_matern_kernel/'\n",
    "gp_matern = pd.read_csv(matern_path+'GP_maternkern_test_results.csv')"
   ]
  },
  {
   "cell_type": "code",
   "execution_count": 12,
   "id": "1c82cab4-96f2-4cd6-8aac-b8b7b5e65687",
   "metadata": {},
   "outputs": [],
   "source": [
    "# RF \n",
    "RF_path= '/Users/jayceepang/msse/capstone/atom2024/atom2024/notebooks/NEK/RF/RF_results/'\n",
    "og_RF = pd.read_csv(RF_path+'RF_test_results_all_NEK.csv')\n",
    "gp_matern['set'] = 'original' \n",
    "og_RF['set'] = 'original' \n",
    "gp_matern['modeling type'] = 'GP_matern' \n",
    "gp_matern['RF_type'] = 'N/A' \n",
    "og_RF['modeling type'] = 'RF' \n",
    "final_paper_model = pd.concat([gp_matern, og_RF])\n",
    "final_paper_model = final_paper_model.replace('scaled', 'raw')\n",
    "final_paper_model.to_excel('/Users/jayceepang/msse/capstone/atom2024/atom2024/notebooks/NEK/general_NEK/final_paper_model.xlsx',index=False)"
   ]
  },
  {
   "cell_type": "code",
   "execution_count": 10,
   "id": "61bf8f22-21ea-4619-80ce-b95e1bb100ba",
   "metadata": {},
   "outputs": [
    {
     "data": {
      "text/plain": [
       "(240, 21)"
      ]
     },
     "execution_count": 10,
     "metadata": {},
     "output_type": "execute_result"
    }
   ],
   "source": [
    "final_paper_model.shape"
   ]
  },
  {
   "cell_type": "code",
   "execution_count": null,
   "id": "28595e68-e5e8-4f8d-a9ff-289531d69740",
   "metadata": {},
   "outputs": [],
   "source": []
  }
 ],
 "metadata": {
  "kernelspec": {
   "display_name": "atom2024",
   "language": "python",
   "name": "atom2024"
  },
  "language_info": {
   "codemirror_mode": {
    "name": "ipython",
    "version": 3
   },
   "file_extension": ".py",
   "mimetype": "text/x-python",
   "name": "python",
   "nbconvert_exporter": "python",
   "pygments_lexer": "ipython3",
   "version": "3.9.12"
  }
 },
 "nbformat": 4,
 "nbformat_minor": 5
}
