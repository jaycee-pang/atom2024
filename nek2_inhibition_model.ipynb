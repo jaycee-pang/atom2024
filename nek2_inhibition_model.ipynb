{
 "cells": [
  {
   "cell_type": "code",
   "execution_count": 1,
   "metadata": {},
   "outputs": [
    {
     "name": "stderr",
     "output_type": "stream",
     "text": [
      "/var/folders/wb/cvnnx9qn3tj18cq5_9wx39xm0000gn/T/ipykernel_21578/2544869563.py:5: DeprecationWarning: \n",
      "Pyarrow will become a required dependency of pandas in the next major release of pandas (pandas 3.0),\n",
      "(to allow more performant data types, such as the Arrow string type, and better interoperability with other libraries)\n",
      "but was not found to be installed on your system.\n",
      "If this would cause problems for you,\n",
      "please provide us feedback at https://github.com/pandas-dev/pandas/issues/54466\n",
      "        \n",
      "  import pandas as pd\n"
     ]
    }
   ],
   "source": [
    "import math\n",
    "import torch\n",
    "import numpy as np\n",
    "import gpytorch\n",
    "import pandas as pd\n",
    "import os\n",
    "from matplotlib import pyplot as plt\n",
    "import sklearn\n",
    "from sklearn.model_selection import KFold\n",
    "\n",
    "%matplotlib inline\n",
    "%load_ext autoreload\n",
    "%autoreload 2"
   ]
  },
  {
   "cell_type": "code",
   "execution_count": 2,
   "metadata": {},
   "outputs": [
    {
     "name": "stdout",
     "output_type": "stream",
     "text": [
      "imblearn version:  0.12.0\n"
     ]
    }
   ],
   "source": [
    "# check version number\n",
    "import imblearn\n",
    "print(\"imblearn version: \",imblearn.__version__)\n",
    "from imblearn.over_sampling import SMOTE\n",
    "\n",
    "from sklearn.decomposition import PCA\n",
    "from sklearn.preprocessing import StandardScaler\n",
    "\n",
    "\n",
    "from sklearn.metrics import confusion_matrix\n",
    "import itertools"
   ]
  },
  {
   "cell_type": "code",
   "execution_count": 3,
   "metadata": {},
   "outputs": [
    {
     "data": {
      "text/plain": [
       "(2044, 310)"
      ]
     },
     "execution_count": 3,
     "metadata": {},
     "output_type": "execute_result"
    }
   ],
   "source": [
    "binding_path = 'data/NEK_data_4Berkeley/NEK2/'\n",
    "nek2_binding_random_imbalanced = 'NEK2_1_uM_min_50_pct_binding_5fold_random_imbalanced.csv'\n",
    "all_fold_df_binding = pd.read_csv(binding_path+nek2_binding_random_imbalanced)\n",
    "all_fold_df_binding.shape # (1408,310)\n",
    "\n",
    "#inhibition\n",
    "inhibition_path = 'data/NEK_data_4Berkeley/NEK2/'\n",
    "inhibition_moe = 'NEK2_1_uM_min_50_pct_inhibition_5fold_random_imbalanced.csv'\n",
    "all_fold_df_inhibition = pd.read_csv(inhibition_path+inhibition_moe)\n",
    "all_fold_df_inhibition.shape  # (2044, 310)"
   ]
  },
  {
   "cell_type": "code",
   "execution_count": 8,
   "metadata": {},
   "outputs": [
    {
     "data": {
      "text/plain": [
       "compound_id\n",
       "kdb_244     2\n",
       "kdb_2207    2\n",
       "kdb_1514    2\n",
       "kdb_1003    2\n",
       "kdb_1649    2\n",
       "           ..\n",
       "kdb_67      2\n",
       "kdb_123     2\n",
       "kdb_114     2\n",
       "kdb_2206    2\n",
       "kdb_2221    2\n",
       "Name: count, Length: 112, dtype: int64"
      ]
     },
     "execution_count": 8,
     "metadata": {},
     "output_type": "execute_result"
    }
   ],
   "source": [
    "combined_df = pd.concat([all_fold_df_binding, all_fold_df_inhibition ])\n",
    "value_counts = combined_df[('compound_id')].value_counts()\n",
    "value_counts\n",
    "in_both = value_counts[value_counts==2]\n",
    "in_both"
   ]
  },
  {
   "cell_type": "code",
   "execution_count": 4,
   "metadata": {},
   "outputs": [],
   "source": [
    "# from sklearn 0.19.2 documentation:\n",
    "def plot_confusion_matrix(cm, classes,\n",
    "                          normalize=False,\n",
    "                          cmap=plt.cm.Blues):\n",
    "    \"\"\"\n",
    "    This function prints and plots the confusion matrix.\n",
    "    Normalization can be applied by setting `normalize=True`.\n",
    "    \"\"\"\n",
    "    if normalize:\n",
    "        cm = cm.astype('float') / cm.sum(axis=1)[:, np.newaxis]\n",
    "        print(\"Normalized confusion matrix\")\n",
    "    else:\n",
    "        print('Confusion matrix, without normalization')\n",
    "    print(cm)\n",
    "    plt.imshow(cm, interpolation='nearest', cmap=cmap)\n",
    "    plt.colorbar(shrink=0.7)\n",
    "    tick_marks = np.arange(len(classes))\n",
    "    plt.xticks(tick_marks, classes, rotation=45)\n",
    "    plt.yticks(tick_marks, classes)\n",
    "\n",
    "    fmt = '.2f' if normalize else 'd'\n",
    "    thresh = cm.max() / 2.\n",
    "    for i, j in itertools.product(range(cm.shape[0]), range(cm.shape[1])):\n",
    "        plt.text(j, i, format(cm[i, j], fmt),\n",
    "                 horizontalalignment=\"center\",\n",
    "                 color=\"white\" if cm[i, j] > thresh else \"black\")\n",
    "    plt.tight_layout()\n",
    "    plt.ylabel('True label')\n",
    "    plt.xlabel('Predicted label')"
   ]
  },
  {
   "cell_type": "code",
   "execution_count": 14,
   "metadata": {},
   "outputs": [
    {
     "data": {
      "text/plain": [
       "Index(['ASA+_per_atom', 'ASA-', 'ASA_H_per_atom', 'ASA_P', 'ASA_per_atom',\n",
       "       'BCUT_PEOE_0', 'BCUT_PEOE_1', 'BCUT_PEOE_2', 'BCUT_PEOE_3',\n",
       "       'BCUT_SLOGP_0_per_atom',\n",
       "       ...\n",
       "       'vsurf_Wp2_per_atom', 'vsurf_Wp3', 'vsurf_Wp4', 'vsurf_Wp5',\n",
       "       'vsurf_Wp6', 'vsurf_Wp7', 'vsurf_Wp8', 'weinerPath',\n",
       "       'weinerPol_per_atom', 'zagreb_per_atom'],\n",
       "      dtype='object', length=306)"
      ]
     },
     "execution_count": 14,
     "metadata": {},
     "output_type": "execute_result"
    }
   ],
   "source": [
    "data_path = 'data/datasets/scaled_descriptors/'\n",
    "binding_file = 'NEK2_1_uM_min_50_pct_inhibition_with_moe_descriptors.csv'\n",
    "binding_df = pd.read_csv('data/datasets/scaled_descriptors/NEK2_1_uM_min_50_pct_inhibition_with_moe_descriptors.csv')\n",
    "# print(binding_df.shape)\n",
    "moe_columns = binding_df.columns[3:]\n",
    "moe_columns"
   ]
  },
  {
   "cell_type": "code",
   "execution_count": 10,
   "metadata": {},
   "outputs": [],
   "source": [
    "# list(moe_columns)"
   ]
  },
  {
   "cell_type": "code",
   "execution_count": 5,
   "metadata": {},
   "outputs": [
    {
     "data": {
      "text/plain": [
       "(2044, 310)"
      ]
     },
     "execution_count": 5,
     "metadata": {},
     "output_type": "execute_result"
    }
   ],
   "source": [
    "inhibition_df = pd.read_csv('data/NEK_data_4Berkeley/NEK2/NEK2_1_uM_min_50_pct_inhibition_5fold_random_imbalanced.csv') \n",
    "inhibition_df.shape"
   ]
  },
  {
   "cell_type": "code",
   "execution_count": 7,
   "metadata": {},
   "outputs": [],
   "source": [
    "split_path = 'NEK_data_4Berkeley/NEK2/'\n",
    "random_inhibition_file = 'NEK2_1_uM_min_50_pct_inhibition_5fold_random_imbalanced.csv'\n",
    "random_inhibition_df = pd.read_csv('data/NEK_data_4Berkeley/NEK2/NEK2_1_uM_min_50_pct_inhibition_5fold_random_imbalanced.csv')"
   ]
  },
  {
   "cell_type": "code",
   "execution_count": 13,
   "metadata": {},
   "outputs": [
    {
     "name": "stdout",
     "output_type": "stream",
     "text": [
      "['fold4' 'fold1' 'fold2' 'fold3' 'fold5']\n",
      "fold\n",
      "fold4    409\n",
      "fold1    409\n",
      "fold2    409\n",
      "fold3    409\n",
      "fold5    408\n",
      "Name: count, dtype: int64\n",
      "Index(['compound_id', 'base_rdkit_smiles', 'active', 'ASA+_per_atom', 'ASA-',\n",
      "       'ASA_H_per_atom', 'ASA_P', 'ASA_per_atom', 'BCUT_PEOE_0', 'BCUT_PEOE_1',\n",
      "       ...\n",
      "       'vsurf_Wp3', 'vsurf_Wp4', 'vsurf_Wp5', 'vsurf_Wp6', 'vsurf_Wp7',\n",
      "       'vsurf_Wp8', 'weinerPath', 'weinerPol_per_atom', 'zagreb_per_atom',\n",
      "       'fold'],\n",
      "      dtype='object', length=310)\n",
      "inactive: 1904\n",
      "active: 140\n"
     ]
    }
   ],
   "source": [
    "print(random_inhibition_df['fold'].unique())\n",
    "print(random_inhibition_df['fold'].value_counts())\n",
    "print(random_inhibition_df.columns)\n",
    "print(f\"inactive: {random_inhibition_df[random_inhibition_df['active'] == 0].shape[0]}\")\n",
    "\n",
    "print(f\"active: {random_inhibition_df[random_inhibition_df['active'] == 1].shape[0]}\")"
   ]
  },
  {
   "cell_type": "code",
   "execution_count": 16,
   "metadata": {},
   "outputs": [
    {
     "name": "stdout",
     "output_type": "stream",
     "text": [
      "(409, 310)\n",
      "(1635, 310)\n"
     ]
    }
   ],
   "source": [
    "test_random_inhibition_df = random_inhibition_df.loc[random_inhibition_df['fold'] == \"fold1\"]\n",
    "train_random_inhibition_df = random_inhibition_df.loc[random_inhibition_df['fold'] != \"fold1\"]\n",
    "print(test_random_inhibition_df.shape)\n",
    "print(train_random_inhibition_df.shape)"
   ]
  },
  {
   "cell_type": "code",
   "execution_count": 17,
   "metadata": {},
   "outputs": [
    {
     "name": "stdout",
     "output_type": "stream",
     "text": [
      "active\n",
      "0    1523\n",
      "1     112\n",
      "Name: count, dtype: int64\n",
      "active\n",
      "0    381\n",
      "1     28\n",
      "Name: count, dtype: int64\n"
     ]
    }
   ],
   "source": [
    "test_x_df = test_random_inhibition_df[moe_columns]\n",
    "test_y_df = test_random_inhibition_df['active']\n",
    "train_x_df = train_random_inhibition_df[moe_columns]\n",
    "train_y_df = train_random_inhibition_df['active']\n",
    "\n",
    "print(train_y_df.value_counts()) \n",
    "print(test_y_df.value_counts())\n"
   ]
  },
  {
   "cell_type": "code",
   "execution_count": 18,
   "metadata": {},
   "outputs": [
    {
     "name": "stdout",
     "output_type": "stream",
     "text": [
      "active\n",
      "0         1523\n",
      "1          112\n",
      "Name: count, dtype: int64\n",
      "active\n",
      "0         381\n",
      "1          28\n",
      "Name: count, dtype: int64\n",
      "(1635, 1) (409, 1)\n"
     ]
    }
   ],
   "source": [
    "uq_path = 'data/NEK_data_4Berkeley/NEK2/'\n",
    "train_x_df = pd.read_csv(uq_path+'NEK2_inhibition_random_fold1_trainX.csv')\n",
    "train_y_df= pd.read_csv(uq_path+\"/NEK2_inhibition_random_fold1_trainY.csv\")\n",
    "test_x_df= pd.read_csv(uq_path+\"/NEK2_inhibition_random_fold1_testX.csv\")\n",
    "test_y_df= pd.read_csv(uq_path+\"/NEK2_inhibition_random_fold1_testY.csv\")\n",
    "print(train_y_df.value_counts()), print(test_y_df.value_counts())\n",
    "print(train_y_df.shape, test_y_df.shape)"
   ]
  },
  {
   "cell_type": "code",
   "execution_count": 19,
   "metadata": {},
   "outputs": [
    {
     "name": "stdout",
     "output_type": "stream",
     "text": [
      "(1635, 66)\n",
      "(409, 66)\n"
     ]
    }
   ],
   "source": [
    "x_df = pd.concat([train_x_df, test_x_df])\n",
    "\n",
    "scaling=StandardScaler()\n",
    "\n",
    "scaling.fit(x_df)\n",
    "Scaled_data=scaling.transform(x_df)\n",
    "train_scaled_data = scaling.transform(train_x_df)\n",
    "test_scaled_data = scaling.transform(test_x_df) \n",
    "    \n",
    "# Set the n_components=3\n",
    "# 95% variance \n",
    "principal=PCA(n_components=0.95) \n",
    "principal.fit(Scaled_data)\n",
    "pca_train_x_df=principal.transform(train_scaled_data)\n",
    "pca_test_x_df=principal.transform(test_scaled_data)\n",
    "\n",
    "print(pca_train_x_df.shape)\n",
    "print(pca_test_x_df.shape)"
   ]
  },
  {
   "cell_type": "code",
   "execution_count": 20,
   "metadata": {},
   "outputs": [],
   "source": [
    "# SMOTE\n",
    "\n",
    "# SMOTE: Adjust imbalanced training data\n",
    "\n",
    "# transform the dataset\n",
    "oversample = SMOTE()\n",
    "# SMOTE: creating synthetic examples of minority class \n",
    "new_train_x_df, new_train_y_df = oversample.fit_resample(pca_train_x_df, train_y_df)"
   ]
  },
  {
   "cell_type": "code",
   "execution_count": 21,
   "metadata": {},
   "outputs": [
    {
     "name": "stdout",
     "output_type": "stream",
     "text": [
      "torch.Size([3046, 66])\n",
      "torch.Size([3046])\n"
     ]
    }
   ],
   "source": [
    "#  Transform data to PyTorch tensors\n",
    "\n",
    "# PCA then SMOTE\n",
    "train_x_temp = new_train_x_df.astype(\"long\")\n",
    "train_y_temp = new_train_y_df.to_numpy().astype(\"long\")\n",
    "\n",
    "# PCA\n",
    "test_x_temp = pca_test_x_df.astype(\"long\")\n",
    "\n",
    "\n",
    "test_y_temp = test_y_df.to_numpy().astype(\"long\")\n",
    "\n",
    "train_x = torch.from_numpy(train_x_temp)\n",
    "train_y = torch.from_numpy(train_y_temp.reshape(-1))\n",
    "test_x = torch.from_numpy(test_x_temp)\n",
    "test_y = torch.from_numpy(test_y_temp.reshape(-1))\n",
    "\n",
    "print(train_x.shape)\n",
    "print(train_y.shape)\n"
   ]
  },
  {
   "cell_type": "code",
   "execution_count": 22,
   "metadata": {},
   "outputs": [],
   "source": [
    "# Construct a GP classification model\n",
    "\n",
    "from gpytorch.models import ExactGP\n",
    "from gpytorch.likelihoods import DirichletClassificationLikelihood\n",
    "from gpytorch.means import ConstantMean\n",
    "from gpytorch.kernels import ScaleKernel, RBFKernel\n",
    "\n",
    "# We will use the simplest form of GP model, exact inference\n",
    "class DirichletGPModel(ExactGP):\n",
    "    def __init__(self, train_x, train_y, likelihood, num_classes):\n",
    "        super(DirichletGPModel, self).__init__(train_x, train_y, likelihood)\n",
    "        self.mean_module = ConstantMean(batch_shape=torch.Size((num_classes,)))\n",
    "        self.covar_module = ScaleKernel(\n",
    "            RBFKernel(batch_shape=torch.Size((num_classes,))),\n",
    "            batch_shape=torch.Size((num_classes,)),\n",
    "        )\n",
    "\n",
    "    def forward(self, x):\n",
    "        mean_x = self.mean_module(x)\n",
    "        covar_x = self.covar_module(x)\n",
    "        return gpytorch.distributions.MultivariateNormal(mean_x, covar_x)\n",
    "\n",
    "# initialize likelihood and model\n",
    "# we let the DirichletClassificationLikelihood compute the targets for us\n",
    "likelihood = DirichletClassificationLikelihood(train_y, learn_additional_noise=True)\n",
    "model = DirichletGPModel(train_x, likelihood.transformed_targets, likelihood, num_classes=likelihood.num_classes)\n"
   ]
  },
  {
   "cell_type": "code",
   "execution_count": 23,
   "metadata": {},
   "outputs": [
    {
     "name": "stdout",
     "output_type": "stream",
     "text": [
      "Iter 1/300 - Loss: 7.011   lengthscale: 0.693   noise: 0.693\n",
      "Iter 6/300 - Loss: 6.249   lengthscale: 0.975   noise: 0.971\n",
      "Iter 11/300 - Loss: 5.673   lengthscale: 1.319   noise: 1.280\n",
      "Iter 16/300 - Loss: 5.230   lengthscale: 1.726   noise: 1.557\n",
      "Iter 21/300 - Loss: 4.893   lengthscale: 2.194   noise: 1.722\n",
      "Iter 26/300 - Loss: 4.633   lengthscale: 2.703   noise: 1.741\n",
      "Iter 31/300 - Loss: 4.401   lengthscale: 3.229   noise: 1.620\n",
      "Iter 36/300 - Loss: 4.207   lengthscale: 3.749   noise: 1.391\n",
      "Iter 41/300 - Loss: 4.034   lengthscale: 4.238   noise: 1.106\n",
      "Iter 46/300 - Loss: 3.901   lengthscale: 4.681   noise: 0.816\n",
      "Iter 51/300 - Loss: 3.784   lengthscale: 5.071   noise: 0.564\n",
      "Iter 56/300 - Loss: 3.678   lengthscale: 5.408   noise: 0.371\n",
      "Iter 61/300 - Loss: 3.607   lengthscale: 5.697   noise: 0.241\n",
      "Iter 66/300 - Loss: 3.555   lengthscale: 5.942   noise: 0.160\n",
      "Iter 71/300 - Loss: 3.523   lengthscale: 6.150   noise: 0.111\n",
      "Iter 76/300 - Loss: 3.498   lengthscale: 6.326   noise: 0.082\n",
      "Iter 81/300 - Loss: 3.476   lengthscale: 6.477   noise: 0.064\n",
      "Iter 86/300 - Loss: 3.466   lengthscale: 6.605   noise: 0.052\n",
      "Iter 91/300 - Loss: 3.457   lengthscale: 6.714   noise: 0.044\n",
      "Iter 96/300 - Loss: 3.443   lengthscale: 6.805   noise: 0.038\n",
      "Iter 101/300 - Loss: 3.441   lengthscale: 6.882   noise: 0.033\n",
      "Iter 106/300 - Loss: 3.433   lengthscale: 6.946   noise: 0.030\n",
      "Iter 111/300 - Loss: 3.437   lengthscale: 6.999   noise: 0.027\n",
      "Iter 116/300 - Loss: 3.435   lengthscale: 7.045   noise: 0.025\n",
      "Iter 121/300 - Loss: 3.424   lengthscale: 7.084   noise: 0.023\n",
      "Iter 126/300 - Loss: 3.425   lengthscale: 7.118   noise: 0.021\n",
      "Iter 131/300 - Loss: 3.431   lengthscale: 7.149   noise: 0.020\n",
      "Iter 136/300 - Loss: 3.421   lengthscale: 7.177   noise: 0.018\n",
      "Iter 141/300 - Loss: 3.425   lengthscale: 7.202   noise: 0.017\n",
      "Iter 146/300 - Loss: 3.421   lengthscale: 7.225   noise: 0.016\n",
      "Iter 151/300 - Loss: 3.421   lengthscale: 7.248   noise: 0.015\n",
      "Iter 156/300 - Loss: 3.419   lengthscale: 7.270   noise: 0.015\n",
      "Iter 161/300 - Loss: 3.414   lengthscale: 7.289   noise: 0.014\n",
      "Iter 166/300 - Loss: 3.414   lengthscale: 7.306   noise: 0.013\n",
      "Iter 171/300 - Loss: 3.411   lengthscale: 7.322   noise: 0.013\n",
      "Iter 176/300 - Loss: 3.412   lengthscale: 7.337   noise: 0.012\n",
      "Iter 181/300 - Loss: 3.411   lengthscale: 7.351   noise: 0.012\n",
      "Iter 186/300 - Loss: 3.404   lengthscale: 7.361   noise: 0.011\n",
      "Iter 191/300 - Loss: 3.410   lengthscale: 7.369   noise: 0.011\n",
      "Iter 196/300 - Loss: 3.416   lengthscale: 7.378   noise: 0.010\n",
      "Iter 201/300 - Loss: 3.410   lengthscale: 7.386   noise: 0.010\n",
      "Iter 206/300 - Loss: 3.403   lengthscale: 7.393   noise: 0.009\n",
      "Iter 211/300 - Loss: 3.406   lengthscale: 7.399   noise: 0.009\n",
      "Iter 216/300 - Loss: 3.405   lengthscale: 7.405   noise: 0.009\n",
      "Iter 221/300 - Loss: 3.405   lengthscale: 7.412   noise: 0.008\n",
      "Iter 226/300 - Loss: 3.404   lengthscale: 7.417   noise: 0.008\n",
      "Iter 231/300 - Loss: 3.403   lengthscale: 7.422   noise: 0.008\n",
      "Iter 236/300 - Loss: 3.402   lengthscale: 7.424   noise: 0.008\n",
      "Iter 241/300 - Loss: 3.403   lengthscale: 7.427   noise: 0.007\n",
      "Iter 246/300 - Loss: 3.400   lengthscale: 7.428   noise: 0.007\n",
      "Iter 251/300 - Loss: 3.402   lengthscale: 7.430   noise: 0.007\n",
      "Iter 256/300 - Loss: 3.400   lengthscale: 7.433   noise: 0.007\n",
      "Iter 261/300 - Loss: 3.399   lengthscale: 7.433   noise: 0.007\n",
      "Iter 266/300 - Loss: 3.398   lengthscale: 7.435   noise: 0.006\n",
      "Iter 271/300 - Loss: 3.404   lengthscale: 7.438   noise: 0.006\n",
      "Iter 276/300 - Loss: 3.406   lengthscale: 7.441   noise: 0.006\n",
      "Iter 281/300 - Loss: 3.398   lengthscale: 7.442   noise: 0.006\n",
      "Iter 286/300 - Loss: 3.402   lengthscale: 7.443   noise: 0.006\n",
      "Iter 291/300 - Loss: 3.404   lengthscale: 7.442   noise: 0.006\n",
      "Iter 296/300 - Loss: 3.400   lengthscale: 7.441   noise: 0.005\n"
     ]
    }
   ],
   "source": [
    "# this is for running the notebook in our testing framework\n",
    "import os\n",
    "smoke_test = ('CI' in os.environ)\n",
    "training_iter = 2 if smoke_test else 300\n",
    "\n",
    "\n",
    "# Find optimal model hyperparameters\n",
    "model.train()\n",
    "likelihood.train()\n",
    "\n",
    "# Use the adam optimizer\n",
    "optimizer = torch.optim.Adam(model.parameters(), lr=0.1)  # Includes GaussianLikelihood parameters\n",
    "\n",
    "# \"Loss\" for GPs - the marginal log likelihood\n",
    "mll = gpytorch.mlls.ExactMarginalLogLikelihood(likelihood, model)\n",
    "\n",
    "for i in range(training_iter):\n",
    "    # Zero gradients from previous iteration\n",
    "    optimizer.zero_grad()\n",
    "    # Output from model\n",
    "    output = model(train_x)\n",
    "    # Calc loss and backprop gradients\n",
    "    loss = -mll(output, likelihood.transformed_targets).sum()\n",
    "    loss.backward()\n",
    "    if i % 5 == 0:\n",
    "        print('Iter %d/%d - Loss: %.3f   lengthscale: %.3f   noise: %.3f' % (\n",
    "            i + 1, training_iter, loss.item(),\n",
    "            model.covar_module.base_kernel.lengthscale.mean().item(),\n",
    "            model.likelihood.second_noise_covar.noise.mean().item()\n",
    "        ))\n",
    "    optimizer.step()"
   ]
  },
  {
   "cell_type": "code",
   "execution_count": 24,
   "metadata": {},
   "outputs": [
    {
     "name": "stderr",
     "output_type": "stream",
     "text": [
      "/Users/jayceepang/msse/capstone/gpytorch-venv/lib/python3.9/site-packages/gpytorch/models/exact_gp.py:284: GPInputWarning: The input matches the stored training data. Did you forget to call model.train()?\n",
      "  warnings.warn(\n"
     ]
    },
    {
     "name": "stdout",
     "output_type": "stream",
     "text": [
      "(2, 3046)\n",
      "tensor([0, 0, 0,  ..., 1, 1, 1])\n"
     ]
    }
   ],
   "source": [
    "# Make predictions with the model\n",
    "\n",
    "model.eval()\n",
    "likelihood.eval()\n",
    "\n",
    "with gpytorch.settings.fast_pred_var(), torch.no_grad():\n",
    "    test_dist = model(train_x)\n",
    "    pred_means = test_dist.loc\n",
    "    observed_pred = likelihood(model(train_x))\n",
    "    \n",
    "print(pred_means.numpy().shape)\n",
    "print(pred_means.max(0)[1])"
   ]
  },
  {
   "cell_type": "code",
   "execution_count": 25,
   "metadata": {},
   "outputs": [
    {
     "name": "stdout",
     "output_type": "stream",
     "text": [
      "Confusion matrix, without normalization\n",
      "[[1515    8]\n",
      " [   1 1522]]\n"
     ]
    },
    {
     "data": {
      "image/png": "[encoded data removed]",
      "text/plain": [
       "<Figure size 500x500 with 2 Axes>"
      ]
     },
     "metadata": {},
     "output_type": "display_data"
    }
   ],
   "source": [
    "train_prediction = model(train_x).loc.max(0)[1].numpy()\n",
    "y_true = new_train_y_df.values\n",
    "y_pred = train_prediction\n",
    "train_cm = confusion_matrix(y_true, y_pred)\n",
    "class_names = [\"0\",\"1\"]\n",
    "\n",
    "plt.rcParams.update({\"font.size\": 20})\n",
    "label_font = {'size':'18'}  # Adjust to fit\n",
    "ax = plt.figure(figsize=(5,5))\n",
    "plt.title(\"NEK2 train set\",fontsize=20)\n",
    "plot_confusion_matrix(train_cm, classes=class_names, normalize=False)\n",
    "plt.xlabel(\"Predicted\",fontdict=label_font);\n",
    "plt.ylabel(\"Actual\",fontdict=label_font);\n"
   ]
  },
  {
   "cell_type": "code",
   "execution_count": 30,
   "metadata": {},
   "outputs": [
    {
     "name": "stdout",
     "output_type": "stream",
     "text": [
      "(2, 409)\n",
      "tensor([0, 0, 0, 0, 0, 0, 0, 0, 0, 0, 0, 0, 0, 0, 0, 0, 0, 0, 0, 0, 0, 0, 0, 0,\n",
      "        0, 0, 0, 0, 0, 0, 0, 0, 0, 0, 0, 0, 0, 0, 0, 0, 0, 0, 0, 0, 0, 0, 0, 0,\n",
      "        0, 1, 0, 0, 0, 0, 0, 0, 0, 0, 0, 0, 0, 0, 0, 0, 0, 0, 0, 0, 0, 0, 0, 0,\n",
      "        0, 0, 0, 0, 1, 0, 0, 0, 0, 0, 0, 0, 0, 0, 0, 0, 0, 0, 0, 0, 0, 0, 0, 0,\n",
      "        0, 0, 0, 0, 1, 0, 0, 0, 0, 0, 0, 0, 0, 0, 0, 0, 0, 0, 0, 0, 0, 0, 0, 0,\n",
      "        0, 0, 0, 0, 0, 0, 0, 0, 0, 0, 0, 0, 0, 0, 0, 0, 0, 0, 0, 0, 0, 0, 0, 0,\n",
      "        0, 0, 0, 0, 0, 0, 0, 0, 0, 0, 0, 0, 0, 0, 0, 0, 0, 0, 0, 0, 0, 0, 0, 0,\n",
      "        0, 0, 0, 0, 0, 0, 0, 0, 0, 0, 0, 0, 0, 0, 0, 0, 0, 0, 0, 0, 0, 0, 0, 0,\n",
      "        0, 0, 0, 1, 0, 0, 0, 0, 0, 0, 0, 0, 0, 0, 0, 0, 0, 0, 0, 0, 0, 0, 0, 0,\n",
      "        0, 1, 0, 0, 0, 0, 0, 0, 0, 0, 0, 0, 0, 0, 0, 0, 0, 0, 0, 0, 0, 0, 0, 0,\n",
      "        0, 0, 0, 0, 0, 0, 0, 0, 0, 0, 0, 0, 0, 0, 0, 0, 0, 0, 0, 0, 0, 0, 0, 0,\n",
      "        0, 0, 0, 0, 0, 0, 0, 0, 0, 0, 0, 0, 0, 0, 0, 0, 0, 0, 0, 0, 0, 0, 0, 0,\n",
      "        0, 0, 0, 1, 0, 0, 0, 0, 0, 0, 0, 0, 0, 0, 0, 0, 0, 0, 0, 0, 0, 0, 0, 0,\n",
      "        0, 0, 0, 0, 0, 0, 0, 0, 0, 0, 0, 0, 0, 0, 0, 0, 0, 0, 0, 0, 0, 0, 0, 0,\n",
      "        0, 0, 0, 0, 0, 0, 0, 0, 0, 0, 0, 0, 0, 0, 0, 0, 0, 0, 0, 0, 0, 0, 0, 0,\n",
      "        0, 0, 0, 0, 1, 0, 0, 0, 0, 0, 0, 0, 0, 0, 0, 0, 0, 0, 0, 0, 0, 1, 1, 0,\n",
      "        0, 1, 1, 0, 1, 0, 0, 1, 1, 0, 1, 0, 0, 1, 1, 0, 0, 1, 1, 0, 1, 1, 0, 1,\n",
      "        1])\n"
     ]
    }
   ],
   "source": [
    "# Make predictions with the model\n",
    "\n",
    "model.eval()\n",
    "likelihood.eval()\n",
    "\n",
    "with gpytorch.settings.fast_pred_var(), torch.no_grad():\n",
    "    test_dist = model(test_x)\n",
    "    pred_means = test_dist.loc\n",
    "    observed_pred = likelihood(model(test_x))\n",
    "    \n",
    "print(pred_means.numpy().shape)\n",
    "print(pred_means.max(0)[1])"
   ]
  },
  {
   "cell_type": "code",
   "execution_count": 31,
   "metadata": {},
   "outputs": [
    {
     "name": "stdout",
     "output_type": "stream",
     "text": [
      "(409,)\n"
     ]
    },
    {
     "data": {
      "text/plain": [
       "array([0, 0, 0, 0, 0, 0, 0, 0, 0, 0, 0, 0, 0, 0, 0, 0, 0, 0, 0, 0, 0, 0,\n",
       "       0, 0, 0, 0, 0, 0, 0, 0, 0, 0, 0, 0, 0, 0, 0, 0, 0, 0, 0, 0, 0, 0,\n",
       "       0, 0, 0, 0, 0, 1, 0, 0, 0, 0, 0, 0, 0, 0, 0, 0, 0, 0, 0, 0, 0, 0,\n",
       "       0, 0, 0, 0, 0, 0, 0, 0, 0, 0, 1, 0, 0, 0, 0, 0, 0, 0, 0, 0, 0, 0,\n",
       "       0, 0, 0, 0, 0, 0, 0, 0, 0, 0, 0, 0, 1, 0, 0, 0, 0, 0, 0, 0, 0, 0,\n",
       "       0, 0, 0, 0, 0, 0, 0, 0, 0, 0, 0, 0, 0, 0, 0, 0, 0, 0, 0, 0, 0, 0,\n",
       "       0, 0, 0, 0, 0, 0, 0, 0, 0, 0, 0, 0, 0, 0, 0, 0, 0, 0, 0, 0, 0, 0,\n",
       "       0, 0, 0, 0, 0, 0, 0, 0, 0, 0, 0, 0, 0, 0, 0, 0, 0, 0, 0, 0, 0, 0,\n",
       "       0, 0, 0, 0, 0, 0, 0, 0, 0, 0, 0, 0, 0, 0, 0, 0, 0, 0, 0, 1, 0, 0,\n",
       "       0, 0, 0, 0, 0, 0, 0, 0, 0, 0, 0, 0, 0, 0, 0, 0, 0, 0, 0, 1, 0, 0,\n",
       "       0, 0, 0, 0, 0, 0, 0, 0, 0, 0, 0, 0, 0, 0, 0, 0, 0, 0, 0, 0, 0, 0,\n",
       "       0, 0, 0, 0, 0, 0, 0, 0, 0, 0, 0, 0, 0, 0, 0, 0, 0, 0, 0, 0, 0, 0,\n",
       "       0, 0, 0, 0, 0, 0, 0, 0, 0, 0, 0, 0, 0, 0, 0, 0, 0, 0, 0, 0, 0, 0,\n",
       "       0, 0, 0, 0, 0, 1, 0, 0, 0, 0, 0, 0, 0, 0, 0, 0, 0, 0, 0, 0, 0, 0,\n",
       "       0, 0, 0, 0, 0, 0, 0, 0, 0, 0, 0, 0, 0, 0, 0, 0, 0, 0, 0, 0, 0, 0,\n",
       "       0, 0, 0, 0, 0, 0, 0, 0, 0, 0, 0, 0, 0, 0, 0, 0, 0, 0, 0, 0, 0, 0,\n",
       "       0, 0, 0, 0, 0, 0, 0, 0, 0, 0, 0, 0, 1, 0, 0, 0, 0, 0, 0, 0, 0, 0,\n",
       "       0, 0, 0, 0, 0, 0, 0, 1, 1, 0, 0, 1, 1, 0, 1, 0, 0, 1, 1, 0, 1, 0,\n",
       "       0, 1, 1, 0, 0, 1, 1, 0, 1, 1, 0, 1, 1])"
      ]
     },
     "execution_count": 31,
     "metadata": {},
     "output_type": "execute_result"
    }
   ],
   "source": [
    "test_prediction = model(test_x).loc.max(0)[1].numpy()\n",
    "print(test_prediction.shape)\n",
    "test_prediction"
   ]
  },
  {
   "cell_type": "code",
   "execution_count": 35,
   "metadata": {},
   "outputs": [
    {
     "name": "stdout",
     "output_type": "stream",
     "text": [
      "Confusion matrix, without normalization\n",
      "[[374   7]\n",
      " [ 12  16]]\n"
     ]
    },
    {
     "data": {
      "image/png": "[encoded data removed]",
      "text/plain": [
       "<Figure size 640x480 with 2 Axes>"
      ]
     },
     "metadata": {},
     "output_type": "display_data"
    }
   ],
   "source": [
    "cm = confusion_matrix(test_y_df.values, test_prediction)\n",
    "\n",
    "classes = ['0', '1']\n",
    "\n",
    "plot_confusion_matrix(cm, classes)\n",
    "plt.show()"
   ]
  },
  {
   "cell_type": "code",
   "execution_count": 32,
   "metadata": {},
   "outputs": [
    {
     "name": "stdout",
     "output_type": "stream",
     "text": [
      "Confusion matrix, without normalization\n",
      "[[374   7]\n",
      " [ 12  16]]\n"
     ]
    },
    {
     "data": {
      "image/png": "[encoded data removed]",
      "text/plain": [
       "<Figure size 500x500 with 2 Axes>"
      ]
     },
     "metadata": {},
     "output_type": "display_data"
    }
   ],
   "source": [
    "y_true = test_y_df.values\n",
    "y_pred = test_prediction\n",
    "test_cm = confusion_matrix(y_true, y_pred)\n",
    "class_names = [\"0\",\"1\"]\n",
    "\n",
    "plt.rcParams.update({\"font.size\": 20})\n",
    "label_font = {'size':'18'}  # Adjust to fit\n",
    "ax = plt.figure(figsize=(5,5))\n",
    "plt.title(\"NEK2 test set\",fontsize=20)\n",
    "plot_confusion_matrix(test_cm, classes=class_names, normalize=False)\n",
    "plt.xlabel(\"Predicted\",fontdict=label_font);\n",
    "plt.ylabel(\"Actual\",fontdict=label_font);\n"
   ]
  },
  {
   "cell_type": "code",
   "execution_count": 33,
   "metadata": {},
   "outputs": [
    {
     "data": {
      "text/plain": [
       "tensor([[ 2.0531,  1.8634,  1.6386,  1.0237,  1.9316,  1.7780,  1.6448,  2.7069,\n",
       "          2.3533,  1.5191,  2.3653,  2.5162,  1.5317,  2.6377,  1.8342,  1.0966,\n",
       "          2.5759,  1.9429,  2.4366,  0.4738,  1.5161,  2.8969,  0.3823,  2.1495,\n",
       "          2.2847,  2.3711,  2.0177,  1.7720,  1.2750,  1.6192,  2.4529,  0.5589,\n",
       "          2.2474,  0.6991,  1.3432,  2.4347,  2.4333,  2.1543,  2.2171,  2.3004,\n",
       "         -0.1520,  2.2757,  2.3687,  1.9170,  1.6975,  1.7460,  1.8268,  1.8264,\n",
       "          0.8437, -1.2956,  2.0093,  1.8416,  2.1439,  1.6176,  1.9538,  1.7684,\n",
       "          1.1567,  2.2643,  2.3766,  2.4485,  2.2848,  1.7712,  2.6789,  2.2705,\n",
       "          1.9952,  0.9924,  1.7988,  2.5093,  1.7619,  2.1877,  2.4960,  2.0010,\n",
       "          0.7697,  1.7432,  2.4702,  1.0858, -1.9166,  2.1047,  2.5411,  2.4858,\n",
       "          2.6828,  2.2397,  1.4645,  1.6135,  2.6491,  2.2480,  2.5363,  3.0279,\n",
       "          2.7007,  2.4419,  2.5098,  1.4556,  0.8660,  2.3386,  1.5686,  1.5149,\n",
       "          1.1264,  1.8909,  2.5294,  1.5581, -2.2022,  1.8158,  2.2624,  1.3180,\n",
       "          1.7493,  2.0600,  2.2392,  1.3863,  1.0346,  2.6065,  1.4531,  1.0474,\n",
       "          2.3346,  1.5116,  3.1013,  2.2607,  2.4761,  2.1154,  1.7089,  1.1116,\n",
       "          1.5861,  1.3970,  2.0603,  2.5288,  1.9365,  2.2147,  2.6611,  2.1589,\n",
       "          1.6559,  2.1152,  2.5438,  2.1128,  1.9938,  1.5222,  2.5455,  2.4549,\n",
       "          2.3112,  2.4457,  1.5623,  2.3799,  1.6837,  2.4876,  0.6666,  2.5128,\n",
       "          2.6546,  2.6309,  1.4248,  2.3536,  2.0976,  0.8481,  0.7663,  2.3000,\n",
       "          2.2870,  1.9849,  2.2916,  2.2769,  2.6435,  0.5076, -0.5290,  1.8597,\n",
       "          1.6930,  1.8722,  2.4048,  0.1765,  1.5463,  1.2492,  2.8296,  1.3739,\n",
       "          2.3827,  1.4456,  2.5962,  2.0598,  2.4177,  1.2859,  2.2195,  2.3340,\n",
       "          1.6675,  2.4618,  2.6439,  0.8483,  1.2624,  2.0620,  1.8738,  1.9810,\n",
       "          2.4051,  2.5111,  2.4245,  2.3526,  1.8156,  0.7630,  2.0058,  2.2371,\n",
       "          1.8148,  2.5227,  1.5265, -0.4941, -0.3143,  2.4756,  1.5564,  1.8389,\n",
       "          1.1230,  2.4756,  2.1637,  1.9206,  1.9919,  2.5224,  2.0068,  0.8429,\n",
       "          2.5415,  2.8448,  2.1073,  2.5112,  1.7403,  1.4344, -0.3002,  1.3348,\n",
       "          2.0545,  0.1828,  1.9214,  0.9623,  2.4348,  1.5490,  2.7600,  1.2836,\n",
       "          1.2909,  2.4922,  1.4562,  1.6805,  1.5584,  2.3835,  2.4181,  2.1353,\n",
       "          1.6395,  2.3830,  2.7849,  2.4200,  2.4281,  2.4044,  1.3665,  2.6630,\n",
       "          2.2318,  2.4531,  2.2280,  1.6381,  1.3136,  1.2525,  2.2139,  0.8784,\n",
       "          1.4071,  1.8348,  0.5824,  1.5189,  1.6920,  2.5026,  2.1552,  0.8138,\n",
       "          2.0058,  2.2651,  1.9444,  1.4731,  2.8429,  2.5111,  2.3277,  2.1737,\n",
       "          2.4660,  2.2157,  1.6403,  2.2839,  1.6249,  2.2910,  1.3058,  2.6864,\n",
       "          2.0554,  1.2620,  2.4028,  1.5437,  2.4802,  1.8432,  2.1014,  1.5223,\n",
       "          2.5961,  1.4868,  1.7791,  1.5035,  1.2369,  2.1912,  1.3837,  1.3875,\n",
       "          1.4385,  2.3278,  1.8649, -0.3305,  2.2338,  2.3954,  1.6029,  2.3604,\n",
       "          0.8815,  2.6415,  1.5543,  2.2840,  2.4566,  1.6956,  1.3157,  2.3000,\n",
       "          1.9828,  1.2064,  1.1606,  2.2880,  2.2471,  2.3256,  1.6015,  1.3366,\n",
       "          2.5259,  0.4156,  1.2972,  2.5016,  1.7292,  1.8669,  2.3638,  2.4702,\n",
       "          1.4179,  0.7248,  2.3749,  2.3365,  2.6455,  0.6462,  2.4945,  2.9816,\n",
       "          2.4986,  2.4820,  1.5415,  2.1877,  1.3454,  1.5762,  2.3692,  2.5088,\n",
       "          1.7059,  1.8406,  2.1387,  1.0286,  1.7177,  2.0188,  1.7545,  2.3945,\n",
       "          1.4122,  2.6030,  0.2786,  2.1603,  2.6007,  0.6964,  2.0571,  1.4506,\n",
       "          0.7864,  2.4663,  1.9179,  2.5062,  2.3779,  2.3225,  1.0563,  1.7868,\n",
       "          2.3370,  2.4364,  1.0587,  1.5475, -0.9597,  2.5671,  2.1606,  2.5824,\n",
       "          1.8981,  1.0802,  1.6376,  1.7612,  2.1252,  2.4693,  1.8976,  2.0788,\n",
       "          2.1298,  1.7930,  1.3384,  0.3106,  2.5346, -2.1361, -1.7103,  0.2104,\n",
       "          0.1002, -2.6497, -0.0419,  2.4750, -3.2038,  2.4669,  0.6346, -2.0998,\n",
       "         -4.1666,  0.4153, -2.2640,  2.0466, -0.3542, -5.1302, -3.6299,  1.7672,\n",
       "          1.6871, -0.8541, -1.3753, -0.1390, -1.6345, -2.4029,  2.5167, -1.2053,\n",
       "         -0.7156],\n",
       "        [-3.4325, -2.1701, -4.9589, -2.2946, -4.5682, -2.5304, -3.5953, -2.8606,\n",
       "         -3.6794, -0.6345, -4.1152, -3.8702, -5.1769, -3.3393, -2.5480, -2.3333,\n",
       "         -3.3412, -1.1985, -3.8028, -1.4073, -1.8511, -4.6401, -2.2512, -2.7780,\n",
       "         -3.5827, -3.2583, -3.2599, -4.6880, -1.9783, -4.3913, -2.7829, -0.9928,\n",
       "         -1.4475, -1.6140, -3.4016, -2.8157, -2.2075, -4.0024, -3.8374, -3.9209,\n",
       "         -0.6301, -3.8664, -3.1652, -5.5191, -2.3226, -4.8794, -5.6338, -5.2642,\n",
       "         -1.0754, -0.7474, -3.4191, -5.3397, -2.6534, -5.6793, -4.3184, -2.6399,\n",
       "         -4.4441, -2.8980, -2.4888, -3.0168, -4.6352, -3.8033, -3.6434, -2.1075,\n",
       "         -1.8175, -3.2784, -4.8576, -2.4143, -3.1554, -2.8382, -2.8836, -4.8520,\n",
       "         -0.8125, -4.4424, -2.7737, -3.9638,  0.2419, -5.0440, -3.0112, -2.5027,\n",
       "         -2.8047, -4.3283, -2.3850, -1.3232, -3.8390, -3.8046, -2.9455, -4.6657,\n",
       "         -3.4477, -3.9357, -2.5476, -3.2890, -2.6364, -3.5871, -3.8531, -4.1196,\n",
       "         -3.1490, -1.9534, -4.1331, -1.3379,  1.7294, -4.4774, -3.6899, -2.3523,\n",
       "         -5.5328, -3.1720, -3.7870, -4.8631, -3.9123, -2.8007, -1.2563, -2.8101,\n",
       "         -3.8939, -4.8307, -4.4396, -4.5092, -3.9169, -3.8338, -3.5847, -2.5807,\n",
       "         -3.6424, -5.2670, -4.1541, -3.2613, -1.3657, -2.1732, -4.8245, -4.1782,\n",
       "         -3.7258, -4.0695, -3.9751, -3.6067, -6.0036, -2.6963, -5.3702, -2.9262,\n",
       "         -2.5760, -3.2773, -2.3715, -2.3712, -4.8186, -2.9379, -1.4594, -2.6069,\n",
       "         -4.8188, -3.8407, -2.1744, -3.6107, -2.9737, -0.0956, -1.7309, -2.9589,\n",
       "         -1.6025, -2.0672, -2.8074, -2.4732, -3.7581, -0.3770, -2.1612, -1.8361,\n",
       "         -4.6475, -4.7161, -5.2487, -1.4527, -4.8323, -2.6708, -3.9474, -4.8351,\n",
       "         -3.5700, -4.8661, -3.2695, -3.3523, -4.1751, -2.7070, -3.1500, -3.5839,\n",
       "         -1.5244, -2.5732, -3.9638, -1.7846, -5.4190, -1.9434, -0.9244, -3.9428,\n",
       "         -3.8645, -2.1137, -2.9401, -3.9157, -2.6415, -2.4388, -4.1562, -3.2033,\n",
       "         -5.2597, -2.3541, -3.6333,  0.7443,  0.2919, -2.7319, -4.9289, -4.6598,\n",
       "         -1.0721, -2.7851, -5.1025, -3.7669, -3.3365, -2.3472, -3.0028, -3.4631,\n",
       "         -4.5482, -3.7113, -2.6095, -2.2070, -3.5078, -3.2261, -1.0199, -1.2104,\n",
       "         -3.0759,  0.7981, -4.3491, -3.7863, -2.9358, -2.8431, -3.7104, -1.8740,\n",
       "         -1.6524, -2.4345, -2.9014, -5.5736, -2.1676, -2.4697, -2.7127, -4.8619,\n",
       "         -3.9163, -3.8026, -3.6472, -2.5059, -2.6534, -2.3608, -4.2636, -3.0013,\n",
       "         -4.8298, -3.9478, -3.5825, -5.2518, -2.2294, -4.5123, -4.3137, -1.6572,\n",
       "         -5.0438, -3.3017, -2.6858, -3.3922, -2.5315, -2.5894, -4.6346, -1.3852,\n",
       "         -3.0801, -4.2872, -4.5853, -0.9955, -5.1574, -2.1272, -4.0120, -4.4279,\n",
       "         -3.1170, -3.7029, -3.8852, -3.7903, -1.1393, -3.3170, -5.4527, -3.8277,\n",
       "         -4.1481, -1.7835, -3.8519, -4.5503, -4.0764, -4.1340, -2.2835, -2.9075,\n",
       "         -3.6272, -1.3698, -3.4031, -4.6709, -3.4483, -4.5961, -2.5468, -2.9580,\n",
       "         -2.0622, -3.4907, -6.1879,  0.3195, -3.4038, -3.0752, -5.0958, -3.1506,\n",
       "         -1.0467, -4.0742, -0.9468, -3.7305, -3.6968, -2.5235, -0.7256, -3.6327,\n",
       "         -3.2146, -2.1486, -2.7100, -3.7256, -2.5610, -4.7973, -4.8248, -1.9314,\n",
       "         -3.6184, -0.6221, -3.1814, -3.5589, -4.3175, -3.9005, -4.4222, -4.0122,\n",
       "         -3.2876, -4.0081, -3.4349, -3.5450, -4.1732, -1.3235, -3.8546, -4.3924,\n",
       "         -3.6787, -3.0375, -4.2285, -2.8382, -1.7703, -4.0063, -2.7720, -2.6544,\n",
       "         -2.6250, -2.4379, -2.2971, -2.5364, -4.4232, -2.0585, -5.0956, -4.3703,\n",
       "         -1.7535, -4.0019, -0.2095, -2.7796, -3.8381, -0.4397, -2.7057, -2.4554,\n",
       "         -1.2204, -2.7351, -3.8255, -4.4257, -4.4455, -2.3099, -4.4376, -0.5019,\n",
       "         -4.8108, -3.0531, -4.5131, -3.7157,  0.2123, -2.5864, -4.4535, -3.2037,\n",
       "         -2.8712, -3.5197, -3.5614, -4.2501, -4.0838, -2.7262, -1.3214, -5.2056,\n",
       "         -2.9188, -2.5003, -1.5361, -0.7738, -3.4228,  0.9861,  0.4771,  0.1891,\n",
       "          0.2959,  0.0839,  0.8063, -2.3347,  1.1300, -2.4353, -0.5688,  0.5032,\n",
       "          1.5407, -0.4538,  0.7596, -2.2358,  0.1632,  1.9553,  1.5220, -0.8239,\n",
       "         -1.7725,  0.1233,  0.9659, -1.5505,  1.0937,  1.3064, -2.6722,  0.2815,\n",
       "          0.8060]])"
      ]
     },
     "execution_count": 33,
     "metadata": {},
     "output_type": "execute_result"
    }
   ],
   "source": [
    "lower, upper = observed_pred.confidence_region()\n",
    "upper"
   ]
  },
  {
   "cell_type": "code",
   "execution_count": 34,
   "metadata": {},
   "outputs": [
    {
     "data": {
      "text/plain": [
       "array([[-3.65290821e-01, -7.09954917e-01, -2.77411163e-01,\n",
       "        -1.07431817e+00, -2.82231510e-01, -7.84743249e-01,\n",
       "        -5.31273544e-01, -1.15089655e-01, -2.23355711e-01,\n",
       "        -1.26308393e+00, -1.27039254e-01, -1.78931415e-01,\n",
       "        -3.72042358e-01, -1.97962359e-01, -6.80528224e-01,\n",
       "        -1.20366025e+00, -2.33387575e-01, -7.92413950e-01,\n",
       "        -1.82981670e-01, -1.91463590e+00, -1.18099666e+00,\n",
       "         1.84769213e-01, -1.44712901e+00, -4.00583416e-01,\n",
       "        -3.53374898e-01, -3.39126289e-01, -4.48680341e-01,\n",
       "        -4.24839437e-01, -1.09573185e+00, -3.84473503e-01,\n",
       "        -3.63407165e-01, -1.93063688e+00, -5.59512317e-01,\n",
       "        -1.75317407e+00, -5.78015506e-01, -3.04399073e-01,\n",
       "        -4.11371976e-01, -2.21675575e-01, -2.33320057e-01,\n",
       "        -2.24781454e-01, -2.51589704e+00, -1.93367839e-01,\n",
       "        -3.47064942e-01,  1.40027821e-01, -4.64669168e-01,\n",
       "        -1.49663627e-01,  5.45139909e-02, -4.02221084e-02,\n",
       "        -1.58734226e+00, -3.32143950e+00, -5.57654679e-01,\n",
       "        -1.87809825e-01, -5.09472549e-01, -1.07135475e-01,\n",
       "        -2.76940286e-01, -8.95429194e-01, -6.07088506e-01,\n",
       "        -4.80745256e-01, -4.09350812e-01, -3.64359021e-01,\n",
       "         1.40131116e-02, -4.03404415e-01, -6.29115701e-02,\n",
       "        -5.52312136e-01, -7.17786968e-01, -1.05295229e+00,\n",
       "        -2.36235201e-01, -3.36028218e-01, -5.50713003e-01,\n",
       "        -3.92566383e-01, -3.22023511e-01,  3.21076512e-02,\n",
       "        -1.54934716e+00, -1.70975983e-01, -3.30989361e-01,\n",
       "        -5.99098384e-01, -4.02248526e+00,  1.25592351e-02,\n",
       "        -2.72385716e-01, -3.20633769e-01, -1.28337860e-01,\n",
       "         2.04117894e-02, -1.11731672e+00, -9.57932651e-01,\n",
       "        -1.41544670e-01, -1.69988811e-01, -3.07179958e-01,\n",
       "         3.61751020e-01, -1.15377679e-01, -3.89994383e-02,\n",
       "        -3.34455311e-01, -9.13153946e-01, -1.23517656e+00,\n",
       "        -2.73721814e-01, -5.60452759e-01, -4.69658077e-01,\n",
       "        -9.74355757e-01, -9.16900754e-01, -1.67170063e-01,\n",
       "        -1.18739617e+00, -4.65777302e+00, -4.01803195e-01,\n",
       "        -3.67537946e-01, -1.02132225e+00, -6.00430369e-02,\n",
       "        -5.70016325e-01, -2.42047131e-01, -3.31011802e-01,\n",
       "        -7.02383459e-01, -2.39104450e-01, -1.26252937e+00,\n",
       "        -9.28626716e-01, -1.72559321e-01, -3.12513530e-01,\n",
       "         3.86793315e-01, -1.76870048e-01, -2.06965685e-01,\n",
       "        -2.96605527e-01, -6.32689536e-01, -9.25764740e-01,\n",
       "        -4.89982784e-01, -3.07197034e-01, -2.49314129e-01,\n",
       "        -2.99856871e-01, -8.52275312e-01, -5.32647789e-01,\n",
       "         1.35902464e-01, -3.69500518e-01, -5.77820003e-01,\n",
       "        -3.24033320e-01, -1.03509188e-01, -2.22232997e-01,\n",
       "         1.52344286e-01, -8.81038845e-01,  2.50505090e-01,\n",
       "        -3.66278648e-01, -4.36348617e-01, -1.76800311e-01,\n",
       "        -9.15347397e-01, -4.60124731e-01, -3.32010090e-01,\n",
       "        -3.28180552e-01, -1.66165757e+00, -3.32916528e-01,\n",
       "         1.06279612e-01, -1.33724451e-01, -9.65983808e-01,\n",
       "        -3.74626845e-01, -5.17095149e-01, -1.90040731e+00,\n",
       "        -1.72610545e+00, -4.30448651e-01, -5.45906305e-01,\n",
       "        -7.27053285e-01, -3.71916473e-01, -5.51208079e-01,\n",
       "        -2.59059668e-03, -1.87541080e+00, -2.36220717e+00,\n",
       "        -8.82562101e-01, -2.80530870e-01, -2.81557441e-02,\n",
       "         2.01877534e-01, -1.88443828e+00, -2.68555343e-01,\n",
       "        -1.16776299e+00,  2.32187688e-01, -3.12572539e-01,\n",
       "        -2.43289232e-01, -3.89022291e-01, -2.14857489e-01,\n",
       "        -4.14025486e-01, -1.49342000e-01, -8.36646259e-01,\n",
       "        -4.41531181e-01, -2.51987398e-01, -1.11372578e+00,\n",
       "        -3.38270307e-01,  5.02092242e-02, -1.23240590e+00,\n",
       "        -2.73497045e-01, -7.43094742e-01, -5.05903065e-01,\n",
       "        -2.77624071e-01, -2.30515271e-01, -3.35214943e-01,\n",
       "        -3.58922154e-01, -1.74624741e-01, -7.25385725e-01,\n",
       "        -1.36641622e+00, -2.99882948e-01, -3.44534576e-01,\n",
       "        -4.25860286e-02, -3.20418805e-01, -5.92089355e-01,\n",
       "        -2.57509875e+00, -2.86177206e+00, -3.16929460e-01,\n",
       "        -2.29437292e-01, -3.35884392e-01, -1.58310580e+00,\n",
       "        -3.26223612e-01,  4.97775674e-02, -3.12030971e-01,\n",
       "        -6.26598477e-01, -2.90315092e-01, -3.78840268e-01,\n",
       "        -1.01838374e+00, -6.08361959e-02,  3.45379114e-02,\n",
       "        -5.84796607e-01, -3.35122883e-01, -5.69777906e-01,\n",
       "        -9.83403981e-01, -2.60014367e+00, -1.41789889e+00,\n",
       "        -6.58620477e-01, -2.29013562e+00, -3.94839704e-01,\n",
       "        -8.47106874e-01, -3.78895283e-01, -6.36280715e-01,\n",
       "         8.03483129e-02, -1.19278169e+00, -1.05309796e+00,\n",
       "        -3.52523267e-01, -8.83204639e-01, -2.95935273e-02,\n",
       "        -9.12849367e-01, -3.49621713e-01, -3.07474315e-01,\n",
       "        -8.25349689e-02, -5.06863534e-01, -7.44591355e-02,\n",
       "        -1.71861351e-02, -4.17352676e-01, -4.01145220e-01,\n",
       "        -4.26840782e-01, -4.62933719e-01, -1.78928792e-01,\n",
       "         1.09177232e-02, -1.42934144e-01, -2.10644901e-01,\n",
       "        -8.90473723e-02, -1.21158111e+00, -5.49968421e-01,\n",
       "        -1.60564184e-01, -1.56449199e+00, -3.08941782e-01,\n",
       "        -3.12795103e-01, -1.52030969e+00, -6.28076494e-01,\n",
       "        -7.17174709e-01, -3.37638170e-01,  7.50148296e-03,\n",
       "        -1.62619281e+00, -3.82514656e-01, -2.39363313e-02,\n",
       "        -1.99943006e-01, -1.24275804e+00,  4.97694075e-01,\n",
       "        -3.35229069e-01, -1.94499135e-01, -2.30555475e-01,\n",
       "        -1.30440295e-01, -2.16045439e-01, -4.78080094e-01,\n",
       "        -3.26419055e-01, -1.18914127e+00, -3.76503527e-01,\n",
       "        -1.74731076e-01,  3.78822684e-02, -2.87699431e-01,\n",
       "        -1.45104742e+00, -9.85779166e-02, -3.53301466e-01,\n",
       "        -1.49753034e-01, -2.75409877e-01, -5.53498447e-01,\n",
       "        -8.82531345e-01, -1.06818318e-01, -1.25084770e+00,\n",
       "        -7.55372226e-01, -3.70631158e-01, -8.70683849e-01,\n",
       "        -1.26182973e-01, -1.06302953e+00, -6.99434936e-01,\n",
       "        -1.15124178e+00, -3.10055196e-01,  1.41659915e-01,\n",
       "        -2.34894443e+00, -4.18380618e-01, -4.11229223e-01,\n",
       "        -1.43063247e-01, -2.61240661e-01, -1.78050470e+00,\n",
       "         1.45733953e-02, -1.21137023e+00, -2.98631012e-01,\n",
       "        -2.77997673e-01, -1.03400064e+00, -1.40130210e+00,\n",
       "        -2.22301185e-01, -5.72309077e-01, -1.32832599e+00,\n",
       "        -1.00378752e+00, -1.49847925e-01, -4.60764587e-01,\n",
       "        -2.94143558e-02, -3.25723350e-01, -1.13920665e+00,\n",
       "        -2.11405903e-01, -2.11000252e+00, -6.58750474e-01,\n",
       "        -1.45986736e-01, -2.99295604e-01, -3.58464420e-01,\n",
       "        -1.35121167e-01, -1.20616853e-01, -8.10957432e-01,\n",
       "        -8.97901237e-01, -3.05132985e-01, -2.69126356e-01,\n",
       "        -9.77195650e-02, -1.71722388e+00, -1.86045200e-01,\n",
       "         2.42867827e-01, -1.49746686e-01, -3.41237932e-01,\n",
       "        -4.33783591e-01, -3.92566621e-01, -1.07592487e+00,\n",
       "        -3.98291290e-01, -3.50972861e-01, -3.33140701e-01,\n",
       "        -5.76554000e-01, -7.33412206e-01, -5.74113429e-01,\n",
       "        -1.33358741e+00, -2.39891708e-01, -7.64108181e-01,\n",
       "        -1.03786170e-01, -1.77386999e-01, -1.22365570e+00,\n",
       "        -1.48268223e-01, -1.70509481e+00, -1.44490898e-01,\n",
       "        -1.33285642e-01, -1.93572927e+00, -6.65454924e-01,\n",
       "        -7.33550251e-01, -1.78994346e+00, -3.51594001e-01,\n",
       "        -4.62260067e-01,  3.38867307e-02,  4.09614444e-02,\n",
       "        -4.10520017e-01, -6.21735096e-01, -9.62239206e-01,\n",
       "        -8.17115307e-02, -8.71574283e-02, -4.93909419e-01,\n",
       "        -5.05125344e-01, -3.49916720e+00, -2.76778579e-01,\n",
       "        -2.17654616e-01, -2.56122321e-01, -4.09524620e-01,\n",
       "        -8.55971277e-01, -7.18889058e-01, -3.38601112e-01,\n",
       "        -2.48827159e-01, -3.67693365e-01, -7.09220886e-01,\n",
       "         1.61701977e-01, -6.32634342e-01, -8.27565491e-01,\n",
       "        -1.24050713e+00, -2.30967689e+00, -1.01903617e-01,\n",
       "        -4.34329271e+00, -4.09832144e+00, -2.46455503e+00,\n",
       "        -2.51486254e+00, -4.51615715e+00, -2.67986965e+00,\n",
       "        -3.57527077e-01, -5.18208313e+00, -3.47143114e-01,\n",
       "        -2.05179143e+00, -4.25700045e+00, -6.15509701e+00,\n",
       "        -2.22743773e+00, -4.38852596e+00, -7.45138943e-01,\n",
       "        -2.88489151e+00, -6.99002600e+00, -5.64162874e+00,\n",
       "        -1.03175759e+00, -9.40885603e-01, -2.84476066e+00,\n",
       "        -3.74510121e+00, -2.08313203e+00, -4.08145046e+00,\n",
       "        -4.65512133e+00, -3.26443940e-01, -3.36604595e+00,\n",
       "        -3.14310145e+00],\n",
       "       [-6.27243757e+00, -5.27261257e+00, -7.07345581e+00,\n",
       "        -4.65712547e+00, -7.19042110e+00, -5.63143158e+00,\n",
       "        -6.03765774e+00, -6.65465069e+00, -6.81201839e+00,\n",
       "        -4.30796051e+00, -7.10650063e+00, -7.17676449e+00,\n",
       "        -7.32387924e+00, -7.20323086e+00, -5.52653408e+00,\n",
       "        -4.94859791e+00, -7.05605650e+00, -4.72544289e+00,\n",
       "        -6.91994572e+00, -4.10239506e+00, -5.21308184e+00,\n",
       "        -8.03956890e+00, -4.21462536e+00, -5.80328751e+00,\n",
       "        -6.81526995e+00, -6.67710590e+00, -6.18769741e+00,\n",
       "        -7.10915613e+00, -4.75017166e+00, -6.72537470e+00,\n",
       "        -6.52868366e+00, -3.90963840e+00, -5.19404697e+00,\n",
       "        -4.60385084e+00, -5.52391434e+00, -6.29604244e+00,\n",
       "        -6.20667267e+00, -6.86244917e+00, -6.66049862e+00,\n",
       "        -6.80818939e+00, -3.36341476e+00, -6.79323864e+00,\n",
       "        -6.67793703e+00, -7.47357225e+00, -4.80186462e+00,\n",
       "        -6.94909286e+00, -7.56203747e+00, -7.38198328e+00,\n",
       "        -3.84957862e+00, -2.97931838e+00, -6.52715111e+00,\n",
       "        -7.63970852e+00, -5.99160528e+00, -7.58741474e+00,\n",
       "        -6.77747726e+00, -5.89436245e+00, -6.36558819e+00,\n",
       "        -6.41596746e+00, -6.16712570e+00, -6.78410912e+00,\n",
       "        -7.25108624e+00, -6.22518921e+00, -7.15813303e+00,\n",
       "        -5.97020388e+00, -5.28146553e+00, -5.46917963e+00,\n",
       "        -7.20127773e+00, -6.43278599e+00, -5.85232735e+00,\n",
       "        -5.88713217e+00, -6.68536806e+00, -7.00454187e+00,\n",
       "        -3.51228452e+00, -6.61155462e+00, -6.49624968e+00,\n",
       "        -5.81798077e+00, -2.14618158e+00, -7.36795807e+00,\n",
       "        -6.79211760e+00, -6.27117157e+00, -6.57676554e+00,\n",
       "        -6.81080151e+00, -5.55415154e+00, -4.41417980e+00,\n",
       "        -7.46132565e+00, -6.63041496e+00, -6.90479612e+00,\n",
       "        -7.99256039e+00, -7.22516489e+00, -6.85367107e+00,\n",
       "        -6.56668568e+00, -5.93095589e+00, -5.03472614e+00,\n",
       "        -6.83716583e+00, -6.28230953e+00, -6.35770893e+00,\n",
       "        -5.48830271e+00, -5.67786741e+00, -7.37606764e+00,\n",
       "        -4.87130547e+00, -1.17549133e+00, -7.02478886e+00,\n",
       "        -6.89519930e+00, -5.07868385e+00, -7.56844091e+00,\n",
       "        -6.38823891e+00, -6.80911350e+00, -6.80011559e+00,\n",
       "        -5.99802303e+00, -6.81274891e+00, -4.72467279e+00,\n",
       "        -4.96952820e+00, -6.85986757e+00, -6.94681549e+00,\n",
       "        -7.79626656e+00, -7.32364941e+00, -7.33766460e+00,\n",
       "        -6.66770744e+00, -6.34022999e+00, -4.84742737e+00,\n",
       "        -5.87403965e+00, -7.17165661e+00, -6.74150372e+00,\n",
       "        -7.10702133e+00, -5.04527283e+00, -5.72296715e+00,\n",
       "        -7.76430655e+00, -7.14201069e+00, -6.27562046e+00,\n",
       "        -6.99773121e+00, -7.27348137e+00, -6.30527353e+00,\n",
       "        -8.02266121e+00, -5.52711678e+00, -8.00288582e+00,\n",
       "        -6.72139454e+00, -6.11880064e+00, -6.54079819e+00,\n",
       "        -5.26499176e+00, -6.31621075e+00, -7.09144783e+00,\n",
       "        -6.73133993e+00, -4.17715979e+00, -6.62130690e+00,\n",
       "        -7.85402536e+00, -7.38424587e+00, -4.83557129e+00,\n",
       "        -7.07296658e+00, -6.18325424e+00, -3.65206409e+00,\n",
       "        -4.70426559e+00, -6.45612717e+00, -5.51348114e+00,\n",
       "        -5.49673510e+00, -6.09488487e+00, -6.32216644e+00,\n",
       "        -6.98108292e+00, -3.13988757e+00, -4.15379524e+00,\n",
       "        -5.32422113e+00, -6.97747469e+00, -6.78739023e+00,\n",
       "        -7.70746231e+00, -3.75669622e+00, -6.89143085e+00,\n",
       "        -5.51559830e+00, -7.13176775e+00, -6.81288815e+00,\n",
       "        -6.74599361e+00, -6.87554264e+00, -6.94185877e+00,\n",
       "        -6.25913143e+00, -7.25666857e+00, -5.02152634e+00,\n",
       "        -6.46970272e+00, -6.66334009e+00, -5.17421007e+00,\n",
       "        -6.25617504e+00, -7.13588619e+00, -4.07997036e+00,\n",
       "        -7.10087967e+00, -5.67031860e+00, -3.73801899e+00,\n",
       "        -6.60249138e+00, -7.11615086e+00, -6.15106106e+00,\n",
       "        -6.63846254e+00, -6.91447878e+00, -5.74088669e+00,\n",
       "        -4.79547071e+00, -6.81810379e+00, -6.31573963e+00,\n",
       "        -7.31043816e+00, -6.33273792e+00, -6.03149605e+00,\n",
       "        -1.60338974e+00, -2.86443663e+00, -6.42206573e+00,\n",
       "        -6.92462063e+00, -7.14065599e+00, -4.49239588e+00,\n",
       "        -6.55763817e+00, -7.52262688e+00, -6.29590464e+00,\n",
       "        -6.50176287e+00, -6.12687016e+00, -5.82869387e+00,\n",
       "        -5.48624325e+00, -7.70954704e+00, -7.49486542e+00,\n",
       "        -6.03934479e+00, -6.24366951e+00, -6.04625797e+00,\n",
       "        -6.09325790e+00, -3.53853393e+00, -4.74904966e+00,\n",
       "        -6.46411514e+00, -2.15940261e+00, -6.98253012e+00,\n",
       "        -5.69510555e+00, -6.73602867e+00, -5.24029970e+00,\n",
       "        -7.06416988e+00, -4.79064989e+00, -4.39377832e+00,\n",
       "        -6.43329859e+00, -5.66773796e+00, -7.49384260e+00,\n",
       "        -5.08218288e+00, -5.99295950e+00, -6.16869879e+00,\n",
       "        -7.50213432e+00, -6.41598845e+00, -6.77082348e+00,\n",
       "        -7.40999126e+00, -6.43966103e+00, -6.52317572e+00,\n",
       "        -6.26479673e+00, -6.25512552e+00, -6.94791126e+00,\n",
       "        -7.46442604e+00, -7.00797176e+00, -6.34533978e+00,\n",
       "        -7.27665520e+00, -5.23508453e+00, -6.48756075e+00,\n",
       "        -7.00410128e+00, -4.46298122e+00, -6.98520279e+00,\n",
       "        -5.76447248e+00, -5.02598190e+00, -5.75812721e+00,\n",
       "        -5.41372299e+00, -6.55629921e+00, -7.11903286e+00,\n",
       "        -4.27162838e+00, -5.95941401e+00, -6.88467026e+00,\n",
       "        -7.04102612e+00, -4.47230339e+00, -7.81915474e+00,\n",
       "        -6.16458702e+00, -6.90125942e+00, -7.20000696e+00,\n",
       "        -6.25281715e+00, -6.49081993e+00, -6.23687935e+00,\n",
       "        -6.94067430e+00, -4.91912746e+00, -6.71496868e+00,\n",
       "        -7.18153667e+00, -7.09078360e+00, -6.81708336e+00,\n",
       "        -5.17648077e+00, -6.77334023e+00, -6.56614017e+00,\n",
       "        -7.29625940e+00, -6.64803839e+00, -5.56510544e+00,\n",
       "        -5.66295910e+00, -7.04259157e+00, -4.87749577e+00,\n",
       "        -6.28502083e+00, -6.83922672e+00, -5.72821999e+00,\n",
       "        -7.20869970e+00, -5.46430397e+00, -5.23253345e+00,\n",
       "        -5.10391426e+00, -6.70493746e+00, -8.10813332e+00,\n",
       "        -2.06977654e+00, -6.72118950e+00, -6.78056288e+00,\n",
       "        -7.06996489e+00, -6.29712772e+00, -4.36507988e+00,\n",
       "        -7.17551231e+00, -4.54102325e+00, -6.77731133e+00,\n",
       "        -7.16344738e+00, -6.01391792e+00, -4.20886564e+00,\n",
       "        -6.67416191e+00, -6.28671694e+00, -5.21865416e+00,\n",
       "        -5.13325500e+00, -6.59333277e+00, -5.96066761e+00,\n",
       "        -7.53908920e+00, -6.93499947e+00, -4.87678623e+00,\n",
       "        -7.14202213e+00, -3.69254541e+00, -5.37554550e+00,\n",
       "        -6.79381371e+00, -6.44577789e+00, -6.43526268e+00,\n",
       "        -7.35654259e+00, -7.16614962e+00, -5.75101376e+00,\n",
       "        -5.80416107e+00, -6.80124187e+00, -6.70414543e+00,\n",
       "        -7.63824272e+00, -4.03726387e+00, -7.12621307e+00,\n",
       "        -7.91538143e+00, -6.94152737e+00, -6.86571217e+00,\n",
       "        -6.55367804e+00, -5.88713264e+00, -4.58955956e+00,\n",
       "        -6.27092552e+00, -6.19219494e+00, -6.61003828e+00,\n",
       "        -5.22053719e+00, -5.61355114e+00, -5.71702003e+00,\n",
       "        -5.32277012e+00, -6.57252884e+00, -5.69014835e+00,\n",
       "        -7.18225956e+00, -7.40428591e+00, -4.95733166e+00,\n",
       "        -7.44442749e+00, -2.45215893e+00, -5.41531324e+00,\n",
       "        -7.28820705e+00, -3.67523742e+00, -6.16805363e+00,\n",
       "        -4.96342278e+00, -4.34425402e+00, -6.54702473e+00,\n",
       "        -6.58946419e+00, -7.33670139e+00, -7.05345154e+00,\n",
       "        -5.86823511e+00, -6.32728720e+00, -4.05464077e+00,\n",
       "        -7.58758593e+00, -6.07873535e+00, -6.32676458e+00,\n",
       "        -5.96395779e+00, -2.88102818e+00, -6.57672119e+00,\n",
       "        -7.20065928e+00, -7.10133791e+00, -5.54178047e+00,\n",
       "        -5.67557478e+00, -6.30628347e+00, -6.67919493e+00,\n",
       "        -6.77955055e+00, -6.60972500e+00, -4.48246574e+00,\n",
       "        -7.30223274e+00, -6.47172165e+00, -5.76799870e+00,\n",
       "        -4.60819197e+00, -4.02042246e+00, -6.67277336e+00,\n",
       "        -1.54700565e+00, -2.28070259e+00, -3.23538828e+00,\n",
       "        -2.92534399e+00, -1.94871092e+00, -2.48291612e+00,\n",
       "        -6.23816967e+00, -1.06124306e+00, -6.26184082e+00,\n",
       "        -3.92470074e+00, -2.02733183e+00, -6.52422905e-01,\n",
       "        -3.72904277e+00, -1.68016243e+00, -5.93616438e+00,\n",
       "        -2.90362263e+00, -1.00672722e-01, -8.28048706e-01,\n",
       "        -4.56730080e+00, -4.96114254e+00, -2.08089781e+00,\n",
       "        -1.85640144e+00, -3.76552176e+00, -1.85662794e+00,\n",
       "        -1.36150742e+00, -6.63317060e+00, -2.21525812e+00,\n",
       "        -2.07878685e+00]], dtype=float32)"
      ]
     },
     "execution_count": 34,
     "metadata": {},
     "output_type": "execute_result"
    }
   ],
   "source": [
    "observed_pred.mean.numpy()"
   ]
  },
  {
   "cell_type": "code",
   "execution_count": 51,
   "metadata": {},
   "outputs": [
    {
     "name": "stdout",
     "output_type": "stream",
     "text": [
      "(2, 283)\n"
     ]
    },
    {
     "data": {
      "text/plain": [
       "array([[1.6080365 , 1.7258031 , 1.722547  , 1.733978  , 1.6894143 ,\n",
       "        1.7277446 , 1.751997  , 1.1078259 , 1.6152217 , 1.7458154 ,\n",
       "        1.7311641 , 1.7119017 , 1.7524768 , 1.7287016 , 1.20453   ,\n",
       "        1.7535381 , 1.6047035 , 1.6994399 , 1.6279547 , 1.575781  ,\n",
       "        1.7509732 , 1.6962113 , 1.2047267 , 1.6745958 , 1.7271354 ,\n",
       "        1.3377223 , 1.3266654 , 1.7463734 , 1.5823244 , 1.4594831 ,\n",
       "        1.5471078 , 1.6497241 , 1.7189528 , 1.7251946 , 1.7280121 ,\n",
       "        1.7414677 , 1.4515147 , 1.7527758 , 1.7375165 , 1.1245022 ,\n",
       "        1.6056304 , 1.747114  , 1.7351716 , 1.7522563 , 1.7128606 ,\n",
       "        1.6899242 , 1.5587143 , 1.7270778 , 1.65323   , 1.7304196 ,\n",
       "        1.5221274 , 1.7136564 , 1.6965994 , 1.5831627 , 1.7440356 ,\n",
       "        1.7534902 , 1.7363719 , 1.0710099 , 1.6836554 , 1.6593465 ,\n",
       "        1.6825418 , 1.7518717 , 1.6999005 , 1.6509863 , 1.4307544 ,\n",
       "        1.7022696 , 1.7464169 , 1.7379916 , 1.7344978 , 1.6497399 ,\n",
       "        1.6543621 , 1.7527508 , 1.6762116 , 1.7468557 , 1.627732  ,\n",
       "        1.6721693 , 1.7026558 , 1.7536162 , 1.6833484 , 1.722907  ,\n",
       "        1.5885032 , 1.7439485 , 1.7351704 , 1.2061359 , 1.6817474 ,\n",
       "        1.7430875 , 1.7536384 , 1.6856062 , 1.4418889 , 1.5826285 ,\n",
       "        1.7129995 , 1.7267064 , 1.6127555 , 1.7528803 , 1.7332296 ,\n",
       "        1.3745785 , 1.6506885 , 1.7243809 , 1.7489967 , 1.6070043 ,\n",
       "        1.6793655 , 1.734872  , 1.5879468 , 1.7408571 , 1.7057925 ,\n",
       "        1.3220539 , 1.5220311 , 1.7510523 , 1.2714492 , 1.7108244 ,\n",
       "        1.300469  , 1.5835952 , 1.7396561 , 1.7509258 , 1.6804929 ,\n",
       "        1.6775192 , 1.7086903 , 1.7144265 , 1.7142196 , 1.7285163 ,\n",
       "        1.7085987 , 1.6970056 , 1.6256692 , 1.6838654 , 1.6797072 ,\n",
       "        1.268528  , 1.6966013 , 1.7493958 , 1.646898  , 1.6338091 ,\n",
       "        1.7388853 , 1.7195559 , 1.6768965 , 1.728781  , 1.7536366 ,\n",
       "        0.89297885, 1.240767  , 1.4262979 , 1.7499152 , 1.7501793 ,\n",
       "        1.6879957 , 1.5850515 , 1.7114336 , 1.68729   , 1.6213604 ,\n",
       "        1.4959705 , 1.2136889 , 1.6144942 , 1.4776304 , 1.5846609 ,\n",
       "        1.6180209 , 1.56713   , 1.4725859 , 1.6372861 , 1.7466036 ,\n",
       "        1.7288258 , 1.5575634 , 1.75323   , 1.6410849 , 1.4806261 ,\n",
       "        1.7025077 , 1.6932665 , 1.7537241 , 1.63559   , 1.7169489 ,\n",
       "        1.752717  , 1.1475289 , 1.6633099 , 1.7474777 , 1.7474471 ,\n",
       "        1.6935601 , 1.7515494 , 1.6739558 , 1.4023181 , 1.3923919 ,\n",
       "        1.4114649 , 1.5868843 , 1.6443515 , 1.7445356 , 1.6955626 ,\n",
       "        1.2965405 , 1.6411418 , 1.6920884 , 1.4995891 , 1.3926682 ,\n",
       "        1.7229272 , 1.7267437 , 1.7056888 , 1.7536948 , 1.0437646 ,\n",
       "        1.7492617 , 1.3806968 , 1.7537206 , 1.7532437 , 1.6877562 ,\n",
       "        1.6915753 , 1.2067113 , 1.7302567 , 1.1860013 , 1.7308655 ,\n",
       "        1.7369121 , 1.7522955 , 1.7294389 , 1.5865586 , 1.5541996 ,\n",
       "        1.430513  , 1.6866754 , 1.6211629 , 1.3725297 , 1.2896752 ,\n",
       "        1.5445204 , 1.6879842 , 1.7481853 , 1.643595  , 1.3448374 ,\n",
       "        1.3010683 , 1.7483947 , 1.7535979 , 1.528472  , 1.5666096 ,\n",
       "        1.7381432 , 1.7155832 , 1.6446958 , 1.2530913 , 1.727085  ,\n",
       "        1.7537239 , 1.7441053 , 1.716399  , 1.2096539 , 1.7475654 ,\n",
       "        1.7376014 , 1.7537075 , 1.1805263 , 1.6203533 , 1.7083988 ,\n",
       "        1.7470006 , 1.7537221 , 1.18993   , 1.681002  , 1.7436833 ,\n",
       "        1.6841174 , 1.3655692 , 1.5660765 , 1.7298235 , 1.7196177 ,\n",
       "        1.7401006 , 1.6221726 , 1.736887  , 1.7513529 , 1.6126783 ,\n",
       "        1.2949104 , 1.3026723 , 1.6947055 , 1.6753762 , 1.6209623 ,\n",
       "        1.7358861 , 1.663446  , 1.7368951 , 1.747799  , 1.7514358 ,\n",
       "        1.7524093 , 1.5688368 , 1.6844728 , 1.7531594 , 1.7422209 ,\n",
       "        1.7251221 , 1.7520217 , 1.739236  , 1.716621  , 1.0668731 ,\n",
       "        1.7263961 , 1.7463521 , 1.0733767 , 1.070781  , 1.7263808 ,\n",
       "        1.6783711 , 1.3022443 , 1.6330581 , 1.532918  , 1.7526655 ,\n",
       "        1.7430121 , 1.2391405 , 1.3280201 ],\n",
       "       [2.1185055 , 2.5408857 , 2.4818797 , 2.6880412 , 2.450099  ,\n",
       "        2.4921966 , 2.9269228 , 1.3903122 , 2.1818287 , 2.5959194 ,\n",
       "        2.6909628 , 2.5589736 , 2.9310803 , 2.554203  , 1.2381098 ,\n",
       "        2.9630008 , 2.2004044 , 2.4596403 , 2.1911836 , 1.9908007 ,\n",
       "        2.8980784 , 2.464145  , 1.5435141 , 2.3220882 , 2.5893445 ,\n",
       "        1.5132395 , 1.5594014 , 2.8152025 , 2.0633492 , 1.6837035 ,\n",
       "        1.8887143 , 2.226461  , 2.6919248 , 2.542398  , 2.579037  ,\n",
       "        2.7402358 , 1.7563959 , 2.9459875 , 2.7638566 , 1.4825472 ,\n",
       "        2.059328  , 2.8314664 , 2.6177573 , 2.8951843 , 2.1822307 ,\n",
       "        2.3646624 , 1.8347943 , 2.5992618 , 2.1798494 , 2.5599477 ,\n",
       "        1.9150449 , 2.46246   , 2.4978054 , 1.9464762 , 2.7688787 ,\n",
       "        2.9600515 , 2.735887  , 1.2652503 , 2.1652942 , 2.3698177 ,\n",
       "        2.4536984 , 2.8771803 , 2.500506  , 2.2098765 , 1.7117699 ,\n",
       "        2.2928972 , 2.6257074 , 2.7644293 , 2.6650507 , 2.3862302 ,\n",
       "        2.21893   , 2.9172885 , 2.3291178 , 2.8057857 , 2.1350818 ,\n",
       "        2.3761702 , 2.4552293 , 2.9829254 , 2.3186383 , 2.4143262 ,\n",
       "        1.9896721 , 2.5758603 , 2.6753604 , 1.2742337 , 2.3543215 ,\n",
       "        2.7044153 , 2.9826345 , 2.2771451 , 1.6823281 , 2.0110989 ,\n",
       "        2.6278114 , 2.6355288 , 2.0484667 , 2.9115987 , 2.783028  ,\n",
       "        1.5520047 , 2.2823503 , 2.5151246 , 2.8385153 , 1.9843377 ,\n",
       "        2.0422006 , 2.6968873 , 2.1092725 , 2.5961447 , 2.3065996 ,\n",
       "        1.4298522 , 1.9141557 , 2.8945036 , 1.2119647 , 2.5215034 ,\n",
       "        1.5132521 , 1.9058008 , 2.6212068 , 2.8769877 , 2.2792823 ,\n",
       "        2.3256445 , 2.4994988 , 2.5820913 , 2.4878232 , 2.623417  ,\n",
       "        2.4158618 , 2.4583836 , 2.1916142 , 2.3597646 , 2.3232694 ,\n",
       "        1.4918706 , 2.468437  , 2.8339427 , 2.1557896 , 2.1512706 ,\n",
       "        2.6806629 , 2.5912733 , 2.4286163 , 2.6403832 , 2.979511  ,\n",
       "        1.1634414 , 1.296361  , 1.7177796 , 2.8290641 , 2.8017662 ,\n",
       "        2.414474  , 2.00664   , 2.5057738 , 2.380699  , 2.1111438 ,\n",
       "        1.8401295 , 1.2471805 , 2.2178473 , 1.6150475 , 2.0054145 ,\n",
       "        2.1685967 , 2.0879483 , 1.7041956 , 2.2672563 , 2.7535012 ,\n",
       "        2.6171186 , 1.9785653 , 2.9439907 , 1.900559  , 1.6938753 ,\n",
       "        2.5539508 , 2.3951573 , 2.9974763 , 2.122704  , 2.5275512 ,\n",
       "        2.9380655 , 1.4374533 , 2.2415223 , 2.7618098 , 2.789803  ,\n",
       "        2.387167  , 2.8955042 , 1.9314086 , 1.6412843 , 1.6759585 ,\n",
       "        1.8658112 , 2.0017755 , 2.1918657 , 2.7965665 , 2.3163028 ,\n",
       "        1.5671209 , 2.0600858 , 2.4323187 , 1.8909577 , 1.7656611 ,\n",
       "        2.5535142 , 2.653029  , 2.4454074 , 2.9941697 , 1.3092072 ,\n",
       "        2.8626528 , 1.6349975 , 2.995098  , 2.9575443 , 2.1946573 ,\n",
       "        2.3942676 , 1.3753421 , 2.618307  , 1.2904688 , 2.671187  ,\n",
       "        2.5602438 , 2.9655585 , 2.6600187 , 2.046135  , 1.9297146 ,\n",
       "        1.7480253 , 2.3507395 , 2.0354795 , 1.5765077 , 1.4664918 ,\n",
       "        1.9413223 , 2.3325355 , 2.8116655 , 2.1564028 , 1.643885  ,\n",
       "        1.6617504 , 2.8666236 , 2.977618  , 1.78389   , 1.9599762 ,\n",
       "        2.715492  , 2.5753894 , 2.1321561 , 1.376211  , 2.5602136 ,\n",
       "        2.9974484 , 2.657166  , 2.5851688 , 1.2904676 , 2.7856836 ,\n",
       "        2.6579976 , 2.9898672 , 1.3966649 , 2.139411  , 2.4228659 ,\n",
       "        2.7158928 , 2.9973915 , 1.3170558 , 2.3763754 , 2.6885073 ,\n",
       "        2.4263766 , 1.5335103 , 1.949483  , 2.669154  , 2.568346  ,\n",
       "        2.7306821 , 2.1346684 , 2.7260318 , 2.8029084 , 2.1248486 ,\n",
       "        1.413494  , 1.3630131 , 2.4192052 , 2.3347156 , 2.1102574 ,\n",
       "        2.6782856 , 1.979455  , 2.7025006 , 2.826845  , 2.9010208 ,\n",
       "        2.8169522 , 1.9619766 , 2.3297753 , 2.9592688 , 2.7275221 ,\n",
       "        2.5224025 , 2.8944848 , 2.7189531 , 2.5894928 , 1.1035213 ,\n",
       "        2.5945585 , 2.8093314 , 1.175469  , 1.1055683 , 2.571084  ,\n",
       "        2.28254   , 1.4724746 , 2.154221  , 1.9710083 , 2.9390063 ,\n",
       "        2.7592556 , 1.3759712 , 1.6353008 ]], dtype=float32)"
      ]
     },
     "execution_count": 51,
     "metadata": {},
     "output_type": "execute_result"
    }
   ],
   "source": [
    "print(observed_pred.variance.numpy().shape)\n",
    "observed_pred.variance.numpy()"
   ]
  },
  {
   "cell_type": "code",
   "execution_count": 52,
   "metadata": {},
   "outputs": [
    {
     "name": "stdout",
     "output_type": "stream",
     "text": [
      "[[-0.9169748  -0.5756091  -0.21670736 -0.14453351 -0.03793894  0.12064491\n",
      "  -0.26215255 -0.27261207 -2.0240126  -0.17729658 -0.62531304 -0.16721712\n",
      "  -0.22953194 -0.24977061 -0.5022064  -0.1861976   0.11359809 -0.40554768\n",
      "  -0.70184475 -0.08476047 -0.31048822 -0.85477    -0.29287755  0.0085278\n",
      "  -0.1815524  -3.0792677  -0.34130108 -0.39413178 -0.48102874 -1.7276139\n",
      "  -0.7222028  -0.04087542 -0.52156717 -0.25462225 -0.5421943  -0.00970979\n",
      "  -0.40997577 -0.3198937  -0.16045685 -0.31847334 -1.2275294  -0.3477311\n",
      "  -0.5171787  -0.19887912 -0.35638246 -1.1158919  -0.275571   -0.6679631\n",
      "  -0.14163278 -0.23312911 -1.668069   -0.27362    -0.34585458 -0.7251827\n",
      "  -0.47250813 -0.18784893 -0.58436507 -0.63423574 -0.35087955 -0.11766373\n",
      "  -0.5401318  -0.2076764  -0.3176313  -0.53450656 -0.7946921  -0.29704446\n",
      "  -0.27685478 -0.1350393  -0.662708   -0.20421605 -1.5679889  -0.24347693\n",
      "  -0.13596497 -0.37605068 -1.7571781  -0.6396743  -0.6145855  -0.18657064\n",
      "  -0.3051371  -0.42728305 -0.7213652  -0.27048704 -0.68918824 -3.6456614\n",
      "  -0.5761157  -0.2720558  -0.16365436 -0.24559818 -1.5117235  -0.2684412\n",
      "  -0.29039612 -0.3124413  -1.7458832  -0.2280246  -0.2931608  -0.27207214\n",
      "  -0.66784    -0.4440233  -0.24637121  0.11604215 -0.32294333 -0.6010393\n",
      "  -0.23501627 -0.20222867 -0.22723784 -1.5227258  -2.3417368  -0.29055747\n",
      "  -1.5918783  -0.6032348  -0.10626839 -0.8412085  -0.21586081 -0.13165197\n",
      "  -1.0037006  -0.8001936  -0.27882844 -0.7074687  -0.25936615 -0.25595963\n",
      "  -0.14652072 -0.9096862  -0.39757937 -0.43521482 -1.1533437  -2.828299\n",
      "  -0.14960109 -0.26009792 -0.6972827  -0.80820173 -0.23508175 -0.4696589\n",
      "  -0.38290095 -0.31213617 -0.20427838 -0.32912752 -3.3075259   0.17662467\n",
      "  -0.2093896  -0.22935745 -0.7819598  -0.47147036 -1.0451713  -0.8995689\n",
      "  -0.7619439  -1.2098712  -2.2445507  -2.0606663  -0.40611058 -0.93338317\n",
      "  -0.7512995  -0.04663609 -0.92215353 -1.4345688  -0.16841829 -0.25427747\n",
      "  -0.8635748  -0.23746997 -0.29060858 -0.563057   -0.28666502 -0.11830281\n",
      "  -0.18151239 -0.31886977 -0.3651148  -0.17899263 -0.13680424 -0.3649404\n",
      "  -0.24205978 -0.36104298 -0.30556113 -0.25033242 -0.1226459  -2.0907042\n",
      "  -2.092125   -0.4836988  -1.4398662  -0.5571732  -0.48127264 -0.63924634\n",
      "  -0.4706872  -0.77057105 -0.6386412  -1.4803445  -0.4271788  -0.64767903\n",
      "  -0.09279884 -0.3538229  -0.18618102 -0.38112485 -0.31310534 -1.8494731\n",
      "  -0.18131505 -0.12401139 -0.46011543 -0.22374304 -0.61068314 -0.25424743\n",
      "  -0.46923894 -0.14464319 -0.32141358 -0.21863225 -0.3602209  -0.7228303\n",
      "  -1.8726337  -0.36615175 -0.43322045 -0.9950538  -0.3277068  -0.31244332\n",
      "  -1.7190454  -0.3643939  -0.20440516 -1.2453773  -0.49846584 -0.28183365\n",
      "  -0.51073486 -0.21589804 -1.6784719   0.15275384 -0.45867074 -0.34047526\n",
      "  -0.31885982 -0.04652338 -0.6051001  -0.18168075 -0.24356729 -0.90553874\n",
      "  -1.0478114  -0.34601992 -0.45055902 -0.17560826 -0.49431527 -0.12375964\n",
      "  -0.22085498 -0.18880524 -0.18198544  0.23125632 -0.8268777  -0.23615885\n",
      "   0.03768043 -0.6393182  -0.7437182  -0.29124865 -0.8497161  -0.4719363\n",
      "  -1.5826811  -0.48220718 -0.19808646 -1.4157957  -0.3925764  -1.5405084\n",
      "  -1.7031955   0.02019127 -0.5488356  -0.38107145 -0.66232955 -0.20742239\n",
      "  -0.5312755  -0.1715413  -0.24046077 -0.83875185 -0.5232258  -0.27361524\n",
      "  -0.35536116 -0.5739281  -0.15672606 -0.19059674 -0.52198    -3.3426156\n",
      "  -0.29933608 -0.3130268  -4.4928255  -5.6723375  -0.2140077  -0.06633084\n",
      "  -4.366968   -0.8987445  -2.4346817  -0.19804527 -0.10604364 -0.80422014\n",
      "  -3.1455083 ]\n",
      " [-5.6647954  -6.092037   -7.1030397  -7.3438272  -7.128296   -7.6230645\n",
      "  -7.076653   -7.1683426  -4.042659   -7.1895256  -5.930565   -7.3828278\n",
      "  -7.159716   -7.2269325  -6.3206167  -7.4451075  -7.766082   -6.9606686\n",
      "  -5.785059   -7.727971   -7.0545516  -5.846593   -7.1742544  -7.5077715\n",
      "  -7.0981307  -3.0749683  -6.7987485  -6.6384277  -5.627871   -4.1580286\n",
      "  -6.037854   -7.250407   -6.1605196  -7.0790586  -6.0969915  -7.8074536\n",
      "  -6.7912045  -6.7104745  -7.2785487  -7.0693674  -5.1728053  -6.7477736\n",
      "  -6.1636114  -7.4362826  -6.9403324  -5.051548   -5.922668   -5.847924\n",
      "  -7.0788803  -7.1207304  -4.881011   -6.984169   -6.60437    -5.9114904\n",
      "  -6.350216   -7.3354807  -6.393094   -5.8565755  -6.6836295  -6.8261747\n",
      "  -6.1916246  -7.2655363  -6.776777   -5.7145824  -5.4036865  -7.0647535\n",
      "  -7.103761   -7.4809766  -6.1003437  -7.1620965  -4.414904   -7.0792484\n",
      "  -7.0430765  -6.6862674  -4.1159153  -6.2877746  -5.870437   -7.386016\n",
      "  -6.742838   -6.5239286  -6.1650963  -7.047115   -6.066268   -2.4479303\n",
      "  -6.4646635  -7.2049036  -7.533493   -6.8223443  -4.6940584  -6.5022755\n",
      "  -7.3938193  -6.8742743  -4.240189   -7.2107205  -7.025665   -5.2734804\n",
      "  -6.185543   -6.5781865  -7.0033493  -7.2543397  -6.72615    -6.5625296\n",
      "  -6.803457   -7.2293367  -6.591216   -4.549839   -3.754056   -6.866604\n",
      "  -4.6711473  -6.0157566  -6.804048   -5.7121997  -7.240199   -7.653182\n",
      "  -5.3869114  -5.6934204  -6.560817   -6.0148163  -6.938668   -6.761444\n",
      "  -6.644593   -4.9142857  -6.589628   -6.0412474  -5.469664   -2.9629602\n",
      "  -7.4137244  -7.1555796  -5.6246862  -5.4127645  -7.1217356  -6.446332\n",
      "  -7.118906   -6.7062645  -7.3637424  -7.1814713  -3.2528563  -7.261812\n",
      "  -7.3132367  -7.222849   -5.8794947  -5.945319   -5.7734222  -5.0598044\n",
      "  -5.3671002  -4.77665    -3.7903082  -4.4591393  -5.810213   -4.8982697\n",
      "  -5.546465   -7.497924   -4.8269205  -4.507097   -7.2430453  -7.422448\n",
      "  -5.89667    -7.116743   -6.990712   -5.899573   -6.9212613  -7.1551456\n",
      "  -7.5130324  -6.4865084  -6.358774   -7.3374896  -7.261185   -6.8724313\n",
      "  -6.9637337  -6.7678957  -6.344221   -7.2219987  -7.1716685  -3.4951873\n",
      "  -4.1050854  -6.3862963  -5.257364   -6.4726653  -6.45781    -5.8928843\n",
      "  -6.0068417  -6.2299643  -6.1551566  -4.6061606  -6.7878013  -6.052662\n",
      "  -7.1585517  -6.6256666  -7.4377375  -6.7915897  -6.844199   -4.132881\n",
      "  -7.505096   -7.7335463  -6.5123873  -6.9032826  -6.248454   -7.1082816\n",
      "  -5.7070155  -7.669457   -6.973768   -7.169585   -6.621256   -5.8446035\n",
      "  -4.0824904  -7.084363   -6.5020795  -5.5197935  -6.148566   -6.252928\n",
      "  -5.1074266  -7.1405163  -7.326452   -5.2359204  -6.4433713  -6.8049555\n",
      "  -5.8479514  -7.1545315  -4.326276   -7.210778   -6.297253   -6.692031\n",
      "  -6.0230103  -6.782358   -5.8579416  -7.5112805  -7.059164   -5.738981\n",
      "  -5.0622563  -6.7456045  -6.55336    -7.5157485  -6.698677   -6.937258\n",
      "  -6.6378365  -7.3398266  -7.5090475  -7.1798964  -5.2962537  -6.8634615\n",
      "  -7.905905   -6.067698   -5.805814   -7.152821   -5.7137685  -6.5375137\n",
      "  -4.5742865  -6.610085   -7.4539146  -4.8462014  -6.3728304  -4.381522\n",
      "  -4.359368   -7.5028057  -5.6132016  -6.462985   -5.8785396  -7.417254\n",
      "  -5.825098   -7.3205805  -7.193165   -5.4048877  -6.3304033  -6.9330482\n",
      "  -6.625034   -6.314289   -7.431861   -7.0772424  -6.088858   -2.6996417\n",
      "  -6.8471727  -6.8845205  -1.9873929  -1.0593443  -7.3474607  -7.1800222\n",
      "  -2.4113908  -5.2322564  -3.688618   -7.374567   -7.330754   -5.7254267\n",
      "  -2.7056627 ]]\n"
     ]
    }
   ],
   "source": [
    "print(pred_means.numpy())"
   ]
  },
  {
   "cell_type": "code",
   "execution_count": 53,
   "metadata": {},
   "outputs": [
    {
     "data": {
      "text/plain": [
       "tensor([[0.9705, 0.9750, 0.9905, 0.9937, 0.9957, 0.9965, 0.9934, 0.9972, 0.8067,\n",
       "         0.9953, 0.9674, 0.9953, 0.9883, 0.9944, 0.9920, 0.9925, 0.9979, 0.9909,\n",
       "         0.9572, 0.9974, 0.9924, 0.9691, 0.9964, 0.9957, 0.9934, 0.5268, 0.9928,\n",
       "         0.9894, 0.9652, 0.8372, 0.9816, 0.9963, 0.9781, 0.9937, 0.9804, 0.9958,\n",
       "         0.9932, 0.9894, 0.9917, 0.9969, 0.9224, 0.9927, 0.9779, 0.9933, 0.9929,\n",
       "         0.9313, 0.9861, 0.9691, 0.9928, 0.9929, 0.8978, 0.9878, 0.9861, 0.9691,\n",
       "         0.9861, 0.9923, 0.9836, 0.9865, 0.9895, 0.9934, 0.9787, 0.9948, 0.9887,\n",
       "         0.9671, 0.9691, 0.9923, 0.9924, 0.9955, 0.9774, 0.9948, 0.8743, 0.9929,\n",
       "         0.9962, 0.9821, 0.8021, 0.9756, 0.9742, 0.9942, 0.9907, 0.9859, 0.9772,\n",
       "         0.9935, 0.9707, 0.3146, 0.9826, 0.9919, 0.9950, 0.9879, 0.9034, 0.9914,\n",
       "         0.9937, 0.9813, 0.8405, 0.9935, 0.9868, 0.9798, 0.9793, 0.9876, 0.9894,\n",
       "         0.9958, 0.9906, 0.9834, 0.9910, 0.9940, 0.9906, 0.9037, 0.7003, 0.9867,\n",
       "         0.9035, 0.9752, 0.9945, 0.9703, 0.9921, 0.9962, 0.9374, 0.9610, 0.9888,\n",
       "         0.9768, 0.9909, 0.9905, 0.9862, 0.9276, 0.9920, 0.9858, 0.9357, 0.5356,\n",
       "         0.9933, 0.9921, 0.9720, 0.9613, 0.9938, 0.9834, 0.9909, 0.9909, 0.9928,\n",
       "         0.9974, 0.4861, 0.9979, 0.9911, 0.9924, 0.9566, 0.9774, 0.9593, 0.9415,\n",
       "         0.9458, 0.9291, 0.7433, 0.8058, 0.9828, 0.9355, 0.9627, 0.9959, 0.9290,\n",
       "         0.8803, 0.9927, 0.9937, 0.9724, 0.9909, 0.9920, 0.9771, 0.9878, 0.9951,\n",
       "         0.9930, 0.9847, 0.9828, 0.9947, 0.9972, 0.9922, 0.9835, 0.9911, 0.9884,\n",
       "         0.9926, 0.9928, 0.7216, 0.8204, 0.9881, 0.9463, 0.9856, 0.9841, 0.9714,\n",
       "         0.9873, 0.9819, 0.9758, 0.8896, 0.9917, 0.9720, 0.9926, 0.9860, 0.9950,\n",
       "         0.9948, 0.9894, 0.8247, 0.9943, 0.9966, 0.9869, 0.9905, 0.9877, 0.9931,\n",
       "         0.9861, 0.9960, 0.9899, 0.9919, 0.9865, 0.9720, 0.8014, 0.9935, 0.9861,\n",
       "         0.9572, 0.9884, 0.9904, 0.9075, 0.9936, 0.9939, 0.9398, 0.9890, 0.9940,\n",
       "         0.9654, 0.9937, 0.8687, 0.9966, 0.9784, 0.9886, 0.9851, 0.9958, 0.9775,\n",
       "         0.9931, 0.9947, 0.9562, 0.9487, 0.9884, 0.9863, 0.9946, 0.9932, 0.9906,\n",
       "         0.9918, 0.9941, 0.9957, 0.9983, 0.9471, 0.9888, 0.9967, 0.9878, 0.9739,\n",
       "         0.9894, 0.9457, 0.9882, 0.8754, 0.9858, 0.9922, 0.9160, 0.9903, 0.8716,\n",
       "         0.8517, 0.9972, 0.9749, 0.9878, 0.9774, 0.9947, 0.9730, 0.9953, 0.9925,\n",
       "         0.9445, 0.9843, 0.9935, 0.9859, 0.9768, 0.9949, 0.9931, 0.9781, 0.4249,\n",
       "         0.9886, 0.9879, 0.1291, 0.0204, 0.9926, 0.9922, 0.2066, 0.9592, 0.7158,\n",
       "         0.9930, 0.9919, 0.9781, 0.4435],\n",
       "        [0.0295, 0.0250, 0.0095, 0.0063, 0.0043, 0.0035, 0.0066, 0.0028, 0.1933,\n",
       "         0.0047, 0.0326, 0.0047, 0.0117, 0.0056, 0.0080, 0.0075, 0.0021, 0.0091,\n",
       "         0.0428, 0.0026, 0.0076, 0.0309, 0.0036, 0.0043, 0.0066, 0.4732, 0.0072,\n",
       "         0.0106, 0.0348, 0.1628, 0.0184, 0.0037, 0.0219, 0.0063, 0.0196, 0.0042,\n",
       "         0.0068, 0.0106, 0.0083, 0.0031, 0.0776, 0.0073, 0.0221, 0.0067, 0.0071,\n",
       "         0.0687, 0.0139, 0.0309, 0.0072, 0.0071, 0.1022, 0.0122, 0.0139, 0.0309,\n",
       "         0.0139, 0.0077, 0.0164, 0.0135, 0.0105, 0.0066, 0.0213, 0.0052, 0.0113,\n",
       "         0.0329, 0.0309, 0.0077, 0.0076, 0.0045, 0.0226, 0.0052, 0.1257, 0.0071,\n",
       "         0.0038, 0.0179, 0.1979, 0.0244, 0.0258, 0.0058, 0.0093, 0.0141, 0.0228,\n",
       "         0.0065, 0.0293, 0.6854, 0.0174, 0.0081, 0.0050, 0.0121, 0.0966, 0.0086,\n",
       "         0.0063, 0.0187, 0.1595, 0.0065, 0.0132, 0.0202, 0.0207, 0.0124, 0.0106,\n",
       "         0.0042, 0.0094, 0.0166, 0.0090, 0.0060, 0.0094, 0.0963, 0.2997, 0.0133,\n",
       "         0.0965, 0.0248, 0.0055, 0.0297, 0.0079, 0.0038, 0.0626, 0.0390, 0.0112,\n",
       "         0.0232, 0.0091, 0.0095, 0.0138, 0.0724, 0.0080, 0.0142, 0.0643, 0.4644,\n",
       "         0.0067, 0.0079, 0.0280, 0.0387, 0.0062, 0.0166, 0.0091, 0.0091, 0.0072,\n",
       "         0.0026, 0.5139, 0.0021, 0.0089, 0.0076, 0.0434, 0.0226, 0.0407, 0.0585,\n",
       "         0.0542, 0.0709, 0.2567, 0.1942, 0.0172, 0.0645, 0.0373, 0.0041, 0.0710,\n",
       "         0.1197, 0.0073, 0.0063, 0.0276, 0.0091, 0.0080, 0.0229, 0.0122, 0.0049,\n",
       "         0.0070, 0.0153, 0.0172, 0.0053, 0.0028, 0.0078, 0.0165, 0.0089, 0.0116,\n",
       "         0.0074, 0.0072, 0.2784, 0.1796, 0.0119, 0.0537, 0.0144, 0.0159, 0.0286,\n",
       "         0.0127, 0.0181, 0.0242, 0.1104, 0.0083, 0.0280, 0.0074, 0.0140, 0.0050,\n",
       "         0.0052, 0.0106, 0.1753, 0.0057, 0.0034, 0.0131, 0.0095, 0.0123, 0.0069,\n",
       "         0.0139, 0.0040, 0.0101, 0.0081, 0.0135, 0.0280, 0.1986, 0.0065, 0.0139,\n",
       "         0.0428, 0.0116, 0.0096, 0.0925, 0.0064, 0.0061, 0.0602, 0.0110, 0.0060,\n",
       "         0.0346, 0.0063, 0.1313, 0.0034, 0.0216, 0.0114, 0.0149, 0.0042, 0.0225,\n",
       "         0.0069, 0.0053, 0.0438, 0.0513, 0.0116, 0.0137, 0.0054, 0.0068, 0.0094,\n",
       "         0.0082, 0.0059, 0.0043, 0.0017, 0.0529, 0.0112, 0.0033, 0.0122, 0.0261,\n",
       "         0.0106, 0.0543, 0.0118, 0.1246, 0.0142, 0.0078, 0.0840, 0.0097, 0.1284,\n",
       "         0.1483, 0.0028, 0.0251, 0.0122, 0.0226, 0.0053, 0.0270, 0.0047, 0.0075,\n",
       "         0.0555, 0.0157, 0.0065, 0.0141, 0.0232, 0.0051, 0.0069, 0.0219, 0.5751,\n",
       "         0.0114, 0.0121, 0.8709, 0.9796, 0.0074, 0.0078, 0.7934, 0.0408, 0.2842,\n",
       "         0.0070, 0.0081, 0.0219, 0.5565]])"
      ]
     },
     "execution_count": 53,
     "metadata": {},
     "output_type": "execute_result"
    }
   ],
   "source": [
    "pred_samples = test_dist.sample(torch.Size((256,))).exp()\n",
    "probabilities = (pred_samples / pred_samples.sum(-2, keepdim=True)).mean(0)\n",
    "probabilities"
   ]
  },
  {
   "cell_type": "code",
   "execution_count": null,
   "metadata": {},
   "outputs": [],
   "source": []
  }
 ],
 "metadata": {
  "kernelspec": {
   "display_name": "gpytorch-venv",
   "language": "python",
   "name": "gpytorch-venv"
  },
  "language_info": {
   "codemirror_mode": {
    "name": "ipython",
    "version": 3
   },
   "file_extension": ".py",
   "mimetype": "text/x-python",
   "name": "python",
   "nbconvert_exporter": "python",
   "pygments_lexer": "ipython3",
   "version": "3.9.12"
  }
 },
 "nbformat": 4,
 "nbformat_minor": 2
}
