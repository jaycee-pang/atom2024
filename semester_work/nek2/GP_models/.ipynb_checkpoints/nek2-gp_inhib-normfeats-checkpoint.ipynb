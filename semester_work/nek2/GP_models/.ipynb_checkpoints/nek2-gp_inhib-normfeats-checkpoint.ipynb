{
 "cells": [
  {
   "cell_type": "code",
   "execution_count": 1,
   "metadata": {},
   "outputs": [
    {
     "name": "stderr",
     "output_type": "stream",
     "text": [
      "/var/folders/wb/cvnnx9qn3tj18cq5_9wx39xm0000gn/T/ipykernel_17089/4192114624.py:5: DeprecationWarning: \n",
      "Pyarrow will become a required dependency of pandas in the next major release of pandas (pandas 3.0),\n",
      "(to allow more performant data types, such as the Arrow string type, and better interoperability with other libraries)\n",
      "but was not found to be installed on your system.\n",
      "If this would cause problems for you,\n",
      "please provide us feedback at https://github.com/pandas-dev/pandas/issues/54466\n",
      "        \n",
      "  import pandas as pd\n"
     ]
    }
   ],
   "source": [
    "import math\n",
    "import torch\n",
    "import numpy as np\n",
    "import gpytorch\n",
    "import pandas as pd\n",
    "import seaborn as sns\n",
    "import os\n",
    "import matplotlib \n",
    "matplotlib.use('Agg')\n",
    "from matplotlib import pyplot as plt\n",
    "import sklearn\n",
    "from sklearn.model_selection import KFold\n",
    "\n",
    "%matplotlib inline\n",
    "%load_ext autoreload\n",
    "%autoreload 2\n",
    "\n",
    "from sklearn.decomposition import PCA\n",
    "from sklearn.preprocessing import StandardScaler\n",
    "\n",
    "\n",
    "import sys\n",
    "sys.path.append('../../')\n",
    "from VisUtils import *\n",
    "from split_data import *\n",
    "from RF_Utils import *\n",
    "from GPUtils import * \n",
    "# from GPUtils import DirichletGPModel\n",
    "from sklearn.metrics import confusion_matrix\n",
    "import itertools\n",
    "\n",
    "from gpytorch.models import ExactGP\n",
    "from gpytorch.likelihoods import DirichletClassificationLikelihood\n",
    "from gpytorch.means import ConstantMean\n",
    "from gpytorch.kernels import ScaleKernel, RBFKernel\n",
    "from sklearn.manifold import TSNE\n",
    "from sklearn.metrics import accuracy_score, precision_score, f1_score, roc_auc_score, roc_curve, precision_recall_curve, auc, recall_score, PrecisionRecallDisplay"
   ]
  },
  {
   "cell_type": "code",
   "execution_count": 2,
   "metadata": {},
   "outputs": [],
   "source": [
    "# split_path = '../../../../data/NEK_data_4Berkeley/NEK2/'\n",
    "# file = 'NEK2_1_uM_min_50_pct_binding_5fold_random_imbalanced.csv'\n",
    "# all_fold_df = look_at_data(split_path+'NEK2_1_uM_min_50_pct_binding_5fold_random_imbalanced.csv')"
   ]
  },
  {
   "cell_type": "code",
   "execution_count": 3,
   "metadata": {},
   "outputs": [],
   "source": [
    "# # SMOTE: Adjust imbalanced training data\n",
    "\n",
    "# # transform the dataset\n",
    "# oversample = SMOTE()\n",
    "# new_train_x_df, new_train_y_df = oversample.fit_resample(train_x_df_temp, train_y_df_temp)\n",
    "\n",
    "# # display(new_train_x_df.head)\n",
    "\n",
    "# # display(\"original training size: \",train_x_df_temp.shape)\n",
    "# # display(train_y_df_temp.value_counts())\n",
    "# # display(\"SMOTE train set size:\",new_train_x_df.shape)\n",
    "# # display(new_train_y_df.value_counts())\n",
    "\n",
    "# # SMOTE \n"
   ]
  },
  {
   "cell_type": "code",
   "execution_count": 4,
   "metadata": {},
   "outputs": [
    {
     "name": "stdout",
     "output_type": "stream",
     "text": [
      "torch.Size([1125, 306])\n",
      "torch.Size([1125])\n"
     ]
    }
   ],
   "source": [
    "# Transform data to PyTorch tensors\n",
    "\n",
    "# Scale data\n",
    "# x_df = pd.concat([train_x_df, test_x_df])\n",
    "\n",
    "# scaling=StandardScaler()\n",
    "\n",
    "# Use fit and transform method \n",
    "# scaling.fit(x_df)\n",
    "# Scaled_data=scaling.transform(x_df)\n",
    "# train_scaled_data = scaling.transform(train_x_df)\n",
    "# test_scaled_data = scaling.transform(test_x_df) \n",
    "\n",
    "split_path = '../../../../../data/NEK_data_4Berkeley/NEK2/inhib/'\n",
    "# /Users/jayceepang/msse/capstone/data/NEK_data_4Berkeley/NEK2/NEK2_binding_random_fold1_testY.csv\n",
    "\n",
    "train_x_df_temp = pd.read_csv(split_path+\"inhib_train_x_normalized.csv\",header=None)\n",
    "train_y_df_temp = pd.read_csv(split_path+\"inhib_train_y_normalized.csv\",header=None)\n",
    "test_x_df = pd.read_csv(split_path+\"inhib_test_x_normalized.csv\",header=None)\n",
    "test_y_df = pd.read_csv(split_path+\"inhib_test_y_normalized.csv\",header=None)\n",
    "\n",
    "train_x_temp = train_x_df_temp.to_numpy().astype(\"long\")\n",
    "test_x_temp = test_x_df.to_numpy().astype(\"long\")\n",
    "\n",
    "train_y_temp = train_y_df_temp.to_numpy().flatten().astype(\"long\")\n",
    "test_y_temp = test_y_df.to_numpy().flatten().astype(\"long\")\n",
    "\n",
    "train_x = torch.from_numpy(train_x_temp)\n",
    "train_y = torch.from_numpy(train_y_temp)\n",
    "test_x = torch.from_numpy(test_x_temp)\n",
    "test_y = torch.from_numpy(test_y_temp)\n",
    "\n",
    "\n",
    "print(train_x.shape) \n",
    "print(train_y.shape) "
   ]
  },
  {
   "cell_type": "code",
   "execution_count": 5,
   "metadata": {},
   "outputs": [],
   "source": [
    "class Trainer: \n",
    "    def __init__(self,model, likelihood, iterations): \n",
    "        self.model = model\n",
    "        self.likelihood = likelihood \n",
    "\n",
    "        smoke_test = ('CI' in os.environ)\n",
    "        self.n_iterations = 2 if smoke_test else iterations\n",
    "        # self.n_iterations = n_iterations \n",
    "        self.optimizer = torch.optim.Adam(model.parameters(), lr=0.1)\n",
    "        # loss function \n",
    "        self.loss_fn = gpytorch.mlls.ExactMarginalLogLikelihood(self.likelihood, self.model)\n",
    "    def train(self, train_x, train_y): \n",
    "        self.model.train()\n",
    "        self.likelihood.train()\n",
    "        predictions = [] \n",
    "        for i in range(self.n_iterations): \n",
    "            self.optimizer.zero_grad()\n",
    "            output = self.model(train_x)\n",
    "            loss = -self.loss_fn(output, self.likelihood.transformed_targets).sum()\n",
    "            loss.backward()\n",
    "            if (i%10==0): \n",
    "                print('Iter %d/%d - Loss: %.3f   lengthscale: %.3f   noise: %.3f' % (\n",
    "                    i + 1, self.n_iterations, loss.item(),\n",
    "                    self.model.covar_module.base_kernel.lengthscale.mean().item(),\n",
    "                    self.model.likelihood.second_noise_covar.noise.mean().item()\n",
    "                ))\n",
    "             \n",
    "          \n",
    "            self.optimizer.step() \n",
    "\n",
    "\n",
    "    def predict(self, input): \n",
    "        # predict on validation set? \n",
    "        self.model.eval()\n",
    "        self.likelihood.eval()\n",
    "\n",
    "        with gpytorch.settings.fast_pred_var(), torch.no_grad():\n",
    "            dist = self.model(input)     # output distribution\n",
    "            pred_means = dist.loc          # means of distributino \n",
    "            # f_samples = dist.sample(sample_shape=torch.Size(1000))    \n",
    "            observed_pred = self.likelihood(self.model(input))    # likelihood predictions mean and var  \n",
    "            # class_pred = self.model(input).loc.max(0)[1].numpy()  # predictions (0 or 1) \n",
    "            class_pred = self.model(input).loc.max(0)[1]\n",
    "            \n",
    "        return dist, observed_pred, pred_means,class_pred\n",
    "    \n",
    "\n",
    "    def evaluate(self, x_input, y_true): \n",
    "        y_pred = self.model(x_input).loc.max(0)[1].numpy()\n",
    "        \n",
    "        return y_pred\n",
    "\n",
    "    def gp_results(self, x_input, y_true, plot_title): \n",
    "        y_pred = self.evaluate(x_input, y_true) \n",
    "        if isinstance(y_true, torch.Tensor):\n",
    "            y_true = y_true.numpy().reshape(-1)\n",
    "        # cm = confusion_matrix(y_true, y_pred)\n",
    "        plot_confusion_matrix(y_true, y_pred, ['0','1'], title=plot_title)\n",
    "        accuracy = accuracy_score(y_true, y_pred)\n",
    "        precision = precision_score(y_true, y_pred)\n",
    "        dist = self.model(x_input)     # get predicted distributions \n",
    "        pred_means = dist.loc          # means for predicted dist  \n",
    "\n",
    "        recall = recall_score(y_true, y_pred)\n",
    "        tp, tn, fp, fn = calculate_metrics(y_true, y_pred) \n",
    "        sensitivity = tp / (tp + fn) \n",
    "        specificity = tn / (tn + fp) \n",
    "        print(f'accuracy: {accuracy:.4f}, precision: {precision:.4f}, recall: {recall:.4f}, specificity: {specificity:.4f}')\n",
    "        return {'accuracy': accuracy, 'precision': precision,  'recall':recall, 'specificity':specificity}\n",
    "\n",
    "       "
   ]
  },
  {
   "cell_type": "code",
   "execution_count": 6,
   "metadata": {},
   "outputs": [
    {
     "name": "stdout",
     "output_type": "stream",
     "text": [
      "Iter 1/300 - Loss: 7.107   lengthscale: 0.693   noise: 0.693\n",
      "Iter 11/300 - Loss: 5.485   lengthscale: 0.693   noise: 0.809\n",
      "Iter 21/300 - Loss: 4.495   lengthscale: 0.693   noise: 1.073\n",
      "Iter 31/300 - Loss: 3.970   lengthscale: 0.693   noise: 1.334\n",
      "Iter 41/300 - Loss: 3.680   lengthscale: 0.693   noise: 1.514\n",
      "Iter 51/300 - Loss: 3.512   lengthscale: 0.693   noise: 1.603\n",
      "Iter 61/300 - Loss: 3.403   lengthscale: 0.693   noise: 1.619\n",
      "Iter 71/300 - Loss: 3.324   lengthscale: 0.693   noise: 1.581\n",
      "Iter 81/300 - Loss: 3.262   lengthscale: 0.693   noise: 1.504\n",
      "Iter 91/300 - Loss: 3.218   lengthscale: 0.693   noise: 1.399\n",
      "Iter 101/300 - Loss: 3.184   lengthscale: 0.693   noise: 1.275\n",
      "Iter 111/300 - Loss: 3.146   lengthscale: 0.693   noise: 1.142\n",
      "Iter 121/300 - Loss: 3.129   lengthscale: 0.693   noise: 1.011\n",
      "Iter 131/300 - Loss: 3.114   lengthscale: 0.693   noise: 0.890\n",
      "Iter 141/300 - Loss: 3.102   lengthscale: 0.693   noise: 0.790\n",
      "Iter 151/300 - Loss: 3.097   lengthscale: 0.693   noise: 0.715\n",
      "Iter 161/300 - Loss: 3.093   lengthscale: 0.693   noise: 0.666\n",
      "Iter 171/300 - Loss: 3.089   lengthscale: 0.693   noise: 0.639\n",
      "Iter 181/300 - Loss: 3.091   lengthscale: 0.693   noise: 0.627\n",
      "Iter 191/300 - Loss: 3.094   lengthscale: 0.693   noise: 0.625\n",
      "Iter 201/300 - Loss: 3.092   lengthscale: 0.693   noise: 0.627\n",
      "Iter 211/300 - Loss: 3.092   lengthscale: 0.693   noise: 0.630\n",
      "Iter 221/300 - Loss: 3.091   lengthscale: 0.693   noise: 0.631\n",
      "Iter 231/300 - Loss: 3.091   lengthscale: 0.693   noise: 0.632\n",
      "Iter 241/300 - Loss: 3.089   lengthscale: 0.693   noise: 0.632\n",
      "Iter 251/300 - Loss: 3.095   lengthscale: 0.693   noise: 0.632\n",
      "Iter 261/300 - Loss: 3.093   lengthscale: 0.693   noise: 0.631\n",
      "Iter 271/300 - Loss: 3.093   lengthscale: 0.693   noise: 0.631\n",
      "Iter 281/300 - Loss: 3.092   lengthscale: 0.693   noise: 0.631\n",
      "Iter 291/300 - Loss: 3.094   lengthscale: 0.693   noise: 0.630\n"
     ]
    }
   ],
   "source": [
    "likelihood1 = DirichletClassificationLikelihood(train_y, learn_additional_noise=True)\n",
    "model1 = DirichletGPModel(train_x, likelihood1.transformed_targets, likelihood1, num_classes=likelihood1.num_classes)\n",
    "n_iterations = 300\n",
    "trainer1 = Trainer(model1, likelihood1, n_iterations)\n",
    "trainer1.train(train_x, train_y) "
   ]
  },
  {
   "cell_type": "code",
   "execution_count": 7,
   "metadata": {},
   "outputs": [
    {
     "name": "stderr",
     "output_type": "stream",
     "text": [
      "/Users/jayceepang/msse/capstone/gpytorch-venv/lib/python3.9/site-packages/gpytorch/models/exact_gp.py:284: GPInputWarning: The input matches the stored training data. Did you forget to call model.train()?\n",
      "  warnings.warn(\n",
      "/Users/jayceepang/msse/capstone/gpytorch-venv/lib/python3.9/site-packages/sklearn/metrics/_classification.py:1497: UndefinedMetricWarning: Precision is ill-defined and being set to 0.0 due to no predicted samples. Use `zero_division` parameter to control this behavior.\n",
      "  _warn_prf(average, modifier, f\"{metric.capitalize()} is\", len(result))\n",
      "/Users/jayceepang/msse/capstone/gpytorch-venv/lib/python3.9/site-packages/gpytorch/models/exact_gp.py:284: GPInputWarning: The input matches the stored training data. Did you forget to call model.train()?\n",
      "  warnings.warn(\n"
     ]
    },
    {
     "name": "stdout",
     "output_type": "stream",
     "text": [
      "accuracy: 0.9600, precision: 0.0000, recall: 0.0000, specificity: 1.0000\n",
      "accuracy: 0.9576, precision: 0.0000, recall: 0.0000, specificity: 1.0000\n"
     ]
    },
    {
     "name": "stderr",
     "output_type": "stream",
     "text": [
      "/Users/jayceepang/msse/capstone/gpytorch-venv/lib/python3.9/site-packages/sklearn/metrics/_classification.py:1497: UndefinedMetricWarning: Precision is ill-defined and being set to 0.0 due to no predicted samples. Use `zero_division` parameter to control this behavior.\n",
      "  _warn_prf(average, modifier, f\"{metric.capitalize()} is\", len(result))\n"
     ]
    },
    {
     "data": {
      "text/plain": [
       "<Figure size 600x400 with 0 Axes>"
      ]
     },
     "metadata": {},
     "output_type": "display_data"
    },
    {
     "data": {
      "image/png": "[encoded data removed]",
      "text/plain": [
       "<Figure size 640x480 with 2 Axes>"
      ]
     },
     "metadata": {},
     "output_type": "display_data"
    },
    {
     "data": {
      "text/plain": [
       "<Figure size 600x400 with 0 Axes>"
      ]
     },
     "metadata": {},
     "output_type": "display_data"
    },
    {
     "data": {
      "image/png": "[encoded data removed]",
      "text/plain": [
       "<Figure size 640x480 with 2 Axes>"
      ]
     },
     "metadata": {},
     "output_type": "display_data"
    }
   ],
   "source": [
    "# get predictions of train x input\n",
    "train_dist, train_observed_pred, train_pred_means, train_pred  = trainer1.predict(train_x)\n",
    "train_results1 = trainer1.gp_results(train_x, train_y, 'Normalized NEK2 Inhibition Train')\n",
    "\n",
    "test_dist, test_observed_pred, test_pred_means, test_pred  = trainer1.predict(test_x)\n",
    "test_results1 = trainer1.gp_results(test_x, test_y, 'Normalized NEK2 Inhibition Test')\n"
   ]
  },
  {
   "cell_type": "code",
   "execution_count": 8,
   "metadata": {},
   "outputs": [
    {
     "data": {
      "text/plain": [
       "[{'accuracy': 0.96, 'precision': 0.0, 'recall': 0.0, 'specificity': 1.0},\n",
       " {'accuracy': 0.9575971731448764,\n",
       "  'precision': 0.0,\n",
       "  'recall': 0.0,\n",
       "  'specificity': 1.0}]"
      ]
     },
     "execution_count": 8,
     "metadata": {},
     "output_type": "execute_result"
    }
   ],
   "source": [
    "gp_metrics = pd.DataFrame()\n",
    "gp_metrics = [train_results1, test_results1]\n",
    "with open('nek2_inhib_gp_metrics_normfeats.pkl', 'wb') as file: \n",
    "    pickle.dump(gp_metrics, file) \n",
    "gp_metrics"
   ]
  },
  {
   "cell_type": "markdown",
   "metadata": {},
   "source": [
    "# Probabilities and Variance "
   ]
  },
  {
   "cell_type": "code",
   "execution_count": null,
   "metadata": {},
   "outputs": [],
   "source": [
    "# train_pred = train_observed_pred\n",
    "train_observed_pred.mean.numpy()\n",
    "train_pred_variance2D = train_observed_pred.variance.numpy()\n",
    "# test_pred = test_observed_pred\n",
    "test_observed_pred.mean.numpy()\n",
    "test_pred_variance2D=test_observed_pred.variance.numpy()\n",
    "var_min = test_pred_variance2D.min(axis=0).min()\n",
    "var_max = test_pred_variance2D.max(axis=0).max()\n",
    "var_min, var_max\n",
    "# train_observed_pred.variance.numpy()\n",
    "# test_observed_pred.variance.numpy()"
   ]
  },
  {
   "cell_type": "code",
   "execution_count": null,
   "metadata": {},
   "outputs": [],
   "source": [
    "\n",
    "train_pred_samples = train_dist.sample(torch.Size((256,))).exp()\n",
    "train_probabilities = (train_pred_samples / train_pred_samples.sum(-2, keepdim=True)).mean(0)\n",
    "train_probabilities.shape \n",
    "train_prob_stds = (train_pred_samples / train_pred_samples.sum(-2, keepdim=True)).std(0)\n",
    "train_prob_stds.shape\n",
    "\n",
    "lower, upper = test_observed_pred.confidence_region()\n",
    "\n",
    "# # Generate samples to get probabilities\n",
    "pred_samples = test_dist.sample(torch.Size((100,))).exp()\n",
    "pred_samples.shape\n",
    "probabilities = (pred_samples / pred_samples.sum(-2, keepdim=True)).mean(0)\n",
    "prob_stds = (pred_samples / pred_samples.sum(-2, keepdim=True)).std(0)\n"
   ]
  },
  {
   "cell_type": "code",
   "execution_count": null,
   "metadata": {},
   "outputs": [],
   "source": [
    "train_perf_df = pd.DataFrame()\n",
    "test_perf_df = pd.DataFrame()\n",
    "train_perf_df['mean_pred_class0'] = train_observed_pred.mean.numpy()[0,]\n",
    "train_perf_df['mean_pred_class1'] = train_observed_pred.mean.numpy()[1,]\n",
    "train_perf_df['y'] = train_y\n",
    "train_perf_df['y_pred'] = train_pred_means.max(0)[1]\n",
    "train_perf_df['var_pred_class0']=train_observed_pred.variance.numpy()[0,]\n",
    "train_perf_df['var_pred_class1']=train_observed_pred.variance.numpy()[1,]\n",
    "train_perf_df['pred_prob_class0'] = train_probabilities.numpy()[0,]\n",
    "train_perf_df['pred_prob_class1'] = train_probabilities.numpy()[1,]\n",
    "train_perf_df['pred_prob_std_class0'] = train_prob_stds.numpy()[0,]\n",
    "train_perf_df['pred_prob_std_class1'] = train_prob_stds.numpy()[1,]\n",
    "\n",
    "test_perf_df['mean_pred_class0'] = test_observed_pred.mean.numpy()[0,]\n",
    "test_perf_df['mean_pred_class1'] = test_observed_pred.mean.numpy()[1,]\n",
    "test_perf_df['y'] = test_y\n",
    "test_perf_df['y_pred'] = test_pred_means.max(0)[1]\n",
    "test_perf_df['var_pred_class0']=test_observed_pred.variance.numpy()[0,]\n",
    "test_perf_df['var_pred_class1']=test_observed_pred.variance.numpy()[1,]\n",
    "test_perf_df['pred_prob_class0'] = probabilities.numpy()[0,]\n",
    "test_perf_df['pred_prob_class1'] = probabilities.numpy()[1,]\n",
    "test_perf_df['pred_prob_std_class0'] = prob_stds.numpy()[0,]\n",
    "test_perf_df['pred_prob_std_class1'] = prob_stds.numpy()[1,]\n",
    "\n",
    "train_perf_df.to_csv(\"model_performance/NEK2_inhib_normalized_train_perf.csv\", index=False)\n",
    "test_perf_df.to_csv(\"model_performance/NEK2_inhib_normalized_test_perf.csv\", index=False)"
   ]
  },
  {
   "cell_type": "code",
   "execution_count": null,
   "metadata": {},
   "outputs": [],
   "source": [
    "# get train samples \n",
    "\n",
    "# TRAIN\n",
    "# plot_heatmap(train_dist, train_observed_pred, train_probabilities, 'train')"
   ]
  },
  {
   "cell_type": "code",
   "execution_count": null,
   "metadata": {},
   "outputs": [],
   "source": [
    "# TEST SET\n",
    "# # Get confidence regions \n",
    "# confidence \n",
    "# plot_heatmap(test_dist, test_observed_pred, probabilities, 'test')"
   ]
  },
  {
   "cell_type": "code",
   "execution_count": null,
   "metadata": {},
   "outputs": [],
   "source": [
    "# plot_hist(train_observed_pred, 'train')\n",
    "# plot_hist(test_observed_pred, 'test')\n",
    "\n",
    "# plot_cm_dist_kde(test_observed_pred, test_pred, test_y, 'Binding, test')"
   ]
  },
  {
   "cell_type": "code",
   "execution_count": null,
   "metadata": {},
   "outputs": [],
   "source": [
    "# plot_cm_dist(train_observed_pred, train_pred, train_y, 'train')\n",
    "# plot_cm_dist(test_observed_pred, test_pred, test_y, 'test')\n"
   ]
  },
  {
   "cell_type": "code",
   "execution_count": null,
   "metadata": {},
   "outputs": [],
   "source": [
    "plot_cm_dist_kdedensity(train_observed_pred, train_pred, train_y, 'Normalized SMOTE NEK2 Bind Train',7)\n",
    "plot_cm_dist_kdedensity(test_observed_pred, test_pred, test_y, 'Normalized SMOTE NEK2 Bind Test',12)"
   ]
  },
  {
   "cell_type": "code",
   "execution_count": null,
   "metadata": {},
   "outputs": [],
   "source": [
    "plot_kde(train_observed_pred, 'Normalized NEK2 Inhibition Train')\n",
    "plot_kde(test_observed_pred, 'Normalized NEK2 Inhibition Test')\n",
    "# plot_hist(test_observed_prt')\n"
   ]
  },
  {
   "cell_type": "code",
   "execution_count": null,
   "metadata": {},
   "outputs": [],
   "source": [
    "# plot_roc(test_y, probabilities)"
   ]
  },
  {
   "cell_type": "code",
   "execution_count": null,
   "metadata": {},
   "outputs": [],
   "source": [
    "plot_prec_recall(train_y, train_probabilities.numpy()[1,:], 'Normalized NEK2 Inhib Train Precision-Recall')\n",
    "plot_prec_recall(test_y, probabilities.numpy()[1,:],'Normalized NEK2 Inhib Train Precision-Recall')"
   ]
  },
  {
   "cell_type": "code",
   "execution_count": null,
   "metadata": {
    "scrolled": true
   },
   "outputs": [],
   "source": [
    "test_observed_pred.mean.numpy() # test_pred.mean.numpy()  observed_pred = self.likelihood(self.model(input)) \n",
    "test_pred_variance2D = test_observed_pred.variance.numpy()\n",
    "print(test_observed_pred.variance.numpy().shape)\n",
    "test_pred_variance2D\n",
    "test_pred_variance = [test_pred_variance2D[value][idx] for idx,value in enumerate(test_pred)]"
   ]
  },
  {
   "cell_type": "code",
   "execution_count": null,
   "metadata": {},
   "outputs": [],
   "source": [
    "probabilities.numpy()[1,].shape"
   ]
  },
  {
   "cell_type": "code",
   "execution_count": null,
   "metadata": {},
   "outputs": [],
   "source": [
    "\n",
    "plot_prob_hist(train_probabilities, train_y, 'Normalized NEK2 Inhibition Train GP Classification Probabilities', 'Inhibition')\n",
    "plot_prob_hist(probabilities, test_y, 'Normalized NEK2 Inhibition Test GP Classification Probabilities', 'Inhibition')"
   ]
  },
  {
   "cell_type": "code",
   "execution_count": null,
   "metadata": {},
   "outputs": [],
   "source": [
    "plot_swarmplot(train_pred, train_y, train_observed_pred,'Normalized NEK2 Inhibition Train Prediction Variances')\n",
    "plot_swarmplot(test_pred, test_y, test_observed_pred,'Normalized NEK2 Inhibition Test Prediction Variances')"
   ]
  },
  {
   "cell_type": "code",
   "execution_count": null,
   "metadata": {},
   "outputs": [],
   "source": [
    "probabilities_vs_var(train_y, train_probabilities, train_observed_pred,'Normalized NEK2 Inhibition Train Set GP Classification', 'inhibition')\n",
    "probabilities_vs_var(test_y, probabilities, test_observed_pred,'Normalized NEK2 Inhibition Test Set GP Classification', 'inhibition')"
   ]
  },
  {
   "cell_type": "code",
   "execution_count": null,
   "metadata": {},
   "outputs": [],
   "source": [
    "# indices0 = np.where(test_pred == 0)[0]\n",
    "# indices1 = np.where(test_pred == 1)[0]\n",
    "\n",
    "# var_class0 = test_observed_pred.variance[0].numpy()\n",
    "# var_class1 = test_observed_pred.variance[1].numpy()\n",
    "# plt.errorbar(indices0, test_pred[indices0], \n",
    "#              xerr=var_class0[indices0], fmt='o', label='Class 0')\n",
    "\n",
    "# plt.errorbar(indices1, test_pred[indices1], \n",
    "#              xerr=var_class1[indices1], fmt='o', label='Class 1')\n",
    "\n",
    "\n",
    "# plt.xlabel('Predictions')\n",
    "# plt.yticks([0, 1], ['0', '1'])\n",
    "# plt.title('Prediction variances')\n",
    "# plt.legend()\n",
    "# plt.show()"
   ]
  },
  {
   "cell_type": "code",
   "execution_count": null,
   "metadata": {},
   "outputs": [],
   "source": [
    "# dist = trainer1.model(test_x)\n",
    "# pred_varainces = dist.variance\n",
    "# normalized = pred_varainces/pred_varainces.max() \n",
    "# normalized.shape\n",
    "# plt.figure(figsize=(8, 6))\n",
    "# plt.imshow(normalized.detach().numpy(), cmap='viridis', interpolation='nearest')\n",
    "# plt.colorbar(label='Confidence Score')\n",
    "# plt.title('Confidence Heatmap')\n",
    "# plt.xlabel('X-axis')\n",
    "# plt.ylabel('Y-axis')\n",
    "# plt.show()"
   ]
  },
  {
   "cell_type": "code",
   "execution_count": null,
   "metadata": {},
   "outputs": [],
   "source": [
    "# plot_variance_cm(test_observed_pred, test_y.numpy(), test_pred, 'test')"
   ]
  },
  {
   "cell_type": "code",
   "execution_count": null,
   "metadata": {},
   "outputs": [],
   "source": [
    "marker = ['s', 'o', 'D', 'v']\n",
    "cm = plt.cm.get_cmap('RdYlBu').reversed() \n",
    "\n",
    "fig, ax = plt.subplots(2, 2, figsize=(25, 15))\n",
    "true_labels = test_y.numpy()\n",
    "\n",
    "\n",
    "true_pos = np.where((test_pred == 1) & (true_labels == 1))[0] \n",
    "true_neg = np.where((test_pred == 0) & (true_labels == 0))[0]\n",
    "false_pos = np.where((test_pred == 1) & (true_labels == 0))[0] \n",
    "false_neg = np.where((test_pred == 0) & (true_labels == 1))[0] \n",
    "\n",
    "var_tp = test_observed_pred.variance[1, true_pos].numpy()\n",
    "var_tn = test_observed_pred.variance[0, true_neg].numpy()\n",
    "var_fp = test_observed_pred.variance[1, false_pos].numpy()\n",
    "var_fn = test_observed_pred.variance[0, false_neg].numpy()\n",
    "\n",
    "sc_tp = ax[0, 0].scatter(true_pos, (test_y[true_pos] - test_pred[true_pos]), c=test_pred_variance2D[1, true_pos],\n",
    "                   s=100, cmap=cm, alpha=0.6, vmin=var_min, vmax=var_max, marker=marker[0])\n",
    "ax[0, 0].set_title('True Positives')\n",
    "ax[0, 0].set_xlabel('Data index')\n",
    "ax[0, 0].set_ylabel('Actual - Predicted')\n",
    "\n",
    "\n",
    "sc_tn = ax[0, 1].scatter(true_neg, (test_y[true_neg] - test_pred[true_neg]), c=test_pred_variance2D[1, true_neg],\n",
    "                   s=100, cmap=cm, alpha=0.6, vmin=var_min, vmax=var_max, marker=marker[1])\n",
    "ax[0, 1].set_title('True Negatives')\n",
    "ax[0, 1].set_xlabel('Data index')\n",
    "ax[0, 1].set_ylabel('Actual - Predicted')\n",
    "\n",
    "\n",
    "sc_fp = ax[1, 0].scatter(false_pos, (test_y[false_pos] - test_pred[false_pos]), c=test_pred_variance2D[1, false_pos],\n",
    "                   s=100, cmap=cm, alpha=0.6, vmin=var_min, vmax=var_max, marker=marker[2])\n",
    "ax[1, 0].set_title('False Positives')\n",
    "ax[1, 0].set_xlabel('Data index')\n",
    "ax[1, 0].set_ylabel('Actual - Predicted')\n",
    "\n",
    "\n",
    "sc_fn = ax[1, 1].scatter(false_neg, (test_y[false_neg] - test_pred[false_neg]), c=test_pred_variance2D[1, false_neg],\n",
    "                   s=100, cmap=cm, alpha=0.6, vmin=var_min, vmax=var_max, marker=marker[3])\n",
    "ax[1, 1].set_title('False Negatives')\n",
    "ax[1, 1].set_xlabel('Data index')\n",
    "ax[1, 1].set_ylabel('Actual - Predicted')\n",
    "\n",
    "cbar_tp = fig.colorbar(sc_tp, ax=ax[0, 0], location='right')\n",
    "cbar_tp.set_label('Variance', fontsize=16)\n",
    "\n",
    "cbar_tn = fig.colorbar(sc_tn, ax=ax[0, 1], location='right')\n",
    "cbar_tn.set_label('Variance', fontsize=16)\n",
    "\n",
    "cbar_fp = fig.colorbar(sc_fp, ax=ax[1, 0], location='right')\n",
    "cbar_fp.set_label('Variance', fontsize=16)\n",
    "\n",
    "cbar_fn = fig.colorbar(sc_fn, ax=ax[1, 1], location='right')\n",
    "cbar_fn.set_label('Variance', fontsize=16)\n",
    "\n",
    "plt.tight_layout()\n",
    "plt.show()\n",
    "# cbar.set_label('Variance', fontsize=16)\n",
    "\n",
    "plt.tight_layout()\n",
    "# plt.savefig(f'nek2_binding_scatter_dist_test.png')\n",
    "plt.show()"
   ]
  },
  {
   "cell_type": "code",
   "execution_count": null,
   "metadata": {},
   "outputs": [],
   "source": [
    "# calibratio\n",
    "from sklearn.calibration import calibration_curve\n",
    "# n_bins = 10\n",
    "# prob_true, prob_pred = calibration_curve(y_true, y_prob, n_bins=n_bins)\n",
    "\n",
    "# plt.figure(figsize=(8, 6))\n",
    "# plt.plot(prob_pred, prob_true, marker='o', linestyle='-')\n",
    "# plt.plot([0, 1], [0, 1], linestyle='--', color='gray')  # Perfectly calibrated line\n",
    "# plt.xlabel('Predicted Probability')\n",
    "# plt.ylabel('True Frequency')\n",
    "# plt.title('Calibration Plot')\n",
    "# plt.grid(True)\n",
    "# plt.show(); \n"
   ]
  },
  {
   "cell_type": "code",
   "execution_count": null,
   "metadata": {},
   "outputs": [],
   "source": [
    "# levels = np.linspace(0, 3, 11)\n",
    "# plt.figure(figsize=(8, 6))\n",
    "\n",
    "# x_values = test_x[:, 0].numpy()\n",
    "# y_values = test_y.numpy()\n",
    "# # y = np.linspace(test_y.min(), test_y.max(), 283)\n",
    "# x_mesh, y_mesh = np.meshgrid(x_values, y_values)\n",
    "\n",
    "# for class_idx in range(2):\n",
    "#     plt.subplot(1, 2, class_idx + 1)\n",
    "#     pred_var_copy = np.repeat(pred_var[class_idx][:, np.newaxis], x_mesh.shape[1], axis=1)\n",
    "#     # print(pred_var_copy)\n",
    "#     # pred_var_reshaped = pred_var_copy.reshape((2, 283, 283))\n",
    "#     # plt.contourf(x_mesh, y_mesh, pred_var_copy, levels=levels, cmap='viridis')\n",
    "\n",
    "#     pred_var_copy = np.repeat(pred_var[class_idx][:, np.newaxis], x_mesh.shape[1], axis=1)\n",
    "#     # pred_var_copy = np.repeat(pred_var_copy[:, :, np.newaxis], x_mesh.shape[1], axis=2)\n",
    "#     print(pred_var_copy.shape)\n",
    "#     print(pred_var_copy)\n",
    "#     plt.contourf(x_mesh, y_mesh, pred_var_copy, levels=levels, cmap='viridis')\n",
    "\n",
    "#     plt.colorbar(label='Variance')\n",
    "#     plt.xlabel('X axis')\n",
    "#     plt.ylabel('Y axis')\n",
    "#     plt.title(f'Class {class_idx} Variance')\n",
    "\n",
    "\n",
    "# plt.tight_layout()\n",
    "# plt.show();\n"
   ]
  },
  {
   "cell_type": "code",
   "execution_count": null,
   "metadata": {},
   "outputs": [],
   "source": [
    "# samples = np.arange(len(test_x))\n",
    "# vars_class0 = test_pred_variance2D[0]\n",
    "# vars_class1 = test_pred_variance2D[1]\n",
    "\n",
    "# plt.figure(figsize=(8, 6))\n",
    "# plt.hexbin(samples, vars_class0, gridsize=50, cmap='tab20', label='Class 0')\n",
    "# plt.hexbin(samples, vars_class1, gridsize=50, cmap='tab20', label='Class 1')\n",
    "# plt.colorbar(label='Density')\n",
    "# plt.xlabel('Samples')\n",
    "# plt.ylabel('Variances')\n",
    "# plt.legend()\n",
    "# plt.show()\n"
   ]
  },
  {
   "cell_type": "code",
   "execution_count": null,
   "metadata": {},
   "outputs": [],
   "source": [
    "pred_var[1].shape"
   ]
  },
  {
   "cell_type": "code",
   "execution_count": null,
   "metadata": {},
   "outputs": [],
   "source": [
    "class_0_variances = pred_var[0]\n",
    "class_1_variances = pred_var[1]\n",
    "\n",
    "x_min, x_max = test_x[:, 0].min() - 1, test_x[:, 0].max() + 1\n",
    "y_min, y_max = test_x[:, 1].min() - 1, test_x[:, 1].max() + 1\n",
    "xx, yy = np.meshgrid(np.arange(x_min, x_max, 0.1), np.arange(y_min, y_max, 0.1))\n",
    "\n",
    "print(xx.shape, yy.shape)\n",
    "plt.figure()\n",
    "plt.contourf(xx, yy, np.sqrt(pred_var[0].reshape(xx.shape)), alpha=0.8)\n",
    "plt.contourf(xx, yy, np.sqrt(pred_var[1].reshape(xx.shape)), alpha=0.8)\n",
    "plt.scatter(x_values[:, 0], x_values[:, 1], c=y_values, edgecolors='k')\n",
    "plt.xlabel('Feature 1')\n",
    "plt.ylabel('Feature 2')\n",
    "plt.title('Contour Plot with Variances')\n",
    "plt.show()"
   ]
  },
  {
   "cell_type": "code",
   "execution_count": null,
   "metadata": {},
   "outputs": [],
   "source": [
    "# scatter 3d? \n",
    "fig = plt.figure(figsize=(10, 8))\n",
    "ax = fig.add_subplot(111, projection='3d')\n",
    "\n",
    "scatter = ax.scatter(np.arange(len(test_y)), test_pred, test_pred_variance, cmap='viridis')\n",
    "\n",
    "cbar = plt.colorbar(scatter, ax=ax)\n",
    "cbar.set_label('Varience')\n",
    "\n",
    "ax.set_xlabel('Data index')\n",
    "ax.set_ylabel('Predicted Class Value')\n",
    "ax.set_zlabel('Varience')\n",
    "ax.set_title('Prediction Variance')\n",
    "plt.show();\n"
   ]
  },
  {
   "cell_type": "code",
   "execution_count": null,
   "metadata": {},
   "outputs": [],
   "source": [
    "plt.rcParams.update({\"font.size\": 20})\n",
    "\n",
    "marker = ['s', 'o', 'D', 'v']\n",
    "cm = plt.cm.get_cmap('RdYlBu').reversed() \n",
    "\n",
    "fig = plt.figure(figsize=(20,5))\n",
    "\n",
    "plt.title(\"Prediction Errors on NEK2 test set SMOTE\",fontsize=20)\n",
    "\n",
    "#plt.plot(y_true, marker=marker[0],markerfacecolor='None',linestyle='None',label=\"Actual\")\n",
    "#plt.plot(test_prob[1], marker=marker[1],markerfacecolor='None',linestyle='None',label=\"Predicted\")\n",
    "\n",
    "sc=plt.scatter(np.arange(len(test_y)),(test_y - test_pred), c=test_pred_variance, s=100, cmap=cm, alpha=0.6,vmin=var_min, vmax=var_max)\n",
    "#plt.colorbar(sc)\n",
    "\n",
    "clb=plt.colorbar()\n",
    "clb.set_label('Variance',fontsize=16)\n",
    "\n",
    "plt.xlabel('Data index')\n",
    "plt.ylabel('Actual - Predicted')\n",
    "#plt.plot(test_prob[0], marker=marker[2],markerfacecolor='None',linestyle='None',label=\"Probability\")\n",
    "#plt.legend(fontsize=10)\n",
    "fig.tight_layout()\n",
    "\n",
    "plt.show()"
   ]
  },
  {
   "cell_type": "code",
   "execution_count": null,
   "metadata": {},
   "outputs": [],
   "source": [
    "plt.rcParams.update({\"font.size\": 20})\n",
    "\n",
    "marker = ['s', 'o', 'D', 'v']\n",
    "cm = plt.cm.get_cmap('RdYlBu').reversed() \n",
    "\n",
    "fig = plt.figure(figsize=(20,5))\n",
    "\n",
    "plt.title(\"Prediction Errors on NEK2 test set SMOTE - Class 0\",fontsize=20)\n",
    "\n",
    "#plt.plot(y_true, marker=marker[0],markerfacecolor='None',linestyle='None',label=\"Actual\")\n",
    "#plt.plot(test_prob[1], marker=marker[1],markerfacecolor='None',linestyle='None',label=\"Predicted\")\n",
    "\n",
    "sc=plt.scatter(np.arange(len(test_y)),(test_y - test_pred), c=test_pred_variance2D[0], s=100, cmap=cm, alpha=0.6,vmin=var_min, vmax=var_max)\n",
    "#plt.colorbar(sc)\n",
    "\n",
    "clb=plt.colorbar()\n",
    "clb.set_label('Class 0 Variance',fontsize=16)\n",
    "\n",
    "plt.xlabel('Data index')\n",
    "plt.ylabel('Actual - Predicted')\n",
    "#plt.plot(test_prob[0], marker=marker[2],markerfacecolor='None',linestyle='None',label=\"Probability\")\n",
    "#plt.legend(fontsize=10)\n",
    "fig.tight_layout()\n",
    "\n",
    "plt.show()"
   ]
  },
  {
   "cell_type": "code",
   "execution_count": null,
   "metadata": {},
   "outputs": [],
   "source": []
  },
  {
   "cell_type": "code",
   "execution_count": null,
   "metadata": {},
   "outputs": [],
   "source": [
    "plt.rcParams.update({\"font.size\": 20})\n",
    "\n",
    "marker = ['s', 'o', 'D', 'v']\n",
    "cm = plt.cm.get_cmap('RdYlBu').reversed() \n",
    "\n",
    "fig = plt.figure(figsize=(20,5))\n",
    "\n",
    "plt.title(\"Prediction Errors on NEK2 test set SMOTE - Class 1\",fontsize=20)\n",
    "\n",
    "#plt.plot(y_true, marker=marker[0],markerfacecolor='None',linestyle='None',label=\"Actual\")\n",
    "#plt.plot(test_prob[1], marker=marker[1],markerfacecolor='None',linestyle='None',label=\"Predicted\")\n",
    "\n",
    "sc=plt.scatter(np.arange(len(test_y)),(test_y - test_pred), c=test_pred_variance2D[1], s=100, cmap=cm, alpha=0.6,vmin=var_min, vmax=var_max)\n",
    "#plt.colorbar(sc)\n",
    "\n",
    "clb=plt.colorbar()\n",
    "clb.set_label('Class 1 Variance',fontsize=16)\n",
    "\n",
    "plt.xlabel('Data index')\n",
    "plt.ylabel('Actual - Predicted')\n",
    "#plt.plot(test_prob[0], marker=marker[2],markerfacecolor='None',linestyle='None',label=\"Probability\")\n",
    "#plt.legend(fontsize=10)\n",
    "fig.tight_layout()\n",
    "\n",
    "plt.show()"
   ]
  },
  {
   "cell_type": "code",
   "execution_count": null,
   "metadata": {},
   "outputs": [],
   "source": [
    "test_pred_variance2D[1][0:2]"
   ]
  },
  {
   "cell_type": "code",
   "execution_count": null,
   "metadata": {},
   "outputs": [],
   "source": [
    "test_pred_variance2D[0][0:2]"
   ]
  },
  {
   "cell_type": "code",
   "execution_count": null,
   "metadata": {},
   "outputs": [],
   "source": [
    "# train_var = train_observed_pred.variance.numpy().tolist()\n",
    "# plt.figure(figsize=(10, 6))\n",
    "# for class_idx in range(2):\n",
    "#     class_variances = train_observed_pred.variance[class_idx].numpy() \n",
    "#     plt.hist(class_variances, bins=20, alpha=0.5, label=f'Class {class_idx}')\n",
    "\n",
    "# plt.xlabel('Variance')\n",
    "# plt.ylabel('Frequency')\n",
    "# plt.title('Distribution of Variances for Each Class - TRAIN')\n",
    "# plt.legend()\n",
    "# plt.grid(True)\n",
    "# plt.savefig('nek2train_hist.png')\n",
    "# plt.show();\n",
    "\n",
    "\n",
    "# plt.figure(figsize=(10, 6))\n",
    "# for class_idx in range(2): \n",
    "#     class_variances = train_observed_pred.variance[class_idx].numpy() \n",
    "#     plt.hist(class_variances, bins=20, alpha=0.5, label=f'Class {class_idx}')\n",
    "#     sns.violinplot(data=train_observed_pred.variance[class_idx].numpy().tolist(), inner=\"quartile\")\n",
    "# plt.xlabel('Class')\n",
    "\n",
    "# plt.ylabel('Variance')\n",
    "# plt.ylim(0,10)\n",
    "# plt.legend()\n",
    "# plt.title('Distribution of Variances for Each Class - TRAIN')\n",
    "# plt.grid(True)\n",
    "# plt.show();\n",
    "\n",
    "# plt.figure(figsize=(10, 6))\n",
    "# for i in range(len(train_var)):\n",
    "#     sns.kdeplot(train_var[i], label=f'Class {i}')\n",
    "# plt.xlabel('Variance')\n",
    "# plt.ylabel('Density')\n",
    "# plt.title('KDE Variances for Each Class - TRAIN')\n",
    "# plt.legend()\n",
    "# plt.grid(True)\n",
    "# plt.show();"
   ]
  },
  {
   "cell_type": "code",
   "execution_count": null,
   "metadata": {},
   "outputs": [],
   "source": [
    "# folds = [1] \n",
    "# for fold in folds: \n",
    "#     fold = str(fold)\n",
    "#     trainx = pd.read_csv(split_path+'/NEK2_binding_random_fold'+fold+'_trainX.csv')\n",
    "#     trainy = pd.read_csv(split_path+'/NEK2_binding_random_fold'+fold+'_trainY.csv')\n",
    "#     testx = pd.read_csv(split_path+'/NEK2_binding_random_fold'+fold+'_testX.csv')\n",
    "#     testy = pd.read_csv(split_path+'/NEK2_binding_random_fold'+fold+'_testY.csv')\n",
    "#     # print(f'trainx :{trainx.shape}, trainy shape: {trainy.shape} \\t testx: {testx.shape}, testy: {testy.shape}')\n",
    "    \n",
    "#     oversample_trial = SMOTE()\n",
    "#     trial_train_x, trial_train_y_df = oversample_trial.fit_resample(trainx, trainy)\n",
    "#     print(f'new trainx :{new_train_x_df.shape}, new trainy shape: {new_train_y_df.shape} \\t testx df: {test_x_df.shape}, testy df: {test_y_df.shape}')\n",
    "#     print(f'new trial trainx :{trial_train_x.shape}, new trial trainy shape: {trial_train_y_df.shape} \\t testx df: {test_x_df.shape}, testy df: {test_y_df.shape}')\n",
    "#     print(f'trial train same: {new_train_x_df.equals(trial_train_x)}')\n",
    "#     print(f'test train same: {new_train_y_df.equals(trial_train_y_df)}')\n",
    "#     print(f'trial test same: {test_x_df.equals(testx)}')\n",
    "#     print(f'test test same: {test_y_df.equals(testy)}')\n",
    "#     # print(list(new_train_x_df.values.flatten().tolist()))\n",
    "#     # print(list(trial_train_x.values.flatten().tolist()))\n",
    "#     diff_trainx = new_train_x_df.values != trial_train_x.values\n",
    "#     which_diff_trainx = np.where(diff_trainx)\n",
    "#     print(f\"indices with differences in train x:\", which_diff_trainx)\n",
    "#     for i, val in enumerate(list(new_train_x_df.values.flatten().tolist())): \n",
    "#         other_val = list(trial_train_x.values.flatten().tolist())[i]\n",
    "#         if (val != other_val): \n",
    "#             print(f'difference at index: {i}, new train y df: {val}, trial: {other_val}')\n",
    "      \n",
    "            "
   ]
  }
 ],
 "metadata": {
  "kernelspec": {
   "display_name": "gpytorch-venv",
   "language": "python",
   "name": "gpytorch-venv"
  },
  "language_info": {
   "codemirror_mode": {
    "name": "ipython",
    "version": 3
   },
   "file_extension": ".py",
   "mimetype": "text/x-python",
   "name": "python",
   "nbconvert_exporter": "python",
   "pygments_lexer": "ipython3",
   "version": "3.9.12"
  }
 },
 "nbformat": 4,
 "nbformat_minor": 4
}
