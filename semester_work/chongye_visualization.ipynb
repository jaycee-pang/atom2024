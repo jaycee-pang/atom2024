{
 "cells": [
  {
   "cell_type": "markdown",
   "id": "0d5b67ac-9bb3-45f8-b6b4-124130cf265c",
   "metadata": {},
   "source": [
    "# NEK_9 Data Visualization\n",
    "## Chongye Feng"
   ]
  },
  {
   "cell_type": "code",
   "execution_count": 1,
   "id": "e7f523b7-24f4-4794-bef7-0085c1653212",
   "metadata": {},
   "outputs": [],
   "source": [
    "import math\n",
    "import torch\n",
    "import numpy as np\n",
    "import gpytorch\n",
    "import pandas as pd\n",
    "import os\n",
    "from matplotlib import pyplot as plt\n",
    "import sklearn\n",
    "from sklearn.model_selection import KFold\n",
    "\n",
    "%matplotlib inline\n",
    "%load_ext autoreload\n",
    "%autoreload 2"
   ]
  },
  {
   "cell_type": "code",
   "execution_count": 2,
   "id": "0706d9bc-03d5-4f7e-a274-75bcf670901d",
   "metadata": {},
   "outputs": [
    {
     "name": "stdout",
     "output_type": "stream",
     "text": [
      "imblearn version:  0.11.0\n"
     ]
    }
   ],
   "source": [
    "# check version number\n",
    "import imblearn\n",
    "print(\"imblearn version: \",imblearn.__version__)\n",
    "from imblearn.over_sampling import SMOTE\n",
    "\n",
    "from sklearn.decomposition import PCA\n",
    "from sklearn.preprocessing import StandardScaler\n",
    "\n",
    "\n",
    "from sklearn.metrics import confusion_matrix\n",
    "import itertools"
   ]
  },
  {
   "cell_type": "code",
   "execution_count": 3,
   "id": "c5b15c3b-6755-492d-9a33-6fcbd83e31e6",
   "metadata": {},
   "outputs": [
    {
     "data": {
      "text/plain": [
       "(1409, 310)"
      ]
     },
     "execution_count": 3,
     "metadata": {},
     "output_type": "execute_result"
    }
   ],
   "source": [
    "# Binding\n",
    "dataset_path = '../../../data/NEK_data_4Berkeley/NEK9/'\n",
    "nek9_binding_random_imbalanced = 'NEK9_1_uM_min_50_pct_binding_5fold_random_imbalanced.csv'\n",
    "all_fold_df_binding = pd.read_csv(dataset_path+nek9_binding_random_imbalanced)\n",
    "all_fold_df_binding.shape # (1409,310)"
   ]
  },
  {
   "cell_type": "code",
   "execution_count": 4,
   "id": "cb8baeed-a3da-4119-bca3-99d72cb89e77",
   "metadata": {},
   "outputs": [
    {
     "data": {
      "text/plain": [
       "(393, 310)"
      ]
     },
     "execution_count": 4,
     "metadata": {},
     "output_type": "execute_result"
    }
   ],
   "source": [
    "# Inhibition\n",
    "nek9_inhibition_random_imbalanced = 'NEK9_1_uM_min_50_pct_inhibition_5fold_random_imbalanced.csv'\n",
    "all_fold_df_inhibition = pd.read_csv(dataset_path+nek9_inhibition_random_imbalanced)\n",
    "all_fold_df_inhibition.shape  # (393, 310)"
   ]
  },
  {
   "cell_type": "code",
   "execution_count": 5,
   "id": "3960a0b1-47a1-46e8-b576-a0087b4447ff",
   "metadata": {},
   "outputs": [
    {
     "data": {
      "text/plain": [
       "compound_id\n",
       "kdb_2222    2\n",
       "kdb_2215    2\n",
       "kdb_2230    2\n",
       "kdb_2235    2\n",
       "kdb_2236    2\n",
       "           ..\n",
       "kdb_148     1\n",
       "kdb_2781    1\n",
       "kdb_3485    1\n",
       "kdb_53      1\n",
       "kdb_3758    1\n",
       "Name: count, Length: 1755, dtype: int64"
      ]
     },
     "execution_count": 5,
     "metadata": {},
     "output_type": "execute_result"
    }
   ],
   "source": [
    "combined_df = pd.concat([all_fold_df_binding, all_fold_df_inhibition ])\n",
    "value_counts = combined_df[('compound_id')].value_counts()\n",
    "value_counts"
   ]
  },
  {
   "cell_type": "code",
   "execution_count": 6,
   "id": "6cd79eb5-f5f6-458a-819e-e411daaa89db",
   "metadata": {},
   "outputs": [
    {
     "data": {
      "text/plain": [
       "compound_id\n",
       "kdb_2222    2\n",
       "kdb_2215    2\n",
       "kdb_2230    2\n",
       "kdb_2235    2\n",
       "kdb_2236    2\n",
       "kdb_2218    2\n",
       "kdb_2431    2\n",
       "kdb_2244    2\n",
       "kdb_2233    2\n",
       "kdb_2217    2\n",
       "kdb_2430    2\n",
       "kdb_2205    2\n",
       "kdb_2229    2\n",
       "kdb_2238    2\n",
       "kdb_2211    2\n",
       "kdb_2232    2\n",
       "kdb_2320    2\n",
       "kdb_2234    2\n",
       "kdb_2225    2\n",
       "kdb_2433    2\n",
       "kdb_2237    2\n",
       "kdb_2200    2\n",
       "kdb_2208    2\n",
       "kdb_2212    2\n",
       "kdb_2228    2\n",
       "kdb_2207    2\n",
       "kdb_2206    2\n",
       "kdb_2319    2\n",
       "kdb_2429    2\n",
       "kdb_2219    2\n",
       "kdb_1618    2\n",
       "kdb_2224    2\n",
       "kdb_2241    2\n",
       "kdb_2601    2\n",
       "kdb_2209    2\n",
       "kdb_2227    2\n",
       "kdb_2221    2\n",
       "kdb_2213    2\n",
       "kdb_2220    2\n",
       "kdb_2242    2\n",
       "kdb_2223    2\n",
       "kdb_2908    2\n",
       "kdb_2239    2\n",
       "kdb_2013    2\n",
       "kdb_2321    2\n",
       "kdb_2226    2\n",
       "kdb_2231    2\n",
       "Name: count, dtype: int64"
      ]
     },
     "execution_count": 6,
     "metadata": {},
     "output_type": "execute_result"
    }
   ],
   "source": [
    "in_both = value_counts[value_counts==2]\n",
    "in_both"
   ]
  },
  {
   "cell_type": "code",
   "execution_count": 7,
   "id": "f232a14f-b029-462d-abbe-d2632b3331da",
   "metadata": {},
   "outputs": [
    {
     "data": {
      "text/plain": [
       "47"
      ]
     },
     "execution_count": 7,
     "metadata": {},
     "output_type": "execute_result"
    }
   ],
   "source": [
    "len(in_both)"
   ]
  },
  {
   "cell_type": "markdown",
   "id": "f1899bd5-4e43-4380-96a4-45ed1f9e15fe",
   "metadata": {},
   "source": [
    "There are 47 compounds in both binding and inhibition data set."
   ]
  },
  {
   "cell_type": "code",
   "execution_count": 8,
   "id": "9b066a47-abe0-4be0-b4b8-5783c0c9ca77",
   "metadata": {},
   "outputs": [],
   "source": [
    "# from sklearn 0.19.2 documentation:\n",
    "def plot_confusion_matrix(cm, classes,\n",
    "                          normalize=False,\n",
    "                          cmap=plt.cm.Blues):\n",
    "    \"\"\"\n",
    "    This function prints and plots the confusion matrix.\n",
    "    Normalization can be applied by setting `normalize=True`.\n",
    "    \"\"\"\n",
    "    if normalize:\n",
    "        cm = cm.astype('float') / cm.sum(axis=1)[:, np.newaxis]\n",
    "        print(\"Normalized confusion matrix\")\n",
    "    else:\n",
    "        print('Confusion matrix, without normalization')\n",
    "    print(cm)\n",
    "    plt.imshow(cm, interpolation='nearest', cmap=cmap)\n",
    "    plt.colorbar(shrink=0.7)\n",
    "    tick_marks = np.arange(len(classes))\n",
    "    plt.xticks(tick_marks, classes, rotation=45)\n",
    "    plt.yticks(tick_marks, classes)\n",
    "\n",
    "    fmt = '.2f' if normalize else 'd'\n",
    "    thresh = cm.max() / 2.\n",
    "    for i, j in itertools.product(range(cm.shape[0]), range(cm.shape[1])):\n",
    "        plt.text(j, i, format(cm[i, j], fmt),\n",
    "                 horizontalalignment=\"center\",\n",
    "                 color=\"white\" if cm[i, j] > thresh else \"black\")\n",
    "    plt.tight_layout()\n",
    "    plt.ylabel('True label')\n",
    "    plt.xlabel('Predicted label')"
   ]
  },
  {
   "cell_type": "code",
   "execution_count": 9,
   "id": "ffc5af44-001f-47b4-8683-afb00fcbc2e5",
   "metadata": {},
   "outputs": [
    {
     "name": "stdout",
     "output_type": "stream",
     "text": [
      "(1409, 309)\n"
     ]
    }
   ],
   "source": [
    "binding_df = pd.read_csv('../../../data/datasets/scaled_descriptors/NEK9_1_uM_min_50_pct_binding_with_moe_descriptors.csv')\n",
    "print(binding_df.shape)"
   ]
  },
  {
   "cell_type": "code",
   "execution_count": 10,
   "id": "b56d6f4d-25fb-4b9e-b4ad-90523f8446e1",
   "metadata": {},
   "outputs": [
    {
     "data": {
      "text/plain": [
       "Index(['ASA+_per_atom', 'ASA-', 'ASA_H_per_atom', 'ASA_P', 'ASA_per_atom',\n",
       "       'BCUT_PEOE_0', 'BCUT_PEOE_1', 'BCUT_PEOE_2', 'BCUT_PEOE_3',\n",
       "       'BCUT_SLOGP_0_per_atom',\n",
       "       ...\n",
       "       'vsurf_Wp2_per_atom', 'vsurf_Wp3', 'vsurf_Wp4', 'vsurf_Wp5',\n",
       "       'vsurf_Wp6', 'vsurf_Wp7', 'vsurf_Wp8', 'weinerPath',\n",
       "       'weinerPol_per_atom', 'zagreb_per_atom'],\n",
       "      dtype='object', length=306)"
      ]
     },
     "execution_count": 10,
     "metadata": {},
     "output_type": "execute_result"
    }
   ],
   "source": [
    "moe_columns = binding_df.columns[3:]\n",
    "moe_columns"
   ]
  },
  {
   "cell_type": "markdown",
   "id": "4ab79c37-aa4e-4cef-837e-101ebdad1cb6",
   "metadata": {},
   "source": [
    "There are 306 features (parameters) for each compound."
   ]
  },
  {
   "cell_type": "code",
   "execution_count": 11,
   "id": "ed8ddd7d-f309-479b-b1c2-10af07c1908e",
   "metadata": {},
   "outputs": [
    {
     "data": {
      "text/plain": [
       "(393, 309)"
      ]
     },
     "execution_count": 11,
     "metadata": {},
     "output_type": "execute_result"
    }
   ],
   "source": [
    "inhibition_df = pd.read_csv('../../../data/datasets/scaled_descriptors/NEK9_1_uM_min_50_pct_inhibition_with_moe_descriptors.csv') \n",
    "inhibition_df.shape"
   ]
  },
  {
   "cell_type": "markdown",
   "id": "df7fce5a-d416-4f70-a112-be5865aac563",
   "metadata": {},
   "source": [
    "Now, we will look at the pre-splitted inhibition data for NEK9."
   ]
  },
  {
   "cell_type": "code",
   "execution_count": 12,
   "id": "9c8ca155-8a88-497d-abb3-ed483ba8bdb9",
   "metadata": {},
   "outputs": [
    {
     "name": "stdout",
     "output_type": "stream",
     "text": [
      "active\n",
      "0         280\n",
      "1          33\n",
      "Name: count, dtype: int64\n",
      "active\n",
      "0         71\n",
      "1          9\n",
      "Name: count, dtype: int64\n",
      "(313, 1) (80, 1)\n",
      "(313, 306) (80, 306)\n"
     ]
    }
   ],
   "source": [
    "uq_path = '../../../data/NEK_data_4Berkeley/NEK9/'\n",
    "train_x_df = pd.read_csv(uq_path+'NEK9_inhibition_random_fold1_trainX.csv')\n",
    "train_y_df= pd.read_csv(uq_path+\"/NEK9_inhibition_random_fold1_trainY.csv\")\n",
    "test_x_df= pd.read_csv(uq_path+\"/NEK9_inhibition_random_fold1_testX.csv\")\n",
    "test_y_df= pd.read_csv(uq_path+\"/NEK9_inhibition_random_fold1_testY.csv\")\n",
    "print(train_y_df.value_counts()), print(test_y_df.value_counts())\n",
    "print(train_y_df.shape, test_y_df.shape)\n",
    "print(train_x_df.shape, test_x_df.shape)"
   ]
  },
  {
   "cell_type": "markdown",
   "id": "1a99be5a-4695-4a1d-b09d-dba0604abd12",
   "metadata": {},
   "source": [
    "306 features are still too much. "
   ]
  },
  {
   "cell_type": "code",
   "execution_count": 13,
   "id": "462393ac-b74c-4804-aa07-0990dc7cdf2d",
   "metadata": {},
   "outputs": [],
   "source": [
    "# Concatenation of Training and Testing Feature Sets:\n",
    "x_df = pd.concat([train_x_df, test_x_df])\n",
    "# Feature Scaling using StandardScaler:\n",
    "scaling = StandardScaler()\n",
    "scaling.fit(x_df)\n",
    "Scaled_data = scaling.transform(x_df)\n",
    "train_scaled_data = scaling.transform(train_x_df)\n",
    "test_scaled_data = scaling.transform(test_x_df)"
   ]
  },
  {
   "cell_type": "markdown",
   "id": "8d4b4165-f4ca-41bc-8fbe-0cb3e26bb841",
   "metadata": {},
   "source": [
    "Dimensionality Reduction using PCA:\n",
    "This means PCA will choose the number of components such that the total variance explained by those components is at least 95% of the total variance in the dataset. This approach automatically selects the number of principal components needed to retain 95% of the data's variance, effectively reducing the dimensionality of the data while preserving most of the information.\n"
   ]
  },
  {
   "cell_type": "code",
   "execution_count": 14,
   "id": "e4906a51-fc46-4946-98da-18566485eba0",
   "metadata": {},
   "outputs": [],
   "source": [
    "principal = PCA(n_components=0.95) \n",
    "principal.fit(Scaled_data)\n",
    "pca_train_x_df = principal.transform(train_scaled_data)\n",
    "pca_test_x_df = principal.transform(test_scaled_data)"
   ]
  },
  {
   "cell_type": "code",
   "execution_count": 15,
   "id": "737b4a1a-36f0-49c1-843e-d1e280731e9d",
   "metadata": {},
   "outputs": [
    {
     "name": "stdout",
     "output_type": "stream",
     "text": [
      "(313, 52)\n",
      "(80, 52)\n"
     ]
    }
   ],
   "source": [
    "print(pca_train_x_df.shape)\n",
    "print(pca_test_x_df.shape)"
   ]
  },
  {
   "cell_type": "markdown",
   "id": "06e30835-de70-40a7-bacf-e42ce5f39d44",
   "metadata": {},
   "source": [
    "306 was significantly reduced to 52."
   ]
  },
  {
   "cell_type": "markdown",
   "id": "dcc58bdd-7389-4889-ad18-4000d6550277",
   "metadata": {},
   "source": [
    "Then use SMOTE (Synthetic Minority Over-sampling Technique) to adjust for imbalanced class distributions in the training dataset. This is a common scenario in many machine learning problems where one class (the minority class) has significantly fewer instances than the other classes (the majority classes), leading to biased models that favor the majority class. SMOTE addresses this issue by creating synthetic examples of the minority class, thus balancing the class distribution and potentially improving model performance on minority class predictions."
   ]
  },
  {
   "cell_type": "code",
   "execution_count": 16,
   "id": "f82c8389-ba5b-46c0-9f22-26e562419f58",
   "metadata": {},
   "outputs": [],
   "source": [
    "# SMOTE Initialization:\n",
    "oversample = SMOTE()\n",
    "\n",
    "# Applying SMOTE to the Training Data:\n",
    "new_train_x_df, new_train_y_df = oversample.fit_resample(pca_train_x_df, train_y_df)"
   ]
  },
  {
   "cell_type": "code",
   "execution_count": 17,
   "id": "bc953881-b299-4541-a04a-f257f75c7f90",
   "metadata": {},
   "outputs": [
    {
     "name": "stdout",
     "output_type": "stream",
     "text": [
      "Shape of training features tensor: torch.Size([560, 52])\n",
      "Shape of training labels tensor: torch.Size([560])\n"
     ]
    }
   ],
   "source": [
    "import torch\n",
    "\n",
    "# Convert the feature arrays directly to PyTorch tensors and cast them to the appropriate type.\n",
    "train_x = torch.from_numpy(new_train_x_df).long()\n",
    "test_x = torch.from_numpy(pca_test_x_df).long()\n",
    "\n",
    "# For the labels, which are pandas DataFrames, first convert them to numpy arrays, then cast to \"long\",\n",
    "# and finally convert to PyTorch tensors.\n",
    "train_y = torch.from_numpy(new_train_y_df.to_numpy().astype(\"long\")).reshape(-1)\n",
    "test_y = torch.from_numpy(test_y_df.to_numpy().astype(\"long\")).reshape(-1)\n",
    "\n",
    "# Print the shapes of the tensors to ensure they are correct.\n",
    "print(f\"Shape of training features tensor: {train_x.shape}\")\n",
    "print(f\"Shape of training labels tensor: {train_y.shape}\")"
   ]
  },
  {
   "cell_type": "markdown",
   "id": "ae5e52a1-c002-4d63-a5b4-a57419e65828",
   "metadata": {},
   "source": [
    "Then we build a model."
   ]
  },
  {
   "cell_type": "code",
   "execution_count": 18,
   "id": "a1435d07-6b3e-4a09-bb93-1153a68dc06b",
   "metadata": {},
   "outputs": [],
   "source": [
    "# Construct a GP classification model\n",
    "\n",
    "from gpytorch.models import ExactGP\n",
    "from gpytorch.likelihoods import DirichletClassificationLikelihood\n",
    "from gpytorch.means import ConstantMean\n",
    "from gpytorch.kernels import ScaleKernel, RBFKernel\n",
    "\n",
    "# We will use the simplest form of GP model, exact inference\n",
    "class DirichletGPModel(ExactGP):\n",
    "    def __init__(self, train_x, train_y, likelihood, num_classes):\n",
    "        super(DirichletGPModel, self).__init__(train_x, train_y, likelihood)\n",
    "        self.mean_module = ConstantMean(batch_shape=torch.Size((num_classes,)))\n",
    "        self.covar_module = ScaleKernel(\n",
    "            RBFKernel(batch_shape=torch.Size((num_classes,))),\n",
    "            batch_shape=torch.Size((num_classes,)),\n",
    "        )\n",
    "\n",
    "    def forward(self, x):\n",
    "        mean_x = self.mean_module(x)\n",
    "        covar_x = self.covar_module(x)\n",
    "        return gpytorch.distributions.MultivariateNormal(mean_x, covar_x)\n",
    "\n",
    "# initialize likelihood and model\n",
    "# we let the DirichletClassificationLikelihood compute the targets for us\n",
    "likelihood = DirichletClassificationLikelihood(train_y, learn_additional_noise=True)\n",
    "model = DirichletGPModel(train_x, likelihood.transformed_targets, likelihood, num_classes=likelihood.num_classes)"
   ]
  },
  {
   "cell_type": "markdown",
   "id": "8f724dbc-294c-40bd-bab2-5449fc8277a1",
   "metadata": {},
   "source": [
    "Training the model ..."
   ]
  },
  {
   "cell_type": "code",
   "execution_count": 19,
   "id": "f1934691-7c54-44ce-a285-abcc385dc909",
   "metadata": {},
   "outputs": [
    {
     "name": "stdout",
     "output_type": "stream",
     "text": [
      "Iter 1/300 - Loss: 7.038   lengthscale: 0.693   noise: 0.693\n",
      "Iter 6/300 - Loss: 6.291   lengthscale: 0.975   noise: 0.971\n",
      "Iter 11/300 - Loss: 5.736   lengthscale: 1.321   noise: 1.286\n",
      "Iter 16/300 - Loss: 5.316   lengthscale: 1.730   noise: 1.582\n",
      "Iter 21/300 - Loss: 5.003   lengthscale: 2.202   noise: 1.790\n",
      "Iter 26/300 - Loss: 4.772   lengthscale: 2.718   noise: 1.864\n",
      "Iter 31/300 - Loss: 4.590   lengthscale: 3.249   noise: 1.801\n",
      "Iter 36/300 - Loss: 4.425   lengthscale: 3.773   noise: 1.624\n",
      "Iter 41/300 - Loss: 4.263   lengthscale: 4.285   noise: 1.365\n",
      "Iter 46/300 - Loss: 4.106   lengthscale: 4.779   noise: 1.068\n",
      "Iter 51/300 - Loss: 3.963   lengthscale: 5.245   noise: 0.776\n",
      "Iter 56/300 - Loss: 3.842   lengthscale: 5.671   noise: 0.528\n",
      "Iter 61/300 - Loss: 3.745   lengthscale: 6.048   noise: 0.345\n",
      "Iter 66/300 - Loss: 3.672   lengthscale: 6.377   noise: 0.225\n",
      "Iter 71/300 - Loss: 3.621   lengthscale: 6.660   noise: 0.152\n",
      "Iter 76/300 - Loss: 3.585   lengthscale: 6.904   noise: 0.108\n",
      "Iter 81/300 - Loss: 3.560   lengthscale: 7.113   noise: 0.082\n",
      "Iter 86/300 - Loss: 3.542   lengthscale: 7.292   noise: 0.065\n",
      "Iter 91/300 - Loss: 3.529   lengthscale: 7.446   noise: 0.054\n",
      "Iter 96/300 - Loss: 3.520   lengthscale: 7.579   noise: 0.046\n",
      "Iter 101/300 - Loss: 3.513   lengthscale: 7.694   noise: 0.040\n",
      "Iter 106/300 - Loss: 3.508   lengthscale: 7.794   noise: 0.036\n",
      "Iter 111/300 - Loss: 3.504   lengthscale: 7.881   noise: 0.032\n",
      "Iter 116/300 - Loss: 3.500   lengthscale: 7.958   noise: 0.029\n",
      "Iter 121/300 - Loss: 3.498   lengthscale: 8.026   noise: 0.027\n",
      "Iter 126/300 - Loss: 3.495   lengthscale: 8.087   noise: 0.025\n",
      "Iter 131/300 - Loss: 3.493   lengthscale: 8.142   noise: 0.023\n",
      "Iter 136/300 - Loss: 3.491   lengthscale: 8.191   noise: 0.022\n",
      "Iter 141/300 - Loss: 3.490   lengthscale: 8.237   noise: 0.020\n",
      "Iter 146/300 - Loss: 3.488   lengthscale: 8.279   noise: 0.019\n",
      "Iter 151/300 - Loss: 3.487   lengthscale: 8.317   noise: 0.018\n",
      "Iter 156/300 - Loss: 3.486   lengthscale: 8.353   noise: 0.017\n",
      "Iter 161/300 - Loss: 3.485   lengthscale: 8.387   noise: 0.016\n",
      "Iter 166/300 - Loss: 3.484   lengthscale: 8.418   noise: 0.016\n",
      "Iter 171/300 - Loss: 3.483   lengthscale: 8.447   noise: 0.015\n",
      "Iter 176/300 - Loss: 3.482   lengthscale: 8.475   noise: 0.014\n",
      "Iter 181/300 - Loss: 3.481   lengthscale: 8.500   noise: 0.014\n",
      "Iter 186/300 - Loss: 3.481   lengthscale: 8.524   noise: 0.013\n",
      "Iter 191/300 - Loss: 3.480   lengthscale: 8.546   noise: 0.013\n",
      "Iter 196/300 - Loss: 3.479   lengthscale: 8.566   noise: 0.012\n",
      "Iter 201/300 - Loss: 3.479   lengthscale: 8.586   noise: 0.012\n",
      "Iter 206/300 - Loss: 3.478   lengthscale: 8.603   noise: 0.011\n",
      "Iter 211/300 - Loss: 3.478   lengthscale: 8.620   noise: 0.011\n",
      "Iter 216/300 - Loss: 3.477   lengthscale: 8.635   noise: 0.010\n",
      "Iter 221/300 - Loss: 3.477   lengthscale: 8.650   noise: 0.010\n",
      "Iter 226/300 - Loss: 3.476   lengthscale: 8.663   noise: 0.010\n",
      "Iter 231/300 - Loss: 3.476   lengthscale: 8.676   noise: 0.009\n",
      "Iter 236/300 - Loss: 3.476   lengthscale: 8.687   noise: 0.009\n",
      "Iter 241/300 - Loss: 3.475   lengthscale: 8.698   noise: 0.009\n",
      "Iter 246/300 - Loss: 3.475   lengthscale: 8.709   noise: 0.009\n",
      "Iter 251/300 - Loss: 3.475   lengthscale: 8.718   noise: 0.008\n",
      "Iter 256/300 - Loss: 3.474   lengthscale: 8.727   noise: 0.008\n",
      "Iter 261/300 - Loss: 3.474   lengthscale: 8.736   noise: 0.008\n",
      "Iter 266/300 - Loss: 3.474   lengthscale: 8.743   noise: 0.008\n",
      "Iter 271/300 - Loss: 3.474   lengthscale: 8.751   noise: 0.007\n",
      "Iter 276/300 - Loss: 3.473   lengthscale: 8.758   noise: 0.007\n",
      "Iter 281/300 - Loss: 3.473   lengthscale: 8.765   noise: 0.007\n",
      "Iter 286/300 - Loss: 3.473   lengthscale: 8.771   noise: 0.007\n",
      "Iter 291/300 - Loss: 3.473   lengthscale: 8.777   noise: 0.007\n",
      "Iter 296/300 - Loss: 3.473   lengthscale: 8.783   noise: 0.007\n"
     ]
    }
   ],
   "source": [
    "# this is for running the notebook in our testing framework\n",
    "import os\n",
    "smoke_test = ('CI' in os.environ)\n",
    "training_iter = 2 if smoke_test else 300\n",
    "\n",
    "\n",
    "# Find optimal model hyperparameters\n",
    "model.train()\n",
    "likelihood.train()\n",
    "\n",
    "# Use the adam optimizer\n",
    "optimizer = torch.optim.Adam(model.parameters(), lr=0.1)  # Includes GaussianLikelihood parameters\n",
    "\n",
    "# \"Loss\" for GPs - the marginal log likelihood\n",
    "mll = gpytorch.mlls.ExactMarginalLogLikelihood(likelihood, model)\n",
    "\n",
    "for i in range(training_iter):\n",
    "    # Zero gradients from previous iteration\n",
    "    optimizer.zero_grad()\n",
    "    # Output from model\n",
    "    output = model(train_x)\n",
    "    # Calc loss and backprop gradients\n",
    "    loss = -mll(output, likelihood.transformed_targets).sum()\n",
    "    loss.backward()\n",
    "    if i % 5 == 0:\n",
    "        print('Iter %d/%d - Loss: %.3f   lengthscale: %.3f   noise: %.3f' % (\n",
    "            i + 1, training_iter, loss.item(),\n",
    "            model.covar_module.base_kernel.lengthscale.mean().item(),\n",
    "            model.likelihood.second_noise_covar.noise.mean().item()\n",
    "        ))\n",
    "    optimizer.step()"
   ]
  },
  {
   "cell_type": "code",
   "execution_count": 20,
   "id": "527c0ca5-0a2e-49e0-bfd5-3d7c6bf7d55b",
   "metadata": {},
   "outputs": [
    {
     "name": "stdout",
     "output_type": "stream",
     "text": [
      "(2, 560)\n",
      "tensor([0, 0, 0, 0, 0, 0, 0, 0, 0, 0, 0, 0, 0, 0, 0, 0, 0, 0, 0, 0, 0, 0, 0, 0,\n",
      "        0, 0, 0, 0, 0, 0, 0, 0, 0, 0, 0, 0, 0, 0, 0, 0, 0, 0, 0, 0, 0, 0, 0, 0,\n",
      "        0, 0, 0, 0, 0, 0, 0, 0, 0, 0, 0, 0, 0, 0, 0, 0, 0, 0, 0, 0, 0, 0, 0, 0,\n",
      "        0, 0, 0, 0, 0, 0, 0, 0, 0, 0, 0, 0, 0, 0, 0, 1, 0, 0, 0, 0, 0, 0, 0, 0,\n",
      "        0, 0, 0, 0, 0, 0, 0, 0, 0, 0, 0, 0, 0, 0, 0, 0, 0, 0, 0, 0, 0, 0, 0, 0,\n",
      "        0, 0, 0, 0, 0, 0, 0, 0, 0, 0, 0, 0, 0, 0, 0, 0, 0, 0, 0, 0, 1, 0, 0, 0,\n",
      "        0, 0, 0, 0, 0, 0, 0, 0, 0, 0, 0, 0, 0, 0, 0, 0, 0, 0, 0, 0, 0, 0, 0, 0,\n",
      "        0, 0, 0, 0, 0, 0, 0, 0, 0, 0, 0, 0, 0, 0, 0, 0, 0, 1, 0, 0, 0, 0, 0, 0,\n",
      "        0, 0, 0, 0, 0, 0, 0, 0, 0, 0, 0, 0, 0, 0, 0, 0, 0, 0, 0, 0, 0, 0, 0, 0,\n",
      "        0, 0, 0, 0, 0, 0, 0, 0, 0, 0, 0, 1, 0, 0, 0, 0, 0, 0, 0, 0, 0, 0, 0, 0,\n",
      "        0, 0, 0, 0, 0, 0, 0, 0, 0, 0, 0, 0, 0, 0, 0, 0, 0, 0, 0, 0, 0, 0, 0, 0,\n",
      "        0, 0, 0, 0, 0, 0, 0, 0, 0, 0, 0, 0, 0, 0, 0, 0, 1, 1, 1, 1, 1, 1, 1, 1,\n",
      "        1, 1, 1, 1, 1, 1, 1, 1, 1, 1, 1, 1, 1, 1, 1, 1, 1, 1, 1, 1, 1, 1, 1, 1,\n",
      "        1, 1, 1, 1, 1, 1, 1, 1, 1, 1, 1, 1, 1, 1, 1, 1, 1, 1, 1, 1, 1, 1, 1, 1,\n",
      "        1, 1, 1, 1, 1, 1, 1, 1, 1, 1, 1, 1, 1, 1, 1, 1, 1, 1, 1, 1, 1, 1, 1, 1,\n",
      "        1, 1, 1, 1, 1, 1, 1, 1, 1, 1, 1, 1, 1, 1, 1, 1, 1, 1, 1, 1, 1, 1, 1, 1,\n",
      "        1, 1, 1, 1, 1, 1, 1, 1, 1, 1, 1, 1, 1, 1, 1, 1, 1, 1, 1, 1, 1, 1, 1, 1,\n",
      "        1, 1, 1, 1, 1, 1, 1, 1, 1, 1, 1, 1, 1, 1, 1, 1, 1, 1, 1, 1, 1, 1, 1, 1,\n",
      "        1, 1, 1, 1, 1, 1, 1, 1, 1, 1, 1, 1, 1, 1, 1, 1, 1, 1, 1, 1, 1, 1, 1, 1,\n",
      "        1, 1, 1, 1, 1, 1, 1, 1, 1, 1, 1, 1, 1, 1, 1, 1, 1, 1, 1, 1, 1, 1, 1, 1,\n",
      "        1, 1, 1, 1, 1, 1, 1, 1, 1, 1, 1, 1, 1, 1, 1, 1, 1, 1, 1, 1, 1, 1, 1, 1,\n",
      "        1, 1, 1, 1, 1, 1, 1, 1, 1, 1, 1, 1, 1, 1, 1, 1, 1, 1, 1, 1, 1, 1, 1, 1,\n",
      "        1, 1, 1, 1, 1, 1, 1, 1, 1, 1, 1, 1, 1, 1, 1, 1, 1, 1, 1, 1, 1, 1, 1, 1,\n",
      "        1, 1, 1, 1, 1, 1, 1, 1])\n"
     ]
    },
    {
     "name": "stderr",
     "output_type": "stream",
     "text": [
      "/home/chongyef/miniconda3/envs/atom2024/lib/python3.9/site-packages/gpytorch/models/exact_gp.py:284: GPInputWarning: The input matches the stored training data. Did you forget to call model.train()?\n",
      "  warnings.warn(\n"
     ]
    }
   ],
   "source": [
    "# Make predictions with the model\n",
    "\n",
    "model.eval()\n",
    "likelihood.eval()\n",
    "\n",
    "with gpytorch.settings.fast_pred_var(), torch.no_grad():\n",
    "    test_dist = model(train_x)\n",
    "    pred_means = test_dist.loc\n",
    "    observed_pred = likelihood(model(train_x))\n",
    "    \n",
    "print(pred_means.numpy().shape)\n",
    "print(pred_means.max(0)[1])"
   ]
  },
  {
   "cell_type": "markdown",
   "id": "08c22665-059d-464c-b1a5-f296fadc60ac",
   "metadata": {},
   "source": [
    "Building the confusion plot"
   ]
  },
  {
   "cell_type": "code",
   "execution_count": 21,
   "id": "ee802fe4-b1b9-4405-878e-31b9d35c4194",
   "metadata": {},
   "outputs": [
    {
     "name": "stdout",
     "output_type": "stream",
     "text": [
      "Confusion matrix, without normalization\n",
      "[[276   4]\n",
      " [  0 280]]\n"
     ]
    },
    {
     "data": {
      "image/png": "[encoded data removed]",
      "text/plain": [
       "<Figure size 500x500 with 2 Axes>"
      ]
     },
     "metadata": {},
     "output_type": "display_data"
    }
   ],
   "source": [
    "train_prediction = model(train_x).loc.max(0)[1].numpy()\n",
    "y_true = new_train_y_df.values\n",
    "y_pred = train_prediction\n",
    "train_cm = confusion_matrix(y_true, y_pred)\n",
    "class_names = [\"0\",\"1\"]\n",
    "\n",
    "plt.rcParams.update({\"font.size\": 20})\n",
    "label_font = {'size':'18'}  # Adjust to fit\n",
    "ax = plt.figure(figsize=(5,5))\n",
    "plt.title(\"NEK9 train set\",fontsize=20)\n",
    "plot_confusion_matrix(train_cm, classes=class_names, normalize=False)\n",
    "plt.xlabel(\"Predicted\",fontdict=label_font);\n",
    "plt.ylabel(\"Actual\",fontdict=label_font);"
   ]
  },
  {
   "cell_type": "code",
   "execution_count": 22,
   "id": "45b77581-1edf-49e3-ab95-9b6429fcfde2",
   "metadata": {},
   "outputs": [
    {
     "name": "stdout",
     "output_type": "stream",
     "text": [
      "(2, 80)\n",
      "tensor([0, 0, 0, 0, 0, 0, 0, 0, 0, 0, 0, 0, 0, 0, 0, 0, 0, 0, 0, 0, 0, 0, 0, 0,\n",
      "        0, 0, 0, 0, 0, 0, 0, 0, 0, 0, 0, 0, 0, 0, 0, 0, 0, 0, 0, 0, 0, 0, 0, 0,\n",
      "        0, 0, 0, 0, 0, 0, 0, 0, 0, 0, 0, 0, 0, 0, 0, 0, 1, 0, 0, 0, 0, 0, 0, 1,\n",
      "        0, 1, 1, 1, 0, 1, 1, 1])\n"
     ]
    }
   ],
   "source": [
    "# Make predictions with the model\n",
    "\n",
    "model.eval()\n",
    "likelihood.eval()\n",
    "\n",
    "with gpytorch.settings.fast_pred_var(), torch.no_grad():\n",
    "    test_dist = model(test_x)\n",
    "    pred_means = test_dist.loc\n",
    "    observed_pred = likelihood(model(test_x))\n",
    "    \n",
    "print(pred_means.numpy().shape)\n",
    "print(pred_means.max(0)[1])"
   ]
  },
  {
   "cell_type": "code",
   "execution_count": 23,
   "id": "e2cfc364-4637-47e2-a55a-bfd7bdc02775",
   "metadata": {},
   "outputs": [
    {
     "name": "stdout",
     "output_type": "stream",
     "text": [
      "(80,)\n"
     ]
    },
    {
     "data": {
      "text/plain": [
       "array([0, 0, 0, 0, 0, 0, 0, 0, 0, 0, 0, 0, 0, 0, 0, 0, 0, 0, 0, 0, 0, 0,\n",
       "       0, 0, 0, 0, 0, 0, 0, 0, 0, 0, 0, 0, 0, 0, 0, 0, 0, 0, 0, 0, 0, 0,\n",
       "       0, 0, 0, 0, 0, 0, 0, 0, 0, 0, 0, 0, 0, 0, 0, 0, 0, 0, 0, 0, 1, 0,\n",
       "       0, 0, 0, 0, 0, 1, 0, 1, 1, 1, 0, 1, 1, 1])"
      ]
     },
     "execution_count": 23,
     "metadata": {},
     "output_type": "execute_result"
    }
   ],
   "source": [
    "test_prediction = model(test_x).loc.max(0)[1].numpy()\n",
    "print(test_prediction.shape)\n",
    "test_prediction"
   ]
  },
  {
   "cell_type": "code",
   "execution_count": 24,
   "id": "09582569-df22-4d2b-8347-9398d46b3f92",
   "metadata": {},
   "outputs": [
    {
     "name": "stdout",
     "output_type": "stream",
     "text": [
      "Confusion matrix, without normalization\n",
      "[[70  1]\n",
      " [ 2  7]]\n"
     ]
    },
    {
     "data": {
      "image/png": "[encoded data removed]",
      "text/plain": [
       "<Figure size 500x500 with 2 Axes>"
      ]
     },
     "metadata": {},
     "output_type": "display_data"
    }
   ],
   "source": [
    "y_true = test_y_df.values\n",
    "y_pred = test_prediction\n",
    "test_cm = confusion_matrix(y_true, y_pred)\n",
    "class_names = [\"0\",\"1\"]\n",
    "\n",
    "plt.rcParams.update({\"font.size\": 20})\n",
    "label_font = {'size':'18'}  # Adjust to fit\n",
    "ax = plt.figure(figsize=(5,5))\n",
    "plt.title(\"NEK9 test set\",fontsize=20)\n",
    "plot_confusion_matrix(test_cm, classes=class_names, normalize=False)\n",
    "plt.xlabel(\"Predicted\",fontdict=label_font);\n",
    "plt.ylabel(\"Actual\",fontdict=label_font);"
   ]
  },
  {
   "cell_type": "markdown",
   "id": "f4bd8fb0-2ca5-46c7-a5cc-cbc42e71b4eb",
   "metadata": {},
   "source": [
    "Which could be acceptable. Then we see the uncertainty:"
   ]
  },
  {
   "cell_type": "code",
   "execution_count": 25,
   "id": "59b306e2-ee2e-4d4d-94bc-839fe21c7de6",
   "metadata": {},
   "outputs": [
    {
     "data": {
      "text/plain": [
       "tensor([[ 1.6350,  1.6596,  1.4020,  1.7691,  1.1476,  1.5797,  1.5993,  1.5216,\n",
       "          1.8308,  1.3367,  1.4317,  2.3064,  1.7112,  1.1708,  0.8937,  2.1715,\n",
       "          1.3287,  1.6715,  1.7515,  1.9115,  1.6235,  1.2481,  2.0251,  1.3525,\n",
       "         -0.0345,  1.3883,  1.4899,  1.3303,  1.9613,  2.3888,  1.2739,  1.7050,\n",
       "          2.0191,  1.7458,  1.0217,  0.9568,  1.9188,  1.6869,  1.3377,  2.0208,\n",
       "          1.0845,  1.7377,  1.9174,  2.3125,  2.0376,  1.9603,  2.2077,  0.9256,\n",
       "          2.0676,  1.3044,  2.2453,  1.4704,  1.7465,  1.0148,  1.2311,  1.6560,\n",
       "          1.8383,  2.3682,  0.8904,  2.4206,  1.7229,  1.0781,  1.8657,  1.8274,\n",
       "         -3.0686,  1.2323,  1.9092,  1.3172,  1.8971,  2.3040,  0.7100, -2.6036,\n",
       "          0.7279, -4.2874, -1.1324, -5.0149,  2.3684, -1.4555, -2.9718, -4.3821],\n",
       "        [-3.4277, -5.1078, -4.0034, -3.5194, -2.2496, -4.0643, -4.3622, -4.1146,\n",
       "         -5.0133, -2.2130, -5.2162, -3.5705, -3.1609, -4.1394, -2.7740, -5.4165,\n",
       "         -4.9636, -4.7275, -3.5212, -4.8457, -4.5082, -3.8257, -4.2103, -2.7118,\n",
       "         -1.0433, -4.3296, -3.9680, -2.8329, -3.4088, -4.6919, -2.3242, -4.4444,\n",
       "         -3.6095, -3.8549, -2.9397, -1.2250, -4.7993, -4.3886, -2.0542, -4.7285,\n",
       "         -2.5605, -4.5789, -3.4241, -2.9489, -3.8484, -4.8999, -3.7880, -3.3952,\n",
       "         -4.2295, -4.1841, -3.6671, -4.6348, -4.7571, -4.0711, -3.9771, -3.6681,\n",
       "         -3.3944, -3.9775, -3.0692, -3.9949, -4.9308, -1.2297, -4.7288, -4.2449,\n",
       "          0.8125, -4.6666, -3.9288, -4.4290, -3.8559, -3.5169, -3.7242,  0.3945,\n",
       "         -2.4139,  0.7962,  0.2242,  1.0097, -2.9350, -0.3315,  1.3514,  0.5478]])"
      ]
     },
     "execution_count": 25,
     "metadata": {},
     "output_type": "execute_result"
    }
   ],
   "source": [
    "lower, upper = observed_pred.confidence_region()\n",
    "upper"
   ]
  },
  {
   "cell_type": "code",
   "execution_count": 26,
   "id": "0e8ce4fd-dc87-48c8-b027-89ef3a98b3b8",
   "metadata": {},
   "outputs": [
    {
     "data": {
      "text/plain": [
       "array([[-7.68648386e-01, -3.00686061e-02, -3.64278048e-01,\n",
       "        -6.98710442e-01, -1.26864648e+00, -3.53500575e-01,\n",
       "        -3.62591118e-01, -4.64070052e-01, -2.47598857e-01,\n",
       "        -1.15364861e+00, -2.22991675e-01, -3.58015269e-01,\n",
       "        -6.44294500e-01, -5.45116186e-01, -1.07998013e+00,\n",
       "        -2.96279788e-03, -5.33783138e-02, -1.38226241e-01,\n",
       "        -5.52362680e-01, -2.35171288e-01, -2.92120308e-01,\n",
       "        -5.05936384e-01, -1.42463177e-01, -8.76907587e-01,\n",
       "        -2.25524688e+00, -4.98140067e-01, -6.37757540e-01,\n",
       "        -8.78243208e-01, -5.19336939e-01,  2.29774266e-01,\n",
       "        -1.01366353e+00, -2.21757025e-01, -2.14971274e-01,\n",
       "        -5.31276584e-01, -1.11557269e+00, -1.56285357e+00,\n",
       "        -9.02478397e-02, -3.16433877e-01, -1.12828612e+00,\n",
       "        -1.96926326e-01, -7.42631197e-01, -3.02906245e-01,\n",
       "        -3.95829618e-01, -4.27849054e-01, -2.71578997e-01,\n",
       "        -1.88447684e-01, -3.72438759e-01, -8.80735636e-01,\n",
       "        -3.09678525e-01, -2.35760897e-01, -1.05317563e-01,\n",
       "        -3.07981580e-01, -2.61121243e-01, -8.12944651e-01,\n",
       "        -6.73018932e-01, -3.73317599e-01, -6.04010820e-01,\n",
       "        -3.48278880e-03, -1.12018991e+00, -2.14746684e-01,\n",
       "        -2.95246810e-01, -1.24549508e+00,  1.13726407e-01,\n",
       "         2.25093961e-03, -5.14185619e+00, -1.32084578e-01,\n",
       "        -3.31459850e-01, -7.62638807e-01, -4.49166030e-01,\n",
       "        -3.19931835e-01, -1.13304067e+00, -4.47046757e+00,\n",
       "        -1.14328074e+00, -6.03968143e+00, -3.57535243e+00,\n",
       "        -6.69052792e+00, -4.57374513e-01, -3.38558793e+00,\n",
       "        -4.30416679e+00, -6.01069927e+00],\n",
       "       [-6.20802069e+00, -7.22415209e+00, -6.22486734e+00,\n",
       "        -6.41186476e+00, -4.86110353e+00, -6.32734251e+00,\n",
       "        -6.84658480e+00, -6.50965643e+00, -7.45680475e+00,\n",
       "        -5.05198717e+00, -7.30354643e+00, -6.78817606e+00,\n",
       "        -5.91725588e+00, -6.32675791e+00, -5.02631426e+00,\n",
       "        -7.86438608e+00, -6.87650156e+00, -7.15978575e+00,\n",
       "        -6.15161753e+00, -7.34629393e+00, -6.98626995e+00,\n",
       "        -5.88394594e+00, -6.74376726e+00, -5.14230776e+00,\n",
       "        -3.27188253e+00, -6.44864511e+00, -6.43618441e+00,\n",
       "        -5.27692175e+00, -6.37864923e+00, -7.01521540e+00,\n",
       "        -4.80909395e+00, -6.91587114e+00, -6.35101748e+00,\n",
       "        -6.46602869e+00, -5.23735094e+00, -4.05828905e+00,\n",
       "        -7.06157541e+00, -6.85096025e+00, -4.83070612e+00,\n",
       "        -7.34775591e+00, -4.56167459e+00, -7.07445574e+00,\n",
       "        -6.58920288e+00, -6.48051167e+00, -6.66501331e+00,\n",
       "        -7.29196024e+00, -6.84794760e+00, -5.28985834e+00,\n",
       "        -7.05906439e+00, -5.96571207e+00, -6.39825869e+00,\n",
       "        -6.88472033e+00, -7.09582853e+00, -6.33783865e+00,\n",
       "        -6.43604612e+00, -6.74487019e+00, -6.04537916e+00,\n",
       "        -6.68394709e+00, -5.20220613e+00, -7.13845444e+00,\n",
       "        -7.35118723e+00, -3.64244413e+00, -6.80251646e+00,\n",
       "        -6.39758825e+00, -1.03078222e+00, -6.51200914e+00,\n",
       "        -6.66389513e+00, -6.70711756e+00, -6.51087427e+00,\n",
       "        -6.80998707e+00, -5.82343531e+00, -1.23044634e+00,\n",
       "        -4.44283533e+00, -6.32216930e-01, -2.25081587e+00,\n",
       "        -4.21532154e-01, -6.76198435e+00, -2.02838945e+00,\n",
       "         1.16919994e-01, -7.27096081e-01]], dtype=float32)"
      ]
     },
     "execution_count": 26,
     "metadata": {},
     "output_type": "execute_result"
    }
   ],
   "source": [
    "observed_pred.mean.numpy()"
   ]
  },
  {
   "cell_type": "code",
   "execution_count": 27,
   "id": "e79c9677-b432-4ac0-8dc1-d8189c7ba037",
   "metadata": {},
   "outputs": [
    {
     "data": {
      "text/plain": [
       "tensor([[0.9796, 0.9976, 0.9914, 0.9860, 0.9176, 0.9939, 0.9947, 0.9919, 0.9978,\n",
       "         0.9347, 0.9981, 0.9866, 0.9808, 0.9935, 0.9624, 0.9988, 0.9980, 0.9973,\n",
       "         0.9848, 0.9961, 0.9963, 0.9909, 0.9955, 0.9575, 0.6645, 0.9916, 0.9882,\n",
       "         0.9560, 0.9868, 0.9965, 0.9430, 0.9965, 0.9893, 0.9899, 0.9575, 0.8453,\n",
       "         0.9975, 0.9951, 0.9208, 0.9975, 0.9611, 0.9965, 0.9875, 0.9854, 0.9908,\n",
       "         0.9975, 0.9937, 0.9753, 0.9948, 0.9924, 0.9893, 0.9960, 0.9967, 0.9921,\n",
       "         0.9909, 0.9927, 0.9833, 0.9948, 0.9591, 0.9932, 0.9964, 0.8400, 0.9976,\n",
       "         0.9958, 0.0416, 0.9970, 0.9913, 0.9922, 0.9904, 0.9885, 0.9764, 0.0675,\n",
       "         0.9367, 0.0065, 0.2995, 0.0033, 0.9793, 0.2691, 0.0162, 0.0087],\n",
       "        [0.0204, 0.0024, 0.0086, 0.0140, 0.0824, 0.0061, 0.0053, 0.0081, 0.0022,\n",
       "         0.0653, 0.0019, 0.0134, 0.0192, 0.0065, 0.0376, 0.0012, 0.0020, 0.0027,\n",
       "         0.0152, 0.0039, 0.0037, 0.0091, 0.0045, 0.0425, 0.3355, 0.0084, 0.0118,\n",
       "         0.0440, 0.0132, 0.0035, 0.0570, 0.0035, 0.0107, 0.0101, 0.0425, 0.1547,\n",
       "         0.0025, 0.0049, 0.0792, 0.0025, 0.0389, 0.0035, 0.0125, 0.0146, 0.0092,\n",
       "         0.0025, 0.0063, 0.0247, 0.0052, 0.0076, 0.0107, 0.0040, 0.0033, 0.0079,\n",
       "         0.0091, 0.0073, 0.0167, 0.0052, 0.0409, 0.0068, 0.0036, 0.1600, 0.0024,\n",
       "         0.0042, 0.9584, 0.0030, 0.0087, 0.0078, 0.0096, 0.0115, 0.0236, 0.9325,\n",
       "         0.0633, 0.9935, 0.7005, 0.9967, 0.0207, 0.7309, 0.9838, 0.9913]])"
      ]
     },
     "execution_count": 27,
     "metadata": {},
     "output_type": "execute_result"
    }
   ],
   "source": [
    "pred_samples = test_dist.sample(torch.Size((256,))).exp()\n",
    "probabilities = (pred_samples / pred_samples.sum(-2, keepdim=True)).mean(0)\n",
    "probabilities"
   ]
  },
  {
   "cell_type": "code",
   "execution_count": 28,
   "id": "8f375dc9-68d5-407f-8535-3054519d57db",
   "metadata": {},
   "outputs": [
    {
     "name": "stdout",
     "output_type": "stream",
     "text": [
      "Number of predictions: 80\n"
     ]
    }
   ],
   "source": [
    "# Assuming observed_pred is a MultivariateNormal object from GPyTorch\n",
    "num_predictions = observed_pred.mean.shape[1]\n",
    "print(f\"Number of predictions: {num_predictions}\")"
   ]
  },
  {
   "cell_type": "code",
   "execution_count": 29,
   "id": "ad62a49f-4286-483c-a07b-a842c85387f5",
   "metadata": {},
   "outputs": [
    {
     "data": {
      "image/png": "[encoded data removed]",
      "text/plain": [
       "<Figure size 800x800 with 2 Axes>"
      ]
     },
     "metadata": {},
     "output_type": "display_data"
    }
   ],
   "source": [
    "import matplotlib.pyplot as plt\n",
    "import numpy as np\n",
    "\n",
    "# Assuming 'probabilities' is your tensor of shape [2, num_samples]\n",
    "# Convert the tensor to a numpy array for easier manipulation if it's not already\n",
    "probabilities_np = probabilities.numpy()\n",
    "\n",
    "# Since you're interested in showing the active class probability,\n",
    "# we'll use the second row ([1]) which represents the probability of being \"active\"\n",
    "active_probabilities = probabilities_np[1, :]\n",
    "\n",
    "# Prepare the data for plotting\n",
    "# The data needs to be reshaped into a 2D array where each \"pixel\" or cell in the plot\n",
    "# represents the probability of a sample being \"active\"\n",
    "# For demonstration, let's assume a square grid as much as possible\n",
    "num_samples = active_probabilities.shape[0]\n",
    "side_length = int(np.ceil(np.sqrt(num_samples)))  # Calculate the side length of the grid\n",
    "\n",
    "# Create a 2D array filled with NaNs (to be ignored in the plot)\n",
    "grid_data = np.full((side_length, side_length), np.nan)\n",
    "\n",
    "# Fill the grid with the active probabilities\n",
    "# Flatten the grid (if needed) and assign probabilities (ensures alignment even if not a perfect square)\n",
    "grid_data.flat[:num_samples] = active_probabilities\n",
    "\n",
    "# Plotting\n",
    "plt.figure(figsize=(8, 8))\n",
    "plt.imshow(grid_data, cmap='RdYlGn', origin='lower', aspect='equal')\n",
    "plt.colorbar(label='Probability of Active Class')\n",
    "plt.title('Prediction Probabilities Grid')\n",
    "plt.axis('off')  # Turn off the axis for a clean look\n",
    "\n",
    "plt.show()"
   ]
  },
  {
   "cell_type": "code",
   "execution_count": 30,
   "id": "929bab31-457b-4447-beb5-f68493c1fd0d",
   "metadata": {},
   "outputs": [
    {
     "data": {
      "image/png": "[encoded data removed]",
      "text/plain": [
       "<Figure size 800x800 with 2 Axes>"
      ]
     },
     "metadata": {},
     "output_type": "display_data"
    }
   ],
   "source": [
    "import matplotlib.pyplot as plt\n",
    "import numpy as np\n",
    "\n",
    "# Assuming `y_true` contains the actual class labels\n",
    "actual_classes = y_true  # If y_true is not a numpy array, convert it: np.array(y_true)\n",
    "\n",
    "# Prepare the data for plotting\n",
    "# The data needs to be reshaped into a 2D array where each \"pixel\" or cell in the plot\n",
    "# represents the actual class of a sample\n",
    "num_samples = actual_classes.shape[0]\n",
    "side_length = int(np.ceil(np.sqrt(num_samples)))  # Calculate the side length of the grid\n",
    "\n",
    "# Create a 2D array filled with NaNs (to be ignored in the plot)\n",
    "grid_data = np.full((side_length, side_length), np.nan)\n",
    "\n",
    "# Fill the grid with the actual classes\n",
    "# Flatten the grid (if needed) and assign actual class labels (ensures alignment even if not a perfect square)\n",
    "grid_data.flat[:num_samples] = actual_classes\n",
    "\n",
    "# Plotting\n",
    "plt.figure(figsize=(8, 8))\n",
    "plt.imshow(grid_data, cmap='RdYlGn', origin='lower', aspect='equal')\n",
    "plt.colorbar(ticks=[0, 1], label='Actual Class')\n",
    "plt.clim(0, 1)  # Ensure the colorbar covers 0 to 1 to represent the classes clearly\n",
    "plt.title('Actual Class Grid')\n",
    "plt.axis('off')  # Turn off the axis for a clean look\n",
    "\n",
    "plt.show()"
   ]
  },
  {
   "cell_type": "code",
   "execution_count": 31,
   "id": "6506a260-a15f-4834-a9c4-a32fa25792a0",
   "metadata": {},
   "outputs": [
    {
     "data": {
      "image/png": "[encoded data removed]",
      "text/plain": [
       "<Figure size 1600x800 with 4 Axes>"
      ]
     },
     "metadata": {},
     "output_type": "display_data"
    }
   ],
   "source": [
    "import matplotlib.pyplot as plt\n",
    "import numpy as np\n",
    "\n",
    "# Assuming `y_true` contains the actual class labels and `probabilities` is your tensor\n",
    "actual_classes = np.array(y_true)  # Ensure it's a numpy array\n",
    "probabilities_np = probabilities.numpy()  # Assuming 'probabilities' is a tensor\n",
    "\n",
    "# Calculate the side length of the grid for square arrangement\n",
    "num_samples = actual_classes.shape[0]\n",
    "side_length = int(np.ceil(np.sqrt(num_samples)))\n",
    "\n",
    "# Prepare actual class grid data\n",
    "actual_grid_data = np.full((side_length, side_length), np.nan)\n",
    "actual_grid_data.flat[:num_samples] = actual_classes\n",
    "\n",
    "# Prepare predicted probabilities grid data\n",
    "active_probabilities = probabilities_np[1, :]  # Active class probabilities\n",
    "prediction_grid_data = np.full((side_length, side_length), np.nan)\n",
    "prediction_grid_data.flat[:num_samples] = active_probabilities\n",
    "\n",
    "# Plotting both grids side by side\n",
    "fig, axs = plt.subplots(1, 2, figsize=(16, 8), gridspec_kw={'width_ratios': [1, 1]})\n",
    "\n",
    "# Plot actual class grid\n",
    "im0 = axs[0].imshow(actual_grid_data, cmap='RdYlGn', origin='lower', aspect='equal')\n",
    "fig.colorbar(im0, ax=axs[0], ticks=[0, 1], label='Actual Class')\n",
    "axs[0].set_title('Actual Class Grid')\n",
    "axs[0].axis('off')\n",
    "\n",
    "# Plot prediction probabilities grid\n",
    "im1 = axs[1].imshow(prediction_grid_data, cmap='RdYlGn', origin='lower', aspect='equal')\n",
    "fig.colorbar(im1, ax=axs[1], label='Probability of Active Class')\n",
    "axs[1].set_title('Prediction Probabilities Grid')\n",
    "axs[1].axis('off')\n",
    "\n",
    "plt.show()"
   ]
  },
  {
   "cell_type": "code",
   "execution_count": null,
   "id": "c6106ea2-ec53-4c37-b222-a512cf50ea09",
   "metadata": {},
   "outputs": [],
   "source": []
  }
 ],
 "metadata": {
  "kernelspec": {
   "display_name": "Python (atom2024)",
   "language": "python",
   "name": "atom2024"
  },
  "language_info": {
   "codemirror_mode": {
    "name": "ipython",
    "version": 3
   },
   "file_extension": ".py",
   "mimetype": "text/x-python",
   "name": "python",
   "nbconvert_exporter": "python",
   "pygments_lexer": "ipython3",
   "version": "3.9.12"
  }
 },
 "nbformat": 4,
 "nbformat_minor": 5
}
